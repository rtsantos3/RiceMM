{
 "cells": [
  {
   "cell_type": "code",
   "execution_count": 2,
   "id": "ed850710",
   "metadata": {},
   "outputs": [],
   "source": [
    "import cobra\n",
    "import libsbml\n",
    "import riptide\n",
    "from cobra import Model, Reaction, Metabolite\n",
    "import csv\n",
    "import pandas as pd\n",
    "import copy"
   ]
  },
  {
   "cell_type": "code",
   "execution_count": 3,
   "id": "6ec48e83",
   "metadata": {},
   "outputs": [],
   "source": [
    "ios2164_orig = cobra.io.read_sbml_model(\"../model/iOS2164_rewritten.xml\")\n",
    "rnaseq = pd.read_csv('../data/KitaakeLCM_rawcounts.csv')\n",
    "#According to the  tool's author, the best way to merge is simply to generate "
   ]
  },
  {
   "cell_type": "code",
   "execution_count": 4,
   "id": "aec558bc",
   "metadata": {},
   "outputs": [],
   "source": [
    "mcell_exp = riptide.read_transcription_file(\"../data/m_abundance.csv\", sep = \",\", header = True)\n",
    "bscell_exp = riptide.read_transcription_file(\"../data/bs_abundance.csv\", sep = \",\", header = True)\n",
    "vcell_exp = riptide.read_transcription_file(\"../data/v_abundance.csv\", sep = \",\", header = True)"
   ]
  },
  {
   "cell_type": "code",
   "execution_count": 11,
   "id": "353d15bd",
   "metadata": {
    "scrolled": true
   },
   "outputs": [],
   "source": [
    "ios2164_m = copy.deepcopy(ios2164_orig)\n",
    "for met in ios2164_m.metabolites:\n",
    "    if met.compartment != \"e\": #Extracellular, defines boundary reactions\n",
    "        met.id = str(met.id) + '0'\n",
    "        met.compartment = str(met.compartment) + '0'\n",
    "\n",
    "for rxn in ios2164_m.reactions:\n",
    "    rxn.id = str(rxn.id)  + '_M'\n",
    "    if \"EX_\" in rxn.id: #Rename media reactions\n",
    "        rxn.name = \"M \" + str(rxn.name)\n",
    "\n",
    "\n",
    "ios2164_m.repair()\n"
   ]
  },
  {
   "cell_type": "code",
   "execution_count": 12,
   "id": "a133d9d2",
   "metadata": {},
   "outputs": [
    {
     "name": "stdout",
     "output_type": "stream",
     "text": [
      "\n",
      "Initializing model and integrating transcriptomic data...\n",
      "Pruning zero flux subnetworks...\n",
      "Analyzing context-specific flux distributions...\n",
      "\n",
      "Reactions pruned to 431 from 2444 (82.36% change)\n",
      "Metabolites pruned to 432 from 1999 (78.39% change)\n",
      "Flux through the objective DECREASED to ~78.03 from ~88.27 (11.6% change)\n",
      "Context-specific metabolism does not correlate with transcriptome (r=0.077, n.s.)\n",
      "\n",
      "RIPTiDe completed in 35 seconds\n",
      "\n"
     ]
    }
   ],
   "source": [
    "mcell_rip = riptide.contextualize(ios2164_m, transcriptome = mcell_exp, samples= 1000)"
   ]
  },
  {
   "cell_type": "code",
   "execution_count": 39,
   "id": "9e6df9ff",
   "metadata": {},
   "outputs": [
    {
     "name": "stderr",
     "output_type": "stream",
     "text": [
      "/home/rtsantos3/anaconda3/lib/python3.8/site-packages/ipykernel/ipkernel.py:287: DeprecationWarning: `should_run_async` will not call `transform_cell` automatically in the future. Please pass the result to `transformed_cell` argument and any exception that happen during thetransform in `preprocessing_exc_tuple` in IPython 7.17 and above.\n",
      "  and should_run_async(code)\n"
     ]
    }
   ],
   "source": [
    "read = pd.read_csv('../misc/photo_medium.csv')\n",
    "\n",
    "#Only get M cells\n",
    "photo_medium = dict(read.values)\n",
    "\n",
    "m_medium = dict()\n",
    "for items in photo_medium:\n",
    "    if \"_M\" in items:\n",
    "        m_medium[items] = photo_medium[items]"
   ]
  },
  {
   "cell_type": "code",
   "execution_count": 25,
   "id": "3fe914e0",
   "metadata": {},
   "outputs": [
    {
     "data": {
      "text/plain": [
       "{'EX_co2_LPAREN_e_RPAREN__M': 1000,\n",
       " 'EX_h2o_LPAREN_e_RPAREN__M': 1000,\n",
       " 'EX_h_LPAREN_e_RPAREN__M': 1000,\n",
       " 'EX_no3_LPAREN_e_RPAREN__M': 1000,\n",
       " 'EX_o2_LPAREN_e_RPAREN__M': 1000,\n",
       " 'EX_pi_LPAREN_e_RPAREN__M': 1000,\n",
       " 'EX_so4_LPAREN_e_RPAREN__M': 1000,\n",
       " 'EX_so3_LPAREN_e_RPAREN__M': 1000,\n",
       " 'EX_fe2_LPAREN_e_RPAREN__M': 1000,\n",
       " 'EX_mg2_LPAREN_e_RPAREN__M': 1000,\n",
       " 'EX_photonVis_LPAREN_e_RPAREN__M': 1000}"
      ]
     },
     "execution_count": 25,
     "metadata": {},
     "output_type": "execute_result"
    }
   ],
   "source": [
    "ios2164_m.medium"
   ]
  },
  {
   "cell_type": "code",
   "execution_count": 26,
   "id": "bd70a2f4",
   "metadata": {
    "scrolled": true
   },
   "outputs": [
    {
     "name": "stdout",
     "output_type": "stream",
     "text": [
      "\n",
      "Initializing model and integrating transcriptomic data...\n",
      "Pruning zero flux subnetworks...\n",
      "Analyzing context-specific flux distributions...\n",
      "\n",
      "Reactions pruned to 436 from 2444 (82.16% change)\n",
      "Metabolites pruned to 457 from 1999 (77.14% change)\n",
      "Flux through the objective DECREASED to ~9.19 from ~11.14 (17.5% change)\n",
      "Context-specific metabolism correlates with transcriptome (r=0.199, p<0.001 *)\n",
      "\n",
      "RIPTiDe completed in 28 seconds\n",
      "\n"
     ]
    }
   ],
   "source": [
    "#Let's see kung gaano kataas yung pearson correlation nung galing sa Ermakova et al., 2021 dun sa M Cell lang.\n",
    "#Apparently the correlation increases when I set the medium to actually be photoautotrophic lang, galing\n",
    "ios2164_m.medium = m_medium\n",
    "mcell_rip  = riptide.contextualize(ios2164_m, transcriptome = mcell_exp, samples= 1000)"
   ]
  },
  {
   "cell_type": "code",
   "execution_count": 31,
   "id": "6f62a32e",
   "metadata": {},
   "outputs": [
    {
     "name": "stderr",
     "output_type": "stream",
     "text": [
      "/home/rtsantos3/anaconda3/lib/python3.8/site-packages/ipykernel/ipkernel.py:287: DeprecationWarning: `should_run_async` will not call `transform_cell` automatically in the future. Please pass the result to `transformed_cell` argument and any exception that happen during thetransform in `preprocessing_exc_tuple` in IPython 7.17 and above.\n",
      "  and should_run_async(code)\n"
     ]
    },
    {
     "name": "stdout",
     "output_type": "stream",
     "text": [
      "\n",
      "Initializing model and integrating transcriptomic data...\n",
      "Pruning zero flux subnetworks...\n",
      "Analyzing context-specific flux distributions...\n",
      "\n",
      "Reactions pruned to 435 from 2444 (82.2% change)\n",
      "Metabolites pruned to 456 from 1999 (77.19% change)\n",
      "Flux through the objective DECREASED to ~9.19 from ~11.14 (17.5% change)\n",
      "Context-specific metabolism correlates with transcriptome (r=0.199, p<0.001 *)\n",
      "\n",
      "RIPTiDe completed in 29 seconds\n",
      "\n"
     ]
    }
   ],
   "source": [
    "#What if I unconstrained CO2 flux thru the M cell? Would the context specific cells be okay?\n",
    "m_medium['EX_co2_LPAREN_e_RPAREN__M'] = 1000\n",
    "ios2164_m.medium = m_medium\n",
    "\n",
    "mcell_rip  = riptide.contextualize(ios2164_m, transcriptome = mcell_exp, samples= 1000)"
   ]
  },
  {
   "cell_type": "code",
   "execution_count": 28,
   "id": "b59ef27f",
   "metadata": {},
   "outputs": [
    {
     "name": "stderr",
     "output_type": "stream",
     "text": [
      "/home/rtsantos3/anaconda3/lib/python3.8/site-packages/ipykernel/ipkernel.py:287: DeprecationWarning: `should_run_async` will not call `transform_cell` automatically in the future. Please pass the result to `transformed_cell` argument and any exception that happen during thetransform in `preprocessing_exc_tuple` in IPython 7.17 and above.\n",
      "  and should_run_async(code)\n"
     ]
    },
    {
     "name": "stdout",
     "output_type": "stream",
     "text": [
      "\n",
      "Initializing model and integrating transcriptomic data...\n",
      "Pruning zero flux subnetworks...\n",
      "Analyzing context-specific flux distributions...\n",
      "\n",
      "Reactions pruned to 463 from 2444 (81.06% change)\n",
      "Metabolites pruned to 484 from 1999 (75.79% change)\n",
      "Flux through the objective DECREASED to ~30.89 from ~38.12 (18.97% change)\n",
      "Context-specific metabolism does not correlate with transcriptome (r=0.065, n.s.)\n",
      "\n",
      "RIPTiDe completed in 29 seconds\n",
      "\n"
     ]
    }
   ],
   "source": [
    "#With Sucrose import, apparently it lowers the correlation value as the cell can obtain\n",
    "#Nutrients \n",
    "\n",
    "m_medium['EX_sucr_LPAREN_e_RPAREN__M'] = 1000\n",
    "m_medium['EX_co2_LPAREN_e_RPAREN__M'] = 1000\n",
    "ios2164_m.medium = m_medium\n",
    "\n",
    "mcell_rip  = riptide.contextualize(ios2164_m, transcriptome = mcell_exp, samples= 1000)"
   ]
  },
  {
   "cell_type": "code",
   "execution_count": 32,
   "id": "8e568e9b",
   "metadata": {},
   "outputs": [
    {
     "name": "stderr",
     "output_type": "stream",
     "text": [
      "/home/rtsantos3/anaconda3/lib/python3.8/site-packages/ipykernel/ipkernel.py:287: DeprecationWarning: `should_run_async` will not call `transform_cell` automatically in the future. Please pass the result to `transformed_cell` argument and any exception that happen during thetransform in `preprocessing_exc_tuple` in IPython 7.17 and above.\n",
      "  and should_run_async(code)\n"
     ]
    },
    {
     "name": "stdout",
     "output_type": "stream",
     "text": [
      "\n",
      "Initializing model and integrating transcriptomic data...\n",
      "Pruning zero flux subnetworks...\n",
      "Analyzing context-specific flux distributions...\n",
      "\n",
      "Reactions pruned to 449 from 2444 (81.63% change)\n",
      "Metabolites pruned to 482 from 1999 (75.89% change)\n",
      "Flux through the objective DECREASED to ~3.92 from ~4.24 (7.55% change)\n",
      "Context-specific metabolism correlates with transcriptome (r=0.154, p=0.001 *)\n",
      "\n",
      "RIPTiDe completed in 30 seconds\n",
      "\n"
     ]
    }
   ],
   "source": [
    "#Gas exchange is allowed, but photoautotrophic conditions\n",
    "\n",
    "m_medium['EX_o2_LPAREN_e_RPAREN__M'] = 0\n",
    "m_medium['EX_co2_LPAREN_e_RPAREN__M'] = 1000\n",
    "ios2164_m.medium = m_medium\n",
    "\n",
    "mcell_rip  = riptide.contextualize(ios2164_m, transcriptome = mcell_exp, samples= 1000)"
   ]
  },
  {
   "cell_type": "code",
   "execution_count": 35,
   "id": "5a494deb",
   "metadata": {},
   "outputs": [
    {
     "name": "stdout",
     "output_type": "stream",
     "text": [
      "\n",
      "Initializing model and integrating transcriptomic data...\n",
      "Pruning zero flux subnetworks...\n",
      "Analyzing context-specific flux distributions...\n",
      "\n",
      "Reactions pruned to 434 from 2444 (82.24% change)\n",
      "Metabolites pruned to 456 from 1999 (77.19% change)\n",
      "Flux through the objective DECREASED to ~9.12 from ~11.18 (18.43% change)\n",
      "Context-specific metabolism correlates with transcriptome (r=0.181, p<0.001 *)\n",
      "\n",
      "RIPTiDe completed in 29 seconds\n",
      "\n"
     ]
    }
   ],
   "source": [
    "#Try adding some ammonia into the medium\n",
    "\n",
    "m_medium['EX_o2_LPAREN_e_RPAREN__M'] = 1000\n",
    "m_medium['EX_co2_LPAREN_e_RPAREN__M'] = 1000\n",
    "m_medium['EX_nh4_LPAREN_e_RPAREN__M'] = 1000\n",
    "ios2164_m.medium = m_medium\n",
    "\n",
    "mcell_rip  = riptide.contextualize(ios2164_m, transcriptome = mcell_exp, samples= 1000)"
   ]
  },
  {
   "cell_type": "code",
   "execution_count": 38,
   "id": "148f7f88",
   "metadata": {},
   "outputs": [
    {
     "name": "stdout",
     "output_type": "stream",
     "text": [
      "\n",
      "Initializing model and integrating transcriptomic data...\n",
      "Pruning zero flux subnetworks...\n",
      "Analyzing context-specific flux distributions...\n",
      "\n",
      "Reactions pruned to 450 from 2444 (81.59% change)\n",
      "Metabolites pruned to 475 from 1999 (76.24% change)\n",
      "Flux through the objective DECREASED to ~11.69 from ~12.93 (9.59% change)\n",
      "Context-specific metabolism correlates with transcriptome (r=0.15, p=0.001 *)\n",
      "\n",
      "RIPTiDe completed in 27 seconds\n",
      "\n"
     ]
    }
   ],
   "source": [
    "m_medium['EX_ala_DASH_L_LPAREN_e_RPAREN__M'] = 1000\n",
    "ios2164_m.medium = m_medium\n",
    "\n",
    "mcell_rip  = riptide.contextualize(ios2164_m, transcriptome = mcell_exp, samples= 1000)"
   ]
  },
  {
   "cell_type": "code",
   "execution_count": 40,
   "id": "aa6be44a",
   "metadata": {},
   "outputs": [
    {
     "name": "stderr",
     "output_type": "stream",
     "text": [
      "/home/rtsantos3/anaconda3/lib/python3.8/site-packages/ipykernel/ipkernel.py:287: DeprecationWarning: `should_run_async` will not call `transform_cell` automatically in the future. Please pass the result to `transformed_cell` argument and any exception that happen during thetransform in `preprocessing_exc_tuple` in IPython 7.17 and above.\n",
      "  and should_run_async(code)\n"
     ]
    },
    {
     "name": "stdout",
     "output_type": "stream",
     "text": [
      "\n",
      "Initializing model and integrating transcriptomic data...\n",
      "Pruning zero flux subnetworks...\n",
      "Analyzing context-specific flux distributions...\n",
      "\n",
      "Reactions pruned to 435 from 2444 (82.2% change)\n",
      "Metabolites pruned to 456 from 1999 (77.19% change)\n",
      "Flux through the objective DECREASED to ~9.19 from ~11.14 (17.5% change)\n",
      "Context-specific metabolism correlates with transcriptome (r=0.213, p<0.001 *)\n",
      "\n",
      "RIPTiDe completed in 28 seconds\n",
      "\n"
     ]
    }
   ],
   "source": [
    "m_medium['EX_fe3_LPAREN_e_RPAREN__M'] = 1000\n",
    "\n",
    "ios2164_m.medium = m_medium\n",
    "\n",
    "mcell_rip  = riptide.contextualize(ios2164_m, transcriptome = mcell_exp, samples= 1000)"
   ]
  },
  {
   "cell_type": "code",
   "execution_count": 42,
   "id": "6bc0d2e0",
   "metadata": {},
   "outputs": [
    {
     "name": "stderr",
     "output_type": "stream",
     "text": [
      "/home/rtsantos3/anaconda3/lib/python3.8/site-packages/ipykernel/ipkernel.py:287: DeprecationWarning: `should_run_async` will not call `transform_cell` automatically in the future. Please pass the result to `transformed_cell` argument and any exception that happen during thetransform in `preprocessing_exc_tuple` in IPython 7.17 and above.\n",
      "  and should_run_async(code)\n"
     ]
    },
    {
     "name": "stdout",
     "output_type": "stream",
     "text": [
      "\n",
      "Initializing model and integrating transcriptomic data...\n",
      "Pruning zero flux subnetworks...\n",
      "Analyzing context-specific flux distributions...\n",
      "\n",
      "Reactions pruned to 435 from 2444 (82.2% change)\n",
      "Metabolites pruned to 456 from 1999 (77.19% change)\n",
      "Flux through the objective DECREASED to ~9.19 from ~11.14 (17.5% change)\n",
      "Context-specific metabolism correlates with transcriptome (r=0.213, p<0.001 *)\n",
      "\n",
      "RIPTiDe completed in 27 seconds\n",
      "\n"
     ]
    }
   ],
   "source": [
    "m_medium['EX_fe3_LPAREN_e_RPAREN__M'] = 1000\n",
    "\n",
    "ios2164_m.medium = m_medium\n",
    "\n",
    "mcell_rip  = riptide.contextualize(ios2164_m, transcriptome = mcell_exp, samples= 1000)"
   ]
  },
  {
   "cell_type": "code",
   "execution_count": 46,
   "id": "760e7b08",
   "metadata": {},
   "outputs": [
    {
     "name": "stdout",
     "output_type": "stream",
     "text": [
      "\n",
      "Initializing model and integrating transcriptomic data...\n"
     ]
    },
    {
     "name": "stderr",
     "output_type": "stream",
     "text": [
      "/home/rtsantos3/anaconda3/lib/python3.8/site-packages/ipykernel/ipkernel.py:287: DeprecationWarning: `should_run_async` will not call `transform_cell` automatically in the future. Please pass the result to `transformed_cell` argument and any exception that happen during thetransform in `preprocessing_exc_tuple` in IPython 7.17 and above.\n",
      "  and should_run_async(code)\n"
     ]
    },
    {
     "name": "stdout",
     "output_type": "stream",
     "text": [
      "Pruning zero flux subnetworks...\n",
      "Analyzing context-specific flux distributions...\n",
      "\n",
      "Reactions pruned to 424 from 2444 (82.65% change)\n",
      "Metabolites pruned to 450 from 1999 (77.49% change)\n",
      "Flux through the objective DECREASED to ~8.42 from ~9.95 (15.38% change)\n",
      "Context-specific metabolism correlates with transcriptome (r=0.162, p=0.001 *)\n",
      "\n",
      "RIPTiDe completed in 27 seconds\n",
      "\n"
     ]
    }
   ],
   "source": [
    "m_medium['EX_gly_LPAREN_e_RPAREN__M'] = 1000\n",
    "\n",
    "ios2164_m.medium = m_medium\n",
    "\n",
    "mcell_rip  = riptide.contextualize(ios2164_m, transcriptome = mcell_exp, samples= 1000)"
   ]
  },
  {
   "cell_type": "markdown",
   "id": "a6bf78a9",
   "metadata": {},
   "source": [
    "Benchmarking Results for M cells:\n",
    "\n",
    "\n",
    "Unconstrained CO2 Flux thru M: r=0.077, n.s.\n",
    "Orig. Medium (Photoautotrophic, w/ Gas exchange): r=0.192, p<0.001\n",
    "If I add Sucrose to the medium: r=0.065; p=0.045 (Low significance)\n",
    "Only CO2, no O2: 0.154, p=0.001\n",
    "With NH4 + Gas exchange: r=0.181, p<0.001\n",
    "With NH4 + Gas exchange + AA: r=0.15, p<0.001\n",
    "Low light conditions (200 PPFD), gas exchange + unconstrained inorganics = 0.171\n",
    "Medium light (500 PPFD): 0.15\n",
    "With Glycine import: 0.162\n",
    "\n",
    "W/ FE3 import, no NH4: r=0.213, p<0.001\n",
    "\n",
    "Just use yung with FE3 import and no NH4. //"
   ]
  }
 ],
 "metadata": {
  "kernelspec": {
   "display_name": "Python 3",
   "language": "python",
   "name": "python3"
  },
  "language_info": {
   "codemirror_mode": {
    "name": "ipython",
    "version": 3
   },
   "file_extension": ".py",
   "mimetype": "text/x-python",
   "name": "python",
   "nbconvert_exporter": "python",
   "pygments_lexer": "ipython3",
   "version": "3.8.8"
  }
 },
 "nbformat": 4,
 "nbformat_minor": 5
}
