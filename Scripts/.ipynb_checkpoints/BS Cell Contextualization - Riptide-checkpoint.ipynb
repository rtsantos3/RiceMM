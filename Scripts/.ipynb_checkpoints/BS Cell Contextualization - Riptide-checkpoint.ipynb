{
 "cells": [
  {
   "cell_type": "code",
   "execution_count": 112,
   "id": "ed850710",
   "metadata": {
    "ExecuteTime": {
     "end_time": "2022-02-10T20:56:23.009514Z",
     "start_time": "2022-02-10T20:56:23.006636Z"
    }
   },
   "outputs": [
    {
     "name": "stderr",
     "output_type": "stream",
     "text": [
      "/home/rtsantos3/anaconda3/lib/python3.8/site-packages/ipykernel/ipkernel.py:287: DeprecationWarning: `should_run_async` will not call `transform_cell` automatically in the future. Please pass the result to `transformed_cell` argument and any exception that happen during thetransform in `preprocessing_exc_tuple` in IPython 7.17 and above.\n",
      "  and should_run_async(code)\n"
     ]
    }
   ],
   "source": [
    "import sys\n",
    "sys.path.append(\"../src/\") \n",
    "\n",
    "import model_manipulation as mm\n",
    "\n",
    "\n",
    "import cobra\n",
    "import libsbml\n",
    "import riptide\n",
    "from cobra import Model, Reaction, Metabolite\n",
    "import csv\n",
    "import pandas as pd\n",
    "import copy"
   ]
  },
  {
   "cell_type": "code",
   "execution_count": 116,
   "id": "6ec48e83",
   "metadata": {
    "ExecuteTime": {
     "end_time": "2022-02-10T20:58:26.591549Z",
     "start_time": "2022-02-10T20:58:24.811640Z"
    }
   },
   "outputs": [
    {
     "name": "stderr",
     "output_type": "stream",
     "text": [
      "/home/rtsantos3/anaconda3/lib/python3.8/site-packages/ipykernel/ipkernel.py:287: DeprecationWarning: `should_run_async` will not call `transform_cell` automatically in the future. Please pass the result to `transformed_cell` argument and any exception that happen during thetransform in `preprocessing_exc_tuple` in IPython 7.17 and above.\n",
      "  and should_run_async(code)\n",
      "/home/rtsantos3/.local/lib/python3.8/site-packages/optlang/interface.py:1474: DeprecationWarning: Deprecated, pass a TempConstr or use Model.addLConstr\n",
      "  self._add_constraints(add_constr)\n"
     ]
    }
   ],
   "source": [
    "model = cobra.io.read_sbml_model(\"../model/ios2164_orig.xml\")\n",
    "rnaseq = pd.read_csv('../data/m_abundance.csv')"
   ]
  },
  {
   "cell_type": "code",
   "execution_count": 117,
   "id": "aec558bc",
   "metadata": {
    "ExecuteTime": {
     "end_time": "2022-02-10T20:58:28.005031Z",
     "start_time": "2022-02-10T20:58:26.856381Z"
    }
   },
   "outputs": [
    {
     "name": "stderr",
     "output_type": "stream",
     "text": [
      "/home/rtsantos3/anaconda3/lib/python3.8/site-packages/ipykernel/ipkernel.py:287: DeprecationWarning: `should_run_async` will not call `transform_cell` automatically in the future. Please pass the result to `transformed_cell` argument and any exception that happen during thetransform in `preprocessing_exc_tuple` in IPython 7.17 and above.\n",
      "  and should_run_async(code)\n"
     ]
    }
   ],
   "source": [
    "mcell_exp = riptide.read_transcription_file(\"../data/m_abundance.csv\", sep = \",\", header = True)"
   ]
  },
  {
   "cell_type": "code",
   "execution_count": 120,
   "id": "a3a26d4c",
   "metadata": {
    "ExecuteTime": {
     "end_time": "2022-02-10T21:00:10.886798Z",
     "start_time": "2022-02-10T21:00:10.829933Z"
    }
   },
   "outputs": [
    {
     "name": "stderr",
     "output_type": "stream",
     "text": [
      "/home/rtsantos3/anaconda3/lib/python3.8/site-packages/ipykernel/ipkernel.py:287: DeprecationWarning: `should_run_async` will not call `transform_cell` automatically in the future. Please pass the result to `transformed_cell` argument and any exception that happen during thetransform in `preprocessing_exc_tuple` in IPython 7.17 and above.\n",
      "  and should_run_async(code)\n"
     ]
    },
    {
     "data": {
      "text/plain": [
       "{'EX_co2(e)': 1000,\n",
       " 'EX_h2o(e)': 1000000,\n",
       " 'EX_no3(e)': 1000000,\n",
       " 'EX_o2(e)': 1000,\n",
       " 'EX_pi(e)': 1000000,\n",
       " 'EX_so4(e)': 1000000,\n",
       " 'EX_so3(e)': 1000000,\n",
       " 'EX_h2s(e)': 1000000,\n",
       " 'EX_nh4(e)': 1000000,\n",
       " 'EX_fe2(e)': 1000000,\n",
       " 'EX_fe3(e)': 1000000,\n",
       " 'EX_mg2(e)': 1000000,\n",
       " 'EX_photonVis(e)': 1500}"
      ]
     },
     "execution_count": 120,
     "metadata": {},
     "output_type": "execute_result"
    }
   ],
   "source": [
    "photo_medium = mm.read_medium_csv('../misc/photo_medium.csv', model)\n",
    "\n",
    "#Define model constraints for photo medium\n",
    "photo_medium['EX_photonVis(e)'] = 1500\n",
    "photo_medium['EX_co2(e)'] = 1000\n",
    "photo_medium['EX_o2(e)'] = 1000\n",
    "model.medium = photo_medium\n",
    "\n",
    "model.medium"
   ]
  },
  {
   "cell_type": "code",
   "execution_count": 121,
   "id": "a133d9d2",
   "metadata": {
    "ExecuteTime": {
     "end_time": "2022-02-10T21:01:06.009085Z",
     "start_time": "2022-02-10T21:00:13.266640Z"
    }
   },
   "outputs": [
    {
     "name": "stderr",
     "output_type": "stream",
     "text": [
      "/home/rtsantos3/anaconda3/lib/python3.8/site-packages/ipykernel/ipkernel.py:287: DeprecationWarning: `should_run_async` will not call `transform_cell` automatically in the future. Please pass the result to `transformed_cell` argument and any exception that happen during thetransform in `preprocessing_exc_tuple` in IPython 7.17 and above.\n",
      "  and should_run_async(code)\n"
     ]
    },
    {
     "name": "stdout",
     "output_type": "stream",
     "text": [
      "\n",
      "Initializing model and integrating transcriptomic data...\n",
      "Read LP format model from file /tmp/tmpl2h1h7rd.lp\n",
      "Reading time = 0.01 seconds\n",
      ": 1999 rows, 4890 columns, 20956 nonzeros\n",
      "Pruning zero flux subnetworks...\n",
      "Read LP format model from file /tmp/tmpfyenb3ho.lp\n",
      "Reading time = 0.01 seconds\n",
      ": 1999 rows, 4890 columns, 20956 nonzeros\n"
     ]
    },
    {
     "name": "stderr",
     "output_type": "stream",
     "text": [
      "/home/rtsantos3/.local/lib/python3.8/site-packages/optlang/interface.py:1474: DeprecationWarning: Deprecated, pass a TempConstr or use Model.addLConstr\n",
      "  self._add_constraints(add_constr)\n"
     ]
    },
    {
     "name": "stdout",
     "output_type": "stream",
     "text": [
      "Read LP format model from file /tmp/tmp_y9qufp6.lp\n",
      "Reading time = 0.01 seconds\n",
      ": 1999 rows, 4890 columns, 20956 nonzeros\n",
      "Read LP format model from file /tmp/tmpr08bv2ru.lp\n",
      "Reading time = 0.01 seconds\n",
      ": 1999 rows, 4890 columns, 20956 nonzeros\n",
      "Read LP format model from file /tmp/tmphe6e6qhk.lp\n",
      "Reading time = 0.01 seconds\n",
      ": 1999 rows, 4890 columns, 20956 nonzeros\n",
      "Read LP format model from file /tmp/tmpwe7bo7cg.lp\n",
      "Reading time = 0.01 seconds\n",
      ": 1999 rows, 4890 columns, 20956 nonzeros\n",
      "Analyzing context-specific flux distributions...\n",
      "Read LP format model from file /tmp/tmpzeae5r8z.lp\n",
      "Reading time = 0.00 seconds\n",
      ": 461 rows, 886 columns, 3710 nonzeros\n"
     ]
    },
    {
     "name": "stderr",
     "output_type": "stream",
     "text": [
      "/home/rtsantos3/.local/lib/python3.8/site-packages/optlang/interface.py:1474: DeprecationWarning: Deprecated, pass a TempConstr or use Model.addLConstr\n",
      "  self._add_constraints(add_constr)\n",
      "/home/rtsantos3/.local/lib/python3.8/site-packages/optlang/interface.py:1474: DeprecationWarning: Deprecated, pass a TempConstr or use Model.addLConstr\n",
      "  self._add_constraints(add_constr)\n"
     ]
    },
    {
     "name": "stdout",
     "output_type": "stream",
     "text": [
      "\n",
      "Reactions pruned to 443 from 2445 (81.88% change)\n",
      "Metabolites pruned to 461 from 1999 (76.94% change)\n",
      "Flux through the objective DECREASED to ~10.16 from ~12.0 (15.33% change)\n",
      "Context-specific metabolism correlates with transcriptome (r=0.202, p<0.001 *)\n",
      "\n",
      "RIPTiDe completed in 53 seconds\n",
      "\n"
     ]
    }
   ],
   "source": [
    "mcell_rip = riptide.contextualize(model, transcriptome = mcell_exp, samples= 1000,threshold=1e-9)"
   ]
  },
  {
   "cell_type": "code",
   "execution_count": 122,
   "id": "df4f20e2",
   "metadata": {
    "ExecuteTime": {
     "end_time": "2022-02-10T21:01:14.718710Z",
     "start_time": "2022-02-10T21:01:14.684238Z"
    }
   },
   "outputs": [
    {
     "name": "stderr",
     "output_type": "stream",
     "text": [
      "/home/rtsantos3/anaconda3/lib/python3.8/site-packages/ipykernel/ipkernel.py:287: DeprecationWarning: `should_run_async` will not call `transform_cell` automatically in the future. Please pass the result to `transformed_cell` argument and any exception that happen during thetransform in `preprocessing_exc_tuple` in IPython 7.17 and above.\n",
      "  and should_run_async(code)\n",
      "/home/rtsantos3/.local/lib/python3.8/site-packages/optlang/interface.py:1479: DeprecationWarning: Deprecated, pass a TempConstr or use Model.addLConstr\n",
      "  self._add_constraints(add_constr_sloppy, sloppy=True)\n"
     ]
    },
    {
     "data": {
      "text/html": [
       "<strong><em>Optimal</em> solution with objective value 40175.979</strong><br><div>\n",
       "<style scoped>\n",
       "    .dataframe tbody tr th:only-of-type {\n",
       "        vertical-align: middle;\n",
       "    }\n",
       "\n",
       "    .dataframe tbody tr th {\n",
       "        vertical-align: top;\n",
       "    }\n",
       "\n",
       "    .dataframe thead th {\n",
       "        text-align: right;\n",
       "    }\n",
       "</style>\n",
       "<table border=\"1\" class=\"dataframe\">\n",
       "  <thead>\n",
       "    <tr style=\"text-align: right;\">\n",
       "      <th></th>\n",
       "      <th>fluxes</th>\n",
       "      <th>reduced_costs</th>\n",
       "    </tr>\n",
       "  </thead>\n",
       "  <tbody>\n",
       "    <tr>\n",
       "      <th>Straw_Biomass</th>\n",
       "      <td>10.162620</td>\n",
       "      <td>-2.000000</td>\n",
       "    </tr>\n",
       "    <tr>\n",
       "      <th>ACCOAC_OSAr</th>\n",
       "      <td>1.026038</td>\n",
       "      <td>-2.000000</td>\n",
       "    </tr>\n",
       "    <tr>\n",
       "      <th>FAC_Osr</th>\n",
       "      <td>-0.028963</td>\n",
       "      <td>2.000000</td>\n",
       "    </tr>\n",
       "    <tr>\n",
       "      <th>EX_co2(e)</th>\n",
       "      <td>-43.359861</td>\n",
       "      <td>2.000000</td>\n",
       "    </tr>\n",
       "    <tr>\n",
       "      <th>EX_h2o(e)</th>\n",
       "      <td>1000.000000</td>\n",
       "      <td>-1514.666667</td>\n",
       "    </tr>\n",
       "    <tr>\n",
       "      <th>...</th>\n",
       "      <td>...</td>\n",
       "      <td>...</td>\n",
       "    </tr>\n",
       "    <tr>\n",
       "      <th>INOSTtr</th>\n",
       "      <td>0.004167</td>\n",
       "      <td>-2.000000</td>\n",
       "    </tr>\n",
       "    <tr>\n",
       "      <th>O2tu</th>\n",
       "      <td>236.970728</td>\n",
       "      <td>-2.000000</td>\n",
       "    </tr>\n",
       "    <tr>\n",
       "      <th>H2Otu</th>\n",
       "      <td>-473.941457</td>\n",
       "      <td>2.000000</td>\n",
       "    </tr>\n",
       "    <tr>\n",
       "      <th>DM_COA(c)</th>\n",
       "      <td>0.000103</td>\n",
       "      <td>-2.000000</td>\n",
       "    </tr>\n",
       "    <tr>\n",
       "      <th>DM_photonDrain(u)</th>\n",
       "      <td>387.051413</td>\n",
       "      <td>-2.000000</td>\n",
       "    </tr>\n",
       "  </tbody>\n",
       "</table>\n",
       "<p>443 rows × 2 columns</p>\n",
       "</div>"
      ],
      "text/plain": [
       "<Solution 40175.979 at 0x7f07c19551f0>"
      ]
     },
     "execution_count": 122,
     "metadata": {},
     "output_type": "execute_result"
    }
   ],
   "source": [
    "sample_fluxes = cobra.flux_analysis.pfba(mcell_rip.model)\n",
    "sample_fluxes"
   ]
  },
  {
   "cell_type": "code",
   "execution_count": 123,
   "id": "e5779d61",
   "metadata": {
    "ExecuteTime": {
     "end_time": "2022-02-10T21:01:27.372191Z",
     "start_time": "2022-02-10T21:01:27.340076Z"
    }
   },
   "outputs": [
    {
     "name": "stdout",
     "output_type": "stream",
     "text": [
      "Straw_Biomass 10.162620324549401\n",
      "ACCOAC_OSAr 1.0260384732071568\n",
      "FAC_Osr -0.028963467924965795\n",
      "EX_co2(e) -43.35986143274459\n",
      "EX_h2o(e) 1000.0\n",
      "EX_o2(e) -737.209677085612\n",
      "EX_pi(e) -2.0971888180352405\n",
      "EX_so4(e) 425.98035600906474\n",
      "EX_so3(e) -425.98035600906474\n",
      "EX_h2s(e) -0.11077256153758874\n",
      "EX_nh4(e) -6.514036375629277\n",
      "EX_photonVis(e) -1500.0\n",
      "PRISM_blue_LED 1000.0\n",
      "RPSI_430(u) 0.0\n",
      "RPSII_490(u) 4.578975509999999\n",
      "CO2tex 43.35986143274459\n",
      "H2Otex -1000.0\n",
      "O2tex 737.209677085612\n",
      "Pitex 2.0971888180352405\n",
      "SO4tex -425.98035600906474\n",
      "SO3tex 425.98035600906474\n",
      "H2Stex 0.11077256153758874\n",
      "NH4tex 6.514036375629277\n",
      "PPASc 0.0\n",
      "PPASs 13.786610732283718\n",
      "PPAIcxc 122.49382594054521\n",
      "APLm 0.4664642728968175\n",
      "CATv 212.99017800453237\n",
      "RBPCs 540.2086875083766\n",
      "CYOO6m 242.73232939403573\n",
      "ATPSs 760.226283392072\n",
      "ATPSm 931.105489890589\n",
      "ADK1c 61.363916717684674\n",
      "ADK1s 0.5792693584992996\n",
      "ATPAPc 45.01646844639752\n",
      "TMDSc 0.00914635829209446\n",
      "GTPCYTDPTc 0.0\n",
      "UPRTs 0.8597576794568\n",
      "UPHs -0.8597576794568\n",
      "ATCYc 0.0\n",
      "CTPSc 0.07926843853148532\n",
      "DCDTc 0.0071138342271845805\n",
      "DUDTc 0.00914635829209446\n",
      "TDSRc 0.03252038503855808\n",
      "ATDTDc 0.00914635829209446\n",
      "DTMPKc 0.00914635829209446\n",
      "DUMPKc -0.00914635829209446\n",
      "ATDCDc 0.0071138342271845805\n",
      "ATCDc 1.2913844898811415\n",
      "CMPKc 1.298498324108326\n",
      "ATUDc 62.28568370676215\n",
      "UMPKc 0.17581333161470525\n",
      "AMPDc 0.07926843853148532\n",
      "MDH2s 6.700039742253594\n",
      "ACSc 4.604188845379442\n",
      "GLU5Kc 0.35365918729431917\n",
      "GDHym -15.46541510572296\n",
      "GALc 0.20426866852344297\n",
      "GALs 1.1302592178113962\n",
      "AGATm -122.49382594054522\n",
      "ALAATc -288.8137993481114\n",
      "ALAATm 410.9814051762386\n",
      "UPGCDc 12.204290747751376\n",
      "GALUic 62.11495168530972\n",
      "UDPG4Ec 0.23272400543218127\n",
      "ATGDc 0.07215460430430075\n",
      "ATDADc 0.00914635829209446\n",
      "ATDGDc 0.0071138342271845805\n",
      "MDHys 105.47923609438281\n",
      "MDHs -111.42317688449009\n",
      "MDHx -10.16630628255083\n",
      "MDHm 10.291306512542787\n",
      "PPCc 14.287567410107684\n",
      "CSm 0.7449200697894724\n",
      "ASPTAc -4.1212611275568545\n",
      "ASPTAm -9.546386442753315\n",
      "ASPTAs 5.943940790107282\n",
      "GLYTAx 122.49382594054522\n",
      "PDHam1m 0.4664642728968175\n",
      "PDHam1s 0.1422766845436916\n",
      "DAPDCs 0.15548809096560584\n",
      "THR3DHx 10.166306282550831\n",
      "GLYATx -10.166306282550831\n",
      "ASPKs 10.736429282758051\n",
      "FDHNc 485.2888454564568\n",
      "SULOm 425.98035600906474\n",
      "HCGALc 0.12500022999195765\n",
      "CYSTGLs 0.1422766845436916\n",
      "SATm 4.604188845379442\n",
      "HCYSMTc 490.62474296520355\n",
      "AMETAHYCSTc -495.47536164611097\n",
      "ENOc 9.050944994589145\n",
      "ENOs 11.152459544160513\n",
      "ORNTAc -0.12500022999195765\n",
      "SERHs 0.016260192519279043\n",
      "PPDHc 0.13516285031650702\n",
      "ICHDxm 0.7449200697894724\n",
      "ARGOAT2s 5.42480672924447\n",
      "ARGDHs 5.42480672924447\n",
      "GLYDHDm 4.895652796287519\n",
      "DHLDHm 4.895652796287519\n",
      "MTAMnh4m 4.895652796287519\n",
      "FBPc 62.11495168567864\n",
      "FBPs 197.28514295878207\n",
      "SPSc 3.686706495642511e-10\n",
      "PGI1c -62.11495168530997\n",
      "PGI1s -13.207341373784402\n",
      "PGI2s -0.004166674333065255\n",
      "INVv 2.2743944282654853\n",
      "SPPc 3.686706495642511e-10\n",
      "SUSc 3.340453299942047\n",
      "MI3PSc 0.004166674333065255\n",
      "XYL2c 3.9939097868105735\n",
      "XYL2v -2.2743944282654853\n",
      "CYSSc 4.604188845379442\n",
      "DHFRc 0.00914635829209446\n",
      "FTHFLc -489.7822617402986\n",
      "CALANc -4.493416283841853\n",
      "CALASc 4.493416283841853\n",
      "FORAc -4.493416283841853\n",
      "FORMHLc 4.493416283841853\n",
      "SHMTm 4.895652796287519\n",
      "MLTHFRc -369.42634484293615\n",
      "MLTHFRs -121.12116220780085\n",
      "METSc -369.42634484293615\n",
      "METSs -121.12116220780085\n",
      "GLPATs 13.207341373784402\n",
      "ORPDCs 0.17581333161470525\n",
      "ATNSs 0.016260192519279043\n",
      "TPIc -830.6567612737717\n",
      "TPIs 392.39766529695885\n",
      "PPMs 0.8597576794568\n",
      "RPIs 177.63764745912755\n",
      "GAPDHc -892.7717129594504\n",
      "GAPDH1ys -167.442257518553\n",
      "FBAc -62.11495168567864\n",
      "FBAs -197.28514295878207\n",
      "ADPARTs 0.5792693584993159\n",
      "PRDPARs 0.08841479682349984\n",
      "ANTPPTs 0.016260192519279043\n",
      "FUMm -0.8810991821382732\n",
      "ADSALs 0.6676841553228158\n",
      "ARGSL1c 0.12500022999195765\n",
      "LATs -0.237805315594456\n",
      "GMPRc -0.07926843853148532\n",
      "IMPCs 0.6676841553228158\n",
      "GDKc 0.07926843853148532\n",
      "DGDTc 0.0071138342271845805\n",
      "DADTc 0.00914635829209446\n",
      "ADSSs 0.6676841553228158\n",
      "MI3PPc 0.004166674333065255\n",
      "IPMSs 0.237805315594456\n",
      "DHADm 0.4664642728968175\n",
      "VALATs 0.237805315594456\n",
      "VALATm -0.4664642728968175\n",
      "MTHFDs 121.12116220780085\n",
      "MTHFDyc 369.4171984846441\n",
      "P5CRyc 0.22865895730236152\n",
      "CYSTALs 0.07723591446657545\n",
      "UGDCc 7.089443938405662\n",
      "THRSs 10.361428592782179\n",
      "UA4Ec 1.2764251127634048\n",
      "PGKc -892.7717129594504\n",
      "PGKs -167.442257518553\n",
      "PGMc 9.050944994589145\n",
      "PGMs 11.152459544160513\n",
      "PRUKs 540.2086875083766\n",
      "RPEs -362.57104004924895\n",
      "TKT1s -178.49740513858436\n",
      "MOPCs 0.237805315594456\n",
      "MTHFCc 489.7822617402986\n",
      "MTHFCs 0.7560989521463156\n",
      "CHRSs 5.576229772080256\n",
      "CHRMs 5.559969579560978\n",
      "HSKs 10.580941191792444\n",
      "HSDHs 10.580941191792444\n",
      "DPHSs 5.576229772080256\n",
      "TALAs 0.0\n",
      "FBA3s 178.49740513858436\n",
      "TKT2s -184.07363491066462\n",
      "SBPs 178.49740513858436\n",
      "ASPCTs 0.17581333161470525\n",
      "ORPRTs -0.17581333161470525\n",
      "ACONTm 0.7449200697894724\n",
      "ACONm 0.7449200697894724\n",
      "ARGSSc 0.12500022999195765\n",
      "DHRs 0.17581333161470525\n",
      "AGSs 3.3018353434461005\n",
      "CYORm 485.46465878807146\n",
      "PTOXs 512.512139452188\n",
      "BCTA3s 0.1422766845436916\n",
      "OCTc 0.12500022999195765\n",
      "ASADHs 10.736429282758051\n",
      "DHDPSs 0.15548809096560584\n",
      "SKKs 5.576229772080256\n",
      "SKDHs 5.576229772080256\n",
      "SSs 6.603670686892201\n",
      "DAPEPs 0.15548809096560584\n",
      "CELLSc 21.12707139270575\n",
      "HDHs 0.5792693584993159\n",
      "HDAHs 0.5792693584993159\n",
      "HPs 0.5792693584993159\n",
      "KARAm 0.4664642728968175\n",
      "DHQSs 5.576229772080256\n",
      "DQDHs 5.576229772080256\n",
      "AOOAs -0.5792693584993159\n",
      "G5DHc 0.35365918729431917\n",
      "GSCc 0.22865895730236152\n",
      "IGPDs 0.5792693584993159\n",
      "PSCITs 5.576229772080256\n",
      "IGPSs 0.016260192519279043\n",
      "PRAIs 0.016260192519279043\n",
      "IMDHTs 0.237805315594456\n",
      "PRADPs 0.5792693584993159\n",
      "PRACHs 0.5792693584993159\n",
      "PPRGLs 0.08841479682349984\n",
      "DHPRs 0.15548809096560584\n",
      "PRFGCLs 0.08841479682349984\n",
      "PRAICs 0.08841479682349984\n",
      "FPGFTs 0.08841479682349984\n",
      "IMDHs 0.237805315594456\n",
      "PRFGSs 0.08841479682349984\n",
      "IMGPSs 0.5792693584993159\n",
      "AIALs 0.08841479682349984\n",
      "FPAIFs 0.6676841553228158\n",
      "PRAISs 0.08841479682349984\n",
      "PRICIs 0.5792693584993159\n",
      "KARA2is 0.1422766845436916\n",
      "DHAD-ps 0.1422766845436916\n",
      "PHETAc -0.13516285031650702\n",
      "DAPATs 0.15548809096560584\n",
      "PGMTc -62.11495168530972\n",
      "PGMTs -13.207341373784402\n",
      "ACHBSs 0.1422766845436916\n",
      "CYSTS_Gs 0.21951259901026704\n",
      "DHRDHm 0.17581333161470525\n",
      "CBMKs 0.17581333161470525\n",
      "HCO3Ec -8.25368468622085\n",
      "ACCOACs 8.128684456228893\n",
      "TYRNH4Lc 5.34655455274544\n",
      "COUMCOARc 2.0985810970194514\n",
      "COUMCOALc 2.0985810970194514\n",
      "FERCOARc 3.2479734557259885\n",
      "CONOHDHc 1.748986957854952\n",
      "SINOHDHc 1.4989864978710365\n",
      "FERH2c 1.4989864978710365\n",
      "CONCMTc 1.4989864978710365\n",
      "COUMOHDHc 2.0985810970194514\n",
      "TFCOASc 3.2479734557259885\n",
      "HMGCOARc -434.3623638288577\n",
      "HMGCOARyc 434.3623638288577\n",
      "MCOATAs 8.128684456228893\n",
      "ACOATAs 1.0548964409380095\n",
      "ACMAT1s 1.0548964409380095\n",
      "3OAR40s 1.0548964409380095\n",
      "3HAD40s 1.0548964409380095\n",
      "EAR40ys 1.0548964409380095\n",
      "3OAS60s 1.0548964409380095\n",
      "3OAR60s 1.0548964409380095\n",
      "3HAD60s 1.0548964409380095\n",
      "EAR60ys 1.0548964409380095\n",
      "3OAS80s 1.0548964409380095\n",
      "3OAR80s 1.0548964409380095\n",
      "3HAD80s 1.0548964409380095\n",
      "EAR80ys 1.0548964409380095\n",
      "3OAS100s 1.0548964409380095\n",
      "3OAR100s 1.0548964409380095\n",
      "3HAD100s 1.0548964409380095\n",
      "EAR100ys 1.0548964409380095\n",
      "3OAS120s 1.0548964409380095\n",
      "3OAR120s 1.0548964409380095\n",
      "3HAD120s 1.0548964409380095\n",
      "EAR120ys 1.0548964409380095\n",
      "3OAS140s 1.0548964409380095\n",
      "3OAR140s 1.0548964409380095\n",
      "3HAD140s 1.0548964409380095\n",
      "EAR140ys 1.0548964409380095\n",
      "3OAS160s 1.0548964409380095\n",
      "3OAR160s 1.0548964409380095\n",
      "3HAD160s 1.0548964409380095\n",
      "EAR160ys 1.0548964409380095\n",
      "3OAS180s 0.7444093696628257\n",
      "3OAR180s 0.7444093696628257\n",
      "3HAD180s 0.7444093696628257\n",
      "EAR180ys 0.7444093696628257\n",
      "FA160ACPHs 0.3104870712751838\n",
      "FA180ACPHs 0.7444093696628257\n",
      "FACOAL160r -1.2768713026087541\n",
      "FACOAL161r -0.0011903985317160942\n",
      "FACOAL181r -0.009841786400903376\n",
      "FACOAL182r -0.009905506030338303\n",
      "FACOAL183r -0.000689330536614186\n",
      "FACOAL160c 1.5800248238053365\n",
      "FACOAL180c 0.7444093696628257\n",
      "FAS161COA_Lc 0.04336057978053024\n",
      "FAS181COA_Lc 0.7444093696628257\n",
      "FAS182COA_Lc 0.38591971006613046\n",
      "FAS183COA_Lc 0.02510904619894452\n",
      "G3PDNc -0.3615961937677923\n",
      "G3PATr 0.3615961937677923\n",
      "AGPATr 0.3615961937677923\n",
      "PAPAr 0.33739899477504015\n",
      "DAGACTr 0.3028460856715722\n",
      "CDPDAGSr 0.022256138510763187\n",
      "CDIPTr 0.004166674333065255\n",
      "PSSr 0.018089464177697932\n",
      "PEDCm 0.018089464177697932\n",
      "ETHAKr 0.03455290910346796\n",
      "SERDCr 0.03455290910346796\n",
      "PETHAMTr 0.03455290910346796\n",
      "CHOLKr 1.241689276494095\n",
      "CHOLPCTr 1.276242185597563\n",
      "DAGCPr 1.276242185597563\n",
      "PLCr 1.241689276494095\n",
      "FRNCTIc 147.06476854432742\n",
      "FRORc 147.06476854432742\n",
      "CC3H1c 3.2479734557259885\n",
      "CAFFMTc 3.2479734557259885\n",
      "NADOR2u 38.5706826032889\n",
      "CBFCNCEFs 67.30024374268821\n",
      "CCEFs 67.30024374268821\n",
      "PSIMR 67.30024374268821\n",
      "PSIINC 473.94145684889907\n",
      "THD2c 15.931879378619778\n",
      "PYRt2m -287.55465068989974\n",
      "ASPt2m 425.98035600906474\n",
      "VALt2m 0.4664642728968175\n",
      "ASPGLU2m -416.4339695663114\n",
      "ALAt2m -288.4875792356934\n",
      "H2Otm -1000.0\n",
      "CO2tm -6.125126603151506\n",
      "NH4tm 10.56976230943544\n",
      "O2tmr 668.7126854031005\n",
      "PItm 931.105489890589\n",
      "H2O2tm -425.98035600906474\n",
      "ATPtm 931.105489890589\n",
      "SUCFUMtmr 0.8810991821382732\n",
      "GLYtm -132.28513153312025\n",
      "SERtm 0.2914639509080768\n",
      "DICtm 0.8810991821382732\n",
      "MALAKGtm 10.291306512542787\n",
      "SO4AKGtm 425.98035600906474\n",
      "ACCOAtm 5.349108915168914\n",
      "GLXtm -122.49382594054522\n",
      "ACSERtmi 4.604188845379442\n",
      "SO3tm 425.98035600906474\n",
      "PEtm -0.018089464177697932\n",
      "PStm 0.018089464177697932\n",
      "DHORSts -0.17581333161470525\n",
      "OROTts 0.17581333161470525\n",
      "ACCOAts 9.421386212761357\n",
      "ASPts 17.612282356626352\n",
      "CYSts 0.07723591446657543\n",
      "GLYts 0.08841479682349984\n",
      "HISts -0.5792693584993159\n",
      "ILEts -0.1422766845436916\n",
      "LEUts -0.237805315594456\n",
      "LYSts 0.15548809096560584\n",
      "METts -121.12116220780085\n",
      "SERts 0.016260192519279043\n",
      "THRts -10.361428592782179\n",
      "TRPts -0.016260192519279043\n",
      "TYRts -5.42480672924447\n",
      "VALts 0.237805315594456\n",
      "THFts -120.36506325565455\n",
      "G6PA(pi)ts 0.0\n",
      "G6PB(pi)ts -0.004166674333065255\n",
      "DHAP(pi)tsr 768.1802133943253\n",
      "3PG(pi)tsr -901.8226579540395\n",
      "PEPPIts 0.0\n",
      "ATP2ts -0.08841479682351616\n",
      "H2Ots -384.13997084433475\n",
      "CO2ts 519.49174109385\n",
      "NH4ts 1.0865599504158343\n",
      "O2tsr 275.54141102773843\n",
      "Pits 0.26422812843852483\n",
      "HCYSts 121.19839812226742\n",
      "MALFUMts -0.7560989521463156\n",
      "UTPUMPts 0.17581333161470525\n",
      "PPHNts -0.13516285031650702\n",
      "HCO3(h)tsi 8.128684456228893\n",
      "METHFts -120.36506325565453\n",
      "PYRts -6.495771073730151\n",
      "FA160s 0.3104870712751838\n",
      "FA180s 0.7444093696628257\n",
      "SUCRtv 2.2743944282654853\n",
      "GLCAtv 4.548788856530971\n",
      "H2Otv -423.7059615807992\n",
      "O2tv -212.99017800453237\n",
      "H2O2tv 425.98035600906474\n",
      "GLYtx -132.66013222309604\n",
      "MALOAAtx 10.16630628255083\n",
      "THRtx 10.166306282550831\n",
      "ACCOAtx -10.166306282550831\n",
      "GLXtx 122.49382594054522\n",
      "GLUtx 122.49382594054522\n",
      "AKGtx -122.49382594054522\n",
      "FA160CoAr -1.5366642440248062\n",
      "FA161CoAr -0.04336057978053024\n",
      "FA181CoAr -0.35848965959669526\n",
      "FA182CoAr -0.36081066386718597\n",
      "FA183CoAr -0.02510904619894452\n",
      "FA160r 1.2695377525301528\n",
      "AMETt2r -0.10365872731040389\n",
      "ATPtr 1.276242185597563\n",
      "ATP2tr -1.298498324108326\n",
      "H2Otr 1.5790882712691352\n",
      "CO2tr -0.03455290910346796\n",
      "Pitr -0.33739899477504015\n",
      "SERtr 0.052642373281165895\n",
      "COA(h)tr -2.324536797315483\n",
      "GLYC3Ptr -0.3615961937677923\n",
      "CTPtr 1.298498324108326\n",
      "CMPtr -1.298498324108326\n",
      "PEtr 0.018089464177697932\n",
      "PStr -0.018089464177697932\n",
      "INOSTtr 0.004166674333065255\n",
      "O2tu 236.97072842444953\n",
      "H2Otu -473.94145684889907\n",
      "DM_COA(c) 0.0001026038473241897\n",
      "DM_photonDrain(u) 387.051413170478\n"
     ]
    },
    {
     "name": "stderr",
     "output_type": "stream",
     "text": [
      "/home/rtsantos3/anaconda3/lib/python3.8/site-packages/ipykernel/ipkernel.py:287: DeprecationWarning: `should_run_async` will not call `transform_cell` automatically in the future. Please pass the result to `transformed_cell` argument and any exception that happen during thetransform in `preprocessing_exc_tuple` in IPython 7.17 and above.\n",
      "  and should_run_async(code)\n"
     ]
    }
   ],
   "source": [
    "\n",
    "for exchs in mcell_model.reactions:\n",
    "    try:\n",
    "        print(exchs.id, sample_fluxes[exchs.id])\n",
    "        \n",
    "    except KeyError:\n",
    "        pass\n"
   ]
  },
  {
   "cell_type": "code",
   "execution_count": 128,
   "id": "0b0f4b67",
   "metadata": {
    "ExecuteTime": {
     "end_time": "2022-02-10T21:01:53.740496Z",
     "start_time": "2022-02-10T21:01:53.705469Z"
    }
   },
   "outputs": [
    {
     "name": "stderr",
     "output_type": "stream",
     "text": [
      "/home/rtsantos3/anaconda3/lib/python3.8/site-packages/ipykernel/ipkernel.py:287: DeprecationWarning: `should_run_async` will not call `transform_cell` automatically in the future. Please pass the result to `transformed_cell` argument and any exception that happen during thetransform in `preprocessing_exc_tuple` in IPython 7.17 and above.\n",
      "  and should_run_async(code)\n",
      "/home/rtsantos3/.local/lib/python3.8/site-packages/optlang/interface.py:1479: DeprecationWarning: Deprecated, pass a TempConstr or use Model.addLConstr\n",
      "  self._add_constraints(add_constr_sloppy, sloppy=True)\n"
     ]
    },
    {
     "data": {
      "text/html": [
       "<h3>RBPCs</h3><p>co2_s + h2o_s + rb15bp_s --> 2.0 3pg_s</p><p>Bounds: 407.9687330150153, 509.9609162687552</p><p>Flux: 510</p>"
      ],
      "text/plain": [
       "<cobra.summary.reaction_summary.ReactionSummary at 0x7f07becad7f0>"
      ]
     },
     "execution_count": 128,
     "metadata": {},
     "output_type": "execute_result"
    }
   ],
   "source": [
    "mcell_model.reactions.get_by_id('RBPCs').summary()"
   ]
  },
  {
   "cell_type": "code",
   "execution_count": 130,
   "id": "3cd9a74f",
   "metadata": {
    "ExecuteTime": {
     "end_time": "2022-02-10T21:07:01.123780Z",
     "start_time": "2022-02-10T21:07:01.113733Z"
    }
   },
   "outputs": [
    {
     "name": "stderr",
     "output_type": "stream",
     "text": [
      "/home/rtsantos3/anaconda3/lib/python3.8/site-packages/ipykernel/ipkernel.py:287: DeprecationWarning: `should_run_async` will not call `transform_cell` automatically in the future. Please pass the result to `transformed_cell` argument and any exception that happen during thetransform in `preprocessing_exc_tuple` in IPython 7.17 and above.\n",
      "  and should_run_async(code)\n"
     ]
    },
    {
     "ename": "AttributeError",
     "evalue": "DictList has no attribute or entry RBPOs",
     "output_type": "error",
     "traceback": [
      "\u001b[0;31m---------------------------------------------------------------------------\u001b[0m",
      "\u001b[0;31mKeyError\u001b[0m                                  Traceback (most recent call last)",
      "\u001b[0;32m~/.local/lib/python3.8/site-packages/cobra/core/dictlist.py\u001b[0m in \u001b[0;36m__getattr__\u001b[0;34m(self, attr)\u001b[0m\n\u001b[1;32m    451\u001b[0m         \u001b[0;32mtry\u001b[0m\u001b[0;34m:\u001b[0m\u001b[0;34m\u001b[0m\u001b[0;34m\u001b[0m\u001b[0m\n\u001b[0;32m--> 452\u001b[0;31m             \u001b[0;32mreturn\u001b[0m \u001b[0mDictList\u001b[0m\u001b[0;34m.\u001b[0m\u001b[0mget_by_id\u001b[0m\u001b[0;34m(\u001b[0m\u001b[0mself\u001b[0m\u001b[0;34m,\u001b[0m \u001b[0mattr\u001b[0m\u001b[0;34m)\u001b[0m\u001b[0;34m\u001b[0m\u001b[0;34m\u001b[0m\u001b[0m\n\u001b[0m\u001b[1;32m    453\u001b[0m         \u001b[0;32mexcept\u001b[0m \u001b[0mKeyError\u001b[0m\u001b[0;34m:\u001b[0m\u001b[0;34m\u001b[0m\u001b[0;34m\u001b[0m\u001b[0m\n",
      "\u001b[0;32m~/.local/lib/python3.8/site-packages/cobra/core/dictlist.py\u001b[0m in \u001b[0;36mget_by_id\u001b[0;34m(self, id)\u001b[0m\n\u001b[1;32m     56\u001b[0m         \u001b[0;34m\"\"\"return the element with a matching id\"\"\"\u001b[0m\u001b[0;34m\u001b[0m\u001b[0;34m\u001b[0m\u001b[0m\n\u001b[0;32m---> 57\u001b[0;31m         \u001b[0;32mreturn\u001b[0m \u001b[0mlist\u001b[0m\u001b[0;34m.\u001b[0m\u001b[0m__getitem__\u001b[0m\u001b[0;34m(\u001b[0m\u001b[0mself\u001b[0m\u001b[0;34m,\u001b[0m \u001b[0mself\u001b[0m\u001b[0;34m.\u001b[0m\u001b[0m_dict\u001b[0m\u001b[0;34m[\u001b[0m\u001b[0mid\u001b[0m\u001b[0;34m]\u001b[0m\u001b[0;34m)\u001b[0m\u001b[0;34m\u001b[0m\u001b[0;34m\u001b[0m\u001b[0m\n\u001b[0m\u001b[1;32m     58\u001b[0m \u001b[0;34m\u001b[0m\u001b[0m\n",
      "\u001b[0;31mKeyError\u001b[0m: 'RBPOs'",
      "\nDuring handling of the above exception, another exception occurred:\n",
      "\u001b[0;31mAttributeError\u001b[0m                            Traceback (most recent call last)",
      "\u001b[0;32m<ipython-input-130-f7af928a60c9>\u001b[0m in \u001b[0;36m<module>\u001b[0;34m\u001b[0m\n\u001b[0;32m----> 1\u001b[0;31m \u001b[0mmcell_model\u001b[0m\u001b[0;34m.\u001b[0m\u001b[0mreactions\u001b[0m\u001b[0;34m.\u001b[0m\u001b[0mRBPOs\u001b[0m\u001b[0;34m\u001b[0m\u001b[0;34m\u001b[0m\u001b[0m\n\u001b[0m",
      "\u001b[0;32m~/.local/lib/python3.8/site-packages/cobra/core/dictlist.py\u001b[0m in \u001b[0;36m__getattr__\u001b[0;34m(self, attr)\u001b[0m\n\u001b[1;32m    452\u001b[0m             \u001b[0;32mreturn\u001b[0m \u001b[0mDictList\u001b[0m\u001b[0;34m.\u001b[0m\u001b[0mget_by_id\u001b[0m\u001b[0;34m(\u001b[0m\u001b[0mself\u001b[0m\u001b[0;34m,\u001b[0m \u001b[0mattr\u001b[0m\u001b[0;34m)\u001b[0m\u001b[0;34m\u001b[0m\u001b[0;34m\u001b[0m\u001b[0m\n\u001b[1;32m    453\u001b[0m         \u001b[0;32mexcept\u001b[0m \u001b[0mKeyError\u001b[0m\u001b[0;34m:\u001b[0m\u001b[0;34m\u001b[0m\u001b[0;34m\u001b[0m\u001b[0m\n\u001b[0;32m--> 454\u001b[0;31m             \u001b[0;32mraise\u001b[0m \u001b[0mAttributeError\u001b[0m\u001b[0;34m(\u001b[0m\u001b[0;34m\"DictList has no attribute or entry %s\"\u001b[0m \u001b[0;34m%\u001b[0m \u001b[0mattr\u001b[0m\u001b[0;34m)\u001b[0m\u001b[0;34m\u001b[0m\u001b[0;34m\u001b[0m\u001b[0m\n\u001b[0m\u001b[1;32m    455\u001b[0m \u001b[0;34m\u001b[0m\u001b[0m\n\u001b[1;32m    456\u001b[0m     \u001b[0;32mdef\u001b[0m \u001b[0m__dir__\u001b[0m\u001b[0;34m(\u001b[0m\u001b[0mself\u001b[0m\u001b[0;34m)\u001b[0m\u001b[0;34m:\u001b[0m\u001b[0;34m\u001b[0m\u001b[0;34m\u001b[0m\u001b[0m\n",
      "\u001b[0;31mAttributeError\u001b[0m: DictList has no attribute or entry RBPOs"
     ]
    }
   ],
   "source": [
    "mcell_model.reactions.RBPOs"
   ]
  },
  {
   "cell_type": "code",
   "execution_count": 82,
   "id": "e3723569",
   "metadata": {
    "ExecuteTime": {
     "end_time": "2022-02-10T18:41:28.037491Z",
     "start_time": "2022-02-10T18:41:28.035629Z"
    }
   },
   "outputs": [
    {
     "name": "stderr",
     "output_type": "stream",
     "text": [
      "/home/rtsantos3/anaconda3/lib/python3.8/site-packages/ipykernel/ipkernel.py:287: DeprecationWarning: `should_run_async` will not call `transform_cell` automatically in the future. Please pass the result to `transformed_cell` argument and any exception that happen during thetransform in `preprocessing_exc_tuple` in IPython 7.17 and above.\n",
      "  and should_run_async(code)\n"
     ]
    }
   ],
   "source": [
    "mcell_fva = mcell_rip.flux_variability"
   ]
  },
  {
   "cell_type": "code",
   "execution_count": 129,
   "id": "8f774fa7",
   "metadata": {
    "ExecuteTime": {
     "end_time": "2022-02-10T21:06:25.414127Z",
     "start_time": "2022-02-10T21:06:25.363443Z"
    }
   },
   "outputs": [
    {
     "name": "stderr",
     "output_type": "stream",
     "text": [
      "/home/rtsantos3/anaconda3/lib/python3.8/site-packages/ipykernel/ipkernel.py:287: DeprecationWarning: `should_run_async` will not call `transform_cell` automatically in the future. Please pass the result to `transformed_cell` argument and any exception that happen during thetransform in `preprocessing_exc_tuple` in IPython 7.17 and above.\n",
      "  and should_run_async(code)\n",
      "/home/rtsantos3/.local/lib/python3.8/site-packages/optlang/interface.py:1479: DeprecationWarning: Deprecated, pass a TempConstr or use Model.addLConstr\n",
      "  self._add_constraints(add_constr_sloppy, sloppy=True)\n"
     ]
    },
    {
     "data": {
      "text/html": [
       "<h3>Objective</h3><p>1.0 Straw_Biomass = 9.593587241816316</p><h4>Uptake</h4><table border=\"1\" class=\"dataframe\">\n",
       "  <thead>\n",
       "    <tr style=\"text-align: right;\">\n",
       "      <th>Metabolite</th>\n",
       "      <th>Reaction</th>\n",
       "      <th>Flux</th>\n",
       "      <th>C-Number</th>\n",
       "      <th>C-Flux</th>\n",
       "    </tr>\n",
       "  </thead>\n",
       "  <tbody>\n",
       "    <tr>\n",
       "      <td>co2_e</td>\n",
       "      <td>EX_co2(e)</td>\n",
       "      <td>9.359</td>\n",
       "      <td>1</td>\n",
       "      <td>100.00%</td>\n",
       "    </tr>\n",
       "    <tr>\n",
       "      <td>h2s_e</td>\n",
       "      <td>EX_h2s(e)</td>\n",
       "      <td>0.1046</td>\n",
       "      <td>0</td>\n",
       "      <td>0.00%</td>\n",
       "    </tr>\n",
       "    <tr>\n",
       "      <td>nh4_e</td>\n",
       "      <td>EX_nh4(e)</td>\n",
       "      <td>6.149</td>\n",
       "      <td>0</td>\n",
       "      <td>0.00%</td>\n",
       "    </tr>\n",
       "    <tr>\n",
       "      <td>o2_e</td>\n",
       "      <td>EX_o2(e)</td>\n",
       "      <td>690.5</td>\n",
       "      <td>0</td>\n",
       "      <td>0.00%</td>\n",
       "    </tr>\n",
       "    <tr>\n",
       "      <td>photonVis_e</td>\n",
       "      <td>EX_photonVis(e)</td>\n",
       "      <td>1000</td>\n",
       "      <td>0</td>\n",
       "      <td>0.00%</td>\n",
       "    </tr>\n",
       "    <tr>\n",
       "      <td>pi_e</td>\n",
       "      <td>EX_pi(e)</td>\n",
       "      <td>1.98</td>\n",
       "      <td>0</td>\n",
       "      <td>0.00%</td>\n",
       "    </tr>\n",
       "    <tr>\n",
       "      <td>hso3_e</td>\n",
       "      <td>EX_so3(e)</td>\n",
       "      <td>286.2</td>\n",
       "      <td>0</td>\n",
       "      <td>0.00%</td>\n",
       "    </tr>\n",
       "  </tbody>\n",
       "</table><h4>Secretion</h4><table border=\"1\" class=\"dataframe\">\n",
       "  <thead>\n",
       "    <tr style=\"text-align: right;\">\n",
       "      <th>Metabolite</th>\n",
       "      <th>Reaction</th>\n",
       "      <th>Flux</th>\n",
       "      <th>C-Number</th>\n",
       "      <th>C-Flux</th>\n",
       "    </tr>\n",
       "  </thead>\n",
       "  <tbody>\n",
       "    <tr>\n",
       "      <td>coa_c</td>\n",
       "      <td>DM_COA(c)</td>\n",
       "      <td>-9.686E-05</td>\n",
       "      <td>21</td>\n",
       "      <td>100.00%</td>\n",
       "    </tr>\n",
       "    <tr>\n",
       "      <td>photonDrain_u</td>\n",
       "      <td>DM_photonDrain(u)</td>\n",
       "      <td>-321.2</td>\n",
       "      <td>0</td>\n",
       "      <td>0.00%</td>\n",
       "    </tr>\n",
       "    <tr>\n",
       "      <td>h2o_e</td>\n",
       "      <td>EX_h2o(e)</td>\n",
       "      <td>-1000</td>\n",
       "      <td>0</td>\n",
       "      <td>0.00%</td>\n",
       "    </tr>\n",
       "    <tr>\n",
       "      <td>so4_e</td>\n",
       "      <td>EX_so4(e)</td>\n",
       "      <td>-286.2</td>\n",
       "      <td>0</td>\n",
       "      <td>0.00%</td>\n",
       "    </tr>\n",
       "  </tbody>\n",
       "</table>"
      ],
      "text/plain": [
       "<cobra.summary.model_summary.ModelSummary at 0x7f07bb6e2400>"
      ]
     },
     "execution_count": 129,
     "metadata": {},
     "output_type": "execute_result"
    }
   ],
   "source": [
    "mcell_model.summary()"
   ]
  },
  {
   "cell_type": "markdown",
   "id": "a6bf78a9",
   "metadata": {},
   "source": [
    "Benchmarking Results for M cells:\n",
    "\n",
    "\n",
    "Unconstrained CO2 Flux thru M: r=0.077, n.s.\n",
    "Orig. Medium (Photoautotrophic, w/ Gas exchange): r=0.192, p<0.001\n",
    "If I add Sucrose to the medium: r=0.065; p=0.045 (Low significance)\n",
    "Only CO2, no O2: 0.154, p=0.001\n",
    "With NH4 + Gas exchange: r=0.181, p<0.001\n",
    "With NH4 + Gas exchange + AA: r=0.15, p<0.001\n",
    "Low light conditions (200 PPFD), gas exchange + unconstrained inorganics = 0.171\n",
    "Medium light (500 PPFD): 0.15\n",
    "With Glycine import: 0.162\n",
    "\n",
    "W/ FE3 import, no NH4: r=0.213, p<0.001\n",
    "\n",
    "Just use yung with FE3 import and no NH4. //"
   ]
  }
 ],
 "metadata": {
  "kernelspec": {
   "display_name": "Python 3",
   "language": "python",
   "name": "python3"
  },
  "language_info": {
   "codemirror_mode": {
    "name": "ipython",
    "version": 3
   },
   "file_extension": ".py",
   "mimetype": "text/x-python",
   "name": "python",
   "nbconvert_exporter": "python",
   "pygments_lexer": "ipython3",
   "version": "3.8.8"
  },
  "varInspector": {
   "cols": {
    "lenName": 16,
    "lenType": 16,
    "lenVar": 40
   },
   "kernels_config": {
    "python": {
     "delete_cmd_postfix": "",
     "delete_cmd_prefix": "del ",
     "library": "var_list.py",
     "varRefreshCmd": "print(var_dic_list())"
    },
    "r": {
     "delete_cmd_postfix": ") ",
     "delete_cmd_prefix": "rm(",
     "library": "var_list.r",
     "varRefreshCmd": "cat(var_dic_list()) "
    }
   },
   "types_to_exclude": [
    "module",
    "function",
    "builtin_function_or_method",
    "instance",
    "_Feature"
   ],
   "window_display": false
  }
 },
 "nbformat": 4,
 "nbformat_minor": 5
}
