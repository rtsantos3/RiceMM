{
 "cells": [
  {
   "cell_type": "code",
   "execution_count": 1,
   "id": "03a656bb",
   "metadata": {},
   "outputs": [],
   "source": [
    "import sys\n",
    "sys.path.append(\"../src/\") \n",
    "import os\n",
    "\n",
    "import model_manipulation as mm\n",
    "import cobra\n",
    "import cplex\n",
    "import libsbml\n",
    "import pandas as pd\n",
    "import copy\n"
   ]
  },
  {
   "cell_type": "code",
   "execution_count": 2,
   "id": "8def8923",
   "metadata": {},
   "outputs": [],
   "source": [
    "#Read 2-cell model\n",
    "model = cobra.io.read_sbml_model(\"../model/ios2164_2cell.xml\")\n",
    "#Estimate inf\n",
    "inf = 1e6\n"
   ]
  },
  {
   "cell_type": "code",
   "execution_count": 3,
   "id": "4e8bf640",
   "metadata": {},
   "outputs": [],
   "source": [
    "#Solver\n",
    "model.solver = 'glpk'"
   ]
  },
  {
   "cell_type": "code",
   "execution_count": 4,
   "id": "19cbcb9d",
   "metadata": {
    "scrolled": true
   },
   "outputs": [
    {
     "name": "stdout",
     "output_type": "stream",
     "text": [
      "EX_co2_LPAREN_e_RPAREN__M (-1000000, 0.0)\n",
      "EX_h2o_LPAREN_e_RPAREN__M (-1000000, 1000000.0)\n",
      "EX_h_LPAREN_e_RPAREN__M (-1000000, 1000000.0)\n",
      "EX_no3_LPAREN_e_RPAREN__M (-1000000, 0.0)\n",
      "EX_o2_LPAREN_e_RPAREN__M (-1000000, 1000000.0)\n",
      "EX_pi_LPAREN_e_RPAREN__M (-1000000, 1000000.0)\n",
      "EX_sucr_LPAREN_e_RPAREN__M (0, 0.0)\n",
      "EX_fru_DASH_B_LPAREN_e_RPAREN__M (0, 0.0)\n",
      "EX_glc_DASH_A_LPAREN_e_RPAREN__M (0, 0.0)\n",
      "EX_so4_LPAREN_e_RPAREN__M (-1000000, 1000000.0)\n",
      "EX_hco3_LPAREN_e_RPAREN__M (0, 0.0)\n",
      "EX_so3_LPAREN_e_RPAREN__M (-1000000, 0.0)\n",
      "EX_h2s_LPAREN_e_RPAREN__M (0, 0.0)\n",
      "EX_nh4_LPAREN_e_RPAREN__M (0, 0.0)\n",
      "EX_asn_DASH_L_LPAREN_e_RPAREN__M (0, 1000000.0)\n",
      "EX_gln_DASH_L_LPAREN_e_RPAREN__M (0, 1000000.0)\n",
      "EX_etoh_LPAREN_e_RPAREN__M (0, 1000000.0)\n",
      "EX_ac_LPAREN_e_RPAREN__M (0, 1000000.0)\n",
      "EX_lac_DASH_L_LPAREN_e_RPAREN__M (0, 1000000.0)\n",
      "EX_tsul_LPAREN_e_RPAREN__M (0, 0.0)\n",
      "EX_fe2_LPAREN_e_RPAREN__M (-1000000, 1000000.0)\n",
      "EX_fe3_LPAREN_e_RPAREN__M (0, 0.0)\n",
      "EX_mg2_LPAREN_e_RPAREN__M (-1000000, 1000000.0)\n",
      "EX_ala_DASH_L_LPAREN_e_RPAREN__M (0, 1000000.0)\n",
      "EX_arg_DASH_L_LPAREN_e_RPAREN__M (0, 1000000.0)\n",
      "EX_asp_DASH_L_LPAREN_e_RPAREN__M (0, 1000000.0)\n",
      "EX_cys_DASH_L_LPAREN_e_RPAREN__M (0, 1000000.0)\n",
      "EX_glu_DASH_L_LPAREN_e_RPAREN__M (0, 1000000.0)\n",
      "EX_gly_LPAREN_e_RPAREN__M (0, 1000000.0)\n",
      "EX_his_DASH_L_LPAREN_e_RPAREN__M (0, 1000000.0)\n",
      "EX_ile_DASH_L_LPAREN_e_RPAREN__M (0, 1000000.0)\n",
      "EX_leu_DASH_L_LPAREN_e_RPAREN__M (0, 1000000.0)\n",
      "EX_lys_DASH_L_LPAREN_e_RPAREN__M (0, 1000000.0)\n",
      "EX_met_DASH_L_LPAREN_e_RPAREN__M (0, 1000000.0)\n",
      "EX_phe_DASH_L_LPAREN_e_RPAREN__M (0, 1000000.0)\n",
      "EX_pro_DASH_L_LPAREN_e_RPAREN__M (0, 1000000.0)\n",
      "EX_ser_DASH_L_LPAREN_e_RPAREN__M (0, 1000000.0)\n",
      "EX_thr_DASH_L_LPAREN_e_RPAREN__M (0, 1000000.0)\n",
      "EX_trp_DASH_L_LPAREN_e_RPAREN__M (0, 1000000.0)\n",
      "EX_tyr_DASH_L_LPAREN_e_RPAREN__M (0, 1000000.0)\n",
      "EX_val_DASH_L_LPAREN_e_RPAREN__M (0, 1000000.0)\n",
      "EX_photonVis_LPAREN_e_RPAREN__M (-1000000, 0.0)\n",
      "EX_co2_LPAREN_e_RPAREN__BS (0, 0.0)\n",
      "EX_h2o_LPAREN_e_RPAREN__BS (-1000000, 1000000.0)\n",
      "EX_h_LPAREN_e_RPAREN__BS (-1000000, 1000000.0)\n",
      "EX_no3_LPAREN_e_RPAREN__BS (-1000000, 0.0)\n",
      "EX_o2_LPAREN_e_RPAREN__BS (-1000000, 1000000.0)\n",
      "EX_pi_LPAREN_e_RPAREN__BS (-1000000, 1000000.0)\n",
      "EX_sucr_LPAREN_e_RPAREN__BS (0, 0.0)\n",
      "EX_fru_DASH_B_LPAREN_e_RPAREN__BS (0, 0.0)\n",
      "EX_glc_DASH_A_LPAREN_e_RPAREN__BS (0, 0.0)\n",
      "EX_so4_LPAREN_e_RPAREN__BS (-1000000, 1000000.0)\n",
      "EX_hco3_LPAREN_e_RPAREN__BS (0, 0.0)\n",
      "EX_so3_LPAREN_e_RPAREN__BS (0, 0.0)\n",
      "EX_h2s_LPAREN_e_RPAREN__BS (0, 0.0)\n",
      "EX_nh4_LPAREN_e_RPAREN__BS (0, 0.0)\n",
      "EX_asn_DASH_L_LPAREN_e_RPAREN__BS (0, 1000000.0)\n",
      "EX_gln_DASH_L_LPAREN_e_RPAREN__BS (0, 1000000.0)\n",
      "EX_etoh_LPAREN_e_RPAREN__BS (0, 1000000.0)\n",
      "EX_ac_LPAREN_e_RPAREN__BS (0, 1000000.0)\n",
      "EX_lac_DASH_L_LPAREN_e_RPAREN__BS (0, 1000000.0)\n",
      "EX_tsul_LPAREN_e_RPAREN__BS (0, 0.0)\n",
      "EX_fe2_LPAREN_e_RPAREN__BS (-1000000, 1000000.0)\n",
      "EX_fe3_LPAREN_e_RPAREN__BS (0, 0.0)\n",
      "EX_mg2_LPAREN_e_RPAREN__BS (-1000000, 1000000.0)\n",
      "EX_ala_DASH_L_LPAREN_e_RPAREN__BS (0, 1000000.0)\n",
      "EX_arg_DASH_L_LPAREN_e_RPAREN__BS (0, 1000000.0)\n",
      "EX_asp_DASH_L_LPAREN_e_RPAREN__BS (0, 1000000.0)\n",
      "EX_cys_DASH_L_LPAREN_e_RPAREN__BS (0, 1000000.0)\n",
      "EX_glu_DASH_L_LPAREN_e_RPAREN__BS (0, 1000000.0)\n",
      "EX_gly_LPAREN_e_RPAREN__BS (0, 1000000.0)\n",
      "EX_his_DASH_L_LPAREN_e_RPAREN__BS (0, 1000000.0)\n",
      "EX_ile_DASH_L_LPAREN_e_RPAREN__BS (0, 1000000.0)\n",
      "EX_leu_DASH_L_LPAREN_e_RPAREN__BS (0, 1000000.0)\n",
      "EX_lys_DASH_L_LPAREN_e_RPAREN__BS (0, 1000000.0)\n",
      "EX_met_DASH_L_LPAREN_e_RPAREN__BS (0, 1000000.0)\n",
      "EX_phe_DASH_L_LPAREN_e_RPAREN__BS (0, 1000000.0)\n",
      "EX_pro_DASH_L_LPAREN_e_RPAREN__BS (0, 1000000.0)\n",
      "EX_ser_DASH_L_LPAREN_e_RPAREN__BS (0, 1000000.0)\n",
      "EX_thr_DASH_L_LPAREN_e_RPAREN__BS (0, 1000000.0)\n",
      "EX_trp_DASH_L_LPAREN_e_RPAREN__BS (0, 1000000.0)\n",
      "EX_tyr_DASH_L_LPAREN_e_RPAREN__BS (0, 1000000.0)\n",
      "EX_val_DASH_L_LPAREN_e_RPAREN__BS (0, 1000000.0)\n",
      "EX_photonVis_LPAREN_e_RPAREN__BS (-1000000, 0.0)\n"
     ]
    }
   ],
   "source": [
    "#Initialize medium so as to induce Photoautotrophic conditions (i.e. no Sucrose import)\n",
    "\n",
    "mm.read_medium_csv('../misc/photo_medium.csv', model)\n",
    "\n",
    "#Test natin kung magwowork sa est. infinite\n",
    "#Yes setting bounds to 1000 works\n",
    "\n",
    "\n",
    "\n",
    "for imports in model.exchanges:\n",
    "    if imports.upper_bound == 1000:\n",
    "        model.reactions.get_by_id(imports.id).upper_bound = inf\n",
    "    elif imports.lower_bound == -1000:\n",
    "        print(imports.id, imports.lower_bound)\n",
    "        model.reactions.get_by_id(imports.id).lower_bound = -inf\n",
    "        print(imports.id, imports.lower_bound)\n",
    "#Print out active import fluxes\n",
    "\n",
    "model_media = model.medium\n",
    "for items in model.exchanges:\n",
    "    print(items.id, items.bounds)\n",
    "\n",
    "for imports in model.exchanges:\n",
    "    if imports.upper_bound == 1000:\n",
    "        model.reactions.get_by_id(imports.id).upper_bound = inf\n",
    "    elif imports.lower_bound == -1000:\n",
    "        print(imports.id, imports.lower_bound)\n",
    "        model.reactions.get_by_id(imports.id).lower_bound = -inf\n",
    "        print(imports.id, imports.lower_bound)\n"
   ]
  },
  {
   "cell_type": "code",
   "execution_count": 5,
   "id": "0e8c5371",
   "metadata": {},
   "outputs": [],
   "source": [
    "#Modifications to medium\n",
    "\n",
    "model_media['EX_photonVis_LPAREN_e_RPAREN__M'] = 1000 #PPFD used in Ermakova et al for high light\n",
    "model_media['EX_photonVis_LPAREN_e_RPAREN__BS'] = 1000 #PPFD used in Ermakova et al for high light \n",
    "\n",
    "#Set CO2 bounds to ~29 m-2 s-1\n",
    "model_media['EX_co2_LPAREN_e_RPAREN__M'] = 30\n",
    "model_media['EX_co2_LPAREN_e_RPAREN__BS'] = 30\n",
    "# model_media['EX_o2_LPAREN_e_RPAREN__M'] = inf\n",
    "# model_media['EX_o2_LPAREN_e_RPAREN__BS'] = inf\n",
    "\n",
    "model.medium = model_media"
   ]
  },
  {
   "cell_type": "code",
   "execution_count": 6,
   "id": "b9f164a6",
   "metadata": {},
   "outputs": [
    {
     "name": "stdout",
     "output_type": "stream",
     "text": [
      "EX_co2_LPAREN_e_RPAREN__M (-30, 0.0)\n",
      "EX_h2o_LPAREN_e_RPAREN__M (-1000000, 1000000.0)\n",
      "EX_h_LPAREN_e_RPAREN__M (-1000000, 1000000.0)\n",
      "EX_no3_LPAREN_e_RPAREN__M (-1000000, 0.0)\n",
      "EX_o2_LPAREN_e_RPAREN__M (-1000000, 1000000.0)\n",
      "EX_pi_LPAREN_e_RPAREN__M (-1000000, 1000000.0)\n",
      "EX_sucr_LPAREN_e_RPAREN__M (0, 0.0)\n",
      "EX_fru_DASH_B_LPAREN_e_RPAREN__M (0, 0.0)\n",
      "EX_glc_DASH_A_LPAREN_e_RPAREN__M (0, 0.0)\n",
      "EX_so4_LPAREN_e_RPAREN__M (-1000000, 1000000.0)\n",
      "EX_hco3_LPAREN_e_RPAREN__M (0, 0.0)\n",
      "EX_so3_LPAREN_e_RPAREN__M (-1000000, 0.0)\n",
      "EX_h2s_LPAREN_e_RPAREN__M (0, 0.0)\n",
      "EX_nh4_LPAREN_e_RPAREN__M (0, 0.0)\n",
      "EX_asn_DASH_L_LPAREN_e_RPAREN__M (0, 1000000.0)\n",
      "EX_gln_DASH_L_LPAREN_e_RPAREN__M (0, 1000000.0)\n",
      "EX_etoh_LPAREN_e_RPAREN__M (0, 1000000.0)\n",
      "EX_ac_LPAREN_e_RPAREN__M (0, 1000000.0)\n",
      "EX_lac_DASH_L_LPAREN_e_RPAREN__M (0, 1000000.0)\n",
      "EX_tsul_LPAREN_e_RPAREN__M (0, 0.0)\n",
      "EX_fe2_LPAREN_e_RPAREN__M (-1000000, 1000000.0)\n",
      "EX_fe3_LPAREN_e_RPAREN__M (0, 0.0)\n",
      "EX_mg2_LPAREN_e_RPAREN__M (-1000000, 1000000.0)\n",
      "EX_ala_DASH_L_LPAREN_e_RPAREN__M (0, 1000000.0)\n",
      "EX_arg_DASH_L_LPAREN_e_RPAREN__M (0, 1000000.0)\n",
      "EX_asp_DASH_L_LPAREN_e_RPAREN__M (0, 1000000.0)\n",
      "EX_cys_DASH_L_LPAREN_e_RPAREN__M (0, 1000000.0)\n",
      "EX_glu_DASH_L_LPAREN_e_RPAREN__M (0, 1000000.0)\n",
      "EX_gly_LPAREN_e_RPAREN__M (0, 1000000.0)\n",
      "EX_his_DASH_L_LPAREN_e_RPAREN__M (0, 1000000.0)\n",
      "EX_ile_DASH_L_LPAREN_e_RPAREN__M (0, 1000000.0)\n",
      "EX_leu_DASH_L_LPAREN_e_RPAREN__M (0, 1000000.0)\n",
      "EX_lys_DASH_L_LPAREN_e_RPAREN__M (0, 1000000.0)\n",
      "EX_met_DASH_L_LPAREN_e_RPAREN__M (0, 1000000.0)\n",
      "EX_phe_DASH_L_LPAREN_e_RPAREN__M (0, 1000000.0)\n",
      "EX_pro_DASH_L_LPAREN_e_RPAREN__M (0, 1000000.0)\n",
      "EX_ser_DASH_L_LPAREN_e_RPAREN__M (0, 1000000.0)\n",
      "EX_thr_DASH_L_LPAREN_e_RPAREN__M (0, 1000000.0)\n",
      "EX_trp_DASH_L_LPAREN_e_RPAREN__M (0, 1000000.0)\n",
      "EX_tyr_DASH_L_LPAREN_e_RPAREN__M (0, 1000000.0)\n",
      "EX_val_DASH_L_LPAREN_e_RPAREN__M (0, 1000000.0)\n",
      "EX_photonVis_LPAREN_e_RPAREN__M (-1000, 0.0)\n",
      "EX_co2_LPAREN_e_RPAREN__BS (-30, 0.0)\n",
      "EX_h2o_LPAREN_e_RPAREN__BS (-1000000, 1000000.0)\n",
      "EX_h_LPAREN_e_RPAREN__BS (-1000000, 1000000.0)\n",
      "EX_no3_LPAREN_e_RPAREN__BS (-1000000, 0.0)\n",
      "EX_o2_LPAREN_e_RPAREN__BS (-1000000, 1000000.0)\n",
      "EX_pi_LPAREN_e_RPAREN__BS (-1000000, 1000000.0)\n",
      "EX_sucr_LPAREN_e_RPAREN__BS (0, 0.0)\n",
      "EX_fru_DASH_B_LPAREN_e_RPAREN__BS (0, 0.0)\n",
      "EX_glc_DASH_A_LPAREN_e_RPAREN__BS (0, 0.0)\n",
      "EX_so4_LPAREN_e_RPAREN__BS (-1000000, 1000000.0)\n",
      "EX_hco3_LPAREN_e_RPAREN__BS (0, 0.0)\n",
      "EX_so3_LPAREN_e_RPAREN__BS (0, 0.0)\n",
      "EX_h2s_LPAREN_e_RPAREN__BS (0, 0.0)\n",
      "EX_nh4_LPAREN_e_RPAREN__BS (0, 0.0)\n",
      "EX_asn_DASH_L_LPAREN_e_RPAREN__BS (0, 1000000.0)\n",
      "EX_gln_DASH_L_LPAREN_e_RPAREN__BS (0, 1000000.0)\n",
      "EX_etoh_LPAREN_e_RPAREN__BS (0, 1000000.0)\n",
      "EX_ac_LPAREN_e_RPAREN__BS (0, 1000000.0)\n",
      "EX_lac_DASH_L_LPAREN_e_RPAREN__BS (0, 1000000.0)\n",
      "EX_tsul_LPAREN_e_RPAREN__BS (0, 0.0)\n",
      "EX_fe2_LPAREN_e_RPAREN__BS (-1000000, 1000000.0)\n",
      "EX_fe3_LPAREN_e_RPAREN__BS (0, 0.0)\n",
      "EX_mg2_LPAREN_e_RPAREN__BS (-1000000, 1000000.0)\n",
      "EX_ala_DASH_L_LPAREN_e_RPAREN__BS (0, 1000000.0)\n",
      "EX_arg_DASH_L_LPAREN_e_RPAREN__BS (0, 1000000.0)\n",
      "EX_asp_DASH_L_LPAREN_e_RPAREN__BS (0, 1000000.0)\n",
      "EX_cys_DASH_L_LPAREN_e_RPAREN__BS (0, 1000000.0)\n",
      "EX_glu_DASH_L_LPAREN_e_RPAREN__BS (0, 1000000.0)\n",
      "EX_gly_LPAREN_e_RPAREN__BS (0, 1000000.0)\n",
      "EX_his_DASH_L_LPAREN_e_RPAREN__BS (0, 1000000.0)\n",
      "EX_ile_DASH_L_LPAREN_e_RPAREN__BS (0, 1000000.0)\n",
      "EX_leu_DASH_L_LPAREN_e_RPAREN__BS (0, 1000000.0)\n",
      "EX_lys_DASH_L_LPAREN_e_RPAREN__BS (0, 1000000.0)\n",
      "EX_met_DASH_L_LPAREN_e_RPAREN__BS (0, 1000000.0)\n",
      "EX_phe_DASH_L_LPAREN_e_RPAREN__BS (0, 1000000.0)\n",
      "EX_pro_DASH_L_LPAREN_e_RPAREN__BS (0, 1000000.0)\n",
      "EX_ser_DASH_L_LPAREN_e_RPAREN__BS (0, 1000000.0)\n",
      "EX_thr_DASH_L_LPAREN_e_RPAREN__BS (0, 1000000.0)\n",
      "EX_trp_DASH_L_LPAREN_e_RPAREN__BS (0, 1000000.0)\n",
      "EX_tyr_DASH_L_LPAREN_e_RPAREN__BS (0, 1000000.0)\n",
      "EX_val_DASH_L_LPAREN_e_RPAREN__BS (0, 1000000.0)\n",
      "EX_photonVis_LPAREN_e_RPAREN__BS (-1000, 0.0)\n"
     ]
    }
   ],
   "source": [
    "for item in model.exchanges:\n",
    "    print(item.id, item.bounds)"
   ]
  },
  {
   "cell_type": "code",
   "execution_count": 8,
   "id": "8aa4ff5e",
   "metadata": {},
   "outputs": [],
   "source": [
    "#Add constraints to model\n",
    "\n",
    "#BS photon flux must be the same/less than M flux (Adapted from B&B, 2019)\n",
    "BS_photon_import = model.reactions.get_by_id(\"EX_photonVis_LPAREN_e_RPAREN__BS\")\n",
    "M_photon_import = model.reactions.get_by_id(\"EX_photonVis_LPAREN_e_RPAREN__M\")\n",
    "\n",
    "photon_flux = model.problem.Constraint(M_photon_import.flux_expression \n",
    "                                       - BS_photon_import.flux_expression,\n",
    "                                       lb = 0, ub = 1000)\n",
    "model.add_cons_vars(photon_flux)\n",
    "\n",
    "\n",
    "#Note: CO2 uptake is not restricted in BS cells but will be constrained to be  equal/less than M cell\n",
    "BS_co2_import = model.reactions.get_by_id(\"EX_co2_LPAREN_e_RPAREN__BS\") \n",
    "M_co2_import = model.reactions.get_by_id(\"EX_co2_LPAREN_e_RPAREN__M\")\n",
    "co2_flux_cons = model.problem.Constraint(M_co2_import.flux_expression - BS_co2_import.flux_expression, lb = 0, ub = inf)\n",
    "model.add_cons_vars(co2_flux_cons)\n",
    "\n",
    "#CO2 Uptake must be constrained to A (Net assimilation rate) which is around 29 +- 1.2 umol CO2 m-2 s-1 for wild type rice\n",
    "co2_import_cons = model.problem.Constraint(M_co2_import.flux_expression + BS_co2_import.flux_expression, lb = -30.2, ub = -27.8)\n",
    "model.add_cons_vars(co2_import_cons)\n",
    "#Oks na\n",
    "#CO2 intake needs to be mostly in the M cells. Not sure of the exact value: \n",
    "#try checking Danila et al. (2016) on ratio of surface area of M cell to BS cell\n",
    "#I'll assume that the ratio is at 9.5:0.5 in the meantime, meaning that there is minimal gas exchange into the BS cell\n",
    "\n",
    "co2_intake_ratio = mm.set_fix_flux_ratio({M_co2_import.id:9, BS_co2_import.id:1},model)\n",
    "model.add_cons_vars(co2_intake_ratio)\n",
    "#First is the BS and M Cell constraints"
   ]
  },
  {
   "cell_type": "code",
   "execution_count": null,
   "id": "29c97097",
   "metadata": {},
   "outputs": [],
   "source": [
    "# #Let's try constraining CO2 flux\n",
    "# BS_co2_import.bounds = (0, 0)\n",
    "# M_co2_import.bounds = (0, 0)\n",
    "\n",
    "# BS_photon_import.bounds = (0, 0)\n",
    "# M_photon_import.bounds = (0, 0)\n",
    "\n",
    "# print('BS_photon', model.reactions.get_by_id('EX_photonVis_LPAREN_e_RPAREN__BS').bounds)\n",
    "# print('M_photon', model.reactions.get_by_id('EX_photonVis_LPAREN_e_RPAREN__M').bounds)"
   ]
  },
  {
   "cell_type": "code",
   "execution_count": null,
   "id": "769d6d85",
   "metadata": {},
   "outputs": [],
   "source": [
    "#What if I restrict yung import ng O2?\n",
    "\n",
    "# M_o2_import = model.reactions.get_by_id('EX_o2_LPAREN_e_RPAREN__M')\n",
    "# BS_o2_import = model.reactions.get_by_id('EX_o2_LPAREN_e_RPAREN__BS')\n",
    "# #Let's try restricting O2 to the value from Lakshmanan et al. (2016) = 3.312 mmol O2 m-2 s-1\n",
    "# o2_import_cons = model.problem.Constraint(M_o2_import.flux_expression + BS_o2_import.flux_expression, lb = -3.312, ub = 3.312)\n",
    "# model.add_cons_vars(o2_import_cons)\n"
   ]
  },
  {
   "cell_type": "code",
   "execution_count": 9,
   "id": "40440230",
   "metadata": {},
   "outputs": [
    {
     "ename": "TypeError",
     "evalue": "in method 'glp_get_mat_row', argument 2 of type 'int'",
     "output_type": "error",
     "traceback": [
      "\u001b[0;31m---------------------------------------------------------------------------\u001b[0m",
      "\u001b[0;31mTypeError\u001b[0m                                 Traceback (most recent call last)",
      "\u001b[0;32m<ipython-input-9-152a7c8a416d>\u001b[0m in \u001b[0;36m<module>\u001b[0;34m\u001b[0m\n\u001b[0;32m----> 1\u001b[0;31m \u001b[0mmodel\u001b[0m\u001b[0;34m.\u001b[0m\u001b[0moptimize\u001b[0m\u001b[0;34m(\u001b[0m\u001b[0;34m)\u001b[0m\u001b[0;34m\u001b[0m\u001b[0;34m\u001b[0m\u001b[0m\n\u001b[0m",
      "\u001b[0;32m~/.local/lib/python3.8/site-packages/cobra/core/model.py\u001b[0m in \u001b[0;36moptimize\u001b[0;34m(self, objective_sense, raise_error)\u001b[0m\n\u001b[1;32m   1088\u001b[0m             \u001b[0mobjective_sense\u001b[0m\u001b[0;34m,\u001b[0m \u001b[0moriginal_direction\u001b[0m\u001b[0;34m\u001b[0m\u001b[0;34m\u001b[0m\u001b[0m\n\u001b[1;32m   1089\u001b[0m         )\n\u001b[0;32m-> 1090\u001b[0;31m         \u001b[0mself\u001b[0m\u001b[0;34m.\u001b[0m\u001b[0mslim_optimize\u001b[0m\u001b[0;34m(\u001b[0m\u001b[0;34m)\u001b[0m\u001b[0;34m\u001b[0m\u001b[0;34m\u001b[0m\u001b[0m\n\u001b[0m\u001b[1;32m   1091\u001b[0m         \u001b[0msolution\u001b[0m \u001b[0;34m=\u001b[0m \u001b[0mget_solution\u001b[0m\u001b[0;34m(\u001b[0m\u001b[0mself\u001b[0m\u001b[0;34m,\u001b[0m \u001b[0mraise_error\u001b[0m\u001b[0;34m=\u001b[0m\u001b[0mraise_error\u001b[0m\u001b[0;34m)\u001b[0m\u001b[0;34m\u001b[0m\u001b[0;34m\u001b[0m\u001b[0m\n\u001b[1;32m   1092\u001b[0m         \u001b[0mself\u001b[0m\u001b[0;34m.\u001b[0m\u001b[0mobjective\u001b[0m\u001b[0;34m.\u001b[0m\u001b[0mdirection\u001b[0m \u001b[0;34m=\u001b[0m \u001b[0moriginal_direction\u001b[0m\u001b[0;34m\u001b[0m\u001b[0;34m\u001b[0m\u001b[0m\n",
      "\u001b[0;32m~/.local/lib/python3.8/site-packages/cobra/core/model.py\u001b[0m in \u001b[0;36mslim_optimize\u001b[0;34m(self, error_value, message)\u001b[0m\n\u001b[1;32m   1056\u001b[0m             \u001b[0mThe\u001b[0m \u001b[0mobjective\u001b[0m \u001b[0mvalue\u001b[0m\u001b[0;34m.\u001b[0m\u001b[0;34m\u001b[0m\u001b[0;34m\u001b[0m\u001b[0m\n\u001b[1;32m   1057\u001b[0m         \"\"\"\n\u001b[0;32m-> 1058\u001b[0;31m         \u001b[0mself\u001b[0m\u001b[0;34m.\u001b[0m\u001b[0msolver\u001b[0m\u001b[0;34m.\u001b[0m\u001b[0moptimize\u001b[0m\u001b[0;34m(\u001b[0m\u001b[0;34m)\u001b[0m\u001b[0;34m\u001b[0m\u001b[0;34m\u001b[0m\u001b[0m\n\u001b[0m\u001b[1;32m   1059\u001b[0m         \u001b[0;32mif\u001b[0m \u001b[0mself\u001b[0m\u001b[0;34m.\u001b[0m\u001b[0msolver\u001b[0m\u001b[0;34m.\u001b[0m\u001b[0mstatus\u001b[0m \u001b[0;34m==\u001b[0m \u001b[0moptlang\u001b[0m\u001b[0;34m.\u001b[0m\u001b[0minterface\u001b[0m\u001b[0;34m.\u001b[0m\u001b[0mOPTIMAL\u001b[0m\u001b[0;34m:\u001b[0m\u001b[0;34m\u001b[0m\u001b[0;34m\u001b[0m\u001b[0m\n\u001b[1;32m   1060\u001b[0m             \u001b[0;32mreturn\u001b[0m \u001b[0mself\u001b[0m\u001b[0;34m.\u001b[0m\u001b[0msolver\u001b[0m\u001b[0;34m.\u001b[0m\u001b[0mobjective\u001b[0m\u001b[0;34m.\u001b[0m\u001b[0mvalue\u001b[0m\u001b[0;34m\u001b[0m\u001b[0;34m\u001b[0m\u001b[0m\n",
      "\u001b[0;32m~/.local/lib/python3.8/site-packages/optlang/interface.py\u001b[0m in \u001b[0;36moptimize\u001b[0;34m(self)\u001b[0m\n\u001b[1;32m   1513\u001b[0m             \u001b[0mSolution\u001b[0m \u001b[0mstatus\u001b[0m\u001b[0;34m.\u001b[0m\u001b[0;34m\u001b[0m\u001b[0;34m\u001b[0m\u001b[0m\n\u001b[1;32m   1514\u001b[0m         \"\"\"\n\u001b[0;32m-> 1515\u001b[0;31m         \u001b[0mself\u001b[0m\u001b[0;34m.\u001b[0m\u001b[0mupdate\u001b[0m\u001b[0;34m(\u001b[0m\u001b[0;34m)\u001b[0m\u001b[0;34m\u001b[0m\u001b[0;34m\u001b[0m\u001b[0m\n\u001b[0m\u001b[1;32m   1516\u001b[0m         \u001b[0mstatus\u001b[0m \u001b[0;34m=\u001b[0m \u001b[0mself\u001b[0m\u001b[0;34m.\u001b[0m\u001b[0m_optimize\u001b[0m\u001b[0;34m(\u001b[0m\u001b[0;34m)\u001b[0m\u001b[0;34m\u001b[0m\u001b[0;34m\u001b[0m\u001b[0m\n\u001b[1;32m   1517\u001b[0m         \u001b[0;32mif\u001b[0m \u001b[0mstatus\u001b[0m \u001b[0;34m!=\u001b[0m \u001b[0mOPTIMAL\u001b[0m \u001b[0;32mand\u001b[0m \u001b[0mself\u001b[0m\u001b[0;34m.\u001b[0m\u001b[0mconfiguration\u001b[0m\u001b[0;34m.\u001b[0m\u001b[0mpresolve\u001b[0m \u001b[0;34m==\u001b[0m \u001b[0;34m\"auto\"\u001b[0m\u001b[0;34m:\u001b[0m\u001b[0;34m\u001b[0m\u001b[0;34m\u001b[0m\u001b[0m\n",
      "\u001b[0;32m~/.local/lib/python3.8/site-packages/optlang/interface.py\u001b[0m in \u001b[0;36mupdate\u001b[0;34m(self, callback)\u001b[0m\n\u001b[1;32m   1472\u001b[0m         \u001b[0madd_constr\u001b[0m \u001b[0;34m=\u001b[0m \u001b[0mself\u001b[0m\u001b[0;34m.\u001b[0m\u001b[0m_pending_modifications\u001b[0m\u001b[0;34m.\u001b[0m\u001b[0madd_constr\u001b[0m\u001b[0;34m\u001b[0m\u001b[0;34m\u001b[0m\u001b[0m\n\u001b[1;32m   1473\u001b[0m         \u001b[0;32mif\u001b[0m \u001b[0mlen\u001b[0m\u001b[0;34m(\u001b[0m\u001b[0madd_constr\u001b[0m\u001b[0;34m)\u001b[0m \u001b[0;34m>\u001b[0m \u001b[0;36m0\u001b[0m\u001b[0;34m:\u001b[0m\u001b[0;34m\u001b[0m\u001b[0;34m\u001b[0m\u001b[0m\n\u001b[0;32m-> 1474\u001b[0;31m             \u001b[0mself\u001b[0m\u001b[0;34m.\u001b[0m\u001b[0m_add_constraints\u001b[0m\u001b[0;34m(\u001b[0m\u001b[0madd_constr\u001b[0m\u001b[0;34m)\u001b[0m\u001b[0;34m\u001b[0m\u001b[0;34m\u001b[0m\u001b[0m\n\u001b[0m\u001b[1;32m   1475\u001b[0m             \u001b[0mself\u001b[0m\u001b[0;34m.\u001b[0m\u001b[0m_pending_modifications\u001b[0m\u001b[0;34m.\u001b[0m\u001b[0madd_constr\u001b[0m \u001b[0;34m=\u001b[0m \u001b[0;34m[\u001b[0m\u001b[0;34m]\u001b[0m\u001b[0;34m\u001b[0m\u001b[0;34m\u001b[0m\u001b[0m\n\u001b[1;32m   1476\u001b[0m \u001b[0;34m\u001b[0m\u001b[0m\n",
      "\u001b[0;32m~/.local/lib/python3.8/site-packages/optlang/glpk_interface.py\u001b[0m in \u001b[0;36m_add_constraints\u001b[0;34m(self, constraints, sloppy)\u001b[0m\n\u001b[1;32m    759\u001b[0m \u001b[0;34m\u001b[0m\u001b[0m\n\u001b[1;32m    760\u001b[0m     \u001b[0;32mdef\u001b[0m \u001b[0m_add_constraints\u001b[0m\u001b[0;34m(\u001b[0m\u001b[0mself\u001b[0m\u001b[0;34m,\u001b[0m \u001b[0mconstraints\u001b[0m\u001b[0;34m,\u001b[0m \u001b[0msloppy\u001b[0m\u001b[0;34m=\u001b[0m\u001b[0;32mFalse\u001b[0m\u001b[0;34m)\u001b[0m\u001b[0;34m:\u001b[0m\u001b[0;34m\u001b[0m\u001b[0;34m\u001b[0m\u001b[0m\n\u001b[0;32m--> 761\u001b[0;31m         \u001b[0msuper\u001b[0m\u001b[0;34m(\u001b[0m\u001b[0mModel\u001b[0m\u001b[0;34m,\u001b[0m \u001b[0mself\u001b[0m\u001b[0;34m)\u001b[0m\u001b[0;34m.\u001b[0m\u001b[0m_add_constraints\u001b[0m\u001b[0;34m(\u001b[0m\u001b[0mconstraints\u001b[0m\u001b[0;34m,\u001b[0m \u001b[0msloppy\u001b[0m\u001b[0;34m=\u001b[0m\u001b[0msloppy\u001b[0m\u001b[0;34m)\u001b[0m\u001b[0;34m\u001b[0m\u001b[0;34m\u001b[0m\u001b[0m\n\u001b[0m\u001b[1;32m    762\u001b[0m         \u001b[0;32mfor\u001b[0m \u001b[0mconstraint\u001b[0m \u001b[0;32min\u001b[0m \u001b[0mconstraints\u001b[0m\u001b[0;34m:\u001b[0m\u001b[0;34m\u001b[0m\u001b[0;34m\u001b[0m\u001b[0m\n\u001b[1;32m    763\u001b[0m             \u001b[0mconstraint\u001b[0m\u001b[0;34m.\u001b[0m\u001b[0m_problem\u001b[0m \u001b[0;34m=\u001b[0m \u001b[0;32mNone\u001b[0m  \u001b[0;31m# This needs to be done in order to not trigger constraint._get_expression()\u001b[0m\u001b[0;34m\u001b[0m\u001b[0;34m\u001b[0m\u001b[0m\n",
      "\u001b[0;32m~/.local/lib/python3.8/site-packages/optlang/interface.py\u001b[0m in \u001b[0;36m_add_constraints\u001b[0;34m(self, constraints, sloppy)\u001b[0m\n\u001b[1;32m   1570\u001b[0m             \u001b[0mconstraint_id\u001b[0m \u001b[0;34m=\u001b[0m \u001b[0mconstraint\u001b[0m\u001b[0;34m.\u001b[0m\u001b[0mname\u001b[0m\u001b[0;34m\u001b[0m\u001b[0;34m\u001b[0m\u001b[0m\n\u001b[1;32m   1571\u001b[0m             \u001b[0;32mif\u001b[0m \u001b[0msloppy\u001b[0m \u001b[0;32mis\u001b[0m \u001b[0;32mFalse\u001b[0m\u001b[0;34m:\u001b[0m\u001b[0;34m\u001b[0m\u001b[0;34m\u001b[0m\u001b[0m\n\u001b[0;32m-> 1572\u001b[0;31m                 \u001b[0mvariables\u001b[0m \u001b[0;34m=\u001b[0m \u001b[0mconstraint\u001b[0m\u001b[0;34m.\u001b[0m\u001b[0mvariables\u001b[0m\u001b[0;34m\u001b[0m\u001b[0;34m\u001b[0m\u001b[0m\n\u001b[0m\u001b[1;32m   1573\u001b[0m                 \u001b[0;32mif\u001b[0m \u001b[0mconstraint\u001b[0m\u001b[0;34m.\u001b[0m\u001b[0mindicator_variable\u001b[0m \u001b[0;32mis\u001b[0m \u001b[0;32mnot\u001b[0m \u001b[0;32mNone\u001b[0m\u001b[0;34m:\u001b[0m\u001b[0;34m\u001b[0m\u001b[0;34m\u001b[0m\u001b[0m\n\u001b[1;32m   1574\u001b[0m                     \u001b[0mvariables\u001b[0m\u001b[0;34m.\u001b[0m\u001b[0madd\u001b[0m\u001b[0;34m(\u001b[0m\u001b[0mconstraint\u001b[0m\u001b[0;34m.\u001b[0m\u001b[0mindicator_variable\u001b[0m\u001b[0;34m)\u001b[0m\u001b[0;34m\u001b[0m\u001b[0;34m\u001b[0m\u001b[0m\n",
      "\u001b[0;32m~/.local/lib/python3.8/site-packages/optlang/interface.py\u001b[0m in \u001b[0;36mvariables\u001b[0;34m(self)\u001b[0m\n\u001b[1;32m    463\u001b[0m     \u001b[0;32mdef\u001b[0m \u001b[0mvariables\u001b[0m\u001b[0;34m(\u001b[0m\u001b[0mself\u001b[0m\u001b[0;34m)\u001b[0m\u001b[0;34m:\u001b[0m\u001b[0;34m\u001b[0m\u001b[0;34m\u001b[0m\u001b[0m\n\u001b[1;32m    464\u001b[0m         \u001b[0;34m\"\"\"Variables in constraint/objective's expression.\"\"\"\u001b[0m\u001b[0;34m\u001b[0m\u001b[0;34m\u001b[0m\u001b[0m\n\u001b[0;32m--> 465\u001b[0;31m         \u001b[0;32mreturn\u001b[0m \u001b[0mself\u001b[0m\u001b[0;34m.\u001b[0m\u001b[0mexpression\u001b[0m\u001b[0;34m.\u001b[0m\u001b[0matoms\u001b[0m\u001b[0;34m(\u001b[0m\u001b[0mVariable\u001b[0m\u001b[0;34m)\u001b[0m\u001b[0;34m\u001b[0m\u001b[0;34m\u001b[0m\u001b[0m\n\u001b[0m\u001b[1;32m    466\u001b[0m \u001b[0;34m\u001b[0m\u001b[0m\n\u001b[1;32m    467\u001b[0m     \u001b[0;32mdef\u001b[0m \u001b[0m_canonicalize\u001b[0m\u001b[0;34m(\u001b[0m\u001b[0mself\u001b[0m\u001b[0;34m,\u001b[0m \u001b[0mexpression\u001b[0m\u001b[0;34m)\u001b[0m\u001b[0;34m:\u001b[0m\u001b[0;34m\u001b[0m\u001b[0;34m\u001b[0m\u001b[0m\n",
      "\u001b[0;32m~/.local/lib/python3.8/site-packages/optlang/interface.py\u001b[0m in \u001b[0;36mexpression\u001b[0;34m(self)\u001b[0m\n\u001b[1;32m    458\u001b[0m     \u001b[0;32mdef\u001b[0m \u001b[0mexpression\u001b[0m\u001b[0;34m(\u001b[0m\u001b[0mself\u001b[0m\u001b[0;34m)\u001b[0m\u001b[0;34m:\u001b[0m\u001b[0;34m\u001b[0m\u001b[0;34m\u001b[0m\u001b[0m\n\u001b[1;32m    459\u001b[0m         \u001b[0;34m\"\"\"The mathematical expression defining the objective/constraint.\"\"\"\u001b[0m\u001b[0;34m\u001b[0m\u001b[0;34m\u001b[0m\u001b[0m\n\u001b[0;32m--> 460\u001b[0;31m         \u001b[0;32mreturn\u001b[0m \u001b[0mself\u001b[0m\u001b[0;34m.\u001b[0m\u001b[0m_get_expression\u001b[0m\u001b[0;34m(\u001b[0m\u001b[0;34m)\u001b[0m\u001b[0;34m\u001b[0m\u001b[0;34m\u001b[0m\u001b[0m\n\u001b[0m\u001b[1;32m    461\u001b[0m \u001b[0;34m\u001b[0m\u001b[0m\n\u001b[1;32m    462\u001b[0m     \u001b[0;34m@\u001b[0m\u001b[0mproperty\u001b[0m\u001b[0;34m\u001b[0m\u001b[0;34m\u001b[0m\u001b[0m\n",
      "\u001b[0;32m~/.local/lib/python3.8/site-packages/optlang/glpk_interface.py\u001b[0m in \u001b[0;36m_get_expression\u001b[0;34m(self)\u001b[0m\n\u001b[1;32m    168\u001b[0m             \u001b[0mia\u001b[0m \u001b[0;34m=\u001b[0m \u001b[0mintArray\u001b[0m\u001b[0;34m(\u001b[0m\u001b[0mcol_num\u001b[0m \u001b[0;34m+\u001b[0m \u001b[0;36m1\u001b[0m\u001b[0;34m)\u001b[0m\u001b[0;34m\u001b[0m\u001b[0;34m\u001b[0m\u001b[0m\n\u001b[1;32m    169\u001b[0m             \u001b[0mda\u001b[0m \u001b[0;34m=\u001b[0m \u001b[0mdoubleArray\u001b[0m\u001b[0;34m(\u001b[0m\u001b[0mcol_num\u001b[0m \u001b[0;34m+\u001b[0m \u001b[0;36m1\u001b[0m\u001b[0;34m)\u001b[0m\u001b[0;34m\u001b[0m\u001b[0;34m\u001b[0m\u001b[0m\n\u001b[0;32m--> 170\u001b[0;31m             \u001b[0mnnz\u001b[0m \u001b[0;34m=\u001b[0m \u001b[0mglp_get_mat_row\u001b[0m\u001b[0;34m(\u001b[0m\u001b[0mself\u001b[0m\u001b[0;34m.\u001b[0m\u001b[0mproblem\u001b[0m\u001b[0;34m.\u001b[0m\u001b[0mproblem\u001b[0m\u001b[0;34m,\u001b[0m \u001b[0mself\u001b[0m\u001b[0;34m.\u001b[0m\u001b[0m_index\u001b[0m\u001b[0;34m,\u001b[0m \u001b[0mia\u001b[0m\u001b[0;34m,\u001b[0m \u001b[0mda\u001b[0m\u001b[0;34m)\u001b[0m\u001b[0;34m\u001b[0m\u001b[0;34m\u001b[0m\u001b[0m\n\u001b[0m\u001b[1;32m    171\u001b[0m             constraint_variables = [self.problem._variables[glp_get_col_name(self.problem.problem, ia[i])] for i in\n\u001b[1;32m    172\u001b[0m                                     range(1, nnz + 1)]\n",
      "\u001b[0;31mTypeError\u001b[0m: in method 'glp_get_mat_row', argument 2 of type 'int'"
     ]
    }
   ],
   "source": [
    "model.optimize()"
   ]
  },
  {
   "cell_type": "code",
   "execution_count": null,
   "id": "04d2913f",
   "metadata": {},
   "outputs": [],
   "source": [
    "sample_fluxes = cobra.flux_analysis.pfba(model)\n",
    "sample_fluxes"
   ]
  },
  {
   "cell_type": "code",
   "execution_count": null,
   "id": "26bae92a",
   "metadata": {},
   "outputs": [],
   "source": [
    "for items in model.reactions:\n",
    "    print(items.id, sample_fluxes[items.id])"
   ]
  },
  {
   "cell_type": "code",
   "execution_count": null,
   "id": "e13d1507",
   "metadata": {},
   "outputs": [],
   "source": [
    "#Exchange reactions\n",
    "for exs in model.exchanges:\n",
    "    print(exs.id, sample_fluxes[exs.id])"
   ]
  },
  {
   "cell_type": "code",
   "execution_count": null,
   "id": "c33be832",
   "metadata": {},
   "outputs": [],
   "source": [
    "model.summary()"
   ]
  },
  {
   "cell_type": "code",
   "execution_count": null,
   "id": "06dc2ba0",
   "metadata": {},
   "outputs": [],
   "source": [
    "#Show all pd reactions\n",
    "pd_rxns = [rxn for rxn in model.reactions if \"_pd\" in rxn.id]\n",
    "\n",
    "for items in pd_rxns:\n",
    "    print(items.id, sample_fluxes[items.id])"
   ]
  },
  {
   "cell_type": "code",
   "execution_count": null,
   "id": "67bd32cd",
   "metadata": {},
   "outputs": [],
   "source": [
    "#Let's try to do initial FBA\n",
    "model.reactions.Straw_Biomass_M\n"
   ]
  }
 ],
 "metadata": {
  "kernelspec": {
   "display_name": "Python 3",
   "language": "python",
   "name": "python3"
  },
  "language_info": {
   "codemirror_mode": {
    "name": "ipython",
    "version": 3
   },
   "file_extension": ".py",
   "mimetype": "text/x-python",
   "name": "python",
   "nbconvert_exporter": "python",
   "pygments_lexer": "ipython3",
   "version": "3.8.8"
  },
  "varInspector": {
   "cols": {
    "lenName": 16,
    "lenType": 16,
    "lenVar": 40
   },
   "kernels_config": {
    "python": {
     "delete_cmd_postfix": "",
     "delete_cmd_prefix": "del ",
     "library": "var_list.py",
     "varRefreshCmd": "print(var_dic_list())"
    },
    "r": {
     "delete_cmd_postfix": ") ",
     "delete_cmd_prefix": "rm(",
     "library": "var_list.r",
     "varRefreshCmd": "cat(var_dic_list()) "
    }
   },
   "types_to_exclude": [
    "module",
    "function",
    "builtin_function_or_method",
    "instance",
    "_Feature"
   ],
   "window_display": false
  }
 },
 "nbformat": 4,
 "nbformat_minor": 5
}
