{
 "cells": [
  {
   "cell_type": "code",
   "execution_count": 1,
   "id": "03a656bb",
   "metadata": {
    "ExecuteTime": {
     "end_time": "2022-02-04T15:55:39.661935Z",
     "start_time": "2022-02-04T15:55:38.960185Z"
    }
   },
   "outputs": [],
   "source": [
    "import sys\n",
    "sys.path.append(\"../src/\") \n",
    "import os\n",
    "\n",
    "import model_manipulation as mm\n",
    "import cobra\n",
    "import cplex\n",
    "import libsbml\n",
    "import pandas as pd\n",
    "import copy\n"
   ]
  },
  {
   "cell_type": "code",
   "execution_count": 2,
   "id": "8def8923",
   "metadata": {
    "ExecuteTime": {
     "end_time": "2022-02-04T15:55:44.349498Z",
     "start_time": "2022-02-04T15:55:40.463090Z"
    }
   },
   "outputs": [
    {
     "name": "stdout",
     "output_type": "stream",
     "text": [
      "Set parameter Username\n",
      "Academic license - for non-commercial use only - expires 2022-04-03\n"
     ]
    }
   ],
   "source": [
    "#Read 2-cell model\n",
    "model = cobra.io.read_sbml_model(\"../model/ios2164_2cell.xml\")\n",
    "#Estimate inf\n",
    "inf = 1e6\n"
   ]
  },
  {
   "cell_type": "code",
   "execution_count": 3,
   "id": "c6481857",
   "metadata": {
    "ExecuteTime": {
     "end_time": "2022-02-04T15:55:45.438142Z",
     "start_time": "2022-02-04T15:55:44.364401Z"
    }
   },
   "outputs": [],
   "source": [
    "#Solver\n",
    "model.solver = 'cplex'"
   ]
  },
  {
   "cell_type": "code",
   "execution_count": 4,
   "id": "19cbcb9d",
   "metadata": {
    "ExecuteTime": {
     "end_time": "2022-02-04T15:55:45.926079Z",
     "start_time": "2022-02-04T15:55:45.802506Z"
    },
    "scrolled": true
   },
   "outputs": [
    {
     "data": {
      "text/plain": [
       "{'EX_co2(e)_M': 1000000,\n",
       " 'EX_h2o(e)_M': 1000000,\n",
       " 'EX_no3(e)_M': 1000000,\n",
       " 'EX_o2(e)_M': 1000000,\n",
       " 'EX_pi(e)_M': 1000000,\n",
       " 'EX_so4(e)_M': 1000000,\n",
       " 'EX_so3(e)_M': 1000000,\n",
       " 'EX_h2s(e)_M': 1000000,\n",
       " 'EX_nh4(e)_M': 1000000,\n",
       " 'EX_fe2(e)_M': 1000000,\n",
       " 'EX_fe3(e)_M': 1000000,\n",
       " 'EX_mg2(e)_M': 1000000,\n",
       " 'EX_photonVis(e)_M': 1000000,\n",
       " 'EX_co2(e)_BS': 1000000,\n",
       " 'EX_h2o(e)_BS': 1000000,\n",
       " 'EX_no3(e)_BS': 1000000,\n",
       " 'EX_o2(e)_BS': 1000000,\n",
       " 'EX_pi(e)_BS': 1000000,\n",
       " 'EX_so4(e)_BS': 1000000,\n",
       " 'EX_so3(e)_BS': 1000000,\n",
       " 'EX_nh4(e)_BS': 1000000,\n",
       " 'EX_fe2(e)_BS': 1000000,\n",
       " 'EX_fe3(e)_BS': 1000000,\n",
       " 'EX_mg2(e)_BS': 1000000,\n",
       " 'EX_photonVis(e)_BS': 1000000}"
      ]
     },
     "execution_count": 4,
     "metadata": {},
     "output_type": "execute_result"
    }
   ],
   "source": [
    "#Initialize medium so as to induce Photoautotrophic conditions (i.e. no Sucrose import)\n",
    "\n",
    "#First initialize all inputs to approximate infinity (1e6)\n",
    "for imports in model.exchanges:\n",
    "    if imports.upper_bound == 1000:\n",
    "        model.reactions.get_by_id(imports.id).upper_bound = inf\n",
    "    elif imports.lower_bound == -1000:\n",
    "        model.reactions.get_by_id(imports.id).lower_bound = -inf\n",
    "        \n",
    "mm.read_medium_csv('../misc/photo_medium.csv', model)\n",
    "\n",
    "#Test natin kung magwowork sa est. infinite\n",
    "#Yes setting bounds to 1000 works\n",
    "model_media = model.medium\n",
    "model.medium"
   ]
  },
  {
   "cell_type": "code",
   "execution_count": null,
   "id": "8aa4ff5e",
   "metadata": {
    "ExecuteTime": {
     "end_time": "2022-02-04T15:54:19.778029Z",
     "start_time": "2022-02-04T15:54:19.770403Z"
    }
   },
   "outputs": [],
   "source": [
    "# #Add constraints to model\n",
    "\n",
    "# #BS photon flux must be the same/less than M flux (Adapted from B&B, 2019)\n",
    "BS_photon_import = model.reactions.get_by_id(\"EX_photonVis(e)_BS\")\n",
    "M_photon_import = model.reactions.get_by_id(\"EX_photonVis(e)_M\")\n",
    "\n",
    "photon_flux = model.problem.Constraint(M_photon_import.flux_expression \n",
    "                                       - BS_photon_import.flux_expression,\n",
    "                                       lb = 0, ub = 1000)\n",
    "model.add_cons_vars(photon_flux)\n",
    "\n",
    "\n",
    "# #Note: CO2 uptake is not restricted in BS cells but will be constrained to be  equal/less than M cell\n",
    "BS_co2_import = model.reactions.get_by_id(\"EX_co2(e)_BS\") \n",
    "M_co2_import = model.reactions.get_by_id(\"EX_co2(e)_M\")\n",
    "co2_flux_cons = model.problem.Constraint(M_co2_import.flux_expression - BS_co2_import.flux_expression, lb = 0, ub = 1000)\n",
    "model.add_cons_vars(co2_flux_cons)\n",
    "\n",
    "#CO2 Uptake must be constrained to A (Net assimilation rate) which is around 29 +- 1.2 umol CO2 m-2 s-1 for wild type rice\n",
    "co2_import_cons = model.problem.Constraint(M_co2_import.flux_expression + BS_co2_import.flux_expression, lb = -30.2, ub = 0)\n",
    "model.add_cons_vars(co2_import_cons)\n",
    "# #Oks na\n",
    "# #CO2 intake needs to be mostly in the M cells. Not sure of the exact value: \n",
    "# #try checking Danila et al. (2016) on ratio of surface area of M cell to BS cell\n",
    "# #I'll assume that the ratio is at 9.5:0.5 in the meantime, meaning that there is minimal gas exchange into the BS cell\n",
    "co2_ratio_cons = mm.set_fix_flux_ratio({M_co2_import.id:5, BS_co2_import.id:1},model)\n",
    "model.add_cons_vars(co2_ratio_cons)\n",
    "\n",
    "# #Automatic na palang nalalagay siya as constraint\n",
    "\n",
    "# #First is the BS and M Cell constraints"
   ]
  },
  {
   "cell_type": "code",
   "execution_count": null,
   "id": "1fcb19df",
   "metadata": {
    "ExecuteTime": {
     "end_time": "2022-02-03T21:04:02.707653Z",
     "start_time": "2022-02-03T21:04:02.704469Z"
    }
   },
   "outputs": [],
   "source": [
    "# model.remove_cons_vars(co2_import_cons)\n",
    "# model.remove_cons_vars(co2_flux_cons)"
   ]
  },
  {
   "cell_type": "code",
   "execution_count": 47,
   "id": "769d6d85",
   "metadata": {
    "ExecuteTime": {
     "end_time": "2022-02-04T16:29:23.108983Z",
     "start_time": "2022-02-04T16:29:23.106320Z"
    }
   },
   "outputs": [],
   "source": [
    "#What if I restrict yung import ng O2?\n",
    "\n",
    "M_o2_import = model.reactions.get_by_id('EX_o2(e)_M')\n",
    "BS_o2_import = model.reactions.get_by_id('EX_o2(e)_BS')\n",
    "#Let's try restricting O2 to the value from Lakshmanan et al. (2016) = 3.312 mmol O2 m-2 s-1\n",
    "#Actually this value is also reflected in Von Caemmerer's \"Modelling C3 metabolism\" (pg. 85)\n",
    "o2_import_cons = model.problem.Constraint(M_o2_import.flux_expression + BS_o2_import.flux_expression, lb = -3.312, ub = 0)\n",
    "model.add_cons_vars(o2_import_cons)\n"
   ]
  },
  {
   "cell_type": "code",
   "execution_count": null,
   "id": "135e568a",
   "metadata": {
    "ExecuteTime": {
     "end_time": "2022-02-04T15:54:26.051442Z",
     "start_time": "2022-02-04T15:54:26.046090Z"
    }
   },
   "outputs": [],
   "source": [
    "# #Add enzyme constraints\n",
    "\n",
    "# #PEPC\n",
    "# wt_pepc = 2.4 #umol m-2 s-1\n",
    "# wt_mdh = 11.18 #umol m-2 s-1\n",
    "# wt_nadp_me = 0.14 #umol m-2 s-1\n",
    "# wt_ppdk = 0.31 #umol m-2 s-1\n",
    "# wt_CA = 15.74 #umol m-2  s-1\n",
    "\n",
    "# #PEPC constraint (Reaction id: PPCc)\n",
    "# pepc_BS = model.reactions.PPCc_BS\n",
    "# pepc_M = model.reactions.PPCc_M\n",
    "\n",
    "# wt_pepc_cons = model.problem.Constraint(pepc_BS.flux_expression \n",
    "#                                         + pepc_M.flux_expression, \n",
    "#                                         lb = 0, ub = wt_pepc)\n",
    "# model.add_cons_vars(wt_pepc_cons)\n",
    "\n",
    "# #PPDK constraints (Reaction id: PPDKS) (note that this is found in the chloroplast?) \n",
    "# #Not detected via immunolocalization but enzyme activity is detected\n",
    "# ppdks_BS = model.reactions.PPDKs_BS\n",
    "# ppdks_M = model.reactions.PPDKs_M\n",
    "\n",
    "# wt_ppdks_cons = model.problem.Constraint(ppdks_BS.flux_expression \n",
    "#                                          + ppdks_M.flux_expression, \n",
    "#                                          lb = 0, ub = wt_ppdk)\n",
    "# model.add_cons_vars(wt_ppdks_cons)\n",
    "\n",
    "# #Malate Dehydrogenase \n",
    "# mdh2c_M = model.reactions.MDH2c_M\n",
    "# mdh2c_BS = model.reactions.MDH2c_BS\n",
    "# mdh2s_M = model.reactions.MDH2s_M\n",
    "# mdh2s_BS = model.reactions.MDH2s_BS\n",
    "\n",
    "# wt_mdh_cons = model.problem.Constraint(mdh2c_M.flux_expression \n",
    "#                                        + mdh2c_BS.flux_expression \n",
    "#                                        + mdh2s_M.flux_expression \n",
    "#                                        + mdh2s_BS.flux_expression, \n",
    "#                                        lb= 0, ub=wt_mdh)\n",
    "# model.add_cons_vars(wt_mdh_cons)\n",
    "\n",
    "\n",
    "# #NADP-ME (Since no signal is detected in WT, no locational constraints are imposed)\n",
    "# nadp_me_M = model.reactions.MDH2s_M\n",
    "# nadp_me_BS = model.reactions.MDH2s_BS\n",
    "\n",
    "# wt_nadpme_cons = model.problem.Constraint(nadp_me_M.flux_expression\n",
    "#                                          + nadp_me_BS.flux_expression,\n",
    "#                                          lb= 0, ub=wt_nadp_me)\n",
    "# model.add_cons_vars(wt_nadpme_cons)\n",
    "# #Weird, it causes the activity of RBCL to significantly vary from the actual values\n",
    "\n",
    "# #Rbcl constaints"
   ]
  },
  {
   "cell_type": "code",
   "execution_count": 62,
   "id": "09fa7f27",
   "metadata": {
    "ExecuteTime": {
     "end_time": "2022-02-04T16:34:23.665760Z",
     "start_time": "2022-02-04T16:34:23.623557Z"
    }
   },
   "outputs": [],
   "source": [
    "#Modifications to medium\n",
    "\n",
    "model_media['EX_photonVis(e)_M'] = 1500 #PPFD used in Ermakova et al for high light\n",
    "model_media['EX_photonVis(e)_BS'] = 1500 #PPFD used in Ermakova et al for high light \n",
    "\n",
    "#Set CO2 bounds to ~29 m-2 s-1\n",
    "model_media['EX_co2(e)_M'] = 30\n",
    "model_media['EX_co2(e)_BS'] = 30\n",
    "model_media['EX_o2(e)_M'] = inf\n",
    "model_media['EX_o2(e)_M'] = inf\n",
    "\n",
    "#Test if heterotrophic conditions fix Biomass\n",
    "#model_media['EX_sucr(e)_M'] = inf\n",
    "\n",
    "#Nope, still doesn't produce biomass.\n",
    "#How about Protons?\n",
    "model_media['EX_h(e)_M'] = 0\n",
    "model_media['EX_h(e)_BS'] = 0\n",
    "model.medium = model_media\n",
    "\n",
    "#Try nga natin may gas exchange in both.\n",
    "# model.reactions.get_by_id('EX_co2(e)_M').upper_bounds = inf\n",
    "# model.reactions.get_by_id('EX_co2(e)_BS').upper_bounds = inf"
   ]
  },
  {
   "cell_type": "code",
   "execution_count": 63,
   "id": "9c7aaabd",
   "metadata": {
    "ExecuteTime": {
     "end_time": "2022-02-04T16:34:26.416505Z",
     "start_time": "2022-02-04T16:34:25.872059Z"
    }
   },
   "outputs": [
    {
     "data": {
      "text/html": [
       "<strong><em>Optimal</em> solution with objective value 35174.420</strong><br><div>\n",
       "<style scoped>\n",
       "    .dataframe tbody tr th:only-of-type {\n",
       "        vertical-align: middle;\n",
       "    }\n",
       "\n",
       "    .dataframe tbody tr th {\n",
       "        vertical-align: top;\n",
       "    }\n",
       "\n",
       "    .dataframe thead th {\n",
       "        text-align: right;\n",
       "    }\n",
       "</style>\n",
       "<table border=\"1\" class=\"dataframe\">\n",
       "  <thead>\n",
       "    <tr style=\"text-align: right;\">\n",
       "      <th></th>\n",
       "      <th>fluxes</th>\n",
       "      <th>reduced_costs</th>\n",
       "    </tr>\n",
       "  </thead>\n",
       "  <tbody>\n",
       "    <tr>\n",
       "      <th>Coleoptile_Biomass_M</th>\n",
       "      <td>0.000000</td>\n",
       "      <td>1.330173e+05</td>\n",
       "    </tr>\n",
       "    <tr>\n",
       "      <th>Straw_Biomass_M</th>\n",
       "      <td>2.868558</td>\n",
       "      <td>-2.000000e+00</td>\n",
       "    </tr>\n",
       "    <tr>\n",
       "      <th>ACCOAC_OSAc_M</th>\n",
       "      <td>0.000000</td>\n",
       "      <td>-2.000000e+00</td>\n",
       "    </tr>\n",
       "    <tr>\n",
       "      <th>ACCOAC_OSAr_M</th>\n",
       "      <td>0.289615</td>\n",
       "      <td>-2.000000e+00</td>\n",
       "    </tr>\n",
       "    <tr>\n",
       "      <th>ACPC_OSs_M</th>\n",
       "      <td>0.000000</td>\n",
       "      <td>-2.000000e+00</td>\n",
       "    </tr>\n",
       "    <tr>\n",
       "      <th>...</th>\n",
       "      <td>...</td>\n",
       "      <td>...</td>\n",
       "    </tr>\n",
       "    <tr>\n",
       "      <th>dhap_pd</th>\n",
       "      <td>0.000000</td>\n",
       "      <td>8.185452e-12</td>\n",
       "    </tr>\n",
       "    <tr>\n",
       "      <th>g3p_pd</th>\n",
       "      <td>0.000000</td>\n",
       "      <td>8.185452e-12</td>\n",
       "    </tr>\n",
       "    <tr>\n",
       "      <th>3pg_pd</th>\n",
       "      <td>0.000000</td>\n",
       "      <td>8.185452e-12</td>\n",
       "    </tr>\n",
       "    <tr>\n",
       "      <th>glyclt_pd</th>\n",
       "      <td>0.000000</td>\n",
       "      <td>2.000000e+00</td>\n",
       "    </tr>\n",
       "    <tr>\n",
       "      <th>succ_pd</th>\n",
       "      <td>0.000000</td>\n",
       "      <td>-2.000000e+00</td>\n",
       "    </tr>\n",
       "  </tbody>\n",
       "</table>\n",
       "<p>4922 rows × 2 columns</p>\n",
       "</div>"
      ],
      "text/plain": [
       "<Solution 35174.420 at 0x7f5c68a15dc0>"
      ]
     },
     "execution_count": 63,
     "metadata": {},
     "output_type": "execute_result"
    }
   ],
   "source": [
    "sample_fluxes = cobra.flux_analysis.pfba(model)\n",
    "sample_fluxes"
   ]
  },
  {
   "cell_type": "code",
   "execution_count": 64,
   "id": "ff10ba43",
   "metadata": {
    "ExecuteTime": {
     "end_time": "2022-02-04T16:34:29.445880Z",
     "start_time": "2022-02-04T16:34:29.442335Z"
    },
    "scrolled": true
   },
   "outputs": [
    {
     "name": "stdout",
     "output_type": "stream",
     "text": [
      "rbcl M cell:  160.51191545154052 rbcl BS cell:  236.67908059448882\n",
      "rbcl M cell (photorespiration) 0.0 rbcl BS cell (PR) 0.0\n",
      "Biomass M:  2.8685576389807426 Biomass BS 4.16764382974044\n"
     ]
    }
   ],
   "source": [
    "#This is cool, the M cell is similar to the WT rate of 83.59+-5.63 :)\n",
    "print('rbcl M cell: ', sample_fluxes['RBPCs_M'], 'rbcl BS cell: ',sample_fluxes['RBPCs_BS'])\n",
    "print('rbcl M cell (photorespiration)', sample_fluxes['RBPC2s_M'], 'rbcl BS cell (PR)', sample_fluxes['RBPC2s_BS'])\n",
    "print('Biomass M: ', sample_fluxes['Straw_Biomass_M'], 'Biomass BS', sample_fluxes['Straw_Biomass_BS'])\n",
    "\n"
   ]
  },
  {
   "cell_type": "code",
   "execution_count": 33,
   "id": "58c3c900",
   "metadata": {
    "ExecuteTime": {
     "end_time": "2022-02-04T16:01:20.764227Z",
     "start_time": "2022-02-04T16:01:20.728957Z"
    }
   },
   "outputs": [
    {
     "name": "stdout",
     "output_type": "stream",
     "text": [
      "EX_co2(e)_M (-30, 0.0)\n",
      "EX_h2o(e)_M (-1000000, 0.0)\n",
      "EX_h(e)_M (0, 0.0)\n",
      "EX_no3(e)_M (-1000000, 0.0)\n",
      "EX_o2(e)_M (-1000000.0, 0.0)\n",
      "EX_pi(e)_M (-1000000, 0.0)\n",
      "EX_sucr(e)_M (0, 0.0)\n",
      "EX_fru-B(e)_M (0, 0.0)\n",
      "EX_glc-A(e)_M (0, 0.0)\n",
      "EX_so4(e)_M (-1000000, 0.0)\n",
      "EX_hco3(e)_M (0, 0.0)\n",
      "EX_so3(e)_M (-1000000, 0.0)\n",
      "EX_h2s(e)_M (-1000000, 0.0)\n",
      "EX_nh4(e)_M (-1000000, 0.0)\n",
      "EX_asn-L(e)_M (0, 0.0)\n",
      "EX_gln-L(e)_M (0, 0.0)\n",
      "EX_etoh(e)_M (0, 0.0)\n",
      "EX_ac(e)_M (0, 0.0)\n",
      "EX_lac-L(e)_M (0, 0.0)\n",
      "EX_tsul(e)_M (0, 0.0)\n",
      "EX_fe2(e)_M (-1000000, 0.0)\n",
      "EX_fe3(e)_M (-1000000, 0.0)\n",
      "EX_mg2(e)_M (-1000000, 0.0)\n",
      "EX_ala-L(e)_M (0, 0.0)\n",
      "EX_arg-L(e)_M (0, 0.0)\n",
      "EX_asp-L(e)_M (0, 0.0)\n",
      "EX_cys-L(e)_M (0, 0.0)\n",
      "EX_glu-L(e)_M (0, 0.0)\n",
      "EX_gly(e)_M (0, 0.0)\n",
      "EX_his-L(e)_M (0, 0.0)\n",
      "EX_ile-L(e)_M (0, 0.0)\n",
      "EX_leu-L(e)_M (0, 0.0)\n",
      "EX_lys-L(e)_M (0, 0.0)\n",
      "EX_met-L(e)_M (0, 0.0)\n",
      "EX_phe-L(e)_M (0, 0.0)\n",
      "EX_pro-L(e)_M (0, 0.0)\n",
      "EX_ser-L(e)_M (0, 0.0)\n",
      "EX_thr-L(e)_M (0, 0.0)\n",
      "EX_trp-L(e)_M (0, 0.0)\n",
      "EX_tyr-L(e)_M (0, 0.0)\n",
      "EX_val-L(e)_M (0, 0.0)\n",
      "EX_photonVis(e)_M (-200, 0.0)\n",
      "EX_co2(e)_BS (-30, 0.0)\n",
      "EX_h2o(e)_BS (-1000000, 0.0)\n",
      "EX_h(e)_BS (0, 0.0)\n",
      "EX_no3(e)_BS (-1000000, 0.0)\n",
      "EX_o2(e)_BS (-1000000, 0.0)\n",
      "EX_pi(e)_BS (-1000000, 0.0)\n",
      "EX_sucr(e)_BS (0, 0.0)\n",
      "EX_fru-B(e)_BS (0, 0.0)\n",
      "EX_glc-A(e)_BS (0, 0.0)\n",
      "EX_so4(e)_BS (-1000000, 0.0)\n",
      "EX_hco3(e)_BS (0, 0.0)\n",
      "EX_so3(e)_BS (-1000000, 0.0)\n",
      "EX_h2s(e)_BS (0, 0.0)\n",
      "EX_nh4(e)_BS (-1000000, 0.0)\n",
      "EX_asn-L(e)_BS (0, 0.0)\n",
      "EX_gln-L(e)_BS (0, 0.0)\n",
      "EX_etoh(e)_BS (0, 0.0)\n",
      "EX_ac(e)_BS (0, 0.0)\n",
      "EX_lac-L(e)_BS (0, 0.0)\n",
      "EX_tsul(e)_BS (0, 0.0)\n",
      "EX_fe2(e)_BS (-1000000, 0.0)\n",
      "EX_fe3(e)_BS (-1000000, 0.0)\n",
      "EX_mg2(e)_BS (-1000000, 0.0)\n",
      "EX_ala-L(e)_BS (0, 0.0)\n",
      "EX_arg-L(e)_BS (0, 0.0)\n",
      "EX_asp-L(e)_BS (0, 0.0)\n",
      "EX_cys-L(e)_BS (0, 0.0)\n",
      "EX_glu-L(e)_BS (0, 0.0)\n",
      "EX_gly(e)_BS (0, 0.0)\n",
      "EX_his-L(e)_BS (0, 0.0)\n",
      "EX_ile-L(e)_BS (0, 0.0)\n",
      "EX_leu-L(e)_BS (0, 0.0)\n",
      "EX_lys-L(e)_BS (0, 0.0)\n",
      "EX_met-L(e)_BS (0, 0.0)\n",
      "EX_phe-L(e)_BS (0, 0.0)\n",
      "EX_pro-L(e)_BS (0, 0.0)\n",
      "EX_ser-L(e)_BS (0, 0.0)\n",
      "EX_thr-L(e)_BS (0, 0.0)\n",
      "EX_trp-L(e)_BS (0, 0.0)\n",
      "EX_tyr-L(e)_BS (0, 0.0)\n",
      "EX_val-L(e)_BS (0, 0.0)\n",
      "EX_photonVis(e)_BS (-200, 0.0)\n"
     ]
    }
   ],
   "source": [
    "for items in model.exchanges:\n",
    "    print(items.id, items.bounds)"
   ]
  },
  {
   "cell_type": "code",
   "execution_count": 51,
   "id": "72233635",
   "metadata": {
    "ExecuteTime": {
     "end_time": "2022-02-04T16:32:15.602475Z",
     "start_time": "2022-02-04T16:32:15.152582Z"
    }
   },
   "outputs": [
    {
     "data": {
      "text/html": [
       "<h3>sucr_c1</h3><p>C12H22O11</p><h4>Producing Reactions</h4><table border=\"1\" class=\"dataframe\">\n",
       "  <thead>\n",
       "    <tr style=\"text-align: right;\">\n",
       "      <th>Percent</th>\n",
       "      <th>Flux</th>\n",
       "      <th>Reaction</th>\n",
       "      <th>Definition</th>\n",
       "    </tr>\n",
       "  </thead>\n",
       "  <tbody>\n",
       "    <tr>\n",
       "      <td>100.00%</td>\n",
       "      <td>0.2552</td>\n",
       "      <td>SPPc_BS</td>\n",
       "      <td>h2o_c1 + suc6p_c1 --&gt; pi_c1 + sucr_c1</td>\n",
       "    </tr>\n",
       "  </tbody>\n",
       "</table><h4>Consuming Reactions</h4><table border=\"1\" class=\"dataframe\">\n",
       "  <thead>\n",
       "    <tr style=\"text-align: right;\">\n",
       "      <th>Percent</th>\n",
       "      <th>Flux</th>\n",
       "      <th>Reaction</th>\n",
       "      <th>Definition</th>\n",
       "    </tr>\n",
       "  </thead>\n",
       "  <tbody>\n",
       "    <tr>\n",
       "      <td>53.13%</td>\n",
       "      <td>-0.1356</td>\n",
       "      <td>SUSc_BS</td>\n",
       "      <td>fru-B_c1 + udpg_c1 &lt;=&gt; h_c1 + sucr_c1 + udp_c1</td>\n",
       "    </tr>\n",
       "    <tr>\n",
       "      <td>46.87%</td>\n",
       "      <td>-0.1196</td>\n",
       "      <td>Straw_Biomass_BS</td>\n",
       "      <td>0.0321 ala-L_c1 + 0.0123 arg-L_c1 + 0.0417 asp-L_c1 + 33.259 atp_c1 + 2.0789 cellulose_c1 + 0.1721 conoh_c1 + 0.2065 coumoh_c1 + 0.0071 ctp_c1 + 0.0033 cys-L_c1 + 0.0009 datp_c1 + 0.0007 dctp_c1 + 0.0007 dgtp_c1 + 0.0009 dttp_c1 + 0.00285 fa_os_r1 + 0.0643 fru-B_c1 + 0.0546 glc-A_c1 + 0.0385 glu-L_c1 + 0.0282 gly_c1 + 0.0071 gtp_c1 + 0.057 his-L_c1 + 0.014 ile-L_c1 + 0.0234 leu-L_c1 + 0.0153 lys-L_c1 + 0.0076 met-L_c1 + 0.000191 pa_os_r1 + 0.0034 pc_os_r1 + 0.00178 pe_os_r1 + 0.0133 phe-L_c1 + 0.0225 pro-L_c1 + 0.00041 ptd1ino_os_r1 + 0.0219 ser-L_c1 + 0.1475 sinoh_c1 + 0.3249 starch_s1 + 0.1049 sucr_c1 + 0.0192 thr-L_c1 + 0.0298 triglyc_os_r1 + 0.0016 trp-L_c1 + 0.0077 tyr-L_c1 + 0.1256 udparab_c1 + 0.4018 udpg_c1 + 0.0229 udpgal_c1 + 0.5033 udpglcur_c1 + 0.572 udpxyl_c1 + 0.009 utp_c1 + 0.0225 val-L_c1 --&gt; 33.259 adp_c1 + 1.626 h_c1 + 33.259 pi_c1 + 1.626 udp_c1</td>\n",
       "    </tr>\n",
       "  </tbody>\n",
       "</table>"
      ],
      "text/plain": [
       "<cobra.summary.metabolite_summary.MetaboliteSummary at 0x7f5c679daf10>"
      ]
     },
     "execution_count": 51,
     "metadata": {},
     "output_type": "execute_result"
    }
   ],
   "source": [
    "model.metabolites.sucr_c1.summary()"
   ]
  },
  {
   "cell_type": "code",
   "execution_count": 56,
   "id": "2ebbb8d6",
   "metadata": {
    "ExecuteTime": {
     "end_time": "2022-02-04T16:33:40.741425Z",
     "start_time": "2022-02-04T16:33:40.693154Z"
    }
   },
   "outputs": [
    {
     "name": "stdout",
     "output_type": "stream",
     "text": [
      "EX_co2(e)_M 0.0\n",
      "EX_h2o(e)_M 0.0\n",
      "EX_h(e)_M 0.0\n",
      "EX_no3(e)_M -0.6972352953039085\n",
      "EX_o2(e)_M 0.0\n",
      "EX_pi(e)_M -0.23521566930791948\n",
      "EX_sucr(e)_M 0.0\n",
      "EX_fru-B(e)_M 0.0\n",
      "EX_glc-A(e)_M 0.0\n",
      "EX_so4(e)_M 0.0\n",
      "EX_hco3(e)_M 0.0\n",
      "EX_so3(e)_M 0.0\n",
      "EX_h2s(e)_M -0.012423984897778701\n",
      "EX_nh4(e)_M -0.03336340559316742\n",
      "EX_asn-L(e)_M 0.0\n",
      "EX_gln-L(e)_M 0.0\n",
      "EX_etoh(e)_M 0.0\n",
      "EX_ac(e)_M 0.0\n",
      "EX_lac-L(e)_M 0.0\n",
      "EX_tsul(e)_M 0.0\n",
      "EX_fe2(e)_M 0.0\n",
      "EX_fe3(e)_M 0.0\n",
      "EX_mg2(e)_M 0.0\n",
      "EX_ala-L(e)_M 0.0\n",
      "EX_arg-L(e)_M 0.0\n",
      "EX_asp-L(e)_M 0.0\n",
      "EX_cys-L(e)_M 0.0\n",
      "EX_glu-L(e)_M 0.0\n",
      "EX_gly(e)_M 0.0\n",
      "EX_his-L(e)_M 0.0\n",
      "EX_ile-L(e)_M 0.0\n",
      "EX_leu-L(e)_M 0.0\n",
      "EX_lys-L(e)_M 0.0\n",
      "EX_met-L(e)_M 0.0\n",
      "EX_phe-L(e)_M 0.0\n",
      "EX_pro-L(e)_M 0.0\n",
      "EX_ser-L(e)_M 0.0\n",
      "EX_thr-L(e)_M 0.0\n",
      "EX_trp-L(e)_M 0.0\n",
      "EX_tyr-L(e)_M 0.0\n",
      "EX_val-L(e)_M 0.0\n",
      "EX_photonVis(e)_M -200.0\n",
      "EX_co2(e)_BS -16.263437579071514\n",
      "EX_h2o(e)_BS 0.0\n",
      "EX_h(e)_BS 0.0\n",
      "EX_no3(e)_BS 0.0\n",
      "EX_o2(e)_BS -3.312\n",
      "EX_pi(e)_BS 0.0\n",
      "EX_sucr(e)_BS 0.0\n",
      "EX_fru-B(e)_BS 0.0\n",
      "EX_glc-A(e)_BS 0.0\n",
      "EX_so4(e)_BS 0.0\n",
      "EX_hco3(e)_BS 0.0\n",
      "EX_so3(e)_BS 0.0\n",
      "EX_h2s(e)_BS 0.0\n",
      "EX_nh4(e)_BS 0.0\n",
      "EX_asn-L(e)_BS 0.0\n",
      "EX_gln-L(e)_BS 0.0\n",
      "EX_etoh(e)_BS 0.0\n",
      "EX_ac(e)_BS 0.0\n",
      "EX_lac-L(e)_BS 0.0\n",
      "EX_tsul(e)_BS 0.0\n",
      "EX_fe2(e)_BS 0.0\n",
      "EX_fe3(e)_BS 0.0\n",
      "EX_mg2(e)_BS 0.0\n",
      "EX_ala-L(e)_BS 0.0\n",
      "EX_arg-L(e)_BS 0.0\n",
      "EX_asp-L(e)_BS 0.0\n",
      "EX_cys-L(e)_BS 0.0\n",
      "EX_glu-L(e)_BS 0.0\n",
      "EX_gly(e)_BS 0.0\n",
      "EX_his-L(e)_BS 0.0\n",
      "EX_ile-L(e)_BS 0.0\n",
      "EX_leu-L(e)_BS 0.0\n",
      "EX_lys-L(e)_BS 0.0\n",
      "EX_met-L(e)_BS 0.0\n",
      "EX_phe-L(e)_BS 0.0\n",
      "EX_pro-L(e)_BS 0.0\n",
      "EX_ser-L(e)_BS 0.0\n",
      "EX_thr-L(e)_BS 0.0\n",
      "EX_trp-L(e)_BS 0.0\n",
      "EX_tyr-L(e)_BS 0.0\n",
      "EX_val-L(e)_BS 0.0\n",
      "EX_photonVis(e)_BS -200.0\n"
     ]
    }
   ],
   "source": [
    "for items in model.exchanges:\n",
    "    print(items.id, sample_fluxes[items.id])"
   ]
  },
  {
   "cell_type": "code",
   "execution_count": 40,
   "id": "67bd32cd",
   "metadata": {
    "ExecuteTime": {
     "end_time": "2022-02-04T16:02:39.710431Z",
     "start_time": "2022-02-04T16:02:39.702349Z"
    }
   },
   "outputs": [
    {
     "name": "stdout",
     "output_type": "stream",
     "text": [
      "gly_pd 0.0\n",
      "sucr_pd 0.0\n",
      "udparab_pd 0.0\n",
      "udpxyl_pd 0.0\n",
      "udpgal_pd 0.0\n",
      "udpg_pd 0.0\n",
      "udpglcur_pd 0.0\n",
      "co2_pd 0.0\n",
      "h2o_pd 0.0\n",
      "o2_pd 0.0\n",
      "pep_pd 0.0\n",
      "pyr_pd 0.0\n",
      "accoa_pd 0.0\n",
      "glu5p_pd 0.0\n",
      "akg_pd 0.0\n",
      "icit_pd 0.0\n",
      "gal_pd 0.0\n",
      "g1p_pd 0.0\n",
      "tre_pd 0.0\n",
      "tre6p_pd 0.0\n",
      "mnt_pd 0.0\n",
      "melib_pd 0.0\n",
      "stc_pd 0.0\n",
      "raffin_pd 0.0\n",
      "1Dgali_pd 0.0\n",
      "inost_pd 0.0\n",
      "cit_pd 0.0\n",
      "oxa_pd 0.0\n",
      "2pg_pd 0.0\n",
      "dhap_pd 0.0\n",
      "g3p_pd 0.0\n",
      "3pg_pd 0.0\n",
      "glyclt_pd 0.0\n",
      "succ_pd 0.0\n"
     ]
    }
   ],
   "source": [
    "#Let's try to do initial FBA\n",
    "for items in model.reactions:\n",
    "    if \"_pd\" in items.id:\n",
    "        print(items.id, sample_fluxes[items.id])"
   ]
  },
  {
   "cell_type": "code",
   "execution_count": null,
   "id": "10361fc4",
   "metadata": {
    "ExecuteTime": {
     "end_time": "2022-02-03T21:04:04.642169Z",
     "start_time": "2022-02-03T21:04:04.640378Z"
    }
   },
   "outputs": [],
   "source": [
    "#Questions:\n",
    "#Should I restrict Nutrient flow to the Bundle Sheath Cell only or should I allow flux to both the M and BS cell?\n",
    "#Apparently kasi dito only the Bundle sheath cells produce any biomass\n",
    "#This is to ensure that only CO2 and Light flux are the only limiting constraints to the system."
   ]
  }
 ],
 "metadata": {
  "kernelspec": {
   "display_name": "Python 3",
   "language": "python",
   "name": "python3"
  },
  "language_info": {
   "codemirror_mode": {
    "name": "ipython",
    "version": 3
   },
   "file_extension": ".py",
   "mimetype": "text/x-python",
   "name": "python",
   "nbconvert_exporter": "python",
   "pygments_lexer": "ipython3",
   "version": "3.8.8"
  },
  "varInspector": {
   "cols": {
    "lenName": 16,
    "lenType": 16,
    "lenVar": 40
   },
   "kernels_config": {
    "python": {
     "delete_cmd_postfix": "",
     "delete_cmd_prefix": "del ",
     "library": "var_list.py",
     "varRefreshCmd": "print(var_dic_list())"
    },
    "r": {
     "delete_cmd_postfix": ") ",
     "delete_cmd_prefix": "rm(",
     "library": "var_list.r",
     "varRefreshCmd": "cat(var_dic_list()) "
    }
   },
   "types_to_exclude": [
    "module",
    "function",
    "builtin_function_or_method",
    "instance",
    "_Feature"
   ],
   "window_display": false
  }
 },
 "nbformat": 4,
 "nbformat_minor": 5
}
