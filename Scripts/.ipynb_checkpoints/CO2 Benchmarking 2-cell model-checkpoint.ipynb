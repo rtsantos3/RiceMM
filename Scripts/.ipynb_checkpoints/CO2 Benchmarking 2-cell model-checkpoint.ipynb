{
 "cells": [
  {
   "cell_type": "code",
   "execution_count": 2,
   "id": "03a656bb",
   "metadata": {
    "ExecuteTime": {
     "end_time": "2022-02-03T20:44:33.655517Z",
     "start_time": "2022-02-03T20:44:32.978276Z"
    }
   },
   "outputs": [],
   "source": [
    "import sys\n",
    "sys.path.append(\"../src/\") \n",
    "import os\n",
    "\n",
    "import model_manipulation as mm\n",
    "import cobra\n",
    "import cplex\n",
    "import libsbml\n",
    "import pandas as pd\n",
    "import copy\n"
   ]
  },
  {
   "cell_type": "code",
   "execution_count": 3,
   "id": "8def8923",
   "metadata": {
    "ExecuteTime": {
     "end_time": "2022-02-03T20:44:38.521439Z",
     "start_time": "2022-02-03T20:44:34.705100Z"
    }
   },
   "outputs": [
    {
     "name": "stdout",
     "output_type": "stream",
     "text": [
      "Set parameter Username\n",
      "Academic license - for non-commercial use only - expires 2022-04-03\n"
     ]
    }
   ],
   "source": [
    "#Read 2-cell model\n",
    "model = cobra.io.read_sbml_model(\"../model/ios2164_2cell.xml\")\n",
    "#Estimate inf\n",
    "inf = 1e6\n"
   ]
  },
  {
   "cell_type": "code",
   "execution_count": 4,
   "id": "c6481857",
   "metadata": {
    "ExecuteTime": {
     "end_time": "2022-02-03T20:44:39.613269Z",
     "start_time": "2022-02-03T20:44:38.552902Z"
    }
   },
   "outputs": [],
   "source": [
    "#Solver\n",
    "model.solver = 'cplex'"
   ]
  },
  {
   "cell_type": "code",
   "execution_count": 5,
   "id": "19cbcb9d",
   "metadata": {
    "ExecuteTime": {
     "end_time": "2022-02-03T20:44:39.794982Z",
     "start_time": "2022-02-03T20:44:39.644767Z"
    },
    "scrolled": true
   },
   "outputs": [],
   "source": [
    "#Initialize medium so as to induce Photoautotrophic conditions (i.e. no Sucrose import)\n",
    "\n",
    "#First initialize all inputs to approximate infinity (1e6)\n",
    "for imports in model.exchanges:\n",
    "    if imports.upper_bound == 1000:\n",
    "        model.reactions.get_by_id(imports.id).upper_bound = inf\n",
    "    elif imports.lower_bound == -1000:\n",
    "        model.reactions.get_by_id(imports.id).lower_bound = -inf\n",
    "        \n",
    "mm.read_medium_csv('../misc/photo_medium.csv', model)\n",
    "\n",
    "#Test natin kung magwowork sa est. infinite\n",
    "#Yes setting bounds to 1000 works\n",
    "model_media = model.medium\n"
   ]
  },
  {
   "cell_type": "code",
   "execution_count": 7,
   "id": "8aa4ff5e",
   "metadata": {
    "ExecuteTime": {
     "end_time": "2022-02-03T20:44:51.490346Z",
     "start_time": "2022-02-03T20:44:51.483538Z"
    }
   },
   "outputs": [],
   "source": [
    "# #Add constraints to model\n",
    "\n",
    "# #BS photon flux must be the same/less than M flux (Adapted from B&B, 2019)\n",
    "BS_photon_import = model.reactions.get_by_id(\"EX_photonVis(e)_BS\")\n",
    "M_photon_import = model.reactions.get_by_id(\"EX_photonVis(e)_M\")\n",
    "\n",
    "photon_flux = model.problem.Constraint(M_photon_import.flux_expression \n",
    "                                       - BS_photon_import.flux_expression,\n",
    "                                       lb = 0, ub = 1000)\n",
    "model.add_cons_vars(photon_flux)\n",
    "\n",
    "\n",
    "# #Note: CO2 uptake is not restricted in BS cells but will be constrained to be  equal/less than M cell\n",
    "BS_co2_import = model.reactions.get_by_id(\"EX_co2(e)_BS\") \n",
    "M_co2_import = model.reactions.get_by_id(\"EX_co2(e)_M\")\n",
    "# co2_flux_cons = model.problem.Constraint(M_co2_import.flux_expression - BS_co2_import.flux_expression, lb = 0, ub = 1000)\n",
    "# model.add_cons_vars(co2_flux_cons)\n",
    "\n",
    "#CO2 Uptake must be constrained to A (Net assimilation rate) which is around 29 +- 1.2 umol CO2 m-2 s-1 for wild type rice\n",
    "co2_import_cons = model.problem.Constraint(M_co2_import.flux_expression + BS_co2_import.flux_expression, lb = -30.2, ub = 0)\n",
    "model.add_cons_vars(co2_import_cons)\n",
    "# #Oks na\n",
    "# #CO2 intake needs to be mostly in the M cells. Not sure of the exact value: \n",
    "# #try checking Danila et al. (2016) on ratio of surface area of M cell to BS cell\n",
    "# #I'll assume that the ratio is at 9.5:0.5 in the meantime, meaning that there is minimal gas exchange into the BS cell\n",
    "# # co2_ratio_cons = mm.set_fix_flux_ratio({M_co2_import.id:8, BS_co2_import.id:1},model)\n",
    "# # model.add_cons_vars(co2_ratio_cons)\n",
    "\n",
    "# #Automatic na palang nalalagay siya as constraint\n",
    "\n",
    "# #First is the BS and M Cell constraints"
   ]
  },
  {
   "cell_type": "code",
   "execution_count": 8,
   "id": "b810635b",
   "metadata": {
    "ExecuteTime": {
     "end_time": "2022-02-03T20:44:55.484251Z",
     "start_time": "2022-02-03T20:44:55.482714Z"
    }
   },
   "outputs": [],
   "source": [
    "# model.remove_cons_vars(co2_import_cons)\n",
    "# model.remove_cons_vars(co2_flux_cons)"
   ]
  },
  {
   "cell_type": "code",
   "execution_count": null,
   "id": "769d6d85",
   "metadata": {
    "ExecuteTime": {
     "end_time": "2022-02-03T20:36:19.485344Z",
     "start_time": "2022-02-03T20:36:13.713Z"
    }
   },
   "outputs": [],
   "source": [
    "#What if I restrict yung import ng O2?\n",
    "\n",
    "# M_o2_import = model.reactions.get_by_id('EX_o2_LPAREN_e_RPAREN__M')\n",
    "# BS_o2_import = model.reactions.get_by_id('EX_o2_LPAREN_e_RPAREN__BS')\n",
    "# #Let's try restricting O2 to the value from Lakshmanan et al. (2016) = 3.312 mmol O2 m-2 s-1\n",
    "# #Actually this value is also reflected in Von Caemmerer's \"Modelling C3 metabolism\" (pg. 85)\n",
    "# o2_import_cons = model.problem.Constraint(M_o2_import.flux_expression + BS_o2_import.flux_expression, lb = -3.312, ub = 0)\n",
    "# model.add_cons_vars(o2_import_cons)\n"
   ]
  },
  {
   "cell_type": "code",
   "execution_count": null,
   "id": "135e568a",
   "metadata": {
    "ExecuteTime": {
     "end_time": "2022-02-03T20:36:19.485883Z",
     "start_time": "2022-02-03T20:36:13.714Z"
    }
   },
   "outputs": [],
   "source": [
    "# #Add enzyme constraints\n",
    "\n",
    "# #PEPC\n",
    "# wt_pepc = 2.4 #umol m-2 s-1\n",
    "# wt_mdh = 11.18 #umol m-2 s-1\n",
    "# wt_nadp_me = 0.14 #umol m-2 s-1\n",
    "# wt_ppdk = 0.31 #umol m-2 s-1\n",
    "# wt_CA = 15.74 #umol m-2  s-1\n",
    "\n",
    "# #PEPC constraint (Reaction id: PPCc)\n",
    "# pepc_BS = model.reactions.PPCc_BS\n",
    "# pepc_M = model.reactions.PPCc_M\n",
    "\n",
    "# wt_pepc_cons = model.problem.Constraint(pepc_BS.flux_expression \n",
    "#                                         + pepc_M.flux_expression, \n",
    "#                                         lb = 0, ub = wt_pepc)\n",
    "# model.add_cons_vars(wt_pepc_cons)\n",
    "\n",
    "# #PPDK constraints (Reaction id: PPDKS) (note that this is found in the chloroplast?) \n",
    "# #Not detected via immunolocalization but enzyme activity is detected\n",
    "# ppdks_BS = model.reactions.PPDKs_BS\n",
    "# ppdks_M = model.reactions.PPDKs_M\n",
    "\n",
    "# wt_ppdks_cons = model.problem.Constraint(ppdks_BS.flux_expression \n",
    "#                                          + ppdks_M.flux_expression, \n",
    "#                                          lb = 0, ub = wt_ppdk)\n",
    "# model.add_cons_vars(wt_ppdks_cons)\n",
    "\n",
    "# #Malate Dehydrogenase \n",
    "# mdh2c_M = model.reactions.MDH2c_M\n",
    "# mdh2c_BS = model.reactions.MDH2c_BS\n",
    "# mdh2s_M = model.reactions.MDH2s_M\n",
    "# mdh2s_BS = model.reactions.MDH2s_BS\n",
    "\n",
    "# wt_mdh_cons = model.problem.Constraint(mdh2c_M.flux_expression \n",
    "#                                        + mdh2c_BS.flux_expression \n",
    "#                                        + mdh2s_M.flux_expression \n",
    "#                                        + mdh2s_BS.flux_expression, \n",
    "#                                        lb= 0, ub=wt_mdh)\n",
    "# model.add_cons_vars(wt_mdh_cons)\n",
    "\n",
    "\n",
    "# #NADP-ME (Since no signal is detected in WT, no locational constraints are imposed)\n",
    "# nadp_me_M = model.reactions.MDH2s_M\n",
    "# nadp_me_BS = model.reactions.MDH2s_BS\n",
    "\n",
    "# wt_nadpme_cons = model.problem.Constraint(nadp_me_M.flux_expression\n",
    "#                                          + nadp_me_BS.flux_expression,\n",
    "#                                          lb= 0, ub=wt_nadp_me)\n",
    "# model.add_cons_vars(wt_nadpme_cons)\n",
    "# #Weird, it causes the activity of RBCL to significantly vary from the actual values\n",
    "\n",
    "# #Rbcl constaints"
   ]
  },
  {
   "cell_type": "code",
   "execution_count": null,
   "id": "be544627",
   "metadata": {
    "ExecuteTime": {
     "end_time": "2022-02-03T20:36:19.486337Z",
     "start_time": "2022-02-03T20:36:13.715Z"
    }
   },
   "outputs": [],
   "source": [
    "print(model.objective)"
   ]
  },
  {
   "cell_type": "code",
   "execution_count": 9,
   "id": "322ae928",
   "metadata": {
    "ExecuteTime": {
     "end_time": "2022-02-03T20:45:07.261553Z",
     "start_time": "2022-02-03T20:45:07.227754Z"
    }
   },
   "outputs": [],
   "source": [
    "#Modifications to medium\n",
    "\n",
    "model_media['EX_photonVis(e)_M'] = 1500 #PPFD used in Ermakova et al for high light\n",
    "model_media['EX_photonVis(e)_BS'] = 1500 #PPFD used in Ermakova et al for high light \n",
    "\n",
    "#Set CO2 bounds to ~29 m-2 s-1\n",
    "model_media['EX_co2(e)_M'] = inf\n",
    "model_media['EX_co2(e)_BS'] = inf\n",
    "model_media['EX_o2(e)_M'] = inf\n",
    "model_media['EX_o2(e)_M'] = inf\n",
    "\n",
    "#Test if heterotrophic conditions fix Biomass\n",
    "#model_media['EX_sucr(e)_M'] = inf\n",
    "\n",
    "#Nope, still doesn't produce biomass.\n",
    "#How about Protons?\n",
    "model_media['EX_h(e)_M'] = inf\n",
    "model_media['EX_h(e)_BS'] = inf\n",
    "model.medium = model_media\n",
    "\n",
    "#Try nga natin may gas exchange in both.\n",
    "model.reactions.get_by_id('EX_co2(e)_M').upper_bounds = inf\n",
    "model.reactions.get_by_id('EX_co2(e)_BS').upper_bounds = inf"
   ]
  },
  {
   "cell_type": "code",
   "execution_count": 10,
   "id": "9c7aaabd",
   "metadata": {
    "ExecuteTime": {
     "end_time": "2022-02-03T20:45:10.073261Z",
     "start_time": "2022-02-03T20:45:09.393819Z"
    }
   },
   "outputs": [
    {
     "data": {
      "text/html": [
       "<strong><em>Optimal</em> solution with objective value 28080.089</strong><br><div>\n",
       "<style scoped>\n",
       "    .dataframe tbody tr th:only-of-type {\n",
       "        vertical-align: middle;\n",
       "    }\n",
       "\n",
       "    .dataframe tbody tr th {\n",
       "        vertical-align: top;\n",
       "    }\n",
       "\n",
       "    .dataframe thead th {\n",
       "        text-align: right;\n",
       "    }\n",
       "</style>\n",
       "<table border=\"1\" class=\"dataframe\">\n",
       "  <thead>\n",
       "    <tr style=\"text-align: right;\">\n",
       "      <th></th>\n",
       "      <th>fluxes</th>\n",
       "      <th>reduced_costs</th>\n",
       "    </tr>\n",
       "  </thead>\n",
       "  <tbody>\n",
       "    <tr>\n",
       "      <th>Coleoptile_Biomass_M</th>\n",
       "      <td>0.000000e+00</td>\n",
       "      <td>140769.260221</td>\n",
       "    </tr>\n",
       "    <tr>\n",
       "      <th>Straw_Biomass_M</th>\n",
       "      <td>0.000000e+00</td>\n",
       "      <td>-2.000000</td>\n",
       "    </tr>\n",
       "    <tr>\n",
       "      <th>ACCOAC_OSAc_M</th>\n",
       "      <td>0.000000e+00</td>\n",
       "      <td>-2.000000</td>\n",
       "    </tr>\n",
       "    <tr>\n",
       "      <th>ACCOAC_OSAr_M</th>\n",
       "      <td>0.000000e+00</td>\n",
       "      <td>-2.000000</td>\n",
       "    </tr>\n",
       "    <tr>\n",
       "      <th>ACPC_OSs_M</th>\n",
       "      <td>0.000000e+00</td>\n",
       "      <td>806.437248</td>\n",
       "    </tr>\n",
       "    <tr>\n",
       "      <th>...</th>\n",
       "      <td>...</td>\n",
       "      <td>...</td>\n",
       "    </tr>\n",
       "    <tr>\n",
       "      <th>dhap_pd</th>\n",
       "      <td>0.000000e+00</td>\n",
       "      <td>-2.000000</td>\n",
       "    </tr>\n",
       "    <tr>\n",
       "      <th>g3p_pd</th>\n",
       "      <td>-6.252776e-13</td>\n",
       "      <td>2.000000</td>\n",
       "    </tr>\n",
       "    <tr>\n",
       "      <th>3pg_pd</th>\n",
       "      <td>9.094947e-13</td>\n",
       "      <td>-2.000000</td>\n",
       "    </tr>\n",
       "    <tr>\n",
       "      <th>glyclt_pd</th>\n",
       "      <td>0.000000e+00</td>\n",
       "      <td>-2.000000</td>\n",
       "    </tr>\n",
       "    <tr>\n",
       "      <th>succ_pd</th>\n",
       "      <td>0.000000e+00</td>\n",
       "      <td>2.000000</td>\n",
       "    </tr>\n",
       "  </tbody>\n",
       "</table>\n",
       "<p>4922 rows × 2 columns</p>\n",
       "</div>"
      ],
      "text/plain": [
       "<Solution 28080.089 at 0x7f25f2750c40>"
      ]
     },
     "execution_count": 10,
     "metadata": {},
     "output_type": "execute_result"
    }
   ],
   "source": [
    "sample_fluxes = cobra.flux_analysis.pfba(model)\n",
    "sample_fluxes"
   ]
  },
  {
   "cell_type": "code",
   "execution_count": 11,
   "id": "ff10ba43",
   "metadata": {
    "ExecuteTime": {
     "end_time": "2022-02-03T20:45:14.981329Z",
     "start_time": "2022-02-03T20:45:14.977744Z"
    }
   },
   "outputs": [
    {
     "name": "stdout",
     "output_type": "stream",
     "text": [
      "rbcl M cell:  0.0 rbcl BS cell:  350.9662947101734\n",
      "rbcl M cell (photorespiration) 0.0 rbcl BS cell (PR) 0.0\n",
      "Biomass M:  0.0 Biomass BS 6.512819844834759\n"
     ]
    }
   ],
   "source": [
    "#This is cool, the M cell is similar to the WT rate of 83.59+-5.63 :)\n",
    "print('rbcl M cell: ', sample_fluxes['RBPCs_M'], 'rbcl BS cell: ',sample_fluxes['RBPCs_BS'])\n",
    "print('rbcl M cell (photorespiration)', sample_fluxes['RBPC2s_M'], 'rbcl BS cell (PR)', sample_fluxes['RBPC2s_BS'])\n",
    "print('Biomass M: ', sample_fluxes['Straw_Biomass_M'], 'Biomass BS', sample_fluxes['Straw_Biomass_BS'])\n",
    "\n"
   ]
  },
  {
   "cell_type": "code",
   "execution_count": null,
   "id": "095514c5",
   "metadata": {
    "ExecuteTime": {
     "end_time": "2022-02-03T20:43:33.757733Z",
     "start_time": "2022-02-03T20:43:33.553743Z"
    }
   },
   "outputs": [],
   "source": [
    "model.metabolites.co2_c0.summary()"
   ]
  },
  {
   "cell_type": "code",
   "execution_count": null,
   "id": "2ebbb8d6",
   "metadata": {
    "ExecuteTime": {
     "end_time": "2022-02-03T20:43:37.272879Z",
     "start_time": "2022-02-03T20:43:36.914676Z"
    }
   },
   "outputs": [],
   "source": [
    "for items in model.reactions:\n",
    "    print(items.id, sample_fluxes[items.id])"
   ]
  },
  {
   "cell_type": "code",
   "execution_count": null,
   "id": "8fdb3be8",
   "metadata": {
    "ExecuteTime": {
     "end_time": "2022-02-03T20:43:41.521533Z",
     "start_time": "2022-02-03T20:43:41.490034Z"
    }
   },
   "outputs": [],
   "source": [
    "#Check BS exchange bounds\n",
    "for exs in model.exchanges:\n",
    "    if \"_M\" in exs.id:\n",
    "        print(exs.id, exs.bounds)"
   ]
  },
  {
   "cell_type": "code",
   "execution_count": null,
   "id": "ec2ac8b9",
   "metadata": {
    "ExecuteTime": {
     "end_time": "2022-02-03T20:43:44.388334Z",
     "start_time": "2022-02-03T20:43:44.354557Z"
    },
    "scrolled": true
   },
   "outputs": [],
   "source": [
    "#Check BS exchange bounds\n",
    "for exs in model.exchanges:\n",
    "    if \"_BS\" in exs.id:\n",
    "        print(exs.id, exs.bounds)"
   ]
  },
  {
   "cell_type": "code",
   "execution_count": null,
   "id": "49ecc70d",
   "metadata": {
    "ExecuteTime": {
     "end_time": "2022-02-03T20:43:47.094113Z",
     "start_time": "2022-02-03T20:43:47.058435Z"
    }
   },
   "outputs": [],
   "source": [
    "#Exchange reaction fluxes\n",
    "for exs in model.exchanges:\n",
    "    print(exs.id, sample_fluxes[exs.id])"
   ]
  },
  {
   "cell_type": "code",
   "execution_count": null,
   "id": "67bd32cd",
   "metadata": {
    "ExecuteTime": {
     "end_time": "2022-02-03T20:36:19.489529Z",
     "start_time": "2022-02-03T20:36:13.722Z"
    }
   },
   "outputs": [],
   "source": [
    "#Let's try to do initial FBA\n",
    "model.reactions.pep_pd"
   ]
  },
  {
   "cell_type": "code",
   "execution_count": null,
   "id": "50eae83e",
   "metadata": {
    "ExecuteTime": {
     "end_time": "2022-02-03T20:36:19.489886Z",
     "start_time": "2022-02-03T20:36:13.722Z"
    }
   },
   "outputs": [],
   "source": [
    "#Questions:\n",
    "#Should I restrict Nutrient flow to the Bundle Sheath Cell only or should I allow flux to both the M and BS cell?\n",
    "#Apparently kasi dito only the Bundle sheath cells produce any biomass\n",
    "#This is to ensure that only CO2 and Light flux are the only limiting constraints to the system."
   ]
  }
 ],
 "metadata": {
  "kernelspec": {
   "display_name": "Python 3",
   "language": "python",
   "name": "python3"
  },
  "language_info": {
   "codemirror_mode": {
    "name": "ipython",
    "version": 3
   },
   "file_extension": ".py",
   "mimetype": "text/x-python",
   "name": "python",
   "nbconvert_exporter": "python",
   "pygments_lexer": "ipython3",
   "version": "3.8.8"
  },
  "varInspector": {
   "cols": {
    "lenName": 16,
    "lenType": 16,
    "lenVar": 40
   },
   "kernels_config": {
    "python": {
     "delete_cmd_postfix": "",
     "delete_cmd_prefix": "del ",
     "library": "var_list.py",
     "varRefreshCmd": "print(var_dic_list())"
    },
    "r": {
     "delete_cmd_postfix": ") ",
     "delete_cmd_prefix": "rm(",
     "library": "var_list.r",
     "varRefreshCmd": "cat(var_dic_list()) "
    }
   },
   "types_to_exclude": [
    "module",
    "function",
    "builtin_function_or_method",
    "instance",
    "_Feature"
   ],
   "window_display": false
  }
 },
 "nbformat": 4,
 "nbformat_minor": 5
}
