{
 "cells": [
  {
   "cell_type": "code",
   "execution_count": 1,
   "id": "03a656bb",
   "metadata": {
    "ExecuteTime": {
     "end_time": "2022-02-07T21:05:17.428541Z",
     "start_time": "2022-02-07T21:05:16.637752Z"
    }
   },
   "outputs": [],
   "source": [
    "import sys\n",
    "sys.path.append(\"../src/\") \n",
    "import os\n",
    "\n",
    "import model_manipulation as mm\n",
    "import cobra\n",
    "import cplex\n",
    "import libsbml\n",
    "import pandas as pd\n",
    "import copy\n"
   ]
  },
  {
   "cell_type": "code",
   "execution_count": 2,
   "id": "8def8923",
   "metadata": {
    "ExecuteTime": {
     "end_time": "2022-02-07T21:05:21.212893Z",
     "start_time": "2022-02-07T21:05:17.429791Z"
    }
   },
   "outputs": [
    {
     "name": "stdout",
     "output_type": "stream",
     "text": [
      "Set parameter Username\n",
      "Academic license - for non-commercial use only - expires 2022-04-03\n"
     ]
    }
   ],
   "source": [
    "#Read 2-cell model\n",
    "model = cobra.io.read_sbml_model(\"../model/ios2164_2cell.xml\")\n",
    "#Estimate inf\n",
    "inf = 1e6\n"
   ]
  },
  {
   "cell_type": "code",
   "execution_count": 3,
   "id": "c6481857",
   "metadata": {
    "ExecuteTime": {
     "end_time": "2022-02-07T21:05:22.302318Z",
     "start_time": "2022-02-07T21:05:21.213944Z"
    }
   },
   "outputs": [],
   "source": [
    "#Solver\n",
    "model.solver = 'cplex'"
   ]
  },
  {
   "cell_type": "code",
   "execution_count": 4,
   "id": "19cbcb9d",
   "metadata": {
    "ExecuteTime": {
     "end_time": "2022-02-07T21:05:22.423344Z",
     "start_time": "2022-02-07T21:05:22.303345Z"
    },
    "scrolled": true
   },
   "outputs": [
    {
     "data": {
      "text/plain": [
       "{'EX_co2(e)': 1000000,\n",
       " 'EX_h2o(e)': 1000000,\n",
       " 'EX_no3(e)': 1000000,\n",
       " 'EX_o2(e)': 1000000,\n",
       " 'EX_pi(e)': 1000000,\n",
       " 'EX_so4(e)': 1000000,\n",
       " 'EX_so3(e)': 1000000,\n",
       " 'EX_h2s(e)': 1000000,\n",
       " 'EX_nh4(e)': 1000000,\n",
       " 'EX_fe2(e)': 1000000,\n",
       " 'EX_fe3(e)': 1000000,\n",
       " 'EX_mg2(e)': 1000000,\n",
       " 'EX_photonVis(e)': 1000000}"
      ]
     },
     "execution_count": 4,
     "metadata": {},
     "output_type": "execute_result"
    }
   ],
   "source": [
    "#Initialize medium so as to induce Photoautotrophic conditions (i.e. no Sucrose import)\n",
    "mm.read_medium_csv('../misc/photo_medium.csv', model)\n",
    "\n",
    "#Test natin kung magwowork sa est. infinite\n",
    "#Yes setting bounds to 1000 works\n",
    "model_media = model.medium\n",
    "model.medium"
   ]
  },
  {
   "cell_type": "code",
   "execution_count": 5,
   "id": "8aa4ff5e",
   "metadata": {
    "ExecuteTime": {
     "end_time": "2022-02-07T21:05:22.427931Z",
     "start_time": "2022-02-07T21:05:22.424174Z"
    }
   },
   "outputs": [],
   "source": [
    "# #Add constraints to model\n",
    "\n",
    "# #BS photon flux must be the same/less than M flux (Adapted from B&B, 2019)\n",
    "# photon_import = model.reactions.get_by_id(\"EX_photonVis(e)\")\n",
    "\n",
    "BS_photon_import = model.reactions.PRISM_blue_LED_BS\n",
    "M_photon_import = model.reactions.PRISM_blue_LED_M\n",
    "\n",
    "photon_flux = model.problem.Constraint(M_photon_import.flux_expression \n",
    "                                       - BS_photon_import.flux_expression,\n",
    "                                       lb = 0, ub = 1000)\n",
    "model.add_cons_vars(photon_flux)\n",
    "\n",
    "\n",
    "co2tex_m = model.reactions.CO2tex_M\n",
    "co2tex_bs = model.reactions.CO2tex_BS\n",
    "\n",
    "#CO2 Uptake must be constrained to A (Net assimilation rate) which is around 29 +- 1.2 umol CO2 m-2 s-1 for wild type rice\n",
    "co2_import_cons = model.problem.Constraint(co2tex_m.flux_expression \n",
    "                                           + co2tex_bs.flux_expression, lb = 0, ub = 29)\n",
    "model.add_cons_vars(co2_import_cons)\n",
    "\n",
    "#CO2 BS intake must be limited owing to its position in the leaf tissue\n",
    "\n",
    "model.add_cons_vars(model.problem.Constraint(co2tex_bs.flux_expression, lb = 0, ub = 2))\n",
    "# #Note: CO2 uptake is not restricted in BS cells but will be constrained to be  equal/less than M cell\n",
    "\n",
    "# co2_flux_cons = model.problem.Constraint(BS_co2_import.flux_expression - M_co2_import.flux_expression, lb = 0, ub = inf)\n",
    "# model.add_cons_vars(co2_flux_cons)\n",
    "\n",
    "# #Oks na\n",
    "\n",
    "# #CO2 intake needs to be mostly in the M cells. Not sure of the exact value:\n",
    "# Values from Von Caemmerer (2000) in mixed C3-C4 photosynthetic plants is 1 umol CO2 m-2 s-1 per 20 CO2 m-2 s-1. \n",
    "# #try checking Danila et al. (2016) on ratio of surface area of M cell to BS cell\n",
    "# #I'll assume that the ratio is at 9.5:0.5 in the meantime, meaning that there is minimal gas exchange into the BS cell\n",
    "#co2_ratio_cons = mm.set_fix_flux_ratio({co2tex_m.id:10, co2tex_bs.id:1},model)\n",
    "\n",
    "\n",
    "# #Automatic na palang nalalagay siya as constraint\n",
    "\n",
    "# #First is the BS and M Cell constraints"
   ]
  },
  {
   "cell_type": "code",
   "execution_count": 6,
   "id": "3e0e5cab",
   "metadata": {
    "ExecuteTime": {
     "end_time": "2022-02-07T21:05:22.432270Z",
     "start_time": "2022-02-07T21:05:22.428749Z"
    }
   },
   "outputs": [],
   "source": [
    "#model.remove_cons_vars(co2_ratio_cons)"
   ]
  },
  {
   "cell_type": "code",
   "execution_count": 7,
   "id": "0ae74e35",
   "metadata": {
    "ExecuteTime": {
     "end_time": "2022-02-07T21:05:22.436097Z",
     "start_time": "2022-02-07T21:05:22.433134Z"
    }
   },
   "outputs": [],
   "source": [
    "# print(co2_flux_cons)"
   ]
  },
  {
   "cell_type": "code",
   "execution_count": 8,
   "id": "1fcb19df",
   "metadata": {
    "ExecuteTime": {
     "end_time": "2022-02-07T21:05:22.440747Z",
     "start_time": "2022-02-07T21:05:22.438892Z"
    },
    "code_folding": []
   },
   "outputs": [],
   "source": [
    "# model.remove_cons_vars(co2_import_cons)\n",
    "# model.remove_cons_vars(co2_flux_cons)"
   ]
  },
  {
   "cell_type": "code",
   "execution_count": 9,
   "id": "769d6d85",
   "metadata": {
    "ExecuteTime": {
     "end_time": "2022-02-07T21:05:22.449860Z",
     "start_time": "2022-02-07T21:05:22.442464Z"
    }
   },
   "outputs": [],
   "source": [
    "#What if I restrict yung import ng O2?\n",
    "\n",
    "#Let's try restricting O2 to the value from Lakshmanan et al. (2016) = 3.312 mmol O2 m-2 s-1\n",
    "#Actually this value is also reflected in Von Caemmerer's \"Modelling C3 metabolism\" (pg. 85)\n",
    "o2tex_M = model.reactions.O2tex_M\n",
    "o2tex_BS = model.reactions.O2tex_BS\n",
    "o2_import_cons = model.problem.Constraint(o2tex_M.flux_expression + o2tex_BS.flux_expression, lb = -5, ub = inf)\n",
    "model.add_cons_vars(o2_import_cons)"
   ]
  },
  {
   "cell_type": "code",
   "execution_count": 10,
   "id": "135e568a",
   "metadata": {
    "ExecuteTime": {
     "end_time": "2022-02-07T21:05:22.460157Z",
     "start_time": "2022-02-07T21:05:22.451203Z"
    }
   },
   "outputs": [],
   "source": [
    "# #Add enzyme constraints\n",
    "\n",
    "# #PEPC\n",
    "wt_pepc = 2.4 #umol m-2 s-1\n",
    "wt_mdh = 11.18 #umol m-2 s-1\n",
    "wt_nadp_me = 0.14 #umol m-2 s-1\n",
    "wt_ppdk = 0.31 #umol m-2 s-1\n",
    "wt_CA = 15.74 #umol m-2  s-1\n",
    "\n",
    "#PEPC constraint (Reaction id: PPCc)\n",
    "pepc_BS = model.reactions.PPCc_BS\n",
    "pepc_M = model.reactions.PPCc_M\n",
    "\n",
    "wt_pepc_cons = model.problem.Constraint(pepc_BS.flux_expression \n",
    "                                        + pepc_M.flux_expression, \n",
    "                                        lb = 0, ub = wt_pepc)\n",
    "model.add_cons_vars(wt_pepc_cons)\n",
    "\n",
    "#PPDK constraints (Reaction id: PPDKS) (note that this is found in the chloroplast?) \n",
    "#Not detected via immunolocalization but enzyme activity is detected\n",
    "ppdks_BS = model.reactions.PPDKs_BS\n",
    "ppdks_M = model.reactions.PPDKs_M\n",
    "\n",
    "wt_ppdks_cons = model.problem.Constraint(ppdks_BS.flux_expression \n",
    "                                         + ppdks_M.flux_expression, \n",
    "                                         lb = 0, ub = wt_ppdk)\n",
    "model.add_cons_vars(wt_ppdks_cons)\n",
    "\n",
    "#Malate Dehydrogenase \n",
    "mdh2c_M = model.reactions.MDH2c_M\n",
    "mdh2c_BS = model.reactions.MDH2c_BS\n",
    "mdh2s_M = model.reactions.MDH2s_M\n",
    "mdh2s_BS = model.reactions.MDH2s_BS\n",
    "\n",
    "wt_mdh_cons = model.problem.Constraint(mdh2c_M.flux_expression \n",
    "                                       + mdh2c_BS.flux_expression \n",
    "                                       + mdh2s_M.flux_expression \n",
    "                                       + mdh2s_BS.flux_expression, \n",
    "                                       lb= 0, ub=wt_mdh)\n",
    "model.add_cons_vars(wt_mdh_cons)\n",
    "\n",
    "\n",
    "#NADP-ME (Since no signal is detected in WT, no locational constraints are imposed)\n",
    "nadp_me_M = model.reactions.MDH2s_M\n",
    "nadp_me_BS = model.reactions.MDH2s_BS\n",
    "\n",
    "wt_nadpme_cons = model.problem.Constraint(nadp_me_M.flux_expression\n",
    "                                         + nadp_me_BS.flux_expression,\n",
    "                                         lb= 0, ub=wt_nadp_me)\n",
    "model.add_cons_vars(wt_nadpme_cons)\n",
    "#Weird, it causes the activity of RBCL to significantly vary from the actual values\n",
    "\n",
    "#Rbcl constaints"
   ]
  },
  {
   "cell_type": "code",
   "execution_count": 11,
   "id": "ee023417",
   "metadata": {
    "ExecuteTime": {
     "end_time": "2022-02-07T21:05:22.465100Z",
     "start_time": "2022-02-07T21:05:22.461116Z"
    }
   },
   "outputs": [],
   "source": [
    "#Turn off old photorespiratory reaction in ios2164 model\n",
    "model.reactions.RBPC2s_M.bounds = (0,0)\n",
    "model.reactions.RBPC2s_BS.bounds = (0,0)"
   ]
  },
  {
   "cell_type": "code",
   "execution_count": 27,
   "id": "f317f8dd",
   "metadata": {
    "ExecuteTime": {
     "end_time": "2022-02-07T21:07:34.401947Z",
     "start_time": "2022-02-07T21:07:34.398982Z"
    }
   },
   "outputs": [],
   "source": [
    "#Let's try to add Rubisco flux ratio\n",
    "\n",
    "rbpc_M = model.reactions.RBPCs_M\n",
    "rbpc_BS = model.reactions.RBPCs_BS\n",
    "rbpo_M = model.reactions.RBPOs_M\n",
    "rbpo_BS = model.reactions.RBPOs_BS\n",
    "\n",
    "#Constraint such that it is limited to 132 umol m-2 s-1\n",
    "rbcl_vcmax_cons = model.problem.Constraint(rbpc_M.flux_expression + rbpc_BS.flux_expression, lb = 0, ub= 132)\n",
    "\n",
    "model.add_cons_vars(rbcl_cons)"
   ]
  },
  {
   "cell_type": "code",
   "execution_count": 29,
   "id": "68439140",
   "metadata": {
    "ExecuteTime": {
     "end_time": "2022-02-07T21:10:28.496682Z",
     "start_time": "2022-02-07T21:10:28.489754Z"
    }
   },
   "outputs": [],
   "source": [
    "#Constraints for rbcl flux\n",
    "\n",
    "rbcl_vcvo_ratio = mm.set_fix_flux_ratio({rbpc_M.id:3, rbpo_M.id:1}, model)\n",
    "model.add_cons_vars(rbcl_vcvo_ratio)"
   ]
  },
  {
   "cell_type": "code",
   "execution_count": 13,
   "id": "09fa7f27",
   "metadata": {
    "ExecuteTime": {
     "end_time": "2022-02-07T21:05:22.499055Z",
     "start_time": "2022-02-07T21:05:22.470914Z"
    }
   },
   "outputs": [],
   "source": [
    "#Modifications to medium\n",
    "\n",
    "model_media['EX_photonVis(e)'] = 1500 #PPFD used in Ermakova et al for high light\n",
    "\n",
    "#Set CO2 bounds to ~29 m-2 s-1\n",
    "model_media['EX_co2(e)'] = inf\n",
    "model_media['EX_o2(e)'] = inf\n",
    "\n",
    "#Test if heterotrophic conditions fix Biomass\n",
    "#model_media['EX_sucr(e)_M'] = inf\n",
    "\n",
    "#Nope, still doesn't produce biomass.\n",
    "#How about Protons?\n",
    "model_media['EX_h(e)'] = 0\n",
    "#What if I constrained nitrogen uptake?\n",
    "model_media['EX_no3(e)'] = inf\n",
    "model_media['EX_nh4(e)'] = inf\n",
    "model.medium = model_media\n",
    "\n"
   ]
  },
  {
   "cell_type": "code",
   "execution_count": 14,
   "id": "8eba2f2b",
   "metadata": {
    "ExecuteTime": {
     "end_time": "2022-02-07T21:05:22.501269Z",
     "start_time": "2022-02-07T21:05:22.499932Z"
    }
   },
   "outputs": [],
   "source": [
    "#Let's try nga changing yung model objective\n",
    "# with model:\n",
    "#     ex_sucr = model.reactions.get_by_id('EX_sucr(e)')\n",
    "#     model.reactions.get_by_id('EX_sucr(e)').bounds = (0, 10000000)\n",
    "#     #Set model objective to max sucrose\n",
    "#     ex_sucr.objective_coefficient = 1.0\n",
    "#     print(model.objective)\n"
   ]
  },
  {
   "cell_type": "code",
   "execution_count": 30,
   "id": "9c7aaabd",
   "metadata": {
    "ExecuteTime": {
     "end_time": "2022-02-07T21:10:33.615706Z",
     "start_time": "2022-02-07T21:10:32.959876Z"
    }
   },
   "outputs": [
    {
     "data": {
      "text/html": [
       "<h3>Objective</h3><p>0.5 Straw_Biomass_M + 0.5 Straw_Biomass_BS = 1.2416182059453866</p><h4>Uptake</h4><table border=\"1\" class=\"dataframe\">\n",
       "  <thead>\n",
       "    <tr style=\"text-align: right;\">\n",
       "      <th>Metabolite</th>\n",
       "      <th>Reaction</th>\n",
       "      <th>Flux</th>\n",
       "      <th>C-Number</th>\n",
       "      <th>C-Flux</th>\n",
       "    </tr>\n",
       "  </thead>\n",
       "  <tbody>\n",
       "    <tr>\n",
       "      <td>co2_e</td>\n",
       "      <td>EX_co2(e)</td>\n",
       "      <td>29</td>\n",
       "      <td>1</td>\n",
       "      <td>100.00%</td>\n",
       "    </tr>\n",
       "    <tr>\n",
       "      <td>h2s_e</td>\n",
       "      <td>EX_h2s(e)</td>\n",
       "      <td>0.02707</td>\n",
       "      <td>0</td>\n",
       "      <td>0.00%</td>\n",
       "    </tr>\n",
       "    <tr>\n",
       "      <td>no3_e</td>\n",
       "      <td>EX_no3(e)</td>\n",
       "      <td>1.592</td>\n",
       "      <td>0</td>\n",
       "      <td>0.00%</td>\n",
       "    </tr>\n",
       "    <tr>\n",
       "      <td>o2_e</td>\n",
       "      <td>EX_o2(e)</td>\n",
       "      <td>16.72</td>\n",
       "      <td>0</td>\n",
       "      <td>0.00%</td>\n",
       "    </tr>\n",
       "    <tr>\n",
       "      <td>photonVis_e</td>\n",
       "      <td>EX_photonVis(e)</td>\n",
       "      <td>974.7</td>\n",
       "      <td>0</td>\n",
       "      <td>0.00%</td>\n",
       "    </tr>\n",
       "    <tr>\n",
       "      <td>pi_e</td>\n",
       "      <td>EX_pi(e)</td>\n",
       "      <td>0.5124</td>\n",
       "      <td>0</td>\n",
       "      <td>0.00%</td>\n",
       "    </tr>\n",
       "  </tbody>\n",
       "</table><h4>Secretion</h4><table border=\"1\" class=\"dataframe\">\n",
       "  <thead>\n",
       "    <tr style=\"text-align: right;\">\n",
       "      <th>Metabolite</th>\n",
       "      <th>Reaction</th>\n",
       "      <th>Flux</th>\n",
       "      <th>C-Number</th>\n",
       "      <th>C-Flux</th>\n",
       "    </tr>\n",
       "  </thead>\n",
       "  <tbody>\n",
       "    <tr>\n",
       "      <td>coa_c1</td>\n",
       "      <td>DM_COA(c)_BS</td>\n",
       "      <td>-2.507E-05</td>\n",
       "      <td>21</td>\n",
       "      <td>100.00%</td>\n",
       "    </tr>\n",
       "    <tr>\n",
       "      <td>photonDrain_u1</td>\n",
       "      <td>DM_photonDrain(u)_BS</td>\n",
       "      <td>-252.1</td>\n",
       "      <td>0</td>\n",
       "      <td>0.00%</td>\n",
       "    </tr>\n",
       "    <tr>\n",
       "      <td>photonDrain_u0</td>\n",
       "      <td>DM_photonDrain(u)_M</td>\n",
       "      <td>-75.65</td>\n",
       "      <td>0</td>\n",
       "      <td>0.00%</td>\n",
       "    </tr>\n",
       "  </tbody>\n",
       "</table>"
      ],
      "text/plain": [
       "<cobra.summary.model_summary.ModelSummary at 0x7f9f7b080e50>"
      ]
     },
     "execution_count": 30,
     "metadata": {},
     "output_type": "execute_result"
    }
   ],
   "source": [
    "sample_fluxes = cobra.flux_analysis.pfba(model)\n",
    "model.summary()"
   ]
  },
  {
   "cell_type": "code",
   "execution_count": 31,
   "id": "79b4c615",
   "metadata": {
    "ExecuteTime": {
     "end_time": "2022-02-07T21:10:41.932943Z",
     "start_time": "2022-02-07T21:10:41.704600Z"
    }
   },
   "outputs": [
    {
     "data": {
      "text/html": [
       "<h3>co2_e</h3><p>CO2</p><h4>Producing Reactions</h4><table border=\"1\" class=\"dataframe\">\n",
       "  <thead>\n",
       "    <tr style=\"text-align: right;\">\n",
       "      <th>Percent</th>\n",
       "      <th>Flux</th>\n",
       "      <th>Reaction</th>\n",
       "      <th>Definition</th>\n",
       "    </tr>\n",
       "  </thead>\n",
       "  <tbody>\n",
       "    <tr>\n",
       "      <td>100.00%</td>\n",
       "      <td>29</td>\n",
       "      <td>EX_co2(e)</td>\n",
       "      <td>co2_e &lt;--</td>\n",
       "    </tr>\n",
       "  </tbody>\n",
       "</table><h4>Consuming Reactions</h4><table border=\"1\" class=\"dataframe\">\n",
       "  <thead>\n",
       "    <tr style=\"text-align: right;\">\n",
       "      <th>Percent</th>\n",
       "      <th>Flux</th>\n",
       "      <th>Reaction</th>\n",
       "      <th>Definition</th>\n",
       "    </tr>\n",
       "  </thead>\n",
       "  <tbody>\n",
       "    <tr>\n",
       "      <td>6.90%</td>\n",
       "      <td>-2</td>\n",
       "      <td>CO2tex_BS</td>\n",
       "      <td>co2_e &lt;=&gt; co2_c1</td>\n",
       "    </tr>\n",
       "    <tr>\n",
       "      <td>93.10%</td>\n",
       "      <td>-27</td>\n",
       "      <td>CO2tex_M</td>\n",
       "      <td>co2_e &lt;=&gt; co2_c0</td>\n",
       "    </tr>\n",
       "  </tbody>\n",
       "</table>"
      ],
      "text/plain": [
       "<cobra.summary.metabolite_summary.MetaboliteSummary at 0x7f9f7a0dae20>"
      ]
     },
     "execution_count": 31,
     "metadata": {},
     "output_type": "execute_result"
    }
   ],
   "source": [
    "model.metabolites.co2_e.summary()"
   ]
  },
  {
   "cell_type": "code",
   "execution_count": 32,
   "id": "ff10ba43",
   "metadata": {
    "ExecuteTime": {
     "end_time": "2022-02-07T21:10:44.959535Z",
     "start_time": "2022-02-07T21:10:44.952443Z"
    },
    "scrolled": true
   },
   "outputs": [
    {
     "name": "stdout",
     "output_type": "stream",
     "text": [
      "rbcl M cell:  0.0 rbcl BS cell:  132.0\n",
      "rbcl M cell (photorespiration) 0.0 rbcl BS cell (PR) 0.0\n",
      "rbcl M cell (photorespiration) (orig) 0.0 rbcl BS cell (PR) (orig) 0.0\n",
      "Biomass M:  1.1025519000490935 Biomass BS 1.3806845118416744\n",
      "co2 consumption M 27.0 co2 consumption BS 2.0\n"
     ]
    }
   ],
   "source": [
    "#This is cool, the M cell is similar to the WT rate of 83.59+-5.63 :)\n",
    "print('rbcl M cell: ', sample_fluxes['RBPCs_M'], 'rbcl BS cell: ',sample_fluxes['RBPCs_BS'])\n",
    "print('rbcl M cell (photorespiration)', sample_fluxes['RBPOs_M'], 'rbcl BS cell (PR)', sample_fluxes['RBPOs_BS'])\n",
    "print('rbcl M cell (photorespiration) (orig)', sample_fluxes['RBPC2s_M'], 'rbcl BS cell (PR) (orig)', sample_fluxes['RBPC2s_BS'])\n",
    "print('Biomass M: ', sample_fluxes['Straw_Biomass_M'], 'Biomass BS', sample_fluxes['Straw_Biomass_BS'])\n",
    "print('co2 consumption M', sample_fluxes[co2tex_m.id], 'co2 consumption BS', sample_fluxes[co2tex_bs.id])\n"
   ]
  },
  {
   "cell_type": "code",
   "execution_count": 39,
   "id": "8e833520",
   "metadata": {
    "ExecuteTime": {
     "end_time": "2022-02-07T21:13:14.259041Z",
     "start_time": "2022-02-07T21:13:14.243383Z"
    }
   },
   "outputs": [
    {
     "name": "stdout",
     "output_type": "stream",
     "text": [
      "gly_pd 0.0\n",
      "sucr_pd 0.0\n",
      "udparab_pd -0.13848051864616615\n",
      "udpxyl_pd -0.6306596868280815\n",
      "udpgal_pd 0.03161767532117435\n",
      "udpg_pd 1.2967077939248188\n",
      "udpglcur_pd -0.5352994217168854\n",
      "co2_pd 32.868488991188904\n",
      "h2o_pd 0.0\n",
      "o2_pd 11.901955261700524\n",
      "pep_pd -1.1930167749860205\n",
      "pyr_pd -0.13690439679287436\n",
      "accoa_pd 1.1131584357837454e-05\n",
      "glu5p_pd 0.031065401516437673\n",
      "akg_pd 0.0\n",
      "icit_pd 0.05315635370590499\n",
      "gal_pd 0.0\n",
      "g1p_pd 10.147087475842895\n",
      "tre_pd 0.0\n",
      "tre6p_pd 0.0\n",
      "mnt_pd 0.0\n",
      "melib_pd 0.0\n",
      "stc_pd 0.0\n",
      "raffin_pd 0.0\n",
      "1Dgali_pd 0.0\n",
      "inost_pd 0.0\n",
      "cit_pd 0.0\n",
      "oxa_pd 0.0\n",
      "2pg_pd 0.0\n",
      "dhap_pd 0.0\n",
      "g3p_pd 0.0\n",
      "3pg_pd -35.67691303660756\n",
      "glyclt_pd 0.0\n",
      "succ_pd 0.0\n"
     ]
    }
   ],
   "source": [
    "pd_rxns = [rxns for rxns in model.reactions if \"_pd\" in rxns.id]\n",
    "\n",
    "for items in pd_rxns:\n",
    "    print(items.id, sample_fluxes[items.id])"
   ]
  },
  {
   "cell_type": "code",
   "execution_count": 42,
   "id": "89e7d25b",
   "metadata": {
    "ExecuteTime": {
     "end_time": "2022-02-07T21:19:09.668225Z",
     "start_time": "2022-02-07T21:19:08.856953Z"
    }
   },
   "outputs": [
    {
     "data": {
      "text/html": [
       "<h3>Objective</h3><p>0.5 Straw_Biomass_M + 0.5 Straw_Biomass_BS = 1.2416182059453842</p><h4>Uptake</h4><table border=\"1\" class=\"dataframe\">\n",
       "  <thead>\n",
       "    <tr style=\"text-align: right;\">\n",
       "      <th>Metabolite</th>\n",
       "      <th>Reaction</th>\n",
       "      <th>Flux</th>\n",
       "      <th>C-Number</th>\n",
       "      <th>C-Flux</th>\n",
       "    </tr>\n",
       "  </thead>\n",
       "  <tbody>\n",
       "    <tr>\n",
       "      <td>co2_e</td>\n",
       "      <td>EX_co2(e)</td>\n",
       "      <td>29</td>\n",
       "      <td>1</td>\n",
       "      <td>100.00%</td>\n",
       "    </tr>\n",
       "    <tr>\n",
       "      <td>h2s_e</td>\n",
       "      <td>EX_h2s(e)</td>\n",
       "      <td>0.02707</td>\n",
       "      <td>0</td>\n",
       "      <td>0.00%</td>\n",
       "    </tr>\n",
       "    <tr>\n",
       "      <td>no3_e</td>\n",
       "      <td>EX_no3(e)</td>\n",
       "      <td>1.592</td>\n",
       "      <td>0</td>\n",
       "      <td>0.00%</td>\n",
       "    </tr>\n",
       "    <tr>\n",
       "      <td>o2_e</td>\n",
       "      <td>EX_o2(e)</td>\n",
       "      <td>16.72</td>\n",
       "      <td>0</td>\n",
       "      <td>0.00%</td>\n",
       "    </tr>\n",
       "    <tr>\n",
       "      <td>photonVis_e</td>\n",
       "      <td>EX_photonVis(e)</td>\n",
       "      <td>974.7</td>\n",
       "      <td>0</td>\n",
       "      <td>0.00%</td>\n",
       "    </tr>\n",
       "    <tr>\n",
       "      <td>pi_e</td>\n",
       "      <td>EX_pi(e)</td>\n",
       "      <td>0.5124</td>\n",
       "      <td>0</td>\n",
       "      <td>0.00%</td>\n",
       "    </tr>\n",
       "  </tbody>\n",
       "</table><h4>Secretion</h4><table border=\"1\" class=\"dataframe\">\n",
       "  <thead>\n",
       "    <tr style=\"text-align: right;\">\n",
       "      <th>Metabolite</th>\n",
       "      <th>Reaction</th>\n",
       "      <th>Flux</th>\n",
       "      <th>C-Number</th>\n",
       "      <th>C-Flux</th>\n",
       "    </tr>\n",
       "  </thead>\n",
       "  <tbody>\n",
       "    <tr>\n",
       "      <td>coa_c1</td>\n",
       "      <td>DM_COA(c)_BS</td>\n",
       "      <td>-2.507E-05</td>\n",
       "      <td>21</td>\n",
       "      <td>100.00%</td>\n",
       "    </tr>\n",
       "    <tr>\n",
       "      <td>photonDrain_u1</td>\n",
       "      <td>DM_photonDrain(u)_BS</td>\n",
       "      <td>-252.1</td>\n",
       "      <td>0</td>\n",
       "      <td>0.00%</td>\n",
       "    </tr>\n",
       "    <tr>\n",
       "      <td>photonDrain_u0</td>\n",
       "      <td>DM_photonDrain(u)_M</td>\n",
       "      <td>-75.65</td>\n",
       "      <td>0</td>\n",
       "      <td>0.00%</td>\n",
       "    </tr>\n",
       "  </tbody>\n",
       "</table>"
      ],
      "text/plain": [
       "<cobra.summary.model_summary.ModelSummary at 0x7f9fc0fd50a0>"
      ]
     },
     "execution_count": 42,
     "metadata": {},
     "output_type": "execute_result"
    }
   ],
   "source": [
    "#Let's turn off pd transport of co2\n",
    "with model:\n",
    "    model.reactions.co2_pd.bounds = (0,0)\n",
    "    sample_fluxes = cobra.flux_analysis.pfba(model)\n",
    "model.summary()"
   ]
  },
  {
   "cell_type": "code",
   "execution_count": 45,
   "id": "d684cffc",
   "metadata": {
    "ExecuteTime": {
     "end_time": "2022-02-07T21:19:45.557343Z",
     "start_time": "2022-02-07T21:19:45.546684Z"
    }
   },
   "outputs": [
    {
     "name": "stdout",
     "output_type": "stream",
     "text": [
      "rbcl M cell:  -1.2043699371133698e-12 rbcl BS cell:  132.0000000000012\n",
      "rbcl M cell (photorespiration) -4.014566457044566e-13 rbcl BS cell (PR) 0.0\n",
      "rbcl M cell (photorespiration) (orig) 0.0 rbcl BS cell (PR) (orig) 0.0\n",
      "Biomass M:  1.6146453903827407 Biomass BS 0.8685910215080321\n",
      "co2 consumption M 27.0 co2 consumption BS 2.0\n"
     ]
    }
   ],
   "source": [
    "#This is cool, the M cell is similar to the WT rate of 83.59+-5.63 :)\n",
    "print('rbcl M cell: ', sample_fluxes['RBPCs_M'], 'rbcl BS cell: ',sample_fluxes['RBPCs_BS'])\n",
    "print('rbcl M cell (photorespiration)', sample_fluxes['RBPOs_M'], 'rbcl BS cell (PR)', sample_fluxes['RBPOs_BS'])\n",
    "print('rbcl M cell (photorespiration) (orig)', sample_fluxes['RBPC2s_M'], 'rbcl BS cell (PR) (orig)', sample_fluxes['RBPC2s_BS'])\n",
    "print('Biomass M: ', sample_fluxes['Straw_Biomass_M'], 'Biomass BS', sample_fluxes['Straw_Biomass_BS'])\n",
    "print('co2 consumption M', sample_fluxes[co2tex_m.id], 'co2 consumption BS', sample_fluxes[co2tex_bs.id])\n",
    "\n",
    "#Wtf it produced  negative flux"
   ]
  },
  {
   "cell_type": "code",
   "execution_count": 46,
   "id": "e9bc7693",
   "metadata": {
    "ExecuteTime": {
     "end_time": "2022-02-07T21:20:12.241852Z",
     "start_time": "2022-02-07T21:20:12.233431Z"
    }
   },
   "outputs": [
    {
     "name": "stdout",
     "output_type": "stream",
     "text": [
      "gly_pd 0.0\n",
      "sucr_pd 0.0\n",
      "udparab_pd -0.20279946103207222\n",
      "udpxyl_pd -0.9235771632989276\n",
      "udpgal_pd 0.0\n",
      "udpg_pd 1.9253289251651162\n",
      "udpglcur_pd -0.7839256761620292\n",
      "co2_pd 0.0\n",
      "h2o_pd 0.0\n",
      "o2_pd 4.849319703854508\n",
      "pep_pd 0.0\n",
      "pyr_pd 0.0\n",
      "accoa_pd 1.630178278988481e-05\n",
      "glu5p_pd 0.0\n",
      "akg_pd 0.0\n",
      "icit_pd 0.7787411192286064\n",
      "gal_pd 0.0\n",
      "g1p_pd 2.290923540998927\n",
      "tre_pd 0.0\n",
      "tre6p_pd 0.0\n",
      "mnt_pd 0.0\n",
      "melib_pd 0.0\n",
      "stc_pd 0.0\n",
      "raffin_pd 0.0\n",
      "1Dgali_pd 0.0\n",
      "inost_pd -0.0006620046100569237\n",
      "cit_pd 0.0\n",
      "oxa_pd 0.0\n",
      "2pg_pd 0.0\n",
      "dhap_pd 0.0\n",
      "g3p_pd 0.0\n",
      "3pg_pd -29.32305971011646\n",
      "glyclt_pd 0.0\n",
      "succ_pd 0.0\n"
     ]
    }
   ],
   "source": [
    "pd_rxns = [rxns for rxns in model.reactions if \"_pd\" in rxns.id]\n",
    "\n",
    "for items in pd_rxns:\n",
    "    print(items.id, sample_fluxes[items.id])\n",
    "\n",
    "\n",
    "    "
   ]
  },
  {
   "cell_type": "code",
   "execution_count": null,
   "id": "3bdc6a07",
   "metadata": {
    "ExecuteTime": {
     "end_time": "2022-02-04T20:30:02.619184Z",
     "start_time": "2022-02-04T20:30:02.176429Z"
    }
   },
   "outputs": [],
   "source": []
  },
  {
   "cell_type": "code",
   "execution_count": 26,
   "id": "8d7ae21e",
   "metadata": {
    "ExecuteTime": {
     "end_time": "2022-02-07T21:06:35.632836Z",
     "start_time": "2022-02-07T21:06:35.598970Z"
    }
   },
   "outputs": [
    {
     "name": "stdout",
     "output_type": "stream",
     "text": [
      "EX_co2(e) -28.999999999999975\n",
      "EX_h2o(e) 0.0\n",
      "EX_h(e) 0.0\n",
      "EX_no3(e) -1.5917048752935536\n",
      "EX_o2(e) -16.718292788831448\n",
      "EX_pi(e) -0.5124481156668493\n",
      "EX_sucr(e) 0.0\n",
      "EX_fru-B(e) 0.0\n",
      "EX_glc-A(e) 0.0\n",
      "EX_so4(e) 0.0\n",
      "EX_hco3(e) 0.0\n",
      "EX_so3(e) 0.0\n",
      "EX_h2s(e) -0.027067276889610525\n",
      "EX_nh4(e) 0.0\n",
      "EX_asn-L(e) 0.0\n",
      "EX_gln-L(e) 0.0\n",
      "EX_etoh(e) 0.0\n",
      "EX_ac(e) 0.0\n",
      "EX_lac-L(e) 0.0\n",
      "EX_tsul(e) 0.0\n",
      "EX_fe2(e) 0.0\n",
      "EX_fe3(e) 0.0\n",
      "EX_mg2(e) 0.0\n",
      "EX_ala-L(e) 0.0\n",
      "EX_arg-L(e) 0.0\n",
      "EX_asp-L(e) 0.0\n",
      "EX_cys-L(e) 0.0\n",
      "EX_glu-L(e) 0.0\n",
      "EX_gly(e) 0.0\n",
      "EX_his-L(e) 0.0\n",
      "EX_ile-L(e) 0.0\n",
      "EX_leu-L(e) 0.0\n",
      "EX_lys-L(e) 0.0\n",
      "EX_met-L(e) 0.0\n",
      "EX_phe-L(e) 0.0\n",
      "EX_pro-L(e) 0.0\n",
      "EX_ser-L(e) 0.0\n",
      "EX_thr-L(e) 0.0\n",
      "EX_trp-L(e) 0.0\n",
      "EX_tyr-L(e) 0.0\n",
      "EX_val-L(e) 0.0\n",
      "EX_photonVis(e) -830.1018192769427\n"
     ]
    }
   ],
   "source": [
    "for items in model.exchanges:\n",
    "    print(items.id, sample_fluxes[items.id])"
   ]
  },
  {
   "cell_type": "code",
   "execution_count": null,
   "id": "67bd32cd",
   "metadata": {
    "ExecuteTime": {
     "end_time": "2022-02-04T20:05:01.694474Z",
     "start_time": "2022-02-04T20:05:01.688700Z"
    }
   },
   "outputs": [],
   "source": []
  },
  {
   "cell_type": "code",
   "execution_count": null,
   "id": "72062798",
   "metadata": {
    "ExecuteTime": {
     "end_time": "2022-02-04T20:05:12.107603Z",
     "start_time": "2022-02-04T20:05:11.545239Z"
    }
   },
   "outputs": [],
   "source": []
  },
  {
   "cell_type": "code",
   "execution_count": 20,
   "id": "10361fc4",
   "metadata": {
    "ExecuteTime": {
     "end_time": "2022-02-07T21:05:24.303401Z",
     "start_time": "2022-02-07T21:05:24.301888Z"
    }
   },
   "outputs": [],
   "source": [
    "#Questions:\n",
    "#Should I restrict Nutrient flow to the Bundle Sheath Cell only or should I allow flux to both the M and BS cell?\n",
    "#Apparently kasi dito only the Bundle sheath cells produce any biomass\n",
    "#This is to ensure that only CO2 and Light flux are the only limiting constraints to the system."
   ]
  }
 ],
 "metadata": {
  "kernelspec": {
   "display_name": "Python 3",
   "language": "python",
   "name": "python3"
  },
  "language_info": {
   "codemirror_mode": {
    "name": "ipython",
    "version": 3
   },
   "file_extension": ".py",
   "mimetype": "text/x-python",
   "name": "python",
   "nbconvert_exporter": "python",
   "pygments_lexer": "ipython3",
   "version": "3.8.8"
  },
  "varInspector": {
   "cols": {
    "lenName": 16,
    "lenType": 16,
    "lenVar": 40
   },
   "kernels_config": {
    "python": {
     "delete_cmd_postfix": "",
     "delete_cmd_prefix": "del ",
     "library": "var_list.py",
     "varRefreshCmd": "print(var_dic_list())"
    },
    "r": {
     "delete_cmd_postfix": ") ",
     "delete_cmd_prefix": "rm(",
     "library": "var_list.r",
     "varRefreshCmd": "cat(var_dic_list()) "
    }
   },
   "types_to_exclude": [
    "module",
    "function",
    "builtin_function_or_method",
    "instance",
    "_Feature"
   ],
   "window_display": false
  }
 },
 "nbformat": 4,
 "nbformat_minor": 5
}
