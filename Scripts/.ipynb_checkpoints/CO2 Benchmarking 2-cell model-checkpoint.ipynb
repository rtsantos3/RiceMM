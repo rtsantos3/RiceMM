{
 "cells": [
  {
   "cell_type": "code",
   "execution_count": 35,
   "id": "03a656bb",
   "metadata": {
    "ExecuteTime": {
     "end_time": "2022-02-04T20:16:42.154820Z",
     "start_time": "2022-02-04T20:16:42.152732Z"
    }
   },
   "outputs": [],
   "source": [
    "import sys\n",
    "sys.path.append(\"../src/\") \n",
    "import os\n",
    "\n",
    "import model_manipulation as mm\n",
    "import cobra\n",
    "import cplex\n",
    "import libsbml\n",
    "import pandas as pd\n",
    "import copy\n"
   ]
  },
  {
   "cell_type": "code",
   "execution_count": 36,
   "id": "8def8923",
   "metadata": {
    "ExecuteTime": {
     "end_time": "2022-02-04T20:16:47.476184Z",
     "start_time": "2022-02-04T20:16:43.788235Z"
    }
   },
   "outputs": [],
   "source": [
    "#Read 2-cell model\n",
    "model = cobra.io.read_sbml_model(\"../model/ios2164_2cell.xml\")\n",
    "#Estimate inf\n",
    "inf = 1e6\n"
   ]
  },
  {
   "cell_type": "code",
   "execution_count": 37,
   "id": "c6481857",
   "metadata": {
    "ExecuteTime": {
     "end_time": "2022-02-04T20:16:49.132295Z",
     "start_time": "2022-02-04T20:16:47.934298Z"
    }
   },
   "outputs": [],
   "source": [
    "#Solver\n",
    "model.solver = 'cplex'"
   ]
  },
  {
   "cell_type": "code",
   "execution_count": 38,
   "id": "19cbcb9d",
   "metadata": {
    "ExecuteTime": {
     "end_time": "2022-02-04T20:16:49.988172Z",
     "start_time": "2022-02-04T20:16:49.887210Z"
    },
    "scrolled": true
   },
   "outputs": [
    {
     "data": {
      "text/plain": [
       "{'EX_co2(e)': 1000000,\n",
       " 'EX_h2o(e)': 1000000,\n",
       " 'EX_no3(e)': 1000000,\n",
       " 'EX_o2(e)': 1000000,\n",
       " 'EX_pi(e)': 1000000,\n",
       " 'EX_so4(e)': 1000000,\n",
       " 'EX_so3(e)': 1000000,\n",
       " 'EX_h2s(e)': 1000000,\n",
       " 'EX_nh4(e)': 1000000,\n",
       " 'EX_fe2(e)': 1000000,\n",
       " 'EX_fe3(e)': 1000000,\n",
       " 'EX_mg2(e)': 1000000,\n",
       " 'EX_photonVis(e)': 1000000}"
      ]
     },
     "execution_count": 38,
     "metadata": {},
     "output_type": "execute_result"
    }
   ],
   "source": [
    "#Initialize medium so as to induce Photoautotrophic conditions (i.e. no Sucrose import)\n",
    "mm.read_medium_csv('../misc/photo_medium.csv', model)\n",
    "\n",
    "#Test natin kung magwowork sa est. infinite\n",
    "#Yes setting bounds to 1000 works\n",
    "model_media = model.medium\n",
    "model.medium"
   ]
  },
  {
   "cell_type": "code",
   "execution_count": 70,
   "id": "8aa4ff5e",
   "metadata": {
    "ExecuteTime": {
     "end_time": "2022-02-04T20:30:21.837960Z",
     "start_time": "2022-02-04T20:30:21.832273Z"
    }
   },
   "outputs": [],
   "source": [
    "# #Add constraints to model\n",
    "\n",
    "# #BS photon flux must be the same/less than M flux (Adapted from B&B, 2019)\n",
    "# photon_import = model.reactions.get_by_id(\"EX_photonVis(e)\")\n",
    "\n",
    "BS_photon_import = model.reactions.PRISM_blue_LED_BS\n",
    "M_photon_import = model.reactions.PRISM_blue_LED_M\n",
    "\n",
    "photon_flux = model.problem.Constraint(M_photon_import.flux_expression \n",
    "                                       - BS_photon_import.flux_expression,\n",
    "                                       lb = 0, ub = 1000)\n",
    "model.add_cons_vars(photon_flux)\n",
    "\n",
    "\n",
    "co2mtex = model.reactions.CO2tex_M\n",
    "co2bstex = model.reactions.CO2tex_BS\n",
    "\n",
    "#CO2 Uptake must be constrained to A (Net assimilation rate) which is around 29 +- 1.2 umol CO2 m-2 s-1 for wild type rice\n",
    "co2_import_cons = model.problem.Constraint(co2mtex.flux_expression \n",
    "                                           + co2bstex.flux_expression, lb = 0, ub = 29)\n",
    "model.add_cons_vars(co2_import_cons)\n",
    "\n",
    "# #Note: CO2 uptake is not restricted in BS cells but will be constrained to be  equal/less than M cell\n",
    "\n",
    "# co2_flux_cons = model.problem.Constraint(BS_co2_import.flux_expression - M_co2_import.flux_expression, lb = 0, ub = inf)\n",
    "# model.add_cons_vars(co2_flux_cons)\n",
    "\n",
    "# #Oks na\n",
    "\n",
    "# #CO2 intake needs to be mostly in the M cells. Not sure of the exact value:\n",
    "# Values from Von Caemmerer (2000) in mixed C3-C4 photosynthetic plants is 1 umol CO2 m-2 s-1 per 20 CO2 m-2 s-1. \n",
    "# #try checking Danila et al. (2016) on ratio of surface area of M cell to BS cell\n",
    "# #I'll assume that the ratio is at 9.5:0.5 in the meantime, meaning that there is minimal gas exchange into the BS cell\n",
    "co2_ratio_cons = mm.set_fix_flux_ratio({BS_co2_import.id:9.5, M_co2_import.id:0.5},model)\n",
    "model.add_cons_vars(co2_ratio_cons)\n",
    "\n",
    "# #Automatic na palang nalalagay siya as constraint\n",
    "\n",
    "# #First is the BS and M Cell constraints"
   ]
  },
  {
   "cell_type": "code",
   "execution_count": 6,
   "id": "0ae74e35",
   "metadata": {
    "ExecuteTime": {
     "end_time": "2022-02-04T20:15:11.652014Z",
     "start_time": "2022-02-04T20:15:11.648386Z"
    }
   },
   "outputs": [],
   "source": [
    "# print(co2_flux_cons)"
   ]
  },
  {
   "cell_type": "code",
   "execution_count": 7,
   "id": "1fcb19df",
   "metadata": {
    "ExecuteTime": {
     "end_time": "2022-02-04T20:15:11.655098Z",
     "start_time": "2022-02-04T20:15:11.653636Z"
    },
    "code_folding": []
   },
   "outputs": [],
   "source": [
    "# model.remove_cons_vars(co2_import_cons)\n",
    "# model.remove_cons_vars(co2_flux_cons)"
   ]
  },
  {
   "cell_type": "code",
   "execution_count": 8,
   "id": "769d6d85",
   "metadata": {
    "ExecuteTime": {
     "end_time": "2022-02-04T20:15:11.660248Z",
     "start_time": "2022-02-04T20:15:11.657586Z"
    }
   },
   "outputs": [],
   "source": [
    "# #What if I restrict yung import ng O2?\n",
    "\n",
    "# M_o2_import = model.reactions.get_by_id('EX_o2(e)_M')\n",
    "# BS_o2_import = model.reactions.get_by_id('EX_o2(e)_BS')\n",
    "# #Let's try restricting O2 to the value from Lakshmanan et al. (2016) = 3.312 mmol O2 m-2 s-1\n",
    "# #Actually this value is also reflected in Von Caemmerer's \"Modelling C3 metabolism\" (pg. 85)\n",
    "# o2_import_cons = model.problem.Constraint(M_o2_import.flux_expression + BS_o2_import.flux_expression, lb = -3.312, ub = 0)\n",
    "# model.add_cons_vars(o2_import_cons)\n",
    "# model.remove_cons_vars(o2_import_cons)\n"
   ]
  },
  {
   "cell_type": "code",
   "execution_count": 98,
   "id": "135e568a",
   "metadata": {
    "ExecuteTime": {
     "end_time": "2022-02-04T20:46:05.406073Z",
     "start_time": "2022-02-04T20:46:05.400671Z"
    }
   },
   "outputs": [],
   "source": [
    "# #Add enzyme constraints\n",
    "\n",
    "# #PEPC\n",
    "wt_pepc = 2.4 #umol m-2 s-1\n",
    "wt_mdh = 11.18 #umol m-2 s-1\n",
    "wt_nadp_me = 0.14 #umol m-2 s-1\n",
    "wt_ppdk = 0.31 #umol m-2 s-1\n",
    "wt_CA = 15.74 #umol m-2  s-1\n",
    "\n",
    "#PEPC constraint (Reaction id: PPCc)\n",
    "pepc_BS = model.reactions.PPCc_BS\n",
    "pepc_M = model.reactions.PPCc_M\n",
    "\n",
    "wt_pepc_cons = model.problem.Constraint(pepc_BS.flux_expression \n",
    "                                        + pepc_M.flux_expression, \n",
    "                                        lb = 0, ub = wt_pepc)\n",
    "model.add_cons_vars(wt_pepc_cons)\n",
    "\n",
    "#PPDK constraints (Reaction id: PPDKS) (note that this is found in the chloroplast?) \n",
    "#Not detected via immunolocalization but enzyme activity is detected\n",
    "ppdks_BS = model.reactions.PPDKs_BS\n",
    "ppdks_M = model.reactions.PPDKs_M\n",
    "\n",
    "wt_ppdks_cons = model.problem.Constraint(ppdks_BS.flux_expression \n",
    "                                         + ppdks_M.flux_expression, \n",
    "                                         lb = 0, ub = wt_ppdk)\n",
    "model.add_cons_vars(wt_ppdks_cons)\n",
    "\n",
    "#Malate Dehydrogenase \n",
    "mdh2c_M = model.reactions.MDH2c_M\n",
    "mdh2c_BS = model.reactions.MDH2c_BS\n",
    "mdh2s_M = model.reactions.MDH2s_M\n",
    "mdh2s_BS = model.reactions.MDH2s_BS\n",
    "\n",
    "wt_mdh_cons = model.problem.Constraint(mdh2c_M.flux_expression \n",
    "                                       + mdh2c_BS.flux_expression \n",
    "                                       + mdh2s_M.flux_expression \n",
    "                                       + mdh2s_BS.flux_expression, \n",
    "                                       lb= 0, ub=wt_mdh)\n",
    "model.add_cons_vars(wt_mdh_cons)\n",
    "\n",
    "\n",
    "#NADP-ME (Since no signal is detected in WT, no locational constraints are imposed)\n",
    "nadp_me_M = model.reactions.MDH2s_M\n",
    "nadp_me_BS = model.reactions.MDH2s_BS\n",
    "\n",
    "wt_nadpme_cons = model.problem.Constraint(nadp_me_M.flux_expression\n",
    "                                         + nadp_me_BS.flux_expression,\n",
    "                                         lb= 0, ub=wt_nadp_me)\n",
    "model.add_cons_vars(wt_nadpme_cons)\n",
    "#Weird, it causes the activity of RBCL to significantly vary from the actual values\n",
    "\n",
    "#Rbcl constaints"
   ]
  },
  {
   "cell_type": "code",
   "execution_count": 99,
   "id": "09fa7f27",
   "metadata": {
    "ExecuteTime": {
     "end_time": "2022-02-04T20:46:08.140050Z",
     "start_time": "2022-02-04T20:46:08.106053Z"
    }
   },
   "outputs": [],
   "source": [
    "#Modifications to medium\n",
    "\n",
    "model_media['EX_photonVis(e)'] = 1500 #PPFD used in Ermakova et al for high light\n",
    "\n",
    "#Set CO2 bounds to ~29 m-2 s-1\n",
    "model_media['EX_co2(e)'] = inf\n",
    "model_media['EX_o2(e)'] = 3.312\n",
    "\n",
    "#Test if heterotrophic conditions fix Biomass\n",
    "#model_media['EX_sucr(e)_M'] = inf\n",
    "\n",
    "#Nope, still doesn't produce biomass.\n",
    "#How about Protons?\n",
    "model_media['EX_h(e)'] = 0\n",
    "#What if I constrained nitrogen uptake?\n",
    "model_media['EX_no3(e)'] = inf\n",
    "model_media['EX_nh4(e)'] = inf\n",
    "model.medium = model_media\n",
    "\n",
    "\n",
    "#Try nga natin may gas exchange in both.\n",
    "# model.reactions.get_by_id('EX_co2(e)_M').upper_bounds = inf\n",
    "# model.reactions.get_by_id('EX_co2(e)_BS').upper_bounds = inf"
   ]
  },
  {
   "cell_type": "code",
   "execution_count": 72,
   "id": "878c55b7",
   "metadata": {
    "ExecuteTime": {
     "end_time": "2022-02-04T20:30:31.488425Z",
     "start_time": "2022-02-04T20:30:31.486203Z"
    }
   },
   "outputs": [],
   "source": [
    "#Let's try constraining yung input ng CO2 sa BS\n",
    "model.reactions.CO2tex_BS.bounds = (0,0)"
   ]
  },
  {
   "cell_type": "code",
   "execution_count": 108,
   "id": "8eba2f2b",
   "metadata": {
    "ExecuteTime": {
     "end_time": "2022-02-04T20:58:46.186717Z",
     "start_time": "2022-02-04T20:58:46.180120Z"
    }
   },
   "outputs": [
    {
     "name": "stdout",
     "output_type": "stream",
     "text": [
      "Maximize\n",
      "1.0*EX_sucr(e) - 1.0*EX_sucr(e)_reverse_24112 + 0.5*Straw_Biomass_BS - 0.5*Straw_Biomass_BS_reverse_9ef17 + 0.5*Straw_Biomass_M - 0.5*Straw_Biomass_M_reverse_753fb\n"
     ]
    }
   ],
   "source": [
    "#Let's try nga changing yung model objective\n",
    "with model:\n",
    "    ex_sucr = model.reactions.get_by_id('EX_sucr(e)')\n",
    "    model.reactions.get_by_id('EX_sucr(e)').bounds = (0, 10000000)\n",
    "    #Set model objective to max sucrose\n",
    "    ex_sucr.objective_coefficient = 1.0\n",
    "    print(model.objective)\n"
   ]
  },
  {
   "cell_type": "code",
   "execution_count": 109,
   "id": "9c7aaabd",
   "metadata": {
    "ExecuteTime": {
     "end_time": "2022-02-04T21:24:41.810299Z",
     "start_time": "2022-02-04T21:24:41.046076Z"
    }
   },
   "outputs": [
    {
     "data": {
      "text/html": [
       "<strong><em>Optimal</em> solution with objective value 18915.906</strong><br><div>\n",
       "<style scoped>\n",
       "    .dataframe tbody tr th:only-of-type {\n",
       "        vertical-align: middle;\n",
       "    }\n",
       "\n",
       "    .dataframe tbody tr th {\n",
       "        vertical-align: top;\n",
       "    }\n",
       "\n",
       "    .dataframe thead th {\n",
       "        text-align: right;\n",
       "    }\n",
       "</style>\n",
       "<table border=\"1\" class=\"dataframe\">\n",
       "  <thead>\n",
       "    <tr style=\"text-align: right;\">\n",
       "      <th></th>\n",
       "      <th>fluxes</th>\n",
       "      <th>reduced_costs</th>\n",
       "    </tr>\n",
       "  </thead>\n",
       "  <tbody>\n",
       "    <tr>\n",
       "      <th>Coleoptile_Biomass_M</th>\n",
       "      <td>0.000000</td>\n",
       "      <td>73013.310362</td>\n",
       "    </tr>\n",
       "    <tr>\n",
       "      <th>Straw_Biomass_M</th>\n",
       "      <td>2.490658</td>\n",
       "      <td>-2.000000</td>\n",
       "    </tr>\n",
       "    <tr>\n",
       "      <th>ACCOAC_OSAc_M</th>\n",
       "      <td>0.000000</td>\n",
       "      <td>2.000000</td>\n",
       "    </tr>\n",
       "    <tr>\n",
       "      <th>ACCOAC_OSAr_M</th>\n",
       "      <td>0.251462</td>\n",
       "      <td>-2.000000</td>\n",
       "    </tr>\n",
       "    <tr>\n",
       "      <th>ACPC_OSs_M</th>\n",
       "      <td>0.000000</td>\n",
       "      <td>-2.000000</td>\n",
       "    </tr>\n",
       "    <tr>\n",
       "      <th>...</th>\n",
       "      <td>...</td>\n",
       "      <td>...</td>\n",
       "    </tr>\n",
       "    <tr>\n",
       "      <th>dhap_pd</th>\n",
       "      <td>0.000000</td>\n",
       "      <td>-0.326059</td>\n",
       "    </tr>\n",
       "    <tr>\n",
       "      <th>g3p_pd</th>\n",
       "      <td>0.000000</td>\n",
       "      <td>-0.326059</td>\n",
       "    </tr>\n",
       "    <tr>\n",
       "      <th>3pg_pd</th>\n",
       "      <td>0.000000</td>\n",
       "      <td>-1.326059</td>\n",
       "    </tr>\n",
       "    <tr>\n",
       "      <th>glyclt_pd</th>\n",
       "      <td>0.000000</td>\n",
       "      <td>-2.000000</td>\n",
       "    </tr>\n",
       "    <tr>\n",
       "      <th>succ_pd</th>\n",
       "      <td>0.000000</td>\n",
       "      <td>-2.000000</td>\n",
       "    </tr>\n",
       "  </tbody>\n",
       "</table>\n",
       "<p>4880 rows × 2 columns</p>\n",
       "</div>"
      ],
      "text/plain": [
       "<Solution 18915.906 at 0x7f1082f5ae80>"
      ]
     },
     "execution_count": 109,
     "metadata": {},
     "output_type": "execute_result"
    }
   ],
   "source": [
    "sample_fluxes = cobra.flux_analysis.pfba(model)\n",
    "sample_fluxes"
   ]
  },
  {
   "cell_type": "code",
   "execution_count": 110,
   "id": "ff10ba43",
   "metadata": {
    "ExecuteTime": {
     "end_time": "2022-02-04T21:24:43.946322Z",
     "start_time": "2022-02-04T21:24:43.942067Z"
    },
    "scrolled": true
   },
   "outputs": [
    {
     "name": "stdout",
     "output_type": "stream",
     "text": [
      "rbcl M cell:  148.4782560991652 rbcl BS cell:  70.40772130270366\n",
      "rbcl M cell (photorespiration) 0.0 rbcl BS cell (PR) 0.0\n",
      "Biomass M:  2.4906584335933117 Biomass BS 1.3113778940498313\n",
      "co2 consumption M 29.0 co2 consumption BS 0.0\n"
     ]
    }
   ],
   "source": [
    "#This is cool, the M cell is similar to the WT rate of 83.59+-5.63 :)\n",
    "print('rbcl M cell: ', sample_fluxes['RBPCs_M'], 'rbcl BS cell: ',sample_fluxes['RBPCs_BS'])\n",
    "print('rbcl M cell (photorespiration)', sample_fluxes['RBPC2s_M'], 'rbcl BS cell (PR)', sample_fluxes['RBPC2s_BS'])\n",
    "print('Biomass M: ', sample_fluxes['Straw_Biomass_M'], 'Biomass BS', sample_fluxes['Straw_Biomass_BS'])\n",
    "print('co2 consumption M', sample_fluxes[co2mtex.id], 'co2 consumption BS', sample_fluxes[co2bstex.id])\n"
   ]
  },
  {
   "cell_type": "code",
   "execution_count": 112,
   "id": "d684cffc",
   "metadata": {
    "ExecuteTime": {
     "end_time": "2022-02-04T21:25:12.358809Z",
     "start_time": "2022-02-04T21:25:12.172490Z"
    }
   },
   "outputs": [
    {
     "data": {
      "text/html": [
       "<h3>o2_c0</h3><p>O2</p><h4>Producing Reactions</h4><table border=\"1\" class=\"dataframe\">\n",
       "  <thead>\n",
       "    <tr style=\"text-align: right;\">\n",
       "      <th>Percent</th>\n",
       "      <th>Flux</th>\n",
       "      <th>Reaction</th>\n",
       "      <th>Definition</th>\n",
       "    </tr>\n",
       "  </thead>\n",
       "  <tbody>\n",
       "    <tr>\n",
       "      <td>5.18%</td>\n",
       "      <td>2.723</td>\n",
       "      <td>O2tex_M</td>\n",
       "      <td>o2_e &lt;=&gt; o2_c0</td>\n",
       "    </tr>\n",
       "    <tr>\n",
       "      <td>94.82%</td>\n",
       "      <td>49.84</td>\n",
       "      <td>O2tsr_M</td>\n",
       "      <td>o2_c0 &lt;=&gt; o2_s0</td>\n",
       "    </tr>\n",
       "  </tbody>\n",
       "</table><h4>Consuming Reactions</h4><table border=\"1\" class=\"dataframe\">\n",
       "  <thead>\n",
       "    <tr style=\"text-align: right;\">\n",
       "      <th>Percent</th>\n",
       "      <th>Flux</th>\n",
       "      <th>Reaction</th>\n",
       "      <th>Definition</th>\n",
       "    </tr>\n",
       "  </thead>\n",
       "  <tbody>\n",
       "    <tr>\n",
       "      <td>1.51%</td>\n",
       "      <td>-0.796</td>\n",
       "      <td>CC3H1c_M</td>\n",
       "      <td>coum_c0 + nadph_c0 + o2_c0 --&gt; caff_c0 + h2o_c0 + nadp_c0</td>\n",
       "    </tr>\n",
       "    <tr>\n",
       "      <td>0.02%</td>\n",
       "      <td>-0.01063</td>\n",
       "      <td>FAS161COA_Lc_M</td>\n",
       "      <td>nadph_c0 + o2_c0 + pmtcoa_c0 --&gt; 2.0 h2o_c0 + hdcoa_c0 + nadp_c0</td>\n",
       "    </tr>\n",
       "    <tr>\n",
       "      <td>0.35%</td>\n",
       "      <td>-0.1824</td>\n",
       "      <td>FAS181COA_Lc_M</td>\n",
       "      <td>nadph_c0 + o2_c0 + stcoa_c0 --&gt; 2.0 h2o_c0 + nadp_c0 + odecoa_c0</td>\n",
       "    </tr>\n",
       "    <tr>\n",
       "      <td>0.18%</td>\n",
       "      <td>-0.09458</td>\n",
       "      <td>FAS182COA_Lc_M</td>\n",
       "      <td>nadph_c0 + o2_c0 + odecoa_c0 --&gt; 2.0 h2o_c0 + nadp_c0 + ocdycacoa_c0</td>\n",
       "    </tr>\n",
       "    <tr>\n",
       "      <td>0.01%</td>\n",
       "      <td>-0.006154</td>\n",
       "      <td>FAS183COA_Lc_M</td>\n",
       "      <td>nadph_c0 + o2_c0 + ocdycacoa_c0 --&gt; 2.0 h2o_c0 + lnlncoa_c0 + nadp_c0</td>\n",
       "    </tr>\n",
       "    <tr>\n",
       "      <td>0.70%</td>\n",
       "      <td>-0.3674</td>\n",
       "      <td>FERH2c_M</td>\n",
       "      <td>conald_c0 + h_c0 + nadph_c0 + o2_c0 --&gt; h2o_c0 + hconald_c0 + nadp_c0</td>\n",
       "    </tr>\n",
       "    <tr>\n",
       "      <td>97.23%</td>\n",
       "      <td>-51.1</td>\n",
       "      <td>O2tmr_M</td>\n",
       "      <td>o2_c0 &lt;=&gt; o2_m0</td>\n",
       "    </tr>\n",
       "  </tbody>\n",
       "</table>"
      ],
      "text/plain": [
       "<cobra.summary.metabolite_summary.MetaboliteSummary at 0x7f108537fb50>"
      ]
     },
     "execution_count": 112,
     "metadata": {},
     "output_type": "execute_result"
    }
   ],
   "source": [
    "model.metabolites.o2_c0.summary()"
   ]
  },
  {
   "cell_type": "code",
   "execution_count": 69,
   "id": "3bdc6a07",
   "metadata": {
    "ExecuteTime": {
     "end_time": "2022-02-04T20:30:02.619184Z",
     "start_time": "2022-02-04T20:30:02.176429Z"
    }
   },
   "outputs": [
    {
     "data": {
      "text/html": [
       "<h3>CO2tex_M</h3><p>co2_e <=> co2_c0</p><p>Bounds: -1000.0, 1000.0</p><p>Flux: 30.2</p>"
      ],
      "text/plain": [
       "<cobra.summary.reaction_summary.ReactionSummary at 0x7f1084715ca0>"
      ]
     },
     "execution_count": 69,
     "metadata": {},
     "output_type": "execute_result"
    }
   ],
   "source": []
  },
  {
   "cell_type": "code",
   "execution_count": 30,
   "id": "8d7ae21e",
   "metadata": {
    "ExecuteTime": {
     "end_time": "2022-02-04T20:16:01.205615Z",
     "start_time": "2022-02-04T20:16:01.175639Z"
    }
   },
   "outputs": [
    {
     "name": "stdout",
     "output_type": "stream",
     "text": [
      "EX_co2(e) 0.0\n",
      "EX_h2o(e) 0.0\n",
      "EX_h(e) 0.0\n",
      "EX_no3(e) -82.21754881566116\n",
      "EX_o2(e) -3.32\n",
      "EX_pi(e) -0.7094767994108542\n",
      "EX_sucr(e) 0.0\n",
      "EX_fru-B(e) 0.0\n",
      "EX_glc-A(e) 0.0\n",
      "EX_so4(e) -0.03747424254143901\n",
      "EX_hco3(e) 0.0\n",
      "EX_so3(e) 0.0\n",
      "EX_h2s(e) 0.0\n",
      "EX_nh4(e) 0.0\n",
      "EX_asn-L(e) 0.0\n",
      "EX_gln-L(e) 0.0\n",
      "EX_etoh(e) 0.0\n",
      "EX_ac(e) 0.0\n",
      "EX_lac-L(e) 0.0\n",
      "EX_tsul(e) 0.0\n",
      "EX_fe2(e) 0.0\n",
      "EX_fe3(e) 0.0\n",
      "EX_mg2(e) 0.0\n",
      "EX_ala-L(e) 0.0\n",
      "EX_arg-L(e) 0.0\n",
      "EX_asp-L(e) 0.0\n",
      "EX_cys-L(e) 0.0\n",
      "EX_glu-L(e) 0.0\n",
      "EX_gly(e) 0.0\n",
      "EX_his-L(e) 0.0\n",
      "EX_ile-L(e) 0.0\n",
      "EX_leu-L(e) 0.0\n",
      "EX_lys-L(e) 0.0\n",
      "EX_met-L(e) 0.0\n",
      "EX_phe-L(e) 0.0\n",
      "EX_pro-L(e) 0.0\n",
      "EX_ser-L(e) 0.0\n",
      "EX_thr-L(e) 0.0\n",
      "EX_trp-L(e) 0.0\n",
      "EX_tyr-L(e) 0.0\n",
      "EX_val-L(e) 0.0\n",
      "EX_photonVis(e) -1500.0\n"
     ]
    }
   ],
   "source": [
    "for items in model.exchanges:\n",
    "    print(items.id, sample_fluxes[items.id])"
   ]
  },
  {
   "cell_type": "code",
   "execution_count": null,
   "id": "67bd32cd",
   "metadata": {
    "ExecuteTime": {
     "end_time": "2022-02-04T20:05:01.694474Z",
     "start_time": "2022-02-04T20:05:01.688700Z"
    }
   },
   "outputs": [],
   "source": []
  },
  {
   "cell_type": "code",
   "execution_count": null,
   "id": "72062798",
   "metadata": {
    "ExecuteTime": {
     "end_time": "2022-02-04T20:05:12.107603Z",
     "start_time": "2022-02-04T20:05:11.545239Z"
    }
   },
   "outputs": [],
   "source": []
  },
  {
   "cell_type": "code",
   "execution_count": 16,
   "id": "10361fc4",
   "metadata": {
    "ExecuteTime": {
     "end_time": "2022-02-04T20:15:12.846008Z",
     "start_time": "2022-02-04T20:15:12.844720Z"
    }
   },
   "outputs": [],
   "source": [
    "#Questions:\n",
    "#Should I restrict Nutrient flow to the Bundle Sheath Cell only or should I allow flux to both the M and BS cell?\n",
    "#Apparently kasi dito only the Bundle sheath cells produce any biomass\n",
    "#This is to ensure that only CO2 and Light flux are the only limiting constraints to the system."
   ]
  }
 ],
 "metadata": {
  "kernelspec": {
   "display_name": "Python 3",
   "language": "python",
   "name": "python3"
  },
  "language_info": {
   "codemirror_mode": {
    "name": "ipython",
    "version": 3
   },
   "file_extension": ".py",
   "mimetype": "text/x-python",
   "name": "python",
   "nbconvert_exporter": "python",
   "pygments_lexer": "ipython3",
   "version": "3.8.8"
  },
  "varInspector": {
   "cols": {
    "lenName": 16,
    "lenType": 16,
    "lenVar": 40
   },
   "kernels_config": {
    "python": {
     "delete_cmd_postfix": "",
     "delete_cmd_prefix": "del ",
     "library": "var_list.py",
     "varRefreshCmd": "print(var_dic_list())"
    },
    "r": {
     "delete_cmd_postfix": ") ",
     "delete_cmd_prefix": "rm(",
     "library": "var_list.r",
     "varRefreshCmd": "cat(var_dic_list()) "
    }
   },
   "types_to_exclude": [
    "module",
    "function",
    "builtin_function_or_method",
    "instance",
    "_Feature"
   ],
   "window_display": false
  }
 },
 "nbformat": 4,
 "nbformat_minor": 5
}
