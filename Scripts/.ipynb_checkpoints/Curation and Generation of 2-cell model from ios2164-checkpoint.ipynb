{
 "cells": [
  {
   "cell_type": "code",
   "execution_count": 1,
   "id": "ed850710",
   "metadata": {
    "ExecuteTime": {
     "end_time": "2022-03-12T00:13:47.329997Z",
     "start_time": "2022-03-12T00:13:46.518000Z"
    }
   },
   "outputs": [],
   "source": [
    "import cobra\n",
    "import libsbml\n",
    "from cobra import Model, Reaction, Metabolite, manipulation\n",
    "import pandas as pd\n",
    "import csv\n",
    "import copy"
   ]
  },
  {
   "cell_type": "code",
   "execution_count": 2,
   "id": "6ec48e83",
   "metadata": {
    "ExecuteTime": {
     "end_time": "2022-03-12T00:13:49.550856Z",
     "start_time": "2022-03-12T00:13:47.330900Z"
    }
   },
   "outputs": [
    {
     "name": "stdout",
     "output_type": "stream",
     "text": [
      "Set parameter Username\n",
      "Academic license - for non-commercial use only - expires 2022-04-03\n"
     ]
    }
   ],
   "source": [
    "ios2164_orig = cobra.io.read_sbml_model(\"../model/ios2164_orig.xml\")\n",
    "\n",
    "#Fix names\n",
    "cobra.manipulation.modify.escape_ID(ios2164_orig)\n"
   ]
  },
  {
   "cell_type": "code",
   "execution_count": 3,
   "id": "320f1304",
   "metadata": {
    "ExecuteTime": {
     "end_time": "2022-03-12T00:13:49.553863Z",
     "start_time": "2022-03-12T00:13:49.552061Z"
    }
   },
   "outputs": [],
   "source": [
    "#Let's insert NGAM for each  of the commpartments based from B&B's Measurements from A. thaliana"
   ]
  },
  {
   "cell_type": "code",
   "execution_count": 26,
   "id": "ece52963",
   "metadata": {
    "ExecuteTime": {
     "end_time": "2022-03-12T01:09:50.997063Z",
     "start_time": "2022-03-12T01:09:50.988968Z"
    }
   },
   "outputs": [],
   "source": [
    "#let's add a reaction specific for phloem, which includes only amino acids, starch and sucrose\n",
    "#Values are from Poolman et al. (2014) and is rescaled from mol/gcw * time to mmol/gcw * time (similar to ios2164 and Arnold's Atmodel)\n",
    "\n",
    "#Read from csv\n",
    "read_phl = pd.read_csv('../misc/phloem_sap_comp.csv')\n",
    "phl_dict = dict(read_phl.values)\n",
    "\n",
    "\n",
    "model_rxn_list = list()\n",
    "for items in phl_dict:\n",
    "    #Update reaction signs first so it's all negative \n",
    "    phl_dict[items] = phl_dict[items] * -1\n",
    "    \n",
    "    #Retrieve pointer from original model to retrieve metabolite\n",
    "    model_rxn = ios2164_orig.metabolites.get_by_id(items)\n",
    "    model_rxn_list.append(model_rxn)\n",
    "\n",
    "#Update rxns to pointers to orig model\n",
    "for rxns in model_rxn_list:\n",
    "    phl_dict[rxns] = phl_dict.pop(rxns.id)\n",
    "\n",
    "#Generate new phloem reaction\n",
    "phl_rxn = Reaction('EX_phloem')\n",
    "phl_rxn.name = 'export reaction for phloem sap'\n",
    "phl_rxn.add_metabolites(phl_dict)\n",
    "\n",
    "ios2164_orig.add_reaction(phl_rxn)\n",
    "    "
   ]
  },
  {
   "cell_type": "code",
   "execution_count": 35,
   "id": "a2ba6acb",
   "metadata": {
    "ExecuteTime": {
     "end_time": "2022-03-12T01:47:53.079039Z",
     "start_time": "2022-03-12T01:47:53.064900Z"
    }
   },
   "outputs": [],
   "source": [
    "#Add NGAM reactions based on B&B's measurements\n",
    "#This is a  good way to account for metabolic costs. However, the only limitation would this be would be that the reaction bounds are constant and non-variable\n",
    "\n",
    "ngam_atp_c = Reaction('ngam_atp_c')\n",
    "ngam_atp_s = Reaction('ngam_atp_s')\n",
    "ngam_atp_x = Reaction('ngam_atp_x')\n",
    "ngam_atp_m = Reaction('ngam_atp_m')\n",
    "\n",
    "#Values from B&B(2019) are the ff (Units are in umol atp m-2 s-1)\n",
    "# cytosol\t0.0427\n",
    "# chloroplast\t0.1527\n",
    "# mitochondria\t0.0091\n",
    "# peroxisome\t0.0076\n",
    "\n",
    "ngam_atp_c.name = 'ATP NGAM for Cytosol'\n",
    "ngam_atp_s.name = 'ATP NGAM for Chloroplast (Plastid)'\n",
    "ngam_atp_x.name = 'ATP NGAM for Peroxisome'\n",
    "ngam_atp_m.name = 'ATP NGAM for Mitochondria'\n",
    "\n",
    "atp_c = ios2164_orig.metabolites.atp_c\n",
    "adp_c = ios2164_orig.metabolites.adp_c\n",
    "pi_c = ios2164_orig.metabolites.pi_c\n",
    "\n",
    "atp_s = ios2164_orig.metabolites.atp_s\n",
    "adp_s = ios2164_orig.metabolites.adp_s\n",
    "pi_s = ios2164_orig.metabolites.pi_s\n",
    "\n",
    "atp_x = ios2164_orig.metabolites.atp_x\n",
    "adp_x = ios2164_orig.metabolites.adp_x\n",
    "pi_x = ios2164_orig.metabolites.pi_x\n",
    "\n",
    "atp_m = ios2164_orig.metabolites.atp_m\n",
    "adp_m = ios2164_orig.metabolites.adp_m\n",
    "pi_m = ios2164_orig.metabolites.pi_m\n",
    "\n",
    "ngam_atp_c.add_metabolites({atp_c:-1, adp_c:1, pi_c:1})\n",
    "ngam_atp_s.add_metabolites({atp_s:-1, adp_s:1, pi_s:1})\n",
    "ngam_atp_x.add_metabolites({atp_x:-1, adp_x:1, pi_x:1})\n",
    "ngam_atp_m.add_metabolites({atp_m:-1, adp_m:1, pi_m:1})\n",
    "\n",
    "\n",
    "\n",
    "ngam_atp_c.bounds = (0.0427,0.0427)\n",
    "ngam_atp_s.bounds = (0.1527, 0.1527)\n",
    "ngam_atp_x.bounds = (0.0076,0.0076)\n",
    "ngam_atp_m.bounds = (0.0091,0.0091)\n",
    "\n",
    "ios2164_orig.add_reaction(ngam_atp_c)\n",
    "ios2164_orig.add_reaction(ngam_atp_s)\n",
    "ios2164_orig.add_reaction(ngam_atp_x)\n",
    "ios2164_orig.add_reaction(ngam_atp_m)\n",
    "\n"
   ]
  },
  {
   "cell_type": "code",
   "execution_count": 36,
   "id": "94353720",
   "metadata": {
    "ExecuteTime": {
     "end_time": "2022-03-12T01:48:06.249177Z",
     "start_time": "2022-03-12T01:48:06.246445Z"
    }
   },
   "outputs": [
    {
     "data": {
      "text/html": [
       "\n",
       "        <table>\n",
       "            <tr>\n",
       "                <td><strong>Reaction identifier</strong></td><td>ngam_atp_c</td>\n",
       "            </tr><tr>\n",
       "                <td><strong>Name</strong></td><td>ATP NGAM for Cytosol</td>\n",
       "            </tr><tr>\n",
       "                <td><strong>Memory address</strong></td>\n",
       "                <td>0x07f1fdf555a60</td>\n",
       "            </tr><tr>\n",
       "                <td><strong>Stoichiometry</strong></td>\n",
       "                <td>\n",
       "                    <p style='text-align:right'>atp_c --> adp_c + pi_c</p>\n",
       "                    <p style='text-align:right'>ATP --> ADP + Phosphate</p>\n",
       "                </td>\n",
       "            </tr><tr>\n",
       "                <td><strong>GPR</strong></td><td></td>\n",
       "            </tr><tr>\n",
       "                <td><strong>Lower bound</strong></td><td>0.0427</td>\n",
       "            </tr><tr>\n",
       "                <td><strong>Upper bound</strong></td><td>0.0427</td>\n",
       "            </tr>\n",
       "        </table>\n",
       "        "
      ],
      "text/plain": [
       "<Reaction ngam_atp_c at 0x7f1fdf555a60>"
      ]
     },
     "execution_count": 36,
     "metadata": {},
     "output_type": "execute_result"
    }
   ],
   "source": [
    "ngam_atp_c"
   ]
  },
  {
   "cell_type": "code",
   "execution_count": 27,
   "id": "43a6faf1",
   "metadata": {
    "ExecuteTime": {
     "end_time": "2022-03-12T01:11:28.806397Z",
     "start_time": "2022-03-12T01:11:28.792217Z"
    },
    "scrolled": true
   },
   "outputs": [
    {
     "name": "stderr",
     "output_type": "stream",
     "text": [
      "Ignoring reaction 'RBPOs' since it already exists.\n"
     ]
    },
    {
     "data": {
      "text/html": [
       "\n",
       "        <table>\n",
       "            <tr>\n",
       "                <td><strong>Reaction identifier</strong></td><td>RBPOs</td>\n",
       "            </tr><tr>\n",
       "                <td><strong>Name</strong></td><td>Ribulose-biphosphate Oxygenase</td>\n",
       "            </tr><tr>\n",
       "                <td><strong>Memory address</strong></td>\n",
       "                <td>0x07f200923b1f0</td>\n",
       "            </tr><tr>\n",
       "                <td><strong>Stoichiometry</strong></td>\n",
       "                <td>\n",
       "                    <p style='text-align:right'>h2o_s + o2_s + rb15bp_s --> 2pglyc_s + 3pg_s + h_s</p>\n",
       "                    <p style='text-align:right'>H2O + O2 + D-Ribulose 1,5-bisphosphate --> 2-Phosphoglycolate + 3-Phospho-D-glycerate + H+</p>\n",
       "                </td>\n",
       "            </tr><tr>\n",
       "                <td><strong>GPR</strong></td><td>LOC_Os01g58020 and LOC_Os05g35330 and LOC_Os11g32770 and LOC_Os12g10580 and LOC_Os10g21280 and...</td>\n",
       "            </tr><tr>\n",
       "                <td><strong>Lower bound</strong></td><td>0.0</td>\n",
       "            </tr><tr>\n",
       "                <td><strong>Upper bound</strong></td><td>1000.0</td>\n",
       "            </tr>\n",
       "        </table>\n",
       "        "
      ],
      "text/plain": [
       "<Reaction RBPOs at 0x7f200923b1f0>"
      ]
     },
     "execution_count": 27,
     "metadata": {},
     "output_type": "execute_result"
    }
   ],
   "source": [
    "#Add Rubisco Oxygenase-specific reaction to model\n",
    "\n",
    "#First retrieve the carboxylase reaction\n",
    "rbc_rxn = ios2164_orig.reactions.RBPCs\n",
    "\n",
    "\n",
    "#Define reaction. Id is RBPOs\n",
    "rbo_rxn = Reaction('RBPOs')\n",
    "rbo_rxn.name = 'Ribulose-biphosphate Oxygenase'\n",
    "\n",
    "#Components of oxygenase reaction are as follows\n",
    "#o2[s] + h2o[s] + rb15bp[s] -> 3pg[s] + 2pglyc[s]\n",
    "#Interestingly, Arnold's model accounts for the generation of protons by the rubisco reaction.\n",
    "#There's also support from literature on how protonation may also enhance CO2 capture by a plant Cell.\n",
    "#To accomodate this I'll just add the reaction specifically for both RBO and RBC reactions.\n",
    "\n",
    "#Retrieve metabolites\n",
    "o2_s = ios2164_orig.metabolites.o2_s\n",
    "h2o_s = ios2164_orig.metabolites.h2o_s\n",
    "rb15bp_s = ios2164_orig.metabolites.rb15bp_s\n",
    "h_s = ios2164_orig.metabolites.h_s\n",
    "_3pg_s = ios2164_orig.metabolites.get_by_id('3pg_s')\n",
    "_2pglyc_s = ios2164_orig.metabolites.get_by_id('2pglyc_s')\n",
    "\n",
    "#Define Stoichiometry\n",
    "rbo_rxn.add_metabolites({o2_s:-1.0, h2o_s:-1.0, rb15bp_s:-1, h_s:1, _3pg_s: 1, _2pglyc_s: 1})\n",
    "\n",
    "#Copy other details from rbc_rxn\n",
    "rbo_rxn.subsystem = rbc_rxn.subsystem\n",
    "rbo_rxn.bounds = rbc_rxn.bounds\n",
    "#Define encoded genes; copied from ios2164 supplementary\n",
    "rbo_rxn.gene_reaction_rule = rbc_rxn.gene_name_reaction_rule\n",
    "\n",
    "#Add to model\n",
    "ios2164_orig.add_reaction(rbo_rxn)\n",
    "\n",
    "ios2164_orig.repair\n",
    "\n",
    "ios2164_orig.reactions.RBPOs\n",
    "        \n",
    "#addtl refs:\n",
    "#Long, B. M., Förster, B., Pulsford, S. B., Price, G. D., & Badger, M. R. (2021). \n",
    "#Rubisco proton production can drive the elevation of CO2 within condensates and carboxysomes. \n",
    "#Proceedings of the National Academy of Sciences, 118(18)."
   ]
  },
  {
   "cell_type": "code",
   "execution_count": 6,
   "id": "25397bf0",
   "metadata": {
    "ExecuteTime": {
     "end_time": "2022-03-12T00:13:49.593493Z",
     "start_time": "2022-03-12T00:13:49.589658Z"
    }
   },
   "outputs": [],
   "source": [
    "#Add proton production to original carboxylase reaction\n",
    "#From B&B (2019), Long et al. (2021)\n",
    "rbc_rxn.add_metabolites({h_s:1.0})"
   ]
  },
  {
   "cell_type": "code",
   "execution_count": 7,
   "id": "eb896839",
   "metadata": {
    "ExecuteTime": {
     "end_time": "2022-03-12T00:13:50.435588Z",
     "start_time": "2022-03-12T00:13:49.594985Z"
    }
   },
   "outputs": [],
   "source": [
    "\n",
    "#Fix original one-cell model\n",
    "cobra.io.write_sbml_model(ios2164_orig, filename= \"../model/ios2164_orig.xml\")"
   ]
  },
  {
   "cell_type": "code",
   "execution_count": 8,
   "id": "ddaea047",
   "metadata": {
    "ExecuteTime": {
     "end_time": "2022-03-12T00:13:50.462781Z",
     "start_time": "2022-03-12T00:13:50.453320Z"
    }
   },
   "outputs": [],
   "source": [
    "#Let's add a specific demand reaction for oxygen\n",
    "\n",
    "dm_o2 = Reaction('DM_o2(c)')\n",
    "\n",
    "dm_o2.name = \"Demand reaction for oxygen\"\n",
    "\n",
    "o2_c = ios2164_orig.metabolites.o2_c\n",
    "\n",
    "\n",
    "dm_o2.add_metabolites({o2_c:-1.0})\n",
    "\n",
    "dm_o2.bounds = (0, 1000)\n",
    "\n",
    "ios2164_orig.add_reaction(dm_o2)\n",
    "\n",
    "ios2164_orig.repair()\n",
    "\n",
    "    "
   ]
  },
  {
   "cell_type": "code",
   "execution_count": 9,
   "id": "353d15bd",
   "metadata": {
    "ExecuteTime": {
     "end_time": "2022-03-12T00:13:57.981331Z",
     "start_time": "2022-03-12T00:13:50.463806Z"
    },
    "scrolled": true
   },
   "outputs": [
    {
     "name": "stdout",
     "output_type": "stream",
     "text": [
      "Read LP format model from file /tmp/tmpzsv_olgc.lp\n",
      "Reading time = 0.01 seconds\n",
      ": 1999 rows, 4892 columns, 20958 nonzeros\n"
     ]
    }
   ],
   "source": [
    "ios2164_m = copy.deepcopy(ios2164_orig)\n",
    "for met in ios2164_m.metabolites:\n",
    "    if met.compartment != \"e\": #Extracellular, defines boundary reactions\n",
    "        met.id = str(met.id) + '0'\n",
    "        met.compartment = str(met.compartment) + '0'\n",
    "\n",
    "    \n",
    "        \n",
    "for rxn in ios2164_m.reactions:\n",
    "    if \"EX_\" not in rxn.id: #Exclude exchange reactions\n",
    "        rxn.id = str(rxn.id)  + '_M'\n",
    "#     if \"EX_\" in rxn.id: #Rename media reactions\n",
    "#         rxn.name = \"M \" + str(rxn.name)\n",
    "\n",
    "ios2164_m.repair()\n"
   ]
  },
  {
   "cell_type": "code",
   "execution_count": null,
   "id": "89c5e89e",
   "metadata": {},
   "outputs": [],
   "source": []
  },
  {
   "cell_type": "code",
   "execution_count": 10,
   "id": "cb8f5a94",
   "metadata": {
    "ExecuteTime": {
     "end_time": "2022-03-12T00:14:05.175577Z",
     "start_time": "2022-03-12T00:13:57.982619Z"
    },
    "scrolled": true
   },
   "outputs": [
    {
     "name": "stdout",
     "output_type": "stream",
     "text": [
      "Read LP format model from file /tmp/tmpeka7tq8l.lp\n",
      "Reading time = 0.01 seconds\n",
      ": 1999 rows, 4892 columns, 20958 nonzeros\n"
     ]
    }
   ],
   "source": [
    "ios2164_bs = copy.deepcopy(ios2164_orig)\n",
    "\n",
    "for met in ios2164_bs.metabolites:\n",
    "    if met.compartment != \"e\": #Extracellular, defines boundary reactions\n",
    "        met.id = str(met.id) + '1'\n",
    "        met.compartment = str(met.compartment) + '1'\n",
    "    \n",
    "for rxn in ios2164_bs.reactions:\n",
    "    if \"EX_\" not in rxn.id: #Exclude exchange reactions\n",
    "        rxn.id = str(rxn.id)  + '_BS'\n",
    "#     if \"EX_\" in rxn.id: #Rename media reactions\n",
    "#         rxn.name = \"BS \" + str(rxn.name)\n",
    "\n",
    "\n",
    "ios2164_bs.repair()"
   ]
  },
  {
   "cell_type": "code",
   "execution_count": 11,
   "id": "ccac96d0",
   "metadata": {
    "ExecuteTime": {
     "end_time": "2022-03-12T00:14:06.177845Z",
     "start_time": "2022-03-12T00:14:05.176663Z"
    }
   },
   "outputs": [
    {
     "name": "stderr",
     "output_type": "stream",
     "text": [
      "Ignoring reaction 'EX_co2(e)' since it already exists.\n",
      "Ignoring reaction 'EX_h2o(e)' since it already exists.\n",
      "Ignoring reaction 'EX_h(e)' since it already exists.\n",
      "Ignoring reaction 'EX_no3(e)' since it already exists.\n",
      "Ignoring reaction 'EX_o2(e)' since it already exists.\n",
      "Ignoring reaction 'EX_pi(e)' since it already exists.\n",
      "Ignoring reaction 'EX_sucr(e)' since it already exists.\n",
      "Ignoring reaction 'EX_fru-B(e)' since it already exists.\n",
      "Ignoring reaction 'EX_glc-A(e)' since it already exists.\n",
      "Ignoring reaction 'EX_so4(e)' since it already exists.\n",
      "Ignoring reaction 'EX_hco3(e)' since it already exists.\n",
      "Ignoring reaction 'EX_so3(e)' since it already exists.\n",
      "Ignoring reaction 'EX_h2s(e)' since it already exists.\n",
      "Ignoring reaction 'EX_nh4(e)' since it already exists.\n",
      "Ignoring reaction 'EX_asn-L(e)' since it already exists.\n",
      "Ignoring reaction 'EX_gln-L(e)' since it already exists.\n",
      "Ignoring reaction 'EX_etoh(e)' since it already exists.\n",
      "Ignoring reaction 'EX_ac(e)' since it already exists.\n",
      "Ignoring reaction 'EX_lac-L(e)' since it already exists.\n",
      "Ignoring reaction 'EX_tsul(e)' since it already exists.\n",
      "Ignoring reaction 'EX_fe2(e)' since it already exists.\n",
      "Ignoring reaction 'EX_fe3(e)' since it already exists.\n",
      "Ignoring reaction 'EX_mg2(e)' since it already exists.\n",
      "Ignoring reaction 'EX_ala-L(e)' since it already exists.\n",
      "Ignoring reaction 'EX_arg-L(e)' since it already exists.\n",
      "Ignoring reaction 'EX_asp-L(e)' since it already exists.\n",
      "Ignoring reaction 'EX_cys-L(e)' since it already exists.\n",
      "Ignoring reaction 'EX_glu-L(e)' since it already exists.\n",
      "Ignoring reaction 'EX_gly(e)' since it already exists.\n",
      "Ignoring reaction 'EX_his-L(e)' since it already exists.\n",
      "Ignoring reaction 'EX_ile-L(e)' since it already exists.\n",
      "Ignoring reaction 'EX_leu-L(e)' since it already exists.\n",
      "Ignoring reaction 'EX_lys-L(e)' since it already exists.\n",
      "Ignoring reaction 'EX_met-L(e)' since it already exists.\n",
      "Ignoring reaction 'EX_phe-L(e)' since it already exists.\n",
      "Ignoring reaction 'EX_pro-L(e)' since it already exists.\n",
      "Ignoring reaction 'EX_ser-L(e)' since it already exists.\n",
      "Ignoring reaction 'EX_thr-L(e)' since it already exists.\n",
      "Ignoring reaction 'EX_trp-L(e)' since it already exists.\n",
      "Ignoring reaction 'EX_tyr-L(e)' since it already exists.\n",
      "Ignoring reaction 'EX_val-L(e)' since it already exists.\n",
      "Ignoring reaction 'EX_photonVis(e)' since it already exists.\n"
     ]
    }
   ],
   "source": [
    "#Merging the BS and M Cells\n",
    "ios2164_2cell = ios2164_m.merge(ios2164_bs, objective = \"sum\", inplace = 1)\n",
    "\n"
   ]
  },
  {
   "cell_type": "code",
   "execution_count": 12,
   "id": "d1a58a2c",
   "metadata": {
    "ExecuteTime": {
     "end_time": "2022-03-12T00:14:06.182745Z",
     "start_time": "2022-03-12T00:14:06.178844Z"
    },
    "scrolled": true
   },
   "outputs": [
    {
     "data": {
      "text/html": [
       "\n",
       "        <table>\n",
       "            <tr>\n",
       "                <td><strong>Name</strong></td>\n",
       "                <td>iOS2164</td>\n",
       "            </tr><tr>\n",
       "                <td><strong>Memory address</strong></td>\n",
       "                <td>0x07f202926ea90</td>\n",
       "            </tr><tr>\n",
       "                <td><strong>Number of metabolites</strong></td>\n",
       "                <td>3956</td>\n",
       "            </tr><tr>\n",
       "                <td><strong>Number of reactions</strong></td>\n",
       "                <td>4850</td>\n",
       "            </tr><tr>\n",
       "                <td><strong>Number of groups</strong></td>\n",
       "                <td>96</td>\n",
       "            </tr><tr>\n",
       "                <td><strong>Objective expression</strong></td>\n",
       "                <td>2.0*Straw_Biomass - 2.0*Straw_Biomass_reverse_5daed</td>\n",
       "            </tr><tr>\n",
       "                <td><strong>Compartments</strong></td>\n",
       "                <td>c0, s0, r0, m0, Extracellular, u0, x0, v0, c1, s1, r1, m1, u1, x1, v1</td>\n",
       "            </tr>\n",
       "          </table>"
      ],
      "text/plain": [
       "<Model iOS2164 at 0x7f202926ea90>"
      ]
     },
     "execution_count": 12,
     "metadata": {},
     "output_type": "execute_result"
    }
   ],
   "source": [
    "ios2164_2cell"
   ]
  },
  {
   "cell_type": "code",
   "execution_count": 13,
   "id": "d0ad8fa2",
   "metadata": {
    "ExecuteTime": {
     "end_time": "2022-03-12T00:14:06.203596Z",
     "start_time": "2022-03-12T00:14:06.183527Z"
    }
   },
   "outputs": [],
   "source": [
    "#Apparently compartments don't update after  merging so I've updated it na lang after that\n",
    "\n",
    "ios2164_2cell.compartments = {\n",
    " 'c0': 'M Cell Cytoplasm',\n",
    " 's0': 'M Cell Plastid',\n",
    " 'r0': 'M Cell Endoplasmic_reticulum',\n",
    " 'm0': 'M Cell Mitochondrion',\n",
    " 'e': 'Extracellular',\n",
    " 'u0': 'M Cell Thylakoid',\n",
    " 'x0': 'M Cell Peroxisome',\n",
    " 'v0': 'M Cell Vacuole',\n",
    " 'c1': 'BS Cell Cytoplasm',\n",
    " 's1': 'BS Cell Plastid',\n",
    " 'r1': 'BS Cell Endoplasmic_reticulum',\n",
    " 'm1': 'BS Cell Mitochondrion',\n",
    " 'u1': 'BS Cell Thylakoid',\n",
    " 'x1': 'BS Cell Peroxisome',\n",
    " 'v1': 'BS Cell Vacuole'}\n",
    "\n",
    "#Also need to rebuild the model medium\n",
    "ios2164_2cell.repair()\n"
   ]
  },
  {
   "cell_type": "markdown",
   "id": "c5bc2390",
   "metadata": {},
   "source": [
    "From Blatke & Brautigam (2019):\n",
    "\n",
    "\"The mesophyll and bundle sheath networks are connected by a range of cytosolic transport metabolites including amino acids, sugars (glucose, fructose, sucrose, trehalose, ribose), single phosphorylated sugar (glucose-6-phosphate, glucose-1-phosphate, fructose-6-phosphate, sucrose-6-phosphate), mono-/di-/tri-carboxylic acids (phosphoenolpyruvate, pyruvate, citrate, cis-aconitate, isocitrate, α-ketoglutarate, succinate, fumarate, malate), glyceric acids (2-Phosphoglycerate, 3-Phosphoglycerate), glycolate, glycerate, glyceraldehyde-3-phosphate, di-hydroxyacetone-phosphate and CO2. \n",
    "\n",
    "Nucleotides, NAD/NADH, NADP/NADPH, pyrophosphate, inorganic phosphate are not considered as transport metabolites. \n",
    "\n",
    "Oxaloacetate has been excluded as transport metabolite since concentrations of oxaloacetate are very low in vivo and it is reasonably unstable in aqueous solutions. \n",
    "\n",
    "Other small molecules that can be imported by the bundle sheath from the environment, as well as protons and HCO3-, are not exchanged between the two cell types.\n",
    "\n",
    "#So bale yung mga organic na soluble lang with reasonably long cellular half-lives."
   ]
  },
  {
   "cell_type": "code",
   "execution_count": 14,
   "id": "5a11c6e5",
   "metadata": {
    "ExecuteTime": {
     "end_time": "2022-03-12T00:14:06.294485Z",
     "start_time": "2022-03-12T00:14:06.204530Z"
    }
   },
   "outputs": [
    {
     "name": "stdout",
     "output_type": "stream",
     "text": [
      "added 73 PD reactions to model\n"
     ]
    }
   ],
   "source": [
    "#Open the initial curated list to get the metabolite ids\n",
    "transport_rxns = pd.read_csv('../model/initial_list_transport_rxns.csv')\n",
    "#Ok it gets the reactions now\n",
    "\n",
    "for item in ios2164_orig.metabolites:\n",
    "    if item.compartment == \"c\":\n",
    "        if item.id in transport_rxns.id.values:\n",
    "            pd_rxn = Reaction()\n",
    "            #Generate reaction name\n",
    "            pd_rxn.id = str(item.id[:-2] + '_pd') #Replaces suffix with '_pd'\n",
    "            pd_rxn.name = str('Plasmodesmatal transport of ' + item.name)\n",
    "            pd_rxn.subsystem = str('PD Transport Reaction')\n",
    "            #Reaction is reversible\n",
    "            pd_rxn.lower_bound = -1000\n",
    "            pd_rxn.upper_bound = 1000\n",
    "            \n",
    "            \n",
    "            #Generate metabolite names\n",
    "            \n",
    "            \n",
    "            met_mcell = str(item.id) + '0'\n",
    "            met_bcell = str(item.id) + '1'\n",
    "            \n",
    "            met_mcell = ios2164_2cell.metabolites.get_by_id(met_mcell)\n",
    "            met_bcell = ios2164_2cell.metabolites.get_by_id(met_bcell)\n",
    "            pd_rxn.add_metabolites({met_mcell:-1.0, met_bcell:1.0})\n",
    "            ios2164_2cell.add_reaction(pd_rxn)\n",
    "            \n",
    "ios2164_2cell.repair()\n",
    "\n",
    "\n",
    "#Print how many reactions added to model\n",
    "printout = 'added ' + str(len(transport_rxns)) + ' PD reactions to model'\n",
    "print(printout)\n"
   ]
  },
  {
   "cell_type": "code",
   "execution_count": 15,
   "id": "1f22883b",
   "metadata": {
    "ExecuteTime": {
     "end_time": "2022-03-12T00:14:06.319108Z",
     "start_time": "2022-03-12T00:14:06.295359Z"
    },
    "scrolled": false
   },
   "outputs": [],
   "source": [
    "#Set all fluxes to 0 muna to make it all easy.\n",
    "for rxns in ios2164_2cell.exchanges:\n",
    "    rxn_id = rxns.id\n",
    "    ios2164_2cell.reactions.get_by_id(rxn_id).bounds = (0, 0)\n"
   ]
  },
  {
   "cell_type": "code",
   "execution_count": 16,
   "id": "dc6e1e62",
   "metadata": {
    "ExecuteTime": {
     "end_time": "2022-03-12T00:14:06.323151Z",
     "start_time": "2022-03-12T00:14:06.320109Z"
    }
   },
   "outputs": [],
   "source": [
    "\n",
    "#Set Sucrose PD to be non-reversible (M -> BS) so as to properly model bulk flow\n",
    "ios2164_2cell.reactions.get_by_id('sucr_pd').bounds = (0, 1000)\n",
    "\n"
   ]
  },
  {
   "cell_type": "code",
   "execution_count": 17,
   "id": "fb077a53",
   "metadata": {
    "ExecuteTime": {
     "end_time": "2022-03-12T00:14:06.325708Z",
     "start_time": "2022-03-12T00:14:06.324062Z"
    }
   },
   "outputs": [],
   "source": [
    "#Modify GPRs to fit GPRs from RNAseq experiment\n",
    "#Or should I just add specific reactions to accomodate this?\n",
    "#I'll just add it once I'm writing the scripts for the transgenic ones, so as to streamline the creation of new constraints."
   ]
  },
  {
   "cell_type": "code",
   "execution_count": 18,
   "id": "5c2815e2",
   "metadata": {
    "ExecuteTime": {
     "end_time": "2022-03-12T00:14:06.870426Z",
     "start_time": "2022-03-12T00:14:06.326520Z"
    }
   },
   "outputs": [
    {
     "name": "stdout",
     "output_type": "stream",
     "text": [
      "Maximize\n",
      "0.5*Straw_Biomass + 0.5*Straw_Biomass_BS - 0.5*Straw_Biomass_BS_reverse_9ef17 - 0.5*Straw_Biomass_reverse_5daed\n"
     ]
    }
   ],
   "source": [
    "# Change objective function so as to reflect the two cell state\n",
    "\n",
    "\n",
    "ios2164_2cell.objective = {ios2164_2cell.reactions.Straw_Biomass_M: 1,\n",
    "                  ios2164_2cell.reactions.Straw_Biomass_BS: 1}\n",
    "ios2164_2cell.optimize()\n",
    "\n",
    "print(ios2164_2cell.objective)\n"
   ]
  },
  {
   "cell_type": "code",
   "execution_count": 22,
   "id": "ccbd05f7",
   "metadata": {
    "ExecuteTime": {
     "end_time": "2022-03-12T00:16:53.068915Z",
     "start_time": "2022-03-12T00:16:52.941516Z"
    }
   },
   "outputs": [
    {
     "data": {
      "text/html": [
       "<strong><em>Optimal</em> solution with objective value 0.000</strong><br><div>\n",
       "<style scoped>\n",
       "    .dataframe tbody tr th:only-of-type {\n",
       "        vertical-align: middle;\n",
       "    }\n",
       "\n",
       "    .dataframe tbody tr th {\n",
       "        vertical-align: top;\n",
       "    }\n",
       "\n",
       "    .dataframe thead th {\n",
       "        text-align: right;\n",
       "    }\n",
       "</style>\n",
       "<table border=\"1\" class=\"dataframe\">\n",
       "  <thead>\n",
       "    <tr style=\"text-align: right;\">\n",
       "      <th></th>\n",
       "      <th>fluxes</th>\n",
       "      <th>reduced_costs</th>\n",
       "    </tr>\n",
       "  </thead>\n",
       "  <tbody>\n",
       "    <tr>\n",
       "      <th>Coleoptile_Biomass_M</th>\n",
       "      <td>0.0</td>\n",
       "      <td>-1.334600e+00</td>\n",
       "    </tr>\n",
       "    <tr>\n",
       "      <th>Straw_Biomass_M</th>\n",
       "      <td>0.0</td>\n",
       "      <td>-1.110223e-16</td>\n",
       "    </tr>\n",
       "    <tr>\n",
       "      <th>ACCOAC_OSAc_M</th>\n",
       "      <td>0.0</td>\n",
       "      <td>-0.000000e+00</td>\n",
       "    </tr>\n",
       "    <tr>\n",
       "      <th>ACCOAC_OSAr_M</th>\n",
       "      <td>0.0</td>\n",
       "      <td>0.000000e+00</td>\n",
       "    </tr>\n",
       "    <tr>\n",
       "      <th>ACPC_OSs_M</th>\n",
       "      <td>0.0</td>\n",
       "      <td>-0.000000e+00</td>\n",
       "    </tr>\n",
       "    <tr>\n",
       "      <th>...</th>\n",
       "      <td>...</td>\n",
       "      <td>...</td>\n",
       "    </tr>\n",
       "    <tr>\n",
       "      <th>dhap_pd</th>\n",
       "      <td>0.0</td>\n",
       "      <td>1.110223e-16</td>\n",
       "    </tr>\n",
       "    <tr>\n",
       "      <th>g3p_pd</th>\n",
       "      <td>0.0</td>\n",
       "      <td>1.110223e-16</td>\n",
       "    </tr>\n",
       "    <tr>\n",
       "      <th>3pg_pd</th>\n",
       "      <td>0.0</td>\n",
       "      <td>8.326673e-17</td>\n",
       "    </tr>\n",
       "    <tr>\n",
       "      <th>glyclt_pd</th>\n",
       "      <td>0.0</td>\n",
       "      <td>-0.000000e+00</td>\n",
       "    </tr>\n",
       "    <tr>\n",
       "      <th>succ_pd</th>\n",
       "      <td>0.0</td>\n",
       "      <td>0.000000e+00</td>\n",
       "    </tr>\n",
       "  </tbody>\n",
       "</table>\n",
       "<p>4884 rows × 2 columns</p>\n",
       "</div>"
      ],
      "text/plain": [
       "<Solution 0.000 at 0x7f1fe2c6a4f0>"
      ]
     },
     "execution_count": 22,
     "metadata": {},
     "output_type": "execute_result"
    }
   ],
   "source": [
    "sample_fluxes = ios2164_2cell.optimize()\n",
    "\n",
    "sample_fluxes\n",
    "\n",
    "#Should yield 0 //"
   ]
  },
  {
   "cell_type": "code",
   "execution_count": 23,
   "id": "b668c5ed",
   "metadata": {
    "ExecuteTime": {
     "end_time": "2022-03-12T00:16:55.028475Z",
     "start_time": "2022-03-12T00:16:54.979115Z"
    }
   },
   "outputs": [],
   "source": [
    "mets = open('../misc/metabolites.csv', 'w')\n",
    "rxns = open('../misc/reactions.csv', 'w')\n",
    "\n",
    "met_write = csv.writer(mets)\n",
    "rxns_write = csv.writer(rxns)\n",
    "\n",
    "for item in ios2164_2cell.metabolites:\n",
    "    row = [item.id, item.name]\n",
    "    met_write.writerow(row)\n",
    "    \n",
    "\n",
    "for item in ios2164_2cell.reactions:\n",
    "    row = [item.id, item.name, item.build_reaction_string(), item.bounds]\n",
    "    rxns_write.writerow(row)"
   ]
  },
  {
   "cell_type": "code",
   "execution_count": 25,
   "id": "b10293c8",
   "metadata": {
    "ExecuteTime": {
     "end_time": "2022-03-12T00:18:27.278615Z",
     "start_time": "2022-03-12T00:18:25.222982Z"
    }
   },
   "outputs": [],
   "source": [
    "cobra.io.write_sbml_model(ios2164_2cell, filename= \"../model/ios2164_2cell.xml\")\n",
    "cobra.io.save_json_model(ios2164_2cell, filename=\"../model/ios2164_2cell.json\")"
   ]
  }
 ],
 "metadata": {
  "kernelspec": {
   "display_name": "Python 3",
   "language": "python",
   "name": "python3"
  },
  "language_info": {
   "codemirror_mode": {
    "name": "ipython",
    "version": 3
   },
   "file_extension": ".py",
   "mimetype": "text/x-python",
   "name": "python",
   "nbconvert_exporter": "python",
   "pygments_lexer": "ipython3",
   "version": "3.8.8"
  },
  "varInspector": {
   "cols": {
    "lenName": 16,
    "lenType": 16,
    "lenVar": 40
   },
   "kernels_config": {
    "python": {
     "delete_cmd_postfix": "",
     "delete_cmd_prefix": "del ",
     "library": "var_list.py",
     "varRefreshCmd": "print(var_dic_list())"
    },
    "r": {
     "delete_cmd_postfix": ") ",
     "delete_cmd_prefix": "rm(",
     "library": "var_list.r",
     "varRefreshCmd": "cat(var_dic_list()) "
    }
   },
   "types_to_exclude": [
    "module",
    "function",
    "builtin_function_or_method",
    "instance",
    "_Feature"
   ],
   "window_display": false
  }
 },
 "nbformat": 4,
 "nbformat_minor": 5
}
