{
 "cells": [
  {
   "cell_type": "code",
   "execution_count": 49,
   "id": "ed850710",
   "metadata": {
    "ExecuteTime": {
     "end_time": "2022-11-21T21:25:32.330020Z",
     "start_time": "2022-11-21T21:25:32.325458Z"
    }
   },
   "outputs": [],
   "source": [
    "import sys\n",
    "sys.path.append(\"../src/\") \n",
    "import os\n",
    "import model_manipulation as mm\n",
    "\n",
    "import cobra\n",
    "import libsbml\n",
    "from cobra import Model, Reaction, Metabolite, manipulation, test\n",
    "import pandas as pd\n",
    "import csv\n",
    "import copy\n",
    "from pprint import pprint\n",
    "from tabulate import tabulate"
   ]
  },
  {
   "cell_type": "code",
   "execution_count": 50,
   "id": "6ec48e83",
   "metadata": {
    "ExecuteTime": {
     "end_time": "2022-11-21T21:25:35.713437Z",
     "start_time": "2022-11-21T21:25:33.348875Z"
    }
   },
   "outputs": [],
   "source": [
    "ios2164_orig = cobra.io.read_sbml_model(\"../model/ios2164_orig.xml\")\n",
    "\n",
    "ios2164_orig.solver = 'gurobi'\n",
    "\n",
    "inf = 1e6\n",
    "\n",
    "#Set all non-zero flux bounds to 1e-6\n",
    "\n",
    "mm.set_flux_to_1e6(ios2164_orig)\n"
   ]
  },
  {
   "cell_type": "code",
   "execution_count": 51,
   "id": "469fb18b",
   "metadata": {
    "ExecuteTime": {
     "end_time": "2022-11-21T21:25:35.926344Z",
     "start_time": "2022-11-21T21:25:35.922772Z"
    },
    "scrolled": true
   },
   "outputs": [
    {
     "data": {
      "text/html": [
       "\n",
       "        <table>\n",
       "            <tr>\n",
       "                <td><strong>Reaction identifier</strong></td><td>PPCc</td>\n",
       "            </tr><tr>\n",
       "                <td><strong>Name</strong></td><td>Phosphoenolpyruvate carboxylase</td>\n",
       "            </tr><tr>\n",
       "                <td><strong>Memory address</strong></td>\n",
       "                <td>0x07f4e56250e20</td>\n",
       "            </tr><tr>\n",
       "                <td><strong>Stoichiometry</strong></td>\n",
       "                <td>\n",
       "                    <p style='text-align:right'>h_c + hco3_c + pep_c <=> h2o_c + oaa_c + pi_c</p>\n",
       "                    <p style='text-align:right'>H+ + Bicarbonate + Phosphoenolpyruvate <=> H2O + Oxaloacetate + Phosphate</p>\n",
       "                </td>\n",
       "            </tr><tr>\n",
       "                <td><strong>GPR</strong></td><td>LOC_Os01g02050 or LOC_Os08g43710 or LOC_Os01g55350 or LOC_Os01g11054 or LOC_Os09g14670 or...</td>\n",
       "            </tr><tr>\n",
       "                <td><strong>Lower bound</strong></td><td>-1000000.0</td>\n",
       "            </tr><tr>\n",
       "                <td><strong>Upper bound</strong></td><td>1000000.0</td>\n",
       "            </tr>\n",
       "        </table>\n",
       "        "
      ],
      "text/plain": [
       "<Reaction PPCc at 0x7f4e56250e20>"
      ]
     },
     "execution_count": 51,
     "metadata": {},
     "output_type": "execute_result"
    }
   ],
   "source": [
    "#Check mass balance for PEPC\n",
    "ios2164_orig.reactions.PPCc"
   ]
  },
  {
   "cell_type": "code",
   "execution_count": 52,
   "id": "1ed19fc5",
   "metadata": {
    "ExecuteTime": {
     "end_time": "2022-11-21T21:25:37.259749Z",
     "start_time": "2022-11-21T21:25:37.255286Z"
    },
    "scrolled": true
   },
   "outputs": [
    {
     "name": "stdout",
     "output_type": "stream",
     "text": [
      "before balancing {'charge': -1.0, 'H': 1.0, 'O': 1.0}\n",
      "after balancing: {}\n"
     ]
    }
   ],
   "source": [
    "print('before balancing', ios2164_orig.reactions.PPCc.check_mass_balance())\n",
    "h_c = ios2164_orig.metabolites.get_by_id('h_c')\n",
    "h2o_c = ios2164_orig.metabolites.get_by_id('h2o_c')\n",
    "ios2164_orig.reactions.PPCc.add_metabolites({h_c:1, h2o_c:-1})\n",
    "print('after balancing:', ios2164_orig.reactions.PPCc.check_mass_balance())\n",
    "\n",
    "#PEPC reaction now balanced"
   ]
  },
  {
   "cell_type": "code",
   "execution_count": 53,
   "id": "ece52963",
   "metadata": {
    "ExecuteTime": {
     "end_time": "2022-11-21T21:25:38.859796Z",
     "start_time": "2022-11-21T21:25:38.848644Z"
    }
   },
   "outputs": [
    {
     "name": "stderr",
     "output_type": "stream",
     "text": [
      "Ignoring reaction 'DM_Phloem' since it already exists.\n"
     ]
    }
   ],
   "source": [
    "#let's add a reaction specific for phloem, which includes only amino acids, starch and sucrose\n",
    "#Values are from Poolman et al. (2014) and is rescaled from mol/gcw * time to mmol/gcw * time (similar to ios2164 and Arnold's Atmodel)\n",
    "\n",
    "#Read from csv\n",
    "read_phl = pd.read_csv('../misc/phloem_sap_comp.csv')\n",
    "phl_dict = dict(read_phl.values)\n",
    "\n",
    "\n",
    "model_rxn_list = list()\n",
    "for items in phl_dict:\n",
    "    #Update reaction signs first so it's all negative \n",
    "    phl_dict[items] = phl_dict[items] * -1\n",
    "    \n",
    "    #Retrieve pointer from original model to retrieve metabolite\n",
    "    model_rxn = ios2164_orig.metabolites.get_by_id(items)\n",
    "    model_rxn_list.append(model_rxn)\n",
    "\n",
    "#Update rxns to pointers to orig model\n",
    "for rxns in model_rxn_list:\n",
    "    phl_dict[rxns] = phl_dict.pop(rxns.id)\n",
    "\n",
    "#Generate new phloem reaction\n",
    "phl_rxn = Reaction('DM_Phloem')\n",
    "phl_rxn.name = 'export reaction for phloem sap'\n",
    "phl_rxn.add_metabolites(phl_dict)\n",
    "\n",
    "ios2164_orig.add_reaction(phl_rxn)\n",
    "    "
   ]
  },
  {
   "cell_type": "code",
   "execution_count": 54,
   "id": "a2ba6acb",
   "metadata": {
    "ExecuteTime": {
     "end_time": "2022-11-21T21:25:41.698055Z",
     "start_time": "2022-11-21T21:25:41.688983Z"
    }
   },
   "outputs": [
    {
     "name": "stderr",
     "output_type": "stream",
     "text": [
      "Ignoring reaction 'ngam_atp_c' since it already exists.\n",
      "Ignoring reaction 'ngam_atp_s' since it already exists.\n",
      "Ignoring reaction 'ngam_atp_x' since it already exists.\n",
      "Ignoring reaction 'ngam_atp_m' since it already exists.\n"
     ]
    }
   ],
   "source": [
    "#Add NGAM reactions based on B&B's measurements\n",
    "#This is a  good way to account for metabolic costs. However, the only limitation would this be would be that the reaction bounds are constant and non-variable\n",
    "\n",
    "ngam_atp_c = Reaction('ngam_atp_c')\n",
    "ngam_atp_s = Reaction('ngam_atp_s')\n",
    "ngam_atp_x = Reaction('ngam_atp_x')\n",
    "ngam_atp_m = Reaction('ngam_atp_m')\n",
    "\n",
    "#Values from B&B(2019) are the ff (Units are in umol atp m-2 s-1)\n",
    "# cytosol\t0.0427\n",
    "# chloroplast\t0.1527\n",
    "# mitochondria\t0.0091\n",
    "# peroxisome\t0.0076\n",
    "\n",
    "ngam_atp_c.name = 'ATP NGAM for Cytosol'\n",
    "ngam_atp_s.name = 'ATP NGAM for Chloroplast (Plastid)'\n",
    "ngam_atp_x.name = 'ATP NGAM for Peroxisome'\n",
    "ngam_atp_m.name = 'ATP NGAM for Mitochondria'\n",
    "\n",
    "atp_c = ios2164_orig.metabolites.atp_c\n",
    "adp_c = ios2164_orig.metabolites.adp_c\n",
    "h2o_c = ios2164_orig.metabolites.h2o_c\n",
    "pi_c = ios2164_orig.metabolites.pi_c\n",
    "h_c = ios2164_orig.metabolites.h_c\n",
    "\n",
    "atp_s = ios2164_orig.metabolites.atp_s\n",
    "adp_s = ios2164_orig.metabolites.adp_s\n",
    "h2o_s = ios2164_orig.metabolites.h2o_s\n",
    "pi_s = ios2164_orig.metabolites.pi_s\n",
    "h_s = ios2164_orig.metabolites.h_s\n",
    "\n",
    "atp_x = ios2164_orig.metabolites.atp_x\n",
    "adp_x = ios2164_orig.metabolites.adp_x\n",
    "h2o_x = ios2164_orig.metabolites.h2o_x\n",
    "pi_x = ios2164_orig.metabolites.pi_x\n",
    "h_x =  ios2164_orig.metabolites.h_x\n",
    "\n",
    "atp_m = ios2164_orig.metabolites.atp_m\n",
    "adp_m = ios2164_orig.metabolites.adp_m\n",
    "h2o_m = ios2164_orig.metabolites.h2o_m\n",
    "pi_m = ios2164_orig.metabolites.pi_m\n",
    "h_m = ios2164_orig.metabolites.h_m\n",
    "\n",
    "\n",
    "\n",
    "ngam_atp_c.add_metabolites({atp_c:-1, adp_c:1, pi_c:1, h_c: 1})\n",
    "ngam_atp_s.add_metabolites({atp_s:-1, adp_s:1, pi_s:1, h_s: 1})\n",
    "ngam_atp_x.add_metabolites({atp_x:-1, adp_x:1, pi_x:1, h_x: 1})\n",
    "ngam_atp_m.add_metabolites({atp_m:-1, adp_m:1, pi_m:1, h_m: 1})\n",
    "\n",
    "#what I'll implement instead will be Topfer's linear NGAM approach, which scales NGAM with PPFD\n",
    "\n",
    "\n",
    "\n",
    "ios2164_orig.add_reaction(ngam_atp_c)\n",
    "ios2164_orig.add_reaction(ngam_atp_s)\n",
    "ios2164_orig.add_reaction(ngam_atp_x)\n",
    "ios2164_orig.add_reaction(ngam_atp_m)\n",
    "\n"
   ]
  },
  {
   "cell_type": "code",
   "execution_count": 55,
   "id": "04400c20",
   "metadata": {
    "ExecuteTime": {
     "end_time": "2022-11-21T21:25:44.393617Z",
     "start_time": "2022-11-21T21:25:44.389131Z"
    }
   },
   "outputs": [
    {
     "name": "stdout",
     "output_type": "stream",
     "text": [
      "before balancing: {'charge': -1.0, 'H': 1.0, 'O': 1.0}\n",
      "after balancing: {}\n"
     ]
    }
   ],
   "source": [
    "print('before balancing:', ios2164_orig.reactions.ngam_atp_c.check_mass_balance())\n",
    "ios2164_orig.reactions.ngam_atp_c.add_metabolites({h2o_c:-1, h_c:1})\n",
    "ios2164_orig.reactions.ngam_atp_s.add_metabolites({h2o_s:-1, h_s:1})\n",
    "ios2164_orig.reactions.ngam_atp_x.add_metabolites({h2o_x:-1, h_x:1})\n",
    "ios2164_orig.reactions.ngam_atp_m.add_metabolites({h2o_m:-1, h_m:1})\n",
    "print('after balancing:', ios2164_orig.reactions.ngam_atp_c.check_mass_balance())"
   ]
  },
  {
   "cell_type": "code",
   "execution_count": 56,
   "id": "9f19b614",
   "metadata": {
    "ExecuteTime": {
     "end_time": "2022-11-21T21:25:59.132571Z",
     "start_time": "2022-11-21T21:25:59.121837Z"
    },
    "scrolled": true
   },
   "outputs": [
    {
     "name": "stderr",
     "output_type": "stream",
     "text": [
      "Ignoring reaction 'ngam_nadphox_c' since it already exists.\n",
      "Ignoring reaction 'ngam_nadphox_s' since it already exists.\n",
      "Ignoring reaction 'ngam_nadphox_m' since it already exists.\n"
     ]
    }
   ],
   "source": [
    "#NGAM for NADPH should be defined in the following compartments:\n",
    "\n",
    "#cytosol, mitochondria and plastid\n",
    "\n",
    "ngam_nadphox_c = Reaction('ngam_nadphox_c')\n",
    "ngam_nadphox_s = Reaction('ngam_nadphox_s')\n",
    "ngam_nadphox_m = Reaction('ngam_nadphox_m')\n",
    "\n",
    "ngam_nadphox_c.name = \"Generic cytosolic NADPH Oxidase for NGAM\"\n",
    "ngam_nadphox_s.name = \"Generic stromal NADPH Oxidase for NGAM\"\n",
    "ngam_nadphox_m.name = \"Generic mitochondrial NADPH Oxidase for NGAM\"\n",
    "\n",
    "#reaction would be the following\n",
    "# #NADPH + 2O2 ↔ NADP+ + 2O2− + H+\n",
    "#From Cheung et al (2013)'s work on modelling the effects of NGAM on plant fluxes, which in turn was  followed \n",
    "# NADP_c + x_NADPHWorkc + WATER_c ⇔ NADPH_c + ×met_2259 + PROTON_c\t\n",
    "#Met_2259 is oxygen\n",
    "\n",
    "#Get all the constituent metabolites for the generic NADPH oxidase reaction in each compartment\n",
    "nadph_c = ios2164_orig.metabolites.nadph_c\n",
    "nadph_s = ios2164_orig.metabolites.nadph_s\n",
    "nadph_m = ios2164_orig.metabolites.nadph_m\n",
    "\n",
    "\n",
    "nadp_c = ios2164_orig.metabolites.nadp_c\n",
    "nadp_s = ios2164_orig.metabolites.nadp_s\n",
    "nadp_m = ios2164_orig.metabolites.nadp_m\n",
    "\n",
    "h_c = ios2164_orig.metabolites.h_c\n",
    "h_s = ios2164_orig.metabolites.h_s\n",
    "h_m = ios2164_orig.metabolites.h_m\n",
    "\n",
    "o2_c = ios2164_orig.metabolites.o2_c\n",
    "o2_s = ios2164_orig.metabolites.o2_s\n",
    "o2_m = ios2164_orig.metabolites.o2_m\n",
    "\n",
    "h2o_c = ios2164_orig.metabolites.h2o_c\n",
    "h2o_s =  ios2164_orig.metabolites.h2o_s\n",
    "h2o_m =  ios2164_orig.metabolites.h2o_m\n",
    "\n",
    "\n",
    "ngam_nadphox_c.add_metabolites({nadph_c:-1, o2_c:-1, h_c:-1, nadp_c:1, h2o_c: 1})\n",
    "ngam_nadphox_s.add_metabolites({nadph_s:-1, o2_s:-1, h_s:-1, nadp_s:1, h2o_s: 1})\n",
    "ngam_nadphox_m.add_metabolites({nadph_m:-1, o2_m:-1, h_m:-1, nadp_m:1, h2o_m: 1})\n",
    "\n",
    "ngam_nadphox_c.bounds=(0, inf)\n",
    "ngam_nadphox_s.bounds=(0,inf)\n",
    "ngam_nadphox_m.bounds=(0,inf)\n",
    "\n",
    "ios2164_orig.add_reaction(ngam_nadphox_c)\n",
    "ios2164_orig.add_reaction(ngam_nadphox_s)\n",
    "ios2164_orig.add_reaction(ngam_nadphox_m)\n"
   ]
  },
  {
   "cell_type": "code",
   "execution_count": null,
   "id": "27569ca9",
   "metadata": {},
   "outputs": [],
   "source": []
  },
  {
   "cell_type": "code",
   "execution_count": null,
   "id": "256fe7c6",
   "metadata": {
    "ExecuteTime": {
     "end_time": "2022-11-21T21:11:15.822237Z",
     "start_time": "2022-11-21T21:11:15.818706Z"
    }
   },
   "outputs": [],
   "source": [
    "#Add constraints such that the NADPH oxidase flux ratios are equally distributed in each compartment\n",
    "#Methodology is the same as the one by Cheung et al (2014) along with other studies stemming\n",
    "#from it (Shameer et al 2018, Topfer et al 2020)\n",
    "\n",
    "nadphox_c_s = mm.set_fix_flux_ratio({ngam_nadphox_c.id:1, ngam_nadphox_s.id:1},ios2164_orig)\n",
    "nadphox_c_s.name = \"nadphox_cs_ratio\"\n",
    "nadphox_s_m = mm.set_fix_flux_ratio({ngam_nadphox_s.id:1, ngam_nadphox_m.id:1}, ios2164_orig)\n",
    "nadphox_s_m.name = \"nadphox_sm_ratio\"\n",
    "\n",
    "ios2164_orig.add_cons_vars(nadphox_c_s)\n",
    "ios2164_orig.add_cons_vars(nadphox_s_m)\n",
    "\n"
   ]
  },
  {
   "cell_type": "code",
   "execution_count": null,
   "id": "e4cf457a",
   "metadata": {
    "ExecuteTime": {
     "end_time": "2022-11-21T21:11:17.148635Z",
     "start_time": "2022-11-21T21:11:17.144826Z"
    }
   },
   "outputs": [],
   "source": [
    "\n",
    "#Add constraint such that ATP:NADPH oxidase ratio is at 3:1, as indicated by Cheung et al. (2013) \n",
    "#to be the \"normal\"\n",
    "#ATP:redox demand ratio\n",
    "\n",
    "fex_nadphoxc =  mm.get_flux_exp(ios2164_orig, ngam_nadphox_c)\n",
    "fex_nadphoxs =  mm.get_flux_exp(ios2164_orig, ngam_nadphox_s)\n",
    "fex_nadphoxm =  mm.get_flux_exp(ios2164_orig, ngam_nadphox_m)\n",
    "fex_atpc = mm.get_flux_exp(ios2164_orig, ngam_atp_c)\n",
    "fex_atps =  mm.get_flux_exp(ios2164_orig, ngam_atp_s)\n",
    "fex_atpm = mm.get_flux_exp(ios2164_orig, ngam_atp_m)\n",
    "fex_atpx =mm.get_flux_exp(ios2164_orig, ngam_atp_x)\n",
    "\n",
    "\n",
    "nadphox_atpase = ios2164_orig.problem.Constraint(3*(fex_nadphoxc+fex_nadphoxs +fex_nadphoxm) \n",
    "                                     - 1*(fex_atpc + fex_atps + fex_atpm),\n",
    "                                     lb=0,ub=0)\n",
    "nadphox_atpase.name = \"nadphox_atpase_ratio\"\n",
    "\n",
    "\n",
    "ios2164_orig.add_cons_vars(nadphox_atpase)\n"
   ]
  },
  {
   "cell_type": "code",
   "execution_count": null,
   "id": "6576b91d",
   "metadata": {
    "ExecuteTime": {
     "end_time": "2022-11-21T21:13:30.771253Z",
     "start_time": "2022-11-21T21:13:30.768373Z"
    },
    "scrolled": true
   },
   "outputs": [],
   "source": [
    "ios2164_orig.reactions.ngam_nadphox_c"
   ]
  },
  {
   "cell_type": "code",
   "execution_count": null,
   "id": "70bb276f",
   "metadata": {
    "ExecuteTime": {
     "end_time": "2022-11-21T21:14:50.161303Z",
     "start_time": "2022-11-21T21:14:50.157503Z"
    }
   },
   "outputs": [],
   "source": []
  },
  {
   "cell_type": "code",
   "execution_count": null,
   "id": "6c586f15",
   "metadata": {},
   "outputs": [],
   "source": []
  },
  {
   "cell_type": "code",
   "execution_count": null,
   "id": "46e1545a",
   "metadata": {
    "ExecuteTime": {
     "end_time": "2022-11-21T21:10:41.847453Z",
     "start_time": "2022-11-21T21:10:41.823454Z"
    }
   },
   "outputs": [],
   "source": [
    "ios2164_orig.constraints.nadphox_cs_ratio.expression"
   ]
  },
  {
   "cell_type": "code",
   "execution_count": null,
   "id": "9b49f5a7",
   "metadata": {
    "ExecuteTime": {
     "end_time": "2022-11-21T21:10:45.737783Z",
     "start_time": "2022-11-21T21:10:45.717483Z"
    }
   },
   "outputs": [],
   "source": [
    "#Restrict all reactions to white light only\n",
    "for lights in ios2164_orig.reactions:\n",
    "    if 'PRISM' in lights.id:\n",
    "        ios2164_orig.reactions.get_by_id(lights.id).bounds = (-1e6,1e6)\n",
    "        #Constrain all non-white light reactions to 0\n",
    "        if 'white' not in lights.id:\n",
    "            ios2164_orig.reactions.get_by_id(lights.id).bounds = (0,0)\n"
   ]
  },
  {
   "cell_type": "code",
   "execution_count": null,
   "id": "43a6faf1",
   "metadata": {
    "ExecuteTime": {
     "end_time": "2022-11-21T20:50:57.914080Z",
     "start_time": "2022-11-21T20:50:57.907900Z"
    },
    "scrolled": true
   },
   "outputs": [],
   "source": [
    "#Add Rubisco Oxygenase-specific reaction to model\n",
    "\n",
    "#First retrieve the carboxylase reaction\n",
    "rbc_rxn = ios2164_orig.reactions.RBPCs\n",
    "\n",
    "\n",
    "#Define reaction. Id is RBPOs\n",
    "rbo_rxn = Reaction('RBPOs')\n",
    "rbo_rxn.name = 'Ribulose-biphosphate Oxygenase'\n",
    "\n",
    "#Components of oxygenase reaction are as follows\n",
    "#o2[s] + h2o[s] + rb15bp[s] -> 3pg[s] + 2pglyc[s]\n",
    "#Interestingly, Arnold's model accounts for the generation of protons by the rubisco reaction.\n",
    "#There's also support from literature on how protonation may also enhance CO2 capture by a plant Cell.\n",
    "#To accomodate this I'll just add the reaction specifically for both RBO and RBC reactions.\n",
    "\n",
    "#Retrieve metabolites\n",
    "o2_s = ios2164_orig.metabolites.o2_s\n",
    "h2o_s = ios2164_orig.metabolites.h2o_s\n",
    "rb15bp_s = ios2164_orig.metabolites.rb15bp_s\n",
    "h_s = ios2164_orig.metabolites.h_s\n",
    "_3pg_s = ios2164_orig.metabolites.get_by_id('3pg_s')\n",
    "_2pglyc_s = ios2164_orig.metabolites.get_by_id('2pglyc_s')\n",
    "\n",
    "#Define Stoichiometry\n",
    "rbo_rxn.add_metabolites({o2_s:-1.0, h2o_s:-1.0, rb15bp_s:-1, _3pg_s: 1, _2pglyc_s: 1})\n",
    "\n",
    "#Copy other details from rbc_rxn\n",
    "rbo_rxn.subsystem = rbc_rxn.subsystem\n",
    "rbo_rxn.bounds = rbc_rxn.bounds\n",
    "#Define encoded genes; copied from ios2164 supplementary\n",
    "rbo_rxn.gene_reaction_rule = rbc_rxn.gene_name_reaction_rule\n",
    "\n",
    "#Add to model\n",
    "ios2164_orig.add_reaction(rbo_rxn)\n",
    "\n",
    "ios2164_orig.repair\n",
    "\n",
    "ios2164_orig.reactions.RBPOs\n",
    "        \n",
    "#addtl refs:\n",
    "#Long, B. M., Förster, B., Pulsford, S. B., Price, G. D., & Badger, M. R. (2021). \n",
    "#Rubisco proton production can drive the elevation of CO2 within condensates and carboxysomes. \n",
    "#Proceedings of the National Academy of Sciences, 118(18)."
   ]
  },
  {
   "cell_type": "code",
   "execution_count": null,
   "id": "25397bf0",
   "metadata": {
    "ExecuteTime": {
     "end_time": "2022-11-21T20:50:04.139739Z",
     "start_time": "2022-11-21T20:50:04.136950Z"
    }
   },
   "outputs": [],
   "source": [
    "# #Add proton production to original carboxylase reaction\n",
    "# #From B&B (2019), Long et al. (2021)\n",
    "# rbc_rxn.add_metabolites({h_s:-12.0})\n",
    "rbc_rxn.check_mass_balance()"
   ]
  },
  {
   "cell_type": "code",
   "execution_count": null,
   "id": "ddaea047",
   "metadata": {
    "ExecuteTime": {
     "end_time": "2022-11-21T20:49:33.580590Z",
     "start_time": "2022-11-21T20:49:33.542080Z"
    }
   },
   "outputs": [],
   "source": [
    "#Let's add a specific demand reaction for oxygen\n",
    "\n",
    "dm_o2 = Reaction('DM_o2(c)')\n",
    "\n",
    "dm_o2.name = \"Demand reaction for oxygen\"\n",
    "\n",
    "o2_c = ios2164_orig.metabolites.o2_c\n",
    "\n",
    "\n",
    "dm_o2.add_metabolites({o2_c:-1.0})\n",
    "\n",
    "dm_o2.bounds = (0, inf)\n",
    "\n",
    "ios2164_orig.add_reaction(dm_o2)\n",
    "\n",
    "ios2164_orig.repair()\n",
    "\n",
    "    "
   ]
  },
  {
   "cell_type": "code",
   "execution_count": null,
   "id": "353d15bd",
   "metadata": {
    "ExecuteTime": {
     "end_time": "2022-11-21T20:49:56.389186Z",
     "start_time": "2022-11-21T20:49:47.274296Z"
    },
    "scrolled": true
   },
   "outputs": [],
   "source": [
    "ios2164_m = copy.deepcopy(ios2164_orig)\n",
    "for met in ios2164_m.metabolites:\n",
    "    if met.compartment != \"e\": #Extracellular, defines boundary reactions\n",
    "        met.id = str(met.id) + '0'\n",
    "        met.compartment = str(met.compartment) + '0'\n",
    "\n",
    "    \n",
    "        \n",
    "for rxn in ios2164_m.reactions:\n",
    "    if \"EX_\" not in rxn.id: #Exclude exchange reactions\n",
    "        rxn.id = str(rxn.id)  + '_M'\n",
    "\n",
    "\n",
    "#Change name of reaction \n",
    "ios2164_m.repair()\n",
    "\n",
    "\n",
    "#Change name of NGAM constraints\n",
    "ios2164_m.constraints.nadphox_atpase_ratio.name = str(ios2164_m.constraints.nadphox_atpase_ratio.name) + \"_M\"\n",
    "ios2164_m.constraints.get(\"nadphox_cs_ratio\").name = str(ios2164_m.constraints.get(\"nadphox_cs_ratio\").name) +\"_M\"\n",
    "ios2164_m.constraints.get(\"nadphox_sm_ratio\").name = str(ios2164_m.constraints.get(\"nadphox_sm_ratio\").name) +\"_M\""
   ]
  },
  {
   "cell_type": "code",
   "execution_count": null,
   "id": "cb8f5a94",
   "metadata": {
    "ExecuteTime": {
     "end_time": "2022-11-21T20:49:56.390961Z",
     "start_time": "2022-11-21T20:49:50.080Z"
    },
    "scrolled": true
   },
   "outputs": [],
   "source": [
    "ios2164_bs = copy.deepcopy(ios2164_orig)\n",
    "\n",
    "for met in ios2164_bs.metabolites:\n",
    "    if met.compartment != \"e\": #Extracellular, defines boundary reactions\n",
    "        met.id = str(met.id) + '1'\n",
    "        met.compartment = str(met.compartment) + '1'\n",
    "    \n",
    "for rxn in ios2164_bs.reactions:\n",
    "    if \"EX_\" not in rxn.id: #Exclude exchange reactions\n",
    "        rxn.id = str(rxn.id)  + '_BS'\n",
    "\n",
    "\n",
    "\n",
    "\n",
    "#Replace NGAM constraint names\n",
    "ios2164_bs.constraints.nadphox_atpase_ratio.name = str(ios2164_bs.constraints.nadphox_atpase_ratio.name) + \"_BS\"\n",
    "ios2164_bs.constraints.get(\"nadphox_cs_ratio\").name = str(ios2164_bs.constraints.get(\"nadphox_cs_ratio\").name) +\"_BS\"\n",
    "ios2164_bs.constraints.get(\"nadphox_sm_ratio\").name = str(ios2164_bs.constraints.get(\"nadphox_sm_ratio\").name) +\"_BS\""
   ]
  },
  {
   "cell_type": "code",
   "execution_count": null,
   "id": "ba762d1f",
   "metadata": {
    "ExecuteTime": {
     "end_time": "2022-11-21T20:48:51.158566Z",
     "start_time": "2022-11-21T20:48:46.282Z"
    }
   },
   "outputs": [],
   "source": [
    "#merge models\n",
    "ios2164_2cell = ios2164_m.merge(ios2164_bs, inplace=True, objective = 'sum')\n"
   ]
  },
  {
   "cell_type": "code",
   "execution_count": null,
   "id": "24994fe6",
   "metadata": {
    "ExecuteTime": {
     "end_time": "2022-11-21T20:48:51.160419Z",
     "start_time": "2022-11-21T20:48:47.884Z"
    }
   },
   "outputs": [],
   "source": [
    "#Turn off all NGAMs in the meantime. I can return it when I perform the  simulations directly\n",
    "for rxns in ios2164_2cell.reactions:\n",
    "    \n",
    "    if 'ngam_atp' in rxns.id:\n",
    "        ios2164_2cell.reactions.get_by_id(rxns.id).bounds = (0,0)\n",
    "        print(rxns.id, rxns.bounds)"
   ]
  },
  {
   "cell_type": "code",
   "execution_count": null,
   "id": "d0ad8fa2",
   "metadata": {
    "ExecuteTime": {
     "end_time": "2022-11-21T20:48:28.837100Z",
     "start_time": "2022-11-21T20:48:26.513Z"
    }
   },
   "outputs": [],
   "source": [
    "#Apparently compartments don't update after  merging so I've updated it na lang after that\n",
    "\n",
    "ios2164_2cell.compartments = {\n",
    " 'c0': 'M Cell Cytoplasm',\n",
    " 's0': 'M Cell Plastid',\n",
    " 'r0': 'M Cell Endoplasmic_reticulum',\n",
    " 'm0': 'M Cell Mitochondrion',\n",
    " 'e': 'Extracellular',\n",
    " 'u0': 'M Cell Thylakoid',\n",
    " 'x0': 'M Cell Peroxisome',\n",
    " 'v0': 'M Cell Vacuole',\n",
    " 'c1': 'BS Cell Cytoplasm',\n",
    " 's1': 'BS Cell Plastid',\n",
    " 'r1': 'BS Cell Endoplasmic_reticulum',\n",
    " 'm1': 'BS Cell Mitochondrion',\n",
    " 'u1': 'BS Cell Thylakoid',\n",
    " 'x1': 'BS Cell Peroxisome',\n",
    " 'v1': 'BS Cell Vacuole'}\n",
    "\n",
    "#Also need to rebuild the model medium\n",
    "ios2164_2cell.repair()\n"
   ]
  },
  {
   "cell_type": "markdown",
   "id": "c5bc2390",
   "metadata": {},
   "source": [
    "From Blatke & Brautigam (2019):\n",
    "\n",
    "\"The mesophyll and bundle sheath networks are connected by a range of cytosolic transport metabolites including amino acids, sugars (glucose, fructose, sucrose, trehalose, ribose), single phosphorylated sugar (glucose-6-phosphate, glucose-1-phosphate, fructose-6-phosphate, sucrose-6-phosphate), mono-/di-/tri-carboxylic acids (phosphoenolpyruvate, pyruvate, citrate, cis-aconitate, isocitrate, α-ketoglutarate, succinate, fumarate, malate), glyceric acids (2-Phosphoglycerate, 3-Phosphoglycerate), glycolate, glycerate, glyceraldehyde-3-phosphate, di-hydroxyacetone-phosphate and CO2. \n",
    "\n",
    "Nucleotides, NAD/NADH, NADP/NADPH, pyrophosphate, inorganic phosphate are not considered as transport metabolites. \n",
    "\n",
    "Oxaloacetate has been excluded as transport metabolite since concentrations of oxaloacetate are very low in vivo and it is reasonably unstable in aqueous solutions. \n",
    "\n",
    "Other small molecules that can be imported by the bundle sheath from the environment, as well as protons and HCO3-, are not exchanged between the two cell types.\n",
    "\n",
    "#So bale yung mga organic na soluble lang with reasonably long cellular half-lives."
   ]
  },
  {
   "cell_type": "code",
   "execution_count": null,
   "id": "5a11c6e5",
   "metadata": {
    "ExecuteTime": {
     "end_time": "2022-11-21T20:48:33.745960Z",
     "start_time": "2022-11-21T20:48:33.733610Z"
    }
   },
   "outputs": [],
   "source": [
    "#Open the initial curated list to get the metabolite ids\n",
    "transport_rxns = pd.read_csv('../model/initial_list_transport_rxns.csv')\n",
    "#Ok it gets the reactions now\n",
    "\n",
    "for item in ios2164_orig.metabolites:\n",
    "    if item.compartment == \"c\":\n",
    "        if item.id in transport_rxns.id.values:\n",
    "            pd_rxn = Reaction()\n",
    "            #Generate reaction name\n",
    "            pd_rxn.id = str(item.id[:-2] + '_pd') #Replaces suffix with '_pd'\n",
    "            pd_rxn.name = str('Plasmodesmatal transport of ' + item.name)\n",
    "            pd_rxn.subsystem = str('PD Transport Reaction')\n",
    "            #Reaction is reversible\n",
    "            pd_rxn.lower_bound = -inf\n",
    "            pd_rxn.upper_bound = inf\n",
    "            \n",
    "            \n",
    "            #Generate metabolite names\n",
    "            \n",
    "            \n",
    "            met_mcell = str(item.id) + '0'\n",
    "            met_bcell = str(item.id) + '1'\n",
    "            \n",
    "            met_mcell = ios2164_2cell.metabolites.get_by_id(met_mcell)\n",
    "            met_bcell = ios2164_2cell.metabolites.get_by_id(met_bcell)\n",
    "            pd_rxn.add_metabolites({met_mcell:-1.0, met_bcell:1.0})\n",
    "            ios2164_2cell.add_reaction(pd_rxn)\n",
    "            \n",
    "ios2164_2cell.repair()\n",
    "\n",
    "\n",
    "#Print how many reactions added to model\n",
    "printout = 'added ' + str(len(transport_rxns)) + ' PD reactions to model'\n",
    "print(printout)\n"
   ]
  },
  {
   "cell_type": "code",
   "execution_count": null,
   "id": "a2fbac4d",
   "metadata": {
    "ExecuteTime": {
     "end_time": "2022-04-23T07:17:00.786479Z",
     "start_time": "2022-04-23T07:17:00.780686Z"
    }
   },
   "outputs": [],
   "source": [
    "for pds in ios2164_2cell.reactions:\n",
    "    if 'pd' in pds.id:\n",
    "        print(pds.id)"
   ]
  },
  {
   "cell_type": "code",
   "execution_count": null,
   "id": "1f22883b",
   "metadata": {
    "ExecuteTime": {
     "end_time": "2022-04-22T09:44:07.129335Z",
     "start_time": "2022-04-22T09:44:07.102785Z"
    },
    "scrolled": false
   },
   "outputs": [],
   "source": [
    "# #Set all fluxes to 0 muna to make it all easy.\n",
    "# for rxns in ios2164_2cell.exchanges:\n",
    "#     rxn_id = rxns.id\n",
    "#     ios2164_2cell.reactions.get_by_id(rxn_id).bounds = (0, 0)\n"
   ]
  },
  {
   "cell_type": "code",
   "execution_count": null,
   "id": "dc6e1e62",
   "metadata": {
    "ExecuteTime": {
     "end_time": "2022-04-23T07:17:06.859966Z",
     "start_time": "2022-04-23T07:17:06.855536Z"
    }
   },
   "outputs": [],
   "source": [
    "\n",
    "#Set Sucrose PD to be non-reversible (M -> BS) so as to properly model bulk flow\n",
    "ios2164_2cell.reactions.get_by_id('sucr_pd').bounds = (0, 1000)\n",
    "\n"
   ]
  },
  {
   "cell_type": "code",
   "execution_count": null,
   "id": "44b6ca8d",
   "metadata": {
    "ExecuteTime": {
     "end_time": "2022-04-23T07:17:09.829428Z",
     "start_time": "2022-04-23T07:17:09.277725Z"
    }
   },
   "outputs": [],
   "source": [
    "\n",
    "mm.set_flux_to_1e6(ios2164_2cell)\n",
    "\n",
    "for item in ios2164_2cell.reactions:\n",
    "    print(item.id, item.bounds)"
   ]
  },
  {
   "cell_type": "code",
   "execution_count": null,
   "id": "5c2815e2",
   "metadata": {
    "ExecuteTime": {
     "end_time": "2022-04-23T07:17:12.453029Z",
     "start_time": "2022-04-23T07:17:12.439662Z"
    },
    "scrolled": true
   },
   "outputs": [],
   "source": [
    "# Change objective function so as to reflect the two cell state\n",
    "\n",
    "\n",
    "ios2164_2cell.objective = {ios2164_2cell.reactions.Straw_Biomass_M: 1,\n",
    "                  ios2164_2cell.reactions.Straw_Biomass_BS: 1}\n",
    "\n",
    "\n",
    "print(ios2164_2cell.objective)\n"
   ]
  },
  {
   "cell_type": "code",
   "execution_count": null,
   "id": "b668c5ed",
   "metadata": {
    "ExecuteTime": {
     "end_time": "2022-04-23T07:17:15.438091Z",
     "start_time": "2022-04-23T07:17:15.123973Z"
    }
   },
   "outputs": [],
   "source": [
    "mets = open('../misc/metabolites.csv', 'w')\n",
    "rxns = open('../misc/reactions.csv', 'w')\n",
    "cons = open('../misc/constraints.csv', 'w')\n",
    "\n",
    "met_write = csv.writer(mets)\n",
    "rxns_write = csv.writer(rxns)\n",
    "cons_write = csv.writer(cons)\n",
    "\n",
    "for item in ios2164_2cell.metabolites:\n",
    "    row = [item.id, item.name]\n",
    "    met_write.writerow(row)\n",
    "    \n",
    "\n",
    "for item in ios2164_2cell.reactions:\n",
    "    row = [item.id, item.name, item.build_reaction_string(), item.bounds]\n",
    "    rxns_write.writerow(row)\n",
    "\n",
    "for item  in ios2164_2cell.constraints:\n",
    "    row =  [str(item.name), str(item.expression)]\n",
    "    cons_write.writerow(row)\n",
    "    \n",
    "    \n"
   ]
  },
  {
   "cell_type": "code",
   "execution_count": null,
   "id": "b10293c8",
   "metadata": {
    "ExecuteTime": {
     "end_time": "2022-04-23T07:17:23.915548Z",
     "start_time": "2022-04-23T07:17:20.389665Z"
    }
   },
   "outputs": [],
   "source": [
    "cobra.io.write_sbml_model(ios2164_2cell, filename= \"../model/ios2164_2cell.xml\")\n",
    "#Save Json for mapping\n",
    "cobra.io.save_json_model(ios2164_2cell, filename=\"../model/ios2164_2cell.json\")\n",
    "#Save one-cell model to incorporate updates\n",
    "cobra.io.write_sbml_model(ios2164_orig, filename=\"../model/ios2164_1cell.xml\")"
   ]
  }
 ],
 "metadata": {
  "kernelspec": {
   "display_name": "Python 3",
   "language": "python",
   "name": "python3"
  },
  "language_info": {
   "codemirror_mode": {
    "name": "ipython",
    "version": 3
   },
   "file_extension": ".py",
   "mimetype": "text/x-python",
   "name": "python",
   "nbconvert_exporter": "python",
   "pygments_lexer": "ipython3",
   "version": "3.8.8"
  },
  "varInspector": {
   "cols": {
    "lenName": 16,
    "lenType": 16,
    "lenVar": 40
   },
   "kernels_config": {
    "python": {
     "delete_cmd_postfix": "",
     "delete_cmd_prefix": "del ",
     "library": "var_list.py",
     "varRefreshCmd": "print(var_dic_list())"
    },
    "r": {
     "delete_cmd_postfix": ") ",
     "delete_cmd_prefix": "rm(",
     "library": "var_list.r",
     "varRefreshCmd": "cat(var_dic_list()) "
    }
   },
   "types_to_exclude": [
    "module",
    "function",
    "builtin_function_or_method",
    "instance",
    "_Feature"
   ],
   "window_display": false
  }
 },
 "nbformat": 4,
 "nbformat_minor": 5
}
