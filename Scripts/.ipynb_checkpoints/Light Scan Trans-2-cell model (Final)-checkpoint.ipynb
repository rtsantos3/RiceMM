{
 "cells": [
  {
   "cell_type": "code",
   "execution_count": 147,
   "id": "23e2cbd1",
   "metadata": {
    "ExecuteTime": {
     "end_time": "2022-05-17T14:54:39.473143Z",
     "start_time": "2022-05-17T14:54:39.303584Z"
    }
   },
   "outputs": [],
   "source": [
    "import sys\n",
    "sys.path.append(\"../src/\") \n",
    "import os\n",
    "\n",
    "import model_manipulation as mm\n",
    "import cobra\n",
    "import cplex \n",
    "import libsbml\n",
    "import pandas as pd\n",
    "import copy\n",
    "from pathlib import Path\n",
    "import matplotlib.pyplot as plt\n",
    "import csv\n",
    "import numpy as np\n",
    "import seaborn as sns\n",
    "from cobra import Reaction\n"
   ]
  },
  {
   "cell_type": "code",
   "execution_count": 5,
   "id": "8def8923",
   "metadata": {
    "ExecuteTime": {
     "end_time": "2022-05-17T06:20:45.601318Z",
     "start_time": "2022-05-17T06:20:41.097908Z"
    }
   },
   "outputs": [],
   "source": [
    "#Read 2-cell model\n",
    "model = cobra.io.read_sbml_model(\"../model/ios2164_2cell.xml\")\n",
    "#Estimate inf\n",
    "inf = 1e6\n",
    "model.solver = 'gurobi'\n"
   ]
  },
  {
   "cell_type": "code",
   "execution_count": 112,
   "id": "c6481857",
   "metadata": {
    "ExecuteTime": {
     "end_time": "2022-05-17T09:39:53.249192Z",
     "start_time": "2022-05-17T09:39:53.222258Z"
    }
   },
   "outputs": [],
   "source": [
    "#This codeblock is to define some functions that will be used for modelling.\n",
    "\n",
    "\n",
    "#Define linear relationship between PPFD and Cellular maintainance costs\n",
    "#This formula comes from Topfer et al (2020) where she defined NGAM in a linear relationship with incident light\n",
    "def compute_ngam_atp(ppfd):\n",
    "    v_atp = 0.0049*ppfd + 2.7851\n",
    "    return v_atp\n",
    "\n",
    "\n",
    "#This function is used to set the inputs to the model used. \n",
    "def define_model_medium(model, co2, o2, ppfd, \n",
    "                        medium_dir='../misc/photo_medium.csv', no3=inf, h2o=inf, h=inf, \n",
    "                        nh4=inf, pi=inf):\n",
    "    model_photo_media = mm.read_medium_csv(medium_dir, model)\n",
    "    model_photo_media['EX_no3(e)'] = no3\n",
    "    model_photo_media['EX_h2o(e)'] = h2o\n",
    "    model_photo_media['EX_h(e)'] = h\n",
    "    model_photo_media['EX_nh4(e)'] = nh4\n",
    "    model_photo_media['EX_co2(e)'] = co2\n",
    "    model_photo_media['EX_o2(e)'] = o2\n",
    "    model_photo_media['EX_photonVis(e)'] = ppfd\n",
    "    model_photo_media['EX_pi(e)'] = pi\n",
    "    #Set set model medium as model\n",
    "#     print('Added model medium')\n",
    "    return model_photo_media\n",
    "\n",
    "    \n",
    "def turn_off_cofac_cycles(model, inact_dir='../misc/leaf_inactivated.tsv'):\n",
    "    file = csv.reader(open(inact_dir), delimiter='\\t')\n",
    "    leaf_inactive_rxns = list()\n",
    "    for rows in file:\n",
    "        row_m = str()\n",
    "        row_bs = str()\n",
    "        for rxns in rows:\n",
    "            row_m += str(rxns) + \"_M\"\n",
    "            row_bs += str(rxns) + \"_BS\"\n",
    "        leaf_inactive_rxns.append(row_m)\n",
    "        leaf_inactive_rxns.append(row_bs)\n",
    "        \n",
    "    for rxns in model.reactions:\n",
    "        if rxns.id in leaf_inactive_rxns:\n",
    "            rxns.bounds = (0,0)\n",
    "#     print('Successfully turned off cofactor-cycling reactions')\n",
    "\n",
    "    \n",
    "# #Add constraints to model\n",
    "#This code block contains constraints that would simulate the assimilation rates of bs and m cells in a two-cell system (such as those seen near the midvein region of rice leaves)\n",
    "# #BS photon flux must be the same/less than M flux (Adapted from B&B, 2019)\n",
    "# photon_import = model.reactions.get_by_id(\"EX_photonVis(e)\")\n",
    "def add_tissue_constraints(model):\n",
    "    BS_photon_import = model.reactions.PRISM_white_LED_BS\n",
    "    M_photon_import = model.reactions.PRISM_white_LED_M\n",
    "\n",
    "    #Set photon flux ratio to 10:1\n",
    "    photon_flux = mm.set_fix_flux_ratio({M_photon_import.id:10, BS_photon_import.id:1},model)\n",
    "    model.add_cons_vars(photon_flux)\n",
    "\n",
    "    co2tex_m = model.reactions.CO2tex_M\n",
    "    co2tex_bs = model.reactions.CO2tex_BS\n",
    "\n",
    "    #CO2 Uptake must be constrained to A (Net assimilation rate) which is around 29 +- 1.2 umol CO2 m-2 s-1 for wild type rice\n",
    "    #CO2 BS intake must be limited owing to its position in the leaf tissue\n",
    "\n",
    "    # # #CO2 intake needs to be mostly in the M cells. Not sure of the exact value:\n",
    "    # # Values from Von Caemmerer (2000) in intermediate C3-C4 photosynthetic plants is 1 mmol CO2 m-2 s-1 per 20 CO2 m-2 s-1, which puts it at 20:1 ratio\n",
    "    # # #try checking Danila et al. (2016) on ratio of surface area of M cell to BS cell\n",
    "    # # #I'll assume that the ratio is at 20:1 in the meantime, meaning that there is minimal gas exchange into the BS cell that would equate to around ~1 umol CO2 m-2s-1\n",
    "    co2_ratio_cons = mm.set_fix_flux_ratio({co2tex_m.id:10, co2tex_bs.id:1},model)\n",
    "    co2_ratio_cons.name = 'co2_ratio_cons'\n",
    "    model.add_cons_vars(co2_ratio_cons)\n",
    "\n",
    "    #o2 ratio constraint\n",
    "    o2tex_bs = model.reactions.O2tex_BS\n",
    "    o2tex_m = model.reactions.O2tex_M\n",
    "\n",
    "    o2_ratio_cons = mm.set_fix_flux_ratio({o2tex_m.id:10, o2tex_bs.id:1},model)\n",
    "    o2_ratio_cons.name = 'o2_ratio_cons'\n",
    "    model.add_cons_vars(o2_ratio_cons)\n",
    "\n",
    "    #no tissue-specific constraints will be set for Nitrates, h2o and other inorganic cofactors as \n",
    "    #they are transported via the apoplastic pathway rather than the symplast\n",
    "\n",
    "    # #This code block contains constraints specific for enzyme rate constraints\n",
    "    #This approach is derived from Bogart & Myers (2016) where they constrained the enzyme rate \n",
    "    #fluxes in each of the 2-cell segments to a specific upper bound while keeping the lower bound\n",
    "    #At 0. For reversible reactions the lower bounds are set to the same value\n",
    "\n",
    "def add_enzyme_constraints(model):\n",
    "    #Maximum values for constraints\n",
    "    wt_pepc = 0 #umol m-2 s-1 #Note: Need to constrain it to 0 pala since no PEPC was detected in either cell type\n",
    "    wt_mdh = 11.18 #umol m-2 s-1\n",
    "    wt_nadp_me = 0.14 #umol m-2 s-1\n",
    "    wt_ppdk = 0.31 #umol m-2 s-1\n",
    "    wt_CA = 7.5 #umol m-2  s-1 bar-1 (Constrained to CO2 amounting to 400-500 mbar) (1 bar = 15.74 umol m-2 s-1 CA activity)\n",
    "\n",
    "    #PEPC constraint (Reaction id: PPCc)\n",
    "    #Need to constrain it to 0 since reaction is only detected in Vascular tissue\n",
    "    pepc_BS = model.reactions.PPCc_BS\n",
    "    pepc_M = model.reactions.PPCc_M\n",
    "\n",
    "    wt_pepc_cons = model.problem.Constraint(pepc_BS.flux_expression \n",
    "                                            + pepc_M.flux_expression, \n",
    "                                            lb = 0, ub = wt_pepc)\n",
    "    wt_pepc_cons.name = 'wt_pepc_cons'\n",
    "    model.add_cons_vars(wt_pepc_cons)\n",
    "\n",
    "    #PPDK constraints (Reaction id: PPDKs) (note that this is found in the chloroplast?) \n",
    "    #Not detected via immunolocalization but enzyme activity is detected\n",
    "\n",
    "    ppdks_BS = model.reactions.PPDKs_BS\n",
    "    ppdks_M = model.reactions.PPDKs_M\n",
    "    wt_ppdks_cons = model.problem.Constraint(ppdks_BS.flux_expression \n",
    "                                             + ppdks_M.flux_expression, \n",
    "                                             lb = 0, ub = wt_ppdk)\n",
    "    wt_ppdks_cons.name = 'wt_ppdks_cons'\n",
    "    model.add_cons_vars(wt_ppdks_cons)\n",
    "    #Malate Dehydrogenase \n",
    "    #Only mitochondrial in WT Rice M cells\n",
    "    mdhm_M = model.reactions.MDHm_M\n",
    "\n",
    "\n",
    "    wt_mdh_cons = model.problem.Constraint(mdhm_M.flux_expression,\n",
    "                                           lb= 0, ub=wt_mdh)\n",
    "    wt_mdh_cons.name = \"wt_mdh_cons\"\n",
    "    model.add_cons_vars(wt_mdh_cons)\n",
    "\n",
    "    #NADP-ME (Since no signal is detected in WT, no locational constraints are imposed)\n",
    "    #Let's see if I can force it to have a small amount of flux \n",
    "    nadp_me_M = model.reactions.MDHys_M\n",
    "    nadp_me_BS = model.reactions.MDHys_BS\n",
    "\n",
    "    wt_nadpme_cons = model.problem.Constraint(nadp_me_M.flux_expression\n",
    "                                             + nadp_me_BS.flux_expression,\n",
    "                                             lb= 0, ub=wt_nadp_me)\n",
    "    wt_nadpme_cons.name = \"wt_nadpme_cons\"\n",
    "    model.add_cons_vars(wt_nadpme_cons)\n",
    "\n",
    "\n",
    "    #I should add constraints for Carbonic Anhydrase\n",
    "    #I should constrain it to 0.4 ubar, which would constitute ambient CO2 partial pressure\n",
    "    #Flux is reversible so constraints are bi-directional\n",
    "\n",
    "\n",
    "    hco3es_m = model.reactions.HCO3Es_M.flux_expression\n",
    "    hco3ec_m = model.reactions.HCO3Ec_M.flux_expression\n",
    "    hco3em_m = model.reactions.HCO3Em_M.flux_expression\n",
    "    hco3es_bs = model.reactions.HCO3Es_BS.flux_expression\n",
    "    hco3ec_bs = model.reactions.HCO3Ec_BS.flux_expression\n",
    "    hco3em_bs = model.reactions.HCO3Em_BS.flux_expression\n",
    "\n",
    "    ca_cons = model.problem.Constraint(hco3es_m + hco3ec_m + hco3em_m \n",
    "                                       + hco3es_bs + hco3ec_bs + hco3em_bs,\n",
    "                                      lb = -wt_CA, ub = wt_CA)\n",
    "    ca_cons.name = 'Carbonic_anhydrase_constraint'\n",
    "    model.add_cons_vars(ca_cons)\n",
    "    #Rbcl constaints\n",
    "    #Retrieve flux expressions oof each RBCl reaction\n",
    "    rbpc_M = model.reactions.RBPCs_M.flux_expression\n",
    "    rbpc_BS = model.reactions.RBPCs_BS.flux_expression\n",
    "    rbpo_M = model.reactions.RBPOs_M.flux_expression\n",
    "    rbpo_BS = model.reactions.RBPOs_BS.flux_expression\n",
    "\n",
    "    #Constraint such that it is limited to 132 umol m-2 s-1\n",
    "    rbcl_vcmax_cons = model.problem.Constraint(rbpc_M + rbpc_BS, lb = 0, ub= 132)\n",
    "    rbcl_vcmax_cons.name='rbcl_vcmax_cons'\n",
    "    model.add_cons_vars(rbcl_vcmax_cons)\n",
    "    #Constraints for rbcl flux such that v_c/v_o = 3 or higher.\n",
    "    rbcl_vcvo = model.problem.Constraint(3*(rbpo_M + rbpo_BS) \n",
    "                                         - 1*(rbpc_M + rbpc_BS),\n",
    "                                         lb=0,ub=1000)\n",
    "    rbcl_vcvo.name = 'rbcl_vc/vo_ratio'\n",
    "    model.add_cons_vars(rbcl_vcvo)\n",
    "\n",
    "    #Turn off the RBPC2s reactions since we already defined the constraints above\n",
    "    model.reactions.RBPC2s_M.bounds = (0,0)\n",
    "    model.reactions.RBPC2s_BS.bounds = (0,0)\n",
    "    \n",
    "    \n",
    "    \n",
    "    #What if I simply constrained that of the M cell one to 3:1?\n",
    "    #This constraint is pretty good actually. \n",
    "    #This allows the system to be set at a specific Vc/Vo rate while still allowing local variation \n",
    "    #wherein Rubisco may act in an uncoupled fashion and may have favorable internal vc/vo rates.\n",
    "# #This code block is to set a constraint such that M-to-BS cell NGAM ratio is 10-to-1 \n",
    "# #Similar to what Moreno-Villena (2021) (preprint) had done \n",
    "\n",
    "#This function takes two arguments: the model and the maximal  ppfd input to the system\n",
    "def add_ngam_cons(model, ppfd): \n",
    "    ngam_atp_m = mm.get_rxn(model, 'ngam_atp_c_M')\n",
    "    ngam_atp_bs = mm.get_rxn(model, 'ngam_atp_c_BS')\n",
    "    ngam_atp_m.bounds = (0,1000)\n",
    "    ngam_atp_bs.bounds = (0,1000)\n",
    "    ngam_ratio = mm.set_fix_flux_ratio({ngam_atp_m.id:10, ngam_atp_bs.id:1}, model)\n",
    "    ngam_ratio.name = 'ngam_BS/M_ratio'\n",
    "    model.add_cons_vars(ngam_ratio)\n",
    "\n",
    "    #Retrieve NGAM reactions\n",
    "    ngam_nadphox_c_M = mm.get_rxn(model, 'ngam_nadphox_c_M')\n",
    "    ngam_nadphox_s_M = mm.get_rxn(model, 'ngam_nadphox_s_M')\n",
    "    ngam_nadphox_m_M = mm.get_rxn(model, 'ngam_nadphox_m_M')\n",
    "    ngam_nadphox_c_BS = mm.get_rxn(model, 'ngam_nadphox_c_BS')\n",
    "    ngam_nadphox_s_BS = mm.get_rxn(model, 'ngam_nadphox_s_BS')\n",
    "    ngam_nadphox_m_BS = mm.get_rxn(model, 'ngam_nadphox_m_BS')\n",
    "\n",
    "\n",
    "    #Set Fixed fluxes\n",
    "    nadphox_c_s_M = mm.set_fix_flux_ratio({ngam_nadphox_c_M.id:1, ngam_nadphox_s_M.id:1},model)\n",
    "    nadphox_c_s_M.name = \"nadphox_cs_ratio_M\"\n",
    "    nadphox_s_m_M = mm.set_fix_flux_ratio({ngam_nadphox_s_M.id:1, ngam_nadphox_m_M.id:1}, model)\n",
    "    nadphox_s_m_M.name = \"nadphox_sm_ratio_M\"\n",
    "\n",
    "    nadphox_c_s_BS = mm.set_fix_flux_ratio({ngam_nadphox_c_BS.id:1, ngam_nadphox_s_BS.id:1},model)\n",
    "    nadphox_c_s_BS.name = \"nadphox_cs_ratio_BS\"\n",
    "    nadphox_s_m_BS = mm.set_fix_flux_ratio({ngam_nadphox_s_BS.id:1, ngam_nadphox_m_BS.id:1}, model)\n",
    "    nadphox_s_m_BS.name = \"nadphox_sm_ratio_BS\"\n",
    "\n",
    "    #Add constraints\n",
    "    model.add_cons_vars(nadphox_c_s_M)\n",
    "    model.add_cons_vars(nadphox_s_m_M)\n",
    "    model.add_cons_vars(nadphox_c_s_BS)\n",
    "    model.add_cons_vars(nadphox_s_m_BS)\n",
    "\n",
    "    #Retrieve flux expressionns\n",
    "    fex_nadphox_c_M =  mm.get_flux_exp(model, ngam_nadphox_c_M)\n",
    "    fex_nadphox_s_M = mm.get_flux_exp(model, ngam_nadphox_s_M)\n",
    "    fex_nadphox_m_M = mm.get_flux_exp(model, ngam_nadphox_m_M)\n",
    "\n",
    "    fex_nadphox_c_BS =  mm.get_flux_exp(model, ngam_nadphox_c_BS)\n",
    "    fex_nadphox_s_BS =  mm.get_flux_exp(model, ngam_nadphox_s_BS)\n",
    "    fex_nadphox_m_BS =  mm.get_flux_exp(model, ngam_nadphox_m_BS)\n",
    "\n",
    "    fex_atp_c_M = mm.get_flux_exp(model, ngam_atp_m)\n",
    "    fex_atp_c_BS =  mm.get_flux_exp(model, ngam_atp_bs)\n",
    "\n",
    "    #Set the constraint between ATP:NADPH NGAM to 3:1\n",
    "    nadphox_atpase = model.problem.Constraint(3*(fex_nadphox_c_M + fex_nadphox_s_M + fex_nadphox_m_M\n",
    "                                                       + fex_nadphox_c_BS + fex_nadphox_s_BS + fex_nadphox_m_BS) \n",
    "                                         - 1*(fex_atp_c_M + fex_atp_c_BS),\n",
    "                                         lb=0,ub=0)\n",
    "    nadphox_atpase.name = \"nadphox_atpase_ratio\"\n",
    "    model.add_cons_vars(nadphox_atpase)\n",
    "    #Compute NGAM value and add constraint as a lower bound/upper bound to model\n",
    "    ngam_value = compute_ngam_atp(ppfd)\n",
    "    ngam_cons = model.problem.Constraint(fex_atp_c_M + \n",
    "                                        fex_atp_c_BS, lb=ngam_value, ub=ngam_value)\n",
    "    ngam_cons.name = 'NGAM_ATP_constraint'\n",
    "    model.add_cons_vars(ngam_cons)\n",
    "    \n",
    "#This code  block gives a snapshot of the relevant fluxes on each of the cell types based on the saved sample_fluxes values above\n",
    "\n",
    "def print_summary(sample_fluxes_df):\n",
    "    print('rbcl M cell: ', sample_fluxes['RBPCs_M'], 'rbcl BS cell: ',sample_fluxes['RBPCs_BS'])\n",
    "    print('rbcl M cell (photorespiration)', sample_fluxes['RBPOs_M'], 'rbcl BS cell (PR)', sample_fluxes['RBPOs_BS'])\n",
    "    print('vc/vo M:', sample_fluxes['RBPCs_M']/sample_fluxes['RBPOs_M'], 'vc/vo BS:', sample_fluxes['RBPCs_BS']/sample_fluxes['RBPOs_BS'])\n",
    "    print('RBPC2s_M', sample_fluxes['RBPC2s_M'], 'RBPC2s_BS', sample_fluxes['RBPC2s_BS'])\n",
    "    print('PEPC M', sample_fluxes['PPCc_M'], 'PEPC BS', sample_fluxes['PPCc_BS'])\n",
    "    print('Carbonic Anhydrase (Cytosolic) M', sample_fluxes['HCO3Ec_M'], 'Carbonic Anhydrase (Cytosolic) BS', sample_fluxes['HCO3Ec_BS'])\n",
    "    print('NADP-ME M', sample_fluxes['MDHys_M'], 'NADP-ME BS', sample_fluxes['MDHys_BS'])\n",
    "    print('Biomass M: ', sample_fluxes['Straw_Biomass_M'], 'Biomass BS', sample_fluxes['Straw_Biomass_BS'])\n",
    "    print('Phloem M: ', sample_fluxes['DM_Phloem_M'], 'Phloem BS', sample_fluxes['DM_Phloem_BS'])\n",
    "    print('co2 consumption M', sample_fluxes['CO2tex_M'], 'co2 consumption BS', sample_fluxes['CO2tex_BS'])\n",
    "    print('o2 consumption M', sample_fluxes['O2tex_M'], 'o2 consumption BS', sample_fluxes['O2tex_BS'])\n",
    "    print('Photosystem II M', sample_fluxes['PSIINC_M'], 'PSII BS', sample_fluxes['PSIINC_BS'])\n",
    "    print('PSI M', sample_fluxes['PSIMR_M'], 'PSI BS', sample_fluxes['PSIMR_BS'])\n",
    "    print('PPFD M: ', sample_fluxes['PRISM_white_LED_M'], 'PPFD BS: ', sample_fluxes['PRISM_white_LED_BS'])\n",
    "    print('ATP synthesis (stromal) M', sample_fluxes['ATPSs_M'], 'ATP synthase (mit) M', sample_fluxes['ATPSm_M'])\n",
    "    pd_rxn = [x for x in model.reactions if \"pd\" in x.id and \"h2o\" not in x.id]\n",
    "    pd_abs_flux = 0\n",
    "    for pds in pd_rxn:\n",
    "        pd_abs_flux += abs(sample_fluxes[pds.id])\n",
    "    \n",
    "    print('pd_abs_flux: ', pd_abs_flux)"
   ]
  },
  {
   "cell_type": "markdown",
   "id": "aa7ad482",
   "metadata": {},
   "source": [
    "#Add transgenic reactions to model localized to specific compartment\n",
    "\n",
    "Transgenic (Line 29 - Ermakova et al)\n",
    "PEPC = Chloroplastic in M & V (rxn id: PPCc)\n",
    "PPDK = Chloroplastic in M and BS (rxn id: PPDKs)\n",
    "NADP-ME = Mitochondrial in M (rxn id: MDHys)\n",
    "MDH = Chloroplastic in M and BS; Mitochondrial in M  (rxn id: MDH2s, MDH2c)\n",
    "CA = Cytosolic in M (rxn id: hco3ec)\n",
    "\n",
    "In WT:\n",
    "PEPC = Cytosolic in V\n",
    "PPDK = No signal\n",
    "NADP-ME = No signal\n",
    "MDH = Mitochondrial in M \n",
    "CA = No signal\n",
    "\n",
    "Difference:\n",
    "PEPC = Only in M\n",
    "PPDK = Chloroplastic M & BS\n",
    "NADP-ME = Only in M\n",
    "MDH = Chloroplastic in M/BS\n",
    "CA = Cytosolic in M\n",
    "\n"
   ]
  },
  {
   "cell_type": "code",
   "execution_count": null,
   "id": "a132d0a9",
   "metadata": {
    "ExecuteTime": {
     "end_time": "2022-04-29T00:58:48.289699Z",
     "start_time": "2022-04-29T00:58:48.288151Z"
    }
   },
   "outputs": [],
   "source": [
    "#My approach would be to add two linear constraints corresponding to the WT and the transgenic\n",
    "#Enzyme reaction rates, respectively. The first layer of constraints represents WT conditions while\n",
    "#the second constraints represents the Transgenic conditions wherein \n"
   ]
  },
  {
   "cell_type": "code",
   "execution_count": 113,
   "id": "a8262f53",
   "metadata": {
    "ExecuteTime": {
     "end_time": "2022-05-17T09:40:00.826593Z",
     "start_time": "2022-05-17T09:40:00.817047Z"
    }
   },
   "outputs": [],
   "source": [
    "#initialize list of transgenic reactions to add  to model\n",
    "\n",
    "def add_trans_reactions(model):\n",
    "    '''\n",
    "    This function is used to add a number of new tissue-specific reactions that were not present in the\n",
    "    original model to facilitate modelling of the transgenic C4 rice\n",
    "    '''\n",
    "    trans_list = list()\n",
    "    #Transgenic PEPC copy\n",
    "    #PEPC = Chloroplastic in M & V (rxn id: PPCc)\n",
    "    trans_ppcs = Reaction('trans_PPCs_M')\n",
    "    trans_ppcs.name = \"Phosphoenolpyruvate carboxylase, plastidic (Transgenic)\"\n",
    "\n",
    "    co2_s0 = model.metabolites.co2_s0\n",
    "    h_s0 = model.metabolites.h_s0\n",
    "    pep_s0 = model.metabolites.pep_s0\n",
    "    h2o_s0 = model.metabolites.h2o_s0\n",
    "    oaa_s0 = model.metabolites.oaa_s0\n",
    "    pi_s0 = model.metabolites.pi_s0\n",
    "\n",
    "\n",
    "    #Add metabolites, bounds, and subsystem\n",
    "    trans_ppcs.add_metabolites({co2_s0:-1, h_s0:-1, pep_s0:-1, h2o_s0:1, oaa_s0:1, pi_s0:1})\n",
    "    trans_ppcs.bounds= model.reactions.PPCc_M.bounds\n",
    "    trans_ppcs.subsystem = model.reactions.PPCc_M.subsystem\n",
    "\n",
    "    trans_list.append(trans_ppcs)\n",
    "\n",
    "\n",
    "    #Transgenic PPDK Copy\n",
    "    #Since it already exists I'll just copy and readd it\n",
    "    trans_ppdks_m = Reaction('trans_PPDKs_M')\n",
    "    trans_ppdks_m.add_metabolites(model.reactions.PPDKs_M.metabolites)\n",
    "    trans_ppdks_m.bounds = model.reactions.PPDKs_M.bounds\n",
    "    trans_ppdks_m.name = \"Pyruvate phosphate dikinase, plastidic (Transgenic)\"\n",
    "\n",
    "    trans_ppdks_bs = Reaction('trans_PPDKs_BS')\n",
    "    trans_ppdks_bs.add_metabolites(model.reactions.PPDKs_BS.metabolites)\n",
    "    trans_ppdks_bs.bounds = model.reactions.PPDKs_BS.bounds\n",
    "    trans_ppdks_bs.name = \"Pyruvate phosphate dikinase, plastidic (Transgenic)\"\n",
    "\n",
    "    trans_list.append(trans_ppdks_m)\n",
    "    trans_list.append(trans_ppdks_bs)\n",
    "\n",
    "\n",
    "    #Transgenic NADP-ME\n",
    "    #NADP-ME = Mitochondrial in M\n",
    "    trans_nadp_me = Reaction('trans_MDHym_M')\n",
    "\n",
    "    #retrieve reactants\n",
    "    mal_m0 = model.metabolites.get_by_id('mal-L_m0')\n",
    "    nadp_m0 = model.metabolites.nadp_m0\n",
    "    h_m0 = model.metabolites.h_m0\n",
    "    nadph_m0 = model.metabolites.nadph_m0\n",
    "    oaa_m0 = model.metabolites.oaa_m0\n",
    "\n",
    "    #Add to rxn\n",
    "    trans_nadp_me.add_metabolites({mal_m0:-1, nadp_m0:-1, h_m0:1, nadph_m0:1, oaa_m0:1})\n",
    "    #Add bounds\n",
    "    trans_nadp_me.bounds=(-inf, inf)\n",
    "\n",
    "    trans_list.append(trans_nadp_me)\n",
    "\n",
    "\n",
    "    #Malate Dehydrogenase, mitochondrial (M cell)\n",
    "    trans_MDHm_M = Reaction('trans_MDHm_M')\n",
    "    trans_MDHm_M.name = 'Malate Dehydrogenase, Mitochondrial'\n",
    "    trans_MDHm_M.add_metabolites(model.reactions.MDHm_M.metabolites)\n",
    "    trans_MDHm_M.subsystem = model.reactions.MDHm_M.subsystem\n",
    "\n",
    "    trans_list.append(trans_MDHm_M)\n",
    "\n",
    "    #Malate dehydrogenase, plastidic (M cell)\n",
    "    trans_MDHs_M = Reaction('trans_MDHs_M')\n",
    "    trans_MDHs_M.name = 'Malate Dehydrogenase, Plastidic'\n",
    "    trans_MDHs_M.add_metabolites(model.reactions.MDHs_M.metabolites)\n",
    "    trans_MDHs_M.subsystem = model.reactions.MDHs_M.subsystem\n",
    "\n",
    "    trans_list.append(trans_MDHs_M)\n",
    "\n",
    "    #Malate dehydrogenase, plastidic(BS Cell)\n",
    "    trans_MDHs_BS = Reaction('trans_MDHs_BS')\n",
    "    trans_MDHs_BS.name = 'Malate Dehydrogenase, Plastidic'\n",
    "    trans_MDHs_BS.add_metabolites(model.reactions.MDHs_BS.metabolites)\n",
    "    trans_MDHs_BS.subsystem = model.reactions.MDHs_BS.subsystem\n",
    "\n",
    "    trans_list.append(trans_MDHs_BS)\n",
    "\n",
    "\n",
    "    #Trans CA\n",
    "    #Cytosolic in M\n",
    "    trans_hco3ec_M = Reaction('trans_hco3ec_M')\n",
    "    trans_hco3ec_M.name = 'carbonic anhydrase, cytosolic'\n",
    "    trans_hco3ec_M.add_metabolites(model.reactions.HCO3Ec_M.metabolites)\n",
    "    trans_hco3ec_M.bounds = model.reactions.HCO3Ec_M.bounds\n",
    "\n",
    "    trans_hco3ec_M.subsystem = model.reactions.HCO3Ec_M.subsystem\n",
    "    trans_list.append(trans_hco3ec_M)\n",
    "\n",
    "\n",
    "    #Bulk add to model\n",
    "    model.add_reactions(trans_list)\n",
    "    \n",
    "    model.repair()\n",
    "#     print(\"Successfully added transgenic reactions\")\n",
    "#     print('List of reactions added: ')\n",
    "#     for items in trans_list:\n",
    "#         print(items.id)\n"
   ]
  },
  {
   "cell_type": "code",
   "execution_count": 157,
   "id": "852316e6",
   "metadata": {
    "ExecuteTime": {
     "end_time": "2022-05-17T15:23:36.734136Z",
     "start_time": "2022-05-17T15:23:36.724922Z"
    }
   },
   "outputs": [],
   "source": [
    "\n",
    "\n",
    "def add_trans_constraints(model):\n",
    "    '''\n",
    "    This function is used to add another layer of constraints to parametize model based on the\n",
    "    Enzyme reaction rates assayed from Ermakova et al (2021) where the locations are based on the \n",
    "    each of the transgenic enzyme's tissue-specific localizations. \n",
    "    '''\n",
    "    \n",
    "    #The following code block is done to\n",
    "    #Define rates\n",
    "    trans_pepc_rates = 7.01 #umol m-2 s-1\n",
    "    trans_ppdks_rates = 3.66 #umol m-2 s-1\n",
    "    trans_mdh_rates = 152.87 #umol m-2 s-1\n",
    "    trans_nadp_me_rates = 0.60 #umol m-2 s-1\n",
    "    trans_CA_rates = 8 #umol m-2  s-1 bar-1 (Constrained to CO2 amounting to 400-500 mbar) (1 bar = 15.74 umol m-2 s-1 CA activity)\n",
    "\n",
    "\n",
    "    #Generate constraints on top of WT constraints\n",
    "\n",
    "    #Retrieve trans reactions\n",
    "   \n",
    "\n",
    "    #PEPC constraint\n",
    "    wt_PPCc_M = mm.get_rxn(model, 'PPCc_M')\n",
    "    wt_PPCc_BS = mm.get_rxn(model, 'PPCc_BS')\n",
    "    trans_PPCs_M = mm.get_rxn(model, 'trans_PPCs_M')                           \n",
    "    trans_PEPC_cons = model.problem.Constraint(trans_PPCs_M.flux_expression\n",
    "                                            +wt_PPCc_BS.flux_expression \n",
    "                                            + wt_PPCc_M.flux_expression, \n",
    "                                            lb = 0, ub = trans_pepc_rates)\n",
    "\n",
    "    model.add_cons_vars(trans_PEPC_cons)\n",
    "\n",
    "    #PPDK constraint\n",
    "    trans_PPDKs_M  = mm.get_rxn(model, 'trans_PPDKs_M')\n",
    "    trans_PPDKs_BS = mm.get_rxn(model, 'trans_PPDKs_BS')\n",
    "    wt_PPDKs_M = mm.get_rxn(model, 'PPDKs_M')\n",
    "    wt_PPDKs_BS = mm.get_rxn(model, 'PPDKs_BS')\n",
    "    \n",
    "    trans_PPDKs_cons = model.problem.Constraint( \n",
    "        trans_PPDKs_BS.flux_expression + trans_PPDKs_M.flux_expression \n",
    "        +wt_PPDKs_BS.flux_expression + wt_PPDKs_M.flux_expression, \n",
    "                                             lb = 0, ub = trans_ppdks_rates)\n",
    "    trans_PPDKs_cons.name = 'trans_ppdks_cons'\n",
    "    model.add_cons_vars(trans_PPDKs_cons)\n",
    "\n",
    "\n",
    "    #Malate Dehydrogenase Constraints\n",
    "    trans_MDHm_M = mm.get_rxn(model, 'trans_MDHm_M')\n",
    "    trans_MDHs_M = mm.get_rxn(model, 'trans_MDHs_M')\n",
    "    trans_MDHs_BS = mm.get_rxn(model, 'trans_MDHs_BS')\n",
    "    wt_MDHm_M =  mm.get_rxn(model, 'MDHm_M')\n",
    "    wt_MDHs_M = mm.get_rxn(model, 'MDHs_M')\n",
    "    wt_MDHs_BS = mm.get_rxn(model, 'MDHs_BS')\n",
    "    \n",
    "    trans_mdh_cons =  model.problem.Constraint(\n",
    "       trans_MDHm_M.flux_expression + \n",
    "        wt_MDHm_M.flux_expression + \n",
    "        trans_MDHs_M.flux_expression + \n",
    "        trans_MDHs_BS.flux_expression +\n",
    "        wt_MDHs_BS.flux_expression +\n",
    "        wt_MDHs_M.flux_expression, \n",
    "        lb= 0, ub=trans_mdh_rates)\n",
    "\n",
    "    trans_mdh_cons.name = \"trans_mdh_cons\"\n",
    "    model.add_cons_vars(trans_mdh_cons)\n",
    "\n",
    "    #Add NADP-ME constraints\n",
    "    trans_MDHym_M = mm.get_rxn(model, 'trans_MDHym_M')\n",
    "    wt_MDHys_M = mm.get_rxn(model, 'MDHys_M')\n",
    "    wt_MDHys_BS = mm.get_rxn(model, 'MDHys_BS')\n",
    "    \n",
    "    trans_nadpme_cons = model.problem.Constraint(\n",
    "        trans_MDHym_M.flux_expression + \n",
    "        wt_MDHys_M.flux_expression + \n",
    "        wt_MDHys_BS.flux_expression,\n",
    "        lb= 0, ub=trans_nadp_me_rates)\n",
    "    \n",
    "    trans_nadpme_cons.name = \"trans_nadpme\"\n",
    "    model.add_cons_vars(trans_nadpme_cons)\n",
    "\n",
    "    #Add carbonic anhydrase constraints\n",
    "\n",
    "    trans_hco3ec_M = mm.get_rxn(model, 'trans_hco3ec_M')\n",
    "    wt_hco3ec_M = mm.get_rxn(model, 'HCO3Ec_M')\n",
    "    wt_hco3em_M = mm.get_rxn(model, 'HCO3Em_M')\n",
    "    wt_hco3es_M = mm.get_rxn(model, 'HCO3Es_M')\n",
    "    wt_hco3ec_BS = mm.get_rxn(model, 'HCO3Ec_BS')\n",
    "    wt_hco3em_BS = mm.get_rxn(model, 'HCO3Em_BS')\n",
    "    wt_hco3es_BS = mm.get_rxn(model, 'HCO3Es_BS')\n",
    "    \n",
    "    trans_ca_cons = model.problem.Constraint(trans_hco3ec_M.flux_expression + \n",
    "                                             wt_hco3es_M.flux_expression + \n",
    "                                             wt_hco3ec_M.flux_expression + \n",
    "                                             wt_hco3em_M.flux_expression + \n",
    "                                             wt_hco3es_BS.flux_expression + \n",
    "                                             wt_hco3ec_BS.flux_expression + \n",
    "                                             wt_hco3em_BS.flux_expression,\n",
    "                                      lb = -trans_CA_rates, ub = trans_CA_rates)\n",
    "    trans_ca_cons.name = 'Trans_CA_cons'\n",
    "    model.add_cons_vars(trans_ca_cons)\n",
    "    model.repair()\n",
    "#     print('Successfully added Transgenic-specific constraints')"
   ]
  },
  {
   "cell_type": "markdown",
   "id": "fb978d85",
   "metadata": {},
   "source": [
    "This code block is to add the constraints for ngam nadphox, which for some reason doesn't save when it was generated using the curation script. I think this is because the constraint objects are only retrieved from the bounds encoded in the SBML.\n"
   ]
  },
  {
   "cell_type": "code",
   "execution_count": 115,
   "id": "9cfa120d",
   "metadata": {
    "ExecuteTime": {
     "end_time": "2022-05-17T09:40:11.945096Z",
     "start_time": "2022-05-17T09:40:10.032249Z"
    }
   },
   "outputs": [
    {
     "name": "stdout",
     "output_type": "stream",
     "text": [
      "\n",
      "\n",
      "rbcl M cell:  28.043993204661398 rbcl BS cell:  2.8641143916151393\n",
      "rbcl M cell (photorespiration) 10.302702532092178 rbcl BS cell (PR) 0.0\n",
      "vc/vo M: 2.7220035827790205 vc/vo BS: inf\n",
      "RBPC2s_M 0.0 RBPC2s_BS 0.0\n",
      "PEPC M 0.0 PEPC BS 0.0\n",
      "Carbonic Anhydrase (Cytosolic) M 0.0 Carbonic Anhydrase (Cytosolic) BS 0.0\n",
      "NADP-ME M 0.0 NADP-ME BS 0.0\n",
      "Biomass M:  0.0 Biomass BS 0.0\n",
      "Phloem M:  0.0 Phloem BS 0.41869262904510185\n",
      "co2 consumption M 23.636363636364102 co2 consumption BS 2.36363636363641\n",
      "o2 consumption M 0.0 o2 consumption BS 0.0\n",
      "Photosystem II M 62.09817093736848 PSII BS 5.77688054638848\n",
      "PSI M 92.90045139942079 PSI BS 9.613570073141224\n",
      "PPFD M:  658.7227019035199 PPFD BS:  65.87227019035198\n",
      "ATP synthesis (stromal) M 123.86726853256103 ATP synthase (mit) M 6.847808116163881\n",
      "pd_abs_flux:  5.3822492180888775\n"
     ]
    },
    {
     "name": "stderr",
     "output_type": "stream",
     "text": [
      "<ipython-input-112-e92588d0051f>:255: RuntimeWarning: divide by zero encountered in double_scalars\n",
      "  print('vc/vo M:', sample_fluxes['RBPCs_M']/sample_fluxes['RBPOs_M'], 'vc/vo BS:', sample_fluxes['RBPCs_BS']/sample_fluxes['RBPOs_BS'])\n"
     ]
    }
   ],
   "source": [
    "# This code block is to test whether a single iteration works. Maybe I should implement the kinetic constraints by Von Caemmerer to obtain proper \n",
    "#proper values? I think that would be a better approach, I think.\n",
    "\n",
    "\n",
    "with model as m1:\n",
    "                                                                                                                                                                                                                                                                                                                      \n",
    "    m1.medium = define_model_medium(m1, co2=26, o2=inf, ppfd=1599, h=inf, nh4=inf, no3=inf)\n",
    "    turn_off_cofac_cycles(m1) #Turn off other cofactor recycling \n",
    "    add_tissue_constraints(m1)\n",
    "    add_enzyme_constraints(m1)\n",
    "    #Add trans constraints\n",
    "    add_trans_reactions(m1)\n",
    "    add_trans_constraints(m1)\n",
    "    #Add NGAM\n",
    "    add_ngam_cons(m1, 1599)\n",
    "\n",
    "    #Constrain O2 intake to 3.312 mmol O2 gcw -1 d-1 ~~ 2.2618 umol O2 m-2 s-1 (from Lakshmanan et al. 2016)\n",
    "    #Change objective function to mature leaf\n",
    "    model.reactions.get_by_id('Straw_Biomass_M').objective_coefficient = 0\n",
    "    model.reactions.get_by_id('Straw_Biomass_BS').objective_coefficient = 0\n",
    "    mm.get_rxn(model,'DM_Phloem_BS').objective_coefficient = 1\n",
    "    sample_fluxes = cobra.flux_analysis.pfba(model).fluxes\n",
    "    #Remove thermodynamically infeasible loops\n",
    "    sample_fluxes = cobra.flux_analysis.loopless_solution(model, sample_fluxes)\n",
    "    \n",
    "    sample_fluxes_df = sample_fluxes.to_frame()\n",
    "\n",
    "print('\\n')\n",
    "print_summary(sample_fluxes_df)\n"
   ]
  },
  {
   "cell_type": "code",
   "execution_count": 108,
   "id": "dab39aa1",
   "metadata": {
    "ExecuteTime": {
     "end_time": "2022-05-17T09:36:13.267992Z",
     "start_time": "2022-05-17T09:36:13.250758Z"
    }
   },
   "outputs": [
    {
     "name": "stdout",
     "output_type": "stream",
     "text": [
      "trans_PPCs_M\n",
      "trans_PPDKs_M\n",
      "trans_PPDKs_BS\n",
      "trans_MDHym_M\n",
      "trans_MDHm_M\n",
      "trans_MDHs_M\n",
      "trans_MDHs_BS\n",
      "trans_hco3ec_M\n"
     ]
    }
   ],
   "source": [
    "with model as m:\n",
    "    add_trans_reactions(m)\n",
    "    for items in model.reactions:\n",
    "        if \"trans\" in items.id:\n",
    "            print(items.id)"
   ]
  },
  {
   "cell_type": "code",
   "execution_count": 159,
   "id": "e53f55dc",
   "metadata": {
    "ExecuteTime": {
     "end_time": "2022-05-17T15:26:01.490538Z",
     "start_time": "2022-05-17T15:24:34.738123Z"
    },
    "scrolled": true
   },
   "outputs": [
    {
     "name": "stderr",
     "output_type": "stream",
     "text": [
      "Ignoring reaction 'trans_PPCs_M' since it already exists.\n",
      "Ignoring reaction 'trans_PPDKs_M' since it already exists.\n",
      "Ignoring reaction 'trans_PPDKs_BS' since it already exists.\n",
      "Ignoring reaction 'trans_MDHym_M' since it already exists.\n",
      "Ignoring reaction 'trans_MDHm_M' since it already exists.\n",
      "Ignoring reaction 'trans_MDHs_M' since it already exists.\n",
      "Ignoring reaction 'trans_MDHs_BS' since it already exists.\n",
      "Ignoring reaction 'trans_hco3ec_M' since it already exists.\n"
     ]
    },
    {
     "name": "stdout",
     "output_type": "stream",
     "text": [
      "PPFD: 0  RBPC_M cell flux: 2.2637578853874945\n",
      "PPFD: 50  RBPC_M cell flux: 6.672132278330444\n",
      "PPFD: 100  RBPC_M cell flux: 11.336992227346272\n",
      "PPFD: 150  RBPC_M cell flux: 15.621892040744703\n",
      "PPFD: 200  RBPC_M cell flux: 20.0050459316581\n",
      "PPFD: 250  RBPC_M cell flux: 24.407294988387513\n",
      "PPFD: 300  RBPC_M cell flux: 28.601270605653653\n",
      "PPFD: 350  RBPC_M cell flux: 28.690802376091792\n",
      "PPFD: 400  RBPC_M cell flux: 27.82322138866213\n",
      "PPFD: 450  RBPC_M cell flux: 28.855296312956\n",
      "PPFD: 500  RBPC_M cell flux: 28.040102685248797\n",
      "PPFD: 550  RBPC_M cell flux: 29.29334085411984\n",
      "PPFD: 600  RBPC_M cell flux: 28.874648159167748\n",
      "PPFD: 650  RBPC_M cell flux: 28.73809078661197\n",
      "PPFD: 700  RBPC_M cell flux: 28.651366123655098\n",
      "PPFD: 750  RBPC_M cell flux: 28.65901618636076\n",
      "PPFD: 800  RBPC_M cell flux: 28.65379638674414\n",
      "PPFD: 850  RBPC_M cell flux: 28.64958248251033\n",
      "PPFD: 900  RBPC_M cell flux: 28.645375202123798\n",
      "PPFD: 950  RBPC_M cell flux: 28.641167921739083\n",
      "PPFD: 1000  RBPC_M cell flux: 28.636960641357227\n",
      "PPFD: 1050  RBPC_M cell flux: 28.632753360968795\n",
      "PPFD: 1100  RBPC_M cell flux: 28.62854608058378\n",
      "PPFD: 1150  RBPC_M cell flux: 28.62433880019941\n",
      "PPFD: 1200  RBPC_M cell flux: 28.62013151903105\n",
      "PPFD: 1250  RBPC_M cell flux: 28.61592423942623\n",
      "PPFD: 1300  RBPC_M cell flux: 28.611716959045214\n",
      "PPFD: 1350  RBPC_M cell flux: 28.607509678659337\n",
      "PPFD: 1400  RBPC_M cell flux: 28.60330239827495\n",
      "PPFD: 1450  RBPC_M cell flux: 28.59909511788948\n",
      "PPFD: 1500  RBPC_M cell flux: 28.594887837504594\n",
      "PPFD: 1550  RBPC_M cell flux: 28.590680557119818\n",
      "PPFD: 1600  RBPC_M cell flux: 28.586473276733017\n",
      "PPFD: 1650  RBPC_M cell flux: 28.58226599635022\n",
      "PPFD: 1700  RBPC_M cell flux: 28.5780587159646\n",
      "PPFD: 1750  RBPC_M cell flux: 28.573851435580128\n",
      "PPFD: 1800  RBPC_M cell flux: 28.56964415519497\n",
      "PPFD: 1850  RBPC_M cell flux: 28.56543687481035\n",
      "PPFD: 1900  RBPC_M cell flux: 28.561229594419274\n",
      "PPFD: 1950  RBPC_M cell flux: 28.557022314040317\n",
      "Successfully saved PPFD-benchmark-trans-model-Mature-Leaf-20220517-10:26 to ../flux_results/PPFD_benchmark/Trans/PPFD-benchmark-trans-model-Mature-Leaf-20220517-10:26.tsv\n"
     ]
    }
   ],
   "source": [
    "#This code block is to generate a light scan for a mature leaf, which is done by setting\n",
    "#The objective function to produce Phloem rather than Biomass.\n",
    "\n",
    "add_trans_reactions(model)\n",
    "\n",
    "ppfd_solns_2cell_fba = pd.DataFrame(index=list(i.id for i in model.reactions))\n",
    "\n",
    "#Iterate from range 0 to 2000 w/ increments of 50 (max ppfd)\n",
    "\n",
    "for ppfd in range(0,2000,50):\n",
    "    \n",
    "    #Generate instance of model every iteration\n",
    "    with model as m1:\n",
    "        #Set ATP NGAM value to linear PPFD formula\n",
    "\n",
    "         #Set medium to change photon flux and other things and re-add to model\n",
    "        m1.medium = define_model_medium(m1, co2=26.5, o2=2.26, ppfd=ppfd, h=inf, nh4=inf, no3=inf)\n",
    "        turn_off_cofac_cycles(m1) #Turn off other cofactor recycling \n",
    "        add_tissue_constraints(m1)\n",
    "        add_enzyme_constraints(m1)\n",
    "        #Add trans constraints\n",
    "        add_trans_constraints(m1)\n",
    "        #Add NGAM to model\n",
    "        add_ngam_cons(m1, ppfd)\n",
    "    \n",
    "        #Change objective function to mature leaf\n",
    "        m1.reactions.get_by_id('Straw_Biomass_M').objective_coefficient = 0\n",
    "        m1.reactions.get_by_id('Straw_Biomass_BS').objective_coefficient = 0\n",
    "        m1.reactions.get_by_id('DM_Phloem_BS').objective_coefficient = 1\n",
    "\n",
    "        #Optimize then check optimality\n",
    "        while True:\n",
    "            solution = model.optimize()\n",
    "            if solution.status == 'optimal':\n",
    "                sample_fluxes = cobra.flux_analysis.pfba(model).fluxes\n",
    "                #Remove thermodynamically infeasible loops via CycleFreeFlux algorithm\n",
    "                sample_fluxes = cobra.flux_analysis.loopless_solution(model, sample_fluxes).to_frame()\n",
    "                print(\"PPFD:\", ppfd, \" RBPC_M cell flux:\", sample_fluxes['fluxes']['RBPCs_M'])\n",
    "                #Append to Dataframe\n",
    "                ppfd_solns_2cell_fba[ppfd] = sample_fluxes['fluxes']\n",
    "                break\n",
    "\n",
    "\n",
    "filepath = '../flux_results/PPFD_benchmark/Trans/'\n",
    "filename = 'PPFD-benchmark-trans-model-Mature-Leaf'\n",
    "mm.save_fba_matrix(filename, ppfd_solns_2cell_fba, filepath)"
   ]
  },
  {
   "cell_type": "code",
   "execution_count": 160,
   "id": "45c41bfe",
   "metadata": {
    "ExecuteTime": {
     "end_time": "2022-05-17T15:35:58.074506Z",
     "start_time": "2022-05-17T15:34:21.997967Z"
    },
    "scrolled": true
   },
   "outputs": [
    {
     "name": "stderr",
     "output_type": "stream",
     "text": [
      "Ignoring reaction 'trans_PPCs_M' since it already exists.\n",
      "Ignoring reaction 'trans_PPDKs_M' since it already exists.\n",
      "Ignoring reaction 'trans_PPDKs_BS' since it already exists.\n",
      "Ignoring reaction 'trans_MDHym_M' since it already exists.\n",
      "Ignoring reaction 'trans_MDHm_M' since it already exists.\n",
      "Ignoring reaction 'trans_MDHs_M' since it already exists.\n",
      "Ignoring reaction 'trans_MDHs_BS' since it already exists.\n",
      "Ignoring reaction 'trans_hco3ec_M' since it already exists.\n"
     ]
    },
    {
     "name": "stdout",
     "output_type": "stream",
     "text": [
      "PPFD: 0  RBPC_M cell flux: 2.26235151495295\n",
      "PPFD: 50  RBPC_M cell flux: 6.721823387385316\n",
      "PPFD: 100  RBPC_M cell flux: 11.218225406323464\n",
      "PPFD: 150  RBPC_M cell flux: 15.689768716561357\n",
      "PPFD: 200  RBPC_M cell flux: 20.17382005725105\n",
      "PPFD: 250  RBPC_M cell flux: 24.848186826057923\n",
      "PPFD: 300  RBPC_M cell flux: 29.14192273849755\n",
      "PPFD: 350  RBPC_M cell flux: 29.418029157950144\n",
      "PPFD: 400  RBPC_M cell flux: 29.262435131787147\n",
      "PPFD: 450  RBPC_M cell flux: 29.220085524763874\n",
      "PPFD: 500  RBPC_M cell flux: 29.324076913673267\n",
      "PPFD: 550  RBPC_M cell flux: 29.220485380650004\n",
      "PPFD: 600  RBPC_M cell flux: 29.116662383090627\n",
      "PPFD: 650  RBPC_M cell flux: 29.006612977045613\n",
      "PPFD: 700  RBPC_M cell flux: 29.396755200727977\n",
      "PPFD: 750  RBPC_M cell flux: 29.379726901096397\n",
      "PPFD: 800  RBPC_M cell flux: 29.308436100206873\n",
      "PPFD: 850  RBPC_M cell flux: 29.268285028594057\n",
      "PPFD: 900  RBPC_M cell flux: 29.25260959967439\n",
      "PPFD: 950  RBPC_M cell flux: 29.251909913048376\n",
      "PPFD: 1000  RBPC_M cell flux: 29.251210226464483\n",
      "PPFD: 1050  RBPC_M cell flux: 29.25051053995465\n",
      "PPFD: 1100  RBPC_M cell flux: 29.25130431794709\n",
      "PPFD: 1150  RBPC_M cell flux: 29.24837740198541\n",
      "PPFD: 1200  RBPC_M cell flux: 29.245986159597816\n",
      "PPFD: 1250  RBPC_M cell flux: 29.24357253310458\n",
      "PPFD: 1300  RBPC_M cell flux: 29.241158906821937\n",
      "PPFD: 1350  RBPC_M cell flux: 29.23874528037867\n",
      "PPFD: 1400  RBPC_M cell flux: 29.236331653972385\n",
      "PPFD: 1450  RBPC_M cell flux: 29.233889281027846\n",
      "PPFD: 1500  RBPC_M cell flux: 29.231379184181097\n",
      "PPFD: 1550  RBPC_M cell flux: 29.22850161933391\n",
      "PPFD: 1600  RBPC_M cell flux: 29.22635899053605\n",
      "PPFD: 1650  RBPC_M cell flux: 29.223848893708073\n",
      "PPFD: 1700  RBPC_M cell flux: 29.221338796879298\n",
      "PPFD: 1750  RBPC_M cell flux: 29.218828700049638\n",
      "PPFD: 1800  RBPC_M cell flux: 29.223845543862264\n",
      "PPFD: 1850  RBPC_M cell flux: 29.244808608186293\n",
      "PPFD: 1900  RBPC_M cell flux: 29.24677349245349\n",
      "PPFD: 1950  RBPC_M cell flux: 29.243954963089493\n",
      "Successfully saved PPFD-benchmark-trans-growing-leaf-20220517-10:35 to ../flux_results/PPFD_benchmark/Trans/PPFD-benchmark-trans-growing-leaf-20220517-10:35.tsv\n"
     ]
    }
   ],
   "source": [
    "#Run the simulation above  but setting biomass as primary\n",
    "add_trans_reactions(model)\n",
    "ppfd_solns_2cell_fba_bm = pd.DataFrame(index=list(i.id for i in model.reactions))\n",
    "\n",
    "#Iterate from range 0 to 2000 w/ increments of 50 (max ppfd)\n",
    "\n",
    "for ppfd in range(0,2000,50):\n",
    "    \n",
    "    #Generate instance of model every iteration\n",
    "    with model as m1:\n",
    "        #Set ATP NGAM value to linear PPFD formula\n",
    "\n",
    "         #Set medium to change photon flux and other things and re-add to model\n",
    "        m1.medium = define_model_medium(m1, co2=26.5, o2=2.26, ppfd=ppfd, h=inf, nh4=inf, no3=inf)\n",
    "        turn_off_cofac_cycles(m1) #Turn off other cofactor recycling \n",
    "        add_tissue_constraints(m1)\n",
    "        add_enzyme_constraints(m1)\n",
    "        \n",
    "        #Add trans constraints\n",
    "        add_trans_constraints(m1)\n",
    "        #Add NGAM to model\n",
    "        add_ngam_cons(m1, ppfd)\n",
    "    \n",
    "\n",
    "        #Change objective function to mature leaf\n",
    "        m1.reactions.get_by_id('Straw_Biomass_M').objective_coefficient = 1\n",
    "        m1.reactions.get_by_id('Straw_Biomass_BS').objective_coefficient = 1\n",
    "        m1.reactions.get_by_id('DM_Phloem_BS').objective_coefficient = 0\n",
    "\n",
    "        #Optimize then check optimality, repeat until solution is optimal\n",
    "        while True:\n",
    "            solution = model.optimize()\n",
    "\n",
    "            if solution.status == 'optimal':\n",
    "                sample_fluxes = cobra.flux_analysis.pfba(model).fluxes\n",
    "                #Remove thermodynamically infeasible loops via CycleFreeFlux algorithm\n",
    "                sample_fluxes = cobra.flux_analysis.loopless_solution(model, sample_fluxes).to_frame()\n",
    "\n",
    "                print(\"PPFD:\", ppfd, \" RBPC_M cell flux:\", sample_fluxes['fluxes']['RBPCs_M'])\n",
    "                #Append to Dataframe\n",
    "                ppfd_solns_2cell_fba_bm[ppfd] = sample_fluxes['fluxes']\n",
    "                \n",
    "                break\n",
    "\n",
    "\n",
    "filepath = '../flux_results/PPFD_benchmark/Trans/'\n",
    "filename = 'PPFD-benchmark-trans-growing-leaf'\n",
    "mm.save_fba_matrix(filename, ppfd_solns_2cell_fba_bm, filepath)"
   ]
  },
  {
   "cell_type": "code",
   "execution_count": 124,
   "id": "e470051b",
   "metadata": {
    "ExecuteTime": {
     "end_time": "2022-05-17T14:29:42.361166Z",
     "start_time": "2022-05-17T14:29:42.271124Z"
    },
    "scrolled": true
   },
   "outputs": [
    {
     "data": {
      "image/png": "[encoded data removed]",
      "text/plain": [
       "<Figure size 432x288 with 1 Axes>"
      ]
     },
     "metadata": {
      "needs_background": "light"
     },
     "output_type": "display_data"
    }
   ],
   "source": [
    "#Let's graph the initial results first\n",
    "\n",
    "#plot PPFD vs CO2 uptake\n",
    "\n",
    "co2_e = ppfd_solns_2cell_fba.loc[['EX_co2(e)']].values.flatten()\n",
    "o2_e =ppfd_solns_2cell_fba.loc[['EX_o2(e)']].values.flatten()\n",
    "nh4_e =  ppfd_solns_2cell_fba.loc[['EX_nh4(e)']].values.flatten()\n",
    "no3_e =  ppfd_solns_2cell_fba.loc[['EX_no3(e)']].values.flatten()\n",
    "phloem_out = ppfd_solns_2cell_fba.loc[['DM_Phloem_BS']].values.flatten()\n",
    "biomass_out_M = ppfd_solns_2cell_fba_bm.loc[['Straw_Biomass_M']].values.flatten()\n",
    "biomass_out_BS = ppfd_solns_2cell_fba_bm.loc[['Straw_Biomass_BS']].values.flatten()\n",
    "ppfd_e = list(ppfd_solns_2cell_fba.columns)\n",
    "\n",
    "plt.plot(ppfd_e, phloem_out, label=\"Phloem out\")\n",
    "plt.plot(ppfd_e, biomass_out_M, label=\"Biomass out (M cell)\")\n",
    "plt.plot(ppfd_e, biomass_out_BS, label=\"Biomass out (BS cell)\")\n",
    "plt.title(label='Photoassimilate flux rates for Growing and Mature Leaf')\n",
    "plt.xlabel('PPFD (umol/m2 s)')\n",
    "plt.ylabel('Reaction flux (umol/m2 s)')\n",
    "plt.legend()\n",
    "plt.show()\n",
    "\n",
    "\n",
    "\n",
    "#I think I need to graph previous data regarding this?\n",
    "#Based on this, it shows that photoassimilation becomes unstable in intermediate lights  as opposed to\n",
    "#Having a more stable output "
   ]
  },
  {
   "cell_type": "code",
   "execution_count": 128,
   "id": "17dc9ae6",
   "metadata": {
    "ExecuteTime": {
     "end_time": "2022-05-17T14:29:58.226713Z",
     "start_time": "2022-05-17T14:29:58.116734Z"
    }
   },
   "outputs": [
    {
     "data": {
      "image/png": "[encoded data removed]",
      "text/plain": [
       "<Figure size 432x288 with 1 Axes>"
      ]
     },
     "metadata": {
      "needs_background": "light"
     },
     "output_type": "display_data"
    }
   ],
   "source": [
    "# Plot ATPs_M and ATPSs vs. ppfd\n",
    "pd_values = ppfd_solns_2cell_fba_bm.loc[['ATPSs_BS']].values.flatten()\n",
    "\n",
    "\n",
    "\n",
    "\n",
    "plt.plot(ppfd_e, ATPSm_m, label=\"ATP synthase (Mitochondrial) M Cell\")\n",
    "plt.plot(ppfd_e, ATPSs_m, label=\"ATP synthase (Stromal) M Cell\")\n",
    "plt.plot(ppfd_e, ATPSm_bs, label=\"ATP synthase (Mitochondrial) BS Cell\")\n",
    "plt.plot(ppfd_e, ATPSs_bs, label=\"ATP synthase (Stromal) BS Cell\")\n",
    "plt.xlabel('PPFD (umol/m2 s)')\n",
    "plt.ylabel('ATPs flux (umol/m2 s)')\n",
    "plt.legend()\n",
    "plt.show()\n"
   ]
  },
  {
   "cell_type": "code",
   "execution_count": 129,
   "id": "a48371e8",
   "metadata": {
    "ExecuteTime": {
     "end_time": "2022-05-17T14:30:01.857117Z",
     "start_time": "2022-05-17T14:30:01.753541Z"
    },
    "scrolled": true
   },
   "outputs": [
    {
     "data": {
      "image/png": "[encoded data removed]",
      "text/plain": [
       "<Figure size 432x288 with 1 Axes>"
      ]
     },
     "metadata": {
      "needs_background": "light"
     },
     "output_type": "display_data"
    }
   ],
   "source": [
    "# Plot ATPs_M and ATPSs vs. ppfd in growing leaf\n",
    "ATPSm_m =  ppfd_solns_2cell_fba_bm.loc[['ATPSm_M']].values.flatten()\n",
    "ATPSs_m =  ppfd_solns_2cell_fba_bm.loc[['ATPSs_M']].values.flatten()\n",
    "ATPSm_bs = ppfd_solns_2cell_fba_bm.loc[['ATPSm_BS']].values.flatten()\n",
    "ATPSs_bs = ppfd_solns_2cell_fba_bm.loc[['ATPSs_BS']].values.flatten()\n",
    "\n",
    "\n",
    "\n",
    "plt.plot(ppfd_e, ATPSm_m, label=\"ATP synthase (Mitochondrial) M Cell\")\n",
    "plt.plot(ppfd_e, ATPSs_m, label=\"ATP synthase (Stromal) M Cell\")\n",
    "plt.plot(ppfd_e, ATPSm_bs, label=\"ATP synthase (Mitochondrial) BS Cell\")\n",
    "plt.plot(ppfd_e, ATPSs_bs, label=\"ATP synthase (Stromal) BS Cell\")\n",
    "plt.xlabel('PPFD (umol/m2 s)')\n",
    "plt.ylabel('ATPs flux (umol/m2 s)')\n",
    "plt.title('PPFD vs. ATP Synthase flux in Growing leaves')\n",
    "plt.legend()\n",
    "plt.show()\n"
   ]
  },
  {
   "cell_type": "code",
   "execution_count": 95,
   "id": "85e4f7e5",
   "metadata": {
    "ExecuteTime": {
     "end_time": "2022-05-17T08:39:00.155230Z",
     "start_time": "2022-05-17T08:39:00.065361Z"
    }
   },
   "outputs": [
    {
     "data": {
      "image/png": "[encoded data removed]",
      "text/plain": [
       "<Figure size 432x288 with 1 Axes>"
      ]
     },
     "metadata": {
      "needs_background": "light"
     },
     "output_type": "display_data"
    }
   ],
   "source": [
    "#Show CO2 assimilation comparing growing leaf and mature leaf\n",
    "co2_e_mature = ppfd_solns_2cell_fba.loc[['EX_co2(e)']].values.flatten()\n",
    "co2_e_growing = ppfd_solns_2cell_fba_bm.loc[['EX_co2(e)']].values.flatten()\n",
    "\n",
    "plt.plot(ppfd_e, co2_e_mature *-1, label='Net CO2 assimilation (Mature)')\n",
    "plt.plot(ppfd_e, co2_e_growing *-1, label='Net CO2 assimilation (Growing leaf)')\n",
    "plt.xlabel('PPFD (umol/m2 s)')\n",
    "plt.ylabel('A (umol/m2 s)')\n",
    "plt.title('Net CO2 assimilation vs PPFD')\n",
    "plt.legend()\n",
    "plt.show()\n",
    "\n",
    "#Weirdly enough it shows the same response"
   ]
  },
  {
   "cell_type": "code",
   "execution_count": 130,
   "id": "06956660",
   "metadata": {
    "ExecuteTime": {
     "end_time": "2022-05-17T14:30:35.662344Z",
     "start_time": "2022-05-17T14:30:35.504535Z"
    }
   },
   "outputs": [
    {
     "data": {
      "text/plain": [
       "<matplotlib.legend.Legend at 0x7fb4780fcd90>"
      ]
     },
     "execution_count": 130,
     "metadata": {},
     "output_type": "execute_result"
    },
    {
     "data": {
      "image/png": "[encoded data removed]",
      "text/plain": [
       "<Figure size 432x288 with 2 Axes>"
      ]
     },
     "metadata": {
      "needs_background": "light"
     },
     "output_type": "display_data"
    }
   ],
   "source": [
    "#Let's plot the RBCL activities per PPFD\n",
    "rbpc_m = ppfd_solns_2cell_fba_bm.loc[['RBPCs_M']].values.flatten()\n",
    "rbpo_m = ppfd_solns_2cell_fba_bm.loc[['RBPOs_M']].values.flatten()\n",
    "rbpc_bs = ppfd_solns_2cell_fba_bm.loc[['RBPCs_BS']].values.flatten()\n",
    "rbpo_bs = ppfd_solns_2cell_fba_bm.loc[['RBPOs_BS']].values.flatten()\n",
    "vcvo_m = rbpc_m/rbpo_m\n",
    "vcvo_bs = rbpc_bs/rbpo_bs\n",
    "\n",
    "\n",
    "\n",
    "fig, (ax1, ax2) = plt.subplots(2)\n",
    "fig.suptitle('Vc/Vo activity (growing leaf)')\n",
    "# fig.set_xlabel('PPFD (umol/m2 s)')\n",
    "\n",
    "ax1.plot(ppfd_e,  rbpc_m, label='RbpC Activity (M Cell)')\n",
    "ax1.plot(ppfd_e, rbpo_m, label='RbpO Activity (M Cell)')\n",
    "ax1.plot(ppfd_e,  rbpc_bs, label='RbpC Activity (BS Cell)')\n",
    "ax1.plot(ppfd_e, rbpo_bs, label='RbpO Activity (BS Cell)')\n",
    "ax1.set_xlabel('RubisCO Flux (umol/m2 s)')\n",
    "ax1.set_title('RuBisCO activity vs PPFD')\n",
    "ax1.legend()\n",
    "\n",
    "\n",
    "ax2.plot(ppfd_e,  vcvo_m, label='vc/vo ratio (M cell)')\n",
    "ax2.plot(ppfd_e, vcvo_bs, label='vc/vo ratio (BS cell)')\n",
    "ax2.set_ylabel('vc/vo ratio')\n",
    "ax2.set_title('Vc/Vo ratio comparisons between BS and M cells')\n",
    "ax2.legend()\n",
    "\n"
   ]
  },
  {
   "cell_type": "code",
   "execution_count": 131,
   "id": "a45e8c26",
   "metadata": {
    "ExecuteTime": {
     "end_time": "2022-05-17T14:30:39.271663Z",
     "start_time": "2022-05-17T14:30:39.113372Z"
    }
   },
   "outputs": [
    {
     "name": "stderr",
     "output_type": "stream",
     "text": [
      "<ipython-input-131-1993ab215769>:7: RuntimeWarning: divide by zero encountered in true_divide\n",
      "  vcvo_bs = rbpc_bs/rbpo_bs\n"
     ]
    },
    {
     "data": {
      "text/plain": [
       "<matplotlib.legend.Legend at 0x7fb4783f17f0>"
      ]
     },
     "execution_count": 131,
     "metadata": {},
     "output_type": "execute_result"
    },
    {
     "data": {
      "image/png": "[encoded data removed]",
      "text/plain": [
       "<Figure size 432x288 with 2 Axes>"
      ]
     },
     "metadata": {
      "needs_background": "light"
     },
     "output_type": "display_data"
    }
   ],
   "source": [
    "#Let's plot the RBCL activities per PPFD\n",
    "rbpc_m = ppfd_solns_2cell_fba.loc[['RBPCs_M']].values.flatten()\n",
    "rbpo_m = ppfd_solns_2cell_fba.loc[['RBPOs_M']].values.flatten()\n",
    "rbpc_bs = ppfd_solns_2cell_fba.loc[['RBPCs_BS']].values.flatten()\n",
    "rbpo_bs = ppfd_solns_2cell_fba.loc[['RBPOs_BS']].values.flatten()\n",
    "vcvo_m = rbpc_m/rbpo_m\n",
    "vcvo_bs = rbpc_bs/rbpo_bs\n",
    "\n",
    "vcvo_total = (rbpc_m + rbpc_bs)/(rbpo_m + rbpo_bs)\n",
    "\n",
    "\n",
    "fig, (ax1, ax2) = plt.subplots(2)\n",
    "fig.suptitle('Vc/Vo activity (mature leaf)')\n",
    "\n",
    "ax1.plot(ppfd_e,  rbpc_m, label='RbpC Activity (M Cell)')\n",
    "ax1.plot(ppfd_e, rbpo_m, label='RbpO Activity (M Cell)')\n",
    "ax1.plot(ppfd_e,  rbpc_bs, label='RbpC Activity (BS Cell)')\n",
    "ax1.plot(ppfd_e, rbpo_bs, label='RbpO Activity (BS Cell)')\n",
    "ax1.set_ylabel('RbpC/RbpO activity (umol m2/s)')\n",
    "ax1.set_title('RuBisCO activity vs PPFD')\n",
    "ax1.legend()\n",
    "\n",
    "# ax2(ppfd_e,  vcvo_bs, label='vc/vo ratio (BS cell)')\n",
    "ax2.plot(ppfd_e, vcvo_m, label='vc/vo ratio (M cell)')\n",
    "ax2.set_xlabel('PPFD (umol/m2 s)')\n",
    "ax2.set_ylabel('vc/vo ratio')\n",
    "ax2.legend()\n",
    "# ax2.set_title('Vc/Vo ratio comparisons between BS and M cells')\n",
    "\n",
    "\n",
    "#Top is rubisco fluxes while bottom is vc/vo ratios. Note that the vc/vo ratios at the bottom portion \n",
    "#are disrupted due to zero values in a number of "
   ]
  },
  {
   "cell_type": "code",
   "execution_count": 107,
   "id": "fcd3088f",
   "metadata": {
    "ExecuteTime": {
     "end_time": "2022-05-17T08:41:56.565976Z",
     "start_time": "2022-05-17T08:41:56.558107Z"
    }
   },
   "outputs": [
    {
     "data": {
      "text/plain": [
       "array([0.25101346, 0.48760638, 0.83921218, 1.06812226, 1.16946818,\n",
       "       1.46044351, 1.72976441, 1.97497856, 2.22019272, 2.46540688,\n",
       "       2.71062103, 2.95583519, 2.95605495, 2.97275391, 2.8116919 ,\n",
       "       2.92554636, 4.50121281, 4.7930967 , 2.65706473, 3.63215854,\n",
       "       3.4623916 , 2.29312313, 2.22137277, 2.43071911, 2.64006546,\n",
       "       2.72075732, 2.77890172, 2.81378349, 2.8628052 , 2.84068596,\n",
       "       2.84329586, 2.84590576, 2.84845394, 2.85055758, 2.85266122,\n",
       "       2.85476486, 2.8568685 , 2.85897214, 2.86107578, 2.86317942,\n",
       "       2.86528306, 2.8673867 , 2.86949034, 2.87159398, 2.87369762,\n",
       "       2.87580126, 2.8779049 , 2.88000854, 2.88211218, 2.88421582,\n",
       "       2.88631946, 2.8884231 , 2.89052674, 2.89263038, 2.89473402,\n",
       "       2.89683766, 2.8989413 , 2.90104494, 2.90314859, 2.90525223,\n",
       "       2.90735587, 2.90945951, 2.91156315, 2.91366679, 2.91577043,\n",
       "       2.91787407, 2.91997771, 2.92208135, 2.92418499, 2.92628863,\n",
       "       2.92839227, 2.93049591, 2.93259955, 2.93470319, 2.93680683,\n",
       "       2.93891047, 2.94101411, 2.94311775, 2.94522139, 2.94732503])"
      ]
     },
     "execution_count": 107,
     "metadata": {},
     "output_type": "execute_result"
    }
   ],
   "source": [
    "rbpc_bs"
   ]
  },
  {
   "cell_type": "code",
   "execution_count": 155,
   "id": "931ef16f",
   "metadata": {
    "ExecuteTime": {
     "end_time": "2022-05-17T15:04:58.745774Z",
     "start_time": "2022-05-17T15:04:58.549139Z"
    }
   },
   "outputs": [
    {
     "data": {
      "text/plain": [
       "<AxesSubplot:>"
      ]
     },
     "execution_count": 155,
     "metadata": {},
     "output_type": "execute_result"
    },
    {
     "data": {
      "image/png": "[encoded data removed]",
      "text/plain": [
       "<Figure size 432x288 with 2 Axes>"
      ]
     },
     "metadata": {
      "needs_background": "light"
     },
     "output_type": "display_data"
    }
   ],
   "source": [
    "pd_transport_ids = [rxns.id for rxns in model.reactions if \"_pd\" in rxns.id and \"h2o\" not in rxns.id]\n",
    "\n",
    "pd_phloem_ppfd = phloem_ppfd[pd_transport_ids].transpose()\n",
    "\n",
    "\n",
    "sns.heatmap(pd_phloem_ppfd, cmap='vlag')"
   ]
  },
  {
   "cell_type": "code",
   "execution_count": 142,
   "id": "ad7d7f8f",
   "metadata": {
    "ExecuteTime": {
     "end_time": "2022-05-17T14:49:59.058709Z",
     "start_time": "2022-05-17T14:49:59.052904Z"
    }
   },
   "outputs": [],
   "source": [
    "\n",
    "abs_phloem = abs(phloem_ppfd[pd_transport_ids])\n",
    "\n"
   ]
  },
  {
   "cell_type": "markdown",
   "id": "4abb4043",
   "metadata": {
    "ExecuteTime": {
     "end_time": "2022-04-29T01:00:19.805159Z",
     "start_time": "2022-04-29T01:00:19.802642Z"
    }
   },
   "source": [
    "Initial thoughts:\n",
    "- Based on the Light scan experiments above we can see quite a greater variation in terms of Phloem output between flux ranges 200 to 500, and we can also see a minor increase in Rubisco activity in the BS cells. However, I think this still needs to be tested via flux sampling to determine the actual range.\n",
    "- A similar dip exists even in the Wild type mature leaf but generally stabilizes faster compared to the transgenic rice. \n",
    "- I believe this is linked to ATP balancing and the transition from Mitochondrial ATP production to stromal ATP production.\n",
    "\n",
    "- FUrthermore, I've observed that Rubisco activiity is also limited by Formate Dehydrogenase activity. When it is closed, Rubisco activity is only limited to around ~40 umol m2/s flux values (30 vc + 10 vo) while increasing the upper bound of FDHNc to around 25 allows it to have a ceiling of ~80 umol m2/s, which is around the experimental Rubisco activity measured by Ermakova et al (2021)\n",
    "    - However, turning this reaction on causes the model to produce ATP with a flux rate that's almost x2 that of previous modelling attempts as checked from Shameer et al (2018, 2021). Furthermore, in Shameer et al (2021) the ranges for Rubisco carboxylation plays around 28-31, which is the maximum rate observed in this experiment. I think this would be a more viable route if ever.\n",
    "    - Furthermore, based on Shameer et al's hybrid model and flux distributions the ATPase flux values are quite concordant with each other.\n",
    "    - Lastly, the results pertaining to ATP synthesis is quite concordant with the results obtained by Shameer et al in their 2018 publication wherein mito-stromal ATP synthase shift was also observed."
   ]
  },
  {
   "cell_type": "code",
   "execution_count": null,
   "id": "f0b7bed7",
   "metadata": {
    "ExecuteTime": {
     "end_time": "2022-04-29T01:00:19.809419Z",
     "start_time": "2022-04-29T01:00:19.807529Z"
    }
   },
   "outputs": [],
   "source": [
    "#Note: Turning off other prism reactions (red, green, blue, etc) while retaining only white light reactions lowers net carbon assimilation\n",
    "#I think this is in consideration on how white light is partitioned to several wavelengths, which prevents it from being fully utilized."
   ]
  },
  {
   "cell_type": "code",
   "execution_count": null,
   "id": "f6d9127b",
   "metadata": {
    "ExecuteTime": {
     "end_time": "2022-04-29T01:00:19.814839Z",
     "start_time": "2022-04-29T01:00:19.812434Z"
    }
   },
   "outputs": [],
   "source": [
    "#Other artifacts as of the moment include the following:\n",
    "#model doesn't produce any Oxygen. Maybe I should add a specific demand reaction for it?\n",
    "#Based on FVA, the model now produces some oxygen via the demand reaction. "
   ]
  },
  {
   "cell_type": "code",
   "execution_count": null,
   "id": "c3020e0b",
   "metadata": {
    "ExecuteTime": {
     "end_time": "2022-04-29T01:00:19.821844Z",
     "start_time": "2022-04-29T01:00:19.820011Z"
    }
   },
   "outputs": [],
   "source": [
    "#Model also facilitates transfer of metabolites unlike before."
   ]
  },
  {
   "cell_type": "code",
   "execution_count": null,
   "id": "10361fc4",
   "metadata": {
    "ExecuteTime": {
     "end_time": "2022-04-29T01:00:19.829237Z",
     "start_time": "2022-04-29T01:00:19.826928Z"
    }
   },
   "outputs": [],
   "source": [
    "#Questions:\n",
    "#Should I restrict Nutrient flow to the Bundle Sheath Cell only or should I allow flux to both the M and BS cell?\n",
    "#Apparently kasi dito only the Bundle sheath cells produce any biomass\n",
    "#This is to ensure that only CO2 and Light flux are the only limiting constraints to the system."
   ]
  }
 ],
 "metadata": {
  "kernelspec": {
   "display_name": "Python 3",
   "language": "python",
   "name": "python3"
  },
  "language_info": {
   "codemirror_mode": {
    "name": "ipython",
    "version": 3
   },
   "file_extension": ".py",
   "mimetype": "text/x-python",
   "name": "python",
   "nbconvert_exporter": "python",
   "pygments_lexer": "ipython3",
   "version": "3.8.8"
  },
  "varInspector": {
   "cols": {
    "lenName": 16,
    "lenType": 16,
    "lenVar": 40
   },
   "kernels_config": {
    "python": {
     "delete_cmd_postfix": "",
     "delete_cmd_prefix": "del ",
     "library": "var_list.py",
     "varRefreshCmd": "print(var_dic_list())"
    },
    "r": {
     "delete_cmd_postfix": ") ",
     "delete_cmd_prefix": "rm(",
     "library": "var_list.r",
     "varRefreshCmd": "cat(var_dic_list()) "
    }
   },
   "types_to_exclude": [
    "module",
    "function",
    "builtin_function_or_method",
    "instance",
    "_Feature"
   ],
   "window_display": false
  }
 },
 "nbformat": 4,
 "nbformat_minor": 5
}
