{
 "cells": [
  {
   "cell_type": "code",
   "execution_count": 2,
   "id": "ed850710",
   "metadata": {},
   "outputs": [],
   "source": [
    "import cobra\n",
    "import libsbml\n",
    "import riptide\n",
    "from cobra import Model, Reaction, Metabolite\n",
    "import csv\n",
    "import pandas as pd\n",
    "import copy"
   ]
  },
  {
   "cell_type": "code",
   "execution_count": 3,
   "id": "6ec48e83",
   "metadata": {},
   "outputs": [],
   "source": [
    "ios2164_2cell = cobra.io.read_sbml_model(\"../model/ios2164_2cell.xml\")\n",
    "#According to the  tool's author, the best way to merge is simply to generate "
   ]
  },
  {
   "cell_type": "code",
   "execution_count": 8,
   "id": "aec558bc",
   "metadata": {},
   "outputs": [],
   "source": [
    "#Try using  TPM means\n",
    "\n",
    "twocell_expr = riptide.read_transcription_file(\"../data/Ermakova et al/WT-RNAseq-data.csv\", sep = \"\\t\")"
   ]
  },
  {
   "cell_type": "code",
   "execution_count": 9,
   "id": "a133d9d2",
   "metadata": {},
   "outputs": [
    {
     "name": "stdout",
     "output_type": "stream",
     "text": [
      "\n",
      "Initializing model and integrating transcriptomic data...\n",
      "Pruning zero flux subnetworks...\n",
      "Analyzing context-specific flux distributions...\n",
      "\n",
      "Reactions pruned to 741 from 4946 (85.02% change)\n",
      "Metabolites pruned to 775 from 3956 (80.41% change)\n",
      "WARNING: Contextualized model objective can no longer carry flux\n",
      "Context-specific metabolism correlates with transcriptome (r=0.093, p=0.011 *)\n",
      "\n",
      "RIPTiDe completed in 51 seconds\n",
      "\n"
     ]
    }
   ],
   "source": [
    "mcell_rip = riptide.contextualize(ios2164_2cell, transcriptome = twocell_expr, samples= 1000)\n"
   ]
  },
  {
   "cell_type": "code",
   "execution_count": 13,
   "id": "898e3bd7",
   "metadata": {},
   "outputs": [
    {
     "data": {
      "text/html": [
       "\n",
       "        <table>\n",
       "            <tr>\n",
       "                <td><strong>Name</strong></td>\n",
       "                <td>iOS2164_riptide</td>\n",
       "            </tr><tr>\n",
       "                <td><strong>Memory address</strong></td>\n",
       "                <td>0x07f02089f4340</td>\n",
       "            </tr><tr>\n",
       "                <td><strong>Number of metabolites</strong></td>\n",
       "                <td>775</td>\n",
       "            </tr><tr>\n",
       "                <td><strong>Number of reactions</strong></td>\n",
       "                <td>741</td>\n",
       "            </tr><tr>\n",
       "                <td><strong>Number of groups</strong></td>\n",
       "                <td>96</td>\n",
       "            </tr><tr>\n",
       "                <td><strong>Objective expression</strong></td>\n",
       "                <td>1.0*Straw_Biomass_BS - 1.0*Straw_Biomass_BS_reverse_9ef17 + 1.0*Straw_Biomass_M -...</td>\n",
       "            </tr><tr>\n",
       "                <td><strong>Compartments</strong></td>\n",
       "                <td>M Cell Cytoplasm, M Cell Plastid, M Cell Endoplasmic_reticulum, Extracellular, M Cell Thylakoid, M Cell Mitochondrion, BS Cell Cytoplasm, BS Cell Plastid, BS Cell Endoplasmic_reticulum, BS Cell Thylakoid, BS Cell Mitochondrion</td>\n",
       "            </tr>\n",
       "          </table>"
      ],
      "text/plain": [
       "<Model iOS2164_riptide at 0x7f02089f4340>"
      ]
     },
     "execution_count": 13,
     "metadata": {},
     "output_type": "execute_result"
    }
   ],
   "source": [
    "mcell_rip.model"
   ]
  },
  {
   "cell_type": "code",
   "execution_count": 40,
   "id": "12150b95",
   "metadata": {},
   "outputs": [],
   "source": [
    "context_model = mcell_rip.model"
   ]
  },
  {
   "cell_type": "markdown",
   "id": "a6bf78a9",
   "metadata": {},
   "source": [
    "Benchmarking Results for M cells:\n",
    "\n",
    "\n",
    "Unconstrained CO2 Flux thru M: r=0.077, n.s.\n",
    "Orig. Medium (Photoautotrophic, w/ Gas exchange): r=0.192, p<0.001\n",
    "If I add Sucrose to the medium: r=0.065; p=0.045 (Low significance)\n",
    "Only CO2, no O2: 0.154, p=0.001\n",
    "With NH4 + Gas exchange: r=0.181, p<0.001\n",
    "With NH4 + Gas exchange + AA: r=0.15, p<0.001\n",
    "Low light conditions (200 PPFD), gas exchange + unconstrained inorganics = 0.171\n",
    "Medium light (500 PPFD): 0.15\n",
    "With Glycine import: 0.162\n",
    "\n",
    "W/ FE3 import, no NH4: r=0.213, p<0.001\n",
    "\n",
    "Just use yung with FE3 import and no NH4. //"
   ]
  }
 ],
 "metadata": {
  "kernelspec": {
   "display_name": "Python 3",
   "language": "python",
   "name": "python3"
  },
  "language_info": {
   "codemirror_mode": {
    "name": "ipython",
    "version": 3
   },
   "file_extension": ".py",
   "mimetype": "text/x-python",
   "name": "python",
   "nbconvert_exporter": "python",
   "pygments_lexer": "ipython3",
   "version": "3.8.8"
  },
  "varInspector": {
   "cols": {
    "lenName": 16,
    "lenType": 16,
    "lenVar": 40
   },
   "kernels_config": {
    "python": {
     "delete_cmd_postfix": "",
     "delete_cmd_prefix": "del ",
     "library": "var_list.py",
     "varRefreshCmd": "print(var_dic_list())"
    },
    "r": {
     "delete_cmd_postfix": ") ",
     "delete_cmd_prefix": "rm(",
     "library": "var_list.r",
     "varRefreshCmd": "cat(var_dic_list()) "
    }
   },
   "types_to_exclude": [
    "module",
    "function",
    "builtin_function_or_method",
    "instance",
    "_Feature"
   ],
   "window_display": false
  }
 },
 "nbformat": 4,
 "nbformat_minor": 5
}
