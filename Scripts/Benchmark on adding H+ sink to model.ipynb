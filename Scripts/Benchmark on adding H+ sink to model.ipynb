{
 "cells": [
  {
   "cell_type": "code",
   "execution_count": 4,
   "id": "23e2cbd1",
   "metadata": {
    "ExecuteTime": {
     "end_time": "2022-11-26T06:42:26.785258Z",
     "start_time": "2022-11-26T06:42:26.778410Z"
    }
   },
   "outputs": [],
   "source": [
    "import sys\n",
    "sys.path.append(\"../src/\") \n",
    "import os\n",
    "\n",
    "\n",
    "\n",
    "import model_manipulation as mm\n",
    "import cobra\n",
    "import cplex \n",
    "import libsbml\n",
    "import pandas as pd\n",
    "import copy\n",
    "from pathlib import Path\n",
    "import matplotlib.pyplot as plt\n",
    "import csv\n",
    "import numpy as np\n",
    "import seaborn as sns\n",
    "from cobra import Reaction\n",
    "import model_initialize as model_init\n",
    "from model_initialize import compute_ngam_atp, define_model_medium, add_tissue_constraints, add_enzyme_constraints, \\\n",
    "                        add_ngam_cons, print_summary, turn_off_cofac_cycles"
   ]
  },
  {
   "cell_type": "markdown",
   "id": "250178c8",
   "metadata": {
    "ExecuteTime": {
     "end_time": "2022-11-25T21:12:48.362266Z",
     "start_time": "2022-11-25T21:12:48.360113Z"
    }
   },
   "source": [
    "Checklist:\n",
    "- add wild type script to this script //\n",
    "- Change names to reflect WT and trans //\n",
    "- Incorporate graphs for both WT and trans//\n",
    "\n",
    "- Check WT FVA @ 1000 PPFD to check CO2 intake and base CO2 script from there.\n",
    "\n"
   ]
  },
  {
   "cell_type": "code",
   "execution_count": 2,
   "id": "8def8923",
   "metadata": {
    "ExecuteTime": {
     "end_time": "2022-11-26T06:42:13.857426Z",
     "start_time": "2022-11-26T06:42:09.498560Z"
    }
   },
   "outputs": [
    {
     "name": "stdout",
     "output_type": "stream",
     "text": [
      "Set parameter Username\n",
      "Academic license - for non-commercial use only - expires 2023-08-03\n"
     ]
    }
   ],
   "source": [
    "#Read 2-cell model\n",
    "model = cobra.io.read_sbml_model(\"../model/ios2164_2cell.xml\")\n",
    "model.solver = 'gurobi'\n",
    "\n",
    "inf = 1e6"
   ]
  },
  {
   "cell_type": "markdown",
   "id": "aa7ad482",
   "metadata": {},
   "source": [
    "One issue that I've found with my model is that allowing intake of H+ increases biomass yield per light value drastically. Furthermore, I do think that not allowing protons to be taken into the model is erroneoous and should be rectified.\n",
    "\n",
    "One approach that I could do with this is to allow excess protons to exit the systems via sink reactions in each compartment. THis approach was adopted by Blaetke and Brautigam (2019) \n"
   ]
  },
  {
   "cell_type": "code",
   "execution_count": 5,
   "id": "a328f5b3",
   "metadata": {
    "ExecuteTime": {
     "end_time": "2022-11-26T06:43:26.872024Z",
     "start_time": "2022-11-26T06:42:28.102972Z"
    },
    "scrolled": true
   },
   "outputs": [
    {
     "name": "stdout",
     "output_type": "stream",
     "text": [
      "PPFD: 50  RBPC_M cell flux: 7.560798572971715\n",
      "PPFD: 100  RBPC_M cell flux: 12.113350189834984\n",
      "PPFD: 150  RBPC_M cell flux: 16.61660924709708\n",
      "PPFD: 200  RBPC_M cell flux: 20.96470255720837\n",
      "PPFD: 250  RBPC_M cell flux: 25.311383298265326\n",
      "PPFD: 300  RBPC_M cell flux: 29.658064039334448\n",
      "PPFD: 350  RBPC_M cell flux: 31.738199559135435\n",
      "PPFD: 400  RBPC_M cell flux: 31.813130857845955\n",
      "PPFD: 450  RBPC_M cell flux: 31.860572047879334\n",
      "PPFD: 500  RBPC_M cell flux: 31.76001399371039\n",
      "PPFD: 550  RBPC_M cell flux: 31.99033670005153\n",
      "PPFD: 600  RBPC_M cell flux: 31.94962250803559\n",
      "PPFD: 650  RBPC_M cell flux: 31.952988603170844\n",
      "PPFD: 700  RBPC_M cell flux: 31.888948595590183\n",
      "PPFD: 750  RBPC_M cell flux: 31.826211550807937\n",
      "PPFD: 800  RBPC_M cell flux: 31.822973223751028\n",
      "PPFD: 850  RBPC_M cell flux: 31.84433368915516\n",
      "PPFD: 900  RBPC_M cell flux: 31.841903911517058\n",
      "PPFD: 950  RBPC_M cell flux: 31.8405445325654\n",
      "PPFD: 1000  RBPC_M cell flux: 31.839359623020425\n",
      "PPFD: 1050  RBPC_M cell flux: 31.838174713485177\n",
      "PPFD: 1100  RBPC_M cell flux: 31.836989803950548\n",
      "PPFD: 1150  RBPC_M cell flux: 31.835804894416718\n",
      "PPFD: 1200  RBPC_M cell flux: 31.834619984881424\n",
      "PPFD: 1250  RBPC_M cell flux: 31.833435075347186\n",
      "PPFD: 1300  RBPC_M cell flux: 31.83225016581257\n",
      "PPFD: 1350  RBPC_M cell flux: 31.834106489002203\n",
      "PPFD: 1400  RBPC_M cell flux: 31.82724724910524\n",
      "PPFD: 1450  RBPC_M cell flux: 31.827298270925525\n",
      "PPFD: 1500  RBPC_M cell flux: 31.82915139923216\n",
      "Successfully saved PPFD-benchmark-h-input-with-sink-20221126-14:43 to ../flux_results/Proton_benchmarking/PPFD-benchmark-h-input-with-sink-20221126-14:43.tsv\n"
     ]
    }
   ],
   "source": [
    "\n",
    "#This \n",
    "ppfd_scan_h1 = pd.DataFrame(index=list(i.id for i in model.reactions))\n",
    "\n",
    "#Iterate from range 50 to 1500 w/ increments of 50 (max ppfd)\n",
    "\n",
    "#Note the following constraints:\n",
    "#CO2 intake limited to 22.2 \n",
    "\n",
    "for ppfd in range(50,1550,50):\n",
    "    \n",
    "    #Generate instance of model every iteration\n",
    "    with model as m1:\n",
    "        \n",
    "        #Turn on proton sinks\n",
    "        for rxns in m1.reactions:\n",
    "            if \"DM_h\" in rxns.id:\n",
    "                m1.reactions.get_by_id(rxns.id).upper_bounds = inf\n",
    "#                 print(rxns, rxns.upper_bounds)\n",
    "        \n",
    " \n",
    "        m1.medium = define_model_medium(m1, co2=29, o2=2.26, ppfd=ppfd, h=inf, nh4=inf, no3=inf)\n",
    "        turn_off_cofac_cycles(m1) #Turn off other cofactor recycling \n",
    "        add_tissue_constraints(m1)\n",
    "        add_enzyme_constraints(m1) \n",
    "        \n",
    "        #Add NGAM to model\n",
    "        add_ngam_cons(m1, ppfd)\n",
    "    \n",
    "        #Change objective function to mature leaf\n",
    "        m1.reactions.get_by_id('Straw_Biomass_M').objective_coefficient = 0\n",
    "        m1.reactions.get_by_id('Straw_Biomass_BS').objective_coefficient = 0\n",
    "        m1.reactions.get_by_id('DM_Phloem_BS').objective_coefficient = 1\n",
    "\n",
    "        #Optimize then check optimality\n",
    "        while True:\n",
    "            solution = model.optimize()\n",
    "            if solution.status == 'optimal':\n",
    "                sample_fluxes = cobra.flux_analysis.pfba(model).fluxes\n",
    "                #Remove thermodynamically infeasible loops via CycleFreeFlux algorithm\n",
    "                sample_fluxes = cobra.flux_analysis.loopless_solution(model, sample_fluxes).to_frame()\n",
    "                print(\"PPFD:\", ppfd, \" RBPC_M cell flux:\", sample_fluxes['fluxes']['RBPCs_M'])\n",
    "                #Append to Dataframe\n",
    "                ppfd_scan_h1[ppfd] = sample_fluxes['fluxes']\n",
    "                break\n",
    "            \n",
    "\n",
    "filepath = '../flux_results/Proton_benchmarking/'\n",
    "filename = 'PPFD-benchmark-h-input-with-sink'\n",
    "mm.save_fba_matrix(filename, ppfd_scan_h1, filepath)\n",
    "\n"
   ]
  },
  {
   "cell_type": "code",
   "execution_count": 6,
   "id": "5c2020bf",
   "metadata": {
    "ExecuteTime": {
     "end_time": "2022-11-26T06:44:32.502590Z",
     "start_time": "2022-11-26T06:43:26.919777Z"
    }
   },
   "outputs": [
    {
     "name": "stdout",
     "output_type": "stream",
     "text": [
      "PPFD: 50  RBPC_M cell flux: 1.2124690857353373\n",
      "PPFD: 100  RBPC_M cell flux: 3.124166412964314\n",
      "PPFD: 150  RBPC_M cell flux: 5.052795681867245\n",
      "PPFD: 200  RBPC_M cell flux: 6.879403519036243\n",
      "PPFD: 250  RBPC_M cell flux: 8.83550654020474\n",
      "PPFD: 300  RBPC_M cell flux: 10.748393068287651\n",
      "PPFD: 350  RBPC_M cell flux: 12.664636479201219\n",
      "PPFD: 400  RBPC_M cell flux: 14.580015646573548\n",
      "PPFD: 450  RBPC_M cell flux: 16.484758846926635\n",
      "PPFD: 500  RBPC_M cell flux: 18.396914513450323\n",
      "PPFD: 550  RBPC_M cell flux: 20.329020450609686\n",
      "PPFD: 600  RBPC_M cell flux: 22.24877195302377\n",
      "PPFD: 650  RBPC_M cell flux: 24.170996545507546\n",
      "PPFD: 700  RBPC_M cell flux: 26.087328275803838\n",
      "PPFD: 750  RBPC_M cell flux: 28.0036600064469\n",
      "PPFD: 800  RBPC_M cell flux: 29.91999173640688\n",
      "PPFD: 850  RBPC_M cell flux: 31.56793326627277\n",
      "PPFD: 900  RBPC_M cell flux: 31.79767217556516\n",
      "PPFD: 950  RBPC_M cell flux: 31.795926114182915\n",
      "PPFD: 1000  RBPC_M cell flux: 31.7941800527992\n",
      "PPFD: 1050  RBPC_M cell flux: 31.792433991332395\n",
      "PPFD: 1100  RBPC_M cell flux: 31.790687930054307\n",
      "PPFD: 1150  RBPC_M cell flux: 31.788941868647914\n",
      "PPFD: 1200  RBPC_M cell flux: 31.787195807265515\n",
      "PPFD: 1250  RBPC_M cell flux: 31.785053600018273\n",
      "PPFD: 1300  RBPC_M cell flux: 31.780867994547435\n",
      "PPFD: 1350  RBPC_M cell flux: 31.776682389076043\n",
      "PPFD: 1400  RBPC_M cell flux: 31.772496783616084\n",
      "PPFD: 1450  RBPC_M cell flux: 31.769261363222824\n",
      "PPFD: 1500  RBPC_M cell flux: 31.766591381696053\n",
      "Successfully saved PPFD-benchmark-no-proton-input-with-sink-20221126-14:44 to ../flux_results/Proton_benchmarking/PPFD-benchmark-no-proton-input-with-sink-20221126-14:44.tsv\n"
     ]
    }
   ],
   "source": [
    "ppfd_scan_h2 = pd.DataFrame(index=list(i.id for i in model.reactions))\n",
    "\n",
    "\n",
    "for ppfd in range(50,1550,50):\n",
    "    \n",
    "    #Generate instance of model every iteration\n",
    "    with model as m1:\n",
    "        \n",
    "        #Turn on proton sinks\n",
    "        for rxns in m1.reactions:\n",
    "            if \"DM_h\" in rxns.id:\n",
    "                m1.reactions.get_by_id(rxns.id).upper_bounds = inf\n",
    "#                 print(rxns, rxns.upper_bounds)\n",
    "        \n",
    " \n",
    "        m1.medium = define_model_medium(m1, co2=29, o2=2.26, ppfd=ppfd, h=0, nh4=inf, no3=inf)\n",
    "        turn_off_cofac_cycles(m1) #Turn off other cofactor recycling \n",
    "        add_tissue_constraints(m1)\n",
    "        add_enzyme_constraints(m1) \n",
    "        \n",
    "        #Add NGAM to model\n",
    "        add_ngam_cons(m1, ppfd)\n",
    "    \n",
    "        #Change objective function to mature leaf\n",
    "        m1.reactions.get_by_id('Straw_Biomass_M').objective_coefficient = 0\n",
    "        m1.reactions.get_by_id('Straw_Biomass_BS').objective_coefficient = 0\n",
    "        m1.reactions.get_by_id('DM_Phloem_BS').objective_coefficient = 1\n",
    "\n",
    "        #Optimize then check optimality\n",
    "        while True:\n",
    "            solution = model.optimize()\n",
    "            if solution.status == 'optimal':\n",
    "                sample_fluxes = cobra.flux_analysis.pfba(model).fluxes\n",
    "                #Remove thermodynamically infeasible loops via CycleFreeFlux algorithm\n",
    "                sample_fluxes = cobra.flux_analysis.loopless_solution(model, sample_fluxes).to_frame()\n",
    "                print(\"PPFD:\", ppfd, \" RBPC_M cell flux:\", sample_fluxes['fluxes']['RBPCs_M'])\n",
    "                #Append to Dataframe\n",
    "                ppfd_scan_h2[ppfd] = sample_fluxes['fluxes']\n",
    "                break\n",
    "\n",
    "\n",
    "filepath = '../flux_results/Proton_benchmarking/'\n",
    "filename = 'PPFD-benchmark-no-proton-input-with-sink'\n",
    "mm.save_fba_matrix(filename, ppfd_scan_h2, filepath)"
   ]
  },
  {
   "cell_type": "code",
   "execution_count": 7,
   "id": "10a7c3e3",
   "metadata": {
    "ExecuteTime": {
     "end_time": "2022-11-26T06:45:33.831621Z",
     "start_time": "2022-11-26T06:44:32.600745Z"
    }
   },
   "outputs": [
    {
     "name": "stdout",
     "output_type": "stream",
     "text": [
      "PPFD: 50  RBPC_M cell flux: 7.560798572971398\n",
      "PPFD: 100  RBPC_M cell flux: 12.11335018985084\n",
      "PPFD: 150  RBPC_M cell flux: 16.616609247096633\n",
      "PPFD: 200  RBPC_M cell flux: 20.964702557204266\n",
      "PPFD: 250  RBPC_M cell flux: 25.311383298270314\n",
      "PPFD: 300  RBPC_M cell flux: 29.65806403933396\n",
      "PPFD: 350  RBPC_M cell flux: 31.712634463268827\n",
      "PPFD: 400  RBPC_M cell flux: 31.928797076114936\n",
      "PPFD: 450  RBPC_M cell flux: 31.8464265603779\n",
      "PPFD: 500  RBPC_M cell flux: 31.82126852941287\n",
      "PPFD: 550  RBPC_M cell flux: 32.010123382105256\n",
      "PPFD: 600  RBPC_M cell flux: 32.01330243187956\n",
      "PPFD: 650  RBPC_M cell flux: 31.95298860317089\n",
      "PPFD: 700  RBPC_M cell flux: 31.854482898463836\n",
      "PPFD: 750  RBPC_M cell flux: 31.826211550807642\n",
      "PPFD: 800  RBPC_M cell flux: 31.82297322375059\n",
      "PPFD: 850  RBPC_M cell flux: 31.84433368915453\n",
      "PPFD: 900  RBPC_M cell flux: 31.84190391105468\n",
      "PPFD: 950  RBPC_M cell flux: 31.84054453255406\n",
      "PPFD: 1000  RBPC_M cell flux: 31.839359623019984\n",
      "PPFD: 1050  RBPC_M cell flux: 31.838174713486644\n",
      "PPFD: 1100  RBPC_M cell flux: 31.83698980395314\n",
      "PPFD: 1150  RBPC_M cell flux: 31.83580489441772\n",
      "PPFD: 1200  RBPC_M cell flux: 31.834619984881947\n",
      "PPFD: 1250  RBPC_M cell flux: 31.83343507534769\n",
      "PPFD: 1300  RBPC_M cell flux: 31.832250165812756\n",
      "PPFD: 1350  RBPC_M cell flux: 31.83410648900184\n",
      "PPFD: 1400  RBPC_M cell flux: 31.827247249105298\n",
      "PPFD: 1450  RBPC_M cell flux: 31.82729827082739\n",
      "PPFD: 1500  RBPC_M cell flux: 31.829151399231073\n",
      "Successfully saved PPFD-benchmark-with-proton-input-no-sink-20221126-14:45 to ../flux_results/Proton_benchmarking/PPFD-benchmark-with-proton-input-no-sink-20221126-14:45.tsv\n"
     ]
    }
   ],
   "source": [
    "ppfd_scan_h3 = pd.DataFrame(index=list(i.id for i in model.reactions))\n",
    "\n",
    "\n",
    "for ppfd in range(50,1550,50):\n",
    "    \n",
    "    #Generate instance of model every iteration\n",
    "    with model as m1:\n",
    "        \n",
    "        #Turn on proton sinks\n",
    "#         for rxns in m1.reactions:\n",
    "#             if \"DM_h\" in rxns.id:\n",
    "#                 rxns.upper_bounds = inf\n",
    "#                 print(rxns, rxns.upper_bounds)\n",
    "        \n",
    " \n",
    "        m1.medium = define_model_medium(m1, co2=29, o2=2.26, ppfd=ppfd, h=inf, nh4=inf, no3=inf)\n",
    "        turn_off_cofac_cycles(m1) #Turn off other cofactor recycling \n",
    "        add_tissue_constraints(m1)\n",
    "        add_enzyme_constraints(m1) \n",
    "        \n",
    "        #Add NGAM to model\n",
    "        add_ngam_cons(m1, ppfd)\n",
    "    \n",
    "        #Change objective function to mature leaf\n",
    "        m1.reactions.get_by_id('Straw_Biomass_M').objective_coefficient = 0\n",
    "        m1.reactions.get_by_id('Straw_Biomass_BS').objective_coefficient = 0\n",
    "        m1.reactions.get_by_id('DM_Phloem_BS').objective_coefficient = 1\n",
    "\n",
    "        #Optimize then check optimality\n",
    "        while True:\n",
    "            solution = model.optimize()\n",
    "            if solution.status == 'optimal':\n",
    "                sample_fluxes = cobra.flux_analysis.pfba(model).fluxes\n",
    "                #Remove thermodynamically infeasible loops via CycleFreeFlux algorithm\n",
    "                sample_fluxes = cobra.flux_analysis.loopless_solution(model, sample_fluxes).to_frame()\n",
    "                print(\"PPFD:\", ppfd, \" RBPC_M cell flux:\", sample_fluxes['fluxes']['RBPCs_M'])\n",
    "                #Append to Dataframe\n",
    "                ppfd_scan_h3[ppfd] = sample_fluxes['fluxes']\n",
    "                break\n",
    "\n",
    "\n",
    "filepath = '../flux_results/Proton_benchmarking/'\n",
    "filename = 'PPFD-benchmark-with-proton-input-no-sink'\n",
    "mm.save_fba_matrix(filename, ppfd_scan_h3, filepath)"
   ]
  },
  {
   "cell_type": "code",
   "execution_count": 8,
   "id": "ae049872",
   "metadata": {
    "ExecuteTime": {
     "end_time": "2022-11-26T06:46:35.609458Z",
     "start_time": "2022-11-26T06:45:33.943127Z"
    },
    "scrolled": true
   },
   "outputs": [
    {
     "name": "stdout",
     "output_type": "stream",
     "text": [
      "PPFD: 50  RBPC_M cell flux: 1.2178128535142692\n",
      "PPFD: 100  RBPC_M cell flux: 3.1349412766960514\n",
      "PPFD: 150  RBPC_M cell flux: 5.052795681866689\n",
      "PPFD: 200  RBPC_M cell flux: 6.879403519034048\n",
      "PPFD: 250  RBPC_M cell flux: 8.835506540208197\n",
      "PPFD: 300  RBPC_M cell flux: 10.748393068287331\n",
      "PPFD: 350  RBPC_M cell flux: 12.664636479201784\n",
      "PPFD: 400  RBPC_M cell flux: 14.580015646573013\n",
      "PPFD: 450  RBPC_M cell flux: 16.484758846943844\n",
      "PPFD: 500  RBPC_M cell flux: 18.396914513450152\n",
      "PPFD: 550  RBPC_M cell flux: 20.329020450609764\n",
      "PPFD: 600  RBPC_M cell flux: 22.24877195304918\n",
      "PPFD: 650  RBPC_M cell flux: 24.17099654551627\n",
      "PPFD: 700  RBPC_M cell flux: 26.08732827580882\n",
      "PPFD: 750  RBPC_M cell flux: 28.003660006058684\n",
      "PPFD: 800  RBPC_M cell flux: 29.919991736415287\n",
      "PPFD: 850  RBPC_M cell flux: 31.56793326629762\n",
      "PPFD: 900  RBPC_M cell flux: 31.797672175566834\n",
      "PPFD: 950  RBPC_M cell flux: 31.795926114182507\n",
      "PPFD: 1000  RBPC_M cell flux: 31.794180052802282\n",
      "PPFD: 1050  RBPC_M cell flux: 31.792433991415017\n",
      "PPFD: 1100  RBPC_M cell flux: 31.790687930032302\n",
      "PPFD: 1150  RBPC_M cell flux: 31.78894186864958\n",
      "PPFD: 1200  RBPC_M cell flux: 31.787195807266283\n",
      "PPFD: 1250  RBPC_M cell flux: 31.78505360002066\n",
      "PPFD: 1300  RBPC_M cell flux: 31.780867994547233\n",
      "PPFD: 1350  RBPC_M cell flux: 31.776682389074185\n",
      "PPFD: 1400  RBPC_M cell flux: 31.772496783605703\n",
      "PPFD: 1450  RBPC_M cell flux: 31.76926136322306\n",
      "PPFD: 1500  RBPC_M cell flux: 31.766591381696024\n",
      "Successfully saved PPFD-benchmark-no-proton-input-no-sink-20221126-14:46 to ../flux_results/Proton_benchmarking/PPFD-benchmark-no-proton-input-no-sink-20221126-14:46.tsv\n"
     ]
    }
   ],
   "source": [
    "ppfd_scan_h4 = pd.DataFrame(index=list(i.id for i in model.reactions))\n",
    "\n",
    "\n",
    "for ppfd in range(50,1550,50):\n",
    "    \n",
    "    #Generate instance of model every iteration\n",
    "    with model as m1:\n",
    "        \n",
    "        #Turn on proton sinks\n",
    "#         for rxns in m1.reactions:\n",
    "#             if \"DM_h\" in rxns.id:\n",
    "#                 rxns.upper_bounds = inf\n",
    "#                 print(rxns, rxns.upper_bounds)\n",
    "        \n",
    " \n",
    "        m1.medium = define_model_medium(m1, co2=29, o2=2.26, ppfd=ppfd, h=0, nh4=inf, no3=inf)\n",
    "        turn_off_cofac_cycles(m1) #Turn off other cofactor recycling \n",
    "        add_tissue_constraints(m1)\n",
    "        add_enzyme_constraints(m1) \n",
    "        \n",
    "        #Add NGAM to model\n",
    "        add_ngam_cons(m1, ppfd)\n",
    "    \n",
    "        #Change objective function to mature leaf\n",
    "        m1.reactions.get_by_id('Straw_Biomass_M').objective_coefficient = 0\n",
    "        m1.reactions.get_by_id('Straw_Biomass_BS').objective_coefficient = 0\n",
    "        m1.reactions.get_by_id('DM_Phloem_BS').objective_coefficient = 1\n",
    "\n",
    "        #Optimize then check optimality\n",
    "        while True:\n",
    "            solution = model.optimize()\n",
    "            if solution.status == 'optimal':\n",
    "                sample_fluxes = cobra.flux_analysis.pfba(model).fluxes\n",
    "                #Remove thermodynamically infeasible loops via CycleFreeFlux algorithm\n",
    "                sample_fluxes = cobra.flux_analysis.loopless_solution(model, sample_fluxes).to_frame()\n",
    "                print(\"PPFD:\", ppfd, \" RBPC_M cell flux:\", sample_fluxes['fluxes']['RBPCs_M'])\n",
    "                #Append to Dataframe\n",
    "                ppfd_scan_h4[ppfd] = sample_fluxes['fluxes']\n",
    "                break\n",
    "\n",
    "\n",
    "filepath = '../flux_results/Proton_benchmarking/'\n",
    "filename = 'PPFD-benchmark-no-proton-input-no-sink'\n",
    "mm.save_fba_matrix(filename, ppfd_scan_h4, filepath)"
   ]
  },
  {
   "cell_type": "markdown",
   "id": "9ef8f3ef",
   "metadata": {},
   "source": [
    "Notes:\n",
    "Adding H+ to the model allows CO2 assimilation to follow a curve similar to B&B 2019 w/ a saturation point around 400-500 ppfd.\n",
    "\n",
    "Scenarios without added H+ have a more gradual curve with a saturation point around 700-800 ppfd"
   ]
  },
  {
   "cell_type": "code",
   "execution_count": null,
   "id": "0e9596d3",
   "metadata": {},
   "outputs": [],
   "source": []
  }
 ],
 "metadata": {
  "kernelspec": {
   "display_name": "Python 3",
   "language": "python",
   "name": "python3"
  },
  "language_info": {
   "codemirror_mode": {
    "name": "ipython",
    "version": 3
   },
   "file_extension": ".py",
   "mimetype": "text/x-python",
   "name": "python",
   "nbconvert_exporter": "python",
   "pygments_lexer": "ipython3",
   "version": "3.8.8"
  },
  "varInspector": {
   "cols": {
    "lenName": 16,
    "lenType": 16,
    "lenVar": 40
   },
   "kernels_config": {
    "python": {
     "delete_cmd_postfix": "",
     "delete_cmd_prefix": "del ",
     "library": "var_list.py",
     "varRefreshCmd": "print(var_dic_list())"
    },
    "r": {
     "delete_cmd_postfix": ") ",
     "delete_cmd_prefix": "rm(",
     "library": "var_list.r",
     "varRefreshCmd": "cat(var_dic_list()) "
    }
   },
   "types_to_exclude": [
    "module",
    "function",
    "builtin_function_or_method",
    "instance",
    "_Feature"
   ],
   "window_display": false
  }
 },
 "nbformat": 4,
 "nbformat_minor": 5
}
