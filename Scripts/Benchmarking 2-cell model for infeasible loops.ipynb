{
 "cells": [
  {
   "cell_type": "code",
   "execution_count": 1,
   "id": "23e2cbd1",
   "metadata": {
    "ExecuteTime": {
     "end_time": "2022-05-03T17:42:59.648307Z",
     "start_time": "2022-05-03T17:42:58.446260Z"
    }
   },
   "outputs": [],
   "source": [
    "import sys\n",
    "sys.path.append(\"../src/\") \n",
    "import os\n",
    "\n",
    "import model_manipulation as mm\n",
    "import cobra\n",
    "import cplex \n",
    "import libsbml\n",
    "import pandas as pd\n",
    "import copy\n",
    "from pathlib import Path\n",
    "import memote\n",
    "import csv\n",
    "from cobra import Reaction\n"
   ]
  },
  {
   "cell_type": "code",
   "execution_count": 4,
   "id": "8def8923",
   "metadata": {
    "ExecuteTime": {
     "end_time": "2022-05-03T00:02:47.647970Z",
     "start_time": "2022-05-03T00:02:43.343970Z"
    }
   },
   "outputs": [
    {
     "name": "stdout",
     "output_type": "stream",
     "text": [
      "Set parameter Username\n",
      "Academic license - for non-commercial use only - expires 2022-06-12\n"
     ]
    }
   ],
   "source": [
    "#Read 2-cell model\n",
    "model = cobra.io.read_sbml_model(\"../model/ios2164_2cell.xml\")\n",
    "#Estimate inf\n",
    "inf = 1e6\n",
    "model.solver = 'gurobi'\n"
   ]
  },
  {
   "cell_type": "code",
   "execution_count": 5,
   "id": "c6481857",
   "metadata": {
    "ExecuteTime": {
     "end_time": "2022-05-03T00:02:47.659952Z",
     "start_time": "2022-05-03T00:02:47.657887Z"
    }
   },
   "outputs": [],
   "source": [
    "\n",
    "#Define linear relationship between PPFD and Cellular maintainance costs\n",
    "#This formula comes from Topfer et al (2020) where she defined NGAM in a linear relationship with incident light\n",
    "def compute_ngam_atp(ppfd):\n",
    "    v_atp = 0.0049*ppfd + 2.7851\n",
    "    return v_atp"
   ]
  },
  {
   "cell_type": "code",
   "execution_count": 6,
   "id": "19cbcb9d",
   "metadata": {
    "ExecuteTime": {
     "end_time": "2022-05-03T00:02:47.781028Z",
     "start_time": "2022-05-03T00:02:47.666819Z"
    },
    "scrolled": true
   },
   "outputs": [
    {
     "data": {
      "text/plain": [
       "{'EX_co2(e)': 1000000,\n",
       " 'EX_h2o(e)': 1000000.0,\n",
       " 'EX_no3(e)': 1000000.0,\n",
       " 'EX_o2(e)': 1000000,\n",
       " 'EX_pi(e)': 1000000,\n",
       " 'EX_so4(e)': 1000000,\n",
       " 'EX_so3(e)': 1000000,\n",
       " 'EX_h2s(e)': 1000000,\n",
       " 'EX_fe2(e)': 1000000,\n",
       " 'EX_fe3(e)': 1000000,\n",
       " 'EX_mg2(e)': 1000000,\n",
       " 'EX_photonVis(e)': 1000000}"
      ]
     },
     "execution_count": 6,
     "metadata": {},
     "output_type": "execute_result"
    }
   ],
   "source": [
    "#Initialize medium so as to induce Photoautotrophic conditions (i.e. no Sucrose import)\n",
    "model_media = mm.read_medium_csv('../misc/photo_medium.csv', model)\n",
    "    \n",
    "model_media['EX_no3(e)'] = inf\n",
    "model_media['EX_nh4(e)'] = 0\n",
    "model_media['EX_h2o(e)'] = inf\n",
    "\n",
    "model_media['EX_h(e)'] = 0\n",
    "model.medium =model_media\n",
    "\n",
    "model.medium\n"
   ]
  },
  {
   "cell_type": "markdown",
   "id": "aa7ad482",
   "metadata": {},
   "source": [
    "#Add transgenic reactions to model localized to specific compartment\n",
    "\n",
    "Transgenic (Line 29 - Ermakova et al)\n",
    "PEPC = Chloroplastic in M & V (rxn id: PPCc)\n",
    "PPDK = Chloroplastic in M and BS (rxn id: PPDKs)\n",
    "NADP-ME = Mitochondrial in M (rxn id: MDHys)\n",
    "MDH = Chloroplastic in M and BS; Mitochondrial in M  (rxn id: MDH2s, MDH2c)\n",
    "CA = Cytosolic in M (rxn id: hco3ec)\n",
    "\n",
    "In WT:\n",
    "PEPC = Cytosolic in V\n",
    "PPDK = No signal\n",
    "NADP-ME = No signal\n",
    "MDH = Mitochondrial in M \n",
    "CA = No signal\n",
    "\n",
    "Difference:\n",
    "PEPC = Only in M\n",
    "PPDK = Chloroplastic M & BS\n",
    "NADP-ME = Only in M\n",
    "MDH = Chloroplastic in M/BS\n",
    "CA = Cytosolic in M\n",
    "\n"
   ]
  },
  {
   "cell_type": "code",
   "execution_count": 7,
   "id": "a132d0a9",
   "metadata": {
    "ExecuteTime": {
     "end_time": "2022-05-03T00:02:47.789317Z",
     "start_time": "2022-05-03T00:02:47.788086Z"
    }
   },
   "outputs": [],
   "source": [
    "#My approach would be to add two linear constraints corresponding to the WT and the transgenic\n",
    "#Enzyme reaction rates, respectively.\n"
   ]
  },
  {
   "cell_type": "code",
   "execution_count": 8,
   "id": "8aa4ff5e",
   "metadata": {
    "ExecuteTime": {
     "end_time": "2022-05-03T00:02:48.221140Z",
     "start_time": "2022-05-03T00:02:48.215356Z"
    }
   },
   "outputs": [],
   "source": [
    "# #Add constraints to model\n",
    "#This code block contains constraints that would simulate the assimilation rates of bs and m cells in a two-cell system (such as those seen near the midvein region of rice leaves)\n",
    "# #BS photon flux must be the same/less than M flux (Adapted from B&B, 2019)\n",
    "# photon_import = model.reactions.get_by_id(\"EX_photonVis(e)\")\n",
    "\n",
    "BS_photon_import = model.reactions.PRISM_white_LED_BS\n",
    "M_photon_import = model.reactions.PRISM_white_LED_M\n",
    "\n",
    "#Set photon flux ratio between M/BS cell to be 1:1 or greater \n",
    "\n",
    "photon_flux = mm.set_fix_flux_ratio({M_photon_import.id:10, BS_photon_import.id:1},model)\n",
    "\n",
    "# photon_flux = model.problem.Constraint(M_photon_import.flux_expression \n",
    "#                                        - BS_photon_import.flux_expression,\n",
    "#                                        lb = 0, ub = inf)\n",
    "model.add_cons_vars(photon_flux)\n",
    "\n",
    "\n",
    "co2tex_m = model.reactions.CO2tex_M\n",
    "co2tex_bs = model.reactions.CO2tex_BS\n",
    "\n",
    "#CO2 Uptake must be constrained to A (Net assimilation rate) which is around 29 +- 1.2 umol CO2 m-2 s-1 for wild type rice\n",
    "#Lower bound based  on Dark CO2 uptake rates from Ermakova et al (2020)\n",
    "#CO2 BS intake must be limited owing to its position in the leaf tissue\n",
    "\n",
    "# # #CO2 intake needs to be mostly in the M cells. Not sure of the exact value:\n",
    "# # Values from Von Caemmerer (2000) in intermediate C3-C4 photosynthetic plants is 1 mmol CO2 m-2 s-1 per 20 CO2 m-2 s-1, which puts it at 20:1 ratio\n",
    "# # #try checking Danila et al. (2016) on ratio of surface area of M cell to BS cell\n",
    "# # #I'll assume that the ratio is at 20:1 in the meantime, meaning that there is minimal gas exchange into the BS cell that would equate to around ~1 umol CO2 m-2s-1\n",
    "co2_ratio_cons = mm.set_fix_flux_ratio({co2tex_m.id:10, co2tex_bs.id:1},model)\n",
    "model.add_cons_vars(co2_ratio_cons)\n",
    "\n",
    "# #Automatic na palang nalalagay siya as constraint\n",
    "\n",
    "# #First is the BS and M Cell constraints\n",
    "# #What if I restrict yung import ng O2?\n",
    "\n",
    "# #Let's try restricting O2 to the value from Lakshmanan et al. (2016) = 3.312 mmol O2 m-2 s-1\n",
    "# #Actually this value is also reflected in Von Caemmerer's \"Modelling C3 metabolism\" (pg. 85)\n",
    "o2tex_bs = model.reactions.O2tex_BS\n",
    "o2tex_m = model.reactions.O2tex_M\n",
    "\n",
    "o2_ratio_cons = mm.set_fix_flux_ratio({o2tex_m.id:10, o2tex_bs.id:1},model)\n",
    "model.add_cons_vars(o2_ratio_cons)\n",
    "\n",
    "# bs_o2_cons = model.problem.Constraint(0.047*co2tex_bs.flux_expression \n",
    "#                                       - 1 * o2tex_bs.flux_expression, lb=0, ub=1000)\n",
    "# model.add_cons_vars(bs_o2_cons)"
   ]
  },
  {
   "cell_type": "code",
   "execution_count": 9,
   "id": "09cdf43c",
   "metadata": {
    "ExecuteTime": {
     "end_time": "2022-05-03T00:02:48.989864Z",
     "start_time": "2022-05-03T00:02:48.968639Z"
    }
   },
   "outputs": [
    {
     "name": "stdout",
     "output_type": "stream",
     "text": [
      "Successfully added Carbon Fixation constraints\n"
     ]
    }
   ],
   "source": [
    "# #This code block contains constraints specific for enzyme rate constraints\n",
    "#This approach is derived from Bogart & Myers (2016) where they constrained the enzyme rate \n",
    "#fluxes in each of the 2-cell segments to a specific upper bound while keeping the lower bound\n",
    "#At 0.\n",
    "\n",
    "\n",
    "#Maximum values for constraints\n",
    "wt_pepc = 0 #umol m-2 s-1 #Note: Need to constrain it to 0 pala since no PEPC was detected in either cell type\n",
    "wt_mdh = 11.18 #umol m-2 s-1\n",
    "wt_nadp_me = 0.14 #umol m-2 s-1\n",
    "wt_ppdk = 0.31 #umol m-2 s-1\n",
    "wt_CA = 7.5 #umol m-2  s-1 bar-1 (Constrained to CO2 amounting to 400-500 mbar) (1 bar = 15.74 umol m-2 s-1 CA activity)\n",
    "\n",
    "#PEPC constraint (Reaction id: PPCc)\n",
    "#Need to constrain it to 0 since reaction is only detected in Vascular tissue\n",
    "pepc_BS = model.reactions.PPCc_BS\n",
    "pepc_M = model.reactions.PPCc_M\n",
    "\n",
    "wt_pepc_cons = model.problem.Constraint(pepc_BS.flux_expression \n",
    "                                        + pepc_M.flux_expression, \n",
    "                                        lb = 0, ub = wt_pepc)\n",
    "wt_pepc_cons.name = 'wt_pepc_cons'\n",
    "model.add_cons_vars(wt_pepc_cons)\n",
    "\n",
    "#PPDK constraints (Reaction id: PPDKs) (note that this is found in the chloroplast?) \n",
    "#Not detected via immunolocalization but enzyme activity is detected\n",
    "\n",
    "ppdks_BS = model.reactions.PPDKs_BS\n",
    "ppdks_M = model.reactions.PPDKs_M\n",
    "wt_ppdks_cons = model.problem.Constraint(ppdks_BS.flux_expression \n",
    "                                         + ppdks_M.flux_expression, \n",
    "                                         lb = 0, ub = wt_ppdk)\n",
    "wt_ppdks_cons.name = 'wt_ppdks_cons'\n",
    "model.add_cons_vars(wt_ppdks_cons)\n",
    "\n",
    "#Malate Dehydrogenase \n",
    "#Only mitochondrial in WT Rice M cells\n",
    "mdhm_M = model.reactions.MDHm_M\n",
    "wt_mdh_cons = model.problem.Constraint(mdhm_M.flux_expression,\n",
    "                                       lb= 0, ub=wt_mdh)\n",
    "wt_mdh_cons.name = \"wt_mdh_cons\"\n",
    "model.add_cons_vars(wt_mdh_cons)\n",
    "\n",
    "\n",
    "#NADP-ME (Since no signal is detected in WT, no locational constraints are imposed)\n",
    "#Let's see if I can force it to have a small amount of flux \n",
    "nadp_me_M = model.reactions.MDHys_M\n",
    "nadp_me_BS = model.reactions.MDHys_BS\n",
    "\n",
    "wt_nadpme_cons = model.problem.Constraint(nadp_me_M.flux_expression\n",
    "                                         + nadp_me_BS.flux_expression,\n",
    "                                         lb= 0, ub=wt_nadp_me)\n",
    "wt_nadpme_cons.name = \"wt_nadpme\"\n",
    "model.add_cons_vars(wt_nadpme_cons)\n",
    "\n",
    "#I should add constraints for Carbonic Anhydrase\n",
    "#I should constrain it to 0.4 ubar, which would constitute ambient CO2 partial pressure\n",
    "#HCO3Es\n",
    "#HCO3Ec\n",
    "#HCO3Em\n",
    "#Flux is reversible so constraints are bi-directional\n",
    "\n",
    "\n",
    "hco3es_m = model.reactions.HCO3Es_M.flux_expression\n",
    "hco3ec_m = model.reactions.HCO3Ec_M.flux_expression\n",
    "hco3em_m = model.reactions.HCO3Em_M.flux_expression\n",
    "hco3es_bs = model.reactions.HCO3Es_BS.flux_expression\n",
    "hco3ec_bs = model.reactions.HCO3Ec_BS.flux_expression\n",
    "hco3em_bs = model.reactions.HCO3Em_BS.flux_expression\n",
    "\n",
    "ca_cons = model.problem.Constraint(hco3es_m + hco3ec_m + hco3em_m \n",
    "                                   + hco3es_bs + hco3ec_bs + hco3em_bs,\n",
    "                                  lb = -wt_CA, ub = wt_CA)\n",
    "ca_cons.name = 'ca_constraint'\n",
    "model.add_cons_vars(ca_cons)\n",
    "#Rbcl constaints\n",
    "\n",
    "#Let's try to add Rubisco flux ratio\n",
    "\n",
    "#Retrieve flux expressions oof each RBCl reaction\n",
    "rbpc_M = model.reactions.RBPCs_M.flux_expression\n",
    "rbpc_BS = model.reactions.RBPCs_BS.flux_expression\n",
    "rbpo_M = model.reactions.RBPOs_M.flux_expression\n",
    "rbpo_BS = model.reactions.RBPOs_BS.flux_expression\n",
    "\n",
    "#Constraint such that it is limited to 132 umol m-2 s-1\n",
    "rbcl_vcmax_cons = model.problem.Constraint(rbpc_M + rbpc_BS, lb = 0, ub= 132)\n",
    "\n",
    "model.add_cons_vars(rbcl_vcmax_cons)\n",
    "\n",
    "#Constraints for rbcl flux such that v_c/v_o = 3 or higher. \n",
    "\n",
    "\n",
    "rbcl_vcvo = model.problem.Constraint(3*(rbpo_M + rbpo_BS) \n",
    "                                     - 1*(rbpc_M + rbpc_BS),\n",
    "                                     lb=0,ub=1000)\n",
    "rbcl_vcvo.name = 'rbcl_vc/vo_ratio'\n",
    "model.add_cons_vars(rbcl_vcvo)\n",
    "\n",
    "#What if I simply constrained that of the M cell one to 3:1?\n",
    "#This constraint is pretty good actually. \n",
    "#This allows the system to be set at a specific Vc/Vo rate while still allowing local variation \n",
    "#wherein Rubisco may act in an uncoupled fashion and may have favorable internal vc/vo rates.\n",
    "\n",
    "print('Successfully added Carbon Fixation constraints')"
   ]
  },
  {
   "cell_type": "code",
   "execution_count": 10,
   "id": "a8262f53",
   "metadata": {
    "ExecuteTime": {
     "end_time": "2022-05-03T00:02:49.629863Z",
     "start_time": "2022-05-03T00:02:49.607690Z"
    }
   },
   "outputs": [
    {
     "name": "stdout",
     "output_type": "stream",
     "text": [
      "Successfully added transgenic reactions\n",
      "List of reactions added: \n",
      "trans_PPCs_M\n",
      "trans_PPDKs_M\n",
      "trans_PPDKs_BS\n",
      "trans_MDHym_M\n",
      "trans_MDHm_M\n",
      "trans_MDHs_M\n",
      "trans_MDHs_BS\n",
      "trans_hco3ec_M\n"
     ]
    }
   ],
   "source": [
    "#initialize list of transgenic reactions to add  to model\n",
    "\n",
    "\n",
    "trans_list = list()\n",
    "\n",
    "\n",
    "#Transgenic PEPC copy\n",
    "#PEPC = Chloroplastic in M & V (rxn id: PPCc)\n",
    "trans_ppcs = Reaction('trans_PPCs_M')\n",
    "trans_ppcs.name = \"Phosphoenolpyruvate carboxylase, plastidic (Transgenic)\"\n",
    "\n",
    "co2_s0 = model.metabolites.co2_s0\n",
    "h_s0 = model.metabolites.h_s0\n",
    "pep_s0 = model.metabolites.pep_s0\n",
    "h2o_s0 = model.metabolites.h2o_s0\n",
    "oaa_s0 = model.metabolites.oaa_s0\n",
    "pi_s0 = model.metabolites.pi_s0\n",
    "\n",
    "\n",
    "#Add metabolites, bounds, and subsystem\n",
    "trans_ppcs.add_metabolites({co2_s0:-1, h_s0:-1, pep_s0:-1, h2o_s0:1, oaa_s0:1, pi_s0:1})\n",
    "trans_ppcs.bounds= model.reactions.PPCc_M.bounds\n",
    "trans_ppcs.subsystem = model.reactions.PPCc_M.subsystem\n",
    "\n",
    "\n",
    "trans_list.append(trans_ppcs)\n",
    "\n",
    "\n",
    "#Transgenic PPDK Copy\n",
    "#Since it already exists I'll just copy and readd it\n",
    "trans_ppdks_m = Reaction('trans_PPDKs_M')\n",
    "trans_ppdks_m.add_metabolites(model.reactions.PPDKs_M.metabolites)\n",
    "trans_ppdks_m.bounds = model.reactions.PPDKs_M.bounds\n",
    "trans_ppdks_m.name = \"Pyruvate phosphate dikinase, plastidic (Transgenic)\"\n",
    "\n",
    "trans_ppdks_bs = Reaction('trans_PPDKs_BS')\n",
    "trans_ppdks_bs.add_metabolites(model.reactions.PPDKs_BS.metabolites)\n",
    "trans_ppdks_bs.bounds = model.reactions.PPDKs_BS.bounds\n",
    "trans_ppdks_bs.name = \"Pyruvate phosphate dikinase, plastidic (Transgenic)\"\n",
    "\n",
    "trans_list.append(trans_ppdks_m)\n",
    "trans_list.append(trans_ppdks_bs)\n",
    "\n",
    "\n",
    "#Transgenic NADP-ME\n",
    "#NADP-ME = Mitochondrial in M\n",
    "trans_nadp_me = Reaction('trans_MDHym_M')\n",
    "\n",
    "#retrieve reactants\n",
    "mal_m0 = model.metabolites.get_by_id('mal-L_m0')\n",
    "nadp_m0 = model.metabolites.nadp_m0\n",
    "h_m0 = model.metabolites.h_m0\n",
    "nadph_m0 = model.metabolites.nadph_m0\n",
    "oaa_m0 = model.metabolites.oaa_m0\n",
    "\n",
    "#Add to rxn\n",
    "trans_nadp_me.add_metabolites({mal_m0:-1, nadp_m0:-1, h_m0:1, nadph_m0:1, oaa_m0:1})\n",
    "#Add bounds\n",
    "trans_nadp_me.bounds=(-inf, inf)\n",
    "\n",
    "trans_list.append(trans_nadp_me)\n",
    "\n",
    "\n",
    "#Malate Dehydrogenase, mitochondrial (M cell)\n",
    "trans_MDHm_M = Reaction('trans_MDHm_M')\n",
    "trans_MDHm_M.name = 'Malate Dehydrogenase, Mitochondrial'\n",
    "trans_MDHm_M.add_metabolites(model.reactions.MDHm_M.metabolites)\n",
    "trans_MDHm_M.subsystem = model.reactions.MDHm_M.subsystem\n",
    "\n",
    "trans_list.append(trans_MDHm_M)\n",
    "\n",
    "#Malate dehydrogenase, plastidic (M cell)\n",
    "trans_MDHs_M = Reaction('trans_MDHs_M')\n",
    "trans_MDHs_M.name = 'Malate Dehydrogenase, Plastidic'\n",
    "trans_MDHs_M.add_metabolites(model.reactions.MDHs_M.metabolites)\n",
    "trans_MDHs_M.subsystem = model.reactions.MDHs_M.subsystem\n",
    "\n",
    "trans_list.append(trans_MDHs_M)\n",
    "\n",
    "#Malate dehydrogenase, plastidic(BS Cell)\n",
    "trans_MDHs_BS = Reaction('trans_MDHs_BS')\n",
    "trans_MDHs_BS.name = 'Malate Dehydrogenase, Plastidic'\n",
    "trans_MDHs_BS.add_metabolites(model.reactions.MDHs_BS.metabolites)\n",
    "trans_MDHs_BS.subsystem = model.reactions.MDHs_BS.subsystem\n",
    "\n",
    "trans_list.append(trans_MDHs_BS)\n",
    "\n",
    "\n",
    "#Trans CA\n",
    "#Cytosolic in M\n",
    "trans_hco3ec_M = Reaction('trans_hco3ec_M')\n",
    "trans_hco3ec_M.name = 'carbonic anhydrase, cytosolic'\n",
    "trans_hco3ec_M.add_metabolites(model.reactions.HCO3Ec_M.metabolites)\n",
    "trans_hco3ec_M.bounds = model.reactions.HCO3Ec_M.bounds\n",
    "\n",
    "trans_hco3ec_M.subsystem = model.reactions.HCO3Ec_M.subsystem\n",
    "trans_list.append(trans_hco3ec_M)\n",
    "\n",
    "\n",
    "#Bulk add to model\n",
    "model.add_reactions(trans_list)\n",
    "\n",
    "print(\"Successfully added transgenic reactions\")\n",
    "print('List of reactions added: ')\n",
    "for items in trans_list:\n",
    "    print(items.id)\n"
   ]
  },
  {
   "cell_type": "code",
   "execution_count": 11,
   "id": "852316e6",
   "metadata": {
    "ExecuteTime": {
     "end_time": "2022-05-03T00:02:50.235442Z",
     "start_time": "2022-05-03T00:02:50.216903Z"
    }
   },
   "outputs": [
    {
     "name": "stdout",
     "output_type": "stream",
     "text": [
      "Successfully added Transgenic-specific constraints\n"
     ]
    }
   ],
   "source": [
    "#The following code block is done to\n",
    "#Define rates\n",
    "trans_pepc_rates = 7.01 #umol m-2 s-1\n",
    "trans_ppdks_rates = 3.66 #umol m-2 s-1\n",
    "trans_mdh_rates = 152.87 #umol m-2 s-1\n",
    "trans_nadp_me_rates = 0.60 #umol m-2 s-1\n",
    "trans_CA_rates = 8 #umol m-2  s-1 bar-1 (Constrained to CO2 amounting to 400-500 mbar) (1 bar = 15.74 umol m-2 s-1 CA activity)\n",
    "\n",
    "\n",
    "#Generate constraints on top of WT constraints\n",
    "\n",
    "#Retrieve trans reactions\n",
    "trans_PPCs_M = mm.get_rxn(model, 'trans_PPCs_M')\n",
    "trans_ppdks_M  = mm.get_rxn(model, 'trans_PPDKs_M')\n",
    "trans_ppdks_BS = mm.get_rxn(model, 'trans_PPDKs_BS')\n",
    "trans_MDHm_M = mm.get_rxn(model, 'trans_MDHm_M')\n",
    "trans_MDHs_M = mm.get_rxn(model, 'trans_MDHs_M')\n",
    "trans_MDHs_BS = mm.get_rxn(model, 'trans_MDHs_BS')\n",
    "trans_MDHym_M = mm.get_rxn(model, 'trans_MDHym_M')\n",
    "trans_hco3ec_M = mm.get_rxn(model, 'trans_hco3ec_M')\n",
    "\n",
    "\n",
    "#PEPC constraint\n",
    "trans_pepc_cons = model.problem.Constraint(trans_PPCs_M.flux_expression\n",
    "                                        +pepc_BS.flux_expression \n",
    "                                        + pepc_M.flux_expression, \n",
    "                                        lb = 0, ub = trans_pepc_rates)\n",
    "\n",
    "model.add_cons_vars(trans_pepc_cons)\n",
    "\n",
    "\n",
    "trans_ppdks_cons = model.problem.Constraint( \n",
    "    trans_ppdks_BS.flux_expression +trans_ppdks_M.flux_expression \n",
    "    +ppdks_BS.flux_expression + ppdks_M.flux_expression, \n",
    "                                         lb = 0, ub = trans_ppdks_rates)\n",
    "trans_ppdks_cons.name = 'trans_ppdks_cons'\n",
    "model.add_cons_vars(trans_ppdks_cons)\n",
    "\n",
    "\n",
    "\n",
    "trans_mdh_cons =  model.problem.Constraint(\n",
    "   trans_MDHm_M.flux_expression + mdhm_M.flux_expression\n",
    "    + trans_MDHs_M.flux_expression + trans_MDHs_BS.flux_expression,\n",
    "                                       lb= 0, ub=trans_mdh_rates)\n",
    "\n",
    "trans_mdh_cons.name = \"trans_mdh_cons\"\n",
    "model.add_cons_vars(trans_mdh_cons)\n",
    "\n",
    "\n",
    "trans_nadpme_cons = model.problem.Constraint(\n",
    "    trans_MDHym_M.flux_expression + nadp_me_M.flux_expression + nadp_me_BS.flux_expression,\n",
    "                                         lb= 0, ub=trans_nadp_me_rates)\n",
    "trans_nadpme_cons.name = \"trans_nadpme\"\n",
    "model.add_cons_vars(trans_nadpme_cons)\n",
    "\n",
    "\n",
    "trans_ca_cons = model.problem.Constraint(trans_hco3ec_M.flux_expression + hco3es_m + hco3ec_m + hco3em_m \n",
    "                                   + hco3es_bs + hco3ec_bs + hco3em_bs,\n",
    "                                  lb = -trans_CA_rates, ub = trans_CA_rates)\n",
    "ca_cons.name = 'Trans_CA_cons'\n",
    "model.add_cons_vars(trans_ca_cons)\n",
    "\n",
    "print('Successfully added Transgenic-specific constraints')"
   ]
  },
  {
   "cell_type": "code",
   "execution_count": 12,
   "id": "2eb4e905",
   "metadata": {
    "ExecuteTime": {
     "end_time": "2022-05-03T00:02:51.481360Z",
     "start_time": "2022-05-03T00:02:51.415365Z"
    }
   },
   "outputs": [],
   "source": [
    "model.repair()"
   ]
  },
  {
   "cell_type": "code",
   "execution_count": 13,
   "id": "8ccb6b62",
   "metadata": {
    "ExecuteTime": {
     "end_time": "2022-05-03T00:02:52.307774Z",
     "start_time": "2022-05-03T00:02:52.296862Z"
    },
    "scrolled": true
   },
   "outputs": [
    {
     "name": "stdout",
     "output_type": "stream",
     "text": [
      "Successfully added NGAM ratio constraint\n"
     ]
    }
   ],
   "source": [
    "# #This code block is to set a constraint such that M-to-BS cell NGAM ratio is 10-to-1 \n",
    "# #Similar to what Moreno-Villena (2021) (preprint) had done \n",
    "\n",
    "ngam_atp_m = model.reactions.ngam_atp_c_M\n",
    "ngam_atp_bs = model.reactions.ngam_atp_c_BS\n",
    "ngam_atp_m.bounds = (0,1000)\n",
    "ngam_atp_bs.bounds = (0,1000)\n",
    "ngam_ratio = mm.set_fix_flux_ratio({ngam_atp_m.id:10, ngam_atp_bs.id:1}, model)\n",
    "ngam_ratio.name = 'ngam_BS/M_ratio'\n",
    "model.add_cons_vars(ngam_ratio)\n",
    "\n",
    "print('Successfully added NGAM ratio constraint')"
   ]
  },
  {
   "cell_type": "markdown",
   "id": "fb978d85",
   "metadata": {},
   "source": [
    "This code block is to add the constraints for ngam nadphox, which for some reason doesn't save when it was generated using the curation script. I think this is because the constraint objects are only retrieved from the bounds encoded in the SBML.\n"
   ]
  },
  {
   "cell_type": "code",
   "execution_count": 14,
   "id": "118ff637",
   "metadata": {
    "ExecuteTime": {
     "end_time": "2022-05-03T00:02:54.460066Z",
     "start_time": "2022-05-03T00:02:54.448340Z"
    }
   },
   "outputs": [
    {
     "name": "stdout",
     "output_type": "stream",
     "text": [
      "successfully added nadphox constraint\n"
     ]
    }
   ],
   "source": [
    "#Retrieve NGAM reactions\n",
    "ngam_nadphox_c_M = mm.get_rxn(model, 'ngam_nadphox_c_M')\n",
    "ngam_nadphox_s_M = mm.get_rxn(model, 'ngam_nadphox_s_M')\n",
    "ngam_nadphox_m_M = mm.get_rxn(model, 'ngam_nadphox_m_M')\n",
    "ngam_nadphox_c_BS = mm.get_rxn(model, 'ngam_nadphox_c_BS')\n",
    "ngam_nadphox_s_BS = mm.get_rxn(model, 'ngam_nadphox_s_BS')\n",
    "ngam_nadphox_m_BS = mm.get_rxn(model, 'ngam_nadphox_m_BS')\n",
    "\n",
    "\n",
    "#Set Fixed fluxes\n",
    "nadphox_c_s_M = mm.set_fix_flux_ratio({ngam_nadphox_c_M.id:1, ngam_nadphox_s_M.id:1},model)\n",
    "nadphox_c_s_M.name = \"nadphox_cs_ratio_M\"\n",
    "nadphox_s_m_M = mm.set_fix_flux_ratio({ngam_nadphox_s_M.id:1, ngam_nadphox_m_M.id:1}, model)\n",
    "nadphox_s_m_M.name = \"nadphox_sm_ratio_M\"\n",
    "\n",
    "nadphox_c_s_BS = mm.set_fix_flux_ratio({ngam_nadphox_c_BS.id:1, ngam_nadphox_s_BS.id:1},model)\n",
    "nadphox_c_s_BS.name = \"nadphox_cs_ratio_BS\"\n",
    "nadphox_s_m_BS = mm.set_fix_flux_ratio({ngam_nadphox_s_BS.id:1, ngam_nadphox_m_BS.id:1}, model)\n",
    "nadphox_s_m_BS.name = \"nadphox_sm_ratio_BS\"\n",
    "\n",
    "#Add constraints\n",
    "model.add_cons_vars(nadphox_c_s_M)\n",
    "model.add_cons_vars(nadphox_s_m_M)\n",
    "model.add_cons_vars(nadphox_c_s_BS)\n",
    "model.add_cons_vars(nadphox_s_m_BS)\n",
    "\n",
    "print('successfully added nadphox constraint')"
   ]
  },
  {
   "cell_type": "code",
   "execution_count": 15,
   "id": "71f207af",
   "metadata": {
    "ExecuteTime": {
     "end_time": "2022-05-03T00:02:55.624461Z",
     "start_time": "2022-05-03T00:02:55.615478Z"
    }
   },
   "outputs": [
    {
     "name": "stdout",
     "output_type": "stream",
     "text": [
      "successfully added nadphox/atpase ratio\n"
     ]
    }
   ],
   "source": [
    "\n",
    "#Retrieve flux expressionns\n",
    "fex_nadphox_c_M =  mm.get_flux_exp(model, ngam_nadphox_c_M)\n",
    "fex_nadphox_s_M = mm.get_flux_exp(model, ngam_nadphox_s_M)\n",
    "fex_nadphox_m_M = mm.get_flux_exp(model, ngam_nadphox_m_M)\n",
    "\n",
    "fex_nadphox_c_BS =  mm.get_flux_exp(model, ngam_nadphox_c_BS)\n",
    "fex_nadphox_s_BS =  mm.get_flux_exp(model, ngam_nadphox_s_BS)\n",
    "fex_nadphox_m_BS =  mm.get_flux_exp(model, ngam_nadphox_m_BS)\n",
    "\n",
    "fex_atp_c_M = mm.get_flux_exp(model, ngam_atp_m)\n",
    "fex_atp_c_BS =  mm.get_flux_exp(model, ngam_atp_bs)\n",
    "\n",
    "#Set the constraint between ATP:NADPH NGAM to 3:1\n",
    "nadphox_atpase = model.problem.Constraint(3*(fex_nadphox_c_M + fex_nadphox_s_M + fex_nadphox_m_M\n",
    "                                                   + fex_nadphox_c_BS + fex_nadphox_s_BS + fex_nadphox_m_BS) \n",
    "                                     - 1*(fex_atp_c_M + fex_atp_c_BS),\n",
    "                                     lb=0,ub=0)\n",
    "nadphox_atpase.name = \"nadphox_atpase_ratio\"\n",
    "model.add_cons_vars(nadphox_atpase)\n",
    "\n",
    "print('successfully added nadphox/atpase ratio')"
   ]
  },
  {
   "cell_type": "code",
   "execution_count": 16,
   "id": "bceecf4b",
   "metadata": {
    "ExecuteTime": {
     "end_time": "2022-05-03T00:03:00.262508Z",
     "start_time": "2022-05-03T00:03:00.248751Z"
    }
   },
   "outputs": [
    {
     "name": "stdout",
     "output_type": "stream",
     "text": [
      "Retrieved leaf inactive rxns and others\n"
     ]
    }
   ],
   "source": [
    "file = csv.reader(open('../misc/leaf_inactivated.tsv'), delimiter='\\t')\n",
    "leaf_inactive_rxns = list()\n",
    "for rows in file:\n",
    "    row_m = str()\n",
    "    row_bs = str()\n",
    "    for rxns in rows:\n",
    "        row_m += str(rxns) + \"_M\"\n",
    "        row_bs += str(rxns) + \"_BS\"\n",
    "    leaf_inactive_rxns.append(row_m)\n",
    "    leaf_inactive_rxns.append(row_bs)\n",
    "    \n",
    "leaf_intact_bounds_dict = {}\n",
    "for rxns in model.reactions:\n",
    "    if rxns.id in leaf_inactive_rxns:\n",
    "        leaf_intact_bounds_dict[rxns.id] = rxns.bounds\n",
    "\n",
    "print('Retrieved leaf inactive rxns and others')"
   ]
  },
  {
   "cell_type": "code",
   "execution_count": 17,
   "id": "9cfa120d",
   "metadata": {
    "ExecuteTime": {
     "end_time": "2022-05-03T00:03:05.822856Z",
     "start_time": "2022-05-03T00:03:05.819205Z"
    }
   },
   "outputs": [],
   "source": [
    "# # # This code block is to test whether a single iteration works. Maybe I should implement the kinetic constraints by Von Caemmerer to obtain proper \n",
    "# # #proper values? I think that would be a better approach, I think.\n",
    "\n",
    "\n",
    "# with model:\n",
    "                                                                                                                                                                                                                                                                                                                      \n",
    "#     model_media['EX_photonVis(e)'] = 200\n",
    "#     model_media['EX_co2(e)'] = 100\n",
    "#     model_media['EX_o2(e)'] = 100#2.2618\n",
    "#     model.medium = model_media\n",
    "    \n",
    "# #     #Set NGAM\n",
    "#     ngam_value = compute_ngam_atp(100)\n",
    "#     ngam_cons = model.problem.Constraint(fex_atp_c_M + \n",
    "#                                         fex_atp_c_BS, lb=ngam_value, ub=ngam_value)\n",
    "#     model.add_cons_vars(ngam_cons)\n",
    "# #Constrain O2 intake to 3.312 mmol O2 gcw -1 d-1 ~~ 2.2618 umol O2 m-2 s-1 (from Lakshmanan et al. 2016)\n",
    "#     #Change objective function to mature leaf\n",
    "#     model.reactions.get_by_id('Straw_Biomass_M').objective_coefficient = 0\n",
    "#     model.reactions.get_by_id('Straw_Biomass_BS').objective_coefficient = 0\n",
    "#     mm.get_rxn(model,'DM_Phloem_BS').objective_coefficient = 1\n",
    "#     sample_fluxes = cobra.flux_analysis.pfba(model).fluxes\n",
    "#     #Remove thermodynamically infeasible loops\n",
    "#     sample_fluxes = cobra.flux_analysis.loopless_solution(model, sample_fluxes)\n",
    "    \n",
    "#     sample_fluxes_df = sample_fluxes.to_frame()\n",
    "    \n",
    "#     temp_model = model\n",
    "    \n",
    "\n",
    "# sample_fluxes\n",
    "    "
   ]
  },
  {
   "cell_type": "code",
   "execution_count": 19,
   "id": "38efb008",
   "metadata": {
    "ExecuteTime": {
     "end_time": "2022-05-03T00:07:56.055267Z",
     "start_time": "2022-05-03T00:05:10.814214Z"
    }
   },
   "outputs": [
    {
     "name": "stdout",
     "output_type": "stream",
     "text": [
      "Producing solution for:  Coleoptile_Biomass_M ...\n",
      "Producing solution for:  PRISM_blue_LED_M ...\n",
      "Producing solution for:  PRISM_red_LED_M ...\n",
      "Producing solution for:  PRISM_green_LED_M ...\n",
      "Producing solution for:  GDHym_M ...\n",
      "Producing solution for:  GDHm_M ...\n",
      "Producing solution for:  AGATx_M ...\n",
      "Producing solution for:  AGATs_M ...\n",
      "Producing solution for:  ICDHc_M ...\n",
      "Producing solution for:  GTHPs_M ...\n",
      "Producing solution for:  GLCNGBc_M ...\n",
      "Producing solution for:  GLCNGAc_M ...\n",
      "Producing solution for:  ASPTAm_M ...\n",
      "Producing solution for:  PDHam1m_M ...\n",
      "Producing solution for:  PDHam2m_M ...\n",
      "Producing solution for:  PDHe2m_M ...\n",
      "Producing solution for:  PDHe3m_M ...\n",
      "Producing solution for:  THR3DHx_M ...\n",
      "Producing solution for:  FDHNc_M ...\n",
      "Producing solution for:  SULOm_M ...\n",
      "Producing solution for:  ASNS1c_M ...\n",
      "Producing solution for:  GLYCORc_M ...\n",
      "Producing solution for:  TYRTAs_M ...\n",
      "Producing solution for:  ARGOAT1s_M ...\n",
      "Producing solution for:  PGI2c_M ...\n",
      "Producing solution for:  PGI2s_M ...\n",
      "Producing solution for:  GAMPTc_M ...\n",
      "Producing solution for:  FTHFLc_M ...\n",
      "Producing solution for:  CALANc_M ...\n",
      "Producing solution for:  FORAc_M ...\n",
      "Producing solution for:  SHMTs_M ...\n",
      "Producing solution for:  MLTHFRs_M ...\n",
      "Producing solution for:  METSc_M ...\n",
      "Producing solution for:  GAPDHys_M ...\n",
      "Producing solution for:  GAPDH2s_M ...\n",
      "Producing solution for:  MTHFDm_M ...\n",
      "Producing solution for:  MTHFDc_M ...\n",
      "Producing solution for:  FTHFCLc_M ...\n",
      "Producing solution for:  MTHFDym_M ...\n",
      "Producing solution for:  MTHFDys_M ...\n",
      "Producing solution for:  GLYK2s_M ...\n",
      "Producing solution for:  UREASEc_M ...\n",
      "Producing solution for:  ATSc_M ...\n",
      "Producing solution for:  SHSL1s_M ...\n",
      "Producing solution for:  SPPAs_M ...\n",
      "Producing solution for:  PFPc_M ...\n",
      "Producing solution for:  PTOXs_M ...\n",
      "Producing solution for:  PFKc_M ...\n",
      "Producing solution for:  PFKs_M ...\n",
      "Producing solution for:  AAs_M ...\n",
      "Producing solution for:  CHLASEs_M ...\n",
      "Producing solution for:  ALTNDAc_M ...\n",
      "Producing solution for:  NADOR2u_M ...\n",
      "Producing solution for:  AKGCITtm_M ...\n",
      "Producing solution for:  AKGICITtm_M ...\n",
      "Producing solution for:  MALICITtm_M ...\n",
      "Producing solution for:  MALOAAtm_M ...\n",
      "Producing solution for:  OAAAKGtm_M ...\n",
      "Producing solution for:  OAACITtm_M ...\n",
      "Producing solution for:  OAAICITtm_M ...\n",
      "Producing solution for:  5FTHFtm_M ...\n",
      "Producing solution for:  MLTHFtm_M ...\n",
      "Producing solution for:  NA1Htm_M ...\n",
      "Producing solution for:  5FTHFts_M ...\n",
      "Producing solution for:  5MTHFts_M ...\n",
      "Producing solution for:  G3P(pi)tsr_M ...\n",
      "Producing solution for:  G6PA(pi)ts_M ...\n",
      "Producing solution for:  G6PB(pi)ts_M ...\n",
      "Producing solution for:  PEPPIts_M ...\n",
      "Producing solution for:  PINA1ts_M ...\n",
      "Producing solution for:  IPADNEts_M ...\n",
      "Producing solution for:  TZTNts_M ...\n",
      "Producing solution for:  FA140CoAr_M ...\n",
      "Producing solution for:  FA160CoAr_M ...\n",
      "Producing solution for:  FA161CoAr_M ...\n",
      "Producing solution for:  FA180CoAr_M ...\n",
      "Producing solution for:  FA181CoAr_M ...\n",
      "Producing solution for:  FA183CoAr_M ...\n",
      "Producing solution for:  Coleoptile_Biomass_BS ...\n",
      "Producing solution for:  PRISM_blue_LED_BS ...\n",
      "Producing solution for:  PRISM_red_LED_BS ...\n",
      "Producing solution for:  PRISM_green_LED_BS ...\n",
      "Producing solution for:  GDHym_BS ...\n",
      "Producing solution for:  GDHm_BS ...\n",
      "Producing solution for:  AGATx_BS ...\n",
      "Producing solution for:  AGATs_BS ...\n",
      "Producing solution for:  ICDHc_BS ...\n",
      "Producing solution for:  GTHPs_BS ...\n",
      "Producing solution for:  GLCNGBc_BS ...\n",
      "Producing solution for:  GLCNGAc_BS ...\n",
      "Producing solution for:  ASPTAm_BS ...\n",
      "Producing solution for:  PDHam1m_BS ...\n",
      "Producing solution for:  PDHam2m_BS ...\n",
      "Producing solution for:  PDHe2m_BS ...\n",
      "Producing solution for:  PDHe3m_BS ...\n",
      "Producing solution for:  THR3DHx_BS ...\n",
      "Producing solution for:  FDHNc_BS ...\n",
      "Producing solution for:  SULOm_BS ...\n",
      "Producing solution for:  ASNS1c_BS ...\n",
      "Producing solution for:  GLYCORc_BS ...\n",
      "Producing solution for:  TYRTAs_BS ...\n",
      "Producing solution for:  ARGOAT1s_BS ...\n",
      "Producing solution for:  PGI2c_BS ...\n",
      "Producing solution for:  PGI2s_BS ...\n",
      "Producing solution for:  GAMPTc_BS ...\n",
      "Producing solution for:  FTHFLc_BS ...\n",
      "Producing solution for:  CALANc_BS ...\n",
      "Producing solution for:  FORAc_BS ...\n",
      "Producing solution for:  SHMTs_BS ...\n",
      "Producing solution for:  MLTHFRs_BS ...\n",
      "Producing solution for:  METSc_BS ...\n",
      "Producing solution for:  GAPDHys_BS ...\n",
      "Producing solution for:  GAPDH2s_BS ...\n",
      "Producing solution for:  MTHFDm_BS ...\n",
      "Producing solution for:  MTHFDc_BS ...\n",
      "Producing solution for:  FTHFCLc_BS ...\n",
      "Producing solution for:  MTHFDym_BS ...\n",
      "Producing solution for:  MTHFDys_BS ...\n",
      "Producing solution for:  GLYK2s_BS ...\n",
      "Producing solution for:  UREASEc_BS ...\n",
      "Producing solution for:  ATSc_BS ...\n",
      "Producing solution for:  SHSL1s_BS ...\n",
      "Producing solution for:  SPPAs_BS ...\n",
      "Producing solution for:  PFPc_BS ...\n",
      "Producing solution for:  PTOXs_BS ...\n",
      "Producing solution for:  PFKc_BS ...\n",
      "Producing solution for:  PFKs_BS ...\n",
      "Producing solution for:  AAs_BS ...\n",
      "Producing solution for:  CHLASEs_BS ...\n",
      "Producing solution for:  ALTNDAc_BS ...\n",
      "Producing solution for:  NADOR2u_BS ...\n",
      "Producing solution for:  AKGCITtm_BS ...\n",
      "Producing solution for:  AKGICITtm_BS ...\n",
      "Producing solution for:  MALICITtm_BS ...\n",
      "Producing solution for:  MALOAAtm_BS ...\n",
      "Producing solution for:  OAAAKGtm_BS ...\n",
      "Producing solution for:  OAACITtm_BS ...\n",
      "Producing solution for:  OAAICITtm_BS ...\n",
      "Producing solution for:  5FTHFtm_BS ...\n",
      "Producing solution for:  MLTHFtm_BS ...\n",
      "Producing solution for:  NA1Htm_BS ...\n",
      "Producing solution for:  5FTHFts_BS ...\n",
      "Producing solution for:  5MTHFts_BS ...\n",
      "Producing solution for:  G3P(pi)tsr_BS ...\n",
      "Producing solution for:  G6PA(pi)ts_BS ...\n",
      "Producing solution for:  G6PB(pi)ts_BS ...\n",
      "Producing solution for:  PEPPIts_BS ...\n",
      "Producing solution for:  PINA1ts_BS ...\n",
      "Producing solution for:  IPADNEts_BS ...\n",
      "Producing solution for:  TZTNts_BS ...\n",
      "Producing solution for:  FA140CoAr_BS ...\n",
      "Producing solution for:  FA160CoAr_BS ...\n",
      "Producing solution for:  FA161CoAr_BS ...\n",
      "Producing solution for:  FA180CoAr_BS ...\n",
      "Producing solution for:  FA181CoAr_BS ...\n",
      "Producing solution for:  FA183CoAr_BS ...\n",
      "Here are a list of reactions that allow Phloem to be produced without co-factor cycling: \n",
      "FDHNc_M\n",
      "FDHNc_BS\n"
     ]
    }
   ],
   "source": [
    "# This code block is to test which of the reactions in the leaf inactivated list produces infeasible loops\n",
    "phloem_producing_rxn = list()\n",
    "\n",
    "for turn_on_rxn, rxn_bounds in leaf_intact_bounds_dict.items():\n",
    "    print('Producing solution for: ', turn_on_rxn, '...')\n",
    "    with model:\n",
    "        #Turn off all reactions first\n",
    "        for rxns in model.reactions:\n",
    "            if rxns.id in leaf_inactive_rxns: #Turn off all reactions in the list loaded above\n",
    "                 rxns.bounds = (0,0)\n",
    "\n",
    "        model_media['EX_photonVis(e)'] = 1000\n",
    "        model_media['EX_co2(e)'] = 100\n",
    "        model_media['EX_o2(e)'] = 100#2.2618\n",
    "        model.medium = model_media\n",
    "\n",
    "        #Set NGAM\n",
    "        ngam_value = compute_ngam_atp(200)\n",
    "        ngam_cons = model.problem.Constraint(fex_atp_c_M + \n",
    "                                            fex_atp_c_BS, lb=ngam_value, ub=ngam_value)\n",
    "        model.add_cons_vars(ngam_cons)\n",
    "        \n",
    "        #Change objective function to mature leaf\n",
    "        model.reactions.get_by_id('Straw_Biomass_M').objective_coefficient = 0\n",
    "        model.reactions.get_by_id('Straw_Biomass_BS').objective_coefficient = 0\n",
    "        mm.get_rxn(model,'DM_Phloem_BS').objective_coefficient = 1\n",
    "        \n",
    "        #Open up reaction bounds in the list\n",
    "        model.reactions.get_by_id(turn_on_rxn).bounds = rxn_bounds\n",
    "        \n",
    "        #Get solution\n",
    "        sample_fluxes = cobra.flux_analysis.pfba(model).fluxes.to_frame()\n",
    "        \n",
    "        if sample_fluxes['fluxes']['DM_Phloem_BS'] != 0:\n",
    "            phloem_producing_rxn.append(turn_on_rxn)\n",
    "         \n",
    "print('Here are a list of reactions that allow Phloem to be produced without co-factor cycling: ')\n",
    "for items in phloem_producing_rxn:\n",
    "    print(items)"
   ]
  },
  {
   "cell_type": "code",
   "execution_count": null,
   "id": "170e5f14",
   "metadata": {},
   "outputs": [],
   "source": [
    "#Let's try \n",
    "\n",
    "\n",
    "with model:\n",
    "    #Turn off all reactions first\n",
    "    for rxns in model.reactions:\n",
    "        if rxns.id in leaf_inactive_rxns: #Turn off all reactions in the list loaded above\n",
    "             rxns.bounds = (0,0)\n",
    "\n",
    "    model_media['EX_photonVis(e)'] = 1000\n",
    "    model_media['EX_co2(e)'] = 100\n",
    "    model_media['EX_o2(e)'] = 100#2.2618\n",
    "    model.medium = model_media\n",
    "\n",
    "    #Set NGAM\n",
    "    ngam_value = compute_ngam_atp(200)\n",
    "    ngam_cons = model.problem.Constraint(fex_atp_c_M + \n",
    "                                        fex_atp_c_BS, lb=ngam_value, ub=ngam_value)\n",
    "    model.add_cons_vars(ngam_cons)\n",
    "\n",
    "    #Change objective function to mature leaf\n",
    "    model.reactions.get_by_id('Straw_Biomass_M').objective_coefficient = 0\n",
    "    model.reactions.get_by_id('Straw_Biomass_BS').objective_coefficient = 0\n",
    "    mm.get_rxn(model,'DM_Phloem_BS').objective_coefficient = 1\n",
    "\n",
    "    #Open up reaction bounds in the list\n",
    "    model.reactions.FDHNc_M.bounds = leaf_intact_bounds_dict['FDHNc_M']\n",
    "    model.reactions.FDHNc_BS.bounds = leaf_intact_bounds_dict['FDHNc_BS']\n",
    "    #Get solution\n",
    "    sample_fluxes = cobra.flux_analysis.pfba(model).fluxes.to_frame()\n",
    "    \n",
    "#Save to csv\n",
    "    \n",
    "    \n",
    "soln_path = '../flux_results/test_solns/Test-ccf-vs-no-ccf-1cell.csv'\n",
    "out = open(soln_path, 'w')\n",
    "sample_fluxes.to_csv(out, sep='\\t')\n",
    "out.close()\n",
    "\n",
    "print('Solution saved at ', soln_path)"
   ]
  },
  {
   "cell_type": "code",
   "execution_count": null,
   "id": "7436e01b",
   "metadata": {},
   "outputs": [],
   "source": [
    "#Let's try closing all cofactor-recycling reactions except FDHNc and let's check their solutions."
   ]
  },
  {
   "cell_type": "code",
   "execution_count": 25,
   "id": "93831db3",
   "metadata": {
    "ExecuteTime": {
     "end_time": "2022-05-03T00:23:27.353911Z",
     "start_time": "2022-05-03T00:23:26.245941Z"
    }
   },
   "outputs": [
    {
     "name": "stdout",
     "output_type": "stream",
     "text": [
      "Solution saved at  ../flux_results/test_solns/Test-soln-no-cofac-turned-on-FNDHc_M.csv\n"
     ]
    }
   ],
   "source": [
    "#Let's try turning on FDHNc and see how the model reacts.\n",
    "\n",
    "with model:\n",
    "    #Turn off all reactions first\n",
    "    for rxns in model.reactions:\n",
    "        if rxns.id in leaf_inactive_rxns: #Turn off all reactions in the list loaded above\n",
    "             rxns.bounds = (0,0)\n",
    "\n",
    "    model_media['EX_photonVis(e)'] = 1000\n",
    "    model_media['EX_co2(e)'] = 100\n",
    "    model_media['EX_o2(e)'] = 100#2.2618\n",
    "    model.medium = model_media\n",
    "\n",
    "    #Set NGAM\n",
    "    ngam_value = compute_ngam_atp(200)\n",
    "    ngam_cons = model.problem.Constraint(fex_atp_c_M + \n",
    "                                        fex_atp_c_BS, lb=ngam_value, ub=ngam_value)\n",
    "    model.add_cons_vars(ngam_cons)\n",
    "\n",
    "    #Change objective function to mature leaf\n",
    "    model.reactions.get_by_id('Straw_Biomass_M').objective_coefficient = 0\n",
    "    model.reactions.get_by_id('Straw_Biomass_BS').objective_coefficient = 0\n",
    "    mm.get_rxn(model,'DM_Phloem_BS').objective_coefficient = 1\n",
    "\n",
    "    #Open up reaction bounds in the list\n",
    "    model.reactions.FDHNc_M.bounds = leaf_intact_bounds_dict['FDHNc_M']\n",
    "    model.reactions.FDHNc_BS.bounds = leaf_intact_bounds_dict['FDHNc_BS']\n",
    "    #Get solution\n",
    "    sample_fluxes = cobra.flux_analysis.pfba(model).fluxes.to_frame()\n",
    "    \n",
    "#Save to csv\n",
    "    \n",
    "    \n",
    "soln_path = '../flux_results/test_solns/Test-soln-no-cofac-turned-on-FNDHc_M.csv'\n",
    "out = open(soln_path, 'w')\n",
    "sample_fluxes.to_csv(out, sep='\\t')\n",
    "out.close()\n",
    "\n",
    "print('Solution saved at ', soln_path)"
   ]
  },
  {
   "cell_type": "code",
   "execution_count": 26,
   "id": "e79bbd95",
   "metadata": {
    "ExecuteTime": {
     "end_time": "2022-05-03T00:28:11.474732Z",
     "start_time": "2022-05-03T00:28:11.442129Z"
    }
   },
   "outputs": [
    {
     "ename": "KeyError",
     "evalue": "'RBPCs_M'",
     "output_type": "error",
     "traceback": [
      "\u001b[0;31m---------------------------------------------------------------------------\u001b[0m",
      "\u001b[0;31mKeyError\u001b[0m                                  Traceback (most recent call last)",
      "\u001b[0;32m~/.local/lib/python3.8/site-packages/pandas/core/indexes/base.py\u001b[0m in \u001b[0;36mget_loc\u001b[0;34m(self, key, method, tolerance)\u001b[0m\n\u001b[1;32m   3360\u001b[0m             \u001b[0;32mtry\u001b[0m\u001b[0;34m:\u001b[0m\u001b[0;34m\u001b[0m\u001b[0;34m\u001b[0m\u001b[0m\n\u001b[0;32m-> 3361\u001b[0;31m                 \u001b[0;32mreturn\u001b[0m \u001b[0mself\u001b[0m\u001b[0;34m.\u001b[0m\u001b[0m_engine\u001b[0m\u001b[0;34m.\u001b[0m\u001b[0mget_loc\u001b[0m\u001b[0;34m(\u001b[0m\u001b[0mcasted_key\u001b[0m\u001b[0;34m)\u001b[0m\u001b[0;34m\u001b[0m\u001b[0;34m\u001b[0m\u001b[0m\n\u001b[0m\u001b[1;32m   3362\u001b[0m             \u001b[0;32mexcept\u001b[0m \u001b[0mKeyError\u001b[0m \u001b[0;32mas\u001b[0m \u001b[0merr\u001b[0m\u001b[0;34m:\u001b[0m\u001b[0;34m\u001b[0m\u001b[0;34m\u001b[0m\u001b[0m\n",
      "\u001b[0;32m~/.local/lib/python3.8/site-packages/pandas/_libs/index.pyx\u001b[0m in \u001b[0;36mpandas._libs.index.IndexEngine.get_loc\u001b[0;34m()\u001b[0m\n",
      "\u001b[0;32m~/.local/lib/python3.8/site-packages/pandas/_libs/index.pyx\u001b[0m in \u001b[0;36mpandas._libs.index.IndexEngine.get_loc\u001b[0;34m()\u001b[0m\n",
      "\u001b[0;32mpandas/_libs/hashtable_class_helper.pxi\u001b[0m in \u001b[0;36mpandas._libs.hashtable.PyObjectHashTable.get_item\u001b[0;34m()\u001b[0m\n",
      "\u001b[0;32mpandas/_libs/hashtable_class_helper.pxi\u001b[0m in \u001b[0;36mpandas._libs.hashtable.PyObjectHashTable.get_item\u001b[0;34m()\u001b[0m\n",
      "\u001b[0;31mKeyError\u001b[0m: 'RBPCs_M'",
      "\nThe above exception was the direct cause of the following exception:\n",
      "\u001b[0;31mKeyError\u001b[0m                                  Traceback (most recent call last)",
      "\u001b[0;32m<ipython-input-26-e573d06bebb5>\u001b[0m in \u001b[0;36m<module>\u001b[0;34m\u001b[0m\n\u001b[1;32m      1\u001b[0m \u001b[0;31m#This code  block gives a snapshot of the relevant fluxes on each of the cell types based on the saved sample_fluxes values above\u001b[0m\u001b[0;34m\u001b[0m\u001b[0;34m\u001b[0m\u001b[0;34m\u001b[0m\u001b[0m\n\u001b[0;32m----> 2\u001b[0;31m \u001b[0mprint\u001b[0m\u001b[0;34m(\u001b[0m\u001b[0;34m'rbcl M cell: '\u001b[0m\u001b[0;34m,\u001b[0m \u001b[0msample_fluxes\u001b[0m\u001b[0;34m[\u001b[0m\u001b[0;34m'RBPCs_M'\u001b[0m\u001b[0;34m]\u001b[0m\u001b[0;34m,\u001b[0m \u001b[0;34m'rbcl BS cell: '\u001b[0m\u001b[0;34m,\u001b[0m\u001b[0msample_fluxes\u001b[0m\u001b[0;34m[\u001b[0m\u001b[0;34m'RBPCs_BS'\u001b[0m\u001b[0;34m]\u001b[0m\u001b[0;34m)\u001b[0m\u001b[0;34m\u001b[0m\u001b[0;34m\u001b[0m\u001b[0m\n\u001b[0m\u001b[1;32m      3\u001b[0m \u001b[0mprint\u001b[0m\u001b[0;34m(\u001b[0m\u001b[0;34m'rbcl M cell (photorespiration)'\u001b[0m\u001b[0;34m,\u001b[0m \u001b[0msample_fluxes\u001b[0m\u001b[0;34m[\u001b[0m\u001b[0;34m'RBPOs_M'\u001b[0m\u001b[0;34m]\u001b[0m\u001b[0;34m,\u001b[0m \u001b[0;34m'rbcl BS cell (PR)'\u001b[0m\u001b[0;34m,\u001b[0m \u001b[0msample_fluxes\u001b[0m\u001b[0;34m[\u001b[0m\u001b[0;34m'RBPOs_BS'\u001b[0m\u001b[0;34m]\u001b[0m\u001b[0;34m)\u001b[0m\u001b[0;34m\u001b[0m\u001b[0;34m\u001b[0m\u001b[0m\n\u001b[1;32m      4\u001b[0m \u001b[0mprint\u001b[0m\u001b[0;34m(\u001b[0m\u001b[0;34m'vc/vo M:'\u001b[0m\u001b[0;34m,\u001b[0m \u001b[0msample_fluxes\u001b[0m\u001b[0;34m[\u001b[0m\u001b[0;34m'RBPCs_M'\u001b[0m\u001b[0;34m]\u001b[0m\u001b[0;34m/\u001b[0m\u001b[0msample_fluxes\u001b[0m\u001b[0;34m[\u001b[0m\u001b[0;34m'RBPOs_M'\u001b[0m\u001b[0;34m]\u001b[0m\u001b[0;34m,\u001b[0m \u001b[0;34m'vc/vo BS:'\u001b[0m\u001b[0;34m,\u001b[0m \u001b[0msample_fluxes\u001b[0m\u001b[0;34m[\u001b[0m\u001b[0;34m'RBPCs_BS'\u001b[0m\u001b[0;34m]\u001b[0m\u001b[0;34m/\u001b[0m\u001b[0msample_fluxes\u001b[0m\u001b[0;34m[\u001b[0m\u001b[0;34m'RBPOs_BS'\u001b[0m\u001b[0;34m]\u001b[0m\u001b[0;34m)\u001b[0m\u001b[0;34m\u001b[0m\u001b[0;34m\u001b[0m\u001b[0m\n\u001b[1;32m      5\u001b[0m \u001b[0mprint\u001b[0m\u001b[0;34m(\u001b[0m\u001b[0;34m'PEPC M'\u001b[0m\u001b[0;34m,\u001b[0m \u001b[0msample_fluxes\u001b[0m\u001b[0;34m[\u001b[0m\u001b[0;34m'PPCc_M'\u001b[0m\u001b[0;34m]\u001b[0m\u001b[0;34m,\u001b[0m \u001b[0;34m'PEPC BS'\u001b[0m\u001b[0;34m,\u001b[0m \u001b[0msample_fluxes\u001b[0m\u001b[0;34m[\u001b[0m\u001b[0;34m'PPCc_BS'\u001b[0m\u001b[0;34m]\u001b[0m\u001b[0;34m)\u001b[0m\u001b[0;34m\u001b[0m\u001b[0;34m\u001b[0m\u001b[0m\n",
      "\u001b[0;32m~/.local/lib/python3.8/site-packages/pandas/core/frame.py\u001b[0m in \u001b[0;36m__getitem__\u001b[0;34m(self, key)\u001b[0m\n\u001b[1;32m   3453\u001b[0m             \u001b[0;32mif\u001b[0m \u001b[0mself\u001b[0m\u001b[0;34m.\u001b[0m\u001b[0mcolumns\u001b[0m\u001b[0;34m.\u001b[0m\u001b[0mnlevels\u001b[0m \u001b[0;34m>\u001b[0m \u001b[0;36m1\u001b[0m\u001b[0;34m:\u001b[0m\u001b[0;34m\u001b[0m\u001b[0;34m\u001b[0m\u001b[0m\n\u001b[1;32m   3454\u001b[0m                 \u001b[0;32mreturn\u001b[0m \u001b[0mself\u001b[0m\u001b[0;34m.\u001b[0m\u001b[0m_getitem_multilevel\u001b[0m\u001b[0;34m(\u001b[0m\u001b[0mkey\u001b[0m\u001b[0;34m)\u001b[0m\u001b[0;34m\u001b[0m\u001b[0;34m\u001b[0m\u001b[0m\n\u001b[0;32m-> 3455\u001b[0;31m             \u001b[0mindexer\u001b[0m \u001b[0;34m=\u001b[0m \u001b[0mself\u001b[0m\u001b[0;34m.\u001b[0m\u001b[0mcolumns\u001b[0m\u001b[0;34m.\u001b[0m\u001b[0mget_loc\u001b[0m\u001b[0;34m(\u001b[0m\u001b[0mkey\u001b[0m\u001b[0;34m)\u001b[0m\u001b[0;34m\u001b[0m\u001b[0;34m\u001b[0m\u001b[0m\n\u001b[0m\u001b[1;32m   3456\u001b[0m             \u001b[0;32mif\u001b[0m \u001b[0mis_integer\u001b[0m\u001b[0;34m(\u001b[0m\u001b[0mindexer\u001b[0m\u001b[0;34m)\u001b[0m\u001b[0;34m:\u001b[0m\u001b[0;34m\u001b[0m\u001b[0;34m\u001b[0m\u001b[0m\n\u001b[1;32m   3457\u001b[0m                 \u001b[0mindexer\u001b[0m \u001b[0;34m=\u001b[0m \u001b[0;34m[\u001b[0m\u001b[0mindexer\u001b[0m\u001b[0;34m]\u001b[0m\u001b[0;34m\u001b[0m\u001b[0;34m\u001b[0m\u001b[0m\n",
      "\u001b[0;32m~/.local/lib/python3.8/site-packages/pandas/core/indexes/base.py\u001b[0m in \u001b[0;36mget_loc\u001b[0;34m(self, key, method, tolerance)\u001b[0m\n\u001b[1;32m   3361\u001b[0m                 \u001b[0;32mreturn\u001b[0m \u001b[0mself\u001b[0m\u001b[0;34m.\u001b[0m\u001b[0m_engine\u001b[0m\u001b[0;34m.\u001b[0m\u001b[0mget_loc\u001b[0m\u001b[0;34m(\u001b[0m\u001b[0mcasted_key\u001b[0m\u001b[0;34m)\u001b[0m\u001b[0;34m\u001b[0m\u001b[0;34m\u001b[0m\u001b[0m\n\u001b[1;32m   3362\u001b[0m             \u001b[0;32mexcept\u001b[0m \u001b[0mKeyError\u001b[0m \u001b[0;32mas\u001b[0m \u001b[0merr\u001b[0m\u001b[0;34m:\u001b[0m\u001b[0;34m\u001b[0m\u001b[0;34m\u001b[0m\u001b[0m\n\u001b[0;32m-> 3363\u001b[0;31m                 \u001b[0;32mraise\u001b[0m \u001b[0mKeyError\u001b[0m\u001b[0;34m(\u001b[0m\u001b[0mkey\u001b[0m\u001b[0;34m)\u001b[0m \u001b[0;32mfrom\u001b[0m \u001b[0merr\u001b[0m\u001b[0;34m\u001b[0m\u001b[0;34m\u001b[0m\u001b[0m\n\u001b[0m\u001b[1;32m   3364\u001b[0m \u001b[0;34m\u001b[0m\u001b[0m\n\u001b[1;32m   3365\u001b[0m         \u001b[0;32mif\u001b[0m \u001b[0mis_scalar\u001b[0m\u001b[0;34m(\u001b[0m\u001b[0mkey\u001b[0m\u001b[0;34m)\u001b[0m \u001b[0;32mand\u001b[0m \u001b[0misna\u001b[0m\u001b[0;34m(\u001b[0m\u001b[0mkey\u001b[0m\u001b[0;34m)\u001b[0m \u001b[0;32mand\u001b[0m \u001b[0;32mnot\u001b[0m \u001b[0mself\u001b[0m\u001b[0;34m.\u001b[0m\u001b[0mhasnans\u001b[0m\u001b[0;34m:\u001b[0m\u001b[0;34m\u001b[0m\u001b[0;34m\u001b[0m\u001b[0m\n",
      "\u001b[0;31mKeyError\u001b[0m: 'RBPCs_M'"
     ]
    }
   ],
   "source": [
    "#This code  block gives a snapshot of the relevant fluxes on each of the cell types based on the saved sample_fluxes values above\n",
    "print('rbcl M cell: ', sample_fluxes['RBPCs_M'], 'rbcl BS cell: ',sample_fluxes['RBPCs_BS'])\n",
    "print('rbcl M cell (photorespiration)', sample_fluxes['RBPOs_M'], 'rbcl BS cell (PR)', sample_fluxes['RBPOs_BS'])\n",
    "print('vc/vo M:', sample_fluxes['RBPCs_M']/sample_fluxes['RBPOs_M'], 'vc/vo BS:', sample_fluxes['RBPCs_BS']/sample_fluxes['RBPOs_BS'])\n",
    "print('PEPC M', sample_fluxes['PPCc_M'], 'PEPC BS', sample_fluxes['PPCc_BS'])\n",
    "print('Carbonic Anhydrase (Cytosolic) M', sample_fluxes['HCO3Ec_M'], 'Carbonic Anhydrase (Cytosolic) BS', sample_fluxes['HCO3Ec_BS'])\n",
    "print('NADP-ME M', sample_fluxes['MDHys_M'], 'NADP-ME BS', sample_fluxes['MDHys_BS'])\n",
    "print('Biomass M: ', sample_fluxes['Straw_Biomass_M'], 'Biomass BS', sample_fluxes['Straw_Biomass_BS'])\n",
    "print('Phloem M: ', sample_fluxes['DM_Phloem_M'], 'Phloem BS', sample_fluxes['DM_Phloem_BS'])\n",
    "print('co2 consumption M', sample_fluxes[co2tex_m.id], 'co2 consumption BS', sample_fluxes[co2tex_bs.id])\n",
    "print('o2 consumption M', sample_fluxes['O2tex_M'], 'o2 consumption BS', sample_fluxes['O2tex_BS'])\n",
    "print('Photosystem II M', sample_fluxes['PSIINC_M'], 'PSII BS', sample_fluxes['PSIINC_BS'])\n",
    "print('PSI M', sample_fluxes['PSIMR_M'], 'PSI BS', sample_fluxes['PSIMR_BS'])\n",
    "print('PPFD M: ', sample_fluxes['PRISM_white_LED_M'], 'PPFD BS: ', sample_fluxes['PRISM_white_LED_BS'])\n",
    "\n",
    "pd_rxn = [x for x in model.reactions if \"pd\" in x.id and \"h2o\" not in x.id]\n",
    "pd_abs_flux = 0\n",
    "for pds in pd_rxn:\n",
    "    pd_abs_flux += abs(sample_fluxes[pds.id])\n",
    "    \n",
    "print('pd_abs_flux: ', pd_abs_flux)"
   ]
  },
  {
   "cell_type": "code",
   "execution_count": null,
   "id": "2aba040d",
   "metadata": {
    "ExecuteTime": {
     "end_time": "2022-04-29T00:58:50.639169Z",
     "start_time": "2022-04-29T00:58:50.637554Z"
    }
   },
   "outputs": [],
   "source": [
    "# #This code block is to generate flux values thru the network given a set of constraints to PPFD\n",
    "\n",
    "# ppfd_solns_2cell_fba = pd.DataFrame(index=list(i.id for i in model.reactions))\n",
    "# ppfd_solns_2cell_fva  = pd.DataFrame(index=list(i.id for i in model.reactions))\n",
    "\n",
    "# #Iterate from range 0 to 2000 w/ increments of 50 (max ppfd)\n",
    "   \n",
    "# for i in range(0,2100,50):\n",
    "#     with model:\n",
    "#         ppfd = i \n",
    "#         #Set medium to change photon flux and other things and re-add to model\n",
    "#         model_media['EX_photonVis(e)'] = ppfd\n",
    "#         model_media['EX_co2(e)'] = 29\n",
    "#         model_media['EX_o2(e)'] = 2.2618 #umol/m^2 s O2\n",
    "#         model.medium = model_media\n",
    "\n",
    "#         model.reactions.get_by_id('Straw_Biomass_M').objective_coefficient = 1\n",
    "#         model.reactions.get_by_id('Straw_Biomass_BS').objective_coefficient = 1\n",
    "\n",
    "\n",
    "\n",
    "#         #perform pFBA & convert to dataframe\n",
    "#         tc_soln = cobra.flux_analysis.pfba(model).to_frame()\n",
    "# #         tc_summary = model.summary(fva=0.95).to_frame()\n",
    "#         tc_soln = pd.DataFrame({ppfd:tc_soln['fluxes']}, index=list(tc_soln.index))\n",
    "#         print(\"PPFD:\", ppfd, \" RBPC_M cell flux:\", tc_soln[ppfd]['RBPCs_M'])\n",
    "#         #Append to Dataframe\n",
    "#         ppfd_solns_2cell_fba[ppfd] = tc_soln\n",
    "#        # ppfd_solns_2cell_fva[ppfd] = \n",
    "\n",
    "# #Code now works"
   ]
  },
  {
   "cell_type": "code",
   "execution_count": null,
   "id": "e4e240a2",
   "metadata": {
    "ExecuteTime": {
     "end_time": "2022-04-29T01:08:23.417072Z",
     "start_time": "2022-04-29T01:06:59.949624Z"
    }
   },
   "outputs": [],
   "source": [
    "ppfd_solns_2cell_fba = pd.DataFrame(index=list(i.id for i in model.reactions))\n",
    "ppfd_solns_2cell_fva  = pd.DataFrame(index=list(i.id for i in model.reactions))\n",
    "\n",
    "#Iterate from range 0 to 2000 w/ increments of 50 (max ppfd)\n",
    "\n",
    "for i in range(0,2100,50):\n",
    "    \n",
    "    #Generate instance of model every iteration\n",
    "    with model:\n",
    "        ppfd = i \n",
    "        #Set ATP NGAM value to linear PPFD formula\n",
    "\n",
    "         #Set medium to change photon flux and other things and re-add to model\n",
    "        model_media['EX_photonVis(e)'] = ppfd\n",
    "        model_media['EX_co2(e)'] = 29\n",
    "        model_media['EX_o2(e)'] = 2.2618 #umol/m^2 s O2 (converted from 3.312 mmol/dcw hr)\n",
    "        model.medium = model_media\n",
    "\n",
    "        #Set NGAM value\n",
    "        ngam_value = compute_ngam_atp(i)\n",
    "        ngam_cons = model.problem.Constraint(fex_atp_c_M + \n",
    "                                            fex_atp_c_BS, lb=ngam_value, ub=ngam_value)\n",
    "        model.add_cons_vars(ngam_cons)\n",
    "\n",
    "\n",
    "        #Change objective function to mature leaf\n",
    "        model.reactions.get_by_id('Straw_Biomass_M').objective_coefficient = 0\n",
    "        model.reactions.get_by_id('Straw_Biomass_BS').objective_coefficient = 0\n",
    "        mm.get_rxn(model,'DM_Phloem_BS').objective_coefficient = 1\n",
    "\n",
    "        #Optimize then check optimality\n",
    "        solution = model.optimize()\n",
    "\n",
    "        if solution.status == 'optimal':\n",
    "            sample_fluxes = cobra.flux_analysis.pfba(model).fluxes\n",
    "            #Remove thermodynamically infeasible loops via CycleFreeFlux algorithm\n",
    "            sample_fluxes = cobra.flux_analysis.loopless_solution(model, sample_fluxes)\n",
    "            #Generate dataframe\n",
    "            sample_fluxes = sample_fluxes.to_frame()\n",
    "\n",
    "            sample_fluxes = pd.DataFrame({ppfd:sample_fluxes['fluxes']}, index=list(sample_fluxes.index))\n",
    "            print(\"PPFD:\", ppfd, \" RBPC_M cell flux:\", sample_fluxes[ppfd]['RBPCs_M'])\n",
    "            #Append to Dataframe\n",
    "            ppfd_solns_2cell_fba[ppfd] = sample_fluxes\n",
    "            \n",
    "out = open('../flux_results/ppfd_2cell_trans_solns_CCF.tsv', 'w')\n",
    "ppfd_solns_2cell_fba.to_csv(out, sep='\\t')\n",
    "out.close()\n",
    "print(\"Successfully saved PPFD-out (W/ CCF!)\")"
   ]
  },
  {
   "cell_type": "code",
   "execution_count": null,
   "id": "8f8a5aeb",
   "metadata": {
    "ExecuteTime": {
     "end_time": "2022-04-29T01:00:19.796282Z",
     "start_time": "2022-04-29T01:00:19.794578Z"
    }
   },
   "outputs": [],
   "source": [
    "# ppfd_solns_2cell_fba_noccf = pd.DataFrame(index=list(i.id for i in model.reactions))\n",
    "# #Iterate from range 0 to 2000 w/ increments of 50 (max ppfd)\n",
    "\n",
    "# for i in range(0,2100,50):\n",
    "    \n",
    "#     #Generate instance of model every iteration\n",
    "#     with model:\n",
    "\n",
    "#         #Set ATP NGAM value to linear PPFD formula\n",
    "\n",
    "#         #Set medium to change photon flux and other things and re-add to model\n",
    "#         ppfd = i \n",
    "#         model_media['EX_photonVis(e)'] = ppfd\n",
    "#         model_media['EX_co2(e)'] = 29\n",
    "#         model_media['EX_o2(e)'] = 2.2618 #umol/m^2 s O2 (converted from 3.312 mmol/dcw hr)\n",
    "#         model.medium = model_media\n",
    "\n",
    "#         #Set NGAM value\n",
    "#         ngam_value = compute_ngam_atp(i)\n",
    "#         ngam_cons = model.problem.Constraint(fex_atp_c_M + \n",
    "#                                             fex_atp_c_BS, lb=ngam_value, ub=ngam_value)\n",
    "#         model.add_cons_vars(ngam_cons)\n",
    "        \n",
    "#         #Change objective function to mature leaf\n",
    "#         model.reactions.get_by_id('Straw_Biomass_M').objective_coefficient = 0\n",
    "#         model.reactions.get_by_id('Straw_Biomass_BS').objective_coefficient = 0\n",
    "#         mm.get_rxn(model,'DM_Phloem_BS').objective_coefficient = 1\n",
    "\n",
    "#         #Optimize then check optimality\n",
    "#         solution = model.optimize()\n",
    "\n",
    "#         if solution.status == 'optimal':\n",
    "#             sample_fluxes = cobra.flux_analysis.pfba(model).fluxes\n",
    "#             sample_fluxes = sample_fluxes.to_frame()\n",
    "            \n",
    "#             #Generate dataframe\n",
    "#             sample_fluxes = pd.DataFrame({ppfd:sample_fluxes['fluxes']}, index=list(sample_fluxes.index))\n",
    "#             print(\"PPFD:\", ppfd, \" RBPC_M cell flux:\", sample_fluxes[ppfd]['RBPCs_M'])\n",
    "#             #Append to larger Dataframe\n",
    "#             ppfd_solns_2cell_fba_noccf[ppfd] = sample_fluxes\n",
    "\n",
    "            \n",
    "            \n",
    "# out = open('../flux_results/ppfd_2cell_solns_no_CycleFreeFlux.tsv', 'w')\n",
    "# ppfd_solns_2cell_fba_noccf.to_csv(out, sep='\\t')\n",
    "# out.close()\n",
    "# print('Successfully saved PPFD-out (No CCF!)')"
   ]
  },
  {
   "cell_type": "code",
   "execution_count": null,
   "id": "a2dfd00a",
   "metadata": {
    "ExecuteTime": {
     "end_time": "2022-04-29T01:00:19.801392Z",
     "start_time": "2022-04-29T01:00:19.798028Z"
    }
   },
   "outputs": [],
   "source": [
    "#Constraining O2 consumption to around 3.312 forces water to be consumed by the system, unlike when O2 is unconstrained.\n",
    "#However, the same behavior when it comes to CO2 assimilation still is being produced.\n",
    "#Constraining O2 consumption also forces Nitrate consumption to be constrained to realistic levels (when compared to non-constrained O2 where consumption was 10-fold )\n",
    "#I suspect that this is definitely due to how PPFD flux is structured. \n",
    "#A cop-out to this would be to double PPFD per run and measuring PPFD flux in the specific reactions instead."
   ]
  },
  {
   "cell_type": "code",
   "execution_count": null,
   "id": "337943a3",
   "metadata": {
    "ExecuteTime": {
     "end_time": "2022-04-29T01:00:19.805159Z",
     "start_time": "2022-04-29T01:00:19.802642Z"
    }
   },
   "outputs": [],
   "source": [
    "#I can probably do the benchmarking right now. The model behaves quite interestingly actually"
   ]
  },
  {
   "cell_type": "code",
   "execution_count": null,
   "id": "f0b7bed7",
   "metadata": {
    "ExecuteTime": {
     "end_time": "2022-04-29T01:00:19.809419Z",
     "start_time": "2022-04-29T01:00:19.807529Z"
    }
   },
   "outputs": [],
   "source": [
    "#Note: Turning off other prism reactions (red, green, blue, etc) while retaining only white light reactions lowers net carbon assimilation\n",
    "#I think this is in consideration on how white light is partitioned to several wavelengths, which prevents it from being fully utilized."
   ]
  },
  {
   "cell_type": "code",
   "execution_count": null,
   "id": "f6d9127b",
   "metadata": {
    "ExecuteTime": {
     "end_time": "2022-04-29T01:00:19.814839Z",
     "start_time": "2022-04-29T01:00:19.812434Z"
    }
   },
   "outputs": [],
   "source": [
    "#Other artifacts as of the moment include the following:\n",
    "#model doesn't produce any Oxygen. Maybe I should add a specific demand reaction for it?\n",
    "#Based on FVA, the model now produces some oxygen via the demand reaction. "
   ]
  },
  {
   "cell_type": "code",
   "execution_count": null,
   "id": "c3020e0b",
   "metadata": {
    "ExecuteTime": {
     "end_time": "2022-04-29T01:00:19.821844Z",
     "start_time": "2022-04-29T01:00:19.820011Z"
    }
   },
   "outputs": [],
   "source": [
    "#Model also facilitates transfer of metabolites unlike before."
   ]
  },
  {
   "cell_type": "code",
   "execution_count": null,
   "id": "10361fc4",
   "metadata": {
    "ExecuteTime": {
     "end_time": "2022-04-29T01:00:19.829237Z",
     "start_time": "2022-04-29T01:00:19.826928Z"
    }
   },
   "outputs": [],
   "source": [
    "#Questions:\n",
    "#Should I restrict Nutrient flow to the Bundle Sheath Cell only or should I allow flux to both the M and BS cell?\n",
    "#Apparently kasi dito only the Bundle sheath cells produce any biomass\n",
    "#This is to ensure that only CO2 and Light flux are the only limiting constraints to the system."
   ]
  }
 ],
 "metadata": {
  "kernelspec": {
   "display_name": "Python 3",
   "language": "python",
   "name": "python3"
  },
  "language_info": {
   "codemirror_mode": {
    "name": "ipython",
    "version": 3
   },
   "file_extension": ".py",
   "mimetype": "text/x-python",
   "name": "python",
   "nbconvert_exporter": "python",
   "pygments_lexer": "ipython3",
   "version": "3.8.8"
  },
  "varInspector": {
   "cols": {
    "lenName": 16,
    "lenType": 16,
    "lenVar": 40
   },
   "kernels_config": {
    "python": {
     "delete_cmd_postfix": "",
     "delete_cmd_prefix": "del ",
     "library": "var_list.py",
     "varRefreshCmd": "print(var_dic_list())"
    },
    "r": {
     "delete_cmd_postfix": ") ",
     "delete_cmd_prefix": "rm(",
     "library": "var_list.r",
     "varRefreshCmd": "cat(var_dic_list()) "
    }
   },
   "types_to_exclude": [
    "module",
    "function",
    "builtin_function_or_method",
    "instance",
    "_Feature"
   ],
   "window_display": false
  }
 },
 "nbformat": 4,
 "nbformat_minor": 5
}
