{
 "cells": [
  {
   "cell_type": "code",
   "execution_count": 23,
   "id": "03a656bb",
   "metadata": {
    "ExecuteTime": {
     "end_time": "2022-04-16T08:59:58.934919Z",
     "start_time": "2022-04-16T08:59:58.931418Z"
    }
   },
   "outputs": [],
   "source": [
    "import sys\n",
    "sys.path.append(\"../src/\") \n",
    "import os\n",
    "\n",
    "import model_manipulation as mm\n",
    "import cobra\n",
    "import cplex \n",
    "import libsbml\n",
    "import pandas as pd\n",
    "import copy\n",
    "from pathlib import Path\n",
    "import memote\n",
    "import pytest\n"
   ]
  },
  {
   "cell_type": "code",
   "execution_count": 3,
   "id": "f9e6f4da",
   "metadata": {
    "ExecuteTime": {
     "end_time": "2022-04-16T08:26:20.484865Z",
     "start_time": "2022-04-16T08:26:16.201660Z"
    }
   },
   "outputs": [],
   "source": [
    "#This jupyter notebook is to test out the basic properties of the two cell model, \n",
    "#based on Thiel & Fleming (2018?)\n",
    "# https://opencobra.github.io/cobratoolbox/latest/tutorials/tutorialModelSanityChecks.html\n",
    "\n",
    "model = cobra.io.read_sbml_model('../model/ios2164_2cell.xml')\n",
    "model.solve = 'gurobi'\n",
    "\n",
    "cnt = 1\n",
    "epsilon= 1e-6\n",
    "\n"
   ]
  },
  {
   "cell_type": "code",
   "execution_count": 21,
   "id": "3ddd4617",
   "metadata": {
    "ExecuteTime": {
     "end_time": "2022-04-16T08:53:39.603021Z",
     "start_time": "2022-04-16T08:53:39.585375Z"
    }
   },
   "outputs": [
    {
     "name": "stdout",
     "output_type": "stream",
     "text": [
      "Help on package memote:\n",
      "\n",
      "NAME\n",
      "    memote - (me)tabolic (mo)del (te)sts.\n",
      "\n",
      "DESCRIPTION\n",
      "    The memote Python package is a community-driven effort towards a standardized\n",
      "    genome-scale metabolic model test suite.\n",
      "\n",
      "PACKAGE CONTENTS\n",
      "    _version\n",
      "    experimental (package)\n",
      "    jinja2_extension\n",
      "    suite (package)\n",
      "    support (package)\n",
      "    utils\n",
      "\n",
      "SUBMODULES\n",
      "    config\n",
      "    diff\n",
      "    history\n",
      "    history_manager\n",
      "    models\n",
      "    repo_result_manager\n",
      "    report\n",
      "    result\n",
      "    result_manager\n",
      "    snapshot\n",
      "    sql_result_manager\n",
      "\n",
      "DATA\n",
      "    LOGGER = <Logger memote.suite.reporting.history (WARNING)>\n",
      "    __email__ = 'midnighter@posteo.net'\n",
      "    absolute_import = _Feature((2, 5, 0, 'alpha', 1), (3, 0, 0, 'alpha', 0...\n",
      "\n",
      "VERSION\n",
      "    0.13.0\n",
      "\n",
      "AUTHOR\n",
      "    Moritz E. Beber\n",
      "\n",
      "FILE\n",
      "    /home/rtsantos3/.local/lib/python3.8/site-packages/memote/__init__.py\n",
      "\n",
      "\n"
     ]
    }
   ],
   "source": [
    "# Define the closed model. Here, we will set to zero the lower bounds of all reactions \n",
    "#that represent \n",
    "#exchange and siphon ('sink') reactions, or that contain only one entry in the column \n",
    "#of the S matrix. The upper bound of those reactions is set to 1000 (i.e., infinity).\n",
    "#Note that this overwrites any constraints on those reactions that may be present in a \n",
    "#condition- and cell-type specific model.\n",
    "\n",
    "closed_model = model\n",
    "model_bounds = [rxn for rxn in closed_model.boundary]\n",
    "\n",
    "for item in model_bounds:\n",
    "    item.lower_bound = 0\n",
    "\n",
    "memote.result"
   ]
  },
  {
   "cell_type": "code",
   "execution_count": 22,
   "id": "017bd380",
   "metadata": {
    "ExecuteTime": {
     "end_time": "2022-04-16T08:54:20.319443Z",
     "start_time": "2022-04-16T08:54:20.314169Z"
    }
   },
   "outputs": [
    {
     "ename": "SyntaxError",
     "evalue": "invalid syntax (<ipython-input-22-752d54fdb2c5>, line 1)",
     "output_type": "error",
     "traceback": [
      "\u001b[0;36m  File \u001b[0;32m\"<ipython-input-22-752d54fdb2c5>\"\u001b[0;36m, line \u001b[0;32m1\u001b[0m\n\u001b[0;31m    memote report snapshot '../model/ios2164_2cell.xml'\u001b[0m\n\u001b[0m           ^\u001b[0m\n\u001b[0;31mSyntaxError\u001b[0m\u001b[0;31m:\u001b[0m invalid syntax\n"
     ]
    }
   ],
   "source": [
    "memote report snapshot '../model/ios2164_2cell.xml'"
   ]
  }
 ],
 "metadata": {
  "kernelspec": {
   "display_name": "Python 3",
   "language": "python",
   "name": "python3"
  },
  "language_info": {
   "codemirror_mode": {
    "name": "ipython",
    "version": 3
   },
   "file_extension": ".py",
   "mimetype": "text/x-python",
   "name": "python",
   "nbconvert_exporter": "python",
   "pygments_lexer": "ipython3",
   "version": "3.8.8"
  },
  "varInspector": {
   "cols": {
    "lenName": 16,
    "lenType": 16,
    "lenVar": 40
   },
   "kernels_config": {
    "python": {
     "delete_cmd_postfix": "",
     "delete_cmd_prefix": "del ",
     "library": "var_list.py",
     "varRefreshCmd": "print(var_dic_list())"
    },
    "r": {
     "delete_cmd_postfix": ") ",
     "delete_cmd_prefix": "rm(",
     "library": "var_list.r",
     "varRefreshCmd": "cat(var_dic_list()) "
    }
   },
   "types_to_exclude": [
    "module",
    "function",
    "builtin_function_or_method",
    "instance",
    "_Feature"
   ],
   "window_display": false
  }
 },
 "nbformat": 4,
 "nbformat_minor": 5
}
