{
 "cells": [
  {
   "cell_type": "code",
   "execution_count": 2,
   "id": "ed850710",
   "metadata": {
    "ExecuteTime": {
     "end_time": "2022-02-10T17:37:29.785122Z",
     "start_time": "2022-02-10T17:37:29.774924Z"
    }
   },
   "outputs": [],
   "source": [
    "import sys\n",
    "sys.path.append(\"../src/\") \n",
    "\n",
    "import model_manipulation as mm\n",
    "\n",
    "import cobra\n",
    "import libsbml\n",
    "import riptide\n",
    "from cobra import Model, Reaction, Metabolite\n",
    "import csv\n",
    "import pandas as pd\n",
    "import copy\n"
   ]
  },
  {
   "cell_type": "code",
   "execution_count": 3,
   "id": "6ec48e83",
   "metadata": {},
   "outputs": [],
   "source": [
    "ios2164_orig = cobra.io.read_sbml_model(\"../model/iOS2164_rewritten.xml\")\n",
    "rnaseq = pd.read_csv('../data/KitaakeLCM_rawcounts.csv')\n",
    "#According to the  tool's author, the best way to merge is simply to generate "
   ]
  },
  {
   "cell_type": "code",
   "execution_count": 4,
   "id": "aec558bc",
   "metadata": {},
   "outputs": [],
   "source": [
    "mcell_exp = riptide.read_transcription_file(\"../data/m_abundance.csv\", sep = \",\", header = True)\n",
    "bscell_exp = riptide.read_transcription_file(\"../data/bs_abundance.csv\", sep = \",\", header = True)\n",
    "vcell_exp = riptide.read_transcription_file(\"../data/v_abundance.csv\", sep = \",\", header = True)"
   ]
  },
  {
   "cell_type": "code",
   "execution_count": 5,
   "id": "cb8f5a94",
   "metadata": {
    "scrolled": true
   },
   "outputs": [],
   "source": [
    "ios2164_bs = copy.deepcopy(ios2164_orig)\n",
    "\n",
    "for met in ios2164_bs.metabolites:\n",
    "    if met.compartment != \"e\": #Extracellular, defines boundary reactions\n",
    "        met.id = str(met.id) + '1'\n",
    "        met.compartment = str(met.compartment) + '1'\n",
    "    \n",
    "for rxn in ios2164_bs.reactions:\n",
    "    rxn.id = str(rxn.id)  + '_BS'\n",
    "    if \"EX_\" in rxn.id: #Rename media reactions\n",
    "        rxn.name = \"BS \" + str(rxn.name)\n",
    "\n",
    "\n",
    "ios2164_bs.repair()\n"
   ]
  },
  {
   "cell_type": "code",
   "execution_count": 21,
   "id": "9e6df9ff",
   "metadata": {},
   "outputs": [
    {
     "name": "stderr",
     "output_type": "stream",
     "text": [
      "/home/rtsantos3/anaconda3/lib/python3.8/site-packages/ipykernel/ipkernel.py:287: DeprecationWarning: `should_run_async` will not call `transform_cell` automatically in the future. Please pass the result to `transformed_cell` argument and any exception that happen during thetransform in `preprocessing_exc_tuple` in IPython 7.17 and above.\n",
      "  and should_run_async(code)\n"
     ]
    }
   ],
   "source": [
    "read = pd.read_csv('../misc/photo_medium.csv')\n",
    "\n",
    "#Only get M cells\n",
    "photo_medium = dict(read.values)\n",
    "\n",
    "bs_medium = dict()\n",
    "for items in photo_medium:\n",
    "    if \"_BS\" in items:\n",
    "        bs_medium[items] = photo_medium[items]\n",
    "        \n",
    "bs_copy = copy.deepcopy(bs_medium)\n",
    "bs_copy['EX_sucr_LPAREN_e_RPAREN__BS'] = 0\n",
    "\n",
    "#Try natin may sugar export\n",
    "ios2164_bs.reactions.EX_sucr_LPAREN_e_RPAREN__BS.upper_bound = 1000\n",
    "ios2164_bs.reactions.EX_glc_DASH_A_LPAREN_e_RPAREN__BS.upper_bound = 1000\n",
    "ios2164_bs.reactions.EX_fru_DASH_B_LPAREN_e_RPAREN__BS.upper_bound = 1000"
   ]
  },
  {
   "cell_type": "code",
   "execution_count": 22,
   "id": "2a047d9b",
   "metadata": {},
   "outputs": [
    {
     "name": "stdout",
     "output_type": "stream",
     "text": [
      "\n",
      "Initializing model and integrating transcriptomic data...\n",
      "Pruning zero flux subnetworks...\n",
      "Analyzing context-specific flux distributions...\n",
      "\n",
      "Reactions pruned to 472 from 2444 (80.69% change)\n",
      "Metabolites pruned to 484 from 1999 (75.79% change)\n",
      "Flux through the objective DECREASED to ~2.45 from ~3.02 (18.87% change)\n",
      "Context-specific metabolism correlates with transcriptome (r=0.105, p=0.022 *)\n",
      "\n",
      "RIPTiDe completed in 36 seconds\n",
      "\n"
     ]
    }
   ],
   "source": [
    "bs_medium = copy.copy(bs_copy)\n",
    "ios2164_bs.medium = bs_medium\n",
    "bcell_rip  = riptide.contextualize(ios2164_bs, transcriptome = bscell_exp, samples= 1000)\n",
    "\n",
    "#Apparently unconstraining the export of sucrose doesn't actually do anything."
   ]
  },
  {
   "cell_type": "code",
   "execution_count": 23,
   "id": "a845dab5",
   "metadata": {},
   "outputs": [
    {
     "name": "stdout",
     "output_type": "stream",
     "text": [
      "BS CO2 exchange (0, 0.0)\n",
      "BS H2O exchange (-1000, 1000.0)\n",
      "BS H+ exchange (-1000, 1000.0)\n",
      "BS nitrate exchange (-1000, 0.0)\n",
      "BS O2 exchange (0, 1000.0)\n",
      "BS Phosphate exchange (-1000, 1000.0)\n",
      "BS Sucrose exchange (0, 1000)\n",
      "BS Fructose exchange (0, 1000)\n",
      "BS Glucose exchange (0, 1000)\n",
      "BS Sulfate exchange (-1000, 1000.0)\n",
      "BS Bicarbonate exchange (0, 0.0)\n",
      "BS Sulfite exchange (0, 0.0)\n",
      "BS Hydrogen sulfide exchange (0, 0.0)\n",
      "BS Ammonia exchange (0, 0.0)\n",
      "BS L-Asparagine exchange (0, 1000.0)\n",
      "BS L-Glutamine exchange (0, 1000.0)\n",
      "BS Ethanol exchange (0, 1000.0)\n",
      "BS Acetate exchange (0, 1000.0)\n",
      "BS L-Lactate exchange (0, 1000.0)\n",
      "BS Thiosulfate exchange (0, 0.0)\n",
      "BS Fe2+ exchange (-1000, 1000.0)\n",
      "BS Fe3+ exchange (0, 0.0)\n",
      "BS Magnesium exchange (-1000, 1000.0)\n",
      "BS L-Alanine exchange (0, 1000.0)\n",
      "BS L-Arginine exchange (0, 1000.0)\n",
      "BS L-Aspartate exchange (0, 1000.0)\n",
      "BS L-Cysteine exchange (0, 1000.0)\n",
      "BS L-Glutamate exchange (0, 1000.0)\n",
      "BS Glycine exchange (0, 1000.0)\n",
      "BS L-Histidine exchange (0, 1000.0)\n",
      "BS L-Isoleucine exchange (0, 1000.0)\n",
      "BS L-Leucine exchange (0, 1000.0)\n",
      "BS L-Lysine exchange (0, 1000.0)\n",
      "BS L-Methionine exchange (0, 1000.0)\n",
      "BS L-Phenylalanine exchange (0, 1000.0)\n",
      "BS L-Proline exchange (0, 1000.0)\n",
      "BS L-Serine exchange (0, 1000.0)\n",
      "BS L-Threonine exchange (0, 1000.0)\n",
      "BS L-Tryptophan exchange (0, 1000.0)\n",
      "BS L-Tyrosine exchange (0, 1000.0)\n",
      "BS L-Valine exchange (0, 1000.0)\n",
      "BS photon emission (-1000, 0.0)\n"
     ]
    },
    {
     "name": "stderr",
     "output_type": "stream",
     "text": [
      "/home/rtsantos3/anaconda3/lib/python3.8/site-packages/ipykernel/ipkernel.py:287: DeprecationWarning: `should_run_async` will not call `transform_cell` automatically in the future. Please pass the result to `transformed_cell` argument and any exception that happen during thetransform in `preprocessing_exc_tuple` in IPython 7.17 and above.\n",
      "  and should_run_async(code)\n"
     ]
    }
   ],
   "source": [
    "for rxns in ios2164_bs.exchanges:\n",
    "    print(rxns.name, rxns.bounds)"
   ]
  },
  {
   "cell_type": "code",
   "execution_count": 24,
   "id": "6f62a32e",
   "metadata": {},
   "outputs": [
    {
     "name": "stdout",
     "output_type": "stream",
     "text": [
      "\n",
      "Initializing model and integrating transcriptomic data...\n",
      "Pruning zero flux subnetworks...\n",
      "Analyzing context-specific flux distributions...\n",
      "\n",
      "Reactions pruned to 445 from 2444 (81.79% change)\n",
      "Metabolites pruned to 476 from 1999 (76.19% change)\n",
      "Flux through the objective DECREASED to ~3.41 from ~4.24 (19.58% change)\n",
      "Context-specific metabolism correlates with transcriptome (r=0.217, p<0.001 *)\n",
      "\n",
      "RIPTiDe completed in 35 seconds\n",
      "\n"
     ]
    }
   ],
   "source": [
    "#What if I unconstrained CO2 flux thru the BS cell? Would the context specific cells be okay?\n",
    "bs_medium = copy.copy(bs_copy)\n",
    "\n",
    "bs_medium['EX_co2_LPAREN_e_RPAREN__BS'] = 1000\n",
    "ios2164_bs.medium = bs_medium\n",
    "\n",
    "bcell_rip  = riptide.contextualize(ios2164_bs, transcriptome = bscell_exp, samples= 1000)"
   ]
  },
  {
   "cell_type": "code",
   "execution_count": 15,
   "id": "859115b9",
   "metadata": {
    "scrolled": true
   },
   "outputs": [
    {
     "data": {
      "text/plain": [
       "{'EX_co2_LPAREN_e_RPAREN__BS': 1000,\n",
       " 'EX_h2o_LPAREN_e_RPAREN__BS': 1000,\n",
       " 'EX_h_LPAREN_e_RPAREN__BS': 1000,\n",
       " 'EX_no3_LPAREN_e_RPAREN__BS': 1000,\n",
       " 'EX_pi_LPAREN_e_RPAREN__BS': 1000,\n",
       " 'EX_so4_LPAREN_e_RPAREN__BS': 1000,\n",
       " 'EX_fe2_LPAREN_e_RPAREN__BS': 1000,\n",
       " 'EX_mg2_LPAREN_e_RPAREN__BS': 1000,\n",
       " 'EX_photonVis_LPAREN_e_RPAREN__BS': 1000}"
      ]
     },
     "execution_count": 15,
     "metadata": {},
     "output_type": "execute_result"
    }
   ],
   "source": [
    "ios2164_bs.medium"
   ]
  },
  {
   "cell_type": "code",
   "execution_count": 17,
   "id": "c15e44d4",
   "metadata": {},
   "outputs": [
    {
     "name": "stdout",
     "output_type": "stream",
     "text": [
      "BS CO2 exchange (-1000, 0.0)\n",
      "BS H2O exchange (-1000, 1000.0)\n",
      "BS H+ exchange (-1000, 1000.0)\n",
      "BS nitrate exchange (-1000, 0.0)\n",
      "BS O2 exchange (0, 1000.0)\n",
      "BS Phosphate exchange (-1000, 1000.0)\n",
      "BS Sucrose exchange (0, 0.0)\n",
      "BS Fructose exchange (0, 0.0)\n",
      "BS Glucose exchange (0, 0.0)\n",
      "BS Sulfate exchange (-1000, 1000.0)\n",
      "BS Bicarbonate exchange (0, 0.0)\n",
      "BS Sulfite exchange (0, 0.0)\n",
      "BS Hydrogen sulfide exchange (0, 0.0)\n",
      "BS Ammonia exchange (0, 0.0)\n",
      "BS L-Asparagine exchange (0, 1000.0)\n",
      "BS L-Glutamine exchange (0, 1000.0)\n",
      "BS Ethanol exchange (0, 1000.0)\n",
      "BS Acetate exchange (0, 1000.0)\n",
      "BS L-Lactate exchange (0, 1000.0)\n",
      "BS Thiosulfate exchange (0, 0.0)\n",
      "BS Fe2+ exchange (-1000, 1000.0)\n",
      "BS Fe3+ exchange (0, 0.0)\n",
      "BS Magnesium exchange (-1000, 1000.0)\n",
      "BS L-Alanine exchange (0, 1000.0)\n",
      "BS L-Arginine exchange (0, 1000.0)\n",
      "BS L-Aspartate exchange (0, 1000.0)\n",
      "BS L-Cysteine exchange (0, 1000.0)\n",
      "BS L-Glutamate exchange (0, 1000.0)\n",
      "BS Glycine exchange (0, 1000.0)\n",
      "BS L-Histidine exchange (0, 1000.0)\n",
      "BS L-Isoleucine exchange (0, 1000.0)\n",
      "BS L-Leucine exchange (0, 1000.0)\n",
      "BS L-Lysine exchange (0, 1000.0)\n",
      "BS L-Methionine exchange (0, 1000.0)\n",
      "BS L-Phenylalanine exchange (0, 1000.0)\n",
      "BS L-Proline exchange (0, 1000.0)\n",
      "BS L-Serine exchange (0, 1000.0)\n",
      "BS L-Threonine exchange (0, 1000.0)\n",
      "BS L-Tryptophan exchange (0, 1000.0)\n",
      "BS L-Tyrosine exchange (0, 1000.0)\n",
      "BS L-Valine exchange (0, 1000.0)\n",
      "BS photon emission (-1000, 0.0)\n"
     ]
    }
   ],
   "source": [
    "for item in ios2164_bs.exchanges:\n",
    "    print(item.name, item.bounds)"
   ]
  },
  {
   "cell_type": "code",
   "execution_count": 30,
   "id": "b59ef27f",
   "metadata": {},
   "outputs": [
    {
     "name": "stdout",
     "output_type": "stream",
     "text": [
      "\n",
      "Initializing model and integrating transcriptomic data...\n",
      "Pruning zero flux subnetworks...\n",
      "Analyzing context-specific flux distributions...\n",
      "\n",
      "Reactions pruned to 434 from 2444 (82.24% change)\n",
      "Metabolites pruned to 461 from 1999 (76.94% change)\n",
      "Flux through the objective DECREASED to ~30.88 from ~36.06 (14.36% change)\n",
      "Context-specific metabolism correlates with transcriptome (r=0.104, p=0.031 *)\n",
      "\n",
      "RIPTiDe completed in 41 seconds\n",
      "\n"
     ]
    }
   ],
   "source": [
    "#With Sucrose import, apparently it lowers the correlation value as the cell can obtain\n",
    "#Nutrients \n",
    "bs_medium = copy.copy(bs_copy)\n",
    "\n",
    "bs_medium['EX_sucr_LPAREN_e_RPAREN__BS'] = 1000\n",
    "bs_medium['EX_co2_LPAREN_e_RPAREN__BS'] = 1000\n",
    "ios2164_bs.medium = bs_medium\n",
    "\n",
    "bcell_rip  = riptide.contextualize(ios2164_bs, transcriptome = bscell_exp, samples= 1000)"
   ]
  },
  {
   "cell_type": "code",
   "execution_count": 31,
   "id": "b085b668",
   "metadata": {},
   "outputs": [
    {
     "name": "stderr",
     "output_type": "stream",
     "text": [
      "/home/rtsantos3/anaconda3/lib/python3.8/site-packages/ipykernel/ipkernel.py:287: DeprecationWarning: `should_run_async` will not call `transform_cell` automatically in the future. Please pass the result to `transformed_cell` argument and any exception that happen during thetransform in `preprocessing_exc_tuple` in IPython 7.17 and above.\n",
      "  and should_run_async(code)\n"
     ]
    },
    {
     "data": {
      "text/plain": [
       "{'EX_co2_LPAREN_e_RPAREN__BS': 1000,\n",
       " 'EX_h2o_LPAREN_e_RPAREN__BS': 1000,\n",
       " 'EX_h_LPAREN_e_RPAREN__BS': 1000,\n",
       " 'EX_no3_LPAREN_e_RPAREN__BS': 1000,\n",
       " 'EX_pi_LPAREN_e_RPAREN__BS': 1000,\n",
       " 'EX_sucr_LPAREN_e_RPAREN__BS': 1000,\n",
       " 'EX_so4_LPAREN_e_RPAREN__BS': 1000,\n",
       " 'EX_fe2_LPAREN_e_RPAREN__BS': 1000,\n",
       " 'EX_mg2_LPAREN_e_RPAREN__BS': 1000,\n",
       " 'EX_photonVis_LPAREN_e_RPAREN__BS': 1000}"
      ]
     },
     "execution_count": 31,
     "metadata": {},
     "output_type": "execute_result"
    }
   ],
   "source": [
    "ios2164_bs.medium"
   ]
  },
  {
   "cell_type": "code",
   "execution_count": 25,
   "id": "8e568e9b",
   "metadata": {},
   "outputs": [
    {
     "name": "stderr",
     "output_type": "stream",
     "text": [
      "/home/rtsantos3/anaconda3/lib/python3.8/site-packages/ipykernel/ipkernel.py:287: DeprecationWarning: `should_run_async` will not call `transform_cell` automatically in the future. Please pass the result to `transformed_cell` argument and any exception that happen during thetransform in `preprocessing_exc_tuple` in IPython 7.17 and above.\n",
      "  and should_run_async(code)\n"
     ]
    },
    {
     "name": "stdout",
     "output_type": "stream",
     "text": [
      "\n",
      "Initializing model and integrating transcriptomic data...\n",
      "Pruning zero flux subnetworks...\n",
      "Analyzing context-specific flux distributions...\n",
      "\n",
      "Reactions pruned to 461 from 2444 (81.14% change)\n",
      "Metabolites pruned to 477 from 1999 (76.14% change)\n",
      "Flux through the objective DECREASED to ~7.47 from ~9.25 (19.24% change)\n",
      "Context-specific metabolism correlates with transcriptome (r=0.218, p<0.001 *)\n",
      "\n",
      "RIPTiDe completed in 40 seconds\n",
      "\n"
     ]
    }
   ],
   "source": [
    "#Gas exchange is allowed, but photoautotrophic conditions -- no sucrose import or anything\n",
    "\n",
    "bs_medium = copy.copy(bs_copy)\n",
    "\n",
    "bs_medium['EX_o2_LPAREN_e_RPAREN__BS'] = 1000\n",
    "bs_medium['EX_co2_LPAREN_e_RPAREN__BS'] = 1000\n",
    "ios2164_bs.medium = bs_medium\n",
    "\n",
    "bcell_rip  = riptide.contextualize(ios2164_bs, transcriptome = bscell_exp, samples= 1000)"
   ]
  },
  {
   "cell_type": "code",
   "execution_count": 33,
   "id": "ef5b5cc9",
   "metadata": {},
   "outputs": [
    {
     "name": "stderr",
     "output_type": "stream",
     "text": [
      "/home/rtsantos3/anaconda3/lib/python3.8/site-packages/ipykernel/ipkernel.py:287: DeprecationWarning: `should_run_async` will not call `transform_cell` automatically in the future. Please pass the result to `transformed_cell` argument and any exception that happen during thetransform in `preprocessing_exc_tuple` in IPython 7.17 and above.\n",
      "  and should_run_async(code)\n"
     ]
    },
    {
     "data": {
      "text/plain": [
       "{'EX_co2_LPAREN_e_RPAREN__BS': 1000,\n",
       " 'EX_h2o_LPAREN_e_RPAREN__BS': 1000,\n",
       " 'EX_h_LPAREN_e_RPAREN__BS': 1000,\n",
       " 'EX_no3_LPAREN_e_RPAREN__BS': 1000,\n",
       " 'EX_o2_LPAREN_e_RPAREN__BS': 1000,\n",
       " 'EX_pi_LPAREN_e_RPAREN__BS': 1000,\n",
       " 'EX_so4_LPAREN_e_RPAREN__BS': 1000,\n",
       " 'EX_fe2_LPAREN_e_RPAREN__BS': 1000,\n",
       " 'EX_mg2_LPAREN_e_RPAREN__BS': 1000,\n",
       " 'EX_photonVis_LPAREN_e_RPAREN__BS': 1000}"
      ]
     },
     "execution_count": 33,
     "metadata": {},
     "output_type": "execute_result"
    }
   ],
   "source": [
    "ios2164_bs.medium"
   ]
  },
  {
   "cell_type": "code",
   "execution_count": 26,
   "id": "5a494deb",
   "metadata": {},
   "outputs": [
    {
     "name": "stderr",
     "output_type": "stream",
     "text": [
      "/home/rtsantos3/anaconda3/lib/python3.8/site-packages/ipykernel/ipkernel.py:287: DeprecationWarning: `should_run_async` will not call `transform_cell` automatically in the future. Please pass the result to `transformed_cell` argument and any exception that happen during thetransform in `preprocessing_exc_tuple` in IPython 7.17 and above.\n",
      "  and should_run_async(code)\n"
     ]
    },
    {
     "name": "stdout",
     "output_type": "stream",
     "text": [
      "\n",
      "Initializing model and integrating transcriptomic data...\n",
      "Pruning zero flux subnetworks...\n",
      "Analyzing context-specific flux distributions...\n",
      "\n",
      "Reactions pruned to 458 from 2444 (81.26% change)\n",
      "Metabolites pruned to 475 from 1999 (76.24% change)\n",
      "Flux through the objective DECREASED to ~8.67 from ~9.28 (6.57% change)\n",
      "Context-specific metabolism correlates with transcriptome (r=0.226, p<0.001 *)\n",
      "\n",
      "RIPTiDe completed in 41 seconds\n",
      "\n"
     ]
    }
   ],
   "source": [
    "#Try adding some ammonia into the medium\n",
    "\n",
    "bs_medium = copy.copy(bs_copy)\n",
    "\n",
    "bs_medium['EX_o2_LPAREN_e_RPAREN__BS'] = 1000\n",
    "bs_medium['EX_co2_LPAREN_e_RPAREN__BS'] = 1000\n",
    "bs_medium['EX_nh4_LPAREN_e_RPAREN__BS'] = 1000\n",
    "ios2164_bs.medium = bs_medium\n",
    "\n",
    "bcell_rip  = riptide.contextualize(ios2164_bs, transcriptome = bscell_exp, samples= 1000)"
   ]
  },
  {
   "cell_type": "code",
   "execution_count": 35,
   "id": "f0357ce2",
   "metadata": {},
   "outputs": [
    {
     "name": "stderr",
     "output_type": "stream",
     "text": [
      "/home/rtsantos3/anaconda3/lib/python3.8/site-packages/ipykernel/ipkernel.py:287: DeprecationWarning: `should_run_async` will not call `transform_cell` automatically in the future. Please pass the result to `transformed_cell` argument and any exception that happen during thetransform in `preprocessing_exc_tuple` in IPython 7.17 and above.\n",
      "  and should_run_async(code)\n"
     ]
    },
    {
     "data": {
      "text/plain": [
       "{'EX_co2_LPAREN_e_RPAREN__BS': 1000,\n",
       " 'EX_h2o_LPAREN_e_RPAREN__BS': 1000,\n",
       " 'EX_h_LPAREN_e_RPAREN__BS': 1000,\n",
       " 'EX_no3_LPAREN_e_RPAREN__BS': 1000,\n",
       " 'EX_o2_LPAREN_e_RPAREN__BS': 1000,\n",
       " 'EX_pi_LPAREN_e_RPAREN__BS': 1000,\n",
       " 'EX_so4_LPAREN_e_RPAREN__BS': 1000,\n",
       " 'EX_nh4_LPAREN_e_RPAREN__BS': 1000,\n",
       " 'EX_fe2_LPAREN_e_RPAREN__BS': 1000,\n",
       " 'EX_mg2_LPAREN_e_RPAREN__BS': 1000,\n",
       " 'EX_photonVis_LPAREN_e_RPAREN__BS': 1000}"
      ]
     },
     "execution_count": 35,
     "metadata": {},
     "output_type": "execute_result"
    }
   ],
   "source": [
    "ios2164_bs.medium"
   ]
  },
  {
   "cell_type": "code",
   "execution_count": 27,
   "id": "34b4babb",
   "metadata": {},
   "outputs": [
    {
     "name": "stdout",
     "output_type": "stream",
     "text": [
      "\n",
      "Initializing model and integrating transcriptomic data...\n"
     ]
    },
    {
     "name": "stderr",
     "output_type": "stream",
     "text": [
      "/home/rtsantos3/anaconda3/lib/python3.8/site-packages/ipykernel/ipkernel.py:287: DeprecationWarning: `should_run_async` will not call `transform_cell` automatically in the future. Please pass the result to `transformed_cell` argument and any exception that happen during thetransform in `preprocessing_exc_tuple` in IPython 7.17 and above.\n",
      "  and should_run_async(code)\n"
     ]
    },
    {
     "name": "stdout",
     "output_type": "stream",
     "text": [
      "Pruning zero flux subnetworks...\n",
      "Analyzing context-specific flux distributions...\n",
      "\n",
      "Reactions pruned to 450 from 2444 (81.59% change)\n",
      "Metabolites pruned to 470 from 1999 (76.49% change)\n",
      "Flux through the objective DECREASED to ~9.07 from ~11.0 (17.55% change)\n",
      "Context-specific metabolism correlates with transcriptome (r=0.123, p=0.009 *)\n",
      "\n",
      "RIPTiDe completed in 39 seconds\n",
      "\n"
     ]
    }
   ],
   "source": [
    "#With a single AA, test lang haha\n",
    "bs_medium = copy.copy(bs_copy)\n",
    "\n",
    "bs_medium['EX_o2_LPAREN_e_RPAREN__BS'] = 1000\n",
    "bs_medium['EX_co2_LPAREN_e_RPAREN__BS'] = 1000\n",
    "bs_medium['EX_nh4_LPAREN_e_RPAREN__BS'] = 1000\n",
    "bs_medium['EX_ala_DASH_L_LPAREN_e_RPAREN__BS'] = 1000\n",
    "ios2164_bs.medium = bs_medium\n",
    "\n",
    "bcell_rip  = riptide.contextualize(ios2164_bs, transcriptome = bscell_exp, samples= 1000)"
   ]
  },
  {
   "cell_type": "code",
   "execution_count": 28,
   "id": "ebf7a332",
   "metadata": {},
   "outputs": [
    {
     "name": "stdout",
     "output_type": "stream",
     "text": [
      "\n",
      "Initializing model and integrating transcriptomic data...\n"
     ]
    },
    {
     "name": "stderr",
     "output_type": "stream",
     "text": [
      "/home/rtsantos3/anaconda3/lib/python3.8/site-packages/ipykernel/ipkernel.py:287: DeprecationWarning: `should_run_async` will not call `transform_cell` automatically in the future. Please pass the result to `transformed_cell` argument and any exception that happen during thetransform in `preprocessing_exc_tuple` in IPython 7.17 and above.\n",
      "  and should_run_async(code)\n"
     ]
    },
    {
     "name": "stdout",
     "output_type": "stream",
     "text": [
      "Pruning zero flux subnetworks...\n",
      "Analyzing context-specific flux distributions...\n",
      "\n",
      "Reactions pruned to 445 from 2444 (81.79% change)\n",
      "Metabolites pruned to 464 from 1999 (76.79% change)\n",
      "Flux through the objective DECREASED to ~8.19 from ~11.0 (25.55% change)\n",
      "Context-specific metabolism correlates with transcriptome (r=0.154, p=0.001 *)\n",
      "\n",
      "RIPTiDe completed in 40 seconds\n",
      "\n"
     ]
    }
   ],
   "source": [
    "#How about with AAs instead?\n",
    "bs_medium = copy.copy(bs_copy)\n",
    "\n",
    "bs_medium['EX_o2_LPAREN_e_RPAREN__BS'] = 1000\n",
    "bs_medium['EX_co2_LPAREN_e_RPAREN__BS'] = 1000\n",
    "bs_medium['EX_nh4_LPAREN_e_RPAREN__BS'] = 1000\n",
    "bs_medium['EX_ala_DASH_L_LPAREN_e_RPAREN__BS'] = 1000\n",
    "bs_medium['EX_arg_DASH_L_LPAREN_e_RPAREN__BS'] = 1000\n",
    "ios2164_bs.medium = bs_medium\n",
    "\n",
    "bcell_rip  = riptide.contextualize(ios2164_bs, transcriptome = bscell_exp, samples= 1000)"
   ]
  },
  {
   "cell_type": "code",
   "execution_count": 29,
   "id": "8a933ab7",
   "metadata": {
    "scrolled": true
   },
   "outputs": [
    {
     "name": "stdout",
     "output_type": "stream",
     "text": [
      "\n",
      "Initializing model and integrating transcriptomic data...\n"
     ]
    },
    {
     "name": "stderr",
     "output_type": "stream",
     "text": [
      "/home/rtsantos3/anaconda3/lib/python3.8/site-packages/ipykernel/ipkernel.py:287: DeprecationWarning: `should_run_async` will not call `transform_cell` automatically in the future. Please pass the result to `transformed_cell` argument and any exception that happen during thetransform in `preprocessing_exc_tuple` in IPython 7.17 and above.\n",
      "  and should_run_async(code)\n"
     ]
    },
    {
     "name": "stdout",
     "output_type": "stream",
     "text": [
      "Pruning zero flux subnetworks...\n",
      "Analyzing context-specific flux distributions...\n",
      "\n",
      "Reactions pruned to 461 from 2444 (81.14% change)\n",
      "Metabolites pruned to 478 from 1999 (76.09% change)\n",
      "Flux through the objective DECREASED to ~7.72 from ~9.25 (16.54% change)\n",
      "Context-specific metabolism correlates with transcriptome (r=0.218, p<0.001 *)\n",
      "\n",
      "RIPTiDe completed in 41 seconds\n",
      "\n"
     ]
    }
   ],
   "source": [
    "#How about with FE3 import?\n",
    "bs_medium = copy.copy(bs_copy)\n",
    "\n",
    "bs_medium['EX_o2_LPAREN_e_RPAREN__BS'] = 1000\n",
    "bs_medium['EX_co2_LPAREN_e_RPAREN__BS'] = 1000\n",
    "bs_medium['EX_fe3_LPAREN_e_RPAREN__BS'] = 1000\n",
    "\n",
    "ios2164_bs.medium = bs_medium\n",
    "\n",
    "bcell_rip  = riptide.contextualize(ios2164_bs, transcriptome = bscell_exp, samples= 1000)"
   ]
  },
  {
   "cell_type": "code",
   "execution_count": 30,
   "id": "b48c216f",
   "metadata": {},
   "outputs": [
    {
     "name": "stdout",
     "output_type": "stream",
     "text": [
      "\n",
      "Initializing model and integrating transcriptomic data...\n"
     ]
    },
    {
     "name": "stderr",
     "output_type": "stream",
     "text": [
      "/home/rtsantos3/anaconda3/lib/python3.8/site-packages/ipykernel/ipkernel.py:287: DeprecationWarning: `should_run_async` will not call `transform_cell` automatically in the future. Please pass the result to `transformed_cell` argument and any exception that happen during thetransform in `preprocessing_exc_tuple` in IPython 7.17 and above.\n",
      "  and should_run_async(code)\n"
     ]
    },
    {
     "name": "stdout",
     "output_type": "stream",
     "text": [
      "Pruning zero flux subnetworks...\n",
      "Analyzing context-specific flux distributions...\n",
      "\n",
      "Reactions pruned to 457 from 2444 (81.3% change)\n",
      "Metabolites pruned to 475 from 1999 (76.24% change)\n",
      "Flux through the objective DECREASED to ~9.19 from ~9.28 (0.97% change)\n",
      "Context-specific metabolism correlates with transcriptome (r=0.227, p<0.001 *)\n",
      "\n",
      "RIPTiDe completed in 42 seconds\n",
      "\n"
     ]
    }
   ],
   "source": [
    "#How about with FE3 import?\n",
    "bs_medium = copy.copy(bs_copy)\n",
    "\n",
    "bs_medium['EX_o2_LPAREN_e_RPAREN__BS'] = 1000\n",
    "bs_medium['EX_co2_LPAREN_e_RPAREN__BS'] = 1000\n",
    "bs_medium['EX_fe3_LPAREN_e_RPAREN__BS'] = 1000\n",
    "bs_medium['EX_nh4_LPAREN_e_RPAREN__BS'] = 1000\n",
    "\n",
    "\n",
    "ios2164_bs.medium = bs_medium\n",
    "\n",
    "bcell_rip  = riptide.contextualize(ios2164_bs, transcriptome = bscell_exp, samples= 1000)"
   ]
  },
  {
   "cell_type": "code",
   "execution_count": 32,
   "id": "2d5c2c2b",
   "metadata": {},
   "outputs": [
    {
     "name": "stderr",
     "output_type": "stream",
     "text": [
      "/home/rtsantos3/anaconda3/lib/python3.8/site-packages/ipykernel/ipkernel.py:287: DeprecationWarning: `should_run_async` will not call `transform_cell` automatically in the future. Please pass the result to `transformed_cell` argument and any exception that happen during thetransform in `preprocessing_exc_tuple` in IPython 7.17 and above.\n",
      "  and should_run_async(code)\n"
     ]
    },
    {
     "data": {
      "text/plain": [
       "{'EX_co2_LPAREN_e_RPAREN__BS': 1000,\n",
       " 'EX_h2o_LPAREN_e_RPAREN__BS': 1000,\n",
       " 'EX_h_LPAREN_e_RPAREN__BS': 1000,\n",
       " 'EX_no3_LPAREN_e_RPAREN__BS': 1000,\n",
       " 'EX_o2_LPAREN_e_RPAREN__BS': 1000,\n",
       " 'EX_pi_LPAREN_e_RPAREN__BS': 1000,\n",
       " 'EX_so4_LPAREN_e_RPAREN__BS': 1000,\n",
       " 'EX_nh4_LPAREN_e_RPAREN__BS': 1000,\n",
       " 'EX_fe2_LPAREN_e_RPAREN__BS': 1000,\n",
       " 'EX_mg2_LPAREN_e_RPAREN__BS': 1000,\n",
       " 'EX_photonVis_LPAREN_e_RPAREN__BS': 1000}"
      ]
     },
     "execution_count": 32,
     "metadata": {},
     "output_type": "execute_result"
    }
   ],
   "source": [
    "ios2164_bs.medium"
   ]
  },
  {
   "cell_type": "code",
   "execution_count": 34,
   "id": "f4e7cf96",
   "metadata": {},
   "outputs": [
    {
     "name": "stdout",
     "output_type": "stream",
     "text": [
      "BS CO2 exchange (-117.62971448203314, 0.0)\n",
      "BS H2O exchange (465.81919906090104, 1000.0)\n",
      "BS H+ exchange (-878.5957681926998, -351.80183108839367)\n",
      "BS O2 exchange (-540.5758412818209, -260.74599101929937)\n",
      "BS Phosphate exchange (-1.8973466062176385, -1.5178772849858433)\n",
      "BS Sulfate exchange (-0.10021698660978018, -0.08017358928805152)\n",
      "BS Ammonia exchange (-5.8933104658018465, -4.714648372663532)\n",
      "BS photon emission (-1000.0, -269.24075180839014)\n"
     ]
    }
   ],
   "source": [
    "for item in bcell_rip.model.exchanges:\n",
    "    print(item.name, item.bounds)"
   ]
  },
  {
   "cell_type": "markdown",
   "id": "e260b19f",
   "metadata": {},
   "source": [
    "Benchmarking results for BS Cells:\n",
    "\n",
    "Unconstrained CO2 Flux thru BS: r=0.114, p<0.013 (Less significant)\n",
    "constrained CO2 Flux thru the BS cells: r=0.192 , p<0.001 (Highly significant)\n",
    "If I add Sucrose to the medium: r=0.096; p=0.045 (Low significance)\n",
    "No sucrose, only O2 and CO2: r=0.205, p<0.001 (High significance)\n",
    "With NH4, Gas exchange: r=0.245, p<0.001\n",
    "With Gas exchange + a single AA: r=0.134, p=0.005\n",
    "With Gas exchange + alanine + arg: r=0.148, p=0.\n",
    "With NH4, Gas exchange +  Fe3 import: r=0.0555, n.s.\n",
    "low light conditions (500 ppfd) + Gas + NH4 = r=0.094 p=0.045 \n",
    "\n",
    "\n",
    "Notes:\n",
    "Setting up monosaccharide export didn't do much in terms of correlation results.\n",
    "Okay, select the medium with NH4 + Gas exchange instead for max correlation////"
   ]
  }
 ],
 "metadata": {
  "kernelspec": {
   "display_name": "Python 3",
   "language": "python",
   "name": "python3"
  },
  "language_info": {
   "codemirror_mode": {
    "name": "ipython",
    "version": 3
   },
   "file_extension": ".py",
   "mimetype": "text/x-python",
   "name": "python",
   "nbconvert_exporter": "python",
   "pygments_lexer": "ipython3",
   "version": "3.8.8"
  },
  "varInspector": {
   "cols": {
    "lenName": 16,
    "lenType": 16,
    "lenVar": 40
   },
   "kernels_config": {
    "python": {
     "delete_cmd_postfix": "",
     "delete_cmd_prefix": "del ",
     "library": "var_list.py",
     "varRefreshCmd": "print(var_dic_list())"
    },
    "r": {
     "delete_cmd_postfix": ") ",
     "delete_cmd_prefix": "rm(",
     "library": "var_list.r",
     "varRefreshCmd": "cat(var_dic_list()) "
    }
   },
   "types_to_exclude": [
    "module",
    "function",
    "builtin_function_or_method",
    "instance",
    "_Feature"
   ],
   "window_display": false
  }
 },
 "nbformat": 4,
 "nbformat_minor": 5
}
