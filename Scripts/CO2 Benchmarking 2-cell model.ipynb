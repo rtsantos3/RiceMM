{
 "cells": [
  {
   "cell_type": "code",
   "execution_count": 1,
   "id": "03a656bb",
   "metadata": {
    "ExecuteTime": {
     "end_time": "2022-02-10T20:50:09.267116Z",
     "start_time": "2022-02-10T20:50:08.535068Z"
    }
   },
   "outputs": [],
   "source": [
    "import sys\n",
    "sys.path.append(\"../src/\") \n",
    "import os\n",
    "\n",
    "import model_manipulation as mm\n",
    "import cobra\n",
    "import cplex\n",
    "import libsbml\n",
    "import pandas as pd\n",
    "import copy\n"
   ]
  },
  {
   "cell_type": "code",
   "execution_count": 3,
   "id": "8def8923",
   "metadata": {
    "ExecuteTime": {
     "end_time": "2022-02-10T20:50:17.835390Z",
     "start_time": "2022-02-10T20:50:13.991592Z"
    }
   },
   "outputs": [],
   "source": [
    "#Read 2-cell model\n",
    "model = cobra.io.read_sbml_model(\"../model/ios2164_2cell.xml\")\n",
    "#Estimate inf\n",
    "inf = 1e6\n"
   ]
  },
  {
   "cell_type": "code",
   "execution_count": 4,
   "id": "c6481857",
   "metadata": {
    "ExecuteTime": {
     "end_time": "2022-02-10T20:50:18.993237Z",
     "start_time": "2022-02-10T20:50:17.848761Z"
    }
   },
   "outputs": [],
   "source": [
    "#Solver\n",
    "model.solver = 'cplex'"
   ]
  },
  {
   "cell_type": "code",
   "execution_count": 5,
   "id": "19cbcb9d",
   "metadata": {
    "ExecuteTime": {
     "end_time": "2022-02-10T20:50:19.141139Z",
     "start_time": "2022-02-10T20:50:19.004936Z"
    },
    "scrolled": true
   },
   "outputs": [
    {
     "data": {
      "text/plain": [
       "{'EX_co2(e)': 1000000,\n",
       " 'EX_h2o(e)': 1000000,\n",
       " 'EX_no3(e)': 1000000,\n",
       " 'EX_o2(e)': 1000000,\n",
       " 'EX_pi(e)': 1000000,\n",
       " 'EX_so4(e)': 1000000,\n",
       " 'EX_so3(e)': 1000000,\n",
       " 'EX_h2s(e)': 1000000,\n",
       " 'EX_nh4(e)': 1000000,\n",
       " 'EX_fe2(e)': 1000000,\n",
       " 'EX_fe3(e)': 1000000,\n",
       " 'EX_mg2(e)': 1000000,\n",
       " 'EX_photonVis(e)': 1000000}"
      ]
     },
     "execution_count": 5,
     "metadata": {},
     "output_type": "execute_result"
    }
   ],
   "source": [
    "#Initialize medium so as to induce Photoautotrophic conditions (i.e. no Sucrose import)\n",
    "mm.read_medium_csv('../misc/photo_medium.csv', model)\n",
    "\n",
    "#Test natin kung magwowork sa est. infinite\n",
    "#Yes setting bounds to 1000 works\n",
    "model_media = model.medium\n",
    "model.medium"
   ]
  },
  {
   "cell_type": "code",
   "execution_count": 6,
   "id": "8aa4ff5e",
   "metadata": {
    "ExecuteTime": {
     "end_time": "2022-02-10T20:50:19.159416Z",
     "start_time": "2022-02-10T20:50:19.154171Z"
    }
   },
   "outputs": [],
   "source": [
    "# #Add constraints to model\n",
    "\n",
    "# #BS photon flux must be the same/less than M flux (Adapted from B&B, 2019)\n",
    "# photon_import = model.reactions.get_by_id(\"EX_photonVis(e)\")\n",
    "\n",
    "BS_photon_import = model.reactions.PRISM_blue_LED_BS\n",
    "M_photon_import = model.reactions.PRISM_blue_LED_M\n",
    "\n",
    "photon_flux = model.problem.Constraint(M_photon_import.flux_expression \n",
    "                                       - BS_photon_import.flux_expression,\n",
    "                                       lb = 0, ub = 1000)\n",
    "model.add_cons_vars(photon_flux)\n",
    "\n",
    "\n",
    "co2tex_m = model.reactions.CO2tex_M\n",
    "co2tex_bs = model.reactions.CO2tex_BS\n",
    "\n",
    "#CO2 Uptake must be constrained to A (Net assimilation rate) which is around 29 +- 1.2 umol CO2 m-2 s-1 for wild type rice\n",
    "co2_import_cons = model.problem.Constraint(co2tex_m.flux_expression \n",
    "                                           + co2tex_bs.flux_expression, lb = 0, ub = 29)\n",
    "model.add_cons_vars(co2_import_cons)\n",
    "\n",
    "#CO2 BS intake must be limited owing to its position in the leaf tissue\n",
    "\n",
    "model.add_cons_vars(model.problem.Constraint(co2tex_bs.flux_expression, lb = 0, ub = 1))\n",
    "# #Note: CO2 uptake is not restricted in BS cells but will be constrained to be  equal/less than M cell\n",
    "\n",
    "# co2_flux_cons = model.problem.Constraint(BS_co2_import.flux_expression - M_co2_import.flux_expression, lb = 0, ub = inf)\n",
    "# model.add_cons_vars(co2_flux_cons)\n",
    "\n",
    "# #Oks na\n",
    "\n",
    "# #CO2 intake needs to be mostly in the M cells. Not sure of the exact value:\n",
    "# Values from Von Caemmerer (2000) in mixed C3-C4 photosynthetic plants is 1 umol CO2 m-2 s-1 per 20 CO2 m-2 s-1. \n",
    "# #try checking Danila et al. (2016) on ratio of surface area of M cell to BS cell\n",
    "# #I'll assume that the ratio is at 9.5:0.5 in the meantime, meaning that there is minimal gas exchange into the BS cell\n",
    "#co2_ratio_cons = mm.set_fix_flux_ratio({co2tex_m.id:10, co2tex_bs.id:1},model)\n",
    "\n",
    "\n",
    "# #Automatic na palang nalalagay siya as constraint\n",
    "\n",
    "# #First is the BS and M Cell constraints"
   ]
  },
  {
   "cell_type": "code",
   "execution_count": null,
   "id": "3e0e5cab",
   "metadata": {
    "ExecuteTime": {
     "end_time": "2022-02-10T20:49:23.063694Z",
     "start_time": "2022-02-10T20:49:23.061933Z"
    }
   },
   "outputs": [],
   "source": [
    "#model.remove_cons_vars(co2_ratio_cons)"
   ]
  },
  {
   "cell_type": "code",
   "execution_count": null,
   "id": "0ae74e35",
   "metadata": {
    "ExecuteTime": {
     "end_time": "2022-02-10T20:49:23.265544Z",
     "start_time": "2022-02-10T20:49:23.263586Z"
    }
   },
   "outputs": [],
   "source": [
    "# print(co2_flux_cons)"
   ]
  },
  {
   "cell_type": "code",
   "execution_count": null,
   "id": "1fcb19df",
   "metadata": {
    "ExecuteTime": {
     "end_time": "2022-02-10T20:49:23.494346Z",
     "start_time": "2022-02-10T20:49:23.492582Z"
    },
    "code_folding": []
   },
   "outputs": [],
   "source": [
    "# model.remove_cons_vars(co2_import_cons)\n",
    "# model.remove_cons_vars(co2_flux_cons)"
   ]
  },
  {
   "cell_type": "code",
   "execution_count": 9,
   "id": "769d6d85",
   "metadata": {
    "ExecuteTime": {
     "end_time": "2022-02-10T20:52:22.483509Z",
     "start_time": "2022-02-10T20:52:22.479837Z"
    }
   },
   "outputs": [],
   "source": [
    "#What if I restrict yung import ng O2?\n",
    "\n",
    "#Let's try restricting O2 to the value from Lakshmanan et al. (2016) = 3.312 mmol O2 m-2 s-1\n",
    "#Actually this value is also reflected in Von Caemmerer's \"Modelling C3 metabolism\" (pg. 85)\n",
    "o2tex_m = model.reactions.O2tex_M\n",
    "o2tex_bs = model.reactions.O2tex_BS\n",
    "o2_import_cons = model.problem.Constraint(o2tex_m.flux_expression + o2tex_bs.flux_expression, lb = 0, ub = 3.312)\n",
    "\n",
    "\n",
    "#BS cell conductance is approximately 0.047 * BS CO2 flux (Caemmerer, 2000)\n",
    "o2_bs_import = model.problem.Constraint(o2tex_m.flux_expression - co2tex_bs.flux_expression * 0.047, lb = 0, ub=0)#umol m-2 s-1\n",
    "model.add_cons_vars(o2_import_cons)"
   ]
  },
  {
   "cell_type": "code",
   "execution_count": 10,
   "id": "135e568a",
   "metadata": {
    "ExecuteTime": {
     "end_time": "2022-02-10T20:52:25.052769Z",
     "start_time": "2022-02-10T20:52:25.047665Z"
    }
   },
   "outputs": [],
   "source": [
    "# #Add enzyme constraints\n",
    "\n",
    "# #PEPC\n",
    "wt_pepc = 2.4 #umol m-2 s-1\n",
    "wt_mdh = 11.18 #umol m-2 s-1\n",
    "wt_nadp_me = 0.14 #umol m-2 s-1\n",
    "wt_ppdk = 0.31 #umol m-2 s-1\n",
    "wt_CA = 15.74 #umol m-2  s-1\n",
    "\n",
    "#PEPC constraint (Reaction id: PPCc)\n",
    "pepc_BS = model.reactions.PPCc_BS\n",
    "pepc_M = model.reactions.PPCc_M\n",
    "\n",
    "wt_pepc_cons = model.problem.Constraint(pepc_BS.flux_expression \n",
    "                                        + pepc_M.flux_expression, \n",
    "                                        lb = 0, ub = wt_pepc)\n",
    "model.add_cons_vars(wt_pepc_cons)\n",
    "\n",
    "#PPDK constraints (Reaction id: PPDKS) (note that this is found in the chloroplast?) \n",
    "#Not detected via immunolocalization but enzyme activity is detected\n",
    "ppdks_BS = model.reactions.PPDKs_BS\n",
    "ppdks_M = model.reactions.PPDKs_M\n",
    "\n",
    "wt_ppdks_cons = model.problem.Constraint(ppdks_BS.flux_expression \n",
    "                                         + ppdks_M.flux_expression, \n",
    "                                         lb = 0, ub = wt_ppdk)\n",
    "model.add_cons_vars(wt_ppdks_cons)\n",
    "\n",
    "#Malate Dehydrogenase \n",
    "mdh2c_M = model.reactions.MDH2c_M\n",
    "mdh2c_BS = model.reactions.MDH2c_BS\n",
    "mdh2s_M = model.reactions.MDH2s_M\n",
    "mdh2s_BS = model.reactions.MDH2s_BS\n",
    "\n",
    "wt_mdh_cons = model.problem.Constraint(mdh2c_M.flux_expression \n",
    "                                       + mdh2c_BS.flux_expression \n",
    "                                       + mdh2s_M.flux_expression \n",
    "                                       + mdh2s_BS.flux_expression, \n",
    "                                       lb= 0, ub=wt_mdh)\n",
    "model.add_cons_vars(wt_mdh_cons)\n",
    "\n",
    "\n",
    "#NADP-ME (Since no signal is detected in WT, no locational constraints are imposed)\n",
    "nadp_me_M = model.reactions.MDH2s_M\n",
    "nadp_me_BS = model.reactions.MDH2s_BS\n",
    "\n",
    "wt_nadpme_cons = model.problem.Constraint(nadp_me_M.flux_expression\n",
    "                                         + nadp_me_BS.flux_expression,\n",
    "                                         lb= 0, ub=wt_nadp_me)\n",
    "model.add_cons_vars(wt_nadpme_cons)\n",
    "#Weird, it causes the activity of RBCL to significantly vary from the actual values\n",
    "\n",
    "#Rbcl constaints"
   ]
  },
  {
   "cell_type": "code",
   "execution_count": null,
   "id": "ee023417",
   "metadata": {
    "ExecuteTime": {
     "end_time": "2022-02-10T20:49:31.641382Z",
     "start_time": "2022-02-10T20:49:31.638802Z"
    }
   },
   "outputs": [],
   "source": [
    "#Turn off old photorespiratory reaction in ios2164 model\n",
    "model.reactions.RBPC2s_M.bounds = (0,0)\n",
    "model.reactions.RBPC2s_BS.bounds = (0,0)"
   ]
  },
  {
   "cell_type": "code",
   "execution_count": 11,
   "id": "f317f8dd",
   "metadata": {
    "ExecuteTime": {
     "end_time": "2022-02-10T20:52:42.639658Z",
     "start_time": "2022-02-10T20:52:42.636787Z"
    }
   },
   "outputs": [],
   "source": [
    "#Let's try to add Rubisco flux ratio\n",
    "\n",
    "rbpc_M = model.reactions.RBPCs_M\n",
    "rbpc_BS = model.reactions.RBPCs_BS\n",
    "rbpo_M = model.reactions.RBPOs_M\n",
    "rbpo_BS = model.reactions.RBPOs_BS\n",
    "\n",
    "#Constraint such that it is limited to 132 umol m-2 s-1\n",
    "rbcl_vcmax_cons = model.problem.Constraint(rbpc_M.flux_expression + rbpc_BS.flux_expression, lb = 0, ub= 132)\n",
    "\n",
    "model.add_cons_vars(rbcl_vcmax_cons)"
   ]
  },
  {
   "cell_type": "code",
   "execution_count": 12,
   "id": "d8866bf9",
   "metadata": {
    "ExecuteTime": {
     "end_time": "2022-02-10T20:52:45.892537Z",
     "start_time": "2022-02-10T20:52:45.890157Z"
    }
   },
   "outputs": [],
   "source": [
    "#Constraints for rbcl flux\n",
    "\n",
    "rbcl_vcvo_ratio = mm.set_fix_flux_ratio({rbpc_M.id:3, rbpo_M.id:1}, model)\n",
    "model.add_cons_vars(rbcl_vcvo_ratio)"
   ]
  },
  {
   "cell_type": "code",
   "execution_count": 13,
   "id": "09fa7f27",
   "metadata": {
    "ExecuteTime": {
     "end_time": "2022-02-10T20:52:49.635117Z",
     "start_time": "2022-02-10T20:52:49.602289Z"
    }
   },
   "outputs": [],
   "source": [
    "#Modifications to medium\n",
    "\n",
    "model_media['EX_photonVis(e)'] = 1500 #PPFD used in Ermakova et al for high light\n",
    "\n",
    "#Set CO2 bounds to ~29 m-2 s-1\n",
    "model_media['EX_co2(e)'] = inf\n",
    "model_media['EX_o2(e)'] = inf\n",
    "\n",
    "#Test if heterotrophic conditions fix Biomass\n",
    "#model_media['EX_sucr(e)_M'] = inf\n",
    "\n",
    "#Nope, still doesn't produce biomass.\n",
    "#How about Protons?\n",
    "model_media['EX_h(e)'] = 0\n",
    "#What if I constrained nitrogen uptake?\n",
    "model_media['EX_no3(e)'] = inf\n",
    "model_media['EX_nh4(e)'] = inf\n",
    "model.medium = model_media\n",
    "\n"
   ]
  },
  {
   "cell_type": "code",
   "execution_count": null,
   "id": "8eba2f2b",
   "metadata": {
    "ExecuteTime": {
     "end_time": "2022-02-07T21:05:22.501269Z",
     "start_time": "2022-02-07T21:05:22.499932Z"
    }
   },
   "outputs": [],
   "source": [
    "#Let's try nga changing yung model objective\n",
    "# with model:\n",
    "#     ex_sucr = model.reactions.get_by_id('EX_sucr(e)')\n",
    "#     model.reactions.get_by_id('EX_sucr(e)').bounds = (0, 10000000)\n",
    "#     #Set model objective to max sucrose\n",
    "#     ex_sucr.objective_coefficient = 1.0\n",
    "#     print(model.objective)\n"
   ]
  },
  {
   "cell_type": "code",
   "execution_count": 18,
   "id": "9c7aaabd",
   "metadata": {
    "ExecuteTime": {
     "end_time": "2022-02-10T20:53:18.892738Z",
     "start_time": "2022-02-10T20:53:18.324266Z"
    }
   },
   "outputs": [
    {
     "data": {
      "text/html": [
       "<h3>Objective</h3><p>0.5 Straw_Biomass_M + 0.5 Straw_Biomass_BS = 1.5685743032607706</p><h4>Uptake</h4><table border=\"1\" class=\"dataframe\">\n",
       "  <thead>\n",
       "    <tr style=\"text-align: right;\">\n",
       "      <th>Metabolite</th>\n",
       "      <th>Reaction</th>\n",
       "      <th>Flux</th>\n",
       "      <th>C-Number</th>\n",
       "      <th>C-Flux</th>\n",
       "    </tr>\n",
       "  </thead>\n",
       "  <tbody>\n",
       "    <tr>\n",
       "      <td>co2_e</td>\n",
       "      <td>EX_co2(e)</td>\n",
       "      <td>29</td>\n",
       "      <td>1</td>\n",
       "      <td>100.00%</td>\n",
       "    </tr>\n",
       "    <tr>\n",
       "      <td>no3_e</td>\n",
       "      <td>EX_no3(e)</td>\n",
       "      <td>31.24</td>\n",
       "      <td>0</td>\n",
       "      <td>0.00%</td>\n",
       "    </tr>\n",
       "    <tr>\n",
       "      <td>o2_e</td>\n",
       "      <td>EX_o2(e)</td>\n",
       "      <td>3.312</td>\n",
       "      <td>0</td>\n",
       "      <td>0.00%</td>\n",
       "    </tr>\n",
       "    <tr>\n",
       "      <td>photonVis_e</td>\n",
       "      <td>EX_photonVis(e)</td>\n",
       "      <td>1500</td>\n",
       "      <td>0</td>\n",
       "      <td>0.00%</td>\n",
       "    </tr>\n",
       "    <tr>\n",
       "      <td>pi_e</td>\n",
       "      <td>EX_pi(e)</td>\n",
       "      <td>0.6474</td>\n",
       "      <td>0</td>\n",
       "      <td>0.00%</td>\n",
       "    </tr>\n",
       "    <tr>\n",
       "      <td>so4_e</td>\n",
       "      <td>EX_so4(e)</td>\n",
       "      <td>0.03419</td>\n",
       "      <td>0</td>\n",
       "      <td>0.00%</td>\n",
       "    </tr>\n",
       "  </tbody>\n",
       "</table><h4>Secretion</h4><table border=\"1\" class=\"dataframe\">\n",
       "  <thead>\n",
       "    <tr style=\"text-align: right;\">\n",
       "      <th>Metabolite</th>\n",
       "      <th>Reaction</th>\n",
       "      <th>Flux</th>\n",
       "      <th>C-Number</th>\n",
       "      <th>C-Flux</th>\n",
       "    </tr>\n",
       "  </thead>\n",
       "  <tbody>\n",
       "    <tr>\n",
       "      <td>ade_s0</td>\n",
       "      <td>DM_ADE(s)_M</td>\n",
       "      <td>-5.846</td>\n",
       "      <td>5</td>\n",
       "      <td>100.00%</td>\n",
       "    </tr>\n",
       "    <tr>\n",
       "      <td>coa_c1</td>\n",
       "      <td>DM_COA(c)_BS</td>\n",
       "      <td>-3.167E-05</td>\n",
       "      <td>21</td>\n",
       "      <td>0.00%</td>\n",
       "    </tr>\n",
       "    <tr>\n",
       "      <td>photonDrain_u1</td>\n",
       "      <td>DM_photonDrain(u)_BS</td>\n",
       "      <td>-207.7</td>\n",
       "      <td>0</td>\n",
       "      <td>0.00%</td>\n",
       "    </tr>\n",
       "    <tr>\n",
       "      <td>photonDrain_u0</td>\n",
       "      <td>DM_photonDrain(u)_M</td>\n",
       "      <td>-199</td>\n",
       "      <td>0</td>\n",
       "      <td>0.00%</td>\n",
       "    </tr>\n",
       "  </tbody>\n",
       "</table>"
      ],
      "text/plain": [
       "<cobra.summary.model_summary.ModelSummary at 0x7f2905219550>"
      ]
     },
     "execution_count": 18,
     "metadata": {},
     "output_type": "execute_result"
    }
   ],
   "source": [
    "sample_fluxes = cobra.flux_analysis.pfba(model)\n",
    "model.summary()"
   ]
  },
  {
   "cell_type": "code",
   "execution_count": null,
   "id": "765f1e21",
   "metadata": {
    "ExecuteTime": {
     "end_time": "2022-02-10T20:48:30.041049Z",
     "start_time": "2022-02-10T20:48:29.826908Z"
    }
   },
   "outputs": [],
   "source": []
  },
  {
   "cell_type": "code",
   "execution_count": 19,
   "id": "79b4c615",
   "metadata": {
    "ExecuteTime": {
     "end_time": "2022-02-10T20:53:22.673156Z",
     "start_time": "2022-02-10T20:53:22.347940Z"
    }
   },
   "outputs": [
    {
     "data": {
      "text/html": [
       "<h3>co2_e</h3><p>CO2</p><h4>Producing Reactions</h4><table border=\"1\" class=\"dataframe\">\n",
       "  <thead>\n",
       "    <tr style=\"text-align: right;\">\n",
       "      <th>Percent</th>\n",
       "      <th>Flux</th>\n",
       "      <th>Reaction</th>\n",
       "      <th>Definition</th>\n",
       "    </tr>\n",
       "  </thead>\n",
       "  <tbody>\n",
       "    <tr>\n",
       "      <td>100.00%</td>\n",
       "      <td>29</td>\n",
       "      <td>EX_co2(e)</td>\n",
       "      <td>co2_e &lt;--</td>\n",
       "    </tr>\n",
       "  </tbody>\n",
       "</table><h4>Consuming Reactions</h4><table border=\"1\" class=\"dataframe\">\n",
       "  <thead>\n",
       "    <tr style=\"text-align: right;\">\n",
       "      <th>Percent</th>\n",
       "      <th>Flux</th>\n",
       "      <th>Reaction</th>\n",
       "      <th>Definition</th>\n",
       "    </tr>\n",
       "  </thead>\n",
       "  <tbody>\n",
       "    <tr>\n",
       "      <td>100.00%</td>\n",
       "      <td>-29</td>\n",
       "      <td>CO2tex_M</td>\n",
       "      <td>co2_e &lt;=&gt; co2_c0</td>\n",
       "    </tr>\n",
       "  </tbody>\n",
       "</table>"
      ],
      "text/plain": [
       "<cobra.summary.metabolite_summary.MetaboliteSummary at 0x7f29050104f0>"
      ]
     },
     "execution_count": 19,
     "metadata": {},
     "output_type": "execute_result"
    }
   ],
   "source": [
    "model.metabolites.co2_e.summary()"
   ]
  },
  {
   "cell_type": "code",
   "execution_count": 23,
   "id": "ff10ba43",
   "metadata": {
    "ExecuteTime": {
     "end_time": "2022-02-10T21:04:42.666863Z",
     "start_time": "2022-02-10T21:04:42.661921Z"
    },
    "scrolled": true
   },
   "outputs": [
    {
     "name": "stdout",
     "output_type": "stream",
     "text": [
      "rbcl M cell:  0.0 rbcl BS cell:  132.0\n",
      "rbcl M cell (photorespiration) 0.0 rbcl BS cell (PR) 0.0\n",
      "rbcl M cell (photorespiration) (orig) 17.41138718352068 rbcl BS cell (PR) (orig) 0.0\n",
      "Biomass M:  1.9979573551154317e-12 Biomass BS 3.1371486065195526\n",
      "co2 consumption M 29.0 co2 consumption BS 0.0\n"
     ]
    }
   ],
   "source": [
    "#This is cool, the M cell is similar to the WT rate of 83.59+-5.63 :)\n",
    "print('rbcl M cell: ', sample_fluxes['RBPCs_M'], 'rbcl BS cell: ',sample_fluxes['RBPCs_BS'])\n",
    "print('rbcl M cell (photorespiration)', sample_fluxes['RBPOs_M'], 'rbcl BS cell (PR)', sample_fluxes['RBPOs_BS'])\n",
    "print('rbcl M cell (photorespiration) (orig)', sample_fluxes['RBPC2s_M'], 'rbcl BS cell (PR) (orig)', sample_fluxes['RBPC2s_BS'])\n",
    "print('Biomass M: ', sample_fluxes['Straw_Biomass_M'], 'Biomass BS', sample_fluxes['Straw_Biomass_BS'])\n",
    "print('co2 consumption M', sample_fluxes[co2tex_m.id], 'co2 consumption BS', sample_fluxes[co2tex_bs.id])\n"
   ]
  },
  {
   "cell_type": "code",
   "execution_count": 24,
   "id": "0896e9b4",
   "metadata": {
    "ExecuteTime": {
     "end_time": "2022-02-10T21:04:55.937278Z",
     "start_time": "2022-02-10T21:04:55.927001Z"
    }
   },
   "outputs": [
    {
     "name": "stdout",
     "output_type": "stream",
     "text": [
      "gly_pd -1.6173101059751405\n",
      "sucr_pd 0.0\n",
      "udparab_pd 0.0\n",
      "udpxyl_pd -1.393775050928525e-12\n",
      "udpgal_pd 0.0\n",
      "udpg_pd 0.054272670895183006\n",
      "udpglcur_pd -1.0055719368295968e-12\n",
      "co2_pd -3.3485512681006817\n",
      "h2o_pd 22.617583282768116\n",
      "o2_pd 13.747851178617903\n",
      "pep_pd -0.33991747360296465\n",
      "pyr_pd 0.0\n",
      "accoa_pd 0.0\n",
      "glu5p_pd 0.0\n",
      "akg_pd 0.10038875540858054\n",
      "icit_pd 0.12956423744937218\n",
      "gal_pd 0.07184070308929776\n",
      "g1p_pd 5.1395885164702655\n",
      "tre_pd 0.0\n",
      "tre6p_pd 0.0\n",
      "mnt_pd 0.0\n",
      "melib_pd 0.0\n",
      "stc_pd 0.0\n",
      "raffin_pd 0.0\n",
      "1Dgali_pd 0.0\n",
      "inost_pd 0.0\n",
      "cit_pd 0.0\n",
      "oxa_pd 0.0\n",
      "2pg_pd 0.0\n",
      "dhap_pd 4.5671982482899125\n",
      "g3p_pd 0.0\n",
      "3pg_pd -9.475414632943057\n",
      "glyclt_pd 1.7950950056886905\n",
      "succ_pd 0.0\n"
     ]
    }
   ],
   "source": [
    "pd_rxns = [rxns for rxns in model.reactions if \"_pd\" in rxns.id]\n",
    "\n",
    "for items in pd_rxns:\n",
    "    print(items.id, sample_fluxes[items.id])"
   ]
  },
  {
   "cell_type": "code",
   "execution_count": null,
   "id": "52713ca1",
   "metadata": {
    "ExecuteTime": {
     "end_time": "2022-02-07T21:19:09.668225Z",
     "start_time": "2022-02-07T21:19:08.856953Z"
    }
   },
   "outputs": [],
   "source": [
    "#Let's turn off pd transport of co2\n",
    "with model:\n",
    "    model.reactions.co2_pd.bounds = (0,0)\n",
    "    sample_fluxes = cobra.flux_analysis.pfba(model)\n",
    "model.summary()"
   ]
  },
  {
   "cell_type": "code",
   "execution_count": null,
   "id": "d684cffc",
   "metadata": {
    "ExecuteTime": {
     "end_time": "2022-02-07T21:19:45.557343Z",
     "start_time": "2022-02-07T21:19:45.546684Z"
    }
   },
   "outputs": [],
   "source": [
    "#This is cool, the M cell is similar to the WT rate of 83.59+-5.63 :)\n",
    "print('rbcl M cell: ', sample_fluxes['RBPCs_M'], 'rbcl BS cell: ',sample_fluxes['RBPCs_BS'])\n",
    "print('rbcl M cell (photorespiration)', sample_fluxes['RBPOs_M'], 'rbcl BS cell (PR)', sample_fluxes['RBPOs_BS'])\n",
    "print('rbcl M cell (photorespiration) (orig)', sample_fluxes['RBPC2s_M'], 'rbcl BS cell (PR) (orig)', sample_fluxes['RBPC2s_BS'])\n",
    "print('Biomass M: ', sample_fluxes['Straw_Biomass_M'], 'Biomass BS', sample_fluxes['Straw_Biomass_BS'])\n",
    "print('co2 consumption M', sample_fluxes[co2tex_m.id], 'co2 consumption BS', sample_fluxes[co2tex_bs.id])\n",
    "\n",
    "#Wtf it produced  negative flux for"
   ]
  },
  {
   "cell_type": "code",
   "execution_count": 27,
   "id": "e3628005",
   "metadata": {
    "ExecuteTime": {
     "end_time": "2022-02-10T21:12:02.817319Z",
     "start_time": "2022-02-10T21:12:02.506151Z"
    }
   },
   "outputs": [
    {
     "data": {
      "text/html": [
       "<h3>PRUKs_BS</h3><p>atp_s1 + ru5p-D_s1 --> adp_s1 + h_s1 + rb15bp_s1</p><p>Bounds: 0.0, 1000.0</p><p>Flux: 132</p>"
      ],
      "text/plain": [
       "<cobra.summary.reaction_summary.ReactionSummary at 0x7f29036e1af0>"
      ]
     },
     "execution_count": 27,
     "metadata": {},
     "output_type": "execute_result"
    }
   ],
   "source": [
    "model.reactions.PRUKs_BS.summary()"
   ]
  },
  {
   "cell_type": "code",
   "execution_count": 32,
   "id": "f9279b40",
   "metadata": {
    "ExecuteTime": {
     "end_time": "2022-02-10T21:13:59.921021Z",
     "start_time": "2022-02-10T21:13:59.631570Z"
    }
   },
   "outputs": [
    {
     "data": {
      "text/html": [
       "<h3>for_c1</h3><p>CHO2</p><h4>Producing Reactions</h4><table border=\"1\" class=\"dataframe\">\n",
       "  <thead>\n",
       "    <tr style=\"text-align: right;\">\n",
       "      <th>Percent</th>\n",
       "      <th>Flux</th>\n",
       "      <th>Reaction</th>\n",
       "      <th>Definition</th>\n",
       "    </tr>\n",
       "  </thead>\n",
       "  <tbody>\n",
       "    <tr>\n",
       "      <td>30.25%</td>\n",
       "      <td>40.78</td>\n",
       "      <td>FORts_BS</td>\n",
       "      <td>for_s1 + h_s1 --&gt; for_c1 + h_c1</td>\n",
       "    </tr>\n",
       "    <tr>\n",
       "      <td>69.75%</td>\n",
       "      <td>94.02</td>\n",
       "      <td>FTHFLc_BS</td>\n",
       "      <td>atp_c1 + for_c1 + thf_c1 &lt;-- 10fthf_c1 + adp_c1 + pi_c1</td>\n",
       "    </tr>\n",
       "  </tbody>\n",
       "</table><h4>Consuming Reactions</h4><table border=\"1\" class=\"dataframe\">\n",
       "  <thead>\n",
       "    <tr style=\"text-align: right;\">\n",
       "      <th>Percent</th>\n",
       "      <th>Flux</th>\n",
       "      <th>Reaction</th>\n",
       "      <th>Definition</th>\n",
       "    </tr>\n",
       "  </thead>\n",
       "  <tbody>\n",
       "    <tr>\n",
       "      <td>99.01%</td>\n",
       "      <td>-133.5</td>\n",
       "      <td>FDHNc_BS</td>\n",
       "      <td>for_c1 + 2.0 h_m1 + q8_m1 --&gt; co2_c1 + h_c1 + q8h2_m1</td>\n",
       "    </tr>\n",
       "    <tr>\n",
       "      <td>0.99%</td>\n",
       "      <td>-1.329</td>\n",
       "      <td>FORAc_BS</td>\n",
       "      <td>frmd_c1 + h2o_c1 &lt;-- for_c1 + h_c1 + nh4_c1</td>\n",
       "    </tr>\n",
       "  </tbody>\n",
       "</table>"
      ],
      "text/plain": [
       "<cobra.summary.metabolite_summary.MetaboliteSummary at 0x7f29024f3d30>"
      ]
     },
     "execution_count": 32,
     "metadata": {},
     "output_type": "execute_result"
    }
   ],
   "source": [
    "model.metabolites.get_by_id('for_c1').summary()"
   ]
  },
  {
   "cell_type": "code",
   "execution_count": 45,
   "id": "27045f10",
   "metadata": {
    "ExecuteTime": {
     "end_time": "2022-02-10T21:25:24.437877Z",
     "start_time": "2022-02-10T21:25:24.430856Z"
    }
   },
   "outputs": [
    {
     "name": "stdout",
     "output_type": "stream",
     "text": [
      "gly_pd -1.6173101059751405\n",
      "sucr_pd 0.0\n",
      "udparab_pd 0.0\n",
      "udpxyl_pd -1.393775050928525e-12\n",
      "udpgal_pd 0.0\n",
      "udpg_pd 0.054272670895183006\n",
      "udpglcur_pd -1.0055719368295968e-12\n",
      "co2_pd -3.3485512681006817\n",
      "h2o_pd 22.617583282768116\n",
      "o2_pd 13.747851178617903\n",
      "pep_pd -0.33991747360296465\n",
      "pyr_pd 0.0\n",
      "accoa_pd 0.0\n",
      "glu5p_pd 0.0\n",
      "akg_pd 0.10038875540858054\n",
      "icit_pd 0.12956423744937218\n",
      "gal_pd 0.07184070308929776\n",
      "g1p_pd 5.1395885164702655\n",
      "tre_pd 0.0\n",
      "tre6p_pd 0.0\n",
      "mnt_pd 0.0\n",
      "melib_pd 0.0\n",
      "stc_pd 0.0\n",
      "raffin_pd 0.0\n",
      "1Dgali_pd 0.0\n",
      "inost_pd 0.0\n",
      "cit_pd 0.0\n",
      "oxa_pd 0.0\n",
      "2pg_pd 0.0\n",
      "dhap_pd 4.5671982482899125\n",
      "g3p_pd 0.0\n",
      "3pg_pd -9.475414632943057\n",
      "glyclt_pd 1.7950950056886905\n",
      "succ_pd 0.0\n"
     ]
    }
   ],
   "source": [
    "pd_rxns = [rxns for rxns in model.reactions if \"_pd\" in rxns.id]\n",
    "\n",
    "for items in pd_rxns:\n",
    "    print(items.id, sample_fluxes[items.id])\n",
    "\n",
    "\n",
    "    "
   ]
  },
  {
   "cell_type": "code",
   "execution_count": 44,
   "id": "3bdc6a07",
   "metadata": {
    "ExecuteTime": {
     "end_time": "2022-02-10T21:24:54.466249Z",
     "start_time": "2022-02-10T21:24:53.970281Z"
    }
   },
   "outputs": [
    {
     "data": {
      "text/html": [
       "<h3>O2tex_BS</h3><p>o2_e <=> o2_c1</p><p>Bounds: -1000.0, 1000.0</p><p>Flux: 3.312</p>"
      ],
      "text/plain": [
       "<cobra.summary.reaction_summary.ReactionSummary at 0x7f29024ceee0>"
      ]
     },
     "execution_count": 44,
     "metadata": {},
     "output_type": "execute_result"
    }
   ],
   "source": []
  },
  {
   "cell_type": "code",
   "execution_count": null,
   "id": "8d7ae21e",
   "metadata": {
    "ExecuteTime": {
     "end_time": "2022-02-07T21:06:35.632836Z",
     "start_time": "2022-02-07T21:06:35.598970Z"
    }
   },
   "outputs": [],
   "source": [
    "for items in model.exchanges:\n",
    "    print(items.id, sample_fluxes[items.id])"
   ]
  },
  {
   "cell_type": "code",
   "execution_count": null,
   "id": "67bd32cd",
   "metadata": {
    "ExecuteTime": {
     "end_time": "2022-02-04T20:05:01.694474Z",
     "start_time": "2022-02-04T20:05:01.688700Z"
    }
   },
   "outputs": [],
   "source": []
  },
  {
   "cell_type": "code",
   "execution_count": null,
   "id": "72062798",
   "metadata": {
    "ExecuteTime": {
     "end_time": "2022-02-04T20:05:12.107603Z",
     "start_time": "2022-02-04T20:05:11.545239Z"
    }
   },
   "outputs": [],
   "source": []
  },
  {
   "cell_type": "code",
   "execution_count": null,
   "id": "10361fc4",
   "metadata": {
    "ExecuteTime": {
     "end_time": "2022-02-07T21:05:24.303401Z",
     "start_time": "2022-02-07T21:05:24.301888Z"
    }
   },
   "outputs": [],
   "source": [
    "#Questions:\n",
    "#Should I restrict Nutrient flow to the Bundle Sheath Cell only or should I allow flux to both the M and BS cell?\n",
    "#Apparently kasi dito only the Bundle sheath cells produce any biomass\n",
    "#This is to ensure that only CO2 and Light flux are the only limiting constraints to the system."
   ]
  }
 ],
 "metadata": {
  "kernelspec": {
   "display_name": "Python 3",
   "language": "python",
   "name": "python3"
  },
  "language_info": {
   "codemirror_mode": {
    "name": "ipython",
    "version": 3
   },
   "file_extension": ".py",
   "mimetype": "text/x-python",
   "name": "python",
   "nbconvert_exporter": "python",
   "pygments_lexer": "ipython3",
   "version": "3.8.8"
  },
  "varInspector": {
   "cols": {
    "lenName": 16,
    "lenType": 16,
    "lenVar": 40
   },
   "kernels_config": {
    "python": {
     "delete_cmd_postfix": "",
     "delete_cmd_prefix": "del ",
     "library": "var_list.py",
     "varRefreshCmd": "print(var_dic_list())"
    },
    "r": {
     "delete_cmd_postfix": ") ",
     "delete_cmd_prefix": "rm(",
     "library": "var_list.r",
     "varRefreshCmd": "cat(var_dic_list()) "
    }
   },
   "types_to_exclude": [
    "module",
    "function",
    "builtin_function_or_method",
    "instance",
    "_Feature"
   ],
   "window_display": false
  }
 },
 "nbformat": 4,
 "nbformat_minor": 5
}
