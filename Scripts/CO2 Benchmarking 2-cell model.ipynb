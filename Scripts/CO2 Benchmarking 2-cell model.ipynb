{
 "cells": [
  {
   "cell_type": "code",
   "execution_count": 1,
   "id": "03a656bb",
   "metadata": {
    "ExecuteTime": {
     "end_time": "2022-03-16T21:08:05.852572Z",
     "start_time": "2022-03-16T21:08:05.093631Z"
    }
   },
   "outputs": [],
   "source": [
    "import sys\n",
    "sys.path.append(\"../src/\") \n",
    "import os\n",
    "\n",
    "import model_manipulation as mm\n",
    "import cobra\n",
    "import cplex \n",
    "import libsbml\n",
    "import pandas as pd\n",
    "import copy\n",
    "from pathlib import Path\n"
   ]
  },
  {
   "cell_type": "code",
   "execution_count": 2,
   "id": "8def8923",
   "metadata": {
    "ExecuteTime": {
     "end_time": "2022-03-16T21:08:09.530987Z",
     "start_time": "2022-03-16T21:08:05.853523Z"
    }
   },
   "outputs": [
    {
     "name": "stdout",
     "output_type": "stream",
     "text": [
      "Set parameter Username\n",
      "Academic license - for non-commercial use only - expires 2022-04-03\n"
     ]
    }
   ],
   "source": [
    "#Read 2-cell model\n",
    "model = cobra.io.read_sbml_model(\"../model/ios2164_2cell.xml\")\n",
    "#Estimate inf\n",
    "inf = 1e9\n",
    "\n"
   ]
  },
  {
   "cell_type": "code",
   "execution_count": 3,
   "id": "c6481857",
   "metadata": {
    "ExecuteTime": {
     "end_time": "2022-03-16T21:08:10.593968Z",
     "start_time": "2022-03-16T21:08:09.532418Z"
    }
   },
   "outputs": [],
   "source": [
    "#Solver\n",
    "model.solver = 'cplex'"
   ]
  },
  {
   "cell_type": "code",
   "execution_count": 4,
   "id": "19cbcb9d",
   "metadata": {
    "ExecuteTime": {
     "end_time": "2022-03-16T21:08:10.695641Z",
     "start_time": "2022-03-16T21:08:10.594994Z"
    },
    "scrolled": false
   },
   "outputs": [
    {
     "data": {
      "text/plain": [
       "{'EX_co2(e)': 1000000,\n",
       " 'EX_h2o(e)': 1000000,\n",
       " 'EX_no3(e)': 1000000,\n",
       " 'EX_o2(e)': 1000000,\n",
       " 'EX_pi(e)': 1000000,\n",
       " 'EX_so4(e)': 1000000,\n",
       " 'EX_so3(e)': 1000000,\n",
       " 'EX_h2s(e)': 1000000,\n",
       " 'EX_nh4(e)': 1000000,\n",
       " 'EX_fe2(e)': 1000000,\n",
       " 'EX_fe3(e)': 1000000,\n",
       " 'EX_mg2(e)': 1000000,\n",
       " 'EX_photonVis(e)': 1000000}"
      ]
     },
     "execution_count": 4,
     "metadata": {},
     "output_type": "execute_result"
    }
   ],
   "source": [
    "#Initialize medium so as to induce Photoautotrophic conditions (i.e. no Sucrose import)\n",
    "model_media = mm.read_medium_csv('../misc/photo_medium.csv', model)\n",
    "    \n",
    "model_media['EX_no3(e)'] = inf\n",
    "model_media['EX_nh4(e)'] = 0\n",
    "model_media['EX_h2o(e)'] = inf\n",
    "\n",
    "model_media['EX_h(e)'] = 0\n",
    "model_media = model.medium\n",
    "\n",
    "model.medium"
   ]
  },
  {
   "cell_type": "code",
   "execution_count": 5,
   "id": "8aa4ff5e",
   "metadata": {
    "ExecuteTime": {
     "end_time": "2022-03-16T21:08:10.700372Z",
     "start_time": "2022-03-16T21:08:10.696463Z"
    }
   },
   "outputs": [],
   "source": [
    "# #Add constraints to model\n",
    "#This code block contains constraints that would simulate the assimilation rates of bs and m cells in a two-cell system (such as those seen near the midvein region of rice leaves)\n",
    "# #BS photon flux must be the same/less than M flux (Adapted from B&B, 2019)\n",
    "# photon_import = model.reactions.get_by_id(\"EX_photonVis(e)\")\n",
    "\n",
    "BS_photon_import = model.reactions.PRISM_white_LED_BS\n",
    "M_photon_import = model.reactions.PRISM_white_LED_M\n",
    "\n",
    "photon_flux = model.problem.Constraint(M_photon_import.flux_expression \n",
    "                                       - BS_photon_import.flux_expression,\n",
    "                                       lb = 0, ub = inf)\n",
    "model.add_cons_vars(photon_flux)\n",
    "\n",
    "\n",
    "co2tex_m = model.reactions.CO2tex_M\n",
    "co2tex_bs = model.reactions.CO2tex_BS\n",
    "\n",
    "#CO2 Uptake must be constrained to A (Net assimilation rate) which is around 29 +- 1.2 umol CO2 m-2 s-1 for wild type rice\n",
    "#Lower bound based  on Dark CO2 uptake rates from Ermakova et al (2020)\n",
    "#CO2 BS intake must be limited owing to its position in the leaf tissue\n",
    "\n",
    "# # #CO2 intake needs to be mostly in the M cells. Not sure of the exact value:\n",
    "# # Values from Von Caemmerer (2000) in intermediate C3-C4 photosynthetic plants is 1 mmol CO2 m-2 s-1 per 20 CO2 m-2 s-1, which puts it at 20:1 ratio\n",
    "# # #try checking Danila et al. (2016) on ratio of surface area of M cell to BS cell\n",
    "# # #I'll assume that the ratio is at 20:1 in the meantime, meaning that there is minimal gas exchange into the BS cell that would equate to around ~1 umol CO2 m-2s-1\n",
    "co2_ratio_cons = mm.set_fix_flux_ratio({co2tex_m.id:20, co2tex_bs.id:1},model)\n",
    "model.add_cons_vars(co2_ratio_cons)\n",
    "\n",
    "# #Automatic na palang nalalagay siya as constraint\n",
    "\n",
    "# #First is the BS and M Cell constraints\n",
    "# #What if I restrict yung import ng O2?\n",
    "\n",
    "# #Let's try restricting O2 to the value from Lakshmanan et al. (2016) = 3.312 mmol O2 m-2 s-1\n",
    "# #Actually this value is also reflected in Von Caemmerer's \"Modelling C3 metabolism\" (pg. 85)\n",
    "o2tex_bs = model.reactions.O2tex_BS\n",
    "\n",
    "bs_o2_cons = model.problem.Constraint(0.047*co2tex_bs.flux_expression \n",
    "                                      - 1 * o2tex_bs.flux_expression, lb=0, ub=1000)\n",
    "\n",
    "model.add_cons_vars(bs_o2_cons)\n",
    "\n"
   ]
  },
  {
   "cell_type": "code",
   "execution_count": 8,
   "id": "09cdf43c",
   "metadata": {
    "ExecuteTime": {
     "end_time": "2022-03-16T21:08:28.022989Z",
     "start_time": "2022-03-16T21:08:28.015092Z"
    }
   },
   "outputs": [],
   "source": [
    "# #This code block contains constraints specific for enzyme rate constraints\n",
    "#This approach is derived from Bogart & Myers (2016) where they constrained the enzyme rate \n",
    "#fluxes in each of the 2-cell segments to a specific upper bound while keeping the lower bound\n",
    "#At 0.\n",
    "\n",
    "# #PEPC\n",
    "wt_pepc = 2.4 #umol m-2 s-1\n",
    "wt_mdh = 11.18 #umol m-2 s-1\n",
    "wt_nadp_me = 0.14 #umol m-2 s-1\n",
    "wt_ppdk = 0.31 #umol m-2 s-1\n",
    "wt_CA = 7.5 #umol m-2  s-1 bar-1 (Constrained to CO2 amounting to 400-500 mbar) (1 bar = 15.74 umol m-2 s-1)\n",
    "\n",
    "#PEPC constraint (Reaction id: PPCc)\n",
    "pepc_BS = model.reactions.PPCc_BS\n",
    "pepc_M = model.reactions.PPCc_M\n",
    "\n",
    "wt_pepc_cons = model.problem.Constraint(pepc_BS.flux_expression \n",
    "                                        + pepc_M.flux_expression, \n",
    "                                        lb = 0, ub = wt_pepc)\n",
    "model.add_cons_vars(wt_pepc_cons)\n",
    "\n",
    "#PPDK constraints (Reaction id: PPDKS) (note that this is found in the chloroplast?) \n",
    "#Not detected via immunolocalization but enzyme activity is detected\n",
    "\n",
    "ppdks_BS = model.reactions.PPDKs_BS\n",
    "ppdks_M = model.reactions.PPDKs_M\n",
    "wt_ppdks_cons = model.problem.Constraint(ppdks_BS.flux_expression \n",
    "                                         + ppdks_M.flux_expression, \n",
    "                                         lb = 0, ub = wt_ppdk)\n",
    "model.add_cons_vars(wt_ppdks_cons)\n",
    "\n",
    "#Malate Dehydrogenase \n",
    "mdh2c_M = model.reactions.MDH2c_M\n",
    "mdh2c_BS = model.reactions.MDH2c_BS\n",
    "mdh2s_M = model.reactions.MDH2s_M\n",
    "mdh2s_BS = model.reactions.MDH2s_BS\n",
    "\n",
    "wt_mdh_cons = model.problem.Constraint(mdh2c_M.flux_expression \n",
    "                                       + mdh2c_BS.flux_expression \n",
    "                                       + mdh2s_M.flux_expression \n",
    "                                       + mdh2s_BS.flux_expression, \n",
    "                                       lb= 0, ub=wt_mdh)\n",
    "model.add_cons_vars(wt_mdh_cons)\n",
    "\n",
    "\n",
    "#NADP-ME (Since no signal is detected in WT, no locational constraints are imposed)\n",
    "#Let's see if I can force it to have a small amount of flux \n",
    "nadp_me_M = model.reactions.MDH2s_M\n",
    "nadp_me_BS = model.reactions.MDH2s_BS\n",
    "\n",
    "wt_nadpme_cons = model.problem.Constraint(nadp_me_M.flux_expression\n",
    "                                         + nadp_me_BS.flux_expression,\n",
    "                                         lb= 0, ub=wt_nadp_me)\n",
    "model.add_cons_vars(wt_nadpme_cons)\n",
    "#Weird, it causes the activity of RBCL to significantly vary from the actual values\n",
    "\n",
    "\n",
    "#I should add constraints for Carbonic Anhydrase\n",
    "#I should constrain it to 0.4 ubar, which would constitute ambient CO2 partial pressure\n",
    "#\n",
    "#HCO3Es\n",
    "#HCO3Ec\n",
    "#HCO3Em\n",
    "#Flux is reversible so constraints are bi-directional\n",
    "\n",
    "\n",
    "hco3es_m = model.reactions.HCO3Es_M.flux_expression\n",
    "hco3ec_m = model.reactions.HCO3Ec_M.flux_expression\n",
    "hco3em_m = model.reactions.HCO3Em_M.flux_expression\n",
    "hco3es_bs = model.reactions.HCO3Es_BS.flux_expression\n",
    "hco3ec_bs = model.reactions.HCO3Ec_BS.flux_expression\n",
    "hco3em_bs = model.reactions.HCO3Em_BS.flux_expression\n",
    "\n",
    "ca_cons = model.problem.Constraint(hco3es_m + hco3ec_m + hco3em_m \n",
    "                                   + hco3es_bs + hco3ec_bs + hco3em_bs,\n",
    "                                  lb = -wt_CA, ub = wt_CA)\n",
    "model.add_cons_vars(ca_cons)\n",
    "#Rbcl constaints\n",
    "\n",
    "#Let's try to add Rubisco flux ratio\n",
    "\n",
    "rbpc_M = model.reactions.RBPCs_M.flux_expression\n",
    "rbpc_BS = model.reactions.RBPCs_BS.flux_expression\n",
    "rbpo_M = model.reactions.RBPOs_M.flux_expression\n",
    "rbpo_BS = model.reactions.RBPOs_BS.flux_expression\n",
    "\n",
    "#Constraint such that it is limited to 132 umol m-2 s-1\n",
    "rbcl_vcmax_cons = model.problem.Constraint(rbpc_M + rbpc_BS, lb = 0, ub= 132)\n",
    "\n",
    "model.add_cons_vars(rbcl_vcmax_cons)\n",
    "\n",
    "#Constraints for rbcl flux\n",
    "\n",
    "rbcl_vcvo = model.problem.Constraint(3*(rbpo_M + rbpo_BS) \n",
    "                                     - 1*(rbpc_M + rbpc_BS),\n",
    "                                     lb=0,ub=1000)\n",
    "\n",
    "model.add_cons_vars(rbcl_vcvo)\n",
    "\n",
    "#What if I simply constrained that of the M cell one to 3:1?\n",
    "#This constraint is pretty good actually. \n",
    "#This allows the system to be set at a specific Vc/Vo rate while still allowing local variation \n",
    "#wherein Rubisco may act in an uncoupled fashion and may have favorable internal vc/vo rates.\n"
   ]
  },
  {
   "cell_type": "code",
   "execution_count": 1,
   "id": "8f759c0e",
   "metadata": {
    "ExecuteTime": {
     "end_time": "2022-03-17T02:16:59.467256Z",
     "start_time": "2022-03-17T02:16:59.432326Z"
    }
   },
   "outputs": [
    {
     "ename": "NameError",
     "evalue": "name 'model' is not defined",
     "output_type": "error",
     "traceback": [
      "\u001b[0;31m---------------------------------------------------------------------------\u001b[0m",
      "\u001b[0;31mNameError\u001b[0m                                 Traceback (most recent call last)",
      "\u001b[0;32m<ipython-input-1-56d86b58bf28>\u001b[0m in \u001b[0;36m<module>\u001b[0;34m\u001b[0m\n\u001b[1;32m      1\u001b[0m \u001b[0;31m# Let's try restricting O2 intake again to a specific amount, let's see if PPFD responds accordingly\u001b[0m\u001b[0;34m\u001b[0m\u001b[0;34m\u001b[0m\u001b[0;34m\u001b[0m\u001b[0m\n\u001b[1;32m      2\u001b[0m \u001b[0;34m\u001b[0m\u001b[0m\n\u001b[0;32m----> 3\u001b[0;31m \u001b[0;32mwith\u001b[0m \u001b[0mmodel\u001b[0m\u001b[0;34m:\u001b[0m\u001b[0;34m\u001b[0m\u001b[0;34m\u001b[0m\u001b[0m\n\u001b[0m\u001b[1;32m      4\u001b[0m \u001b[0;34m\u001b[0m\u001b[0m\n\u001b[1;32m      5\u001b[0m     \u001b[0mmodel_media\u001b[0m\u001b[0;34m[\u001b[0m\u001b[0;34m'EX_photonVis(e)'\u001b[0m\u001b[0;34m]\u001b[0m \u001b[0;34m=\u001b[0m \u001b[0;36m100\u001b[0m\u001b[0;34m\u001b[0m\u001b[0;34m\u001b[0m\u001b[0m\n",
      "\u001b[0;31mNameError\u001b[0m: name 'model' is not defined"
     ]
    }
   ],
   "source": [
    "#This code block is to test whether a single iteration works. Maybe I should implement the kinetic constraints by Von Caemmerer to obtain proper \n",
    "#proper values? I think that would be a better approach, I think.\n",
    "    model_media['EX_photonVis(e)'] = 100\n",
    "    model_media['EX_co2(e)'] = 29\n",
    "    model_media['EX_o2(e)'] = 2.2618 #2.2618\n",
    "    model.medium = model_media\n",
    "#Constrain O2 intake to 3.312 mmol O2 gcw -1 d-1 ~~ 2.2618 umol O2 m-2 s-1 (from Lakshmanan et al. 2016)\n",
    "    #Change objective function to reflect Mature leaf\n",
    "    model.reactions.get_by_id('Straw_Biomass_M').objective_coefficient = 1\n",
    "    model.reactions.get_by_id('Straw_Biomass_BS').objective_coefficient = 1\n",
    "    sample_fluxes = cobra.flux_analysis.pfba(model)\n",
    "    output = model.summary(fva=0.95)\n",
    "output"
   ]
  },
  {
   "cell_type": "code",
   "execution_count": null,
   "id": "a2dfd00a",
   "metadata": {
    "ExecuteTime": {
     "end_time": "2022-03-16T21:08:10.742009Z",
     "start_time": "2022-03-16T21:08:05.124Z"
    }
   },
   "outputs": [],
   "source": [
    "#Constraining O2 consumption to around 3.312 forces water to be consumed by the system, unlike when O2 is unconstrained.\n",
    "#However, the same behavior when it comes to CO2 assimilation still is being produced.\n",
    "#Constraining O2 consumption also forces Nitrate consumption to be constrained to realistic levels (when compared to non-constrained O2 where consumption was 10-fold )\n",
    "#I suspect that this is definitely due to how PPFD flux is structured. \n",
    "#A cop-out to this would be to double PPFD per run and measuring PPFD flux in the specific reactions instead."
   ]
  },
  {
   "cell_type": "code",
   "execution_count": null,
   "id": "337943a3",
   "metadata": {
    "ExecuteTime": {
     "end_time": "2022-03-16T21:08:10.742387Z",
     "start_time": "2022-03-16T21:08:05.125Z"
    }
   },
   "outputs": [],
   "source": [
    "#I can probably do the benchmarking right now. The model behaves quite interestingly actually"
   ]
  },
  {
   "cell_type": "code",
   "execution_count": null,
   "id": "f0b7bed7",
   "metadata": {
    "ExecuteTime": {
     "end_time": "2022-03-16T21:08:10.742776Z",
     "start_time": "2022-03-16T21:08:05.126Z"
    }
   },
   "outputs": [],
   "source": [
    "#Note: Turning off other prism reactions (red, green, blue, etc) while retaining only white light reactions lowers net carbon assimilation\n",
    "#I think this is in consideration on how white light is partitioned to several wavelengths, which prevents it from being fully utilized."
   ]
  },
  {
   "cell_type": "code",
   "execution_count": null,
   "id": "f6d9127b",
   "metadata": {
    "ExecuteTime": {
     "end_time": "2022-03-16T21:08:10.743133Z",
     "start_time": "2022-03-16T21:08:05.127Z"
    }
   },
   "outputs": [],
   "source": [
    "#Other artifacts as of the moment include the following:\n",
    "#model doesn't produce any Oxygen. Maybe I should add a specific demand reaction for it?\n",
    "#Based on FVA, the model now produces some oxygen via the demand reaction. "
   ]
  },
  {
   "cell_type": "code",
   "execution_count": null,
   "id": "c3020e0b",
   "metadata": {
    "ExecuteTime": {
     "end_time": "2022-03-16T21:08:10.743671Z",
     "start_time": "2022-03-16T21:08:05.128Z"
    }
   },
   "outputs": [],
   "source": [
    "#Model also facilitates transfer of metabolites unlike before."
   ]
  },
  {
   "cell_type": "code",
   "execution_count": null,
   "id": "10361fc4",
   "metadata": {
    "ExecuteTime": {
     "end_time": "2022-03-16T21:08:10.744037Z",
     "start_time": "2022-03-16T21:08:05.130Z"
    }
   },
   "outputs": [],
   "source": [
    "#Questions:\n",
    "#Should I restrict Nutrient flow to the Bundle Sheath Cell only or should I allow flux to both the M and BS cell?\n",
    "#Apparently kasi dito only the Bundle sheath cells produce any biomass\n",
    "#This is to ensure that only CO2 and Light flux are the only limiting constraints to the system."
   ]
  }
 ],
 "metadata": {
  "kernelspec": {
   "display_name": "Python 3",
   "language": "python",
   "name": "python3"
  },
  "language_info": {
   "codemirror_mode": {
    "name": "ipython",
    "version": 3
   },
   "file_extension": ".py",
   "mimetype": "text/x-python",
   "name": "python",
   "nbconvert_exporter": "python",
   "pygments_lexer": "ipython3",
   "version": "3.8.8"
  },
  "varInspector": {
   "cols": {
    "lenName": 16,
    "lenType": 16,
    "lenVar": 40
   },
   "kernels_config": {
    "python": {
     "delete_cmd_postfix": "",
     "delete_cmd_prefix": "del ",
     "library": "var_list.py",
     "varRefreshCmd": "print(var_dic_list())"
    },
    "r": {
     "delete_cmd_postfix": ") ",
     "delete_cmd_prefix": "rm(",
     "library": "var_list.r",
     "varRefreshCmd": "cat(var_dic_list()) "
    }
   },
   "types_to_exclude": [
    "module",
    "function",
    "builtin_function_or_method",
    "instance",
    "_Feature"
   ],
   "window_display": false
  }
 },
 "nbformat": 4,
 "nbformat_minor": 5
}
