{
 "cells": [
  {
   "cell_type": "code",
   "execution_count": 19,
   "id": "03a656bb",
   "metadata": {
    "ExecuteTime": {
     "end_time": "2022-02-07T20:11:59.463706Z",
     "start_time": "2022-02-07T20:11:59.461412Z"
    }
   },
   "outputs": [],
   "source": [
    "import sys\n",
    "sys.path.append(\"../src/\") \n",
    "import os\n",
    "\n",
    "import model_manipulation as mm\n",
    "import cobra\n",
    "import cplex\n",
    "import libsbml\n",
    "import pandas as pd\n",
    "import copy\n"
   ]
  },
  {
   "cell_type": "code",
   "execution_count": 20,
   "id": "8def8923",
   "metadata": {
    "ExecuteTime": {
     "end_time": "2022-02-07T20:12:06.520212Z",
     "start_time": "2022-02-07T20:12:02.649241Z"
    }
   },
   "outputs": [],
   "source": [
    "#Read 2-cell model\n",
    "model = cobra.io.read_sbml_model(\"../model/ios2164_2cell.xml\")\n",
    "#Estimate inf\n",
    "inf = 1e6\n"
   ]
  },
  {
   "cell_type": "code",
   "execution_count": 21,
   "id": "c6481857",
   "metadata": {
    "ExecuteTime": {
     "end_time": "2022-02-07T20:12:07.709009Z",
     "start_time": "2022-02-07T20:12:06.537891Z"
    }
   },
   "outputs": [],
   "source": [
    "#Solver\n",
    "model.solver = 'cplex'"
   ]
  },
  {
   "cell_type": "code",
   "execution_count": 22,
   "id": "19cbcb9d",
   "metadata": {
    "ExecuteTime": {
     "end_time": "2022-02-07T20:12:07.864526Z",
     "start_time": "2022-02-07T20:12:07.722287Z"
    },
    "scrolled": true
   },
   "outputs": [
    {
     "data": {
      "text/plain": [
       "{'EX_co2(e)': 1000000,\n",
       " 'EX_h2o(e)': 1000000,\n",
       " 'EX_no3(e)': 1000000,\n",
       " 'EX_o2(e)': 1000000,\n",
       " 'EX_pi(e)': 1000000,\n",
       " 'EX_so4(e)': 1000000,\n",
       " 'EX_so3(e)': 1000000,\n",
       " 'EX_h2s(e)': 1000000,\n",
       " 'EX_nh4(e)': 1000000,\n",
       " 'EX_fe2(e)': 1000000,\n",
       " 'EX_fe3(e)': 1000000,\n",
       " 'EX_mg2(e)': 1000000,\n",
       " 'EX_photonVis(e)': 1000000}"
      ]
     },
     "execution_count": 22,
     "metadata": {},
     "output_type": "execute_result"
    }
   ],
   "source": [
    "#Initialize medium so as to induce Photoautotrophic conditions (i.e. no Sucrose import)\n",
    "mm.read_medium_csv('../misc/photo_medium.csv', model)\n",
    "\n",
    "#Test natin kung magwowork sa est. infinite\n",
    "#Yes setting bounds to 1000 works\n",
    "model_media = model.medium\n",
    "model.medium"
   ]
  },
  {
   "cell_type": "code",
   "execution_count": 23,
   "id": "8aa4ff5e",
   "metadata": {
    "ExecuteTime": {
     "end_time": "2022-02-07T20:12:07.882088Z",
     "start_time": "2022-02-07T20:12:07.877826Z"
    }
   },
   "outputs": [],
   "source": [
    "# #Add constraints to model\n",
    "\n",
    "# #BS photon flux must be the same/less than M flux (Adapted from B&B, 2019)\n",
    "# photon_import = model.reactions.get_by_id(\"EX_photonVis(e)\")\n",
    "\n",
    "BS_photon_import = model.reactions.PRISM_blue_LED_BS\n",
    "M_photon_import = model.reactions.PRISM_blue_LED_M\n",
    "\n",
    "photon_flux = model.problem.Constraint(M_photon_import.flux_expression \n",
    "                                       - BS_photon_import.flux_expression,\n",
    "                                       lb = 0, ub = 1000)\n",
    "model.add_cons_vars(photon_flux)\n",
    "\n",
    "\n",
    "co2tex_m = model.reactions.CO2tex_M\n",
    "co2tex_bs = model.reactions.CO2tex_BS\n",
    "\n",
    "#CO2 Uptake must be constrained to A (Net assimilation rate) which is around 29 +- 1.2 umol CO2 m-2 s-1 for wild type rice\n",
    "co2_import_cons = model.problem.Constraint(co2tex_m.flux_expression \n",
    "                                           + co2tex_bs.flux_expression, lb = 0, ub = 29)\n",
    "model.add_cons_vars(co2_import_cons)\n",
    "\n",
    "#CO2 BS intake must be limited owing to its position in the leaf tissue\n",
    "\n",
    "model.add_cons_vars(model.problem.Constraint(co2tex_bs.flux_expression, lb = 0, ub = 2))\n",
    "# #Note: CO2 uptake is not restricted in BS cells but will be constrained to be  equal/less than M cell\n",
    "\n",
    "# co2_flux_cons = model.problem.Constraint(BS_co2_import.flux_expression - M_co2_import.flux_expression, lb = 0, ub = inf)\n",
    "# model.add_cons_vars(co2_flux_cons)\n",
    "\n",
    "# #Oks na\n",
    "\n",
    "# #CO2 intake needs to be mostly in the M cells. Not sure of the exact value:\n",
    "# Values from Von Caemmerer (2000) in mixed C3-C4 photosynthetic plants is 1 umol CO2 m-2 s-1 per 20 CO2 m-2 s-1. \n",
    "# #try checking Danila et al. (2016) on ratio of surface area of M cell to BS cell\n",
    "# #I'll assume that the ratio is at 9.5:0.5 in the meantime, meaning that there is minimal gas exchange into the BS cell\n",
    "#co2_ratio_cons = mm.set_fix_flux_ratio({co2tex_m.id:10, co2tex_bs.id:1},model)\n",
    "\n",
    "\n",
    "# #Automatic na palang nalalagay siya as constraint\n",
    "\n",
    "# #First is the BS and M Cell constraints"
   ]
  },
  {
   "cell_type": "code",
   "execution_count": null,
   "id": "3e0e5cab",
   "metadata": {
    "ExecuteTime": {
     "end_time": "2022-02-07T17:16:26.701265Z",
     "start_time": "2022-02-07T17:16:26.699098Z"
    }
   },
   "outputs": [],
   "source": [
    "#model.remove_cons_vars(co2_ratio_cons)"
   ]
  },
  {
   "cell_type": "code",
   "execution_count": null,
   "id": "0ae74e35",
   "metadata": {
    "ExecuteTime": {
     "end_time": "2022-02-04T20:15:11.652014Z",
     "start_time": "2022-02-04T20:15:11.648386Z"
    }
   },
   "outputs": [],
   "source": [
    "# print(co2_flux_cons)"
   ]
  },
  {
   "cell_type": "code",
   "execution_count": null,
   "id": "1fcb19df",
   "metadata": {
    "ExecuteTime": {
     "end_time": "2022-02-04T20:15:11.655098Z",
     "start_time": "2022-02-04T20:15:11.653636Z"
    },
    "code_folding": []
   },
   "outputs": [],
   "source": [
    "# model.remove_cons_vars(co2_import_cons)\n",
    "# model.remove_cons_vars(co2_flux_cons)"
   ]
  },
  {
   "cell_type": "code",
   "execution_count": 25,
   "id": "769d6d85",
   "metadata": {
    "ExecuteTime": {
     "end_time": "2022-02-07T20:12:29.156183Z",
     "start_time": "2022-02-07T20:12:29.150549Z"
    }
   },
   "outputs": [],
   "source": [
    "#What if I restrict yung import ng O2?\n",
    "\n",
    "#Let's try restricting O2 to the value from Lakshmanan et al. (2016) = 3.312 mmol O2 m-2 s-1\n",
    "#Actually this value is also reflected in Von Caemmerer's \"Modelling C3 metabolism\" (pg. 85)\n",
    "o2tex_M = model.reactions.O2tex_M\n",
    "o2tex_BS = model.reactions.O2tex_BS\n",
    "o2_import_cons = model.problem.Constraint((o2tex_M.flux_expression + o2tex_BS.flux_expression)-, lb = 0, ub = 0)\n",
    "model.add_cons_vars(o2_import_cons)"
   ]
  },
  {
   "cell_type": "code",
   "execution_count": 34,
   "id": "3fd16d67",
   "metadata": {
    "ExecuteTime": {
     "end_time": "2022-02-07T20:14:39.833249Z",
     "start_time": "2022-02-07T20:14:39.829295Z"
    }
   },
   "outputs": [],
   "source": [
    "model.remove_cons_vars(o2_import_cons)"
   ]
  },
  {
   "cell_type": "code",
   "execution_count": 26,
   "id": "135e568a",
   "metadata": {
    "ExecuteTime": {
     "end_time": "2022-02-07T20:12:31.299141Z",
     "start_time": "2022-02-07T20:12:31.293156Z"
    }
   },
   "outputs": [],
   "source": [
    "# #Add enzyme constraints\n",
    "\n",
    "# #PEPC\n",
    "wt_pepc = 2.4 #umol m-2 s-1\n",
    "wt_mdh = 11.18 #umol m-2 s-1\n",
    "wt_nadp_me = 0.14 #umol m-2 s-1\n",
    "wt_ppdk = 0.31 #umol m-2 s-1\n",
    "wt_CA = 15.74 #umol m-2  s-1\n",
    "\n",
    "#PEPC constraint (Reaction id: PPCc)\n",
    "pepc_BS = model.reactions.PPCc_BS\n",
    "pepc_M = model.reactions.PPCc_M\n",
    "\n",
    "wt_pepc_cons = model.problem.Constraint(pepc_BS.flux_expression \n",
    "                                        + pepc_M.flux_expression, \n",
    "                                        lb = 0, ub = wt_pepc)\n",
    "model.add_cons_vars(wt_pepc_cons)\n",
    "\n",
    "#PPDK constraints (Reaction id: PPDKS) (note that this is found in the chloroplast?) \n",
    "#Not detected via immunolocalization but enzyme activity is detected\n",
    "ppdks_BS = model.reactions.PPDKs_BS\n",
    "ppdks_M = model.reactions.PPDKs_M\n",
    "\n",
    "wt_ppdks_cons = model.problem.Constraint(ppdks_BS.flux_expression \n",
    "                                         + ppdks_M.flux_expression, \n",
    "                                         lb = 0, ub = wt_ppdk)\n",
    "model.add_cons_vars(wt_ppdks_cons)\n",
    "\n",
    "#Malate Dehydrogenase \n",
    "mdh2c_M = model.reactions.MDH2c_M\n",
    "mdh2c_BS = model.reactions.MDH2c_BS\n",
    "mdh2s_M = model.reactions.MDH2s_M\n",
    "mdh2s_BS = model.reactions.MDH2s_BS\n",
    "\n",
    "wt_mdh_cons = model.problem.Constraint(mdh2c_M.flux_expression \n",
    "                                       + mdh2c_BS.flux_expression \n",
    "                                       + mdh2s_M.flux_expression \n",
    "                                       + mdh2s_BS.flux_expression, \n",
    "                                       lb= 0, ub=wt_mdh)\n",
    "model.add_cons_vars(wt_mdh_cons)\n",
    "\n",
    "\n",
    "#NADP-ME (Since no signal is detected in WT, no locational constraints are imposed)\n",
    "nadp_me_M = model.reactions.MDH2s_M\n",
    "nadp_me_BS = model.reactions.MDH2s_BS\n",
    "\n",
    "wt_nadpme_cons = model.problem.Constraint(nadp_me_M.flux_expression\n",
    "                                         + nadp_me_BS.flux_expression,\n",
    "                                         lb= 0, ub=wt_nadp_me)\n",
    "model.add_cons_vars(wt_nadpme_cons)\n",
    "#Weird, it causes the activity of RBCL to significantly vary from the actual values\n",
    "\n",
    "#Rbcl constaints"
   ]
  },
  {
   "cell_type": "code",
   "execution_count": 27,
   "id": "09fa7f27",
   "metadata": {
    "ExecuteTime": {
     "end_time": "2022-02-07T20:12:33.833461Z",
     "start_time": "2022-02-07T20:12:33.797210Z"
    }
   },
   "outputs": [],
   "source": [
    "#Modifications to medium\n",
    "\n",
    "model_media['EX_photonVis(e)'] = 1500 #PPFD used in Ermakova et al for high light\n",
    "\n",
    "#Set CO2 bounds to ~29 m-2 s-1\n",
    "model_media['EX_co2(e)'] = inf\n",
    "model_media['EX_o2(e)'] = inf\n",
    "\n",
    "#Test if heterotrophic conditions fix Biomass\n",
    "#model_media['EX_sucr(e)_M'] = inf\n",
    "\n",
    "#Nope, still doesn't produce biomass.\n",
    "#How about Protons?\n",
    "model_media['EX_h(e)'] = 0\n",
    "#What if I constrained nitrogen uptake?\n",
    "model_media['EX_no3(e)'] = inf\n",
    "model_media['EX_nh4(e)'] = inf\n",
    "model.medium = model_media\n",
    "\n",
    "\n",
    "#Try nga natin may gas exchange in both.\n",
    "# model.reactions.get_by_id('EX_co2(e)_M').upper_bounds = inf\n",
    "# model.reactions.get_by_id('EX_co2(e)_BS').upper_bounds = inf"
   ]
  },
  {
   "cell_type": "code",
   "execution_count": null,
   "id": "878c55b7",
   "metadata": {
    "ExecuteTime": {
     "end_time": "2022-02-04T20:30:31.488425Z",
     "start_time": "2022-02-04T20:30:31.486203Z"
    }
   },
   "outputs": [],
   "source": [
    "#Let's try constraining yung input ng CO2 sa BS\n",
    "# model.reactions.CO2tex_BS.bounds = (0,0)"
   ]
  },
  {
   "cell_type": "code",
   "execution_count": null,
   "id": "8eba2f2b",
   "metadata": {
    "ExecuteTime": {
     "end_time": "2022-02-04T20:58:46.186717Z",
     "start_time": "2022-02-04T20:58:46.180120Z"
    }
   },
   "outputs": [],
   "source": [
    "#Let's try nga changing yung model objective\n",
    "# with model:\n",
    "#     ex_sucr = model.reactions.get_by_id('EX_sucr(e)')\n",
    "#     model.reactions.get_by_id('EX_sucr(e)').bounds = (0, 10000000)\n",
    "#     #Set model objective to max sucrose\n",
    "#     ex_sucr.objective_coefficient = 1.0\n",
    "#     print(model.objective)\n"
   ]
  },
  {
   "cell_type": "code",
   "execution_count": 35,
   "id": "9c7aaabd",
   "metadata": {
    "ExecuteTime": {
     "end_time": "2022-02-07T20:14:49.624795Z",
     "start_time": "2022-02-07T20:14:49.410142Z"
    }
   },
   "outputs": [
    {
     "data": {
      "text/html": [
       "<strong><em>Optimal</em> solution with objective value 37120.585</strong><br><div>\n",
       "<style scoped>\n",
       "    .dataframe tbody tr th:only-of-type {\n",
       "        vertical-align: middle;\n",
       "    }\n",
       "\n",
       "    .dataframe tbody tr th {\n",
       "        vertical-align: top;\n",
       "    }\n",
       "\n",
       "    .dataframe thead th {\n",
       "        text-align: right;\n",
       "    }\n",
       "</style>\n",
       "<table border=\"1\" class=\"dataframe\">\n",
       "  <thead>\n",
       "    <tr style=\"text-align: right;\">\n",
       "      <th></th>\n",
       "      <th>fluxes</th>\n",
       "      <th>reduced_costs</th>\n",
       "    </tr>\n",
       "  </thead>\n",
       "  <tbody>\n",
       "    <tr>\n",
       "      <th>Coleoptile_Biomass_M</th>\n",
       "      <td>0.000000</td>\n",
       "      <td>6.128352e+04</td>\n",
       "    </tr>\n",
       "    <tr>\n",
       "      <th>Straw_Biomass_M</th>\n",
       "      <td>4.822064</td>\n",
       "      <td>-2.000000e+00</td>\n",
       "    </tr>\n",
       "    <tr>\n",
       "      <th>ACCOAC_OSAc_M</th>\n",
       "      <td>0.000000</td>\n",
       "      <td>2.000000e+00</td>\n",
       "    </tr>\n",
       "    <tr>\n",
       "      <th>ACCOAC_OSAr_M</th>\n",
       "      <td>0.486845</td>\n",
       "      <td>-2.000000e+00</td>\n",
       "    </tr>\n",
       "    <tr>\n",
       "      <th>ACPC_OSs_M</th>\n",
       "      <td>0.000000</td>\n",
       "      <td>-2.000000e+00</td>\n",
       "    </tr>\n",
       "    <tr>\n",
       "      <th>...</th>\n",
       "      <td>...</td>\n",
       "      <td>...</td>\n",
       "    </tr>\n",
       "    <tr>\n",
       "      <th>dhap_pd</th>\n",
       "      <td>0.000000</td>\n",
       "      <td>6.821210e-13</td>\n",
       "    </tr>\n",
       "    <tr>\n",
       "      <th>g3p_pd</th>\n",
       "      <td>0.000000</td>\n",
       "      <td>6.821210e-13</td>\n",
       "    </tr>\n",
       "    <tr>\n",
       "      <th>3pg_pd</th>\n",
       "      <td>0.000000</td>\n",
       "      <td>1.932676e-12</td>\n",
       "    </tr>\n",
       "    <tr>\n",
       "      <th>glyclt_pd</th>\n",
       "      <td>0.000000</td>\n",
       "      <td>-2.000000e+00</td>\n",
       "    </tr>\n",
       "    <tr>\n",
       "      <th>succ_pd</th>\n",
       "      <td>0.000000</td>\n",
       "      <td>2.000000e+00</td>\n",
       "    </tr>\n",
       "  </tbody>\n",
       "</table>\n",
       "<p>4882 rows × 2 columns</p>\n",
       "</div>"
      ],
      "text/plain": [
       "<Solution 37120.585 at 0x7efc1b7f33a0>"
      ]
     },
     "execution_count": 35,
     "metadata": {},
     "output_type": "execute_result"
    }
   ],
   "source": [
    "sample_fluxes = cobra.flux_analysis.pfba(model)\n",
    "sample_fluxes"
   ]
  },
  {
   "cell_type": "code",
   "execution_count": 39,
   "id": "9e01dcbe",
   "metadata": {
    "ExecuteTime": {
     "end_time": "2022-02-07T20:15:59.937213Z",
     "start_time": "2022-02-07T20:15:59.380159Z"
    }
   },
   "outputs": [
    {
     "data": {
      "text/html": [
       "<h3>Objective</h3><p>0.5 Straw_Biomass_M + 0.5 Straw_Biomass_BS = 4.050483592413128</p><h4>Uptake</h4><table border=\"1\" class=\"dataframe\">\n",
       "  <thead>\n",
       "    <tr style=\"text-align: right;\">\n",
       "      <th>Metabolite</th>\n",
       "      <th>Reaction</th>\n",
       "      <th>Flux</th>\n",
       "      <th>C-Number</th>\n",
       "      <th>C-Flux</th>\n",
       "    </tr>\n",
       "  </thead>\n",
       "  <tbody>\n",
       "    <tr>\n",
       "      <td>h2s_e</td>\n",
       "      <td>EX_h2s(e)</td>\n",
       "      <td>0.0883</td>\n",
       "      <td>0</td>\n",
       "      <td>0.00%</td>\n",
       "    </tr>\n",
       "    <tr>\n",
       "      <td>nh4_e</td>\n",
       "      <td>EX_nh4(e)</td>\n",
       "      <td>5.193</td>\n",
       "      <td>0</td>\n",
       "      <td>0.00%</td>\n",
       "    </tr>\n",
       "    <tr>\n",
       "      <td>o2_e</td>\n",
       "      <td>EX_o2(e)</td>\n",
       "      <td>263.9</td>\n",
       "      <td>0</td>\n",
       "      <td>0.00%</td>\n",
       "    </tr>\n",
       "    <tr>\n",
       "      <td>photonVis_e</td>\n",
       "      <td>EX_photonVis(e)</td>\n",
       "      <td>1500</td>\n",
       "      <td>0</td>\n",
       "      <td>0.00%</td>\n",
       "    </tr>\n",
       "    <tr>\n",
       "      <td>pi_e</td>\n",
       "      <td>EX_pi(e)</td>\n",
       "      <td>1.672</td>\n",
       "      <td>0</td>\n",
       "      <td>0.00%</td>\n",
       "    </tr>\n",
       "  </tbody>\n",
       "</table><h4>Secretion</h4><table border=\"1\" class=\"dataframe\">\n",
       "  <thead>\n",
       "    <tr style=\"text-align: right;\">\n",
       "      <th>Metabolite</th>\n",
       "      <th>Reaction</th>\n",
       "      <th>Flux</th>\n",
       "      <th>C-Number</th>\n",
       "      <th>C-Flux</th>\n",
       "    </tr>\n",
       "  </thead>\n",
       "  <tbody>\n",
       "    <tr>\n",
       "      <td>coa_c1</td>\n",
       "      <td>DM_COA(c)_BS</td>\n",
       "      <td>-3.31E-05</td>\n",
       "      <td>21</td>\n",
       "      <td>40.48%</td>\n",
       "    </tr>\n",
       "    <tr>\n",
       "      <td>coa_c0</td>\n",
       "      <td>DM_COA(c)_M</td>\n",
       "      <td>-4.868E-05</td>\n",
       "      <td>21</td>\n",
       "      <td>59.52%</td>\n",
       "    </tr>\n",
       "    <tr>\n",
       "      <td>photonDrain_u1</td>\n",
       "      <td>DM_photonDrain(u)_BS</td>\n",
       "      <td>-168.7</td>\n",
       "      <td>0</td>\n",
       "      <td>0.00%</td>\n",
       "    </tr>\n",
       "    <tr>\n",
       "      <td>photonDrain_u0</td>\n",
       "      <td>DM_photonDrain(u)_M</td>\n",
       "      <td>-314.6</td>\n",
       "      <td>0</td>\n",
       "      <td>0.00%</td>\n",
       "    </tr>\n",
       "  </tbody>\n",
       "</table>"
      ],
      "text/plain": [
       "<cobra.summary.model_summary.ModelSummary at 0x7efc20a9bd30>"
      ]
     },
     "execution_count": 39,
     "metadata": {},
     "output_type": "execute_result"
    }
   ],
   "source": [
    "model.summary()"
   ]
  },
  {
   "cell_type": "code",
   "execution_count": 37,
   "id": "79b4c615",
   "metadata": {
    "ExecuteTime": {
     "end_time": "2022-02-07T20:15:14.468019Z",
     "start_time": "2022-02-07T20:15:14.132374Z"
    }
   },
   "outputs": [
    {
     "data": {
      "text/html": [
       "<h3>co2_e</h3><p>CO2</p><h4>Producing Reactions</h4><table border=\"1\" class=\"dataframe\">\n",
       "  <thead>\n",
       "    <tr style=\"text-align: right;\">\n",
       "      <th>Percent</th>\n",
       "      <th>Flux</th>\n",
       "      <th>Reaction</th>\n",
       "      <th>Definition</th>\n",
       "    </tr>\n",
       "  </thead>\n",
       "  <tbody>\n",
       "  </tbody>\n",
       "</table><h4>Consuming Reactions</h4><table border=\"1\" class=\"dataframe\">\n",
       "  <thead>\n",
       "    <tr style=\"text-align: right;\">\n",
       "      <th>Percent</th>\n",
       "      <th>Flux</th>\n",
       "      <th>Reaction</th>\n",
       "      <th>Definition</th>\n",
       "    </tr>\n",
       "  </thead>\n",
       "  <tbody>\n",
       "  </tbody>\n",
       "</table>"
      ],
      "text/plain": [
       "<cobra.summary.metabolite_summary.MetaboliteSummary at 0x7efc1b7f78e0>"
      ]
     },
     "execution_count": 37,
     "metadata": {},
     "output_type": "execute_result"
    }
   ],
   "source": [
    "model.metabolites.co2_e.summary()"
   ]
  },
  {
   "cell_type": "code",
   "execution_count": 38,
   "id": "ff10ba43",
   "metadata": {
    "ExecuteTime": {
     "end_time": "2022-02-07T20:15:16.532342Z",
     "start_time": "2022-02-07T20:15:16.524361Z"
    },
    "scrolled": true
   },
   "outputs": [
    {
     "name": "stdout",
     "output_type": "stream",
     "text": [
      "rbcl M cell:  262.803899600098 rbcl BS cell:  178.65984398077836\n",
      "rbcl M cell (photorespiration) 0.0 rbcl BS cell (PR) 0.0\n",
      "Biomass M:  4.8220643648023 Biomass BS 3.278902820023999\n",
      "co2 consumption M 0.0 co2 consumption BS 0.0\n"
     ]
    }
   ],
   "source": [
    "#This is cool, the M cell is similar to the WT rate of 83.59+-5.63 :)\n",
    "print('rbcl M cell: ', sample_fluxes['RBPCs_M'], 'rbcl BS cell: ',sample_fluxes['RBPCs_BS'])\n",
    "print('rbcl M cell (photorespiration)', sample_fluxes['RBPOs_M'], 'rbcl BS cell (PR)', sample_fluxes['RBPOs_BS'])\n",
    "print('Biomass M: ', sample_fluxes['Straw_Biomass_M'], 'Biomass BS', sample_fluxes['Straw_Biomass_BS'])\n",
    "print('co2 consumption M', sample_fluxes[co2tex_m.id], 'co2 consumption BS', sample_fluxes[co2tex_bs.id])\n"
   ]
  },
  {
   "cell_type": "code",
   "execution_count": null,
   "id": "d684cffc",
   "metadata": {
    "ExecuteTime": {
     "end_time": "2022-02-07T17:09:26.210805Z",
     "start_time": "2022-02-07T17:09:25.962407Z"
    }
   },
   "outputs": [],
   "source": [
    "model.metabolites.o2_c1.summary()"
   ]
  },
  {
   "cell_type": "code",
   "execution_count": null,
   "id": "3bdc6a07",
   "metadata": {
    "ExecuteTime": {
     "end_time": "2022-02-04T20:30:02.619184Z",
     "start_time": "2022-02-04T20:30:02.176429Z"
    }
   },
   "outputs": [],
   "source": []
  },
  {
   "cell_type": "code",
   "execution_count": null,
   "id": "8d7ae21e",
   "metadata": {
    "ExecuteTime": {
     "end_time": "2022-02-04T20:16:01.205615Z",
     "start_time": "2022-02-04T20:16:01.175639Z"
    }
   },
   "outputs": [],
   "source": [
    "for items in model.exchanges:\n",
    "    print(items.id, sample_fluxes[items.id])"
   ]
  },
  {
   "cell_type": "code",
   "execution_count": null,
   "id": "67bd32cd",
   "metadata": {
    "ExecuteTime": {
     "end_time": "2022-02-04T20:05:01.694474Z",
     "start_time": "2022-02-04T20:05:01.688700Z"
    }
   },
   "outputs": [],
   "source": []
  },
  {
   "cell_type": "code",
   "execution_count": null,
   "id": "72062798",
   "metadata": {
    "ExecuteTime": {
     "end_time": "2022-02-04T20:05:12.107603Z",
     "start_time": "2022-02-04T20:05:11.545239Z"
    }
   },
   "outputs": [],
   "source": []
  },
  {
   "cell_type": "code",
   "execution_count": null,
   "id": "10361fc4",
   "metadata": {
    "ExecuteTime": {
     "end_time": "2022-02-04T20:15:12.846008Z",
     "start_time": "2022-02-04T20:15:12.844720Z"
    }
   },
   "outputs": [],
   "source": [
    "#Questions:\n",
    "#Should I restrict Nutrient flow to the Bundle Sheath Cell only or should I allow flux to both the M and BS cell?\n",
    "#Apparently kasi dito only the Bundle sheath cells produce any biomass\n",
    "#This is to ensure that only CO2 and Light flux are the only limiting constraints to the system."
   ]
  }
 ],
 "metadata": {
  "kernelspec": {
   "display_name": "Python 3",
   "language": "python",
   "name": "python3"
  },
  "language_info": {
   "codemirror_mode": {
    "name": "ipython",
    "version": 3
   },
   "file_extension": ".py",
   "mimetype": "text/x-python",
   "name": "python",
   "nbconvert_exporter": "python",
   "pygments_lexer": "ipython3",
   "version": "3.8.8"
  },
  "varInspector": {
   "cols": {
    "lenName": 16,
    "lenType": 16,
    "lenVar": 40
   },
   "kernels_config": {
    "python": {
     "delete_cmd_postfix": "",
     "delete_cmd_prefix": "del ",
     "library": "var_list.py",
     "varRefreshCmd": "print(var_dic_list())"
    },
    "r": {
     "delete_cmd_postfix": ") ",
     "delete_cmd_prefix": "rm(",
     "library": "var_list.r",
     "varRefreshCmd": "cat(var_dic_list()) "
    }
   },
   "types_to_exclude": [
    "module",
    "function",
    "builtin_function_or_method",
    "instance",
    "_Feature"
   ],
   "window_display": false
  }
 },
 "nbformat": 4,
 "nbformat_minor": 5
}
