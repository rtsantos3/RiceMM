{
 "cells": [
  {
   "cell_type": "code",
   "execution_count": 1,
   "id": "03a656bb",
   "metadata": {
    "ExecuteTime": {
     "end_time": "2022-03-28T02:45:40.320789Z",
     "start_time": "2022-03-28T02:45:39.094187Z"
    }
   },
   "outputs": [],
   "source": [
    "import sys\n",
    "sys.path.append(\"../src/\") \n",
    "import os\n",
    "\n",
    "import model_manipulation as mm\n",
    "import cobra\n",
    "import cplex \n",
    "import libsbml\n",
    "import pandas as pd\n",
    "import copy\n",
    "from pathlib import Path\n"
   ]
  },
  {
   "cell_type": "code",
   "execution_count": 7,
   "id": "8def8923",
   "metadata": {
    "ExecuteTime": {
     "end_time": "2022-03-28T02:46:30.813035Z",
     "start_time": "2022-03-28T02:46:27.010386Z"
    }
   },
   "outputs": [],
   "source": [
    "#Read 2-cell model\n",
    "model = cobra.io.read_sbml_model(\"../model/ios2164_2cell.xml\")\n",
    "#Estimate inf\n",
    "inf = 1e6\n",
    "\n"
   ]
  },
  {
   "cell_type": "code",
   "execution_count": 5,
   "id": "c6481857",
   "metadata": {
    "ExecuteTime": {
     "end_time": "2022-03-28T02:46:15.794284Z",
     "start_time": "2022-03-28T02:46:15.791026Z"
    }
   },
   "outputs": [],
   "source": [
    "#Solver\n",
    "model.solver = 'cplex'"
   ]
  },
  {
   "cell_type": "code",
   "execution_count": 6,
   "id": "19cbcb9d",
   "metadata": {
    "ExecuteTime": {
     "end_time": "2022-03-28T02:46:17.780062Z",
     "start_time": "2022-03-28T02:46:17.679104Z"
    },
    "scrolled": false
   },
   "outputs": [
    {
     "data": {
      "text/plain": [
       "{'EX_co2(e)': 1000000,\n",
       " 'EX_h2o(e)': 1000000,\n",
       " 'EX_no3(e)': 1000000,\n",
       " 'EX_o2(e)': 1000000,\n",
       " 'EX_pi(e)': 1000000,\n",
       " 'EX_so4(e)': 1000000,\n",
       " 'EX_so3(e)': 1000000,\n",
       " 'EX_h2s(e)': 1000000,\n",
       " 'EX_nh4(e)': 1000000,\n",
       " 'EX_fe2(e)': 1000000,\n",
       " 'EX_fe3(e)': 1000000,\n",
       " 'EX_mg2(e)': 1000000,\n",
       " 'EX_photonVis(e)': 1000000}"
      ]
     },
     "execution_count": 6,
     "metadata": {},
     "output_type": "execute_result"
    }
   ],
   "source": [
    "#Initialize medium so as to induce Photoautotrophic conditions (i.e. no Sucrose import)\n",
    "model_media = mm.read_medium_csv('../misc/photo_medium.csv', model)\n",
    "    \n",
    "model_media['EX_no3(e)'] = inf\n",
    "model_media['EX_nh4(e)'] = 0\n",
    "model_media['EX_h2o(e)'] = inf\n",
    "\n",
    "model_media['EX_h(e)'] = 0\n",
    "model_media = model.medium\n",
    "\n",
    "model.medium"
   ]
  },
  {
   "cell_type": "code",
   "execution_count": 8,
   "id": "8aa4ff5e",
   "metadata": {
    "ExecuteTime": {
     "end_time": "2022-03-28T02:46:30.827921Z",
     "start_time": "2022-03-28T02:46:30.818046Z"
    }
   },
   "outputs": [],
   "source": [
    "# #Add constraints to model\n",
    "#This code block contains constraints that would simulate the assimilation rates of bs and m cells in a two-cell system (such as those seen near the midvein region of rice leaves)\n",
    "# #BS photon flux must be the same/less than M flux (Adapted from B&B, 2019)\n",
    "# photon_import = model.reactions.get_by_id(\"EX_photonVis(e)\")\n",
    "\n",
    "BS_photon_import = model.reactions.PRISM_white_LED_BS\n",
    "M_photon_import = model.reactions.PRISM_white_LED_M\n",
    "\n",
    "photon_flux = model.problem.Constraint(M_photon_import.flux_expression \n",
    "                                       - BS_photon_import.flux_expression,\n",
    "                                       lb = 0, ub = inf)\n",
    "model.add_cons_vars(photon_flux)\n",
    "\n",
    "\n",
    "co2tex_m = model.reactions.CO2tex_M\n",
    "co2tex_bs = model.reactions.CO2tex_BS\n",
    "\n",
    "#CO2 Uptake must be constrained to A (Net assimilation rate) which is around 29 +- 1.2 umol CO2 m-2 s-1 for wild type rice\n",
    "#Lower bound based  on Dark CO2 uptake rates from Ermakova et al (2020)\n",
    "#CO2 BS intake must be limited owing to its position in the leaf tissue\n",
    "\n",
    "# # #CO2 intake needs to be mostly in the M cells. Not sure of the exact value:\n",
    "# # Values from Von Caemmerer (2000) in intermediate C3-C4 photosynthetic plants is 1 mmol CO2 m-2 s-1 per 20 CO2 m-2 s-1, which puts it at 20:1 ratio\n",
    "# # #try checking Danila et al. (2016) on ratio of surface area of M cell to BS cell\n",
    "# # #I'll assume that the ratio is at 20:1 in the meantime, meaning that there is minimal gas exchange into the BS cell that would equate to around ~1 umol CO2 m-2s-1\n",
    "co2_ratio_cons = mm.set_fix_flux_ratio({co2tex_m.id:20, co2tex_bs.id:1},model)\n",
    "model.add_cons_vars(co2_ratio_cons)\n",
    "\n",
    "# #Automatic na palang nalalagay siya as constraint\n",
    "\n",
    "# #First is the BS and M Cell constraints\n",
    "# #What if I restrict yung import ng O2?\n",
    "\n",
    "# #Let's try restricting O2 to the value from Lakshmanan et al. (2016) = 3.312 mmol O2 m-2 s-1\n",
    "# #Actually this value is also reflected in Von Caemmerer's \"Modelling C3 metabolism\" (pg. 85)\n",
    "o2tex_bs = model.reactions.O2tex_BS\n",
    "\n",
    "bs_o2_cons = model.problem.Constraint(0.047*co2tex_bs.flux_expression \n",
    "                                      - 1 * o2tex_bs.flux_expression, lb=0, ub=1000)\n",
    "\n",
    "model.add_cons_vars(bs_o2_cons)\n",
    "\n"
   ]
  },
  {
   "cell_type": "code",
   "execution_count": 60,
   "id": "09cdf43c",
   "metadata": {
    "ExecuteTime": {
     "end_time": "2022-03-28T03:49:08.796091Z",
     "start_time": "2022-03-28T03:49:08.771599Z"
    }
   },
   "outputs": [],
   "source": [
    "# #This code block contains constraints specific for enzyme rate constraints\n",
    "#This approach is derived from Bogart & Myers (2016) where they constrained the enzyme rate \n",
    "#fluxes in each of the 2-cell segments to a specific upper bound while keeping the lower bound\n",
    "#At 0.\n",
    "\n",
    "# #PEPC\n",
    "wt_pepc = 2.4 #umol m-2 s-1\n",
    "wt_mdh = 11.18 #umol m-2 s-1\n",
    "wt_nadp_me = 0.14 #umol m-2 s-1\n",
    "wt_ppdk = 0.31 #umol m-2 s-1\n",
    "wt_CA = 7.5 #umol m-2  s-1 bar-1 (Constrained to CO2 amounting to 400-500 mbar) (1 bar = 15.74 umol m-2 s-1)\n",
    "\n",
    "#PEPC constraint (Reaction id: PPCc)\n",
    "pepc_BS = model.reactions.PPCc_BS\n",
    "pepc_M = model.reactions.PPCc_M\n",
    "\n",
    "wt_pepc_cons = model.problem.Constraint(pepc_BS.flux_expression \n",
    "                                        + pepc_M.flux_expression, \n",
    "                                        lb = 0, ub = wt_pepc)\n",
    "model.add_cons_vars(wt_pepc_cons)\n",
    "\n",
    "#PPDK constraints (Reaction id: PPDKS) (note that this is found in the chloroplast?) \n",
    "#Not detected via immunolocalization but enzyme activity is detected\n",
    "\n",
    "ppdks_BS = model.reactions.PPDKs_BS\n",
    "ppdks_M = model.reactions.PPDKs_M\n",
    "wt_ppdks_cons = model.problem.Constraint(ppdks_BS.flux_expression \n",
    "                                         + ppdks_M.flux_expression, \n",
    "                                         lb = 0, ub = wt_ppdk)\n",
    "model.add_cons_vars(wt_ppdks_cons)\n",
    "\n",
    "#Malate Dehydrogenase \n",
    "mdh2c_M = model.reactions.MDH2c_M\n",
    "mdh2c_BS = model.reactions.MDH2c_BS\n",
    "mdh2s_M = model.reactions.MDH2s_M\n",
    "mdh2s_BS = model.reactions.MDH2s_BS\n",
    "\n",
    "wt_mdh_cons = model.problem.Constraint(mdh2c_M.flux_expression \n",
    "                                       + mdh2c_BS.flux_expression \n",
    "                                       + mdh2s_M.flux_expression \n",
    "                                       + mdh2s_BS.flux_expression, \n",
    "                                       lb= 0, ub=wt_mdh)\n",
    "model.add_cons_vars(wt_mdh_cons)\n",
    "\n",
    "\n",
    "#NADP-ME (Since no signal is detected in WT, no locational constraints are imposed)\n",
    "#Let's see if I can force it to have a small amount of flux \n",
    "nadp_me_M = model.reactions.MDHys_M\n",
    "nadp_me_BS = model.reactions.MDHys_BS\n",
    "\n",
    "wt_nadpme_cons = model.problem.Constraint(nadp_me_M.flux_expression\n",
    "                                         + nadp_me_BS.flux_expression,\n",
    "                                         lb= 0, ub=wt_nadp_me)\n",
    "model.add_cons_vars(wt_nadpme_cons)\n",
    "#Weird, it causes the activity of RBCL to significantly vary from the actual values\n",
    "\n",
    "\n",
    "#I should add constraints for Carbonic Anhydrase\n",
    "#I should constrain it to 0.4 ubar, which would constitute ambient CO2 partial pressure\n",
    "#\n",
    "#HCO3Es\n",
    "#HCO3Ec\n",
    "#HCO3Em\n",
    "#Flux is reversible so constraints are bi-directional\n",
    "\n",
    "\n",
    "hco3es_m = model.reactions.HCO3Es_M.flux_expression\n",
    "hco3ec_m = model.reactions.HCO3Ec_M.flux_expression\n",
    "hco3em_m = model.reactions.HCO3Em_M.flux_expression\n",
    "hco3es_bs = model.reactions.HCO3Es_BS.flux_expression\n",
    "hco3ec_bs = model.reactions.HCO3Ec_BS.flux_expression\n",
    "hco3em_bs = model.reactions.HCO3Em_BS.flux_expression\n",
    "\n",
    "ca_cons = model.problem.Constraint(hco3es_m + hco3ec_m + hco3em_m \n",
    "                                   + hco3es_bs + hco3ec_bs + hco3em_bs,\n",
    "                                  lb = -wt_CA, ub = 0)\n",
    "model.add_cons_vars(ca_cons)\n",
    "#Rbcl constaints\n",
    "\n",
    "#Let's try to add Rubisco flux ratio\n",
    "\n",
    "#Retrieve flux expressions oof each RBCl reaction\n",
    "rbpc_M = model.reactions.RBPCs_M.flux_expression\n",
    "rbpc_BS = model.reactions.RBPCs_BS.flux_expression\n",
    "rbpo_M = model.reactions.RBPOs_M.flux_expression\n",
    "rbpo_BS = model.reactions.RBPOs_BS.flux_expression\n",
    "\n",
    "#Constraint such that it is limited to 132 umol m-2 s-1\n",
    "rbcl_vcmax_cons = model.problem.Constraint(rbpc_M + rbpc_BS, lb = 0, ub= 132)\n",
    "\n",
    "model.add_cons_vars(rbcl_vcmax_cons)\n",
    "\n",
    "#Constraints for rbcl flux such that v_c/v_o = 3 or more\n",
    "\n",
    "\n",
    "rbcl_vcvo = model.problem.Constraint(3*(rbpo_M + rbpo_BS) \n",
    "                                     - 1*(rbpc_M + rbpc_BS),\n",
    "                                     lb=0,ub=1000)\n",
    "\n",
    "model.add_cons_vars(rbcl_vcvo)\n",
    "\n",
    "#What if I simply constrained that of the M cell one to 3:1?\n",
    "#This constraint is pretty good actually. \n",
    "#This allows the system to be set at a specific Vc/Vo rate while still allowing local variation \n",
    "#wherein Rubisco may act in an uncoupled fashion and may have favorable internal vc/vo rates.\n"
   ]
  },
  {
   "cell_type": "code",
   "execution_count": null,
   "id": "8f759c0e",
   "metadata": {
    "ExecuteTime": {
     "start_time": "2022-03-28T03:57:54.858Z"
    }
   },
   "outputs": [],
   "source": [
    "#This code block is to test whether a single iteration works. Maybe I should implement the kinetic constraints by Von Caemmerer to obtain proper \n",
    "#proper values? I think that would be a better approach, I think.\n",
    "with model:\n",
    "    model_media['EX_photonVis(e)'] = 0\n",
    "    model_media['EX_co2(e)'] = 29\n",
    "    model_media['EX_o2(e)'] = 2.618 #2.2618\n",
    "    model.medium = model_media\n",
    "#Constrain O2 intake to 3.312 mmol O2 gcw -1 d-1 ~~ 2.2618 umol O2 m-2 s-1 (from Lakshmanan et al. 2016)\n",
    "    #Change objective function to reflect Mature leaf\n",
    "    model.reactions.get_by_id('Straw_Biomass_M').objective_coefficient = 1\n",
    "    model.reactions.get_by_id('Straw_Biomass_BS').objective_coefficient = 1\n",
    "    sample_fluxes = cobra.flux_analysis.pfba(model)\n",
    "    output = model.summary(fva=0.95)\n",
    "    sample_fluxes_fva = cobra.flux_analysis.flux_variability_analysis(model, fraction_of_optimium=0.95, loopless = True)\n",
    "output"
   ]
  },
  {
   "cell_type": "code",
   "execution_count": 59,
   "id": "98597085",
   "metadata": {
    "ExecuteTime": {
     "end_time": "2022-03-28T03:43:33.081396Z",
     "start_time": "2022-03-28T03:43:33.065728Z"
    }
   },
   "outputs": [
    {
     "name": "stdout",
     "output_type": "stream",
     "text": [
      "rbcl M cell:  76.58383219491381 rbcl BS cell:  1.0243366662206883\n",
      "rbcl M cell (photorespiration) 24.568990002610107 rbcl BS cell (PR) 1.3003996177680597\n",
      "vc/vo M: 3.1170932214461344 vc/vo BS: 0.787709141270595\n",
      "PEPC M 2.2858511670804145 PEPC M 0.11414883298800349\n",
      "Carbonic Anhydrase (Cytosolic) M -3.7203947343785724 Carbonic Anhydrase (Cytosolic) BS -0.18370903264713434\n",
      "NADP-ME M 0.11288141607941668 NADP-ME BS 0.027118583920583333\n",
      "Biomass M:  1.7663288782783741 Biomass BS 0.08564828021789571\n",
      "Phloem M:  0.0 Phloem BS 0.0\n",
      "co2 consumption M 26.839439805256802 co2 consumption BS 1.3419719902628395\n",
      "o2 consumption M 2.5549273164576465 o2 consumption BS 0.06307268354235346\n",
      "Photosystem II M 178.53019048295383 PSII BS 12.08752083071756\n",
      "PSI M 263.23594417394895 PSI BS 17.27468429595152\n",
      "PPFD M:  1875.6018013037224 PPFD BS:  124.39819869627763\n",
      "pd_abs_flux:  0.0\n"
     ]
    }
   ],
   "source": [
    "#This code  block gives a snapshot of the relevant fluxes on each of the cell types based on the saved sample_fluxes values above\n",
    "print('rbcl M cell: ', sample_fluxes['RBPCs_M'], 'rbcl BS cell: ',sample_fluxes['RBPCs_BS'])\n",
    "print('rbcl M cell (photorespiration)', sample_fluxes['RBPOs_M'], 'rbcl BS cell (PR)', sample_fluxes['RBPOs_BS'])\n",
    "print('vc/vo M:', sample_fluxes['RBPCs_M']/sample_fluxes['RBPOs_M'], 'vc/vo BS:', sample_fluxes['RBPCs_BS']/sample_fluxes['RBPOs_BS'])\n",
    "print('PEPC M', sample_fluxes['PPCc_M'], 'PEPC M', sample_fluxes['PPCc_BS'])\n",
    "print('Carbonic Anhydrase (Cytosolic) M', sample_fluxes['HCO3Ec_M'], 'Carbonic Anhydrase (Cytosolic) BS', sample_fluxes['HCO3Ec_BS'])\n",
    "print('NADP-ME M', sample_fluxes['MDHys_M'], 'NADP-ME BS', sample_fluxes['MDHys_BS'])\n",
    "print('Biomass M: ', sample_fluxes['Straw_Biomass_M'], 'Biomass BS', sample_fluxes['Straw_Biomass_BS'])\n",
    "print('Phloem M: ', sample_fluxes['DM_Phloem_M'], 'Phloem BS', sample_fluxes['DM_Phloem_BS'])\n",
    "print('co2 consumption M', sample_fluxes[co2tex_m.id], 'co2 consumption BS', sample_fluxes[co2tex_bs.id])\n",
    "print('o2 consumption M', sample_fluxes['O2tex_M'], 'o2 consumption BS', sample_fluxes['O2tex_BS'])\n",
    "print('Photosystem II M', sample_fluxes['PSIINC_M'], 'PSII BS', sample_fluxes['PSIINC_BS'])\n",
    "print('PSI M', sample_fluxes['PSIMR_M'], 'PSI BS', sample_fluxes['PSIMR_BS'])\n",
    "print('PPFD M: ', sample_fluxes['PRISM_white_LED_M'], 'PPFD BS: ', sample_fluxes['PRISM_white_LED_BS'])\n",
    "\n",
    "pd_rxn = [x for x in model.reactions if \"pd\" in x.id and \"h2o\" not in x.id]\n",
    "pd_abs_flux = 0\n",
    "for pds in pd_rxn:\n",
    "    pd_abs_flux += abs(sample_fluxes[pds.id])\n",
    "    \n",
    "print('pd_abs_flux: ', pd_abs_flux)"
   ]
  },
  {
   "cell_type": "code",
   "execution_count": 16,
   "id": "e01ebf53",
   "metadata": {
    "ExecuteTime": {
     "end_time": "2022-03-28T02:51:16.803615Z",
     "start_time": "2022-03-28T02:50:31.422333Z"
    }
   },
   "outputs": [
    {
     "name": "stdout",
     "output_type": "stream",
     "text": [
      "PPFD: 0  RBPC_M cell flux: 0.552185981327972\n",
      "PPFD: 50  RBPC_M cell flux: 3.6758019202926153\n",
      "PPFD: 100  RBPC_M cell flux: 6.745337864919939\n",
      "PPFD: 150  RBPC_M cell flux: 9.716791605065126\n",
      "PPFD: 200  RBPC_M cell flux: 12.18653654363496\n",
      "PPFD: 250  RBPC_M cell flux: 13.829231642613001\n",
      "PPFD: 300  RBPC_M cell flux: 15.48781489465486\n",
      "PPFD: 350  RBPC_M cell flux: 17.13149669172064\n",
      "PPFD: 400  RBPC_M cell flux: 18.776474669980686\n",
      "PPFD: 450  RBPC_M cell flux: 20.429635247280686\n",
      "PPFD: 500  RBPC_M cell flux: 23.02115889272632\n",
      "PPFD: 550  RBPC_M cell flux: 23.741865664448092\n",
      "PPFD: 600  RBPC_M cell flux: 25.39753777371056\n",
      "PPFD: 650  RBPC_M cell flux: 28.305622211228975\n",
      "PPFD: 700  RBPC_M cell flux: 30.066514671366743\n",
      "PPFD: 750  RBPC_M cell flux: 31.820171076440726\n",
      "PPFD: 800  RBPC_M cell flux: 32.021407808948524\n",
      "PPFD: 850  RBPC_M cell flux: 33.677858690828636\n",
      "PPFD: 900  RBPC_M cell flux: 35.3333428265744\n",
      "PPFD: 950  RBPC_M cell flux: 36.98985636629798\n",
      "PPFD: 1000  RBPC_M cell flux: 38.64585520401309\n",
      "PPFD: 1050  RBPC_M cell flux: 40.214746387420185\n",
      "PPFD: 1100  RBPC_M cell flux: 41.957852879469776\n",
      "PPFD: 1150  RBPC_M cell flux: 43.61385171720015\n",
      "PPFD: 1200  RBPC_M cell flux: 45.26985055493433\n",
      "PPFD: 1250  RBPC_M cell flux: 46.92511538823502\n",
      "PPFD: 1300  RBPC_M cell flux: 48.58184823037536\n",
      "PPFD: 1350  RBPC_M cell flux: 52.96491436076464\n",
      "PPFD: 1400  RBPC_M cell flux: 54.72629237142879\n",
      "PPFD: 1450  RBPC_M cell flux: 53.54984474357447\n",
      "PPFD: 1500  RBPC_M cell flux: 55.204952868245506\n",
      "PPFD: 1550  RBPC_M cell flux: 56.86092044111258\n",
      "PPFD: 1600  RBPC_M cell flux: 58.3814163180164\n",
      "PPFD: 1650  RBPC_M cell flux: 60.173840094485264\n",
      "PPFD: 1700  RBPC_M cell flux: 65.27474137396113\n",
      "PPFD: 1750  RBPC_M cell flux: 63.48583776995049\n",
      "PPFD: 1800  RBPC_M cell flux: 68.79488794305917\n",
      "PPFD: 1850  RBPC_M cell flux: 66.79783544540174\n",
      "PPFD: 1900  RBPC_M cell flux: 72.34007247822555\n",
      "PPFD: 1950  RBPC_M cell flux: 70.1092693143745\n",
      "PPFD: 2000  RBPC_M cell flux: 71.74743315020375\n"
     ]
    }
   ],
   "source": [
    "\n",
    "ppfd_solns_2cell_fba = pd.DataFrame(index=list(i.id for i in model.reactions))\n",
    "ppfd_solns_2cell_fva  = pd.DataFrame(index=list(i.id for i in model.reactions))\n",
    "\n",
    "#Iterate from range 0 to 2000 w/ increments of 50 (max ppfd)\n",
    "with model:\n",
    "    for i in range(0,2050,50):\n",
    "        ppfd = i \n",
    "        #Set medium to change photon flux and re-add to model\n",
    "        model_media['EX_photonVis(e)'] = ppfd\n",
    "        model_media['EX_co2(e)'] = 29\n",
    "        model_media['EX_o2(e)'] = 2.2618 #umol/m^2 s O2\n",
    "        model.medium = model_media\n",
    "        #         model_media['EX_photonVis(e)'] = ppfd\n",
    "        #         print('current PPFD:', model_media['EX_photonVis(e)'])\n",
    "        #         model.medium = model_media\n",
    "        #         print('current PPFD bounds', model.reactions.get_by_id('EX_photonVis(e)').bounds)\n",
    "        \n",
    "        \n",
    "\n",
    "        model.reactions.get_by_id('Straw_Biomass_M').objective_coefficient = 1\n",
    "        model.reactions.get_by_id('Straw_Biomass_BS').objective_coefficient = 1\n",
    "\n",
    "\n",
    "\n",
    "        #perform pFBA & convert to dataframe\n",
    "        tc_soln = cobra.flux_analysis.pfba(model).to_frame()\n",
    "        tc_soln = pd.DataFrame({ppfd:tc_soln['fluxes']}, index=list(tc_soln.index))\n",
    "        print(\"PPFD:\", ppfd, \" RBPC_M cell flux:\", tc_soln[ppfd]['RBPCs_M'])\n",
    "        #Append to Dataframe\n",
    "        ppfd_solns_2cell_fba[ppfd] = tc_soln\n",
    "\n",
    "#Code now works"
   ]
  },
  {
   "cell_type": "code",
   "execution_count": 22,
   "id": "75d71b35",
   "metadata": {
    "ExecuteTime": {
     "end_time": "2022-03-28T03:00:06.318773Z",
     "start_time": "2022-03-28T03:00:06.240742Z"
    }
   },
   "outputs": [],
   "source": [
    "out = open('../flux_results/ppfd_2cell_solns.tsv', 'w')\n",
    "\n",
    "ppfd_solns_2cell.to_csv(out, sep='\\t')"
   ]
  },
  {
   "cell_type": "code",
   "execution_count": null,
   "id": "a2dfd00a",
   "metadata": {
    "ExecuteTime": {
     "end_time": "2022-03-16T21:08:10.742009Z",
     "start_time": "2022-03-16T21:08:05.124Z"
    }
   },
   "outputs": [],
   "source": [
    "#Constraining O2 consumption to around 3.312 forces water to be consumed by the system, unlike when O2 is unconstrained.\n",
    "#However, the same behavior when it comes to CO2 assimilation still is being produced.\n",
    "#Constraining O2 consumption also forces Nitrate consumption to be constrained to realistic levels (when compared to non-constrained O2 where consumption was 10-fold )\n",
    "#I suspect that this is definitely due to how PPFD flux is structured. \n",
    "#A cop-out to this would be to double PPFD per run and measuring PPFD flux in the specific reactions instead."
   ]
  },
  {
   "cell_type": "code",
   "execution_count": null,
   "id": "45210b52",
   "metadata": {},
   "outputs": [],
   "source": []
  },
  {
   "cell_type": "code",
   "execution_count": null,
   "id": "337943a3",
   "metadata": {
    "ExecuteTime": {
     "end_time": "2022-03-16T21:08:10.742387Z",
     "start_time": "2022-03-16T21:08:05.125Z"
    }
   },
   "outputs": [],
   "source": [
    "#I can probably do the benchmarking right now. The model behaves quite interestingly actually"
   ]
  },
  {
   "cell_type": "code",
   "execution_count": null,
   "id": "f0b7bed7",
   "metadata": {
    "ExecuteTime": {
     "end_time": "2022-03-16T21:08:10.742776Z",
     "start_time": "2022-03-16T21:08:05.126Z"
    }
   },
   "outputs": [],
   "source": [
    "#Note: Turning off other prism reactions (red, green, blue, etc) while retaining only white light reactions lowers net carbon assimilation\n",
    "#I think this is in consideration on how white light is partitioned to several wavelengths, which prevents it from being fully utilized."
   ]
  },
  {
   "cell_type": "code",
   "execution_count": null,
   "id": "f6d9127b",
   "metadata": {
    "ExecuteTime": {
     "end_time": "2022-03-16T21:08:10.743133Z",
     "start_time": "2022-03-16T21:08:05.127Z"
    }
   },
   "outputs": [],
   "source": [
    "#Other artifacts as of the moment include the following:\n",
    "#model doesn't produce any Oxygen. Maybe I should add a specific demand reaction for it?\n",
    "#Based on FVA, the model now produces some oxygen via the demand reaction. "
   ]
  },
  {
   "cell_type": "code",
   "execution_count": null,
   "id": "c3020e0b",
   "metadata": {
    "ExecuteTime": {
     "end_time": "2022-03-16T21:08:10.743671Z",
     "start_time": "2022-03-16T21:08:05.128Z"
    }
   },
   "outputs": [],
   "source": [
    "#Model also facilitates transfer of metabolites unlike before."
   ]
  },
  {
   "cell_type": "code",
   "execution_count": null,
   "id": "10361fc4",
   "metadata": {
    "ExecuteTime": {
     "end_time": "2022-03-16T21:08:10.744037Z",
     "start_time": "2022-03-16T21:08:05.130Z"
    }
   },
   "outputs": [],
   "source": [
    "#Questions:\n",
    "#Should I restrict Nutrient flow to the Bundle Sheath Cell only or should I allow flux to both the M and BS cell?\n",
    "#Apparently kasi dito only the Bundle sheath cells produce any biomass\n",
    "#This is to ensure that only CO2 and Light flux are the only limiting constraints to the system."
   ]
  }
 ],
 "metadata": {
  "kernelspec": {
   "display_name": "Python 3",
   "language": "python",
   "name": "python3"
  },
  "language_info": {
   "codemirror_mode": {
    "name": "ipython",
    "version": 3
   },
   "file_extension": ".py",
   "mimetype": "text/x-python",
   "name": "python",
   "nbconvert_exporter": "python",
   "pygments_lexer": "ipython3",
   "version": "3.8.8"
  },
  "varInspector": {
   "cols": {
    "lenName": 16,
    "lenType": 16,
    "lenVar": 40
   },
   "kernels_config": {
    "python": {
     "delete_cmd_postfix": "",
     "delete_cmd_prefix": "del ",
     "library": "var_list.py",
     "varRefreshCmd": "print(var_dic_list())"
    },
    "r": {
     "delete_cmd_postfix": ") ",
     "delete_cmd_prefix": "rm(",
     "library": "var_list.r",
     "varRefreshCmd": "cat(var_dic_list()) "
    }
   },
   "types_to_exclude": [
    "module",
    "function",
    "builtin_function_or_method",
    "instance",
    "_Feature"
   ],
   "window_display": false
  }
 },
 "nbformat": 4,
 "nbformat_minor": 5
}
