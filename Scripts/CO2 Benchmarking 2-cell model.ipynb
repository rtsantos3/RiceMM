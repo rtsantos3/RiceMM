{
 "cells": [
  {
   "cell_type": "code",
   "execution_count": 2,
   "id": "03a656bb",
   "metadata": {},
   "outputs": [],
   "source": [
    "import sys\n",
    "sys.path.append(\"../src/\") \n",
    "import os\n",
    "\n",
    "import model_manipulation as mm\n",
    "import cobra\n",
    "import libsbml\n",
    "import pandas as pd\n",
    "import copy\n"
   ]
  },
  {
   "cell_type": "code",
   "execution_count": 3,
   "id": "8def8923",
   "metadata": {},
   "outputs": [],
   "source": [
    "#Read 2-cell model\n",
    "model = cobra.io.read_sbml_model(\"../model/ios2164_2cell.xml\")\n"
   ]
  },
  {
   "cell_type": "code",
   "execution_count": 4,
   "id": "19cbcb9d",
   "metadata": {
    "scrolled": true
   },
   "outputs": [
    {
     "data": {
      "text/plain": [
       "{'EX_co2_LPAREN_e_RPAREN__M': 1000,\n",
       " 'EX_h2o_LPAREN_e_RPAREN__M': 1000,\n",
       " 'EX_h_LPAREN_e_RPAREN__M': 1000,\n",
       " 'EX_no3_LPAREN_e_RPAREN__M': 1000,\n",
       " 'EX_o2_LPAREN_e_RPAREN__M': 1000,\n",
       " 'EX_pi_LPAREN_e_RPAREN__M': 1000,\n",
       " 'EX_so4_LPAREN_e_RPAREN__M': 1000,\n",
       " 'EX_so3_LPAREN_e_RPAREN__M': 1000,\n",
       " 'EX_fe2_LPAREN_e_RPAREN__M': 1000,\n",
       " 'EX_mg2_LPAREN_e_RPAREN__M': 1000,\n",
       " 'EX_photonVis_LPAREN_e_RPAREN__M': 1000,\n",
       " 'EX_h2o_LPAREN_e_RPAREN__BS': 1000,\n",
       " 'EX_h_LPAREN_e_RPAREN__BS': 1000,\n",
       " 'EX_no3_LPAREN_e_RPAREN__BS': 1000,\n",
       " 'EX_pi_LPAREN_e_RPAREN__BS': 1000,\n",
       " 'EX_so4_LPAREN_e_RPAREN__BS': 1000,\n",
       " 'EX_fe2_LPAREN_e_RPAREN__BS': 1000,\n",
       " 'EX_mg2_LPAREN_e_RPAREN__BS': 1000,\n",
       " 'EX_photonVis_LPAREN_e_RPAREN__BS': 1000}"
      ]
     },
     "execution_count": 4,
     "metadata": {},
     "output_type": "execute_result"
    }
   ],
   "source": [
    "#Set to Photoautotrophic medium onli\n",
    "\n",
    "mm.read_medium_csv('../misc/photo_medium.csv', model)\n",
    "\n"
   ]
  },
  {
   "cell_type": "code",
   "execution_count": 6,
   "id": "8aa4ff5e",
   "metadata": {},
   "outputs": [],
   "source": [
    "#Add constraints to model\n",
    "\n",
    "#BS photon flux must be the same/less than M flux (Adapted from B&B, 2019)\n",
    "BS_photon_import = model.reactions.get_by_id(\"EX_photonVis_LPAREN_e_RPAREN__BS\")\n",
    "M_photon_import = model.reactions.get_by_id(\"EX_photonVis_LPAREN_e_RPAREN__M\")\n",
    "\n",
    "photon_flux = model.problem.Constraint(M_photon_import.flux_expression \n",
    "                                       - BS_photon_import.flux_expression,\n",
    "                                       lb = 0, ub = 1000)\n",
    "model.add_cons_vars(photon_flux)\n",
    "\n",
    "\n",
    "#Note: CO2 uptake is not restricted in BS cells but will be constrained to be  equal/less than M cell\n",
    "BS_co2_import = model.reactions.get_by_id(\"EX_c\")\n",
    "\n",
    "#First is the BS and M Cell constraints"
   ]
  },
  {
   "cell_type": "code",
   "execution_count": 9,
   "id": "4cb19811",
   "metadata": {},
   "outputs": [
    {
     "data": {
      "text/plain": [
       "3957"
      ]
     },
     "execution_count": 9,
     "metadata": {},
     "output_type": "execute_result"
    }
   ],
   "source": []
  },
  {
   "cell_type": "code",
   "execution_count": null,
   "id": "67bd32cd",
   "metadata": {},
   "outputs": [],
   "source": [
    "#Let's try to do initial FBA\n",
    "\n"
   ]
  }
 ],
 "metadata": {
  "kernelspec": {
   "display_name": "Python 3",
   "language": "python",
   "name": "python3"
  },
  "language_info": {
   "codemirror_mode": {
    "name": "ipython",
    "version": 3
   },
   "file_extension": ".py",
   "mimetype": "text/x-python",
   "name": "python",
   "nbconvert_exporter": "python",
   "pygments_lexer": "ipython3",
   "version": "3.8.8"
  },
  "varInspector": {
   "cols": {
    "lenName": 16,
    "lenType": 16,
    "lenVar": 40
   },
   "kernels_config": {
    "python": {
     "delete_cmd_postfix": "",
     "delete_cmd_prefix": "del ",
     "library": "var_list.py",
     "varRefreshCmd": "print(var_dic_list())"
    },
    "r": {
     "delete_cmd_postfix": ") ",
     "delete_cmd_prefix": "rm(",
     "library": "var_list.r",
     "varRefreshCmd": "cat(var_dic_list()) "
    }
   },
   "types_to_exclude": [
    "module",
    "function",
    "builtin_function_or_method",
    "instance",
    "_Feature"
   ],
   "window_display": false
  }
 },
 "nbformat": 4,
 "nbformat_minor": 5
}
