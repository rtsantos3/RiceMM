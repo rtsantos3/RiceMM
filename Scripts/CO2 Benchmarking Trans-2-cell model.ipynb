{
 "cells": [
  {
   "cell_type": "code",
   "execution_count": 1,
   "id": "23e2cbd1",
   "metadata": {
    "ExecuteTime": {
     "end_time": "2022-05-02T22:48:35.231710Z",
     "start_time": "2022-05-02T22:48:34.204500Z"
    }
   },
   "outputs": [],
   "source": [
    "import sys\n",
    "sys.path.append(\"../src/\") \n",
    "import os\n",
    "\n",
    "import model_manipulation as mm\n",
    "import cobra\n",
    "import cplex \n",
    "import libsbml\n",
    "import pandas as pd\n",
    "import copy\n",
    "from pathlib import Path\n",
    "import memote\n",
    "import csv\n",
    "from cobra import Reaction\n"
   ]
  },
  {
   "cell_type": "code",
   "execution_count": 2,
   "id": "8def8923",
   "metadata": {
    "ExecuteTime": {
     "end_time": "2022-05-02T22:48:45.313022Z",
     "start_time": "2022-05-02T22:48:40.876929Z"
    }
   },
   "outputs": [
    {
     "name": "stdout",
     "output_type": "stream",
     "text": [
      "Set parameter Username\n",
      "Academic license - for non-commercial use only - expires 2022-06-12\n"
     ]
    }
   ],
   "source": [
    "#Read 2-cell model\n",
    "model = cobra.io.read_sbml_model(\"../model/ios2164_2cell.xml\")\n",
    "#Estimate inf\n",
    "inf = 1e6\n",
    "model.solver = 'gurobi'\n"
   ]
  },
  {
   "cell_type": "code",
   "execution_count": 3,
   "id": "c6481857",
   "metadata": {
    "ExecuteTime": {
     "end_time": "2022-05-02T22:48:45.327330Z",
     "start_time": "2022-05-02T22:48:45.325651Z"
    }
   },
   "outputs": [],
   "source": [
    "\n",
    "#Define linear relationship between PPFD and Cellular maintainance costs\n",
    "#This formula comes from Topfer et al (2020) where she defined NGAM in a linear relationship with incident light\n",
    "def compute_ngam_atp(ppfd):\n",
    "    v_atp = 0.0049*ppfd + 2.7851\n",
    "    return v_atp"
   ]
  },
  {
   "cell_type": "code",
   "execution_count": 4,
   "id": "19cbcb9d",
   "metadata": {
    "ExecuteTime": {
     "end_time": "2022-05-02T22:48:46.810073Z",
     "start_time": "2022-05-02T22:48:46.686495Z"
    },
    "scrolled": true
   },
   "outputs": [
    {
     "data": {
      "text/plain": [
       "{'EX_co2(e)': 1000000,\n",
       " 'EX_h2o(e)': 1000000.0,\n",
       " 'EX_no3(e)': 1000000.0,\n",
       " 'EX_o2(e)': 1000000,\n",
       " 'EX_pi(e)': 1000000,\n",
       " 'EX_so4(e)': 1000000,\n",
       " 'EX_so3(e)': 1000000,\n",
       " 'EX_h2s(e)': 1000000,\n",
       " 'EX_fe2(e)': 1000000,\n",
       " 'EX_fe3(e)': 1000000,\n",
       " 'EX_mg2(e)': 1000000,\n",
       " 'EX_photonVis(e)': 1000000}"
      ]
     },
     "execution_count": 4,
     "metadata": {},
     "output_type": "execute_result"
    }
   ],
   "source": [
    "#Initialize medium so as to induce Photoautotrophic conditions (i.e. no Sucrose import)\n",
    "model_media = mm.read_medium_csv('../misc/photo_medium.csv', model)\n",
    "    \n",
    "model_media['EX_no3(e)'] = inf\n",
    "model_media['EX_nh4(e)'] = 0\n",
    "model_media['EX_h2o(e)'] = inf\n",
    "\n",
    "model_media['EX_h(e)'] = 0\n",
    "model.medium =model_media\n",
    "\n",
    "model.medium\n"
   ]
  },
  {
   "cell_type": "markdown",
   "id": "aa7ad482",
   "metadata": {},
   "source": [
    "#Add transgenic reactions to model localized to specific compartment\n",
    "\n",
    "Transgenic (Line 29 - Ermakova et al)\n",
    "PEPC = Chloroplastic in M & V (rxn id: PPCc)\n",
    "PPDK = Chloroplastic in M and BS (rxn id: PPDKs)\n",
    "NADP-ME = Mitochondrial in M (rxn id: MDHys)\n",
    "MDH = Chloroplastic in M and BS; Mitochondrial in M  (rxn id: MDH2s, MDH2c)\n",
    "CA = Cytosolic in M (rxn id: hco3ec)\n",
    "\n",
    "In WT:\n",
    "PEPC = Cytosolic in V\n",
    "PPDK = No signal\n",
    "NADP-ME = No signal\n",
    "MDH = Mitochondrial in M \n",
    "CA = No signal\n",
    "\n",
    "Difference:\n",
    "PEPC = Only in M\n",
    "PPDK = Chloroplastic M & BS\n",
    "NADP-ME = Only in M\n",
    "MDH = Chloroplastic in M/BS\n",
    "CA = Cytosolic in M\n",
    "\n"
   ]
  },
  {
   "cell_type": "code",
   "execution_count": null,
   "id": "a132d0a9",
   "metadata": {
    "ExecuteTime": {
     "end_time": "2022-04-29T00:58:48.289699Z",
     "start_time": "2022-04-29T00:58:48.288151Z"
    }
   },
   "outputs": [],
   "source": [
    "#My approach would be to add two linear constraints corresponding to the WT and the transgenic\n",
    "#Enzyme reaction rates, respectively.\n"
   ]
  },
  {
   "cell_type": "code",
   "execution_count": 5,
   "id": "8aa4ff5e",
   "metadata": {
    "ExecuteTime": {
     "end_time": "2022-05-02T22:48:51.555876Z",
     "start_time": "2022-05-02T22:48:51.549214Z"
    }
   },
   "outputs": [],
   "source": [
    "# #Add constraints to model\n",
    "#This code block contains constraints that would simulate the assimilation rates of bs and m cells in a two-cell system (such as those seen near the midvein region of rice leaves)\n",
    "# #BS photon flux must be the same/less than M flux (Adapted from B&B, 2019)\n",
    "# photon_import = model.reactions.get_by_id(\"EX_photonVis(e)\")\n",
    "\n",
    "BS_photon_import = model.reactions.PRISM_white_LED_BS\n",
    "M_photon_import = model.reactions.PRISM_white_LED_M\n",
    "\n",
    "#Set photon flux ratio between M/BS cell to be 1:1 or greater \n",
    "\n",
    "photon_flux = mm.set_fix_flux_ratio({M_photon_import.id:10, BS_photon_import.id:1},model)\n",
    "\n",
    "# photon_flux = model.problem.Constraint(M_photon_import.flux_expression \n",
    "#                                        - BS_photon_import.flux_expression,\n",
    "#                                        lb = 0, ub = inf)\n",
    "model.add_cons_vars(photon_flux)\n",
    "\n",
    "\n",
    "co2tex_m = model.reactions.CO2tex_M\n",
    "co2tex_bs = model.reactions.CO2tex_BS\n",
    "\n",
    "#CO2 Uptake must be constrained to A (Net assimilation rate) which is around 29 +- 1.2 umol CO2 m-2 s-1 for wild type rice\n",
    "#Lower bound based  on Dark CO2 uptake rates from Ermakova et al (2020)\n",
    "#CO2 BS intake must be limited owing to its position in the leaf tissue\n",
    "\n",
    "# # #CO2 intake needs to be mostly in the M cells. Not sure of the exact value:\n",
    "# # Values from Von Caemmerer (2000) in intermediate C3-C4 photosynthetic plants is 1 mmol CO2 m-2 s-1 per 20 CO2 m-2 s-1, which puts it at 20:1 ratio\n",
    "# # #try checking Danila et al. (2016) on ratio of surface area of M cell to BS cell\n",
    "# # #I'll assume that the ratio is at 20:1 in the meantime, meaning that there is minimal gas exchange into the BS cell that would equate to around ~1 umol CO2 m-2s-1\n",
    "co2_ratio_cons = mm.set_fix_flux_ratio({co2tex_m.id:10, co2tex_bs.id:1},model)\n",
    "model.add_cons_vars(co2_ratio_cons)\n",
    "\n",
    "# #Automatic na palang nalalagay siya as constraint\n",
    "\n",
    "# #First is the BS and M Cell constraints\n",
    "# #What if I restrict yung import ng O2?\n",
    "\n",
    "# #Let's try restricting O2 to the value from Lakshmanan et al. (2016) = 3.312 mmol O2 m-2 s-1\n",
    "# #Actually this value is also reflected in Von Caemmerer's \"Modelling C3 metabolism\" (pg. 85)\n",
    "o2tex_bs = model.reactions.O2tex_BS\n",
    "o2tex_m = model.reactions.O2tex_M\n",
    "\n",
    "o2_ratio_cons = mm.set_fix_flux_ratio({o2tex_m.id:10, o2tex_bs.id:1},model)\n",
    "model.add_cons_vars(o2_ratio_cons)\n",
    "\n",
    "# bs_o2_cons = model.problem.Constraint(0.047*co2tex_bs.flux_expression \n",
    "#                                       - 1 * o2tex_bs.flux_expression, lb=0, ub=1000)\n",
    "# model.add_cons_vars(bs_o2_cons)"
   ]
  },
  {
   "cell_type": "code",
   "execution_count": 6,
   "id": "09cdf43c",
   "metadata": {
    "ExecuteTime": {
     "end_time": "2022-05-02T22:48:54.464594Z",
     "start_time": "2022-05-02T22:48:54.446033Z"
    }
   },
   "outputs": [
    {
     "name": "stdout",
     "output_type": "stream",
     "text": [
      "Successfully added Carbon Fixation constraints\n"
     ]
    }
   ],
   "source": [
    "# #This code block contains constraints specific for enzyme rate constraints\n",
    "#This approach is derived from Bogart & Myers (2016) where they constrained the enzyme rate \n",
    "#fluxes in each of the 2-cell segments to a specific upper bound while keeping the lower bound\n",
    "#At 0.\n",
    "\n",
    "\n",
    "#Maximum values for constraints\n",
    "wt_pepc = 0 #umol m-2 s-1 #Note: Need to constrain it to 0 pala since no PEPC was detected in either cell type\n",
    "wt_mdh = 11.18 #umol m-2 s-1\n",
    "wt_nadp_me = 0.14 #umol m-2 s-1\n",
    "wt_ppdk = 0.31 #umol m-2 s-1\n",
    "wt_CA = 7.5 #umol m-2  s-1 bar-1 (Constrained to CO2 amounting to 400-500 mbar) (1 bar = 15.74 umol m-2 s-1 CA activity)\n",
    "\n",
    "#PEPC constraint (Reaction id: PPCc)\n",
    "#Need to constrain it to 0 since reaction is only detected in Vascular tissue\n",
    "pepc_BS = model.reactions.PPCc_BS\n",
    "pepc_M = model.reactions.PPCc_M\n",
    "\n",
    "wt_pepc_cons = model.problem.Constraint(pepc_BS.flux_expression \n",
    "                                        + pepc_M.flux_expression, \n",
    "                                        lb = 0, ub = wt_pepc)\n",
    "wt_pepc_cons.name = 'wt_pepc_cons'\n",
    "model.add_cons_vars(wt_pepc_cons)\n",
    "\n",
    "#PPDK constraints (Reaction id: PPDKs) (note that this is found in the chloroplast?) \n",
    "#Not detected via immunolocalization but enzyme activity is detected\n",
    "\n",
    "ppdks_BS = model.reactions.PPDKs_BS\n",
    "ppdks_M = model.reactions.PPDKs_M\n",
    "wt_ppdks_cons = model.problem.Constraint(ppdks_BS.flux_expression \n",
    "                                         + ppdks_M.flux_expression, \n",
    "                                         lb = 0, ub = wt_ppdk)\n",
    "wt_ppdks_cons.name = 'wt_ppdks_cons'\n",
    "model.add_cons_vars(wt_ppdks_cons)\n",
    "\n",
    "#Malate Dehydrogenase \n",
    "#Only mitochondrial in WT Rice M cells\n",
    "mdhm_M = model.reactions.MDHm_M\n",
    "wt_mdh_cons = model.problem.Constraint(mdhm_M.flux_expression,\n",
    "                                       lb= 0, ub=wt_mdh)\n",
    "wt_mdh_cons.name = \"wt_mdh_cons\"\n",
    "model.add_cons_vars(wt_mdh_cons)\n",
    "\n",
    "\n",
    "#NADP-ME (Since no signal is detected in WT, no locational constraints are imposed)\n",
    "#Let's see if I can force it to have a small amount of flux \n",
    "nadp_me_M = model.reactions.MDHys_M\n",
    "nadp_me_BS = model.reactions.MDHys_BS\n",
    "\n",
    "wt_nadpme_cons = model.problem.Constraint(nadp_me_M.flux_expression\n",
    "                                         + nadp_me_BS.flux_expression,\n",
    "                                         lb= 0, ub=wt_nadp_me)\n",
    "wt_nadpme_cons.name = \"wt_nadpme\"\n",
    "model.add_cons_vars(wt_nadpme_cons)\n",
    "\n",
    "#I should add constraints for Carbonic Anhydrase\n",
    "#I should constrain it to 0.4 ubar, which would constitute ambient CO2 partial pressure\n",
    "#HCO3Es\n",
    "#HCO3Ec\n",
    "#HCO3Em\n",
    "#Flux is reversible so constraints are bi-directional\n",
    "\n",
    "\n",
    "hco3es_m = model.reactions.HCO3Es_M.flux_expression\n",
    "hco3ec_m = model.reactions.HCO3Ec_M.flux_expression\n",
    "hco3em_m = model.reactions.HCO3Em_M.flux_expression\n",
    "hco3es_bs = model.reactions.HCO3Es_BS.flux_expression\n",
    "hco3ec_bs = model.reactions.HCO3Ec_BS.flux_expression\n",
    "hco3em_bs = model.reactions.HCO3Em_BS.flux_expression\n",
    "\n",
    "ca_cons = model.problem.Constraint(hco3es_m + hco3ec_m + hco3em_m \n",
    "                                   + hco3es_bs + hco3ec_bs + hco3em_bs,\n",
    "                                  lb = -wt_CA, ub = wt_CA)\n",
    "ca_cons.name = 'ca_constraint'\n",
    "model.add_cons_vars(ca_cons)\n",
    "#Rbcl constaints\n",
    "\n",
    "#Let's try to add Rubisco flux ratio\n",
    "\n",
    "#Retrieve flux expressions oof each RBCl reaction\n",
    "rbpc_M = model.reactions.RBPCs_M.flux_expression\n",
    "rbpc_BS = model.reactions.RBPCs_BS.flux_expression\n",
    "rbpo_M = model.reactions.RBPOs_M.flux_expression\n",
    "rbpo_BS = model.reactions.RBPOs_BS.flux_expression\n",
    "\n",
    "#Constraint such that it is limited to 132 umol m-2 s-1\n",
    "rbcl_vcmax_cons = model.problem.Constraint(rbpc_M + rbpc_BS, lb = 0, ub= 132)\n",
    "\n",
    "model.add_cons_vars(rbcl_vcmax_cons)\n",
    "\n",
    "#Constraints for rbcl flux such that v_c/v_o = 3 or higher. \n",
    "\n",
    "\n",
    "rbcl_vcvo = model.problem.Constraint(3*(rbpo_M + rbpo_BS) \n",
    "                                     - 1*(rbpc_M + rbpc_BS),\n",
    "                                     lb=0,ub=1000)\n",
    "rbcl_vcvo.name = 'rbcl_vc/vo_ratio'\n",
    "model.add_cons_vars(rbcl_vcvo)\n",
    "\n",
    "#What if I simply constrained that of the M cell one to 3:1?\n",
    "#This constraint is pretty good actually. \n",
    "#This allows the system to be set at a specific Vc/Vo rate while still allowing local variation \n",
    "#wherein Rubisco may act in an uncoupled fashion and may have favorable internal vc/vo rates.\n",
    "\n",
    "print('Successfully added Carbon Fixation constraints')"
   ]
  },
  {
   "cell_type": "code",
   "execution_count": 7,
   "id": "a8262f53",
   "metadata": {
    "ExecuteTime": {
     "end_time": "2022-05-02T22:49:31.177510Z",
     "start_time": "2022-05-02T22:49:31.150092Z"
    }
   },
   "outputs": [
    {
     "name": "stdout",
     "output_type": "stream",
     "text": [
      "Successfully added transgenic reactions\n",
      "List of reactions added: \n",
      "trans_PPCs_M\n",
      "trans_PPDKs_M\n",
      "trans_PPDKs_BS\n",
      "trans_MDHym_M\n",
      "trans_MDHm_M\n",
      "trans_MDHs_M\n",
      "trans_MDHs_BS\n",
      "trans_hco3ec_M\n"
     ]
    }
   ],
   "source": [
    "#initialize list of transgenic reactions to add  to model\n",
    "\n",
    "\n",
    "trans_list = list()\n",
    "\n",
    "\n",
    "#Transgenic PEPC copy\n",
    "#PEPC = Chloroplastic in M & V (rxn id: PPCc)\n",
    "trans_ppcs = Reaction('trans_PPCs_M')\n",
    "trans_ppcs.name = \"Phosphoenolpyruvate carboxylase, plastidic (Transgenic)\"\n",
    "\n",
    "co2_s0 = model.metabolites.co2_s0\n",
    "h_s0 = model.metabolites.h_s0\n",
    "pep_s0 = model.metabolites.pep_s0\n",
    "h2o_s0 = model.metabolites.h2o_s0\n",
    "oaa_s0 = model.metabolites.oaa_s0\n",
    "pi_s0 = model.metabolites.pi_s0\n",
    "\n",
    "\n",
    "#Add metabolites, bounds, and subsystem\n",
    "trans_ppcs.add_metabolites({co2_s0:-1, h_s0:-1, pep_s0:-1, h2o_s0:1, oaa_s0:1, pi_s0:1})\n",
    "trans_ppcs.bounds= model.reactions.PPCc_M.bounds\n",
    "trans_ppcs.subsystem = model.reactions.PPCc_M.subsystem\n",
    "\n",
    "\n",
    "trans_list.append(trans_ppcs)\n",
    "\n",
    "\n",
    "#Transgenic PPDK Copy\n",
    "#Since it already exists I'll just copy and readd it\n",
    "trans_ppdks_m = Reaction('trans_PPDKs_M')\n",
    "trans_ppdks_m.add_metabolites(model.reactions.PPDKs_M.metabolites)\n",
    "trans_ppdks_m.bounds = model.reactions.PPDKs_M.bounds\n",
    "trans_ppdks_m.name = \"Pyruvate phosphate dikinase, plastidic (Transgenic)\"\n",
    "\n",
    "trans_ppdks_bs = Reaction('trans_PPDKs_BS')\n",
    "trans_ppdks_bs.add_metabolites(model.reactions.PPDKs_BS.metabolites)\n",
    "trans_ppdks_bs.bounds = model.reactions.PPDKs_BS.bounds\n",
    "trans_ppdks_bs.name = \"Pyruvate phosphate dikinase, plastidic (Transgenic)\"\n",
    "\n",
    "trans_list.append(trans_ppdks_m)\n",
    "trans_list.append(trans_ppdks_bs)\n",
    "\n",
    "\n",
    "#Transgenic NADP-ME\n",
    "#NADP-ME = Mitochondrial in M\n",
    "trans_nadp_me = Reaction('trans_MDHym_M')\n",
    "\n",
    "#retrieve reactants\n",
    "mal_m0 = model.metabolites.get_by_id('mal-L_m0')\n",
    "nadp_m0 = model.metabolites.nadp_m0\n",
    "h_m0 = model.metabolites.h_m0\n",
    "nadph_m0 = model.metabolites.nadph_m0\n",
    "oaa_m0 = model.metabolites.oaa_m0\n",
    "\n",
    "#Add to rxn\n",
    "trans_nadp_me.add_metabolites({mal_m0:-1, nadp_m0:-1, h_m0:1, nadph_m0:1, oaa_m0:1})\n",
    "#Add bounds\n",
    "trans_nadp_me.bounds=(-inf, inf)\n",
    "\n",
    "trans_list.append(trans_nadp_me)\n",
    "\n",
    "\n",
    "#Malate Dehydrogenase, mitochondrial (M cell)\n",
    "trans_MDHm_M = Reaction('trans_MDHm_M')\n",
    "trans_MDHm_M.name = 'Malate Dehydrogenase, Mitochondrial'\n",
    "trans_MDHm_M.add_metabolites(model.reactions.MDHm_M.metabolites)\n",
    "trans_MDHm_M.subsystem = model.reactions.MDHm_M.subsystem\n",
    "\n",
    "trans_list.append(trans_MDHm_M)\n",
    "\n",
    "#Malate dehydrogenase, plastidic (M cell)\n",
    "trans_MDHs_M = Reaction('trans_MDHs_M')\n",
    "trans_MDHs_M.name = 'Malate Dehydrogenase, Plastidic'\n",
    "trans_MDHs_M.add_metabolites(model.reactions.MDHs_M.metabolites)\n",
    "trans_MDHs_M.subsystem = model.reactions.MDHs_M.subsystem\n",
    "\n",
    "trans_list.append(trans_MDHs_M)\n",
    "\n",
    "#Malate dehydrogenase, plastidic(BS Cell)\n",
    "trans_MDHs_BS = Reaction('trans_MDHs_BS')\n",
    "trans_MDHs_BS.name = 'Malate Dehydrogenase, Plastidic'\n",
    "trans_MDHs_BS.add_metabolites(model.reactions.MDHs_BS.metabolites)\n",
    "trans_MDHs_BS.subsystem = model.reactions.MDHs_BS.subsystem\n",
    "\n",
    "trans_list.append(trans_MDHs_BS)\n",
    "\n",
    "\n",
    "#Trans CA\n",
    "#Cytosolic in M\n",
    "trans_hco3ec_M = Reaction('trans_hco3ec_M')\n",
    "trans_hco3ec_M.name = 'carbonic anhydrase, cytosolic'\n",
    "trans_hco3ec_M.add_metabolites(model.reactions.HCO3Ec_M.metabolites)\n",
    "trans_hco3ec_M.bounds = model.reactions.HCO3Ec_M.bounds\n",
    "\n",
    "trans_hco3ec_M.subsystem = model.reactions.HCO3Ec_M.subsystem\n",
    "trans_list.append(trans_hco3ec_M)\n",
    "\n",
    "\n",
    "#Bulk add to model\n",
    "model.add_reactions(trans_list)\n",
    "\n",
    "print(\"Successfully added transgenic reactions\")\n",
    "print('List of reactions added: ')\n",
    "for items in trans_list:\n",
    "    print(items.id)\n"
   ]
  },
  {
   "cell_type": "code",
   "execution_count": 8,
   "id": "852316e6",
   "metadata": {
    "ExecuteTime": {
     "end_time": "2022-05-02T22:49:43.717217Z",
     "start_time": "2022-05-02T22:49:43.693495Z"
    }
   },
   "outputs": [
    {
     "name": "stdout",
     "output_type": "stream",
     "text": [
      "Successfully added Transgenic-specific constraints\n"
     ]
    }
   ],
   "source": [
    "#The following code block is done to\n",
    "#Define rates\n",
    "trans_pepc_rates = 7.01 #umol m-2 s-1\n",
    "trans_ppdks_rates = 3.66 #umol m-2 s-1\n",
    "trans_mdh_rates = 152.87 #umol m-2 s-1\n",
    "trans_nadp_me_rates = 0.60 #umol m-2 s-1\n",
    "trans_CA_rates = 8 #umol m-2  s-1 bar-1 (Constrained to CO2 amounting to 400-500 mbar) (1 bar = 15.74 umol m-2 s-1 CA activity)\n",
    "\n",
    "\n",
    "#Generate constraints on top of WT constraints\n",
    "\n",
    "#Retrieve trans reactions\n",
    "trans_PPCs_M = mm.get_rxn(model, 'trans_PPCs_M')\n",
    "trans_ppdks_M  = mm.get_rxn(model, 'trans_PPDKs_M')\n",
    "trans_ppdks_BS = mm.get_rxn(model, 'trans_PPDKs_BS')\n",
    "trans_MDHm_M = mm.get_rxn(model, 'trans_MDHm_M')\n",
    "trans_MDHs_M = mm.get_rxn(model, 'trans_MDHs_M')\n",
    "trans_MDHs_BS = mm.get_rxn(model, 'trans_MDHs_BS')\n",
    "trans_MDHym_M = mm.get_rxn(model, 'trans_MDHym_M')\n",
    "trans_hco3ec_M = mm.get_rxn(model, 'trans_hco3ec_M')\n",
    "\n",
    "\n",
    "#PEPC constraint\n",
    "trans_pepc_cons = model.problem.Constraint(trans_PPCs_M.flux_expression\n",
    "                                        +pepc_BS.flux_expression \n",
    "                                        + pepc_M.flux_expression, \n",
    "                                        lb = 0, ub = trans_pepc_rates)\n",
    "\n",
    "model.add_cons_vars(trans_pepc_cons)\n",
    "\n",
    "\n",
    "trans_ppdks_cons = model.problem.Constraint( \n",
    "    trans_ppdks_BS.flux_expression +trans_ppdks_M.flux_expression \n",
    "    +ppdks_BS.flux_expression + ppdks_M.flux_expression, \n",
    "                                         lb = 0, ub = trans_ppdks_rates)\n",
    "trans_ppdks_cons.name = 'trans_ppdks_cons'\n",
    "model.add_cons_vars(trans_ppdks_cons)\n",
    "\n",
    "\n",
    "\n",
    "trans_mdh_cons =  model.problem.Constraint(\n",
    "   trans_MDHm_M.flux_expression + mdhm_M.flux_expression\n",
    "    + trans_MDHs_M.flux_expression + trans_MDHs_BS.flux_expression,\n",
    "                                       lb= 0, ub=trans_mdh_rates)\n",
    "\n",
    "trans_mdh_cons.name = \"trans_mdh_cons\"\n",
    "model.add_cons_vars(trans_mdh_cons)\n",
    "\n",
    "\n",
    "trans_nadpme_cons = model.problem.Constraint(\n",
    "    trans_MDHym_M.flux_expression + nadp_me_M.flux_expression + nadp_me_BS.flux_expression,\n",
    "                                         lb= 0, ub=trans_nadp_me_rates)\n",
    "trans_nadpme_cons.name = \"trans_nadpme\"\n",
    "model.add_cons_vars(trans_nadpme_cons)\n",
    "\n",
    "\n",
    "trans_ca_cons = model.problem.Constraint(trans_hco3ec_M.flux_expression + hco3es_m + hco3ec_m + hco3em_m \n",
    "                                   + hco3es_bs + hco3ec_bs + hco3em_bs,\n",
    "                                  lb = -trans_CA_rates, ub = trans_CA_rates)\n",
    "ca_cons.name = 'Trans_CA_cons'\n",
    "model.add_cons_vars(trans_ca_cons)\n",
    "\n",
    "print('Successfully added Transgenic-specific constraints')"
   ]
  },
  {
   "cell_type": "code",
   "execution_count": 9,
   "id": "2eb4e905",
   "metadata": {
    "ExecuteTime": {
     "end_time": "2022-05-02T22:49:54.086636Z",
     "start_time": "2022-05-02T22:49:54.020823Z"
    }
   },
   "outputs": [],
   "source": [
    "model.repair()"
   ]
  },
  {
   "cell_type": "code",
   "execution_count": 10,
   "id": "8ccb6b62",
   "metadata": {
    "ExecuteTime": {
     "end_time": "2022-05-02T22:49:55.777023Z",
     "start_time": "2022-05-02T22:49:55.765942Z"
    },
    "scrolled": true
   },
   "outputs": [
    {
     "name": "stdout",
     "output_type": "stream",
     "text": [
      "Successfully added NGAM ratio constraint\n"
     ]
    }
   ],
   "source": [
    "# #This code block is to set a constraint such that M-to-BS cell NGAM ratio is 10-to-1 \n",
    "# #Similar to what Moreno-Villena (2021) (preprint) had done \n",
    "\n",
    "ngam_atp_m = model.reactions.ngam_atp_c_M\n",
    "ngam_atp_bs = model.reactions.ngam_atp_c_BS\n",
    "ngam_atp_m.bounds = (0,1000)\n",
    "ngam_atp_bs.bounds = (0,1000)\n",
    "ngam_ratio = mm.set_fix_flux_ratio({ngam_atp_m.id:10, ngam_atp_bs.id:1}, model)\n",
    "ngam_ratio.name = 'ngam_BS/M_ratio'\n",
    "model.add_cons_vars(ngam_ratio)\n",
    "\n",
    "print('Successfully added NGAM ratio constraint')"
   ]
  },
  {
   "cell_type": "markdown",
   "id": "fb978d85",
   "metadata": {},
   "source": [
    "This code block is to add the constraints for ngam nadphox, which for some reason doesn't save when it was generated using the curation script. I think this is because the constraint objects are only retrieved from the bounds encoded in the SBML.\n"
   ]
  },
  {
   "cell_type": "code",
   "execution_count": 11,
   "id": "118ff637",
   "metadata": {
    "ExecuteTime": {
     "end_time": "2022-05-02T22:49:59.494820Z",
     "start_time": "2022-05-02T22:49:59.487521Z"
    }
   },
   "outputs": [
    {
     "name": "stdout",
     "output_type": "stream",
     "text": [
      "successfully added nadphox constraint\n"
     ]
    }
   ],
   "source": [
    "#Retrieve NGAM reactions\n",
    "ngam_nadphox_c_M = mm.get_rxn(model, 'ngam_nadphox_c_M')\n",
    "ngam_nadphox_s_M = mm.get_rxn(model, 'ngam_nadphox_s_M')\n",
    "ngam_nadphox_m_M = mm.get_rxn(model, 'ngam_nadphox_m_M')\n",
    "ngam_nadphox_c_BS = mm.get_rxn(model, 'ngam_nadphox_c_BS')\n",
    "ngam_nadphox_s_BS = mm.get_rxn(model, 'ngam_nadphox_s_BS')\n",
    "ngam_nadphox_m_BS = mm.get_rxn(model, 'ngam_nadphox_m_BS')\n",
    "\n",
    "\n",
    "#Set Fixed fluxes\n",
    "nadphox_c_s_M = mm.set_fix_flux_ratio({ngam_nadphox_c_M.id:1, ngam_nadphox_s_M.id:1},model)\n",
    "nadphox_c_s_M.name = \"nadphox_cs_ratio_M\"\n",
    "nadphox_s_m_M = mm.set_fix_flux_ratio({ngam_nadphox_s_M.id:1, ngam_nadphox_m_M.id:1}, model)\n",
    "nadphox_s_m_M.name = \"nadphox_sm_ratio_M\"\n",
    "\n",
    "nadphox_c_s_BS = mm.set_fix_flux_ratio({ngam_nadphox_c_BS.id:1, ngam_nadphox_s_BS.id:1},model)\n",
    "nadphox_c_s_BS.name = \"nadphox_cs_ratio_BS\"\n",
    "nadphox_s_m_BS = mm.set_fix_flux_ratio({ngam_nadphox_s_BS.id:1, ngam_nadphox_m_BS.id:1}, model)\n",
    "nadphox_s_m_BS.name = \"nadphox_sm_ratio_BS\"\n",
    "\n",
    "#Add constraints\n",
    "model.add_cons_vars(nadphox_c_s_M)\n",
    "model.add_cons_vars(nadphox_s_m_M)\n",
    "model.add_cons_vars(nadphox_c_s_BS)\n",
    "model.add_cons_vars(nadphox_s_m_BS)\n",
    "\n",
    "print('successfully added nadphox constraint')"
   ]
  },
  {
   "cell_type": "code",
   "execution_count": 12,
   "id": "71f207af",
   "metadata": {
    "ExecuteTime": {
     "end_time": "2022-05-02T22:50:01.866848Z",
     "start_time": "2022-05-02T22:50:01.852124Z"
    }
   },
   "outputs": [
    {
     "name": "stdout",
     "output_type": "stream",
     "text": [
      "successfully added nadphox/atpase ratio\n"
     ]
    }
   ],
   "source": [
    "\n",
    "#Retrieve flux expressionns\n",
    "fex_nadphox_c_M =  mm.get_flux_exp(model, ngam_nadphox_c_M)\n",
    "fex_nadphox_s_M = mm.get_flux_exp(model, ngam_nadphox_s_M)\n",
    "fex_nadphox_m_M = mm.get_flux_exp(model, ngam_nadphox_m_M)\n",
    "\n",
    "fex_nadphox_c_BS =  mm.get_flux_exp(model, ngam_nadphox_c_BS)\n",
    "fex_nadphox_s_BS =  mm.get_flux_exp(model, ngam_nadphox_s_BS)\n",
    "fex_nadphox_m_BS =  mm.get_flux_exp(model, ngam_nadphox_m_BS)\n",
    "\n",
    "fex_atp_c_M = mm.get_flux_exp(model, ngam_atp_m)\n",
    "fex_atp_c_BS =  mm.get_flux_exp(model, ngam_atp_bs)\n",
    "\n",
    "#Set the constraint between ATP:NADPH NGAM to 3:1\n",
    "nadphox_atpase = model.problem.Constraint(3*(fex_nadphox_c_M + fex_nadphox_s_M + fex_nadphox_m_M\n",
    "                                                   + fex_nadphox_c_BS + fex_nadphox_s_BS + fex_nadphox_m_BS) \n",
    "                                     - 1*(fex_atp_c_M + fex_atp_c_BS),\n",
    "                                     lb=0,ub=0)\n",
    "nadphox_atpase.name = \"nadphox_atpase_ratio\"\n",
    "model.add_cons_vars(nadphox_atpase)\n",
    "\n",
    "print('successfully added nadphox/atpase ratio')"
   ]
  },
  {
   "cell_type": "code",
   "execution_count": 13,
   "id": "bceecf4b",
   "metadata": {
    "ExecuteTime": {
     "end_time": "2022-05-02T22:50:04.608296Z",
     "start_time": "2022-05-02T22:50:04.605379Z"
    }
   },
   "outputs": [],
   "source": [
    "file = csv.reader(open('../misc/leaf_inactivated.tsv'), delimiter='\\t')\n",
    "leaf_inactive_rxns = list()\n",
    "for rows in file:\n",
    "    row_m = str()\n",
    "    row_bs = str()\n",
    "    for rxns in rows:\n",
    "        row_m += str(rxns) + \"_M\"\n",
    "        row_bs += str(rxns) + \"_BS\"\n",
    "    leaf_inactive_rxns.append(row_m)\n",
    "    leaf_inactive_rxns.append(row_bs)"
   ]
  },
  {
   "cell_type": "code",
   "execution_count": 14,
   "id": "33f01962",
   "metadata": {
    "ExecuteTime": {
     "end_time": "2022-05-02T22:50:07.494720Z",
     "start_time": "2022-05-02T22:50:07.462264Z"
    }
   },
   "outputs": [
    {
     "name": "stdout",
     "output_type": "stream",
     "text": [
      "Coleoptile_Biomass_M (0.0, 1000000.0)\n",
      "PRISM_blue_LED_M (0.0, 0.0)\n",
      "PRISM_red_LED_M (0.0, 0.0)\n",
      "PRISM_green_LED_M (0.0, 0.0)\n",
      "GDHym_M (-1000000.0, 0.0)\n",
      "GDHm_M (-1000000.0, 0.0)\n",
      "AGATx_M (-1000000.0, 0.0)\n",
      "AGATs_M (-1000000.0, 0.0)\n",
      "ICDHc_M (-1000000.0, 0.0)\n",
      "GTHPs_M (0.0, 1000000.0)\n",
      "GLCNGBc_M (-1000000.0, 0.0)\n",
      "GLCNGAc_M (-1000000.0, 0.0)\n",
      "ASPTAm_M (-1000000.0, 0.0)\n",
      "PDHam1m_M (0.0, 1000000.0)\n",
      "PDHam2m_M (0.0, 1000000.0)\n",
      "PDHe2m_M (-1000000.0, 0.0)\n",
      "PDHe3m_M (-1000000.0, 0.0)\n",
      "THR3DHx_M (0.0, 1000000.0)\n",
      "FDHNc_M (0.0, 1000000.0)\n",
      "SULOm_M (0.0, 1000000.0)\n",
      "ASNS1c_M (0.0, 1000000.0)\n",
      "GLYCORc_M (0.0, 1000000.0)\n",
      "TYRTAs_M (0.0, 1000000.0)\n",
      "ARGOAT1s_M (-1000000.0, 0.0)\n",
      "PGI2c_M (-1000000.0, 0.0)\n",
      "PGI2s_M (-1000000.0, 0.0)\n",
      "GAMPTc_M (-1000000.0, 0.0)\n",
      "FTHFLc_M (-1000000.0, 0.0)\n",
      "CALANc_M (-1000000.0, 0.0)\n",
      "FORAc_M (-1000000.0, 0.0)\n",
      "SHMTs_M (-1000000.0, 0.0)\n",
      "MLTHFRs_M (-1000000.0, 0.0)\n",
      "METSc_M (-1000000.0, 0.0)\n",
      "GAPDHys_M (0.0, 1000000.0)\n",
      "GAPDH2s_M (0.0, 1000000.0)\n",
      "MTHFDm_M (-1000000.0, 0.0)\n",
      "MTHFDc_M (-1000000.0, 0.0)\n",
      "FTHFCLc_M (-1000000.0, 0.0)\n",
      "MTHFDym_M (-1000000.0, 0.0)\n",
      "MTHFDys_M (-1000000.0, 0.0)\n",
      "GLYK2s_M (-1000000.0, 0.0)\n",
      "UREASEc_M (0.0, 1000000.0)\n",
      "ATSc_M (0.0, 1000000.0)\n",
      "SHSL1s_M (0.0, 1000000.0)\n",
      "SPPAs_M (0.0, 1000000.0)\n",
      "PFPc_M (0.0, 1000000.0)\n",
      "PTOXs_M (0.0, 1000000.0)\n",
      "PFKc_M (0.0, 1000000.0)\n",
      "PFKs_M (0.0, 1000000.0)\n",
      "AAs_M (0.0, 1000000.0)\n",
      "CHLASEs_M (-1000000.0, 0.0)\n",
      "ALTNDAc_M (0.0, 1000000.0)\n",
      "NADOR2u_M (0.0, 1000000.0)\n",
      "AKGCITtm_M (-1000000.0, 0.0)\n",
      "AKGICITtm_M (-1000000.0, 0.0)\n",
      "MALICITtm_M (-1000000.0, 0.0)\n",
      "MALOAAtm_M (-1000000.0, 0.0)\n",
      "OAAAKGtm_M (-1000000.0, 0.0)\n",
      "OAACITtm_M (-1000000.0, 0.0)\n",
      "OAAICITtm_M (-1000000.0, 0.0)\n",
      "5FTHFtm_M (-1000000.0, 0.0)\n",
      "MLTHFtm_M (-1000000.0, 0.0)\n",
      "NA1Htm_M (-1000000.0, 0.0)\n",
      "5FTHFts_M (-1000000.0, 0.0)\n",
      "5MTHFts_M (-1000000.0, 0.0)\n",
      "G3P(pi)tsr_M (-1000000.0, 0.0)\n",
      "G6PA(pi)ts_M (-1000000.0, 0.0)\n",
      "G6PB(pi)ts_M (-1000000.0, 0.0)\n",
      "PEPPIts_M (0.0, 1000000.0)\n",
      "PINA1ts_M (0.0, 1000000.0)\n",
      "IPADNEts_M (-1000000.0, 0.0)\n",
      "TZTNts_M (-1000000.0, 0.0)\n",
      "FA140CoAr_M (-1000000.0, 0.0)\n",
      "FA160CoAr_M (-1000000.0, 0.0)\n",
      "FA161CoAr_M (-1000000.0, 0.0)\n",
      "FA180CoAr_M (-1000000.0, 0.0)\n",
      "FA181CoAr_M (-1000000.0, 0.0)\n",
      "FA183CoAr_M (-1000000.0, 0.0)\n",
      "Coleoptile_Biomass_BS (0.0, 1000000.0)\n",
      "PRISM_blue_LED_BS (0.0, 0.0)\n",
      "PRISM_red_LED_BS (0.0, 0.0)\n",
      "PRISM_green_LED_BS (0.0, 0.0)\n",
      "GDHym_BS (-1000000.0, 0.0)\n",
      "GDHm_BS (-1000000.0, 0.0)\n",
      "AGATx_BS (-1000000.0, 0.0)\n",
      "AGATs_BS (-1000000.0, 0.0)\n",
      "ICDHc_BS (-1000000.0, 0.0)\n",
      "GTHPs_BS (0.0, 1000000.0)\n",
      "GLCNGBc_BS (-1000000.0, 0.0)\n",
      "GLCNGAc_BS (-1000000.0, 0.0)\n",
      "ASPTAm_BS (-1000000.0, 0.0)\n",
      "PDHam1m_BS (0.0, 1000000.0)\n",
      "PDHam2m_BS (0.0, 1000000.0)\n",
      "PDHe2m_BS (-1000000.0, 0.0)\n",
      "PDHe3m_BS (-1000000.0, 0.0)\n",
      "THR3DHx_BS (0.0, 1000000.0)\n",
      "FDHNc_BS (0.0, 1000000.0)\n",
      "SULOm_BS (0.0, 1000000.0)\n",
      "ASNS1c_BS (0.0, 1000000.0)\n",
      "GLYCORc_BS (0.0, 1000000.0)\n",
      "TYRTAs_BS (0.0, 1000000.0)\n",
      "ARGOAT1s_BS (-1000000.0, 0.0)\n",
      "PGI2c_BS (-1000000.0, 0.0)\n",
      "PGI2s_BS (-1000000.0, 0.0)\n",
      "GAMPTc_BS (-1000000.0, 0.0)\n",
      "FTHFLc_BS (-1000000.0, 0.0)\n",
      "CALANc_BS (-1000000.0, 0.0)\n",
      "FORAc_BS (-1000000.0, 0.0)\n",
      "SHMTs_BS (-1000000.0, 0.0)\n",
      "MLTHFRs_BS (-1000000.0, 0.0)\n",
      "METSc_BS (-1000000.0, 0.0)\n",
      "GAPDHys_BS (0.0, 1000000.0)\n",
      "GAPDH2s_BS (0.0, 1000000.0)\n",
      "MTHFDm_BS (-1000000.0, 0.0)\n",
      "MTHFDc_BS (-1000000.0, 0.0)\n",
      "FTHFCLc_BS (-1000000.0, 0.0)\n",
      "MTHFDym_BS (-1000000.0, 0.0)\n",
      "MTHFDys_BS (-1000000.0, 0.0)\n",
      "GLYK2s_BS (-1000000.0, 0.0)\n",
      "UREASEc_BS (0.0, 1000000.0)\n",
      "ATSc_BS (0.0, 1000000.0)\n",
      "SHSL1s_BS (0.0, 1000000.0)\n",
      "SPPAs_BS (0.0, 1000000.0)\n",
      "PFPc_BS (0.0, 1000000.0)\n",
      "PTOXs_BS (0.0, 1000000.0)\n",
      "PFKc_BS (0.0, 1000000.0)\n",
      "PFKs_BS (0.0, 1000000.0)\n",
      "AAs_BS (0.0, 1000000.0)\n",
      "CHLASEs_BS (-1000000.0, 0.0)\n",
      "ALTNDAc_BS (0.0, 1000000.0)\n",
      "NADOR2u_BS (0.0, 1000000.0)\n",
      "AKGCITtm_BS (-1000000.0, 0.0)\n",
      "AKGICITtm_BS (-1000000.0, 0.0)\n",
      "MALICITtm_BS (-1000000.0, 0.0)\n",
      "MALOAAtm_BS (-1000000.0, 0.0)\n",
      "OAAAKGtm_BS (-1000000.0, 0.0)\n",
      "OAACITtm_BS (-1000000.0, 0.0)\n",
      "OAAICITtm_BS (-1000000.0, 0.0)\n",
      "5FTHFtm_BS (-1000000.0, 0.0)\n",
      "MLTHFtm_BS (-1000000.0, 0.0)\n",
      "NA1Htm_BS (-1000000.0, 0.0)\n",
      "5FTHFts_BS (-1000000.0, 0.0)\n",
      "5MTHFts_BS (-1000000.0, 0.0)\n",
      "G3P(pi)tsr_BS (-1000000.0, 0.0)\n",
      "G6PA(pi)ts_BS (-1000000.0, 0.0)\n",
      "G6PB(pi)ts_BS (-1000000.0, 0.0)\n",
      "PEPPIts_BS (0.0, 1000000.0)\n",
      "PINA1ts_BS (0.0, 1000000.0)\n",
      "IPADNEts_BS (-1000000.0, 0.0)\n",
      "TZTNts_BS (-1000000.0, 0.0)\n",
      "FA140CoAr_BS (-1000000.0, 0.0)\n",
      "FA160CoAr_BS (-1000000.0, 0.0)\n",
      "FA161CoAr_BS (-1000000.0, 0.0)\n",
      "FA180CoAr_BS (-1000000.0, 0.0)\n",
      "FA181CoAr_BS (-1000000.0, 0.0)\n",
      "FA183CoAr_BS (-1000000.0, 0.0)\n"
     ]
    }
   ],
   "source": [
    "\n",
    "for rxns in model.reactions:\n",
    "    if rxns.id in leaf_inactive_rxns: \n",
    "         print(rxns.id, rxns.bounds)\n"
   ]
  },
  {
   "cell_type": "code",
   "execution_count": null,
   "id": "9cfa120d",
   "metadata": {
    "ExecuteTime": {
     "end_time": "2022-05-02T20:34:11.419235Z",
     "start_time": "2022-05-02T20:34:08.249670Z"
    }
   },
   "outputs": [],
   "source": [
    "# # This code block is to test whether a single iteration works. Maybe I should implement the kinetic constraints by Von Caemmerer to obtain proper \n",
    "# #proper values? I think that would be a better approach, I think.\n",
    "\n",
    "\n",
    "with model:\n",
    "                                                                                                                                                                                                                                                                                                                      \n",
    "    model_media['EX_photonVis(e)'] = 100\n",
    "    model_media['EX_co2(e)'] = 0\n",
    "    model_media['EX_o2(e)'] = 0#2.2618\n",
    "    model.medium = model_media\n",
    "    \n",
    "#     #Set NGAM\n",
    "    ngam_value = compute_ngam_atp(100)\n",
    "    ngam_cons = model.problem.Constraint(fex_atp_c_M + \n",
    "                                        fex_atp_c_BS, lb=ngam_value, ub=ngam_value)\n",
    "    model.add_cons_vars(ngam_cons)\n",
    "#Constrain O2 intake to 3.312 mmol O2 gcw -1 d-1 ~~ 2.2618 umol O2 m-2 s-1 (from Lakshmanan et al. 2016)\n",
    "    #Change objective function to mature leaf\n",
    "    model.reactions.get_by_id('Straw_Biomass_M').objective_coefficient = 0\n",
    "    model.reactions.get_by_id('Straw_Biomass_BS').objective_coefficient = 0\n",
    "    mm.get_rxn(model,'DM_Phloem_BS').objective_coefficient = 1\n",
    "    sample_fluxes = cobra.flux_analysis.pfba(model).fluxes\n",
    "    #Remove thermodynamically infeasible loops\n",
    "    sample_fluxes = cobra.flux_analysis.loopless_solution(model, sample_fluxes)\n",
    "    \n",
    "    sample_fluxes_df = sample_fluxes.to_frame()\n",
    "    \n",
    "    temp_model = model\n",
    "    \n",
    "\n",
    "sample_fluxes\n",
    "    "
   ]
  },
  {
   "cell_type": "code",
   "execution_count": 41,
   "id": "38efb008",
   "metadata": {
    "ExecuteTime": {
     "end_time": "2022-05-02T23:47:52.853926Z",
     "start_time": "2022-05-02T23:46:40.886573Z"
    }
   },
   "outputs": [
    {
     "name": "stderr",
     "output_type": "stream",
     "text": [
      "/home/rtsantos3/anaconda3/lib/python3.8/site-packages/cobra/util/solver.py:554: UserWarning: Solver status is 'infeasible'.\n",
      "  warn(f\"Solver status is '{status}'.\", UserWarning)\n",
      "Could not get flux for reaction FAC_Osr_BS, setting it to NaN. This is usually due to numerical instability.\n",
      "/home/rtsantos3/anaconda3/lib/python3.8/site-packages/cobra/util/solver.py:554: UserWarning: Solver status is 'infeasible'.\n",
      "  warn(f\"Solver status is '{status}'.\", UserWarning)\n",
      "Could not get flux for reaction PEDCm_M, setting it to NaN. This is usually due to numerical instability.\n",
      "/home/rtsantos3/anaconda3/lib/python3.8/site-packages/cobra/util/solver.py:554: UserWarning: Solver status is 'infeasible'.\n",
      "  warn(f\"Solver status is '{status}'.\", UserWarning)\n",
      "Could not get flux for reaction FAOS183yx_BS, setting it to NaN. This is usually due to numerical instability.\n",
      "/home/rtsantos3/anaconda3/lib/python3.8/site-packages/cobra/util/solver.py:554: UserWarning: Solver status is 'infeasible'.\n",
      "  warn(f\"Solver status is '{status}'.\", UserWarning)\n",
      "Could not get flux for reaction UGDCc_BS, setting it to NaN. This is usually due to numerical instability.\n",
      "/home/rtsantos3/anaconda3/lib/python3.8/site-packages/cobra/util/solver.py:554: UserWarning: Solver status is 'infeasible'.\n",
      "  warn(f\"Solver status is '{status}'.\", UserWarning)\n",
      "Could not get flux for reaction DM_COA(c)_M, setting it to NaN. This is usually due to numerical instability.\n",
      "/home/rtsantos3/anaconda3/lib/python3.8/site-packages/cobra/util/solver.py:554: UserWarning: Solver status is 'infeasible'.\n",
      "  warn(f\"Solver status is '{status}'.\", UserWarning)\n",
      "Could not get flux for reaction TRPS2s_M, setting it to NaN. This is usually due to numerical instability.\n",
      "Could not get flux for reaction ADPARTs_M, setting it to NaN. This is usually due to numerical instability.\n"
     ]
    },
    {
     "data": {
      "text/plain": [
       "Coleoptile_Biomass_M    0.000000\n",
       "Straw_Biomass_M         0.000000\n",
       "ACCOAC_OSAc_M           0.000000\n",
       "ACCOAC_OSAr_M           0.000000\n",
       "ACPC_OSs_M              0.000000\n",
       "                          ...   \n",
       "trans_MDHym_M           0.418344\n",
       "trans_MDHm_M            1.523168\n",
       "trans_MDHs_M            0.000000\n",
       "trans_MDHs_BS           0.000000\n",
       "trans_hco3ec_M          0.000000\n",
       "Name: fluxes, Length: 4933, dtype: float64"
      ]
     },
     "execution_count": 41,
     "metadata": {},
     "output_type": "execute_result"
    }
   ],
   "source": [
    "# This code block is to test whether a single iteration works. Maybe I should implement the kinetic constraints by Von Caemmerer to obtain proper \n",
    "#proper values? I think that would be a better approach, I think.\n",
    "\n",
    "\n",
    "with model:\n",
    "\n",
    "    for rxns in model.reactions:\n",
    "        if rxns.id in leaf_inactive_rxns: #Turn off all reactions in the list loaded above\n",
    "             rxns.bounds = (0,0)\n",
    "\n",
    "    model_media['EX_photonVis(e)'] = 1000\n",
    "    model_media['EX_co2(e)'] = 5\n",
    "    model_media['EX_o2(e)'] = 2.2#2.2618\n",
    "    model.medium = model_media\n",
    "    \n",
    "#     #Set NGAM\n",
    "    ngam_value = compute_ngam_atp(200)\n",
    "    ngam_cons = model.problem.Constraint(fex_atp_c_M + \n",
    "                                        fex_atp_c_BS, lb=ngam_value, ub=ngam_value)\n",
    "    model.add_cons_vars(ngam_cons)\n",
    "#Constrain O2 intake to 3.312 mmol O2 gcw -1 d-1 ~~ 2.2618 umol O2 m-2 s-1 (from Lakshmanan et al. 2016)\n",
    "    #Change objective function to mature leaf\n",
    "    model.reactions.get_by_id('Straw_Biomass_M').objective_coefficient = 0\n",
    "    model.reactions.get_by_id('Straw_Biomass_BS').objective_coefficient = 0\n",
    "    mm.get_rxn(model,'DM_Phloem_BS').objective_coefficient = 1\n",
    "    sample_fluxes = cobra.flux_analysis.pfba(model).fluxes\n",
    "    sample_fluxes_df = sample_fluxes.to_frame()\n",
    "    \n",
    "    #Get blocked reactions\n",
    "    blocked_rxns = cobra.flux_analysis.find_blocked_reactions(model)\n",
    "    \n",
    "\n",
    "sample_fluxes\n",
    "    "
   ]
  },
  {
   "cell_type": "code",
   "execution_count": 47,
   "id": "e53f55dc",
   "metadata": {
    "ExecuteTime": {
     "end_time": "2022-05-02T23:49:45.083663Z",
     "start_time": "2022-05-02T23:49:45.078078Z"
    }
   },
   "outputs": [
    {
     "data": {
      "text/plain": [
       "2520"
      ]
     },
     "execution_count": 47,
     "metadata": {},
     "output_type": "execute_result"
    }
   ],
   "source": []
  },
  {
   "cell_type": "code",
   "execution_count": null,
   "id": "e79bbd95",
   "metadata": {
    "ExecuteTime": {
     "end_time": "2022-05-02T22:34:15.454048Z",
     "start_time": "2022-05-02T22:34:15.445011Z"
    }
   },
   "outputs": [],
   "source": [
    "#This code  block gives a snapshot of the relevant fluxes on each of the cell types based on the saved sample_fluxes values above\n",
    "print('rbcl M cell: ', sample_fluxes['RBPCs_M'], 'rbcl BS cell: ',sample_fluxes['RBPCs_BS'])\n",
    "print('rbcl M cell (photorespiration)', sample_fluxes['RBPOs_M'], 'rbcl BS cell (PR)', sample_fluxes['RBPOs_BS'])\n",
    "print('vc/vo M:', sample_fluxes['RBPCs_M']/sample_fluxes['RBPOs_M'], 'vc/vo BS:', sample_fluxes['RBPCs_BS']/sample_fluxes['RBPOs_BS'])\n",
    "print('PEPC M', sample_fluxes['PPCc_M'], 'PEPC BS', sample_fluxes['PPCc_BS'])\n",
    "print('Carbonic Anhydrase (Cytosolic) M', sample_fluxes['HCO3Ec_M'], 'Carbonic Anhydrase (Cytosolic) BS', sample_fluxes['HCO3Ec_BS'])\n",
    "print('NADP-ME M', sample_fluxes['MDHys_M'], 'NADP-ME BS', sample_fluxes['MDHys_BS'])\n",
    "print('Biomass M: ', sample_fluxes['Straw_Biomass_M'], 'Biomass BS', sample_fluxes['Straw_Biomass_BS'])\n",
    "print('Phloem M: ', sample_fluxes['DM_Phloem_M'], 'Phloem BS', sample_fluxes['DM_Phloem_BS'])\n",
    "print('co2 consumption M', sample_fluxes[co2tex_m.id], 'co2 consumption BS', sample_fluxes[co2tex_bs.id])\n",
    "print('o2 consumption M', sample_fluxes['O2tex_M'], 'o2 consumption BS', sample_fluxes['O2tex_BS'])\n",
    "print('Photosystem II M', sample_fluxes['PSIINC_M'], 'PSII BS', sample_fluxes['PSIINC_BS'])\n",
    "print('PSI M', sample_fluxes['PSIMR_M'], 'PSI BS', sample_fluxes['PSIMR_BS'])\n",
    "print('PPFD M: ', sample_fluxes['PRISM_white_LED_M'], 'PPFD BS: ', sample_fluxes['PRISM_white_LED_BS'])\n",
    "\n",
    "pd_rxn = [x for x in model.reactions if \"pd\" in x.id and \"h2o\" not in x.id]\n",
    "pd_abs_flux = 0\n",
    "for pds in pd_rxn:\n",
    "    pd_abs_flux += abs(sample_fluxes[pds.id])\n",
    "    \n",
    "print('pd_abs_flux: ', pd_abs_flux)"
   ]
  },
  {
   "cell_type": "code",
   "execution_count": null,
   "id": "2aba040d",
   "metadata": {
    "ExecuteTime": {
     "end_time": "2022-04-29T00:58:50.639169Z",
     "start_time": "2022-04-29T00:58:50.637554Z"
    }
   },
   "outputs": [],
   "source": [
    "# #This code block is to generate flux values thru the network given a set of constraints to PPFD\n",
    "\n",
    "# ppfd_solns_2cell_fba = pd.DataFrame(index=list(i.id for i in model.reactions))\n",
    "# ppfd_solns_2cell_fva  = pd.DataFrame(index=list(i.id for i in model.reactions))\n",
    "\n",
    "# #Iterate from range 0 to 2000 w/ increments of 50 (max ppfd)\n",
    "   \n",
    "# for i in range(0,2100,50):\n",
    "#     with model:\n",
    "#         ppfd = i \n",
    "#         #Set medium to change photon flux and other things and re-add to model\n",
    "#         model_media['EX_photonVis(e)'] = ppfd\n",
    "#         model_media['EX_co2(e)'] = 29\n",
    "#         model_media['EX_o2(e)'] = 2.2618 #umol/m^2 s O2\n",
    "#         model.medium = model_media\n",
    "\n",
    "#         model.reactions.get_by_id('Straw_Biomass_M').objective_coefficient = 1\n",
    "#         model.reactions.get_by_id('Straw_Biomass_BS').objective_coefficient = 1\n",
    "\n",
    "\n",
    "\n",
    "#         #perform pFBA & convert to dataframe\n",
    "#         tc_soln = cobra.flux_analysis.pfba(model).to_frame()\n",
    "# #         tc_summary = model.summary(fva=0.95).to_frame()\n",
    "#         tc_soln = pd.DataFrame({ppfd:tc_soln['fluxes']}, index=list(tc_soln.index))\n",
    "#         print(\"PPFD:\", ppfd, \" RBPC_M cell flux:\", tc_soln[ppfd]['RBPCs_M'])\n",
    "#         #Append to Dataframe\n",
    "#         ppfd_solns_2cell_fba[ppfd] = tc_soln\n",
    "#        # ppfd_solns_2cell_fva[ppfd] = \n",
    "\n",
    "# #Code now works"
   ]
  },
  {
   "cell_type": "code",
   "execution_count": null,
   "id": "e4e240a2",
   "metadata": {
    "ExecuteTime": {
     "end_time": "2022-04-29T01:08:23.417072Z",
     "start_time": "2022-04-29T01:06:59.949624Z"
    }
   },
   "outputs": [],
   "source": [
    "ppfd_solns_2cell_fba = pd.DataFrame(index=list(i.id for i in model.reactions))\n",
    "ppfd_solns_2cell_fva  = pd.DataFrame(index=list(i.id for i in model.reactions))\n",
    "\n",
    "#Iterate from range 0 to 2000 w/ increments of 50 (max ppfd)\n",
    "\n",
    "for i in range(0,2100,50):\n",
    "    \n",
    "    #Generate instance of model every iteration\n",
    "    with model:\n",
    "        ppfd = i \n",
    "        #Set ATP NGAM value to linear PPFD formula\n",
    "\n",
    "         #Set medium to change photon flux and other things and re-add to model\n",
    "        model_media['EX_photonVis(e)'] = ppfd\n",
    "        model_media['EX_co2(e)'] = 29\n",
    "        model_media['EX_o2(e)'] = 2.2618 #umol/m^2 s O2 (converted from 3.312 mmol/dcw hr)\n",
    "        model.medium = model_media\n",
    "\n",
    "        #Set NGAM value\n",
    "        ngam_value = compute_ngam_atp(i)\n",
    "        ngam_cons = model.problem.Constraint(fex_atp_c_M + \n",
    "                                            fex_atp_c_BS, lb=ngam_value, ub=ngam_value)\n",
    "        model.add_cons_vars(ngam_cons)\n",
    "\n",
    "\n",
    "        #Change objective function to mature leaf\n",
    "        model.reactions.get_by_id('Straw_Biomass_M').objective_coefficient = 0\n",
    "        model.reactions.get_by_id('Straw_Biomass_BS').objective_coefficient = 0\n",
    "        mm.get_rxn(model,'DM_Phloem_BS').objective_coefficient = 1\n",
    "\n",
    "        #Optimize then check optimality\n",
    "        solution = model.optimize()\n",
    "\n",
    "        if solution.status == 'optimal':\n",
    "            sample_fluxes = cobra.flux_analysis.pfba(model).fluxes\n",
    "            #Remove thermodynamically infeasible loops via CycleFreeFlux algorithm\n",
    "            sample_fluxes = cobra.flux_analysis.loopless_solution(model, sample_fluxes)\n",
    "            #Generate dataframe\n",
    "            sample_fluxes = sample_fluxes.to_frame()\n",
    "\n",
    "            sample_fluxes = pd.DataFrame({ppfd:sample_fluxes['fluxes']}, index=list(sample_fluxes.index))\n",
    "            print(\"PPFD:\", ppfd, \" RBPC_M cell flux:\", sample_fluxes[ppfd]['RBPCs_M'])\n",
    "            #Append to Dataframe\n",
    "            ppfd_solns_2cell_fba[ppfd] = sample_fluxes\n",
    "            \n",
    "out = open('../flux_results/ppfd_2cell_trans_solns_CCF.tsv', 'w')\n",
    "ppfd_solns_2cell_fba.to_csv(out, sep='\\t')\n",
    "out.close()\n",
    "print(\"Successfully saved PPFD-out (W/ CCF!)\")"
   ]
  },
  {
   "cell_type": "code",
   "execution_count": null,
   "id": "8f8a5aeb",
   "metadata": {
    "ExecuteTime": {
     "end_time": "2022-04-29T01:00:19.796282Z",
     "start_time": "2022-04-29T01:00:19.794578Z"
    }
   },
   "outputs": [],
   "source": [
    "# ppfd_solns_2cell_fba_noccf = pd.DataFrame(index=list(i.id for i in model.reactions))\n",
    "# #Iterate from range 0 to 2000 w/ increments of 50 (max ppfd)\n",
    "\n",
    "# for i in range(0,2100,50):\n",
    "    \n",
    "#     #Generate instance of model every iteration\n",
    "#     with model:\n",
    "\n",
    "#         #Set ATP NGAM value to linear PPFD formula\n",
    "\n",
    "#         #Set medium to change photon flux and other things and re-add to model\n",
    "#         ppfd = i \n",
    "#         model_media['EX_photonVis(e)'] = ppfd\n",
    "#         model_media['EX_co2(e)'] = 29\n",
    "#         model_media['EX_o2(e)'] = 2.2618 #umol/m^2 s O2 (converted from 3.312 mmol/dcw hr)\n",
    "#         model.medium = model_media\n",
    "\n",
    "#         #Set NGAM value\n",
    "#         ngam_value = compute_ngam_atp(i)\n",
    "#         ngam_cons = model.problem.Constraint(fex_atp_c_M + \n",
    "#                                             fex_atp_c_BS, lb=ngam_value, ub=ngam_value)\n",
    "#         model.add_cons_vars(ngam_cons)\n",
    "        \n",
    "#         #Change objective function to mature leaf\n",
    "#         model.reactions.get_by_id('Straw_Biomass_M').objective_coefficient = 0\n",
    "#         model.reactions.get_by_id('Straw_Biomass_BS').objective_coefficient = 0\n",
    "#         mm.get_rxn(model,'DM_Phloem_BS').objective_coefficient = 1\n",
    "\n",
    "#         #Optimize then check optimality\n",
    "#         solution = model.optimize()\n",
    "\n",
    "#         if solution.status == 'optimal':\n",
    "#             sample_fluxes = cobra.flux_analysis.pfba(model).fluxes\n",
    "#             sample_fluxes = sample_fluxes.to_frame()\n",
    "            \n",
    "#             #Generate dataframe\n",
    "#             sample_fluxes = pd.DataFrame({ppfd:sample_fluxes['fluxes']}, index=list(sample_fluxes.index))\n",
    "#             print(\"PPFD:\", ppfd, \" RBPC_M cell flux:\", sample_fluxes[ppfd]['RBPCs_M'])\n",
    "#             #Append to larger Dataframe\n",
    "#             ppfd_solns_2cell_fba_noccf[ppfd] = sample_fluxes\n",
    "\n",
    "            \n",
    "            \n",
    "# out = open('../flux_results/ppfd_2cell_solns_no_CycleFreeFlux.tsv', 'w')\n",
    "# ppfd_solns_2cell_fba_noccf.to_csv(out, sep='\\t')\n",
    "# out.close()\n",
    "# print('Successfully saved PPFD-out (No CCF!)')"
   ]
  },
  {
   "cell_type": "code",
   "execution_count": null,
   "id": "a2dfd00a",
   "metadata": {
    "ExecuteTime": {
     "end_time": "2022-04-29T01:00:19.801392Z",
     "start_time": "2022-04-29T01:00:19.798028Z"
    }
   },
   "outputs": [],
   "source": [
    "#Constraining O2 consumption to around 3.312 forces water to be consumed by the system, unlike when O2 is unconstrained.\n",
    "#However, the same behavior when it comes to CO2 assimilation still is being produced.\n",
    "#Constraining O2 consumption also forces Nitrate consumption to be constrained to realistic levels (when compared to non-constrained O2 where consumption was 10-fold )\n",
    "#I suspect that this is definitely due to how PPFD flux is structured. \n",
    "#A cop-out to this would be to double PPFD per run and measuring PPFD flux in the specific reactions instead."
   ]
  },
  {
   "cell_type": "code",
   "execution_count": null,
   "id": "337943a3",
   "metadata": {
    "ExecuteTime": {
     "end_time": "2022-04-29T01:00:19.805159Z",
     "start_time": "2022-04-29T01:00:19.802642Z"
    }
   },
   "outputs": [],
   "source": [
    "#I can probably do the benchmarking right now. The model behaves quite interestingly actually"
   ]
  },
  {
   "cell_type": "code",
   "execution_count": null,
   "id": "f0b7bed7",
   "metadata": {
    "ExecuteTime": {
     "end_time": "2022-04-29T01:00:19.809419Z",
     "start_time": "2022-04-29T01:00:19.807529Z"
    }
   },
   "outputs": [],
   "source": [
    "#Note: Turning off other prism reactions (red, green, blue, etc) while retaining only white light reactions lowers net carbon assimilation\n",
    "#I think this is in consideration on how white light is partitioned to several wavelengths, which prevents it from being fully utilized."
   ]
  },
  {
   "cell_type": "code",
   "execution_count": null,
   "id": "f6d9127b",
   "metadata": {
    "ExecuteTime": {
     "end_time": "2022-04-29T01:00:19.814839Z",
     "start_time": "2022-04-29T01:00:19.812434Z"
    }
   },
   "outputs": [],
   "source": [
    "#Other artifacts as of the moment include the following:\n",
    "#model doesn't produce any Oxygen. Maybe I should add a specific demand reaction for it?\n",
    "#Based on FVA, the model now produces some oxygen via the demand reaction. "
   ]
  },
  {
   "cell_type": "code",
   "execution_count": null,
   "id": "c3020e0b",
   "metadata": {
    "ExecuteTime": {
     "end_time": "2022-04-29T01:00:19.821844Z",
     "start_time": "2022-04-29T01:00:19.820011Z"
    }
   },
   "outputs": [],
   "source": [
    "#Model also facilitates transfer of metabolites unlike before."
   ]
  },
  {
   "cell_type": "code",
   "execution_count": null,
   "id": "10361fc4",
   "metadata": {
    "ExecuteTime": {
     "end_time": "2022-04-29T01:00:19.829237Z",
     "start_time": "2022-04-29T01:00:19.826928Z"
    }
   },
   "outputs": [],
   "source": [
    "#Questions:\n",
    "#Should I restrict Nutrient flow to the Bundle Sheath Cell only or should I allow flux to both the M and BS cell?\n",
    "#Apparently kasi dito only the Bundle sheath cells produce any biomass\n",
    "#This is to ensure that only CO2 and Light flux are the only limiting constraints to the system."
   ]
  }
 ],
 "metadata": {
  "kernelspec": {
   "display_name": "Python 3",
   "language": "python",
   "name": "python3"
  },
  "language_info": {
   "codemirror_mode": {
    "name": "ipython",
    "version": 3
   },
   "file_extension": ".py",
   "mimetype": "text/x-python",
   "name": "python",
   "nbconvert_exporter": "python",
   "pygments_lexer": "ipython3",
   "version": "3.8.8"
  },
  "varInspector": {
   "cols": {
    "lenName": 16,
    "lenType": 16,
    "lenVar": 40
   },
   "kernels_config": {
    "python": {
     "delete_cmd_postfix": "",
     "delete_cmd_prefix": "del ",
     "library": "var_list.py",
     "varRefreshCmd": "print(var_dic_list())"
    },
    "r": {
     "delete_cmd_postfix": ") ",
     "delete_cmd_prefix": "rm(",
     "library": "var_list.r",
     "varRefreshCmd": "cat(var_dic_list()) "
    }
   },
   "types_to_exclude": [
    "module",
    "function",
    "builtin_function_or_method",
    "instance",
    "_Feature"
   ],
   "window_display": false
  }
 },
 "nbformat": 4,
 "nbformat_minor": 5
}
