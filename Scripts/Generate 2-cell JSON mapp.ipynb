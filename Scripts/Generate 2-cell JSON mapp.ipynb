{
 "cells": [
  {
   "cell_type": "raw",
   "id": "4f8a4684",
   "metadata": {},
   "source": []
  },
  {
   "cell_type": "code",
   "execution_count": 1,
   "id": "1d716e43",
   "metadata": {
    "ExecuteTime": {
     "end_time": "2022-03-17T21:43:16.283477Z",
     "start_time": "2022-03-17T21:43:15.430969Z"
    }
   },
   "outputs": [],
   "source": [
    "import escher\n",
    "import json\n",
    "import cobra\n",
    "import path"
   ]
  },
  {
   "cell_type": "code",
   "execution_count": 2,
   "id": "33c5483e",
   "metadata": {
    "ExecuteTime": {
     "end_time": "2022-03-17T21:43:17.652937Z",
     "start_time": "2022-03-17T21:43:17.650843Z"
    }
   },
   "outputs": [],
   "source": [
    "escher.rc['never_ask_before_quit'] = True"
   ]
  },
  {
   "cell_type": "code",
   "execution_count": 4,
   "id": "b7e041a5",
   "metadata": {
    "ExecuteTime": {
     "end_time": "2022-03-17T21:43:31.551197Z",
     "start_time": "2022-03-17T21:43:31.503001Z"
    }
   },
   "outputs": [],
   "source": [
    "builder = escher.Builder(model_json = '../model/ios2164_2cell.json')"
   ]
  },
  {
   "cell_type": "code",
   "execution_count": null,
   "id": "6627dddf",
   "metadata": {},
   "outputs": [],
   "source": []
  },
  {
   "cell_type": "markdown",
   "id": "c0245385",
   "metadata": {
    "ExecuteTime": {
     "end_time": "2022-03-17T21:38:09.419641Z",
     "start_time": "2022-03-17T21:38:09.416705Z"
    }
   },
   "source": []
  },
  {
   "cell_type": "code",
   "execution_count": null,
   "id": "d8516c8b",
   "metadata": {},
   "outputs": [],
   "source": []
  }
 ],
 "metadata": {
  "kernelspec": {
   "display_name": "Python 3",
   "language": "python",
   "name": "python3"
  },
  "language_info": {
   "codemirror_mode": {
    "name": "ipython",
    "version": 3
   },
   "file_extension": ".py",
   "mimetype": "text/x-python",
   "name": "python",
   "nbconvert_exporter": "python",
   "pygments_lexer": "ipython3",
   "version": "3.8.8"
  },
  "varInspector": {
   "cols": {
    "lenName": 16,
    "lenType": 16,
    "lenVar": 40
   },
   "kernels_config": {
    "python": {
     "delete_cmd_postfix": "",
     "delete_cmd_prefix": "del ",
     "library": "var_list.py",
     "varRefreshCmd": "print(var_dic_list())"
    },
    "r": {
     "delete_cmd_postfix": ") ",
     "delete_cmd_prefix": "rm(",
     "library": "var_list.r",
     "varRefreshCmd": "cat(var_dic_list()) "
    }
   },
   "types_to_exclude": [
    "module",
    "function",
    "builtin_function_or_method",
    "instance",
    "_Feature"
   ],
   "window_display": false
  }
 },
 "nbformat": 4,
 "nbformat_minor": 5
}
