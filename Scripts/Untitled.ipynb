{
 "cells": [
  {
   "cell_type": "code",
   "execution_count": 1,
   "id": "938620d8",
   "metadata": {
    "ExecuteTime": {
     "end_time": "2022-04-15T03:11:27.221528Z",
     "start_time": "2022-04-15T03:11:26.974045Z"
    }
   },
   "outputs": [
    {
     "name": "stdout",
     "output_type": "stream",
     "text": [
      "Version identifier: 22.1.0.0 | 2022-03-09 | 1a383f8ce\n",
      "CPXPARAM_Read_DataCheck                          1\n",
      "Found incumbent of value 4000.000000 after 0.00 sec. (0.00 ticks)\n",
      "Tried aggregator 1 time.\n",
      "MIP Presolve eliminated 1 rows and 0 columns.\n",
      "MIP Presolve added 1 rows and 1 columns.\n",
      "MIP Presolve modified 1 coefficients.\n",
      "Reduced MIP has 1 rows, 3 columns, and 3 nonzeros.\n",
      "Reduced MIP has 0 binaries, 3 generals, 0 SOSs, and 0 indicators.\n",
      "Presolve time = 0.00 sec. (0.00 ticks)\n",
      "Tried aggregator 1 time.\n",
      "MIP Presolve eliminated 1 rows and 1 columns.\n",
      "MIP Presolve added 1 rows and 1 columns.\n",
      "Reduced MIP has 1 rows, 3 columns, and 3 nonzeros.\n",
      "Reduced MIP has 0 binaries, 3 generals, 0 SOSs, and 0 indicators.\n",
      "Presolve time = 0.00 sec. (0.00 ticks)\n",
      "MIP emphasis: balance optimality and feasibility.\n",
      "MIP search method: dynamic search.\n",
      "Parallel mode: deterministic, using up to 8 threads.\n",
      "Root relaxation solution time = 0.00 sec. (0.00 ticks)\n",
      "\n",
      "        Nodes                                         Cuts/\n",
      "   Node  Left     Objective  IInf  Best Integer    Best Bound    ItCnt     Gap\n",
      "\n",
      "*     0+    0                         4000.0000        0.0000           100.00%\n",
      "      0     0     3750.0000     1     4000.0000     3750.0000        0    6.25%\n",
      "*     0+    0                         3900.0000     3750.0000             3.85%\n",
      "*     0     0      integral     0     3800.0000     3800.0000        0    0.00%\n",
      "Elapsed time = 0.04 sec. (0.02 ticks, tree = 0.01 MB, solutions = 3)\n",
      "\n",
      "Root node processing (before b&c):\n",
      "  Real time             =    0.04 sec. (0.02 ticks)\n",
      "Parallel b&c, 8 threads:\n",
      "  Real time             =    0.00 sec. (0.00 ticks)\n",
      "  Sync time (average)   =    0.00 sec.\n",
      "  Wait time (average)   =    0.00 sec.\n",
      "                          ------------\n",
      "Total (root+branch&cut) =    0.04 sec. (0.02 ticks)\n"
     ]
    },
    {
     "data": {
      "text/plain": [
       "docplex.mp.solution.SolveSolution(obj=3800,values={nbBus40:6,nbBus30:2})"
      ]
     },
     "execution_count": 1,
     "metadata": {},
     "output_type": "execute_result"
    }
   ],
   "source": [
    "#This notebook is to validate installation of CPLEX\n",
    "\n",
    "from docplex.mp.model import Model\n",
    "\n",
    "mdl = Model(name='buses')\n",
    "nbbus40 = mdl.integer_var(name='nbBus40')\n",
    "nbbus30 = mdl.integer_var(name='nbBus30')\n",
    "mdl.add_constraint(nbbus40*40 + nbbus30*30 >= 300, 'kids')\n",
    "mdl.minimize(nbbus40*500 + nbbus30*400)\n",
    "\n",
    "mdl.solve(log_output=True,)"
   ]
  },
  {
   "cell_type": "code",
   "execution_count": 3,
   "id": "0e21d979",
   "metadata": {
    "ExecuteTime": {
     "end_time": "2022-04-15T03:14:48.669488Z",
     "start_time": "2022-04-15T03:14:48.663776Z"
    }
   },
   "outputs": [
    {
     "data": {
      "text/plain": [
       "<module 'cplex' from '/home/rtsantos3/anaconda3/lib/python3.8/site-packages/cplex/__init__.py'>"
      ]
     },
     "execution_count": 3,
     "metadata": {},
     "output_type": "execute_result"
    }
   ],
   "source": [
    "import cplex\n",
    "\n",
    "cplex"
   ]
  }
 ],
 "metadata": {
  "kernelspec": {
   "display_name": "Python 3",
   "language": "python",
   "name": "python3"
  },
  "language_info": {
   "codemirror_mode": {
    "name": "ipython",
    "version": 3
   },
   "file_extension": ".py",
   "mimetype": "text/x-python",
   "name": "python",
   "nbconvert_exporter": "python",
   "pygments_lexer": "ipython3",
   "version": "3.8.8"
  },
  "varInspector": {
   "cols": {
    "lenName": 16,
    "lenType": 16,
    "lenVar": 40
   },
   "kernels_config": {
    "python": {
     "delete_cmd_postfix": "",
     "delete_cmd_prefix": "del ",
     "library": "var_list.py",
     "varRefreshCmd": "print(var_dic_list())"
    },
    "r": {
     "delete_cmd_postfix": ") ",
     "delete_cmd_prefix": "rm(",
     "library": "var_list.r",
     "varRefreshCmd": "cat(var_dic_list()) "
    }
   },
   "types_to_exclude": [
    "module",
    "function",
    "builtin_function_or_method",
    "instance",
    "_Feature"
   ],
   "window_display": false
  }
 },
 "nbformat": 4,
 "nbformat_minor": 5
}
