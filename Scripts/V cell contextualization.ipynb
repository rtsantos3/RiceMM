{
 "cells": [
  {
   "cell_type": "code",
   "execution_count": 2,
   "id": "ed850710",
   "metadata": {},
   "outputs": [],
   "source": [
    "import cobra\n",
    "import libsbml\n",
    "import riptide\n",
    "from cobra import Model, Reaction, Metabolite\n",
    "import csv\n",
    "import pandas as pd\n",
    "import copy"
   ]
  },
  {
   "cell_type": "code",
   "execution_count": 3,
   "id": "6ec48e83",
   "metadata": {},
   "outputs": [],
   "source": [
    "ios2164_orig = cobra.io.read_sbml_model(\"../model/iOS2164_rewritten.xml\")\n",
    "rnaseq = pd.read_csv('../data/KitaakeLCM_rawcounts.csv')\n",
    "#According to the  tool's author, the best way to merge is simply to generate "
   ]
  },
  {
   "cell_type": "code",
   "execution_count": 4,
   "id": "aec558bc",
   "metadata": {},
   "outputs": [],
   "source": [
    "mcell_exp = riptide.read_transcription_file(\"../data/m_abundance.csv\", sep = \",\", header = True)\n",
    "bscell_exp = riptide.read_transcription_file(\"../data/bs_abundance.csv\", sep = \",\", header = True)\n",
    "vcell_exp = riptide.read_transcription_file(\"../data/v_abundance.csv\", sep = \",\", header = True)"
   ]
  },
  {
   "cell_type": "code",
   "execution_count": 24,
   "id": "cb8f5a94",
   "metadata": {
    "scrolled": true
   },
   "outputs": [],
   "source": [
    "ios2164_v = copy.deepcopy(ios2164_orig)\n",
    "\n",
    "for met in ios2164_v.metabolites:\n",
    "    if met.compartment != \"e\": #Extracellular, defines boundary reactions\n",
    "        met.id = str(met.id) + '2'\n",
    "        met.compartment = str(met.compartment) + '2'\n",
    "    \n",
    "for rxn in ios2164_v.reactions:\n",
    "    rxn.id = str(rxn.id)  + '_V'\n",
    "    if \"EX_\" in rxn.id: #Rename media reactions\n",
    "        rxn.name = \"V \" + str(rxn.name)\n",
    "\n",
    "\n",
    "ios2164_v.repair()\n"
   ]
  },
  {
   "cell_type": "code",
   "execution_count": 37,
   "id": "9e6df9ff",
   "metadata": {},
   "outputs": [],
   "source": [
    "read = pd.read_csv('../misc/photo_medium.csv')\n",
    "\n",
    "#Only get V cell media\n",
    "photo_medium = dict(read.values)\n",
    "\n",
    "v_medium = dict()\n",
    "for items in photo_medium:\n",
    "    if \"_V\" in items:\n",
    "        v_medium[items] = photo_medium[items]\n",
    "        \n",
    "v_copy = copy.deepcopy(v_medium)\n"
   ]
  },
  {
   "cell_type": "code",
   "execution_count": 38,
   "id": "50136401",
   "metadata": {},
   "outputs": [
    {
     "data": {
      "text/plain": [
       "{'EX_co2_LPAREN_e_RPAREN__V': 1000,\n",
       " 'EX_h2o_LPAREN_e_RPAREN__V': 1000,\n",
       " 'EX_h_LPAREN_e_RPAREN__V': 1000,\n",
       " 'EX_no3_LPAREN_e_RPAREN__V': 1000,\n",
       " 'EX_o2_LPAREN_e_RPAREN__V': 1000,\n",
       " 'EX_pi_LPAREN_e_RPAREN__V': 1000,\n",
       " 'EX_sucr_LPAREN_e_RPAREN__V': 0,\n",
       " 'EX_fru_DASH_B_LPAREN_e_RPAREN__V': 0,\n",
       " 'EX_glc_DASH_A_LPAREN_e_RPAREN__V': 0,\n",
       " 'EX_so4_LPAREN_e_RPAREN__V': 1000,\n",
       " 'EX_hco3_LPAREN_e_RPAREN__V': 0,\n",
       " 'EX_so3_LPAREN_e_RPAREN__V': 1000,\n",
       " 'EX_h2s_LPAREN_e_RPAREN__V': 0,\n",
       " 'EX_nh4_LPAREN_e_RPAREN__V': 0,\n",
       " 'EX_asn_DASH_L_LPAREN_e_RPAREN__V': 0,\n",
       " 'EX_gln_DASH_L_LPAREN_e_RPAREN__V': 0,\n",
       " 'EX_etoh_LPAREN_e_RPAREN__V': 0,\n",
       " 'EX_ac_LPAREN_e_RPAREN__V': 0,\n",
       " 'EX_lac_DASH_L_LPAREN_e_RPAREN__V': 0,\n",
       " 'EX_tsul_LPAREN_e_RPAREN__V': 0,\n",
       " 'EX_fe2_LPAREN_e_RPAREN__V': 1000,\n",
       " 'EX_fe3_LPAREN_e_RPAREN__V': 0,\n",
       " 'EX_mg2_LPAREN_e_RPAREN__V': 1000,\n",
       " 'EX_ala_DASH_L_LPAREN_e_RPAREN__V': 0,\n",
       " 'EX_arg_DASH_L_LPAREN_e_RPAREN__V': 0,\n",
       " 'EX_asp_DASH_L_LPAREN_e_RPAREN__V': 0,\n",
       " 'EX_cys_DASH_L_LPAREN_e_RPAREN__V': 0,\n",
       " 'EX_glu_DASH_L_LPAREN_e_RPAREN__V': 0,\n",
       " 'EX_gly_LPAREN_e_RPAREN__V': 0,\n",
       " 'EX_his_DASH_L_LPAREN_e_RPAREN__V': 0,\n",
       " 'EX_ile_DASH_L_LPAREN_e_RPAREN__V': 0,\n",
       " 'EX_leu_DASH_L_LPAREN_e_RPAREN__V': 0,\n",
       " 'EX_lys_DASH_L_LPAREN_e_RPAREN__V': 0,\n",
       " 'EX_met_DASH_L_LPAREN_e_RPAREN__V': 0,\n",
       " 'EX_phe_DASH_L_LPAREN_e_RPAREN__V': 0,\n",
       " 'EX_pro_DASH_L_LPAREN_e_RPAREN__V': 0,\n",
       " 'EX_ser_DASH_L_LPAREN_e_RPAREN__V': 0,\n",
       " 'EX_thr_DASH_L_LPAREN_e_RPAREN__V': 0,\n",
       " 'EX_trp_DASH_L_LPAREN_e_RPAREN__V': 0,\n",
       " 'EX_tyr_DASH_L_LPAREN_e_RPAREN__V': 0,\n",
       " 'EX_val_DASH_L_LPAREN_e_RPAREN__V': 0,\n",
       " 'EX_photonVis_LPAREN_e_RPAREN__V': 1000}"
      ]
     },
     "execution_count": 38,
     "metadata": {},
     "output_type": "execute_result"
    }
   ],
   "source": [
    "v_medium"
   ]
  },
  {
   "cell_type": "code",
   "execution_count": 39,
   "id": "2a047d9b",
   "metadata": {},
   "outputs": [
    {
     "name": "stdout",
     "output_type": "stream",
     "text": [
      "\n",
      "Initializing model and integrating transcriptomic data...\n",
      "Pruning zero flux subnetworks...\n",
      "Analyzing context-specific flux distributions...\n",
      "\n",
      "Reactions pruned to 452 from 2444 (81.51% change)\n",
      "Metabolites pruned to 469 from 1999 (76.54% change)\n",
      "Flux through the objective DECREASED to ~9.64 from ~11.14 (13.46% change)\n",
      "Context-specific metabolism correlates with transcriptome (r=0.181, p<0.001 *)\n",
      "\n",
      "RIPTiDe completed in 35 seconds\n",
      "\n"
     ]
    }
   ],
   "source": [
    "v_medium = copy.copy(v_copy)\n",
    "ios2164_v.medium = v_medium\n",
    "vcell_rip  = riptide.contextualize(ios2164_v, transcriptome = vcell_exp, samples= 1000)\n",
    "\n",
    "#Apparently unconstraining the export of sucrose doesn't actually do anything."
   ]
  },
  {
   "cell_type": "code",
   "execution_count": 41,
   "id": "a845dab5",
   "metadata": {},
   "outputs": [
    {
     "name": "stdout",
     "output_type": "stream",
     "text": [
      "V CO2 exchange (-1000, 0.0)\n",
      "V H2O exchange (-1000, 1000.0)\n",
      "V H+ exchange (-1000, 1000.0)\n",
      "V nitrate exchange (-1000, 0.0)\n",
      "V O2 exchange (-1000, 1000.0)\n",
      "V Phosphate exchange (-1000, 1000.0)\n",
      "V Sucrose exchange (0, 0.0)\n",
      "V Fructose exchange (0, 0.0)\n",
      "V Glucose exchange (0, 0.0)\n",
      "V Sulfate exchange (-1000, 1000.0)\n",
      "V Bicarbonate exchange (0, 0.0)\n",
      "V Sulfite exchange (-1000, 0.0)\n",
      "V Hydrogen sulfide exchange (0, 0.0)\n",
      "V Ammonia exchange (0, 0.0)\n",
      "V L-Asparagine exchange (0, 1000.0)\n",
      "V L-Glutamine exchange (0, 1000.0)\n",
      "V Ethanol exchange (0, 1000.0)\n",
      "V Acetate exchange (0, 1000.0)\n",
      "V L-Lactate exchange (0, 1000.0)\n",
      "V Thiosulfate exchange (0, 0.0)\n",
      "V Fe2+ exchange (-1000, 1000.0)\n",
      "V Fe3+ exchange (0, 0.0)\n",
      "V Magnesium exchange (-1000, 1000.0)\n",
      "V L-Alanine exchange (0, 1000.0)\n",
      "V L-Arginine exchange (0, 1000.0)\n",
      "V L-Aspartate exchange (0, 1000.0)\n",
      "V L-Cysteine exchange (0, 1000.0)\n",
      "V L-Glutamate exchange (0, 1000.0)\n",
      "V Glycine exchange (0, 1000.0)\n",
      "V L-Histidine exchange (0, 1000.0)\n",
      "V L-Isoleucine exchange (0, 1000.0)\n",
      "V L-Leucine exchange (0, 1000.0)\n",
      "V L-Lysine exchange (0, 1000.0)\n",
      "V L-Methionine exchange (0, 1000.0)\n",
      "V L-Phenylalanine exchange (0, 1000.0)\n",
      "V L-Proline exchange (0, 1000.0)\n",
      "V L-Serine exchange (0, 1000.0)\n",
      "V L-Threonine exchange (0, 1000.0)\n",
      "V L-Tryptophan exchange (0, 1000.0)\n",
      "V L-Tyrosine exchange (0, 1000.0)\n",
      "V L-Valine exchange (0, 1000.0)\n",
      "V photon emission (-1000, 0.0)\n"
     ]
    }
   ],
   "source": [
    "for rxns in ios2164_v.exchanges:\n",
    "    print(rxns.name, rxns.bounds)"
   ]
  },
  {
   "cell_type": "code",
   "execution_count": 50,
   "id": "6f62a32e",
   "metadata": {},
   "outputs": [
    {
     "name": "stdout",
     "output_type": "stream",
     "text": [
      "\n",
      "Initializing model and integrating transcriptomic data...\n",
      "Pruning zero flux subnetworks...\n",
      "Analyzing context-specific flux distributions...\n",
      "\n",
      "Reactions pruned to 452 from 2444 (81.51% change)\n",
      "Metabolites pruned to 469 from 1999 (76.54% change)\n",
      "Flux through the objective DECREASED to ~9.64 from ~11.14 (13.46% change)\n",
      "Context-specific metabolism correlates with transcriptome (r=0.175, p<0.001 *)\n",
      "\n",
      "RIPTiDe completed in 37 seconds\n",
      "\n"
     ]
    }
   ],
   "source": [
    "#What if I unconstrained CO2 flux thru the BS cell? Would the context specific cells be okay?\n",
    "v_medium = copy.copy(v_copy)\n",
    "\n",
    "bs_medium['EX_co2_LPAREN_e_RPAREN__V'] = 1000\n",
    "ios2164_v.medium = v_medium\n",
    "\n",
    "vcell_rip  = riptide.contextualize(ios2164_v, transcriptome = vcell_exp, samples= 1000)"
   ]
  },
  {
   "cell_type": "code",
   "execution_count": 51,
   "id": "b59ef27f",
   "metadata": {},
   "outputs": [
    {
     "name": "stderr",
     "output_type": "stream",
     "text": [
      "/home/rtsantos3/anaconda3/lib/python3.8/site-packages/ipykernel/ipkernel.py:287: DeprecationWarning: `should_run_async` will not call `transform_cell` automatically in the future. Please pass the result to `transformed_cell` argument and any exception that happen during thetransform in `preprocessing_exc_tuple` in IPython 7.17 and above.\n",
      "  and should_run_async(code)\n"
     ]
    },
    {
     "name": "stdout",
     "output_type": "stream",
     "text": [
      "\n",
      "Initializing model and integrating transcriptomic data...\n",
      "Pruning zero flux subnetworks...\n",
      "Analyzing context-specific flux distributions...\n",
      "\n",
      "Reactions pruned to 454 from 2444 (81.42% change)\n",
      "Metabolites pruned to 475 from 1999 (76.24% change)\n",
      "Flux through the objective DECREASED to ~31.5 from ~38.12 (17.37% change)\n",
      "Context-specific metabolism correlates with transcriptome (r=0.142, p=0.002 *)\n",
      "\n",
      "RIPTiDe completed in 38 seconds\n",
      "\n"
     ]
    },
    {
     "data": {
      "text/plain": [
       "{'EX_co2_LPAREN_e_RPAREN__V': 1000,\n",
       " 'EX_h2o_LPAREN_e_RPAREN__V': 1000,\n",
       " 'EX_h_LPAREN_e_RPAREN__V': 1000,\n",
       " 'EX_no3_LPAREN_e_RPAREN__V': 1000,\n",
       " 'EX_o2_LPAREN_e_RPAREN__V': 1000,\n",
       " 'EX_pi_LPAREN_e_RPAREN__V': 1000,\n",
       " 'EX_sucr_LPAREN_e_RPAREN__V': 1000,\n",
       " 'EX_so4_LPAREN_e_RPAREN__V': 1000,\n",
       " 'EX_so3_LPAREN_e_RPAREN__V': 1000,\n",
       " 'EX_fe2_LPAREN_e_RPAREN__V': 1000,\n",
       " 'EX_mg2_LPAREN_e_RPAREN__V': 1000,\n",
       " 'EX_photonVis_LPAREN_e_RPAREN__V': 1000}"
      ]
     },
     "execution_count": 51,
     "metadata": {},
     "output_type": "execute_result"
    }
   ],
   "source": [
    "#With Sucrose import, apparently it lowers the correlation value as the cell can obtain\n",
    "#Nutrients \n",
    "v_medium = copy.copy(v_medium)\n",
    "\n",
    "v_medium['EX_sucr_LPAREN_e_RPAREN__V'] = 1000\n",
    "v_medium['EX_co2_LPAREN_e_RPAREN__V'] = 1000\n",
    "ios2164_v.medium = v_medium\n",
    "\n",
    "vcell_rip  = riptide.contextualize(ios2164_v, transcriptome = vcell_exp, samples= 1000)\n",
    "\n",
    "ios2164_v.medium"
   ]
  },
  {
   "cell_type": "code",
   "execution_count": 52,
   "id": "8e568e9b",
   "metadata": {},
   "outputs": [
    {
     "name": "stderr",
     "output_type": "stream",
     "text": [
      "/home/rtsantos3/anaconda3/lib/python3.8/site-packages/ipykernel/ipkernel.py:287: DeprecationWarning: `should_run_async` will not call `transform_cell` automatically in the future. Please pass the result to `transformed_cell` argument and any exception that happen during thetransform in `preprocessing_exc_tuple` in IPython 7.17 and above.\n",
      "  and should_run_async(code)\n"
     ]
    },
    {
     "name": "stdout",
     "output_type": "stream",
     "text": [
      "\n",
      "Initializing model and integrating transcriptomic data...\n",
      "Pruning zero flux subnetworks...\n",
      "Analyzing context-specific flux distributions...\n",
      "\n",
      "Reactions pruned to 450 from 2444 (81.59% change)\n",
      "Metabolites pruned to 466 from 1999 (76.69% change)\n",
      "Flux through the objective DECREASED to ~9.64 from ~11.14 (13.46% change)\n",
      "Context-specific metabolism correlates with transcriptome (r=0.175, p<0.001 *)\n",
      "\n",
      "RIPTiDe completed in 37 seconds\n",
      "\n"
     ]
    },
    {
     "data": {
      "text/plain": [
       "{'EX_co2_LPAREN_e_RPAREN__V': 1000,\n",
       " 'EX_h2o_LPAREN_e_RPAREN__V': 1000,\n",
       " 'EX_h_LPAREN_e_RPAREN__V': 1000,\n",
       " 'EX_no3_LPAREN_e_RPAREN__V': 1000,\n",
       " 'EX_o2_LPAREN_e_RPAREN__V': 1000,\n",
       " 'EX_pi_LPAREN_e_RPAREN__V': 1000,\n",
       " 'EX_so4_LPAREN_e_RPAREN__V': 1000,\n",
       " 'EX_so3_LPAREN_e_RPAREN__V': 1000,\n",
       " 'EX_fe2_LPAREN_e_RPAREN__V': 1000,\n",
       " 'EX_mg2_LPAREN_e_RPAREN__V': 1000,\n",
       " 'EX_photonVis_LPAREN_e_RPAREN__V': 1000}"
      ]
     },
     "execution_count": 52,
     "metadata": {},
     "output_type": "execute_result"
    }
   ],
   "source": [
    "#Gas exchange is allowed, but photoautotrophic conditions -- no sucrose import or anything\n",
    "\n",
    "v_medium = copy.copy(v_copy)\n",
    "\n",
    "v_medium['EX_o2_LPAREN_e_RPAREN__V'] = 1000\n",
    "v_medium['EX_co2_LPAREN_e_RPAREN__V'] = 1000\n",
    "ios2164_v.medium = v_medium\n",
    "\n",
    "vcell_rip  = riptide.contextualize(ios2164_v, transcriptome = vcell_exp, samples= 1000)\n",
    "\n",
    "ios2164_v.medium"
   ]
  },
  {
   "cell_type": "code",
   "execution_count": 61,
   "id": "5a494deb",
   "metadata": {},
   "outputs": [
    {
     "name": "stderr",
     "output_type": "stream",
     "text": [
      "/home/rtsantos3/anaconda3/lib/python3.8/site-packages/ipykernel/ipkernel.py:287: DeprecationWarning: `should_run_async` will not call `transform_cell` automatically in the future. Please pass the result to `transformed_cell` argument and any exception that happen during thetransform in `preprocessing_exc_tuple` in IPython 7.17 and above.\n",
      "  and should_run_async(code)\n"
     ]
    },
    {
     "name": "stdout",
     "output_type": "stream",
     "text": [
      "\n",
      "Initializing model and integrating transcriptomic data...\n",
      "Pruning zero flux subnetworks...\n",
      "Analyzing context-specific flux distributions...\n",
      "\n",
      "Reactions pruned to 448 from 2444 (81.67% change)\n",
      "Metabolites pruned to 463 from 1999 (76.84% change)\n",
      "Flux through the objective DECREASED to ~9.17 from ~11.18 (17.98% change)\n",
      "Context-specific metabolism correlates with transcriptome (r=0.183, p<0.001 *)\n",
      "\n",
      "RIPTiDe completed in 37 seconds\n",
      "\n"
     ]
    },
    {
     "data": {
      "text/plain": [
       "{'EX_co2_LPAREN_e_RPAREN__V': 1000,\n",
       " 'EX_h2o_LPAREN_e_RPAREN__V': 1000,\n",
       " 'EX_h_LPAREN_e_RPAREN__V': 1000,\n",
       " 'EX_no3_LPAREN_e_RPAREN__V': 1000,\n",
       " 'EX_o2_LPAREN_e_RPAREN__V': 1000,\n",
       " 'EX_pi_LPAREN_e_RPAREN__V': 1000,\n",
       " 'EX_so4_LPAREN_e_RPAREN__V': 1000,\n",
       " 'EX_so3_LPAREN_e_RPAREN__V': 1000,\n",
       " 'EX_nh4_LPAREN_e_RPAREN__V': 1000,\n",
       " 'EX_fe2_LPAREN_e_RPAREN__V': 1000,\n",
       " 'EX_mg2_LPAREN_e_RPAREN__V': 1000,\n",
       " 'EX_photonVis_LPAREN_e_RPAREN__V': 1000}"
      ]
     },
     "execution_count": 61,
     "metadata": {},
     "output_type": "execute_result"
    }
   ],
   "source": [
    "#Try adding some ammonia into the medium\n",
    "\n",
    "v_medium = copy.copy(v_copy)\n",
    "\n",
    "v_medium['EX_o2_LPAREN_e_RPAREN__V'] = 1000\n",
    "v_medium['EX_co2_LPAREN_e_RPAREN__V'] = 1000\n",
    "v_medium['EX_nh4_LPAREN_e_RPAREN__V'] = 1000\n",
    "ios2164_v.medium = v_medium\n",
    "\n",
    "vcell_rip  = riptide.contextualize(ios2164_v, transcriptome = vcell_exp, samples= 1000)\n",
    "\n",
    "ios2164_v.medium"
   ]
  },
  {
   "cell_type": "code",
   "execution_count": 47,
   "id": "34b4babb",
   "metadata": {},
   "outputs": [
    {
     "name": "stdout",
     "output_type": "stream",
     "text": [
      "\n",
      "Initializing model and integrating transcriptomic data...\n",
      "Pruning zero flux subnetworks...\n",
      "Analyzing context-specific flux distributions...\n",
      "\n",
      "Reactions pruned to 441 from 2444 (81.96% change)\n",
      "Metabolites pruned to 463 from 1999 (76.84% change)\n",
      "Flux through the objective DECREASED to ~10.07 from ~12.93 (22.12% change)\n",
      "Context-specific metabolism correlates with transcriptome (r=0.227, p<0.001 *)\n",
      "\n",
      "RIPTiDe completed in 37 seconds\n",
      "\n"
     ]
    },
    {
     "data": {
      "text/plain": [
       "{'EX_co2_LPAREN_e_RPAREN__V': 1000,\n",
       " 'EX_h2o_LPAREN_e_RPAREN__V': 1000,\n",
       " 'EX_h_LPAREN_e_RPAREN__V': 1000,\n",
       " 'EX_no3_LPAREN_e_RPAREN__V': 1000,\n",
       " 'EX_o2_LPAREN_e_RPAREN__V': 1000,\n",
       " 'EX_pi_LPAREN_e_RPAREN__V': 1000,\n",
       " 'EX_so4_LPAREN_e_RPAREN__V': 1000,\n",
       " 'EX_so3_LPAREN_e_RPAREN__V': 1000,\n",
       " 'EX_nh4_LPAREN_e_RPAREN__V': 1000,\n",
       " 'EX_fe2_LPAREN_e_RPAREN__V': 1000,\n",
       " 'EX_mg2_LPAREN_e_RPAREN__V': 1000,\n",
       " 'EX_ala_DASH_L_LPAREN_e_RPAREN__V': 1000,\n",
       " 'EX_photonVis_LPAREN_e_RPAREN__V': 1000}"
      ]
     },
     "execution_count": 47,
     "metadata": {},
     "output_type": "execute_result"
    }
   ],
   "source": [
    "#With a single AA, test lang haha\n",
    "v_medium = copy.copy(v_copy)\n",
    "\n",
    "v_medium['EX_o2_LPAREN_e_RPAREN__V'] = 1000\n",
    "v_medium['EX_co2_LPAREN_e_RPAREN__V'] = 1000\n",
    "v_medium['EX_nh4_LPAREN_e_RPAREN__V'] = 1000\n",
    "v_medium['EX_ala_DASH_L_LPAREN_e_RPAREN__V'] = 1000\n",
    "ios2164_v.medium = v_medium\n",
    "\n",
    "vcell_rip  = riptide.contextualize(ios2164_v, transcriptome = vcell_exp, samples= 1000)\n",
    "\n",
    "ios2164_v.medium"
   ]
  },
  {
   "cell_type": "code",
   "execution_count": 68,
   "id": "b5c0ba48",
   "metadata": {},
   "outputs": [
    {
     "name": "stderr",
     "output_type": "stream",
     "text": [
      "/home/rtsantos3/anaconda3/lib/python3.8/site-packages/ipykernel/ipkernel.py:287: DeprecationWarning: `should_run_async` will not call `transform_cell` automatically in the future. Please pass the result to `transformed_cell` argument and any exception that happen during thetransform in `preprocessing_exc_tuple` in IPython 7.17 and above.\n",
      "  and should_run_async(code)\n"
     ]
    },
    {
     "name": "stdout",
     "output_type": "stream",
     "text": [
      "\n",
      "Initializing model and integrating transcriptomic data...\n",
      "Pruning zero flux subnetworks...\n",
      "Analyzing context-specific flux distributions...\n",
      "\n",
      "Reactions pruned to 429 from 2444 (82.45% change)\n",
      "Metabolites pruned to 437 from 1999 (78.14% change)\n",
      "Flux through the objective DECREASED to ~34.51 from ~42.91 (19.58% change)\n",
      "Context-specific metabolism correlates with transcriptome (r=0.18, p<0.001 *)\n",
      "\n",
      "RIPTiDe completed in 35 seconds\n",
      "\n"
     ]
    },
    {
     "data": {
      "text/plain": [
       "{'EX_co2_LPAREN_e_RPAREN__V': 1000,\n",
       " 'EX_h2o_LPAREN_e_RPAREN__V': 1000,\n",
       " 'EX_h_LPAREN_e_RPAREN__V': 1000,\n",
       " 'EX_no3_LPAREN_e_RPAREN__V': 1000,\n",
       " 'EX_o2_LPAREN_e_RPAREN__V': 1000,\n",
       " 'EX_pi_LPAREN_e_RPAREN__V': 1000,\n",
       " 'EX_sucr_LPAREN_e_RPAREN__V': 2000,\n",
       " 'EX_so4_LPAREN_e_RPAREN__V': 1000,\n",
       " 'EX_so3_LPAREN_e_RPAREN__V': 1000,\n",
       " 'EX_nh4_LPAREN_e_RPAREN__V': 1000,\n",
       " 'EX_fe2_LPAREN_e_RPAREN__V': 1000,\n",
       " 'EX_mg2_LPAREN_e_RPAREN__V': 1000,\n",
       " 'EX_arg_DASH_L_LPAREN_e_RPAREN__V': 1000}"
      ]
     },
     "execution_count": 68,
     "metadata": {},
     "output_type": "execute_result"
    }
   ],
   "source": [
    "#With a single AA, test lang haha\n",
    "v_medium = copy.copy(v_copy)\n",
    "\n",
    "v_medium['EX_o2_LPAREN_e_RPAREN__V'] = 1000\n",
    "v_medium['EX_co2_LPAREN_e_RPAREN__V'] = 1000\n",
    "v_medium['EX_nh4_LPAREN_e_RPAREN__V'] = 1000\n",
    "v_medium['EX_sucr_LPAREN_e_RPAREN__V'] = 2000\n",
    "v_medium['EX_arg_DASH_L_LPAREN_e_RPAREN__V'] = 1000\n",
    "v_medium['EX_photonVis_LPAREN_e_RPAREN__V'] = 0\n",
    "ios2164_v.medium = v_medium\n",
    "\n",
    "vcell_rip  = riptide.contextualize(ios2164_v, transcriptome = vcell_exp, samples= 1000)\n",
    "\n",
    "ios2164_v.medium"
   ]
  },
  {
   "cell_type": "code",
   "execution_count": 60,
   "id": "ebf7a332",
   "metadata": {},
   "outputs": [
    {
     "name": "stderr",
     "output_type": "stream",
     "text": [
      "/home/rtsantos3/anaconda3/lib/python3.8/site-packages/ipykernel/ipkernel.py:287: DeprecationWarning: `should_run_async` will not call `transform_cell` automatically in the future. Please pass the result to `transformed_cell` argument and any exception that happen during thetransform in `preprocessing_exc_tuple` in IPython 7.17 and above.\n",
      "  and should_run_async(code)\n"
     ]
    },
    {
     "name": "stdout",
     "output_type": "stream",
     "text": [
      "\n",
      "Initializing model and integrating transcriptomic data...\n",
      "Pruning zero flux subnetworks...\n",
      "Analyzing context-specific flux distributions...\n",
      "\n",
      "Reactions pruned to 416 from 2444 (82.98% change)\n",
      "Metabolites pruned to 431 from 1999 (78.44% change)\n",
      "Flux through the objective DECREASED to ~16.12 from ~19.18 (15.95% change)\n",
      "Context-specific metabolism correlates with transcriptome (r=0.117, p=0.017 *)\n",
      "\n",
      "RIPTiDe completed in 37 seconds\n",
      "\n"
     ]
    },
    {
     "data": {
      "text/plain": [
       "{'EX_co2_LPAREN_e_RPAREN__V': 1000,\n",
       " 'EX_h2o_LPAREN_e_RPAREN__V': 1000,\n",
       " 'EX_h_LPAREN_e_RPAREN__V': 1000,\n",
       " 'EX_no3_LPAREN_e_RPAREN__V': 1000,\n",
       " 'EX_o2_LPAREN_e_RPAREN__V': 1000,\n",
       " 'EX_pi_LPAREN_e_RPAREN__V': 1000,\n",
       " 'EX_so4_LPAREN_e_RPAREN__V': 1000,\n",
       " 'EX_so3_LPAREN_e_RPAREN__V': 1000,\n",
       " 'EX_nh4_LPAREN_e_RPAREN__V': 1000,\n",
       " 'EX_asn_DASH_L_LPAREN_e_RPAREN__V': 1000,\n",
       " 'EX_fe2_LPAREN_e_RPAREN__V': 1000,\n",
       " 'EX_mg2_LPAREN_e_RPAREN__V': 1000,\n",
       " 'EX_ala_DASH_L_LPAREN_e_RPAREN__V': 1000,\n",
       " 'EX_arg_DASH_L_LPAREN_e_RPAREN__V': 1000,\n",
       " 'EX_asp_DASH_L_LPAREN_e_RPAREN__V': 1000,\n",
       " 'EX_his_DASH_L_LPAREN_e_RPAREN__V': 1000,\n",
       " 'EX_ile_DASH_L_LPAREN_e_RPAREN__V': 1000,\n",
       " 'EX_leu_DASH_L_LPAREN_e_RPAREN__V': 1000,\n",
       " 'EX_lys_DASH_L_LPAREN_e_RPAREN__V': 1000,\n",
       " 'EX_ser_DASH_L_LPAREN_e_RPAREN__V': 1000}"
      ]
     },
     "execution_count": 60,
     "metadata": {},
     "output_type": "execute_result"
    }
   ],
   "source": [
    "#With a single AA, test lang haha\n",
    "v_medium = copy.copy(v_copy)\n",
    "\n",
    "v_medium['EX_o2_LPAREN_e_RPAREN__V'] = 1000\n",
    "v_medium['EX_co2_LPAREN_e_RPAREN__V'] = 1000\n",
    "v_medium['EX_nh4_LPAREN_e_RPAREN__V'] = 1000\n",
    "v_medium['EX_photonVis_LPAREN_e_RPAREN__V'] = 0\n",
    "v_medium['EX_ala_DASH_L_LPAREN_e_RPAREN__V'] = 1000\n",
    "v_medium['EX_arg_DASH_L_LPAREN_e_RPAREN__V'] = 1000\n",
    "v_medium['EX_asn_DASH_L_LPAREN_e_RPAREN__V'] = 1000\n",
    "v_medium['EX_asp_DASH_L_LPAREN_e_RPAREN__V'] = 1000\n",
    "v_medium['EX_his_DASH_L_LPAREN_e_RPAREN__V'] = 1000\n",
    "v_medium['EX_ile_DASH_L_LPAREN_e_RPAREN__V'] = 1000\n",
    "v_medium['EX_leu_DASH_L_LPAREN_e_RPAREN__V'] = 1000\n",
    "v_medium['EX_lys_DASH_L_LPAREN_e_RPAREN__V'] = 1000\n",
    "v_medium['EX_ser_DASH_L_LPAREN_e_RPAREN__V'] = 1000\n",
    "ios2164_v.medium = v_medium\n",
    "\n",
    "vcell_rip  = riptide.contextualize(ios2164_v, transcriptome = vcell_exp, samples= 1000)\n",
    "\n",
    "ios2164_v.medium"
   ]
  },
  {
   "cell_type": "code",
   "execution_count": 56,
   "id": "8a933ab7",
   "metadata": {
    "scrolled": true
   },
   "outputs": [
    {
     "name": "stderr",
     "output_type": "stream",
     "text": [
      "/home/rtsantos3/anaconda3/lib/python3.8/site-packages/ipykernel/ipkernel.py:287: DeprecationWarning: `should_run_async` will not call `transform_cell` automatically in the future. Please pass the result to `transformed_cell` argument and any exception that happen during thetransform in `preprocessing_exc_tuple` in IPython 7.17 and above.\n",
      "  and should_run_async(code)\n"
     ]
    },
    {
     "name": "stdout",
     "output_type": "stream",
     "text": [
      "\n",
      "Initializing model and integrating transcriptomic data...\n",
      "Pruning zero flux subnetworks...\n",
      "Analyzing context-specific flux distributions...\n",
      "\n",
      "Reactions pruned to 434 from 2444 (82.24% change)\n",
      "Metabolites pruned to 444 from 1999 (77.79% change)\n",
      "Flux through the objective DECREASED to ~33.22 from ~39.77 (16.47% change)\n",
      "Context-specific metabolism correlates with transcriptome (r=0.173, p<0.001 *)\n",
      "\n",
      "RIPTiDe completed in 37 seconds\n",
      "\n"
     ]
    },
    {
     "data": {
      "text/plain": [
       "{'EX_co2_LPAREN_e_RPAREN__V': 1000,\n",
       " 'EX_h2o_LPAREN_e_RPAREN__V': 1000,\n",
       " 'EX_h_LPAREN_e_RPAREN__V': 1000,\n",
       " 'EX_no3_LPAREN_e_RPAREN__V': 1000,\n",
       " 'EX_o2_LPAREN_e_RPAREN__V': 1000,\n",
       " 'EX_pi_LPAREN_e_RPAREN__V': 1000,\n",
       " 'EX_sucr_LPAREN_e_RPAREN__V': 1000,\n",
       " 'EX_so4_LPAREN_e_RPAREN__V': 1000,\n",
       " 'EX_so3_LPAREN_e_RPAREN__V': 1000,\n",
       " 'EX_nh4_LPAREN_e_RPAREN__V': 1000,\n",
       " 'EX_fe2_LPAREN_e_RPAREN__V': 1000,\n",
       " 'EX_mg2_LPAREN_e_RPAREN__V': 1000}"
      ]
     },
     "execution_count": 56,
     "metadata": {},
     "output_type": "execute_result"
    }
   ],
   "source": [
    "#Heterotrophic conditions, try lang\n",
    "v_medium = copy.copy(v_copy)\n",
    "\n",
    "v_medium['EX_o2_LPAREN_e_RPAREN__V'] = 1000\n",
    "v_medium['EX_co2_LPAREN_e_RPAREN__V'] = 1000\n",
    "v_medium['EX_nh4_LPAREN_e_RPAREN__V'] = 1000\n",
    "v_medium['EX_sucr_LPAREN_e_RPAREN__V'] = 1000\n",
    "v_medium['EX_photonVis_LPAREN_e_RPAREN__V'] = 0\n",
    "ios2164_v.medium = v_medium\n",
    "\n",
    "vcell_rip  = riptide.contextualize(ios2164_v, transcriptome = vcell_exp, samples= 1000)\n",
    "\n",
    "ios2164_v.medium"
   ]
  },
  {
   "cell_type": "code",
   "execution_count": 57,
   "id": "b48c216f",
   "metadata": {},
   "outputs": [
    {
     "name": "stderr",
     "output_type": "stream",
     "text": [
      "/home/rtsantos3/anaconda3/lib/python3.8/site-packages/ipykernel/ipkernel.py:287: DeprecationWarning: `should_run_async` will not call `transform_cell` automatically in the future. Please pass the result to `transformed_cell` argument and any exception that happen during thetransform in `preprocessing_exc_tuple` in IPython 7.17 and above.\n",
      "  and should_run_async(code)\n"
     ]
    },
    {
     "name": "stdout",
     "output_type": "stream",
     "text": [
      "\n",
      "Initializing model and integrating transcriptomic data...\n",
      "Pruning zero flux subnetworks...\n",
      "Analyzing context-specific flux distributions...\n",
      "\n",
      "Reactions pruned to 425 from 2444 (82.61% change)\n",
      "Metabolites pruned to 447 from 1999 (77.64% change)\n",
      "Flux through the objective DECREASED to ~7.57 from ~8.62 (12.18% change)\n",
      "Context-specific metabolism correlates with transcriptome (r=0.214, p<0.001 *)\n",
      "\n",
      "RIPTiDe completed in 38 seconds\n",
      "\n"
     ]
    },
    {
     "data": {
      "text/plain": [
       "{'EX_co2_LPAREN_e_RPAREN__V': 1000,\n",
       " 'EX_h2o_LPAREN_e_RPAREN__V': 1000,\n",
       " 'EX_h_LPAREN_e_RPAREN__V': 1000,\n",
       " 'EX_no3_LPAREN_e_RPAREN__V': 1000,\n",
       " 'EX_o2_LPAREN_e_RPAREN__V': 1000,\n",
       " 'EX_pi_LPAREN_e_RPAREN__V': 1000,\n",
       " 'EX_so4_LPAREN_e_RPAREN__V': 1000,\n",
       " 'EX_so3_LPAREN_e_RPAREN__V': 1000,\n",
       " 'EX_nh4_LPAREN_e_RPAREN__V': 1000,\n",
       " 'EX_fe2_LPAREN_e_RPAREN__V': 1000,\n",
       " 'EX_fe3_LPAREN_e_RPAREN__V': 1000,\n",
       " 'EX_mg2_LPAREN_e_RPAREN__V': 1000}"
      ]
     },
     "execution_count": 57,
     "metadata": {},
     "output_type": "execute_result"
    }
   ],
   "source": [
    "#Heterotrophic conditions, try lang\n",
    "v_medium = copy.copy(v_copy)\n",
    "\n",
    "v_medium['EX_o2_LPAREN_e_RPAREN__V'] = 1000\n",
    "v_medium['EX_co2_LPAREN_e_RPAREN__V'] = 1000\n",
    "v_medium['EX_nh4_LPAREN_e_RPAREN__V'] = 1000\n",
    "v_medium['EX_fe3_LPAREN_e_RPAREN__V'] = 1000\n",
    "v_medium['EX_photonVis_LPAREN_e_RPAREN__V'] = 0\n",
    "ios2164_v.medium = v_medium\n",
    "\n",
    "vcell_rip  = riptide.contextualize(ios2164_v, transcriptome = vcell_exp, samples= 1000)\n",
    "\n",
    "ios2164_v.medium"
   ]
  },
  {
   "cell_type": "code",
   "execution_count": 59,
   "id": "2d5c2c2b",
   "metadata": {},
   "outputs": [
    {
     "name": "stdout",
     "output_type": "stream",
     "text": [
      "\n",
      "Initializing model and integrating transcriptomic data...\n"
     ]
    },
    {
     "name": "stderr",
     "output_type": "stream",
     "text": [
      "/home/rtsantos3/anaconda3/lib/python3.8/site-packages/ipykernel/ipkernel.py:287: DeprecationWarning: `should_run_async` will not call `transform_cell` automatically in the future. Please pass the result to `transformed_cell` argument and any exception that happen during thetransform in `preprocessing_exc_tuple` in IPython 7.17 and above.\n",
      "  and should_run_async(code)\n"
     ]
    },
    {
     "name": "stdout",
     "output_type": "stream",
     "text": [
      "Pruning zero flux subnetworks...\n",
      "Analyzing context-specific flux distributions...\n",
      "\n",
      "Reactions pruned to 464 from 2444 (81.01% change)\n",
      "Metabolites pruned to 487 from 1999 (75.64% change)\n",
      "Flux through the objective DECREASED to ~0.39 from ~0.4 (2.5% change)\n",
      "Context-specific metabolism correlates with transcriptome (r=0.123, p=0.008 *)\n",
      "\n",
      "RIPTiDe completed in 35 seconds\n",
      "\n"
     ]
    },
    {
     "data": {
      "text/plain": [
       "{'EX_h2o_LPAREN_e_RPAREN__V': 1000,\n",
       " 'EX_h_LPAREN_e_RPAREN__V': 1000,\n",
       " 'EX_no3_LPAREN_e_RPAREN__V': 1000,\n",
       " 'EX_pi_LPAREN_e_RPAREN__V': 1000,\n",
       " 'EX_so4_LPAREN_e_RPAREN__V': 1000,\n",
       " 'EX_so3_LPAREN_e_RPAREN__V': 1000,\n",
       " 'EX_nh4_LPAREN_e_RPAREN__V': 1000,\n",
       " 'EX_fe2_LPAREN_e_RPAREN__V': 1000,\n",
       " 'EX_fe3_LPAREN_e_RPAREN__V': 1000,\n",
       " 'EX_mg2_LPAREN_e_RPAREN__V': 1000}"
      ]
     },
     "execution_count": 59,
     "metadata": {},
     "output_type": "execute_result"
    }
   ],
   "source": [
    "#Heterotrophic conditions, try lang\n",
    "v_medium = copy.copy(v_copy)\n",
    "\n",
    "v_medium['EX_o2_LPAREN_e_RPAREN__V'] = 0\n",
    "v_medium['EX_co2_LPAREN_e_RPAREN__V'] = 0\n",
    "v_medium['EX_nh4_LPAREN_e_RPAREN__V'] = 1000\n",
    "v_medium['EX_fe3_LPAREN_e_RPAREN__V'] = 1000\n",
    "v_medium['EX_photonVis_LPAREN_e_RPAREN__V'] = 0\n",
    "ios2164_v.medium = v_medium\n",
    "\n",
    "vcell_rip  = riptide.contextualize(ios2164_v, transcriptome = vcell_exp, samples= 1000)\n",
    "\n",
    "ios2164_v.medium"
   ]
  },
  {
   "cell_type": "markdown",
   "id": "e260b19f",
   "metadata": {},
   "source": [
    "Benchmarking results for BS Cells:\n",
    "\n",
    "No gas exchange, no photon flux: r=0.123, p=0.008\n",
    "With Gas exchange, no photon flux: r=0.214, p<0.001 \n",
    "W/ gas exchange, sucrose import, no photon flux (Hetero conditions): r=0.173, p<0.001 \n",
    "w/ AA import, gas exchange, no : r=0.117, p=0.017\n",
    "\n",
    "Notes:\n",
    "Setting up monosaccharide export didn't do much in terms of correlation results.\n",
    "Okay, select the medium with NH4 + Gas exchange instead for max correlation////"
   ]
  }
 ],
 "metadata": {
  "kernelspec": {
   "display_name": "Python 3",
   "language": "python",
   "name": "python3"
  },
  "language_info": {
   "codemirror_mode": {
    "name": "ipython",
    "version": 3
   },
   "file_extension": ".py",
   "mimetype": "text/x-python",
   "name": "python",
   "nbconvert_exporter": "python",
   "pygments_lexer": "ipython3",
   "version": "3.8.8"
  }
 },
 "nbformat": 4,
 "nbformat_minor": 5
}
