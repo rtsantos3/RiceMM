{
 "cells": [
  {
   "cell_type": "code",
   "execution_count": null,
   "id": "03a656bb",
   "metadata": {
    "ExecuteTime": {
     "end_time": "2023-03-23T07:19:34.673610Z",
     "start_time": "2023-03-23T07:19:29.013Z"
    }
   },
   "outputs": [],
   "source": [
    "import sys\n",
    "import os\n",
    "import cobra\n",
    "import cplex \n",
    "import libsbml\n",
    "import pandas as pd\n",
    "import copy\n",
    "from pathlib import Path\n",
    "import matplotlib.pyplot as plt\n",
    "import csv\n",
    "import numpy as np\n",
    "import seaborn as sns\n",
    "from cobra import Reaction\n",
    "\n",
    "\n",
    "#Change working dir first, ty ChatGPT, much loves\n",
    "cwd = os.getcwd()\n",
    "# Split the path into a list of directories\n",
    "directories = cwd.split(os.sep)\n",
    "# Remove the last two directories from the list\n",
    "directories = directories[:-2]\n",
    "# Join the directories back into a path\n",
    "new_cwd = os.sep.join(directories)\n",
    "# Change the current working directory to the new path\n",
    "os.chdir(new_cwd)\n",
    "\n",
    "sys.path.append(\"./src\")\n",
    "\n",
    "import model_initialize as model_init\n",
    "import model_manipulation  as mm\n"
   ]
  },
  {
   "cell_type": "code",
   "execution_count": null,
   "id": "c13ca1f5",
   "metadata": {
    "ExecuteTime": {
     "end_time": "2023-03-23T07:19:34.675875Z",
     "start_time": "2023-03-23T07:19:32.386Z"
    }
   },
   "outputs": [],
   "source": [
    "config = cobra.Configuration()\n",
    "\n",
    "config.solver = 'gurobi'"
   ]
  },
  {
   "cell_type": "code",
   "execution_count": null,
   "id": "8def8923",
   "metadata": {
    "ExecuteTime": {
     "end_time": "2023-03-23T07:19:34.678589Z",
     "start_time": "2023-03-23T07:19:34.465Z"
    }
   },
   "outputs": [],
   "source": [
    "#Read 2-cell model\n",
    "wt_model = cobra.io.read_sbml_model(\"./model/ios2164_2cell.xml\")\n",
    "#Estimate inf\n",
    "inf = 1e6\n",
    "#Set model solver\n",
    "\n",
    "trans_model = cobra.io.read_sbml_model(\"./model/ios2164_2cell.xml\")\n"
   ]
  },
  {
   "cell_type": "code",
   "execution_count": null,
   "id": "c6481857",
   "metadata": {
    "ExecuteTime": {
     "start_time": "2023-03-23T07:19:50.612Z"
    }
   },
   "outputs": [],
   "source": [
    "#This codeblock is to define some of the functions used for modelling\n",
    "\n",
    "#Define linear relationship between PPFD and Cellular maintainance costs\n",
    "#This formula comes from Topfer et al (2020) where she defined NGAM in a linear relationship with incident light\n",
    "def compute_ngam_atp(ppfd):\n",
    "    v_atp = 0.0049*ppfd + 2.7851\n",
    "    return v_atp\n",
    "\n",
    "\n",
    "#This function is used to set the inputs to the model used. \n",
    "def define_model_medium(model, co2, o2, ppfd, \n",
    "                        medium_dir='./misc/photo_medium.csv', no3=inf, h2o=inf, h=inf, \n",
    "                        nh4=inf, pi=inf):\n",
    "    model_photo_media = mm.read_medium_csv(medium_dir, model)\n",
    "    model_photo_media['EX_no3(e)'] = no3\n",
    "    model_photo_media['EX_h2o(e)'] = h2o\n",
    "    model_photo_media['EX_h(e)'] = h\n",
    "    model_photo_media['EX_nh4(e)'] = nh4\n",
    "    model_photo_media['EX_co2(e)'] = co2\n",
    "    model_photo_media['EX_o2(e)'] = o2\n",
    "    model_photo_media['EX_photonVis(e)'] = ppfd\n",
    "    model_photo_media['EX_pi(e)'] = pi\n",
    "    #Set set model medium as model\n",
    "#     print('Added model medium')\n",
    "    return model_photo_media\n",
    "\n",
    "    \n",
    "def turn_off_cofac_cycles(model, inact_dir='./misc/leaf_inactivated.tsv'):\n",
    "    file = csv.reader(open(inact_dir), delimiter='\\t')\n",
    "    leaf_inactive_rxns = list()\n",
    "    for rows in file:\n",
    "        row_m = str()\n",
    "        row_bs = str()\n",
    "        for rxns in rows:\n",
    "            row_m += str(rxns) + \"_M\"\n",
    "            row_bs += str(rxns) + \"_BS\"\n",
    "        leaf_inactive_rxns.append(row_m)\n",
    "        leaf_inactive_rxns.append(row_bs)\n",
    "        \n",
    "    for rxns in model.reactions:\n",
    "        if rxns.id in leaf_inactive_rxns:\n",
    "            rxns.bounds = (0,0)\n",
    "#     print('Successfully turned off cofactor-cycling reactions')\n",
    "\n",
    "    \n",
    "# #Add constraints to model\n",
    "#This code block contains constraints that would simulate the assimilation rates of bs and m cells in a two-cell system (such as those seen near the midvein region of rice leaves)\n",
    "# #BS photon flux must be the same/less than M flux (Adapted from B&B, 2019)\n",
    "# photon_import = model.reactions.get_by_id(\"EX_photonVis(e)\")\n",
    "def add_tissue_constraints(model):\n",
    "    #For input fluxes for light, we will set the flux ratio to 10:1 to reflect the anatomical proportions of our model ()\n",
    "    \n",
    "    BS_photon_import = model.reactions.PRISM_white_LED_BS\n",
    "    M_photon_import = model.reactions.PRISM_white_LED_M\n",
    "\n",
    "    #Set photon flux ratio to 10:1\n",
    "    photon_flux = mm.set_fix_flux_ratio({M_photon_import.id:10, BS_photon_import.id:1},model)\n",
    "    model.add_cons_vars(photon_flux)\n",
    "\n",
    "    \n",
    "    #UPDATE: Change CO2 intake to the M Cell instead rather than set a ratio, which is a better assumption overall. Assume na lang that external gasses are assimilated\n",
    "    #Via the M cell.\n",
    "    #From Morrison et al 2005 -- Lateral diffusion of Gases is unlikely to support photosynthesis due to the\n",
    "    #assimilation of diffused CO2 in tissues prior to BS//\n",
    "    model.reactions.CO2tex_BS.bounds = (0,0)\n",
    "    model.reactions.O2tex_BS.bounds = (0,0)\n",
    "    \n",
    "    #UPDATE: This assumption does not hold considering that recent transcriptomic analysis confirms that \n",
    "    #the bundle sheath is involved in the assimilation of inorganic nutrients, including nitrogen (nitrates/ammonia), and \n",
    "    #Sulfates. In turn, this will be implemented by simply setting the exchanges to the M cell to 0. (Hua et al, 2021)\n",
    "    model.reactions.SO3tex_M.bounds = (0,0)\n",
    "    model.reactions.SO4tex_M.bounds = (0,0)\n",
    "    model.reactions.NH4tex_M.bounds = (0,0)\n",
    "    model.reactions.NO3tex_M.bounds = (0,0)\n",
    "    \n",
    "    #Model will also constraint H2O input to BS cell only as it is also assumed that BS tissue in rice is specialized for H2O transport (Hua et al. 2021)\n",
    "    #The model also will allow one-way flux of H2O out of the M cell in the form of evaporation (shown by -inf lower bound for the reaction)\n",
    "    model.reactions.H2Otex_M.bounds = (-inf, 0)\n",
    "    \n",
    "    #need to turn off HCO import as the model incorrectly transfers fixed HCO to the BS cell via the common pool compartment\n",
    "    model.reactions.HCO3tex_M.bounds = (0,0)\n",
    "    model.reactions.HCO3tex_BS.bounds = (0,0)\n",
    "    \n",
    "    #No constraints will be implemented for H+ availability allowing the model to use protons on-demand.\n",
    "\n",
    "    # #This code block contains constraints specific for enzyme rate constraints\n",
    "    #This approach is derived from Bogart & Myers (2016) where they constrained the enzyme rate \n",
    "    #fluxes in each of the 2-cell segments to a specific upper bound while keeping the lower bound\n",
    "    #At 0. For reversible reactions the lower bounds are set to the same value\n",
    "    \n",
    "def add_enzyme_constraints(model, \n",
    "                           wt_pepc = 0, \n",
    "                           wt_mdh = 11.18, \n",
    "                           wt_nadp_me = 0.14, \n",
    "                           wt_ppdk=0.31,\n",
    "                          wt_CA=7.5):\n",
    "    \n",
    "    #PEPC constraint (Reaction id: PPCc)\n",
    "    #Need to constrain it to 0 since reaction is only detected in Vascular tissue\n",
    "    pepc_BS = model.reactions.PPCc_BS\n",
    "    pepc_M = model.reactions.PPCc_M\n",
    "    \n",
    "    pepc_BS.bounds = (0,0)\n",
    "    pepc_M.bounds = (0,0)\n",
    "\n",
    "    #PPDK constraints (Reaction id: PPDKs) (note that this is found in the chloroplast?) \n",
    "    #Not detected via immunolocalization but enzyme activity is detected\n",
    "\n",
    "    ppdks_BS = model.reactions.PPDKs_BS\n",
    "    ppdks_M = model.reactions.PPDKs_M\n",
    "    ppdkc_BS = model.reactions.PPDKc_BS\n",
    "    ppdkc_M = model.reactions.PPDKc_M\n",
    "    wt_ppdks_cons = model.problem.Constraint(ppdks_BS.flux_expression \n",
    "                                             + ppdks_M.flux_expression\n",
    "                                             + ppdkc_BS.flux_expression\n",
    "                                             + ppdkc_M.flux_expression, \n",
    "                                             lb = 0, ub = wt_ppdk)\n",
    "    wt_ppdks_cons.name = 'wt_ppdks_cons'\n",
    "    model.add_cons_vars(wt_ppdks_cons)\n",
    "    #Malate Dehydrogenase \n",
    "    #Only mitochondrial in WT Rice M cells\n",
    "    mdhm_M = model.reactions.MDHm_M\n",
    "\n",
    "\n",
    "    wt_mdh_cons = model.problem.Constraint(mdhm_M.flux_expression,\n",
    "                                           lb= 0, ub=wt_mdh)\n",
    "    wt_mdh_cons.name = \"wt_mdh_cons\"\n",
    "    model.add_cons_vars(wt_mdh_cons)\n",
    "\n",
    "    #NADP-ME (Since no signal is detected in WT, no locational constraints are imposed)\n",
    "    #Let's see if I can force it to have a small amount of flux \n",
    "    nadp_me_M = model.reactions.MDHys_M\n",
    "    nadp_me_BS = model.reactions.MDHys_BS\n",
    "\n",
    "    wt_nadpme_cons = model.problem.Constraint(nadp_me_M.flux_expression\n",
    "                                             + nadp_me_BS.flux_expression,\n",
    "                                             lb= 0, ub=wt_nadp_me)\n",
    "    wt_nadpme_cons.name = \"wt_nadpme_cons\"\n",
    "    model.add_cons_vars(wt_nadpme_cons)\n",
    "\n",
    "\n",
    "    #I should add constraints for Carbonic Anhydrase\n",
    "    #I should constrain it to 0.4 ubar, which would constitute ambient CO2 partial pressure\n",
    "    #Flux is reversible so constraints are bi-directional\n",
    "\n",
    "\n",
    "    hco3es_m = model.reactions.HCO3Es_M.flux_expression\n",
    "    hco3ec_m = model.reactions.HCO3Ec_M.flux_expression\n",
    "    hco3em_m = model.reactions.HCO3Em_M.flux_expression\n",
    "    hco3es_bs = model.reactions.HCO3Es_BS.flux_expression\n",
    "    hco3ec_bs = model.reactions.HCO3Ec_BS.flux_expression\n",
    "    hco3em_bs = model.reactions.HCO3Em_BS.flux_expression\n",
    "\n",
    "    ca_cons = model.problem.Constraint(hco3es_m + hco3ec_m + hco3em_m \n",
    "                                       + hco3es_bs + hco3ec_bs + hco3em_bs,\n",
    "                                      lb = -wt_CA, ub = wt_CA)\n",
    "    ca_cons.name = 'Carbonic_anhydrase_constraint'\n",
    "    model.add_cons_vars(ca_cons)\n",
    "    #Rbcl constaints\n",
    "    #Retrieve flux expressions oof each RBCl reaction\n",
    "    rbpc_M = model.reactions.RBPCs_M.flux_expression\n",
    "    rbpc_BS = model.reactions.RBPCs_BS.flux_expression\n",
    "    rbpo_M = model.reactions.RBPOs_M.flux_expression\n",
    "    rbpo_BS = model.reactions.RBPOs_BS.flux_expression\n",
    "\n",
    "    #Constraint such that it is limited to 132 umol m-2 s-1\n",
    "    rbcl_vcmax_cons = model.problem.Constraint(rbpc_M + rbpc_BS, lb = 0, ub= 132)\n",
    "    rbcl_vcmax_cons.name='rbcl_vcmax_cons'\n",
    "    model.add_cons_vars(rbcl_vcmax_cons)\n",
    "    #Constraints for rbcl flux such that v_c/v_o = 3 or higher.\n",
    "    rbcl_vcvo = model.problem.Constraint(3*(rbpo_M + rbpo_BS) \n",
    "                                         - 1*(rbpc_M + rbpc_BS),\n",
    "                                         lb=0,ub=1000)\n",
    "    rbcl_vcvo.name = 'rbcl_vc/vo_ratio'\n",
    "    model.add_cons_vars(rbcl_vcvo)\n",
    "\n",
    "    #Turn off the RBPC2s reactions since we already defined the constraints above\n",
    "    model.reactions.RBPC2s_M.bounds = (0,0)\n",
    "    model.reactions.RBPC2s_BS.bounds = (0,0)\n",
    "    \n",
    "    \n",
    "    \n",
    "    #What if I simply constrained that of the M cell one to 3:1?\n",
    "    #This constraint is pretty good actually. \n",
    "    #This allows the system to be set at a specific Vc/Vo rate while still allowing local variation \n",
    "    #wherein Rubisco may act in an uncoupled fashion and may have favorable internal vc/vo rates.\n",
    "# #This code block is to set a constraint such that M-to-BS cell NGAM ratio is 10-to-1 \n",
    "# #Similar to what Moreno-Villena et al (2022) had done \n",
    "\n",
    "#This function takes two arguments: the model and the maximal  ppfd input to the system\n",
    "def add_ngam_cons(model, ppfd): \n",
    "    ngam_atp_m = mm.get_rxn(model, 'ngam_atp_c_M')\n",
    "    ngam_atp_bs = mm.get_rxn(model, 'ngam_atp_c_BS')\n",
    "    ngam_atp_m.bounds = (0,inf)\n",
    "    ngam_atp_bs.bounds = (0,inf)\n",
    "    ngam_ratio = mm.set_fix_flux_ratio({ngam_atp_m.id:10, ngam_atp_bs.id:1}, model)\n",
    "    ngam_ratio.name = 'ngam_BS/M_ratio'\n",
    "    model.add_cons_vars(ngam_ratio)\n",
    "\n",
    "    #Retrieve NGAM reactions\n",
    "    ngam_nadphox_c_M = mm.get_rxn(model, 'ngam_nadphox_c_M')\n",
    "    ngam_nadphox_s_M = mm.get_rxn(model, 'ngam_nadphox_s_M')\n",
    "    ngam_nadphox_m_M = mm.get_rxn(model, 'ngam_nadphox_m_M')\n",
    "    ngam_nadphox_c_BS = mm.get_rxn(model, 'ngam_nadphox_c_BS')\n",
    "    ngam_nadphox_s_BS = mm.get_rxn(model, 'ngam_nadphox_s_BS')\n",
    "    ngam_nadphox_m_BS = mm.get_rxn(model, 'ngam_nadphox_m_BS')\n",
    "\n",
    "\n",
    "    #Set Fixed fluxes\n",
    "    nadphox_c_s_M = mm.set_fix_flux_ratio({ngam_nadphox_c_M.id:1, ngam_nadphox_s_M.id:1},model)\n",
    "    nadphox_c_s_M.name = \"nadphox_cs_ratio_M\"\n",
    "    nadphox_s_m_M = mm.set_fix_flux_ratio({ngam_nadphox_s_M.id:1, ngam_nadphox_m_M.id:1}, model)\n",
    "    nadphox_s_m_M.name = \"nadphox_sm_ratio_M\"\n",
    "\n",
    "    nadphox_c_s_BS = mm.set_fix_flux_ratio({ngam_nadphox_c_BS.id:1, ngam_nadphox_s_BS.id:1},model)\n",
    "    nadphox_c_s_BS.name = \"nadphox_cs_ratio_BS\"\n",
    "    nadphox_s_m_BS = mm.set_fix_flux_ratio({ngam_nadphox_s_BS.id:1, ngam_nadphox_m_BS.id:1}, model)\n",
    "    nadphox_s_m_BS.name = \"nadphox_sm_ratio_BS\"\n",
    "\n",
    "    #Add constraints\n",
    "    model.add_cons_vars(nadphox_c_s_M)\n",
    "    model.add_cons_vars(nadphox_s_m_M)\n",
    "    model.add_cons_vars(nadphox_c_s_BS)\n",
    "    model.add_cons_vars(nadphox_s_m_BS)\n",
    "\n",
    "    #Retrieve flux expressionns\n",
    "    fex_nadphox_c_M =  mm.get_flux_exp(model, ngam_nadphox_c_M)\n",
    "    fex_nadphox_s_M = mm.get_flux_exp(model, ngam_nadphox_s_M)\n",
    "    fex_nadphox_m_M = mm.get_flux_exp(model, ngam_nadphox_m_M)\n",
    "\n",
    "    fex_nadphox_c_BS =  mm.get_flux_exp(model, ngam_nadphox_c_BS)\n",
    "    fex_nadphox_s_BS =  mm.get_flux_exp(model, ngam_nadphox_s_BS)\n",
    "    fex_nadphox_m_BS =  mm.get_flux_exp(model, ngam_nadphox_m_BS)\n",
    "\n",
    "    fex_atp_c_M = mm.get_flux_exp(model, ngam_atp_m)\n",
    "    fex_atp_c_BS =  mm.get_flux_exp(model, ngam_atp_bs)\n",
    "\n",
    "    #Set the constraint between ATP:NADPH NGAM to 3:1\n",
    "    nadphox_atpase = model.problem.Constraint(3*(fex_nadphox_c_M + fex_nadphox_s_M + fex_nadphox_m_M\n",
    "                                                       + fex_nadphox_c_BS + fex_nadphox_s_BS + fex_nadphox_m_BS) \n",
    "                                         - 1*(fex_atp_c_M + fex_atp_c_BS),\n",
    "                                         lb=0,ub=0)\n",
    "    nadphox_atpase.name = \"nadphox_atpase_ratio\"\n",
    "    model.add_cons_vars(nadphox_atpase)\n",
    "    #Compute NGAM value and add constraint as a lower bound/upper bound to model\n",
    "    ngam_value = compute_ngam_atp(ppfd)\n",
    "    ngam_cons = model.problem.Constraint(fex_atp_c_M + \n",
    "                                        fex_atp_c_BS, lb=ngam_value, ub=ngam_value)\n",
    "    ngam_cons.name = 'NGAM_ATP_constraint'\n",
    "    model.add_cons_vars(ngam_cons)\n",
    "    \n",
    "#This code  block gives a snapshot of the relevant fluxes on each of the cell types based on the saved sample_fluxes values above\n",
    "\n",
    "def print_summary(model, sample_fluxes_df):\n",
    "    print('rbcl M cell: ', sample_fluxes['RBPCs_M'], 'rbcl BS cell: ',sample_fluxes['RBPCs_BS'])\n",
    "    print('rbcl M cell (photorespiration)', sample_fluxes['RBPOs_M'], 'rbcl BS cell (PR)', sample_fluxes['RBPOs_BS'])\n",
    "    print('vc/vo M:', sample_fluxes['RBPCs_M']/sample_fluxes['RBPOs_M'], 'vc/vo BS:', sample_fluxes['RBPCs_BS']/sample_fluxes['RBPOs_BS'])\n",
    "    print('RBPC2s_M', sample_fluxes['RBPC2s_M'], 'RBPC2s_BS', sample_fluxes['RBPC2s_BS'])\n",
    "    print('PEPC M', sample_fluxes['PPCc_M'], 'PEPC BS', sample_fluxes['PPCc_BS'])\n",
    "    print('Carbonic Anhydrase (Cytosolic) M', sample_fluxes['HCO3Ec_M'], 'Carbonic Anhydrase (Cytosolic) BS', sample_fluxes['HCO3Ec_BS'])\n",
    "    print('NADP-ME M', sample_fluxes['MDHys_M'], 'NADP-ME BS', sample_fluxes['MDHys_BS'])\n",
    "    print('Biomass M: ', sample_fluxes['Straw_Biomass_M'], 'Biomass BS', sample_fluxes['Straw_Biomass_BS'])\n",
    "    print('Phloem M: ', sample_fluxes['DM_Phloem_M'], 'Phloem BS', sample_fluxes['DM_Phloem_BS'])\n",
    "    print('co2 consumption M', sample_fluxes['CO2tex_M'], 'co2 consumption BS', sample_fluxes['CO2tex_BS'])\n",
    "    print('o2 consumption M', sample_fluxes['O2tex_M'], 'o2 consumption BS', sample_fluxes['O2tex_BS'])\n",
    "    print('Photosystem II M', sample_fluxes['PSIINC_M'], 'PSII BS', sample_fluxes['PSIINC_BS'])\n",
    "    print('PSI M', sample_fluxes['PSIMR_M'], 'PSI BS', sample_fluxes['PSIMR_BS'])\n",
    "    print('PPFD M: ', sample_fluxes['PRISM_white_LED_M'], 'PPFD BS: ', sample_fluxes['PRISM_white_LED_BS'])\n",
    "    print('ATP synthesis (stromal) M', sample_fluxes['ATPSs_M'], 'ATP synthase (mit) M', sample_fluxes['ATPSm_M'])\n",
    "    pd_rxn = [x for x in model.reactions if \"pd\" in x.id and \"h2o\" not in x.id]\n",
    "    pd_abs_flux = 0\n",
    "    for pds in pd_rxn:\n",
    "        pd_abs_flux += abs(sample_fluxes[pds.id])\n",
    "    \n",
    "    print('pd_abs_flux: ', pd_abs_flux)"
   ]
  },
  {
   "cell_type": "markdown",
   "id": "fb978d85",
   "metadata": {},
   "source": [
    "This code block is to add the constraints for ngam nadphox, which for some reason doesn't save when it was generated using the curation script\n"
   ]
  },
  {
   "cell_type": "markdown",
   "id": "4068dd0c",
   "metadata": {
    "ExecuteTime": {
     "end_time": "2022-05-06T20:08:20.595640Z",
     "start_time": "2022-05-06T20:06:47.860920Z"
    }
   },
   "source": [
    "May 6 2022\n",
    "I think I need to identify which of the reactions cause the blockage of NO3. \n",
    "I can do this by running the instance above and afterwards using the checked_blocked_reactions function to generate a list of blocked reactions.\n",
    "Then afterwards I can compare it with the list of reactions with NO3 as a reactant.\n"
   ]
  },
  {
   "cell_type": "code",
   "execution_count": 5,
   "id": "740bd910",
   "metadata": {
    "ExecuteTime": {
     "end_time": "2023-03-23T07:19:34.595830Z",
     "start_time": "2023-03-23T07:19:34.560644Z"
    }
   },
   "outputs": [
    {
     "ename": "NameError",
     "evalue": "name 'model' is not defined",
     "output_type": "error",
     "traceback": [
      "\u001b[0;31m---------------------------------------------------------------------------\u001b[0m",
      "\u001b[0;31mNameError\u001b[0m                                 Traceback (most recent call last)",
      "\u001b[0;32m<ipython-input-5-6b50a295e61a>\u001b[0m in \u001b[0;36m<module>\u001b[0;34m\u001b[0m\n\u001b[1;32m      1\u001b[0m \u001b[0;31m#Let's try turning off and turning on cofac cycles\u001b[0m\u001b[0;34m\u001b[0m\u001b[0;34m\u001b[0m\u001b[0;34m\u001b[0m\u001b[0m\n\u001b[1;32m      2\u001b[0m \u001b[0;34m\u001b[0m\u001b[0m\n\u001b[0;32m----> 3\u001b[0;31m \u001b[0;32mwith\u001b[0m \u001b[0mmodel\u001b[0m \u001b[0;32mas\u001b[0m \u001b[0mm1\u001b[0m\u001b[0;34m:\u001b[0m\u001b[0;34m\u001b[0m\u001b[0;34m\u001b[0m\u001b[0m\n\u001b[0m\u001b[1;32m      4\u001b[0m \u001b[0;34m\u001b[0m\u001b[0m\n\u001b[1;32m      5\u001b[0m     \u001b[0mm1\u001b[0m\u001b[0;34m.\u001b[0m\u001b[0mmedium\u001b[0m \u001b[0;34m=\u001b[0m \u001b[0mdefine_model_medium\u001b[0m\u001b[0;34m(\u001b[0m\u001b[0mm1\u001b[0m\u001b[0;34m,\u001b[0m \u001b[0mco2\u001b[0m\u001b[0;34m=\u001b[0m\u001b[0;36m29\u001b[0m\u001b[0;34m,\u001b[0m \u001b[0mo2\u001b[0m\u001b[0;34m=\u001b[0m\u001b[0;36m2.216\u001b[0m\u001b[0;34m,\u001b[0m \u001b[0mppfd\u001b[0m\u001b[0;34m=\u001b[0m\u001b[0;36m2000\u001b[0m\u001b[0;34m,\u001b[0m \u001b[0mh\u001b[0m\u001b[0;34m=\u001b[0m\u001b[0minf\u001b[0m\u001b[0;34m,\u001b[0m \u001b[0mnh4\u001b[0m\u001b[0;34m=\u001b[0m\u001b[0minf\u001b[0m\u001b[0;34m,\u001b[0m \u001b[0mno3\u001b[0m\u001b[0;34m=\u001b[0m\u001b[0;36m0\u001b[0m\u001b[0;34m)\u001b[0m\u001b[0;34m\u001b[0m\u001b[0;34m\u001b[0m\u001b[0m\n",
      "\u001b[0;31mNameError\u001b[0m: name 'model' is not defined"
     ]
    }
   ],
   "source": [
    "#Let's try turning off and turning on cofac cycles \n",
    "\n",
    "with model as m1:\n",
    "\n",
    "    m1.medium = define_model_medium(m1, co2=29, o2=2.216, ppfd=2000, h=inf, nh4=inf, no3=0)\n",
    "    turn_off_cofac_cycles(m1)\n",
    "    add_tissue_constraints(m1)\n",
    "    add_enzyme_constraints(m1)\n",
    "    add_ngam_cons(m1, 1000)\n",
    "    \n",
    "    #Let's try turning off nga yung RBPC2s\n",
    "\n",
    "\n",
    "#Constrain O2 intake to 3.312 mmol O2 gcw -1 d-1 ~~ 2.2618 umol O2 m-2 s-1 (from Lakshmanan et al. 2016)\n",
    "    #Change objective function to mature leaf\n",
    "    m1.reactions.get_by_id('Straw_Biomass_M').objective_coefficient = 0\n",
    "    m1.reactions.get_by_id('Straw_Biomass_BS').objective_coefficient = 0\n",
    "    mm.get_rxn(m1,'DM_Phloem_BS').objective_coefficient = 1\n",
    "    \n",
    "    \n",
    "    sample_fluxes = cobra.flux_analysis.pfba(m1).fluxes\n",
    "#     sample_fluxes = model.optimize().fluxes\n",
    "    #Remove thermodynamically infeasible loops\n",
    "    sample_fluxes = cobra.flux_analysis.loopless_solution(m1, sample_fluxes)\n",
    "#     blocked_rxns_w_cofac = cobra.flux_analysis.find_blocked_reactions(model)\n",
    "print_summary(sample_fluxes.to_frame())"
   ]
  },
  {
   "cell_type": "code",
   "execution_count": null,
   "id": "c36636a2",
   "metadata": {
    "ExecuteTime": {
     "end_time": "2023-03-23T07:19:34.600343Z",
     "start_time": "2023-03-23T07:19:24.328Z"
    }
   },
   "outputs": [],
   "source": [
    "print('with cofactor-cycling reactions: ', len(blocked_rxns_w_cofac))\n",
    "print('w/o cofactor-cycling reactions: ', len(blocked_rxns_no_cofac))"
   ]
  },
  {
   "cell_type": "code",
   "execution_count": null,
   "id": "e0b2e117",
   "metadata": {
    "ExecuteTime": {
     "end_time": "2023-03-23T07:19:34.600811Z",
     "start_time": "2023-03-23T07:19:24.329Z"
    }
   },
   "outputs": [],
   "source": [
    "#Blocked reactions are off\n",
    "\n",
    "with model:\n",
    "    turn_off_cofac_cycles(model)\n",
    "    for item in model.metabolites.no3_c0.reactions:\n",
    "        if item.id in blocked_rxns_no_cofac:\n",
    "            print(item.id, item.bounds)\n"
   ]
  },
  {
   "cell_type": "code",
   "execution_count": null,
   "id": "bcbcd2b3",
   "metadata": {
    "ExecuteTime": {
     "end_time": "2023-03-23T07:19:34.601271Z",
     "start_time": "2023-03-23T07:19:24.330Z"
    }
   },
   "outputs": [],
   "source": [
    "#Blocked reactions are on\n",
    "print('Blocked reactions on: ')\n",
    "with model:\n",
    "    for item in model.metabolites.no3_c0.reactions:\n",
    "        if item.id in blocked_rxns_w_cofac:\n",
    "            print(item.id, item.bounds)\n",
    "print('Blocked reactions off: ')\n",
    "#Blocked reactions are off\n",
    "with model:\n",
    "    turn_off_cofac_cycles(model)\n",
    "    for item in model.metabolites.no3_c0.reactions:\n",
    "        if item.id in blocked_rxns_no_cofac:\n",
    "            print(item.id, item.bounds)\n"
   ]
  },
  {
   "cell_type": "markdown",
   "id": "16f0504d",
   "metadata": {},
   "source": [
    "For NO3 (Blocked reactions):\n",
    "Turned on cofactor generating cycles:\n",
    "    - NO3tvr_M\n",
    "Turned off cofactor generating:\n",
    "    - NODOx\n",
    "    - NODOy\n",
    "    - NO3Rm\n",
    "    - No3tex\n",
    "    - NO3tvr\n",
    "    - NITRc\n",
    "    \n",
    "Difference are the NODOx, NODOy, NO3Rm, NO3tex and NITRc\n",
    "\n",
    "NODOx = nitric oxide NADH2 oxidoreductase \n",
    "2 no[c] + 2 o2[c] + nadh[c] -> 2 no3[c] + nad[c] + h[c]\n",
    "\n",
    "NODOy = nitric oxide NADPH2 oxidoreductase\n",
    "2 no[c] + 2 o2[c] + nadph[c] -> 2 no3[c] + nadp[c] + h[c]\n",
    "\n",
    "NO3Rm = Nitrate reductase, mitochondrial\n",
    "2 h[c] + no3[c] + q8h2[m]  -> h2o[m] + q8[m] + 2 h[c] + no2[c]\n",
    "\n",
    "NITRc = Nitrate reductase \n",
    "no3[c] + nadh[c] + h[c] -> no2[c] + nad[c] + h2o[c]\n",
    "\n",
    "Most of the reactions require  NADH and NADPH as their source. I wonder it is because of \n",
    "the NGAM reaction consuming most of the NADPH?\n"
   ]
  },
  {
   "cell_type": "code",
   "execution_count": null,
   "id": "e8b3e268",
   "metadata": {
    "ExecuteTime": {
     "end_time": "2023-03-23T07:19:34.601685Z",
     "start_time": "2023-03-23T07:19:24.331Z"
    }
   },
   "outputs": [],
   "source": [
    "\n",
    "with model:\n",
    "    turn_off_cofac_cycles(model)\n",
    "    for item in model.metabolites.nh4_c0.reactions:\n",
    "        if item.id in blocked_rxns_no_cofac:\n",
    "            print(item.id, item.bounds)\n"
   ]
  },
  {
   "cell_type": "markdown",
   "id": "f5c3e6f1",
   "metadata": {},
   "source": [
    "May 6, 2022\n",
    "Results for Benchmarking Nitrogen assimilation\n",
    "\n",
    "Set-up:\n",
    "    - Medium: Autotrophic medium, NO3 as sole N source, \n",
    "    - Blocked reactions were identified using the Blocked_reactions list\n",
    "    - Turned off cofactor-cycling reactions\n",
    "- There wasn't any turned off reactions involving NO3 in particular. "
   ]
  },
  {
   "cell_type": "code",
   "execution_count": null,
   "id": "2211c31e",
   "metadata": {
    "ExecuteTime": {
     "end_time": "2023-03-23T07:19:34.602006Z",
     "start_time": "2023-03-23T07:19:24.332Z"
    }
   },
   "outputs": [],
   "source": [
    "#Let's test if it is because of the NGAM constraint why the model cannot absorb any NADPH\n",
    "#May 6 2022\n",
    "#I think I need to identify which of the reactions cause the blockage of NO3. \n",
    "#I can do this by running the instance above and afterwards using the checked_blocked_reactions function to generate a list of blocked reactions.\n",
    "#Then afterwards I can compare it with the list of reactions with NO3 as a reactant.\n",
    "\n",
    "\n",
    "with model as m1:\n",
    "\n",
    "    m1.medium = define_model_medium(m1, co2=29, o2=2.216, ppfd=200, h=inf, nh4=0, no3=inf)\n",
    "    turn_off_cofac_cycles(m1)\n",
    "    add_tissue_constraints(m1)\n",
    "    add_enzyme_constraints(m1)\n",
    "    add_ngam_cons(m1, 200)\n",
    "    \n",
    "    #Let's try turning off nga yung RBPC2s\n",
    "\n",
    "\n",
    "#Constrain O2 intake to 3.312 mmol O2 gcw -1 d-1 ~~ 2.2618 umol O2 m-2 s-1 (from Lakshmanan et al. 2016)\n",
    "    #Change objective function to mature leaf\n",
    "    m1.reactions.get_by_id('Straw_Biomass_M').objective_coefficient = 0\n",
    "    m1.reactions.get_by_id('Straw_Biomass_BS').objective_coefficient = 0\n",
    "    mm.get_rxn(m1,'DM_Phloem_BS').objective_coefficient = 1\n",
    "    \n",
    "    \n",
    "    sample_fluxes = cobra.flux_analysis.pfba(m1).fluxes\n",
    "#     sample_fluxes = model.optimize().fluxes\n",
    "    #Remove thermodynamically infeasible loops\n",
    "    sample_fluxes = cobra.flux_analysis.loopless_solution(m1, sample_fluxes)\n",
    "print_summary(sample_fluxes.to_frame())"
   ]
  },
  {
   "cell_type": "code",
   "execution_count": null,
   "id": "72ce7ace",
   "metadata": {
    "ExecuteTime": {
     "end_time": "2023-03-23T07:19:34.602327Z",
     "start_time": "2023-03-23T07:19:24.332Z"
    }
   },
   "outputs": [],
   "source": [
    "#Let's test if it is because of the NGAM constraint why the model cannot absorb any NADPH\n",
    "#May 6 2022\n",
    "#I think I need to identify which of the reactions cause the blockage of NO3. \n",
    "#I can do this by running the instance above and afterwards using the checked_blocked_reactions function to generate a list of blocked reactions.\n",
    "#Then afterwards I can compare it with the list of reactions with NO3 as a reactant.\n",
    "\n",
    "\n",
    "with model as m1:\n",
    "\n",
    "    m1.medium = define_model_medium(m1, co2=29, o2=2.216, ppfd=1000, h=inf, nh4=inf, no3=inf)\n",
    "    turn_off_cofac_cycles(m1)\n",
    "    add_tissue_constraints(m1)\n",
    "    add_enzyme_constraints(m1)\n",
    "#     add_ngam_cons(m1, 1000)\n",
    "    \n",
    "    #Let's try turning off nga yung RBPC2s\n",
    "\n",
    "\n",
    "#Constrain O2 intake to 3.312 mmol O2 gcw -1 d-1 ~~ 2.2618 umol O2 m-2 s-1 (from Lakshmanan et al. 2016)\n",
    "    #Change objective function to mature leaf\n",
    "    m1.reactions.get_by_id('Straw_Biomass_M').objective_coefficient = 0\n",
    "    m1.reactions.get_by_id('Straw_Biomass_BS').objective_coefficient = 0\n",
    "    mm.get_rxn(m1,'DM_Phloem_BS').objective_coefficient = 1\n",
    "    \n",
    "    \n",
    "    sample_fluxes = cobra.flux_analysis.pfba(m1).fluxes\n",
    "#     sample_fluxes = model.optimize().fluxes\n",
    "    #Remove thermodynamically infeasible loops\n",
    "    sample_fluxes = cobra.flux_analysis.loopless_solution(m1, sample_fluxes)\n",
    "print_summary(sample_fluxes.to_frame())"
   ]
  },
  {
   "cell_type": "markdown",
   "id": "e24bf607",
   "metadata": {},
   "source": [
    "Result:\n",
    "- Nope, it's not because of the NGAM. The model cannot absorb NO3 as is."
   ]
  },
  {
   "cell_type": "markdown",
   "id": "d1798a5d",
   "metadata": {},
   "source": [
    "Let's try investigating why exactly the model cannot absorb NO3 as a sole N source. "
   ]
  },
  {
   "cell_type": "code",
   "execution_count": null,
   "id": "31666894",
   "metadata": {
    "ExecuteTime": {
     "end_time": "2023-03-23T07:19:34.602730Z",
     "start_time": "2023-03-23T07:19:24.334Z"
    }
   },
   "outputs": [],
   "source": [
    "#Let's test now which of the reactions could allow no3 to be absorbed if it is held as a sole nitrogen source\n",
    "#Get default bounds of reactions from the inactivated list\n",
    "leaf_intact_bounds_dict = dict()\n",
    "\n",
    "for rxns in model.reactions:\n",
    "    if rxns.id in leaf_inact_rxns:\n",
    "        leaf_intact_bounds_dict[rxns.id] = rxns.bounds\n",
    "\n",
    "\n",
    "# This code block is to test which of the reactions in the leaf inactivated list produces infeasible loops\n",
    "phloem_producing_rxn = list()\n",
    "\n",
    "for turn_on_rxn, rxn_bounds in leaf_intact_bounds_dict.items():\n",
    "    print('Producing solution for: ', turn_on_rxn, '...')\n",
    "    with model:\n",
    "        #Initialize model with no3 as sole N source\n",
    "        model.medium = define_model_medium(model, \n",
    "                                           co2=29, \n",
    "                                           o2=2.216, \n",
    "                                           ppfd=1000, \n",
    "                                           h=inf, \n",
    "                                           nh4=0, #NH4 is turned off\n",
    "                                           no3=inf)\n",
    "        turn_off_cofac_cycles(model)\n",
    "        add_tissue_constraints(model)\n",
    "        add_enzyme_constraints(model)\n",
    "        add_ngam_cons(model, 1000)\n",
    "        \n",
    "        \n",
    "        #Change objective function to mature leaf\n",
    "        model.reactions.get_by_id('Straw_Biomass_M').objective_coefficient = 0\n",
    "        model.reactions.get_by_id('Straw_Biomass_BS').objective_coefficient = 0\n",
    "        mm.get_rxn(model,'DM_Phloem_BS').objective_coefficient = 1\n",
    "        \n",
    "        #Open up reaction bounds in the list\n",
    "        model.reactions.get_by_id(turn_on_rxn).bounds = rxn_bounds\n",
    "        \n",
    "        #Get solution\n",
    "        sample_fluxes = cobra.flux_analysis.pfba(model).fluxes.to_frame()\n",
    "        \n",
    "        if sample_fluxes['fluxes']['DM_Phloem_BS'] != 0:\n",
    "            phloem_producing_rxn.append(turn_on_rxn)\n",
    "         \n",
    "print('Here are a list of reactions that allow Phloem to be produced without co-factor cycling, with No3 as sole N source: ')\n",
    "for items in phloem_producing_rxn:\n",
    "    print(items)"
   ]
  },
  {
   "cell_type": "raw",
   "id": "99b60858",
   "metadata": {
    "ExecuteTime": {
     "end_time": "2022-05-06T20:04:34.643665Z",
     "start_time": "2022-05-06T20:04:25.387Z"
    }
   },
   "source": [
    "The cell above shows which of the reactions allow for the production of photoassimilate if NO3 is inputted as the sole N source. \n",
    "Only the reaction FDHNc (Formate Dehydrogenase-N) allows the production of Biomass if NO3 is the only N source. The reaction for FDHN is the following:\n",
    "for[c] + q8[m] + 2 h[m] -> q8h2[m] + h[c] + co2[c]\n",
    "\n",
    "When compared with the original list of blocked reactions, the most likely culprit for this is q8, which involves the initial reductase step for Nitrate reductase.\n",
    "\n",
    "\n",
    "NODOx = nitric oxide NADH2 oxidoreductase \n",
    "2 no[c] + 2 o2[c] + nadh[c] -> 2 no3[c] + nad[c] + h[c]\n",
    "\n",
    "NODOy = nitric oxide NADPH2 oxidoreductase\n",
    "2 no[c] + 2 o2[c] + nadph[c] -> 2 no3[c] + nadp[c] + h[c]\n",
    "\n",
    "NO3Rm = Nitrate reductase, mitochondrial\n",
    "2 h[c] + no3[c] + q8h2[m]  -> h2o[m] + q8[m] + 2 h[c] + no2[c]\n",
    "\n",
    "NITRc = Nitrate reductase \n",
    "no3[c] + nadh[c] + h[c] -> no2[c] + nad[c] + h2o[c]\n",
    "\n",
    "Most likely the reaction is being blocked due to the requirement for q8h2 and q8. In the case of the former it is required to catalyze the first step in the assimilation of nitrates in the cytoplasm NO3Rm.\n",
    "\n",
    "\n",
    "I need to check which reactions involve both q8h2 and q8. "
   ]
  },
  {
   "cell_type": "code",
   "execution_count": null,
   "id": "4b326847",
   "metadata": {
    "ExecuteTime": {
     "end_time": "2023-03-23T07:19:34.603070Z",
     "start_time": "2023-03-23T07:19:24.351Z"
    }
   },
   "outputs": [],
   "source": [
    "q8h2_rxns = [rxns.id for rxns in model.metabolites.q8h2_m0.reactions]\n",
    "q8_rxns = [rxns.id for rxns in model.metabolites.q8_m0.reactions]"
   ]
  },
  {
   "cell_type": "code",
   "execution_count": null,
   "id": "0042647d",
   "metadata": {
    "ExecuteTime": {
     "end_time": "2023-03-23T07:19:34.603418Z",
     "start_time": "2023-03-23T07:19:24.353Z"
    }
   },
   "outputs": [],
   "source": [
    "print('For checking which of the ubiquinone/ol reactions are blocked in the model')\n",
    "\n",
    "\n",
    "print('For q8h2_m0')\n",
    "print('Blocked reactions off: ')\n",
    "#Blocked reactions are off\n",
    "with model:\n",
    "    turn_off_cofac_cycles(model)\n",
    "    for item in model.metabolites.q8h2_m0.reactions:\n",
    "        if item.id in blocked_rxns_no_cofac:\n",
    "            print(item.id, item.bounds)\n",
    "\n",
    "                  \n",
    "print('Blocked reactions on: ')\n",
    "with model:\n",
    "    turn_off_cofac_cycles(model)\n",
    "    for item in model.metabolites.q8h2_m0.reactions:\n",
    "        if item.id in blocked_rxns_w_cofac:\n",
    "            print(item.id, item.bounds)\n",
    "                  \n",
    "\n",
    "print('For q8_m0')\n",
    "                  \n",
    "print('Blocked reactions off: ')\n",
    "#Blocked reactions are off\n",
    "with model:\n",
    "    turn_off_cofac_cycles(model)\n",
    "    for item in model.metabolites.q8_m0.reactions:\n",
    "        if item.id in blocked_rxns_no_cofac:\n",
    "            print(item.id, item.bounds)\n",
    "\n",
    "                  \n",
    "print('Blocked reactions on: ')\n",
    "with model:\n",
    "    turn_off_cofac_cycles(model)\n",
    "    for item in model.metabolites.q8_m0.reactions:\n",
    "        if item.id in blocked_rxns_w_cofac:\n",
    "            print(item.id, item.bounds)\n",
    "\n",
    "\n",
    "\n"
   ]
  },
  {
   "cell_type": "code",
   "execution_count": null,
   "id": "c8c6a103",
   "metadata": {
    "ExecuteTime": {
     "end_time": "2023-03-23T07:19:34.603747Z",
     "start_time": "2023-03-23T07:19:24.353Z"
    },
    "scrolled": true
   },
   "outputs": [],
   "source": [
    "model.reactions.COQ3m_M"
   ]
  },
  {
   "cell_type": "code",
   "execution_count": null,
   "id": "633b60bb",
   "metadata": {
    "ExecuteTime": {
     "end_time": "2023-03-23T07:19:34.604112Z",
     "start_time": "2023-03-23T07:19:24.355Z"
    },
    "scrolled": true
   },
   "outputs": [],
   "source": [
    "#Let's test if it is because of the NGAM constraint why the model cannot absorb any NADPH\n",
    "#May 6 2022\n",
    "#I think I need to identify which of the reactions cause the blockage of NO3. \n",
    "#I can do this by running the instance above and afterwards using the checked_blocked_reactions function to generate a list of blocked reactions.\n",
    "#Then afterwards I can compare it with the list of reactions with NO3 as a reactant.\n",
    "\n",
    "\n",
    "with model as m1:\n",
    "\n",
    "    m1.medium = define_model_medium(m1, co2=29, o2=2.216, ppfd=1000, h=inf, nh4=inf, no3=0)\n",
    "    turn_off_cofac_cycles(m1)\n",
    "    add_tissue_constraints(m1)\n",
    "    add_enzyme_constraints(m1)\n",
    "    add_ngam_cons(m1, 1000)\n",
    "    \n",
    "    #Let's try turning on nga yung FDHNc to see what happens\n",
    "    m1.reactions.FDHNc_M.bounds = (0,inf)\n",
    "    m1.reactions.FDHNc_M.bounds = (0,inf)\n",
    "\n",
    "#Constrain O2 intake to 3.312 mmol O2 gcw -1 d-1 ~~ 2.2618 umol O2 m-2 s-1 (from Lakshmanan et al. 2016)\n",
    "    #Change objective function to mature leaf\n",
    "    m1.reactions.get_by_id('Straw_Biomass_M').objective_coefficient = 0\n",
    "    m1.reactions.get_by_id('Straw_Biomass_BS').objective_coefficient = 0\n",
    "    mm.get_rxn(m1,'DM_Phloem_BS').objective_coefficient = 1\n",
    "    \n",
    "    \n",
    "    sample_fluxes = cobra.flux_analysis.pfba(m1).fluxes\n",
    "#     sample_fluxes = model.optimize().fluxes\n",
    "    #Remove thermodynamically infeasible loops\n",
    "    sample_fluxes_fdhnc = cobra.flux_analysis.loopless_solution(m1, sample_fluxes).to_frame()\n",
    "    no3_summary = m1.metabolites.q8h2_m0.summary()\n",
    "    \n",
    "no3_summary\n",
    "\n",
    "\n",
    "\n",
    "\n"
   ]
  },
  {
   "cell_type": "code",
   "execution_count": null,
   "id": "d0bce0e5",
   "metadata": {
    "ExecuteTime": {
     "end_time": "2023-03-23T07:19:34.604443Z",
     "start_time": "2023-03-23T07:19:24.356Z"
    },
    "scrolled": false
   },
   "outputs": [],
   "source": [
    "#May 9 2022\n",
    "#Let's do some sensitivity analysis by setting fdhnc from 0 to 34 (max when no3 is set to unbounded)\n",
    "\n",
    "fdhnc_np = np.linspace(0, 34,50)\n",
    "fdhnc_fluxes = pd.DataFrame(index=list(i.id for i in model.reactions))\n",
    "\n",
    "for fdhnc in fdhnc_np:\n",
    "    print('Generating fluxes for ',fdhnc, 'FDHNc flux')\n",
    "    with model as m1:\n",
    "\n",
    "        m1.medium = define_model_medium(m1, co2=29, o2=2.216, ppfd=1000, h=inf, nh4=0, no3=inf)\n",
    "        turn_off_cofac_cycles(m1) #Turn off other cofactor recycling \n",
    "        add_tissue_constraints(m1)\n",
    "        add_enzyme_constraints(m1)\n",
    "        add_ngam_cons(m1, 200)\n",
    "\n",
    "        #Turn on FDHNc to amount specified\n",
    "        m1.reactions.FDHNc_M.bounds = (0,fdhnc)\n",
    "        m1.reactions.FDHNc_BS.bounds = (0,fdhnc)\n",
    "\n",
    "       #Change objective function to mature leaf\n",
    "        m1.reactions.get_by_id('Straw_Biomass_M').objective_coefficient = 0\n",
    "        m1.reactions.get_by_id('Straw_Biomass_BS').objective_coefficient = 0\n",
    "        mm.get_rxn(m1,'DM_Phloem_BS').objective_coefficient = 1\n",
    "\n",
    "\n",
    "        sample_fluxes = cobra.flux_analysis.pfba(m1).fluxes\n",
    "        sample_fluxes = cobra.flux_analysis.loopless_solution(m1, sample_fluxes).to_frame()\n",
    "    #     sample_fluxes = model.optimize().fluxes\n",
    "        #Remove thermodynamically infeasible loops\n",
    "        fdhnc_fluxes[fdhnc] = sample_fluxes['fluxes']\n",
    "\n",
    "\n",
    "save_fba_matrix('fdhnc_matrix', fdhnc_fluxes, '../flux_results/test_solns/N_benchmarking/')\n",
    "\n"
   ]
  },
  {
   "cell_type": "code",
   "execution_count": null,
   "id": "f8c21f9f",
   "metadata": {
    "ExecuteTime": {
     "end_time": "2023-03-23T07:19:34.604944Z",
     "start_time": "2023-03-23T07:19:24.357Z"
    }
   },
   "outputs": [],
   "source": [
    "#May 9 2022\n",
    "#Let's do some sensitivity analysis by setting fdhnc from 0 to 34 (max when no3 is set to unbounded)\n",
    "\n",
    "fdhnc_np2 = np.linspace(0, 0.693877,50)\n",
    "fdhnc_fluxes2 = pd.DataFrame(index=list(i.id for i in model.reactions))\n",
    "\n",
    "for fdhnc in fdhnc_np2:\n",
    "    print('Generating fluxes for ',fdhnc, 'FDHNc flux')\n",
    "    with model as m1:\n",
    "\n",
    "        m1.medium = define_model_medium(m1, co2=29, o2=2.216, ppfd=1000, h=inf, nh4=0, no3=inf)\n",
    "        turn_off_cofac_cycles(m1) #Turn off other cofactor recycling \n",
    "        add_tissue_constraints(m1)\n",
    "        add_enzyme_constraints(m1)\n",
    "        add_ngam_cons(m1, 1000)\n",
    "\n",
    "        #Turn on FDHNc to amount specified\n",
    "        m1.reactions.FDHNc_M.bounds = (0,fdhnc)\n",
    "        m1.reactions.FDHNc_BS.bounds = (0,fdhnc)\n",
    "\n",
    "       #Change objective function to mature leaf\n",
    "        m1.reactions.get_by_id('Straw_Biomass_M').objective_coefficient = 0\n",
    "        m1.reactions.get_by_id('Straw_Biomass_BS').objective_coefficient = 0\n",
    "        mm.get_rxn(m1,'DM_Phloem_BS').objective_coefficient = 1\n",
    "\n",
    "\n",
    "        sample_fluxes = cobra.flux_analysis.pfba(m1).fluxes\n",
    "        sample_fluxes = cobra.flux_analysis.loopless_solution(m1, sample_fluxes).to_frame()\n",
    "    #     sample_fluxes = model.optimize().fluxes\n",
    "        #Remove thermodynamically infeasible loops\n",
    "        fdhnc_fluxes2[fdhnc] = sample_fluxes['fluxes']\n",
    "\n",
    "\n",
    "mm.save_fba_matrix('fdhnc_matrix_finer_reso', fdhnc_fluxes2, '../flux_results/test_solns/N_benchmarking/')\n",
    "\n"
   ]
  },
  {
   "cell_type": "code",
   "execution_count": null,
   "id": "95435886",
   "metadata": {
    "ExecuteTime": {
     "end_time": "2023-03-23T07:19:34.605356Z",
     "start_time": "2023-03-23T07:19:24.358Z"
    }
   },
   "outputs": [],
   "source": [
    "fdhnc_fluxes2.loc[['DM_Phloem_BS']].values"
   ]
  },
  {
   "cell_type": "code",
   "execution_count": null,
   "id": "465893b8",
   "metadata": {
    "ExecuteTime": {
     "end_time": "2023-03-23T07:19:34.605800Z",
     "start_time": "2023-03-23T07:19:24.359Z"
    }
   },
   "outputs": [],
   "source": [
    "#I think it would be best to restrict N input to NH4 only."
   ]
  },
  {
   "cell_type": "code",
   "execution_count": null,
   "id": "39613788",
   "metadata": {
    "ExecuteTime": {
     "end_time": "2023-03-23T07:19:34.606255Z",
     "start_time": "2023-03-23T07:19:24.361Z"
    }
   },
   "outputs": [],
   "source": [
    "phloem_y = fdhnc_fluxes2.loc[['DM_Phloem_BS']].values.flatten()\n",
    "ATPSm_m =  fdhnc_fluxes2.loc[['ATPSm_M']].values.flatten()\n",
    "ATPSs_m =  fdhnc_fluxes2.loc[['ATPSs_M']].values.flatten()\n",
    "\n",
    "\n",
    "\n",
    "fdhnc_x = list(fdhnc_fluxes2.columns)\n",
    "\n",
    "\n",
    "\n",
    "no3_ex =fdhnc_fluxes2.loc[['EX_no3(e)']].values.flatten()\n",
    "co2_ex = fdhnc_fluxes2.loc[['EX_co2(e)']].values.flatten()\n"
   ]
  },
  {
   "cell_type": "code",
   "execution_count": null,
   "id": "313f343d",
   "metadata": {
    "ExecuteTime": {
     "end_time": "2023-03-23T07:19:34.606949Z",
     "start_time": "2023-03-23T07:19:24.362Z"
    }
   },
   "outputs": [],
   "source": [
    "#Plot ATP synthase vs FDHNc activity\n",
    "\n",
    "plt.plot(fdhnc_x, ATPSm_m, label=\"ATP synthase (Mitochondrial)\")\n",
    "plt.plot(fdhnc_x, ATPSs_m, label=\"ATP synthase (Stromal)\")\n",
    "plt.legend()\n",
    "plt.show()"
   ]
  },
  {
   "cell_type": "code",
   "execution_count": null,
   "id": "1c9faf20",
   "metadata": {
    "ExecuteTime": {
     "end_time": "2023-03-23T07:19:34.607464Z",
     "start_time": "2023-03-23T07:19:24.363Z"
    }
   },
   "outputs": [],
   "source": [
    "\n",
    "plt.plot(fdhnc_x, phloem_y, label=\"Phloem output\")\n",
    "plt.plot(fdhnc_x, no3_ex * -1, label=\"NO3 input\")\n",
    "plt.plot(fdhnc_x, co2_ex * -1, label=\"CO2 input\")\n",
    "plt.legend()\n",
    "plt.show()\n",
    "\n",
    "#Based on the plot below, It shows that CO2 input is more sensitive to FDHNc activity vs NO3 input and\n",
    "#Phloem input."
   ]
  },
  {
   "cell_type": "code",
   "execution_count": null,
   "id": "65c5f81b",
   "metadata": {
    "ExecuteTime": {
     "end_time": "2023-03-23T07:19:34.607935Z",
     "start_time": "2023-03-23T07:19:24.364Z"
    }
   },
   "outputs": [],
   "source": [
    "#Formate Dehydrogenase is essential pala in generating nitrate flux due to the generation of Ubiquinone\n",
    "#I'll just constrain it to use NH4 instead to prevent futile cycling."
   ]
  }
 ],
 "metadata": {
  "kernelspec": {
   "display_name": "Python 3",
   "language": "python",
   "name": "python3"
  },
  "language_info": {
   "codemirror_mode": {
    "name": "ipython",
    "version": 3
   },
   "file_extension": ".py",
   "mimetype": "text/x-python",
   "name": "python",
   "nbconvert_exporter": "python",
   "pygments_lexer": "ipython3",
   "version": "3.8.8"
  },
  "varInspector": {
   "cols": {
    "lenName": 16,
    "lenType": 16,
    "lenVar": 40
   },
   "kernels_config": {
    "python": {
     "delete_cmd_postfix": "",
     "delete_cmd_prefix": "del ",
     "library": "var_list.py",
     "varRefreshCmd": "print(var_dic_list())"
    },
    "r": {
     "delete_cmd_postfix": ") ",
     "delete_cmd_prefix": "rm(",
     "library": "var_list.r",
     "varRefreshCmd": "cat(var_dic_list()) "
    }
   },
   "types_to_exclude": [
    "module",
    "function",
    "builtin_function_or_method",
    "instance",
    "_Feature"
   ],
   "window_display": false
  }
 },
 "nbformat": 4,
 "nbformat_minor": 5
}
