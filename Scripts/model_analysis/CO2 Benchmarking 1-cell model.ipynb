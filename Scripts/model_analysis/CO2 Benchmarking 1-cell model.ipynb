{
 "cells": [
  {
   "cell_type": "code",
   "execution_count": 90,
   "id": "03a656bb",
   "metadata": {
    "ExecuteTime": {
     "end_time": "2022-05-17T10:45:08.903553Z",
     "start_time": "2022-05-17T10:45:08.900656Z"
    }
   },
   "outputs": [],
   "source": [
    "import sys\n",
    "sys.path.append(\"../src/\") \n",
    "import os\n",
    "\n",
    "import model_manipulation as mm\n",
    "import cobra\n",
    "import cplex \n",
    "import libsbml\n",
    "import pandas as pd\n",
    "import copy\n",
    "from pathlib import Path\n",
    "import matplotlib.pyplot as plt\n",
    "import csv\n",
    "from cobra import Reaction\n"
   ]
  },
  {
   "cell_type": "code",
   "execution_count": 94,
   "id": "8def8923",
   "metadata": {
    "ExecuteTime": {
     "end_time": "2022-05-17T10:45:54.497501Z",
     "start_time": "2022-05-17T10:45:52.415296Z"
    }
   },
   "outputs": [],
   "source": [
    "#Read 2-cell model\n",
    "model = cobra.io.read_sbml_model(\"../model/ios2164_1cell.xml\")\n",
    "#Estimate inf\n",
    "inf = 1e6\n",
    "\n"
   ]
  },
  {
   "cell_type": "code",
   "execution_count": 108,
   "id": "35524250",
   "metadata": {
    "ExecuteTime": {
     "end_time": "2022-05-17T13:22:34.793178Z",
     "start_time": "2022-05-17T13:22:34.777239Z"
    }
   },
   "outputs": [],
   "source": [
    "#This codeblock is to define some functions that will be used for modelling.\n",
    "\n",
    "\n",
    "#Define linear relationship between PPFD and Cellular maintainance costs\n",
    "#This formula comes from Topfer et al (2020) where she defined NGAM in a linear relationship with incident light\n",
    "def compute_ngam_atp(ppfd):\n",
    "    v_atp = 0.0049*ppfd + 2.7851\n",
    "    return v_atp\n",
    "\n",
    "\n",
    "#This function is used to set the inputs to the model used. \n",
    "def define_model_medium(model, co2, o2, ppfd, \n",
    "                        medium_dir='../misc/photo_medium.csv', no3=inf, h2o=inf, h=inf, \n",
    "                        nh4=inf, pi=inf):\n",
    "    model_photo_media = mm.read_medium_csv(medium_dir, model)\n",
    "    model_photo_media['EX_no3(e)'] = no3\n",
    "    model_photo_media['EX_h2o(e)'] = h2o\n",
    "    model_photo_media['EX_h(e)'] = h\n",
    "    model_photo_media['EX_nh4(e)'] = nh4\n",
    "    model_photo_media['EX_co2(e)'] = co2\n",
    "    model_photo_media['EX_o2(e)'] = o2\n",
    "    model_photo_media['EX_photonVis(e)'] = ppfd\n",
    "    model_photo_media['EX_pi(e)'] = pi\n",
    "    #Set set model medium as model\n",
    "#     print('Added model medium')\n",
    "    return model_photo_media\n",
    "\n",
    "    \n",
    "def turn_off_cofac_cycles(model, inact_dir='../misc/leaf_inactivated.tsv'):\n",
    "    file = csv.reader(open(inact_dir), delimiter='\\t')\n",
    "    leaf_inactive_rxns = list()\n",
    "    for rows in file:\n",
    "        for rxns in rows:\n",
    "            leaf_inactive_rxns.append(rxns)\n",
    "        \n",
    "    for rxns in model.reactions:\n",
    "        if rxns.id in leaf_inactive_rxns:\n",
    "            rxns.bounds = (0,0)\n",
    "#     print('Successfully turned off cofactor-cycling reactions')\n",
    "\n",
    "    \n",
    "# #Add constraints to model\n",
    "#This code block contains constraints that would simulate the assimilation rates of bs and m cells in a two-cell system (such as those seen near the midvein region of rice leaves)\n",
    "# #BS photon flux must be the same/less than M flux (Adapted from B&B, 2019)\n",
    "# photon_import = model.reactions.get_by_id(\"EX_photonVis(e)\")\n",
    "\n",
    "def add_enzyme_constraints(model):\n",
    "    #Maximum values for constraints\n",
    "    wt_pepc = 0 #umol m-2 s-1 #Note: Need to constrain it to 0 pala since no PEPC was detected in either cell type\n",
    "    wt_mdh = 11.18 #umol m-2 s-1\n",
    "    wt_nadp_me = 0.14 #umol m-2 s-1\n",
    "    wt_ppdk = 0.31 #umol m-2 s-1\n",
    "    wt_CA = 7.5 #umol m-2  s-1 bar-1 (Constrained to CO2 amounting to 400-500 mbar) (1 bar = 15.74 umol m-2 s-1 CA activity)\n",
    "\n",
    "    #PEPC constraint (Reaction id: PPCc)\n",
    "    #Need to constrain it to 0 since reaction is only detected in Vascular tissue\n",
    "    pepc_M = model.reactions.PPCc\n",
    "    wt_pepc_cons = model.problem.Constraint(pepc_M.flux_expression, \n",
    "                                            lb = 0, ub = wt_pepc)\n",
    "    wt_pepc_cons.name = 'wt_pepc_cons'\n",
    "    model.add_cons_vars(wt_pepc_cons)\n",
    "\n",
    "    #PPDK constraints (Reaction id: PPDKs) (note that this is found in the chloroplast?) \n",
    "    #Not detected via immunolocalization but enzyme activity is detected\n",
    "\n",
    "    ppdks_M = model.reactions.PPDKs\n",
    "    wt_ppdks_cons = model.problem.Constraint(ppdks_M.flux_expression, \n",
    "                                             lb = 0, ub = wt_ppdk)\n",
    "    wt_ppdks_cons.name = 'wt_ppdks_cons'\n",
    "    model.add_cons_vars(wt_ppdks_cons)\n",
    "    \n",
    "    \n",
    "    #Malate Dehydrogenase \n",
    "    #Only mitochondrial in WT Rice M cells\n",
    "    mdhm_M = model.reactions.MDHm\n",
    "    wt_mdh_cons = model.problem.Constraint(mdhm_M.flux_expression,\n",
    "                                           lb= 0, ub=wt_mdh)\n",
    "    wt_mdh_cons.name = \"wt_mdh_cons\"\n",
    "    model.add_cons_vars(wt_mdh_cons)\n",
    "\n",
    "    #NADP-ME (Since no signal is detected in WT, no locational constraints are imposed)\n",
    "    #Let's see if I can force it to have a small amount of flux \n",
    "    nadp_me_M = model.reactions.MDHys\n",
    "\n",
    "    wt_nadpme_cons = model.problem.Constraint(nadp_me_M.flux_expression,\n",
    "                                             lb= 0, ub=wt_nadp_me)\n",
    "    wt_nadpme_cons.name = \"wt_nadpme_cons\"\n",
    "    model.add_cons_vars(wt_nadpme_cons)\n",
    "\n",
    "\n",
    "    #I should add constraints for Carbonic Anhydrase\n",
    "    #I should constrain it to 0.4 ubar, which would constitute ambient CO2 partial pressure\n",
    "    #Flux is reversible so constraints are bi-directional\n",
    "    hco3es_m = model.reactions.HCO3Es\n",
    "    hco3ec_m = model.reactions.HCO3Ec\n",
    "    hco3em_m = model.reactions.HCO3Em\n",
    "\n",
    "    ca_cons = model.problem.Constraint(hco3es_m.flux_expression +\n",
    "                                       hco3ec_m.flux_expression +\n",
    "                                       hco3em_m.flux_expression,\n",
    "                                      lb = -wt_CA, ub = wt_CA)\n",
    "    ca_cons.name = 'Carbonic_anhydrase_constraint'\n",
    "    model.add_cons_vars(ca_cons)\n",
    "    #Rbcl constaints\n",
    "    #Retrieve flux expressions oof each RBCl reaction\n",
    "    \n",
    "    \n",
    "    rbpc_M = model.reactions.RBPCs.flux_expression\n",
    "    rbpo_M = model.reactions.RBPOs.flux_expression\n",
    "\n",
    "    #Constraint such that it is limited to 132 umol m-2 s-1\n",
    "    rbcl_vcmax_cons = model.problem.Constraint(rbpc_M, lb = 0, ub= 132)\n",
    "    rbcl_vcmax_cons.name='rbcl_vcmax_cons'\n",
    "    model.add_cons_vars(rbcl_vcmax_cons)\n",
    "    #Constraints for rbcl flux such that v_c/v_o = 3 or higher.\n",
    "    rbcl_vcvo = model.problem.Constraint(3*(rbpo_M) \n",
    "                                         - 1*(rbpc_M),\n",
    "                                         lb=0,ub=1000)\n",
    "    rbcl_vcvo.name = 'rbcl_vc/vo_ratio'\n",
    "    model.add_cons_vars(rbcl_vcvo)\n",
    "\n",
    "    #Turn off the RBPC2s reactions since we already defined the constraints above\n",
    "    model.reactions.RBPC2s.bounds = (0,0)\n",
    "    \n",
    "    \n",
    "    \n",
    "    #What if I simply constrained that of the M cell one to 3:1?\n",
    "    #This constraint is pretty good actually. \n",
    "    #This allows the system to be set at a specific Vc/Vo rate while still allowing local variation \n",
    "    #wherein Rubisco may act in an uncoupled fashion and may have favorable internal vc/vo rates.\n",
    "# #This code block is to set a constraint such that M-to-BS cell NGAM ratio is 10-to-1 \n",
    "# #Similar to what Moreno-Villena (2021) (preprint) had done \n",
    "\n",
    "#This function takes two arguments: the model and the maximal  ppfd input to the system\n",
    "def add_ngam_cons(model, ppfd):\n",
    "    #Retrieve NGAM reactions\n",
    "    ngam_nadphox_c_M = mm.get_rxn(model, 'ngam_nadphox_c')\n",
    "    ngam_nadphox_s_M = mm.get_rxn(model, 'ngam_nadphox_s')\n",
    "    ngam_nadphox_m_M = mm.get_rxn(model, 'ngam_nadphox_m')\n",
    "    ngam_atp_c_M = mm.get_rxn(model, 'ngam_atp_c')\n",
    "    #Set Fixed fluxes\n",
    "    nadphox_c_s_M = mm.set_fix_flux_ratio({ngam_nadphox_c_M.id:1, ngam_nadphox_s_M.id:1},model)\n",
    "    nadphox_c_s_M.name = \"nadphox_cs_ratio_M\"\n",
    "    nadphox_s_m_M = mm.set_fix_flux_ratio({ngam_nadphox_s_M.id:1, ngam_nadphox_m_M.id:1}, model)\n",
    "    nadphox_s_m_M.name = \"nadphox_sm_ratio_M\"\n",
    "\n",
    "\n",
    "    #Add constraints\n",
    "    model.add_cons_vars(nadphox_c_s_M)\n",
    "    model.add_cons_vars(nadphox_s_m_M)\n",
    "\n",
    "    #Retrieve flux expressionns\n",
    "    fex_nadphox_c_M =  mm.get_flux_exp(model, ngam_nadphox_c_M)\n",
    "    fex_nadphox_s_M = mm.get_flux_exp(model, ngam_nadphox_s_M)\n",
    "    fex_nadphox_m_M = mm.get_flux_exp(model, ngam_nadphox_m_M)\n",
    "    fex_atp_c_M = mm.get_flux_exp(model, ngam_atp_c_M)\n",
    "\n",
    "    #Set the constraint between ATP:NADPH NGAM to 3:1\n",
    "    nadphox_atpase = model.problem.Constraint(3*(fex_nadphox_c_M + fex_nadphox_s_M + fex_nadphox_m_M) \n",
    "                                         - 1*(fex_atp_c_M),\n",
    "                                         lb=0,ub=0)\n",
    "    nadphox_atpase.name = \"nadphox_atpase_ratio\"\n",
    "    model.add_cons_vars(nadphox_atpase)\n",
    "    #Compute NGAM value and add constraint as a lower bound/upper bound to model\n",
    "    ngam_value = compute_ngam_atp(ppfd)\n",
    "    ngam_cons = model.problem.Constraint(fex_atp_c_M, lb=ngam_value, ub=ngam_value)\n",
    "    ngam_cons.name = 'NGAM_ATP_constraint'\n",
    "    model.add_cons_vars(ngam_cons)\n",
    "    \n",
    "#This code  block gives a snapshot of the relevant fluxes on each of the cell types based on the saved sample_fluxes values above\n",
    "\n",
    "def print_summary(sample_fluxes_df):\n",
    "    print('summary of fluxes')\n",
    "    print('rbcl M cell: ', sample_fluxes['RBPCs'])\n",
    "    print('rbcl M cell (photorespiration)', sample_fluxes['RBPOs'])\n",
    "    print('vc/vo M:', sample_fluxes['RBPCs']/sample_fluxes['RBPOs'])\n",
    "    print('PEPC M', sample_fluxes['PPCc'])\n",
    "    print('Carbonic Anhydrase (Cytosolic) M', sample_fluxes['HCO3Ec'])\n",
    "    print('NADP-ME M', sample_fluxes['MDHys'])\n",
    "    print('Biomass M: ', sample_fluxes['Straw_Biomass'])\n",
    "    print('Phloem M: ', sample_fluxes['DM_Phloem'])\n",
    "    print('co2 consumption M', sample_fluxes['CO2tex'])\n",
    "    print('o2 consumption M', sample_fluxes['O2tex'])\n",
    "    print('Photosystem II M', sample_fluxes['PSIINC'])\n",
    "    print('PSI M', sample_fluxes['PSIMR'])\n",
    "    print('PPFD M: ', sample_fluxes['PRISM_white_LED'])\n",
    "    print('ATP synthesis (stromal) M', sample_fluxes['ATPSs'], 'ATP synthase (mit) M', sample_fluxes['ATPSm'])\n",
    "    pd_rxn = [x for x in model.reactions if \"pd\" in x.id and \"h2o\" not in x.id]\n",
    "    pd_abs_flux = 0\n",
    "    for pds in pd_rxn:\n",
    "        pd_abs_flux += abs(sample_fluxes[pds.id])\n",
    "    \n",
    "    print('pd_abs_flux: ', pd_abs_flux)"
   ]
  },
  {
   "cell_type": "code",
   "execution_count": null,
   "id": "9fb294d9",
   "metadata": {},
   "outputs": [],
   "source": [
    "    \n",
    "    file = csv.reader(open(inact_dir), delimiter='\\t')\n",
    "    leaf_inactive_rxns = list()\n",
    "    for rows in file:\n",
    "        for rxns in rows:\n",
    "            leaf_inactive_rxns.append(rxns)\n",
    "        \n",
    "    for rxns in model.reactions:\n",
    "        if rxns.id in leaf_inactive_rxns:\n",
    "            rxns.bounds = (0,0)"
   ]
  },
  {
   "cell_type": "code",
   "execution_count": 109,
   "id": "8f759c0e",
   "metadata": {
    "ExecuteTime": {
     "end_time": "2022-05-17T13:22:47.500080Z",
     "start_time": "2022-05-17T13:22:46.970350Z"
    }
   },
   "outputs": [
    {
     "name": "stdout",
     "output_type": "stream",
     "text": [
      "\n",
      "\n",
      "summary of fluxes\n",
      "rbcl M cell:  101.69478046657191\n",
      "rbcl M cell (photorespiration) 33.89826015552397\n",
      "vc/vo M: 3.0\n",
      "PEPC M 0.0\n",
      "Carbonic Anhydrase (Cytosolic) M -0.13055844530896252\n",
      "NADP-ME M 0.01320575506308952\n",
      "Biomass M:  0.0\n",
      "Phloem M:  0.0\n",
      "co2 consumption M 84.62866566077898\n",
      "o2 consumption M 2.2618\n",
      "Photosystem II M 120.85164130398918\n",
      "PSI M 120.85164130398918\n",
      "PPFD M:  1000.0\n",
      "ATP synthesis (stromal) M 161.13552173865224 ATP synthase (mit) M 0.0\n",
      "pd_abs_flux:  0\n"
     ]
    }
   ],
   "source": [
    "# Let's try restricting O2 intake again to a specific amount, let's see if PPFD responds accordingly\n",
    "\n",
    "with model as m1:\n",
    "    \n",
    "#Constrain O2 intake to 3.312 mmol O2 gcw -1 d-1 ~~ 2.2618 umol O2 m-2 s-1 (from Lakshmanan et al. 2016)\n",
    "    #Change objective function to reflect Mature leaf\n",
    "    m1.medium = define_model_medium(m1, co2=inf, o2=2.2618, ppfd=1000, h=0, nh4=inf, no3=inf)\n",
    "    turn_off_cofac_cycles(m1) #Turn off other cofactor recycling \n",
    "    add_enzyme_constraints(m1)\n",
    "    #Add trans constraints\n",
    "    add_ngam_cons(m1, 1000)\n",
    "    \n",
    "    #Change objective \n",
    "    #Constrain O2 intake to 3.312 mmol O2 gcw -1 d-1 ~~ 2.2618 umol O2 m-2 s-1 (from Lakshmanan et al. 2016)\n",
    "    #Change objective function to mature leaf\n",
    "    model.reactions.get_by_id('Straw_Biomass').objective_coefficient = 0\n",
    "    mm.get_rxn(model,'DM_Phloem').objective_coefficient = 1\n",
    "    sample_fluxes = cobra.flux_analysis.pfba(model).fluxes\n",
    "    #Remove thermodynamically infeasible loops\n",
    "    sample_fluxes = cobra.flux_analysis.loopless_solution(model, sample_fluxes)\n",
    "    \n",
    "    sample_fluxes_df = sample_fluxes.to_frame()\n",
    "\n",
    "print('\\n')\n",
    "print_summary(sample_fluxes_df)\n"
   ]
  },
  {
   "cell_type": "code",
   "execution_count": 99,
   "id": "d563cd11",
   "metadata": {
    "ExecuteTime": {
     "end_time": "2022-05-17T11:05:48.820087Z",
     "start_time": "2022-05-17T11:05:13.248174Z"
    }
   },
   "outputs": [
    {
     "name": "stdout",
     "output_type": "stream",
     "text": [
      "PPFD: 0  RBPC_M cell flux: 2.499274037115341\n",
      "PPFD: 50  RBPC_M cell flux: 7.459049358588173\n",
      "PPFD: 100  RBPC_M cell flux: 12.418824680060965\n",
      "PPFD: 150  RBPC_M cell flux: 17.37860000153381\n",
      "PPFD: 200  RBPC_M cell flux: 22.33837532300656\n",
      "PPFD: 250  RBPC_M cell flux: 27.29815064447941\n",
      "PPFD: 300  RBPC_M cell flux: 31.935413602160303\n",
      "PPFD: 350  RBPC_M cell flux: 35.327899637285995\n",
      "PPFD: 400  RBPC_M cell flux: 38.738696048955504\n",
      "PPFD: 450  RBPC_M cell flux: 42.14949246062625\n",
      "PPFD: 500  RBPC_M cell flux: 45.560288872298436\n",
      "PPFD: 550  RBPC_M cell flux: 48.50020411062225\n",
      "PPFD: 600  RBPC_M cell flux: 51.25075465942945\n",
      "PPFD: 650  RBPC_M cell flux: 54.00130520823744\n",
      "PPFD: 700  RBPC_M cell flux: 56.75185575704606\n",
      "PPFD: 750  RBPC_M cell flux: 59.50240630585422\n",
      "PPFD: 800  RBPC_M cell flux: 62.252956854661214\n",
      "PPFD: 850  RBPC_M cell flux: 65.00350740347122\n",
      "PPFD: 900  RBPC_M cell flux: 67.75405795227817\n",
      "PPFD: 950  RBPC_M cell flux: 70.5046085010863\n",
      "PPFD: 1000  RBPC_M cell flux: 73.25515904989432\n",
      "PPFD: 1050  RBPC_M cell flux: 74.90328542530658\n",
      "PPFD: 1100  RBPC_M cell flux: 75.70174875343218\n",
      "PPFD: 1150  RBPC_M cell flux: 76.5002120815584\n",
      "PPFD: 1200  RBPC_M cell flux: 77.29867540968364\n",
      "PPFD: 1250  RBPC_M cell flux: 78.09570401960917\n",
      "PPFD: 1300  RBPC_M cell flux: 78.89189429451316\n",
      "PPFD: 1350  RBPC_M cell flux: 79.3094805216138\n",
      "PPFD: 1400  RBPC_M cell flux: 79.30948052161372\n",
      "PPFD: 1450  RBPC_M cell flux: 79.30948052161371\n",
      "PPFD: 1500  RBPC_M cell flux: 79.30948052161372\n",
      "PPFD: 1550  RBPC_M cell flux: 79.30948052161375\n",
      "PPFD: 1600  RBPC_M cell flux: 79.30948052161352\n",
      "PPFD: 1650  RBPC_M cell flux: 79.30948052161374\n",
      "PPFD: 1700  RBPC_M cell flux: 79.30948052161386\n",
      "PPFD: 1750  RBPC_M cell flux: 79.30948052161398\n",
      "PPFD: 1800  RBPC_M cell flux: 79.30948052161372\n",
      "PPFD: 1850  RBPC_M cell flux: 79.30948052161375\n",
      "PPFD: 1900  RBPC_M cell flux: 79.30948052161415\n",
      "PPFD: 1950  RBPC_M cell flux: 79.30948052161372\n",
      "PPFD: 2000  RBPC_M cell flux: 79.30948052161384\n"
     ]
    }
   ],
   "source": [
    "\n",
    "ppfd_solns_2cell = pd.DataFrame(index=list(i.id for i in model.reactions))\n",
    "\n",
    "#Iterate from range 0 to 2000 w/ increments of 50 (max ppfd)\n",
    "for ppfd in range(0,2050,50):\n",
    "    with model as m1:\n",
    "\n",
    "        #Set medium to change photon flux and re-add to model\n",
    "       #Change objective function to reflect Mature leaf\n",
    "        m1.medium = define_model_medium(m1, co2=26, o2=2.2618, ppfd=ppfd, h=inf, nh4=inf, no3=inf)\n",
    "        turn_off_cofac_cycles(m1) #Turn off other cofactor recycling \n",
    "        add_enzyme_constraints(m1)\n",
    "        #Add trans constraints\n",
    "        add_ngam_cons(m1, ppfd)\n",
    "        model.reactions.FDHNc.bounds = (0, 40)\n",
    "        #Change objective \n",
    "        #Constrain O2 intake to 3.312 mmol O2 gcw -1 d-1 ~~ 2.2618 umol O2 m-2 s-1 (from Lakshmanan et al. 2016)\n",
    "        #Change objective function to mature leaf\n",
    "        model.reactions.get_by_id('Straw_Biomass').objective_coefficient = 0\n",
    "        mm.get_rxn(model,'DM_Phloem').objective_coefficient = 1\n",
    "        sample_fluxes = cobra.flux_analysis.pfba(model).fluxes\n",
    "        #Remove thermodynamically infeasible loops\n",
    "        sample_fluxes = cobra.flux_analysis.loopless_solution(model, sample_fluxes)\n",
    "\n",
    "        sample_fluxes_df = sample_fluxes.to_frame()\n",
    "\n",
    "        #perform pFBA & convert to dataframe\n",
    "        tc_soln = cobra.flux_analysis.pfba(model).to_frame()\n",
    "        tc_soln = pd.DataFrame({ppfd:tc_soln['fluxes']}, index=list(tc_soln.index))\n",
    "        print(\"PPFD:\", ppfd, \" RBPC_M cell flux:\", tc_soln[ppfd]['RBPCs'])\n",
    "        #Append to Dataframe\n",
    "        ppfd_solns_2cell[ppfd] = tc_soln\n",
    "\n",
    "#Code now works"
   ]
  },
  {
   "cell_type": "code",
   "execution_count": null,
   "id": "7765ed0f",
   "metadata": {},
   "outputs": [],
   "source": []
  },
  {
   "cell_type": "code",
   "execution_count": null,
   "id": "71af3c95",
   "metadata": {
    "ExecuteTime": {
     "end_time": "2022-03-16T18:04:14.178210Z",
     "start_time": "2022-03-16T18:04:06.055Z"
    }
   },
   "outputs": [],
   "source": []
  },
  {
   "cell_type": "code",
   "execution_count": null,
   "id": "521311c1",
   "metadata": {
    "ExecuteTime": {
     "end_time": "2022-03-16T21:00:14.900226Z",
     "start_time": "2022-03-16T21:00:10.887Z"
    }
   },
   "outputs": [],
   "source": [
    "model.medium"
   ]
  },
  {
   "cell_type": "code",
   "execution_count": null,
   "id": "697ed082",
   "metadata": {
    "ExecuteTime": {
     "end_time": "2022-03-16T17:33:15.636438Z",
     "start_time": "2022-03-16T17:33:15.630177Z"
    }
   },
   "outputs": [],
   "source": []
  },
  {
   "cell_type": "code",
   "execution_count": null,
   "id": "4350c72c",
   "metadata": {
    "ExecuteTime": {
     "end_time": "2022-03-16T21:00:14.900743Z",
     "start_time": "2022-03-16T21:00:10.890Z"
    }
   },
   "outputs": [],
   "source": [
    "model.reactions.RBPCs_BS"
   ]
  },
  {
   "cell_type": "code",
   "execution_count": null,
   "id": "4849303a",
   "metadata": {
    "ExecuteTime": {
     "end_time": "2022-03-15T21:54:08.172514Z",
     "start_time": "2022-03-15T21:54:08.166654Z"
    }
   },
   "outputs": [],
   "source": []
  },
  {
   "cell_type": "code",
   "execution_count": null,
   "id": "20e66b47",
   "metadata": {
    "ExecuteTime": {
     "end_time": "2022-03-16T21:00:14.901164Z",
     "start_time": "2022-03-16T21:00:10.891Z"
    }
   },
   "outputs": [],
   "source": [
    "for rxns in model.reactions:\n",
    "    print(rxns.id, sample_fluxes[rxns.id])"
   ]
  },
  {
   "cell_type": "code",
   "execution_count": null,
   "id": "6019a06b",
   "metadata": {
    "ExecuteTime": {
     "end_time": "2022-03-16T21:00:14.901569Z",
     "start_time": "2022-03-16T21:00:10.892Z"
    }
   },
   "outputs": [],
   "source": [
    "#Note:\n",
    "#Unconstrained CO2 intake leads to a saturated  net CO2 assimilation rate of around 40 umol m-2 s-1\n",
    "#Better to constrain this to known uptake rates instead\n"
   ]
  },
  {
   "cell_type": "code",
   "execution_count": null,
   "id": "0bf4a90b",
   "metadata": {
    "ExecuteTime": {
     "end_time": "2022-03-16T21:00:14.901963Z",
     "start_time": "2022-03-16T21:00:10.893Z"
    }
   },
   "outputs": [],
   "source": [
    "#Note:\n",
    "#If I restrict the flux of H2O to the BS cell only what happens is that CO2 is transported higher to the M cell rather than "
   ]
  },
  {
   "cell_type": "code",
   "execution_count": null,
   "id": "72062798",
   "metadata": {
    "ExecuteTime": {
     "end_time": "2022-03-16T21:00:14.902349Z",
     "start_time": "2022-03-16T21:00:10.893Z"
    }
   },
   "outputs": [],
   "source": [
    "#Oh wtf it works, below 500 ppfd no net intake below dark respiration is observed tapos nasasaturate siya agad to  the max value\n",
    "#Cooooool. Based on Weber et al (1986) the critical point is at around 500-600 umol he m-2 s-1\n",
    "#Weber, J. A., Tenhunen, J. D., Gates, D. M., & Lange, O. L. (1987). Effect of photosynthetic photon flux density on carboxylation efficiency. Plant physiology, 85(1), 109-114.\n"
   ]
  },
  {
   "cell_type": "code",
   "execution_count": null,
   "id": "20ccf354",
   "metadata": {
    "ExecuteTime": {
     "end_time": "2022-03-16T21:00:14.902737Z",
     "start_time": "2022-03-16T21:00:10.894Z"
    }
   },
   "outputs": [],
   "source": [
    "#What if I limited influx of CO2 from the M cell to the BS cell?"
   ]
  },
  {
   "cell_type": "code",
   "execution_count": null,
   "id": "2d8cb60c",
   "metadata": {
    "ExecuteTime": {
     "end_time": "2022-03-15T20:46:20.399342Z",
     "start_time": "2022-03-15T20:46:20.391031Z"
    }
   },
   "outputs": [],
   "source": []
  },
  {
   "cell_type": "code",
   "execution_count": null,
   "id": "3f96ccdb",
   "metadata": {
    "ExecuteTime": {
     "end_time": "2022-03-16T21:00:14.903116Z",
     "start_time": "2022-03-16T21:00:10.896Z"
    }
   },
   "outputs": [],
   "source": [
    "#What I've done was unconstrained CO2 exchange to allow for CO2 efflux. At around 300-400 ppfd a net release of CO2 is observed from the mdoel, consistent \n",
    "#with Nobel (2020)'s  'Leaves and Fluxes'\n",
    "#I need to read more on this. This is actually quite interesting\n",
    "# "
   ]
  },
  {
   "cell_type": "code",
   "execution_count": null,
   "id": "a2dfd00a",
   "metadata": {
    "ExecuteTime": {
     "end_time": "2022-03-16T21:00:14.903524Z",
     "start_time": "2022-03-16T21:00:10.897Z"
    }
   },
   "outputs": [],
   "source": [
    "#Constraining O2 consumption to around 3.312 forces water to be consumed by the system, unlike when O2 is unconstrained.\n",
    "#However, the same behavior when it comes to CO2 assimilation still is being produced.\n",
    "#Constraining O2 consumption also forces Nitrate consumption to be constrained to realistic levels (when compared to non-constrained O2 where consumption was 10-fold )\n",
    "#I suspect that this is definitely due to how PPFD flux is structured. \n",
    "#A cop-out to this would be to double PPFD per run and measuring PPFD flux in the specific reactions instead."
   ]
  },
  {
   "cell_type": "code",
   "execution_count": null,
   "id": "337943a3",
   "metadata": {
    "ExecuteTime": {
     "end_time": "2022-03-16T21:00:14.904869Z",
     "start_time": "2022-03-16T21:00:10.898Z"
    }
   },
   "outputs": [],
   "source": [
    "#I can probably do the benchmarking right now. The model behaves quite interestingly actually"
   ]
  },
  {
   "cell_type": "code",
   "execution_count": null,
   "id": "f0b7bed7",
   "metadata": {
    "ExecuteTime": {
     "end_time": "2022-03-16T21:00:14.905467Z",
     "start_time": "2022-03-16T21:00:10.899Z"
    }
   },
   "outputs": [],
   "source": [
    "#Note: Turning off other prism reactions (red, green, blue, etc) while retaining only white light reactions lowers net carbon assimilation\n",
    "#I think this is in consideration on how white light is partitioned to several wavelengths, which prevents it from being fully utilized."
   ]
  },
  {
   "cell_type": "code",
   "execution_count": null,
   "id": "f6d9127b",
   "metadata": {
    "ExecuteTime": {
     "end_time": "2022-03-16T21:00:14.906035Z",
     "start_time": "2022-03-16T21:00:10.899Z"
    }
   },
   "outputs": [],
   "source": [
    "#Other artifacts as of the moment include the following:\n",
    "#model doesn't produce any Oxygen. Maybe I should add a specific demand reaction for it?\n",
    "#Based on FVA, the model now produces some oxygen via the demand reaction. "
   ]
  },
  {
   "cell_type": "code",
   "execution_count": null,
   "id": "c3020e0b",
   "metadata": {
    "ExecuteTime": {
     "end_time": "2022-03-16T21:00:14.906717Z",
     "start_time": "2022-03-16T21:00:10.901Z"
    }
   },
   "outputs": [],
   "source": [
    "#Model also facilitates transfer of metabolites unlike before."
   ]
  },
  {
   "cell_type": "code",
   "execution_count": null,
   "id": "10361fc4",
   "metadata": {
    "ExecuteTime": {
     "end_time": "2022-03-16T21:00:14.907300Z",
     "start_time": "2022-03-16T21:00:10.902Z"
    }
   },
   "outputs": [],
   "source": [
    "#Questions:\n",
    "#Should I restrict Nutrient flow to the Bundle Sheath Cell only or should I allow flux to both the M and BS cell?\n",
    "#Apparently kasi dito only the Bundle sheath cells produce any biomass\n",
    "#This is to ensure that only CO2 and Light flux are the only limiting constraints to the system."
   ]
  }
 ],
 "metadata": {
  "kernelspec": {
   "display_name": "Python 3",
   "language": "python",
   "name": "python3"
  },
  "language_info": {
   "codemirror_mode": {
    "name": "ipython",
    "version": 3
   },
   "file_extension": ".py",
   "mimetype": "text/x-python",
   "name": "python",
   "nbconvert_exporter": "python",
   "pygments_lexer": "ipython3",
   "version": "3.8.8"
  },
  "varInspector": {
   "cols": {
    "lenName": 16,
    "lenType": 16,
    "lenVar": 40
   },
   "kernels_config": {
    "python": {
     "delete_cmd_postfix": "",
     "delete_cmd_prefix": "del ",
     "library": "var_list.py",
     "varRefreshCmd": "print(var_dic_list())"
    },
    "r": {
     "delete_cmd_postfix": ") ",
     "delete_cmd_prefix": "rm(",
     "library": "var_list.r",
     "varRefreshCmd": "cat(var_dic_list()) "
    }
   },
   "types_to_exclude": [
    "module",
    "function",
    "builtin_function_or_method",
    "instance",
    "_Feature"
   ],
   "window_display": false
  }
 },
 "nbformat": 4,
 "nbformat_minor": 5
}
