{
 "cells": [
  {
   "cell_type": "code",
   "execution_count": null,
   "id": "307be85f",
   "metadata": {
    "ExecuteTime": {
     "end_time": "2023-03-10T14:35:46.174141Z",
     "start_time": "2023-03-10T14:35:44.628517Z"
    }
   },
   "outputs": [],
   "source": [
    "import sys\n",
    "import os\n",
    "import cobra\n",
    "import libsbml\n",
    "from cobra import Model, Reaction, Metabolite, manipulation, test\n",
    "import pandas as pd\n",
    "import csv\n",
    "import copy\n",
    "from pprint import pprint\n",
    "from tabulate import tabulate\n",
    "\n",
    "\n",
    "\n",
    "#Change working dir first, ty ChatGPT, much loves\n",
    "cwd = os.getcwd()\n",
    "# Split the path into a list of directories\n",
    "directories = cwd.split(os.sep)\n",
    "# Remove the last two directories from the list\n",
    "directories = directories[:-2]\n",
    "# Join the directories back into a path\n",
    "new_cwd = os.sep.join(directories)\n",
    "# Change the current working directory to the new path\n",
    "os.chdir(new_cwd)\n",
    "\n",
    "sys.path.append(\"./src\")\n",
    "\n",
    "import model_manipulation  as mm\n",
    "\n"
   ]
  },
  {
   "cell_type": "code",
   "execution_count": null,
   "id": "30b03af9",
   "metadata": {
    "ExecuteTime": {
     "end_time": "2023-03-10T14:35:49.965707Z",
     "start_time": "2023-03-10T14:35:47.746061Z"
    }
   },
   "outputs": [],
   "source": [
    "ios2164_orig = cobra.io.read_sbml_model('./model/ios2164_orig.xml')\n",
    "\n",
    "ios2164_orig\n",
    "inf = 1e6"
   ]
  },
  {
   "cell_type": "code",
   "execution_count": null,
   "id": "3f1dcfb9",
   "metadata": {},
   "outputs": [],
   "source": []
  },
  {
   "cell_type": "code",
   "execution_count": null,
   "id": "43a18b63",
   "metadata": {
    "ExecuteTime": {
     "end_time": "2023-03-10T14:37:54.967055Z",
     "start_time": "2023-03-10T14:37:54.890284Z"
    }
   },
   "outputs": [],
   "source": [
    "#Check mass balance of original ios2164 model\n",
    "\n",
    "imbalanced_rxns = list()\n",
    "\n",
    "non_exchange_rxns = set(ios2164_orig.reactions) - set(ios2164_orig.boundary) - set(ios2164_orig.demands)\n",
    "\n",
    "for rxns in non_exchange_rxns:\n",
    "    #Check if rxns are not in boundary\n",
    "        #Retrieve mass balance dictionary\n",
    "        mb_dict = rxns.check_mass_balance()\n",
    "        #Check if imbalanced + if it has H+\n",
    "        if len(mb_dict) != 0:\n",
    "            imbalanced_rxns.append(rxns)\n",
    "        \n",
    "\n",
    "#149 imbalanced rxns that are in boundary\n",
    "#636 reactions that are within the cell. Let's check which of these are imbaalanced.\n",
    "print('initial imbalanced reactions length for ios2164_orig:', len(imbalanced_rxns))"
   ]
  },
  {
   "cell_type": "code",
   "execution_count": null,
   "id": "eabc3294",
   "metadata": {
    "ExecuteTime": {
     "end_time": "2023-03-10T14:38:13.641165Z",
     "start_time": "2023-03-10T14:38:13.412241Z"
    }
   },
   "outputs": [],
   "source": [
    "def rebalance_model(model):\n",
    "\n",
    "    #Attempt to implement curation by adding balancing metabolites\n",
    "    # #rebalance rubisco\n",
    "    ios2164_orig.reactions.RBPCs.add_metabolites({'h_s':2})\n",
    "\n",
    "    # #Balance reactions from the inactivated reactions file to see if it fixes yung internal cycling issues\n",
    "\n",
    "    ios2164_orig.reactions.THR3DHx.add_metabolites({'h_x':-1.0})\n",
    "    ios2164_orig.reactions.GAMPTc.add_metabolites({'h_c':1.0})\n",
    "    ios2164_orig.reactions.METSc.add_metabolites({'h_c':1.0})\n",
    "    ios2164_orig.reactions.ALTNDAc.add_metabolites({'h_c':-2.0})\n",
    "    ios2164_orig.reactions.UREASEc.add_metabolites({'h_c':-2.0})\n",
    "    ios2164_orig.reactions.NADOR2u.add_metabolites({'h_c':-1.0})\n",
    "\n",
    "\n",
    "    #Balancing reactions with H+ imbalances\n",
    "    ios2164_orig.reactions.ATPAPc.reaction = 'atp_c + 2.0 h2o_c --> amp_c + 2.0 pi_c + 2.0 h_c'\n",
    "    ios2164_orig.reactions.MI1345PPc.add_metabolites({'h_c': -2.0})\n",
    "    ios2164_orig.reactions.IPKK6c.add_metabolites({'h_c': -2.0})\n",
    "    ios2164_orig.reactions.HMGCOARyc.add_metabolites({'h_c': -1.0})\n",
    "    ios2164_orig.reactions.HMGCOARc.add_metabolites({'h_c': -1.0})\n",
    "    ios2164_orig.reactions.ASPCLc.add_metabolites({'h_c': -1})\n",
    "\n",
    "    #ATP synthase  (Stromal) reaction is not mass balanced\n",
    "    #Change stoichiometry to 4 H+/1 ATP based on Petersen et al (2012) \n",
    "    #(also from Blaetke and Brautigam, 2019)\n",
    "\n",
    "    ios2164_orig.reactions.ATPSs.add_metabolites({'h_u':-1})\n",
    "\n",
    "    #Glycine Dehydrogenase (Decarboxylating) not balanced\n",
    "    #Stoich based on Metacyc (GCVP-RXN)\n",
    "    ios2164_orig.reactions.GLYDHDm.add_metabolites({'h_m': -1})\n",
    "\n",
    "\n",
    "    #Other reactions that are balanced (using check_mass_balance() function and via the spreadsheet I've made)\n",
    "    ios2164_orig.reactions.PPASs.add_metabolites({'h_s':-1})\n",
    "    ios2164_orig.reactions.NO3Rm.add_metabolites({'h_m':-2})\n",
    "    ios2164_orig.reactions.DHDHc.add_metabolites({'h_c':-2})\n",
    "    ios2164_orig.reactions.DHPDc.add_metabolites({'h_c':1})\n",
    "    ios2164_orig.reactions.GTPCYTDPTc.add_metabolites({'h_c':1})\n",
    "    ios2164_orig.reactions.GTPCYTDPTs.add_metabolites({'h_s':1})\n",
    "    ios2164_orig.reactions.DCTPDAc.add_metabolites({'h_c':-1})\n",
    "    ios2164_orig.reactions.UPRTs.add_metabolites({'h_s':-1})\n",
    "    ios2164_orig.reactions.APPRTs.add_metabolites({'h_s':1})\n",
    "    ios2164_orig.reactions.PEPSs.add_metabolites({'h_s':2})\n",
    "    ios2164_orig.reactions.PPDKs.add_metabolites({'h_s':2})\n",
    "    ios2164_orig.reactions.PPDKc.add_metabolites({'h_c':1})\n",
    "    ios2164_orig.reactions.ACSs.add_metabolites({'h_s':1})\n",
    "    ios2164_orig.reactions.GTPDPKs.add_metabolites({'h_s':1})\n",
    "    ios2164_orig.reactions.GBDPs.add_metabolites({'h_s':1})\n",
    "    ios2164_orig.reactions.OXAACc.add_metabolites({'h_c':-1})\n",
    "    ios2164_orig.reactions.SUATs.add_metabolites({'h_s':1})\n",
    "    ios2164_orig.reactions.CMPAc.add_metabolites({'h_c':-1})\n",
    "    ios2164_orig.reactions.NOSc.reaction = '2 arg-L_c + 3 nadph_c + 4 o2_c --> 2 citr-L_c + 3 nadp_c + 2 no_c + 4 h2o_c'\n",
    "    ios2164_orig.reactions.AMETAHYCSTc.add_metabolites({'h_c':1,  'h2o_c':1})\n",
    "    ios2164_orig.reactions.HCYSMT2c.add_metabolites({'h_c':1})\n",
    "    ios2164_orig.reactions.IAAAMYHc.add_metabolites({'h_c':1})\n",
    "    ios2164_orig.reactions.GLYDHDm.add_metabolites({'h_m':-1})\n",
    "    ios2164_orig.reactions.MTAMnh4m.add_metabolites({'h_m':1})\n",
    "    ios2164_orig.reactions.MDHARc.add_metabolites({'h_c':2})\n",
    "    ios2164_orig.reactions.MDHARyc.add_metabolites({'h_c':-2})\n",
    "    ios2164_orig.reactions.ASCOXc.add_metabolites({'h_c':8})\n",
    "    ios2164_orig.reactions.ASCPO1c.add_metabolites({'h_c':4})\n",
    "    ios2164_orig.reactions.ASCPO1s.add_metabolites({'h_s':2})\n",
    "    ios2164_orig.reactions.ASCPO2c.add_metabolites({'h_c':1})\n",
    "    ios2164_orig.reactions.ASCPO2s.add_metabolites({'h_s':3})\n",
    "    ios2164_orig.reactions.ASCPO2c.add_metabolites({'h_c':-1})\n",
    "    ios2164_orig.reactions.GTHDHs.add_metabolites({'h_s':-1})\n",
    "    ios2164_orig.reactions.SULRs.add_metabolites({'h_s':6})\n",
    "    ios2164_orig.reactions.ACGAMKc.add_metabolites({'h_c':1})\n",
    "    ios2164_orig.reactions.SOXs.add_metabolites({'h_s':1})\n",
    "    ios2164_orig.reactions.AATCs.add_metabolites({'h_s':-1})\n",
    "    ios2164_orig.reactions.AATCm.add_metabolites({'h_m':-1})\n",
    "    ios2164_orig.reactions.LCYSTSs.add_metabolites({'h_s':2})\n",
    "    ios2164_orig.reactions.LCYSTSm.add_metabolites({'h_m':2})\n",
    "    ios2164_orig.reactions.CYSSs.add_metabolites({'h_s':-1})\n",
    "    ios2164_orig.reactions.METSs.add_metabolites({'h_s':1})\n",
    "    ios2164_orig.reactions.MLTHFR_Fc.add_metabolites({'h_s':3})\n",
    "    ios2164_orig.reactions.ADPARTs.add_metabolites({'h_s':1})\n",
    "    ios2164_orig.reactions.PRDPARs.add_metabolites({'h_s':1})\n",
    "    ios2164_orig.reactions.ANTPPTs.add_metabolites({'h_s':1})\n",
    "    ios2164_orig.reactions.GSNPc.add_metabolites({'h_c':-1})\n",
    "    ios2164_orig.reactions.MI34Pc.add_metabolites({'h_c':1})\n",
    "    ios2164_orig.reactions.IPKK4c.add_metabolites({'h_c':-2})\n",
    "    ios2164_orig.reactions.MI1345PP2c.add_metabolites({'h_c':-2})\n",
    "    ios2164_orig.reactions.GMPc.add_metabolites({'h_c':1})\n",
    "    ios2164_orig.reactions.GNSKc.add_metabolites({'h_c':-1})\n",
    "    ios2164_orig.reactions.ADEDAc.add_metabolites({'h_c':-1})\n",
    "    ios2164_orig.reactions.XSc.add_metabolites({'h_c':2})\n",
    "    ios2164_orig.reactions.GSNRHc.add_metabolites({'h_c':-1})\n",
    "    ios2164_orig.reactions.ASPCTs.add_metabolites({'h_s':1})\n",
    "    ios2164_orig.reactions.ORPRTs.add_metabolites({'h_s':-1})\n",
    "    ios2164_orig.reactions.ASPCTs.add_metabolites({'h_s':1})\n",
    "    ios2164_orig.reactions.DHDPSs.add_metabolites({'h_s': -2})\n",
    "    ios2164_orig.reactions.CELLSc.add_metabolites({'h_c': 2})\n",
    "    ios2164_orig.reactions.HDHs.add_metabolites({'h_s': -1})\n",
    "    ios2164_orig.reactions.PRADPs.add_metabolites({'h_s': 1})\n",
    "    ios2164_orig.reactions.DHDPSs.add_metabolites({'h_s': 2})\n",
    "    ios2164_orig.reactions.DHPRys.add_metabolites({'h_s': 2})\n",
    "    ios2164_orig.reactions.PRAICs.add_metabolites({'h_s':-1})\n",
    "    ios2164_orig.reactions.FGFTs.add_metabolites({'h_s':1})\n",
    "    ios2164_orig.reactions.FGFTm.add_metabolites({'h_m':1})\n",
    "    ios2164_orig.reactions.PRFGSs.add_metabolites({'h_s':1})\n",
    "    ios2164_orig.reactions.COUMGUTFc.add_metabolites({'h_c':-1})\n",
    "    ios2164_orig.reactions.COUMNSc.add_metabolites({'h_c':1})\n",
    "    ios2164_orig.reactions.MARMSc.add_metabolites({'h_c':-1})\n",
    "    ios2164_orig.reactions.PINCLc.add_metabolites({'h_c':-1})\n",
    "    ios2164_orig.reactions.CHALIc.add_metabolites({'h_c':-1})\n",
    "    ios2164_orig.reactions.NRGNAORc.add_metabolites({'h_c':1})\n",
    "    ios2164_orig.reactions.NRGNNORc.add_metabolites({'h_c':1})\n",
    "    ios2164_orig.reactions.get_by_id('2HEDBT8GTc').add_metabolites({'h_c':1})\n",
    "    ios2164_orig.reactions.get_by_id('2HNDBT8GTc').add_metabolites({'h_c':1})\n",
    "    ios2164_orig.reactions.TRICINS1c.add_metabolites({'h_c':1})\n",
    "    ios2164_orig.reactions.TRICINS2c.add_metabolites({'h_c':1})\n",
    "    ios2164_orig.reactions.DHKFORc.add_metabolites({'h_c':1})\n",
    "    ios2164_orig.reactions.DHQORc.add_metabolites({'h_c':1})\n",
    "    ios2164_orig.reactions.QRCTNGLT3c.add_metabolites({'h_c': 1})\n",
    "    ios2164_orig.reactions.DHKRc.add_metabolites({'h_c': 1})\n",
    "    ios2164_orig.reactions.LCYCORc.add_metabolites({'h_c': 1})\n",
    "    ios2164_orig.reactions.LPLGDOc.add_metabolites({'h_c':1})\n",
    "    ios2164_orig.reactions.CNDNGLT5c.add_metabolites({'h_c':2})\n",
    "    ios2164_orig.reactions.CNDNG3Gc.add_metabolites({'h_c': 2})\n",
    "    ios2164_orig.reactions.GLUTRSs.add_metabolites({'h_s':1})\n",
    "    ios2164_orig.reactions.MPMECY1s.add_metabolites({'h_s':-1})\n",
    "    ios2164_orig.reactions.MPMECY2s.add_metabolites({'h_s':2})\n",
    "    ios2164_orig.reactions.MPMTs.add_metabolites({'h_s': -1})\n",
    "    ios2164_orig.reactions.MGCHLs.add_metabolites({'h_s': 2})\n",
    "    ios2164_orig.reactions.DHNCOASs.add_metabolites({'h_s': -1})\n",
    "    ios2164_orig.reactions.DHNCOAHs.add_metabolites({'h_s': 1})\n",
    "    ios2164_orig.reactions.get_by_id('2SBZCOALs').add_metabolites({'h_s': 1})\n",
    "    ios2164_orig.reactions.DHNPPTs.add_metabolites({'h_s':2})\n",
    "    ios2164_orig.reactions.DMPPTs.add_metabolites({'h_s': 1})\n",
    "    ios2164_orig.reactions.DHNOPTs.add_metabolites({'h_s': 2})\n",
    "    ios2164_orig.reactions.DMPQMTs.add_metabolites({'h_s': 1})\n",
    "    ios2164_orig.reactions.FRDPFTs.add_metabolites({'h_s': 5})\n",
    "    ios2164_orig.reactions.OCTDPOTs.add_metabolites({'h_s': 1})\n",
    "    ios2164_orig.reactions.DMATTs.add_metabolites({'h_s':1})\n",
    "    ios2164_orig.reactions.GRTTs.add_metabolites({'h_s':1})\n",
    "    ios2164_orig.reactions.FRTTs.add_metabolites({'h_s':1})\n",
    "    ios2164_orig.reactions.LIMSs.add_metabolites({'h_s':1})\n",
    "    ios2164_orig.reactions.PRIMARTSc.add_metabolites({'h_s':2})\n",
    "    ios2164_orig.reactions.PRIMARDSs.add_metabolites({'h_s':1})\n",
    "    ios2164_orig.reactions.STEMSs.add_metabolites({'h_s': 1})\n",
    "    ios2164_orig.reactions.STEMOc.add_metabolites({'h_c': -1})\n",
    "    ios2164_orig.reactions.P450MO1c.add_metabolites({'h_c':- 1})\n",
    "    ios2164_orig.reactions.ESANDSs.add_metabolites({'h_s':-1})\n",
    "    ios2164_orig.reactions.ESANDO1c.add_metabolites({'h_c':-1})\n",
    "    ios2164_orig.reactions.P450MO4c.add_metabolites({'h_c':-1})\n",
    "    ios2164_orig.reactions.P450MO5c.add_metabolites({'h_c':-1})\n",
    "    ios2164_orig.reactions.P450MO6c.add_metabolites({'h_c':-1})\n",
    "    ios2164_orig.reactions.PRIMADNSs.add_metabolites({'h_s':1})\n",
    "    ios2164_orig.reactions.EIKAURSs.add_metabolites({'h_s':1})\n",
    "    ios2164_orig.reactions.EIKAUROc.add_metabolites({'h_c':-1})\n",
    "    ios2164_orig.reactions.ECASDSs.add_metabolites({'h_s':1})\n",
    "    ios2164_orig.reactions.ECASDO1c.add_metabolites({'h_c':-1})\n",
    "    ios2164_orig.reactions.ECASDO3c.add_metabolites({'h_c':-1})\n",
    "    ios2164_orig.reactions.ECASDATEO1c.add_metabolites({'h_c':-1})\n",
    "    ios2164_orig.reactions.P450MO2c.add_metabolites({'h_c':-1})\n",
    "    ios2164_orig.reactions.ECASDATEO3c.add_metabolites({'h_c':-1})\n",
    "    ios2164_orig.reactions.P450MO3c.add_metabolites({'h_c':-1})\n",
    "    ios2164_orig.reactions.EKAURSs.add_metabolites({'h_s':1})\n",
    "    ios2164_orig.reactions.GAAKORG12c.add_metabolites({'h_c':-1})\n",
    "    ios2164_orig.reactions.GAAKORG10c.add_metabolites({'h_c':-1})\n",
    "    ios2164_orig.reactions.GAAKORG11c.add_metabolites({'h2o_c':1})\n",
    "    ios2164_orig.reactions.GAAKORG8c.add_metabolites({'h_c':-1})\n",
    "    ios2164_orig.reactions.GAAKORG9c.add_metabolites({'h2o_c':1})\n",
    "    ios2164_orig.reactions.GA4DOc.add_metabolites({'h2o_c':1, 'h_c':1})\n",
    "    ios2164_orig.reactions.VLXANDEOs.add_metabolites({'h_s':2})\n",
    "    ios2164_orig.reactions.ANXANDEOs.add_metabolites({'h_s':2})\n",
    "    ios2164_orig.reactions.IPDPT1s.add_metabolites({'h_s':2})\n",
    "    ios2164_orig.reactions.IPDPT2s.add_metabolites({'h_s':1})\n",
    "    ios2164_orig.reactions.ADMATs.add_metabolites({'h_s':1})\n",
    "    ios2164_orig.reactions.CYTTHs.bounds = (-inf, 0)\n",
    "    ios2164_orig.reactions.CKGT3c.add_metabolites({'h_c':1})\n",
    "    ios2164_orig.reactions.CKGT7c.add_metabolites({'h_c':1})\n",
    "    ios2164_orig.reactions.CKOGT3c.add_metabolites({'h_c':1})\n",
    "    ios2164_orig.reactions.MCOATAs.add_metabolites({'h_s':1})\n",
    "    ios2164_orig.reactions.MACPCLs.add_metabolites({'h_s':-1})\n",
    "    ios2164_orig.reactions.EAR160ys.add_metabolites({'h_s':-1})\n",
    "    ios2164_orig.reactions.get_by_id('3OAS180s').add_metabolites({'h_s':1})\n",
    "    ios2164_orig.reactions.FA200COAHr.add_metabolites({'h_s':1})\n",
    "    ios2164_orig.reactions.FAS182ACP_Ls.add_metabolites({'h_s':-4})\n",
    "    ios2164_orig.reactions.FA160ACPHs.add_metabolites({'h_s':1})\n",
    "    ios2164_orig.reactions.FA182ACPHs.add_metabolites({'h_s':-3})\n",
    "    ios2164_orig.reactions.FA183ACPHs.add_metabolites({'h_s':-3})\n",
    "    # ios2164_orig.metabolites.lnlncoa_r.formula = 'C39H62N7O17P3S'\n",
    "    ios2164_orig.reactions.FA200COAHr.add_metabolites({'h_r':1})\n",
    "    ios2164_orig.reactions.FA220COAHr.add_metabolites({'h_r':1})\n",
    "    ios2164_orig.reactions.FA240COAHr.add_metabolites({'h_r':1})\n",
    "    ios2164_orig.reactions.FA260COAHr.add_metabolites({'h_r':1})\n",
    "    ios2164_orig.reactions.FA280COAHr.add_metabolites({'h_r':1})\n",
    "    ios2164_orig.reactions.FA300COAHr.add_metabolites({'h_r':1})\n",
    "    # ios2164_orig.metabolites.lnlncoa_r.formula = 'C39H62N7O17P3S'\n",
    "    ios2164_orig.reactions.FAS161COA_Lc.add_metabolites({'h_c':-1})\n",
    "    ios2164_orig.reactions.FAS181COA_Lc.add_metabolites({'h_c':-1})\n",
    "    ios2164_orig.reactions.FAS182COA_Lc.add_metabolites({'h_c':-1})\n",
    "    ios2164_orig.reactions.FAS183COA_Lc.add_metabolites({'h_c':-1})\n",
    "    ios2164_orig.reactions.FA160ACOASc.add_metabolites({'h_s':-1})\n",
    "    ios2164_orig.reactions.FA182ACOASc.add_metabolites({'h_s':-1})\n",
    "    # ios2164_orig.metabolites.ocdcya_s.formula = 'C18H29O2'\n",
    "    ios2164_orig.reactions.FA183ACOASc.add_metabolites({'h_s':-1})\n",
    "    # ios2164_orig.metabolites.lnlnl_s.formula = 'C18H29O2'\n",
    "    # ios2164_orig.metabolites.lnlnl_x.formula = 'C18H29O2'\n",
    "    ios2164_orig.reactions.TAGLc.add_metabolites({'h_c':-1})\n",
    "    ios2164_orig.reactions.DAGLc.add_metabolites({'h_c':-1})\n",
    "    ios2164_orig.reactions.MAGLc.add_metabolites({'h_c':-1})\n",
    "    # ios2164_orig.metabolites.cdpdag_os_r.formula = 'C14H18N3O15P2R2'\n",
    "    ios2164_orig.reactions.PEDCr.add_metabolites({'h_m':1})\n",
    "    ios2164_orig.reactions.PEDCm.add_metabolites({'h_m':1})\n",
    "    ios2164_orig.reactions.ETHAPTr.add_metabolites({'h_r':1})\n",
    "    # ios2164_orig.metabolites.oopc4coa_x.formula = 'C35H52N7O19P3S'\n",
    "    ios2164_orig.reactions.ASPHGNAr.add_metabolites({'h_r':-1})\n",
    "    ios2164_orig.reactions.PCAHr.add_metabolites({'h_r':-1})\n",
    "    ios2164_orig.reactions.ASPHGNAHr.add_metabolites({'h_r':-1})\n",
    "    # ios2164_orig.metabolites.oopc4coa_x.formula = 'C35H52N7O19P3S'\n",
    "    ios2164_orig.reactions.ASPHGNAr.add_metabolites({'h_r':-1})\n",
    "    ios2164_orig.reactions.PCAHr.add_metabolites({'h_r':-1})\n",
    "    ios2164_orig.reactions.ASPHGNAHr.add_metabolites({'h_r':-1})\n",
    "    ios2164_orig.reactions.ENTBSs.delete\n",
    "    ios2164_orig.reactions.CC3H1c.add_metabolites({'h_c':-1})\n",
    "    ios2164_orig.reactions.CAFFMTc.add_metabolites({'h_c':1})\n",
    "    # ios2164_orig.metabolites.dhqrctn_c.formula = 'C15H11O7'\n",
    "    ios2164_orig.reactions.DHQRc.add_metabolites({'h2o_c':-1})\n",
    "    ios2164_orig.reactions.UDPGATc.add_metabolites({'h_c':1})\n",
    "    ios2164_orig.reactions.GENT2c.add_metabolites({'h_c':1})\n",
    "    ios2164_orig.reactions.GENT3c.add_metabolites({'h_c':1})\n",
    "    ios2164_orig.reactions.MRs.add_metabolites({'h_s':-2})\n",
    "    ios2164_orig.reactions.FNORs.add_metabolites({'h_s':2})\n",
    "    ios2164_orig.metabolites.o2_u.formula = 'O2'\n",
    "    # ios2164_orig.metabolites.udprmn_c.formula = 'C15H22N2O16P2'\n",
    "    ios2164_orig.reactions.DHORSts.add_metabolites({'h_s':-1})\n",
    "    ios2164_orig.reactions.H2Sts.add_metabolites({'h_s':1})\n",
    "    # ios2164_orig.metabolites.udpkrmn_c.formula = 'C15H22N2O16P2'\n",
    "    ios2164_orig.reactions.FA140COAabcx.add_metabolites({'h2o_x':-1,'h_x':1})\n",
    "    ios2164_orig.reactions.FA160COAabcx.add_metabolites({'h2o_x':-1,'h_x':1})\n",
    "    ios2164_orig.reactions.FA161COAabcx.add_metabolites({'h2o_x':-1,'h_x':1})\n",
    "    ios2164_orig.reactions.FA180COAabcx.add_metabolites({'h2o_x':-1,'h_x':1})\n",
    "    ios2164_orig.reactions.FA181COAabcx.add_metabolites({'h2o_x':-1,'h_x':1})\n",
    "    ios2164_orig.reactions.FA182COAabcx.add_metabolites({'h2o_x':-1,'h_x':1})\n",
    "    ios2164_orig.reactions.FA183COAabcx.add_metabolites({'h2o_x':-1,'h_x':1})\n",
    "    ios2164_orig.reactions.MEPCTs.add_metabolites({'h_s':1})\n",
    "\n",
    "\n",
    "    #Fixes 7 reactions involving choline phosphate\n",
    "    ios2164_orig.metabolites.cholp_s.formula = 'C5H13NO4P'\n",
    "    ios2164_orig.metabolites.cholp_r.formula = 'C5H13NO4P'\n",
    "\n",
    "    #Works\n",
    "    ios2164_orig.metabolites.get_by_id('5dpmev_c').formula = 'C6H10O10P2'\n",
    "    ios2164_orig.reactions.MSBQMTs.add_metabolites({'h_c':1})\n",
    "    ios2164_orig.metabolites.plast_s.formula = 'C53H82O2'\n",
    "\n"
   ]
  },
  {
   "cell_type": "code",
   "execution_count": null,
   "id": "0ba1fd37",
   "metadata": {
    "ExecuteTime": {
     "end_time": "2023-03-10T14:48:02.510571Z",
     "start_time": "2023-03-10T14:48:02.507893Z"
    }
   },
   "outputs": [],
   "source": [
    "#No effect?\n",
    "# ios2164_orig.metabolites.lnlncoa_r.formula = 'C39H62N7O17P3S'\n",
    "\n",
    "# ios2164_orig.metabolites.ocdcya_s.formula = 'C18H29O2'\n",
    "\n",
    "\n"
   ]
  },
  {
   "cell_type": "code",
   "execution_count": null,
   "id": "679c53e7",
   "metadata": {
    "ExecuteTime": {
     "end_time": "2023-03-10T14:48:04.888434Z",
     "start_time": "2023-03-10T14:48:04.823808Z"
    }
   },
   "outputs": [],
   "source": [
    "#Check mass balance of original ios2164 model\n",
    "\n",
    "imbalanced_rxns = list()\n",
    "\n",
    "non_exchange_rxns = set(ios2164_orig.reactions) - set(ios2164_orig.boundary) - set(ios2164_orig.demands)\n",
    "\n",
    "for rxns in non_exchange_rxns:\n",
    "    #Check if rxns are not in boundary\n",
    "        #Retrieve mass balance dictionary\n",
    "        mb_dict = rxns.check_mass_balance()\n",
    "        #Check if imbalanced + if it has H+\n",
    "        if len(mb_dict) != 0:\n",
    "            imbalanced_rxns.append(rxns)\n",
    "        \n",
    "\n",
    "#149 imbalanced rxns that are in boundary\n",
    "#636 reactions that are within the cell. Let's check which of these are imbaalanced.\n",
    "print('initial imbalanced reactions length for ios2164_orig:', len(imbalanced_rxns))"
   ]
  },
  {
   "cell_type": "code",
   "execution_count": null,
   "id": "84a61077",
   "metadata": {
    "ExecuteTime": {
     "end_time": "2023-03-10T14:40:22.350886Z",
     "start_time": "2023-03-10T14:40:22.300506Z"
    }
   },
   "outputs": [],
   "source": [
    "for items in imbalanced_rxns:\n",
    "    print(items.id,items.check_mass_balance())"
   ]
  },
  {
   "cell_type": "code",
   "execution_count": null,
   "id": "898c4a51",
   "metadata": {
    "ExecuteTime": {
     "end_time": "2023-03-10T14:54:05.829460Z",
     "start_time": "2023-03-10T14:54:05.826920Z"
    }
   },
   "outputs": [],
   "source": [
    "ios2164_orig.metabolites.get_by_id('fdxrd_s')"
   ]
  },
  {
   "cell_type": "code",
   "execution_count": null,
   "id": "b680735f",
   "metadata": {
    "ExecuteTime": {
     "end_time": "2023-03-09T12:23:36.534081Z",
     "start_time": "2023-03-09T12:23:36.522093Z"
    }
   },
   "outputs": [],
   "source": [
    "ios2164_orig.reactions.PROTLs"
   ]
  },
  {
   "cell_type": "code",
   "execution_count": null,
   "id": "f62b9be8",
   "metadata": {
    "ExecuteTime": {
     "end_time": "2023-03-09T12:23:40.960811Z",
     "start_time": "2023-03-09T12:23:36.536846Z"
    }
   },
   "outputs": [],
   "source": [
    "ios2164_2cell = cobra.io.read_sbml_model('./model/ios2164_2cell.xml')\n",
    "ios2164_2cell.reactions.DM_Phloem_BS\n",
    "\n",
    "#I need to modify the objective function since Starch is being exported from M cell to BS cell. "
   ]
  },
  {
   "cell_type": "code",
   "execution_count": null,
   "id": "dbc15de8",
   "metadata": {},
   "outputs": [],
   "source": []
  },
  {
   "cell_type": "code",
   "execution_count": null,
   "id": "f6eec930",
   "metadata": {
    "ExecuteTime": {
     "end_time": "2023-03-09T12:23:41.310142Z",
     "start_time": "2023-03-09T12:23:40.961967Z"
    }
   },
   "outputs": [],
   "source": [
    "at_core_model = cobra.io.read_sbml_model('./Supplementary_PrevLit/Blaetke & Brautigam/data/2018-23-05-mb-genC3.sbml')\n",
    "internal_rxns = set(at_core_model.reactions) - set(at_core_model.boundary)\n",
    "\n",
    "unbalanced_rxns = list()\n",
    "for rxns in internal_rxns:\n",
    "    if len(rxns.check_mass_balance()) != 0:\n",
    "#         print(rxns.id, '\\t', rxns.check_mass_balance())\n",
    "        unbalanced_rxns.append(rxns)\n",
    "    \n",
    "    \n",
    "at_core_model\n",
    "    "
   ]
  },
  {
   "cell_type": "code",
   "execution_count": null,
   "id": "ffbace67",
   "metadata": {
    "ExecuteTime": {
     "end_time": "2023-03-09T12:23:42.443329Z",
     "start_time": "2023-03-09T12:23:41.311179Z"
    }
   },
   "outputs": [],
   "source": [
    "#How about yung core Arabidopsis model nina Shameer et al (2019) -- yung C3 mitochondria\n",
    "shameer_model = cobra.io.read_sbml_model('./Supplementary_PrevLit/Shameer (2019)/core_model.xml')\n",
    "internal_rxns = set(shameer_model.reactions) - set(shameer_model.boundary)\n",
    "\n"
   ]
  },
  {
   "cell_type": "code",
   "execution_count": null,
   "id": "a81413d1",
   "metadata": {
    "ExecuteTime": {
     "end_time": "2023-03-09T12:23:42.446502Z",
     "start_time": "2023-03-09T12:23:42.444150Z"
    }
   },
   "outputs": [],
   "source": [
    "print('internal reactions in B&B core AT model: ', len(internal_rxns))\n",
    "print('unbalanced rxns in B&B: ', len(unbalanced_rxns))\n",
    "print('percent unbalanced: ', len(unbalanced_rxns)/len(internal_rxns) * 100)\n",
    "\n",
    "#IN the case of B&B's model puro charge imbalance yung nagaganap. Yung sa case ko kasi karamihan is mass imbalance talaga."
   ]
  },
  {
   "cell_type": "code",
   "execution_count": null,
   "id": "93dfd589",
   "metadata": {
    "ExecuteTime": {
     "end_time": "2022-11-13T18:39:19.146876Z",
     "start_time": "2022-11-13T18:39:17.715973Z"
    }
   },
   "outputs": [],
   "source": []
  },
  {
   "cell_type": "code",
   "execution_count": null,
   "id": "1b3efe8e",
   "metadata": {
    "ExecuteTime": {
     "end_time": "2023-03-09T12:23:42.480806Z",
     "start_time": "2023-03-09T12:23:42.447432Z"
    }
   },
   "outputs": [],
   "source": [
    "\n",
    "unbalanced_rxns = list()\n",
    "for rxns in internal_rxns:\n",
    "    if len(rxns.check_mass_balance()) != 0:\n",
    "#         print(rxns.id, '\\t', rxns.check_mass_balance())\n",
    "        unbalanced_rxns.append(rxns)\n",
    "    \n",
    "print('internal reactions in Shameer core AT model: ', len(internal_rxns))\n",
    "print('unbalanced rxns in Shameer AT model: ', len(unbalanced_rxns))\n",
    "print('percent unbalanced: ', len(unbalanced_rxns)/len(internal_rxns) * 100)\n",
    "\n",
    "#IN the case of B&B's model puro charge imbalance yung nagaganap. Yung sa case ko kasi karamihan is mass imbalance talaga."
   ]
  },
  {
   "cell_type": "code",
   "execution_count": null,
   "id": "93a05709",
   "metadata": {
    "ExecuteTime": {
     "end_time": "2023-03-09T12:23:42.513507Z",
     "start_time": "2023-03-09T12:23:42.481570Z"
    }
   },
   "outputs": [],
   "source": [
    "for items in unbalanced_rxns:\n",
    "    print(items.id, items.check_mass_balance())"
   ]
  },
  {
   "cell_type": "code",
   "execution_count": null,
   "id": "d89312ac",
   "metadata": {
    "ExecuteTime": {
     "end_time": "2023-03-09T12:23:42.520911Z",
     "start_time": "2023-03-09T12:23:42.518492Z"
    }
   },
   "outputs": [],
   "source": [
    "shameer_model.reactions.Plastidial_ATP_Synthase_p"
   ]
  },
  {
   "cell_type": "code",
   "execution_count": null,
   "id": "8e68d9f3",
   "metadata": {
    "ExecuteTime": {
     "end_time": "2023-03-09T12:23:42.524942Z",
     "start_time": "2023-03-09T12:23:42.522013Z"
    }
   },
   "outputs": [],
   "source": [
    "shameer_model.reactions.RXN_7678_NADP_p.check_mass_balance()"
   ]
  },
  {
   "cell_type": "markdown",
   "id": "c3b75447",
   "metadata": {},
   "source": [
    "Notes:\n",
    "Weirdly enough the Shameer model is even much more imbalanced compared dun sa current model ko, which I believe is more of an encoding issue as opposed with actual mass-charge violations, considering that there weren't much changes done by the author in their supplementary scripts. \n",
    "Meanwhile, the core Arabidopsis model used by B&B doesn't have much mass-charge violations owing to the small size of the model.\n",
    "So far after implementing constraints on cofactor recycling (based on the Boolean logic algorithm formulated by Lakshmanan in the original iOS2164) there seems to be limited evidence of any type II or type III internal loops with pFBA. Furthermore, there is concordance with the scale of flux values when comparing with the experimentation by Shameer et al in both the purely linear diel model and the hybrid kinetic setup (2018 and 2019), indicating that the model produces relatively realistic ATP rates and other things. "
   ]
  }
 ],
 "metadata": {
  "kernelspec": {
   "display_name": "Python 3",
   "language": "python",
   "name": "python3"
  },
  "language_info": {
   "codemirror_mode": {
    "name": "ipython",
    "version": 3
   },
   "file_extension": ".py",
   "mimetype": "text/x-python",
   "name": "python",
   "nbconvert_exporter": "python",
   "pygments_lexer": "ipython3",
   "version": "3.8.8"
  },
  "varInspector": {
   "cols": {
    "lenName": 16,
    "lenType": 16,
    "lenVar": 40
   },
   "kernels_config": {
    "python": {
     "delete_cmd_postfix": "",
     "delete_cmd_prefix": "del ",
     "library": "var_list.py",
     "varRefreshCmd": "print(var_dic_list())"
    },
    "r": {
     "delete_cmd_postfix": ") ",
     "delete_cmd_prefix": "rm(",
     "library": "var_list.r",
     "varRefreshCmd": "cat(var_dic_list()) "
    }
   },
   "types_to_exclude": [
    "module",
    "function",
    "builtin_function_or_method",
    "instance",
    "_Feature"
   ],
   "window_display": false
  }
 },
 "nbformat": 4,
 "nbformat_minor": 5
}
