{
 "cells": [
  {
   "cell_type": "code",
   "execution_count": null,
   "id": "03a656bb",
   "metadata": {
    "ExecuteTime": {
     "end_time": "2023-02-11T19:23:40.379242Z",
     "start_time": "2023-02-11T19:23:39.351311Z"
    }
   },
   "outputs": [],
   "source": [
    "import sys\n",
    "import os\n",
    "import cobra\n",
    "import cplex \n",
    "import libsbml\n",
    "import pandas as pd\n",
    "import copy\n",
    "from pathlib import Path\n",
    "import memote\n",
    "import csv\n",
    "import pytest\n",
    "\n",
    "\n",
    "#Change working dir first, ty ChatGPT, much loves\n",
    "cwd = os.getcwd()\n",
    "# Split the path into a list of directories\n",
    "directories = cwd.split(os.sep)\n",
    "# Remove the last two directories from the list\n",
    "directories = directories[:-2]\n",
    "# Join the directories back into a path\n",
    "new_cwd = os.sep.join(directories)\n",
    "# Change the current working directory to the new path\n",
    "os.chdir(new_cwd)\n",
    "\n",
    "sys.path.append(\"./src\")\n",
    "\n",
    "import model_manipulation  as mm\n"
   ]
  },
  {
   "cell_type": "code",
   "execution_count": null,
   "id": "f9e6f4da",
   "metadata": {
    "ExecuteTime": {
     "end_time": "2023-02-11T19:23:44.122911Z",
     "start_time": "2023-02-11T19:23:41.884861Z"
    }
   },
   "outputs": [],
   "source": [
    "#This jupyter notebook is to test out the basic properties of the final one-cell model, \n",
    "#based on Thiel & Fleming (2018?)\n",
    "# https://opencobra.github.io/cobratoolbox/latest/tutorials/tutorialModelSanityChecks.html\n",
    "\n",
    "model = cobra.io.read_sbml_model('./model/ios2164_1cell.xml')\n",
    "model.solve = 'gurobi'\n",
    "\n",
    "tol = 1e-6"
   ]
  },
  {
   "cell_type": "code",
   "execution_count": null,
   "id": "37d1e3f1",
   "metadata": {
    "ExecuteTime": {
     "end_time": "2023-02-11T19:23:50.815889Z",
     "start_time": "2023-02-11T19:23:44.131137Z"
    }
   },
   "outputs": [],
   "source": [
    "#This is to test the original iteration of iOS2164 made by Lakshmanan\n",
    "model2 =cobra.io.read_sbml_model(\"./Supplementary_PrevLit/Lakshmanan et al (2015)/ios2164.xml\")\n",
    "\n",
    "#Test nga natin yung  kung ganyan rin siya.\n",
    "\n",
    "\n",
    "for item in model2.reactions:\n",
    "    if \"EX_\" in item.id:\n",
    "        item.lower_bound = 0\n",
    "\n",
    "\n",
    "model2.reactions.get_by_id('EX_photonVis_LPAREN_e_RPAREN_').lower_bound = -1000\n",
    "#     model2.reactions.get_by_id('EX_o2_LPAREN_e_RPAREN_').lower_bound = -10\n",
    "#     model2.reactions.get_by_id('EX_co2_LPAREN_e_RPAREN_').lower_bound = -10\n",
    "model2.reactions.get_by_id('EX_fe3_LPAREN_e_RPAREN_').lower_bound = -10\n",
    "# model2.reactions.get_by_id('EX_mg2_LPAREN_e_RPAREN_').lower_bound = -10\n",
    "model2.reactions.get_by_id('EX_no3_LPAREN_e_RPAREN_').lower_bound = -10\n",
    "model2.reactions.get_by_id('EX_so4_LPAREN_e_RPAREN_').lower_bound = -10\n",
    "model2.reactions.get_by_id('EX_h2o_LPAREN_e_RPAREN_').lower_bound = -10\n",
    "model2.reactions.get_by_id('EX_pi_LPAREN_e_RPAREN_').lower_bound = -1000\n",
    "model2.reactions.get_by_id('EX_h_LPAREN_e_RPAREN_').lower_bound = -10\n",
    "\n",
    "\n",
    "with model2:\n",
    "    \n",
    "#     cobra.flux_analysis.add_loopless(model2)\n",
    "    summ = model2.optimize()\n",
    "summ"
   ]
  },
  {
   "cell_type": "code",
   "execution_count": null,
   "id": "2c79d602",
   "metadata": {},
   "outputs": [],
   "source": [
    "#Notes:\n",
    "#Main paths from pi_e include feeding towards erroneous ATP generation. \n",
    "#ATP and cellulose (derived from another ATP generating process) also feeds into biomass equation\n",
    "#pFBA doesn't work to remove the loops\n",
    "#Loopless FBA (add_loopless) doesn't work\n"
   ]
  },
  {
   "cell_type": "code",
   "execution_count": null,
   "id": "f9788364",
   "metadata": {
    "ExecuteTime": {
     "end_time": "2022-04-18T03:26:01.425563Z",
     "start_time": "2022-04-18T03:26:01.422085Z"
    }
   },
   "outputs": [],
   "source": [
    "#Notes for curated 1-cell model:\n",
    "#Erroneous loops particularly in GAPDH1ys have abnormally high flux, which in turn generates more ATP and feeding to biomass"
   ]
  },
  {
   "cell_type": "code",
   "execution_count": null,
   "id": "a2e0afff",
   "metadata": {},
   "outputs": [],
   "source": [
    "#The original modellers for ios2164 turned off a number of reactions to prevent co-factor  recycling:\n",
    "#From Lakshmanan et al (2016):\n",
    "\n",
    "#Considering the large size of iOS2164, a set of reactions belonging to folates metabolism, \n",
    "#glycolysis/gluconeogenesis, nitrogen metabolism, and sulfate metabolism was also constrained \n",
    "#at zero in leaf and coleoptile simulations to avoid free cofactor recycling. \n",
    "#The complete sets of reactions that are inactivated during both the simulations are listed in Supplemental Data Set S2.\n"
   ]
  },
  {
   "cell_type": "code",
   "execution_count": null,
   "id": "0c77f2de",
   "metadata": {},
   "outputs": [],
   "source": [
    "#I'll try to export these reactions to a list first then implement it, then check if the solutions are still ok afterwards"
   ]
  },
  {
   "cell_type": "markdown",
   "id": "b6e39839",
   "metadata": {},
   "source": [
    "Part 1: Checking for the reactions mentioned by Lakshmanan et al (2015) that need to be  turned off and check it in Fluxer\n",
    "    - Cell 1: Load inactive reactions\n",
    "    - Cell : Parametrize model and export for testing with Fluxer\n",
    "    - Cell 2, 3, 4, 5: Generation of model to test with Fluxer, parametrized based on which reactions to turn off"
   ]
  },
  {
   "cell_type": "code",
   "execution_count": null,
   "id": "e63fa00f",
   "metadata": {
    "ExecuteTime": {
     "end_time": "2023-02-11T19:23:50.834795Z",
     "start_time": "2023-02-11T19:23:50.826972Z"
    }
   },
   "outputs": [],
   "source": [
    "#Load inactive reactions in model\n",
    "file = csv.reader(open('./misc/leaf_inactivated.tsv'), delimiter='\\t')\n",
    "leaf_inactive_rxns = list()\n",
    "for rows in file:\n",
    "    row = str()\n",
    "    for rxns in rows:\n",
    "        row += str(rxns)\n",
    "    leaf_inactive_rxns.append(row)\n",
    "\n",
    "#Actually applying this list prevents any biomass from actually forming so what I should do is that\n",
    "#I'd just double check the model if it produces any loops\n",
    "leaf_intact_bounds_dict = {}\n",
    "for rxns in model.reactions:\n",
    "    if rxns.id in leaf_inactive_rxns:\n",
    "        leaf_intact_bounds_dict[rxns.id] = rxns.bounds\n",
    "    "
   ]
  },
  {
   "cell_type": "code",
   "execution_count": null,
   "id": "203ea7d3",
   "metadata": {
    "ExecuteTime": {
     "end_time": "2023-02-11T19:23:59.276811Z",
     "start_time": "2023-02-11T19:23:50.845205Z"
    },
    "scrolled": false
   },
   "outputs": [],
   "source": [
    "#Test 1: With phosphate import, turned off reactions\n",
    "\n",
    "with model: \n",
    "    for rxns in model.reactions:\n",
    "        if rxns.id in leaf_inactive_rxns: #Turn off all reactions in list shown above\n",
    "            rxns.bounds = (0,0)\n",
    "            \n",
    "    photo_medium = mm.read_medium_csv('./misc/photo_medium.csv', model)\n",
    "    photo_medium['EX_co2(e)'] = 1000\n",
    "    photo_medium['EX_o2(e)'] = 1000\n",
    "    photo_medium['EX_pi(e)'] = 1000\n",
    "    photo_medium['EX_no3(e)'] = 1000\n",
    "    photo_medium['EX_photonVis(e)'] = 1000\n",
    "\n",
    "    model.medium = photo_medium \n",
    "    \n",
    "    summ_no_cofactor_cyc = model.summary()\n",
    "    blocked_rxns_list = cobra.flux_analysis.find_blocked_reactions(model)\n",
    "    cobra.io.write_sbml_model(model, './model/for_testing/ios2164_1cell_turned_off_leaf_rxns.xml')\n",
    "summ_no_cofactor_cyc\n",
    "    \n",
    "\n",
    "            \n",
    "    "
   ]
  },
  {
   "cell_type": "code",
   "execution_count": null,
   "id": "59377164",
   "metadata": {
    "ExecuteTime": {
     "end_time": "2023-02-11T19:24:07.449176Z",
     "start_time": "2023-02-11T19:23:59.306419Z"
    }
   },
   "outputs": [],
   "source": [
    "#With phosphate import, 200 ppfd\n",
    "\n",
    "with model: \n",
    "#     for rxns in model.reactions:\n",
    "#         if rxns.id in leaf_inactive_rxns: #Turn off all reactions in list shown above\n",
    "#             rxns.bounds = (0,0)\n",
    "            \n",
    "    photo_medium = mm.read_medium_csv('./misc/photo_medium.csv', model)\n",
    "    photo_medium['EX_co2(e)'] = 5\n",
    "    photo_medium['EX_o2(e)'] = 1000\n",
    "    photo_medium['EX_pi(e)'] = 1000\n",
    "    photo_medium['EX_no3(e)'] = 1000\n",
    "    photo_medium['EX_photonVis(e)'] = 200\n",
    "\n",
    "    model.medium = photo_medium \n",
    "    \n",
    "    summ_no_cofactor_cyc = model.summary()\n",
    "    blocked_rxns_list = cobra.flux_analysis.find_blocked_reactions(model)\n",
    "    cobra.io.write_sbml_model(model, './model/for_testing/ios2164_1cell_200ppfd_no_leaf_inactivated_rxns.xml')\n",
    "summ_no_cofactor_cyc\n",
    "    \n",
    "\n",
    "            \n",
    "    "
   ]
  },
  {
   "cell_type": "code",
   "execution_count": null,
   "id": "dd5f5ac9",
   "metadata": {
    "ExecuteTime": {
     "end_time": "2023-02-11T19:24:29.659721Z",
     "start_time": "2023-02-11T19:24:07.476401Z"
    }
   },
   "outputs": [],
   "source": [
    "#Test 3:\n",
    "\n",
    "#Let's do an experiment where we selectively turn on cofactor-recycling reactions one-by-one\n",
    "#to see which reactions produce biomass erroneously.\n",
    "loop_generating_rxn = list()\n",
    "\n",
    "\n",
    "for turn_on_rxn, rxn_bounds in leaf_intact_bounds_dict.items():\n",
    "    with model: \n",
    "        \n",
    "        for rxns in model.reactions:\n",
    "            if rxns.id in leaf_inactive_rxns: #Turn off all reactions in list shown above\n",
    "                rxns.bounds = (0,0)\n",
    "        \n",
    "        #Use medium with only phosphate\n",
    "        photo_medium = mm.read_medium_csv('./misc/photo_medium.csv', model)\n",
    "        photo_medium['EX_co2(e)'] = 0\n",
    "        photo_medium['EX_o2(e)'] = 0\n",
    "        photo_medium['EX_pi(e)'] = 1000\n",
    "        photo_medium['EX_no3(e)'] = 1000\n",
    "        photo_medium['EX_photonVis(e)'] = 1000\n",
    "\n",
    "        model.medium = photo_medium \n",
    "\n",
    "        #Generate fluxes by turning on the reaction \n",
    "        model.reactions.get_by_id(turn_on_rxn).bounds = rxn_bounds\n",
    "        \n",
    "        solution = cobra.flux_analysis.pfba(model).to_frame()\n",
    "        if solution['fluxes']['Straw_Biomass'] != 0:\n",
    "            loop_generating_rxn.append(turn_on_rxn)\n",
    "print('These reactions cause the model to produce biomass when there is no CO2 input (only Phosphate): ')\n",
    "\n",
    "for items in loop_generating_rxn:\n",
    "    print(items)\n",
    "\n",
    "\n",
    "#FDHNc is balanced naman. What gives kaya?\n",
    "    "
   ]
  },
  {
   "cell_type": "code",
   "execution_count": null,
   "id": "b4d1366b",
   "metadata": {
    "ExecuteTime": {
     "end_time": "2023-02-11T19:25:02.337453Z",
     "start_time": "2023-02-11T19:24:29.681990Z"
    }
   },
   "outputs": [],
   "source": [
    "#Let's try converting the model to loopless and see how it reacts\n",
    "\n",
    "with model: \n",
    "\n",
    "    for rxns in model.reactions:\n",
    "        if rxns.id in leaf_inactive_rxns: #Turn off all reactions in list shown above\n",
    "            rxns.bounds = (0,0)\n",
    "    #Use medium with only phosphate\n",
    "    photo_medium = mm.read_medium_csv('./misc/photo_medium.csv', model)\n",
    "    photo_medium['EX_co2(e)'] = 0\n",
    "    photo_medium['EX_o2(e)'] = 0\n",
    "    photo_medium['EX_pi(e)'] = 1000\n",
    "    photo_medium['EX_no3(e)'] = 1000\n",
    "    photo_medium['EX_photonVis(e)'] = 1000\n",
    "\n",
    "    model.medium = photo_medium \n",
    "\n",
    "    #Generate fluxes by turning on the reaction \n",
    "    cobra.flux_analysis.add_loopless(model)\n",
    "\n",
    "    solution = cobra.flux_analysis.pfba(model)\n",
    "    \n",
    "    #Save loopless reaction, maybe it'll work?\n",
    "    file_path = './model/for_testing/ios2164_1cell_added_loopless_no-cofac.xml'\n",
    "    cobra.io.write_sbml_model(model, file_path)\n",
    "    \n",
    "print('Loopless-added model saved to ', file_path)\n",
    "    \n",
    "solution"
   ]
  },
  {
   "cell_type": "code",
   "execution_count": null,
   "id": "7b96e8d8",
   "metadata": {
    "ExecuteTime": {
     "start_time": "2023-02-11T19:23:59.113Z"
    }
   },
   "outputs": [],
   "source": [
    "\n",
    "#Let's try converting the model to loopless and see how it reacts\n",
    "\n",
    "#Parameters: Turned of Formate Dehydrogenase\n",
    "\n",
    "with model: \n",
    "    model.reactions.FDHNc.bounds = (0,0)\n",
    "    \n",
    "    \n",
    "    #Use medium with only phosphate\n",
    "    photo_medium = mm.read_medium_csv('./misc/photo_medium.csv', model)\n",
    "    photo_medium['EX_co2(e)'] = 0\n",
    "    photo_medium['EX_o2(e)'] = 0\n",
    "    photo_medium['EX_pi(e)'] = 1000\n",
    "    photo_medium['EX_no3(e)'] = 1000\n",
    "    photo_medium['EX_photonVis(e)'] = 1000\n",
    "\n",
    "    model.medium = photo_medium \n",
    "\n",
    "    # add loopless to model first then Generate fluxes \n",
    "    cobra.flux_analysis.add_loopless(model)\n",
    "\n",
    "    solution = cobra.flux_analysis.pfba(model)\n",
    "    \n",
    "    #Save loopless reaction, maybe it'll work?\n",
    "    file_path = './model/for_testing/ios2164_1cell_added_loopless.xml'\n",
    "    cobra.io.write_sbml_model(model, file_path)\n",
    "    \n",
    "print('Loopless-added model saved to ', file_path)\n",
    "    \n",
    "solution"
   ]
  },
  {
   "cell_type": "markdown",
   "id": "482c957b",
   "metadata": {},
   "source": [
    "Notes:\n",
    "Modification via --add-loopless parameter does not work and the model still produces biomass."
   ]
  },
  {
   "cell_type": "code",
   "execution_count": null,
   "id": "17108ee5",
   "metadata": {
    "ExecuteTime": {
     "start_time": "2023-02-11T19:24:00.878Z"
    },
    "scrolled": true
   },
   "outputs": [],
   "source": [
    "#Test 4:\n",
    "\n",
    "with model: \n",
    "    \n",
    "    for rxns in model.reactions:\n",
    "        if rxns.id in leaf_inactive_rxns: #Turn off all reactions in list shown above\n",
    "            rxns.bounds = (0,0)\n",
    "\n",
    "    #Use medium with only phosphate\n",
    "    photo_medium = mm.read_medium_csv('./misc/photo_medium.csv', model)\n",
    "    photo_medium['EX_co2(e)'] = 0\n",
    "    photo_medium['EX_o2(e)'] = 0\n",
    "    photo_medium['EX_pi(e)'] = 1000\n",
    "    photo_medium['EX_no3(e)'] = 1000\n",
    "    photo_medium['EX_photonVis(e)'] = 1000\n",
    "\n",
    "    model.medium = photo_medium \n",
    "\n",
    "    #Generate fluxes by turning on the reaction \n",
    "    model.reactions.get_by_id(turn_on_rxn).bounds = rxn_bounds\n",
    "\n",
    "    solution = cobra.flux_analysis.pfba(model).to_frame()\n",
    "    \n",
    "solution"
   ]
  },
  {
   "cell_type": "code",
   "execution_count": null,
   "id": "53b823ba",
   "metadata": {
    "ExecuteTime": {
     "start_time": "2023-02-11T19:24:02.622Z"
    }
   },
   "outputs": [],
   "source": [
    "#Cell 5\n",
    "#No phosphate import\n",
    "\n",
    "with model: \n",
    "    for rxns in model.reactions:\n",
    "        if rxns.id in leaf_inactive_rxns: #Turn off all reactions in list shown above\n",
    "            rxns.bounds = (0,0)\n",
    "            \n",
    "    photo_medium = mm.read_medium_csv('./misc/photo_medium.csv', model)\n",
    "    photo_medium['EX_co2(e)'] = 1\n",
    "    photo_medium['EX_o2(e)'] = 1\n",
    "    photo_medium['EX_pi(e)'] = 0\n",
    "    photo_medium['EX_no3(e)'] = 1\n",
    "    photo_medium['EX_photonVis(e)'] = 1000\n",
    "\n",
    "    model.medium = photo_medium \n",
    "    \n",
    "    summ_no_cofactor_cyc = model.summary()\n",
    "    cobra.io.write_sbml_model(model, './model/for_testing/ios2164_1cell_turned_off_leaf_rxns_no_phosphate.xml')\n",
    "summ_no_cofactor_cyc"
   ]
  },
  {
   "cell_type": "code",
   "execution_count": null,
   "id": "676dfc6a",
   "metadata": {
    "ExecuteTime": {
     "start_time": "2023-02-11T19:24:05.047Z"
    }
   },
   "outputs": [],
   "source": [
    "#Test 6\n",
    "#with phosphate import but no gases\n",
    "\n",
    "with model: \n",
    "    for rxns in model.reactions:\n",
    "        if rxns.id in leaf_inactive_rxns: #Turn off all reactions in list shown above\n",
    "            rxns.bounds = (0,0)\n",
    "            \n",
    "    photo_medium = mm.read_medium_csv('./misc/photo_medium.csv', model)\n",
    "    photo_medium['EX_co2(e)'] = 0\n",
    "    photo_medium['EX_o2(e)'] = 0\n",
    "    photo_medium['EX_pi(e)'] = 1\n",
    "    photo_medium['EX_no3(e)'] = 1\n",
    "    photo_medium['EX_photonVis(e)'] = 1000\n",
    "\n",
    "    model.medium = photo_medium \n",
    "    cobra.io.write_sbml_model(model, './model/for_testing/ios2164_1cell_turned_off_leaf_rxns_no_pi_no_gas.xml')\n",
    "    summ_no_cofactor_cyc = model.summary()\n",
    "summ_no_cofactor_cyc\n",
    "\n"
   ]
  },
  {
   "cell_type": "markdown",
   "id": "850a9d51",
   "metadata": {},
   "source": [
    "Next test: check if any of the reactions listed above produce any biomass after deactivating all of them at once. Checking will be done one-at-a-time\n",
    "\n",
    "Model is parametrized w/ only phosphate and nh3 as input"
   ]
  },
  {
   "cell_type": "code",
   "execution_count": null,
   "id": "2bb129dd",
   "metadata": {
    "ExecuteTime": {
     "start_time": "2023-02-11T19:24:07.227Z"
    },
    "scrolled": true
   },
   "outputs": [],
   "source": [
    "#Next test: check if any of the reactions listed above produce any biomass after deactivating all of them at once. Checking will be done one-at-a-time\n",
    "\n",
    "#Let's make a list to check which of the reactions in the list are responsible for co-factor  cycling\n",
    "cofactor_cycling_rxn2 = list()\n",
    "\n",
    "rxn_list = [rxns.id for rxns in model.reactions]\n",
    "    \n",
    "    \n",
    "#Check if reaction is in model\n",
    "leaf_inactive_rxns = [x for x in leaf_inactive_rxns if x in rxn_list]\n",
    "    \n",
    "\n",
    "for on_rxn in leaf_inactive_rxns: #Iterate from leaf_inactive reactions    \n",
    "    with model:                   #Generate model instance\n",
    "\n",
    "        temp_bounds = model.reactions.get_by_id(on_rxn).bounds        #Store on bounds temporarily\n",
    "        \n",
    "         #Turn off all reactions in list shown above\n",
    "        for rxns in model.reactions:\n",
    "            if rxns.id in leaf_inactive_rxns:\n",
    "                rxns.bounds = (0,0)\n",
    "                \n",
    "        #turn on on_rxn again\n",
    "        model.reactions.get_by_id(on_rxn).bounds = temp_bounds\n",
    "\n",
    "        #Initialize model with phosphate/no gas input            \n",
    "        photo_medium_no_gas = mm.read_medium_csv('./misc/photo_medium.csv', model)\n",
    "        photo_medium_no_gas['EX_co2(e)'] = 0\n",
    "        photo_medium_no_gas['EX_o2(e)'] = 0\n",
    "        photo_medium_no_gas['EX_pi(e)'] = 1\n",
    "        photo_medium_no_gas['EX_no3(e)'] = 1\n",
    "        photo_medium['EX_photonVis(e)'] = 1000\n",
    "        model.medium = photo_medium\n",
    "\n",
    "        #turn off specific reaction from the list\n",
    "#             print(rxn,model.reactions.get_by_id(rxn).bounds)\n",
    "        #Check\n",
    "        try:\n",
    "            soln = cobra.flux_analysis.pfba(model)\n",
    "            print(on_rxn, 'objective function value: ', soln.objective_value)\n",
    "        except:\n",
    "            print(on_rxn, \"Infeasible solution!\")\n",
    "            strg = on_rxn + \" (Infeasible)\"\n",
    "            cofactor_cycling_rxn2.append(strg)\n",
    "            continue\n",
    "        if soln.fluxes['Straw_Biomass'] > tol:\n",
    "            cofactor_cycling_rxn2.append(on_rxn)\n"
   ]
  },
  {
   "cell_type": "code",
   "execution_count": null,
   "id": "47040dee",
   "metadata": {
    "ExecuteTime": {
     "start_time": "2023-02-11T19:27:23.547Z"
    }
   },
   "outputs": [],
   "source": [
    "#Test 2: check if each of the cofactor recycling reactions are imbalanced. Afterwards I can try to rebalance them\n",
    "for rxns in leaf_inactive_rxns:\n",
    "    print(rxns, mm.get_rxn(model, rxns).check_mass_balance())"
   ]
  },
  {
   "cell_type": "markdown",
   "id": "8dd9640e",
   "metadata": {},
   "source": [
    "Result:\n",
    "\n",
    "All of the reactions above produce biomass even when turned off by themselves. Most likely the original modellers already took that to account and turned them off entirely. Hence, to facilitate my modelling I need to turn them all off simultaneously as part of my model inititialization.\n",
    "\n",
    "However,  I do need to turn on some of the reactions (Like si , but I'll double check na lang rin.\n",
    "\n",
    "Based on the comparisons above it seems all the reactions still produce erroneous cycling even if added in a stepwise fashion.\n",
    "\n"
   ]
  },
  {
   "cell_type": "markdown",
   "id": "5d7ccb79",
   "metadata": {
    "ExecuteTime": {
     "end_time": "2022-04-18T05:02:10.153783Z",
     "start_time": "2022-04-18T05:02:10.148297Z"
    }
   },
   "source": [
    "#1st attempt:  passed  complete  list from Lakshmanan  et  al (2016) to deactivate all co-factor\n",
    "#Cycling related  genes. Was blocked as it included  PRISM_White_LED, which was the only wavelength\n",
    "#that I've activated. Result was that solver\n",
    "#was infeasible.\n",
    "\n",
    "#2nd attempt: Passed  the  same  list as  above except for PRISM_White_LED. Result was that \n",
    "#the there  was a optimal solutiion to the solver. Furthermore, testing it with no phosphate input\n",
    "#Returns 0 flux to Biomass.\n",
    "\n",
    "#3rd  attempt: Same  conditions, no gas input. No production of biomass.\n",
    "\n",
    "\n",
    "Other  results include the following:\n",
    "- No production of ATP/biomass from other inorganic cofactors (h+, h2o, and others)\n",
    "- No \"leaks\" since no fluxes are produced even when demand reactions are present \n",
    "- Should I test if biomass is produced if model is supplied with ATP? Let's try.\n"
   ]
  },
  {
   "cell_type": "markdown",
   "id": "2aa9bf94",
   "metadata": {},
   "source": [
    "Part 2: Testing for Spurious Biomass/ATP formation\n",
    "    Test 1: forward and backward ATP drain\n",
    "    Test 2: forced ATP input\n",
    "    Test 3: "
   ]
  },
  {
   "cell_type": "code",
   "execution_count": null,
   "id": "715ff82a",
   "metadata": {
    "ExecuteTime": {
     "start_time": "2023-02-11T19:27:32.997Z"
    },
    "scrolled": true
   },
   "outputs": [],
   "source": [
    "# #Test 1\n",
    "#Check if there is flux towards ATPS if there are no input fluxes\n",
    "\n",
    "with model:\n",
    "    #Turn off all boundary reactions (Closed system)\n",
    "    DM_atp = model.reactions.ATPSm\n",
    "    for item in model.boundary:\n",
    "        item.bounds = (0,0)\n",
    "#     model.add_reaction(DM_atp)\n",
    "    #Check forward (from cell to outside)\n",
    "    DM_atp.bounds = (0, 1)\n",
    "    DM_atp_fw = model.optimize()\n",
    "    #Check backward (From outside to cell)\n",
    "    \n",
    "    DM_atp.bounds = (-1, 0)\n",
    "    DM_atp_bw = model.optimize()\n",
    "    \n",
    "    print('ATP fw: ', DM_atp_fw.status, 'ATP bw: ', DM_atp_bw.status)\n",
    "    print('DM_atp flux: ', )\n",
    "    print('Objective function value: ', DM_atp_fw.objective_value, 'Objective function value: ', \n",
    "          DM_atp_bw.objective_value)"
   ]
  },
  {
   "cell_type": "code",
   "execution_count": null,
   "id": "a1d0a3e4",
   "metadata": {
    "ExecuteTime": {
     "start_time": "2023-02-11T19:27:34.642Z"
    },
    "code_folding": [
     18
    ]
   },
   "outputs": [],
   "source": [
    "#Test 2: Forced ATP flux\n",
    "\n",
    "with model:\n",
    "    #Turn off all boundary reactions (Closed system)\n",
    "    DM_atp = model.reactions.ATPSm\n",
    "    for item in model.boundary:\n",
    "        item.bounds = (0,0)\n",
    "#     model.add_reaction(DM_atp)\n",
    "    #Check forward (from cell to outside)\n",
    "    DM_atp.bounds = (1, 1)\n",
    "    DM_atp_fw = model.optimize()\n",
    "    #Check backward (From outside to cell)\n",
    "    \n",
    "    DM_atp.bounds = (-1, -1)\n",
    "    DM_atp_bw = model.optimize()\n",
    "    \n",
    "    \n",
    "    print('ATP fw: ', DM_atp_fw.status, 'ATP bw: ', DM_atp_bw.status)\n",
    "    print('Objective function value: ', DM_atp_fw.objective_value, 'Objective function value: ', \n",
    "          DM_atp_bw.objective_value)"
   ]
  },
  {
   "cell_type": "code",
   "execution_count": null,
   "id": "c06659e2",
   "metadata": {
    "ExecuteTime": {
     "start_time": "2023-02-11T19:27:36.224Z"
    }
   },
   "outputs": [],
   "source": [
    "#Test if Model can produce ATP only with gases \n",
    "\n",
    "with model:\n",
    "    #Set Demand reaction for ATP Synthase\n",
    "    DM_atp = model.reactions.ATPSm\n",
    "    \n",
    "    \n",
    "    #Turn off all except phosphate flux\n",
    "    photo_medium = mm.read_medium_csv('./misc/photo_medium.csv', model)\n",
    "    photo_medium['EX_co2(e)'] = 0\n",
    "    photo_medium['EX_o2(e)'] = 0\n",
    "    photo_medium['EX_pi(e)'] = 0\n",
    "    photo_medium['EX_no3(e)'] = 1\n",
    "    photo_medium['EX_photonVis(e)'] = 1000\n",
    "    model.medium =photo_medium \n",
    "    \n",
    "    \n",
    "#     for item in model.boundary:\n",
    "#         item.bounds = (0,0)\n",
    "#     model.add_reaction(DM_atp)\n",
    "    #Check forward (from cell to outside)\n",
    "    DM_atp.bounds = (1, 1)\n",
    "    DM_atp_fw = model.optimize()\n",
    "    #Check backward (From outside to cell)\n",
    "    \n",
    "    DM_atp.bounds = (-1, -1)\n",
    "    DM_atp_bw = model.optimize()\n",
    "\n",
    "    print('ATP fw: ', DM_atp_fw.status, 'ATP bw: ', DM_atp_bw.status)\n",
    "    print('Objective function value (FW): ', DM_atp_fw.objective_value, 'Objective function value (BW): ', \n",
    "          DM_atp_bw.objective_value)"
   ]
  },
  {
   "cell_type": "markdown",
   "id": "e68e806f",
   "metadata": {},
   "source": [
    "Both Forward and Backward reactions do not produce any biomass, which is good"
   ]
  },
  {
   "cell_type": "code",
   "execution_count": null,
   "id": "3ddd4617",
   "metadata": {
    "ExecuteTime": {
     "start_time": "2023-02-11T19:27:38.472Z"
    }
   },
   "outputs": [],
   "source": [
    "#Test 3: Check if model can produce biomass w/o phosphate\n",
    "\n",
    "#First check if model can create biomass from scratch  or from inorganic solutes\n",
    "\n",
    "#Parametrize the model first using phototrophic  medium\n",
    "photo_medium = mm.read_medium_csv('./misc/photo_medium.csv', model)\n",
    "photo_medium['EX_co2(e)'] = 1\n",
    "photo_medium['EX_o2(e)'] = 1\n",
    "photo_medium['EX_pi(e)'] = 0\n",
    "photo_medium['EX_no3(e)'] = 1\n",
    "photo_medium['EX_photonVis(e)'] = 1000\n",
    "\n",
    "model.medium = photo_medium\n",
    "\n",
    "photo_medium\n",
    "model.summary()\n"
   ]
  },
  {
   "cell_type": "markdown",
   "id": "036427f7",
   "metadata": {},
   "source": [
    "Above result shows that inputting NO3, CO2 and O2 doesn't produce any biomass"
   ]
  },
  {
   "cell_type": "markdown",
   "id": "c390703c",
   "metadata": {
    "ExecuteTime": {
     "end_time": "2022-04-18T01:04:00.305123Z",
     "start_time": "2022-04-18T01:04:00.303378Z"
    }
   },
   "source": [
    "Based on Fluxer, it seems that both the original ios2164 and modified models are producing biomass out of phosphate only By generating ATP out of thin air. What I've observed was that the model is producing biomass due to Cofactor cycling, but can be remedied by turning off the reactions listed by Lakshmanan et al (2016) supplementary\n"
   ]
  },
  {
   "cell_type": "markdown",
   "id": "7c4f1fb0",
   "metadata": {},
   "source": [
    "For the following code blocks we will be testing which reactions are unbalanced in the final one-cell model.\n",
    "\n",
    "\n"
   ]
  },
  {
   "cell_type": "code",
   "execution_count": null,
   "id": "94888eda",
   "metadata": {
    "ExecuteTime": {
     "end_time": "2023-02-11T10:08:26.831757Z",
     "start_time": "2023-02-11T10:08:26.759158Z"
    }
   },
   "outputs": [],
   "source": [
    "internal_rxns = set(model.reactions) - set(model.boundary) - set(model.sinks) \n",
    "\n",
    "unbalanced_rxns = list()\n",
    "for rxns in internal_rxns:\n",
    "    if len(rxns.check_mass_balance()) != 0:\n",
    "#         print(rxns.id, '\\t', rxns.check_mass_balance())\n",
    "        unbalanced_rxns.append(rxns)\n",
    "    \n",
    "print('number of unbalanced reactions in the model:', len(unbalanced_rxns))\n",
    "print('total rxns in model: ', len(internal_rxns))\n",
    "print('percent unbalanced: ',  len(unbalanced_rxns)/len(internal_rxns))"
   ]
  },
  {
   "cell_type": "code",
   "execution_count": null,
   "id": "fbb9195f",
   "metadata": {
    "ExecuteTime": {
     "end_time": "2023-02-11T10:08:29.365557Z",
     "start_time": "2023-02-11T10:08:29.277488Z"
    }
   },
   "outputs": [],
   "source": [
    "for rxns in unbalanced_rxns:\n",
    "    print(rxns.id, '\\t', rxns.check_mass_balance())"
   ]
  },
  {
   "cell_type": "code",
   "execution_count": null,
   "id": "3e218b21",
   "metadata": {
    "ExecuteTime": {
     "end_time": "2022-11-13T17:36:17.049294Z",
     "start_time": "2022-11-13T17:36:17.043850Z"
    }
   },
   "outputs": [],
   "source": [
    "model.metabolites.get_by_id('3chpthmpp_m')"
   ]
  },
  {
   "cell_type": "code",
   "execution_count": null,
   "id": "850d8c36",
   "metadata": {
    "ExecuteTime": {
     "start_time": "2023-02-11T19:34:40.333Z"
    }
   },
   "outputs": [],
   "source": [
    "model.reactions.FA260COAHr"
   ]
  },
  {
   "cell_type": "code",
   "execution_count": null,
   "id": "337f521b",
   "metadata": {
    "ExecuteTime": {
     "end_time": "2023-02-11T10:38:10.721155Z",
     "start_time": "2023-02-11T10:38:10.715261Z"
    }
   },
   "outputs": [],
   "source": [
    "model.metabolites.get_by_id('fdxox_s')\n",
    "\n",
    "#Kaya pala. thglu_v is protonated kasi. Maybe i should try changing yung charge niya?"
   ]
  },
  {
   "cell_type": "code",
   "execution_count": null,
   "id": "894e7bae",
   "metadata": {
    "ExecuteTime": {
     "end_time": "2023-02-11T10:38:29.242770Z",
     "start_time": "2023-02-11T10:38:29.240138Z"
    }
   },
   "outputs": [],
   "source": [
    "model.metabolites.get_by_id('fdxrd_s')"
   ]
  },
  {
   "cell_type": "code",
   "execution_count": null,
   "id": "7d8a7aad",
   "metadata": {
    "ExecuteTime": {
     "end_time": "2023-02-08T16:34:13.473080Z",
     "start_time": "2023-02-08T16:34:13.467387Z"
    }
   },
   "outputs": [],
   "source": [
    "model.metabolites.get_by_id('thglu_v').formula = 'C29H33N9O12'\n",
    "model.metabolites.get_by_id('thglu_v')\n",
    "#thglu_v checked //\n",
    "\n",
    "#need ko pala isa-isahin ito lols"
   ]
  }
 ],
 "metadata": {
  "kernelspec": {
   "display_name": "Python 3",
   "language": "python",
   "name": "python3"
  },
  "language_info": {
   "codemirror_mode": {
    "name": "ipython",
    "version": 3
   },
   "file_extension": ".py",
   "mimetype": "text/x-python",
   "name": "python",
   "nbconvert_exporter": "python",
   "pygments_lexer": "ipython3",
   "version": "3.8.8"
  },
  "varInspector": {
   "cols": {
    "lenName": 16,
    "lenType": 16,
    "lenVar": 40
   },
   "kernels_config": {
    "python": {
     "delete_cmd_postfix": "",
     "delete_cmd_prefix": "del ",
     "library": "var_list.py",
     "varRefreshCmd": "print(var_dic_list())"
    },
    "r": {
     "delete_cmd_postfix": ") ",
     "delete_cmd_prefix": "rm(",
     "library": "var_list.r",
     "varRefreshCmd": "cat(var_dic_list()) "
    }
   },
   "position": {
    "height": "374.85px",
    "left": "1109.2px",
    "right": "20px",
    "top": "120px",
    "width": "350px"
   },
   "types_to_exclude": [
    "module",
    "function",
    "builtin_function_or_method",
    "instance",
    "_Feature"
   ],
   "window_display": false
  }
 },
 "nbformat": 4,
 "nbformat_minor": 5
}
