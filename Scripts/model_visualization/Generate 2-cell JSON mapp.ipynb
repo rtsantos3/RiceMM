{
 "cells": [
  {
   "cell_type": "code",
   "execution_count": 1,
   "id": "8b772cbc-5bd2-4f47-ab20-c0c6d4499a40",
   "metadata": {},
   "outputs": [],
   "source": [
    "import sys\n",
    "import os\n",
    "import escher\n",
    "import json\n",
    "import cobra\n",
    "import path\n",
    "\n",
    "# Change working directory to the desired absolute path\n",
    "os.chdir(\"/home/articulatus/git_repos/RiceMM/\")\n",
    "\n",
    "# Append the \"src\" directory to the system path\n",
    "sys.path.append(\"./src\")\n",
    "\n",
    "# Import the required module\n",
    "import model_manipulation as mm\n"
   ]
  },
  {
   "cell_type": "code",
   "execution_count": 34,
   "id": "1d716e43",
   "metadata": {
    "ExecuteTime": {
     "end_time": "2022-03-17T21:43:16.283477Z",
     "start_time": "2022-03-17T21:43:15.430969Z"
    }
   },
   "outputs": [
    {
     "ename": "TypeError",
     "evalue": "list indices must be integers or slices, not str",
     "output_type": "error",
     "traceback": [
      "\u001b[0;31m---------------------------------------------------------------------------\u001b[0m",
      "\u001b[0;31mTypeError\u001b[0m                                 Traceback (most recent call last)",
      "Cell \u001b[0;32mIn[35], line 7\u001b[0m\n\u001b[1;32m      4\u001b[0m     data \u001b[38;5;241m=\u001b[39m json\u001b[38;5;241m.\u001b[39mload(file)\n\u001b[1;32m      6\u001b[0m \u001b[38;5;66;03m# Store the index of the last segment\u001b[39;00m\n\u001b[0;32m----> 7\u001b[0m last_segment_index \u001b[38;5;241m=\u001b[39m \u001b[38;5;28mlen\u001b[39m(\u001b[43mdata\u001b[49m\u001b[43m[\u001b[49m\u001b[38;5;124;43m'\u001b[39;49m\u001b[38;5;124;43msegments\u001b[39;49m\u001b[38;5;124;43m'\u001b[39;49m\u001b[43m]\u001b[49m) \u001b[38;5;241m-\u001b[39m \u001b[38;5;241m1\u001b[39m\n\u001b[1;32m      9\u001b[0m \u001b[38;5;66;03m# Iterate over the entries in the map\u001b[39;00m\n\u001b[1;32m     10\u001b[0m \u001b[38;5;28;01mfor\u001b[39;00m entry \u001b[38;5;129;01min\u001b[39;00m data[\u001b[38;5;124m'\u001b[39m\u001b[38;5;124mmap\u001b[39m\u001b[38;5;124m'\u001b[39m]:\n\u001b[1;32m     11\u001b[0m     \u001b[38;5;66;03m# Check if the entry is an encoded reaction\u001b[39;00m\n",
      "\u001b[0;31mTypeError\u001b[0m: list indices must be integers or slices, not str"
     ]
    }
   ],
   "source": [
    "m_mapfile = './JSON_maps/M cell only.json'\n",
    "\n",
    "with open(m_mapfile, 'r') as file:\n",
    "    data = json.load(file)\n",
    "\n",
    "# Extract the first entry\n",
    "first_entry = data[0]\n",
    "\n",
    "# Iterate over the entries in the map\n",
    "for entry in data:\n",
    "    # Check if the entry is an encoded reaction\n",
    "    if entry.get('type') == 'reaction':\n",
    "        # Duplicate the entry\n",
    "        duplicate_entry = entry.copy()\n",
    "\n",
    "        # Modify the 'bigg-id' field of the duplicate entry\n",
    "        duplicate_entry['bigg-id'] = duplicate_entry['bigg-id'].replace('_M', '_BS')\n",
    "\n",
    "        # Add 1000 to the 'label-x' field of the duplicate entry\n",
    "        duplicate_entry['label-x'] += 1000\n",
    "\n",
    "        # Add the duplicate entry to the map\n",
    "        data['map'].append(duplicate_entry)\n",
    "\n",
    "    # Check if the entry is a metabolite\n",
    "    elif entry.get('type') == 'metabolite':\n",
    "        # Modify the 'bigg-id' field of the metabolite\n",
    "        entry['bigg-id'] = entry['bigg-id'].replace('_*0', '_*1')\n",
    "\n",
    "# Save the modified data to a new JSON file\n",
    "with open('modified_file.json', 'w') as file:\n",
    "    json.dump(data, file, indent=4)\n",
    "\n",
    "\n",
    "\n",
    "\n",
    "twocell_mapfile = './JSON_maps/M-BS-cell.json'\n",
    "# Save the modified JSON data back to the file\n",
    "with open(twocell_mapfile, 'w') as file:\n",
    "    json.dump(data, file, indent=4)"
   ]
  },
  {
   "cell_type": "code",
   "execution_count": 36,
   "id": "21bdceeb-a657-4fc2-bb75-1b185d856da9",
   "metadata": {},
   "outputs": [
    {
     "ename": "AttributeError",
     "evalue": "'list' object has no attribute 'get'",
     "output_type": "error",
     "traceback": [
      "\u001b[0;31m---------------------------------------------------------------------------\u001b[0m",
      "\u001b[0;31mAttributeError\u001b[0m                            Traceback (most recent call last)",
      "Cell \u001b[0;32mIn[36], line 5\u001b[0m\n\u001b[1;32m      1\u001b[0m \u001b[38;5;28;01mimport\u001b[39;00m \u001b[38;5;21;01mjson\u001b[39;00m\n\u001b[1;32m      3\u001b[0m \u001b[38;5;66;03m# Open the JSON file\u001b[39;00m\n\u001b[1;32m      4\u001b[0m \u001b[38;5;66;03m# Store the index of the last segment\u001b[39;00m\n\u001b[0;32m----> 5\u001b[0m last_segment_index \u001b[38;5;241m=\u001b[39m \u001b[38;5;28mlen\u001b[39m(\u001b[43mdata\u001b[49m\u001b[38;5;241;43m.\u001b[39;49m\u001b[43mget\u001b[49m(\u001b[38;5;124m'\u001b[39m\u001b[38;5;124msegments\u001b[39m\u001b[38;5;124m'\u001b[39m, [])) \u001b[38;5;241m-\u001b[39m \u001b[38;5;241m1\u001b[39m\n\u001b[1;32m      7\u001b[0m \u001b[38;5;66;03m# Iterate over the entries in the map\u001b[39;00m\n\u001b[1;32m      8\u001b[0m \u001b[38;5;28;01mfor\u001b[39;00m entry \u001b[38;5;129;01min\u001b[39;00m data[\u001b[38;5;124m'\u001b[39m\u001b[38;5;124mmap\u001b[39m\u001b[38;5;124m'\u001b[39m]:\n\u001b[1;32m      9\u001b[0m     \u001b[38;5;66;03m# Check if the entry is an encoded reaction\u001b[39;00m\n",
      "\u001b[0;31mAttributeError\u001b[0m: 'list' object has no attribute 'get'"
     ]
    }
   ],
   "source": [
    "import json\n",
    "\n",
    "# Open the JSON file\n",
    "# Store the index of the last segment\n",
    "last_segment_index = len(data.get('segments', [])) - 1\n",
    "\n",
    "# Iterate over the entries in the map\n",
    "for entry in data['map']:\n",
    "    # Check if the entry is an encoded reaction\n",
    "    if entry.get('type') == 'encoded_reaction':\n",
    "        # Duplicate the entry\n",
    "        duplicate_entry = entry.copy()\n",
    "\n",
    "        # Modify the 'bigg-id' field of the duplicate entry\n",
    "        duplicate_entry['bigg-id'] = duplicate_entry['bigg-id'].replace('_M', '_BS')\n",
    "\n",
    "        # Add 1000 to the 'label-x' field of the duplicate entry\n",
    "        duplicate_entry['label-x'] += 1000\n",
    "\n",
    "        # Add the duplicate entry to the map\n",
    "        data['map'].append(duplicate_entry)\n",
    "\n",
    "        # Create a new segment for the duplicated reaction\n",
    "        last_segment_index += 1\n",
    "        new_segment = {\n",
    "            \"id\": f\"segment_{last_segment_index}\",\n",
    "            \"name\": f\"Segment {last_segment_index}\",\n",
    "            \"start\": 0,\n",
    "            \"end\": 1,\n",
    "            \"reaction\": duplicate_entry['bigg-id'],\n",
    "            \"from_node_id\": None,\n",
    "            \"to_node_id\": None\n",
    "        }\n",
    "\n",
    "        # Add the new segment to the segments list\n",
    "        if 'segments' in data:\n",
    "            data['segments'].append(new_segment)\n",
    "        else:\n",
    "            data['segments'] = [new_segment]\n",
    "\n",
    "    # Check if the entry is a metabolite\n",
    "    elif entry.get('type') == 'metabolite':\n",
    "        # Modify the 'bigg-id' field of the metabolite\n",
    "        entry['bigg-id'] = entry['bigg-id'].replace('_*0', '_*1')\n",
    "\n",
    "        # Create a new segment for the duplicated metabolite\n",
    "        last_segment_index += 1\n",
    "        new_segment = {\n",
    "            \"id\": f\"segment_{last_segment_index}\",\n",
    "            \"name\": f\"Segment {last_segment_index}\",\n",
    "            \"start\": 0,\n",
    "            \"end\": 1,\n",
    "            \"reaction\": None,\n",
    "            \"from_node_id\": None,\n",
    "            \"to_node_id\": None,\n",
    "            \"metabolite\": entry['bigg-id']\n",
    "        }\n",
    "\n",
    "        # Add the new segment to the segments list\n",
    "        if 'segments' in data:\n",
    "            data['segments'].append(new_segment)\n",
    "        else:\n",
    "            data['segments'] = [new_segment]\n",
    "\n",
    "# Save the modified data to a new JSON file\n",
    "with open(twocell_mapfile, 'w') as file:\n",
    "    json.dump(data, file, indent=4)\n",
    "\n",
    "print(\"Modifications complete. The modified data has been saved to 'modified_file.json'.\")\n"
   ]
  }
 ],
 "metadata": {
  "kernelspec": {
   "display_name": "Python 3 (ipykernel)",
   "language": "python",
   "name": "python3"
  },
  "language_info": {
   "codemirror_mode": {
    "name": "ipython",
    "version": 3
   },
   "file_extension": ".py",
   "mimetype": "text/x-python",
   "name": "python",
   "nbconvert_exporter": "python",
   "pygments_lexer": "ipython3",
   "version": "3.10.11"
  },
  "varInspector": {
   "cols": {
    "lenName": 16,
    "lenType": 16,
    "lenVar": 40
   },
   "kernels_config": {
    "python": {
     "delete_cmd_postfix": "",
     "delete_cmd_prefix": "del ",
     "library": "var_list.py",
     "varRefreshCmd": "print(var_dic_list())"
    },
    "r": {
     "delete_cmd_postfix": ") ",
     "delete_cmd_prefix": "rm(",
     "library": "var_list.r",
     "varRefreshCmd": "cat(var_dic_list()) "
    }
   },
   "types_to_exclude": [
    "module",
    "function",
    "builtin_function_or_method",
    "instance",
    "_Feature"
   ],
   "window_display": false
  }
 },
 "nbformat": 4,
 "nbformat_minor": 5
}
