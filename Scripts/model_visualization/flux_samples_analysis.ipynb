{
 "cells": [
  {
   "cell_type": "code",
   "execution_count": 1,
   "id": "03a656bb",
   "metadata": {
    "ExecuteTime": {
     "end_time": "2023-03-23T11:08:41.205406Z",
     "start_time": "2023-03-23T11:08:39.074105Z"
    }
   },
   "outputs": [],
   "source": [
    "import sys \n",
    "import os\n",
    "import cobra\n",
    "import cplex \n",
    "import libsbml\n",
    "import pandas as pd\n",
    "import copy\n",
    "from pathlib import Path\n",
    "import memote\n",
    "import csv\n",
    "import numpy as np\n",
    "import matplotlib.pyplot as plt\n",
    "import seaborn as sns\n",
    "import xlsxwriter\n",
    "import path \n",
    "import pandas as pd\n",
    "import numpy as np\n",
    "import matplotlib.pyplot as plt\n",
    "import pandas as pd\n",
    "import numpy as np\n",
    "from scipy.stats import zscore\n",
    "from itertools import combinations\n",
    "from scipy.stats import kruskal, mannwhitneyu\n",
    "import multiprocessing\n",
    "from itertools import combinations, product\n",
    "\n",
    "from scipy.stats import kruskal\n",
    "from multiprocessing import Pool\n",
    "\n",
    "\n",
    "#Change working dir first, ty ChatGPT, much loves\n",
    "cwd = os.getcwd()\n",
    "# Split the path into a list of directories\n",
    "directories = cwd.split(os.sep)\n",
    "# Remove the last two directories from the list\n",
    "directories = directories[:-2]\n",
    "# Join the directories back into a path\n",
    "new_cwd = os.sep.join(directories)\n",
    "# Change the current working directory to the new path\n",
    "os.chdir(new_cwd)\n",
    "\n",
    "sys.path.append(\"./src\")\n",
    "\n",
    "\n",
    "# #Change working dir first, ty ChatGPT, much loves\n",
    "# cwd = os.getcwd()\n",
    "# # Split the path into a list of directories\n",
    "# directories = cwd.split(os.sep)\n",
    "# # Remove the last two directories from the list\n",
    "# directories = directories[:-2]\n",
    "# # Join the directories back into a path\n",
    "# new_cwd = os.sep.join(directories)\n",
    "# # Change the current working directory to the new path\n",
    "# os.chdir(new_cwd)\n",
    "\n",
    "# sys.path.append(\"./src\")\n"
   ]
  },
  {
   "cell_type": "code",
   "execution_count": 2,
   "id": "8def8923",
   "metadata": {
    "ExecuteTime": {
     "end_time": "2023-03-23T11:08:50.122717Z",
     "start_time": "2023-03-23T11:08:41.209131Z"
    }
   },
   "outputs": [
    {
     "name": "stdout",
     "output_type": "stream",
     "text": [
      "Set parameter Username\n",
      "Academic license - for non-commercial use only - expires 2024-05-09\n"
     ]
    }
   ],
   "source": [
    "\n",
    "#Set solver to gurobi\n",
    "config = cobra.Configuration()\n",
    "config.solver = 'gurobi'\n",
    "\n",
    "#Read 2-cell model\n",
    "wt_model = cobra.io.read_sbml_model(\"./model/ios2164_2cell.xml\")\n",
    "trans_model = cobra.io.read_sbml_model(\"./model/ios2164_2cell.xml\")\n",
    "#Estimate inf\n",
    "inf = 1e6\n"
   ]
  },
  {
   "cell_type": "markdown",
   "id": "0a4b7ca3-4c3d-4250-98f8-d84c422a5a39",
   "metadata": {},
   "source": [
    "Pipeline breakdown:\n",
    "\n",
    "Load CSVs to a memory saving format first\n",
    "\n",
    "1.\n",
    "Run convergence statistics on each and generate plots to assess total convergence stats for each CSV. These will include tests such as the \n",
    "Gelman-Rubin and Geweke statistics as well as \n",
    "Afterwards get only the flux names of those reactions that have converged\n",
    "Run pairwise Kruskal-wallis tests per CSV using the above list of converged reactions\n",
    "Identify each reaction with significant and non-significant distributions each\n",
    "\n",
    "Generate histograms/probability densities for relevant reactions with significantly different distributions with WT and Trans models\n",
    "\n",
    "2. Flux coupling analysis\n",
    "Check which fluxes are coupled with each otehr and identify which fluxes are then related to each other, particularly Carbon Fixation reactions in the BS cell such as Rubisco and the DM_Phloem reactions\n"
   ]
  },
  {
   "cell_type": "code",
   "execution_count": 135,
   "id": "91915a05-3a93-4fcb-b552-4cf827f1a075",
   "metadata": {
    "tags": []
   },
   "outputs": [],
   "source": [
    "'''This code block contains functions that we need to use to analyze our flux sampling experiment. \n",
    "These include tests to check for convergence, for autocorrelation, as well as for pairwise comparisons of fluxes between\n",
    "parametization regimens (WT, TR, as well as 3 light conditions) and a script to determine whether fluxes are\n",
    "coupled with each other.\n",
    "'''\n",
    "\n",
    "\n",
    "def load_csv_and_cleanup(filename):\n",
    "    # Load the CSV file\n",
    "    df = pd.read_csv(filename)\n",
    "\n",
    "    # Remove columns with a mean of 0\n",
    "    mean_values = df.mean()\n",
    "    columns_to_remove = mean_values[abs(mean_values) < 1e-6].index\n",
    "    print(columns_to_remove)\n",
    "    df = df.drop(columns=columns_to_remove)\n",
    "\n",
    "    # Fix the indices\n",
    "    df.reset_index(drop=True, inplace=True)\n",
    "    print(df.shape)\n",
    "\n",
    "    return df    \n",
    "\n",
    "def gelman_rubin_convergence(df, threshold=1.1):\n",
    "    # Get flux columns\n",
    "    flux_columns = [col for col in df.columns]\n",
    "\n",
    "    # Calculate the Gelman-Rubin statistics (R-hat) for each column\n",
    "    r_hat_values = []\n",
    "    for col in flux_columns:\n",
    "        chain_values = df[col].values.reshape(-1, 1)  # Reshape values into a 2D array (for potential future extensions)\n",
    "        n_chains = chain_values.shape[1]  # Number of chains\n",
    "        n_samples = chain_values.shape[0]  # Number of samples\n",
    "\n",
    "        # Calculate the within-chain variance\n",
    "        within_chain_var = np.var(chain_values, axis=0, ddof=1)\n",
    "\n",
    "        \n",
    "        # Calculate the between-chain variance\n",
    "        mean_chain_values = np.mean(chain_values, axis=0)\n",
    "        between_chain_var = n_samples / (n_chains - 1) * np.sum((chain_values - mean_chain_values) ** 2)\n",
    "\n",
    "        # Calculate the pooled variance\n",
    "        pooled_var = within_chain_var + between_chain_var / n_samples\n",
    "\n",
    "        # Calculate the potential scale reduction factor (R-hat)\n",
    "        r_hat = np.sqrt(pooled_var / within_chain_var)\n",
    "            \n",
    "        r_hat_values.append(r_hat)\n",
    "\n",
    "\n",
    "    converged_fluxes = sum(1 for r_hat in r_hat_values if r_hat <= threshold)\n",
    "    total_fluxes = len(flux_columns)\n",
    "\n",
    "    # Calculate the percentage of converged fluxes\n",
    "    percentage_converged = (converged_fluxes / total_fluxes) * 100\n",
    "\n",
    "    return percentage_converged\n",
    "\n",
    "\n",
    "    \n",
    "def geweke_convergence(df, threshold=1.96):\n",
    "    # Get the list of flux parameter columns\n",
    "    flux_columns = df.columns.tolist()\n",
    "\n",
    "    # Calculate the Geweke diagnostic for each column\n",
    "    geweke_values = []\n",
    "    for col in flux_columns:\n",
    "        chain_values = df[col].values\n",
    "        n_samples = chain_values.shape[0]\n",
    "\n",
    "        # Calculate the Geweke diagnostic\n",
    "        first_segment = chain_values[:int(n_samples * 0.1)]  # First 10th percentile\n",
    "        last_segment = chain_values[int(n_samples * 0.5):]  # Last 50th percentile\n",
    "        z_scores = (np.mean(first_segment) - np.mean(last_segment)) / np.sqrt(np.var(first_segment) + np.var(last_segment))\n",
    "\n",
    "        geweke_values.append(z_scores)\n",
    "\n",
    "    # Determine the convergence based on the Geweke diagnostic\n",
    "    converged_fluxes = sum(np.abs(geweke_values) < threshold)  # Assuming |z-score| < 1.96 indicates convergence (for 0.95 confidence interval)\n",
    "    total_fluxes = len(flux_columns)\n",
    "\n",
    "    # Calculate the percentage of converged fluxes\n",
    "    percentage_converged = (converged_fluxes / total_fluxes) * 100\n",
    "\n",
    "    return percentage_converged\n",
    "\n",
    "\n",
    "\n",
    "def calculate_psrf(df, threshold=2):\n",
    "    # Get the number of chains and samples\n",
    "    n_chains = df.shape[1]\n",
    "    n_samples = df.shape[0]\n",
    "\n",
    "    # Calculate the within-chain variance\n",
    "    within_chain_var = df.var(axis=0, ddof=1)\n",
    "\n",
    "    # Calculate the between-chain variance\n",
    "    mean_chain_values = df.mean(axis=0)\n",
    "    mean_values = mean_chain_values.mean(axis=0)\n",
    "    between_chain_var = n_samples / (n_chains - 1) * np.sum((mean_chain_values - mean_values) ** 2, axis=0)\n",
    "\n",
    "    # Calculate the pooled variance\n",
    "    pooled_var = (n_samples - 1) / n_samples * within_chain_var + between_chain_var / n_samples\n",
    "\n",
    "    # Calculate the potential scale reduction factor (PSRF)\n",
    "    psrf = np.sqrt(pooled_var / within_chain_var)\n",
    "\n",
    "    # Determine the convergence based on the PSRF values\n",
    "    converged_reactions = np.sum(psrf <= threshold, axis=0)\n",
    "    total_reactions = df.shape[1]\n",
    "\n",
    "    # Calculate the percentage of converged reactions per column\n",
    "    percentage_converged = (converged_reactions / total_reactions) * 100\n",
    "\n",
    "    return percentage_converged\n",
    "\n",
    "\n",
    "\n",
    "def compare_pair(pair, df1, df2, significance_threshold):\n",
    "    \"\"\"\n",
    "    Compare the flux distributions of a pair of columns from two dataframes using the Kruskal-Wallis test.\n",
    "\n",
    "    :param pair: Tuple containing the pair of column names.\n",
    "    :param df1: The first dataframe.\n",
    "    :param df2: The second dataframe.\n",
    "    :param significance_threshold: The significance threshold to use for the Kruskal-Wallis test.\n",
    "    :return: The pair and the result of the Kruskal-Wallis test.\n",
    "    \"\"\"\n",
    "    sample1 = df1[pair[0]]\n",
    "    sample2 = df2[pair[1]]\n",
    "    H, pval = kruskal(sample1, sample2)\n",
    "    return pair, pval < significance_threshold\n",
    "\n",
    "def compare_flux_distributions(df1, df2, significance_threshold=0.05):\n",
    "    \"\"\"\n",
    "    Compare the flux distributions of each pair of columns from two dataframes using the Kruskal-Wallis test.\n",
    "\n",
    "    :param df1: The first dataframe.\n",
    "    :param df2: The second dataframe.\n",
    "    :param significance_threshold: The significance threshold to use for the Kruskal-Wallis test (default: 0.05).\n",
    "    :return: A list of pairs with significantly different distributions.\n",
    "    \"\"\"\n",
    "    pairs = [(col1, col2) for col1 in df1.columns for col2 in df2.columns]\n",
    "    pool = multiprocessing.Pool()\n",
    "    results = []\n",
    "    non_sig_results = []\n",
    "    for pair, is_significant in pool.starmap(compare_pair, [(pair, df1, df2, significance_threshold) for pair in pairs]):\n",
    "        if is_significant:\n",
    "            results.append(pair)\n",
    "        else:\n",
    "            non_sig_results = []\n",
    "    pool.close()\n",
    "    return sig, non-sig\n",
    "\n",
    "\n",
    "\n",
    "def calculate_coupling(chunk, flux_samples_df):\n",
    "    coupling_matrix = np.zeros((len(chunk), len(flux_samples_df.columns)))\n",
    "\n",
    "    for i, reaction_i in enumerate(chunk):\n",
    "        for j, reaction_j in enumerate(flux_samples_df.columns):\n",
    "            flux_i = flux_samples_df[reaction_i]\n",
    "            flux_j = flux_samples_df[reaction_j]\n",
    "            coupling_matrix[i, j] = np.corrcoef(flux_i, flux_j)[0, 1]\n",
    "\n",
    "    return coupling_matrix\n",
    "\n",
    "def analyze_flux_coupling(flux_samples_df):\n",
    "    # Get the reactions from the column names\n",
    "    reactions = flux_samples_df.columns.tolist()\n",
    "\n",
    "    # Define the number of processes to use\n",
    "    num_processes = multiprocessing.cpu_count()\n",
    "\n",
    "    # Split the reactions into chunks for parallel processing\n",
    "    chunks = np.array_split(reactions, num_processes)\n",
    "\n",
    "    # Create a multiprocessing pool\n",
    "    pool = multiprocessing.Pool(processes=num_processes)\n",
    "\n",
    "    # Calculate flux coupling coefficients using parallel processing\n",
    "    results = pool.starmap(calculate_coupling, [(chunk, flux_samples_df) for chunk in chunks])\n",
    "\n",
    "    # Concatenate the results from all processes\n",
    "    flux_coupling_matrix = np.concatenate(results, axis=0)\n",
    "\n",
    "    # Create a DataFrame to store the flux coupling coefficients\n",
    "    flux_coupling_df = pd.DataFrame(data=flux_coupling_matrix, index=reactions, columns=reactions)\n",
    "\n",
    "    # Extract positively and negatively correlated reactions\n",
    "    positively_correlated = []\n",
    "    negatively_correlated = []\n",
    "    uncoupled = []\n",
    "\n",
    "    for i, reaction_i in enumerate(reactions):\n",
    "        coupled_reactions = flux_coupling_df.columns[(flux_coupling_df.iloc[i] != 0) & (flux_coupling_df.iloc[i] != 1)].tolist()\n",
    "        if len(coupled_reactions) > 0:\n",
    "            if flux_coupling_df[reaction_i].mean() > 0:\n",
    "                positively_correlated.append((reaction_i, coupled_reactions))\n",
    "            else:\n",
    "                negatively_correlated.append((reaction_i, coupled_reactions))\n",
    "        else:\n",
    "            uncoupled.append(reaction_i)\n",
    "\n",
    "    return positively_correlated, negatively_correlated, uncoupled\n",
    "\n",
    "\n",
    "#The script above is used for flux coupling using the opened CSV file as input and outputs 3 lists:\n",
    "#positively correlated, neg. correlated and uncoupled reactions\n",
    "\n",
    "\n",
    "\n",
    "\n",
    "#The script above takes in each column of a given flux sampling csv and computes the Gelman-Rubin statistics for each parameter to determine\n",
    "#How many columns have reached convergence.\n",
    "\n",
    "\n",
    "def generate_histogram(df1, df2, common_header):\n",
    "\n",
    "    #Make new dataframe from the two dataframes\n",
    "    df = pd.DataFrame(np.random.normal(size=(200,2)), columns=[df1[common_header], df2[common_header]])\n",
    "\n",
    "    df1[common_header].hist()\n",
    "    df2[common_header].hist()"
   ]
  },
  {
   "cell_type": "code",
   "execution_count": 97,
   "id": "505994c4-1e2d-442d-b90e-e269414aecd4",
   "metadata": {
    "tags": []
   },
   "outputs": [
    {
     "name": "stdout",
     "output_type": "stream",
     "text": [
      "Index(['Coleoptile_Biomass_M', 'Straw_Biomass_M', 'ACCOAC_OSAr_M',\n",
      "       'ACPC_OSs_M', 'FAC_Osc_M', 'FAC_Osr_M', 'EX_h2o(e)', 'EX_pi(e)',\n",
      "       'EX_sucr(e)', 'EX_fru-B(e)',\n",
      "       ...\n",
      "       'tre6p_pd', 'b-glucan_pd', 'mnt_pd', 'melib_pd', 'stc_pd', 'raffin_pd',\n",
      "       '1Dgali_pd', 'inost_pd', 'oxa_pd', 'succ_pd'],\n",
      "      dtype='object', length=3093)\n",
      "(5012, 699)\n",
      "Index(['Coleoptile_Biomass_M', 'Straw_Biomass_M', 'ACCOAC_OSAr_M',\n",
      "       'ACPC_OSs_M', 'FAC_Osc_M', 'FAC_Osr_M', 'EX_h2o(e)', 'EX_pi(e)',\n",
      "       'EX_sucr(e)', 'EX_fru-B(e)',\n",
      "       ...\n",
      "       'tre6p_pd', 'b-glucan_pd', 'mnt_pd', 'melib_pd', 'stc_pd', 'raffin_pd',\n",
      "       '1Dgali_pd', 'inost_pd', 'oxa_pd', 'succ_pd'],\n",
      "      dtype='object', length=3048)\n",
      "(5012, 688)\n",
      "Index(['Coleoptile_Biomass_M', 'Straw_Biomass_M', 'ACPC_OSs_M', 'EX_sucr(e)',\n",
      "       'EX_fru-B(e)', 'EX_glc-A(e)', 'EX_so4(e)', 'EX_hco3(e)', 'EX_so3(e)',\n",
      "       'EX_h2s(e)',\n",
      "       ...\n",
      "       'DM_h(c)_BS', 'DM_h(s)_BS', 'DM_h(x)_BS', 'DM_h(m)_BS', 'DM_h(u)_BS',\n",
      "       'DM_h(v)_BS', 'DM_h(r)_BS', 'DM_h2o(c)_BS', 'trp-L_pd', 'b-glucan_pd'],\n",
      "      dtype='object', length=2032)\n",
      "(5012, 1847)\n",
      "Index(['Coleoptile_Biomass_M', 'Straw_Biomass_M', 'ACCOAC_OSAr_M',\n",
      "       'ACPC_OSs_M', 'FAC_Osc_M', 'FAC_Osr_M', 'EX_h2o(e)', 'EX_pi(e)',\n",
      "       'EX_sucr(e)', 'EX_fru-B(e)',\n",
      "       ...\n",
      "       'melib_pd', 'stc_pd', 'raffin_pd', '1Dgali_pd', 'inost_pd', 'oxa_pd',\n",
      "       'succ_pd', 'trans_PPCs_M', 'trans_PPDKs_M', 'trans_PPDKs_BS'],\n",
      "      dtype='object', length=3082)\n",
      "(5012, 693)\n",
      "Index(['Coleoptile_Biomass_M', 'Straw_Biomass_M', 'ACCOAC_OSAr_M',\n",
      "       'ACPC_OSs_M', 'FAC_Osc_M', 'FAC_Osr_M', 'EX_h2o(e)', 'EX_pi(e)',\n",
      "       'EX_sucr(e)', 'EX_fru-B(e)',\n",
      "       ...\n",
      "       'melib_pd', 'stc_pd', 'raffin_pd', '1Dgali_pd', 'inost_pd', 'oxa_pd',\n",
      "       'succ_pd', 'trans_PPCs_M', 'trans_PPDKs_M', 'trans_PPDKs_BS'],\n",
      "      dtype='object', length=3078)\n",
      "(5012, 693)\n",
      "Index(['Coleoptile_Biomass_M', 'Straw_Biomass_M', 'ACPC_OSs_M', 'EX_sucr(e)',\n",
      "       'EX_fru-B(e)', 'EX_glc-A(e)', 'EX_so4(e)', 'EX_hco3(e)', 'EX_so3(e)',\n",
      "       'EX_h2s(e)',\n",
      "       ...\n",
      "       'DM_h(x)_BS', 'DM_h(m)_BS', 'DM_h(u)_BS', 'DM_h(v)_BS', 'DM_h(r)_BS',\n",
      "       'DM_h2o(c)_BS', 'trp-L_pd', 'accoa_pd', 'b-glucan_pd', 'trans_PPCs_M'],\n",
      "      dtype='object', length=2025)\n",
      "(5012, 1853)\n"
     ]
    }
   ],
   "source": [
    "#Test the script on one CSV\n",
    "\n",
    "wt_250 = load_csv_and_cleanup('./flux_results/flux_sampling/flux_sample_WT_250.csv')\n",
    "wt_750 = load_csv_and_cleanup('./flux_results/flux_sampling/flux_sample_WT_750.csv')\n",
    "wt_1500 = load_csv_and_cleanup('./flux_results/flux_sampling/flux_sample_WT_1500.csv')\n",
    "tr_250 = load_csv_and_cleanup('./flux_results/flux_sampling/flux_sample_TR_250.csv')\n",
    "tr_750 = load_csv_and_cleanup('./flux_results/flux_sampling/flux_sample_TR_750.csv')\n",
    "\n",
    "tr_1500 = load_csv_and_cleanup('./flux_results/flux_sampling/flux_sample_TR_1500.csv')\n"
   ]
  },
  {
   "cell_type": "code",
   "execution_count": 99,
   "id": "a30faaac-4a4d-4b57-9ecd-995cecb57c2c",
   "metadata": {},
   "outputs": [
    {
     "ename": "ZeroDivisionError",
     "evalue": "division by zero",
     "output_type": "error",
     "traceback": [
      "\u001b[0;31m---------------------------------------------------------------------------\u001b[0m",
      "\u001b[0;31mZeroDivisionError\u001b[0m                         Traceback (most recent call last)",
      "Cell \u001b[0;32mIn[99], line 1\u001b[0m\n\u001b[0;32m----> 1\u001b[0m \u001b[43mgelman_rubin_convergence\u001b[49m\u001b[43m(\u001b[49m\u001b[43mwt_250\u001b[49m\u001b[43m,\u001b[49m\u001b[43m \u001b[49m\u001b[38;5;241;43m2.0\u001b[39;49m\u001b[43m)\u001b[49m\n\u001b[1;32m      2\u001b[0m gelman_rubin_convergence(wt_750, \u001b[38;5;241m2.0\u001b[39m)\n\u001b[1;32m      3\u001b[0m gelman_rubin_convergence(wt_1500, \u001b[38;5;241m2.0\u001b[39m)\n",
      "Cell \u001b[0;32mIn[95], line 41\u001b[0m, in \u001b[0;36mgelman_rubin_convergence\u001b[0;34m(df, threshold)\u001b[0m\n\u001b[1;32m     39\u001b[0m \u001b[38;5;66;03m# Calculate the between-chain variance\u001b[39;00m\n\u001b[1;32m     40\u001b[0m mean_chain_values \u001b[38;5;241m=\u001b[39m np\u001b[38;5;241m.\u001b[39mmean(chain_values, axis\u001b[38;5;241m=\u001b[39m\u001b[38;5;241m0\u001b[39m)\n\u001b[0;32m---> 41\u001b[0m between_chain_var \u001b[38;5;241m=\u001b[39m \u001b[43mn_samples\u001b[49m\u001b[43m \u001b[49m\u001b[38;5;241;43m/\u001b[39;49m\u001b[43m \u001b[49m\u001b[43m(\u001b[49m\u001b[43mn_chains\u001b[49m\u001b[43m \u001b[49m\u001b[38;5;241;43m-\u001b[39;49m\u001b[43m \u001b[49m\u001b[38;5;241;43m1\u001b[39;49m\u001b[43m)\u001b[49m \u001b[38;5;241m*\u001b[39m np\u001b[38;5;241m.\u001b[39msum((chain_values \u001b[38;5;241m-\u001b[39m mean_chain_values) \u001b[38;5;241m*\u001b[39m\u001b[38;5;241m*\u001b[39m \u001b[38;5;241m2\u001b[39m)\n\u001b[1;32m     43\u001b[0m \u001b[38;5;66;03m# Calculate the pooled variance\u001b[39;00m\n\u001b[1;32m     44\u001b[0m pooled_var \u001b[38;5;241m=\u001b[39m within_chain_var \u001b[38;5;241m+\u001b[39m between_chain_var \u001b[38;5;241m/\u001b[39m n_samples\n",
      "\u001b[0;31mZeroDivisionError\u001b[0m: division by zero"
     ]
    }
   ],
   "source": [
    "gelman_rubin_convergence(wt_250, 2.0)\n",
    "gelman_rubin_convergence(wt_750, 2.0)\n",
    "gelman_rubin_convergence(wt_1500, 2.0)"
   ]
  },
  {
   "cell_type": "code",
   "execution_count": 117,
   "id": "1160ba12-8293-40a1-afec-5a63fb7e0b9e",
   "metadata": {
    "tags": []
   },
   "outputs": [
    {
     "name": "stdout",
     "output_type": "stream",
     "text": [
      "100.0\n",
      "100.0\n",
      "100.0\n"
     ]
    }
   ],
   "source": [
    "print(geweke_convergence(wt_250, threshold=1.24))\n",
    "print(geweke_convergence(wt_750, threshold=1.24))\n",
    "print(geweke_convergence(wt_1500, threshold=1.24))"
   ]
  },
  {
   "cell_type": "code",
   "execution_count": 118,
   "id": "943a13ce-7457-4be3-8e00-e36763193d90",
   "metadata": {},
   "outputs": [
    {
     "name": "stdout",
     "output_type": "stream",
     "text": [
      "4.86409155937053\n",
      "4.3604651162790695\n",
      "2.328099621007038\n"
     ]
    }
   ],
   "source": [
    "print(calculate_psrf(wt_250, 2.0))\n",
    "print(calculate_psrf(wt_750, 2.0))\n",
    "print(calculate_psrf(wt_1500, 2.0))\n"
   ]
  },
  {
   "cell_type": "code",
   "execution_count": 26,
   "id": "e6d60ea8-efcf-41c3-9dbb-4819f3ce02db",
   "metadata": {},
   "outputs": [],
   "source": [
    "WT250_750_sig_pairs = compare_flux_distributions(wt_250, wt_750)"
   ]
  },
  {
   "cell_type": "code",
   "execution_count": 138,
   "id": "6c068263-fd69-4b7f-bc62-8c30a629efe9",
   "metadata": {},
   "outputs": [
    {
     "data": {
      "image/png": "[encoded data removed]",
      "text/plain": [
       "<Figure size 640x480 with 1 Axes>"
      ]
     },
     "metadata": {},
     "output_type": "display_data"
    }
   ],
   "source": [
    "generate_histogram(wt_250, wt_1500, 'EX_co2(e)')"
   ]
  },
  {
   "cell_type": "code",
   "execution_count": null,
   "id": "ed82a76c-93d3-4f8c-97e5-e990260670fd",
   "metadata": {},
   "outputs": [],
   "source": []
  },
  {
   "cell_type": "code",
   "execution_count": null,
   "id": "c4f21539-6766-4b9e-a786-50db796a6bc0",
   "metadata": {},
   "outputs": [],
   "source": [
    "#Flux sampling at low, medium and high light regimens\n",
    "\n",
    "#Light treatments at 250 PPFD, 750 PPFD and 1500 PPFD"
   ]
  },
  {
   "cell_type": "code",
   "execution_count": null,
   "id": "63dfbb48-7392-4b5e-9c9b-01bcdefb1ba6",
   "metadata": {},
   "outputs": [],
   "source": [
    "#Kruskal-Wallis Test to test regimens"
   ]
  }
 ],
 "metadata": {
  "kernelspec": {
   "display_name": "Python 3 (ipykernel)",
   "language": "python",
   "name": "python3"
  },
  "language_info": {
   "codemirror_mode": {
    "name": "ipython",
    "version": 3
   },
   "file_extension": ".py",
   "mimetype": "text/x-python",
   "name": "python",
   "nbconvert_exporter": "python",
   "pygments_lexer": "ipython3",
   "version": "3.10.11"
  },
  "varInspector": {
   "cols": {
    "lenName": 16,
    "lenType": 16,
    "lenVar": 40
   },
   "kernels_config": {
    "python": {
     "delete_cmd_postfix": "",
     "delete_cmd_prefix": "del ",
     "library": "var_list.py",
     "varRefreshCmd": "print(var_dic_list())"
    },
    "r": {
     "delete_cmd_postfix": ") ",
     "delete_cmd_prefix": "rm(",
     "library": "var_list.r",
     "varRefreshCmd": "cat(var_dic_list()) "
    }
   },
   "types_to_exclude": [
    "module",
    "function",
    "builtin_function_or_method",
    "instance",
    "_Feature"
   ],
   "window_display": false
  }
 },
 "nbformat": 4,
 "nbformat_minor": 5
}
