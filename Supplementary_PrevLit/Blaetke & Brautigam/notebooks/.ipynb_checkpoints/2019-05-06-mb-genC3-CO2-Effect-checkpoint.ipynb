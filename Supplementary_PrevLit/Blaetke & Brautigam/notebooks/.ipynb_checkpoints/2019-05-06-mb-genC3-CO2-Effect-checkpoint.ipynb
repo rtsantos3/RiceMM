{
 "cells": [
  {
   "cell_type": "markdown",
   "metadata": {
    "run_control": {
     "marked": true
    }
   },
   "source": [
    "# Effect of the CO2 uptake rate on C3 metabolism\n"
   ]
  },
  {
   "cell_type": "markdown",
   "metadata": {
    "run_control": {
     "marked": true
    }
   },
   "source": [
    "## 0. Initialization"
   ]
  },
  {
   "cell_type": "markdown",
   "metadata": {
    "run_control": {
     "marked": true
    }
   },
   "source": [
    "### 0.1 Load Packages"
   ]
  },
  {
   "cell_type": "code",
   "execution_count": 1,
   "metadata": {
    "ExecuteTime": {
     "end_time": "2019-05-06T13:30:40.944765Z",
     "start_time": "2019-05-06T15:30:39.314213+02:00"
    },
    "code_folding": [],
    "collapsed": false,
    "run_control": {
     "marked": true
    }
   },
   "outputs": [
    {
     "name": "stderr",
     "output_type": "stream",
     "text": [
      "//anaconda/lib/python2.7/site-packages/cryptography/hazmat/primitives/constant_time.py:26 \u001b[1;31mCryptographyDeprecationWarning\u001b[0m: Support for your Python version is deprecated. The next version of cryptography will remove support. Please upgrade to a 2.7.x release that supports hmac.compare_digest as soon as possible.\n"
     ]
    },
    {
     "data": {
      "text/html": [
       "        <script type=\"text/javascript\">\n",
       "        window.PlotlyConfig = {MathJaxConfig: 'local'};\n",
       "        if (window.MathJax) {MathJax.Hub.Config({SVG: {font: \"STIX-Web\"}});}\n",
       "        if (typeof require !== 'undefined') {\n",
       "        require.undef(\"plotly\");\n",
       "        requirejs.config({\n",
       "            paths: {\n",
       "                'plotly': ['https://cdn.plot.ly/plotly-latest.min']\n",
       "            }\n",
       "        });\n",
       "        require(['plotly'], function(Plotly) {\n",
       "            window._Plotly = Plotly;\n",
       "        });\n",
       "        }\n",
       "        </script>\n",
       "        "
      ]
     },
     "metadata": {},
     "output_type": "display_data"
    }
   ],
   "source": [
    "#Import sys\n",
    "import sys \n",
    "sys.path.append(\"../src/\") \n",
    "\n",
    "#Import init for initialisation & loading user-defined functions\n",
    "from init_fba import *\n",
    "\n",
    "#Initialize notebook settings\n",
    "theNotebook = '2019-05-06-mb-genC3-CO2-Effect'\n",
    "init_notebook(theNotebook)\n",
    "\n",
    "#load sbml model\n",
    "c3_model = load_sbml_model()\n",
    "\n",
    "#inf  \n",
    "inf = float(1e6) "
   ]
  },
  {
   "cell_type": "markdown",
   "metadata": {
    "run_control": {
     "marked": true
    }
   },
   "source": [
    "## 1. C3 Model"
   ]
  },
  {
   "cell_type": "markdown",
   "metadata": {
    "ExecuteTime": {
     "end_time": "2017-06-20T12:42:07.597174",
     "start_time": "2017-06-20T12:42:07.594879"
    },
    "run_control": {
     "marked": true
    }
   },
   "source": [
    "### 1.1 Constraints"
   ]
  },
  {
   "cell_type": "code",
   "execution_count": 2,
   "metadata": {
    "ExecuteTime": {
     "end_time": "2019-05-06T13:30:40.966274Z",
     "start_time": "2019-05-06T15:30:40.946458+02:00"
    },
    "collapsed": false,
    "run_control": {
     "marked": true
    }
   },
   "outputs": [],
   "source": [
    "#CONSTRAINT: Set flux of all export reaction to zero\n",
    "for r_obj in c3_model.reactions:\n",
    "    r_id = r_obj.id\n",
    "    if r_id[0:2] == \"Ex\":\n",
    "        r_obj.bounds = (0.,0.)\n",
    "\n",
    "#CONSTRAINT: Divergent fluxes of export and import reactions\n",
    "set_bounds('Im_CO2', (-inf, inf), c3_model)\n",
    "set_bounds('Im_H2O', (-inf, inf), c3_model)\n",
    "set_bounds('Im_H2S', (0.,0.), c3_model)\n",
    "set_bounds('Im_NH4', (0., 0.), c3_model)\n",
    "set_bounds('Im_NO3', (0., inf), c3_model)\n",
    "set_bounds('Im_Pi', (0., inf), c3_model)\n",
    "set_bounds('Im_SO4', (0., inf), c3_model)\n",
    "set_bounds('Ex_O2', (-inf, inf), c3_model)\n",
    "set_bounds('Ex_Suc', (0., inf), c3_model)\n",
    "set_bounds('Ex_starch', (0., inf), c3_model)\n",
    "set_bounds('Ex_AA', (0., inf), c3_model)\n",
    "\n",
    "#CONSTRAINT: \n",
    "set_bounds('G6PDH_h', (0.,0.), c3_model)\n",
    "set_bounds('PPIF6PK_c', (0,0.), c3_model)\n",
    "\n",
    "#CONSTRAINT: max. photon consumption 1000 μE\n",
    "set_bounds('Im_hnu', (0, 1000), c3_model)\n",
    "\n",
    "#CONSTRAINT: CO2 uptake rate in C3 plants is about 20 μmol/(m2*s)\n",
    "f_CO2 = 20 #[μmol/(m2*s)] \n",
    "set_bounds('Im_CO2', (0, f_CO2), c3_model)"
   ]
  },
  {
   "cell_type": "code",
   "execution_count": 3,
   "metadata": {
    "ExecuteTime": {
     "end_time": "2019-05-06T13:30:40.972013Z",
     "start_time": "2019-05-06T15:30:40.967881+02:00"
    },
    "collapsed": false,
    "run_control": {
     "marked": true
    }
   },
   "outputs": [],
   "source": [
    "#CONSTRAINT: Maintenace cost\n",
    "\n",
    "atp_cost_L3_m = 0.009111187245501572 #Mitochondria-L3-ATP Cost [µmol*s-1*m-2]\n",
    "atp_cost_L3_h = 0.15270708327974447 #Chloroplast-L3-ATP Cost [µmol*s-1*m-2]\n",
    "atp_cost_L3_p = 0.0076669066992201855 #Peroxisome-L3-ATP Cost [µmol*s-1*m-2]\n",
    "atp_cost_L3_c = 0.042683072918274702 #Cytosl/Other-L3-ATP Cost [µmol*s-1*m-2]\n",
    "\n",
    "set_fixed_flux('NGAM_c',atp_cost_L3_c + atp_cost_L3_p, c3_model)\n",
    "set_fixed_flux('NGAM_m',atp_cost_L3_m, c3_model)\n",
    "set_fixed_flux('NGAM_h',atp_cost_L3_h, c3_model)"
   ]
  },
  {
   "cell_type": "code",
   "execution_count": 4,
   "metadata": {
    "ExecuteTime": {
     "end_time": "2019-05-06T13:30:40.984823Z",
     "start_time": "2019-05-06T15:30:40.973821+02:00"
    },
    "collapsed": false
   },
   "outputs": [
    {
     "data": {
      "text/plain": [
       "<optlang.glpk_interface.Constraint at 0x10662cf10>"
      ]
     },
     "execution_count": 4,
     "metadata": {},
     "output_type": "execute_result"
    }
   ],
   "source": [
    "#CONSTRAINT: Output of sucrose : total amino acid and sucrose : starch\n",
    "set_fixed_flux_ratio({'Ex_Suc':2.2,'Ex_AA':1.0}, c3_model)\n",
    "set_fixed_flux_ratio({'Ex_Suc':1.0,'Ex_starch':1.0}, c3_model)"
   ]
  },
  {
   "cell_type": "code",
   "execution_count": 5,
   "metadata": {
    "ExecuteTime": {
     "end_time": "2019-05-06T13:30:40.993672Z",
     "start_time": "2019-05-06T15:30:40.986159+02:00"
    },
    "collapsed": false
   },
   "outputs": [
    {
     "data": {
      "text/plain": [
       "<optlang.glpk_interface.Constraint at 0x10510f750>"
      ]
     },
     "execution_count": 5,
     "metadata": {},
     "output_type": "execute_result"
    }
   ],
   "source": [
    "#CONSTRAINT: oxygenation : decarboxylation = 1 : 10\n",
    "set_fixed_flux_ratio({'RBC_h':10,'RBO_h':1}, c3_model)"
   ]
  },
  {
   "cell_type": "code",
   "execution_count": 6,
   "metadata": {
    "ExecuteTime": {
     "end_time": "2019-05-06T13:30:40.998963Z",
     "start_time": "2019-05-06T15:30:40.995428+02:00"
    },
    "collapsed": true,
    "run_control": {
     "marked": true
    }
   },
   "outputs": [],
   "source": [
    "#CONSTRAINT: fluxes through the chloroplastic NADPH dehydrogenase and plastoquinol oxidase were set to zero \n",
    "#because the contributions of NADPH dehydrogenase (Yamamoto et al., 2011) and plastoquinol oxidase \n",
    "#(Josse et al., 2000) to photosynthesis are thought to be minor.\n",
    "set_bounds('AOX4_h',(0,0), c3_model)\n",
    "set_bounds('iCitDHNADP_h',(0,0), c3_model)"
   ]
  },
  {
   "cell_type": "code",
   "execution_count": 7,
   "metadata": {
    "ExecuteTime": {
     "end_time": "2019-05-06T13:30:41.003571Z",
     "start_time": "2019-05-06T15:30:41.000535+02:00"
    },
    "collapsed": true
   },
   "outputs": [],
   "source": [
    "#CONSTRAINT: NTT is only active at night\n",
    "set_fixed_flux('Tr_NTT',0, c3_model)"
   ]
  },
  {
   "cell_type": "code",
   "execution_count": 8,
   "metadata": {
    "ExecuteTime": {
     "end_time": "2019-05-06T13:30:41.008421Z",
     "start_time": "2019-05-06T15:30:41.005074+02:00"
    },
    "collapsed": true
   },
   "outputs": [],
   "source": [
    "#CONSTRAINT: No uncoupled pyruvate transport\n",
    "set_bounds('Tr_Pyr1',(0,0), c3_model)\n",
    "set_bounds('Tr_Pyr2',(0,0), c3_model)"
   ]
  },
  {
   "cell_type": "markdown",
   "metadata": {
    "run_control": {
     "marked": true
    }
   },
   "source": [
    "## 2. FBA"
   ]
  },
  {
   "cell_type": "code",
   "execution_count": 9,
   "metadata": {
    "ExecuteTime": {
     "end_time": "2019-05-06T13:30:42.349466Z",
     "start_time": "2019-05-06T15:30:41.010328+02:00"
    },
    "collapsed": true
   },
   "outputs": [],
   "source": [
    "#Set FBA solver\n",
    "c3_model.solver = \"glpk\"\n",
    "\n",
    "#Optimize/Maximize sucrose output\n",
    "result_fba_c3 = c3_model.optimize('maximize') #perform FBA\n",
    "Ex_Suc = c3_model.reactions.get_by_id(\"Ex_Suc\")\n",
    "Ex_Suc.objective_coefficient = 1.\n",
    "\n",
    "#Optimize/Minimize total flux\n",
    "if result_fba_c3.status == 'optimal': \n",
    "    result_pfba_c3 = cobra.flux_analysis.parsimonious.pfba(c3_model)\n",
    "\n",
    "#Fetch flux for CO2 uptake\n",
    "flux_CO2 = result_pfba_c3.fluxes['Im_CO2']\n",
    "\n",
    "\n",
    "#Array defining proprtion of CO2 uptake \n",
    "L_CO2 = np.linspace(0,1,21)\n",
    "\n",
    "#Initialize dictionary to store results\n",
    "D_fba = {}\n",
    "\n",
    "#Iterate over proportions of CO2 uptake\n",
    "for v_co2 in L_CO2:\n",
    "    \n",
    "    #Fix upper flux bound for photon uptake\n",
    "    set_bounds('Im_CO2', (0, flux_CO2 * v_co2), c3_model)\n",
    "    \n",
    "    #Optimize/Maximize sucrose output\n",
    "    result_fba_c3 = c3_model.optimize('maximize') #perform FBA\n",
    "    \n",
    "    #Optimize/Minimize total flux\n",
    "    if result_fba_c3.status == 'optimal': # check if feasible\n",
    "        result_pfba_c3  = cobra.flux_analysis.parsimonious.pfba(c3_model) #perform pFBA\n",
    "        D_fba[flux_CO2 * v_co2] = result_pfba_c3.fluxes\n",
    "    else:\n",
    "        D_fba[flux_CO2 * v_co2] = pd.Series(pd.Series( index=[r_obj.id for r_obj in c3_model.reactions], data = [0]*len(c3_model.reactions)))"
   ]
  },
  {
   "cell_type": "markdown",
   "metadata": {
    "ExecuteTime": {
     "end_time": "2018-02-06T17:54:23.611334+01:00",
     "start_time": "2018-02-06T17:54:23.609194"
    },
    "run_control": {
     "marked": true
    }
   },
   "source": [
    "## 4 Figures"
   ]
  },
  {
   "cell_type": "code",
   "execution_count": 10,
   "metadata": {
    "ExecuteTime": {
     "end_time": "2019-05-06T13:30:42.353056Z",
     "start_time": "2019-05-06T15:30:42.350883+02:00"
    },
    "collapsed": true
   },
   "outputs": [],
   "source": [
    "xaxis_title = 'CO2 Uptake [µmol/s/m2]'\n",
    "save_fig = False"
   ]
  },
  {
   "cell_type": "code",
   "execution_count": 11,
   "metadata": {
    "ExecuteTime": {
     "end_time": "2019-05-06T13:30:42.557916Z",
     "start_time": "2019-05-06T15:30:42.354614+02:00"
    },
    "collapsed": false
   },
   "outputs": [
    {
     "data": {
      "application/vnd.plotly.v1+json": {
       "config": {
        "linkText": "Export to plot.ly",
        "plotlyServerURL": "https://plot.ly",
        "showLink": false
       },
       "data": [
        {
         "mode": "lines+markers",
         "name": "Ex_Suc",
         "type": "scatter",
         "uid": "a63c653b-0253-4ac5-a038-5e460a0c6279",
         "x": [
          0,
          0.9999999999999869,
          1.9999999999999738,
          2.999999999999961,
          3.9999999999999476,
          4.999999999999934,
          5.999999999999922,
          6.9999999999999085,
          7.999999999999895,
          8.999999999999883,
          9.999999999999869,
          10.999999999999856,
          11.999999999999844,
          12.99999999999983,
          13.999999999999817,
          14.999999999999803,
          15.99999999999979,
          16.99999999999978,
          17.999999999999766,
          18.99999999999975,
          19.999999999999737
         ],
         "y": [
          0,
          0.038358935016476414,
          0.07671787003295234,
          0.1150768050494289,
          0.1534357400659053,
          0.1917946750823827,
          0.2301536100988578,
          0.26851254511533484,
          0.3068714801318096,
          0.34523041514828706,
          0.38358935016476353,
          0.42194828518124067,
          0.46030722019771686,
          0.4986661552141933,
          0.5370250902306716,
          0.5753840252471465,
          0.613742960263621,
          0.652101895280096,
          0.6904608302965737,
          0.7288197653130483,
          0.7671787003295311
         ]
        },
        {
         "mode": "lines+markers",
         "name": "Ex_AA",
         "type": "scatter",
         "uid": "415e1d33-d0bd-4f8f-8297-21d92590b734",
         "x": [
          0,
          0.9999999999999869,
          1.9999999999999738,
          2.999999999999961,
          3.9999999999999476,
          4.999999999999934,
          5.999999999999922,
          6.9999999999999085,
          7.999999999999895,
          8.999999999999883,
          9.999999999999869,
          10.999999999999856,
          11.999999999999844,
          12.99999999999983,
          13.999999999999817,
          14.999999999999803,
          15.99999999999979,
          16.99999999999978,
          17.999999999999766,
          18.99999999999975,
          19.999999999999737
         ],
         "y": [
          0,
          0.017435879552943824,
          0.034871759105887426,
          0.05230763865883131,
          0.06974351821177513,
          0.0871793977647194,
          0.10461527731766262,
          0.12205115687060673,
          0.13948703642354982,
          0.1569229159764941,
          0.17435879552943795,
          0.1917946750823821,
          0.20923055463532583,
          0.22666643418826965,
          0.24410231374121433,
          0.26153819329415745,
          0.2789740728471004,
          0.2964099524000436,
          0.313845831952988,
          0.331281711505931,
          0.34871759105887773
         ]
        }
       ],
       "layout": {
        "title": {
         "text": "Phloem Export"
        },
        "width": 500,
        "xaxis": {
         "title": {
          "text": "CO2 Uptake [µmol/s/m2]"
         }
        },
        "yaxis": {
         "title": {
          "text": "Flux [µmol/s/m2]"
         }
        }
       }
      },
      "text/html": [
       "<div>\n",
       "        \n",
       "        \n",
       "            <div id=\"b1330bdc-16e0-4726-9795-f4e6542a44c3\" class=\"plotly-graph-div\"></div>\n",
       "            <script type=\"text/javascript\">\n",
       "                require([\"plotly\"], function(Plotly) {\n",
       "                    window.PLOTLYENV=window.PLOTLYENV || {};\n",
       "                    window.PLOTLYENV.BASE_URL='https://plot.ly';\n",
       "                    \n",
       "                if (document.getElementById(\"b1330bdc-16e0-4726-9795-f4e6542a44c3\")) {\n",
       "                    Plotly.newPlot(\n",
       "                        'b1330bdc-16e0-4726-9795-f4e6542a44c3',\n",
       "                        [{\"mode\": \"lines+markers\", \"name\": \"Ex_Suc\", \"type\": \"scatter\", \"uid\": \"8b9674d1-ffb1-4fcb-8283-94fe4467a451\", \"x\": [0.0, 0.9999999999999869, 1.9999999999999738, 2.999999999999961, 3.9999999999999476, 4.999999999999934, 5.999999999999922, 6.9999999999999085, 7.999999999999895, 8.999999999999883, 9.999999999999869, 10.999999999999856, 11.999999999999844, 12.99999999999983, 13.999999999999817, 14.999999999999803, 15.99999999999979, 16.99999999999978, 17.999999999999766, 18.99999999999975, 19.999999999999737], \"y\": [0.0, 0.038358935016476414, 0.07671787003295234, 0.1150768050494289, 0.1534357400659053, 0.1917946750823827, 0.2301536100988578, 0.26851254511533484, 0.3068714801318096, 0.34523041514828706, 0.38358935016476353, 0.42194828518124067, 0.46030722019771686, 0.4986661552141933, 0.5370250902306716, 0.5753840252471465, 0.613742960263621, 0.652101895280096, 0.6904608302965737, 0.7288197653130483, 0.7671787003295311]}, {\"mode\": \"lines+markers\", \"name\": \"Ex_AA\", \"type\": \"scatter\", \"uid\": \"aceb0778-64a4-4be6-b3db-65035a089abd\", \"x\": [0.0, 0.9999999999999869, 1.9999999999999738, 2.999999999999961, 3.9999999999999476, 4.999999999999934, 5.999999999999922, 6.9999999999999085, 7.999999999999895, 8.999999999999883, 9.999999999999869, 10.999999999999856, 11.999999999999844, 12.99999999999983, 13.999999999999817, 14.999999999999803, 15.99999999999979, 16.99999999999978, 17.999999999999766, 18.99999999999975, 19.999999999999737], \"y\": [0.0, 0.017435879552943824, 0.034871759105887426, 0.05230763865883131, 0.06974351821177513, 0.0871793977647194, 0.10461527731766262, 0.12205115687060673, 0.13948703642354982, 0.1569229159764941, 0.17435879552943795, 0.1917946750823821, 0.20923055463532583, 0.22666643418826965, 0.24410231374121433, 0.26153819329415745, 0.2789740728471004, 0.2964099524000436, 0.313845831952988, 0.331281711505931, 0.34871759105887773]}],\n",
       "                        {\"title\": {\"text\": \"Phloem Export\"}, \"width\": 500, \"xaxis\": {\"title\": {\"text\": \"CO2 Uptake [\\u00b5mol/s/m2]\"}}, \"yaxis\": {\"title\": {\"text\": \"Flux [\\u00b5mol/s/m2]\"}}},\n",
       "                        {\"plotlyServerURL\": \"https://plot.ly\", \"linkText\": \"Export to plot.ly\", \"showLink\": false}\n",
       "                    )\n",
       "                };\n",
       "                });\n",
       "            </script>\n",
       "        </div>"
      ]
     },
     "metadata": {},
     "output_type": "display_data"
    }
   ],
   "source": [
    "L_r = ['Ex_Suc','Ex_AA']\n",
    "create_scatter_plot_rxn_c3(D_fba, L_r, 'Phloem Export', xaxis_title, save_fig = save_fig)"
   ]
  },
  {
   "cell_type": "code",
   "execution_count": 12,
   "metadata": {
    "ExecuteTime": {
     "end_time": "2019-05-06T13:30:42.843054Z",
     "start_time": "2019-05-06T15:30:42.559464+02:00"
    },
    "collapsed": false
   },
   "outputs": [
    {
     "data": {
      "application/vnd.plotly.v1+json": {
       "config": {
        "linkText": "Export to plot.ly",
        "plotlyServerURL": "https://plot.ly",
        "showLink": false
       },
       "data": [
        {
         "name": "PSI_h",
         "type": "bar",
         "uid": "7a90a040-e76d-46ee-b67b-3d92582ee6ac",
         "x": [
          0,
          0.9999999999999869,
          1.9999999999999738,
          2.999999999999961,
          3.9999999999999476,
          4.999999999999934,
          5.999999999999922,
          6.9999999999999085,
          7.999999999999895,
          8.999999999999883,
          9.999999999999869,
          10.999999999999856,
          11.999999999999844,
          12.99999999999983,
          13.999999999999817,
          14.999999999999803,
          15.99999999999979,
          16.99999999999978,
          17.999999999999766,
          18.99999999999975,
          19.999999999999737
         ],
         "y": [
          0.16162625830919394,
          4.9290006534447075,
          9.750415185261732,
          14.581725898552738,
          19.413036611843747,
          24.249436564054353,
          29.08601957888924,
          33.9257922999988,
          38.767237385695886,
          43.60868247139333,
          48.45012755709058,
          53.291572642787884,
          58.133017728485115,
          62.97446281418244,
          67.81590789987975,
          72.65735298557695,
          77.49879807127427,
          82.33897278845713,
          87.17785046704843,
          92.01672814563953,
          96.85560582423123
         ]
        },
        {
         "name": "PSII_h",
         "type": "bar",
         "uid": "9357a165-0d9e-480a-b041-1be6a910a9e6",
         "x": [
          0,
          0.9999999999999869,
          1.9999999999999738,
          2.999999999999961,
          3.9999999999999476,
          4.999999999999934,
          5.999999999999922,
          6.9999999999999085,
          7.999999999999895,
          8.999999999999883,
          9.999999999999869,
          10.999999999999856,
          11.999999999999844,
          12.99999999999983,
          13.999999999999817,
          14.999999999999803,
          15.99999999999979,
          16.99999999999978,
          17.999999999999766,
          18.99999999999975,
          19.999999999999737
         ],
         "y": [
          0.035676700117797874,
          4.908315859084323,
          9.750415185261732,
          14.581725898552738,
          19.413036611843747,
          24.249436564054353,
          29.08601957888924,
          33.9257922999988,
          38.767237385695886,
          43.60868247139333,
          48.45012755709058,
          53.291572642787884,
          58.133017728485115,
          62.97446281418244,
          67.81590789987975,
          72.65735298557695,
          77.49879807127427,
          82.33897278845713,
          87.17785046704843,
          92.01672814563953,
          96.85560582423123
         ]
        }
       ],
       "layout": {
        "barmode": "stack",
        "title": {
         "text": "Photon Uptake by Photosystems"
        },
        "width": 500,
        "xaxis": {
         "title": {
          "text": "CO2 Uptake [µmol/s/m2]"
         }
        },
        "yaxis": {
         "title": {
          "text": "Flux [µmol/s/m2]"
         }
        }
       }
      },
      "text/html": [
       "<div>\n",
       "        \n",
       "        \n",
       "            <div id=\"c6631de5-aa43-4eff-9f7f-13043604046c\" class=\"plotly-graph-div\"></div>\n",
       "            <script type=\"text/javascript\">\n",
       "                require([\"plotly\"], function(Plotly) {\n",
       "                    window.PLOTLYENV=window.PLOTLYENV || {};\n",
       "                    window.PLOTLYENV.BASE_URL='https://plot.ly';\n",
       "                    \n",
       "                if (document.getElementById(\"c6631de5-aa43-4eff-9f7f-13043604046c\")) {\n",
       "                    Plotly.newPlot(\n",
       "                        'c6631de5-aa43-4eff-9f7f-13043604046c',\n",
       "                        [{\"name\": \"PSI_h\", \"type\": \"bar\", \"uid\": \"da3b12e0-592e-41e2-9398-c1fe31bb2b7b\", \"x\": [0.0, 0.9999999999999869, 1.9999999999999738, 2.999999999999961, 3.9999999999999476, 4.999999999999934, 5.999999999999922, 6.9999999999999085, 7.999999999999895, 8.999999999999883, 9.999999999999869, 10.999999999999856, 11.999999999999844, 12.99999999999983, 13.999999999999817, 14.999999999999803, 15.99999999999979, 16.99999999999978, 17.999999999999766, 18.99999999999975, 19.999999999999737], \"y\": [0.16162625830919394, 4.9290006534447075, 9.750415185261732, 14.581725898552738, 19.413036611843747, 24.249436564054353, 29.08601957888924, 33.9257922999988, 38.767237385695886, 43.60868247139333, 48.45012755709058, 53.291572642787884, 58.133017728485115, 62.97446281418244, 67.81590789987975, 72.65735298557695, 77.49879807127427, 82.33897278845713, 87.17785046704843, 92.01672814563953, 96.85560582423123]}, {\"name\": \"PSII_h\", \"type\": \"bar\", \"uid\": \"270e8daf-e3a0-4f7f-b32b-2288e73185ce\", \"x\": [0.0, 0.9999999999999869, 1.9999999999999738, 2.999999999999961, 3.9999999999999476, 4.999999999999934, 5.999999999999922, 6.9999999999999085, 7.999999999999895, 8.999999999999883, 9.999999999999869, 10.999999999999856, 11.999999999999844, 12.99999999999983, 13.999999999999817, 14.999999999999803, 15.99999999999979, 16.99999999999978, 17.999999999999766, 18.99999999999975, 19.999999999999737], \"y\": [0.035676700117797874, 4.908315859084323, 9.750415185261732, 14.581725898552738, 19.413036611843747, 24.249436564054353, 29.08601957888924, 33.9257922999988, 38.767237385695886, 43.60868247139333, 48.45012755709058, 53.291572642787884, 58.133017728485115, 62.97446281418244, 67.81590789987975, 72.65735298557695, 77.49879807127427, 82.33897278845713, 87.17785046704843, 92.01672814563953, 96.85560582423123]}],\n",
       "                        {\"barmode\": \"stack\", \"title\": {\"text\": \"Photon Uptake by Photosystems\"}, \"width\": 500, \"xaxis\": {\"title\": {\"text\": \"CO2 Uptake [\\u00b5mol/s/m2]\"}}, \"yaxis\": {\"title\": {\"text\": \"Flux [\\u00b5mol/s/m2]\"}}},\n",
       "                        {\"plotlyServerURL\": \"https://plot.ly\", \"linkText\": \"Export to plot.ly\", \"showLink\": false}\n",
       "                    )\n",
       "                };\n",
       "                });\n",
       "            </script>\n",
       "        </div>"
      ]
     },
     "metadata": {},
     "output_type": "display_data"
    }
   ],
   "source": [
    "L_r = ['PSI_h','PSII_h']\n",
    "create_bar_plot_met_c3(c3_model, D_fba, L_r, 'hnu_h', 'Photon Uptake by Photosystems', xaxis_title, save_fig = save_fig)"
   ]
  },
  {
   "cell_type": "code",
   "execution_count": 13,
   "metadata": {
    "ExecuteTime": {
     "end_time": "2019-05-06T13:30:42.993619Z",
     "start_time": "2019-05-06T15:30:42.844656+02:00"
    },
    "collapsed": false,
    "run_control": {
     "marked": true
    }
   },
   "outputs": [
    {
     "data": {
      "application/vnd.plotly.v1+json": {
       "config": {
        "linkText": "Export to plot.ly",
        "plotlyServerURL": "https://plot.ly",
        "showLink": false
       },
       "data": [
        {
         "mode": "lines+markers",
         "name": "NDH1_h",
         "type": "scatter",
         "uid": "832f174b-90c8-4f65-a6b0-6cc9fe2907fa",
         "x": [
          0,
          0.9999999999999869,
          1.9999999999999738,
          2.999999999999961,
          3.9999999999999476,
          4.999999999999934,
          5.999999999999922,
          6.9999999999999085,
          7.999999999999895,
          8.999999999999883,
          9.999999999999869,
          10.999999999999856,
          11.999999999999844,
          12.99999999999983,
          13.999999999999817,
          14.999999999999803,
          15.99999999999979,
          16.99999999999978,
          17.999999999999766,
          18.99999999999975,
          19.999999999999737
         ],
         "y": [
          0.12594955819139605,
          0.02068479436038473,
          0,
          0,
          0,
          0,
          0,
          0,
          0,
          0,
          0,
          0,
          0,
          0,
          0,
          0,
          0,
          0,
          0,
          0,
          0
         ]
        },
        {
         "mode": "lines+markers",
         "name": "NDH2_h",
         "type": "scatter",
         "uid": "745fc575-a607-4e82-9229-6ab3e62b5828",
         "x": [
          0,
          0.9999999999999869,
          1.9999999999999738,
          2.999999999999961,
          3.9999999999999476,
          4.999999999999934,
          5.999999999999922,
          6.9999999999999085,
          7.999999999999895,
          8.999999999999883,
          9.999999999999869,
          10.999999999999856,
          11.999999999999844,
          12.99999999999983,
          13.999999999999817,
          14.999999999999803,
          15.99999999999979,
          16.99999999999978,
          17.999999999999766,
          18.99999999999975,
          19.999999999999737
         ],
         "y": [
          0.06297477909569803,
          0.010342397180192364,
          0,
          0,
          0,
          0,
          0,
          0,
          0,
          0,
          0,
          0,
          0,
          0,
          0,
          0,
          0,
          0,
          0,
          0,
          0
         ]
        }
       ],
       "layout": {
        "title": {
         "text": "Cyclic Electron Flow"
        },
        "width": 500,
        "xaxis": {
         "title": {
          "text": "CO2 Uptake [µmol/s/m2]"
         }
        },
        "yaxis": {
         "title": {
          "text": "Flux [µmol/s/m2]"
         }
        }
       }
      },
      "text/html": [
       "<div>\n",
       "        \n",
       "        \n",
       "            <div id=\"b59a669d-a39d-436a-97bf-6c0f3b34d9c0\" class=\"plotly-graph-div\"></div>\n",
       "            <script type=\"text/javascript\">\n",
       "                require([\"plotly\"], function(Plotly) {\n",
       "                    window.PLOTLYENV=window.PLOTLYENV || {};\n",
       "                    window.PLOTLYENV.BASE_URL='https://plot.ly';\n",
       "                    \n",
       "                if (document.getElementById(\"b59a669d-a39d-436a-97bf-6c0f3b34d9c0\")) {\n",
       "                    Plotly.newPlot(\n",
       "                        'b59a669d-a39d-436a-97bf-6c0f3b34d9c0',\n",
       "                        [{\"mode\": \"lines+markers\", \"name\": \"NDH1_h\", \"type\": \"scatter\", \"uid\": \"ab5dccc9-e2a2-4084-a722-1d6b194cf26b\", \"x\": [0.0, 0.9999999999999869, 1.9999999999999738, 2.999999999999961, 3.9999999999999476, 4.999999999999934, 5.999999999999922, 6.9999999999999085, 7.999999999999895, 8.999999999999883, 9.999999999999869, 10.999999999999856, 11.999999999999844, 12.99999999999983, 13.999999999999817, 14.999999999999803, 15.99999999999979, 16.99999999999978, 17.999999999999766, 18.99999999999975, 19.999999999999737], \"y\": [0.12594955819139605, 0.02068479436038473, 0.0, 0.0, 0.0, 0.0, 0.0, 0.0, 0.0, 0.0, 0.0, 0.0, 0.0, 0.0, 0.0, 0.0, 0.0, 0.0, 0.0, 0.0, 0.0]}, {\"mode\": \"lines+markers\", \"name\": \"NDH2_h\", \"type\": \"scatter\", \"uid\": \"2d07d8c7-463a-4151-8056-d478b7b500c0\", \"x\": [0.0, 0.9999999999999869, 1.9999999999999738, 2.999999999999961, 3.9999999999999476, 4.999999999999934, 5.999999999999922, 6.9999999999999085, 7.999999999999895, 8.999999999999883, 9.999999999999869, 10.999999999999856, 11.999999999999844, 12.99999999999983, 13.999999999999817, 14.999999999999803, 15.99999999999979, 16.99999999999978, 17.999999999999766, 18.99999999999975, 19.999999999999737], \"y\": [0.06297477909569803, 0.010342397180192364, 0.0, 0.0, 0.0, 0.0, 0.0, 0.0, 0.0, 0.0, 0.0, 0.0, 0.0, 0.0, 0.0, 0.0, 0.0, 0.0, 0.0, 0.0, 0.0]}],\n",
       "                        {\"title\": {\"text\": \"Cyclic Electron Flow\"}, \"width\": 500, \"xaxis\": {\"title\": {\"text\": \"CO2 Uptake [\\u00b5mol/s/m2]\"}}, \"yaxis\": {\"title\": {\"text\": \"Flux [\\u00b5mol/s/m2]\"}}},\n",
       "                        {\"plotlyServerURL\": \"https://plot.ly\", \"linkText\": \"Export to plot.ly\", \"showLink\": false}\n",
       "                    )\n",
       "                };\n",
       "                });\n",
       "            </script>\n",
       "        </div>"
      ]
     },
     "metadata": {},
     "output_type": "display_data"
    }
   ],
   "source": [
    "L_r = ['NDH1_h','NDH2_h']\n",
    "create_scatter_plot_rxn_c3(D_fba, L_r, 'Cyclic Electron Flow', xaxis_title, save_fig = save_fig)"
   ]
  }
 ],
 "metadata": {
  "anaconda-cloud": {},
  "kernelspec": {
   "display_name": "Python [default]",
   "language": "python",
   "name": "python2"
  },
  "language_info": {
   "codemirror_mode": {
    "name": "ipython",
    "version": 2
   },
   "file_extension": ".py",
   "mimetype": "text/x-python",
   "name": "python",
   "nbconvert_exporter": "python",
   "pygments_lexer": "ipython2",
   "version": "2.7.6"
  },
  "latex_envs": {
   "LaTeX_envs_menu_present": true,
   "autoclose": false,
   "autocomplete": true,
   "bibliofile": "biblio.bib",
   "cite_by": "apalike",
   "current_citInitial": 1,
   "eqLabelWithNumbers": true,
   "eqNumInitial": 1,
   "hotkeys": {
    "equation": "Ctrl-E",
    "itemize": "Ctrl-I"
   },
   "labels_anchors": false,
   "latex_user_defs": false,
   "report_style_numbering": false,
   "user_envs_cfg": false
  }
 },
 "nbformat": 4,
 "nbformat_minor": 2
}
