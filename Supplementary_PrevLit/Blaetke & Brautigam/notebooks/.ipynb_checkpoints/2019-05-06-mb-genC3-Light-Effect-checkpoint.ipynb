{
 "cells": [
  {
   "cell_type": "markdown",
   "metadata": {
    "run_control": {
     "marked": true
    }
   },
   "source": [
    "# Effect of the PPFD on C3 metabolism\n"
   ]
  },
  {
   "cell_type": "markdown",
   "metadata": {
    "run_control": {
     "marked": true
    }
   },
   "source": [
    "## 0. Initialization"
   ]
  },
  {
   "cell_type": "code",
   "execution_count": 1,
   "metadata": {
    "ExecuteTime": {
     "end_time": "2019-05-06T13:29:07.934930Z",
     "start_time": "2019-05-06T15:29:06.331885+02:00"
    },
    "code_folding": [],
    "collapsed": false,
    "run_control": {
     "marked": true
    }
   },
   "outputs": [
    {
     "name": "stderr",
     "output_type": "stream",
     "text": [
      "//anaconda/lib/python2.7/site-packages/cryptography/hazmat/primitives/constant_time.py:26 \u001b[1;31mCryptographyDeprecationWarning\u001b[0m: Support for your Python version is deprecated. The next version of cryptography will remove support. Please upgrade to a 2.7.x release that supports hmac.compare_digest as soon as possible.\n"
     ]
    },
    {
     "data": {
      "text/html": [
       "        <script type=\"text/javascript\">\n",
       "        window.PlotlyConfig = {MathJaxConfig: 'local'};\n",
       "        if (window.MathJax) {MathJax.Hub.Config({SVG: {font: \"STIX-Web\"}});}\n",
       "        if (typeof require !== 'undefined') {\n",
       "        require.undef(\"plotly\");\n",
       "        requirejs.config({\n",
       "            paths: {\n",
       "                'plotly': ['https://cdn.plot.ly/plotly-latest.min']\n",
       "            }\n",
       "        });\n",
       "        require(['plotly'], function(Plotly) {\n",
       "            window._Plotly = Plotly;\n",
       "        });\n",
       "        }\n",
       "        </script>\n",
       "        "
      ]
     },
     "metadata": {},
     "output_type": "display_data"
    }
   ],
   "source": [
    "#Import sys\n",
    "import sys \n",
    "sys.path.append(\"../src/\") \n",
    "\n",
    "#Import init for initialisation & loading user-defined functions\n",
    "from init_fba import *\n",
    "\n",
    "#Initialize notebook settings\n",
    "theNotebook = '2019-05-06-mb-genC3-Light-Effect'\n",
    "init_notebook(theNotebook)\n",
    "\n",
    "#load sbml model\n",
    "c3_model = load_sbml_model()\n",
    "\n",
    "#inf  \n",
    "inf = float(1e6) "
   ]
  },
  {
   "cell_type": "markdown",
   "metadata": {
    "run_control": {
     "marked": true
    }
   },
   "source": [
    "## 1. C3 Model"
   ]
  },
  {
   "cell_type": "markdown",
   "metadata": {
    "ExecuteTime": {
     "end_time": "2017-06-20T12:42:07.597174",
     "start_time": "2017-06-20T12:42:07.594879"
    },
    "run_control": {
     "marked": true
    }
   },
   "source": [
    "### 1.1 Constraints"
   ]
  },
  {
   "cell_type": "code",
   "execution_count": 2,
   "metadata": {
    "ExecuteTime": {
     "end_time": "2019-05-06T13:29:07.955181Z",
     "start_time": "2019-05-06T15:29:07.936585+02:00"
    },
    "collapsed": false,
    "run_control": {
     "marked": true
    }
   },
   "outputs": [],
   "source": [
    "#CONSTRAINT: Set flux of all export reaction to zero\n",
    "for r_obj in c3_model.reactions:\n",
    "    r_id = r_obj.id\n",
    "    if r_id[0:2] == \"Ex\":\n",
    "        r_obj.bounds = (0.,0.)\n",
    "\n",
    "#CONSTRAINT: Divergent fluxes of export and import reactions\n",
    "set_bounds('Im_CO2', (-inf, inf), c3_model)\n",
    "set_bounds('Im_H2O', (-inf, inf), c3_model)\n",
    "set_bounds('Im_H2S', (0.,0.), c3_model)\n",
    "set_bounds('Im_NH4', (0., 0.), c3_model)\n",
    "set_bounds('Im_NO3', (0., inf), c3_model)\n",
    "set_bounds('Im_Pi', (0., inf), c3_model)\n",
    "set_bounds('Im_SO4', (0., inf), c3_model)\n",
    "set_bounds('Ex_O2', (-inf, inf), c3_model)\n",
    "set_bounds('Ex_Suc', (0., inf), c3_model)\n",
    "set_bounds('Ex_starch', (0., inf), c3_model)\n",
    "set_bounds('Ex_AA', (0., inf), c3_model)\n",
    "\n",
    "#CONSTRAINT: \n",
    "set_bounds('G6PDH_h', (0.,0.), c3_model)\n",
    "set_bounds('PPIF6PK_c', (0,0.), c3_model)\n",
    "\n",
    "#CONSTRAINT: max. photon consumption 1000 μE\n",
    "set_bounds('Im_hnu', (0, 1000), c3_model)\n",
    "\n",
    "#CONSTRAINT: CO2 uptake rate in C3 plants is about 20 μmol/(m2*s)\n",
    "f_CO2 = 20 #[μmol/(m2*s)] \n",
    "set_bounds('Im_CO2', (0, f_CO2), c3_model)"
   ]
  },
  {
   "cell_type": "code",
   "execution_count": 3,
   "metadata": {
    "ExecuteTime": {
     "end_time": "2019-05-06T13:29:07.961320Z",
     "start_time": "2019-05-06T15:29:07.957162+02:00"
    },
    "code_folding": [],
    "collapsed": false,
    "run_control": {
     "marked": true
    }
   },
   "outputs": [],
   "source": [
    "#CONSTRAINT: Maintenace cost\n",
    "\n",
    "atp_cost_L3_m = 0.009111187245501572 #Mitochondria-L3-ATP Cost [µmol*s-1*m-2]\n",
    "atp_cost_L3_h = 0.15270708327974447 #Chloroplast-L3-ATP Cost [µmol*s-1*m-2]\n",
    "atp_cost_L3_p = 0.0076669066992201855 #Peroxisome-L3-ATP Cost [µmol*s-1*m-2]\n",
    "atp_cost_L3_c = 0.042683072918274702 #Cytosl/Other-L3-ATP Cost [µmol*s-1*m-2]\n",
    "\n",
    "set_fixed_flux('NGAM_c',atp_cost_L3_c + atp_cost_L3_p, c3_model)\n",
    "set_fixed_flux('NGAM_m',atp_cost_L3_m, c3_model)\n",
    "set_fixed_flux('NGAM_h',atp_cost_L3_h, c3_model)"
   ]
  },
  {
   "cell_type": "code",
   "execution_count": 4,
   "metadata": {
    "ExecuteTime": {
     "end_time": "2019-05-06T13:29:07.974530Z",
     "start_time": "2019-05-06T15:29:07.962769+02:00"
    },
    "collapsed": false,
    "run_control": {
     "marked": true
    }
   },
   "outputs": [
    {
     "data": {
      "text/plain": [
       "<optlang.glpk_interface.Constraint at 0x106651850>"
      ]
     },
     "execution_count": 4,
     "metadata": {},
     "output_type": "execute_result"
    }
   ],
   "source": [
    "#CONSTRAINT: Output of sucrose : total amino acid and sucrose : starch\n",
    "set_fixed_flux_ratio({'Ex_Suc':2.2,'Ex_AA':1.0}, c3_model)\n",
    "set_fixed_flux_ratio({'Ex_Suc':1.0,'Ex_starch':1.0}, c3_model)"
   ]
  },
  {
   "cell_type": "code",
   "execution_count": 5,
   "metadata": {
    "ExecuteTime": {
     "end_time": "2019-05-06T13:29:07.983044Z",
     "start_time": "2019-05-06T15:29:07.976008+02:00"
    },
    "collapsed": false,
    "run_control": {
     "marked": true
    }
   },
   "outputs": [
    {
     "data": {
      "text/plain": [
       "<optlang.glpk_interface.Constraint at 0x10510f750>"
      ]
     },
     "execution_count": 5,
     "metadata": {},
     "output_type": "execute_result"
    }
   ],
   "source": [
    "#CONSTRAINT: oxygenation : decarboxylation = 1 : 10\n",
    "set_fixed_flux_ratio({'RBC_h':10,'RBO_h':1}, c3_model)"
   ]
  },
  {
   "cell_type": "code",
   "execution_count": 6,
   "metadata": {
    "ExecuteTime": {
     "end_time": "2019-05-06T13:29:07.988735Z",
     "start_time": "2019-05-06T15:29:07.985023+02:00"
    },
    "collapsed": true,
    "run_control": {
     "marked": true
    }
   },
   "outputs": [],
   "source": [
    "#CONSTRAINT: fluxes through the chloroplastic NADPH dehydrogenase and plastoquinol oxidase were set to zero \n",
    "#because the contributions of NADPH dehydrogenase (Yamamoto et al., 2011) and plastoquinol oxidase \n",
    "#(Josse et al., 2000) to photosynthesis are thought to be minor.\n",
    "set_bounds('AOX4_h',(0,0), c3_model)\n",
    "set_bounds('iCitDHNADP_h',(0,0), c3_model)"
   ]
  },
  {
   "cell_type": "code",
   "execution_count": 7,
   "metadata": {
    "ExecuteTime": {
     "end_time": "2019-05-06T13:29:07.992999Z",
     "start_time": "2019-05-06T15:29:07.990622+02:00"
    },
    "collapsed": true,
    "run_control": {
     "marked": true
    }
   },
   "outputs": [],
   "source": [
    "#CONSTRAINT: NTT is only active at night\n",
    "set_fixed_flux('Tr_NTT',0, c3_model)"
   ]
  },
  {
   "cell_type": "code",
   "execution_count": 8,
   "metadata": {
    "ExecuteTime": {
     "end_time": "2019-05-06T13:29:07.997996Z",
     "start_time": "2019-05-06T15:29:07.994786+02:00"
    },
    "collapsed": true,
    "run_control": {
     "marked": true
    }
   },
   "outputs": [],
   "source": [
    "#CONSTRAINT: No uncoupled pyruvate transport\n",
    "set_bounds('Tr_Pyr1',(0,0), c3_model)\n",
    "set_bounds('Tr_Pyr2',(0,0), c3_model)"
   ]
  },
  {
   "cell_type": "markdown",
   "metadata": {
    "run_control": {
     "marked": true
    }
   },
   "source": [
    "## 2. FBA"
   ]
  },
  {
   "cell_type": "code",
   "execution_count": 9,
   "metadata": {
    "ExecuteTime": {
     "end_time": "2019-05-06T13:29:09.140074Z",
     "start_time": "2019-05-06T15:29:07.999707+02:00"
    },
    "collapsed": false,
    "run_control": {
     "marked": true
    }
   },
   "outputs": [
    {
     "name": "stderr",
     "output_type": "stream",
     "text": [
      "//anaconda/lib/python2.7/site-packages/cobra/util/solver.py:419: UserWarning:\n",
      "\n",
      "solver status is 'infeasible'\n",
      "\n"
     ]
    }
   ],
   "source": [
    "#Set FBA solver\n",
    "c3_model.solver = \"glpk\"\n",
    "\n",
    "#Optimize/Maximize sucrose output\n",
    "result_fba_c3 = c3_model.optimize('maximize') #perform FBA\n",
    "Ex_Suc = c3_model.reactions.get_by_id(\"Ex_Suc\")\n",
    "Ex_Suc.objective_coefficient = 1.\n",
    "\n",
    "#Optimize/Minimize total flux\n",
    "if result_fba_c3.status == 'optimal': \n",
    "    result_pfba_c3 = cobra.flux_analysis.parsimonious.pfba(c3_model)\n",
    "\n",
    "#Fetch flux for photon uptake\n",
    "flux_hnu = result_pfba_c3.fluxes['Im_hnu']\n",
    "\n",
    "#Array defining proprtion of light uptake \n",
    "L_hnu = np.linspace(0,2,21)\n",
    "\n",
    "#Initialize dictionary to store results\n",
    "D_fba = {}\n",
    "\n",
    "#Iterate over proportions of photon uptake\n",
    "for hnu in L_hnu:\n",
    "    \n",
    "    #Fix flux for photon uptake\n",
    "    set_bounds('Im_hnu', (flux_hnu * hnu, flux_hnu * hnu), c3_model)\n",
    "    \n",
    "    #Optimize/Maximize sucrose output\n",
    "    result_fba_c3 = c3_model.optimize('maximize') #perform FBA\n",
    "    \n",
    "    #Optimize/Minimize total flux\n",
    "    if result_fba_c3.status == 'optimal': # check if feasible\n",
    "        result_pfba_c3  = cobra.flux_analysis.parsimonious.pfba(c3_model) #perform pFBA\n",
    "        D_fba[hnu*flux_hnu] = result_pfba_c3.fluxes\n",
    "    else:\n",
    "        D_fba[hnu*flux_hnu] = pd.Series(pd.Series( index=[r_obj.id for r_obj in c3_model.reactions], data = [0]*len(c3_model.reactions)))"
   ]
  },
  {
   "cell_type": "markdown",
   "metadata": {
    "ExecuteTime": {
     "end_time": "2018-02-06T17:54:23.611334+01:00",
     "start_time": "2018-02-06T17:54:23.609194"
    },
    "run_control": {
     "marked": true
    }
   },
   "source": [
    "## 4 Figures"
   ]
  },
  {
   "cell_type": "code",
   "execution_count": 10,
   "metadata": {
    "ExecuteTime": {
     "end_time": "2019-05-06T13:29:09.144063Z",
     "start_time": "2019-05-06T15:29:09.141795+02:00"
    },
    "collapsed": true,
    "run_control": {
     "marked": true
    }
   },
   "outputs": [],
   "source": [
    "xaxis_title = 'PPFD [µE]'\n",
    "save_fig = False"
   ]
  },
  {
   "cell_type": "code",
   "execution_count": 11,
   "metadata": {
    "ExecuteTime": {
     "end_time": "2019-05-06T13:29:09.410345Z",
     "start_time": "2019-05-06T15:29:09.145869+02:00"
    },
    "collapsed": false,
    "run_control": {
     "marked": true
    }
   },
   "outputs": [
    {
     "data": {
      "application/vnd.plotly.v1+json": {
       "config": {
        "linkText": "Export to plot.ly",
        "plotlyServerURL": "https://plot.ly",
        "showLink": false
       },
       "data": [
        {
         "mode": "lines+markers",
         "name": "Ex_Suc",
         "type": "scatter",
         "uid": "4aefa158-2ce4-4507-a285-4331feedefcd",
         "x": [
          0,
          19.37112116484582,
          38.74224232969164,
          58.11336349453747,
          77.48448465938328,
          96.8556058242291,
          116.22672698907493,
          135.59784815392075,
          154.96896931876657,
          174.34009048361239,
          193.7112116484582,
          213.08233281330405,
          232.45345397814987,
          251.82457514299568,
          271.1956963078415,
          290.5668174726873,
          309.93793863753314,
          329.30905980237895,
          348.68018096722477,
          368.0513021320706,
          387.4224232969164
         ],
         "y": [
          0,
          0.07626410540070867,
          0.15322582229672657,
          0.23018753919273197,
          0.30714925608874355,
          0.38411097298475816,
          0.46107268988076516,
          0.5380344067767776,
          0.6149961236727871,
          0.6919578405687987,
          0.7671787003295345,
          0.7671787003295412,
          0.7671787003295385,
          0.7671787003295395,
          0.767178700329541,
          0.7671787003295403,
          0.7671787003295404,
          0.7671787003295388,
          0.7671787003295427,
          0.7671787003295395,
          0.767178700329535
         ]
        },
        {
         "mode": "lines+markers",
         "name": "Ex_AA",
         "type": "scatter",
         "uid": "68f4265c-376a-42bc-ad95-4d819a85441b",
         "x": [
          0,
          19.37112116484582,
          38.74224232969164,
          58.11336349453747,
          77.48448465938328,
          96.8556058242291,
          116.22672698907493,
          135.59784815392075,
          154.96896931876657,
          174.34009048361239,
          193.7112116484582,
          213.08233281330405,
          232.45345397814987,
          251.82457514299568,
          271.1956963078415,
          290.5668174726873,
          309.93793863753314,
          329.30905980237895,
          348.68018096722477,
          368.0513021320706,
          387.4224232969164
         ],
         "y": [
          0,
          0.034665502454867575,
          0.06964810104396661,
          0.10463069963305997,
          0.13961329822215615,
          0.1745958968112537,
          0.2095784954003478,
          0.24456109398944437,
          0.27954369257853956,
          0.31452629116763575,
          0.3487175910588793,
          0.34871759105888234,
          0.3487175910588811,
          0.34871759105888156,
          0.3487175910588823,
          0.3487175910588819,
          0.34871759105888195,
          0.3487175910588813,
          0.348717591058883,
          0.34871759105888156,
          0.3487175910588795
         ]
        }
       ],
       "layout": {
        "title": {
         "text": "Phloem Export"
        },
        "width": 500,
        "xaxis": {
         "title": {
          "text": "PPFD [µE]"
         }
        },
        "yaxis": {
         "title": {
          "text": "Flux [µmol/s/m2]"
         }
        }
       }
      },
      "text/html": [
       "<div>\n",
       "        \n",
       "        \n",
       "            <div id=\"2d665f66-8161-4421-a7a8-c06d84e501b7\" class=\"plotly-graph-div\"></div>\n",
       "            <script type=\"text/javascript\">\n",
       "                require([\"plotly\"], function(Plotly) {\n",
       "                    window.PLOTLYENV=window.PLOTLYENV || {};\n",
       "                    window.PLOTLYENV.BASE_URL='https://plot.ly';\n",
       "                    \n",
       "                if (document.getElementById(\"2d665f66-8161-4421-a7a8-c06d84e501b7\")) {\n",
       "                    Plotly.newPlot(\n",
       "                        '2d665f66-8161-4421-a7a8-c06d84e501b7',\n",
       "                        [{\"mode\": \"lines+markers\", \"name\": \"Ex_Suc\", \"type\": \"scatter\", \"uid\": \"0694ac66-c337-4e25-a647-a61a58ce81e3\", \"x\": [0.0, 19.37112116484582, 38.74224232969164, 58.11336349453747, 77.48448465938328, 96.8556058242291, 116.22672698907493, 135.59784815392075, 154.96896931876657, 174.34009048361239, 193.7112116484582, 213.08233281330405, 232.45345397814987, 251.82457514299568, 271.1956963078415, 290.5668174726873, 309.93793863753314, 329.30905980237895, 348.68018096722477, 368.0513021320706, 387.4224232969164], \"y\": [0, 0.07626410540070867, 0.15322582229672657, 0.23018753919273197, 0.30714925608874355, 0.38411097298475816, 0.46107268988076516, 0.5380344067767776, 0.6149961236727871, 0.6919578405687987, 0.7671787003295345, 0.7671787003295412, 0.7671787003295385, 0.7671787003295395, 0.767178700329541, 0.7671787003295403, 0.7671787003295404, 0.7671787003295388, 0.7671787003295427, 0.7671787003295395, 0.767178700329535]}, {\"mode\": \"lines+markers\", \"name\": \"Ex_AA\", \"type\": \"scatter\", \"uid\": \"c3119751-ef38-404f-b349-95a50888fb51\", \"x\": [0.0, 19.37112116484582, 38.74224232969164, 58.11336349453747, 77.48448465938328, 96.8556058242291, 116.22672698907493, 135.59784815392075, 154.96896931876657, 174.34009048361239, 193.7112116484582, 213.08233281330405, 232.45345397814987, 251.82457514299568, 271.1956963078415, 290.5668174726873, 309.93793863753314, 329.30905980237895, 348.68018096722477, 368.0513021320706, 387.4224232969164], \"y\": [0, 0.034665502454867575, 0.06964810104396661, 0.10463069963305997, 0.13961329822215615, 0.1745958968112537, 0.2095784954003478, 0.24456109398944437, 0.27954369257853956, 0.31452629116763575, 0.3487175910588793, 0.34871759105888234, 0.3487175910588811, 0.34871759105888156, 0.3487175910588823, 0.3487175910588819, 0.34871759105888195, 0.3487175910588813, 0.348717591058883, 0.34871759105888156, 0.3487175910588795]}],\n",
       "                        {\"title\": {\"text\": \"Phloem Export\"}, \"width\": 500, \"xaxis\": {\"title\": {\"text\": \"PPFD [\\u00b5E]\"}}, \"yaxis\": {\"title\": {\"text\": \"Flux [\\u00b5mol/s/m2]\"}}},\n",
       "                        {\"plotlyServerURL\": \"https://plot.ly\", \"linkText\": \"Export to plot.ly\", \"showLink\": false}\n",
       "                    )\n",
       "                };\n",
       "                });\n",
       "            </script>\n",
       "        </div>"
      ]
     },
     "metadata": {},
     "output_type": "display_data"
    }
   ],
   "source": [
    "L_r = ['Ex_Suc','Ex_AA']\n",
    "create_scatter_plot_rxn_c3(D_fba, L_r, 'Phloem Export', xaxis_title, save_fig = save_fig)"
   ]
  },
  {
   "cell_type": "code",
   "execution_count": 12,
   "metadata": {
    "ExecuteTime": {
     "end_time": "2019-05-06T13:29:09.563366Z",
     "start_time": "2019-05-06T15:29:09.411813+02:00"
    },
    "collapsed": false,
    "run_control": {
     "marked": true
    }
   },
   "outputs": [
    {
     "data": {
      "application/vnd.plotly.v1+json": {
       "config": {
        "linkText": "Export to plot.ly",
        "plotlyServerURL": "https://plot.ly",
        "showLink": false
       },
       "data": [
        {
         "mode": "lines+markers",
         "name": "Im_CO2",
         "type": "scatter",
         "uid": "97356bd2-d84c-4d98-9caf-fc0f50456190",
         "x": [
          0,
          19.37112116484582,
          38.74224232969164,
          58.11336349453747,
          77.48448465938328,
          96.8556058242291,
          116.22672698907493,
          135.59784815392075,
          154.96896931876657,
          174.34009048361239,
          193.7112116484582,
          213.08233281330405,
          232.45345397814987,
          251.82457514299568,
          271.1956963078415,
          290.5668174726873,
          309.93793863753314,
          329.30905980237895,
          348.68018096722477,
          368.0513021320706,
          387.4224232969164
         ],
         "y": [
          0,
          1.9881705622940302,
          3.994527539174595,
          6.0008845160549,
          8.007241492935279,
          10.013598469815832,
          12.019955446696182,
          14.026312423576563,
          16.03266940045698,
          18.039026377337393,
          19.999999999999954,
          20,
          20,
          20,
          20,
          20,
          20,
          20,
          20,
          20,
          20
         ]
        }
       ],
       "layout": {
        "title": {
         "text": "CO2 Uptake"
        },
        "width": 500,
        "xaxis": {
         "title": {
          "text": "PPFD [µE]"
         }
        },
        "yaxis": {
         "title": {
          "text": "Flux [µmol/s/m2]"
         }
        }
       }
      },
      "text/html": [
       "<div>\n",
       "        \n",
       "        \n",
       "            <div id=\"49506e54-aa0a-44c6-8fa4-91888c2fcea7\" class=\"plotly-graph-div\"></div>\n",
       "            <script type=\"text/javascript\">\n",
       "                require([\"plotly\"], function(Plotly) {\n",
       "                    window.PLOTLYENV=window.PLOTLYENV || {};\n",
       "                    window.PLOTLYENV.BASE_URL='https://plot.ly';\n",
       "                    \n",
       "                if (document.getElementById(\"49506e54-aa0a-44c6-8fa4-91888c2fcea7\")) {\n",
       "                    Plotly.newPlot(\n",
       "                        '49506e54-aa0a-44c6-8fa4-91888c2fcea7',\n",
       "                        [{\"mode\": \"lines+markers\", \"name\": \"Im_CO2\", \"type\": \"scatter\", \"uid\": \"94a00b8c-a6b8-40ec-acc0-10705a1eebad\", \"x\": [0.0, 19.37112116484582, 38.74224232969164, 58.11336349453747, 77.48448465938328, 96.8556058242291, 116.22672698907493, 135.59784815392075, 154.96896931876657, 174.34009048361239, 193.7112116484582, 213.08233281330405, 232.45345397814987, 251.82457514299568, 271.1956963078415, 290.5668174726873, 309.93793863753314, 329.30905980237895, 348.68018096722477, 368.0513021320706, 387.4224232969164], \"y\": [0, 1.9881705622940302, 3.994527539174595, 6.0008845160549, 8.007241492935279, 10.013598469815832, 12.019955446696182, 14.026312423576563, 16.03266940045698, 18.039026377337393, 19.999999999999954, 20.0, 20.0, 20.0, 20.0, 20.0, 20.0, 20.0, 20.0, 20.0, 20.0]}],\n",
       "                        {\"title\": {\"text\": \"CO2 Uptake\"}, \"width\": 500, \"xaxis\": {\"title\": {\"text\": \"PPFD [\\u00b5E]\"}}, \"yaxis\": {\"title\": {\"text\": \"Flux [\\u00b5mol/s/m2]\"}}},\n",
       "                        {\"plotlyServerURL\": \"https://plot.ly\", \"linkText\": \"Export to plot.ly\", \"showLink\": false}\n",
       "                    )\n",
       "                };\n",
       "                });\n",
       "            </script>\n",
       "        </div>"
      ]
     },
     "metadata": {},
     "output_type": "display_data"
    }
   ],
   "source": [
    "L_r = ['Im_CO2']\n",
    "create_scatter_plot_rxn_c3(D_fba, L_r, 'CO2 Uptake', xaxis_title, save_fig = save_fig)"
   ]
  },
  {
   "cell_type": "code",
   "execution_count": 13,
   "metadata": {
    "ExecuteTime": {
     "end_time": "2019-05-06T13:29:09.801455Z",
     "start_time": "2019-05-06T15:29:09.565029+02:00"
    },
    "collapsed": false
   },
   "outputs": [
    {
     "data": {
      "application/vnd.plotly.v1+json": {
       "config": {
        "linkText": "Export to plot.ly",
        "plotlyServerURL": "https://plot.ly",
        "showLink": false
       },
       "data": [
        {
         "name": "PSI_h",
         "type": "bar",
         "uid": "f4335ee4-3f30-4ec9-aed6-528ca85a1a90",
         "x": [
          0,
          19.37112116484582,
          38.74224232969164,
          58.11336349453747,
          77.48448465938328,
          96.8556058242291,
          116.22672698907493,
          135.59784815392075,
          154.96896931876657,
          174.34009048361239,
          193.7112116484582,
          213.08233281330405,
          232.45345397814987,
          251.82457514299568,
          271.1956963078415,
          290.5668174726873,
          309.93793863753314,
          329.30905980237895,
          348.68018096722477,
          368.0513021320706,
          387.4224232969164
         ],
         "y": [
          0,
          9.68556058242291,
          19.37112116484582,
          29.056681747268733,
          38.74224232969164,
          48.42780291211455,
          58.11336349453747,
          67.79892407696038,
          77.48448465938328,
          87.17004524180619,
          96.8556058242291,
          106.54116640665208,
          116.22672698907493,
          125.91228757149784,
          135.59784815392075,
          145.28340873634366,
          154.96896931876657,
          164.65452990118948,
          174.34009048361239,
          184.0256510660353,
          193.7112116484582
         ]
        },
        {
         "name": "PSII_h",
         "type": "bar",
         "uid": "428716ed-a8af-47bf-8883-ab129af95c80",
         "x": [
          0,
          19.37112116484582,
          38.74224232969164,
          58.11336349453747,
          77.48448465938328,
          96.8556058242291,
          116.22672698907493,
          135.59784815392075,
          154.96896931876657,
          174.34009048361239,
          193.7112116484582,
          213.08233281330405,
          232.45345397814987,
          251.82457514299568,
          271.1956963078415,
          290.5668174726873,
          309.93793863753314,
          329.30905980237895,
          348.68018096722477,
          368.0513021320706,
          387.4224232969164
         ],
         "y": [
          0,
          9.68556058242291,
          19.37112116484582,
          29.056681747268733,
          38.74224232969164,
          48.42780291211455,
          58.11336349453747,
          67.79892407696038,
          77.48448465938328,
          87.17004524180619,
          96.8556058242291,
          106.54116640665197,
          116.22672698907493,
          125.91228757149784,
          135.59784815392075,
          145.28340873634366,
          154.96896931876657,
          164.65452990118948,
          174.34009048361239,
          184.0256510660353,
          193.7112116484582
         ]
        }
       ],
       "layout": {
        "barmode": "stack",
        "title": {
         "text": "Photon Uptake by Photosystems"
        },
        "width": 500,
        "xaxis": {
         "title": {
          "text": "PPFD [µE]"
         }
        },
        "yaxis": {
         "title": {
          "text": "Flux [µmol/s/m2]"
         }
        }
       }
      },
      "text/html": [
       "<div>\n",
       "        \n",
       "        \n",
       "            <div id=\"c0db7224-9488-4983-8215-4688247be39e\" class=\"plotly-graph-div\"></div>\n",
       "            <script type=\"text/javascript\">\n",
       "                require([\"plotly\"], function(Plotly) {\n",
       "                    window.PLOTLYENV=window.PLOTLYENV || {};\n",
       "                    window.PLOTLYENV.BASE_URL='https://plot.ly';\n",
       "                    \n",
       "                if (document.getElementById(\"c0db7224-9488-4983-8215-4688247be39e\")) {\n",
       "                    Plotly.newPlot(\n",
       "                        'c0db7224-9488-4983-8215-4688247be39e',\n",
       "                        [{\"name\": \"PSI_h\", \"type\": \"bar\", \"uid\": \"10829916-bc4d-4f1e-9b4c-73d526bfbbd4\", \"x\": [0.0, 19.37112116484582, 38.74224232969164, 58.11336349453747, 77.48448465938328, 96.8556058242291, 116.22672698907493, 135.59784815392075, 154.96896931876657, 174.34009048361239, 193.7112116484582, 213.08233281330405, 232.45345397814987, 251.82457514299568, 271.1956963078415, 290.5668174726873, 309.93793863753314, 329.30905980237895, 348.68018096722477, 368.0513021320706, 387.4224232969164], \"y\": [0.0, 9.68556058242291, 19.37112116484582, 29.056681747268733, 38.74224232969164, 48.42780291211455, 58.11336349453747, 67.79892407696038, 77.48448465938328, 87.17004524180619, 96.8556058242291, 106.54116640665208, 116.22672698907493, 125.91228757149784, 135.59784815392075, 145.28340873634366, 154.96896931876657, 164.65452990118948, 174.34009048361239, 184.0256510660353, 193.7112116484582]}, {\"name\": \"PSII_h\", \"type\": \"bar\", \"uid\": \"77722389-6aac-43b3-b3de-e1429196a2b0\", \"x\": [0.0, 19.37112116484582, 38.74224232969164, 58.11336349453747, 77.48448465938328, 96.8556058242291, 116.22672698907493, 135.59784815392075, 154.96896931876657, 174.34009048361239, 193.7112116484582, 213.08233281330405, 232.45345397814987, 251.82457514299568, 271.1956963078415, 290.5668174726873, 309.93793863753314, 329.30905980237895, 348.68018096722477, 368.0513021320706, 387.4224232969164], \"y\": [0.0, 9.68556058242291, 19.37112116484582, 29.056681747268733, 38.74224232969164, 48.42780291211455, 58.11336349453747, 67.79892407696038, 77.48448465938328, 87.17004524180619, 96.8556058242291, 106.54116640665197, 116.22672698907493, 125.91228757149784, 135.59784815392075, 145.28340873634366, 154.96896931876657, 164.65452990118948, 174.34009048361239, 184.0256510660353, 193.7112116484582]}],\n",
       "                        {\"barmode\": \"stack\", \"title\": {\"text\": \"Photon Uptake by Photosystems\"}, \"width\": 500, \"xaxis\": {\"title\": {\"text\": \"PPFD [\\u00b5E]\"}}, \"yaxis\": {\"title\": {\"text\": \"Flux [\\u00b5mol/s/m2]\"}}},\n",
       "                        {\"plotlyServerURL\": \"https://plot.ly\", \"linkText\": \"Export to plot.ly\", \"showLink\": false}\n",
       "                    )\n",
       "                };\n",
       "                });\n",
       "            </script>\n",
       "        </div>"
      ]
     },
     "metadata": {},
     "output_type": "display_data"
    }
   ],
   "source": [
    "L_r = ['PSI_h','PSII_h']\n",
    "create_bar_plot_met_c3(c3_model, D_fba, L_r, 'hnu_h', 'Photon Uptake by Photosystems', xaxis_title, save_fig = save_fig)"
   ]
  }
 ],
 "metadata": {
  "anaconda-cloud": {},
  "kernelspec": {
   "display_name": "Python [default]",
   "language": "python",
   "name": "python2"
  },
  "language_info": {
   "codemirror_mode": {
    "name": "ipython",
    "version": 2
   },
   "file_extension": ".py",
   "mimetype": "text/x-python",
   "name": "python",
   "nbconvert_exporter": "python",
   "pygments_lexer": "ipython2",
   "version": "2.7.6"
  },
  "latex_envs": {
   "LaTeX_envs_menu_present": true,
   "autoclose": false,
   "autocomplete": true,
   "bibliofile": "biblio.bib",
   "cite_by": "apalike",
   "current_citInitial": 1,
   "eqLabelWithNumbers": true,
   "eqNumInitial": 1,
   "hotkeys": {
    "equation": "Ctrl-E",
    "itemize": "Ctrl-I"
   },
   "labels_anchors": false,
   "latex_user_defs": false,
   "report_style_numbering": false,
   "user_envs_cfg": false
  }
 },
 "nbformat": 4,
 "nbformat_minor": 2
}
