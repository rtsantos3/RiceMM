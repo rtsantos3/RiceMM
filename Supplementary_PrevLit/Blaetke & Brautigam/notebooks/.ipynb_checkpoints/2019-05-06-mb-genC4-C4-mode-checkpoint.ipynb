{
 "cells": [
  {
   "cell_type": "markdown",
   "metadata": {
    "run_control": {
     "marked": true
    }
   },
   "source": [
    "# C4 GenC4 Model -  Effect of C4 mode on the emergence of the C4 cycle"
   ]
  },
  {
   "cell_type": "markdown",
   "metadata": {
    "run_control": {
     "marked": true
    }
   },
   "source": [
    "## 0. Initialization"
   ]
  },
  {
   "cell_type": "code",
   "execution_count": 1,
   "metadata": {
    "ExecuteTime": {
     "end_time": "2019-05-06T13:54:01.198340Z",
     "start_time": "2019-05-06T15:53:59.059422+02:00"
    },
    "collapsed": false
   },
   "outputs": [
    {
     "name": "stderr",
     "output_type": "stream",
     "text": [
      "//anaconda/lib/python2.7/site-packages/cryptography/hazmat/primitives/constant_time.py:26 \u001b[1;31mCryptographyDeprecationWarning\u001b[0m: Support for your Python version is deprecated. The next version of cryptography will remove support. Please upgrade to a 2.7.x release that supports hmac.compare_digest as soon as possible.\n"
     ]
    },
    {
     "data": {
      "text/html": [
       "        <script type=\"text/javascript\">\n",
       "        window.PlotlyConfig = {MathJaxConfig: 'local'};\n",
       "        if (window.MathJax) {MathJax.Hub.Config({SVG: {font: \"STIX-Web\"}});}\n",
       "        if (typeof require !== 'undefined') {\n",
       "        require.undef(\"plotly\");\n",
       "        requirejs.config({\n",
       "            paths: {\n",
       "                'plotly': ['https://cdn.plot.ly/plotly-latest.min']\n",
       "            }\n",
       "        });\n",
       "        require(['plotly'], function(Plotly) {\n",
       "            window._Plotly = Plotly;\n",
       "        });\n",
       "        }\n",
       "        </script>\n",
       "        "
      ]
     },
     "metadata": {},
     "output_type": "display_data"
    }
   ],
   "source": [
    "#Import sys\n",
    "import sys \n",
    "sys.path.append(\"../src/\") \n",
    "\n",
    "#Import init for initialisation & loading user-defined functions\n",
    "from init_fba import *\n",
    "\n",
    "#Initialize notebook settings\n",
    "theNotebook = '2019-05-06-mb-genC4-Decarb-Enzyme-Effect'\n",
    "init_notebook(theNotebook)\n",
    "\n",
    "#load sbml model\n",
    "c3_model = load_sbml_model()"
   ]
  },
  {
   "cell_type": "markdown",
   "metadata": {
    "run_control": {
     "marked": true
    }
   },
   "source": [
    "## 1. C3 Model"
   ]
  },
  {
   "cell_type": "markdown",
   "metadata": {
    "ExecuteTime": {
     "end_time": "2017-06-20T12:42:07.597174",
     "start_time": "2017-06-20T12:42:07.594879"
    },
    "run_control": {
     "marked": true
    }
   },
   "source": [
    "### 1.1 Constraints"
   ]
  },
  {
   "cell_type": "code",
   "execution_count": 2,
   "metadata": {
    "ExecuteTime": {
     "end_time": "2019-05-06T13:54:01.218997Z",
     "start_time": "2019-05-06T15:54:01.199871+02:00"
    },
    "collapsed": false,
    "run_control": {
     "marked": true
    }
   },
   "outputs": [],
   "source": [
    "#CONSTRAINT: Set flux of all export reaction to zero\n",
    "for r_obj in c3_model.reactions:\n",
    "    r_id = r_obj.id\n",
    "    if r_id[0:2] == \"Ex\":\n",
    "        r_obj.bounds = (0.,0.)\n",
    "\n",
    "#CONSTRAINT: Divergent fluxes of export and import reactions\n",
    "set_bounds('Im_CO2', (-inf, inf), c3_model)\n",
    "set_bounds('Im_H2O', (-inf, inf), c3_model)\n",
    "set_bounds('Im_H2S', (0.,0.), c3_model)\n",
    "set_bounds('Im_NH4', (0., 0.), c3_model)\n",
    "set_bounds('Im_NO3', (0., inf), c3_model)\n",
    "set_bounds('Im_Pi', (0., inf), c3_model)\n",
    "set_bounds('Im_SO4', (0., inf), c3_model)\n",
    "set_bounds('Ex_O2', (-inf, inf), c3_model)\n",
    "set_bounds('Ex_Suc', (0., inf), c3_model)\n",
    "set_bounds('Ex_starch', (0., inf), c3_model)\n",
    "set_bounds('Ex_AA', (0., inf), c3_model)\n",
    "\n",
    "#CONSTRAINT: \n",
    "set_bounds('G6PDH_h', (0.,0.), c3_model)\n",
    "set_bounds('PPIF6PK_c', (0,0.), c3_model)\n",
    "\n",
    "#CONSTRAINT: max. photon consumption auf C4 plants 1000 μE\n",
    "set_bounds('Im_hnu', (0, 1000), c3_model)\n",
    "\n",
    "#CONSTRAINT: CO2 uptake rate uin C4 plants is higher, about 40 μmol/(m2*s)\n",
    "f_CO2 = 40 #[μmol/(m2*s)] \n",
    "set_bounds('Im_CO2', (0, f_CO2), c3_model)"
   ]
  },
  {
   "cell_type": "code",
   "execution_count": 3,
   "metadata": {
    "ExecuteTime": {
     "end_time": "2019-05-06T13:54:01.225924Z",
     "start_time": "2019-05-06T15:54:01.221091+02:00"
    },
    "code_folding": [],
    "collapsed": false,
    "run_control": {
     "marked": false
    }
   },
   "outputs": [],
   "source": [
    "#CONSTRAINT: Maintenace cost\n",
    "\n",
    "atp_cost_L3_m = 0.009111187245501572 #Mitochondria-L3-ATP Cost [µmol*s-1*m-2]\n",
    "atp_cost_L3_h = 0.15270708327974447 #Chloroplast-L3-ATP Cost [µmol*s-1*m-2]\n",
    "atp_cost_L3_p = 0.0076669066992201855 #Peroxisome-L3-ATP Cost [µmol*s-1*m-2]\n",
    "atp_cost_L3_c = 0.042683072918274702 #Cytosl/Other-L3-ATP Cost [µmol*s-1*m-2]\n",
    "\n",
    "set_fixed_flux('NGAM_c',atp_cost_L3_c + atp_cost_L3_p, c3_model)\n",
    "set_fixed_flux('NGAM_m',atp_cost_L3_m, c3_model)\n",
    "set_fixed_flux('NGAM_h',atp_cost_L3_h, c3_model)"
   ]
  },
  {
   "cell_type": "code",
   "execution_count": 4,
   "metadata": {
    "ExecuteTime": {
     "end_time": "2019-05-06T13:54:01.231022Z",
     "start_time": "2019-05-06T15:54:01.227845+02:00"
    },
    "collapsed": false,
    "run_control": {
     "marked": true
    }
   },
   "outputs": [],
   "source": [
    "#CONSTRAINT: fluxes through the chloroplastic NADPH dehydrogenase and plastoquinol oxidase were set to zero \n",
    "#because the contributions of NADPH dehydrogenase (Yamamoto et al., 2011) and plastoquinol oxidase \n",
    "#(Josse et al., 2000) to photosynthesis are thought to be minor.\n",
    "set_bounds('AOX4_h',(0,0), c3_model)\n",
    "set_bounds('iCitDHNADP_h',(0,0), c3_model)"
   ]
  },
  {
   "cell_type": "code",
   "execution_count": 5,
   "metadata": {
    "ExecuteTime": {
     "end_time": "2019-05-06T13:54:01.235883Z",
     "start_time": "2019-05-06T15:54:01.233116+02:00"
    },
    "collapsed": true
   },
   "outputs": [],
   "source": [
    "#CONSTRAINT: NTT is only active at night\n",
    "set_fixed_flux('Tr_NTT',0, c3_model)"
   ]
  },
  {
   "cell_type": "code",
   "execution_count": 6,
   "metadata": {
    "ExecuteTime": {
     "end_time": "2019-05-06T13:54:01.240554Z",
     "start_time": "2019-05-06T15:54:01.237672+02:00"
    },
    "collapsed": true
   },
   "outputs": [],
   "source": [
    "#CONSTRAINT: No uncoupled pyruvate transport\n",
    "set_bounds('Tr_Pyr1',(0,0), c3_model)\n",
    "set_bounds('Tr_Pyr2',(0,0), c3_model)"
   ]
  },
  {
   "cell_type": "markdown",
   "metadata": {
    "run_control": {
     "marked": true
    }
   },
   "source": [
    "## 2. C4 Model"
   ]
  },
  {
   "cell_type": "markdown",
   "metadata": {
    "run_control": {
     "marked": true
    }
   },
   "source": [
    "### 2.1 Compose Model"
   ]
  },
  {
   "cell_type": "markdown",
   "metadata": {
    "ExecuteTime": {
     "end_time": "2018-02-06T17:46:39.521620+01:00",
     "start_time": "2018-02-06T17:46:39.518672"
    },
    "run_control": {
     "marked": true
    }
   },
   "source": [
    "#### 2.1.1 Two copies of genC3 model and exchange reactions"
   ]
  },
  {
   "cell_type": "code",
   "execution_count": 7,
   "metadata": {
    "ExecuteTime": {
     "end_time": "2019-05-06T13:54:02.158392Z",
     "start_time": "2019-05-06T15:54:01.242725+02:00"
    },
    "collapsed": false,
    "hide_input": false,
    "run_control": {
     "marked": true
    }
   },
   "outputs": [],
   "source": [
    "c4_model = cobra.Model('c4_model')\n",
    "\n",
    "cell_types = ['M', 'B']\n",
    "\n",
    "#duplicate metabolites\n",
    "for m in c3_model.metabolites:\n",
    "    for cell in cell_types:\n",
    "        m_dt = cobra.Metabolite('['+cell+']_'+m.id, name = m.formula, compartment = m.compartment)\n",
    "        c4_model.add_metabolites([m_dt])\n",
    "\n",
    "#duplicate reactions\n",
    "for r_c3_obj in c3_model.reactions:\n",
    "    for cell in cell_types:\n",
    "        r_c4_obj = cobra.Reaction('['+cell+']_'+r_c3_obj.id)\n",
    "        r_c4_obj.name = r_c3_obj.name\n",
    "        r_c4_obj.subsystem = r_c3_obj.subsystem\n",
    "        r_c4_obj.bounds = r_c3_obj.bounds\n",
    "        c4_model.add_reaction(r_c4_obj)\n",
    "        r_c4_obj.add_metabolites({'['+cell+']_'+m_c3_obj.id: r_c3_obj.get_coefficient(m_c3_obj) for m_c3_obj in r_c3_obj.metabolites})\n",
    "        \n",
    "        \n",
    "#metabolites excluded from M/BS exchange\n",
    "no_transport = ['NO3','NO2', 'O2','Na', 'H2S', 'SO4',\n",
    "                'H2O','FBP','F26BP','DPGA','H','ACD','AC','M_DASH_THF', '5M_DASH_THF', 'H_DASH_Cys', 'aH_DASH_Cys', 'ORO', 'DHO',\n",
    "                'GABA','A_DASH_Ser','PRPP','AD','THF','DHF','ADN','Mas','CoA','GluP',\n",
    "                'A_DASH_CoA','cellulose1','cellulose2','cellulose3','starch1',\n",
    "                'starch2','starch3','TRXox','TRXrd','Glu_DASH_SeA','T6P','aMet',\n",
    "                'PPi', 'P5C', 'NH4', 'Pi', 'CO2', 'OAA','HCO3', \n",
    "                'UTP', 'UDP', 'UDPG', 'ATP', 'ADP', 'AMP', 'IMP', 'XMP', \n",
    "                'GTP', 'GDP', 'GMP', 'OMP', 'UMP', 'CTP', 'GDP', 'CDP', 'dADP', \n",
    "                'dCDP', 'dGDP', 'dUDP', 'dUTP', 'dUMP', 'dTMP', 'dTDP', 'GTP', \n",
    "                'dATP', 'dCTP', 'dGTP', 'dTTP', 'NAD', 'NADH', 'NADP', 'NADPH']\n",
    "\n",
    "#add M/BS exchange reactions\n",
    "L_r_transport = []\n",
    "for m_c3_obj in c3_model.metabolites:\n",
    "    if m_c3_obj.id[-1:] == 'c' and m_c3_obj.id[:-2] not in no_transport:\n",
    "        r_c4_obj = cobra.Reaction('[MB]_'+m_c3_obj.id)\n",
    "        r_c4_obj.name = '[MB]_'+m_c3_obj.id\n",
    "        r_c4_obj.subsystem = 'Exchange'\n",
    "        r_c4_obj.bounds = (-inf, inf)\n",
    "        c4_model.add_reaction(r_c4_obj)\n",
    "        r_c4_obj.add_metabolites({'[M]_'+m_c3_obj.id: -1,'[B]_'+m_c3_obj.id: 1 })\n",
    "        L_r_transport.append('[MB]_'+m_c3_obj.id)"
   ]
  },
  {
   "cell_type": "markdown",
   "metadata": {
    "ExecuteTime": {
     "end_time": "2018-02-06T17:47:11.482156+01:00",
     "start_time": "2018-02-06T17:47:11.480023"
    },
    "run_control": {
     "marked": true
    }
   },
   "source": [
    "#### 2.1.2 Adaptations for second unconstrained rubisco population in the bundle sheath"
   ]
  },
  {
   "cell_type": "code",
   "execution_count": 8,
   "metadata": {
    "ExecuteTime": {
     "end_time": "2019-05-06T13:54:02.177090Z",
     "start_time": "2019-05-06T15:54:02.159744+02:00"
    },
    "collapsed": false,
    "run_control": {
     "marked": false
    }
   },
   "outputs": [],
   "source": [
    "#CONSTRAINT: Add external CO2 species to bundle sheath\n",
    "#(the original CO2 species is treated as internal CO2)\n",
    "m_list_CO_Ex= ['[B]_CO2_ex_c','[B]_CO2_ex_h']\n",
    "\n",
    "for m_id in m_list_CO_Ex:\n",
    "    m_obj = cobra.Metabolite(m_id)\n",
    "    c4_model.add_metabolites(m_obj)\n",
    "\n",
    "#CONSTRAINT: Copy reactions 'Tr_CO2h', 'RBC_h' and replace internal CO2 with external CO2 in the copied reactions \n",
    "r_list_CO_Ex = ['Tr_CO2h', 'RBC_h']\n",
    "\n",
    "for r_id in r_list_CO_Ex:\n",
    "    r_obj = c4_model.reactions.get_by_id('[B]_'+r_id)\n",
    "    r_obj_Ex = cobra.Reaction(r_obj.id+'_Ex')\n",
    "    r_obj_Ex.name = r_obj.id+'_Ex'\n",
    "    r_obj_Ex.subsystem = r_obj.subsystem\n",
    "    r_obj_Ex.bounds = r_obj.bounds\n",
    "    c4_model.add_reaction(r_obj_Ex)\n",
    "    r_obj_Ex.add_metabolites({m_obj.id if not m_obj.id[:-2] == '[B]_CO2' else '[B]_CO2_ex'+m_obj.id[-2:]: r_obj.get_coefficient(m_obj) \n",
    "                                  for m_obj in r_obj.metabolites})\n",
    "\n",
    "#CONSTRAINT: CO2 exchange between mesophyll and bundle sheat\n",
    "r_c4_obj = cobra.Reaction('[MB]_CO2_c')\n",
    "r_c4_obj.name = '[MB]_CO2_c'\n",
    "r_c4_obj.subsystem = 'Exchange'\n",
    "r_c4_obj.bounds = (-inf, inf)\n",
    "c4_model.add_reaction(r_c4_obj)\n",
    "r_c4_obj.add_metabolites({'[M]_CO2_c': -1,'[B]_CO2_ex_c': 1 })\n",
    "L_r_transport.append('[MB]_CO2_c')"
   ]
  },
  {
   "cell_type": "markdown",
   "metadata": {
    "run_control": {
     "marked": true
    }
   },
   "source": [
    "### 2.3 Constraints"
   ]
  },
  {
   "cell_type": "code",
   "execution_count": 9,
   "metadata": {
    "ExecuteTime": {
     "end_time": "2019-05-06T13:54:02.181082Z",
     "start_time": "2019-05-06T15:54:02.178842+02:00"
    },
    "collapsed": true,
    "run_control": {
     "marked": true
    }
   },
   "outputs": [],
   "source": [
    "#CONSTRAINT: No CO2 uptake in bundle sheat cells due to suberin layer in cell membranes\n",
    "set_fixed_flux('[B]_Im_CO2',0, c4_model)"
   ]
  },
  {
   "cell_type": "code",
   "execution_count": 10,
   "metadata": {
    "ExecuteTime": {
     "end_time": "2019-05-06T13:54:02.202040Z",
     "start_time": "2019-05-06T15:54:02.182895+02:00"
    },
    "collapsed": false,
    "run_control": {
     "marked": true
    }
   },
   "outputs": [
    {
     "data": {
      "text/plain": [
       "<optlang.glpk_interface.Constraint at 0x117b46550>"
      ]
     },
     "execution_count": 10,
     "metadata": {},
     "output_type": "execute_result"
    }
   ],
   "source": [
    "#CONSTRAINT: Output of sucrose : total amino acid and sucrose : starch\n",
    "set_fixed_flux_ratio({'[B]_Ex_Suc':2.2,'[B]_Ex_AA':1.0}, c4_model)\n",
    "set_fixed_flux_ratio({'[B]_Ex_Suc':1.0,'[B]_Ex_starch':1.0}, c4_model)\n",
    "\n",
    "set_fixed_flux_ratio({'[M]_Ex_Suc':2.2,'[M]_Ex_AA':1.0}, c4_model)\n",
    "set_fixed_flux_ratio({'[M]_Ex_Suc':1.0,'[M]_Ex_starch':1.0}, c4_model)"
   ]
  },
  {
   "cell_type": "code",
   "execution_count": 11,
   "metadata": {
    "ExecuteTime": {
     "end_time": "2019-05-06T13:54:02.212806Z",
     "start_time": "2019-05-06T15:54:02.203570+02:00"
    },
    "collapsed": false,
    "run_control": {
     "marked": true
    }
   },
   "outputs": [],
   "source": [
    "#Reaction variables for light uptake\n",
    "B_Im_hnu = c4_model.reactions.get_by_id(\"[B]_Im_hnu\")\n",
    "M_Im_hnu = c4_model.reactions.get_by_id(\"[M]_Im_hnu\")\n",
    "\n",
    "#CONSTRAINT: Total Photon uptake limited to 1000 µE\n",
    "const_hnu_sum = c4_model.problem.Constraint( B_Im_hnu.flux_expression + M_Im_hnu.flux_expression,\n",
    "                                        lb = 0, ub = 1000)\n",
    "\n",
    "c4_model.add_cons_vars(const_hnu_sum)\n",
    "\n",
    "#CONSTRAINT: Total Photon uptake by bundle sheath must be less equal than in mesophyll\n",
    "const_hnu_ratio = c4_model.problem.Constraint( M_Im_hnu.flux_expression - B_Im_hnu.flux_expression,\n",
    "                                        lb = 0, ub = 1000)\n",
    "\n",
    "c4_model.add_cons_vars(const_hnu_ratio)"
   ]
  },
  {
   "cell_type": "code",
   "execution_count": 12,
   "metadata": {
    "ExecuteTime": {
     "end_time": "2019-05-06T13:54:02.223508Z",
     "start_time": "2019-05-06T15:54:02.214392+02:00"
    },
    "collapsed": false
   },
   "outputs": [
    {
     "data": {
      "text/plain": [
       "<optlang.glpk_interface.Constraint at 0x118155390>"
      ]
     },
     "execution_count": 12,
     "metadata": {},
     "output_type": "execute_result"
    }
   ],
   "source": [
    "#CONSTRAINT: oxygenation : carboxylation = 1 : 3\n",
    "set_fixed_flux_ratio({'[B]_RBC_h_Ex':1,'[B]_RBO_h':1},c4_model)\n",
    "set_fixed_flux_ratio({'[M]_RBC_h':1,'[M]_RBO_h':1},c4_model)"
   ]
  },
  {
   "cell_type": "markdown",
   "metadata": {
    "run_control": {
     "marked": true
    }
   },
   "source": [
    "## 3 FBA"
   ]
  },
  {
   "cell_type": "code",
   "execution_count": 13,
   "metadata": {
    "ExecuteTime": {
     "end_time": "2019-05-06T13:54:31.422705Z",
     "start_time": "2019-05-06T15:54:02.225114+02:00"
    },
    "collapsed": false,
    "run_control": {
     "marked": false
    }
   },
   "outputs": [],
   "source": [
    "#Define experiments, here: the three decraboxylation enzymes PEP-CK (in model: [B]_PEPC1_c), NAD-ME (in model: [B]_MalDH2_m) \n",
    "#and NADP-ME (in model: [B]_MalDH4_h)\n",
    "D_exp = {'[B]_PEPC1_c': 'PEP-CK', '[B]_MalDH2_m': 'NAD-ME', '[B]_MalDH4_h': 'NADP-ME'}\n",
    "\n",
    "#Set FBA solver\n",
    "c4_model.solver = \"glpk\"\n",
    "\n",
    "#Initialize dictionaries to store results\n",
    "D_fba = {}\n",
    "D_pfba = {}\n",
    "D_fva = {}\n",
    "D_pfva = {}\n",
    "\n",
    "#Reaction Variables\n",
    "B_Ex_Suc = c4_model.reactions.get_by_id(\"[B]_Ex_Suc\")\n",
    "B_RBO = c4_model.reactions.get_by_id(\"[B]_RBO_h\")\n",
    "M_RBO = c4_model.reactions.get_by_id(\"[M]_RBO_h\")\n",
    "\n",
    "#Set flux reactions related to decraboxylation enzymes to zero \n",
    "for exp in D_exp:\n",
    "    set_fixed_flux(exp,0, c4_model)\n",
    "            \n",
    "#Run every FBA experiment\n",
    "for exp in D_exp:\n",
    "    \n",
    "    #Allow non-zero flux for current decarboxylation enzyme\n",
    "    set_bounds(exp, (0,inf), c4_model)           \n",
    "    \n",
    "    #Optimize/Maximize sucrose output\n",
    "    B_Ex_Suc.objective_coefficient = 1.\n",
    "    c4_model_copy = c4_model.copy()\n",
    "    result_fba = c4_model_copy.optimize('maximize')\n",
    "    del c4_model_copy\n",
    "    c4_model.objective =[]\n",
    "    set_fixed_flux(B_Ex_Suc.id,result_fba.fluxes[B_Ex_Suc.id], c4_model)\n",
    "    \n",
    "    #Optimize/Minimize oxygenation rate by rubisco (set True)\n",
    "    if True:\n",
    "            B_RBO.objective_coefficient = 1.\n",
    "            M_RBO.objective_coefficient = 1.\n",
    "            c4_model_copy = c4_model.copy()\n",
    "            result_fba = c4_model_copy.optimize('minimize')\n",
    "            del c4_model_copy\n",
    "            c4_model.objective =[]\n",
    "            set_fixed_flux(B_RBO.id,result_fba.fluxes[B_RBO.id],c4_model)            \n",
    "            set_fixed_flux(M_RBO.id,result_fba.fluxes[M_RBO.id],c4_model)    \n",
    "\n",
    "    D_fba[exp] = result_fba.fluxes            #store FBA results\n",
    "    \n",
    "    #Optimize/Minimize total flux and perform (p)FVA (set True)\n",
    "    if True: \n",
    "        if result_fba.status == 'optimal':\n",
    "            c4_model_copy = c4_model.copy()\n",
    "            #perform pFBA\n",
    "            result_pfba = cobra.flux_analysis.parsimonious.pfba(c4_model_copy)\n",
    "            D_pfba[exp] = result_pfba.fluxes     \n",
    "            D_pfba[exp]= D_pfba[exp].set_value('total',result_pfba.f)\n",
    "            #perform FVA\n",
    "            result_fva = cobra.flux_analysis.flux_variability_analysis(c4_model_copy)     #perform FVA\n",
    "            D_fva[exp] = result_fva  \n",
    "            #perform pFVA results with 1.5% deviation of pFBA total flux\n",
    "            result_pfva = cobra.flux_analysis.flux_variability_analysis(c4_model_copy,pfba_factor=1.015) \n",
    "            D_pfva[exp] = result_pfva \n",
    "            del c4_model_copy      \n",
    "    \n",
    "    #Reset flux of current decarboxylation enzyme to zero\n",
    "    set_fixed_flux(exp,0, c4_model)           \n",
    "    \n",
    "    #Reset reaction bounds\n",
    "    set_bounds(B_RBO.id,(0,inf),c4_model)\n",
    "    set_bounds(M_RBO.id,(0,inf),c4_model)\n",
    "    set_bounds(B_Ex_Suc.id,(0,inf),c4_model)  "
   ]
  },
  {
   "cell_type": "code",
   "execution_count": 14,
   "metadata": {
    "ExecuteTime": {
     "end_time": "2019-05-06T13:54:32.622095Z",
     "start_time": "2019-05-06T15:54:31.424267+02:00"
    },
    "collapsed": false
   },
   "outputs": [],
   "source": [
    "save_fba_to_excel(c3_model, c4_model, D_pfba, D_exp, theNotebook)\n",
    "save_fva_to_excel(c3_model, c4_model, D_pfva, D_exp, theNotebook)"
   ]
  },
  {
   "cell_type": "code",
   "execution_count": 15,
   "metadata": {
    "ExecuteTime": {
     "end_time": "2019-05-06T13:54:32.627519Z",
     "start_time": "2019-05-06T15:54:32.623446+02:00"
    },
    "collapsed": true
   },
   "outputs": [],
   "source": [
    "for exp, exp_name in D_exp.items():\n",
    "    save_to_json(exp_name, D_pfba[exp], theNotebook)"
   ]
  },
  {
   "cell_type": "markdown",
   "metadata": {
    "ExecuteTime": {
     "end_time": "2018-02-06T17:54:23.611334+01:00",
     "start_time": "2018-02-06T17:54:23.609194"
    },
    "run_control": {
     "marked": true
    }
   },
   "source": [
    "## 4 Figures"
   ]
  },
  {
   "cell_type": "code",
   "execution_count": 16,
   "metadata": {
    "ExecuteTime": {
     "end_time": "2019-05-06T13:54:32.631235Z",
     "start_time": "2019-05-06T15:54:32.629089+02:00"
    },
    "collapsed": true
   },
   "outputs": [],
   "source": [
    "xaxis_title = 'decarboxylation enzyme'\n",
    "save_fig = False"
   ]
  },
  {
   "cell_type": "code",
   "execution_count": 17,
   "metadata": {
    "ExecuteTime": {
     "end_time": "2019-05-06T13:54:32.969880Z",
     "start_time": "2019-05-06T15:54:32.633038+02:00"
    },
    "code_folding": [],
    "collapsed": false
   },
   "outputs": [
    {
     "data": {
      "application/vnd.plotly.v1+json": {
       "config": {
        "linkText": "Export to plot.ly",
        "plotlyServerURL": "https://plot.ly",
        "showLink": false
       },
       "data": [
        {
         "marker": {
          "color": "#1f77b4"
         },
         "name": "Total",
         "type": "bar",
         "uid": "87744802-b9d3-4034-aca6-e291ee927664",
         "x": [
          "NAD-ME",
          "NADP-ME",
          "PEP-CK"
         ],
         "y": [
          2999.1825909204376,
          2707.327934520379,
          2806.725238968831
         ]
        }
       ],
       "layout": {
        "barmode": "stack",
        "height": 400,
        "margin": {
         "b": 100
        },
        "title": {
         "text": "Total Flux"
        },
        "width": 600,
        "xaxis": {
         "tickangle": 0,
         "title": {
          "text": "decarboxylation enzyme"
         }
        },
        "yaxis": {
         "autorange": true,
         "title": {
          "text": "Flux [µmol/s/m2]"
         }
        }
       }
      },
      "text/html": [
       "<div>\n",
       "        \n",
       "        \n",
       "            <div id=\"7ea068e7-dc40-439c-a0a6-c881e4929fa3\" class=\"plotly-graph-div\"></div>\n",
       "            <script type=\"text/javascript\">\n",
       "                require([\"plotly\"], function(Plotly) {\n",
       "                    window.PLOTLYENV=window.PLOTLYENV || {};\n",
       "                    window.PLOTLYENV.BASE_URL='https://plot.ly';\n",
       "                    \n",
       "                if (document.getElementById(\"7ea068e7-dc40-439c-a0a6-c881e4929fa3\")) {\n",
       "                    Plotly.newPlot(\n",
       "                        '7ea068e7-dc40-439c-a0a6-c881e4929fa3',\n",
       "                        [{\"marker\": {\"color\": \"#1f77b4\"}, \"name\": \"Total\", \"type\": \"bar\", \"uid\": \"a1e6c335-d352-4608-abf2-c25afe9ca50c\", \"x\": [\"NAD-ME\", \"NADP-ME\", \"PEP-CK\"], \"y\": [2999.1825909204376, 2707.327934520379, 2806.725238968831]}],\n",
       "                        {\"barmode\": \"stack\", \"height\": 400, \"margin\": {\"b\": 100}, \"title\": {\"text\": \"Total Flux\"}, \"width\": 600, \"xaxis\": {\"tickangle\": 0, \"title\": {\"text\": \"decarboxylation enzyme\"}}, \"yaxis\": {\"autorange\": true, \"title\": {\"text\": \"Flux [\\u00b5mol/s/m2]\"}}},\n",
       "                        {\"plotlyServerURL\": \"https://plot.ly\", \"linkText\": \"Export to plot.ly\", \"showLink\": false}\n",
       "                    )\n",
       "                };\n",
       "                });\n",
       "            </script>\n",
       "        </div>"
      ]
     },
     "metadata": {},
     "output_type": "display_data"
    }
   ],
   "source": [
    "create_bar_plot_rxn(D_pfba, D_exp,\n",
    "                    {'total':'Total',},\n",
    "                    'Total Flux', xaxis_title,\n",
    "                    stacked = True, save_fig=save_fig)"
   ]
  },
  {
   "cell_type": "code",
   "execution_count": 18,
   "metadata": {
    "ExecuteTime": {
     "end_time": "2019-05-06T13:54:33.121799Z",
     "start_time": "2019-05-06T15:54:32.971252+02:00"
    },
    "code_folding": [],
    "collapsed": false
   },
   "outputs": [
    {
     "data": {
      "application/vnd.plotly.v1+json": {
       "config": {
        "linkText": "Export to plot.ly",
        "plotlyServerURL": "https://plot.ly",
        "showLink": false
       },
       "data": [
        {
         "marker": {
          "color": "rgb(8,81,156)"
         },
         "name": "Ex_Suc",
         "type": "bar",
         "uid": "bdaaefea-823a-4116-aaec-a741cbbb90bc",
         "x": [
          "NAD-ME",
          "NADP-ME",
          "PEP-CK"
         ],
         "y": [
          1.53435740065911,
          1.53435740065908,
          1.5343574006585
         ]
        }
       ],
       "layout": {
        "barmode": "stack",
        "height": 400,
        "margin": {
         "b": 100
        },
        "title": {
         "text": "Sucrose Export"
        },
        "width": 600,
        "xaxis": {
         "tickangle": 0,
         "title": {
          "text": "decarboxylation enzyme"
         }
        },
        "yaxis": {
         "autorange": true,
         "title": {
          "text": "Flux [µmol/s/m2]"
         }
        }
       }
      },
      "text/html": [
       "<div>\n",
       "        \n",
       "        \n",
       "            <div id=\"e842bb8c-b9db-4c40-9c75-23a3a2b268a2\" class=\"plotly-graph-div\"></div>\n",
       "            <script type=\"text/javascript\">\n",
       "                require([\"plotly\"], function(Plotly) {\n",
       "                    window.PLOTLYENV=window.PLOTLYENV || {};\n",
       "                    window.PLOTLYENV.BASE_URL='https://plot.ly';\n",
       "                    \n",
       "                if (document.getElementById(\"e842bb8c-b9db-4c40-9c75-23a3a2b268a2\")) {\n",
       "                    Plotly.newPlot(\n",
       "                        'e842bb8c-b9db-4c40-9c75-23a3a2b268a2',\n",
       "                        [{\"marker\": {\"color\": \"rgb(8,81,156)\"}, \"name\": \"Ex_Suc\", \"type\": \"bar\", \"uid\": \"d07ca632-bfac-4e95-bfc0-51e4c9615435\", \"x\": [\"NAD-ME\", \"NADP-ME\", \"PEP-CK\"], \"y\": [1.53435740065911, 1.53435740065908, 1.5343574006585]}],\n",
       "                        {\"barmode\": \"stack\", \"height\": 400, \"margin\": {\"b\": 100}, \"title\": {\"text\": \"Sucrose Export\"}, \"width\": 600, \"xaxis\": {\"tickangle\": 0, \"title\": {\"text\": \"decarboxylation enzyme\"}}, \"yaxis\": {\"autorange\": true, \"title\": {\"text\": \"Flux [\\u00b5mol/s/m2]\"}}},\n",
       "                        {\"plotlyServerURL\": \"https://plot.ly\", \"linkText\": \"Export to plot.ly\", \"showLink\": false}\n",
       "                    )\n",
       "                };\n",
       "                });\n",
       "            </script>\n",
       "        </div>"
      ]
     },
     "metadata": {},
     "output_type": "display_data"
    }
   ],
   "source": [
    "create_bar_plot_rxn(D_pfba, D_exp,\n",
    "                    {'[B]_Ex_Suc':'Ex_Suc',},\n",
    "                    'Sucrose Export', xaxis_title,\n",
    "                    stacked = True, save_fig=save_fig)"
   ]
  },
  {
   "cell_type": "code",
   "execution_count": 19,
   "metadata": {
    "ExecuteTime": {
     "end_time": "2019-05-06T13:54:33.296713Z",
     "start_time": "2019-05-06T15:54:33.123613+02:00"
    },
    "code_folding": [],
    "collapsed": false,
    "run_control": {
     "marked": true
    },
    "scrolled": false
   },
   "outputs": [
    {
     "data": {
      "application/vnd.plotly.v1+json": {
       "config": {
        "linkText": "Export to plot.ly",
        "plotlyServerURL": "https://plot.ly",
        "showLink": false
       },
       "data": [
        {
         "marker": {
          "color": "rgb(8,81,156)"
         },
         "name": "Bundle sheath",
         "type": "bar",
         "uid": "81e37b5a-6f31-435a-8487-498e35a810bf",
         "x": [
          "NAD-ME",
          "NADP-ME",
          "PEP-CK"
         ],
         "y": [
          207.0986208413306,
          207.72027472973866,
          206.48178938405152
         ]
        },
        {
         "marker": {
          "color": "rgb(166,54,3)"
         },
         "name": "Mesophyll",
         "type": "bar",
         "uid": "01eee488-423a-4786-a4e0-dd146670d873",
         "x": [
          "NAD-ME",
          "NADP-ME",
          "PEP-CK"
         ],
         "y": [
          207.0986208413306,
          207.72027472973866,
          206.48178938405152
         ]
        }
       ],
       "layout": {
        "barmode": "stack",
        "height": 400,
        "margin": {
         "b": 100
        },
        "title": {
         "text": "Photon Uptake"
        },
        "width": 600,
        "xaxis": {
         "tickangle": 0,
         "title": {
          "text": "decarboxylation enzyme"
         }
        },
        "yaxis": {
         "autorange": true,
         "title": {
          "text": "Flux [µmol/s/m2]"
         }
        }
       }
      },
      "text/html": [
       "<div>\n",
       "        \n",
       "        \n",
       "            <div id=\"9ac80c43-67e4-4456-8dd5-762c2eed3cc4\" class=\"plotly-graph-div\"></div>\n",
       "            <script type=\"text/javascript\">\n",
       "                require([\"plotly\"], function(Plotly) {\n",
       "                    window.PLOTLYENV=window.PLOTLYENV || {};\n",
       "                    window.PLOTLYENV.BASE_URL='https://plot.ly';\n",
       "                    \n",
       "                if (document.getElementById(\"9ac80c43-67e4-4456-8dd5-762c2eed3cc4\")) {\n",
       "                    Plotly.newPlot(\n",
       "                        '9ac80c43-67e4-4456-8dd5-762c2eed3cc4',\n",
       "                        [{\"marker\": {\"color\": \"rgb(8,81,156)\"}, \"name\": \"Bundle sheath\", \"type\": \"bar\", \"uid\": \"83a19e72-853a-4778-b4e8-893029853623\", \"x\": [\"NAD-ME\", \"NADP-ME\", \"PEP-CK\"], \"y\": [207.0986208413306, 207.72027472973866, 206.48178938405152]}, {\"marker\": {\"color\": \"rgb(166,54,3)\"}, \"name\": \"Mesophyll\", \"type\": \"bar\", \"uid\": \"db37b8c6-e11a-4b0a-af66-c0b4cd03962d\", \"x\": [\"NAD-ME\", \"NADP-ME\", \"PEP-CK\"], \"y\": [207.0986208413306, 207.72027472973866, 206.48178938405152]}],\n",
       "                        {\"barmode\": \"stack\", \"height\": 400, \"margin\": {\"b\": 100}, \"title\": {\"text\": \"Photon Uptake\"}, \"width\": 600, \"xaxis\": {\"tickangle\": 0, \"title\": {\"text\": \"decarboxylation enzyme\"}}, \"yaxis\": {\"autorange\": true, \"title\": {\"text\": \"Flux [\\u00b5mol/s/m2]\"}}},\n",
       "                        {\"plotlyServerURL\": \"https://plot.ly\", \"linkText\": \"Export to plot.ly\", \"showLink\": false}\n",
       "                    )\n",
       "                };\n",
       "                });\n",
       "            </script>\n",
       "        </div>"
      ]
     },
     "metadata": {},
     "output_type": "display_data"
    }
   ],
   "source": [
    "create_bar_plot_rxn(D_pfba, D_exp,\n",
    "                    {'[M]_Im_hnu':'Mesophyll','[B]_Im_hnu': 'Bundle sheath'},\n",
    "                    'Photon Uptake', xaxis_title,\n",
    "                    stacked = True, save_fig=save_fig)"
   ]
  },
  {
   "cell_type": "code",
   "execution_count": 20,
   "metadata": {
    "ExecuteTime": {
     "end_time": "2019-05-06T13:54:33.672231Z",
     "start_time": "2019-05-06T15:54:33.298486+02:00"
    },
    "code_folding": [],
    "collapsed": false,
    "run_control": {
     "marked": true
    }
   },
   "outputs": [
    {
     "data": {
      "application/vnd.plotly.v1+json": {
       "config": {
        "linkText": "Export to plot.ly",
        "plotlyServerURL": "https://plot.ly",
        "showLink": false
       },
       "data": [
        {
         "marker": {
          "color": "rgb(8,81,156)"
         },
         "name": "Bundle sheath",
         "type": "bar",
         "uid": "d0e646ad-8cc7-47f5-8f23-15c537107879",
         "x": [
          "NAD-ME",
          "NADP-ME",
          "PEP-CK"
         ],
         "y": [
          77.46189048207272,
          71.41280647645632,
          77.62400561469794
         ]
        },
        {
         "marker": {
          "color": "rgb(166,54,3)"
         },
         "name": "Mesophyll",
         "type": "bar",
         "uid": "4d20622e-60b4-4dd8-82a8-dd70ea8c9915",
         "x": [
          "NAD-ME",
          "NADP-ME",
          "PEP-CK"
         ],
         "y": [
          93.40369921301007,
          98.01715065854526,
          96.19934547897087
         ]
        }
       ],
       "layout": {
        "barmode": "stack",
        "height": 400,
        "margin": {
         "b": 100
        },
        "title": {
         "text": "Photon Uptake by PSII"
        },
        "width": 600,
        "xaxis": {
         "tickangle": 0,
         "title": {
          "text": "decarboxylation enzyme"
         }
        },
        "yaxis": {
         "autorange": true,
         "title": {
          "text": "Flux [µmol/s/m2]"
         }
        }
       }
      },
      "text/html": [
       "<div>\n",
       "        \n",
       "        \n",
       "            <div id=\"10b988ae-f9d8-42f2-9803-3531247c5c3b\" class=\"plotly-graph-div\"></div>\n",
       "            <script type=\"text/javascript\">\n",
       "                require([\"plotly\"], function(Plotly) {\n",
       "                    window.PLOTLYENV=window.PLOTLYENV || {};\n",
       "                    window.PLOTLYENV.BASE_URL='https://plot.ly';\n",
       "                    \n",
       "                if (document.getElementById(\"10b988ae-f9d8-42f2-9803-3531247c5c3b\")) {\n",
       "                    Plotly.newPlot(\n",
       "                        '10b988ae-f9d8-42f2-9803-3531247c5c3b',\n",
       "                        [{\"marker\": {\"color\": \"rgb(8,81,156)\"}, \"name\": \"Bundle sheath\", \"type\": \"bar\", \"uid\": \"f9fa2fa6-8a80-4d7d-b4c5-0bdeaaf009b1\", \"x\": [\"NAD-ME\", \"NADP-ME\", \"PEP-CK\"], \"y\": [77.46189048207272, 71.41280647645632, 77.62400561469794]}, {\"marker\": {\"color\": \"rgb(166,54,3)\"}, \"name\": \"Mesophyll\", \"type\": \"bar\", \"uid\": \"7f18cb53-5fc1-44ec-907e-f3d6f468e8d1\", \"x\": [\"NAD-ME\", \"NADP-ME\", \"PEP-CK\"], \"y\": [93.40369921301007, 98.01715065854526, 96.19934547897087]}],\n",
       "                        {\"barmode\": \"stack\", \"height\": 400, \"margin\": {\"b\": 100}, \"title\": {\"text\": \"Photon Uptake by PSII\"}, \"width\": 600, \"xaxis\": {\"tickangle\": 0, \"title\": {\"text\": \"decarboxylation enzyme\"}}, \"yaxis\": {\"autorange\": true, \"title\": {\"text\": \"Flux [\\u00b5mol/s/m2]\"}}},\n",
       "                        {\"plotlyServerURL\": \"https://plot.ly\", \"linkText\": \"Export to plot.ly\", \"showLink\": false}\n",
       "                    )\n",
       "                };\n",
       "                });\n",
       "            </script>\n",
       "        </div>"
      ]
     },
     "metadata": {},
     "output_type": "display_data"
    }
   ],
   "source": [
    "create_bar_plot_met(D_pfba, D_exp,\n",
    "                    {'[M]_PSII_h':'Mesophyll','[B]_PSII_h': 'Bundle sheath'},'hnu_h',\n",
    "                    'Photon Uptake by PSII', xaxis_title, c3_model,\n",
    "                    stacked = True, save_fig=save_fig)"
   ]
  },
  {
   "cell_type": "code",
   "execution_count": 21,
   "metadata": {
    "ExecuteTime": {
     "end_time": "2019-05-06T13:54:33.818542Z",
     "start_time": "2019-05-06T15:54:33.673830+02:00"
    },
    "code_folding": [],
    "collapsed": false
   },
   "outputs": [
    {
     "data": {
      "application/vnd.plotly.v1+json": {
       "config": {
        "linkText": "Export to plot.ly",
        "plotlyServerURL": "https://plot.ly",
        "showLink": false
       },
       "data": [
        {
         "marker": {
          "color": "rgb(8,81,156)"
         },
         "name": "Bundle sheath",
         "type": "bar",
         "uid": "bb23423e-6255-4b46-a275-bf36de6dfc8d",
         "x": [
          "NAD-ME",
          "NADP-ME",
          "PEP-CK"
         ],
         "y": [
          129.63673035925785,
          136.30746825328245,
          128.85778376935363
         ]
        },
        {
         "marker": {
          "color": "rgb(166,54,3)"
         },
         "name": "Mesophyll",
         "type": "bar",
         "uid": "059b5404-1805-4983-9d44-1e91a77c5abe",
         "x": [
          "NAD-ME",
          "NADP-ME",
          "PEP-CK"
         ],
         "y": [
          113.69492162832054,
          109.7031240711934,
          110.28244390508063
         ]
        }
       ],
       "layout": {
        "barmode": "stack",
        "height": 400,
        "margin": {
         "b": 100
        },
        "title": {
         "text": "Photon Uptake by PSI"
        },
        "width": 600,
        "xaxis": {
         "tickangle": 0,
         "title": {
          "text": "decarboxylation enzyme"
         }
        },
        "yaxis": {
         "autorange": true,
         "title": {
          "text": "Flux [µmol/s/m2]"
         }
        }
       }
      },
      "text/html": [
       "<div>\n",
       "        \n",
       "        \n",
       "            <div id=\"bd3e48ec-d57a-48fc-8d61-3070023f1118\" class=\"plotly-graph-div\"></div>\n",
       "            <script type=\"text/javascript\">\n",
       "                require([\"plotly\"], function(Plotly) {\n",
       "                    window.PLOTLYENV=window.PLOTLYENV || {};\n",
       "                    window.PLOTLYENV.BASE_URL='https://plot.ly';\n",
       "                    \n",
       "                if (document.getElementById(\"bd3e48ec-d57a-48fc-8d61-3070023f1118\")) {\n",
       "                    Plotly.newPlot(\n",
       "                        'bd3e48ec-d57a-48fc-8d61-3070023f1118',\n",
       "                        [{\"marker\": {\"color\": \"rgb(8,81,156)\"}, \"name\": \"Bundle sheath\", \"type\": \"bar\", \"uid\": \"66883262-7476-451c-8ae9-ae9ab52f1c02\", \"x\": [\"NAD-ME\", \"NADP-ME\", \"PEP-CK\"], \"y\": [129.63673035925785, 136.30746825328245, 128.85778376935363]}, {\"marker\": {\"color\": \"rgb(166,54,3)\"}, \"name\": \"Mesophyll\", \"type\": \"bar\", \"uid\": \"a8129ebc-812d-4dec-865e-48400f9c87b7\", \"x\": [\"NAD-ME\", \"NADP-ME\", \"PEP-CK\"], \"y\": [113.69492162832054, 109.7031240711934, 110.28244390508063]}],\n",
       "                        {\"barmode\": \"stack\", \"height\": 400, \"margin\": {\"b\": 100}, \"title\": {\"text\": \"Photon Uptake by PSI\"}, \"width\": 600, \"xaxis\": {\"tickangle\": 0, \"title\": {\"text\": \"decarboxylation enzyme\"}}, \"yaxis\": {\"autorange\": true, \"title\": {\"text\": \"Flux [\\u00b5mol/s/m2]\"}}},\n",
       "                        {\"plotlyServerURL\": \"https://plot.ly\", \"linkText\": \"Export to plot.ly\", \"showLink\": false}\n",
       "                    )\n",
       "                };\n",
       "                });\n",
       "            </script>\n",
       "        </div>"
      ]
     },
     "metadata": {},
     "output_type": "display_data"
    }
   ],
   "source": [
    "create_bar_plot_met(D_pfba, D_exp,\n",
    "                    {'[M]_PSI_h':'Mesophyll','[B]_PSI_h': 'Bundle sheath'},'hnu_h',\n",
    "                    'Photon Uptake by PSI', xaxis_title, c3_model,\n",
    "                    stacked = True, save_fig=save_fig)"
   ]
  },
  {
   "cell_type": "code",
   "execution_count": 22,
   "metadata": {
    "ExecuteTime": {
     "end_time": "2019-05-06T13:54:33.965996Z",
     "start_time": "2019-05-06T15:54:33.820039+02:00"
    },
    "collapsed": false
   },
   "outputs": [
    {
     "data": {
      "application/vnd.plotly.v1+json": {
       "config": {
        "linkText": "Export to plot.ly",
        "plotlyServerURL": "https://plot.ly",
        "showLink": false
       },
       "data": [
        {
         "marker": {
          "color": "rgb(8,81,156)"
         },
         "name": "Bundle sheath",
         "type": "bar",
         "uid": "84789389-8157-4d22-858b-0c99be63890a",
         "x": [
          "NAD-ME",
          "NADP-ME",
          "PEP-CK"
         ],
         "y": [
          3.236099245026427,
          0.8433783115633737,
          8.46895334159228
         ]
        },
        {
         "marker": {
          "color": "rgb(166,54,3)"
         },
         "name": "Mesophyll",
         "type": "bar",
         "uid": "b81eca00-8c49-491b-bcc5-74974625ea8c",
         "x": [
          "NAD-ME",
          "NADP-ME",
          "PEP-CK"
         ],
         "y": [
          2.4879304709970533,
          2.4879304709970533,
          2.184678705519904
         ]
        }
       ],
       "layout": {
        "barmode": "stack",
        "height": 400,
        "margin": {
         "b": 100
        },
        "title": {
         "text": "ATP Synthesis Mitochondria"
        },
        "width": 600,
        "xaxis": {
         "tickangle": 0,
         "title": {
          "text": "decarboxylation enzyme"
         }
        },
        "yaxis": {
         "autorange": true,
         "title": {
          "text": "Flux [µmol/s/m2]"
         }
        }
       }
      },
      "text/html": [
       "<div>\n",
       "        \n",
       "        \n",
       "            <div id=\"b1f35636-e9ea-433c-959c-ad99276c3444\" class=\"plotly-graph-div\"></div>\n",
       "            <script type=\"text/javascript\">\n",
       "                require([\"plotly\"], function(Plotly) {\n",
       "                    window.PLOTLYENV=window.PLOTLYENV || {};\n",
       "                    window.PLOTLYENV.BASE_URL='https://plot.ly';\n",
       "                    \n",
       "                if (document.getElementById(\"b1f35636-e9ea-433c-959c-ad99276c3444\")) {\n",
       "                    Plotly.newPlot(\n",
       "                        'b1f35636-e9ea-433c-959c-ad99276c3444',\n",
       "                        [{\"marker\": {\"color\": \"rgb(8,81,156)\"}, \"name\": \"Bundle sheath\", \"type\": \"bar\", \"uid\": \"1d8d90c5-3274-4ed8-b7f3-17d872ee3522\", \"x\": [\"NAD-ME\", \"NADP-ME\", \"PEP-CK\"], \"y\": [3.236099245026427, 0.8433783115633737, 8.46895334159228]}, {\"marker\": {\"color\": \"rgb(166,54,3)\"}, \"name\": \"Mesophyll\", \"type\": \"bar\", \"uid\": \"186fdc2a-30a0-422f-9841-f264d1426edf\", \"x\": [\"NAD-ME\", \"NADP-ME\", \"PEP-CK\"], \"y\": [2.4879304709970533, 2.4879304709970533, 2.184678705519904]}],\n",
       "                        {\"barmode\": \"stack\", \"height\": 400, \"margin\": {\"b\": 100}, \"title\": {\"text\": \"ATP Synthesis Mitochondria\"}, \"width\": 600, \"xaxis\": {\"tickangle\": 0, \"title\": {\"text\": \"decarboxylation enzyme\"}}, \"yaxis\": {\"autorange\": true, \"title\": {\"text\": \"Flux [\\u00b5mol/s/m2]\"}}},\n",
       "                        {\"plotlyServerURL\": \"https://plot.ly\", \"linkText\": \"Export to plot.ly\", \"showLink\": false}\n",
       "                    )\n",
       "                };\n",
       "                });\n",
       "            </script>\n",
       "        </div>"
      ]
     },
     "metadata": {},
     "output_type": "display_data"
    }
   ],
   "source": [
    "create_bar_plot_met(D_pfba, D_exp,\n",
    "                    {'[M]_cplx5_m':'Mesophyll','[B]_cplx5_m': 'Bundle sheath'},'ATP_m',\n",
    "                    'ATP Synthesis Mitochondria', xaxis_title, c3_model,\n",
    "                    stacked = True, save_fig=save_fig)"
   ]
  },
  {
   "cell_type": "code",
   "execution_count": 23,
   "metadata": {
    "ExecuteTime": {
     "end_time": "2019-05-06T13:54:34.111414Z",
     "start_time": "2019-05-06T15:54:33.967601+02:00"
    },
    "collapsed": false
   },
   "outputs": [
    {
     "data": {
      "application/vnd.plotly.v1+json": {
       "config": {
        "linkText": "Export to plot.ly",
        "plotlyServerURL": "https://plot.ly",
        "showLink": false
       },
       "data": [
        {
         "marker": {
          "color": "rgb(8,81,156)"
         },
         "name": "Bundle sheath",
         "type": "bar",
         "uid": "14636756-7aee-44f9-b201-22bd797fb1bc",
         "x": [
          "NAD-ME",
          "NADP-ME",
          "PEP-CK"
         ],
         "y": [
          110.2712577387397,
          118.45426663416839,
          109.45178236567916
         ]
        },
        {
         "marker": {
          "color": "rgb(166,54,3)"
         },
         "name": "Mesophyll",
         "type": "bar",
         "uid": "1fd0a8ab-fff9-41c0-ae2d-a38f20d4f7ae",
         "x": [
          "NAD-ME",
          "NADP-ME",
          "PEP-CK"
         ],
         "y": [
          90.34399682506802,
          85.1988364065571,
          86.2326075353379
         ]
        }
       ],
       "layout": {
        "barmode": "stack",
        "height": 400,
        "margin": {
         "b": 100
        },
        "title": {
         "text": "ATP Synthesis Chloroplast"
        },
        "width": 600,
        "xaxis": {
         "tickangle": 0,
         "title": {
          "text": "decarboxylation enzyme"
         }
        },
        "yaxis": {
         "autorange": true,
         "title": {
          "text": "Flux [µmol/s/m2]"
         }
        }
       }
      },
      "text/html": [
       "<div>\n",
       "        \n",
       "        \n",
       "            <div id=\"e24eb5b2-27af-4001-881f-bed55b14aff5\" class=\"plotly-graph-div\"></div>\n",
       "            <script type=\"text/javascript\">\n",
       "                require([\"plotly\"], function(Plotly) {\n",
       "                    window.PLOTLYENV=window.PLOTLYENV || {};\n",
       "                    window.PLOTLYENV.BASE_URL='https://plot.ly';\n",
       "                    \n",
       "                if (document.getElementById(\"e24eb5b2-27af-4001-881f-bed55b14aff5\")) {\n",
       "                    Plotly.newPlot(\n",
       "                        'e24eb5b2-27af-4001-881f-bed55b14aff5',\n",
       "                        [{\"marker\": {\"color\": \"rgb(8,81,156)\"}, \"name\": \"Bundle sheath\", \"type\": \"bar\", \"uid\": \"ad6a522f-434b-41b0-991c-ed243dc1bc05\", \"x\": [\"NAD-ME\", \"NADP-ME\", \"PEP-CK\"], \"y\": [110.2712577387397, 118.45426663416839, 109.45178236567916]}, {\"marker\": {\"color\": \"rgb(166,54,3)\"}, \"name\": \"Mesophyll\", \"type\": \"bar\", \"uid\": \"54454f23-e597-463b-bfb4-05a2506e1562\", \"x\": [\"NAD-ME\", \"NADP-ME\", \"PEP-CK\"], \"y\": [90.34399682506802, 85.1988364065571, 86.2326075353379]}],\n",
       "                        {\"barmode\": \"stack\", \"height\": 400, \"margin\": {\"b\": 100}, \"title\": {\"text\": \"ATP Synthesis Chloroplast\"}, \"width\": 600, \"xaxis\": {\"tickangle\": 0, \"title\": {\"text\": \"decarboxylation enzyme\"}}, \"yaxis\": {\"autorange\": true, \"title\": {\"text\": \"Flux [\\u00b5mol/s/m2]\"}}},\n",
       "                        {\"plotlyServerURL\": \"https://plot.ly\", \"linkText\": \"Export to plot.ly\", \"showLink\": false}\n",
       "                    )\n",
       "                };\n",
       "                });\n",
       "            </script>\n",
       "        </div>"
      ]
     },
     "metadata": {},
     "output_type": "display_data"
    }
   ],
   "source": [
    "create_bar_plot_met(D_pfba, D_exp,\n",
    "                    {'[M]_ATPase_h':'Mesophyll','[B]_ATPase_h': 'Bundle sheath'},'ATP_h',\n",
    "                    'ATP Synthesis Chloroplast', xaxis_title, c3_model,\n",
    "                    stacked = True, save_fig=save_fig)"
   ]
  },
  {
   "cell_type": "code",
   "execution_count": 24,
   "metadata": {
    "ExecuteTime": {
     "end_time": "2019-05-06T13:54:34.273265Z",
     "start_time": "2019-05-06T15:54:34.113002+02:00"
    },
    "code_folding": [],
    "collapsed": false,
    "run_control": {
     "marked": true
    }
   },
   "outputs": [
    {
     "data": {
      "application/vnd.plotly.v1+json": {
       "config": {
        "linkText": "Export to plot.ly",
        "plotlyServerURL": "https://plot.ly",
        "showLink": false
       },
       "data": [
        {
         "marker": {
          "color": "rgb(49,130,189)"
         },
         "name": "Bundle sheat (unconstrained)",
         "type": "bar",
         "uid": "401eea7a-18ff-4581-a4bd-e16e0506fe07",
         "x": [
          "NAD-ME",
          "NADP-ME",
          "PEP-CK"
         ],
         "y": [
          40.17505623071256,
          40.17505623071171,
          40.175056230696406
         ]
        },
        {
         "marker": {
          "color": "rgb(8,81,156)"
         },
         "name": "Bundle sheat (constrained)",
         "type": "bar",
         "uid": "476d868f-66f0-4280-8c62-ef9030bd191e",
         "x": [
          "NAD-ME",
          "NADP-ME",
          "PEP-CK"
         ],
         "y": [
          0,
          6.41534993224754e-16,
          0
         ]
        },
        {
         "marker": {
          "color": "rgb(166,54,3)"
         },
         "name": "Mesophyll (constrained)",
         "type": "bar",
         "uid": "47816d3c-79db-4376-9c39-54c357d889f2",
         "x": [
          "NAD-ME",
          "NADP-ME",
          "PEP-CK"
         ],
         "y": [
          3.217687617565e-14,
          1.14011764316202e-19,
          2.6639644081193896e-18
         ]
        }
       ],
       "layout": {
        "barmode": "stack",
        "height": 400,
        "margin": {
         "b": 100
        },
        "title": {
         "text": "Carboxylation by Rubisco"
        },
        "width": 600,
        "xaxis": {
         "tickangle": 0,
         "title": {
          "text": "decarboxylation enzyme"
         }
        },
        "yaxis": {
         "autorange": true,
         "title": {
          "text": "Flux [µmol/s/m2]"
         }
        }
       }
      },
      "text/html": [
       "<div>\n",
       "        \n",
       "        \n",
       "            <div id=\"7093b943-4056-4e98-afe9-79c97ade029b\" class=\"plotly-graph-div\"></div>\n",
       "            <script type=\"text/javascript\">\n",
       "                require([\"plotly\"], function(Plotly) {\n",
       "                    window.PLOTLYENV=window.PLOTLYENV || {};\n",
       "                    window.PLOTLYENV.BASE_URL='https://plot.ly';\n",
       "                    \n",
       "                if (document.getElementById(\"7093b943-4056-4e98-afe9-79c97ade029b\")) {\n",
       "                    Plotly.newPlot(\n",
       "                        '7093b943-4056-4e98-afe9-79c97ade029b',\n",
       "                        [{\"marker\": {\"color\": \"rgb(49,130,189)\"}, \"name\": \"Bundle sheat (unconstrained)\", \"type\": \"bar\", \"uid\": \"e6e63c12-b29f-4539-9409-effc30b30254\", \"x\": [\"NAD-ME\", \"NADP-ME\", \"PEP-CK\"], \"y\": [40.17505623071256, 40.17505623071171, 40.175056230696406]}, {\"marker\": {\"color\": \"rgb(8,81,156)\"}, \"name\": \"Bundle sheat (constrained)\", \"type\": \"bar\", \"uid\": \"8a162ed8-32e7-4cae-b0bf-18cc15342ce0\", \"x\": [\"NAD-ME\", \"NADP-ME\", \"PEP-CK\"], \"y\": [0.0, 6.41534993224754e-16, 0.0]}, {\"marker\": {\"color\": \"rgb(166,54,3)\"}, \"name\": \"Mesophyll (constrained)\", \"type\": \"bar\", \"uid\": \"ac4d0351-a7ae-46d4-96a6-e89d37dd1d6c\", \"x\": [\"NAD-ME\", \"NADP-ME\", \"PEP-CK\"], \"y\": [3.217687617565e-14, 1.14011764316202e-19, 2.6639644081193896e-18]}],\n",
       "                        {\"barmode\": \"stack\", \"height\": 400, \"margin\": {\"b\": 100}, \"title\": {\"text\": \"Carboxylation by Rubisco\"}, \"width\": 600, \"xaxis\": {\"tickangle\": 0, \"title\": {\"text\": \"decarboxylation enzyme\"}}, \"yaxis\": {\"autorange\": true, \"title\": {\"text\": \"Flux [\\u00b5mol/s/m2]\"}}},\n",
       "                        {\"plotlyServerURL\": \"https://plot.ly\", \"linkText\": \"Export to plot.ly\", \"showLink\": false}\n",
       "                    )\n",
       "                };\n",
       "                });\n",
       "            </script>\n",
       "        </div>"
      ]
     },
     "metadata": {},
     "output_type": "display_data"
    }
   ],
   "source": [
    "create_bar_plot_rxn(D_pfba, D_exp,\n",
    "                    {'[M]_RBC_h':'Mesophyll (constrained)','[B]_RBC_h_Ex':'Bundle sheat (constrained)',\n",
    "                 '[B]_RBC_h': 'Bundle sheat (unconstrained)'},\n",
    "                    'Carboxylation by Rubisco',  xaxis_title,\n",
    "                    stacked = True, save_fig=save_fig)"
   ]
  },
  {
   "cell_type": "code",
   "execution_count": 25,
   "metadata": {
    "ExecuteTime": {
     "end_time": "2019-05-06T13:54:34.590130Z",
     "start_time": "2019-05-06T15:54:34.274856+02:00"
    },
    "collapsed": false,
    "run_control": {
     "marked": true
    }
   },
   "outputs": [
    {
     "data": {
      "application/vnd.plotly.v1+json": {
       "config": {
        "linkText": "Export to plot.ly",
        "plotlyServerURL": "https://plot.ly",
        "showLink": false
       },
       "data": [
        {
         "marker": {
          "color": "rgb(8,81,156)"
         },
         "name": "Bundle sheath",
         "type": "bar",
         "uid": "86da684c-4684-4913-acd3-1d55dcd38050",
         "x": [
          "NAD-ME",
          "NADP-ME",
          "PEP-CK"
         ],
         "y": [
          0,
          0,
          0
         ]
        },
        {
         "marker": {
          "color": "rgb(166,54,3)"
         },
         "name": "Mesophyll",
         "type": "bar",
         "uid": "d2fec740-a99c-43b7-b593-dbdb4c794408",
         "x": [
          "NAD-ME",
          "NADP-ME",
          "PEP-CK"
         ],
         "y": [
          39.98605129635866,
          39.9860512963578,
          39.98605129634257
         ]
        }
       ],
       "layout": {
        "barmode": "stack",
        "height": 400,
        "margin": {
         "b": 100
        },
        "title": {
         "text": "PEPC"
        },
        "width": 600,
        "xaxis": {
         "tickangle": 0,
         "title": {
          "text": "decarboxylation enzyme"
         }
        },
        "yaxis": {
         "autorange": true,
         "title": {
          "text": "Flux [µmol/s/m2]"
         }
        }
       }
      },
      "text/html": [
       "<div>\n",
       "        \n",
       "        \n",
       "            <div id=\"0db1ec9d-196d-44b8-b4df-2d17de988e83\" class=\"plotly-graph-div\"></div>\n",
       "            <script type=\"text/javascript\">\n",
       "                require([\"plotly\"], function(Plotly) {\n",
       "                    window.PLOTLYENV=window.PLOTLYENV || {};\n",
       "                    window.PLOTLYENV.BASE_URL='https://plot.ly';\n",
       "                    \n",
       "                if (document.getElementById(\"0db1ec9d-196d-44b8-b4df-2d17de988e83\")) {\n",
       "                    Plotly.newPlot(\n",
       "                        '0db1ec9d-196d-44b8-b4df-2d17de988e83',\n",
       "                        [{\"marker\": {\"color\": \"rgb(8,81,156)\"}, \"name\": \"Bundle sheath\", \"type\": \"bar\", \"uid\": \"f1921c48-53f8-4377-a3c9-d0cc0f4d823d\", \"x\": [\"NAD-ME\", \"NADP-ME\", \"PEP-CK\"], \"y\": [0.0, 0.0, 0.0]}, {\"marker\": {\"color\": \"rgb(166,54,3)\"}, \"name\": \"Mesophyll\", \"type\": \"bar\", \"uid\": \"d340f994-c6d0-4d7a-82b1-ba3e4bc79e6a\", \"x\": [\"NAD-ME\", \"NADP-ME\", \"PEP-CK\"], \"y\": [39.98605129635866, 39.9860512963578, 39.98605129634257]}],\n",
       "                        {\"barmode\": \"stack\", \"height\": 400, \"margin\": {\"b\": 100}, \"title\": {\"text\": \"PEPC\"}, \"width\": 600, \"xaxis\": {\"tickangle\": 0, \"title\": {\"text\": \"decarboxylation enzyme\"}}, \"yaxis\": {\"autorange\": true, \"title\": {\"text\": \"Flux [\\u00b5mol/s/m2]\"}}},\n",
       "                        {\"plotlyServerURL\": \"https://plot.ly\", \"linkText\": \"Export to plot.ly\", \"showLink\": false}\n",
       "                    )\n",
       "                };\n",
       "                });\n",
       "            </script>\n",
       "        </div>"
      ]
     },
     "metadata": {},
     "output_type": "display_data"
    }
   ],
   "source": [
    "create_bar_plot_rxn(D_pfba, D_exp,\n",
    "                    {'[M]_PEPC2_c': 'Mesophyll', '[B]_PEPC2_c': 'Bundle sheath'},\n",
    "                    'PEPC',  xaxis_title,\n",
    "                     stacked = True, save_fig=save_fig)"
   ]
  },
  {
   "cell_type": "code",
   "execution_count": 26,
   "metadata": {
    "ExecuteTime": {
     "end_time": "2019-05-06T13:54:34.740848Z",
     "start_time": "2019-05-06T15:54:34.591626+02:00"
    },
    "collapsed": false
   },
   "outputs": [
    {
     "data": {
      "application/vnd.plotly.v1+json": {
       "config": {
        "linkText": "Export to plot.ly",
        "plotlyServerURL": "https://plot.ly",
        "showLink": false
       },
       "data": [
        {
         "marker": {
          "color": "rgb(8,81,156)"
         },
         "name": "Bundle sheath",
         "type": "bar",
         "uid": "0aecae6e-17fa-48f8-b726-bd582a1aec1a",
         "x": [
          "NAD-ME",
          "NADP-ME",
          "PEP-CK"
         ],
         "y": [
          0.08508709221836884,
          0.08508709221836719,
          0.08592864663122511
         ]
        },
        {
         "marker": {
          "color": "rgb(166,54,3)"
         },
         "name": "Mesophyll",
         "type": "bar",
         "uid": "7d070049-09ea-46a5-90fe-999b5de47ce1",
         "x": [
          "NAD-ME",
          "NADP-ME",
          "PEP-CK"
         ],
         "y": [
          39.98884103708719,
          39.98884103708627,
          39.98884103707104
         ]
        }
       ],
       "layout": {
        "barmode": "stack",
        "height": 400,
        "margin": {
         "b": 100
        },
        "title": {
         "text": "PyrPiDK"
        },
        "width": 600,
        "xaxis": {
         "tickangle": 0,
         "title": {
          "text": "decarboxylation enzyme"
         }
        },
        "yaxis": {
         "autorange": true,
         "title": {
          "text": "Flux [µmol/s/m2]"
         }
        }
       }
      },
      "text/html": [
       "<div>\n",
       "        \n",
       "        \n",
       "            <div id=\"c3ba5e72-f917-4e36-98fa-3493c4d4cf9d\" class=\"plotly-graph-div\"></div>\n",
       "            <script type=\"text/javascript\">\n",
       "                require([\"plotly\"], function(Plotly) {\n",
       "                    window.PLOTLYENV=window.PLOTLYENV || {};\n",
       "                    window.PLOTLYENV.BASE_URL='https://plot.ly';\n",
       "                    \n",
       "                if (document.getElementById(\"c3ba5e72-f917-4e36-98fa-3493c4d4cf9d\")) {\n",
       "                    Plotly.newPlot(\n",
       "                        'c3ba5e72-f917-4e36-98fa-3493c4d4cf9d',\n",
       "                        [{\"marker\": {\"color\": \"rgb(8,81,156)\"}, \"name\": \"Bundle sheath\", \"type\": \"bar\", \"uid\": \"14d0d152-3f8a-4dd7-b9f2-ca1cb1818424\", \"x\": [\"NAD-ME\", \"NADP-ME\", \"PEP-CK\"], \"y\": [0.08508709221836884, 0.08508709221836719, 0.08592864663122511]}, {\"marker\": {\"color\": \"rgb(166,54,3)\"}, \"name\": \"Mesophyll\", \"type\": \"bar\", \"uid\": \"7f9f1ac5-95d5-4147-8f73-47dcd9ddef03\", \"x\": [\"NAD-ME\", \"NADP-ME\", \"PEP-CK\"], \"y\": [39.98884103708719, 39.98884103708627, 39.98884103707104]}],\n",
       "                        {\"barmode\": \"stack\", \"height\": 400, \"margin\": {\"b\": 100}, \"title\": {\"text\": \"PyrPiDK\"}, \"width\": 600, \"xaxis\": {\"tickangle\": 0, \"title\": {\"text\": \"decarboxylation enzyme\"}}, \"yaxis\": {\"autorange\": true, \"title\": {\"text\": \"Flux [\\u00b5mol/s/m2]\"}}},\n",
       "                        {\"plotlyServerURL\": \"https://plot.ly\", \"linkText\": \"Export to plot.ly\", \"showLink\": false}\n",
       "                    )\n",
       "                };\n",
       "                });\n",
       "            </script>\n",
       "        </div>"
      ]
     },
     "metadata": {},
     "output_type": "display_data"
    }
   ],
   "source": [
    "create_bar_plot_rxn(D_pfba, D_exp,\n",
    "                    {'[M]_PyrPiDK_h': 'Mesophyll', '[B]_PyrPiDK_h': 'Bundle sheath'},\n",
    "                    'PyrPiDK',  xaxis_title,\n",
    "                     stacked = True, save_fig=save_fig)"
   ]
  },
  {
   "cell_type": "code",
   "execution_count": 27,
   "metadata": {
    "ExecuteTime": {
     "end_time": "2019-05-06T13:54:34.894652Z",
     "start_time": "2019-05-06T15:54:34.742370+02:00"
    },
    "collapsed": false
   },
   "outputs": [
    {
     "data": {
      "application/vnd.plotly.v1+json": {
       "config": {
        "linkText": "Export to plot.ly",
        "plotlyServerURL": "https://plot.ly",
        "showLink": false
       },
       "data": [
        {
         "marker": {
          "color": "rgb(8,81,156)"
         },
         "name": "Bundle sheath",
         "type": "bar",
         "uid": "1e943c89-4e6d-4e80-9289-3d1478325186",
         "x": [
          "NAD-ME",
          "NADP-ME",
          "PEP-CK"
         ],
         "y": [
          0,
          0,
          0
         ]
        },
        {
         "marker": {
          "color": "rgb(166,54,3)"
         },
         "name": "Mesophyll",
         "type": "bar",
         "uid": "9cb6265f-6996-4f66-9c8d-83379a60167b",
         "x": [
          "NAD-ME",
          "NADP-ME",
          "PEP-CK"
         ],
         "y": [
          0,
          0,
          0
         ]
        }
       ],
       "layout": {
        "barmode": "stack",
        "height": 400,
        "margin": {
         "b": 100
        },
        "title": {
         "text": "iCitDHNADP_h"
        },
        "width": 600,
        "xaxis": {
         "tickangle": 0,
         "title": {
          "text": "oxygenation : decarboxylation ratio"
         }
        },
        "yaxis": {
         "autorange": true,
         "title": {
          "text": "Flux [µmol/s/m2]"
         }
        }
       }
      },
      "text/html": [
       "<div>\n",
       "        \n",
       "        \n",
       "            <div id=\"eec97372-ab6a-44a3-a270-9fab7c6f871b\" class=\"plotly-graph-div\"></div>\n",
       "            <script type=\"text/javascript\">\n",
       "                require([\"plotly\"], function(Plotly) {\n",
       "                    window.PLOTLYENV=window.PLOTLYENV || {};\n",
       "                    window.PLOTLYENV.BASE_URL='https://plot.ly';\n",
       "                    \n",
       "                if (document.getElementById(\"eec97372-ab6a-44a3-a270-9fab7c6f871b\")) {\n",
       "                    Plotly.newPlot(\n",
       "                        'eec97372-ab6a-44a3-a270-9fab7c6f871b',\n",
       "                        [{\"marker\": {\"color\": \"rgb(8,81,156)\"}, \"name\": \"Bundle sheath\", \"type\": \"bar\", \"uid\": \"9812e752-5e96-4889-af7f-3dc41707054c\", \"x\": [\"NAD-ME\", \"NADP-ME\", \"PEP-CK\"], \"y\": [0.0, 0.0, 0.0]}, {\"marker\": {\"color\": \"rgb(166,54,3)\"}, \"name\": \"Mesophyll\", \"type\": \"bar\", \"uid\": \"fb715c24-9b0c-4dc7-be45-8f68637c2fd6\", \"x\": [\"NAD-ME\", \"NADP-ME\", \"PEP-CK\"], \"y\": [0.0, 0.0, 0.0]}],\n",
       "                        {\"barmode\": \"stack\", \"height\": 400, \"margin\": {\"b\": 100}, \"title\": {\"text\": \"iCitDHNADP_h\"}, \"width\": 600, \"xaxis\": {\"tickangle\": 0, \"title\": {\"text\": \"oxygenation : decarboxylation ratio\"}}, \"yaxis\": {\"autorange\": true, \"title\": {\"text\": \"Flux [\\u00b5mol/s/m2]\"}}},\n",
       "                        {\"plotlyServerURL\": \"https://plot.ly\", \"linkText\": \"Export to plot.ly\", \"showLink\": false}\n",
       "                    )\n",
       "                };\n",
       "                });\n",
       "            </script>\n",
       "        </div>"
      ]
     },
     "metadata": {},
     "output_type": "display_data"
    }
   ],
   "source": [
    "\n",
    "\n",
    "create_bar_plot_rxn(D_fba, D_exp,\n",
    "                    {'[M]_iCitDHNADP_h': 'Mesophyll', '[B]_iCitDHNADP_h': 'Bundle sheath'},\n",
    "                    'iCitDHNADP_h', 'oxygenation : decarboxylation ratio',\n",
    "                     stacked = True, save_fig=save_fig)"
   ]
  },
  {
   "cell_type": "code",
   "execution_count": 28,
   "metadata": {
    "ExecuteTime": {
     "end_time": "2019-05-06T13:54:35.040313Z",
     "start_time": "2019-05-06T15:54:34.896383+02:00"
    },
    "collapsed": false
   },
   "outputs": [
    {
     "data": {
      "application/vnd.plotly.v1+json": {
       "config": {
        "linkText": "Export to plot.ly",
        "plotlyServerURL": "https://plot.ly",
        "showLink": false
       },
       "data": [
        {
         "marker": {
          "color": "rgb(8,81,156)"
         },
         "name": "Bundle sheath",
         "type": "bar",
         "uid": "c8db47a4-ddc8-47ef-850b-7e866b29d44a",
         "x": [
          "NAD-ME",
          "NADP-ME",
          "PEP-CK"
         ],
         "y": [
          0,
          0,
          0
         ]
        },
        {
         "marker": {
          "color": "rgb(166,54,3)"
         },
         "name": "Mesophyll",
         "type": "bar",
         "uid": "23962813-5ff7-4a59-8664-749956b42fe7",
         "x": [
          "NAD-ME",
          "NADP-ME",
          "PEP-CK"
         ],
         "y": [
          0,
          0,
          0
         ]
        }
       ],
       "layout": {
        "barmode": "stack",
        "height": 400,
        "margin": {
         "b": 100
        },
        "title": {
         "text": "AOX4_h"
        },
        "width": 600,
        "xaxis": {
         "tickangle": 0,
         "title": {
          "text": "oxygenation : decarboxylation ratio"
         }
        },
        "yaxis": {
         "autorange": true,
         "title": {
          "text": "Flux [µmol/s/m2]"
         }
        }
       }
      },
      "text/html": [
       "<div>\n",
       "        \n",
       "        \n",
       "            <div id=\"d7e17c21-87ad-4c76-9ed8-c30f3645d3f8\" class=\"plotly-graph-div\"></div>\n",
       "            <script type=\"text/javascript\">\n",
       "                require([\"plotly\"], function(Plotly) {\n",
       "                    window.PLOTLYENV=window.PLOTLYENV || {};\n",
       "                    window.PLOTLYENV.BASE_URL='https://plot.ly';\n",
       "                    \n",
       "                if (document.getElementById(\"d7e17c21-87ad-4c76-9ed8-c30f3645d3f8\")) {\n",
       "                    Plotly.newPlot(\n",
       "                        'd7e17c21-87ad-4c76-9ed8-c30f3645d3f8',\n",
       "                        [{\"marker\": {\"color\": \"rgb(8,81,156)\"}, \"name\": \"Bundle sheath\", \"type\": \"bar\", \"uid\": \"0a8ba154-3804-4148-a90f-acceb093528b\", \"x\": [\"NAD-ME\", \"NADP-ME\", \"PEP-CK\"], \"y\": [0.0, 0.0, 0.0]}, {\"marker\": {\"color\": \"rgb(166,54,3)\"}, \"name\": \"Mesophyll\", \"type\": \"bar\", \"uid\": \"ac94d7c8-936a-4ff2-b051-5324ab133c47\", \"x\": [\"NAD-ME\", \"NADP-ME\", \"PEP-CK\"], \"y\": [0.0, 0.0, 0.0]}],\n",
       "                        {\"barmode\": \"stack\", \"height\": 400, \"margin\": {\"b\": 100}, \"title\": {\"text\": \"AOX4_h\"}, \"width\": 600, \"xaxis\": {\"tickangle\": 0, \"title\": {\"text\": \"oxygenation : decarboxylation ratio\"}}, \"yaxis\": {\"autorange\": true, \"title\": {\"text\": \"Flux [\\u00b5mol/s/m2]\"}}},\n",
       "                        {\"plotlyServerURL\": \"https://plot.ly\", \"linkText\": \"Export to plot.ly\", \"showLink\": false}\n",
       "                    )\n",
       "                };\n",
       "                });\n",
       "            </script>\n",
       "        </div>"
      ]
     },
     "metadata": {},
     "output_type": "display_data"
    }
   ],
   "source": [
    "\n",
    "\n",
    "create_bar_plot_rxn(D_fba, D_exp,\n",
    "                    {'[M]_AOX4_h': 'Mesophyll', '[B]_AOX4_h': 'Bundle sheath'},\n",
    "                    'AOX4_h', 'oxygenation : decarboxylation ratio',\n",
    "                     stacked = True, save_fig=save_fig)"
   ]
  },
  {
   "cell_type": "code",
   "execution_count": null,
   "metadata": {
    "ExecuteTime": {
     "start_time": "2019-05-06T13:54:00.428Z"
    },
    "collapsed": false,
    "hide_input": false,
    "run_control": {
     "marked": true
    },
    "scrolled": false
   },
   "outputs": [
    {
     "data": {
      "application/vnd.plotly.v1+json": {
       "config": {
        "linkText": "Export to plot.ly",
        "plotlyServerURL": "https://plot.ly",
        "showLink": false
       },
       "data": [
        {
         "marker": {
          "color": "rgb(106,61,154)"
         },
         "name": "[B]_6PGDHNADP_h",
         "type": "bar",
         "uid": "31841a57-74f5-41cc-8ffc-7f30fc4927e8",
         "x": [
          "NAD-ME",
          "NADP-ME",
          "PEP-CK"
         ],
         "y": [
          0,
          0,
          0
         ]
        },
        {
         "marker": {
          "color": "rgb(227,26,28)"
         },
         "name": "[B]_6PGDHNAD_h",
         "type": "bar",
         "uid": "21c74c09-bfbb-4fa6-a180-95b895f68b05",
         "x": [
          "NAD-ME",
          "NADP-ME",
          "PEP-CK"
         ],
         "y": [
          0,
          0,
          0
         ]
        },
        {
         "marker": {
          "color": "rgb(178,223,138)"
         },
         "name": "[B]_AGNDA_h",
         "type": "bar",
         "uid": "55a55e09-d854-4fb5-8ea8-c201f6d0d1ac",
         "x": [
          "NAD-ME",
          "NADP-ME",
          "PEP-CK"
         ],
         "y": [
          0.007671787003295551,
          0.007671787003295401,
          0.00767178700329228
         ]
        },
        {
         "marker": {
          "color": "rgb(255,127,0)"
         },
         "name": "[B]_AGNDH_h",
         "type": "bar",
         "uid": "219ea671-7b03-4b14-8253-5c865ecc6bef",
         "x": [
          "NAD-ME",
          "NADP-ME",
          "PEP-CK"
         ],
         "y": [
          0.004184611092706664,
          0.004184611092706582,
          0.0041846110927049995
         ]
        },
        {
         "marker": {
          "color": "rgb(253,191,111)"
         },
         "name": "[B]_ALS1_h",
         "type": "bar",
         "uid": "e7b55e6a-79bc-4585-9970-614893790091",
         "x": [
          "NAD-ME",
          "NADP-ME",
          "PEP-CK"
         ],
         "y": [
          0.03347688874165332,
          0.033476888741652666,
          0.03347688874164
         ]
        },
        {
         "marker": {
          "color": "rgb(202,178,214)"
         },
         "name": "[B]_DAPDC_h",
         "type": "bar",
         "uid": "8a485808-550f-4c41-aacd-4a7c92f1f6a4",
         "x": [
          "NAD-ME",
          "NADP-ME",
          "PEP-CK"
         ],
         "y": [
          0.012553833278119993,
          0.012553833278119746,
          0.012553833278115002
         ]
        },
        {
         "marker": {
          "color": "rgb(51,160,44)"
         },
         "name": "[B]_IPODC_h",
         "type": "bar",
         "uid": "a52fbdb9-0977-4485-b094-e1bff526704e",
         "x": [
          "NAD-ME",
          "NADP-ME",
          "PEP-CK"
         ],
         "y": [
          0.008369222185413328,
          0.008369222185413167,
          0.00836922218541
         ]
        },
        {
         "marker": {
          "color": "rgb(31,120,180)"
         },
         "name": "[B]_IndGPS_h",
         "type": "bar",
         "uid": "c09e8325-f51c-4ec9-a5d7-f6bbc3acefc6",
         "x": [
          "NAD-ME",
          "NADP-ME",
          "PEP-CK"
         ],
         "y": [
          0.006276916639059996,
          0.006276916639059873,
          0.0062769166390575
         ]
        },
        {
         "marker": {
          "color": "rgb(166,206,227)"
         },
         "name": "[B]_MalDH4_h",
         "type": "bar",
         "uid": "5040cae5-eabf-43ed-97d0-c5213783f082",
         "x": [
          "NAD-ME",
          "NADP-ME",
          "PEP-CK"
         ],
         "y": [
          0,
          39.45390825240194,
          0
         ]
        },
        {
         "marker": {
          "color": "rgb(251,154,153)"
         },
         "name": "[B]_iCitDHNADP_h",
         "type": "bar",
         "uid": "fadc1b0c-bc30-4fe8-b538-cd171c479248",
         "x": [
          "NAD-ME",
          "NADP-ME",
          "PEP-CK"
         ],
         "y": [
          0,
          0,
          0
         ]
        }
       ],
       "layout": {
        "barmode": "stack",
        "height": 400,
        "margin": {
         "b": 100
        },
        "title": {
         "text": "CO2 Production Bundesheat (chloroplast)"
        },
        "width": 600,
        "xaxis": {
         "tickangle": 0,
         "title": {
          "text": "decarboxylation enzyme"
         }
        },
        "yaxis": {
         "autorange": true,
         "title": {
          "text": "Flux [µmol/s/m2]"
         }
        }
       }
      },
      "text/html": [
       "<div>\n",
       "        \n",
       "        \n",
       "            <div id=\"906df40f-75f5-40c8-af90-88add9f66399\" class=\"plotly-graph-div\"></div>\n",
       "            <script type=\"text/javascript\">\n",
       "                require([\"plotly\"], function(Plotly) {\n",
       "                    window.PLOTLYENV=window.PLOTLYENV || {};\n",
       "                    window.PLOTLYENV.BASE_URL='https://plot.ly';\n",
       "                    \n",
       "                if (document.getElementById(\"906df40f-75f5-40c8-af90-88add9f66399\")) {\n",
       "                    Plotly.newPlot(\n",
       "                        '906df40f-75f5-40c8-af90-88add9f66399',\n",
       "                        [{\"marker\": {\"color\": \"rgb(106,61,154)\"}, \"name\": \"[B]_6PGDHNADP_h\", \"type\": \"bar\", \"uid\": \"c7735118-a4b5-41f9-8a12-7b6735e5e72b\", \"x\": [\"NAD-ME\", \"NADP-ME\", \"PEP-CK\"], \"y\": [0.0, 0.0, 0.0]}, {\"marker\": {\"color\": \"rgb(227,26,28)\"}, \"name\": \"[B]_6PGDHNAD_h\", \"type\": \"bar\", \"uid\": \"f7a3fd40-93c8-4669-a2b9-d1f33fce6262\", \"x\": [\"NAD-ME\", \"NADP-ME\", \"PEP-CK\"], \"y\": [0.0, 0.0, 0.0]}, {\"marker\": {\"color\": \"rgb(178,223,138)\"}, \"name\": \"[B]_AGNDA_h\", \"type\": \"bar\", \"uid\": \"5e25bab3-51c6-40be-86e4-124a7dcafe3e\", \"x\": [\"NAD-ME\", \"NADP-ME\", \"PEP-CK\"], \"y\": [0.007671787003295551, 0.007671787003295401, 0.00767178700329228]}, {\"marker\": {\"color\": \"rgb(255,127,0)\"}, \"name\": \"[B]_AGNDH_h\", \"type\": \"bar\", \"uid\": \"9f3d8721-e893-4e4a-ac22-82871e5fe80c\", \"x\": [\"NAD-ME\", \"NADP-ME\", \"PEP-CK\"], \"y\": [0.004184611092706664, 0.004184611092706582, 0.0041846110927049995]}, {\"marker\": {\"color\": \"rgb(253,191,111)\"}, \"name\": \"[B]_ALS1_h\", \"type\": \"bar\", \"uid\": \"3ec85aa6-e8c4-44dc-95d8-52c484cc027c\", \"x\": [\"NAD-ME\", \"NADP-ME\", \"PEP-CK\"], \"y\": [0.03347688874165332, 0.033476888741652666, 0.03347688874164]}, {\"marker\": {\"color\": \"rgb(202,178,214)\"}, \"name\": \"[B]_DAPDC_h\", \"type\": \"bar\", \"uid\": \"22cd188e-64a3-4632-bc58-d0b4ed1194f9\", \"x\": [\"NAD-ME\", \"NADP-ME\", \"PEP-CK\"], \"y\": [0.012553833278119993, 0.012553833278119746, 0.012553833278115002]}, {\"marker\": {\"color\": \"rgb(51,160,44)\"}, \"name\": \"[B]_IPODC_h\", \"type\": \"bar\", \"uid\": \"87ac8115-1e33-480c-8a32-8a09b3bf709d\", \"x\": [\"NAD-ME\", \"NADP-ME\", \"PEP-CK\"], \"y\": [0.008369222185413328, 0.008369222185413167, 0.00836922218541]}, {\"marker\": {\"color\": \"rgb(31,120,180)\"}, \"name\": \"[B]_IndGPS_h\", \"type\": \"bar\", \"uid\": \"603d98c7-0cd9-4e3e-bc5e-b3f18ca5243b\", \"x\": [\"NAD-ME\", \"NADP-ME\", \"PEP-CK\"], \"y\": [0.006276916639059996, 0.006276916639059873, 0.0062769166390575]}, {\"marker\": {\"color\": \"rgb(166,206,227)\"}, \"name\": \"[B]_MalDH4_h\", \"type\": \"bar\", \"uid\": \"675a33cf-e42e-4e5f-af81-99887e0dfc46\", \"x\": [\"NAD-ME\", \"NADP-ME\", \"PEP-CK\"], \"y\": [0.0, 39.45390825240194, 0.0]}, {\"marker\": {\"color\": \"rgb(251,154,153)\"}, \"name\": \"[B]_iCitDHNADP_h\", \"type\": \"bar\", \"uid\": \"a2c01476-5b14-41c0-8781-0089a4cc7b68\", \"x\": [\"NAD-ME\", \"NADP-ME\", \"PEP-CK\"], \"y\": [0.0, 0.0, 0.0]}],\n",
       "                        {\"barmode\": \"stack\", \"height\": 400, \"margin\": {\"b\": 100}, \"title\": {\"text\": \"CO2 Production Bundesheat (chloroplast)\"}, \"width\": 600, \"xaxis\": {\"tickangle\": 0, \"title\": {\"text\": \"decarboxylation enzyme\"}}, \"yaxis\": {\"autorange\": true, \"title\": {\"text\": \"Flux [\\u00b5mol/s/m2]\"}}},\n",
       "                        {\"plotlyServerURL\": \"https://plot.ly\", \"linkText\": \"Export to plot.ly\", \"showLink\": false}\n",
       "                    )\n",
       "                };\n",
       "                });\n",
       "            </script>\n",
       "        </div>"
      ]
     },
     "metadata": {},
     "output_type": "display_data"
    },
    {
     "data": {
      "application/vnd.plotly.v1+json": {
       "config": {
        "linkText": "Export to plot.ly",
        "plotlyServerURL": "https://plot.ly",
        "showLink": false
       },
       "data": [
        {
         "marker": {
          "color": "rgb(166,206,227)"
         },
         "name": "[B]_GluDC_c",
         "type": "bar",
         "uid": "6fdec383-87bb-4c71-a13f-be2c306041d1",
         "x": [
          "NAD-ME",
          "NADP-ME",
          "PEP-CK"
         ],
         "y": [
          0,
          0,
          0
         ]
        },
        {
         "marker": {
          "color": "rgb(31,120,180)"
         },
         "name": "[B]_OMPDC_c",
         "type": "bar",
         "uid": "cb030c55-1d5b-4c6c-bbe1-a6efe69fdf3e",
         "x": [
          "NAD-ME",
          "NADP-ME",
          "PEP-CK"
         ],
         "y": [
          0,
          5.028536119255213e-17,
          0
         ]
        },
        {
         "marker": {
          "color": "rgb(251,154,153)"
         },
         "name": "[B]_PEPC1_c",
         "type": "bar",
         "uid": "e507dba2-500a-4c9f-8f38-9473e08b7272",
         "x": [
          "NAD-ME",
          "NADP-ME",
          "PEP-CK"
         ],
         "y": [
          0,
          0,
          39.453908252386924
         ]
        },
        {
         "marker": {
          "color": "rgb(51,160,44)"
         },
         "name": "[B]_iCitDHNADP_c",
         "type": "bar",
         "uid": "6835433d-379c-477d-be2d-e7ec556d6ce8",
         "x": [
          "NAD-ME",
          "NADP-ME",
          "PEP-CK"
         ],
         "y": [
          0.0062769166390439085,
          0.3222150541384068,
          0.026923314126912505
         ]
        },
        {
         "marker": {
          "color": "rgb(178,223,138)"
         },
         "name": "[B]_iCitDHNAD_c",
         "type": "bar",
         "uid": "c96cb156-1589-4829-a981-3dcda41da1ea",
         "x": [
          "NAD-ME",
          "NADP-ME",
          "PEP-CK"
         ],
         "y": [
          0.31593813749936894,
          0,
          0
         ]
        }
       ],
       "layout": {
        "barmode": "stack",
        "height": 400,
        "margin": {
         "b": 100
        },
        "title": {
         "text": "CO2 Production Bundesheat (cytsol)"
        },
        "width": 600,
        "xaxis": {
         "tickangle": 0,
         "title": {
          "text": "decarboxylation enzyme"
         }
        },
        "yaxis": {
         "autorange": true,
         "title": {
          "text": "Flux [µmol/s/m2]"
         }
        }
       }
      },
      "text/html": [
       "<div>\n",
       "        \n",
       "        \n",
       "            <div id=\"a6c0770f-bf90-4463-ba01-7fceb7477046\" class=\"plotly-graph-div\"></div>\n",
       "            <script type=\"text/javascript\">\n",
       "                require([\"plotly\"], function(Plotly) {\n",
       "                    window.PLOTLYENV=window.PLOTLYENV || {};\n",
       "                    window.PLOTLYENV.BASE_URL='https://plot.ly';\n",
       "                    \n",
       "                if (document.getElementById(\"a6c0770f-bf90-4463-ba01-7fceb7477046\")) {\n",
       "                    Plotly.newPlot(\n",
       "                        'a6c0770f-bf90-4463-ba01-7fceb7477046',\n",
       "                        [{\"marker\": {\"color\": \"rgb(166,206,227)\"}, \"name\": \"[B]_GluDC_c\", \"type\": \"bar\", \"uid\": \"fca0b1b2-ef80-4605-a56b-500325f4b270\", \"x\": [\"NAD-ME\", \"NADP-ME\", \"PEP-CK\"], \"y\": [0.0, 0.0, 0.0]}, {\"marker\": {\"color\": \"rgb(31,120,180)\"}, \"name\": \"[B]_OMPDC_c\", \"type\": \"bar\", \"uid\": \"851e24cc-b4f2-40d4-8d6a-81e35603503d\", \"x\": [\"NAD-ME\", \"NADP-ME\", \"PEP-CK\"], \"y\": [0.0, 5.028536119255213e-17, 0.0]}, {\"marker\": {\"color\": \"rgb(251,154,153)\"}, \"name\": \"[B]_PEPC1_c\", \"type\": \"bar\", \"uid\": \"baf2e27e-35ea-4572-b080-3ad60911bd81\", \"x\": [\"NAD-ME\", \"NADP-ME\", \"PEP-CK\"], \"y\": [0.0, 0.0, 39.453908252386924]}, {\"marker\": {\"color\": \"rgb(51,160,44)\"}, \"name\": \"[B]_iCitDHNADP_c\", \"type\": \"bar\", \"uid\": \"9126cfcd-8fb9-4664-a16e-78ba5bb8f0fd\", \"x\": [\"NAD-ME\", \"NADP-ME\", \"PEP-CK\"], \"y\": [0.0062769166390439085, 0.3222150541384068, 0.026923314126912505]}, {\"marker\": {\"color\": \"rgb(178,223,138)\"}, \"name\": \"[B]_iCitDHNAD_c\", \"type\": \"bar\", \"uid\": \"d429252a-c27e-46bd-ac89-20ecb4f9264c\", \"x\": [\"NAD-ME\", \"NADP-ME\", \"PEP-CK\"], \"y\": [0.31593813749936894, 0.0, 0.0]}],\n",
       "                        {\"barmode\": \"stack\", \"height\": 400, \"margin\": {\"b\": 100}, \"title\": {\"text\": \"CO2 Production Bundesheat (cytsol)\"}, \"width\": 600, \"xaxis\": {\"tickangle\": 0, \"title\": {\"text\": \"decarboxylation enzyme\"}}, \"yaxis\": {\"autorange\": true, \"title\": {\"text\": \"Flux [\\u00b5mol/s/m2]\"}}},\n",
       "                        {\"plotlyServerURL\": \"https://plot.ly\", \"linkText\": \"Export to plot.ly\", \"showLink\": false}\n",
       "                    )\n",
       "                };\n",
       "                });\n",
       "            </script>\n",
       "        </div>"
      ]
     },
     "metadata": {},
     "output_type": "display_data"
    },
    {
     "data": {
      "application/vnd.plotly.v1+json": {
       "config": {
        "linkText": "Export to plot.ly",
        "plotlyServerURL": "https://plot.ly",
        "showLink": false
       },
       "data": [
        {
         "marker": {
          "color": "rgb(178,223,138)"
         },
         "name": "[B]_GlyDH_m",
         "type": "bar",
         "uid": "26b4669e-e355-4d26-bbe4-c442f710186d",
         "x": [
          "NAD-ME",
          "NADP-ME",
          "PEP-CK"
         ],
         "y": [
          0.004184611092690576,
          0.004184611092706903,
          0.004184611092705529
         ]
        },
        {
         "marker": {
          "color": "rgb(253,191,111)"
         },
         "name": "[B]_KGDH_m",
         "type": "bar",
         "uid": "850c21a7-7577-4fbc-8617-d91220398490",
         "x": [
          "NAD-ME",
          "NADP-ME",
          "PEP-CK"
         ],
         "y": [
          0,
          0,
          7.334303579873018e-17
         ]
        },
        {
         "marker": {
          "color": "rgb(251,154,153)"
         },
         "name": "[B]_MalDH2_m",
         "type": "bar",
         "uid": "3e50f10a-bc77-443e-8dd4-b945f599dfb5",
         "x": [
          "NAD-ME",
          "NADP-ME",
          "PEP-CK"
         ],
         "y": [
          39.4539082524028,
          0,
          0
         ]
        },
        {
         "marker": {
          "color": "rgb(31,120,180)"
         },
         "name": "[B]_PyrDH1_m",
         "type": "bar",
         "uid": "a775dea7-6e0b-46d9-8d5b-0e38f3c0b4a3",
         "x": [
          "NAD-ME",
          "NADP-ME",
          "PEP-CK"
         ],
         "y": [
          0.32221505413841317,
          0.3222150541384066,
          0.322215054138285
         ]
        },
        {
         "marker": {
          "color": "rgb(227,26,28)"
         },
         "name": "[B]_Urease_m",
         "type": "bar",
         "uid": "058b8db9-1e58-4d02-ba11-771184fe7ed9",
         "x": [
          "NAD-ME",
          "NADP-ME",
          "PEP-CK"
         ],
         "y": [
          2.2082326956639266e-18,
          0,
          7.905473050476857e-16
         ]
        },
        {
         "marker": {
          "color": "rgb(51,160,44)"
         },
         "name": "[B]_iCitDHNADP_m",
         "type": "bar",
         "uid": "47cb0414-7d17-4358-833d-fcb429610ef1",
         "x": [
          "NAD-ME",
          "NADP-ME",
          "PEP-CK"
         ],
         "y": [
          0,
          0,
          0
         ]
        },
        {
         "marker": {
          "color": "rgb(166,206,227)"
         },
         "name": "[B]_iCitDHNAD_m",
         "type": "bar",
         "uid": "6688922c-b239-4d8f-a94c-e05e8e0995d2",
         "x": [
          "NAD-ME",
          "NADP-ME",
          "PEP-CK"
         ],
         "y": [
          0,
          0,
          0.2952917400113725
         ]
        }
       ],
       "layout": {
        "barmode": "stack",
        "height": 400,
        "margin": {
         "b": 100
        },
        "title": {
         "text": "CO2 Production Bundesheat (mitochondrium)"
        },
        "width": 600,
        "xaxis": {
         "tickangle": 0,
         "title": {
          "text": "decarboxylation enzyme"
         }
        },
        "yaxis": {
         "autorange": true,
         "title": {
          "text": "Flux [µmol/s/m2]"
         }
        }
       }
      },
      "text/html": [
       "<div>\n",
       "        \n",
       "        \n",
       "            <div id=\"3fcc9124-19a9-4763-ba3b-8bfbec3a8ff6\" class=\"plotly-graph-div\"></div>\n",
       "            <script type=\"text/javascript\">\n",
       "                require([\"plotly\"], function(Plotly) {\n",
       "                    window.PLOTLYENV=window.PLOTLYENV || {};\n",
       "                    window.PLOTLYENV.BASE_URL='https://plot.ly';\n",
       "                    \n",
       "                if (document.getElementById(\"3fcc9124-19a9-4763-ba3b-8bfbec3a8ff6\")) {\n",
       "                    Plotly.newPlot(\n",
       "                        '3fcc9124-19a9-4763-ba3b-8bfbec3a8ff6',\n",
       "                        [{\"marker\": {\"color\": \"rgb(178,223,138)\"}, \"name\": \"[B]_GlyDH_m\", \"type\": \"bar\", \"uid\": \"c55b8658-7d42-45e5-92b6-f09d8cfb79fc\", \"x\": [\"NAD-ME\", \"NADP-ME\", \"PEP-CK\"], \"y\": [0.004184611092690576, 0.004184611092706903, 0.004184611092705529]}, {\"marker\": {\"color\": \"rgb(253,191,111)\"}, \"name\": \"[B]_KGDH_m\", \"type\": \"bar\", \"uid\": \"96204e2a-7193-4d1a-8202-d92f09f81e8e\", \"x\": [\"NAD-ME\", \"NADP-ME\", \"PEP-CK\"], \"y\": [0.0, 0.0, 7.334303579873018e-17]}, {\"marker\": {\"color\": \"rgb(251,154,153)\"}, \"name\": \"[B]_MalDH2_m\", \"type\": \"bar\", \"uid\": \"02b39381-d69a-4aff-ba8a-0506db7bb5dd\", \"x\": [\"NAD-ME\", \"NADP-ME\", \"PEP-CK\"], \"y\": [39.4539082524028, 0.0, 0.0]}, {\"marker\": {\"color\": \"rgb(31,120,180)\"}, \"name\": \"[B]_PyrDH1_m\", \"type\": \"bar\", \"uid\": \"22cb1434-3627-48e1-a846-68e9ebbca02e\", \"x\": [\"NAD-ME\", \"NADP-ME\", \"PEP-CK\"], \"y\": [0.32221505413841317, 0.3222150541384066, 0.322215054138285]}, {\"marker\": {\"color\": \"rgb(227,26,28)\"}, \"name\": \"[B]_Urease_m\", \"type\": \"bar\", \"uid\": \"04135483-281d-4a8d-87ee-3b477e82164f\", \"x\": [\"NAD-ME\", \"NADP-ME\", \"PEP-CK\"], \"y\": [2.2082326956639266e-18, 0.0, 7.905473050476857e-16]}, {\"marker\": {\"color\": \"rgb(51,160,44)\"}, \"name\": \"[B]_iCitDHNADP_m\", \"type\": \"bar\", \"uid\": \"df980f98-cb2b-465d-aea8-b3e8c789e138\", \"x\": [\"NAD-ME\", \"NADP-ME\", \"PEP-CK\"], \"y\": [0.0, 0.0, 0.0]}, {\"marker\": {\"color\": \"rgb(166,206,227)\"}, \"name\": \"[B]_iCitDHNAD_m\", \"type\": \"bar\", \"uid\": \"549488f3-98f8-4378-a334-eca00ef955bd\", \"x\": [\"NAD-ME\", \"NADP-ME\", \"PEP-CK\"], \"y\": [0.0, 0.0, 0.2952917400113725]}],\n",
       "                        {\"barmode\": \"stack\", \"height\": 400, \"margin\": {\"b\": 100}, \"title\": {\"text\": \"CO2 Production Bundesheat (mitochondrium)\"}, \"width\": 600, \"xaxis\": {\"tickangle\": 0, \"title\": {\"text\": \"decarboxylation enzyme\"}}, \"yaxis\": {\"autorange\": true, \"title\": {\"text\": \"Flux [\\u00b5mol/s/m2]\"}}},\n",
       "                        {\"plotlyServerURL\": \"https://plot.ly\", \"linkText\": \"Export to plot.ly\", \"showLink\": false}\n",
       "                    )\n",
       "                };\n",
       "                });\n",
       "            </script>\n",
       "        </div>"
      ]
     },
     "metadata": {},
     "output_type": "display_data"
    }
   ],
   "source": [
    "D_comp = {'c':'cytsol','h':'chloroplast','m':'mitochondrium'}\n",
    "\n",
    "D_comp_rxn = {}\n",
    "L_max_flux = []\n",
    "for comp in D_comp:\n",
    "    m_obj = c4_model.metabolites.get_by_id('[B]_CO2_'+comp)\n",
    "    L_rxn = []\n",
    "    for r_obj in m_obj.reactions:\n",
    "        if not r_obj.id[4:6] in ['Tr','Im']:\n",
    "            lb = r_obj.bounds[0]\n",
    "            v = r_obj.get_coefficient(m_obj.id)\n",
    "            if (lb >= 0 and v>0) or (lb < 0 and v<0):  \n",
    "                L_rxn.append(r_obj.id)\n",
    "                L_max_flux = L_max_flux + [v*D_pfba[x][r_obj.id] for x in D_exp]\n",
    "    D_comp_rxn[comp] = L_rxn\n",
    "max_flux =  max(L_max_flux)\n",
    "\n",
    "for comp, L_rxn in D_comp_rxn.items():\n",
    "    create_bar_plot_rxn(D_pfba, D_exp,\n",
    "                        L_rxn,\n",
    "                        'CO2 Production Bundesheat (%s)' %(D_comp[comp]),  xaxis_title,\n",
    "                        stacked = True, save_fig=save_fig)\n",
    "        "
   ]
  },
  {
   "cell_type": "code",
   "execution_count": null,
   "metadata": {
    "ExecuteTime": {
     "start_time": "2019-05-06T13:54:00.514Z"
    },
    "collapsed": false
   },
   "outputs": [],
   "source": [
    "plot_transport(D_pfba, D_exp, L_r_transport, xaxis_title, save_fig=save_fig)"
   ]
  },
  {
   "cell_type": "code",
   "execution_count": null,
   "metadata": {
    "ExecuteTime": {
     "start_time": "2019-05-06T13:54:00.593Z"
    },
    "collapsed": false
   },
   "outputs": [],
   "source": [
    "L_r_index = ['[MB]_Mal_c','[MB]_Pyr_c','[MB]_Asp_c','[MB]_Ala_c', \n",
    "             '[MB]_PGA_c', '[MB]_2PGA_c', '[MB]_GAP_c', '[MB]_DHAP_c',\n",
    "             '[MB]_Suc_c', '[MB]_Frc_c', '[MB]_F6P_c', '[MB]_G6P_c', '[MB]_G1P_c', '[MB]_S6P_c',\n",
    "             '[MB]_Glu_c',\n",
    "             '[MB]_PEP_c', '[MB]_KG_c'\n",
    "            ]\n",
    "\n",
    "plot_transport_fva(c4_model, D_exp, D_pfva, D_pfba, L_r_transport, 40, 'FVA of Exchange Reaction (pFBA Factor = 1.5%)', L_r_index=L_r_index, save_fig=save_fig)"
   ]
  },
  {
   "cell_type": "code",
   "execution_count": null,
   "metadata": {
    "collapsed": true
   },
   "outputs": [],
   "source": []
  },
  {
   "cell_type": "code",
   "execution_count": null,
   "metadata": {
    "ExecuteTime": {
     "start_time": "2019-05-06T13:54:00.689Z"
    },
    "collapsed": false,
    "scrolled": false
   },
   "outputs": [],
   "source": [
    "#Display snippet of the flux distribution using Escher map\n",
    "for exp, exp_name in D_exp.items():\n",
    "    display(HTML('<h1>%s</h1>' %exp_name))\n",
    "    b = Builder(map_json='../data/2018-06-29-mb-C4-Map-Decarb-Enzymes.json',reaction_data=D_pfba[exp].to_dict())\n",
    "    display(b.display_in_notebook(height=1000))"
   ]
  }
 ],
 "metadata": {
  "anaconda-cloud": {},
  "kernelspec": {
   "display_name": "Python [conda root]",
   "language": "python",
   "name": "conda-root-py"
  },
  "language_info": {
   "codemirror_mode": {
    "name": "ipython",
    "version": 2
   },
   "file_extension": ".py",
   "mimetype": "text/x-python",
   "name": "python",
   "nbconvert_exporter": "python",
   "pygments_lexer": "ipython2",
   "version": "2.7.6"
  },
  "latex_envs": {
   "LaTeX_envs_menu_present": true,
   "autoclose": false,
   "autocomplete": true,
   "bibliofile": "biblio.bib",
   "cite_by": "apalike",
   "current_citInitial": 1,
   "eqLabelWithNumbers": true,
   "eqNumInitial": 1,
   "hotkeys": {
    "equation": "Ctrl-E",
    "itemize": "Ctrl-I"
   },
   "labels_anchors": false,
   "latex_user_defs": false,
   "report_style_numbering": false,
   "user_envs_cfg": false
  }
 },
 "nbformat": 4,
 "nbformat_minor": 1
}
