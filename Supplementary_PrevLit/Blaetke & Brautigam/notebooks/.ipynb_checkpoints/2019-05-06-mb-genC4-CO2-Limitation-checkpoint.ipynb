{
 "cells": [
  {
   "cell_type": "markdown",
   "metadata": {
    "run_control": {
     "marked": true
    }
   },
   "source": [
    "# GenC4 Model - Effect of CO$_2$-Limitation\n"
   ]
  },
  {
   "cell_type": "markdown",
   "metadata": {
    "run_control": {
     "marked": true
    }
   },
   "source": [
    "## 0. Initialization"
   ]
  },
  {
   "cell_type": "code",
   "execution_count": 1,
   "metadata": {
    "ExecuteTime": {
     "end_time": "2018-10-30T12:35:46.124366Z",
     "start_time": "2018-10-30T13:35:41.274408+01:00"
    },
    "collapsed": false,
    "run_control": {
     "marked": true
    }
   },
   "outputs": [
    {
     "data": {
      "text/html": [
       "<script type=\"text/javascript\">window.PlotlyConfig = {MathJaxConfig: 'local'};</script><script type=\"text/javascript\">if (window.MathJax) {MathJax.Hub.Config({SVG: {font: \"STIX-Web\"}});}</script><script>requirejs.config({paths: { 'plotly': ['https://cdn.plot.ly/plotly-latest.min']},});if(!window._Plotly) {require(['plotly'],function(plotly) {window._Plotly=plotly;});}</script>"
      ],
      "text/vnd.plotly.v1+html": [
       "<script type=\"text/javascript\">window.PlotlyConfig = {MathJaxConfig: 'local'};</script><script type=\"text/javascript\">if (window.MathJax) {MathJax.Hub.Config({SVG: {font: \"STIX-Web\"}});}</script><script>requirejs.config({paths: { 'plotly': ['https://cdn.plot.ly/plotly-latest.min']},});if(!window._Plotly) {require(['plotly'],function(plotly) {window._Plotly=plotly;});}</script>"
      ]
     },
     "metadata": {},
     "output_type": "display_data"
    }
   ],
   "source": [
    "#Import sys\n",
    "import sys \n",
    "sys.path.append(\"../src/\") \n",
    "\n",
    "#Import init for initialisation & loading user-defined functions\n",
    "from init_fba import *\n",
    "\n",
    "#Initialize notebook settings\n",
    "theNotebook = '2019-05-06-mb-genC4-CO2-Limitation'\n",
    "init_notebook(theNotebook)\n",
    "\n",
    "#load sbml model\n",
    "c3_model = load_sbml_model()"
   ]
  },
  {
   "cell_type": "markdown",
   "metadata": {
    "run_control": {
     "marked": true
    }
   },
   "source": [
    "## 1. C3 Model"
   ]
  },
  {
   "cell_type": "markdown",
   "metadata": {
    "ExecuteTime": {
     "end_time": "2017-06-20T12:42:07.597174",
     "start_time": "2017-06-20T12:42:07.594879"
    },
    "run_control": {
     "marked": true
    }
   },
   "source": [
    "### 1.1 Constraints"
   ]
  },
  {
   "cell_type": "code",
   "execution_count": 2,
   "metadata": {
    "ExecuteTime": {
     "end_time": "2018-10-30T12:35:46.147045Z",
     "start_time": "2018-10-30T13:35:46.126075+01:00"
    },
    "collapsed": false,
    "run_control": {
     "marked": true
    }
   },
   "outputs": [],
   "source": [
    "#CONSTRAINT: Set flux of all export reaction to zero\n",
    "for r_obj in c3_model.reactions:\n",
    "    r_id = r_obj.id\n",
    "    if r_id[0:2] == \"Ex\":\n",
    "        r_obj.bounds = (0.,0.)\n",
    "\n",
    "#CONSTRAINT: Divergent fluxes of export and import reactions\n",
    "set_bounds('Im_CO2', (-inf, inf), c3_model)\n",
    "set_bounds('Im_H2O', (-inf, inf), c3_model)\n",
    "set_bounds('Im_H2S', (0.,0.), c3_model)\n",
    "set_bounds('Im_NH4', (0., 0.), c3_model)\n",
    "set_bounds('Im_NO3', (0., inf), c3_model)\n",
    "set_bounds('Im_Pi', (0., inf), c3_model)\n",
    "set_bounds('Im_SO4', (0., inf), c3_model)\n",
    "set_bounds('Ex_O2', (-inf, inf), c3_model)\n",
    "set_bounds('Ex_Suc', (0., inf), c3_model)\n",
    "set_bounds('Ex_starch', (0., inf), c3_model)\n",
    "set_bounds('Ex_AA', (0., inf), c3_model)\n",
    "\n",
    "#CONSTRAINT: \n",
    "set_bounds('G6PDH_h', (0.,0.), c3_model)\n",
    "set_bounds('PPIF6PK_c', (0,0.), c3_model)\n",
    "\n",
    "#CONSTRAINT: max. photon consumption auf C4 plants 1000 μE\n",
    "set_bounds('Im_hnu', (0, 1000), c3_model)\n",
    "\n",
    "#CONSTRAINT: CO2 uptake rate in C4 plants is higher, about 40 μmol/(m2*s)\n",
    "f_CO2 = 40 #[μmol/(m2*s)] \n",
    "set_bounds('Im_CO2', (0, f_CO2), c3_model)"
   ]
  },
  {
   "cell_type": "code",
   "execution_count": 3,
   "metadata": {
    "ExecuteTime": {
     "end_time": "2018-10-30T12:35:46.172322Z",
     "start_time": "2018-10-30T13:35:46.148794+01:00"
    },
    "code_folding": [],
    "collapsed": false,
    "run_control": {
     "marked": true
    }
   },
   "outputs": [],
   "source": [
    "#CONSTRAINT: Maintenace cost\n",
    "\n",
    "atp_cost_L3_m = 0.009111187245501572 #Mitochondria-L3-ATP Cost [µmol*s-1*m-2]\n",
    "atp_cost_L3_h = 0.15270708327974447 #Chloroplast-L3-ATP Cost [µmol*s-1*m-2]\n",
    "atp_cost_L3_p = 0.0076669066992201855 #Peroxisome-L3-ATP Cost [µmol*s-1*m-2]\n",
    "atp_cost_L3_c = 0.042683072918274702 #Cytosl/Other-L3-ATP Cost [µmol*s-1*m-2]\n",
    "\n",
    "set_fixed_flux('NGAM_c',atp_cost_L3_c + atp_cost_L3_p, c3_model)\n",
    "set_fixed_flux('NGAM_m',atp_cost_L3_m, c3_model)\n",
    "set_fixed_flux('NGAM_h',atp_cost_L3_h, c3_model)"
   ]
  },
  {
   "cell_type": "code",
   "execution_count": 4,
   "metadata": {
    "ExecuteTime": {
     "end_time": "2018-10-30T12:35:46.178613Z",
     "start_time": "2018-10-30T13:35:46.174630+01:00"
    },
    "collapsed": true,
    "run_control": {
     "marked": true
    }
   },
   "outputs": [],
   "source": [
    "#CONSTRAINT: fluxes through the chloroplastic NADPH dehydrogenase and plastoquinol oxidase were set to zero \n",
    "#because the contributions of NADPH dehydrogenase (Yamamoto et al., 2011) and plastoquinol oxidase \n",
    "#(Josse et al., 2000) to photosynthesis are thought to be minor.\n",
    "set_bounds('AOX4_h',(0,0), c3_model)\n",
    "set_bounds('iCitDHNADP_h',(0,0), c3_model)"
   ]
  },
  {
   "cell_type": "code",
   "execution_count": 5,
   "metadata": {
    "ExecuteTime": {
     "end_time": "2018-10-30T12:35:46.183237Z",
     "start_time": "2018-10-30T13:35:46.180175+01:00"
    },
    "collapsed": false,
    "run_control": {
     "marked": true
    }
   },
   "outputs": [],
   "source": [
    "#CONSTRAINT: NTT is only active at night\n",
    "set_fixed_flux('Tr_NTT',0, c3_model)"
   ]
  },
  {
   "cell_type": "code",
   "execution_count": 6,
   "metadata": {
    "ExecuteTime": {
     "end_time": "2018-10-30T12:35:46.188814Z",
     "start_time": "2018-10-30T13:35:46.185161+01:00"
    },
    "collapsed": true,
    "run_control": {
     "marked": true
    }
   },
   "outputs": [],
   "source": [
    "#CONSTRAINT: No uncoupled pyruvate transport\n",
    "set_bounds('Tr_Pyr1',(0,0), c3_model)\n",
    "set_bounds('Tr_Pyr2',(0,0), c3_model)"
   ]
  },
  {
   "cell_type": "markdown",
   "metadata": {
    "run_control": {
     "marked": true
    }
   },
   "source": [
    "## 2. C4 Model"
   ]
  },
  {
   "cell_type": "markdown",
   "metadata": {
    "run_control": {
     "marked": true
    }
   },
   "source": [
    "### 2.1 Compose Model"
   ]
  },
  {
   "cell_type": "markdown",
   "metadata": {
    "ExecuteTime": {
     "end_time": "2018-02-06T17:46:39.521620+01:00",
     "start_time": "2018-02-06T17:46:39.518672"
    },
    "run_control": {
     "marked": true
    }
   },
   "source": [
    "#### 2.1.1 Two copies of genC3 model and exchange reactions"
   ]
  },
  {
   "cell_type": "code",
   "execution_count": 7,
   "metadata": {
    "ExecuteTime": {
     "end_time": "2018-10-30T12:35:47.165563Z",
     "start_time": "2018-10-30T13:35:46.190636+01:00"
    },
    "collapsed": false,
    "hide_input": false,
    "run_control": {
     "marked": true
    }
   },
   "outputs": [],
   "source": [
    "c4_model = cobra.Model('c4_model')\n",
    "\n",
    "cell_types = ['M', 'B']\n",
    "\n",
    "#duplicate metabolites\n",
    "for m in c3_model.metabolites:\n",
    "    for cell in cell_types:\n",
    "        m_dt = cobra.Metabolite('['+cell+']_'+m.id, name = m.formula, compartment = m.compartment)\n",
    "        c4_model.add_metabolites([m_dt])\n",
    "\n",
    "#duplicate reactions\n",
    "for r_c3_obj in c3_model.reactions:\n",
    "    for cell in cell_types:\n",
    "        r_c4_obj = cobra.Reaction('['+cell+']_'+r_c3_obj.id)\n",
    "        r_c4_obj.name = r_c3_obj.name\n",
    "        r_c4_obj.subsystem = r_c3_obj.subsystem\n",
    "        r_c4_obj.bounds = r_c3_obj.bounds\n",
    "        c4_model.add_reaction(r_c4_obj)\n",
    "        r_c4_obj.add_metabolites({'['+cell+']_'+m_c3_obj.id: r_c3_obj.get_coefficient(m_c3_obj) for m_c3_obj in r_c3_obj.metabolites})\n",
    "        \n",
    "        \n",
    "#metabolites excluded from M/BS exchange\n",
    "no_transport = ['NO3','NO2', 'O2','Na', 'H2S', 'SO4',\n",
    "                'H2O','FBP','F26BP','DPGA','H','ACD','AC','M_DASH_THF', '5M_DASH_THF', 'H_DASH_Cys', 'aH_DASH_Cys', 'ORO', 'DHO',\n",
    "                'GABA','A_DASH_Ser','PRPP','AD','THF','DHF','ADN','Mas','CoA','GluP',\n",
    "                'A_DASH_CoA','cellulose1','cellulose2','cellulose3','starch1',\n",
    "                'starch2','starch3','TRXox','TRXrd','Glu_DASH_SeA','T6P','aMet',\n",
    "                'PPi', 'P5C', 'NH4', 'Pi', 'CO2', 'OAA','HCO3', \n",
    "                'UTP', 'UDP', 'UDPG', 'ATP', 'ADP', 'AMP', 'IMP', 'XMP', \n",
    "                'GTP', 'GDP', 'GMP', 'OMP', 'UMP', 'CTP', 'GDP', 'CDP', 'dADP', \n",
    "                'dCDP', 'dGDP', 'dUDP', 'dUTP', 'dUMP', 'dTMP', 'dTDP', 'GTP', \n",
    "                'dATP', 'dCTP', 'dGTP', 'dTTP', 'NAD', 'NADH', 'NADP', 'NADPH']\n",
    "\n",
    "#add M/BS exchange reactions\n",
    "L_r_transport = []\n",
    "for m_c3_obj in c3_model.metabolites:\n",
    "    if m_c3_obj.id[-1:] == 'c' and m_c3_obj.id[:-2] not in no_transport:\n",
    "        r_c4_obj = cobra.Reaction('[MB]_'+m_c3_obj.id)\n",
    "        r_c4_obj.name = '[MB]_'+m_c3_obj.id\n",
    "        r_c4_obj.subsystem = 'Exchange'\n",
    "        r_c4_obj.bounds = (-inf, inf)\n",
    "        c4_model.add_reaction(r_c4_obj)\n",
    "        r_c4_obj.add_metabolites({'[M]_'+m_c3_obj.id: -1,'[B]_'+m_c3_obj.id: 1 })\n",
    "        L_r_transport.append('[MB]_'+m_c3_obj.id)"
   ]
  },
  {
   "cell_type": "markdown",
   "metadata": {
    "ExecuteTime": {
     "end_time": "2018-02-06T17:47:11.482156+01:00",
     "start_time": "2018-02-06T17:47:11.480023"
    },
    "run_control": {
     "marked": true
    }
   },
   "source": [
    "#### 2.1.2 Adaptations for second unconstrained rubisco population in the bundle sheath"
   ]
  },
  {
   "cell_type": "code",
   "execution_count": 8,
   "metadata": {
    "ExecuteTime": {
     "end_time": "2018-10-30T12:35:47.185673Z",
     "start_time": "2018-10-30T13:35:47.167380+01:00"
    },
    "collapsed": false,
    "run_control": {
     "marked": true
    }
   },
   "outputs": [],
   "source": [
    "#CONSTRAINT: Add external CO2 species in bundle sheat\n",
    "#(the original CO2 species is treated as internal CO2)\n",
    "m_list_CO_Ex= ['[B]_CO2_ex_c','[B]_CO2_ex_h','[B]_CO2_ex_m']\n",
    "\n",
    "for m_id in m_list_CO_Ex:\n",
    "    m_obj = cobra.Metabolite(m_id)\n",
    "    c4_model.add_metabolites(m_obj)\n",
    "\n",
    "#CONSTRAINT: Copy all reactions using internal CO2 and exchange internal with external CO2 in the copied recactions\n",
    "r_list_CO_Ex = ['Tr_CO2h', 'RBC_h']\n",
    "\n",
    "for r_id in r_list_CO_Ex:\n",
    "    r_obj = c4_model.reactions.get_by_id('[B]_'+r_id)\n",
    "    r_obj_Ex = cobra.Reaction(r_obj.id+'_Ex')\n",
    "    r_obj_Ex.name = r_obj.id+'_Ex'\n",
    "    r_obj_Ex.subsystem = r_obj.subsystem\n",
    "    r_obj_Ex.bounds = r_obj.bounds\n",
    "    c4_model.add_reaction(r_obj_Ex)\n",
    "    r_obj_Ex.add_metabolites({m_obj.id if not m_obj.id[:-2] == '[B]_CO2' else '[B]_CO2_ex'+m_obj.id[-2:]: r_obj.get_coefficient(m_obj) \n",
    "                                  for m_obj in r_obj.metabolites})\n",
    "\n",
    "#CONSTRAINT: CO2 exchange between mesophyll and bundle sheat\n",
    "r_c4_obj = cobra.Reaction('[MB]_CO2_c')\n",
    "r_c4_obj.name = '[MB]_CO2_c'\n",
    "r_c4_obj.subsystem = 'Exchange'\n",
    "r_c4_obj.bounds = (-inf, inf)\n",
    "c4_model.add_reaction(r_c4_obj)\n",
    "r_c4_obj.add_metabolites({'[M]_CO2_c': -1,'[B]_CO2_ex_c': 1 })\n",
    "L_r_transport.append('[MB]_CO2_c')"
   ]
  },
  {
   "cell_type": "markdown",
   "metadata": {
    "run_control": {
     "marked": true
    }
   },
   "source": [
    "### 2.3 Constraints"
   ]
  },
  {
   "cell_type": "code",
   "execution_count": 9,
   "metadata": {
    "ExecuteTime": {
     "end_time": "2018-10-30T12:35:47.190038Z",
     "start_time": "2018-10-30T13:35:47.187459+01:00"
    },
    "collapsed": true,
    "run_control": {
     "marked": true
    }
   },
   "outputs": [],
   "source": [
    "#CONSTRAINT: No CO2 uptake in bundle sheat cells due to suberin layer in cell membranes\n",
    "set_fixed_flux('[B]_Im_CO2',0, c4_model)"
   ]
  },
  {
   "cell_type": "code",
   "execution_count": 10,
   "metadata": {
    "ExecuteTime": {
     "end_time": "2018-10-30T12:35:47.211130Z",
     "start_time": "2018-10-30T13:35:47.191647+01:00"
    },
    "collapsed": false,
    "run_control": {
     "marked": true
    }
   },
   "outputs": [
    {
     "data": {
      "text/plain": [
       "<optlang.glpk_interface.Constraint at 0x131f60ce50>"
      ]
     },
     "execution_count": 10,
     "metadata": {},
     "output_type": "execute_result"
    }
   ],
   "source": [
    "#CONSTRAINT: Output of sucrose : total amino acid and sucrose : starch\n",
    "set_fixed_flux_ratio({'[B]_Ex_Suc':2.2,'[B]_Ex_AA':1.0}, c4_model)\n",
    "set_fixed_flux_ratio({'[B]_Ex_Suc':1.0,'[B]_Ex_starch':1.0}, c4_model)\n",
    "\n",
    "set_fixed_flux_ratio({'[M]_Ex_Suc':2.2,'[M]_Ex_AA':1.0}, c4_model)\n",
    "set_fixed_flux_ratio({'[M]_Ex_Suc':1.0,'[M]_Ex_starch':1.0}, c4_model)"
   ]
  },
  {
   "cell_type": "code",
   "execution_count": 11,
   "metadata": {
    "ExecuteTime": {
     "end_time": "2018-10-30T12:35:47.222571Z",
     "start_time": "2018-10-30T13:35:47.212925+01:00"
    },
    "collapsed": false,
    "run_control": {
     "marked": true
    }
   },
   "outputs": [],
   "source": [
    "#Reaction variables for light uptake\n",
    "B_Im_hnu = c4_model.reactions.get_by_id(\"[B]_Im_hnu\")\n",
    "M_Im_hnu = c4_model.reactions.get_by_id(\"[M]_Im_hnu\")\n",
    "\n",
    "#CONSTRAINT: Total Photon uptake limited to 1000 µE\n",
    "const_hnu_sum = c4_model.problem.Constraint( B_Im_hnu.flux_expression + M_Im_hnu.flux_expression,\n",
    "                                        lb = 0, ub = 1000)\n",
    "\n",
    "c4_model.add_cons_vars(const_hnu_sum)\n",
    "\n",
    "#CONSTRAINT: Total Photon uptake by bundle sheath must be less equal than in mesophyll\n",
    "const_hnu_ratio = c4_model.problem.Constraint( M_Im_hnu.flux_expression - B_Im_hnu.flux_expression,\n",
    "                                        lb = 0, ub = 1000)\n",
    "\n",
    "c4_model.add_cons_vars(const_hnu_ratio)"
   ]
  },
  {
   "cell_type": "code",
   "execution_count": 12,
   "metadata": {
    "ExecuteTime": {
     "end_time": "2018-10-30T12:35:47.235886Z",
     "start_time": "2018-10-30T13:35:47.224658+01:00"
    },
    "collapsed": false,
    "run_control": {
     "marked": true
    }
   },
   "outputs": [
    {
     "data": {
      "text/plain": [
       "<optlang.glpk_interface.Constraint at 0x131f7ab110>"
      ]
     },
     "execution_count": 12,
     "metadata": {},
     "output_type": "execute_result"
    }
   ],
   "source": [
    "#CONSTRAINT: oxygenation : carboxylation = 1 : 3\n",
    "set_fixed_flux_ratio({'[B]_RBC_h_Ex':3,'[B]_RBO_h':1}, c4_model)\n",
    "set_fixed_flux_ratio({'[M]_RBC_h':3,'[M]_RBO_h':1}, c4_model)"
   ]
  },
  {
   "cell_type": "markdown",
   "metadata": {
    "run_control": {
     "marked": true
    }
   },
   "source": [
    "## 3 FBA"
   ]
  },
  {
   "cell_type": "code",
   "execution_count": 13,
   "metadata": {
    "ExecuteTime": {
     "end_time": "2018-10-30T12:35:58.453803Z",
     "start_time": "2018-10-30T13:35:47.237411+01:00"
    },
    "collapsed": false,
    "run_control": {
     "marked": true
    }
   },
   "outputs": [],
   "source": [
    "#Dictionary defining the experiments according to the CO2-limitation\n",
    "D_exp = {value: value for value in np.arange(0,41,5)}\n",
    "\n",
    "#Reaction Variables\n",
    "B_Ex_Suc = c4_model.reactions.get_by_id(\"[B]_Ex_Suc\")\n",
    "B_RBO = c4_model.reactions.get_by_id(\"[B]_RBO_h\")\n",
    "M_RBO = c4_model.reactions.get_by_id(\"[M]_RBO_h\")\n",
    "M_Im_CO2 = c4_model.reactions.get_by_id(\"[M]_Im_CO2\")\n",
    "\n",
    "#Set FBA solver\n",
    "c4_model.solver = \"glpk\"\n",
    "\n",
    "#Initialize dictionary to store results\n",
    "D_fba={}\n",
    "\n",
    "#Run every FBA experiment\n",
    "\n",
    "for value in sorted(D_exp.keys()): #iterate over proportions of carboxylation\n",
    "    \n",
    "    #Add CO2-limitation constraint \n",
    "    const_CO2 = c4_model.problem.Constraint( M_Im_CO2.flux_expression,\n",
    "                                        lb = value, ub = value)\n",
    "    c4_model.add_cons_vars(const_CO2)\n",
    "    \n",
    "    #Optimize/Maximize sucrose output\n",
    "    B_Ex_Suc.objective_coefficient = 1.\n",
    "    c4_model_copy = c4_model.copy()\n",
    "    result_fba = c4_model_copy.optimize('maximize')\n",
    "    del c4_model_copy\n",
    "    c4_model.objective =[]\n",
    "    set_fixed_flux(B_Ex_Suc.id,result_fba.fluxes[B_Ex_Suc.id], c4_model)\n",
    "    \n",
    "    #Optimize/Minimize oxygenation rate by rubisco (set True)\n",
    "    if True:\n",
    "            B_RBO.objective_coefficient = 1.\n",
    "            M_RBO.objective_coefficient = 1.\n",
    "            c4_model_copy = c4_model.copy()\n",
    "            result_fba = c4_model_copy.optimize('minimize')\n",
    "            del c4_model_copy\n",
    "            c4_model.objective =[]\n",
    "            set_fixed_flux(B_RBO.id,result_fba.fluxes[B_RBO.id],c4_model)            \n",
    "            set_fixed_flux(M_RBO.id,result_fba.fluxes[M_RBO.id],c4_model)\n",
    "    \n",
    "        \n",
    "    #Optimize/Minimize total flux\n",
    "    if result_fba.status == 'optimal': \n",
    "        c4_model_copy = c4_model.copy()\n",
    "        result_pfba = cobra.flux_analysis.parsimonious.pfba(c4_model_copy)\n",
    "        D_fba[value] = result_pfba.fluxes\n",
    "        del c4_model_copy \n",
    "    \n",
    "    #Reset reaction bounds\n",
    "    set_bounds(B_RBO.id,(0,inf),c4_model)\n",
    "    set_bounds(M_RBO.id,(0,inf),c4_model)\n",
    "    set_bounds(B_Ex_Suc.id,(0,inf),c4_model)\n",
    "\n",
    "    #Remove CO2-limitation constraint\n",
    "    c4_model.remove_cons_vars(const_CO2)"
   ]
  },
  {
   "cell_type": "markdown",
   "metadata": {
    "ExecuteTime": {
     "end_time": "2018-02-06T17:54:23.611334+01:00",
     "start_time": "2018-02-06T17:54:23.609194"
    },
    "run_control": {
     "marked": true
    }
   },
   "source": [
    "## 4 Figures"
   ]
  },
  {
   "cell_type": "code",
   "execution_count": 14,
   "metadata": {
    "ExecuteTime": {
     "end_time": "2018-10-30T12:35:58.458610Z",
     "start_time": "2018-10-30T13:35:58.455417+01:00"
    },
    "collapsed": true,
    "run_control": {
     "marked": true
    }
   },
   "outputs": [],
   "source": [
    "xaxis_title = 'CO2 Uptake [µmol/s/m2]'\n",
    "save_fig = False"
   ]
  },
  {
   "cell_type": "code",
   "execution_count": 15,
   "metadata": {
    "ExecuteTime": {
     "end_time": "2018-10-30T12:35:58.638731Z",
     "start_time": "2018-10-30T13:35:58.460998+01:00"
    },
    "collapsed": false,
    "run_control": {
     "marked": true
    }
   },
   "outputs": [
    {
     "data": {
      "application/vnd.plotly.v1+json": {
       "data": [
        {
         "marker": {
          "color": "rgb(8,81,156)"
         },
         "name": "Bundle sheath",
         "type": "bar",
         "uid": "1a2b164e-e158-46c2-8916-af76b9613dd5",
         "x": [
          0,
          5,
          10,
          15,
          20,
          25,
          30,
          35,
          40
         ],
         "y": [
          0.19730295842699122,
          26.11392470027328,
          52.048319653454676,
          77.99008381574784,
          103.931847978061,
          129.87361214035806,
          155.8099125865469,
          181.74534752456628,
          207.6807824625853
         ]
        },
        {
         "marker": {
          "color": "rgb(166,54,3)"
         },
         "name": "Mesophyll",
         "type": "bar",
         "uid": "9a0c5ba4-4351-4c4e-9195-015198350470",
         "x": [
          0,
          5,
          10,
          15,
          20,
          25,
          30,
          35,
          40
         ],
         "y": [
          0.19730295842699122,
          26.11392470027328,
          52.048319653454676,
          77.99008381574784,
          103.931847978061,
          129.87361214035806,
          155.8099125865469,
          181.74534752456628,
          207.6807824625853
         ]
        }
       ],
       "layout": {
        "barmode": "stack",
        "height": 400,
        "margin": {
         "b": 100
        },
        "title": "Photon Uptake",
        "width": 600,
        "xaxis": {
         "autorange": true,
         "range": [
          -2.5,
          42.5
         ],
         "tickangle": 45,
         "title": "CO2 Uptake [µmol/s/m2]",
         "type": "linear"
        },
        "yaxis": {
         "autorange": true,
         "range": [
          0,
          437.2226999212322
         ],
         "title": "Flux [µmol/s/m2]",
         "type": "linear"
        }
       }
      },
      "text/html": [
       "<div id=\"73693389-c817-4f0d-84c8-186d2a49bc97\" style=\"height: 400px; width: 600px;\" class=\"plotly-graph-div\"></div><script type=\"text/javascript\">require([\"plotly\"], function(Plotly) { window.PLOTLYENV=window.PLOTLYENV || {};window.PLOTLYENV.BASE_URL=\"https://plot.ly\";Plotly.newPlot(\"73693389-c817-4f0d-84c8-186d2a49bc97\", [{\"name\": \"Bundle sheath\", \"marker\": {\"color\": \"rgb(8,81,156)\"}, \"y\": [0.19730295842699122, 26.11392470027328, 52.048319653454676, 77.99008381574784, 103.931847978061, 129.87361214035806, 155.8099125865469, 181.74534752456628, 207.6807824625853], \"x\": [0, 5, 10, 15, 20, 25, 30, 35, 40], \"type\": \"bar\", \"uid\": \"1a2b164e-e158-46c2-8916-af76b9613dd5\"}, {\"name\": \"Mesophyll\", \"marker\": {\"color\": \"rgb(166,54,3)\"}, \"y\": [0.19730295842699122, 26.11392470027328, 52.048319653454676, 77.99008381574784, 103.931847978061, 129.87361214035806, 155.8099125865469, 181.74534752456628, 207.6807824625853], \"x\": [0, 5, 10, 15, 20, 25, 30, 35, 40], \"type\": \"bar\", \"uid\": \"9a0c5ba4-4351-4c4e-9195-015198350470\"}], {\"yaxis\": {\"autorange\": true, \"title\": \"Flux [\\u00b5mol/s/m2]\"}, \"title\": \"Photon Uptake\", \"height\": 400, \"barmode\": \"stack\", \"xaxis\": {\"tickangle\": 45, \"title\": \"CO2 Uptake [\\u00b5mol/s/m2]\"}, \"margin\": {\"b\": 100}, \"width\": 600}, {\"linkText\": \"Export to plot.ly\", \"showLink\": true})});</script>"
      ],
      "text/vnd.plotly.v1+html": [
       "<div id=\"73693389-c817-4f0d-84c8-186d2a49bc97\" style=\"height: 400px; width: 600px;\" class=\"plotly-graph-div\"></div><script type=\"text/javascript\">require([\"plotly\"], function(Plotly) { window.PLOTLYENV=window.PLOTLYENV || {};window.PLOTLYENV.BASE_URL=\"https://plot.ly\";Plotly.newPlot(\"73693389-c817-4f0d-84c8-186d2a49bc97\", [{\"name\": \"Bundle sheath\", \"marker\": {\"color\": \"rgb(8,81,156)\"}, \"y\": [0.19730295842699122, 26.11392470027328, 52.048319653454676, 77.99008381574784, 103.931847978061, 129.87361214035806, 155.8099125865469, 181.74534752456628, 207.6807824625853], \"x\": [0, 5, 10, 15, 20, 25, 30, 35, 40], \"type\": \"bar\", \"uid\": \"1a2b164e-e158-46c2-8916-af76b9613dd5\"}, {\"name\": \"Mesophyll\", \"marker\": {\"color\": \"rgb(166,54,3)\"}, \"y\": [0.19730295842699122, 26.11392470027328, 52.048319653454676, 77.99008381574784, 103.931847978061, 129.87361214035806, 155.8099125865469, 181.74534752456628, 207.6807824625853], \"x\": [0, 5, 10, 15, 20, 25, 30, 35, 40], \"type\": \"bar\", \"uid\": \"9a0c5ba4-4351-4c4e-9195-015198350470\"}], {\"yaxis\": {\"autorange\": true, \"title\": \"Flux [\\u00b5mol/s/m2]\"}, \"title\": \"Photon Uptake\", \"height\": 400, \"barmode\": \"stack\", \"xaxis\": {\"tickangle\": 45, \"title\": \"CO2 Uptake [\\u00b5mol/s/m2]\"}, \"margin\": {\"b\": 100}, \"width\": 600}, {\"linkText\": \"Export to plot.ly\", \"showLink\": true})});</script>"
      ]
     },
     "metadata": {},
     "output_type": "display_data"
    }
   ],
   "source": [
    "create_bar_plot_rxn(D_fba, D_exp,\n",
    "                    {'[M]_Im_hnu':'Mesophyll','[B]_Im_hnu': 'Bundle sheath'},\n",
    "                    'Photon Uptake', xaxis_title,\n",
    "                    stacked = True, save_fig=save_fig)"
   ]
  },
  {
   "cell_type": "code",
   "execution_count": 16,
   "metadata": {
    "ExecuteTime": {
     "end_time": "2018-10-30T12:35:58.809190Z",
     "start_time": "2018-10-30T13:35:58.640434+01:00"
    },
    "collapsed": false,
    "run_control": {
     "marked": true
    }
   },
   "outputs": [
    {
     "data": {
      "application/vnd.plotly.v1+json": {
       "data": [
        {
         "marker": {
          "color": "rgb(8,81,156)"
         },
         "name": "Bundle sheath",
         "type": "bar",
         "uid": "3d8e9009-abb8-4407-b5f2-55726ad4ffc4",
         "x": [
          0,
          5,
          10,
          15,
          20,
          25,
          30,
          35,
          40
         ],
         "y": [
          0.035676700117797826,
          9.14256687281592,
          18.229107581860205,
          27.311437314269245,
          36.393767046691806,
          45.47609677910358,
          54.55530438802518,
          63.634017420849844,
          72.71273045367404
         ]
        },
        {
         "marker": {
          "color": "rgb(166,54,3)"
         },
         "name": "Mesophyll",
         "type": "bar",
         "uid": "86d82921-2258-42ea-8d9b-3a9980a84988",
         "x": [
          0,
          5,
          10,
          15,
          20,
          25,
          30,
          35,
          40
         ],
         "y": [
          0.03567670011779787,
          12.122307354577876,
          24.22928747269164,
          36.340478567440705,
          48.45166966220862,
          60.56286075696218,
          72.67717397520822,
          84.79198176954921,
          96.90678956388923
         ]
        }
       ],
       "layout": {
        "barmode": "stack",
        "height": 400,
        "margin": {
         "b": 100
        },
        "title": "Photon Uptake by PSII",
        "width": 600,
        "xaxis": {
         "autorange": true,
         "range": [
          -2.5,
          42.5
         ],
         "tickangle": 45,
         "title": "CO2 Uptake [µmol/s/m2]",
         "type": "linear"
        },
        "yaxis": {
         "autorange": true,
         "range": [
          0,
          178.5468631763824
         ],
         "title": "Flux [µmol/s/m2]",
         "type": "linear"
        }
       }
      },
      "text/html": [
       "<div id=\"2bc78ddf-ae96-424f-afff-e58abcbcb09e\" style=\"height: 400px; width: 600px;\" class=\"plotly-graph-div\"></div><script type=\"text/javascript\">require([\"plotly\"], function(Plotly) { window.PLOTLYENV=window.PLOTLYENV || {};window.PLOTLYENV.BASE_URL=\"https://plot.ly\";Plotly.newPlot(\"2bc78ddf-ae96-424f-afff-e58abcbcb09e\", [{\"name\": \"Bundle sheath\", \"marker\": {\"color\": \"rgb(8,81,156)\"}, \"y\": [0.035676700117797826, 9.14256687281592, 18.229107581860205, 27.311437314269245, 36.393767046691806, 45.47609677910358, 54.55530438802518, 63.634017420849844, 72.71273045367404], \"x\": [0, 5, 10, 15, 20, 25, 30, 35, 40], \"type\": \"bar\", \"uid\": \"3d8e9009-abb8-4407-b5f2-55726ad4ffc4\"}, {\"name\": \"Mesophyll\", \"marker\": {\"color\": \"rgb(166,54,3)\"}, \"y\": [0.03567670011779787, 12.122307354577876, 24.22928747269164, 36.340478567440705, 48.45166966220862, 60.56286075696218, 72.67717397520822, 84.79198176954921, 96.90678956388923], \"x\": [0, 5, 10, 15, 20, 25, 30, 35, 40], \"type\": \"bar\", \"uid\": \"86d82921-2258-42ea-8d9b-3a9980a84988\"}], {\"yaxis\": {\"autorange\": true, \"title\": \"Flux [\\u00b5mol/s/m2]\"}, \"title\": \"Photon Uptake by PSII\", \"height\": 400, \"barmode\": \"stack\", \"xaxis\": {\"tickangle\": 45, \"title\": \"CO2 Uptake [\\u00b5mol/s/m2]\"}, \"margin\": {\"b\": 100}, \"width\": 600}, {\"linkText\": \"Export to plot.ly\", \"showLink\": true})});</script>"
      ],
      "text/vnd.plotly.v1+html": [
       "<div id=\"2bc78ddf-ae96-424f-afff-e58abcbcb09e\" style=\"height: 400px; width: 600px;\" class=\"plotly-graph-div\"></div><script type=\"text/javascript\">require([\"plotly\"], function(Plotly) { window.PLOTLYENV=window.PLOTLYENV || {};window.PLOTLYENV.BASE_URL=\"https://plot.ly\";Plotly.newPlot(\"2bc78ddf-ae96-424f-afff-e58abcbcb09e\", [{\"name\": \"Bundle sheath\", \"marker\": {\"color\": \"rgb(8,81,156)\"}, \"y\": [0.035676700117797826, 9.14256687281592, 18.229107581860205, 27.311437314269245, 36.393767046691806, 45.47609677910358, 54.55530438802518, 63.634017420849844, 72.71273045367404], \"x\": [0, 5, 10, 15, 20, 25, 30, 35, 40], \"type\": \"bar\", \"uid\": \"3d8e9009-abb8-4407-b5f2-55726ad4ffc4\"}, {\"name\": \"Mesophyll\", \"marker\": {\"color\": \"rgb(166,54,3)\"}, \"y\": [0.03567670011779787, 12.122307354577876, 24.22928747269164, 36.340478567440705, 48.45166966220862, 60.56286075696218, 72.67717397520822, 84.79198176954921, 96.90678956388923], \"x\": [0, 5, 10, 15, 20, 25, 30, 35, 40], \"type\": \"bar\", \"uid\": \"86d82921-2258-42ea-8d9b-3a9980a84988\"}], {\"yaxis\": {\"autorange\": true, \"title\": \"Flux [\\u00b5mol/s/m2]\"}, \"title\": \"Photon Uptake by PSII\", \"height\": 400, \"barmode\": \"stack\", \"xaxis\": {\"tickangle\": 45, \"title\": \"CO2 Uptake [\\u00b5mol/s/m2]\"}, \"margin\": {\"b\": 100}, \"width\": 600}, {\"linkText\": \"Export to plot.ly\", \"showLink\": true})});</script>"
      ]
     },
     "metadata": {},
     "output_type": "display_data"
    }
   ],
   "source": [
    "create_bar_plot_met(D_fba, D_exp,\n",
    "                    {'[M]_PSII_h':'Mesophyll','[B]_PSII_h': 'Bundle sheath'},'hnu_h',\n",
    "                    'Photon Uptake by PSII', xaxis_title, c3_model,\n",
    "                    stacked = True, save_fig=save_fig)"
   ]
  },
  {
   "cell_type": "code",
   "execution_count": 17,
   "metadata": {
    "ExecuteTime": {
     "end_time": "2018-10-30T12:35:58.982178Z",
     "start_time": "2018-10-30T13:35:58.811401+01:00"
    },
    "collapsed": false,
    "run_control": {
     "marked": true
    }
   },
   "outputs": [
    {
     "data": {
      "application/vnd.plotly.v1+json": {
       "data": [
        {
         "marker": {
          "color": "rgb(8,81,156)"
         },
         "name": "Bundle sheath",
         "type": "bar",
         "uid": "13544143-0010-43e2-ae99-f54773c5f82b",
         "x": [
          0,
          5,
          10,
          15,
          20,
          25,
          30,
          35,
          40
         ],
         "y": [
          0.16162625830919347,
          16.971357827457364,
          33.81921207159447,
          50.67864650147861,
          67.5380809313692,
          84.39751536125449,
          101.25460819852168,
          118.11133010371644,
          134.96805200891131
         ]
        },
        {
         "marker": {
          "color": "rgb(166,54,3)"
         },
         "name": "Mesophyll",
         "type": "bar",
         "uid": "f12c2cf0-ad7b-407c-9b5a-fb32de2ad804",
         "x": [
          0,
          5,
          10,
          15,
          20,
          25,
          30,
          35,
          40
         ],
         "y": [
          0.1616262583091934,
          13.991617345695408,
          27.81903218076304,
          41.64960524830715,
          55.48017831585238,
          69.3107513833959,
          83.13273861133867,
          96.95336575501706,
          110.77399289869611
         ]
        }
       ],
       "layout": {
        "barmode": "stack",
        "height": 400,
        "margin": {
         "b": 100
        },
        "title": "Photon Uptake by PSI",
        "width": 600,
        "xaxis": {
         "autorange": true,
         "range": [
          -2.5,
          42.5
         ],
         "tickangle": 45,
         "title": "CO2 Uptake [µmol/s/m2]",
         "type": "linear"
        },
        "yaxis": {
         "autorange": true,
         "range": [
          0,
          258.6758367448499
         ],
         "title": "Flux [µmol/s/m2]",
         "type": "linear"
        }
       }
      },
      "text/html": [
       "<div id=\"c8159b1d-987c-4b9e-9cc0-f7de3b67b3b2\" style=\"height: 400px; width: 600px;\" class=\"plotly-graph-div\"></div><script type=\"text/javascript\">require([\"plotly\"], function(Plotly) { window.PLOTLYENV=window.PLOTLYENV || {};window.PLOTLYENV.BASE_URL=\"https://plot.ly\";Plotly.newPlot(\"c8159b1d-987c-4b9e-9cc0-f7de3b67b3b2\", [{\"name\": \"Bundle sheath\", \"marker\": {\"color\": \"rgb(8,81,156)\"}, \"y\": [0.16162625830919347, 16.971357827457364, 33.81921207159447, 50.67864650147861, 67.5380809313692, 84.39751536125449, 101.25460819852168, 118.11133010371644, 134.96805200891131], \"x\": [0, 5, 10, 15, 20, 25, 30, 35, 40], \"type\": \"bar\", \"uid\": \"13544143-0010-43e2-ae99-f54773c5f82b\"}, {\"name\": \"Mesophyll\", \"marker\": {\"color\": \"rgb(166,54,3)\"}, \"y\": [0.1616262583091934, 13.991617345695408, 27.81903218076304, 41.64960524830715, 55.48017831585238, 69.3107513833959, 83.13273861133867, 96.95336575501706, 110.77399289869611], \"x\": [0, 5, 10, 15, 20, 25, 30, 35, 40], \"type\": \"bar\", \"uid\": \"f12c2cf0-ad7b-407c-9b5a-fb32de2ad804\"}], {\"yaxis\": {\"autorange\": true, \"title\": \"Flux [\\u00b5mol/s/m2]\"}, \"title\": \"Photon Uptake by PSI\", \"height\": 400, \"barmode\": \"stack\", \"xaxis\": {\"tickangle\": 45, \"title\": \"CO2 Uptake [\\u00b5mol/s/m2]\"}, \"margin\": {\"b\": 100}, \"width\": 600}, {\"linkText\": \"Export to plot.ly\", \"showLink\": true})});</script>"
      ],
      "text/vnd.plotly.v1+html": [
       "<div id=\"c8159b1d-987c-4b9e-9cc0-f7de3b67b3b2\" style=\"height: 400px; width: 600px;\" class=\"plotly-graph-div\"></div><script type=\"text/javascript\">require([\"plotly\"], function(Plotly) { window.PLOTLYENV=window.PLOTLYENV || {};window.PLOTLYENV.BASE_URL=\"https://plot.ly\";Plotly.newPlot(\"c8159b1d-987c-4b9e-9cc0-f7de3b67b3b2\", [{\"name\": \"Bundle sheath\", \"marker\": {\"color\": \"rgb(8,81,156)\"}, \"y\": [0.16162625830919347, 16.971357827457364, 33.81921207159447, 50.67864650147861, 67.5380809313692, 84.39751536125449, 101.25460819852168, 118.11133010371644, 134.96805200891131], \"x\": [0, 5, 10, 15, 20, 25, 30, 35, 40], \"type\": \"bar\", \"uid\": \"13544143-0010-43e2-ae99-f54773c5f82b\"}, {\"name\": \"Mesophyll\", \"marker\": {\"color\": \"rgb(166,54,3)\"}, \"y\": [0.1616262583091934, 13.991617345695408, 27.81903218076304, 41.64960524830715, 55.48017831585238, 69.3107513833959, 83.13273861133867, 96.95336575501706, 110.77399289869611], \"x\": [0, 5, 10, 15, 20, 25, 30, 35, 40], \"type\": \"bar\", \"uid\": \"f12c2cf0-ad7b-407c-9b5a-fb32de2ad804\"}], {\"yaxis\": {\"autorange\": true, \"title\": \"Flux [\\u00b5mol/s/m2]\"}, \"title\": \"Photon Uptake by PSI\", \"height\": 400, \"barmode\": \"stack\", \"xaxis\": {\"tickangle\": 45, \"title\": \"CO2 Uptake [\\u00b5mol/s/m2]\"}, \"margin\": {\"b\": 100}, \"width\": 600}, {\"linkText\": \"Export to plot.ly\", \"showLink\": true})});</script>"
      ]
     },
     "metadata": {},
     "output_type": "display_data"
    }
   ],
   "source": [
    "create_bar_plot_met(D_fba, D_exp,\n",
    "                    {'[M]_PSI_h':'Mesophyll','[B]_PSI_h': 'Bundle sheath'},'hnu_h',\n",
    "                    'Photon Uptake by PSI', xaxis_title, c3_model,\n",
    "                    stacked = True, save_fig=save_fig)"
   ]
  },
  {
   "cell_type": "code",
   "execution_count": 18,
   "metadata": {
    "ExecuteTime": {
     "end_time": "2018-10-30T12:35:59.159698Z",
     "start_time": "2018-10-30T13:35:58.983831+01:00"
    },
    "collapsed": false,
    "run_control": {
     "marked": true
    }
   },
   "outputs": [
    {
     "data": {
      "application/vnd.plotly.v1+json": {
       "data": [
        {
         "marker": {
          "color": "rgb(8,81,156)"
         },
         "name": "Bundle sheath",
         "type": "bar",
         "uid": "a6496bd5-379d-44fe-af11-8a7124171e32",
         "x": [
          0,
          5,
          10,
          15,
          20,
          25,
          30,
          35,
          40
         ],
         "y": [
          0.05946116686299647,
          0.19694307713796258,
          0.3344249874129561,
          0.4719068976878995,
          0.6093888079618303,
          0.7468707182364843,
          0.8843526285111568,
          1.0218345387859933,
          1.1593164490606314
         ]
        },
        {
         "marker": {
          "color": "rgb(166,54,3)"
         },
         "name": "Mesophyll",
         "type": "bar",
         "uid": "a59499d5-e0dc-43e7-9714-86253e502c75",
         "x": [
          0,
          5,
          10,
          15,
          20,
          25,
          30,
          35,
          40
         ],
         "y": [
          0.05946116686299646,
          0.36301982987975756,
          0.666578492896508,
          0.9701371559132795,
          1.2736958189392091,
          1.5772544819563312,
          1.880813144975387,
          2.1843718079939847,
          2.4879304710121857
         ]
        }
       ],
       "layout": {
        "barmode": "stack",
        "height": 400,
        "margin": {
         "b": 100
        },
        "title": "ATP Synthesis Mitochondria",
        "width": 600,
        "xaxis": {
         "autorange": true,
         "range": [
          -2.5,
          42.5
         ],
         "tickangle": 45,
         "title": "CO2 Uptake [µmol/s/m2]",
         "type": "linear"
        },
        "yaxis": {
         "autorange": true,
         "range": [
          0,
          3.839207284287176
         ],
         "title": "Flux [µmol/s/m2]",
         "type": "linear"
        }
       }
      },
      "text/html": [
       "<div id=\"a6df9cef-7306-4059-ba30-e989f4dbae90\" style=\"height: 400px; width: 600px;\" class=\"plotly-graph-div\"></div><script type=\"text/javascript\">require([\"plotly\"], function(Plotly) { window.PLOTLYENV=window.PLOTLYENV || {};window.PLOTLYENV.BASE_URL=\"https://plot.ly\";Plotly.newPlot(\"a6df9cef-7306-4059-ba30-e989f4dbae90\", [{\"name\": \"Bundle sheath\", \"marker\": {\"color\": \"rgb(8,81,156)\"}, \"y\": [0.05946116686299647, 0.19694307713796258, 0.3344249874129561, 0.4719068976878995, 0.6093888079618303, 0.7468707182364843, 0.8843526285111568, 1.0218345387859933, 1.1593164490606314], \"x\": [0, 5, 10, 15, 20, 25, 30, 35, 40], \"type\": \"bar\", \"uid\": \"a6496bd5-379d-44fe-af11-8a7124171e32\"}, {\"name\": \"Mesophyll\", \"marker\": {\"color\": \"rgb(166,54,3)\"}, \"y\": [0.05946116686299646, 0.36301982987975756, 0.666578492896508, 0.9701371559132795, 1.2736958189392091, 1.5772544819563312, 1.880813144975387, 2.1843718079939847, 2.4879304710121857], \"x\": [0, 5, 10, 15, 20, 25, 30, 35, 40], \"type\": \"bar\", \"uid\": \"a59499d5-e0dc-43e7-9714-86253e502c75\"}], {\"yaxis\": {\"autorange\": true, \"title\": \"Flux [\\u00b5mol/s/m2]\"}, \"title\": \"ATP Synthesis Mitochondria\", \"height\": 400, \"barmode\": \"stack\", \"xaxis\": {\"tickangle\": 45, \"title\": \"CO2 Uptake [\\u00b5mol/s/m2]\"}, \"margin\": {\"b\": 100}, \"width\": 600}, {\"linkText\": \"Export to plot.ly\", \"showLink\": true})});</script>"
      ],
      "text/vnd.plotly.v1+html": [
       "<div id=\"a6df9cef-7306-4059-ba30-e989f4dbae90\" style=\"height: 400px; width: 600px;\" class=\"plotly-graph-div\"></div><script type=\"text/javascript\">require([\"plotly\"], function(Plotly) { window.PLOTLYENV=window.PLOTLYENV || {};window.PLOTLYENV.BASE_URL=\"https://plot.ly\";Plotly.newPlot(\"a6df9cef-7306-4059-ba30-e989f4dbae90\", [{\"name\": \"Bundle sheath\", \"marker\": {\"color\": \"rgb(8,81,156)\"}, \"y\": [0.05946116686299647, 0.19694307713796258, 0.3344249874129561, 0.4719068976878995, 0.6093888079618303, 0.7468707182364843, 0.8843526285111568, 1.0218345387859933, 1.1593164490606314], \"x\": [0, 5, 10, 15, 20, 25, 30, 35, 40], \"type\": \"bar\", \"uid\": \"a6496bd5-379d-44fe-af11-8a7124171e32\"}, {\"name\": \"Mesophyll\", \"marker\": {\"color\": \"rgb(166,54,3)\"}, \"y\": [0.05946116686299646, 0.36301982987975756, 0.666578492896508, 0.9701371559132795, 1.2736958189392091, 1.5772544819563312, 1.880813144975387, 2.1843718079939847, 2.4879304710121857], \"x\": [0, 5, 10, 15, 20, 25, 30, 35, 40], \"type\": \"bar\", \"uid\": \"a59499d5-e0dc-43e7-9714-86253e502c75\"}], {\"yaxis\": {\"autorange\": true, \"title\": \"Flux [\\u00b5mol/s/m2]\"}, \"title\": \"ATP Synthesis Mitochondria\", \"height\": 400, \"barmode\": \"stack\", \"xaxis\": {\"tickangle\": 45, \"title\": \"CO2 Uptake [\\u00b5mol/s/m2]\"}, \"margin\": {\"b\": 100}, \"width\": 600}, {\"linkText\": \"Export to plot.ly\", \"showLink\": true})});</script>"
      ]
     },
     "metadata": {},
     "output_type": "display_data"
    }
   ],
   "source": [
    "create_bar_plot_met(D_fba, D_exp,\n",
    "                    {'[M]_cplx5_m':'Mesophyll','[B]_cplx5_m': 'Bundle sheath'},'ATP_m',\n",
    "                    'ATP Synthesis Mitochondria', xaxis_title, c3_model,\n",
    "                    stacked = True, save_fig=save_fig)"
   ]
  },
  {
   "cell_type": "code",
   "execution_count": 19,
   "metadata": {
    "ExecuteTime": {
     "end_time": "2018-10-30T12:35:59.333022Z",
     "start_time": "2018-10-30T13:35:59.161412+01:00"
    },
    "collapsed": false,
    "run_control": {
     "marked": true
    }
   },
   "outputs": [
    {
     "data": {
      "application/vnd.plotly.v1+json": {
       "data": [
        {
         "marker": {
          "color": "rgb(8,81,156)"
         },
         "name": "Bundle sheath",
         "type": "bar",
         "uid": "4f231f90-60d8-406a-9930-d28f938b17eb",
         "x": [
          0,
          5,
          10,
          15,
          20,
          25,
          30,
          35,
          40
         ],
         "y": [
          0.15270708327974405,
          14.685716109253384,
          29.261935176129427,
          43.85078717291131,
          58.43963916969625,
          73.02849116647862,
          87.6157821015154,
          102.20282574850401,
          116.7898693954928
         ]
        },
        {
         "marker": {
          "color": "rgb(166,54,3)"
         },
         "name": "Mesophyll",
         "type": "bar",
         "uid": "a4aa3471-971d-46fd-8302-24d08f503334",
         "x": [
          0,
          5,
          10,
          15,
          20,
          25,
          30,
          35,
          40
         ],
         "y": [
          0.15270708327974397,
          10.96104050705094,
          21.761710312590132,
          32.56448560644698,
          43.36726090030023,
          54.170036194155365,
          64.96344511753661,
          75.7553703126298,
          86.54729550772382
         ]
        }
       ],
       "layout": {
        "barmode": "stack",
        "height": 400,
        "margin": {
         "b": 100
        },
        "title": "ATP Synthesis Chloroplast",
        "width": 600,
        "xaxis": {
         "autorange": true,
         "range": [
          -2.5,
          42.5
         ],
         "tickangle": 45,
         "title": "CO2 Uptake [µmol/s/m2]",
         "type": "linear"
        },
        "yaxis": {
         "autorange": true,
         "range": [
          0,
          214.03912095075432
         ],
         "title": "Flux [µmol/s/m2]",
         "type": "linear"
        }
       }
      },
      "text/html": [
       "<div id=\"b8dbd55f-b81a-4146-a292-e83a23d5b1dd\" style=\"height: 400px; width: 600px;\" class=\"plotly-graph-div\"></div><script type=\"text/javascript\">require([\"plotly\"], function(Plotly) { window.PLOTLYENV=window.PLOTLYENV || {};window.PLOTLYENV.BASE_URL=\"https://plot.ly\";Plotly.newPlot(\"b8dbd55f-b81a-4146-a292-e83a23d5b1dd\", [{\"name\": \"Bundle sheath\", \"marker\": {\"color\": \"rgb(8,81,156)\"}, \"y\": [0.15270708327974405, 14.685716109253384, 29.261935176129427, 43.85078717291131, 58.43963916969625, 73.02849116647862, 87.6157821015154, 102.20282574850401, 116.7898693954928], \"x\": [0, 5, 10, 15, 20, 25, 30, 35, 40], \"type\": \"bar\", \"uid\": \"4f231f90-60d8-406a-9930-d28f938b17eb\"}, {\"name\": \"Mesophyll\", \"marker\": {\"color\": \"rgb(166,54,3)\"}, \"y\": [0.15270708327974397, 10.96104050705094, 21.761710312590132, 32.56448560644698, 43.36726090030023, 54.170036194155365, 64.96344511753661, 75.7553703126298, 86.54729550772382], \"x\": [0, 5, 10, 15, 20, 25, 30, 35, 40], \"type\": \"bar\", \"uid\": \"a4aa3471-971d-46fd-8302-24d08f503334\"}], {\"yaxis\": {\"autorange\": true, \"title\": \"Flux [\\u00b5mol/s/m2]\"}, \"title\": \"ATP Synthesis Chloroplast\", \"height\": 400, \"barmode\": \"stack\", \"xaxis\": {\"tickangle\": 45, \"title\": \"CO2 Uptake [\\u00b5mol/s/m2]\"}, \"margin\": {\"b\": 100}, \"width\": 600}, {\"linkText\": \"Export to plot.ly\", \"showLink\": true})});</script>"
      ],
      "text/vnd.plotly.v1+html": [
       "<div id=\"b8dbd55f-b81a-4146-a292-e83a23d5b1dd\" style=\"height: 400px; width: 600px;\" class=\"plotly-graph-div\"></div><script type=\"text/javascript\">require([\"plotly\"], function(Plotly) { window.PLOTLYENV=window.PLOTLYENV || {};window.PLOTLYENV.BASE_URL=\"https://plot.ly\";Plotly.newPlot(\"b8dbd55f-b81a-4146-a292-e83a23d5b1dd\", [{\"name\": \"Bundle sheath\", \"marker\": {\"color\": \"rgb(8,81,156)\"}, \"y\": [0.15270708327974405, 14.685716109253384, 29.261935176129427, 43.85078717291131, 58.43963916969625, 73.02849116647862, 87.6157821015154, 102.20282574850401, 116.7898693954928], \"x\": [0, 5, 10, 15, 20, 25, 30, 35, 40], \"type\": \"bar\", \"uid\": \"4f231f90-60d8-406a-9930-d28f938b17eb\"}, {\"name\": \"Mesophyll\", \"marker\": {\"color\": \"rgb(166,54,3)\"}, \"y\": [0.15270708327974397, 10.96104050705094, 21.761710312590132, 32.56448560644698, 43.36726090030023, 54.170036194155365, 64.96344511753661, 75.7553703126298, 86.54729550772382], \"x\": [0, 5, 10, 15, 20, 25, 30, 35, 40], \"type\": \"bar\", \"uid\": \"a4aa3471-971d-46fd-8302-24d08f503334\"}], {\"yaxis\": {\"autorange\": true, \"title\": \"Flux [\\u00b5mol/s/m2]\"}, \"title\": \"ATP Synthesis Chloroplast\", \"height\": 400, \"barmode\": \"stack\", \"xaxis\": {\"tickangle\": 45, \"title\": \"CO2 Uptake [\\u00b5mol/s/m2]\"}, \"margin\": {\"b\": 100}, \"width\": 600}, {\"linkText\": \"Export to plot.ly\", \"showLink\": true})});</script>"
      ]
     },
     "metadata": {},
     "output_type": "display_data"
    }
   ],
   "source": [
    "create_bar_plot_met(D_fba, D_exp,\n",
    "                    {'[M]_ATPase_h':'Mesophyll','[B]_ATPase_h': 'Bundle sheath'},'ATP_h',\n",
    "                    'ATP Synthesis Chloroplast', xaxis_title, c3_model,\n",
    "                    stacked = True, save_fig=save_fig)"
   ]
  },
  {
   "cell_type": "code",
   "execution_count": 20,
   "metadata": {
    "ExecuteTime": {
     "end_time": "2018-10-30T12:35:59.508736Z",
     "start_time": "2018-10-30T13:35:59.334768+01:00"
    },
    "collapsed": false,
    "run_control": {
     "marked": true
    }
   },
   "outputs": [
    {
     "data": {
      "application/vnd.plotly.v1+json": {
       "data": [
        {
         "marker": {
          "color": "rgb(49,130,189)"
         },
         "name": "Bundle sheat (unconstrained)",
         "type": "bar",
         "uid": "0508f010-02d7-40c7-9d6a-ce22861d6355",
         "x": [
          0,
          5,
          10,
          15,
          20,
          25,
          30,
          35,
          40
         ],
         "y": [
          0,
          5.021882028838943,
          10.043764057677889,
          15.065646086516834,
          20.087528115351006,
          25.109410144188722,
          30.131292173026214,
          35.15317420186399,
          40.175056230702026
         ]
        },
        {
         "marker": {
          "color": "rgb(8,81,156)"
         },
         "name": "Bundle sheat (constrained)",
         "type": "bar",
         "uid": "8aca1b56-46aa-4349-b6dd-27665eae0a60",
         "x": [
          0,
          5,
          10,
          15,
          20,
          25,
          30,
          35,
          40
         ],
         "y": [
          0,
          0,
          0,
          0,
          2.3679024901703368e-12,
          2.983186930276254e-12,
          3.61217689366416e-12,
          4.19047178921376e-12,
          4.71456470687265e-12
         ]
        },
        {
         "marker": {
          "color": "rgb(166,54,3)"
         },
         "name": "Mesophyll (constrained)",
         "type": "bar",
         "uid": "b22491da-bd63-48f1-b9df-cb5ddb15cfd3",
         "x": [
          0,
          5,
          10,
          15,
          20,
          25,
          30,
          35,
          40
         ],
         "y": [
          0,
          6.64615975218798e-16,
          1.319224280024316e-15,
          1.333637166754371e-15,
          7.83484771971726e-15,
          4.024313286082261e-15,
          9.21073635553098e-14,
          8.75871075138366e-14,
          2.122516421885754e-14
         ]
        }
       ],
       "layout": {
        "barmode": "stack",
        "height": 400,
        "margin": {
         "b": 100
        },
        "title": "Carboxylation by Rubisco",
        "width": 600,
        "xaxis": {
         "autorange": true,
         "range": [
          -2.5,
          42.5
         ],
         "tickangle": 45,
         "title": "CO2 Uptake [µmol/s/m2]",
         "type": "linear"
        },
        "yaxis": {
         "autorange": true,
         "range": [
          0,
          42.289532874428176
         ],
         "title": "Flux [µmol/s/m2]",
         "type": "linear"
        }
       }
      },
      "text/html": [
       "<div id=\"91508986-5f8d-4e23-9d5c-b47c2e515330\" style=\"height: 400px; width: 600px;\" class=\"plotly-graph-div\"></div><script type=\"text/javascript\">require([\"plotly\"], function(Plotly) { window.PLOTLYENV=window.PLOTLYENV || {};window.PLOTLYENV.BASE_URL=\"https://plot.ly\";Plotly.newPlot(\"91508986-5f8d-4e23-9d5c-b47c2e515330\", [{\"name\": \"Bundle sheat (unconstrained)\", \"marker\": {\"color\": \"rgb(49,130,189)\"}, \"y\": [0.0, 5.021882028838943, 10.043764057677889, 15.065646086516834, 20.087528115351006, 25.109410144188722, 30.131292173026214, 35.15317420186399, 40.175056230702026], \"x\": [0, 5, 10, 15, 20, 25, 30, 35, 40], \"type\": \"bar\", \"uid\": \"0508f010-02d7-40c7-9d6a-ce22861d6355\"}, {\"name\": \"Bundle sheat (constrained)\", \"marker\": {\"color\": \"rgb(8,81,156)\"}, \"y\": [0.0, 0.0, 0.0, 0.0, 2.3679024901703368e-12, 2.983186930276254e-12, 3.61217689366416e-12, 4.19047178921376e-12, 4.71456470687265e-12], \"x\": [0, 5, 10, 15, 20, 25, 30, 35, 40], \"type\": \"bar\", \"uid\": \"8aca1b56-46aa-4349-b6dd-27665eae0a60\"}, {\"name\": \"Mesophyll (constrained)\", \"marker\": {\"color\": \"rgb(166,54,3)\"}, \"y\": [0.0, 6.64615975218798e-16, 1.319224280024316e-15, 1.333637166754371e-15, 7.83484771971726e-15, 4.024313286082261e-15, 9.21073635553098e-14, 8.75871075138366e-14, 2.122516421885754e-14], \"x\": [0, 5, 10, 15, 20, 25, 30, 35, 40], \"type\": \"bar\", \"uid\": \"b22491da-bd63-48f1-b9df-cb5ddb15cfd3\"}], {\"yaxis\": {\"autorange\": true, \"title\": \"Flux [\\u00b5mol/s/m2]\"}, \"title\": \"Carboxylation by Rubisco\", \"height\": 400, \"barmode\": \"stack\", \"xaxis\": {\"tickangle\": 45, \"title\": \"CO2 Uptake [\\u00b5mol/s/m2]\"}, \"margin\": {\"b\": 100}, \"width\": 600}, {\"linkText\": \"Export to plot.ly\", \"showLink\": true})});</script>"
      ],
      "text/vnd.plotly.v1+html": [
       "<div id=\"91508986-5f8d-4e23-9d5c-b47c2e515330\" style=\"height: 400px; width: 600px;\" class=\"plotly-graph-div\"></div><script type=\"text/javascript\">require([\"plotly\"], function(Plotly) { window.PLOTLYENV=window.PLOTLYENV || {};window.PLOTLYENV.BASE_URL=\"https://plot.ly\";Plotly.newPlot(\"91508986-5f8d-4e23-9d5c-b47c2e515330\", [{\"name\": \"Bundle sheat (unconstrained)\", \"marker\": {\"color\": \"rgb(49,130,189)\"}, \"y\": [0.0, 5.021882028838943, 10.043764057677889, 15.065646086516834, 20.087528115351006, 25.109410144188722, 30.131292173026214, 35.15317420186399, 40.175056230702026], \"x\": [0, 5, 10, 15, 20, 25, 30, 35, 40], \"type\": \"bar\", \"uid\": \"0508f010-02d7-40c7-9d6a-ce22861d6355\"}, {\"name\": \"Bundle sheat (constrained)\", \"marker\": {\"color\": \"rgb(8,81,156)\"}, \"y\": [0.0, 0.0, 0.0, 0.0, 2.3679024901703368e-12, 2.983186930276254e-12, 3.61217689366416e-12, 4.19047178921376e-12, 4.71456470687265e-12], \"x\": [0, 5, 10, 15, 20, 25, 30, 35, 40], \"type\": \"bar\", \"uid\": \"8aca1b56-46aa-4349-b6dd-27665eae0a60\"}, {\"name\": \"Mesophyll (constrained)\", \"marker\": {\"color\": \"rgb(166,54,3)\"}, \"y\": [0.0, 6.64615975218798e-16, 1.319224280024316e-15, 1.333637166754371e-15, 7.83484771971726e-15, 4.024313286082261e-15, 9.21073635553098e-14, 8.75871075138366e-14, 2.122516421885754e-14], \"x\": [0, 5, 10, 15, 20, 25, 30, 35, 40], \"type\": \"bar\", \"uid\": \"b22491da-bd63-48f1-b9df-cb5ddb15cfd3\"}], {\"yaxis\": {\"autorange\": true, \"title\": \"Flux [\\u00b5mol/s/m2]\"}, \"title\": \"Carboxylation by Rubisco\", \"height\": 400, \"barmode\": \"stack\", \"xaxis\": {\"tickangle\": 45, \"title\": \"CO2 Uptake [\\u00b5mol/s/m2]\"}, \"margin\": {\"b\": 100}, \"width\": 600}, {\"linkText\": \"Export to plot.ly\", \"showLink\": true})});</script>"
      ]
     },
     "metadata": {},
     "output_type": "display_data"
    }
   ],
   "source": [
    "create_bar_plot_rxn(D_fba, D_exp,\n",
    "                    {'[M]_RBC_h':'Mesophyll (constrained)','[B]_RBC_h_Ex':'Bundle sheat (constrained)',\n",
    "                 '[B]_RBC_h': 'Bundle sheat (unconstrained)'},\n",
    "                    'Carboxylation by Rubisco', xaxis_title,\n",
    "                    stacked = True, save_fig=save_fig)"
   ]
  },
  {
   "cell_type": "code",
   "execution_count": 21,
   "metadata": {
    "ExecuteTime": {
     "end_time": "2018-10-30T12:50:49.684634Z",
     "start_time": "2018-10-30T13:50:43.491177+01:00"
    },
    "collapsed": false,
    "run_control": {
     "marked": true
    }
   },
   "outputs": [
    {
     "data": {
      "application/vnd.plotly.v1+json": {
       "data": [
        {
         "marker": {
          "color": "rgb(178,223,138)"
         },
         "name": "NAD-ME",
         "type": "bar",
         "uid": "9b5a899d-90e9-4c53-9c8b-fbc449745794",
         "x": [
          0,
          5,
          10,
          15,
          20,
          25,
          30,
          35,
          40
         ],
         "y": [
          0,
          0.0402768817673006,
          0.08055376353460152,
          0.12083064530190223,
          0.16110752706916046,
          0.20138440883645067,
          0.24166129060373934,
          0.28193817237102925,
          0.3222150541383204
         ]
        },
        {
         "marker": {
          "color": "rgb(166,206,227)"
         },
         "name": "NADP-ME",
         "type": "bar",
         "uid": "74f7bd32-1f48-4896-8072-39950b034b71",
         "x": [
          0,
          5,
          10,
          15,
          20,
          25,
          30,
          35,
          40
         ],
         "y": [
          0,
          4.5690695820333875,
          9.209362286854955,
          13.86439340989999,
          18.51942453294133,
          23.17445565598547,
          27.8294867790293,
          32.48451790207321,
          37.13954902511774
         ]
        },
        {
         "marker": {
          "color": "rgb(31,120,180)"
         },
         "name": "PEPCK",
         "type": "bar",
         "uid": "b32da5ff-9fe4-4859-9f33-646cf378c41d",
         "x": [
          0,
          5,
          10,
          15,
          20,
          25,
          30,
          35,
          40
         ],
         "y": [
          0,
          0.32239206774953477,
          0.5735610127108932,
          0.8099915394487754,
          1.0464220661857204,
          1.282852592923322,
          1.5192831196609995,
          1.755713646398879,
          1.9921441731363898
         ]
        }
       ],
       "layout": {
        "barmode": "stack",
        "height": 400,
        "margin": {
         "b": 100
        },
        "title": "Decarboxylation Enzymes",
        "width": 600,
        "xaxis": {
         "autorange": true,
         "range": [
          -2.5,
          42.5
         ],
         "tickangle": 45,
         "title": "CO2 Uptake [µmol/s/m2]",
         "type": "linear"
        },
        "yaxis": {
         "autorange": true,
         "range": [
          0,
          41.53042973936047
         ],
         "title": "Flux [µmol/s/m2]",
         "type": "linear"
        }
       }
      },
      "text/html": [
       "<div id=\"9df1c94c-156f-423b-b9c8-fb8779f97c6c\" style=\"height: 400px; width: 600px;\" class=\"plotly-graph-div\"></div><script type=\"text/javascript\">require([\"plotly\"], function(Plotly) { window.PLOTLYENV=window.PLOTLYENV || {};window.PLOTLYENV.BASE_URL=\"https://plot.ly\";Plotly.newPlot(\"9df1c94c-156f-423b-b9c8-fb8779f97c6c\", [{\"name\": \"NAD-ME\", \"marker\": {\"color\": \"rgb(178,223,138)\"}, \"y\": [0.0, 0.0402768817673006, 0.08055376353460152, 0.12083064530190223, 0.16110752706916046, 0.20138440883645067, 0.24166129060373934, 0.28193817237102925, 0.3222150541383204], \"x\": [0, 5, 10, 15, 20, 25, 30, 35, 40], \"type\": \"bar\", \"uid\": \"9b5a899d-90e9-4c53-9c8b-fbc449745794\"}, {\"name\": \"NADP-ME\", \"marker\": {\"color\": \"rgb(166,206,227)\"}, \"y\": [0.0, 4.5690695820333875, 9.209362286854955, 13.86439340989999, 18.51942453294133, 23.17445565598547, 27.8294867790293, 32.48451790207321, 37.13954902511774], \"x\": [0, 5, 10, 15, 20, 25, 30, 35, 40], \"type\": \"bar\", \"uid\": \"74f7bd32-1f48-4896-8072-39950b034b71\"}, {\"name\": \"PEPCK\", \"marker\": {\"color\": \"rgb(31,120,180)\"}, \"y\": [0.0, 0.32239206774953477, 0.5735610127108932, 0.8099915394487754, 1.0464220661857204, 1.282852592923322, 1.5192831196609995, 1.755713646398879, 1.9921441731363898], \"x\": [0, 5, 10, 15, 20, 25, 30, 35, 40], \"type\": \"bar\", \"uid\": \"b32da5ff-9fe4-4859-9f33-646cf378c41d\"}], {\"yaxis\": {\"autorange\": true, \"title\": \"Flux [\\u00b5mol/s/m2]\"}, \"title\": \"Decarboxylation Enzymes\", \"height\": 400, \"barmode\": \"stack\", \"xaxis\": {\"tickangle\": 45, \"title\": \"CO2 Uptake [\\u00b5mol/s/m2]\"}, \"margin\": {\"b\": 100}, \"width\": 600}, {\"linkText\": \"Export to plot.ly\", \"showLink\": true})});</script>"
      ],
      "text/vnd.plotly.v1+html": [
       "<div id=\"9df1c94c-156f-423b-b9c8-fb8779f97c6c\" style=\"height: 400px; width: 600px;\" class=\"plotly-graph-div\"></div><script type=\"text/javascript\">require([\"plotly\"], function(Plotly) { window.PLOTLYENV=window.PLOTLYENV || {};window.PLOTLYENV.BASE_URL=\"https://plot.ly\";Plotly.newPlot(\"9df1c94c-156f-423b-b9c8-fb8779f97c6c\", [{\"name\": \"NAD-ME\", \"marker\": {\"color\": \"rgb(178,223,138)\"}, \"y\": [0.0, 0.0402768817673006, 0.08055376353460152, 0.12083064530190223, 0.16110752706916046, 0.20138440883645067, 0.24166129060373934, 0.28193817237102925, 0.3222150541383204], \"x\": [0, 5, 10, 15, 20, 25, 30, 35, 40], \"type\": \"bar\", \"uid\": \"9b5a899d-90e9-4c53-9c8b-fbc449745794\"}, {\"name\": \"NADP-ME\", \"marker\": {\"color\": \"rgb(166,206,227)\"}, \"y\": [0.0, 4.5690695820333875, 9.209362286854955, 13.86439340989999, 18.51942453294133, 23.17445565598547, 27.8294867790293, 32.48451790207321, 37.13954902511774], \"x\": [0, 5, 10, 15, 20, 25, 30, 35, 40], \"type\": \"bar\", \"uid\": \"74f7bd32-1f48-4896-8072-39950b034b71\"}, {\"name\": \"PEPCK\", \"marker\": {\"color\": \"rgb(31,120,180)\"}, \"y\": [0.0, 0.32239206774953477, 0.5735610127108932, 0.8099915394487754, 1.0464220661857204, 1.282852592923322, 1.5192831196609995, 1.755713646398879, 1.9921441731363898], \"x\": [0, 5, 10, 15, 20, 25, 30, 35, 40], \"type\": \"bar\", \"uid\": \"b32da5ff-9fe4-4859-9f33-646cf378c41d\"}], {\"yaxis\": {\"autorange\": true, \"title\": \"Flux [\\u00b5mol/s/m2]\"}, \"title\": \"Decarboxylation Enzymes\", \"height\": 400, \"barmode\": \"stack\", \"xaxis\": {\"tickangle\": 45, \"title\": \"CO2 Uptake [\\u00b5mol/s/m2]\"}, \"margin\": {\"b\": 100}, \"width\": 600}, {\"linkText\": \"Export to plot.ly\", \"showLink\": true})});</script>"
      ]
     },
     "metadata": {},
     "output_type": "display_data"
    },
    {
     "data": {
      "text/html": [
       "<script>function downloadimage(format, height, width, filename) {var p = document.getElementById('9df1c94c-156f-423b-b9c8-fb8779f97c6c');Plotly.downloadImage(p, {format: format, height: height, width: width, filename: filename});};if(document.readyState == 'complete') {{downloadimage('svg', 400, 600, 'Decarboxylation Enzymes');}}</script>"
      ],
      "text/plain": [
       "<IPython.core.display.HTML object>"
      ]
     },
     "metadata": {},
     "output_type": "display_data"
    }
   ],
   "source": [
    "create_bar_plot_rxn(D_fba, D_exp,\n",
    "                    {'[B]_MalDH4_h': 'NADP-ME', '[B]_MalDH2_m': 'NAD-ME', '[B]_PEPC1_c': 'PEPCK',},\n",
    "                    'Decarboxylation Enzymes', xaxis_title,\n",
    "                    c=True, stacked = True, save_fig=save_fig)"
   ]
  },
  {
   "cell_type": "code",
   "execution_count": 22,
   "metadata": {
    "ExecuteTime": {
     "end_time": "2018-10-30T12:35:59.855340Z",
     "start_time": "2018-10-30T13:35:59.685018+01:00"
    },
    "collapsed": false,
    "run_control": {
     "marked": true
    }
   },
   "outputs": [
    {
     "data": {
      "application/vnd.plotly.v1+json": {
       "data": [
        {
         "marker": {
          "color": "rgb(8,81,156)"
         },
         "name": "Bundle sheath",
         "type": "bar",
         "uid": "9cad0371-c1aa-4955-ae4c-763e0241f317",
         "x": [
          0,
          5,
          10,
          15,
          20,
          25,
          30,
          35,
          40
         ],
         "y": [
          9.02926896059743e-18,
          0,
          0,
          0,
          0,
          0,
          0,
          0,
          0
         ]
        },
        {
         "marker": {
          "color": "rgb(166,54,3)"
         },
         "name": "Mesophyll",
         "type": "bar",
         "uid": "f00c322a-fad7-4dfb-8d80-cabac9fefc91",
         "x": [
          0,
          5,
          10,
          15,
          20,
          25,
          30,
          35,
          40
         ],
         "y": [
          6.14374946772011e-19,
          4.998256412044705,
          9.996512824089413,
          14.994769236134113,
          19.99302564817407,
          24.991282060217557,
          29.989538472260826,
          34.98779488430437,
          39.986051296348165
         ]
        }
       ],
       "layout": {
        "barmode": "stack",
        "height": 400,
        "margin": {
         "b": 100
        },
        "title": "PEPC",
        "width": 600,
        "xaxis": {
         "autorange": true,
         "range": [
          -2.5,
          42.5
         ],
         "tickangle": 45,
         "title": "CO2 Uptake [µmol/s/m2]",
         "type": "linear"
        },
        "yaxis": {
         "autorange": true,
         "range": [
          0,
          42.09058031194544
         ],
         "title": "Flux [µmol/s/m2]",
         "type": "linear"
        }
       }
      },
      "text/html": [
       "<div id=\"c3f7bbff-e1c7-4adb-a436-07f1e5269843\" style=\"height: 400px; width: 600px;\" class=\"plotly-graph-div\"></div><script type=\"text/javascript\">require([\"plotly\"], function(Plotly) { window.PLOTLYENV=window.PLOTLYENV || {};window.PLOTLYENV.BASE_URL=\"https://plot.ly\";Plotly.newPlot(\"c3f7bbff-e1c7-4adb-a436-07f1e5269843\", [{\"name\": \"Bundle sheath\", \"marker\": {\"color\": \"rgb(8,81,156)\"}, \"y\": [9.02926896059743e-18, 0.0, 0.0, 0.0, 0.0, 0.0, 0.0, 0.0, 0.0], \"x\": [0, 5, 10, 15, 20, 25, 30, 35, 40], \"type\": \"bar\", \"uid\": \"9cad0371-c1aa-4955-ae4c-763e0241f317\"}, {\"name\": \"Mesophyll\", \"marker\": {\"color\": \"rgb(166,54,3)\"}, \"y\": [6.14374946772011e-19, 4.998256412044705, 9.996512824089413, 14.994769236134113, 19.99302564817407, 24.991282060217557, 29.989538472260826, 34.98779488430437, 39.986051296348165], \"x\": [0, 5, 10, 15, 20, 25, 30, 35, 40], \"type\": \"bar\", \"uid\": \"f00c322a-fad7-4dfb-8d80-cabac9fefc91\"}], {\"yaxis\": {\"autorange\": true, \"title\": \"Flux [\\u00b5mol/s/m2]\"}, \"title\": \"PEPC\", \"height\": 400, \"barmode\": \"stack\", \"xaxis\": {\"tickangle\": 45, \"title\": \"CO2 Uptake [\\u00b5mol/s/m2]\"}, \"margin\": {\"b\": 100}, \"width\": 600}, {\"linkText\": \"Export to plot.ly\", \"showLink\": true})});</script>"
      ],
      "text/vnd.plotly.v1+html": [
       "<div id=\"c3f7bbff-e1c7-4adb-a436-07f1e5269843\" style=\"height: 400px; width: 600px;\" class=\"plotly-graph-div\"></div><script type=\"text/javascript\">require([\"plotly\"], function(Plotly) { window.PLOTLYENV=window.PLOTLYENV || {};window.PLOTLYENV.BASE_URL=\"https://plot.ly\";Plotly.newPlot(\"c3f7bbff-e1c7-4adb-a436-07f1e5269843\", [{\"name\": \"Bundle sheath\", \"marker\": {\"color\": \"rgb(8,81,156)\"}, \"y\": [9.02926896059743e-18, 0.0, 0.0, 0.0, 0.0, 0.0, 0.0, 0.0, 0.0], \"x\": [0, 5, 10, 15, 20, 25, 30, 35, 40], \"type\": \"bar\", \"uid\": \"9cad0371-c1aa-4955-ae4c-763e0241f317\"}, {\"name\": \"Mesophyll\", \"marker\": {\"color\": \"rgb(166,54,3)\"}, \"y\": [6.14374946772011e-19, 4.998256412044705, 9.996512824089413, 14.994769236134113, 19.99302564817407, 24.991282060217557, 29.989538472260826, 34.98779488430437, 39.986051296348165], \"x\": [0, 5, 10, 15, 20, 25, 30, 35, 40], \"type\": \"bar\", \"uid\": \"f00c322a-fad7-4dfb-8d80-cabac9fefc91\"}], {\"yaxis\": {\"autorange\": true, \"title\": \"Flux [\\u00b5mol/s/m2]\"}, \"title\": \"PEPC\", \"height\": 400, \"barmode\": \"stack\", \"xaxis\": {\"tickangle\": 45, \"title\": \"CO2 Uptake [\\u00b5mol/s/m2]\"}, \"margin\": {\"b\": 100}, \"width\": 600}, {\"linkText\": \"Export to plot.ly\", \"showLink\": true})});</script>"
      ]
     },
     "metadata": {},
     "output_type": "display_data"
    }
   ],
   "source": [
    "create_bar_plot_rxn(D_fba, D_exp,\n",
    "                    {'[M]_PEPC2_c': 'Mesophyll', '[B]_PEPC2_c': 'Bundle sheath'},\n",
    "                    'PEPC', xaxis_title,\n",
    "                     stacked = True, save_fig=save_fig)"
   ]
  },
  {
   "cell_type": "code",
   "execution_count": 23,
   "metadata": {
    "ExecuteTime": {
     "end_time": "2018-10-30T12:36:00.027961Z",
     "start_time": "2018-10-30T13:35:59.856970+01:00"
    },
    "collapsed": false,
    "run_control": {
     "marked": true
    }
   },
   "outputs": [
    {
     "data": {
      "application/vnd.plotly.v1+json": {
       "data": [
        {
         "marker": {
          "color": "rgb(8,81,156)"
         },
         "name": "Bundle sheath",
         "type": "bar",
         "uid": "0dc6826b-47b0-446f-a347-bd0dc53962ed",
         "x": [
          0,
          5,
          10,
          15,
          20,
          25,
          30,
          35,
          40
         ],
         "y": [
          9.593938651178296e-19,
          0.010635886527295984,
          0.021271773054596148,
          0.03190765958188224,
          0.042543546108632806,
          0.0531794326357868,
          0.0638153191629103,
          0.07445120569007908,
          0.08508709221731275
         ]
        },
        {
         "marker": {
          "color": "rgb(166,54,3)"
         },
         "name": "Mesophyll",
         "type": "bar",
         "uid": "88ba529e-6bfa-4c96-9d8c-4659fbb3e4da",
         "x": [
          0,
          5,
          10,
          15,
          20,
          25,
          30,
          35,
          40
         ],
         "y": [
          6.711842317786738e-18,
          4.998605129635761,
          9.997210259271496,
          14.995815388907253,
          19.994420518537055,
          24.99302564817128,
          29.991630777805213,
          34.9902359074394,
          39.988841037074266
         ]
        }
       ],
       "layout": {
        "barmode": "stack",
        "height": 400,
        "margin": {
         "b": 100
        },
        "title": "PyrPiDK",
        "width": 600,
        "xaxis": {
         "autorange": true,
         "range": [
          -2.5,
          42.5
         ],
         "tickangle": 45,
         "title": "CO2 Uptake [µmol/s/m2]",
         "type": "linear"
        },
        "yaxis": {
         "autorange": true,
         "range": [
          0,
          42.18308224135956
         ],
         "title": "Flux [µmol/s/m2]",
         "type": "linear"
        }
       }
      },
      "text/html": [
       "<div id=\"2b37aa52-01bb-47c1-a1a1-21c5ec77ff6c\" style=\"height: 400px; width: 600px;\" class=\"plotly-graph-div\"></div><script type=\"text/javascript\">require([\"plotly\"], function(Plotly) { window.PLOTLYENV=window.PLOTLYENV || {};window.PLOTLYENV.BASE_URL=\"https://plot.ly\";Plotly.newPlot(\"2b37aa52-01bb-47c1-a1a1-21c5ec77ff6c\", [{\"name\": \"Bundle sheath\", \"marker\": {\"color\": \"rgb(8,81,156)\"}, \"y\": [9.593938651178296e-19, 0.010635886527295984, 0.021271773054596148, 0.03190765958188224, 0.042543546108632806, 0.0531794326357868, 0.0638153191629103, 0.07445120569007908, 0.08508709221731275], \"x\": [0, 5, 10, 15, 20, 25, 30, 35, 40], \"type\": \"bar\", \"uid\": \"0dc6826b-47b0-446f-a347-bd0dc53962ed\"}, {\"name\": \"Mesophyll\", \"marker\": {\"color\": \"rgb(166,54,3)\"}, \"y\": [6.711842317786738e-18, 4.998605129635761, 9.997210259271496, 14.995815388907253, 19.994420518537055, 24.99302564817128, 29.991630777805213, 34.9902359074394, 39.988841037074266], \"x\": [0, 5, 10, 15, 20, 25, 30, 35, 40], \"type\": \"bar\", \"uid\": \"88ba529e-6bfa-4c96-9d8c-4659fbb3e4da\"}], {\"yaxis\": {\"autorange\": true, \"title\": \"Flux [\\u00b5mol/s/m2]\"}, \"title\": \"PyrPiDK\", \"height\": 400, \"barmode\": \"stack\", \"xaxis\": {\"tickangle\": 45, \"title\": \"CO2 Uptake [\\u00b5mol/s/m2]\"}, \"margin\": {\"b\": 100}, \"width\": 600}, {\"linkText\": \"Export to plot.ly\", \"showLink\": true})});</script>"
      ],
      "text/vnd.plotly.v1+html": [
       "<div id=\"2b37aa52-01bb-47c1-a1a1-21c5ec77ff6c\" style=\"height: 400px; width: 600px;\" class=\"plotly-graph-div\"></div><script type=\"text/javascript\">require([\"plotly\"], function(Plotly) { window.PLOTLYENV=window.PLOTLYENV || {};window.PLOTLYENV.BASE_URL=\"https://plot.ly\";Plotly.newPlot(\"2b37aa52-01bb-47c1-a1a1-21c5ec77ff6c\", [{\"name\": \"Bundle sheath\", \"marker\": {\"color\": \"rgb(8,81,156)\"}, \"y\": [9.593938651178296e-19, 0.010635886527295984, 0.021271773054596148, 0.03190765958188224, 0.042543546108632806, 0.0531794326357868, 0.0638153191629103, 0.07445120569007908, 0.08508709221731275], \"x\": [0, 5, 10, 15, 20, 25, 30, 35, 40], \"type\": \"bar\", \"uid\": \"0dc6826b-47b0-446f-a347-bd0dc53962ed\"}, {\"name\": \"Mesophyll\", \"marker\": {\"color\": \"rgb(166,54,3)\"}, \"y\": [6.711842317786738e-18, 4.998605129635761, 9.997210259271496, 14.995815388907253, 19.994420518537055, 24.99302564817128, 29.991630777805213, 34.9902359074394, 39.988841037074266], \"x\": [0, 5, 10, 15, 20, 25, 30, 35, 40], \"type\": \"bar\", \"uid\": \"88ba529e-6bfa-4c96-9d8c-4659fbb3e4da\"}], {\"yaxis\": {\"autorange\": true, \"title\": \"Flux [\\u00b5mol/s/m2]\"}, \"title\": \"PyrPiDK\", \"height\": 400, \"barmode\": \"stack\", \"xaxis\": {\"tickangle\": 45, \"title\": \"CO2 Uptake [\\u00b5mol/s/m2]\"}, \"margin\": {\"b\": 100}, \"width\": 600}, {\"linkText\": \"Export to plot.ly\", \"showLink\": true})});</script>"
      ]
     },
     "metadata": {},
     "output_type": "display_data"
    }
   ],
   "source": [
    "create_bar_plot_rxn(D_fba, D_exp,\n",
    "                    {'[M]_PyrPiDK_h': 'Mesophyll', '[B]_PyrPiDK_h': 'Bundle sheath'},\n",
    "                    'PyrPiDK', xaxis_title,\n",
    "                     stacked = True, save_fig=save_fig)"
   ]
  },
  {
   "cell_type": "code",
   "execution_count": 24,
   "metadata": {
    "ExecuteTime": {
     "end_time": "2018-10-30T12:36:00.395846Z",
     "start_time": "2018-10-30T13:36:00.029773+01:00"
    },
    "collapsed": false,
    "run_control": {
     "marked": true
    }
   },
   "outputs": [
    {
     "name": "stderr",
     "output_type": "stream",
     "text": [
      "../src/init_fba/view_results.py:199: FutureWarning:\n",
      "\n",
      "set_value is deprecated and will be removed in a future release. Please use .at[] or .iat[] accessors instead\n",
      "\n"
     ]
    },
    {
     "data": {
      "application/vnd.plotly.v1+json": {
       "data": [
        {
         "colorbar": {
          "title": "Flux [µmol/s/m2]",
          "titleside": "right"
         },
         "colorscale": [
          [
           0,
           "rgb(255,245,240)"
          ],
          [
           0.125,
           "rgb(254,224,210)"
          ],
          [
           0.25,
           "rgb(252,187,161)"
          ],
          [
           0.375,
           "rgb(252,146,114)"
          ],
          [
           0.5,
           "rgb(251,106,74)"
          ],
          [
           0.625,
           "rgb(239,59,44)"
          ],
          [
           0.75,
           "rgb(203,24,29)"
          ],
          [
           0.875,
           "rgb(165,15,21)"
          ],
          [
           1,
           "rgb(103,0,13)"
          ]
         ],
         "type": "heatmap",
         "uid": "20bf7203-e883-4736-bddf-44536b4653fa",
         "x": [
          0,
          5,
          10,
          15,
          20,
          25,
          30,
          35,
          40
         ],
         "y": [
          "Gln",
          "PEP",
          "GAP",
          "Asp",
          "DHAP",
          "Mal"
         ],
         "z": [
          [
           null,
           null,
           null,
           0.11324603769637347,
           0.15099471692848987,
           0.1887433961606079,
           0.22649207539272492,
           0.2642407546248604,
           0.3019894338569718
          ],
          [
           null,
           0.11246142311648621,
           null,
           0.3373842693494451,
           0.44984569246512246,
           0.5623071155814172,
           0.6747685386976175,
           0.787229961813821,
           0.8996913849303332
          ],
          [
           null,
           0.3432834085982146,
           0.6649617967452398,
           0.9803237199393415,
           1.2956856431298867,
           1.6110475663232642,
           1.9271900203891932,
           2.24345611847946,
           2.5597222165696722
          ],
          [
           null,
           0.40331925741828983,
           0.7532537421072878,
           1.0884498085728282,
           1.4236458750375967,
           1.7588419415029017,
           2.0940380079682783,
           2.429234074433817,
           2.7644301408990484
          ],
          [
           null,
           0.38382182855880836,
           0.7460386366664312,
           1.1019389798211312,
           1.457839322972232,
           1.8137396661261866,
           2.1704205401526986,
           2.527225058203551,
           2.8840295762543557
          ],
          [
           null,
           4.585608959065591,
           9.224602690860475,
           13.878334840878814,
           18.53206699089162,
           23.18579914090857,
           27.839531290925155,
           32.49326344094196,
           37.146995590959406
          ]
         ],
         "zauto": true,
         "zmax": 37.146995590959406,
         "zmin": 0.11246142311648621
        }
       ],
       "layout": {
        "autosize": true,
        "margin": {
         "b": 100
        },
        "title": "Mesophyll ==> Bundlesheat Transport",
        "xaxis": {
         "autorange": true,
         "range": [
          -2.5,
          42.5
         ],
         "tickangle": 45,
         "title": "CO2 Uptake [µmol/s/m2]",
         "type": "linear"
        },
        "yaxis": {
         "autorange": true,
         "range": [
          -0.5,
          5.5
         ],
         "tickmode": "array",
         "ticktext": [
          "Gln",
          "PEP",
          "GAP",
          "Asp",
          "DHAP",
          "Mal"
         ],
         "tickvals": [
          0,
          1,
          2,
          3,
          4,
          5
         ],
         "title": "Transport Metabolites",
         "type": "category"
        }
       }
      },
      "text/html": [
       "<div id=\"dd1b50e5-846a-4172-b3b7-6b823dba6be1\" style=\"height: 525px; width: 500px;\" class=\"plotly-graph-div\"></div><script type=\"text/javascript\">require([\"plotly\"], function(Plotly) { window.PLOTLYENV=window.PLOTLYENV || {};window.PLOTLYENV.BASE_URL=\"https://plot.ly\";Plotly.newPlot(\"dd1b50e5-846a-4172-b3b7-6b823dba6be1\", [{\"uid\": \"20bf7203-e883-4736-bddf-44536b4653fa\", \"colorscale\": [[0.0, \"rgb(255,245,240)\"], [0.125, \"rgb(254,224,210)\"], [0.25, \"rgb(252,187,161)\"], [0.375, \"rgb(252,146,114)\"], [0.5, \"rgb(251,106,74)\"], [0.625, \"rgb(239,59,44)\"], [0.75, \"rgb(203,24,29)\"], [0.875, \"rgb(165,15,21)\"], [1.0, \"rgb(103,0,13)\"]], \"colorbar\": {\"titleside\": \"right\", \"title\": \"Flux [\\u00b5mol/s/m2]\"}, \"y\": [\"Gln\", \"PEP\", \"GAP\", \"Asp\", \"DHAP\", \"Mal\"], \"x\": [0, 5, 10, 15, 20, 25, 30, 35, 40], \"z\": [[null, null, null, 0.11324603769637347, 0.15099471692848987, 0.1887433961606079, 0.22649207539272492, 0.2642407546248604, 0.3019894338569718], [null, 0.11246142311648621, null, 0.3373842693494451, 0.44984569246512246, 0.5623071155814172, 0.6747685386976175, 0.787229961813821, 0.8996913849303332], [null, 0.3432834085982146, 0.6649617967452398, 0.9803237199393415, 1.2956856431298867, 1.6110475663232642, 1.9271900203891932, 2.24345611847946, 2.5597222165696722], [null, 0.40331925741828983, 0.7532537421072878, 1.0884498085728282, 1.4236458750375967, 1.7588419415029017, 2.0940380079682783, 2.429234074433817, 2.7644301408990484], [null, 0.38382182855880836, 0.7460386366664312, 1.1019389798211312, 1.457839322972232, 1.8137396661261866, 2.1704205401526986, 2.527225058203551, 2.8840295762543557], [null, 4.585608959065591, 9.224602690860475, 13.878334840878814, 18.53206699089162, 23.18579914090857, 27.839531290925155, 32.49326344094196, 37.146995590959406]], \"type\": \"heatmap\"}], {\"width\": 500, \"title\": \"Mesophyll ==> Bundlesheat Transport\", \"margin\": {\"b\": 100}, \"xaxis\": {\"tickangle\": 45, \"title\": \"CO2 Uptake [\\u00b5mol/s/m2]\"}, \"yaxis\": {\"ticktext\": [\"Gln\", \"PEP\", \"GAP\", \"Asp\", \"DHAP\", \"Mal\"], \"title\": \"Transport Metabolites\", \"tickmode\": \"array\", \"tickvals\": [0, 1, 2, 3, 4, 5]}}, {\"linkText\": \"Export to plot.ly\", \"showLink\": true})});</script>"
      ],
      "text/vnd.plotly.v1+html": [
       "<div id=\"dd1b50e5-846a-4172-b3b7-6b823dba6be1\" style=\"height: 525px; width: 500px;\" class=\"plotly-graph-div\"></div><script type=\"text/javascript\">require([\"plotly\"], function(Plotly) { window.PLOTLYENV=window.PLOTLYENV || {};window.PLOTLYENV.BASE_URL=\"https://plot.ly\";Plotly.newPlot(\"dd1b50e5-846a-4172-b3b7-6b823dba6be1\", [{\"uid\": \"20bf7203-e883-4736-bddf-44536b4653fa\", \"colorscale\": [[0.0, \"rgb(255,245,240)\"], [0.125, \"rgb(254,224,210)\"], [0.25, \"rgb(252,187,161)\"], [0.375, \"rgb(252,146,114)\"], [0.5, \"rgb(251,106,74)\"], [0.625, \"rgb(239,59,44)\"], [0.75, \"rgb(203,24,29)\"], [0.875, \"rgb(165,15,21)\"], [1.0, \"rgb(103,0,13)\"]], \"colorbar\": {\"titleside\": \"right\", \"title\": \"Flux [\\u00b5mol/s/m2]\"}, \"y\": [\"Gln\", \"PEP\", \"GAP\", \"Asp\", \"DHAP\", \"Mal\"], \"x\": [0, 5, 10, 15, 20, 25, 30, 35, 40], \"z\": [[null, null, null, 0.11324603769637347, 0.15099471692848987, 0.1887433961606079, 0.22649207539272492, 0.2642407546248604, 0.3019894338569718], [null, 0.11246142311648621, null, 0.3373842693494451, 0.44984569246512246, 0.5623071155814172, 0.6747685386976175, 0.787229961813821, 0.8996913849303332], [null, 0.3432834085982146, 0.6649617967452398, 0.9803237199393415, 1.2956856431298867, 1.6110475663232642, 1.9271900203891932, 2.24345611847946, 2.5597222165696722], [null, 0.40331925741828983, 0.7532537421072878, 1.0884498085728282, 1.4236458750375967, 1.7588419415029017, 2.0940380079682783, 2.429234074433817, 2.7644301408990484], [null, 0.38382182855880836, 0.7460386366664312, 1.1019389798211312, 1.457839322972232, 1.8137396661261866, 2.1704205401526986, 2.527225058203551, 2.8840295762543557], [null, 4.585608959065591, 9.224602690860475, 13.878334840878814, 18.53206699089162, 23.18579914090857, 27.839531290925155, 32.49326344094196, 37.146995590959406]], \"type\": \"heatmap\"}], {\"width\": 500, \"title\": \"Mesophyll ==> Bundlesheat Transport\", \"margin\": {\"b\": 100}, \"xaxis\": {\"tickangle\": 45, \"title\": \"CO2 Uptake [\\u00b5mol/s/m2]\"}, \"yaxis\": {\"ticktext\": [\"Gln\", \"PEP\", \"GAP\", \"Asp\", \"DHAP\", \"Mal\"], \"title\": \"Transport Metabolites\", \"tickmode\": \"array\", \"tickvals\": [0, 1, 2, 3, 4, 5]}}, {\"linkText\": \"Export to plot.ly\", \"showLink\": true})});</script>"
      ]
     },
     "metadata": {},
     "output_type": "display_data"
    },
    {
     "name": "stderr",
     "output_type": "stream",
     "text": [
      "../src/init_fba/view_results.py:241: FutureWarning:\n",
      "\n",
      "set_value is deprecated and will be removed in a future release. Please use .at[] or .iat[] accessors instead\n",
      "\n"
     ]
    },
    {
     "data": {
      "application/vnd.plotly.v1+json": {
       "data": [
        {
         "colorbar": {
          "title": "Flux [µmol/s/m2]",
          "titleside": "right"
         },
         "colorscale": [
          [
           0,
           "rgb(247,251,255)"
          ],
          [
           0.125,
           "rgb(222,235,247)"
          ],
          [
           0.25,
           "rgb(198,219,239)"
          ],
          [
           0.375,
           "rgb(158,202,225)"
          ],
          [
           0.5,
           "rgb(107,174,214)"
          ],
          [
           0.625,
           "rgb(66,146,198)"
          ],
          [
           0.75,
           "rgb(33,113,181)"
          ],
          [
           0.875,
           "rgb(8,81,156)"
          ],
          [
           1,
           "rgb(8,48,107)"
          ]
         ],
         "type": "heatmap",
         "uid": "5a1ec67b-ce23-44e5-a507-c0aa4e2ed170",
         "x": [
          0,
          5,
          10,
          15,
          20,
          25,
          30,
          35,
          40
         ],
         "y": [
          "Glu",
          "Ala",
          "PGA",
          "Pyr"
         ],
         "z": [
          [
           null,
           null,
           null,
           null,
           0.13660525203809828,
           0.19571774798172692,
           0.23486129757807475,
           0.27400484717442203,
           0.31314839677077405
          ],
          [
           null,
           0.3212834441216877,
           0.5891821155140828,
           0.8735748932265928,
           1.1154715681985423,
           1.34866287501998,
           1.6018231281887767,
           1.8549833813577208,
           2.1081436345263747
          ],
          [
           null,
           0.8393341818794392,
           1.4112329118057139,
           2.418949533927842,
           3.2024407449926127,
           3.9859319560625632,
           4.770984228877481,
           5.556283789741251,
           6.341583350604902
          ],
          [
           null,
           4.67671142972972,
           9.406807632188709,
           14.120409728327607,
           18.876507927201093,
           23.64131149422951,
           28.386146114910286,
           33.130980735591166,
           37.87581535627307
          ]
         ],
         "zauto": true,
         "zmax": 37.87581535627307,
         "zmin": 0.13660525203809828
        }
       ],
       "layout": {
        "autosize": true,
        "margin": {
         "b": 100
        },
        "title": "Bundlesheat ==> Mesophyll Transport",
        "xaxis": {
         "autorange": true,
         "range": [
          -2.5,
          42.5
         ],
         "tickangle": 45,
         "title": "CO2 Uptake [µmol/s/m2]",
         "type": "linear"
        },
        "yaxis": {
         "autorange": true,
         "range": [
          -0.5,
          3.5
         ],
         "tickmode": "array",
         "ticktext": [
          "Glu",
          "Ala",
          "PGA",
          "Pyr"
         ],
         "tickvals": [
          0,
          1,
          2,
          3
         ],
         "title": "Transport Metabolites",
         "type": "category"
        }
       }
      },
      "text/html": [
       "<div id=\"46a87e6f-8675-4d73-b962-cf16c0095eb2\" style=\"height: 525px; width: 500px;\" class=\"plotly-graph-div\"></div><script type=\"text/javascript\">require([\"plotly\"], function(Plotly) { window.PLOTLYENV=window.PLOTLYENV || {};window.PLOTLYENV.BASE_URL=\"https://plot.ly\";Plotly.newPlot(\"46a87e6f-8675-4d73-b962-cf16c0095eb2\", [{\"uid\": \"5a1ec67b-ce23-44e5-a507-c0aa4e2ed170\", \"colorscale\": [[0.0, \"rgb(247,251,255)\"], [0.125, \"rgb(222,235,247)\"], [0.25, \"rgb(198,219,239)\"], [0.375, \"rgb(158,202,225)\"], [0.5, \"rgb(107,174,214)\"], [0.625, \"rgb(66,146,198)\"], [0.75, \"rgb(33,113,181)\"], [0.875, \"rgb(8,81,156)\"], [1.0, \"rgb(8,48,107)\"]], \"colorbar\": {\"titleside\": \"right\", \"title\": \"Flux [\\u00b5mol/s/m2]\"}, \"y\": [\"Glu\", \"Ala\", \"PGA\", \"Pyr\"], \"x\": [0, 5, 10, 15, 20, 25, 30, 35, 40], \"z\": [[null, null, null, null, 0.13660525203809828, 0.19571774798172692, 0.23486129757807475, 0.27400484717442203, 0.31314839677077405], [null, 0.3212834441216877, 0.5891821155140828, 0.8735748932265928, 1.1154715681985423, 1.34866287501998, 1.6018231281887767, 1.8549833813577208, 2.1081436345263747], [null, 0.8393341818794392, 1.4112329118057139, 2.418949533927842, 3.2024407449926127, 3.9859319560625632, 4.770984228877481, 5.556283789741251, 6.341583350604902], [null, 4.67671142972972, 9.406807632188709, 14.120409728327607, 18.876507927201093, 23.64131149422951, 28.386146114910286, 33.130980735591166, 37.87581535627307]], \"type\": \"heatmap\"}], {\"width\": 500, \"title\": \"Bundlesheat ==> Mesophyll Transport\", \"margin\": {\"b\": 100}, \"xaxis\": {\"tickangle\": 45, \"title\": \"CO2 Uptake [\\u00b5mol/s/m2]\"}, \"yaxis\": {\"ticktext\": [\"Glu\", \"Ala\", \"PGA\", \"Pyr\"], \"title\": \"Transport Metabolites\", \"tickmode\": \"array\", \"tickvals\": [0, 1, 2, 3]}}, {\"linkText\": \"Export to plot.ly\", \"showLink\": true})});</script>"
      ],
      "text/vnd.plotly.v1+html": [
       "<div id=\"46a87e6f-8675-4d73-b962-cf16c0095eb2\" style=\"height: 525px; width: 500px;\" class=\"plotly-graph-div\"></div><script type=\"text/javascript\">require([\"plotly\"], function(Plotly) { window.PLOTLYENV=window.PLOTLYENV || {};window.PLOTLYENV.BASE_URL=\"https://plot.ly\";Plotly.newPlot(\"46a87e6f-8675-4d73-b962-cf16c0095eb2\", [{\"uid\": \"5a1ec67b-ce23-44e5-a507-c0aa4e2ed170\", \"colorscale\": [[0.0, \"rgb(247,251,255)\"], [0.125, \"rgb(222,235,247)\"], [0.25, \"rgb(198,219,239)\"], [0.375, \"rgb(158,202,225)\"], [0.5, \"rgb(107,174,214)\"], [0.625, \"rgb(66,146,198)\"], [0.75, \"rgb(33,113,181)\"], [0.875, \"rgb(8,81,156)\"], [1.0, \"rgb(8,48,107)\"]], \"colorbar\": {\"titleside\": \"right\", \"title\": \"Flux [\\u00b5mol/s/m2]\"}, \"y\": [\"Glu\", \"Ala\", \"PGA\", \"Pyr\"], \"x\": [0, 5, 10, 15, 20, 25, 30, 35, 40], \"z\": [[null, null, null, null, 0.13660525203809828, 0.19571774798172692, 0.23486129757807475, 0.27400484717442203, 0.31314839677077405], [null, 0.3212834441216877, 0.5891821155140828, 0.8735748932265928, 1.1154715681985423, 1.34866287501998, 1.6018231281887767, 1.8549833813577208, 2.1081436345263747], [null, 0.8393341818794392, 1.4112329118057139, 2.418949533927842, 3.2024407449926127, 3.9859319560625632, 4.770984228877481, 5.556283789741251, 6.341583350604902], [null, 4.67671142972972, 9.406807632188709, 14.120409728327607, 18.876507927201093, 23.64131149422951, 28.386146114910286, 33.130980735591166, 37.87581535627307]], \"type\": \"heatmap\"}], {\"width\": 500, \"title\": \"Bundlesheat ==> Mesophyll Transport\", \"margin\": {\"b\": 100}, \"xaxis\": {\"tickangle\": 45, \"title\": \"CO2 Uptake [\\u00b5mol/s/m2]\"}, \"yaxis\": {\"ticktext\": [\"Glu\", \"Ala\", \"PGA\", \"Pyr\"], \"title\": \"Transport Metabolites\", \"tickmode\": \"array\", \"tickvals\": [0, 1, 2, 3]}}, {\"linkText\": \"Export to plot.ly\", \"showLink\": true})});</script>"
      ]
     },
     "metadata": {},
     "output_type": "display_data"
    }
   ],
   "source": [
    "plot_transport(D_fba, D_exp, L_r_transport, xaxis_title, save_fig=save_fig)"
   ]
  }
 ],
 "metadata": {
  "anaconda-cloud": {},
  "kernelspec": {
   "display_name": "Python [default]",
   "language": "python",
   "name": "python2"
  },
  "language_info": {
   "codemirror_mode": {
    "name": "ipython",
    "version": 2
   },
   "file_extension": ".py",
   "mimetype": "text/x-python",
   "name": "python",
   "nbconvert_exporter": "python",
   "pygments_lexer": "ipython2",
   "version": "2.7.6"
  },
  "latex_envs": {
   "LaTeX_envs_menu_present": true,
   "autoclose": false,
   "autocomplete": true,
   "bibliofile": "biblio.bib",
   "cite_by": "apalike",
   "current_citInitial": 1,
   "eqLabelWithNumbers": true,
   "eqNumInitial": 1,
   "hotkeys": {
    "equation": "Ctrl-E",
    "itemize": "Ctrl-I"
   },
   "labels_anchors": false,
   "latex_user_defs": false,
   "report_style_numbering": false,
   "user_envs_cfg": false
  }
 },
 "nbformat": 4,
 "nbformat_minor": 2
}
