{
 "cells": [
  {
   "cell_type": "markdown",
   "metadata": {
    "run_control": {
     "marked": true
    }
   },
   "source": [
    "# Analysing the effect of oxygenation : carboxylation ratio on the emergence of the C4 cycle\n"
   ]
  },
  {
   "cell_type": "markdown",
   "metadata": {
    "run_control": {
     "marked": true
    }
   },
   "source": [
    "## 0. Initialization"
   ]
  },
  {
   "cell_type": "code",
   "execution_count": 1,
   "metadata": {
    "ExecuteTime": {
     "end_time": "2019-05-06T13:48:53.432217Z",
     "start_time": "2019-05-06T15:48:51.805182+02:00"
    },
    "collapsed": false
   },
   "outputs": [
    {
     "name": "stderr",
     "output_type": "stream",
     "text": [
      "//anaconda/lib/python2.7/site-packages/cryptography/hazmat/primitives/constant_time.py:26 \u001b[1;31mCryptographyDeprecationWarning\u001b[0m: Support for your Python version is deprecated. The next version of cryptography will remove support. Please upgrade to a 2.7.x release that supports hmac.compare_digest as soon as possible.\n"
     ]
    },
    {
     "data": {
      "text/html": [
       "        <script type=\"text/javascript\">\n",
       "        window.PlotlyConfig = {MathJaxConfig: 'local'};\n",
       "        if (window.MathJax) {MathJax.Hub.Config({SVG: {font: \"STIX-Web\"}});}\n",
       "        if (typeof require !== 'undefined') {\n",
       "        require.undef(\"plotly\");\n",
       "        requirejs.config({\n",
       "            paths: {\n",
       "                'plotly': ['https://cdn.plot.ly/plotly-latest.min']\n",
       "            }\n",
       "        });\n",
       "        require(['plotly'], function(Plotly) {\n",
       "            window._Plotly = Plotly;\n",
       "        });\n",
       "        }\n",
       "        </script>\n",
       "        "
      ]
     },
     "metadata": {},
     "output_type": "display_data"
    }
   ],
   "source": [
    "#Import sys\n",
    "import sys \n",
    "sys.path.append(\"../src/\") \n",
    "\n",
    "#Import init for initialisation & loading user-defined functions\n",
    "from init_fba import *\n",
    "\n",
    "#Initialize notebook settings\n",
    "theNotebook = '2019-05-06-mb-genC4-Decarb-Oxy-Ratio-Effect'\n",
    "init_notebook(theNotebook)\n",
    "\n",
    "#load sbml model\n",
    "c3_model = load_sbml_model()"
   ]
  },
  {
   "cell_type": "markdown",
   "metadata": {
    "run_control": {
     "marked": true
    }
   },
   "source": [
    "## 1. C3 Model"
   ]
  },
  {
   "cell_type": "markdown",
   "metadata": {
    "ExecuteTime": {
     "end_time": "2017-06-20T12:42:07.597174",
     "start_time": "2017-06-20T12:42:07.594879"
    },
    "run_control": {
     "marked": true
    }
   },
   "source": [
    "### 1.1 Constraints"
   ]
  },
  {
   "cell_type": "code",
   "execution_count": 2,
   "metadata": {
    "ExecuteTime": {
     "end_time": "2019-05-06T13:48:53.453062Z",
     "start_time": "2019-05-06T15:48:53.433704+02:00"
    },
    "collapsed": false,
    "run_control": {
     "marked": true
    }
   },
   "outputs": [],
   "source": [
    "#CONSTRAINT: Set flux of all export reaction to zero\n",
    "for r_obj in c3_model.reactions:\n",
    "    r_id = r_obj.id\n",
    "    if r_id[0:2] == \"Ex\":\n",
    "        r_obj.bounds = (0.,0.)\n",
    "\n",
    "#CONSTRAINT: Divergent fluxes of export and import reactions\n",
    "set_bounds('Im_CO2', (-inf, inf), c3_model)\n",
    "set_bounds('Im_H2O', (-inf, inf), c3_model)\n",
    "set_bounds('Im_H2S', (0.,0.), c3_model)\n",
    "set_bounds('Im_NH4', (0., 0.), c3_model)\n",
    "set_bounds('Im_NO3', (0., inf), c3_model)\n",
    "set_bounds('Im_Pi', (0., inf), c3_model)\n",
    "set_bounds('Im_SO4', (0., inf), c3_model)\n",
    "set_bounds('Ex_O2', (-inf, inf), c3_model)\n",
    "set_bounds('Ex_Suc', (0., inf), c3_model)\n",
    "set_bounds('Ex_starch', (0., inf), c3_model)\n",
    "set_bounds('Ex_AA', (0., inf), c3_model)\n",
    "\n",
    "#CONSTRAINT: \n",
    "set_bounds('G6PDH_h', (0.,0.), c3_model)\n",
    "set_bounds('PPIF6PK_c', (0,0.), c3_model)\n",
    "\n",
    "#CONSTRAINT: max. photon consumption auf C4 plants 1000 μE\n",
    "set_bounds('Im_hnu', (0, 1000), c3_model)\n",
    "\n",
    "#CONSTRAINT: CO2 uptake rate in C4 plants is higher, about 40 μmol/(m2*s)\n",
    "f_CO2 = 40 #[μmol/(m2*s)] \n",
    "set_bounds('Im_CO2', (0, f_CO2), c3_model)"
   ]
  },
  {
   "cell_type": "code",
   "execution_count": 3,
   "metadata": {
    "ExecuteTime": {
     "end_time": "2019-05-06T13:48:53.459321Z",
     "start_time": "2019-05-06T15:48:53.454920+02:00"
    },
    "code_folding": [],
    "collapsed": false,
    "run_control": {
     "marked": true
    }
   },
   "outputs": [],
   "source": [
    "#CONSTRAINT: Maintenace cost\n",
    "\n",
    "atp_cost_L3_m = 0.009111187245501572 #Mitochondria-L3-ATP Cost [µmol*s-1*m-2]\n",
    "atp_cost_L3_h = 0.15270708327974447 #Chloroplast-L3-ATP Cost [µmol*s-1*m-2]\n",
    "atp_cost_L3_p = 0.0076669066992201855 #Peroxisome-L3-ATP Cost [µmol*s-1*m-2]\n",
    "atp_cost_L3_c = 0.042683072918274702 #Cytosl/Other-L3-ATP Cost [µmol*s-1*m-2]\n",
    "\n",
    "set_fixed_flux('NGAM_c',atp_cost_L3_c + atp_cost_L3_p, c3_model)\n",
    "set_fixed_flux('NGAM_m',atp_cost_L3_m, c3_model)\n",
    "set_fixed_flux('NGAM_h',atp_cost_L3_h, c3_model)"
   ]
  },
  {
   "cell_type": "code",
   "execution_count": 4,
   "metadata": {
    "ExecuteTime": {
     "end_time": "2019-05-06T13:48:53.463734Z",
     "start_time": "2019-05-06T15:48:53.460810+02:00"
    },
    "collapsed": true,
    "run_control": {
     "marked": true
    }
   },
   "outputs": [],
   "source": [
    "#CONSTRAINT: fluxes through the chloroplastic NADPH dehydrogenase and plastoquinol oxidase were set to zero \n",
    "#because the contributions of NADPH dehydrogenase (Yamamoto et al., 2011) and plastoquinol oxidase \n",
    "#(Josse et al., 2000) to photosynthesis are thought to be minor.\n",
    "set_bounds('AOX4_h',(0,0), c3_model)\n",
    "set_bounds('iCitDHNADP_h',(0,0), c3_model)"
   ]
  },
  {
   "cell_type": "code",
   "execution_count": 5,
   "metadata": {
    "ExecuteTime": {
     "end_time": "2019-05-06T13:48:53.468129Z",
     "start_time": "2019-05-06T15:48:53.465535+02:00"
    },
    "collapsed": false,
    "run_control": {
     "marked": true
    }
   },
   "outputs": [],
   "source": [
    "#CONSTRAINT: NTT is only active at night\n",
    "set_fixed_flux('Tr_NTT',0, c3_model)"
   ]
  },
  {
   "cell_type": "code",
   "execution_count": 6,
   "metadata": {
    "ExecuteTime": {
     "end_time": "2019-05-06T13:48:53.472317Z",
     "start_time": "2019-05-06T15:48:53.469641+02:00"
    },
    "collapsed": true
   },
   "outputs": [],
   "source": [
    "#CONSTRAINT: No uncoupled pyruvate transport\n",
    "set_bounds('Tr_Pyr1',(0,0), c3_model)\n",
    "set_bounds('Tr_Pyr2',(0,0), c3_model)"
   ]
  },
  {
   "cell_type": "markdown",
   "metadata": {
    "run_control": {
     "marked": true
    }
   },
   "source": [
    "## 2. C4 Model"
   ]
  },
  {
   "cell_type": "markdown",
   "metadata": {
    "run_control": {
     "marked": true
    }
   },
   "source": [
    "### 2.1 Compose Model"
   ]
  },
  {
   "cell_type": "markdown",
   "metadata": {
    "ExecuteTime": {
     "end_time": "2018-02-06T17:46:39.521620+01:00",
     "start_time": "2018-02-06T17:46:39.518672"
    },
    "run_control": {
     "marked": true
    }
   },
   "source": [
    "#### 2.1.1 Two copies of genC3 model and exchange reactions"
   ]
  },
  {
   "cell_type": "code",
   "execution_count": 7,
   "metadata": {
    "ExecuteTime": {
     "end_time": "2019-05-06T13:48:54.324524Z",
     "start_time": "2019-05-06T15:48:53.474023+02:00"
    },
    "collapsed": false,
    "hide_input": false,
    "run_control": {
     "marked": true
    }
   },
   "outputs": [],
   "source": [
    "c4_model = cobra.Model('c4_model')\n",
    "\n",
    "cell_types = ['M', 'B']\n",
    "\n",
    "#duplicate metabolites\n",
    "for m in c3_model.metabolites:\n",
    "    for cell in cell_types:\n",
    "        m_dt = cobra.Metabolite('['+cell+']_'+m.id, name = m.formula, compartment = m.compartment)\n",
    "        c4_model.add_metabolites([m_dt])\n",
    "\n",
    "#duplicate reactions\n",
    "for r_c3_obj in c3_model.reactions:\n",
    "    for cell in cell_types:\n",
    "        r_c4_obj = cobra.Reaction('['+cell+']_'+r_c3_obj.id)\n",
    "        r_c4_obj.name = r_c3_obj.name\n",
    "        r_c4_obj.subsystem = r_c3_obj.subsystem\n",
    "        r_c4_obj.bounds = r_c3_obj.bounds\n",
    "        c4_model.add_reaction(r_c4_obj)\n",
    "        r_c4_obj.add_metabolites({'['+cell+']_'+m_c3_obj.id: r_c3_obj.get_coefficient(m_c3_obj) for m_c3_obj in r_c3_obj.metabolites})\n",
    "        \n",
    "        \n",
    "#metabolites excluded from M/BS exchange\n",
    "no_transport = ['NO3','NO2', 'O2','Na', 'H2S', 'SO4',\n",
    "                'H2O','FBP','F26BP','DPGA','H','ACD','AC','M_DASH_THF', '5M_DASH_THF', 'H_DASH_Cys', 'aH_DASH_Cys', 'ORO', 'DHO',\n",
    "                'GABA','A_DASH_Ser','PRPP','AD','THF','DHF','ADN','Mas','CoA','GluP',\n",
    "                'A_DASH_CoA','cellulose1','cellulose2','cellulose3','starch1',\n",
    "                'starch2','starch3','TRXox','TRXrd','Glu_DASH_SeA','T6P','aMet',\n",
    "                'PPi', 'P5C', 'NH4', 'Pi', 'CO2', 'OAA','HCO3', \n",
    "                'UTP', 'UDP', 'UDPG', 'ATP', 'ADP', 'AMP', 'IMP', 'XMP', \n",
    "                'GTP', 'GDP', 'GMP', 'OMP', 'UMP', 'CTP', 'GDP', 'CDP', 'dADP', \n",
    "                'dCDP', 'dGDP', 'dUDP', 'dUTP', 'dUMP', 'dTMP', 'dTDP', 'GTP', \n",
    "                'dATP', 'dCTP', 'dGTP', 'dTTP', 'NAD', 'NADH', 'NADP', 'NADPH']\n",
    "\n",
    "#add M/BS exchange reactions\n",
    "L_r_transport = []\n",
    "for m_c3_obj in c3_model.metabolites:\n",
    "    if m_c3_obj.id[-1:] == 'c' and m_c3_obj.id[:-2] not in no_transport:\n",
    "        r_c4_obj = cobra.Reaction('[MB]_'+m_c3_obj.id)\n",
    "        r_c4_obj.name = '[MB]_'+m_c3_obj.id\n",
    "        r_c4_obj.subsystem = 'Exchange'\n",
    "        r_c4_obj.bounds = (-inf, inf)\n",
    "        c4_model.add_reaction(r_c4_obj)\n",
    "        r_c4_obj.add_metabolites({'[M]_'+m_c3_obj.id: -1,'[B]_'+m_c3_obj.id: 1 })\n",
    "        L_r_transport.append('[MB]_'+m_c3_obj.id)"
   ]
  },
  {
   "cell_type": "markdown",
   "metadata": {
    "ExecuteTime": {
     "end_time": "2018-02-06T17:47:11.482156+01:00",
     "start_time": "2018-02-06T17:47:11.480023"
    },
    "run_control": {
     "marked": true
    }
   },
   "source": [
    "#### 2.1.2 Adaptations for second unconstrained rubisco population in the bundle sheath"
   ]
  },
  {
   "cell_type": "code",
   "execution_count": 8,
   "metadata": {
    "ExecuteTime": {
     "end_time": "2019-05-06T13:48:54.342908Z",
     "start_time": "2019-05-06T15:48:54.326114+02:00"
    },
    "collapsed": false,
    "run_control": {
     "marked": true
    }
   },
   "outputs": [],
   "source": [
    "#CONSTRAINT: Add external CO2 species in bundle sheat\n",
    "#(the original CO2 species is treated as internal CO2)\n",
    "m_list_CO_Ex= ['[B]_CO2_ex_c','[B]_CO2_ex_h','[B]_CO2_ex_m']\n",
    "\n",
    "for m_id in m_list_CO_Ex:\n",
    "    m_obj = cobra.Metabolite(m_id)\n",
    "    c4_model.add_metabolites(m_obj)\n",
    "\n",
    "#CONSTRAINT: Copy all reactions using internal CO2 and exchange internal with external CO2 in the copied recactions\n",
    "r_list_CO_Ex = ['Tr_CO2h', 'RBC_h']\n",
    "\n",
    "for r_id in r_list_CO_Ex:\n",
    "    r_obj = c4_model.reactions.get_by_id('[B]_'+r_id)\n",
    "    r_obj_Ex = cobra.Reaction(r_obj.id+'_Ex')\n",
    "    r_obj_Ex.name = r_obj.id+'_Ex'\n",
    "    r_obj_Ex.subsystem = r_obj.subsystem\n",
    "    r_obj_Ex.bounds = r_obj.bounds\n",
    "    c4_model.add_reaction(r_obj_Ex)\n",
    "    r_obj_Ex.add_metabolites({m_obj.id if not m_obj.id[:-2] == '[B]_CO2' else '[B]_CO2_ex'+m_obj.id[-2:]: r_obj.get_coefficient(m_obj) \n",
    "                                  for m_obj in r_obj.metabolites})\n",
    "\n",
    "#CONSTRAINT: CO2 exchange between mesophyll and bundle sheat\n",
    "r_c4_obj = cobra.Reaction('[MB]_CO2_c')\n",
    "r_c4_obj.name = '[MB]_CO2_c'\n",
    "r_c4_obj.subsystem = 'Exchange'\n",
    "r_c4_obj.bounds = (-inf, inf)\n",
    "c4_model.add_reaction(r_c4_obj)\n",
    "r_c4_obj.add_metabolites({'[M]_CO2_c': -1,'[B]_CO2_ex_c': 1 })\n",
    "L_r_transport.append('[MB]_CO2_c')"
   ]
  },
  {
   "cell_type": "markdown",
   "metadata": {
    "run_control": {
     "marked": true
    }
   },
   "source": [
    "### 2.3 Constraints"
   ]
  },
  {
   "cell_type": "code",
   "execution_count": 9,
   "metadata": {
    "ExecuteTime": {
     "end_time": "2019-05-06T13:48:54.347395Z",
     "start_time": "2019-05-06T15:48:54.344994+02:00"
    },
    "collapsed": true,
    "run_control": {
     "marked": true
    }
   },
   "outputs": [],
   "source": [
    "#CONSTRAINT: No CO2 uptake in bundle sheat cells due to suberin layer in cell membranes\n",
    "set_fixed_flux('[B]_Im_CO2',0, c4_model)"
   ]
  },
  {
   "cell_type": "code",
   "execution_count": 10,
   "metadata": {
    "ExecuteTime": {
     "end_time": "2019-05-06T13:48:54.367737Z",
     "start_time": "2019-05-06T15:48:54.348731+02:00"
    },
    "collapsed": false,
    "run_control": {
     "marked": true
    }
   },
   "outputs": [
    {
     "data": {
      "text/plain": [
       "<optlang.glpk_interface.Constraint at 0x11925b110>"
      ]
     },
     "execution_count": 10,
     "metadata": {},
     "output_type": "execute_result"
    }
   ],
   "source": [
    "#CONSTRAINT: Output of sucrose : total amino acid and sucrose : starch\n",
    "set_fixed_flux_ratio({'[B]_Ex_Suc':2.2,'[B]_Ex_AA':1.0}, c4_model)\n",
    "set_fixed_flux_ratio({'[B]_Ex_Suc':1.0,'[B]_Ex_starch':1.0}, c4_model)\n",
    "\n",
    "set_fixed_flux_ratio({'[M]_Ex_Suc':2.2,'[M]_Ex_AA':1.0}, c4_model)\n",
    "set_fixed_flux_ratio({'[M]_Ex_Suc':1.0,'[M]_Ex_starch':1.0}, c4_model)"
   ]
  },
  {
   "cell_type": "code",
   "execution_count": 11,
   "metadata": {
    "ExecuteTime": {
     "end_time": "2019-05-06T13:48:54.378238Z",
     "start_time": "2019-05-06T15:48:54.369353+02:00"
    },
    "collapsed": false,
    "run_control": {
     "marked": true
    }
   },
   "outputs": [],
   "source": [
    "#Reaction variables for light uptake\n",
    "B_Im_hnu = c4_model.reactions.get_by_id(\"[B]_Im_hnu\")\n",
    "M_Im_hnu = c4_model.reactions.get_by_id(\"[M]_Im_hnu\")\n",
    "\n",
    "#CONSTRAINT: Total Photon uptake limited to 1000 µE\n",
    "const_hnu_sum = c4_model.problem.Constraint( B_Im_hnu.flux_expression + M_Im_hnu.flux_expression,\n",
    "                                        lb = 0, ub = 1000)\n",
    "\n",
    "c4_model.add_cons_vars(const_hnu_sum)\n",
    "\n",
    "#CONSTRAINT: Total Photon uptake by bundle sheath must be less equal than in mesophyll\n",
    "const_hnu_ratio = c4_model.problem.Constraint( M_Im_hnu.flux_expression - B_Im_hnu.flux_expression,\n",
    "                                        lb = 0, ub = 1000)\n",
    "\n",
    "c4_model.add_cons_vars(const_hnu_ratio)"
   ]
  },
  {
   "cell_type": "markdown",
   "metadata": {
    "run_control": {
     "marked": true
    }
   },
   "source": [
    "## 3 FBA"
   ]
  },
  {
   "cell_type": "code",
   "execution_count": 12,
   "metadata": {
    "ExecuteTime": {
     "end_time": "2019-05-06T13:49:06.145943Z",
     "start_time": "2019-05-06T15:48:54.380050+02:00"
    },
    "collapsed": false,
    "run_control": {
     "marked": true
    }
   },
   "outputs": [],
   "source": [
    "#Dictionary defining the experiments according to the proportions of carboxylation\n",
    "D_exp = {ratio: '1 : %s' %ratio for ratio in np.append(np.arange(1,3.25,0.25), np.arange(4,11,1))}\n",
    "\n",
    "#Reaction Variables\n",
    "M_Im_hnu = c4_model.reactions.get_by_id(\"[M]_Im_hnu\")\n",
    "B_Im_hnu = c4_model.reactions.get_by_id(\"[B]_Im_hnu\")\n",
    "B_Ex_Suc = c4_model.reactions.get_by_id(\"[B]_Ex_Suc\")\n",
    "B_RBO = c4_model.reactions.get_by_id(\"[B]_RBO_h\")\n",
    "M_RBO = c4_model.reactions.get_by_id(\"[M]_RBO_h\")\n",
    "\n",
    "#Set FBA solver\n",
    "c4_model.solver = \"glpk\"\n",
    "\n",
    "#Initialize dictionary to store results\n",
    "D_fba={}\n",
    "\n",
    "#Run every FBA experiment\n",
    "\n",
    "for ratio in sorted(D_exp.keys()): #iterate over proportions of carboxylation\n",
    "    \n",
    "    #Add oxygenation:carboxylation constraint \n",
    "    const_Rubisco_B = set_fixed_flux_ratio({'[B]_RBC_h_Ex':ratio,'[B]_RBO_h':1},c4_model)\n",
    "    const_Rubisco_M = set_fixed_flux_ratio({'[M]_RBC_h':ratio,'[M]_RBO_h':1},c4_model)\n",
    "    \n",
    "    #Optimize/Maximize sucrose output\n",
    "    B_Ex_Suc.objective_coefficient = 1.\n",
    "    c4_model_copy = c4_model.copy()\n",
    "    result_fba = c4_model_copy.optimize('maximize')\n",
    "    del c4_model_copy\n",
    "    c4_model.objective =[]\n",
    "    set_fixed_flux(B_Ex_Suc.id,result_fba.fluxes[B_Ex_Suc.id], c4_model)\n",
    "    \n",
    "    #Optimize/Minimize oxygenation rate by rubisco (set True)\n",
    "    if False:\n",
    "            B_RBO.objective_coefficient = 1.\n",
    "            M_RBO.objective_coefficient = 1.\n",
    "            c4_model_copy = c4_model.copy()\n",
    "            result_fba = c4_model_copy.optimize('minimize')\n",
    "            del c4_model_copy\n",
    "            c4_model.objective =[]\n",
    "            set_fixed_flux(B_RBO.id,result_fba.fluxes[B_RBO.id],c4_model)            \n",
    "            set_fixed_flux(M_RBO.id,result_fba.fluxes[M_RBO.id],c4_model)\n",
    "    \n",
    "    #Optimize/Minimize photon uptake (PPFD) (set True)\n",
    "    if False:\n",
    "        B_Im_hnu.objective_coefficient = 1.\n",
    "        M_Im_hnu.objective_coefficient = 1.\n",
    "        c4_model_copy = c4_model.copy()\n",
    "        result_fba = c4_model_copy.optimize('minimize')\n",
    "        del c4_model_copy\n",
    "        c4_model.objective =[]\n",
    "        set_fixed_flux(B_Im_hnu.id,result_fba.fluxes[B_Im_hnu.id], c4_model) \n",
    "        set_fixed_flux(M_Im_hnu.id,result_fba.fluxes[M_Im_hnu.id], c4_model)\n",
    "        \n",
    "    #Optimize/Minimize total flux\n",
    "    if result_fba.status == 'optimal':      \n",
    "        c4_model_copy = c4_model.copy()\n",
    "        result_pfba = cobra.flux_analysis.parsimonious.pfba(c4_model_copy)\n",
    "        D_fba[ratio] = result_pfba.fluxes\n",
    "        del c4_model_copy \n",
    "    \n",
    "    #Reset reaction bounds\n",
    "    set_bounds(B_RBO.id,(0,inf),c4_model)\n",
    "    set_bounds(M_RBO.id,(0,inf),c4_model)\n",
    "    set_bounds(B_Ex_Suc.id,(0,inf),c4_model)\n",
    "    set_bounds(B_Im_hnu.id,(0,1000), c4_model)\n",
    "    set_bounds(M_Im_hnu.id,(0,1000), c4_model)\n",
    "    \n",
    "    #Remove oxygenation:carboxylation constraint\n",
    "    c4_model.remove_cons_vars(const_Rubisco_B)\n",
    "    c4_model.remove_cons_vars(const_Rubisco_M)"
   ]
  },
  {
   "cell_type": "code",
   "execution_count": 13,
   "metadata": {
    "ExecuteTime": {
     "end_time": "2019-05-06T13:49:09.216239Z",
     "start_time": "2019-05-06T15:49:06.147494+02:00"
    },
    "collapsed": false
   },
   "outputs": [],
   "source": [
    "save_fba_to_excel(c3_model, c4_model, D_fba, D_exp, theNotebook)"
   ]
  },
  {
   "cell_type": "code",
   "execution_count": 14,
   "metadata": {
    "ExecuteTime": {
     "end_time": "2019-05-06T13:49:09.227121Z",
     "start_time": "2019-05-06T15:49:09.217543+02:00"
    },
    "collapsed": false
   },
   "outputs": [],
   "source": [
    "for exp, exp_name in D_exp.items():\n",
    "    save_to_json(exp_name, D_fba[exp], theNotebook)"
   ]
  },
  {
   "cell_type": "markdown",
   "metadata": {
    "ExecuteTime": {
     "end_time": "2018-02-06T17:54:23.611334+01:00",
     "start_time": "2018-02-06T17:54:23.609194"
    },
    "run_control": {
     "marked": true
    }
   },
   "source": [
    "## 4 Figures"
   ]
  },
  {
   "cell_type": "code",
   "execution_count": 15,
   "metadata": {
    "ExecuteTime": {
     "end_time": "2019-05-06T13:49:09.230980Z",
     "start_time": "2019-05-06T15:49:09.228542+02:00"
    },
    "collapsed": true
   },
   "outputs": [],
   "source": [
    "xaxis_title = 'oxygenation : decarboxylation ratio'\n",
    "save_fig = False"
   ]
  },
  {
   "cell_type": "code",
   "execution_count": 16,
   "metadata": {
    "ExecuteTime": {
     "end_time": "2019-05-06T13:49:09.608535Z",
     "start_time": "2019-05-06T15:49:09.233055+02:00"
    },
    "collapsed": false,
    "run_control": {
     "marked": false
    }
   },
   "outputs": [
    {
     "data": {
      "application/vnd.plotly.v1+json": {
       "config": {
        "linkText": "Export to plot.ly",
        "plotlyServerURL": "https://plot.ly",
        "showLink": false
       },
       "data": [
        {
         "marker": {
          "color": "rgb(8,81,156)"
         },
         "name": "Bundle sheath",
         "type": "bar",
         "uid": "a7482aed-26fe-453a-93d3-1ab095f631fc",
         "x": [
          "1 : 1.0",
          "1 : 1.25",
          "1 : 1.5",
          "1 : 1.75",
          "1 : 2.0",
          "1 : 2.25",
          "1 : 2.5",
          "1 : 2.75",
          "1 : 3.0",
          "1 : 4.0",
          "1 : 5.0",
          "1 : 6.0",
          "1 : 7.0",
          "1 : 8.0",
          "1 : 9.0",
          "1 : 10.0"
         ],
         "y": [
          207.68078246254694,
          207.68078246281647,
          207.68078246253427,
          208.95492873412877,
          213.18695221748152,
          217.7818026257342,
          209.27206169011473,
          180.37854675576864,
          144.01161072646568,
          98.10850541709331,
          83.8370760217524,
          88.01793260676197,
          138.42375917823054,
          145.4734413023309,
          149.4010663656746,
          150.92185020476964
         ]
        },
        {
         "marker": {
          "color": "rgb(166,54,3)"
         },
         "name": "Mesophyll",
         "type": "bar",
         "uid": "808168d5-250b-475e-b081-bc77bc3df080",
         "x": [
          "1 : 1.0",
          "1 : 1.25",
          "1 : 1.5",
          "1 : 1.75",
          "1 : 2.0",
          "1 : 2.25",
          "1 : 2.5",
          "1 : 2.75",
          "1 : 3.0",
          "1 : 4.0",
          "1 : 5.0",
          "1 : 6.0",
          "1 : 7.0",
          "1 : 8.0",
          "1 : 9.0",
          "1 : 10.0"
         ],
         "y": [
          207.68078246254694,
          207.68078246281647,
          207.68078246253427,
          208.95492873412877,
          213.18695221748152,
          217.7818026257342,
          239.15812442295703,
          274.956894149168,
          317.7381669786181,
          347.27785181952294,
          345.7883340772627,
          326.210982745909,
          265.3674120455901,
          249.87892931955037,
          239.39296882488475,
          232.64171834286907
         ]
        }
       ],
       "layout": {
        "barmode": "stack",
        "height": 400,
        "margin": {
         "b": 100
        },
        "title": {
         "text": "Photon Uptake"
        },
        "width": 600,
        "xaxis": {
         "tickangle": 45,
         "title": {
          "text": "oxygenation : decarboxylation ratio"
         }
        },
        "yaxis": {
         "autorange": true,
         "title": {
          "text": "Flux [µmol/s/m2]"
         }
        }
       }
      },
      "text/html": [
       "<div>\n",
       "        \n",
       "        \n",
       "            <div id=\"fd311f09-37c8-4cc0-8b98-96cc1aad184c\" class=\"plotly-graph-div\"></div>\n",
       "            <script type=\"text/javascript\">\n",
       "                require([\"plotly\"], function(Plotly) {\n",
       "                    window.PLOTLYENV=window.PLOTLYENV || {};\n",
       "                    window.PLOTLYENV.BASE_URL='https://plot.ly';\n",
       "                    \n",
       "                if (document.getElementById(\"fd311f09-37c8-4cc0-8b98-96cc1aad184c\")) {\n",
       "                    Plotly.newPlot(\n",
       "                        'fd311f09-37c8-4cc0-8b98-96cc1aad184c',\n",
       "                        [{\"marker\": {\"color\": \"rgb(8,81,156)\"}, \"name\": \"Bundle sheath\", \"type\": \"bar\", \"uid\": \"2e6748dc-6a43-47f1-b954-1bf1d06de5fe\", \"x\": [\"1 : 1.0\", \"1 : 1.25\", \"1 : 1.5\", \"1 : 1.75\", \"1 : 2.0\", \"1 : 2.25\", \"1 : 2.5\", \"1 : 2.75\", \"1 : 3.0\", \"1 : 4.0\", \"1 : 5.0\", \"1 : 6.0\", \"1 : 7.0\", \"1 : 8.0\", \"1 : 9.0\", \"1 : 10.0\"], \"y\": [207.68078246254694, 207.68078246281647, 207.68078246253427, 208.95492873412877, 213.18695221748152, 217.7818026257342, 209.27206169011473, 180.37854675576864, 144.01161072646568, 98.10850541709331, 83.8370760217524, 88.01793260676197, 138.42375917823054, 145.4734413023309, 149.4010663656746, 150.92185020476964]}, {\"marker\": {\"color\": \"rgb(166,54,3)\"}, \"name\": \"Mesophyll\", \"type\": \"bar\", \"uid\": \"53135c8b-ab8b-4f61-b788-5ffffd377ba6\", \"x\": [\"1 : 1.0\", \"1 : 1.25\", \"1 : 1.5\", \"1 : 1.75\", \"1 : 2.0\", \"1 : 2.25\", \"1 : 2.5\", \"1 : 2.75\", \"1 : 3.0\", \"1 : 4.0\", \"1 : 5.0\", \"1 : 6.0\", \"1 : 7.0\", \"1 : 8.0\", \"1 : 9.0\", \"1 : 10.0\"], \"y\": [207.68078246254694, 207.68078246281647, 207.68078246253427, 208.95492873412877, 213.18695221748152, 217.7818026257342, 239.15812442295703, 274.956894149168, 317.7381669786181, 347.27785181952294, 345.7883340772627, 326.210982745909, 265.3674120455901, 249.87892931955037, 239.39296882488475, 232.64171834286907]}],\n",
       "                        {\"barmode\": \"stack\", \"height\": 400, \"margin\": {\"b\": 100}, \"title\": {\"text\": \"Photon Uptake\"}, \"width\": 600, \"xaxis\": {\"tickangle\": 45, \"title\": {\"text\": \"oxygenation : decarboxylation ratio\"}}, \"yaxis\": {\"autorange\": true, \"title\": {\"text\": \"Flux [\\u00b5mol/s/m2]\"}}},\n",
       "                        {\"plotlyServerURL\": \"https://plot.ly\", \"linkText\": \"Export to plot.ly\", \"showLink\": false}\n",
       "                    )\n",
       "                };\n",
       "                });\n",
       "            </script>\n",
       "        </div>"
      ]
     },
     "metadata": {},
     "output_type": "display_data"
    }
   ],
   "source": [
    "create_bar_plot_rxn(D_fba, D_exp,\n",
    "                    {'[M]_Im_hnu':'Mesophyll','[B]_Im_hnu': 'Bundle sheath'},\n",
    "                    'Photon Uptake', xaxis_title,\n",
    "                    stacked = True, save_fig=save_fig)"
   ]
  },
  {
   "cell_type": "code",
   "execution_count": 17,
   "metadata": {
    "ExecuteTime": {
     "end_time": "2019-05-06T13:49:09.761046Z",
     "start_time": "2019-05-06T15:49:09.610095+02:00"
    },
    "collapsed": false
   },
   "outputs": [
    {
     "data": {
      "application/vnd.plotly.v1+json": {
       "config": {
        "linkText": "Export to plot.ly",
        "plotlyServerURL": "https://plot.ly",
        "showLink": false
       },
       "data": [
        {
         "marker": {
          "color": "rgb(8,81,156)"
         },
         "name": "Bundle sheath",
         "type": "bar",
         "uid": "80f3f6da-fa99-47da-a3ba-a7f6b3e3fef1",
         "x": [
          "1 : 1.0",
          "1 : 1.25",
          "1 : 1.5",
          "1 : 1.75",
          "1 : 2.0",
          "1 : 2.25",
          "1 : 2.5",
          "1 : 2.75",
          "1 : 3.0",
          "1 : 4.0",
          "1 : 5.0",
          "1 : 6.0",
          "1 : 7.0",
          "1 : 8.0",
          "1 : 9.0",
          "1 : 10.0"
         ],
         "y": [
          72.71273045364867,
          72.712730453743,
          72.71273045364423,
          74.46716933043115,
          81.23112924278446,
          94.2093559779511,
          102.69399915000348,
          90.18927337788432,
          72.00580536323284,
          49.054252708546656,
          41.918538010876205,
          44.00896630338098,
          69.21187958911527,
          72.73672065116546,
          74.70053318283732,
          75.4609251023848
         ]
        },
        {
         "marker": {
          "color": "rgb(166,54,3)"
         },
         "name": "Mesophyll",
         "type": "bar",
         "uid": "e6b986f1-c183-4b99-baee-4187dc675ac6",
         "x": [
          "1 : 1.0",
          "1 : 1.25",
          "1 : 1.5",
          "1 : 1.75",
          "1 : 2.0",
          "1 : 2.25",
          "1 : 2.5",
          "1 : 2.75",
          "1 : 3.0",
          "1 : 4.0",
          "1 : 5.0",
          "1 : 6.0",
          "1 : 7.0",
          "1 : 8.0",
          "1 : 9.0",
          "1 : 10.0"
         ],
         "y": [
          96.90678956384892,
          96.90678956397474,
          96.90678956384298,
          98.46800403857516,
          104.05066148575503,
          107.98454695177166,
          117.33076451868347,
          135.39780862968908,
          157.3286772788591,
          173.6389259097615,
          172.46166642061817,
          162.97072747417727,
          132.68370602279504,
          124.9394646597752,
          119.69648441244236,
          116.32085917143455
         ]
        }
       ],
       "layout": {
        "barmode": "stack",
        "height": 400,
        "margin": {
         "b": 100
        },
        "title": {
         "text": "Photon Uptake by PSII"
        },
        "width": 600,
        "xaxis": {
         "tickangle": 45,
         "title": {
          "text": "oxygenation : decarboxylation ratio"
         }
        },
        "yaxis": {
         "autorange": true,
         "title": {
          "text": "Flux [µmol/s/m2]"
         }
        }
       }
      },
      "text/html": [
       "<div>\n",
       "        \n",
       "        \n",
       "            <div id=\"7e949fe4-ff31-4b5f-9f03-75650488fc64\" class=\"plotly-graph-div\"></div>\n",
       "            <script type=\"text/javascript\">\n",
       "                require([\"plotly\"], function(Plotly) {\n",
       "                    window.PLOTLYENV=window.PLOTLYENV || {};\n",
       "                    window.PLOTLYENV.BASE_URL='https://plot.ly';\n",
       "                    \n",
       "                if (document.getElementById(\"7e949fe4-ff31-4b5f-9f03-75650488fc64\")) {\n",
       "                    Plotly.newPlot(\n",
       "                        '7e949fe4-ff31-4b5f-9f03-75650488fc64',\n",
       "                        [{\"marker\": {\"color\": \"rgb(8,81,156)\"}, \"name\": \"Bundle sheath\", \"type\": \"bar\", \"uid\": \"e36882d5-16cc-4fc0-9564-5664986553cb\", \"x\": [\"1 : 1.0\", \"1 : 1.25\", \"1 : 1.5\", \"1 : 1.75\", \"1 : 2.0\", \"1 : 2.25\", \"1 : 2.5\", \"1 : 2.75\", \"1 : 3.0\", \"1 : 4.0\", \"1 : 5.0\", \"1 : 6.0\", \"1 : 7.0\", \"1 : 8.0\", \"1 : 9.0\", \"1 : 10.0\"], \"y\": [72.71273045364867, 72.712730453743, 72.71273045364423, 74.46716933043115, 81.23112924278446, 94.2093559779511, 102.69399915000348, 90.18927337788432, 72.00580536323284, 49.054252708546656, 41.918538010876205, 44.00896630338098, 69.21187958911527, 72.73672065116546, 74.70053318283732, 75.4609251023848]}, {\"marker\": {\"color\": \"rgb(166,54,3)\"}, \"name\": \"Mesophyll\", \"type\": \"bar\", \"uid\": \"8b1f79b0-58be-490b-a503-efd13b4b7c31\", \"x\": [\"1 : 1.0\", \"1 : 1.25\", \"1 : 1.5\", \"1 : 1.75\", \"1 : 2.0\", \"1 : 2.25\", \"1 : 2.5\", \"1 : 2.75\", \"1 : 3.0\", \"1 : 4.0\", \"1 : 5.0\", \"1 : 6.0\", \"1 : 7.0\", \"1 : 8.0\", \"1 : 9.0\", \"1 : 10.0\"], \"y\": [96.90678956384892, 96.90678956397474, 96.90678956384298, 98.46800403857516, 104.05066148575503, 107.98454695177166, 117.33076451868347, 135.39780862968908, 157.3286772788591, 173.6389259097615, 172.46166642061817, 162.97072747417727, 132.68370602279504, 124.9394646597752, 119.69648441244236, 116.32085917143455]}],\n",
       "                        {\"barmode\": \"stack\", \"height\": 400, \"margin\": {\"b\": 100}, \"title\": {\"text\": \"Photon Uptake by PSII\"}, \"width\": 600, \"xaxis\": {\"tickangle\": 45, \"title\": {\"text\": \"oxygenation : decarboxylation ratio\"}}, \"yaxis\": {\"autorange\": true, \"title\": {\"text\": \"Flux [\\u00b5mol/s/m2]\"}}},\n",
       "                        {\"plotlyServerURL\": \"https://plot.ly\", \"linkText\": \"Export to plot.ly\", \"showLink\": false}\n",
       "                    )\n",
       "                };\n",
       "                });\n",
       "            </script>\n",
       "        </div>"
      ]
     },
     "metadata": {},
     "output_type": "display_data"
    }
   ],
   "source": [
    "create_bar_plot_met(D_fba, D_exp,\n",
    "                    {'[M]_PSII_h':'Mesophyll','[B]_PSII_h': 'Bundle sheath'},'hnu_h',\n",
    "                    'Photon Uptake by PSII', xaxis_title, c3_model,\n",
    "                    stacked = True, save_fig=save_fig)"
   ]
  },
  {
   "cell_type": "code",
   "execution_count": 18,
   "metadata": {
    "ExecuteTime": {
     "end_time": "2019-05-06T13:49:09.929398Z",
     "start_time": "2019-05-06T15:49:09.762494+02:00"
    },
    "collapsed": false
   },
   "outputs": [
    {
     "data": {
      "application/vnd.plotly.v1+json": {
       "config": {
        "linkText": "Export to plot.ly",
        "plotlyServerURL": "https://plot.ly",
        "showLink": false
       },
       "data": [
        {
         "marker": {
          "color": "rgb(8,81,156)"
         },
         "name": "Bundle sheath",
         "type": "bar",
         "uid": "1a940e9c-3a28-41c7-b849-a0a90364f964",
         "x": [
          "1 : 1.0",
          "1 : 1.25",
          "1 : 1.5",
          "1 : 1.75",
          "1 : 2.0",
          "1 : 2.25",
          "1 : 2.5",
          "1 : 2.75",
          "1 : 3.0",
          "1 : 4.0",
          "1 : 5.0",
          "1 : 6.0",
          "1 : 7.0",
          "1 : 8.0",
          "1 : 9.0",
          "1 : 10.0"
         ],
         "y": [
          134.96805200889824,
          134.96805200907343,
          134.96805200889006,
          134.4877594036976,
          131.95582297469704,
          123.57244664778312,
          106.57806254011123,
          90.1892733778843,
          72.00580536323284,
          49.054252708546656,
          41.9185380108762,
          44.00896630338098,
          69.21187958911527,
          72.73672065116546,
          74.70053318283732,
          75.4609251023848
         ]
        },
        {
         "marker": {
          "color": "rgb(166,54,3)"
         },
         "name": "Mesophyll",
         "type": "bar",
         "uid": "fc042e27-54b0-48a9-8698-327ec0707008",
         "x": [
          "1 : 1.0",
          "1 : 1.25",
          "1 : 1.5",
          "1 : 1.75",
          "1 : 2.0",
          "1 : 2.25",
          "1 : 2.5",
          "1 : 2.75",
          "1 : 3.0",
          "1 : 4.0",
          "1 : 5.0",
          "1 : 6.0",
          "1 : 7.0",
          "1 : 8.0",
          "1 : 9.0",
          "1 : 10.0"
         ],
         "y": [
          110.77399289869803,
          110.77399289884175,
          110.77399289869132,
          110.48692469555372,
          109.13629073172652,
          109.79725567396255,
          121.82735990427359,
          139.55908551947897,
          160.40948969975906,
          173.63892590976147,
          173.32666765664456,
          163.2402552717317,
          132.68370602279504,
          124.9394646597752,
          119.69648441244237,
          116.32085917143456
         ]
        }
       ],
       "layout": {
        "barmode": "stack",
        "height": 400,
        "margin": {
         "b": 100
        },
        "title": {
         "text": "Photon Uptake by PSI"
        },
        "width": 600,
        "xaxis": {
         "tickangle": 45,
         "title": {
          "text": "oxygenation : decarboxylation ratio"
         }
        },
        "yaxis": {
         "autorange": true,
         "title": {
          "text": "Flux [µmol/s/m2]"
         }
        }
       }
      },
      "text/html": [
       "<div>\n",
       "        \n",
       "        \n",
       "            <div id=\"e8dfa742-a043-45e2-ad88-184d86bbe2de\" class=\"plotly-graph-div\"></div>\n",
       "            <script type=\"text/javascript\">\n",
       "                require([\"plotly\"], function(Plotly) {\n",
       "                    window.PLOTLYENV=window.PLOTLYENV || {};\n",
       "                    window.PLOTLYENV.BASE_URL='https://plot.ly';\n",
       "                    \n",
       "                if (document.getElementById(\"e8dfa742-a043-45e2-ad88-184d86bbe2de\")) {\n",
       "                    Plotly.newPlot(\n",
       "                        'e8dfa742-a043-45e2-ad88-184d86bbe2de',\n",
       "                        [{\"marker\": {\"color\": \"rgb(8,81,156)\"}, \"name\": \"Bundle sheath\", \"type\": \"bar\", \"uid\": \"fe3cb59d-e519-47f3-8530-b1cc474f7ccf\", \"x\": [\"1 : 1.0\", \"1 : 1.25\", \"1 : 1.5\", \"1 : 1.75\", \"1 : 2.0\", \"1 : 2.25\", \"1 : 2.5\", \"1 : 2.75\", \"1 : 3.0\", \"1 : 4.0\", \"1 : 5.0\", \"1 : 6.0\", \"1 : 7.0\", \"1 : 8.0\", \"1 : 9.0\", \"1 : 10.0\"], \"y\": [134.96805200889824, 134.96805200907343, 134.96805200889006, 134.4877594036976, 131.95582297469704, 123.57244664778312, 106.57806254011123, 90.1892733778843, 72.00580536323284, 49.054252708546656, 41.9185380108762, 44.00896630338098, 69.21187958911527, 72.73672065116546, 74.70053318283732, 75.4609251023848]}, {\"marker\": {\"color\": \"rgb(166,54,3)\"}, \"name\": \"Mesophyll\", \"type\": \"bar\", \"uid\": \"fb74a851-ac62-4380-a6b7-6f6eadb709c3\", \"x\": [\"1 : 1.0\", \"1 : 1.25\", \"1 : 1.5\", \"1 : 1.75\", \"1 : 2.0\", \"1 : 2.25\", \"1 : 2.5\", \"1 : 2.75\", \"1 : 3.0\", \"1 : 4.0\", \"1 : 5.0\", \"1 : 6.0\", \"1 : 7.0\", \"1 : 8.0\", \"1 : 9.0\", \"1 : 10.0\"], \"y\": [110.77399289869803, 110.77399289884175, 110.77399289869132, 110.48692469555372, 109.13629073172652, 109.79725567396255, 121.82735990427359, 139.55908551947897, 160.40948969975906, 173.63892590976147, 173.32666765664456, 163.2402552717317, 132.68370602279504, 124.9394646597752, 119.69648441244237, 116.32085917143456]}],\n",
       "                        {\"barmode\": \"stack\", \"height\": 400, \"margin\": {\"b\": 100}, \"title\": {\"text\": \"Photon Uptake by PSI\"}, \"width\": 600, \"xaxis\": {\"tickangle\": 45, \"title\": {\"text\": \"oxygenation : decarboxylation ratio\"}}, \"yaxis\": {\"autorange\": true, \"title\": {\"text\": \"Flux [\\u00b5mol/s/m2]\"}}},\n",
       "                        {\"plotlyServerURL\": \"https://plot.ly\", \"linkText\": \"Export to plot.ly\", \"showLink\": false}\n",
       "                    )\n",
       "                };\n",
       "                });\n",
       "            </script>\n",
       "        </div>"
      ]
     },
     "metadata": {},
     "output_type": "display_data"
    }
   ],
   "source": [
    "create_bar_plot_met(D_fba, D_exp,\n",
    "                    {'[M]_PSI_h':'Mesophyll','[B]_PSI_h': 'Bundle sheath'},'hnu_h',\n",
    "                    'Photon Uptake by PSI', xaxis_title, c3_model,\n",
    "                    stacked = True, save_fig=save_fig)"
   ]
  },
  {
   "cell_type": "code",
   "execution_count": 19,
   "metadata": {
    "ExecuteTime": {
     "end_time": "2019-05-06T13:49:10.096211Z",
     "start_time": "2019-05-06T15:49:09.931910+02:00"
    },
    "collapsed": false
   },
   "outputs": [
    {
     "data": {
      "application/vnd.plotly.v1+json": {
       "config": {
        "linkText": "Export to plot.ly",
        "plotlyServerURL": "https://plot.ly",
        "showLink": false
       },
       "data": [
        {
         "marker": {
          "color": "rgb(8,81,156)"
         },
         "name": "Bundle sheath",
         "type": "bar",
         "uid": "94a02d1f-c1a3-4fe3-ad95-bc73310fbc3f",
         "x": [
          "1 : 1.0",
          "1 : 1.25",
          "1 : 1.5",
          "1 : 1.75",
          "1 : 2.0",
          "1 : 2.25",
          "1 : 2.5",
          "1 : 2.75",
          "1 : 3.0",
          "1 : 4.0",
          "1 : 5.0",
          "1 : 6.0",
          "1 : 7.0",
          "1 : 8.0",
          "1 : 9.0",
          "1 : 10.0"
         ],
         "y": [
          1.1593164490626975,
          1.159316449064079,
          1.159316449062647,
          1.8560541959987897,
          5.737039220091428,
          12.858884127484844,
          16.14943952688606,
          13.874114712153965,
          9.505792960308813,
          3.7551411487207895,
          1.3999747652965822,
          1.4117708874734671,
          1.2314833638689189,
          1.0818592397211895,
          0.9487969859290039,
          0.8410785990263897
         ]
        },
        {
         "marker": {
          "color": "rgb(166,54,3)"
         },
         "name": "Mesophyll",
         "type": "bar",
         "uid": "50785528-54e3-461f-b5eb-fab4b1e598e3",
         "x": [
          "1 : 1.0",
          "1 : 1.25",
          "1 : 1.5",
          "1 : 1.75",
          "1 : 2.0",
          "1 : 2.25",
          "1 : 2.5",
          "1 : 2.75",
          "1 : 3.0",
          "1 : 4.0",
          "1 : 5.0",
          "1 : 6.0",
          "1 : 7.0",
          "1 : 8.0",
          "1 : 9.0",
          "1 : 10.0"
         ],
         "y": [
          2.4879304709969987,
          2.4879304710000847,
          2.487930470996734,
          2.487930470997507,
          2.1859410371400605,
          0.14873287017400566,
          0.07062012977688074,
          0.009849932157298982,
          0.009111187245501574,
          0.009111187245501572,
          0.009111187245501572,
          0.00911118724550157,
          0.009111187245501574,
          0.009111187245471856,
          0.1139653699099395,
          0.2145427958957768
         ]
        }
       ],
       "layout": {
        "barmode": "stack",
        "height": 400,
        "margin": {
         "b": 100
        },
        "title": {
         "text": "ATP Synthesis Mitochondria"
        },
        "width": 600,
        "xaxis": {
         "tickangle": 45,
         "title": {
          "text": "oxygenation : decarboxylation ratio"
         }
        },
        "yaxis": {
         "autorange": true,
         "title": {
          "text": "Flux [µmol/s/m2]"
         }
        }
       }
      },
      "text/html": [
       "<div>\n",
       "        \n",
       "        \n",
       "            <div id=\"5905211d-f702-44c0-b54f-09ad57ca09c7\" class=\"plotly-graph-div\"></div>\n",
       "            <script type=\"text/javascript\">\n",
       "                require([\"plotly\"], function(Plotly) {\n",
       "                    window.PLOTLYENV=window.PLOTLYENV || {};\n",
       "                    window.PLOTLYENV.BASE_URL='https://plot.ly';\n",
       "                    \n",
       "                if (document.getElementById(\"5905211d-f702-44c0-b54f-09ad57ca09c7\")) {\n",
       "                    Plotly.newPlot(\n",
       "                        '5905211d-f702-44c0-b54f-09ad57ca09c7',\n",
       "                        [{\"marker\": {\"color\": \"rgb(8,81,156)\"}, \"name\": \"Bundle sheath\", \"type\": \"bar\", \"uid\": \"c114da76-1f93-481b-9318-b4557dd619c2\", \"x\": [\"1 : 1.0\", \"1 : 1.25\", \"1 : 1.5\", \"1 : 1.75\", \"1 : 2.0\", \"1 : 2.25\", \"1 : 2.5\", \"1 : 2.75\", \"1 : 3.0\", \"1 : 4.0\", \"1 : 5.0\", \"1 : 6.0\", \"1 : 7.0\", \"1 : 8.0\", \"1 : 9.0\", \"1 : 10.0\"], \"y\": [1.1593164490626975, 1.159316449064079, 1.159316449062647, 1.8560541959987897, 5.737039220091428, 12.858884127484844, 16.14943952688606, 13.874114712153965, 9.505792960308813, 3.7551411487207895, 1.3999747652965822, 1.4117708874734671, 1.2314833638689189, 1.0818592397211895, 0.9487969859290039, 0.8410785990263897]}, {\"marker\": {\"color\": \"rgb(166,54,3)\"}, \"name\": \"Mesophyll\", \"type\": \"bar\", \"uid\": \"6d5ddf1a-7482-44bf-a284-a50dde2232bc\", \"x\": [\"1 : 1.0\", \"1 : 1.25\", \"1 : 1.5\", \"1 : 1.75\", \"1 : 2.0\", \"1 : 2.25\", \"1 : 2.5\", \"1 : 2.75\", \"1 : 3.0\", \"1 : 4.0\", \"1 : 5.0\", \"1 : 6.0\", \"1 : 7.0\", \"1 : 8.0\", \"1 : 9.0\", \"1 : 10.0\"], \"y\": [2.4879304709969987, 2.4879304710000847, 2.487930470996734, 2.487930470997507, 2.1859410371400605, 0.14873287017400566, 0.07062012977688074, 0.009849932157298982, 0.009111187245501574, 0.009111187245501572, 0.009111187245501572, 0.00911118724550157, 0.009111187245501574, 0.009111187245471856, 0.1139653699099395, 0.2145427958957768]}],\n",
       "                        {\"barmode\": \"stack\", \"height\": 400, \"margin\": {\"b\": 100}, \"title\": {\"text\": \"ATP Synthesis Mitochondria\"}, \"width\": 600, \"xaxis\": {\"tickangle\": 45, \"title\": {\"text\": \"oxygenation : decarboxylation ratio\"}}, \"yaxis\": {\"autorange\": true, \"title\": {\"text\": \"Flux [\\u00b5mol/s/m2]\"}}},\n",
       "                        {\"plotlyServerURL\": \"https://plot.ly\", \"linkText\": \"Export to plot.ly\", \"showLink\": false}\n",
       "                    )\n",
       "                };\n",
       "                });\n",
       "            </script>\n",
       "        </div>"
      ]
     },
     "metadata": {},
     "output_type": "display_data"
    }
   ],
   "source": [
    "create_bar_plot_met(D_fba, D_exp,\n",
    "                    {'[M]_cplx5_m':'Mesophyll','[B]_cplx5_m': 'Bundle sheath'},'ATP_m',\n",
    "                    'ATP Synthesis Mitochondria', xaxis_title, c3_model,\n",
    "                    stacked = True, save_fig=save_fig)"
   ]
  },
  {
   "cell_type": "code",
   "execution_count": 20,
   "metadata": {
    "ExecuteTime": {
     "end_time": "2019-05-06T13:49:10.258776Z",
     "start_time": "2019-05-06T15:49:10.097755+02:00"
    },
    "collapsed": false
   },
   "outputs": [
    {
     "data": {
      "application/vnd.plotly.v1+json": {
       "config": {
        "linkText": "Export to plot.ly",
        "plotlyServerURL": "https://plot.ly",
        "showLink": false
       },
       "data": [
        {
         "marker": {
          "color": "rgb(8,81,156)"
         },
         "name": "Bundle sheath",
         "type": "bar",
         "uid": "68ccfef5-0eb8-4153-8a69-ad0b5952ac34",
         "x": [
          "1 : 1.0",
          "1 : 1.25",
          "1 : 1.5",
          "1 : 1.75",
          "1 : 2.0",
          "1 : 2.25",
          "1 : 2.5",
          "1 : 2.75",
          "1 : 3.0",
          "1 : 4.0",
          "1 : 5.0",
          "1 : 6.0",
          "1 : 7.0",
          "1 : 8.0",
          "1 : 9.0",
          "1 : 10.0"
         ],
         "y": [
          116.7898693954861,
          116.7898693956377,
          116.78986939547904,
          115.8709670710898,
          111.64804066400093,
          100.02010765329538,
          80.90456275261039,
          67.64195503341325,
          54.00435402242465,
          36.79068953141,
          31.43890350815716,
          33.00672472753575,
          51.90890969183646,
          54.552540488374106,
          56.025399887127996,
          56.59569382678862
         ]
        },
        {
         "marker": {
          "color": "rgb(166,54,3)"
         },
         "name": "Mesophyll",
         "type": "bar",
         "uid": "4decdaa3-366a-4c7c-b870-b2a89f83cd0f",
         "x": [
          "1 : 1.0",
          "1 : 1.25",
          "1 : 1.5",
          "1 : 1.75",
          "1 : 2.0",
          "1 : 2.25",
          "1 : 2.5",
          "1 : 2.75",
          "1 : 3.0",
          "1 : 4.0",
          "1 : 5.0",
          "1 : 6.0",
          "1 : 7.0",
          "1 : 8.0",
          "1 : 9.0",
          "1 : 10.0"
         ],
         "y": [
          86.5472955077358,
          86.54729550784806,
          86.54729550773061,
          85.86992368590995,
          83.12362536028775,
          82.80111893601965,
          92.49466877460276,
          105.70963336205672,
          121.07732038004431,
          130.22919443232112,
          130.21125105149005,
          122.49757340318749,
          99.51277951709632,
          93.70459849483142,
          89.77236330933178,
          87.24064437857592
         ]
        }
       ],
       "layout": {
        "barmode": "stack",
        "height": 400,
        "margin": {
         "b": 100
        },
        "title": {
         "text": "ATP Synthesis Chloroplast"
        },
        "width": 600,
        "xaxis": {
         "tickangle": 45,
         "title": {
          "text": "oxygenation : decarboxylation ratio"
         }
        },
        "yaxis": {
         "autorange": true,
         "title": {
          "text": "Flux [µmol/s/m2]"
         }
        }
       }
      },
      "text/html": [
       "<div>\n",
       "        \n",
       "        \n",
       "            <div id=\"64d4626e-cef4-44f7-ad01-52c76ad10548\" class=\"plotly-graph-div\"></div>\n",
       "            <script type=\"text/javascript\">\n",
       "                require([\"plotly\"], function(Plotly) {\n",
       "                    window.PLOTLYENV=window.PLOTLYENV || {};\n",
       "                    window.PLOTLYENV.BASE_URL='https://plot.ly';\n",
       "                    \n",
       "                if (document.getElementById(\"64d4626e-cef4-44f7-ad01-52c76ad10548\")) {\n",
       "                    Plotly.newPlot(\n",
       "                        '64d4626e-cef4-44f7-ad01-52c76ad10548',\n",
       "                        [{\"marker\": {\"color\": \"rgb(8,81,156)\"}, \"name\": \"Bundle sheath\", \"type\": \"bar\", \"uid\": \"f4fe8de0-5633-4597-a79f-0e265898eff9\", \"x\": [\"1 : 1.0\", \"1 : 1.25\", \"1 : 1.5\", \"1 : 1.75\", \"1 : 2.0\", \"1 : 2.25\", \"1 : 2.5\", \"1 : 2.75\", \"1 : 3.0\", \"1 : 4.0\", \"1 : 5.0\", \"1 : 6.0\", \"1 : 7.0\", \"1 : 8.0\", \"1 : 9.0\", \"1 : 10.0\"], \"y\": [116.7898693954861, 116.7898693956377, 116.78986939547904, 115.8709670710898, 111.64804066400093, 100.02010765329538, 80.90456275261039, 67.64195503341325, 54.00435402242465, 36.79068953141, 31.43890350815716, 33.00672472753575, 51.90890969183646, 54.552540488374106, 56.025399887127996, 56.59569382678862]}, {\"marker\": {\"color\": \"rgb(166,54,3)\"}, \"name\": \"Mesophyll\", \"type\": \"bar\", \"uid\": \"5a093cd7-f75f-43fd-9ad0-c6ba0aa0e9c4\", \"x\": [\"1 : 1.0\", \"1 : 1.25\", \"1 : 1.5\", \"1 : 1.75\", \"1 : 2.0\", \"1 : 2.25\", \"1 : 2.5\", \"1 : 2.75\", \"1 : 3.0\", \"1 : 4.0\", \"1 : 5.0\", \"1 : 6.0\", \"1 : 7.0\", \"1 : 8.0\", \"1 : 9.0\", \"1 : 10.0\"], \"y\": [86.5472955077358, 86.54729550784806, 86.54729550773061, 85.86992368590995, 83.12362536028775, 82.80111893601965, 92.49466877460276, 105.70963336205672, 121.07732038004431, 130.22919443232112, 130.21125105149005, 122.49757340318749, 99.51277951709632, 93.70459849483142, 89.77236330933178, 87.24064437857592]}],\n",
       "                        {\"barmode\": \"stack\", \"height\": 400, \"margin\": {\"b\": 100}, \"title\": {\"text\": \"ATP Synthesis Chloroplast\"}, \"width\": 600, \"xaxis\": {\"tickangle\": 45, \"title\": {\"text\": \"oxygenation : decarboxylation ratio\"}}, \"yaxis\": {\"autorange\": true, \"title\": {\"text\": \"Flux [\\u00b5mol/s/m2]\"}}},\n",
       "                        {\"plotlyServerURL\": \"https://plot.ly\", \"linkText\": \"Export to plot.ly\", \"showLink\": false}\n",
       "                    )\n",
       "                };\n",
       "                });\n",
       "            </script>\n",
       "        </div>"
      ]
     },
     "metadata": {},
     "output_type": "display_data"
    }
   ],
   "source": [
    "create_bar_plot_met(D_fba, D_exp,\n",
    "                    {'[M]_ATPase_h':'Mesophyll','[B]_ATPase_h': 'Bundle sheath'},'ATP_h',\n",
    "                    'ATP Synthesis Chloroplast', xaxis_title, c3_model,\n",
    "                    stacked = True, save_fig=save_fig)"
   ]
  },
  {
   "cell_type": "code",
   "execution_count": 21,
   "metadata": {
    "ExecuteTime": {
     "end_time": "2019-05-06T13:49:10.453962Z",
     "start_time": "2019-05-06T15:49:10.260713+02:00"
    },
    "collapsed": false,
    "run_control": {
     "marked": true
    }
   },
   "outputs": [
    {
     "data": {
      "application/vnd.plotly.v1+json": {
       "config": {
        "linkText": "Export to plot.ly",
        "plotlyServerURL": "https://plot.ly",
        "showLink": false
       },
       "data": [
        {
         "marker": {
          "color": "rgb(49,130,189)"
         },
         "name": "Bundle sheat (unconstrained)",
         "type": "bar",
         "uid": "a904ef97-ca70-45c1-94d0-67170d41c27c",
         "x": [
          "1 : 1.0",
          "1 : 1.25",
          "1 : 1.5",
          "1 : 1.75",
          "1 : 2.0",
          "1 : 2.25",
          "1 : 2.5",
          "1 : 2.75",
          "1 : 3.0",
          "1 : 4.0",
          "1 : 5.0",
          "1 : 6.0",
          "1 : 7.0",
          "1 : 8.0",
          "1 : 9.0",
          "1 : 10.0"
         ],
         "y": [
          40.17505623071087,
          40.17505623076315,
          40.17505623070846,
          39.57138733419866,
          36.90084855352844,
          32.31225931158524,
          25.887870894304392,
          21.490481972370226,
          16.760736110673953,
          9.256373942457348,
          5.597370484833417,
          4.7037296190533535,
          3.6449944636196077,
          3.187017244084802,
          2.8767894492700554,
          2.622760242755213
         ]
        },
        {
         "marker": {
          "color": "rgb(8,81,156)"
         },
         "name": "Bundle sheat (constrained)",
         "type": "bar",
         "uid": "0b7af710-2cc8-4961-aee2-c98056f3552d",
         "x": [
          "1 : 1.0",
          "1 : 1.25",
          "1 : 1.5",
          "1 : 1.75",
          "1 : 2.0",
          "1 : 2.25",
          "1 : 2.5",
          "1 : 2.75",
          "1 : 3.0",
          "1 : 4.0",
          "1 : 5.0",
          "1 : 6.0",
          "1 : 7.0",
          "1 : 8.0",
          "1 : 9.0",
          "1 : 10.0"
         ],
         "y": [
          0,
          0,
          0,
          0,
          0,
          0,
          0,
          2.153003352219916e-14,
          1.0008334685647782e-14,
          1.0935783655603213,
          1.1092060013019063,
          2.7822899317492835,
          9.668255176615796,
          11.095327862331228,
          12.051668959768772,
          12.66117736814949
         ]
        },
        {
         "marker": {
          "color": "rgb(166,54,3)"
         },
         "name": "Mesophyll (constrained)",
         "type": "bar",
         "uid": "b1bdf149-5b56-463a-a74a-3a821a43d065",
         "x": [
          "1 : 1.0",
          "1 : 1.25",
          "1 : 1.5",
          "1 : 1.75",
          "1 : 2.0",
          "1 : 2.25",
          "1 : 2.5",
          "1 : 2.75",
          "1 : 3.0",
          "1 : 4.0",
          "1 : 5.0",
          "1 : 6.0",
          "1 : 7.0",
          "1 : 8.0",
          "1 : 9.0",
          "1 : 10.0"
         ],
         "y": [
          0,
          4.2402805786168214e-16,
          7.903966806899586e-16,
          0.8451364551308799,
          4.3656102362447315,
          10.109310324605651,
          17.858981670509465,
          22.83670187129632,
          28.09718414404593,
          34.24205853529602,
          37.31044482745157,
          35.913702735513915,
          29.671811341791066,
          28.35858039006945,
          27.440613514698693,
          26.867555250765015
         ]
        }
       ],
       "layout": {
        "barmode": "stack",
        "height": 400,
        "margin": {
         "b": 100
        },
        "title": {
         "text": "Carboxylation by Rubisco"
        },
        "width": 600,
        "xaxis": {
         "tickangle": 45,
         "title": {
          "text": "oxygenation : decarboxylation ratio"
         }
        },
        "yaxis": {
         "autorange": true,
         "title": {
          "text": "Flux [µmol/s/m2]"
         }
        }
       }
      },
      "text/html": [
       "<div>\n",
       "        \n",
       "        \n",
       "            <div id=\"b82a2de1-1f39-4f18-89f8-08b59635f3d1\" class=\"plotly-graph-div\"></div>\n",
       "            <script type=\"text/javascript\">\n",
       "                require([\"plotly\"], function(Plotly) {\n",
       "                    window.PLOTLYENV=window.PLOTLYENV || {};\n",
       "                    window.PLOTLYENV.BASE_URL='https://plot.ly';\n",
       "                    \n",
       "                if (document.getElementById(\"b82a2de1-1f39-4f18-89f8-08b59635f3d1\")) {\n",
       "                    Plotly.newPlot(\n",
       "                        'b82a2de1-1f39-4f18-89f8-08b59635f3d1',\n",
       "                        [{\"marker\": {\"color\": \"rgb(49,130,189)\"}, \"name\": \"Bundle sheat (unconstrained)\", \"type\": \"bar\", \"uid\": \"e5435e5a-e0f7-498a-b21b-c0dfdeae263f\", \"x\": [\"1 : 1.0\", \"1 : 1.25\", \"1 : 1.5\", \"1 : 1.75\", \"1 : 2.0\", \"1 : 2.25\", \"1 : 2.5\", \"1 : 2.75\", \"1 : 3.0\", \"1 : 4.0\", \"1 : 5.0\", \"1 : 6.0\", \"1 : 7.0\", \"1 : 8.0\", \"1 : 9.0\", \"1 : 10.0\"], \"y\": [40.17505623071087, 40.17505623076315, 40.17505623070846, 39.57138733419866, 36.90084855352844, 32.31225931158524, 25.887870894304392, 21.490481972370226, 16.760736110673953, 9.256373942457348, 5.597370484833417, 4.7037296190533535, 3.6449944636196077, 3.187017244084802, 2.8767894492700554, 2.622760242755213]}, {\"marker\": {\"color\": \"rgb(8,81,156)\"}, \"name\": \"Bundle sheat (constrained)\", \"type\": \"bar\", \"uid\": \"db6753d7-05ff-4e0a-a30e-6afbc471987d\", \"x\": [\"1 : 1.0\", \"1 : 1.25\", \"1 : 1.5\", \"1 : 1.75\", \"1 : 2.0\", \"1 : 2.25\", \"1 : 2.5\", \"1 : 2.75\", \"1 : 3.0\", \"1 : 4.0\", \"1 : 5.0\", \"1 : 6.0\", \"1 : 7.0\", \"1 : 8.0\", \"1 : 9.0\", \"1 : 10.0\"], \"y\": [0.0, 0.0, 0.0, 0.0, 0.0, 0.0, 0.0, 2.153003352219916e-14, 1.0008334685647782e-14, 1.0935783655603213, 1.1092060013019063, 2.7822899317492835, 9.668255176615796, 11.095327862331228, 12.051668959768772, 12.66117736814949]}, {\"marker\": {\"color\": \"rgb(166,54,3)\"}, \"name\": \"Mesophyll (constrained)\", \"type\": \"bar\", \"uid\": \"de7d814a-86f2-4305-9629-d441d42cb4c7\", \"x\": [\"1 : 1.0\", \"1 : 1.25\", \"1 : 1.5\", \"1 : 1.75\", \"1 : 2.0\", \"1 : 2.25\", \"1 : 2.5\", \"1 : 2.75\", \"1 : 3.0\", \"1 : 4.0\", \"1 : 5.0\", \"1 : 6.0\", \"1 : 7.0\", \"1 : 8.0\", \"1 : 9.0\", \"1 : 10.0\"], \"y\": [0.0, 4.2402805786168214e-16, 7.903966806899586e-16, 0.8451364551308799, 4.3656102362447315, 10.109310324605651, 17.858981670509465, 22.83670187129632, 28.09718414404593, 34.24205853529602, 37.31044482745157, 35.913702735513915, 29.671811341791066, 28.35858039006945, 27.440613514698693, 26.867555250765015]}],\n",
       "                        {\"barmode\": \"stack\", \"height\": 400, \"margin\": {\"b\": 100}, \"title\": {\"text\": \"Carboxylation by Rubisco\"}, \"width\": 600, \"xaxis\": {\"tickangle\": 45, \"title\": {\"text\": \"oxygenation : decarboxylation ratio\"}}, \"yaxis\": {\"autorange\": true, \"title\": {\"text\": \"Flux [\\u00b5mol/s/m2]\"}}},\n",
       "                        {\"plotlyServerURL\": \"https://plot.ly\", \"linkText\": \"Export to plot.ly\", \"showLink\": false}\n",
       "                    )\n",
       "                };\n",
       "                });\n",
       "            </script>\n",
       "        </div>"
      ]
     },
     "metadata": {},
     "output_type": "display_data"
    }
   ],
   "source": [
    "create_bar_plot_rxn(D_fba, D_exp,\n",
    "                    {'[M]_RBC_h':'Mesophyll (constrained)','[B]_RBC_h_Ex':'Bundle sheat (constrained)',\n",
    "                 '[B]_RBC_h': 'Bundle sheat (unconstrained)'},\n",
    "                    'Carboxylation by Rubisco', 'oxygenation : decarboxylation ratio',\n",
    "                    stacked = True, save_fig=save_fig)"
   ]
  },
  {
   "cell_type": "code",
   "execution_count": 22,
   "metadata": {
    "ExecuteTime": {
     "end_time": "2019-05-06T13:49:10.879435Z",
     "start_time": "2019-05-06T15:49:10.456019+02:00"
    },
    "collapsed": false,
    "run_control": {
     "marked": true
    }
   },
   "outputs": [
    {
     "data": {
      "application/vnd.plotly.v1+json": {
       "config": {
        "linkText": "Export to plot.ly",
        "plotlyServerURL": "https://plot.ly",
        "showLink": false
       },
       "data": [
        {
         "marker": {
          "color": "rgb(31,120,180)"
         },
         "name": "Gly DH",
         "type": "bar",
         "uid": "cb382939-77e0-4453-841f-398fe74037dc",
         "x": [
          "1 : 1.0",
          "1 : 1.25",
          "1 : 1.5",
          "1 : 1.75",
          "1 : 2.0",
          "1 : 2.25",
          "1 : 2.5",
          "1 : 2.75",
          "1 : 3.0",
          "1 : 4.0",
          "1 : 5.0",
          "1 : 6.0",
          "1 : 7.0",
          "1 : 8.0",
          "1 : 9.0",
          "1 : 10.0"
         ],
         "y": [
          0.00418461109270652,
          0.004184611092711952,
          0.004184611092705974,
          0.2456521697015337,
          1.0955871701538897,
          2.2506980165606434,
          3.5759809451945994,
          4.1563122240556725,
          4.687048635100358,
          4.421139223699755,
          3.8461496939680515,
          3.2288506666979733,
          2.8141893624074914,
          2.4700538768677487,
          2.164010693145698,
          1.9162584032696934
         ]
        },
        {
         "marker": {
          "color": "rgb(51,160,44)"
         },
         "name": "NAD-ME",
         "type": "bar",
         "uid": "71ac3a43-0d36-45de-8a3a-6c1f7f1d78f1",
         "x": [
          "1 : 1.0",
          "1 : 1.25",
          "1 : 1.5",
          "1 : 1.75",
          "1 : 2.0",
          "1 : 2.25",
          "1 : 2.5",
          "1 : 2.75",
          "1 : 3.0",
          "1 : 4.0",
          "1 : 5.0",
          "1 : 6.0",
          "1 : 7.0",
          "1 : 8.0",
          "1 : 9.0",
          "1 : 10.0"
         ],
         "y": [
          0.32221505413840057,
          0.32221505413882084,
          0.32221505413838175,
          0.3222150541384785,
          0.32221505413840884,
          0.3222150541384971,
          0.3222150541384096,
          0.32221505413834195,
          0.32221505413841095,
          0.32221505413836676,
          0.32221505413840584,
          0.3222150541384048,
          0.08810556257490779,
          0,
          0,
          0
         ]
        },
        {
         "marker": {
          "color": "rgb(166,206,227)"
         },
         "name": "NADP-ME",
         "type": "bar",
         "uid": "6a31637c-377c-4e34-9894-b5aee6a38d75",
         "x": [
          "1 : 1.0",
          "1 : 1.25",
          "1 : 1.5",
          "1 : 1.75",
          "1 : 2.0",
          "1 : 2.25",
          "1 : 2.5",
          "1 : 2.75",
          "1 : 3.0",
          "1 : 4.0",
          "1 : 5.0",
          "1 : 6.0",
          "1 : 7.0",
          "1 : 8.0",
          "1 : 9.0",
          "1 : 10.0"
         ],
         "y": [
          37.13954902512438,
          37.139549025172684,
          37.13954902512213,
          36.00010123268926,
          30.995292696700655,
          19.501602704183345,
          3.610790232019359,
          1.0705915089451652,
          0,
          0,
          0,
          0,
          0,
          0,
          0,
          0
         ]
        },
        {
         "marker": {
          "color": "rgb(178,223,138)"
         },
         "name": "PEPCK",
         "type": "bar",
         "uid": "0020f8ef-7514-4db7-80e2-719f1f0daf75",
         "x": [
          "1 : 1.0",
          "1 : 1.25",
          "1 : 1.5",
          "1 : 1.75",
          "1 : 2.0",
          "1 : 2.25",
          "1 : 2.5",
          "1 : 2.75",
          "1 : 3.0",
          "1 : 4.0",
          "1 : 5.0",
          "1 : 6.0",
          "1 : 7.0",
          "1 : 8.0",
          "1 : 9.0",
          "1 : 10.0"
         ],
         "y": [
          1.9921441731383431,
          1.9921441731408738,
          1.9921441731382419,
          2.2864555104521647,
          3.7707902653184533,
          9.520780169485207,
          17.664711036463427,
          15.22718955874255,
          11.034509054218125,
          3.796056297402193,
          0.7120423695098821,
          0.4357005309999184,
          0.025736171420177742,
          0,
          0,
          0
         ]
        }
       ],
       "layout": {
        "barmode": "stack",
        "height": 400,
        "margin": {
         "b": 100
        },
        "title": {
         "text": "Decarboxylation Enzymes"
        },
        "width": 600,
        "xaxis": {
         "tickangle": 45,
         "title": {
          "text": "oxygenation : decarboxylation ratio"
         }
        },
        "yaxis": {
         "autorange": true,
         "title": {
          "text": "Flux [µmol/s/m2]"
         }
        }
       }
      },
      "text/html": [
       "<div>\n",
       "        \n",
       "        \n",
       "            <div id=\"cded8290-03e7-432c-b49b-a7d9ac0de01f\" class=\"plotly-graph-div\"></div>\n",
       "            <script type=\"text/javascript\">\n",
       "                require([\"plotly\"], function(Plotly) {\n",
       "                    window.PLOTLYENV=window.PLOTLYENV || {};\n",
       "                    window.PLOTLYENV.BASE_URL='https://plot.ly';\n",
       "                    \n",
       "                if (document.getElementById(\"cded8290-03e7-432c-b49b-a7d9ac0de01f\")) {\n",
       "                    Plotly.newPlot(\n",
       "                        'cded8290-03e7-432c-b49b-a7d9ac0de01f',\n",
       "                        [{\"marker\": {\"color\": \"rgb(31,120,180)\"}, \"name\": \"Gly DH\", \"type\": \"bar\", \"uid\": \"d8cf7db0-4eef-4d82-bc56-a29b65cfa95d\", \"x\": [\"1 : 1.0\", \"1 : 1.25\", \"1 : 1.5\", \"1 : 1.75\", \"1 : 2.0\", \"1 : 2.25\", \"1 : 2.5\", \"1 : 2.75\", \"1 : 3.0\", \"1 : 4.0\", \"1 : 5.0\", \"1 : 6.0\", \"1 : 7.0\", \"1 : 8.0\", \"1 : 9.0\", \"1 : 10.0\"], \"y\": [0.00418461109270652, 0.004184611092711952, 0.004184611092705974, 0.2456521697015337, 1.0955871701538897, 2.2506980165606434, 3.5759809451945994, 4.1563122240556725, 4.687048635100358, 4.421139223699755, 3.8461496939680515, 3.2288506666979733, 2.8141893624074914, 2.4700538768677487, 2.164010693145698, 1.9162584032696934]}, {\"marker\": {\"color\": \"rgb(51,160,44)\"}, \"name\": \"NAD-ME\", \"type\": \"bar\", \"uid\": \"4d7a3499-c183-4562-a133-313c31e0450a\", \"x\": [\"1 : 1.0\", \"1 : 1.25\", \"1 : 1.5\", \"1 : 1.75\", \"1 : 2.0\", \"1 : 2.25\", \"1 : 2.5\", \"1 : 2.75\", \"1 : 3.0\", \"1 : 4.0\", \"1 : 5.0\", \"1 : 6.0\", \"1 : 7.0\", \"1 : 8.0\", \"1 : 9.0\", \"1 : 10.0\"], \"y\": [0.32221505413840057, 0.32221505413882084, 0.32221505413838175, 0.3222150541384785, 0.32221505413840884, 0.3222150541384971, 0.3222150541384096, 0.32221505413834195, 0.32221505413841095, 0.32221505413836676, 0.32221505413840584, 0.3222150541384048, 0.08810556257490779, 0.0, 0.0, 0.0]}, {\"marker\": {\"color\": \"rgb(166,206,227)\"}, \"name\": \"NADP-ME\", \"type\": \"bar\", \"uid\": \"30c97864-96af-4a04-92e9-04feb406224e\", \"x\": [\"1 : 1.0\", \"1 : 1.25\", \"1 : 1.5\", \"1 : 1.75\", \"1 : 2.0\", \"1 : 2.25\", \"1 : 2.5\", \"1 : 2.75\", \"1 : 3.0\", \"1 : 4.0\", \"1 : 5.0\", \"1 : 6.0\", \"1 : 7.0\", \"1 : 8.0\", \"1 : 9.0\", \"1 : 10.0\"], \"y\": [37.13954902512438, 37.139549025172684, 37.13954902512213, 36.00010123268926, 30.995292696700655, 19.501602704183345, 3.610790232019359, 1.0705915089451652, 0.0, 0.0, 0.0, 0.0, 0.0, 0.0, 0.0, 0.0]}, {\"marker\": {\"color\": \"rgb(178,223,138)\"}, \"name\": \"PEPCK\", \"type\": \"bar\", \"uid\": \"413a2fb2-61e4-4aca-895a-b7960e17757c\", \"x\": [\"1 : 1.0\", \"1 : 1.25\", \"1 : 1.5\", \"1 : 1.75\", \"1 : 2.0\", \"1 : 2.25\", \"1 : 2.5\", \"1 : 2.75\", \"1 : 3.0\", \"1 : 4.0\", \"1 : 5.0\", \"1 : 6.0\", \"1 : 7.0\", \"1 : 8.0\", \"1 : 9.0\", \"1 : 10.0\"], \"y\": [1.9921441731383431, 1.9921441731408738, 1.9921441731382419, 2.2864555104521647, 3.7707902653184533, 9.520780169485207, 17.664711036463427, 15.22718955874255, 11.034509054218125, 3.796056297402193, 0.7120423695098821, 0.4357005309999184, 0.025736171420177742, 0.0, 0.0, 0.0]}],\n",
       "                        {\"barmode\": \"stack\", \"height\": 400, \"margin\": {\"b\": 100}, \"title\": {\"text\": \"Decarboxylation Enzymes\"}, \"width\": 600, \"xaxis\": {\"tickangle\": 45, \"title\": {\"text\": \"oxygenation : decarboxylation ratio\"}}, \"yaxis\": {\"autorange\": true, \"title\": {\"text\": \"Flux [\\u00b5mol/s/m2]\"}}},\n",
       "                        {\"plotlyServerURL\": \"https://plot.ly\", \"linkText\": \"Export to plot.ly\", \"showLink\": false}\n",
       "                    )\n",
       "                };\n",
       "                });\n",
       "            </script>\n",
       "        </div>"
      ]
     },
     "metadata": {},
     "output_type": "display_data"
    }
   ],
   "source": [
    "create_bar_plot_rxn(D_fba, D_exp,\n",
    "                    {'[B]_MalDH4_h': 'NADP-ME', '[B]_MalDH2_m': 'NAD-ME', '[B]_PEPC1_c': 'PEPCK', '[B]_GlyDH_m': 'Gly DH'},\n",
    "                    'Decarboxylation Enzymes', 'oxygenation : decarboxylation ratio',\n",
    "                    c=True, stacked = True, save_fig=save_fig)"
   ]
  },
  {
   "cell_type": "code",
   "execution_count": 23,
   "metadata": {
    "ExecuteTime": {
     "end_time": "2019-05-06T13:49:10.884257Z",
     "start_time": "2019-05-06T15:49:10.880863+02:00"
    },
    "collapsed": false
   },
   "outputs": [
    {
     "data": {
      "text/plain": [
       "11.7175"
      ]
     },
     "execution_count": 23,
     "metadata": {},
     "output_type": "execute_result"
    }
   ],
   "source": [
    "4.687/40*100"
   ]
  },
  {
   "cell_type": "code",
   "execution_count": 24,
   "metadata": {
    "ExecuteTime": {
     "end_time": "2019-05-06T13:49:11.031909Z",
     "start_time": "2019-05-06T15:49:10.885720+02:00"
    },
    "collapsed": false,
    "run_control": {
     "marked": false
    }
   },
   "outputs": [
    {
     "data": {
      "application/vnd.plotly.v1+json": {
       "config": {
        "linkText": "Export to plot.ly",
        "plotlyServerURL": "https://plot.ly",
        "showLink": false
       },
       "data": [
        {
         "marker": {
          "color": "rgb(8,81,156)"
         },
         "name": "Bundle sheath",
         "type": "bar",
         "uid": "082cf0bf-b587-4f00-be94-8d887fed0ad7",
         "x": [
          "1 : 1.0",
          "1 : 1.25",
          "1 : 1.5",
          "1 : 1.75",
          "1 : 2.0",
          "1 : 2.25",
          "1 : 2.5",
          "1 : 2.75",
          "1 : 3.0",
          "1 : 4.0",
          "1 : 5.0",
          "1 : 6.0",
          "1 : 7.0",
          "1 : 8.0",
          "1 : 9.0",
          "1 : 10.0"
         ],
         "y": [
          0,
          0,
          0,
          0,
          0,
          0,
          0,
          0,
          0,
          0,
          0,
          0,
          0,
          0,
          0,
          0
         ]
        },
        {
         "marker": {
          "color": "rgb(166,54,3)"
         },
         "name": "Mesophyll",
         "type": "bar",
         "uid": "80d8f7bc-482a-4a3b-bb3a-708bab45e877",
         "x": [
          "1 : 1.0",
          "1 : 1.25",
          "1 : 1.5",
          "1 : 1.75",
          "1 : 2.0",
          "1 : 2.25",
          "1 : 2.5",
          "1 : 2.75",
          "1 : 3.0",
          "1 : 4.0",
          "1 : 5.0",
          "1 : 6.0",
          "1 : 7.0",
          "1 : 8.0",
          "1 : 9.0",
          "1 : 10.0"
         ],
         "y": [
          39.98605129635697,
          39.98605129640892,
          39.98605129635456,
          39.14091484123586,
          35.62044106011338,
          29.876740971763073,
          22.129859366577055,
          17.152139165781808,
          11.888867152312402,
          4.650414395496351,
          1.5664004676041392,
          1.290058629094175,
          0.6459847779509859,
          0.5321430439558553,
          0.5321430439558406,
          0.5321430439560197
         ]
        }
       ],
       "layout": {
        "barmode": "stack",
        "height": 400,
        "margin": {
         "b": 100
        },
        "title": {
         "text": "PEPC"
        },
        "width": 600,
        "xaxis": {
         "tickangle": 45,
         "title": {
          "text": "oxygenation : decarboxylation ratio"
         }
        },
        "yaxis": {
         "autorange": true,
         "title": {
          "text": "Flux [µmol/s/m2]"
         }
        }
       }
      },
      "text/html": [
       "<div>\n",
       "        \n",
       "        \n",
       "            <div id=\"5a6ff526-f103-453f-9c6b-e45398a8dd59\" class=\"plotly-graph-div\"></div>\n",
       "            <script type=\"text/javascript\">\n",
       "                require([\"plotly\"], function(Plotly) {\n",
       "                    window.PLOTLYENV=window.PLOTLYENV || {};\n",
       "                    window.PLOTLYENV.BASE_URL='https://plot.ly';\n",
       "                    \n",
       "                if (document.getElementById(\"5a6ff526-f103-453f-9c6b-e45398a8dd59\")) {\n",
       "                    Plotly.newPlot(\n",
       "                        '5a6ff526-f103-453f-9c6b-e45398a8dd59',\n",
       "                        [{\"marker\": {\"color\": \"rgb(8,81,156)\"}, \"name\": \"Bundle sheath\", \"type\": \"bar\", \"uid\": \"77694deb-6465-4936-b176-e1fd0e1a874b\", \"x\": [\"1 : 1.0\", \"1 : 1.25\", \"1 : 1.5\", \"1 : 1.75\", \"1 : 2.0\", \"1 : 2.25\", \"1 : 2.5\", \"1 : 2.75\", \"1 : 3.0\", \"1 : 4.0\", \"1 : 5.0\", \"1 : 6.0\", \"1 : 7.0\", \"1 : 8.0\", \"1 : 9.0\", \"1 : 10.0\"], \"y\": [0.0, 0.0, 0.0, 0.0, 0.0, 0.0, 0.0, 0.0, 0.0, 0.0, 0.0, 0.0, 0.0, 0.0, 0.0, 0.0]}, {\"marker\": {\"color\": \"rgb(166,54,3)\"}, \"name\": \"Mesophyll\", \"type\": \"bar\", \"uid\": \"3b7b110e-8598-4dc6-84f7-b0fb78bef797\", \"x\": [\"1 : 1.0\", \"1 : 1.25\", \"1 : 1.5\", \"1 : 1.75\", \"1 : 2.0\", \"1 : 2.25\", \"1 : 2.5\", \"1 : 2.75\", \"1 : 3.0\", \"1 : 4.0\", \"1 : 5.0\", \"1 : 6.0\", \"1 : 7.0\", \"1 : 8.0\", \"1 : 9.0\", \"1 : 10.0\"], \"y\": [39.98605129635697, 39.98605129640892, 39.98605129635456, 39.14091484123586, 35.62044106011338, 29.876740971763073, 22.129859366577055, 17.152139165781808, 11.888867152312402, 4.650414395496351, 1.5664004676041392, 1.290058629094175, 0.6459847779509859, 0.5321430439558553, 0.5321430439558406, 0.5321430439560197]}],\n",
       "                        {\"barmode\": \"stack\", \"height\": 400, \"margin\": {\"b\": 100}, \"title\": {\"text\": \"PEPC\"}, \"width\": 600, \"xaxis\": {\"tickangle\": 45, \"title\": {\"text\": \"oxygenation : decarboxylation ratio\"}}, \"yaxis\": {\"autorange\": true, \"title\": {\"text\": \"Flux [\\u00b5mol/s/m2]\"}}},\n",
       "                        {\"plotlyServerURL\": \"https://plot.ly\", \"linkText\": \"Export to plot.ly\", \"showLink\": false}\n",
       "                    )\n",
       "                };\n",
       "                });\n",
       "            </script>\n",
       "        </div>"
      ]
     },
     "metadata": {},
     "output_type": "display_data"
    }
   ],
   "source": [
    "create_bar_plot_rxn(D_fba, D_exp,\n",
    "                    {'[M]_PEPC2_c': 'Mesophyll', '[B]_PEPC2_c': 'Bundle sheath'},\n",
    "                    'PEPC', 'oxygenation : decarboxylation ratio',\n",
    "                     stacked = True, save_fig=save_fig)"
   ]
  },
  {
   "cell_type": "code",
   "execution_count": 25,
   "metadata": {
    "ExecuteTime": {
     "end_time": "2019-05-06T13:49:11.188757Z",
     "start_time": "2019-05-06T15:49:11.033321+02:00"
    },
    "collapsed": false
   },
   "outputs": [
    {
     "data": {
      "application/vnd.plotly.v1+json": {
       "config": {
        "linkText": "Export to plot.ly",
        "plotlyServerURL": "https://plot.ly",
        "showLink": false
       },
       "data": [
        {
         "marker": {
          "color": "rgb(8,81,156)"
         },
         "name": "Bundle sheath",
         "type": "bar",
         "uid": "f8f48fc2-58cb-4342-9d29-3ac1848ac2f4",
         "x": [
          "1 : 1.0",
          "1 : 1.25",
          "1 : 1.5",
          "1 : 1.75",
          "1 : 2.0",
          "1 : 2.25",
          "1 : 2.5",
          "1 : 2.75",
          "1 : 3.0",
          "1 : 4.0",
          "1 : 5.0",
          "1 : 6.0",
          "1 : 7.0",
          "1 : 8.0",
          "1 : 9.0",
          "1 : 10.0"
         ],
         "y": [
          0.08508709221835614,
          0.08508709221844865,
          0.0850870922183605,
          0.0850870922183984,
          0.08508709221834988,
          0.09485118476804746,
          0.10043066622495128,
          0.10043066622492304,
          0.014646138824466137,
          0.014646138824445655,
          0.014646138824442982,
          0.014646138824472365,
          0.08508709221836368,
          0.03442280942134426,
          0.05554526666347406,
          0.08857426812896244
         ]
        },
        {
         "marker": {
          "color": "rgb(166,54,3)"
         },
         "name": "Mesophyll",
         "type": "bar",
         "uid": "fd43eeae-e868-470d-b1ab-6a5d9953a8ef",
         "x": [
          "1 : 1.0",
          "1 : 1.25",
          "1 : 1.5",
          "1 : 1.75",
          "1 : 2.0",
          "1 : 2.25",
          "1 : 2.5",
          "1 : 2.75",
          "1 : 3.0",
          "1 : 4.0",
          "1 : 5.0",
          "1 : 6.0",
          "1 : 7.0",
          "1 : 8.0",
          "1 : 9.0",
          "1 : 10.0"
         ],
         "y": [
          39.98884103708543,
          39.98884103713733,
          39.98884103708303,
          38.12265947534372,
          30.952749150591448,
          19.468823250623803,
          9.09883171532251,
          6.469093517387915,
          4.15430225396617,
          0.026502536920474388,
          0.02650253692047522,
          0.02650253692047454,
          0.02650253692045657,
          0.016738444370840926,
          0.020923055463518383,
          0.023015361009922835
         ]
        }
       ],
       "layout": {
        "barmode": "stack",
        "height": 400,
        "margin": {
         "b": 100
        },
        "title": {
         "text": "PyrPiDK"
        },
        "width": 600,
        "xaxis": {
         "tickangle": 45,
         "title": {
          "text": "oxygenation : decarboxylation ratio"
         }
        },
        "yaxis": {
         "autorange": true,
         "title": {
          "text": "Flux [µmol/s/m2]"
         }
        }
       }
      },
      "text/html": [
       "<div>\n",
       "        \n",
       "        \n",
       "            <div id=\"95a5b848-1070-4a04-8655-06ba846b2128\" class=\"plotly-graph-div\"></div>\n",
       "            <script type=\"text/javascript\">\n",
       "                require([\"plotly\"], function(Plotly) {\n",
       "                    window.PLOTLYENV=window.PLOTLYENV || {};\n",
       "                    window.PLOTLYENV.BASE_URL='https://plot.ly';\n",
       "                    \n",
       "                if (document.getElementById(\"95a5b848-1070-4a04-8655-06ba846b2128\")) {\n",
       "                    Plotly.newPlot(\n",
       "                        '95a5b848-1070-4a04-8655-06ba846b2128',\n",
       "                        [{\"marker\": {\"color\": \"rgb(8,81,156)\"}, \"name\": \"Bundle sheath\", \"type\": \"bar\", \"uid\": \"ae599147-100d-4b3c-af08-e7b670071d0e\", \"x\": [\"1 : 1.0\", \"1 : 1.25\", \"1 : 1.5\", \"1 : 1.75\", \"1 : 2.0\", \"1 : 2.25\", \"1 : 2.5\", \"1 : 2.75\", \"1 : 3.0\", \"1 : 4.0\", \"1 : 5.0\", \"1 : 6.0\", \"1 : 7.0\", \"1 : 8.0\", \"1 : 9.0\", \"1 : 10.0\"], \"y\": [0.08508709221835614, 0.08508709221844865, 0.0850870922183605, 0.0850870922183984, 0.08508709221834988, 0.09485118476804746, 0.10043066622495128, 0.10043066622492304, 0.014646138824466137, 0.014646138824445655, 0.014646138824442982, 0.014646138824472365, 0.08508709221836368, 0.03442280942134426, 0.05554526666347406, 0.08857426812896244]}, {\"marker\": {\"color\": \"rgb(166,54,3)\"}, \"name\": \"Mesophyll\", \"type\": \"bar\", \"uid\": \"df121a1f-90c9-4ac9-bc76-945e8c2ce09c\", \"x\": [\"1 : 1.0\", \"1 : 1.25\", \"1 : 1.5\", \"1 : 1.75\", \"1 : 2.0\", \"1 : 2.25\", \"1 : 2.5\", \"1 : 2.75\", \"1 : 3.0\", \"1 : 4.0\", \"1 : 5.0\", \"1 : 6.0\", \"1 : 7.0\", \"1 : 8.0\", \"1 : 9.0\", \"1 : 10.0\"], \"y\": [39.98884103708543, 39.98884103713733, 39.98884103708303, 38.12265947534372, 30.952749150591448, 19.468823250623803, 9.09883171532251, 6.469093517387915, 4.15430225396617, 0.026502536920474388, 0.02650253692047522, 0.02650253692047454, 0.02650253692045657, 0.016738444370840926, 0.020923055463518383, 0.023015361009922835]}],\n",
       "                        {\"barmode\": \"stack\", \"height\": 400, \"margin\": {\"b\": 100}, \"title\": {\"text\": \"PyrPiDK\"}, \"width\": 600, \"xaxis\": {\"tickangle\": 45, \"title\": {\"text\": \"oxygenation : decarboxylation ratio\"}}, \"yaxis\": {\"autorange\": true, \"title\": {\"text\": \"Flux [\\u00b5mol/s/m2]\"}}},\n",
       "                        {\"plotlyServerURL\": \"https://plot.ly\", \"linkText\": \"Export to plot.ly\", \"showLink\": false}\n",
       "                    )\n",
       "                };\n",
       "                });\n",
       "            </script>\n",
       "        </div>"
      ]
     },
     "metadata": {},
     "output_type": "display_data"
    }
   ],
   "source": [
    "create_bar_plot_rxn(D_fba, D_exp,\n",
    "                    {'[M]_PyrPiDK_h': 'Mesophyll', '[B]_PyrPiDK_h': 'Bundle sheath'},\n",
    "                    'PyrPiDK', 'oxygenation : decarboxylation ratio',\n",
    "                     stacked = True, save_fig=save_fig)"
   ]
  },
  {
   "cell_type": "code",
   "execution_count": 26,
   "metadata": {
    "ExecuteTime": {
     "end_time": "2019-05-06T13:49:11.545035Z",
     "start_time": "2019-05-06T15:49:11.190474+02:00"
    },
    "collapsed": false
   },
   "outputs": [
    {
     "data": {
      "application/vnd.plotly.v1+json": {
       "config": {
        "linkText": "Export to plot.ly",
        "plotlyServerURL": "https://plot.ly",
        "showLink": false
       },
       "data": [
        {
         "colorbar": {
          "title": {
           "side": "right",
           "text": "Flux [µmol/s/m2]"
          }
         },
         "colorscale": [
          [
           0,
           "rgb(255,245,240)"
          ],
          [
           0.125,
           "rgb(254,224,210)"
          ],
          [
           0.25,
           "rgb(252,187,161)"
          ],
          [
           0.375,
           "rgb(252,146,114)"
          ],
          [
           0.5,
           "rgb(251,106,74)"
          ],
          [
           0.625,
           "rgb(239,59,44)"
          ],
          [
           0.75,
           "rgb(203,24,29)"
          ],
          [
           0.875,
           "rgb(165,15,21)"
          ],
          [
           1,
           "rgb(103,0,13)"
          ]
         ],
         "type": "heatmap",
         "uid": "a4179254-131b-4882-a536-b691feb91dbc",
         "x": [
          "1 : 1.0",
          "1 : 1.25",
          "1 : 1.5",
          "1 : 1.75",
          "1 : 2.0",
          "1 : 2.25",
          "1 : 2.5",
          "1 : 2.75",
          "1 : 3.0",
          "1 : 4.0",
          "1 : 5.0",
          "1 : 6.0",
          "1 : 7.0",
          "1 : 8.0",
          "1 : 9.0",
          "1 : 10.0"
         ],
         "y": [
          "KG",
          "cACN",
          "Pyr",
          "G6P",
          "Gln",
          "Gly",
          "S6P",
          "PEP",
          "Suc",
          "Asp",
          "DHAP",
          "GCA",
          "GAP",
          "CO2",
          "Mal"
         ],
         "z": [
          [
           null,
           null,
           null,
           null,
           null,
           null,
           null,
           0.30342561395083095,
           null,
           null,
           null,
           null,
           null,
           null,
           null,
           null
          ],
          [
           0.32221505413840046,
           null,
           0.3222150541383822,
           null,
           null,
           null,
           null,
           null,
           null,
           null,
           null,
           null,
           null,
           null,
           null,
           null
          ],
          [
           null,
           null,
           null,
           null,
           null,
           null,
           null,
           null,
           null,
           null,
           null,
           0.11786654577790194,
           0.2815350839475097,
           0.4154228830446019,
           0.3984850368951863,
           0.36754834097619804
          ],
          [
           null,
           null,
           null,
           null,
           null,
           null,
           null,
           null,
           null,
           0.5564222637568462,
           0.1586910324112686,
           0.435700530999918,
           null,
           null,
           null,
           null
          ],
          [
           0.30198943385698573,
           0.30198943385737864,
           0.301989433856968,
           0.30198943385706056,
           null,
           null,
           null,
           null,
           null,
           null,
           null,
           null,
           null,
           null,
           null,
           null
          ],
          [
           null,
           null,
           null,
           0.31190851200273023,
           0.9631579865046374,
           null,
           null,
           null,
           null,
           null,
           0.15409686515497484,
           0.3542073923619123,
           0.5001656112166959,
           0.47498826875110634,
           0.3880435625886141,
           0.3219351257745601
          ],
          [
           null,
           null,
           null,
           null,
           null,
           null,
           null,
           null,
           null,
           1.5343574006589213,
           0.43158424196259937,
           null,
           null,
           null,
           null,
           null
          ],
          [
           0.8996913849318994,
           0.8996913849330196,
           0.8996913849318434,
           null,
           null,
           null,
           null,
           null,
           null,
           null,
           null,
           null,
           null,
           null,
           null,
           null
          ],
          [
           null,
           null,
           null,
           null,
           null,
           null,
           null,
           null,
           null,
           null,
           1.1027731586964393,
           1.53435740065907,
           1.53435740065908,
           1.53435740065903,
           1.5343574006590848,
           1.5343574006595495
          ],
          [
           2.7644301409006404,
           2.7644301409041616,
           2.764430140900489,
           2.9855650290508464,
           2.7576587100936827,
           3.8490113386849085,
           9.052103558120612,
           6.713893266311185,
           4.324014569198434,
           0.23531321225884294,
           0.44265989909617226,
           0.1339075549666088,
           null,
           null,
           null,
           null
          ],
          [
           2.8840295762608146,
           null,
           2.8840295762606845,
           3.42396992467693,
           null,
           8.688987029622565,
           11.402906247555933,
           null,
           3.1635876778941263,
           null,
           null,
           null,
           null,
           null,
           null,
           null
          ],
          [
           null,
           null,
           null,
           0.1759086514897469,
           1.2245291778925527,
           4.493026810935895,
           7.1435926682037865,
           8.304255225925935,
           9.36572804801531,
           8.560514633823995,
           7.3128741466101586,
           5.636291776498562,
           3.7435466267425834,
           3.069834280007574,
           2.592534272654166,
           2.236094721764462
          ],
          [
           2.5597222165760596,
           5.443751792844164,
           2.5597222165759494,
           3.4239699246769306,
           9.538384361531243,
           8.688987029622565,
           9.080754779739477,
           14.321900714265688,
           3.5527218545600605,
           1.4971124111354626,
           null,
           null,
           null,
           null,
           null,
           null
          ],
          [
           null,
           null,
           null,
           null,
           null,
           null,
           null,
           null,
           null,
           1.0935783655603208,
           1.1092060013019063,
           2.782289931749283,
           9.668255176615794,
           11.095327862331228,
           12.051668959768772,
           12.66117736814949
          ],
          [
           37.14699559096974,
           37.146995591018076,
           37.14699559096749,
           36.08072424769841,
           32.7881567855331,
           25.966355337051777,
           13.031027651254544,
           10.402676705182627,
           7.428155287418876,
           4.278403887542441,
           0.9870432728128424,
           1.0334024820748398,
           0.5797284356498345,
           0.5181943403135068,
           0.518194340313493,
           0.527958432863311
          ]
         ]
        }
       ],
       "layout": {
        "margin": {
         "b": 100
        },
        "title": {
         "text": "Mesophyll ==> Bundlesheat Transport"
        },
        "width": 500,
        "xaxis": {
         "tickangle": 45,
         "title": {
          "text": "oxygenation : decarboxylation ratio"
         }
        },
        "yaxis": {
         "tickmode": "array",
         "ticktext": [
          "KG",
          "cACN",
          "Pyr",
          "G6P",
          "Gln",
          "Gly",
          "S6P",
          "PEP",
          "Suc",
          "Asp",
          "DHAP",
          "GCA",
          "GAP",
          "CO2",
          "Mal"
         ],
         "tickvals": [
          0,
          1,
          2,
          3,
          4,
          5,
          6,
          7,
          8,
          9,
          10,
          11,
          12,
          13,
          14
         ],
         "title": {
          "text": "Transport Metabolites"
         }
        }
       }
      },
      "text/html": [
       "<div>\n",
       "        \n",
       "        \n",
       "            <div id=\"1a6acec9-90a8-4aa4-bdb8-87c3291b85b4\" class=\"plotly-graph-div\"></div>\n",
       "            <script type=\"text/javascript\">\n",
       "                require([\"plotly\"], function(Plotly) {\n",
       "                    window.PLOTLYENV=window.PLOTLYENV || {};\n",
       "                    window.PLOTLYENV.BASE_URL='https://plot.ly';\n",
       "                    \n",
       "                if (document.getElementById(\"1a6acec9-90a8-4aa4-bdb8-87c3291b85b4\")) {\n",
       "                    Plotly.newPlot(\n",
       "                        '1a6acec9-90a8-4aa4-bdb8-87c3291b85b4',\n",
       "                        [{\"colorbar\": {\"title\": {\"side\": \"right\", \"text\": \"Flux [\\u00b5mol/s/m2]\"}}, \"colorscale\": [[0.0, \"rgb(255,245,240)\"], [0.125, \"rgb(254,224,210)\"], [0.25, \"rgb(252,187,161)\"], [0.375, \"rgb(252,146,114)\"], [0.5, \"rgb(251,106,74)\"], [0.625, \"rgb(239,59,44)\"], [0.75, \"rgb(203,24,29)\"], [0.875, \"rgb(165,15,21)\"], [1.0, \"rgb(103,0,13)\"]], \"type\": \"heatmap\", \"uid\": \"28ad069c-3bd1-4ac8-9de4-fa6b652f9ea0\", \"x\": [\"1 : 1.0\", \"1 : 1.25\", \"1 : 1.5\", \"1 : 1.75\", \"1 : 2.0\", \"1 : 2.25\", \"1 : 2.5\", \"1 : 2.75\", \"1 : 3.0\", \"1 : 4.0\", \"1 : 5.0\", \"1 : 6.0\", \"1 : 7.0\", \"1 : 8.0\", \"1 : 9.0\", \"1 : 10.0\"], \"y\": [\"KG\", \"cACN\", \"Pyr\", \"G6P\", \"Gln\", \"Gly\", \"S6P\", \"PEP\", \"Suc\", \"Asp\", \"DHAP\", \"GCA\", \"GAP\", \"CO2\", \"Mal\"], \"z\": [[null, null, null, null, null, null, null, 0.30342561395083095, null, null, null, null, null, null, null, null], [0.32221505413840046, null, 0.3222150541383822, null, null, null, null, null, null, null, null, null, null, null, null, null], [null, null, null, null, null, null, null, null, null, null, null, 0.11786654577790194, 0.2815350839475097, 0.4154228830446019, 0.3984850368951863, 0.36754834097619804], [null, null, null, null, null, null, null, null, null, 0.5564222637568462, 0.1586910324112686, 0.435700530999918, null, null, null, null], [0.30198943385698573, 0.30198943385737864, 0.301989433856968, 0.30198943385706056, null, null, null, null, null, null, null, null, null, null, null, null], [null, null, null, 0.31190851200273023, 0.9631579865046374, null, null, null, null, null, 0.15409686515497484, 0.3542073923619123, 0.5001656112166959, 0.47498826875110634, 0.3880435625886141, 0.3219351257745601], [null, null, null, null, null, null, null, null, null, 1.5343574006589213, 0.43158424196259937, null, null, null, null, null], [0.8996913849318994, 0.8996913849330196, 0.8996913849318434, null, null, null, null, null, null, null, null, null, null, null, null, null], [null, null, null, null, null, null, null, null, null, null, 1.1027731586964393, 1.53435740065907, 1.53435740065908, 1.53435740065903, 1.5343574006590848, 1.5343574006595495], [2.7644301409006404, 2.7644301409041616, 2.764430140900489, 2.9855650290508464, 2.7576587100936827, 3.8490113386849085, 9.052103558120612, 6.713893266311185, 4.324014569198434, 0.23531321225884294, 0.44265989909617226, 0.1339075549666088, null, null, null, null], [2.8840295762608146, null, 2.8840295762606845, 3.42396992467693, null, 8.688987029622565, 11.402906247555933, null, 3.1635876778941263, null, null, null, null, null, null, null], [null, null, null, 0.1759086514897469, 1.2245291778925527, 4.493026810935895, 7.1435926682037865, 8.304255225925935, 9.36572804801531, 8.560514633823995, 7.3128741466101586, 5.636291776498562, 3.7435466267425834, 3.069834280007574, 2.592534272654166, 2.236094721764462], [2.5597222165760596, 5.443751792844164, 2.5597222165759494, 3.4239699246769306, 9.538384361531243, 8.688987029622565, 9.080754779739477, 14.321900714265688, 3.5527218545600605, 1.4971124111354626, null, null, null, null, null, null], [null, null, null, null, null, null, null, null, null, 1.0935783655603208, 1.1092060013019063, 2.782289931749283, 9.668255176615794, 11.095327862331228, 12.051668959768772, 12.66117736814949], [37.14699559096974, 37.146995591018076, 37.14699559096749, 36.08072424769841, 32.7881567855331, 25.966355337051777, 13.031027651254544, 10.402676705182627, 7.428155287418876, 4.278403887542441, 0.9870432728128424, 1.0334024820748398, 0.5797284356498345, 0.5181943403135068, 0.518194340313493, 0.527958432863311]]}],\n",
       "                        {\"margin\": {\"b\": 100}, \"title\": {\"text\": \"Mesophyll ==> Bundlesheat Transport\"}, \"width\": 500, \"xaxis\": {\"tickangle\": 45, \"title\": {\"text\": \"oxygenation : decarboxylation ratio\"}}, \"yaxis\": {\"tickmode\": \"array\", \"ticktext\": [\"KG\", \"cACN\", \"Pyr\", \"G6P\", \"Gln\", \"Gly\", \"S6P\", \"PEP\", \"Suc\", \"Asp\", \"DHAP\", \"GCA\", \"GAP\", \"CO2\", \"Mal\"], \"tickvals\": [0, 1, 2, 3, 4, 5, 6, 7, 8, 9, 10, 11, 12, 13, 14], \"title\": {\"text\": \"Transport Metabolites\"}}},\n",
       "                        {\"plotlyServerURL\": \"https://plot.ly\", \"linkText\": \"Export to plot.ly\", \"showLink\": false}\n",
       "                    )\n",
       "                };\n",
       "                });\n",
       "            </script>\n",
       "        </div>"
      ]
     },
     "metadata": {},
     "output_type": "display_data"
    },
    {
     "data": {
      "application/vnd.plotly.v1+json": {
       "config": {
        "linkText": "Export to plot.ly",
        "plotlyServerURL": "https://plot.ly",
        "showLink": false
       },
       "data": [
        {
         "colorbar": {
          "title": {
           "side": "right",
           "text": "Flux [µmol/s/m2]"
          }
         },
         "colorscale": [
          [
           0,
           "rgb(247,251,255)"
          ],
          [
           0.125,
           "rgb(222,235,247)"
          ],
          [
           0.25,
           "rgb(198,219,239)"
          ],
          [
           0.375,
           "rgb(158,202,225)"
          ],
          [
           0.5,
           "rgb(107,174,214)"
          ],
          [
           0.625,
           "rgb(66,146,198)"
          ],
          [
           0.75,
           "rgb(33,113,181)"
          ],
          [
           0.875,
           "rgb(8,81,156)"
          ],
          [
           1,
           "rgb(8,48,107)"
          ]
         ],
         "type": "heatmap",
         "uid": "6302c797-3449-4095-bc83-01774b13e8bd",
         "x": [
          "1 : 1.0",
          "1 : 1.25",
          "1 : 1.5",
          "1 : 1.75",
          "1 : 2.0",
          "1 : 2.25",
          "1 : 2.5",
          "1 : 2.75",
          "1 : 3.0",
          "1 : 4.0",
          "1 : 5.0",
          "1 : 6.0",
          "1 : 7.0",
          "1 : 8.0",
          "1 : 9.0",
          "1 : 10.0"
         ],
         "y": [
          "Glu",
          "Cit",
          "GCEA",
          "G6P",
          "Ala",
          "PGA",
          "PEP",
          "Pyr"
         ],
         "z": [
          [
           0.31314839677087003,
           0.3131483967712788,
           0.31314839677085116,
           0.3131483967709474,
           null,
           null,
           null,
           0.3138458319529154,
           null,
           null,
           null,
           null,
           null,
           null,
           null,
           null
          ],
          [
           0.32221505413840046,
           null,
           0.3222150541383822,
           null,
           null,
           null,
           null,
           null,
           null,
           null,
           null,
           null,
           null,
           null,
           null,
           null
          ],
          [
           null,
           null,
           null,
           0.17590865148974147,
           1.025843651942113,
           2.1809544983488474,
           3.506237426982823,
           4.086568705843911,
           4.617305116888581,
           4.134051210148519,
           null,
           null,
           null,
           null,
           null,
           null
          ],
          [
           null,
           null,
           null,
           0.8872408753846602,
           3.6464978254605986,
           7.85719388975986,
           8.334191446237751,
           4.520413136068501,
           null,
           null,
           null,
           null,
           null,
           null,
           null,
           null
          ],
          [
           2.1081436345278375,
           2.108143634530578,
           2.1081436345277242,
           2.6363049884057914,
           2.7576587100936827,
           3.560970608470227,
           9.098831715322511,
           6.469093517387914,
           4.149420207691346,
           null,
           null,
           null,
           null,
           null,
           null,
           null
          ],
          [
           6.341583350616455,
           6.341583350624903,
           6.341583350616154,
           5.960698973969169,
           2.121096270752186,
           null,
           null,
           null,
           null,
           null,
           null,
           null,
           null,
           null,
           null,
           null
          ],
          [
           null,
           null,
           null,
           null,
           3.7707902653184537,
           9.520780169485207,
           12.149469581057676,
           9.801487578197197,
           6.716309532454222,
           3.6586615665250135,
           0.5902752743739083,
           0.4357005309999184,
           null,
           null,
           null,
           null
          ],
          [
           37.87581535628278,
           37.8758153563319,
           37.875815356280484,
           35.48147244066311,
           28.190208394222942,
           15.907852642153637,
           null,
           null,
           null,
           null,
           null,
           null,
           null,
           null,
           null,
           null
          ]
         ]
        }
       ],
       "layout": {
        "margin": {
         "b": 100
        },
        "title": {
         "text": "Bundlesheat ==> Mesophyll Transport"
        },
        "width": 500,
        "xaxis": {
         "tickangle": 45,
         "title": {
          "text": "oxygenation : decarboxylation ratio"
         }
        },
        "yaxis": {
         "tickmode": "array",
         "ticktext": [
          "Glu",
          "Cit",
          "GCEA",
          "G6P",
          "Ala",
          "PGA",
          "PEP",
          "Pyr"
         ],
         "tickvals": [
          0,
          1,
          2,
          3,
          4,
          5,
          6,
          7
         ],
         "title": {
          "text": "Transport Metabolites"
         }
        }
       }
      },
      "text/html": [
       "<div>\n",
       "        \n",
       "        \n",
       "            <div id=\"0d886828-6846-438f-9aac-3e2e8723325a\" class=\"plotly-graph-div\"></div>\n",
       "            <script type=\"text/javascript\">\n",
       "                require([\"plotly\"], function(Plotly) {\n",
       "                    window.PLOTLYENV=window.PLOTLYENV || {};\n",
       "                    window.PLOTLYENV.BASE_URL='https://plot.ly';\n",
       "                    \n",
       "                if (document.getElementById(\"0d886828-6846-438f-9aac-3e2e8723325a\")) {\n",
       "                    Plotly.newPlot(\n",
       "                        '0d886828-6846-438f-9aac-3e2e8723325a',\n",
       "                        [{\"colorbar\": {\"title\": {\"side\": \"right\", \"text\": \"Flux [\\u00b5mol/s/m2]\"}}, \"colorscale\": [[0.0, \"rgb(247,251,255)\"], [0.125, \"rgb(222,235,247)\"], [0.25, \"rgb(198,219,239)\"], [0.375, \"rgb(158,202,225)\"], [0.5, \"rgb(107,174,214)\"], [0.625, \"rgb(66,146,198)\"], [0.75, \"rgb(33,113,181)\"], [0.875, \"rgb(8,81,156)\"], [1.0, \"rgb(8,48,107)\"]], \"type\": \"heatmap\", \"uid\": \"6870d471-ad7a-4d3a-99f6-5b7020604526\", \"x\": [\"1 : 1.0\", \"1 : 1.25\", \"1 : 1.5\", \"1 : 1.75\", \"1 : 2.0\", \"1 : 2.25\", \"1 : 2.5\", \"1 : 2.75\", \"1 : 3.0\", \"1 : 4.0\", \"1 : 5.0\", \"1 : 6.0\", \"1 : 7.0\", \"1 : 8.0\", \"1 : 9.0\", \"1 : 10.0\"], \"y\": [\"Glu\", \"Cit\", \"GCEA\", \"G6P\", \"Ala\", \"PGA\", \"PEP\", \"Pyr\"], \"z\": [[0.31314839677087003, 0.3131483967712788, 0.31314839677085116, 0.3131483967709474, null, null, null, 0.3138458319529154, null, null, null, null, null, null, null, null], [0.32221505413840046, null, 0.3222150541383822, null, null, null, null, null, null, null, null, null, null, null, null, null], [null, null, null, 0.17590865148974147, 1.025843651942113, 2.1809544983488474, 3.506237426982823, 4.086568705843911, 4.617305116888581, 4.134051210148519, null, null, null, null, null, null], [null, null, null, 0.8872408753846602, 3.6464978254605986, 7.85719388975986, 8.334191446237751, 4.520413136068501, null, null, null, null, null, null, null, null], [2.1081436345278375, 2.108143634530578, 2.1081436345277242, 2.6363049884057914, 2.7576587100936827, 3.560970608470227, 9.098831715322511, 6.469093517387914, 4.149420207691346, null, null, null, null, null, null, null], [6.341583350616455, 6.341583350624903, 6.341583350616154, 5.960698973969169, 2.121096270752186, null, null, null, null, null, null, null, null, null, null, null], [null, null, null, null, 3.7707902653184537, 9.520780169485207, 12.149469581057676, 9.801487578197197, 6.716309532454222, 3.6586615665250135, 0.5902752743739083, 0.4357005309999184, null, null, null, null], [37.87581535628278, 37.8758153563319, 37.875815356280484, 35.48147244066311, 28.190208394222942, 15.907852642153637, null, null, null, null, null, null, null, null, null, null]]}],\n",
       "                        {\"margin\": {\"b\": 100}, \"title\": {\"text\": \"Bundlesheat ==> Mesophyll Transport\"}, \"width\": 500, \"xaxis\": {\"tickangle\": 45, \"title\": {\"text\": \"oxygenation : decarboxylation ratio\"}}, \"yaxis\": {\"tickmode\": \"array\", \"ticktext\": [\"Glu\", \"Cit\", \"GCEA\", \"G6P\", \"Ala\", \"PGA\", \"PEP\", \"Pyr\"], \"tickvals\": [0, 1, 2, 3, 4, 5, 6, 7], \"title\": {\"text\": \"Transport Metabolites\"}}},\n",
       "                        {\"plotlyServerURL\": \"https://plot.ly\", \"linkText\": \"Export to plot.ly\", \"showLink\": false}\n",
       "                    )\n",
       "                };\n",
       "                });\n",
       "            </script>\n",
       "        </div>"
      ]
     },
     "metadata": {},
     "output_type": "display_data"
    }
   ],
   "source": [
    "plot_transport(D_fba, D_exp, L_r_transport, xaxis_title, save_fig=save_fig)"
   ]
  },
  {
   "cell_type": "code",
   "execution_count": 27,
   "metadata": {
    "ExecuteTime": {
     "end_time": "2019-05-06T13:49:11.656081Z",
     "start_time": "2019-05-06T15:49:11.546473+02:00"
    },
    "collapsed": false,
    "scrolled": false
   },
   "outputs": [
    {
     "data": {
      "text/html": [
       "<h1>1 : 1.0</h1>"
      ],
      "text/plain": [
       "<IPython.core.display.HTML object>"
      ]
     },
     "metadata": {},
     "output_type": "display_data"
    },
    {
     "data": {
      "text/html": [
       "\n",
       "\n",
       "\n",
       "  \n",
       "  \n",
       "\n",
       "  \n",
       "  \n",
       "    <link rel=\"stylesheet\" href=\"//unpkg.com/escher-vis@1.6.0/css/dist/builder.min.css\"/>\n",
       "  \n",
       "\n",
       "\n",
       "\n",
       "  <div style=\"height: 1000px; width: 100%;\" id=\"pjpgtubmji\"></div>\n",
       "\n",
       "  <script>\n",
       "   /* Closure to make sure data only applies to this map. */\n",
       "   (function() {\n",
       "       /* data from python */\n",
       "       var data = get_data();\n",
       "\n",
       "       function load_lib(url, callback) {\n",
       "           /** Dynamically load a JavaScript file */\n",
       "           var s = document.createElement('script');\n",
       "           s.src = url;\n",
       "           s.async = true;\n",
       "           s.onreadystatechange = s.onload = callback;\n",
       "           s.onerror = function() {\n",
       "               console.warn('Failed to load library ' + url);\n",
       "           };\n",
       "           document.getElementsByTagName('head')[0].appendChild(s);\n",
       "       }\n",
       "\n",
       "       function check_global_and_load(name, url, callback) {\n",
       "           /** Look for the name in the global scope. If it isn't present, then\n",
       "              load the library at url. Returns the object. */\n",
       "           if (window[name] !== undefined) {\n",
       "               callback(window[name]);\n",
       "           } else {\n",
       "               load_lib(url, function() {\n",
       "                   callback(window[name]);\n",
       "               });\n",
       "           }\n",
       "       }\n",
       "\n",
       "       function draw_escher(escher) {\n",
       "           /** Get data and draw */\n",
       "           var load = function(t_map_data, t_model_data, t_options) {\n",
       "               escher.Builder(t_map_data, t_model_data, data.builder_embed_css,\n",
       "                              escher.libs.d3_select('#' + data.id), t_options);\n",
       "           }\n",
       "\n",
       "           // for the static site, use the url attributes for the map and model\n",
       "           // information\n",
       "           if (data.static_site_index !== null) {\n",
       "               escher.static.load_map_model_from_url(data.map_download_url, data.model_download_url,\n",
       "                                                     data.static_site_index, data.options, load);\n",
       "           } else {\n",
       "               load(data.map_data, data.model_data, data.options);\n",
       "           }\n",
       "       }\n",
       "\n",
       "       // Load dependencies and draw\n",
       "       if (typeof define === 'function' && define.amd) {\n",
       "           // require.js is available: use it to load escher\n",
       "           require.config({\n",
       "             paths: {\n",
       "               escher: '//unpkg.com/escher-vis@1.6.0/js/dist/escher.min',\n",
       "             },\n",
       "             // Override urlArgs that adds ?v= to the end of the escher URL and\n",
       "             // messes up unpkg links. Honestly, I'm not sure if this will lead\n",
       "             // to downstream bugs in the notebook, but they really shouldn't be\n",
       "             // doing this cache-busting anyway.\n",
       "             urlArgs: null,\n",
       "           })\n",
       "           require([ 'escher' ], function(escher) {\n",
       "               draw_escher(escher);\n",
       "           })\n",
       "       } else {\n",
       "           // require.js not available: dynamically load escher\n",
       "           check_global_and_load('escher', '//unpkg.com/escher-vis@1.6.0/js/dist/escher.min.js', function(escher) {\n",
       "               draw_escher(escher);\n",
       "           })\n",
       "       }\n",
       "\n",
       "       // Put this at the end so Chrome doesn't cut off the code above.\n",
       "       function get_data() {\n",
       "           /** Return the data passed in by the Python module. */\n",
       "           return {\n",
       "               id: JSON.parse('\"pjpgtubmji\"'),\n",
       "               map_download_url: JSON.parse('\"//escher.github.io/1-0-0/5/maps/\"'),\n",
       "               model_download_url: JSON.parse('\"//escher.github.io/1-0-0/5/models/\"'),\n",
       "               options: JSON.parse('{\"metabolite_data\": null, \"never_ask_before_quit\": true, \"enable_keys\": false, \"fill_screen\": false, \"enable_editing\": false, \"menu\": \"zoom\", \"gene_data\": null, \"reaction_styles\": [\"color\", \"size\"], \"reaction_data\": {\"[M]_PGAK_h\": 5.4446817064130197, \"[M]_SerAcT_c\": 0.0, \"[B]_NDA2_1_m\": 0.0, \"[M]_AMT_m\": 0.0, \"[B]_Ex_Arg_p\": 0.0, \"[M]_ArgSCAL_h\": 0.011158962913883999, \"[M]_Im_hnu\": 207.68078246254694, \"[M]_PGAK_c\": 0.0, \"[MB]_Met_c\": 0.0048820462748242494, \"[M]_SerAcT_m\": 0.0, \"[M]_Tr_Ser1\": 0.0, \"[B]_Ex_Arg_h\": 0.0, \"[M]_Tr_Ser2\": -0.0048820462748242503, \"[B]_Ex_Glu_h\": 0.0, \"[B]_DHLAcT_m\": 0.32221505413840057, \"[MB]_Thr_c\": 0.055794814569419995, \"[B]_Ex_Trp_p\": 0.0, \"[B]_G6PDH_h\": 0.0, \"[M]_DPE11_h\": 0.0, \"[M]_Ex_Arg_m\": 0.0, \"[B]_Ex_Mas\": 0.0, \"[B]_PSII_h\": 18.178182613412169, \"[M]_Tr_His2\": 0.0027897407284710003, \"[M]_Tr_His3\": 0.0, \"[M]_GMPK_c\": 0.0, \"[B]_FTK_h\": 13.405866592273346, \"[B]_ACPM_h\": 0.0, \"[M]_Tr_DTC1A\": 0.0, \"[B]_TPS_c\": 0.0, \"[B]_DHDS_h\": 0.0125538332781195, \"[M]_PGAM_h\": 0.0, \"[B]_Urease_m\": 0.0, \"[M]_Tr_BT12\": 0.0, \"[M]_Tr_BT11\": -8.6413601778816251e-16, \"[M]_DPE13_h\": 0.0, \"[B]_Im_Pi\": 0.0, \"[M]_PGAM_c\": -0.89690164420343421, \"[MB]_KG_c\": 0.0, \"[M]_Ex_O2\": 23.853507820312679, \"[MB]_Gln_c\": 0.30198943385698573, \"[M]_FGAMS_h\": 0.0, \"[M]_SerAcT_h\": 0.0048820462748242503, \"[M]_DHFR_c\": 0.0, \"[B]_Tr_Asp_OAA_hc\": -0.13599986051296123, \"[B]_Tr_NO2\": 0.0, \"[M]_6PGDHNADP_h\": 0.0, \"[M]_DAPDC_h\": 0.0, \"[M]_Ex_Met_p\": 0.0, \"[M]_IndGPS_h\": 0.0, \"[B]_AGPase_h\": 3.0687148013180998, \"[B]_Tr_Val1\": 0.0, \"[B]_Tr_Val2\": 0.016738444370826, \"[B]_Tr_Val3\": 0.0, \"[MB]_GCA_c\": 0.0, \"[B]_Tr_PRPP\": 0.0, \"[M]_DHQDH_h\": 0.0, \"[M]_Ex_Arg_c\": 0.0, \"[M]_Ex_Tre\": 0.0, \"[B]_SADH_h\": 0.018133314735061499, \"[B]_HCO3DHA_c\": 0.0, \"[B]_Ex_Glc\": 0.0, \"[B]_ArgSCAL_h\": 0.0, \"[M]_cplx1_m\": 0.74637914129909966, \"[B]_RBO_h\": 0.0, \"[M]_DHOase_h\": 0.0, \"[B]_EPSPS_h\": 0.018133314735061499, \"[B]_NGAM_h\": 0.152707083279744, \"[M]_GAPDH1_h\": 5.4446817064130197, \"[M]_GABATA1_m\": 0.0, \"[B]_GluSeADA_m\": -1.7259490330133385e-16, \"[M]_PPiase_h\": 40.015343574005911, \"[M]_Tr_Phe1\": 0.0, \"[M]_cplx3_m\": 0.74637914129909955, \"[B]_Ex_Val_h\": 0.0, \"[B]_dTDPK_c\": 0.0, \"[M]_Tr_Ile3\": 0.0, \"[B]_BAATA2_h\": 0.008369222185413, \"[B]_Ex_Arg_m\": 0.0, \"[M]_ADPRPPT_c\": 0.0, \"[B]_AspAT_p\": 0.0, \"[M]_AOX4_h\": 0.0, \"[M]_Tr_Phe2\": 0.0, \"[M]_ProDHNAD_m\": -1.6097960341648687e-16, \"[M]_Tr_NDT1\": 8.6413601778816231e-16, \"[B]_Tr_H2Op\": 0.0, \"[B]_SerRM_c\": 0.0, \"[M]_PGP_h\": 0.0, \"[B]_Tr_KG\": 0.0, \"[B]_Tr_H2Oh\": -5.637931817433766, \"[M]_ALS3_h\": 0.0, \"[M]_BAATA2_h\": 5.9974797123383497e-19, \"[B]_Tr_H2Om\": -1.1716005313048978, \"[B]_Ex_cellulose\": 0.0, \"[B]_GDPR_c\": 0.0, \"[M]_MalDH2_m\": 0.0, \"[B]_ALS3_h\": 0.025107666556239, \"[B]_Ex_Suc\": 1.5343574006590499, \"[B]_F26BPPh_c\": 0.0, \"[M]_MalDH4_h\": 0.0, \"[B]_PSI_h\": 134.96805200889824, \"[B]_GGAT_p\": 0.0, \"[M]_ForTHFL_h\": 0.0027897407284709999, \"[B]_GGAT_h\": 0.0, \"[M]_Tr_Trp2\": 0.0, \"[B]_5M_DASH_THFOR_c\": 0.0, \"[M]_dGDPK_c\": 0.0, \"[M]_ALS1_h\": 0.0, \"[M]_MetS_c\": 0.0048820462748242494, \"[M]_Tr_Asp_mc\": 0.0, \"[B]_GARFT_h\": 0.0, \"[M]_Ex_Leu_h\": 0.0, \"[B]_Tr_H_Na_hc\": 0.0, \"[M]_CDPR_c\": 0.0, \"[M]_GluDC_c\": 0.0, \"[M]_Ex_Leu_c\": 0.0, \"[M]_IndGPL_h\": 0.0, \"[M]_NO2R_h\": 1.0559168657262732, \"[M]_NDA2_2_m\": 0.0, \"[M]_Ex_Arg_p\": 0.0, \"[M]_S6PS_c\": 0.0, \"[MB]_Glc_c\": 0.0, \"[M]_Ex_Leu_p\": 0.0, \"[B]_AIRC_h\": 0.0, \"[B]_Tr_PXN3\": 0.0, \"[M]_Tr_NH41\": -0.30198943385698568, \"[B]_Tr_Pyr1\": 0.0, \"[B]_Ex_Pro_m\": 0.0, \"[M]_6PGDHNAD_h\": 0.0, \"[M]_Ex_Ser_c\": 0.0, \"[B]_AlaTA_m\": 0.0, \"[M]_Tr_Pro2\": 0.0, \"[B]_iCitL_p\": 0.0, \"[B]_Ex_Met_c\": 0.0, \"[B]_Tr_KG_Mal_mc\": 0.0, \"[M]_Ex_Ser_h\": 0.0, \"[B]_CTPP_c\": 0.0, \"[M]_Tr_H2Om\": -3.2251984250505963, \"[M]_Ex_Tyr_c\": 0.0, \"[B]_Ex_Pro_c\": 0.0, \"[B]_PEPC1_c\": 1.9921441731383431, \"[B]_Tr_Ala2\": 0.0, \"[B]_Tr_TPT3\": 0.0, \"[M]_PyrDH1_m\": 0.0, \"[M]_Tr_Asp\": 0.0, \"[B]_ADPR_c\": 0.0, \"[M]_Tr_DIT2\": 0.0, \"[M]_cplx5_m\": 2.4879304709969987, \"[M]_PSII_h\": 24.226697390962229, \"[M]_Tr_NH42\": -4.476970878875442e-17, \"[M]_Tr_DIT1\": 0.01115896291388428, \"[B]_AlaTA_p\": 0.0, \"[B]_Ex_Phe_c\": 0.0, \"[M]_FBPA_c\": 0.0, \"[M]_Tr_His1\": 0.0, \"[B]_AspAT2_p\": 0.0, \"[M]_PGI_c\": 0.0018598271523048617, \"[B]_Ex_Met_h\": 0.0, \"[B]_KARI12_h\": 0.0083692221854130017, \"[M]_FBPA_h\": 0.0, \"[B]_PSerAT_h\": 0.065558907119068505, \"[M]_PGI_h\": -0.0018598271523139996, \"[M]_Tr_DTC1B\": 0.0, \"[B]_Tr_ORO\": 0.0, \"[M]_ArgSCAS_h\": 0.011158962913883999, \"[M]_Ex_Arg_h\": 0.0, \"[B]_Tr_DTC2A\": 0.0, \"[M]_3IPMDA1_h\": 5.9974797123383517e-19, \"[B]_AspAT2_c\": -2.1757948471932593, \"[B]_Tr_DTC2B\": 0.0, \"[B]_AspAT2_m\": 0.0, \"[MB]_Trp_c\": 0.0, \"[M]_Tr_SFC\": 0.0, \"[B]_AspAT2_h\": 0.0, \"[M]_Ex_starch\": 0.0, \"[M]_GSSGR_h\": 0.0048820462748242512, \"[M]_GluSeADH_m\": 0.0, \"[B]_Ex_Thr_p\": 0.0, \"[M]_PGM_c\": 0.0, \"[M]_GluSeADH_h\": 2.0673428271696877e-16, \"[M]_P5CDHNADP_h\": 0.0, \"[B]_Cytb6f1_h\": 67.48402600444912, \"[M]_PGM_h\": 0.0, \"[B]_ADNK_c\": 0.0, \"[B]_PyrK_c\": 2.8918355580702437, \"[M]_StS_h1\": 0.0, \"[M]_StS_h3\": 0.0, \"[M]_StS_h2\": 0.0, \"[M]_FrcFD_c\": 0.0, \"[B]_Ex_Thr_c\": 0.0, \"[M]_CTHL_h\": 0.0048820462748242503, \"[B]_Ex_Pro_p\": 0.0, \"[M]_Tr_BT13\": 0.0, \"[M]_SO3R_h\": 0.0048820462748242503, \"[M]_Ex_Gln_m\": 0.0, \"[M]_Tr_iCit\": 0.0, \"[B]_PGR5PGRL11_h\": 0.0, \"[B]_ATPPRT_h\": 0.0, \"[B]_NDC1_1_h\": 0.0, \"[B]_DCAMPS_h\": 0.0, \"[B]_PyrK_h\": 0.0, \"[B]_ForTHFL_h\": 0.0, \"[M]_Ex_Thr_p\": 0.0, \"[MB]_Glu_c\": -0.31314839677087003, \"[M]_Tr_Met2\": 0.0, \"[MB]_Fum_c\": 0.013948703642354999, \"[M]_Im_Pi\": 0.0, \"[M]_Tr_Met3\": 0.0, \"[M]_GluSNAD_h\": 0.0, \"[B]_ATase_h\": 0.0, \"[M]_Ex_Glu_p\": 0.0, \"[B]_AGluK\": 0.0, \"[B]_NGAM_m\": 0.0091111872455015702, \"[B]_IndGPS_h\": 0.0062769166390597509, \"[B]_Tr_Cit_iCit_mc\": 0.0, \"[B]_Tr_DTC4B\": 0.0, \"[M]_KGDH_m\": 0.0, \"[M]_HSerDHNADP_h\": 0.057887120115773245, \"[M]_Tr_Phe3\": 0.0, \"[B]_3IPMDH_h\": 0.008369222185413, \"[B]_NGAM_c\": 0.050349979617494899, \"[B]_DAPE_h\": 0.012553833278119498, \"[M]_Tr_DTC2B\": 0.0, \"[B]_ALS1_h\": 0.033476888741652, \"[M]_PrAMPCy_h\": 0.0027897407284709999, \"[M]_Tr_UCP\": -4.9576385675029941, \"[B]_ATPase_h\": 116.78986939548609, \"[B]_Tr_Trp1\": 0.0, \"[MB]_G6P_c\": 0.0, \"[B]_Tr_SO4\": 0.0, \"[M]_Ex_Asp_c\": 0.0, \"[B]_Tr_Hp\": 0.0, \"[M]_cACNHA_m\": 0.0, \"[M]_PGR5PGRL12_h\": 0.0, \"[M]_Ex_Met_m\": 0.0, \"[M]_cACNHA_h\": 0.0, \"[B]_bAMY1_h\": 0.0, \"[B]_3IPMDA2_h\": 0.008369222185413, \"[M]_cACNHA_c\": 0.0, \"[M]_NDC1_1_h\": 0.0, \"[M]_Ex_Asp_m\": 0.0, \"[M]_Ex_Asp_p\": 0.0, \"[B]_Enol_h\": 0.12135372168849065, \"[B]_Tr_O2m\": 0.17389746735940456, \"[B]_Tr_Trp3\": 0.0, \"[B]_Tr_Trp2\": 0.0062769166390597491, \"[B]_ProDHNADP_m\": 1.5912499555287644e-16, \"[B]_DHODH_m\": 0.0, \"[B]_Ex_Met_m\": 0.0, \"[B]_Enol_c\": 0.0, \"[B]_Ex_Asp_p\": 0.0, \"[B]_Tr_Pro1\": 0.0, \"[M]_HEXK_c\": 0.0, \"[B]_Tr_Pyr3\": 0.0, \"[B]_CitS_c\": 0.0, \"[M]_Ex_Thr_m\": 0.0, \"[M]_Tr_ORO\": 0.0, \"[B]_CitS_m\": 0.32221505413840057, \"[B]_NDA2_2_m\": 0.0, \"[B]_BAATA3_h\": 0.016738444370826003, \"[B]_CitS_h\": 0.0, \"[B]_GluSeADH_c\": 0.0, \"[B]_FGAMS_h\": 0.0, \"[B]_S6PS_c\": 1.534357400659051, \"[B]_FGAMCL_h\": 0.0, \"[B]_AGNDH_h\": 0.0041846110927065, \"[B]_IndGPL_h\": 0.00627691663905975, \"[M]_UDPR_c\": 0.0, \"[B]_GluSeADH_h\": 0.0, \"[B]_Ex_Asp_m\": 0.0, \"[M]_DPE12_h\": 0.0, \"[M]_Tr_Glu1\": 0.0, \"[B]_AlaTA_h\": 0.0, \"[M]_OROPRT_c\": 0.0, \"[M]_AlaTA_p\": 0.0, \"[B]_Tr_ProU\": 0.0, \"[M]_Ex_Tyr_h\": 0.0, \"[M]_NDH1_h\": 13.867203334849128, \"[M]_Tr_H2Op\": 0.0, \"[B]_Ex_starch\": 1.5343574006590499, \"[B]_Tr_Pro2\": 0.0, \"[M]_AICARFT_h\": 0.0027897407284709999, \"[M]_AlaTA_c\": 0.0, \"[B]_Tr_ProA\": 1.5984843237113973e-16, \"[M]_PSerP_h\": 0.0, \"[M]_Tr_Tyr1\": 0.0, \"[B]_Tr_Ile2\": 0.008369222185413, \"[B]_Tr_Ile1\": 0.0, \"[M]_AlaTA_h\": 0.0, \"[M]_AlaTA_m\": 0.0, \"[B]_HSerDHNAD_h\": 0.0, \"[B]_iCitDHNAD_m\": 0.0, \"[B]_CAT_p\": 0.0, \"[M]_SGAT_p\": 0.0, \"[B]_ATPSL_h\": 0.0, \"[B]_iCitDHNAD_c\": 0.31593813749934091, \"[M]_MetAdT_c\": 0.0, \"[B]_Tr_P5C2\": 3.2819867447169666e-17, \"[B]_FumHA_c\": 0.013948703642354997, \"[MB]_CO2_c\": 0.0, \"[M]_Ex_His_h\": 0.0, \"[B]_HCysMT_c\": 0.0, \"[B]_SAK_h\": 0.018133314735061502, \"[M]_dUTPP_c\": 0.0, \"[M]_Ex_Ala_m\": 0.0, \"[B]_CAT_h\": 0.0, \"[B]_FumHA_m\": 0.0, \"[M]_Cytb6f2_h\": 55.386996449349013, \"[M]_Tr_DHO2\": 0.0, \"[M]_Tr_DHO1\": 0.0, \"[M]_MalDH1_m\": 0.74637914129909966, \"[B]_dUDPK_c\": 0.0, \"[M]_Tr_BAC1\": 0.0, \"[M]_MalDH1_h\": 0.0, \"[MB]_Asn_c\": 0.0, \"[B]_R5PI_h\": 13.381456360899232, \"[MB]_PEP_c\": 0.89969138493189937, \"[M]_MalDH1_c\": 1.060798912001097, \"[M]_MalDH3_h\": 38.954173644269929, \"[M]_Ex_His_c\": 0.0, \"[B]_Tr_GCA1\": 0.0, \"[B]_ALS2_h\": 0.008369222185413, \"[M]_Tr_PLT5\": 0.0, \"[M]_MalDH1_p\": 0.0, \"[B]_Ex_Tyr_c\": 0.0, \"[M]_Tr_KG\": 0.0, \"[B]_IPODC_h\": 0.008369222185413, \"[B]_Tr_iCit\": 0.0, \"[B]_Ex_Cys_p\": 0.0, \"[M]_Ex_Cys_c\": 0.0, \"[M]_HisolPTA_h\": 0.0027897407284710003, \"[M]_Ex_Cys_h\": 0.0, \"[B]_Ex_Tyr_p\": 0.0, \"[B]_RibK_h\": 0.0, \"[B]_ProDHNAD_m\": 0.0, \"[B]_ANTS_h\": 0.0062769166390597509, \"[B]_GluDH3NADP_c\": -0.0062769166390596043, \"[M]_SerRM_c\": 0.0, \"[B]_Ex_Gly_c\": 0.0, \"[M]_RBO_h\": 0.0, \"[B]_GCEAK_h\": 0.0, \"[B]_GDPK_h\": 0.0, \"[M]_Ex_Glu_m\": 0.0, \"[B]_PPIase_c\": 1.6047983540529427, \"[B]_GDPK_c\": 0.0, \"[B]_AspCT_h\": 0.0, \"[M]_Tr_Cys\": 0.0, \"[B]_Tr_Tyr3\": 0.0, \"[B]_Ex_Asp_h\": 0.0, \"[M]_Si_H_m\": 0.0, \"[M]_AIRC_h\": 0.0, \"[M]_IMPCH_h\": 0.0027897407284710003, \"[B]_Tr_Met2\": 0.0, \"[MB]_2PGA_c\": 0.0, \"[B]_Ex_O2\": 18.004285146052762, \"[B]_S6PPh_c\": 1.534357400659051, \"[B]_GCAO_h\": 0.0, \"[B]_iCitDHNADP_m\": 0.0, \"[B]_PPiase_h\": 2.9982738479242164, \"[M]_NDA2_1_m\": 0.0, \"[B]_iCitDHNADP_h\": 0.0, \"[M]_Ex_Mas\": 0.0, \"[B]_ACoAC_h\": 1.2100471915465112e-18, \"[B]_GAPDH2_h\": -0.061374296026361998, \"[B]_GSSGR_h\": 0.0, \"[B]_Ex_Gln_c\": 0.0, \"[B]_AspK_h\": 0.012553833278119498, \"[B]_Ex_Gln_m\": 0.0, \"[B]_GluSeADA_h\": 0.0, \"[B]_GCAO_p\": 0.0, \"[B]_GAPDH2_c\": -0.32430735968475388, \"[B]_Tr_Glu1\": 0.0, \"[B]_NO3R2_c\": 0.0, \"[B]_Ex_Lys_c\": 0.0, \"[B]_Tr_Glu2\": 0.0, \"[M]_Tr_GCEA2\": 0.0, \"[B]_PrATPDP_h\": 0.0, \"[M]_FTK_h\": 0.00092991357615699948, \"[M]_Tr_Val1\": 0.0, \"[B]_Tr_Asp\": 0.0, \"[M]_Tr_Val2\": -5.9974797123383517e-19, \"[MB]_His_c\": 0.0027897407284709999, \"[B]_SAICARS_h\": 0.0, \"[B]_DAPDC_h\": 0.012553833278119498, \"[M]_AspK_h\": 0.060676860844244257, \"[M]_Tr_HCys\": 0.0048820462748242503, \"[M]_KARI12_h\": 0.0, \"[M]_RBC_h\": 0.0, \"[B]_Ex_Asn_h\": 0.0, \"[B]_Ex_Thr_h\": 0.0, \"[M]_OrnCMT_h\": 0.011158962913883999, \"[M]_ATPCitL_c\": 0.0, \"[M]_SCACoAL_m\": 0.0, \"[M]_SAICARS_h\": 0.0, \"[M]_Tr_TPT2\": 2.5597222165760596, \"[B]_Cytb6f2_h\": 67.48402600444912, \"[M]_Tr_TPT1\": -5.4446817064130206, \"[M]_TA_h\": -0.00092991357615699992, \"[B]_Tr_Tyr1\": 0.0, \"[B]_Tr_Tyr2\": 0.0041846110927065, \"[B]_Tr_DTC3A\": 0.3222150541384004, \"[M]_RibK_h\": 0.0, \"[M]_GlnS_m\": 0.0, \"[M]_dUDPK_c\": 0.0, \"[M]_GlnS_h\": 0.75880947814411193, \"[B]_Tr_DTC5\": 0.0, \"[B]_Ru5PE_h\": 26.793599869811633, \"[M]_OrnAT_m\": 0.0, \"[M]_GlnS_c\": 0.30198943385698573, \"[M]_Tr_Asp_Glu_mc\": 0.0, \"[B]_Tr_Lys2\": 0.012553833278119498, \"[B]_Ru5PK_h\": 40.175056230710872, \"[B]_AOrnAGluAcT_h\": 0.0, \"[MB]_Rib_c\": 0.0, \"[M]_Tr_Thr2\": 0.055794814569419995, \"[B]_Ex_Glu_m\": 0.0, \"[B]_Ex_Glu_c\": 0.0, \"[MB]_Phe_c\": 0.0, \"[MB]_Asp_c\": 2.7644301409006404, \"[MB]_G1P_c\": 0.0, \"[B]_Tr_His2\": 0.0, \"[MB]_Suc_c\": 0.0, \"[B]_HisolPTA_h\": 0.0, \"[B]_AspAT_c\": -0.3159381374993408, \"[MB]_Cit_c\": -0.32221505413840046, \"[B]_MetS_c\": 0.0, \"[B]_AspAT_h\": -0.12344602723484173, \"[B]_Tr_GCEA2\": 0.0, \"[B]_Ex_Glu_p\": 0.0, \"[B]_AspAT_m\": -4.9682134562487892e-17, \"[B]_Tr_DTC1B\": 0.0, \"[B]_Tr_DTC1C\": 0.0, \"[B]_PPIF6PK_c\": 0.0, \"[B]_Im_H2S\": 0.0, \"[M]_GluSeADA_h\": 2.0673428271696877e-16, \"[M]_DAHPS_h\": 0.0, \"[M]_Tr_H2Oh\": 0.03624432932625013, \"[M]_UDPK_c\": 0.0, \"[M]_Tr_DTC2C\": 0.0, \"[M]_Tr_DTC2A\": 0.0, \"[B]_Tr_SCA\": 0.0, \"[M]_Ex_Phe_h\": 0.0, \"[M]_GluSeADA_c\": 0.0, \"[B]_DHLST_m\": 0.0, \"[M]_CeS_c1\": 0.0, \"[M]_PPIF6PK_c\": 0.0, \"[M]_CeS_c3\": 0.0, \"[M]_CeS_c2\": 0.0, \"[M]_Si_H_h\": 21.408375198708239, \"[B]_Tr_Pyr_Na_hc\": 0.0, \"[B]_Ex_AA\": 0.69743518211774991, \"[M]_AsnS_c\": 0.0, \"[B]_ACDOxRed_c\": 0.0083692221854129965, \"[B]_Tr_P5C1\": 0.0, \"[B]_IMPDH_c\": 0.0, \"[B]_Im_H2O\": -0.3273000214273597, \"[M]_ATPSL_h\": 0.0048820462748242503, \"[M]_DAPE_h\": 0.0, \"[B]_DHQS_h\": 0.018133314735061502, \"[B]_Tr_Met3\": 0.0, \"[M]_ThrDA_h\": 0.0, \"[B]_ADPRPPT_c\": 0.0, \"[M]_Cysase_c\": 0.0, \"[B]_Ex_Ser_h\": 0.0, \"[M]_KARI34_h\": 0.0, \"[M]_PGR5PGRL11_h\": 0.0, \"[M]_ForDH_h\": 0.0027897407284710003, \"[M]_Tr_Tyr3\": 0.0, \"[B]_AICARFT_h\": 0.0, \"[B]_Ex_Gln_p\": 0.0, \"[M]_CitS_c\": 0.0, \"[B]_Ex_Tyr_h\": 0.0, \"[M]_Im_H2S\": 0.0, \"[M]_NDH2_h\": 6.933601667424564, \"[M]_CitS_h\": 0.0, \"[MB]_SCA_c\": 0.0, \"[M]_Ex_Met_c\": 0.0, \"[MB]_Pyr_c\": -37.875815356282779, \"[M]_CitS_m\": 0.0, \"[M]_AGluPR_h\": 0.011158962913883999, \"[MB]_F6P_c\": -0.0018598271523033543, \"[B]_Fd_DASH_NADPR_h\": 36.356365226824323, \"[B]_AMPK_h\": 0.0, \"[B]_PGADH_h\": 0.065558907119068491, \"[M]_Tr_Ala2\": 0.0, \"[B]_Tr_Ala_mc\": 0.0, \"[M]_GCEADH_p\": 0.0, \"[B]_AMPK_c\": 0.0, \"[M]_5M_DASH_THFOR_c\": 0.0048820462748242503, \"[B]_Tr_DTC1A\": 0.0, \"[B]_Tr_NTT\": 0.0, \"[MB]_Tre_c\": 0.0, \"[B]_Im_CO2\": 0.0, \"[M]_Ex_Ile_m\": 0.0, \"[M]_Tr_Ala1\": 0.0, \"[M]_Tr_Mal\": 0.0, \"[M]_Tr_GCA2\": 0.0, \"[M]_Tr_GCA1\": 0.0, \"[M]_FGAMCL_h\": 0.0, \"[B]_AOX4_h\": 0.0, \"[B]_Tr_Ser1\": 0.0, \"[B]_HSerDHNADP_h\": 0.0, \"[B]_6PGDHNADP_h\": 0.0, \"[M]_Tr_Pyr_Na_hc\": 0.0, \"[M]_PyrPiDK_h\": 39.988841037085429, \"[B]_PGP_h\": 0.0, \"[B]_AOX1A_m\": 0.0, \"[M]_DHDRNADP_h\": 0.0, \"[M]_Tr_THF\": 0.0, \"[MB]_S6P_c\": 0.0, \"[B]_APSR_h\": 0.0, \"[M]_Tr_DIT1_OAA\": 39.028799208756524, \"[B]_Tr_Asn1\": 0.0, \"[B]_Tr_Asn3\": 0.0, \"[M]_Enol_h\": 0.0, \"[B]_PRANTI_h\": 0.0062769166390597509, \"[B]_PSerP_h\": 0.065558907119068505, \"[B]_Tr_CO2h_Ex\": 0.0, \"[M]_Enol_c\": -0.89690164420343421, \"[B]_TPP_c\": 0.0, \"[B]_Tr_Ser2\": 0.059281990480008769, \"[M]_PGADH_h\": 0.0, \"[M]_Ex_MACP\": 0.0, \"[B]_Ex_Trp_c\": 0.0, \"[B]_OROPRT_c\": 0.0, \"[MB]_PGA_c\": -6.341583350616455, \"[M]_Tr_KG_Mal_mc\": 0.0, \"[M]_Tr_Arg2\": 0.011158962913883999, \"[B]_Ex_Trp_h\": 0.0, \"[M]_Tr_Arg1\": 0.0, \"[M]_Ex_Lys_m\": 0.0, \"[B]_Tr_DIC2\": 0.0, \"[B]_Tr_DIC1\": 0.021395269487705641, \"[B]_Ex_Trp_m\": 0.0, \"[M]_IPODC_h\": 5.9974797123383517e-19, \"[B]_Ex_Ser_c\": 0.0, \"[B]_Tr_Met1\": 0.0, \"[M]_SADH_h\": 0.0, \"[MB]_cACN_c\": 0.32221505413840046, \"[M]_Tr_AAC\": 2.4788192837514975, \"[M]_Tr_CO2m\": 0.0, \"[M]_P5CDHNAD_h\": 0.0, \"[M]_Tr_CO2h\": 0.013948703642354999, \"[B]_Tr_SFC\": 0.0, \"[M]_NGAM_h\": 0.152707083279744, \"[B]_IGPS_h\": 0.0, \"[B]_PGM_c\": 1.5343574006590499, \"[M]_PRANTI_h\": 0.0, \"[M]_Ex_Ile_c\": 0.0, \"[M]_Ex_Pro_m\": 0.0, \"[M]_StP21_c\": 0.0, \"[B]_PAICARPI_h\": 0.0, \"[B]_TA_h\": 0.0, \"[B]_Tr_AC1\": 0.0083692221854129983, \"[M]_Ex_Lys_h\": 0.0, \"[M]_Cytb6f1_h\": 55.386996449349013, \"[M]_Ex_Asn_h\": 0.0, \"[B]_PGI_c\": 1.3478123484494602, \"[MB]_Ile_c\": 0.0, \"[B]_PGI_h\": 3.2552598535276989, \"[B]_dGDPK_c\": 0.0, \"[B]_Ex_Frc\": 0.0, \"[B]_Im_hnu\": 207.68078246254694, \"[B]_Tr_O2p\": 0.0, \"[M]_Ex_Gly_m\": 0.0, \"[M]_Si_H_p\": 0.0, \"[B]_NDC1_2_h\": 0.0, \"[M]_PSerAT_h\": 0.0, \"[B]_Tr_Leu1\": 0.0, \"[B]_Tr_Cys\": 0.0, \"[MB]_Lys_c\": 0.0, \"[M]_ACoAS_h\": 0.0048820462748242512, \"[B]_PyrDH2_m\": 0.32221505413840057, \"[M]_Ex_Ile_h\": 0.0, \"[B]_Tr_O2h\": -18.178182613412165, \"[B]_Ex_Lys_p\": 0.0, \"[B]_DPE2_c\": 0.0, \"[B]_GAPDH1_h\": 73.435934826286584, \"[B]_dTMPS_c\": 0.0, \"[M]_SBPA_h\": -1.4902988215841996e-19, \"[M]_DHDRNAD_h\": 0.0, \"[M]_NDC1_2_h\": 0.0, \"[B]_DHFR_c\": 0.0, \"[M]_STK_h\": 0.00092991357615700013, \"[B]_GluK_h\": 0.0, \"[B]_CeS_c2\": 0.0, \"[B]_CeS_c3\": 0.0, \"[B]_CeS_c1\": 0.0, \"[B]_CBPS_h\": 0.0, \"[B]_Cysase_c\": 0.0, \"[B]_GAPDH3_c\": 0.0, \"[MB]_DHAP_c\": 2.8840295762608146, \"[B]_Ex_Lys_h\": 0.0, \"[M]_DAPAT_h\": 0.0, \"[B]_AOrnTA_h\": 0.0, \"[B]_Ex_Lys_m\": 0.0, \"[B]_Tr_Asp_mc\": 0.0, \"[M]_Tr_PPT\": -39.988841037085436, \"[B]_Ex_Val_c\": 0.0, \"[M]_dADPK_c\": 0.0, \"[M]_Ex_Ile_p\": 0.0, \"[B]_Ex_Val_m\": 0.0, \"[B]_TrpS_h\": 0.0062769166390597491, \"[B]_Tr_UCP\": 0.0, \"[B]_NDH2_h\": 31.127660777624797, \"[B]_Ex_Val_p\": 0.0, \"[B]_F6PK1_c\": 0.0, \"[M]_Ex_Met_h\": 0.0, \"[B]_DHQDH_h\": 0.018133314735061499, \"[B]_DHDRNAD_h\": 0.012553833278119498, \"[B]_HCO3DHA_h\": 1.2100471915465112e-18, \"[M]_ACDOxRed_c\": 0.0, \"[B]_F6PK1_h\": 0.0, \"[B]_Tr_THF\": 0.0, \"[B]_Tr_DTC2C\": 0.0, \"[B]_NMPK_c\": 0.0, \"[M]_Tr_BAC2\": 0.0, \"[B]_SerAcT_m\": 0.0, \"[B]_GABATA2_m\": 0.0, \"[B]_Tr_TPT2\": 0.0, \"[B]_Tr_TPT1\": 6.6658907103012082, \"[B]_Ex_His_c\": 0.0, \"[M]_Glnase_c\": 0.0, \"[B]_GluDC_c\": 0.0, \"[M]_GPAT_h\": 0.0, \"[M]_OMPDC_c\": 0.0, \"[B]_Ex_MACP\": 0.0, \"[M]_S6PPh_c\": 0.0, \"[M]_Tr_Ser3\": 0.0, \"[M]_Tr_Trp1\": 0.0, \"[B]_P5CRNAD_c\": 0.0, \"[M]_Arginase_m\": 0.0, \"[B]_OrnAT_m\": 0.0, \"[M]_F26BPPh_c\": 0.0, \"[M]_Tr_GlySer\": 0.0, \"[M]_Tr_Trp3\": 0.0, \"[M]_Ex_cellulose\": 0.0, \"[B]_Tr_Pyr2\": 0.0, \"[MB]_Pro_c\": 1.6097960341648687e-16, \"[MB]_iCit_c\": 0.0, \"[B]_Ex_Phe_m\": 0.0, \"[M]_HSerK_h\": 0.06067686084424425, \"[M]_F6PK1_h\": 0.0, \"[M]_cACNDHA_c\": 0.32221505413840046, \"[B]_ACoAS_h\": 0.008369222185413, \"[M]_cACNDHA_m\": 0.0, \"[M]_cACNDHA_h\": 0.0, \"[M]_F6PK1_c\": 0.0, \"[M]_Tr_DTC4A\": 0.0, \"[M]_Tr_ProA\": 0.0, \"[M]_SucS_c\": 0.0, \"[B]_HisolPDH_h\": 0.0, \"[M]_6PGL_h\": 0.0, \"[M]_ADPR_c\": 0.0, \"[B]_AMPDA_c\": 0.0, \"[B]_Tr_NH41\": -0.0020923055463532517, \"[B]_Tr_NH42\": -0.0041846110927063526, \"[B]_Tr_Pi\": 0.0, \"[B]_PrAMPCy_h\": 0.0, \"[M]_bAMY2_h\": 0.0, \"[M]_Tr_Thr1\": 0.0, \"[B]_Tr_Lys1\": 0.0, \"[M]_Tr_Thr3\": 0.0, \"[B]_GluSNAD_h\": 0.0, \"[B]_Tr_Ser3\": 0.0041846110927065113, \"[M]_UGPase_c\": 0.0, \"[B]_dADPK_c\": 0.0, \"[M]_Ex_Lys_c\": 0.0, \"[B]_Ex_Tre\": 0.0, \"[B]_Tr_His3\": 0.0, \"[B]_Tr_Mal\": 0.0, \"[B]_DHDRNADP_h\": 0.0, \"[B]_GluSeADH_m\": -1.3151194915163318e-16, \"[M]_PEPC2_c\": -39.986051296356969, \"[B]_OMPDC_c\": 0.0, \"[B]_Tr_PPT\": 0.0, \"[B]_Tr_Arg2\": 0.0, \"[B]_GMPK_c\": 0.0, \"[M]_GAPDH2_h\": 0.0, \"[M]_Tr_DTC3A\": 0.0, \"[B]_Tr_Arg1\": 0.0, \"[M]_Tr_DTC3C\": 0.0, \"[M]_Tr_DTC3B\": 0.0, \"[B]_StP1_h\": 0.0, \"[B]_SucS_c\": 1.844082919851209e-15, \"[MB]_Cys_c\": 0.0, \"[B]_Ex_Ala_c\": 0.0, \"[B]_TPI_h\": 30.048859723339334, \"[M]_AGluK\": 0.011158962913883999, \"[M]_F6PK2_c\": 0.0, \"[B]_SerAcT_h\": 0.0, \"[M]_FumHA_m\": 0.0, \"[B]_GlnS_m\": 0.0, \"[M]_FumHA_c\": 0.0, \"[B]_TPI_c\": 0.0, \"[B]_Ex_Phe_h\": 0.0, \"[B]_SerAcT_c\": 0.0, \"[B]_Tr_GPT1\": -0.18654505220959947, \"[B]_UDPR_c\": 0.0, \"[M]_ADNK_c\": 0.0, \"[B]_GlnS_c\": 0.0, \"[B]_GlyDH_m\": 0.00418461109270652, \"[B]_GlnS_h\": 0.00627691663905975, \"[M]_dTMPK_c\": 0.0, \"[B]_6PGL_h\": 0.0, \"[M]_Fd_DASH_NADPR_h\": 44.533460340831638, \"[M]_DHQS_h\": 0.0, \"[B]_DPE11_h\": 0.0, \"[B]_dUTPP_c\": 0.0, \"[B]_Ex_His_p\": 0.0, \"[M]_Tr_Asn1\": 0.0, \"[M]_Asp_DASH_SeADH_h\": 0.06067686084424425, \"[M]_Tr_Asn3\": 0.0, \"[M]_CTPP_c\": 0.0, \"[B]_Tr_GlySer\": 0.0083692221854129948, \"[B]_PGAK_c\": 0.32430735968475388, \"[B]_GCEADH_p\": 0.0, \"[B]_Tr_DIC4\": 0.30081978465069792, \"[M]_Tr_DTC5\": -0.74637914129909966, \"[MB]_Ser_c\": -0.0097640925496485006, \"[M]_AspAT_h\": 0.71975310794551772, \"[B]_dCDPK_c\": 0.0, \"[B]_PGAK_h\": 73.497309122312942, \"[M]_AspAT_m\": -7.6470639186396925e-17, \"[M]_R5PI_h\": -0.0018598271523139992, \"[B]_IGPDA_h\": 0.0, \"[M]_AOX1A_m\": 0.0, \"[M]_AspAT_p\": 0.0, \"[B]_PGAM_c\": 0.0, \"[M]_FBPase_c\": 0.0, \"[M]_EPSPS_h\": 0.0, \"[M]_FBPase_h\": 0.0, \"[B]_PGAM_h\": 0.12135372168849066, \"[M]_Tr_Ala_mc\": 0.0, \"[B]_Tr_PLT5\": 0.0, \"[B]_IMPCH_h\": 0.0, \"[B]_STK_h\": 13.387733277538285, \"[B]_Tr_PIC\": 1.4724203159555991, \"[M]_SBPase_h\": 0.0, \"[M]_FrcK_c\": 0.0, \"[M]_Ex_Asn_p\": 0.0, \"[B]_Tr_DIT2\": -1.4382448794908984e-17, \"[M]_ACoAC_h\": 6.1029922031267595e-19, \"[B]_Tr_DIT1\": 0.0, \"[M]_3IPMDA2_h\": 5.9974797123383517e-19, \"[B]_CHRS_h\": 0.018133314735061499, \"[M]_Im_H2O\": 36.694011440184198, \"[B]_Ex_Gly_p\": 0.0, \"[B]_dTMPK_c\": 0.0, \"[B]_AGNDA_h\": 0.0076717870032952506, \"[M]_Tr_Asn2\": 0.0, \"[B]_Ex_Leu_p\": 0.0, \"[B]_Tr_Pyr_H_hc\": -0.007671787003289421, \"[B]_OrnCMT_h\": 0.0, \"[M]_Tr_AC1\": 0.0, \"[B]_PyrDH1_m\": 0.32221505413840057, \"[M]_Tr_AC2\": 0.0, \"[M]_Tr_Tyr2\": 0.0, \"[B]_R5PDPK_h\": 0.0062769166390503903, \"[B]_Ex_Gly_m\": 0.0, \"[M]_AMPK_h\": 40.015343574005911, \"[B]_SBPase_h\": 13.387733277538283, \"[M]_CHRS_h\": 0.0, \"[M]_Ex_Gly_c\": 0.0, \"[B]_FrcK_c\": 0.0, \"[M]_TPS_c\": 0.0, \"[MB]_Gly_c\": 0.0048820462748242494, \"[B]_FBPase_h\": 16.661126445801049, \"[B]_Ex_Gly_h\": 0.0, \"[M]_ThrA_c\": 0.0, \"[B]_FBPase_c\": 2.8840295762608141, \"[M]_Tr_DIC2\": 0.0, \"[M]_Tr_PIC\": 2.4788192837514966, \"[M]_Tr_Val3\": 0.0, \"[M]_Ex_Phe_p\": 0.0, \"[M]_AspAT_c\": 0.01115896291388428, \"[M]_StP1_h\": 0.0, \"[B]_Asp_DASH_SeADH_h\": 0.012553833278119497, \"[M]_DHLST_m\": 0.0, \"[B]_StP21_c\": 0.0, \"[B]_FrcFD_c\": 0.0, \"[M]_Ex_Tyr_p\": 0.0, \"[M]_Im_NO3\": 1.0559168657262732, \"[M]_iCitL_p\": 0.0, \"[M]_GlyDH_m\": 0.0, \"[B]_Tr_Ala1\": 0.0, \"[M]_GDPR_c\": 0.0, \"[B]_Ex_Cys_c\": 0.0, \"[B]_SCACoAL_m\": 0.0, \"[MB]_Arg_c\": 0.011158962913883999, \"[B]_bAMY2_h\": 0.0, \"[M]_Ex_Phe_m\": 0.0, \"[M]_Ex_Phe_c\": 0.0, \"[B]_Ex_Cys_h\": 0.0, \"[M]_TrpS_h\": 0.0, \"[M]_Tr_Lys2\": 0.0, \"[B]_2IPMS_h\": 0.008369222185413, \"[M]_Urease_m\": 0.0, \"[M]_DHDS_h\": 0.0, \"[B]_CTHS_h\": 0.0, \"[B]_ATPCitL_c\": 0.0, \"[B]_GMPS_c\": 0.0, \"[M]_GARFT_h\": 0.0, \"[M]_G6PDH_h\": 0.0, \"[B]_HisolPP_h\": 0.0, \"[M]_DHLDH1_m\": 0.0, \"[M]_ATase_h\": 0.0, \"[M]_DCAMPL1_h\": 0.0, \"[M]_HCO3DHA_h\": 0.011158962913883999, \"[M]_Ex_Ser_m\": 0.0, \"[B]_DCAMPL1_h\": 0.0, \"[M]_HCO3DHA_c\": 39.986051296356969, \"[B]_AMT_m\": 0.0041846110927065139, \"[B]_AlaTA_c\": 0.0, \"[B]_Tr_DTC4C\": 0.0, \"[B]_GluSFd_h\": 0.0, \"[B]_Tr_DTC4A\": 0.0, \"[M]_Tr_SO4\": 0.0048820462748242503, \"[M]_AspCT_h\": 0.0, \"[M]_IGPS_h\": 0.0027897407284710003, \"[B]_Ex_Cys_m\": 0.0, \"[MB]_Tyr_c\": 0.0, \"[B]_Tr_Leu2\": 0.008369222185413, \"[M]_Ex_Suc\": 0.0, \"[B]_Ex_Ala_m\": 0.0, \"[B]_Ex_Ala_h\": 0.0, \"[M]_Ex_Ser_p\": 0.0, \"[M]_Ex_Leu_m\": 0.0, \"[M]_Tr_Leu3\": 0.0, \"[B]_DAPAT_h\": 0.012553833278119498, \"[M]_Tr_Leu1\": 0.0, \"[M]_Tr_Leu2\": 5.9974797123383497e-19, \"[B]_PGM_h\": 3.0687148013180998, \"[B]_Ex_Arg_c\": 0.0, \"[M]_ThrS_h\": 0.055794814569419995, \"[M]_iCitDHNAD_m\": 0.0, \"[B]_RBC_h_Ex\": 0.0, \"[B]_Ex_Ala_p\": 0.0, \"[M]_iCitDHNAD_c\": 0.0, \"[B]_MalDH4_h\": 37.139549025124381, \"[B]_GlyHMT_m\": 0.0041846110927064844, \"[B]_DPE12_h\": 0.0, \"[B]_GlyHMT_c\": 0.0, \"[B]_CHRM_h\": 0.011856398096001749, \"[B]_TRXR_c\": 0.0, \"[M]_AOrnTA_h\": 0.011158962913883998, \"[B]_KGDH_m\": 0.0, \"[M]_Tr_Ile1\": 0.0, \"[M]_AGPase_h\": 0.0, \"[M]_HisolPP_h\": 0.0027897407284710003, \"[M]_CTHS_h\": 0.0048820462748242494, \"[M]_Tr_PRPP\": 0.0, \"[M]_Ex_Pro_h\": 0.0, \"[M]_IMPDH_c\": 0.0, \"[M]_DHLAcT_m\": 0.0, \"[M]_GluSeADA_m\": 0.0, \"[B]_GABATA1_m\": 0.0, \"[M]_dTDPK_c\": 0.0, \"[M]_bAMY1_h\": 0.0, \"[B]_Tr_Asn2\": 0.0, \"[B]_DCAMPL2_h\": 0.0, \"[M]_2IPMS_h\": 5.9974797123383517e-19, \"[M]_Si_H_c\": -39.905148815231321, \"[B]_CTHL_h\": 0.0, \"[M]_Tr_DTC1C\": 0.0, \"[M]_GluDH1NADP_m\": 0.0, \"[M]_Ex_His_p\": 0.0, \"[B]_Im_SO4\": 0.0, \"[M]_Tr_Mex1\": 0.0, \"[B]_GluK_c\": -3.2819867447169666e-17, \"[B]_GluK_m\": -2.0305195984710575e-16, \"[B]_Tr_Leu3\": 0.0, \"[B]_Arginase_m\": 0.0, \"[M]_HSerDHNAD_h\": 0.0027897407284710003, \"[M]_GluDH1NAD_m\": -4.4769708788754427e-17, \"[M]_Tr_ProU\": -1.6097960341648687e-16, \"[B]_3IPMDA1_h\": 0.008369222185413, \"[M]_Tr_GPT1\": 0.0018598271523139998, \"[M]_Im_SO4\": 0.0048820462748242494, \"[B]_DHADA1_h\": 0.008369222185413, \"[M]_GAPDH2_c\": 0.0, \"[M]_GluK_c\": 0.0, \"[B]_Ex_Leu_m\": 0.0, \"[B]_DHLDH1_m\": 0.004184611092706513, \"[B]_StS_h2\": 1.5343574006590501, \"[B]_StS_h3\": 0.0, \"[M]_GluK_h\": 2.067342827169688e-16, \"[B]_StS_h1\": 1.5343574006590501, \"[M]_DHADA1_h\": 0.0, \"[B]_Im_NO3\": 0.0, \"[M]_GluK_m\": 0.0, \"[B]_cACNDHA_h\": 0.0, \"[M]_GluSFd_h\": 0.74486077450175692, \"[M]_ADNN_c\": 0.0, \"[B]_cACNDHA_m\": 0.0, \"[B]_Ex_Leu_h\": 0.0, \"[B]_cplx2_m\": 0.0, \"[B]_cACNDHA_c\": 0.0, \"[B]_GluDH1NADP_m\": 3.3160042389131267e-16, \"[M]_Tr_H_Na_hc\": 0.0, \"[M]_Tr_Cit_iCit_mc\": 0.0, \"[MB]_Frc_c\": -1.844082919851209e-15, \"[M]_GluDH3NADP_c\": 0.0, \"[M]_Asnase_c\": 0.0, \"[B]_Tr_Pyr_Mal_hc\": 37.1521028584025, \"[B]_cplx4_m\": 0.17389746735940459, \"[B]_Ex_Met_p\": 0.0, \"[B]_DHOase_h\": 0.0, \"[B]_Tr_Phe3\": 0.0, \"[M]_GGAT_h\": 0.0, \"[M]_PEPC1_c\": 0.0, \"[B]_Tr_Mex1\": 0.0, \"[M]_CTPS_c\": 0.0, \"[M]_Im_NH4\": 0.0, \"[B]_SBPA_h\": 13.387733277538283, \"[B]_Ex_Asp_c\": 0.0, \"[B]_ForDH_h\": 0.0, \"[B]_MalDH2_m\": 0.32221505413840057, \"[M]_Ex_Ala_c\": 0.0, \"[B]_ANTPRT_h\": 0.0062769166390597509, \"[B]_Tr_CO2h\": 2.9629739466462404, \"[B]_SGAT_p\": 0.0, \"[M]_Ex_Ala_h\": 0.0, \"[B]_Tr_Phe1\": 0.0, \"[B]_Tr_Phe2\": 0.0076717870032952497, \"[B]_iCitDHNADP_c\": 0.0062769166390595123, \"[B]_PRAGlyL_h\": 0.0, \"[MB]_Leu_c\": 5.9974797123383497e-19, \"[B]_CysS_m\": 0.0, \"[B]_Tr_CO2m\": -0.64861471936950887, \"[B]_CysS_h\": 0.0, \"[M]_Tr_Hp\": 0.0, \"[M]_GCAO_p\": 0.0, \"[MB]_Ala_c\": -2.1081436345278375, \"[B]_Tr_DIT1_OAA\": 0.012553833278119493, \"[M]_NMPK_c\": 0.0, \"[M]_GGAT_p\": 0.0, \"[M]_PAICARPI_h\": 0.0027897407284709999, \"[B]_NDH1_h\": 62.255321555249594, \"[M]_GCEAK_h\": 0.0, \"[B]_6PGDHNAD_h\": 0.0, \"[MB]_GAP_c\": 2.5597222165760596, \"[M]_TPI_h\": 2.884029576260815, \"[M]_PrATPDP_h\": 0.0027897407284709999, \"[M]_DPE2_c\": 0.0, \"[M]_TPI_c\": 0.0, \"[B]_P5CDHNADP_h\": 0.0, \"[B]_UDPK_c\": 1.5343574006590499, \"[M]_Ex_Cys_p\": 0.0, \"[B]_P5CDHNADP_m\": 0.0, \"[M]_Ex_Tyr_m\": 0.0, \"[B]_Tr_GCA2\": 0.0, \"[B]_CysS_c\": 0.0, \"[B]_Tr_DHO2\": 0.0, \"[M]_GluSeADH_c\": 0.0, \"[B]_Tr_DHO1\": 0.0, \"[M]_Tr_Gln\": 0.0, \"[M]_DCAMPL2_h\": 0.0027897407284709999, \"[M]_Tr_Asp_OAA_hc\": 0.64512754345891854, \"[M]_dCDPK_c\": 0.0, \"[M]_Tr_Pyr1\": 0.0, \"[M]_Tr_Pyr3\": 0.0, \"[M]_Tr_Pyr2\": 0.0, \"[M]_TRXR_c\": 0.0, \"[M]_SAK_h\": 0.0, \"[M]_Ru5PE_h\": 0.0018598271523139992, \"[B]_Ex_Ser_m\": 0.0, \"[M]_AMPDA_c\": 0.0, \"[B]_PyrPiDK_h\": -0.085087092218356142, \"[M]_TPP_c\": 0.0, \"[M]_Tr_NO2\": 1.0559168657262732, \"[M]_GlyHMT_m\": 0.0, \"[B]_Tr_Fum\": 0.0, \"[B]_Ex_Pro_h\": 0.0, \"[B]_GluSeADA_c\": -3.2819867447169666e-17, \"[M]_ATPase_h\": 86.547295507735797, \"[M]_PyrK_c\": 0.0, \"[M]_P5CDHNADP_m\": 0.0, \"[M]_Ex_Gln_p\": 0.0, \"[M]_IGPDA_h\": 0.0027897407284710003, \"[B]_UGPase_c\": 1.5343574006590499, \"[B]_Ex_His_h\": 0.0, \"[M]_Ex_AA\": 0.0, \"[M]_Tr_O2p\": 0.0, \"[M]_R5PDPK_h\": 0.0027897407284709999, \"[M]_PyrK_h\": 0.0, \"[B]_BAATA1_h\": 0.008369222185413, \"[M]_ANTPRT_h\": 0.0, \"[M]_APSR_h\": 0.0048820462748242503, \"[M]_Tr_O2h\": -24.226697390962226, \"[M]_Ex_Gln_c\": 0.0, \"[M]_Ex_Ala_p\": 0.0, \"[M]_Tr_H2S1\": 0.0, \"[M]_Tr_O2m\": 0.37318957064954977, \"[M]_SCASeADH_m\": 0.0, \"[M]_Tr_H2S2\": 0.0, \"[B]_Tr_BAC1\": 0.0, \"[M]_Ex_Gln_h\": 0.0, \"[B]_Tr_BAC2\": 0.0, \"[M]_PRAGlyL_h\": 0.0, \"[B]_Ex_Tyr_m\": 0.0, \"[B]_FBPA_h\": 16.661126445801052, \"[B]_Tr_HCys\": 0.0, \"[M]_Tr_Met1\": 0.0, \"[B]_HSerK_h\": 0.0, \"[M]_AspAT2_m\": 0.0, \"[M]_AspAT2_h\": 0.0, \"[M]_cplx2_m\": 0.0, \"[M]_HisolPDH_h\": 0.0027897407284710003, \"[M]_AspAT2_c\": 2.1081436345278375, \"[B]_Ex_Gln_h\": 0.0, \"[M]_P5CRNAD_c\": 0.0, \"[M]_DHLDH2_m\": 0.0, \"[M]_dTMPS_c\": 0.0, \"[M]_NO3R1_c\": 1.0559168657262732, \"[M]_Tr_Glu2\": 0.0, \"[M]_ProDHNADP_m\": 0.0, \"[M]_Tr_Fum\": 0.013948703642354999, \"[M]_AspAT2_p\": 0.0, \"[B]_Ex_Phe_p\": 0.0, \"[B]_Ex_Asn_p\": 0.0, \"[M]_BAATA1_h\": 0.0, \"[B]_ThrA_c\": 0.0083692221854129948, \"[M]_Ex_Val_c\": 0.0, \"[M]_HisalPDH_h\": 0.0027897407284709999, \"[B]_ArgSCAS_h\": 0.0, \"[M]_GABATA2_m\": 0.0, \"[M]_Ex_Val_m\": 0.0, \"[B]_Tr_BT12\": 0.14088190678779744, \"[B]_Tr_BT13\": -0.070440953393905451, \"[M]_Ex_Val_h\": 0.0, \"[B]_Tr_BT11\": -0.070440953393892766, \"[B]_Ex_Asn_c\": 0.0, \"[M]_Tr_Gly\": 0.0, \"[B]_FBPA_c\": 2.8840295762608141, \"[M]_Ex_Val_p\": 0.0, \"[M]_NO3R2_c\": 0.0, \"[B]_Tr_AC2\": 0.0, \"[M]_Tr_pGlc\": 0.0, \"[M]_ALS2_h\": 0.0, \"[M]_Ex_Asp_h\": 0.0, \"[M]_BAATA3_h\": -5.9974797123383517e-19, \"[B]_Ex_Asn_m\": 0.0, \"[M]_Ex_Glc\": 0.0, \"[B]_DHLDH2_m\": 0.32221505413840057, \"[M]_Tr_Pro1\": 0.0, \"[B]_Tr_Ile3\": 0.0, \"[M]_Tr_GCEA1\": 0.0, \"[M]_HCysMT_c\": 0.0, \"[B]_cACNHA_c\": 0.32221505413840046, \"[B]_cACNHA_m\": 0.0, \"[B]_Glnase_c\": 0.0, \"[B]_cACNHA_h\": 0.0, \"[M]_Ex_Pro_c\": 0.0, \"[B]_Tr_H2S1\": 0.0, \"[B]_Tr_Thr1\": 0.0, \"[B]_Tr_Thr3\": 0.0, \"[B]_Tr_Thr2\": -0.0083692221854130017, \"[M]_Tr_OAA\": 0.0, \"[B]_Tr_H2S2\": 0.0, \"[B]_AsnS_c\": 0.070440953393892752, \"[MB]_GCEA_c\": 0.0, \"[M]_Ex_His_m\": 0.0, \"[M]_ACPM_h\": 0.0, \"[M]_Ex_Pro_p\": 0.0, \"[M]_PSI_h\": 110.77399289869803, \"[B]_KARI34_h\": 0.025107666556239003, \"[B]_Asnase_c\": 0.0, \"[M]_Ex_Thr_h\": 0.0, \"[M]_P5CDHNAD_m\": 4.2402466118165944e-17, \"[M]_AGNDH_h\": 0.0, \"[M]_Ex_Gly_h\": 0.0, \"[B]_Tr_Asp_Glu_mc\": -8.098228696410722e-17, \"[B]_CDPR_c\": 0.0, \"[B]_DPE13_h\": 0.0, \"[M]_Tr_PXN3\": 0.0, \"[M]_Ex_Gly_p\": 0.0, \"[B]_Ex_Ile_c\": 0.0, \"[M]_GDPK_h\": 0.0027897407284710003, \"[M]_Tr_NTT\": 0.0, \"[B]_Tr_DTC3B\": 9.9908951391010397e-18, \"[B]_Tr_DTC3C\": 0.0, \"[M]_CBPS_h\": 0.011158962913883999, \"[B]_AGluPR_h\": 0.0, \"[M]_GDPK_c\": 0.0, \"[M]_Ex_Lys_p\": 0.0, \"[B]_Im_NH4\": 0.0, \"[B]_Tr_GCEA1\": 0.0, \"[M]_Tr_DTC4B\": 0.0, \"[M]_Tr_DTC4C\": 0.0, \"[M]_Im_CO2\": 39.999999999999325, \"[B]_CTPS_c\": 0.0, \"[B]_MalDH1_c\": 0.0, \"[MB]_Val_c\": -5.9974797123383517e-19, \"[B]_MalDH1_m\": -0.30081978465069492, \"[M]_Tr_Lys1\": 0.0, \"[B]_MalDH1_h\": 0.0, \"[B]_GPAT_h\": 0.011856398096001751, \"[M]_AMPK_c\": 0.0, \"[M]_cplx4_m\": 0.37318957064954977, \"[M]_Ex_Frc\": 0.0, \"[B]_Ex_Leu_c\": 0.0, \"[B]_MalDH1_p\": 0.0, \"[B]_NO3R1_c\": 0.0, \"[B]_PEPC2_c\": 0.0, \"[M]_Tr_Pyr_Mal_hc\": 0.085784527400477886, \"[B]_Ex_Thr_m\": 0.0, \"[M]_PyrDH2_m\": 0.0, \"[B]_Tr_NDT1\": 0.0, \"[M]_Ru5PK_h\": 0.0, \"[B]_RBC_h\": 40.175056230710872, \"[B]_Tr_NDT2\": 0.0, \"[B]_ADNN_c\": 0.0, \"[M]_CysS_c\": 0.0, \"[M]_CysS_m\": 0.0, \"[M]_Tr_DIC4\": 0.0, \"[M]_DHADA2_h\": 0.0, \"[M]_ATPPRT_h\": 0.0027897407284709999, \"[M]_CysS_h\": 0.0048820462748242503, \"[M]_Tr_DIC1\": -3.2052880252571929e-17, \"[B]_DHADA2_h\": 0.025107666556239, \"[M]_Ex_Asn_c\": 0.0, \"[M]_NGAM_c\": 0.050349979617494899, \"[M]_Ex_Glu_c\": 0.0, \"[M]_Ex_Cys_m\": 0.0, \"[M]_Tr_SCA\": 0.0, \"[M]_GAPDH3_c\": 0.0, \"[B]_Tr_AAC\": 1.1502052618171958, \"[M]_Ex_Asn_m\": 0.0, \"[M]_NGAM_m\": 0.0091111872455015702, \"[M]_GMPS_c\": 0.0, \"[B]_Si_H_m\": 2.9490252430038981, \"[M]_Tr_Ile2\": 0.0, \"[B]_GluDH1NAD_m\": 0.0, \"[B]_F6PK2_c\": 0.0, \"[M]_3IPMDH_h\": 5.9974797123383517e-19, \"[B]_Si_H_h\": 92.628549203847683, \"[B]_HisalPDH_h\": 0.0, \"[M]_Tr_Pi\": 0.0, \"[MB]_Mal_c\": 37.146995590969738, \"[B]_cplx5_m\": 1.1593164490626975, \"[M]_ANTS_h\": 0.0, \"[B]_Si_H_c\": 0.0, \"[B]_Tr_Gln\": 0.0, \"[M]_PPIase_c\": 0.0, \"[M]_Tr_Pyr_H_hc\": 40.069743518211091, \"[B]_Tr_pGlc\": 0.0, \"[B]_MetAdT_c\": 0.0, \"[M]_GCAO_h\": 0.0, \"[B]_Tr_Gly\": 0.0, \"[B]_HEXK_c\": 0.0, \"[B]_Tr_His1\": 0.0, \"[B]_ThrS_h\": 0.0, \"[M]_Tr_NDT2\": -8.6405089290560008e-16, \"[B]_DAHPS_h\": 0.018133314735061499, \"[B]_cplx1_m\": 0.34779493471880918, \"[B]_Ex_His_m\": 0.0, \"[M]_DHODH_m\": 0.0, \"[M]_AOrnAGluAcT_h\": 0.011158962913883999, \"[M]_iCitDHNADP_h\": 0.0, \"[B]_MalDH3_h\": 0.0, \"[M]_iCitDHNADP_m\": 0.0, \"[M]_Ex_Trp_h\": 0.0, \"[B]_SO3R_h\": 0.0, \"[M]_iCitDHNADP_c\": 0.0, \"[M]_Tr_P5C2\": -2.0673428271696877e-16, \"[M]_GlyHMT_c\": -0.0048820462748242494, \"[B]_cplx3_m\": 0.34779493471880918, \"[M]_Tr_P5C1\": 2.6616049449303408e-16, \"[B]_ThrDA_h\": 0.0083692221854130017, \"[M]_Ex_Trp_p\": 0.0, \"[M]_DCAMPS_h\": 0.0027897407284709999, \"[M]_Ex_Glu_h\": 0.0, \"[B]_PGR5PGRL12_h\": 0.0, \"[B]_Ex_Ile_h\": 0.0, \"[M]_CAT_h\": 0.0, \"[B]_Ex_Ile_m\": 0.0, \"[B]_Si_H_p\": 0.0, \"[B]_Tr_OAA\": 0.0, \"[B]_Ex_Ile_p\": 0.0, \"[M]_CHRM_h\": 0.0, \"[M]_Ex_Trp_c\": 0.0, \"[M]_CAT_p\": 0.0, \"[B]_NO2R_h\": 0.0, \"[B]_Ex_Ser_p\": 0.0, \"[M]_Tr_TPT3\": 2.8840295762608146, \"[B]_P5CDHNAD_m\": 0.0, \"[M]_AGNDA_h\": 0.0, \"[M]_Ex_Trp_m\": 0.0, \"[B]_P5CDHNAD_h\": 0.0, \"[M]_Ex_Thr_c\": 0.0, \"[B]_SCASeADH_m\": 0.0}, \"ignore_bootstrap\": true, \"scroll_behavior\": \"none\"}'),\n",
       "               builder_embed_css: JSON.parse('null'),\n",
       "               map_data: JSON.parse('[{\"map_name\":\"new_map\",\"map_id\":\"cPBjQ56p0ATA\",\"map_description\":\"\\\\nLast Modified Mon Jul 30 2018 11:01:17 GMT+0200 (CEST)\",\"homepage\":\"https://escher.github.io\",\"schema\":\"https://escher.github.io/escher/jsonschema/1-0-0#\"},{\"reactions\":{\"3\":{\"name\":\"Import CO2\",\"bigg_id\":\"[M]_Im_CO2\",\"reversibility\":false,\"label_x\":1300.6845092773438,\"label_y\":-978.7737426757812,\"gene_reaction_rule\":\"\",\"genes\":[],\"metabolites\":[{\"bigg_id\":\"[M]_CO2_c\",\"coefficient\":1}],\"segments\":{\"9\":{\"from_node_id\":\"13\",\"to_node_id\":\"14\",\"b1\":null,\"b2\":null},\"10\":{\"from_node_id\":\"15\",\"to_node_id\":\"14\",\"b1\":null,\"b2\":null},\"11\":{\"from_node_id\":\"15\",\"to_node_id\":\"12\",\"b1\":{\"x\":1285.6845092773438,\"y\":-926.7737426757812},\"b2\":{\"x\":1289.6665649414062,\"y\":-378.75006103515625}}}},\"4\":{\"name\":\"CO2 diffusion\",\"bigg_id\":\"[M]_Tr_CO2h\",\"reversibility\":true,\"label_x\":1013.1581420898438,\"label_y\":-354.0567932128906,\"gene_reaction_rule\":\"\",\"genes\":[],\"metabolites\":[{\"bigg_id\":\"[M]_CO2_c\",\"coefficient\":-1},{\"bigg_id\":\"[M]_CO2_h\",\"coefficient\":1}],\"segments\":{\"12\":{\"from_node_id\":\"16\",\"to_node_id\":\"17\",\"b1\":null,\"b2\":null},\"13\":{\"from_node_id\":\"18\",\"to_node_id\":\"17\",\"b1\":null,\"b2\":null},\"14\":{\"from_node_id\":\"16\",\"to_node_id\":\"12\",\"b1\":{\"x\":1176.6665649414062,\"y\":-320.00006103515625},\"b2\":{\"x\":1230.9165649414062,\"y\":-320.00006103515625}},\"15\":{\"from_node_id\":\"18\",\"to_node_id\":\"19\",\"b1\":{\"x\":1052.6665649414062,\"y\":-320.0000610351562},\"b2\":{\"x\":998.4165649414062,\"y\":-320.0000610351562}}}},\"5\":{\"name\":\"RuBisCO\",\"bigg_id\":\"[M]_RBC_h\",\"reversibility\":false,\"label_x\":689.8250122070312,\"label_y\":-269.3552856445312,\"gene_reaction_rule\":\"\",\"genes\":[],\"metabolites\":[{\"bigg_id\":\"[M]_CO2_h\",\"coefficient\":-1},{\"bigg_id\":\"[M]_H2O_h\",\"coefficient\":-1},{\"bigg_id\":\"[M]_H_h\",\"coefficient\":2},{\"bigg_id\":\"[M]_PGA_h\",\"coefficient\":2},{\"bigg_id\":\"[M]_RuBP_h\",\"coefficient\":-1}],\"segments\":{\"16\":{\"from_node_id\":\"20\",\"to_node_id\":\"21\",\"b1\":null,\"b2\":null},\"17\":{\"from_node_id\":\"22\",\"to_node_id\":\"21\",\"b1\":null,\"b2\":null},\"18\":{\"from_node_id\":\"20\",\"to_node_id\":\"19\",\"b1\":{\"x\":826.6665649414062,\"y\":-320.0000610351562},\"b2\":{\"x\":880.9165649414062,\"y\":-320.0000610351562}},\"21\":{\"from_node_id\":\"22\",\"to_node_id\":\"25\",\"b1\":{\"x\":698.6665649414062,\"y\":-320.00006103515614},\"b2\":{\"x\":653.935546875,\"y\":-318.99801635742176}},\"22\":{\"from_node_id\":\"20\",\"to_node_id\":\"26\",\"b1\":{\"x\":830.6665649414062,\"y\":-320.0000610351562},\"b2\":{\"x\":881.2373046875,\"y\":-439.61360931396484}}}},\"6\":{\"name\":\"RuBisCO\",\"bigg_id\":\"[M]_RBO_h\",\"reversibility\":false,\"label_x\":694.37890625,\"label_y\":-573.3093070983886,\"gene_reaction_rule\":\"\",\"genes\":[],\"metabolites\":[{\"bigg_id\":\"[M]_H_h\",\"coefficient\":2},{\"bigg_id\":\"[M]_O2_h\",\"coefficient\":-1},{\"bigg_id\":\"[M]_PGA_h\",\"coefficient\":1},{\"bigg_id\":\"[M]_PGCA_h\",\"coefficient\":1},{\"bigg_id\":\"[M]_RuBP_h\",\"coefficient\":-1}],\"segments\":{\"23\":{\"from_node_id\":\"27\",\"to_node_id\":\"28\",\"b1\":null,\"b2\":null},\"24\":{\"from_node_id\":\"29\",\"to_node_id\":\"28\",\"b1\":null,\"b2\":null},\"27\":{\"from_node_id\":\"29\",\"to_node_id\":\"25\",\"b1\":{\"x\":702.5404052734375,\"y\":-547.3853912353514},\"b2\":{\"x\":610.8214111328125,\"y\":-468.84315490722645}},\"28\":{\"from_node_id\":\"29\",\"to_node_id\":\"33\",\"b1\":{\"x\":702.5404052734375,\"y\":-547.3853912353514},\"b2\":{\"x\":630.3623657226562,\"y\":-548.0520381927489}},\"29\":{\"from_node_id\":\"27\",\"to_node_id\":\"26\",\"b1\":{\"x\":830.5404052734375,\"y\":-547.3853912353516},\"b2\":{\"x\":881.5706176757812,\"y\":-440.28026580810547}}}},\"7\":{\"name\":\"PGCA phosphorylase\",\"bigg_id\":\"[M]_PGP_h\",\"reversibility\":false,\"label_x\":338.2790832519531,\"label_y\":-575.3853797912597,\"gene_reaction_rule\":\"\",\"genes\":[],\"metabolites\":[{\"bigg_id\":\"[M]_GCA_h\",\"coefficient\":1},{\"bigg_id\":\"[M]_H2O_h\",\"coefficient\":-1},{\"bigg_id\":\"[M]_PGCA_h\",\"coefficient\":-1},{\"bigg_id\":\"[M]_Pi_h\",\"coefficient\":1}],\"segments\":{\"30\":{\"from_node_id\":\"34\",\"to_node_id\":\"35\",\"b1\":null,\"b2\":null},\"31\":{\"from_node_id\":\"36\",\"to_node_id\":\"35\",\"b1\":null,\"b2\":null},\"32\":{\"from_node_id\":\"36\",\"to_node_id\":\"37\",\"b1\":{\"x\":344.94573974609375,\"y\":-548.71870803833},\"b2\":{\"x\":322.3774108886719,\"y\":-548.7187080383299}},\"34\":{\"from_node_id\":\"34\",\"to_node_id\":\"33\",\"b1\":{\"x\":468.94573974609375,\"y\":-548.71870803833},\"b2\":{\"x\":523.1957397460938,\"y\":-548.71870803833}}}},\"8\":{\"name\":\"HCO3 dehydratase\",\"bigg_id\":\"[M]_HCO3DHA_c\",\"reversibility\":false,\"label_x\":1304.6665649414062,\"label_y\":-135.00006103515625,\"gene_reaction_rule\":\"\",\"genes\":[],\"metabolites\":[{\"bigg_id\":\"[M]_CO2_c\",\"coefficient\":-1},{\"bigg_id\":\"[M]_H2O_c\",\"coefficient\":-1},{\"bigg_id\":\"[M]_HCO3_c\",\"coefficient\":1},{\"bigg_id\":\"[M]_H_c\",\"coefficient\":1}],\"segments\":{\"36\":{\"from_node_id\":\"40\",\"to_node_id\":\"41\",\"b1\":null,\"b2\":null},\"37\":{\"from_node_id\":\"42\",\"to_node_id\":\"41\",\"b1\":null,\"b2\":null},\"38\":{\"from_node_id\":\"40\",\"to_node_id\":\"12\",\"b1\":{\"x\":1289.6665649414062,\"y\":-207.00006103515625},\"b2\":{\"x\":1289.6665649414062,\"y\":-261.25006103515625}},\"40\":{\"from_node_id\":\"42\",\"to_node_id\":\"44\",\"b1\":{\"x\":1289.6665649414062,\"y\":-83.00006103515625},\"b2\":{\"x\":1289.6665649414062,\"y\":-28.75006103515625}}}},\"10\":{\"name\":\"PEP carboxylase\",\"bigg_id\":\"[M]_PEPC2_c\",\"reversibility\":true,\"label_x\":1422.7590942382812,\"label_y\":77.27912712097168,\"gene_reaction_rule\":\"\",\"genes\":[],\"metabolites\":[{\"bigg_id\":\"[M]_HCO3_c\",\"coefficient\":1},{\"bigg_id\":\"[M]_OAA_c\",\"coefficient\":-1},{\"bigg_id\":\"[M]_PEP_c\",\"coefficient\":1},{\"bigg_id\":\"[M]_Pi_c\",\"coefficient\":-1}],\"segments\":{\"48\":{\"from_node_id\":\"52\",\"to_node_id\":\"53\",\"b1\":null,\"b2\":null},\"49\":{\"from_node_id\":\"54\",\"to_node_id\":\"53\",\"b1\":null,\"b2\":null},\"50\":{\"from_node_id\":\"54\",\"to_node_id\":\"44\",\"b1\":{\"x\":1404.1141737571454,\"y\":10.721262307582037},\"b2\":{\"x\":1417.7417602539062,\"y\":29.9779634475708}},\"51\":{\"from_node_id\":\"52\",\"to_node_id\":\"55\",\"b1\":{\"x\":1285.7354632437239,\"y\":214.6221250124529},\"b2\":{\"x\":1284.9165649414062,\"y\":216.66662979125977}},\"52\":{\"from_node_id\":\"54\",\"to_node_id\":\"56\",\"b1\":{\"x\":1320.831744884119,\"y\":173.91463554749566},\"b2\":{\"x\":1338.1442260742188,\"y\":174.44183349609375}}}},\"11\":{\"name\":\"Mal dehydrogenase\",\"bigg_id\":\"[M]_MalDH1_c\",\"reversibility\":true,\"label_x\":1297.1358032226562,\"label_y\":550.7036323547363,\"gene_reaction_rule\":\"\",\"genes\":[],\"metabolites\":[{\"bigg_id\":\"[M]_H_c\",\"coefficient\":1},{\"bigg_id\":\"[M]_Mal_c\",\"coefficient\":-1},{\"bigg_id\":\"[M]_NADH_c\",\"coefficient\":1},{\"bigg_id\":\"[M]_NAD_c\",\"coefficient\":-1},{\"bigg_id\":\"[M]_OAA_c\",\"coefficient\":1}],\"segments\":{\"54\":{\"from_node_id\":\"58\",\"to_node_id\":\"59\",\"b1\":null,\"b2\":null},\"55\":{\"from_node_id\":\"60\",\"to_node_id\":\"59\",\"b1\":null,\"b2\":null},\"57\":{\"from_node_id\":\"58\",\"to_node_id\":\"62\",\"b1\":{\"x\":1287.6666870117188,\"y\":600.3332710266113},\"b2\":{\"x\":1288.2583618164062,\"y\":655.1749458312988}},\"60\":{\"from_node_id\":\"60\",\"to_node_id\":\"55\",\"b1\":{\"x\":1287.6666870117188,\"y\":476.3332710266113},\"b2\":{\"x\":1287.6666870117188,\"y\":422.0832710266113}}}},\"12\":{\"name\":\"Dicarboxylate transporter\",\"bigg_id\":\"[M]_Tr_DIT1_OAA\",\"reversibility\":true,\"label_x\":976.897114103185,\"label_y\":328.4692601131612,\"gene_reaction_rule\":\"\",\"genes\":[],\"metabolites\":[{\"bigg_id\":\"[M]_Mal_c\",\"coefficient\":1},{\"bigg_id\":\"[M]_Mal_h\",\"coefficient\":-1},{\"bigg_id\":\"[M]_OAA_c\",\"coefficient\":-1},{\"bigg_id\":\"[M]_OAA_h\",\"coefficient\":1}],\"segments\":{\"61\":{\"from_node_id\":\"65\",\"to_node_id\":\"66\",\"b1\":null,\"b2\":null},\"62\":{\"from_node_id\":\"67\",\"to_node_id\":\"66\",\"b1\":null,\"b2\":null},\"63\":{\"from_node_id\":\"67\",\"to_node_id\":\"62\",\"b1\":{\"x\":1104.434084619332,\"y\":597.4528029043886},\"b2\":{\"x\":1210.3419189453125,\"y\":713.5545539855957}},\"64\":{\"from_node_id\":\"65\",\"to_node_id\":\"69\",\"b1\":{\"x\":1104.913831981156,\"y\":469.4537019604029},\"b2\":{\"x\":1007.6513479511395,\"y\":367.39463617939714}},\"65\":{\"from_node_id\":\"65\",\"to_node_id\":\"55\",\"b1\":{\"x\":1104.8988398760982,\"y\":473.4536738649029},\"b2\":{\"x\":1228.9166870117188,\"y\":363.3332710266113}},\"66\":{\"from_node_id\":\"67\",\"to_node_id\":\"70\",\"b1\":{\"x\":1104.4190925142746,\"y\":601.4527748088888},\"b2\":{\"x\":1012.4505061616076,\"y\":721.8936963123499}}}},\"13\":{\"name\":\"Mal dehydrogenase\",\"bigg_id\":\"[M]_MalDH3_h\",\"reversibility\":true,\"label_x\":715.5418291225017,\"label_y\":581.5765275892197,\"gene_reaction_rule\":\"\",\"genes\":[],\"metabolites\":[{\"bigg_id\":\"[M]_H_h\",\"coefficient\":-1},{\"bigg_id\":\"[M]_Mal_h\",\"coefficient\":1},{\"bigg_id\":\"[M]_NADPH_h\",\"coefficient\":-1},{\"bigg_id\":\"[M]_NADP_h\",\"coefficient\":1},{\"bigg_id\":\"[M]_OAA_h\",\"coefficient\":-1}],\"segments\":{\"67\":{\"from_node_id\":\"71\",\"to_node_id\":\"72\",\"b1\":null,\"b2\":null},\"68\":{\"from_node_id\":\"73\",\"to_node_id\":\"72\",\"b1\":null,\"b2\":null},\"70\":{\"from_node_id\":\"73\",\"to_node_id\":\"69\",\"b1\":{\"x\":937.7782182826579,\"y\":475.74583911265717},\"b2\":{\"x\":936.4449052943767,\"y\":425.49583911265717}},\"73\":{\"from_node_id\":\"71\",\"to_node_id\":\"70\",\"b1\":{\"x\":937.7782182826579,\"y\":603.7458391126572},\"b2\":{\"x\":938.4449052943767,\"y\":670.3291521009385}}}},\"16\":{\"name\":\"Asp aminotransferase\",\"bigg_id\":\"[M]_AspAT2_c\",\"reversibility\":true,\"label_x\":3173.9678344726562,\"label_y\":554.1748847961426,\"gene_reaction_rule\":\"\",\"genes\":[],\"metabolites\":[{\"bigg_id\":\"[M]_Ala_c\",\"coefficient\":-1},{\"bigg_id\":\"[M]_Asp_c\",\"coefficient\":1},{\"bigg_id\":\"[M]_OAA_c\",\"coefficient\":-1},{\"bigg_id\":\"[M]_Pyr_c\",\"coefficient\":1}],\"segments\":{\"86\":{\"from_node_id\":\"90\",\"to_node_id\":\"91\",\"b1\":null,\"b2\":null},\"87\":{\"from_node_id\":\"92\",\"to_node_id\":\"91\",\"b1\":null,\"b2\":null},\"88\":{\"from_node_id\":\"90\",\"to_node_id\":\"93\",\"b1\":{\"x\":3158.9678344726562,\"y\":476.0020942687988},\"b2\":{\"x\":3335.6698608398438,\"y\":492.16301345825195}},\"89\":{\"from_node_id\":\"92\",\"to_node_id\":\"94\",\"b1\":{\"x\":3158.5728149414062,\"y\":604.8415718078613},\"b2\":{\"x\":3340.2542114257812,\"y\":610.641040802002}},\"90\":{\"from_node_id\":\"90\",\"to_node_id\":\"55\",\"b1\":{\"x\":3161.9219360351562,\"y\":367.7466926574707},\"b2\":{\"x\":1529.3112182617188,\"y\":361.81987380981445}},\"91\":{\"from_node_id\":\"92\",\"to_node_id\":\"95\",\"b1\":{\"x\":3158.5728149414062,\"y\":608.8415718078613},\"b2\":{\"x\":2989.7009887695312,\"y\":612.0880928039551}}}},\"17\":{\"name\":\"PEP/Pi translocator\",\"bigg_id\":\"[M]_Tr_PPT\",\"reversibility\":true,\"label_x\":1042.2079467773438,\"label_y\":94.60987854003909,\"gene_reaction_rule\":\"\",\"genes\":[],\"metabolites\":[{\"bigg_id\":\"[M]_H_c\",\"coefficient\":-1},{\"bigg_id\":\"[M]_H_h\",\"coefficient\":1},{\"bigg_id\":\"[M]_PEP_c\",\"coefficient\":-1},{\"bigg_id\":\"[M]_PEP_h\",\"coefficient\":1},{\"bigg_id\":\"[M]_Pi_c\",\"coefficient\":1},{\"bigg_id\":\"[M]_Pi_h\",\"coefficient\":-1}],\"segments\":{\"92\":{\"from_node_id\":\"96\",\"to_node_id\":\"97\",\"b1\":null,\"b2\":null},\"93\":{\"from_node_id\":\"98\",\"to_node_id\":\"97\",\"b1\":null,\"b2\":null},\"96\":{\"from_node_id\":\"96\",\"to_node_id\":\"56\",\"b1\":{\"x\":1175.9999389648438,\"y\":128.66659545898438},\"b2\":{\"x\":1230.2499389648438,\"y\":128.66659545898438}},\"97\":{\"from_node_id\":\"98\",\"to_node_id\":\"101\",\"b1\":{\"x\":1051.9999389648438,\"y\":128.6665954589844},\"b2\":{\"x\":997.7499389648438,\"y\":128.6665954589844}}}},\"18\":{\"name\":\"Pyr/H+ translocator\",\"bigg_id\":\"[M]_Tr_Pyr_H_hc\",\"reversibility\":true,\"label_x\":1003.2914428710938,\"label_y\":807.9956245422363,\"gene_reaction_rule\":\"\",\"genes\":[],\"metabolites\":[{\"bigg_id\":\"[M]_H_c\",\"coefficient\":-1},{\"bigg_id\":\"[M]_H_h\",\"coefficient\":1},{\"bigg_id\":\"[M]_Pyr_c\",\"coefficient\":-1},{\"bigg_id\":\"[M]_Pyr_h\",\"coefficient\":1}],\"segments\":{\"100\":{\"from_node_id\":\"104\",\"to_node_id\":\"105\",\"b1\":null,\"b2\":null},\"101\":{\"from_node_id\":\"106\",\"to_node_id\":\"105\",\"b1\":null,\"b2\":null},\"104\":{\"from_node_id\":\"104\",\"to_node_id\":\"95\",\"b1\":{\"x\":2911.2495727539062,\"y\":838.5020942687988},\"b2\":{\"x\":2909.8539428710938,\"y\":840.5639228820801}},\"105\":{\"from_node_id\":\"106\",\"to_node_id\":\"109\",\"b1\":{\"x\":1052.7053833007812,\"y\":842.0523262023926},\"b2\":{\"x\":998.4553833007812,\"y\":842.0523262023926}}}},\"19\":{\"name\":\"Pyr phosphate dikinase\",\"bigg_id\":\"[M]_PyrPiDK_h\",\"reversibility\":true,\"label_x\":529.501953125,\"label_y\":493.18254470825195,\"gene_reaction_rule\":\"\",\"genes\":[],\"metabolites\":[{\"bigg_id\":\"[M]_AMP_h\",\"coefficient\":1},{\"bigg_id\":\"[M]_ATP_h\",\"coefficient\":-1},{\"bigg_id\":\"[M]_H_h\",\"coefficient\":2},{\"bigg_id\":\"[M]_PEP_h\",\"coefficient\":1},{\"bigg_id\":\"[M]_PPi_h\",\"coefficient\":1},{\"bigg_id\":\"[M]_Pi_h\",\"coefficient\":-1},{\"bigg_id\":\"[M]_Pyr_h\",\"coefficient\":-1}],\"segments\":{\"106\":{\"from_node_id\":\"110\",\"to_node_id\":\"111\",\"b1\":null,\"b2\":null},\"107\":{\"from_node_id\":\"112\",\"to_node_id\":\"111\",\"b1\":null,\"b2\":null},\"111\":{\"from_node_id\":\"112\",\"to_node_id\":\"101\",\"b1\":{\"x\":773.6394687410274,\"y\":129.17727754133807},\"b2\":{\"x\":774.4884643554688,\"y\":129.04831314086914}},\"114\":{\"from_node_id\":\"110\",\"to_node_id\":\"109\",\"b1\":{\"x\":770.5639003995976,\"y\":845.4735327003611},\"b2\":{\"x\":746.6383666992188,\"y\":848.5609931945801}}}},\"20\":{\"name\":\"GCA/GCEA shuffle\",\"bigg_id\":\"[M]_Tr_GCA1\",\"reversibility\":true,\"label_x\":-347.523193359375,\"label_y\":-575.9166297912595,\"gene_reaction_rule\":\"\",\"genes\":[],\"metabolites\":[{\"bigg_id\":\"[M]_GCA_c\",\"coefficient\":1},{\"bigg_id\":\"[M]_GCA_h\",\"coefficient\":-1}],\"segments\":{\"115\":{\"from_node_id\":\"119\",\"to_node_id\":\"120\",\"b1\":null,\"b2\":null},\"116\":{\"from_node_id\":\"121\",\"to_node_id\":\"120\",\"b1\":null,\"b2\":null},\"117\":{\"from_node_id\":\"121\",\"to_node_id\":\"122\",\"b1\":{\"x\":-334.7345733642578,\"y\":-547.0999336242674},\"b2\":{\"x\":-391.3478546142578,\"y\":-547.0999336242674}},\"118\":{\"from_node_id\":\"119\",\"to_node_id\":\"37\",\"b1\":{\"x\":-210.7345733642578,\"y\":-547.0999336242674},\"b2\":{\"x\":204.87741088867188,\"y\":-548.7187080383299}}}},\"21\":{\"name\":\"TP/Pi translocator\",\"bigg_id\":\"[M]_Tr_TPT1\",\"reversibility\":true,\"label_x\":-371.6349792480469,\"label_y\":-234.71285247802723,\"gene_reaction_rule\":\"\",\"genes\":[],\"metabolites\":[{\"bigg_id\":\"[M]_PGA_c\",\"coefficient\":1},{\"bigg_id\":\"[M]_PGA_h\",\"coefficient\":-1},{\"bigg_id\":\"[M]_Pi_c\",\"coefficient\":-1},{\"bigg_id\":\"[M]_Pi_h\",\"coefficient\":1}],\"segments\":{\"119\":{\"from_node_id\":\"123\",\"to_node_id\":\"124\",\"b1\":null,\"b2\":null},\"120\":{\"from_node_id\":\"125\",\"to_node_id\":\"124\",\"b1\":null,\"b2\":null},\"121\":{\"from_node_id\":\"125\",\"to_node_id\":\"126\",\"b1\":{\"x\":352.35125732421875,\"y\":-212.13581085205064},\"b2\":{\"x\":-391.97406005859375,\"y\":-210.95417022705064}},\"122\":{\"from_node_id\":\"123\",\"to_node_id\":\"25\",\"b1\":{\"x\":438.37672424316406,\"y\":-305.01483917236317},\"b2\":{\"x\":524.1022338867188,\"y\":-319.66468811035145}}}},\"22\":{\"name\":\"GCEA kinase\",\"bigg_id\":\"[M]_GCEAK_h\",\"reversibility\":false,\"label_x\":290.49908447265625,\"label_y\":-350.21156311035145,\"gene_reaction_rule\":\"\",\"genes\":[],\"metabolites\":[{\"bigg_id\":\"[M]_ADP_h\",\"coefficient\":1},{\"bigg_id\":\"[M]_ATP_h\",\"coefficient\":-1},{\"bigg_id\":\"[M]_GCEA_h\",\"coefficient\":-1},{\"bigg_id\":\"[M]_H_h\",\"coefficient\":1},{\"bigg_id\":\"[M]_PGA_h\",\"coefficient\":1}],\"segments\":{\"125\":{\"from_node_id\":\"129\",\"to_node_id\":\"130\",\"b1\":null,\"b2\":null},\"126\":{\"from_node_id\":\"131\",\"to_node_id\":\"130\",\"b1\":null,\"b2\":null},\"129\":{\"from_node_id\":\"129\",\"to_node_id\":\"134\",\"b1\":{\"x\":364.75848388671875,\"y\":-320.84629821777327},\"b2\":{\"x\":310.50848388671875,\"y\":-320.84629821777327}},\"131\":{\"from_node_id\":\"131\",\"to_node_id\":\"25\",\"b1\":{\"x\":488.75848388671875,\"y\":-320.8462982177733},\"b2\":{\"x\":524.1022338867188,\"y\":-319.66468811035145}}}},\"23\":{\"name\":\"PGA kinase\",\"bigg_id\":\"[M]_PGAK_h\",\"reversibility\":true,\"label_x\":382.4879913330078,\"label_y\":101.38884925842297,\"gene_reaction_rule\":\"\",\"genes\":[],\"metabolites\":[{\"bigg_id\":\"[M]_ADP_h\",\"coefficient\":1},{\"bigg_id\":\"[M]_ATP_h\",\"coefficient\":-1},{\"bigg_id\":\"[M]_DPGA_h\",\"coefficient\":1},{\"bigg_id\":\"[M]_PGA_h\",\"coefficient\":-1}],\"segments\":{\"132\":{\"from_node_id\":\"136\",\"to_node_id\":\"137\",\"b1\":null,\"b2\":null},\"133\":{\"from_node_id\":\"138\",\"to_node_id\":\"137\",\"b1\":null,\"b2\":null},\"136\":{\"from_node_id\":\"138\",\"to_node_id\":\"141\",\"b1\":{\"x\":356.34791564941406,\"y\":53.24074935913103},\"b2\":{\"x\":302.09791564941406,\"y\":53.24074935913103}},\"137\":{\"from_node_id\":\"136\",\"to_node_id\":\"25\",\"b1\":{\"x\":531.7277984619141,\"y\":57.19304656982433},\"b2\":{\"x\":409.4855651855469,\"y\":-321.6408538818358}}}},\"24\":{\"name\":\"GAP dehydrogenase\",\"bigg_id\":\"[M]_GAPDH1_h\",\"reversibility\":false,\"label_x\":18.347915649414062,\"label_y\":13.24074935913103,\"gene_reaction_rule\":\"\",\"genes\":[],\"metabolites\":[{\"bigg_id\":\"[M]_DPGA_h\",\"coefficient\":-1},{\"bigg_id\":\"[M]_GAP_h\",\"coefficient\":1},{\"bigg_id\":\"[M]_H_h\",\"coefficient\":-1},{\"bigg_id\":\"[M]_NADPH_h\",\"coefficient\":-1},{\"bigg_id\":\"[M]_NADP_h\",\"coefficient\":1},{\"bigg_id\":\"[M]_Pi_h\",\"coefficient\":1}],\"segments\":{\"138\":{\"from_node_id\":\"142\",\"to_node_id\":\"143\",\"b1\":null,\"b2\":null},\"139\":{\"from_node_id\":\"144\",\"to_node_id\":\"143\",\"b1\":null,\"b2\":null},\"140\":{\"from_node_id\":\"142\",\"to_node_id\":\"141\",\"b1\":{\"x\":130.34791564941406,\"y\":53.24074935913103},\"b2\":{\"x\":184.59791564941406,\"y\":53.24074935913103}},\"141\":{\"from_node_id\":\"144\",\"to_node_id\":\"145\",\"b1\":{\"x\":6.3479156494140625,\"y\":53.24074935913109},\"b2\":{\"x\":-47.90208435058594,\"y\":53.24074935913109}}}},\"26\":{\"name\":\"GCA/GCEA shuffle\",\"bigg_id\":\"[M]_Tr_GCEA1\",\"reversibility\":true,\"label_x\":-375.06988525390625,\"label_y\":-359.66465759277327,\"gene_reaction_rule\":\"\",\"genes\":[],\"metabolites\":[{\"bigg_id\":\"[M]_GCEA_c\",\"coefficient\":-1},{\"bigg_id\":\"[M]_GCEA_h\",\"coefficient\":1}],\"segments\":{\"152\":{\"from_node_id\":\"156\",\"to_node_id\":\"157\",\"b1\":null,\"b2\":null},\"153\":{\"from_node_id\":\"158\",\"to_node_id\":\"157\",\"b1\":null,\"b2\":null},\"154\":{\"from_node_id\":\"156\",\"to_node_id\":\"159\",\"b1\":{\"x\":-341.5047149658203,\"y\":-319.6646575927732},\"b2\":{\"x\":-391.35450744628906,\"y\":-319.6646575927732}},\"155\":{\"from_node_id\":\"158\",\"to_node_id\":\"134\",\"b1\":{\"x\":-217.5047149658203,\"y\":-319.66465759277327},\"b2\":{\"x\":193.00848388671875,\"y\":-320.84629821777327}}}},\"30\":{\"name\":\"[MB]_Mal_c\",\"bigg_id\":\"[MB]_Mal_c\",\"reversibility\":true,\"label_x\":1302.3710327148438,\"label_y\":1375.2666816711426,\"gene_reaction_rule\":\"\",\"genes\":[],\"metabolites\":[{\"bigg_id\":\"[B]_Mal_c\",\"coefficient\":1},{\"bigg_id\":\"[M]_Mal_c\",\"coefficient\":-1}],\"segments\":{\"170\":{\"from_node_id\":\"174\",\"to_node_id\":\"175\",\"b1\":null,\"b2\":null},\"171\":{\"from_node_id\":\"176\",\"to_node_id\":\"175\",\"b1\":null,\"b2\":null},\"172\":{\"from_node_id\":\"176\",\"to_node_id\":\"177\",\"b1\":{\"x\":1291.9885864257812,\"y\":1525.0464668273926},\"b2\":{\"x\":1291.9885864257812,\"y\":1579.2964668273926}},\"173\":{\"from_node_id\":\"174\",\"to_node_id\":\"62\",\"b1\":{\"x\":1288.8482055664062,\"y\":1065.025592803955},\"b2\":{\"x\":1288.2583618164062,\"y\":772.6749458312988}}}},\"31\":{\"name\":\"[MB]_Pyr_c\",\"bigg_id\":\"[MB]_Pyr_c\",\"reversibility\":true,\"label_x\":2810.7168579101562,\"label_y\":1380.08443069458,\"gene_reaction_rule\":\"\",\"genes\":[],\"metabolites\":[{\"bigg_id\":\"[B]_Pyr_c\",\"coefficient\":1},{\"bigg_id\":\"[M]_Pyr_c\",\"coefficient\":-1}],\"segments\":{\"174\":{\"from_node_id\":\"178\",\"to_node_id\":\"179\",\"b1\":null,\"b2\":null},\"175\":{\"from_node_id\":\"180\",\"to_node_id\":\"179\",\"b1\":null,\"b2\":null},\"176\":{\"from_node_id\":\"180\",\"to_node_id\":\"181\",\"b1\":{\"x\":2988.9026489257812,\"y\":1528.0994453430176},\"b2\":{\"x\":2988.9026489257812,\"y\":1582.3494453430176}},\"177\":{\"from_node_id\":\"178\",\"to_node_id\":\"95\",\"b1\":{\"x\":2985.7622680664062,\"y\":1068.07857131958},\"b2\":{\"x\":2989.3306274414062,\"y\":777.8069038391113}}}},\"32\":{\"name\":\"[MB]_Asp_c\",\"bigg_id\":\"[MB]_Asp_c\",\"reversibility\":true,\"label_x\":3139.0067749023438,\"label_y\":1384.6061897277832,\"gene_reaction_rule\":\"\",\"genes\":[],\"metabolites\":[{\"bigg_id\":\"[B]_Asp_c\",\"coefficient\":1},{\"bigg_id\":\"[M]_Asp_c\",\"coefficient\":-1}],\"segments\":{\"178\":{\"from_node_id\":\"182\",\"to_node_id\":\"183\",\"b1\":null,\"b2\":null},\"179\":{\"from_node_id\":\"184\",\"to_node_id\":\"183\",\"b1\":null,\"b2\":null},\"180\":{\"from_node_id\":\"184\",\"to_node_id\":\"185\",\"b1\":{\"x\":3339.7593383789062,\"y\":1526.9877815246582},\"b2\":{\"x\":3339.7593383789062,\"y\":1581.2377815246582}},\"181\":{\"from_node_id\":\"182\",\"to_node_id\":\"94\",\"b1\":{\"x\":3336.6189575195312,\"y\":1066.9669075012207},\"b2\":{\"x\":3338.1416625976562,\"y\":774.6162605285645}}}},\"33\":{\"name\":\"[MB]_Ala_c\",\"bigg_id\":\"[MB]_Ala_c\",\"reversibility\":true,\"label_x\":3400.4382934570312,\"label_y\":1386.5605964660645,\"gene_reaction_rule\":\"\",\"genes\":[],\"metabolites\":[{\"bigg_id\":\"[B]_Ala_c\",\"coefficient\":1},{\"bigg_id\":\"[M]_Ala_c\",\"coefficient\":-1}],\"segments\":{\"182\":{\"from_node_id\":\"186\",\"to_node_id\":\"187\",\"b1\":null,\"b2\":null},\"183\":{\"from_node_id\":\"188\",\"to_node_id\":\"187\",\"b1\":null,\"b2\":null},\"184\":{\"from_node_id\":\"188\",\"to_node_id\":\"189\",\"b1\":{\"x\":3587.2233276367188,\"y\":1522.486011505127},\"b2\":{\"x\":3587.2233276367188,\"y\":1576.736011505127}},\"185\":{\"from_node_id\":\"186\",\"to_node_id\":\"93\",\"b1\":{\"x\":3584.6729125976562,\"y\":347.3707160949707},\"b2\":{\"x\":3616.6533813476562,\"y\":372.2078437805176}}}},\"35\":{\"name\":\"[MB]_CO2_c\",\"bigg_id\":\"[MB]_CO2_c\",\"reversibility\":true,\"label_x\":3940.9288917200147,\"label_y\":1393.379332223467,\"gene_reaction_rule\":\"\",\"genes\":[],\"metabolites\":[{\"bigg_id\":\"[B]_CO2_ex_c\",\"coefficient\":1},{\"bigg_id\":\"[M]_CO2_c\",\"coefficient\":-1}],\"segments\":{\"190\":{\"from_node_id\":\"194\",\"to_node_id\":\"195\",\"b1\":null,\"b2\":null},\"191\":{\"from_node_id\":\"196\",\"to_node_id\":\"195\",\"b1\":null,\"b2\":null},\"192\":{\"from_node_id\":\"196\",\"to_node_id\":\"197\",\"b1\":{\"x\":3898.937036753044,\"y\":833.58201839673},\"b2\":{\"x\":3899.593821860068,\"y\":1573.9375504465897}},\"193\":{\"from_node_id\":\"194\",\"to_node_id\":\"12\",\"b1\":{\"x\":3907.367401960425,\"y\":-321.84941596151566},\"b2\":{\"x\":3908.0968627929688,\"y\":-318.7892150878906}}}},\"44\":{\"name\":\"[MB]_PEP_c\",\"bigg_id\":\"[MB]_PEP_c\",\"reversibility\":true,\"label_x\":2576.147402133158,\"label_y\":1381.696127612824,\"gene_reaction_rule\":\"\",\"genes\":[],\"metabolites\":[{\"bigg_id\":\"[B]_PEP_c\",\"coefficient\":1},{\"bigg_id\":\"[M]_PEP_c\",\"coefficient\":-1}],\"segments\":{\"226\":{\"from_node_id\":\"230\",\"to_node_id\":\"231\",\"b1\":null,\"b2\":null},\"227\":{\"from_node_id\":\"232\",\"to_node_id\":\"231\",\"b1\":null,\"b2\":null},\"228\":{\"from_node_id\":\"232\",\"to_node_id\":\"233\",\"b1\":{\"x\":2762.6847789940966,\"y\":1525.9061659803913},\"b2\":{\"x\":2762.091568220075,\"y\":1580.1529225744735}},\"229\":{\"from_node_id\":\"230\",\"to_node_id\":\"56\",\"b1\":{\"x\":2781.0395907019065,\"y\":194.5973715938901},\"b2\":{\"x\":1580.3357543945312,\"y\":129.1154022216797}}}},\"47\":{\"name\":\"TP isomerase\",\"bigg_id\":\"[M]_TPI_h\",\"reversibility\":true,\"label_x\":84.2252311706543,\"label_y\":244.16918563842796,\"gene_reaction_rule\":\"\",\"genes\":[],\"metabolites\":[{\"bigg_id\":\"[M]_DHAP_h\",\"coefficient\":1},{\"bigg_id\":\"[M]_GAP_h\",\"coefficient\":-1}],\"segments\":{\"238\":{\"from_node_id\":\"242\",\"to_node_id\":\"243\",\"b1\":null,\"b2\":null},\"239\":{\"from_node_id\":\"244\",\"to_node_id\":\"243\",\"b1\":null,\"b2\":null},\"240\":{\"from_node_id\":\"244\",\"to_node_id\":\"163\",\"b1\":{\"x\":69.2252311706543,\"y\":296.16918563842796},\"b2\":{\"x\":68.34518814086914,\"y\":351.2992515563967}},\"241\":{\"from_node_id\":\"242\",\"to_node_id\":\"145\",\"b1\":{\"x\":69.2252311706543,\"y\":172.16918563842796},\"b2\":{\"x\":67.9828872680664,\"y\":178.51836013793968}}}},\"48\":{\"name\":\"[MB]_GCA_c\",\"bigg_id\":\"[MB]_GCA_c\",\"reversibility\":true,\"label_x\":-1374.2220474737562,\"label_y\":1376.9941670999697,\"gene_reaction_rule\":\"\",\"genes\":[],\"metabolites\":[{\"bigg_id\":\"[B]_GCA_c\",\"coefficient\":1},{\"bigg_id\":\"[M]_GCA_c\",\"coefficient\":-1}],\"segments\":{\"242\":{\"from_node_id\":\"246\",\"to_node_id\":\"247\",\"b1\":null,\"b2\":null},\"243\":{\"from_node_id\":\"248\",\"to_node_id\":\"247\",\"b1\":null,\"b2\":null},\"244\":{\"from_node_id\":\"248\",\"to_node_id\":\"249\",\"b1\":{\"x\":-1387.8183642982244,\"y\":652.172380836736},\"b2\":{\"x\":-1390.524925455181,\"y\":1580.7339040990823}},\"245\":{\"from_node_id\":\"246\",\"to_node_id\":\"122\",\"b1\":{\"x\":-1389.980711118038,\"y\":-546.8529309141404},\"b2\":{\"x\":-1390.2105865478516,\"y\":-547.0999336242674}}}},\"49\":{\"name\":\"[MB]_GCEA_c\",\"bigg_id\":\"[MB]_GCEA_c\",\"reversibility\":true,\"label_x\":-1138.3766786094193,\"label_y\":1376.1304185812673,\"gene_reaction_rule\":\"\",\"genes\":[],\"metabolites\":[{\"bigg_id\":\"[B]_GCEA_c\",\"coefficient\":1},{\"bigg_id\":\"[M]_GCEA_c\",\"coefficient\":-1}],\"segments\":{\"246\":{\"from_node_id\":\"250\",\"to_node_id\":\"251\",\"b1\":null,\"b2\":null},\"247\":{\"from_node_id\":\"252\",\"to_node_id\":\"251\",\"b1\":null,\"b2\":null},\"248\":{\"from_node_id\":\"252\",\"to_node_id\":\"253\",\"b1\":{\"x\":-1150.256636205852,\"y\":637.3036848505197},\"b2\":{\"x\":-1154.2366134459926,\"y\":1575.7329112443192}},\"249\":{\"from_node_id\":\"250\",\"to_node_id\":\"159\",\"b1\":{\"x\":-1143.5799729661112,\"y\":-326.52996927001686},\"b2\":{\"x\":-1077.9855499267578,\"y\":-321.64079284667946}}}},\"50\":{\"name\":\"[MB]_PGA_c\",\"bigg_id\":\"[MB]_PGA_c\",\"reversibility\":true,\"label_x\":-855.9261168460391,\"label_y\":1378.117470796005,\"gene_reaction_rule\":\"\",\"genes\":[],\"metabolites\":[{\"bigg_id\":\"[B]_PGA_c\",\"coefficient\":1},{\"bigg_id\":\"[M]_PGA_c\",\"coefficient\":-1}],\"segments\":{\"250\":{\"from_node_id\":\"254\",\"to_node_id\":\"255\",\"b1\":null,\"b2\":null},\"251\":{\"from_node_id\":\"256\",\"to_node_id\":\"255\",\"b1\":null,\"b2\":null},\"252\":{\"from_node_id\":\"256\",\"to_node_id\":\"257\",\"b1\":{\"x\":-867.5721444672148,\"y\":644.2197831225286},\"b2\":{\"x\":-870.6207407792982,\"y\":1578.7092087519868}},\"253\":{\"from_node_id\":\"254\",\"to_node_id\":\"126\",\"b1\":{\"x\":-837.3343494787698,\"y\":-207.00185508032348},\"b2\":{\"x\":-837.514892578125,\"y\":-208.9780197143553}}}},\"54\":{\"name\":\"TP/Pi translocator\",\"bigg_id\":\"[B]_Tr_TPT1\",\"reversibility\":true,\"label_x\":1997.1548764170238,\"label_y\":3742.6018417623773,\"gene_reaction_rule\":\"\",\"genes\":[],\"metabolites\":[{\"bigg_id\":\"[B]_PGA_c\",\"coefficient\":1},{\"bigg_id\":\"[B]_PGA_h\",\"coefficient\":-1},{\"bigg_id\":\"[B]_Pi_c\",\"coefficient\":-1},{\"bigg_id\":\"[B]_Pi_h\",\"coefficient\":1}],\"segments\":{\"266\":{\"from_node_id\":\"270\",\"to_node_id\":\"271\",\"b1\":null,\"b2\":null},\"267\":{\"from_node_id\":\"272\",\"to_node_id\":\"271\",\"b1\":null,\"b2\":null},\"268\":{\"from_node_id\":\"272\",\"to_node_id\":\"257\",\"b1\":{\"x\":-866.1672589777204,\"y\":3916.524747453401},\"b2\":{\"x\":-873.5668337880543,\"y\":3922.4880722311273}},\"269\":{\"from_node_id\":\"270\",\"to_node_id\":\"483\",\"b1\":{\"x\":2200.7454533278024,\"y\":2989.124196422676},\"b2\":{\"x\":2152.25259370218,\"y\":3050.1619003561273}}}},\"55\":{\"name\":\"TP/Pi translocator\",\"bigg_id\":\"[M]_Tr_TPT3\",\"reversibility\":true,\"label_x\":83.78190231323242,\"label_y\":598.1180992126467,\"gene_reaction_rule\":\"\",\"genes\":[],\"metabolites\":[{\"bigg_id\":\"[M]_DHAP_c\",\"coefficient\":1},{\"bigg_id\":\"[M]_DHAP_h\",\"coefficient\":-1},{\"bigg_id\":\"[M]_Pi_c\",\"coefficient\":-1},{\"bigg_id\":\"[M]_Pi_h\",\"coefficient\":1}],\"segments\":{\"272\":{\"from_node_id\":\"276\",\"to_node_id\":\"277\",\"b1\":null,\"b2\":null},\"273\":{\"from_node_id\":\"278\",\"to_node_id\":\"277\",\"b1\":null,\"b2\":null},\"274\":{\"from_node_id\":\"278\",\"to_node_id\":\"279\",\"b1\":{\"x\":68.78190231323242,\"y\":650.1180992126467},\"b2\":{\"x\":68.78190231323242,\"y\":704.3680992126467}},\"275\":{\"from_node_id\":\"276\",\"to_node_id\":\"163\",\"b1\":{\"x\":68.78190231323242,\"y\":526.1180992126467},\"b2\":{\"x\":68.78190231323242,\"y\":471.8680992126467}}}},\"56\":{\"name\":\"[MB]_DHAP_c\",\"bigg_id\":\"[MB]_DHAP_c\",\"reversibility\":true,\"label_x\":82.38616561889648,\"label_y\":1377.5314292907717,\"gene_reaction_rule\":\"\",\"genes\":[],\"metabolites\":[{\"bigg_id\":\"[B]_DHAP_c\",\"coefficient\":1},{\"bigg_id\":\"[M]_DHAP_c\",\"coefficient\":-1}],\"segments\":{\"278\":{\"from_node_id\":\"282\",\"to_node_id\":\"283\",\"b1\":null,\"b2\":null},\"279\":{\"from_node_id\":\"284\",\"to_node_id\":\"283\",\"b1\":null,\"b2\":null},\"280\":{\"from_node_id\":\"284\",\"to_node_id\":\"285\",\"b1\":{\"x\":68.78190231323242,\"y\":1115.5127525329592},\"b2\":{\"x\":69.94613265991211,\"y\":1578.9011802673342}},\"281\":{\"from_node_id\":\"282\",\"to_node_id\":\"279\",\"b1\":{\"x\":68.78190231323242,\"y\":991.5127525329592},\"b2\":{\"x\":68.78190231323242,\"y\":821.8680992126467}}}},\"57\":{\"name\":\"TP/Pi translocator\",\"bigg_id\":\"[M]_Tr_TPT2\",\"reversibility\":true,\"label_x\":-311.00469970703125,\"label_y\":609.7568778991701,\"gene_reaction_rule\":\"\",\"genes\":[],\"metabolites\":[{\"bigg_id\":\"[M]_GAP_c\",\"coefficient\":1},{\"bigg_id\":\"[M]_GAP_h\",\"coefficient\":-1},{\"bigg_id\":\"[M]_Pi_c\",\"coefficient\":-1},{\"bigg_id\":\"[M]_Pi_h\",\"coefficient\":1}],\"segments\":{\"282\":{\"from_node_id\":\"286\",\"to_node_id\":\"287\",\"b1\":null,\"b2\":null},\"283\":{\"from_node_id\":\"288\",\"to_node_id\":\"287\",\"b1\":null,\"b2\":null},\"284\":{\"from_node_id\":\"288\",\"to_node_id\":\"289\",\"b1\":{\"x\":-106.65208435058594,\"y\":290.2407493591311},\"b2\":{\"x\":-112.58052825927734,\"y\":700.1976585388186}},\"285\":{\"from_node_id\":\"286\",\"to_node_id\":\"145\",\"b1\":{\"x\":-106.65208435058594,\"y\":166.2407493591311},\"b2\":{\"x\":-104.5730972290039,\"y\":114.06973648071312}}}},\"58\":{\"name\":\"[MB]_GAP_c\",\"bigg_id\":\"[MB]_GAP_c\",\"reversibility\":true,\"label_x\":-319.41070461273193,\"label_y\":1379.8894920349123,\"gene_reaction_rule\":\"\",\"genes\":[],\"metabolites\":[{\"bigg_id\":\"[B]_GAP_c\",\"coefficient\":1},{\"bigg_id\":\"[M]_GAP_c\",\"coefficient\":-1}],\"segments\":{\"288\":{\"from_node_id\":\"292\",\"to_node_id\":\"293\",\"b1\":null,\"b2\":null},\"289\":{\"from_node_id\":\"294\",\"to_node_id\":\"293\",\"b1\":null,\"b2\":null},\"290\":{\"from_node_id\":\"294\",\"to_node_id\":\"295\",\"b1\":{\"x\":-112.58052825927734,\"y\":1111.342311859131},\"b2\":{\"x\":-111.41629791259766,\"y\":1574.730739593506}},\"291\":{\"from_node_id\":\"292\",\"to_node_id\":\"289\",\"b1\":{\"x\":-112.58052825927734,\"y\":987.3423118591311},\"b2\":{\"x\":-112.58052825927734,\"y\":817.6976585388186}}}},\"59\":{\"name\":\"PGA kinase\",\"bigg_id\":\"[B]_PGAK_c\",\"reversibility\":true,\"label_x\":-771.5928347646168,\"label_y\":1597.458531215502,\"gene_reaction_rule\":\"\",\"genes\":[],\"metabolites\":[{\"bigg_id\":\"[B]_ADP_c\",\"coefficient\":1},{\"bigg_id\":\"[B]_ATP_c\",\"coefficient\":-1},{\"bigg_id\":\"[B]_DPGA_c\",\"coefficient\":1},{\"bigg_id\":\"[B]_PGA_c\",\"coefficient\":-1}],\"segments\":{\"292\":{\"from_node_id\":\"296\",\"to_node_id\":\"297\",\"b1\":null,\"b2\":null},\"293\":{\"from_node_id\":\"298\",\"to_node_id\":\"297\",\"b1\":null,\"b2\":null},\"296\":{\"from_node_id\":\"298\",\"to_node_id\":\"301\",\"b1\":{\"x\":-633.9028933583668,\"y\":1637.458531215502},\"b2\":{\"x\":-579.6528933583668,\"y\":1637.458531215502}},\"297\":{\"from_node_id\":\"296\",\"to_node_id\":\"257\",\"b1\":{\"x\":-757.9028933583668,\"y\":1637.458531215502},\"b2\":{\"x\":-812.1528933583668,\"y\":1637.458531215502}}}},\"60\":{\"name\":\"GAP dehydrogenase\",\"bigg_id\":\"[B]_GAPDH2_c\",\"reversibility\":true,\"label_x\":-415.6643984853199,\"label_y\":1599.4347275045645,\"gene_reaction_rule\":\"\",\"genes\":[],\"metabolites\":[{\"bigg_id\":\"[B]_DPGA_c\",\"coefficient\":1},{\"bigg_id\":\"[B]_GAP_c\",\"coefficient\":-1},{\"bigg_id\":\"[B]_H_c\",\"coefficient\":1},{\"bigg_id\":\"[B]_NADH_c\",\"coefficient\":1},{\"bigg_id\":\"[B]_NAD_c\",\"coefficient\":-1},{\"bigg_id\":\"[B]_Pi_c\",\"coefficient\":-1}],\"segments\":{\"298\":{\"from_node_id\":\"302\",\"to_node_id\":\"303\",\"b1\":null,\"b2\":null},\"299\":{\"from_node_id\":\"304\",\"to_node_id\":\"303\",\"b1\":null,\"b2\":null},\"300\":{\"from_node_id\":\"304\",\"to_node_id\":\"301\",\"b1\":{\"x\":-407.9028933583668,\"y\":1637.458531215502},\"b2\":{\"x\":-462.1528933583668,\"y\":1637.458531215502}},\"301\":{\"from_node_id\":\"302\",\"to_node_id\":\"295\",\"b1\":{\"x\":-283.9028933583668,\"y\":1637.458531215502},\"b2\":{\"x\":-172.3445513783863,\"y\":1635.4823349264395}}}},\"61\":{\"name\":\"FBP aldolase\",\"bigg_id\":\"[B]_FBPA_c\",\"reversibility\":true,\"label_x\":-7.48956298828125,\"label_y\":1818.480739593506,\"gene_reaction_rule\":\"\",\"genes\":[],\"metabolites\":[{\"bigg_id\":\"[B]_DHAP_c\",\"coefficient\":-1},{\"bigg_id\":\"[B]_FBP_c\",\"coefficient\":1},{\"bigg_id\":\"[B]_GAP_c\",\"coefficient\":-1}],\"segments\":{\"306\":{\"from_node_id\":\"310\",\"to_node_id\":\"311\",\"b1\":null,\"b2\":null},\"307\":{\"from_node_id\":\"312\",\"to_node_id\":\"311\",\"b1\":null,\"b2\":null},\"308\":{\"from_node_id\":\"310\",\"to_node_id\":\"285\",\"b1\":{\"x\":-22.48956298828125,\"y\":1742.480739593506},\"b2\":{\"x\":70.1748161315918,\"y\":1697.707790374756}},\"309\":{\"from_node_id\":\"312\",\"to_node_id\":\"314\",\"b1\":{\"x\":-22.48956298828125,\"y\":1870.480739593506},\"b2\":{\"x\":-21.10772132873535,\"y\":1924.730739593506}},\"310\":{\"from_node_id\":\"310\",\"to_node_id\":\"295\",\"b1\":{\"x\":-22.48956298828125,\"y\":1746.480739593506},\"b2\":{\"x\":-111.41629791259766,\"y\":1692.230739593506}}}},\"66\":{\"name\":\"G6P isomerase\",\"bigg_id\":\"[B]_PGI_c\",\"reversibility\":true,\"label_x\":82.03338623046875,\"label_y\":1938.676296234131,\"gene_reaction_rule\":\"\",\"genes\":[],\"metabolites\":[{\"bigg_id\":\"[B]_F6P_c\",\"coefficient\":-1},{\"bigg_id\":\"[B]_G6P_c\",\"coefficient\":1}],\"segments\":{\"333\":{\"from_node_id\":\"337\",\"to_node_id\":\"338\",\"b1\":null,\"b2\":null},\"334\":{\"from_node_id\":\"339\",\"to_node_id\":\"338\",\"b1\":null,\"b2\":null},\"335\":{\"from_node_id\":\"337\",\"to_node_id\":\"318\",\"b1\":{\"x\":70.03338623046875,\"y\":1978.676296234131},\"b2\":{\"x\":87.9547643661499,\"y\":1982.0248069763184}},\"336\":{\"from_node_id\":\"339\",\"to_node_id\":\"340\",\"b1\":{\"x\":194.03338623046875,\"y\":1978.676296234131},\"b2\":{\"x\":248.28338623046875,\"y\":1978.676296234131}}}},\"67\":{\"name\":\"Phosphoglucomutase\",\"bigg_id\":\"[B]_PGM_c\",\"reversibility\":true,\"label_x\":432.03338623046875,\"label_y\":1938.676296234131,\"gene_reaction_rule\":\"\",\"genes\":[],\"metabolites\":[{\"bigg_id\":\"[B]_G1P_c\",\"coefficient\":1},{\"bigg_id\":\"[B]_G6P_c\",\"coefficient\":-1}],\"segments\":{\"337\":{\"from_node_id\":\"341\",\"to_node_id\":\"342\",\"b1\":null,\"b2\":null},\"338\":{\"from_node_id\":\"343\",\"to_node_id\":\"342\",\"b1\":null,\"b2\":null},\"339\":{\"from_node_id\":\"343\",\"to_node_id\":\"344\",\"b1\":{\"x\":544.0333862304688,\"y\":1978.676296234131},\"b2\":{\"x\":598.2833862304688,\"y\":1978.676296234131}},\"340\":{\"from_node_id\":\"341\",\"to_node_id\":\"340\",\"b1\":{\"x\":420.03338623046875,\"y\":1978.676296234131},\"b2\":{\"x\":365.78338623046875,\"y\":1978.676296234131}}}},\"68\":{\"name\":\"UDPG pyrophosphorylase\",\"bigg_id\":\"[B]_UGPase_c\",\"reversibility\":true,\"label_x\":428.06744384765625,\"label_y\":2052.2481956481934,\"gene_reaction_rule\":\"\",\"genes\":[],\"metabolites\":[{\"bigg_id\":\"[B]_G1P_c\",\"coefficient\":-1},{\"bigg_id\":\"[B]_H_c\",\"coefficient\":-1},{\"bigg_id\":\"[B]_PPi_c\",\"coefficient\":1},{\"bigg_id\":\"[B]_UDPG_c\",\"coefficient\":1},{\"bigg_id\":\"[B]_UTP_c\",\"coefficient\":-1}],\"segments\":{\"341\":{\"from_node_id\":\"345\",\"to_node_id\":\"346\",\"b1\":null,\"b2\":null},\"342\":{\"from_node_id\":\"347\",\"to_node_id\":\"346\",\"b1\":null,\"b2\":null},\"343\":{\"from_node_id\":\"345\",\"to_node_id\":\"344\",\"b1\":{\"x\":657.4109830028668,\"y\":2073.9330407074394},\"b2\":{\"x\":656.1581420898438,\"y\":2081.8375511169434}},\"346\":{\"from_node_id\":\"347\",\"to_node_id\":\"356\",\"b1\":{\"x\":525.4723156432576,\"y\":2074.4116236377645},\"b2\":{\"x\":324.14702320098877,\"y\":2074.116970062256}}}},\"69\":{\"name\":\"S6P synthase\",\"bigg_id\":\"[B]_S6PS_c\",\"reversibility\":false,\"label_x\":69.22503662109375,\"label_y\":2195.1368675231934,\"gene_reaction_rule\":\"\",\"genes\":[],\"metabolites\":[{\"bigg_id\":\"[B]_F6P_c\",\"coefficient\":-1},{\"bigg_id\":\"[B]_S6P_c\",\"coefficient\":1},{\"bigg_id\":\"[B]_UDPG_c\",\"coefficient\":-1},{\"bigg_id\":\"[B]_UDP_c\",\"coefficient\":1}],\"segments\":{\"348\":{\"from_node_id\":\"352\",\"to_node_id\":\"353\",\"b1\":null,\"b2\":null},\"349\":{\"from_node_id\":\"354\",\"to_node_id\":\"353\",\"b1\":null,\"b2\":null},\"350\":{\"from_node_id\":\"352\",\"to_node_id\":\"318\",\"b1\":{\"x\":91.77105712890625,\"y\":2152.5775413513184},\"b2\":{\"x\":40.527180671691895,\"y\":2155.926052093506}},\"351\":{\"from_node_id\":\"354\",\"to_node_id\":\"355\",\"b1\":{\"x\":215.77105712890625,\"y\":2152.5775413513184},\"b2\":{\"x\":270.02105712890625,\"y\":2152.5775413513184}},\"352\":{\"from_node_id\":\"352\",\"to_node_id\":\"356\",\"b1\":{\"x\":135.78417205810547,\"y\":2060.064479827881},\"b2\":{\"x\":124.75214767456055,\"y\":2071.9896507263184}}}},\"70\":{\"name\":\"S6P phosphorylase\",\"bigg_id\":\"[B]_S6PPh_c\",\"reversibility\":false,\"label_x\":405.61407470703125,\"label_y\":2134.6532249450684,\"gene_reaction_rule\":\"\",\"genes\":[],\"metabolites\":[{\"bigg_id\":\"[B]_H2O_c\",\"coefficient\":-1},{\"bigg_id\":\"[B]_Pi_c\",\"coefficient\":1},{\"bigg_id\":\"[B]_S6P_c\",\"coefficient\":-1},{\"bigg_id\":\"[B]_Suc_c\",\"coefficient\":1}],\"segments\":{\"354\":{\"from_node_id\":\"358\",\"to_node_id\":\"359\",\"b1\":null,\"b2\":null},\"355\":{\"from_node_id\":\"360\",\"to_node_id\":\"359\",\"b1\":null,\"b2\":null},\"358\":{\"from_node_id\":\"358\",\"to_node_id\":\"355\",\"b1\":{\"x\":441.77105712890625,\"y\":2152.5775413513184},\"b2\":{\"x\":387.52105712890625,\"y\":2152.5775413513184}},\"359\":{\"from_node_id\":\"360\",\"to_node_id\":\"363\",\"b1\":{\"x\":565.7710571289062,\"y\":2152.5775413513184},\"b2\":{\"x\":710.3604125976562,\"y\":2151.631130218506}}}},\"76\":{\"name\":\"Mal dehydrogenase\",\"bigg_id\":\"[B]_MalDH1_c\",\"reversibility\":true,\"label_x\":1324.5901489257812,\"label_y\":1601.498249053955,\"gene_reaction_rule\":\"\",\"genes\":[],\"metabolites\":[{\"bigg_id\":\"[B]_H_c\",\"coefficient\":1},{\"bigg_id\":\"[B]_Mal_c\",\"coefficient\":-1},{\"bigg_id\":\"[B]_NADH_c\",\"coefficient\":1},{\"bigg_id\":\"[B]_NAD_c\",\"coefficient\":-1},{\"bigg_id\":\"[B]_OAA_c\",\"coefficient\":1}],\"segments\":{\"392\":{\"from_node_id\":\"396\",\"to_node_id\":\"397\",\"b1\":null,\"b2\":null},\"393\":{\"from_node_id\":\"398\",\"to_node_id\":\"397\",\"b1\":null,\"b2\":null},\"395\":{\"from_node_id\":\"396\",\"to_node_id\":\"177\",\"b1\":{\"x\":1404.9885864257812,\"y\":1638.0464668273926},\"b2\":{\"x\":1350.7385864257812,\"y\":1638.0464668273926}},\"398\":{\"from_node_id\":\"398\",\"to_node_id\":\"402\",\"b1\":{\"x\":1528.9885864257812,\"y\":1638.0464668273926},\"b2\":{\"x\":1525.0484008789062,\"y\":1637.7168769836426}}}},\"83\":{\"name\":\"PEP carboxylase\",\"bigg_id\":\"[B]_PEPC1_c\",\"reversibility\":false,\"label_x\":2349.4317016601562,\"label_y\":1672.566608428955,\"gene_reaction_rule\":\"\",\"genes\":[],\"metabolites\":[{\"bigg_id\":\"[B]_ADP_c\",\"coefficient\":1},{\"bigg_id\":\"[B]_ATP_c\",\"coefficient\":-1},{\"bigg_id\":\"[B]_CO2_c\",\"coefficient\":1},{\"bigg_id\":\"[B]_OAA_c\",\"coefficient\":-1},{\"bigg_id\":\"[B]_PEP_c\",\"coefficient\":1}],\"segments\":{\"437\":{\"from_node_id\":\"442\",\"to_node_id\":\"443\",\"b1\":null,\"b2\":null},\"438\":{\"from_node_id\":\"444\",\"to_node_id\":\"443\",\"b1\":null,\"b2\":null},\"441\":{\"from_node_id\":\"444\",\"to_node_id\":\"447\",\"b1\":{\"x\":2489.4094848632812,\"y\":1636.402057647705},\"b2\":{\"x\":2478.2905883789062,\"y\":1544.5144844055176}},\"442\":{\"from_node_id\":\"442\",\"to_node_id\":\"402\",\"b1\":{\"x\":2361.4094848632812,\"y\":1636.402057647705},\"b2\":{\"x\":1641.2337036132812,\"y\":1636.402057647705}},\"443\":{\"from_node_id\":\"444\",\"to_node_id\":\"233\",\"b1\":{\"x\":2485.4094848632812,\"y\":1636.402057647705},\"b2\":{\"x\":2700.2982788085938,\"y\":1640.0635566711426}}}},\"84\":{\"name\":\"Asp aminotransferase\",\"bigg_id\":\"[B]_AspAT2_c\",\"reversibility\":true,\"label_x\":3208.8386840820312,\"label_y\":1805.8104133605957,\"gene_reaction_rule\":\"\",\"genes\":[],\"metabolites\":[{\"bigg_id\":\"[B]_Ala_c\",\"coefficient\":-1},{\"bigg_id\":\"[B]_Asp_c\",\"coefficient\":1},{\"bigg_id\":\"[B]_OAA_c\",\"coefficient\":-1},{\"bigg_id\":\"[B]_Pyr_c\",\"coefficient\":1}],\"segments\":{\"444\":{\"from_node_id\":\"449\",\"to_node_id\":\"450\",\"b1\":null,\"b2\":null},\"445\":{\"from_node_id\":\"451\",\"to_node_id\":\"450\",\"b1\":null,\"b2\":null},\"446\":{\"from_node_id\":\"449\",\"to_node_id\":\"189\",\"b1\":{\"x\":3557.2874145507812,\"y\":1825.5853157043457},\"b2\":{\"x\":3511.8794555664062,\"y\":1862.2759895324707}},\"447\":{\"from_node_id\":\"451\",\"to_node_id\":\"185\",\"b1\":{\"x\":3180.1638793945312,\"y\":1751.8238410949707},\"b2\":{\"x\":3295.0317993164062,\"y\":1690.1729621887207}},\"448\":{\"from_node_id\":\"449\",\"to_node_id\":\"402\",\"b1\":{\"x\":2536.1941528320312,\"y\":1829.3939094543457},\"b2\":{\"x\":2119.7681274414062,\"y\":1859.5446662902832}},\"449\":{\"from_node_id\":\"451\",\"to_node_id\":\"181\",\"b1\":{\"x\":3180.1638793945312,\"y\":1747.8238410949707},\"b2\":{\"x\":3045.1724243164062,\"y\":1681.6682014465332}}}},\"87\":{\"name\":\"Mal dehydrogenase\",\"bigg_id\":\"[B]_MalDH4_h\",\"reversibility\":false,\"label_x\":2640.028564453125,\"label_y\":2712.239501953125,\"gene_reaction_rule\":\"\",\"genes\":[],\"metabolites\":[{\"bigg_id\":\"[B]_CO2_h\",\"coefficient\":1},{\"bigg_id\":\"[B]_Mal_h\",\"coefficient\":-1},{\"bigg_id\":\"[B]_NADPH_h\",\"coefficient\":1},{\"bigg_id\":\"[B]_NADP_h\",\"coefficient\":-1},{\"bigg_id\":\"[B]_Pyr_h\",\"coefficient\":1}],\"segments\":{\"464\":{\"from_node_id\":\"471\",\"to_node_id\":\"472\",\"b1\":null,\"b2\":null},\"465\":{\"from_node_id\":\"473\",\"to_node_id\":\"472\",\"b1\":null,\"b2\":null},\"466\":{\"from_node_id\":\"473\",\"to_node_id\":\"474\",\"b1\":{\"x\":2855.9520263671875,\"y\":2648.5093994140625},\"b2\":{\"x\":2877.4688110351562,\"y\":2680.49609375}},\"467\":{\"from_node_id\":\"471\",\"to_node_id\":\"468\",\"b1\":{\"x\":2727.9520263671875,\"y\":2648.5093994140625},\"b2\":{\"x\":2616.004638671875,\"y\":2644.2354736328125}},\"470\":{\"from_node_id\":\"473\",\"to_node_id\":\"470\",\"b1\":{\"x\":2851.9520263671875,\"y\":2648.5093994140625},\"b2\":{\"x\":2935.4591064453125,\"y\":2645.4207763671875}}}},\"89\":{\"name\":\"[B]_RBC_h_Ex\",\"bigg_id\":\"[B]_RBC_h_Ex\",\"reversibility\":false,\"label_x\":2635.234619140625,\"label_y\":3017.81982421875,\"gene_reaction_rule\":\"\",\"genes\":[],\"metabolites\":[{\"bigg_id\":\"[B]_CO2_ex_h\",\"coefficient\":-1},{\"bigg_id\":\"[B]_H2O_h\",\"coefficient\":-1},{\"bigg_id\":\"[B]_H_h\",\"coefficient\":2},{\"bigg_id\":\"[B]_PGA_h\",\"coefficient\":2},{\"bigg_id\":\"[B]_RuBP_h\",\"coefficient\":-1}],\"segments\":{\"478\":{\"from_node_id\":\"485\",\"to_node_id\":\"486\",\"b1\":null,\"b2\":null},\"479\":{\"from_node_id\":\"487\",\"to_node_id\":\"486\",\"b1\":null,\"b2\":null},\"480\":{\"from_node_id\":\"485\",\"to_node_id\":\"512\",\"b1\":{\"x\":2896.87060546875,\"y\":3048.09765625},\"b2\":{\"x\":3840.20556640625,\"y\":3052.8828125}},\"483\":{\"from_node_id\":\"487\",\"to_node_id\":\"483\",\"b1\":{\"x\":2772.87060546875,\"y\":3048.09765625},\"b2\":{\"x\":2471.5693359375,\"y\":3047.851318359375}},\"484\":{\"from_node_id\":\"485\",\"to_node_id\":\"491\",\"b1\":{\"x\":2900.87060546875,\"y\":3048.09765625},\"b2\":{\"x\":2944.5068359375,\"y\":3102.260498046875}}}},\"90\":{\"name\":\"RuBisCO\",\"bigg_id\":\"[B]_RBO_h\",\"reversibility\":false,\"label_x\":2756.391845703125,\"label_y\":3309.15869140625,\"gene_reaction_rule\":\"\",\"genes\":[],\"metabolites\":[{\"bigg_id\":\"[B]_H_h\",\"coefficient\":2},{\"bigg_id\":\"[B]_O2_h\",\"coefficient\":-1},{\"bigg_id\":\"[B]_PGA_h\",\"coefficient\":1},{\"bigg_id\":\"[B]_PGCA_h\",\"coefficient\":1},{\"bigg_id\":\"[B]_RuBP_h\",\"coefficient\":-1}],\"segments\":{\"485\":{\"from_node_id\":\"492\",\"to_node_id\":\"493\",\"b1\":null,\"b2\":null},\"486\":{\"from_node_id\":\"494\",\"to_node_id\":\"493\",\"b1\":null,\"b2\":null},\"488\":{\"from_node_id\":\"492\",\"to_node_id\":\"496\",\"b1\":{\"x\":2899.3896484375,\"y\":3255.618896484375},\"b2\":{\"x\":2913.976806640625,\"y\":3252.619140625}},\"489\":{\"from_node_id\":\"494\",\"to_node_id\":\"483\",\"b1\":{\"x\":2771.3896484375,\"y\":3255.618896484375},\"b2\":{\"x\":2778.6356201171875,\"y\":3275.05126953125}},\"490\":{\"from_node_id\":\"494\",\"to_node_id\":\"498\",\"b1\":{\"x\":2767.3896484375,\"y\":3255.618896484375},\"b2\":{\"x\":2710.7503662109375,\"y\":3254.5859375}},\"491\":{\"from_node_id\":\"492\",\"to_node_id\":\"491\",\"b1\":{\"x\":2895.3896484375,\"y\":3255.618896484375},\"b2\":{\"x\":2939.49169921875,\"y\":3219.4560546875}}}},\"91\":{\"name\":\"PGCA phosphorylase\",\"bigg_id\":\"[B]_PGP_h\",\"reversibility\":false,\"label_x\":2679.5523681640625,\"label_y\":3443.752197265625,\"gene_reaction_rule\":\"\",\"genes\":[],\"metabolites\":[{\"bigg_id\":\"[B]_GCA_h\",\"coefficient\":1},{\"bigg_id\":\"[B]_H2O_h\",\"coefficient\":-1},{\"bigg_id\":\"[B]_PGCA_h\",\"coefficient\":-1},{\"bigg_id\":\"[B]_Pi_h\",\"coefficient\":1}],\"segments\":{\"492\":{\"from_node_id\":\"499\",\"to_node_id\":\"500\",\"b1\":null,\"b2\":null},\"493\":{\"from_node_id\":\"501\",\"to_node_id\":\"500\",\"b1\":null,\"b2\":null},\"494\":{\"from_node_id\":\"501\",\"to_node_id\":\"502\",\"b1\":{\"x\":2663.6771240234375,\"y\":3491.728515625},\"b2\":{\"x\":2663.6771240234375,\"y\":3545.978515625}},\"496\":{\"from_node_id\":\"499\",\"to_node_id\":\"498\",\"b1\":{\"x\":2663.6771240234375,\"y\":3367.728515625},\"b2\":{\"x\":2663.6771240234375,\"y\":3313.478515625}}}},\"92\":{\"name\":\"GCA/GCEA shuffle\",\"bigg_id\":\"[B]_Tr_GCA1\",\"reversibility\":true,\"label_x\":2686.8428955078125,\"label_y\":3730.150390625,\"gene_reaction_rule\":\"\",\"genes\":[],\"metabolites\":[{\"bigg_id\":\"[B]_GCA_c\",\"coefficient\":1},{\"bigg_id\":\"[B]_GCA_h\",\"coefficient\":-1}],\"segments\":{\"498\":{\"from_node_id\":\"505\",\"to_node_id\":\"506\",\"b1\":null,\"b2\":null},\"499\":{\"from_node_id\":\"507\",\"to_node_id\":\"506\",\"b1\":null,\"b2\":null},\"500\":{\"from_node_id\":\"507\",\"to_node_id\":\"249\",\"b1\":{\"x\":-1386.4916404568012,\"y\":4000.5166418896115},\"b2\":{\"x\":-1394.751485824585,\"y\":4008.1427001953125}},\"501\":{\"from_node_id\":\"505\",\"to_node_id\":\"502\",\"b1\":{\"x\":2670.461275466567,\"y\":4011.1491295947635},\"b2\":{\"x\":2664.82470703125,\"y\":4017.334228515625}}}},\"93\":{\"name\":\"[B]_Tr_CO2h_Ex\",\"bigg_id\":\"[B]_Tr_CO2h_Ex\",\"reversibility\":true,\"label_x\":3919.65058069933,\"label_y\":2068.018364909495,\"gene_reaction_rule\":\"\",\"genes\":[],\"metabolites\":[{\"bigg_id\":\"[B]_CO2_ex_c\",\"coefficient\":-1},{\"bigg_id\":\"[B]_CO2_ex_h\",\"coefficient\":1}],\"segments\":{\"502\":{\"from_node_id\":\"509\",\"to_node_id\":\"510\",\"b1\":null,\"b2\":null},\"503\":{\"from_node_id\":\"511\",\"to_node_id\":\"510\",\"b1\":null,\"b2\":null},\"504\":{\"from_node_id\":\"509\",\"to_node_id\":\"197\",\"b1\":{\"x\":3900.378852183705,\"y\":1745.682305339183},\"b2\":{\"x\":3900.378852183705,\"y\":1691.432305339183}},\"505\":{\"from_node_id\":\"511\",\"to_node_id\":\"512\",\"b1\":{\"x\":3900.378852183705,\"y\":1869.682305339183},\"b2\":{\"x\":3897.963813121205,\"y\":2988.674126628245}}}},\"95\":{\"name\":\"RuBisCO\",\"bigg_id\":\"[B]_RBC_h\",\"reversibility\":false,\"label_x\":2632.5873413085938,\"label_y\":2924.0968017578125,\"gene_reaction_rule\":\"\",\"genes\":[],\"metabolites\":[{\"bigg_id\":\"[B]_CO2_h\",\"coefficient\":-1},{\"bigg_id\":\"[B]_H2O_h\",\"coefficient\":-1},{\"bigg_id\":\"[B]_H_h\",\"coefficient\":2},{\"bigg_id\":\"[B]_PGA_h\",\"coefficient\":2},{\"bigg_id\":\"[B]_RuBP_h\",\"coefficient\":-1}],\"segments\":{\"510\":{\"from_node_id\":\"517\",\"to_node_id\":\"518\",\"b1\":null,\"b2\":null},\"511\":{\"from_node_id\":\"519\",\"to_node_id\":\"518\",\"b1\":null,\"b2\":null},\"512\":{\"from_node_id\":\"517\",\"to_node_id\":\"474\",\"b1\":{\"x\":2882.6141967773438,\"y\":2879.277587890625},\"b2\":{\"x\":2915.5392456054688,\"y\":2836.5462646484375}},\"515\":{\"from_node_id\":\"519\",\"to_node_id\":\"483\",\"b1\":{\"x\":2437.0637817382812,\"y\":2874.781982421875},\"b2\":{\"x\":2414.0160522460938,\"y\":2860.4580078125}},\"516\":{\"from_node_id\":\"517\",\"to_node_id\":\"491\",\"b1\":{\"x\":2886.6141967773438,\"y\":2879.277587890625},\"b2\":{\"x\":2996.6266479492188,\"y\":3064.286865234375}}}},\"99\":{\"name\":\"R_Tr_Pyr_Mal_hc\",\"bigg_id\":\"[B]_Tr_Pyr_Mal_hc\",\"reversibility\":true,\"label_x\":2697.1073608398438,\"label_y\":2303.01216506958,\"gene_reaction_rule\":\"\",\"genes\":[],\"metabolites\":[{\"bigg_id\":\"[B]_Mal_c\",\"coefficient\":-1},{\"bigg_id\":\"[B]_Mal_h\",\"coefficient\":1},{\"bigg_id\":\"[B]_Pyr_c\",\"coefficient\":1},{\"bigg_id\":\"[B]_Pyr_h\",\"coefficient\":-1}],\"segments\":{\"531\":{\"from_node_id\":\"538\",\"to_node_id\":\"539\",\"b1\":null,\"b2\":null},\"532\":{\"from_node_id\":\"540\",\"to_node_id\":\"539\",\"b1\":null,\"b2\":null},\"533\":{\"from_node_id\":\"538\",\"to_node_id\":\"177\",\"b1\":{\"x\":2986.3092651367188,\"y\":2233.8533515930176},\"b2\":{\"x\":1689.8287963867188,\"y\":1949.23530960083}},\"534\":{\"from_node_id\":\"540\",\"to_node_id\":\"468\",\"b1\":{\"x\":2986.3092651367188,\"y\":2357.8533515930176},\"b2\":{\"x\":2560.3551635742188,\"y\":2502.451374053955}},\"535\":{\"from_node_id\":\"540\",\"to_node_id\":\"181\",\"b1\":{\"x\":2986.3092651367188,\"y\":2361.8533515930176},\"b2\":{\"x\":2991.0866088867188,\"y\":1720.80952835083}},\"536\":{\"from_node_id\":\"538\",\"to_node_id\":\"470\",\"b1\":{\"x\":2986.3092651367188,\"y\":2229.8533515930176},\"b2\":{\"x\":2988.9304809570312,\"y\":2573.52095413208}}}},\"100\":{\"name\":\"Dicarboxylate transporter\",\"bigg_id\":\"[B]_Tr_DTC5\",\"reversibility\":true,\"label_x\":1095.7332153320312,\"label_y\":2308.3377265930176,\"gene_reaction_rule\":\"\",\"genes\":[],\"metabolites\":[{\"bigg_id\":\"[B]_Mal_c\",\"coefficient\":1},{\"bigg_id\":\"[B]_Mal_m\",\"coefficient\":-1},{\"bigg_id\":\"[B]_OAA_c\",\"coefficient\":-1},{\"bigg_id\":\"[B]_OAA_m\",\"coefficient\":1}],\"segments\":{\"537\":{\"from_node_id\":\"544\",\"to_node_id\":\"545\",\"b1\":null,\"b2\":null},\"538\":{\"from_node_id\":\"546\",\"to_node_id\":\"545\",\"b1\":null,\"b2\":null},\"539\":{\"from_node_id\":\"546\",\"to_node_id\":\"177\",\"b1\":{\"x\":1292.0067749023438,\"y\":2297.0144844055176},\"b2\":{\"x\":1291.9871215820312,\"y\":2298.46187210083}},\"540\":{\"from_node_id\":\"544\",\"to_node_id\":\"547\",\"b1\":{\"x\":1292.9518432617188,\"y\":2297.792194366455},\"b2\":{\"x\":1293.4180297851562,\"y\":2310.5777168273926}},\"541\":{\"from_node_id\":\"544\",\"to_node_id\":\"402\",\"b1\":{\"x\":1581.9943237304688,\"y\":2298.9485664367676},\"b2\":{\"x\":1583.2122192382812,\"y\":2298.0974922180176}},\"542\":{\"from_node_id\":\"546\",\"to_node_id\":\"549\",\"b1\":{\"x\":1583.8844604492188,\"y\":2297.75093460083},\"b2\":{\"x\":1581.3598022460938,\"y\":2311.47163772583}}}},\"101\":{\"name\":\"Mal dehydrogenase\",\"bigg_id\":\"[B]_MalDH1_m\",\"reversibility\":true,\"label_x\":1332.4038696289062,\"label_y\":2610.656940460205,\"gene_reaction_rule\":\"\",\"genes\":[],\"metabolites\":[{\"bigg_id\":\"[B]_H_m\",\"coefficient\":1},{\"bigg_id\":\"[B]_Mal_m\",\"coefficient\":-1},{\"bigg_id\":\"[B]_NADH_m\",\"coefficient\":1},{\"bigg_id\":\"[B]_NAD_m\",\"coefficient\":-1},{\"bigg_id\":\"[B]_OAA_m\",\"coefficient\":1}],\"segments\":{\"543\":{\"from_node_id\":\"550\",\"to_node_id\":\"551\",\"b1\":null,\"b2\":null},\"544\":{\"from_node_id\":\"552\",\"to_node_id\":\"551\",\"b1\":null,\"b2\":null},\"546\":{\"from_node_id\":\"550\",\"to_node_id\":\"547\",\"b1\":{\"x\":1401.6730346679688,\"y\":2644.969928741455},\"b2\":{\"x\":1349.3158569335938,\"y\":2644.02339553833}},\"549\":{\"from_node_id\":\"552\",\"to_node_id\":\"549\",\"b1\":{\"x\":1525.6730346679688,\"y\":2644.969928741455},\"b2\":{\"x\":1527.7882690429688,\"y\":2644.969928741455}}}},\"102\":{\"name\":\"Dicarboxylate transporter\",\"bigg_id\":\"[B]_Tr_DIT1_OAA\",\"reversibility\":true,\"label_x\":1940.4468994140625,\"label_y\":2255.3272705078125,\"gene_reaction_rule\":\"\",\"genes\":[],\"metabolites\":[{\"bigg_id\":\"[B]_Mal_c\",\"coefficient\":1},{\"bigg_id\":\"[B]_Mal_h\",\"coefficient\":-1},{\"bigg_id\":\"[B]_OAA_c\",\"coefficient\":-1},{\"bigg_id\":\"[B]_OAA_h\",\"coefficient\":1}],\"segments\":{\"550\":{\"from_node_id\":\"558\",\"to_node_id\":\"559\",\"b1\":null,\"b2\":null},\"551\":{\"from_node_id\":\"560\",\"to_node_id\":\"559\",\"b1\":null,\"b2\":null},\"552\":{\"from_node_id\":\"560\",\"to_node_id\":\"177\",\"b1\":{\"x\":1537.2420654296875,\"y\":2302.404296875},\"b2\":{\"x\":1639.6156005859375,\"y\":2250.03466796875}},\"553\":{\"from_node_id\":\"558\",\"to_node_id\":\"468\",\"b1\":{\"x\":2290.788818359375,\"y\":2295.3272705078125},\"b2\":{\"x\":2188.41552734375,\"y\":2257.1114501953125}},\"554\":{\"from_node_id\":\"558\",\"to_node_id\":\"402\",\"b1\":{\"x\":2291.0347900390625,\"y\":2295.3272705078125},\"b2\":{\"x\":1729.533447265625,\"y\":1809.4456787109375}},\"555\":{\"from_node_id\":\"560\",\"to_node_id\":\"563\",\"b1\":{\"x\":1786.1060791015625,\"y\":2299.573486328125},\"b2\":{\"x\":1822.494384765625,\"y\":2320.561767578125}}}},\"103\":{\"name\":\"Mal dehydrogenase\",\"bigg_id\":\"[B]_MalDH3_h\",\"reversibility\":true,\"label_x\":2076.0760498046875,\"label_y\":2613.8465576171875,\"gene_reaction_rule\":\"\",\"genes\":[],\"metabolites\":[{\"bigg_id\":\"[B]_H_h\",\"coefficient\":-1},{\"bigg_id\":\"[B]_Mal_h\",\"coefficient\":1},{\"bigg_id\":\"[B]_NADPH_h\",\"coefficient\":-1},{\"bigg_id\":\"[B]_NADP_h\",\"coefficient\":1},{\"bigg_id\":\"[B]_OAA_h\",\"coefficient\":-1}],\"segments\":{\"556\":{\"from_node_id\":\"564\",\"to_node_id\":\"565\",\"b1\":null,\"b2\":null},\"557\":{\"from_node_id\":\"566\",\"to_node_id\":\"565\",\"b1\":null,\"b2\":null},\"559\":{\"from_node_id\":\"566\",\"to_node_id\":\"468\",\"b1\":{\"x\":2217.7994384765625,\"y\":2645.3541259765625},\"b2\":{\"x\":2475.23779296875,\"y\":2644.7249755859375}},\"562\":{\"from_node_id\":\"564\",\"to_node_id\":\"563\",\"b1\":{\"x\":2093.7994384765625,\"y\":2645.3541259765625},\"b2\":{\"x\":1876.7786865234375,\"y\":2644.4102783203125}}}},\"104\":{\"name\":\"Mal dehydrogenase\",\"bigg_id\":\"[B]_MalDH1_h\",\"reversibility\":true,\"label_x\":2071.8299560546875,\"label_y\":2837.7935791015625,\"gene_reaction_rule\":\"\",\"genes\":[],\"metabolites\":[{\"bigg_id\":\"[B]_H_h\",\"coefficient\":1},{\"bigg_id\":\"[B]_Mal_h\",\"coefficient\":-1},{\"bigg_id\":\"[B]_NADH_h\",\"coefficient\":1},{\"bigg_id\":\"[B]_NAD_h\",\"coefficient\":-1},{\"bigg_id\":\"[B]_OAA_h\",\"coefficient\":1}],\"segments\":{\"563\":{\"from_node_id\":\"571\",\"to_node_id\":\"572\",\"b1\":null,\"b2\":null},\"564\":{\"from_node_id\":\"573\",\"to_node_id\":\"572\",\"b1\":null,\"b2\":null},\"566\":{\"from_node_id\":\"571\",\"to_node_id\":\"468\",\"b1\":{\"x\":2568.346435546875,\"y\":2787.9945068359375},\"b2\":{\"x\":2555.915283203125,\"y\":2798.6888427734375}},\"569\":{\"from_node_id\":\"573\",\"to_node_id\":\"563\",\"b1\":{\"x\":1809.618896484375,\"y\":2784.2200927734375},\"b2\":{\"x\":1818.7474365234375,\"y\":2791.6116943359375}}}},\"105\":{\"name\":\"Asp aminotransferase\",\"bigg_id\":\"[B]_AspAT2_m\",\"reversibility\":true,\"label_x\":1359.5839233398438,\"label_y\":2772.5432929992676,\"gene_reaction_rule\":\"\",\"genes\":[],\"metabolites\":[{\"bigg_id\":\"[B]_Ala_m\",\"coefficient\":-1},{\"bigg_id\":\"[B]_Asp_m\",\"coefficient\":1},{\"bigg_id\":\"[B]_OAA_m\",\"coefficient\":-1},{\"bigg_id\":\"[B]_Pyr_m\",\"coefficient\":1}],\"segments\":{\"570\":{\"from_node_id\":\"578\",\"to_node_id\":\"579\",\"b1\":null,\"b2\":null},\"571\":{\"from_node_id\":\"580\",\"to_node_id\":\"579\",\"b1\":null,\"b2\":null},\"572\":{\"from_node_id\":\"578\",\"to_node_id\":\"581\",\"b1\":{\"x\":1593.1441111460415,\"y\":2816.922512473858},\"b2\":{\"x\":1583.2286987304688,\"y\":3192.9431953430176}},\"573\":{\"from_node_id\":\"580\",\"to_node_id\":\"582\",\"b1\":{\"x\":1482.1012950041454,\"y\":2818.2003140988945},\"b2\":{\"x\":1497.6403198242188,\"y\":3193.3560371398926}},\"574\":{\"from_node_id\":\"578\",\"to_node_id\":\"549\",\"b1\":{\"x\":1594.166893472417,\"y\":2818.2178148683906},\"b2\":{\"x\":1583.0223999023438,\"y\":2811.8260078430176}},\"575\":{\"from_node_id\":\"580\",\"to_node_id\":\"590\",\"b1\":{\"x\":1478.1014943227085,\"y\":2818.240245399677},\"b2\":{\"x\":1467.0841674804688,\"y\":2817.8892402648926}}}},\"106\":{\"name\":\"Mal dehydrogenase\",\"bigg_id\":\"[B]_MalDH2_m\",\"reversibility\":false,\"label_x\":1057.2401733398438,\"label_y\":2823.68550491333,\"gene_reaction_rule\":\"\",\"genes\":[],\"metabolites\":[{\"bigg_id\":\"[B]_CO2_m\",\"coefficient\":1},{\"bigg_id\":\"[B]_Mal_m\",\"coefficient\":-1},{\"bigg_id\":\"[B]_NADH_m\",\"coefficient\":1},{\"bigg_id\":\"[B]_NAD_m\",\"coefficient\":-1},{\"bigg_id\":\"[B]_Pyr_m\",\"coefficient\":1}],\"segments\":{\"576\":{\"from_node_id\":\"584\",\"to_node_id\":\"585\",\"b1\":null,\"b2\":null},\"577\":{\"from_node_id\":\"586\",\"to_node_id\":\"585\",\"b1\":null,\"b2\":null},\"578\":{\"from_node_id\":\"586\",\"to_node_id\":\"587\",\"b1\":{\"x\":1290.5658569335938,\"y\":2881.02339553833},\"b2\":{\"x\":1290.5658569335938,\"y\":2935.27339553833}},\"579\":{\"from_node_id\":\"584\",\"to_node_id\":\"547\",\"b1\":{\"x\":1290.5658569335938,\"y\":2757.02339553833},\"b2\":{\"x\":1290.5658569335938,\"y\":2702.77339553833}},\"582\":{\"from_node_id\":\"586\",\"to_node_id\":\"590\",\"b1\":{\"x\":1290.5658569335938,\"y\":2820.98677444458},\"b2\":{\"x\":1322.7905883789062,\"y\":2817.447956085205}}}},\"107\":{\"name\":\"CO2 diffusion\",\"bigg_id\":\"[B]_Tr_CO2m\",\"reversibility\":true,\"label_x\":810.4965209960938,\"label_y\":2307.36275100708,\"gene_reaction_rule\":\"\",\"genes\":[],\"metabolites\":[{\"bigg_id\":\"[B]_CO2_c\",\"coefficient\":-1},{\"bigg_id\":\"[B]_CO2_m\",\"coefficient\":1}],\"segments\":{\"583\":{\"from_node_id\":\"591\",\"to_node_id\":\"592\",\"b1\":null,\"b2\":null},\"584\":{\"from_node_id\":\"593\",\"to_node_id\":\"592\",\"b1\":null,\"b2\":null},\"585\":{\"from_node_id\":\"591\",\"to_node_id\":\"447\",\"b1\":{\"x\":1047.8641435324835,\"y\":1472.6182197716075},\"b2\":{\"x\":1046.3784790039062,\"y\":1471.4295234680176}},\"586\":{\"from_node_id\":\"593\",\"to_node_id\":\"587\",\"b1\":{\"x\":1071.4398725807978,\"y\":2997.2749458167714},\"b2\":{\"x\":1197.4758911132812,\"y\":2996.35542678833}}}},\"108\":{\"name\":\"CO2 diffusion\",\"bigg_id\":\"[B]_Tr_CO2h\",\"reversibility\":true,\"label_x\":3133.3099975585938,\"label_y\":2307.3350830078125,\"gene_reaction_rule\":\"\",\"genes\":[],\"metabolites\":[{\"bigg_id\":\"[B]_CO2_c\",\"coefficient\":-1},{\"bigg_id\":\"[B]_CO2_h\",\"coefficient\":1}],\"segments\":{\"587\":{\"from_node_id\":\"595\",\"to_node_id\":\"596\",\"b1\":null,\"b2\":null},\"588\":{\"from_node_id\":\"597\",\"to_node_id\":\"596\",\"b1\":null,\"b2\":null},\"589\":{\"from_node_id\":\"595\",\"to_node_id\":\"447\",\"b1\":{\"x\":3097.9994506835938,\"y\":1478.2550354003906},\"b2\":{\"x\":3097.2362670898438,\"y\":1478.481689453125}},\"590\":{\"from_node_id\":\"597\",\"to_node_id\":\"474\",\"b1\":{\"x\":3031.0409545898438,\"y\":2785.986328125},\"b2\":{\"x\":3050.1347045898438,\"y\":2787.396728515625}}}},\"109\":{\"name\":\"GCEA kinase\",\"bigg_id\":\"[B]_GCEAK_h\",\"reversibility\":false,\"label_x\":2423.6611328125,\"label_y\":3353.61865234375,\"gene_reaction_rule\":\"\",\"genes\":[],\"metabolites\":[{\"bigg_id\":\"[B]_ADP_h\",\"coefficient\":1},{\"bigg_id\":\"[B]_ATP_h\",\"coefficient\":-1},{\"bigg_id\":\"[B]_GCEA_h\",\"coefficient\":-1},{\"bigg_id\":\"[B]_H_h\",\"coefficient\":1},{\"bigg_id\":\"[B]_PGA_h\",\"coefficient\":1}],\"segments\":{\"591\":{\"from_node_id\":\"599\",\"to_node_id\":\"600\",\"b1\":null,\"b2\":null},\"592\":{\"from_node_id\":\"601\",\"to_node_id\":\"600\",\"b1\":null,\"b2\":null},\"595\":{\"from_node_id\":\"599\",\"to_node_id\":\"604\",\"b1\":{\"x\":2412.8193359375,\"y\":3286.95849609375},\"b2\":{\"x\":2415.474853515625,\"y\":3554.159912109375}},\"597\":{\"from_node_id\":\"601\",\"to_node_id\":\"483\",\"b1\":{\"x\":2412.8193359375,\"y\":3158.95849609375},\"b2\":{\"x\":2412.8193359375,\"y\":3104.70849609375}}}},\"110\":{\"name\":\"GCA/GCEA shuffle\",\"bigg_id\":\"[B]_Tr_GCEA1\",\"reversibility\":true,\"label_x\":2426.1126708984375,\"label_y\":3730.759765625,\"gene_reaction_rule\":\"\",\"genes\":[],\"metabolites\":[{\"bigg_id\":\"[B]_GCEA_c\",\"coefficient\":-1},{\"bigg_id\":\"[B]_GCEA_h\",\"coefficient\":1}],\"segments\":{\"598\":{\"from_node_id\":\"606\",\"to_node_id\":\"607\",\"b1\":null,\"b2\":null},\"599\":{\"from_node_id\":\"608\",\"to_node_id\":\"607\",\"b1\":null,\"b2\":null},\"600\":{\"from_node_id\":\"606\",\"to_node_id\":\"253\",\"b1\":{\"x\":-1152.776351928711,\"y\":3965.098388671875},\"b2\":{\"x\":-1159.8948974609375,\"y\":3971.954833984375}},\"601\":{\"from_node_id\":\"608\",\"to_node_id\":\"604\",\"b1\":{\"x\":2419.5621337890625,\"y\":3978.385498046875},\"b2\":{\"x\":2413.857666015625,\"y\":3984.276123046875}}}},\"112\":{\"name\":\"Gly hydroxymethyltransferase\",\"bigg_id\":\"[B]_GlyHMT_m\",\"reversibility\":true,\"label_x\":902.6587524414062,\"label_y\":3463.1121826171875,\"gene_reaction_rule\":\"\",\"genes\":[],\"metabolites\":[{\"bigg_id\":\"[B]_Gly_m\",\"coefficient\":-1},{\"bigg_id\":\"[B]_H2O_m\",\"coefficient\":-1},{\"bigg_id\":\"[B]_M_DASH_THF_m\",\"coefficient\":-1},{\"bigg_id\":\"[B]_Ser_m\",\"coefficient\":1},{\"bigg_id\":\"[B]_THF_m\",\"coefficient\":1}],\"segments\":{\"609\":{\"from_node_id\":\"619\",\"to_node_id\":\"620\",\"b1\":null,\"b2\":null},\"610\":{\"from_node_id\":\"621\",\"to_node_id\":\"620\",\"b1\":null,\"b2\":null},\"611\":{\"from_node_id\":\"619\",\"to_node_id\":\"618\",\"b1\":{\"x\":892.2216796875,\"y\":3647.0870361328125},\"b2\":{\"x\":893.1558837890625,\"y\":3649.0206298828125}},\"615\":{\"from_node_id\":\"621\",\"to_node_id\":\"625\",\"b1\":{\"x\":892.2216796875,\"y\":3484.7843017578125},\"b2\":{\"x\":892.2216796875,\"y\":3430.5343017578125}}}},\"113\":{\"name\":\"Aminomethyltransferase\",\"bigg_id\":\"[B]_AMT_m\",\"reversibility\":false,\"label_x\":907.2216796875,\"label_y\":3206.7843017578125,\"gene_reaction_rule\":\"\",\"genes\":[],\"metabolites\":[{\"bigg_id\":\"[B]_DHP_m\",\"coefficient\":1},{\"bigg_id\":\"[B]_M_DASH_THF_m\",\"coefficient\":1},{\"bigg_id\":\"[B]_NH4_m\",\"coefficient\":1},{\"bigg_id\":\"[B]_THF_m\",\"coefficient\":-1},{\"bigg_id\":\"[B]_amDHP_m\",\"coefficient\":-1}],\"segments\":{\"616\":{\"from_node_id\":\"626\",\"to_node_id\":\"627\",\"b1\":null,\"b2\":null},\"617\":{\"from_node_id\":\"628\",\"to_node_id\":\"627\",\"b1\":null,\"b2\":null},\"618\":{\"from_node_id\":\"628\",\"to_node_id\":\"629\",\"b1\":{\"x\":893.1558837890625,\"y\":3099.2843017578125},\"b2\":{\"x\":893.6229248046875,\"y\":3100.3868408203125}},\"621\":{\"from_node_id\":\"626\",\"to_node_id\":\"625\",\"b1\":{\"x\":892.2216796875,\"y\":3258.7843017578125},\"b2\":{\"x\":892.2216796875,\"y\":3313.0343017578125}}}},\"114\":{\"name\":\"DHL dehydrogenase\",\"bigg_id\":\"[B]_DHLDH1_m\",\"reversibility\":false,\"label_x\":952.063720703125,\"label_y\":3305.9852294921875,\"gene_reaction_rule\":\"\",\"genes\":[],\"metabolites\":[{\"bigg_id\":\"[B]_DHP_m\",\"coefficient\":-1},{\"bigg_id\":\"[B]_H_m\",\"coefficient\":1},{\"bigg_id\":\"[B]_LPL_m\",\"coefficient\":1},{\"bigg_id\":\"[B]_NADH_m\",\"coefficient\":1},{\"bigg_id\":\"[B]_NAD_m\",\"coefficient\":-1}],\"segments\":{\"623\":{\"from_node_id\":\"633\",\"to_node_id\":\"634\",\"b1\":null,\"b2\":null},\"624\":{\"from_node_id\":\"635\",\"to_node_id\":\"634\",\"b1\":null,\"b2\":null},\"625\":{\"from_node_id\":\"633\",\"to_node_id\":\"629\",\"b1\":{\"x\":1186.4984130859375,\"y\":3099.5177001953125},\"b2\":{\"x\":1186.965576171875,\"y\":3098.5181884765625}},\"627\":{\"from_node_id\":\"635\",\"to_node_id\":\"637\",\"b1\":{\"x\":1186.4984130859375,\"y\":3311.3336181640625},\"b2\":{\"x\":1185.564208984375,\"y\":3314.2022705078125}}}},\"115\":{\"name\":\"Gly dehydrogenase\",\"bigg_id\":\"[B]_GlyDH_m\",\"reversibility\":false,\"label_x\":973.89501953125,\"label_y\":3615.9273681640625,\"gene_reaction_rule\":\"\",\"genes\":[],\"metabolites\":[{\"bigg_id\":\"[B]_CO2_m\",\"coefficient\":1},{\"bigg_id\":\"[B]_Gly_m\",\"coefficient\":-1},{\"bigg_id\":\"[B]_H_m\",\"coefficient\":-1},{\"bigg_id\":\"[B]_LPL_m\",\"coefficient\":-1},{\"bigg_id\":\"[B]_amDHP_m\",\"coefficient\":1}],\"segments\":{\"630\":{\"from_node_id\":\"640\",\"to_node_id\":\"641\",\"b1\":null,\"b2\":null},\"631\":{\"from_node_id\":\"642\",\"to_node_id\":\"641\",\"b1\":null,\"b2\":null},\"632\":{\"from_node_id\":\"642\",\"to_node_id\":\"587\",\"b1\":{\"x\":1312.6170654296875,\"y\":3620.2283935546875},\"b2\":{\"x\":1291.13037109375,\"y\":3620.2940673828125}},\"633\":{\"from_node_id\":\"640\",\"to_node_id\":\"618\",\"b1\":{\"x\":1185.5640869140625,\"y\":3651.9788818359375},\"b2\":{\"x\":1184.4129638671875,\"y\":3651.1654052734375}},\"635\":{\"from_node_id\":\"640\",\"to_node_id\":\"637\",\"b1\":{\"x\":1186.4984130859375,\"y\":3537.3336181640625},\"b2\":{\"x\":1185.564208984375,\"y\":3431.7022705078125}}}},\"117\":{\"name\":\"Ser:GLX aminotransferase\",\"bigg_id\":\"[B]_SGAT_p\",\"reversibility\":false,\"label_x\":-199.09600448608398,\"label_y\":3483.7188720703125,\"gene_reaction_rule\":\"\",\"genes\":[],\"metabolites\":[{\"bigg_id\":\"[B]_GLX_p\",\"coefficient\":-1},{\"bigg_id\":\"[B]_Gly_p\",\"coefficient\":1},{\"bigg_id\":\"[B]_HPR_p\",\"coefficient\":1},{\"bigg_id\":\"[B]_Ser_p\",\"coefficient\":-1}],\"segments\":{\"643\":{\"from_node_id\":\"654\",\"to_node_id\":\"655\",\"b1\":null,\"b2\":null},\"644\":{\"from_node_id\":\"656\",\"to_node_id\":\"655\",\"b1\":null,\"b2\":null},\"645\":{\"from_node_id\":\"654\",\"to_node_id\":\"651\",\"b1\":{\"x\":-185.91007614135742,\"y\":3511.1258544921875},\"b2\":{\"x\":-240.16006088256836,\"y\":3576.8892822265625}},\"646\":{\"from_node_id\":\"656\",\"to_node_id\":\"657\",\"b1\":{\"x\":-57.91007614135742,\"y\":3511.1258544921875},\"b2\":{\"x\":7.506313323974609,\"y\":3587.8929443359375}},\"647\":{\"from_node_id\":\"656\",\"to_node_id\":\"658\",\"b1\":{\"x\":-61.91007614135742,\"y\":3511.1258544921875},\"b2\":{\"x\":-7.660076141357422,\"y\":3511.1258544921875}}}},\"118\":{\"name\":\"Glu:GLX aminotransferase\",\"bigg_id\":\"[B]_GGAT_p\",\"reversibility\":false,\"label_x\":-206.09209537506104,\"label_y\":3711.7913818359375,\"gene_reaction_rule\":\"\",\"genes\":[],\"metabolites\":[{\"bigg_id\":\"[B]_GLX_p\",\"coefficient\":-1},{\"bigg_id\":\"[B]_Glu_p\",\"coefficient\":-1},{\"bigg_id\":\"[B]_Gly_p\",\"coefficient\":1},{\"bigg_id\":\"[B]_KG_p\",\"coefficient\":1}],\"segments\":{\"649\":{\"from_node_id\":\"660\",\"to_node_id\":\"661\",\"b1\":null,\"b2\":null},\"650\":{\"from_node_id\":\"662\",\"to_node_id\":\"661\",\"b1\":null,\"b2\":null},\"651\":{\"from_node_id\":\"660\",\"to_node_id\":\"651\",\"b1\":{\"x\":-187.3092918395996,\"y\":3649.6485595703125},\"b2\":{\"x\":-240.16006088256836,\"y\":3576.8892822265625}},\"653\":{\"from_node_id\":\"662\",\"to_node_id\":\"657\",\"b1\":{\"x\":-63.30929183959961,\"y\":3649.6485595703125},\"b2\":{\"x\":-23.051471710205078,\"y\":3649.6483154296875}}}},\"119\":{\"name\":\"GCEA dehydrogenase\",\"bigg_id\":\"[B]_GCEADH_p\",\"reversibility\":false,\"label_x\":66.08992385864258,\"label_y\":3346.1258544921875,\"gene_reaction_rule\":\"\",\"genes\":[],\"metabolites\":[{\"bigg_id\":\"[B]_GCEA_p\",\"coefficient\":1},{\"bigg_id\":\"[B]_HPR_p\",\"coefficient\":-1},{\"bigg_id\":\"[B]_H_p\",\"coefficient\":-1},{\"bigg_id\":\"[B]_NADH_p\",\"coefficient\":-1},{\"bigg_id\":\"[B]_NAD_p\",\"coefficient\":1}],\"segments\":{\"655\":{\"from_node_id\":\"666\",\"to_node_id\":\"667\",\"b1\":null,\"b2\":null},\"656\":{\"from_node_id\":\"668\",\"to_node_id\":\"667\",\"b1\":null,\"b2\":null},\"657\":{\"from_node_id\":\"668\",\"to_node_id\":\"669\",\"b1\":{\"x\":51.08992385864258,\"y\":3274.1258544921875},\"b2\":{\"x\":51.08992385864258,\"y\":3219.8758544921875}},\"658\":{\"from_node_id\":\"666\",\"to_node_id\":\"658\",\"b1\":{\"x\":51.08992385864258,\"y\":3398.1258544921875},\"b2\":{\"x\":51.08992385864258,\"y\":3452.3758544921875}}}},\"120\":{\"name\":\"GCEA diffusion\",\"bigg_id\":\"[B]_Tr_GCEA2\",\"reversibility\":true,\"label_x\":-523.714672088623,\"label_y\":3136.5172119140625,\"gene_reaction_rule\":\"\",\"genes\":[],\"metabolites\":[{\"bigg_id\":\"[B]_GCEA_c\",\"coefficient\":-1},{\"bigg_id\":\"[B]_GCEA_p\",\"coefficient\":1}],\"segments\":{\"662\":{\"from_node_id\":\"673\",\"to_node_id\":\"674\",\"b1\":null,\"b2\":null},\"663\":{\"from_node_id\":\"675\",\"to_node_id\":\"674\",\"b1\":null,\"b2\":null},\"664\":{\"from_node_id\":\"673\",\"to_node_id\":\"253\",\"b1\":{\"x\":-1096.8012504577637,\"y\":3162.5252685546875},\"b2\":{\"x\":-1005.3885612487793,\"y\":3143.8460693359375}},\"665\":{\"from_node_id\":\"675\",\"to_node_id\":\"669\",\"b1\":{\"x\":-61.91007614135742,\"y\":3161.1258544921875},\"b2\":{\"x\":-7.660076141357422,\"y\":3161.1258544921875}}}},\"122\":{\"name\":\"Gly diffusion\",\"bigg_id\":\"[B]_Tr_Gly\",\"reversibility\":true,\"label_x\":166.2563133239746,\"label_y\":3609.8929443359375,\"gene_reaction_rule\":\"\",\"genes\":[],\"metabolites\":[{\"bigg_id\":\"[B]_Gly_c\",\"coefficient\":-1},{\"bigg_id\":\"[B]_Gly_p\",\"coefficient\":1}],\"segments\":{\"669\":{\"from_node_id\":\"680\",\"to_node_id\":\"681\",\"b1\":null,\"b2\":null},\"670\":{\"from_node_id\":\"682\",\"to_node_id\":\"681\",\"b1\":null,\"b2\":null},\"671\":{\"from_node_id\":\"680\",\"to_node_id\":\"683\",\"b1\":{\"x\":278.2563133239746,\"y\":3649.8929443359375},\"b2\":{\"x\":452.8390922546387,\"y\":3648.4937744140625}},\"672\":{\"from_node_id\":\"682\",\"to_node_id\":\"657\",\"b1\":{\"x\":154.2563133239746,\"y\":3649.8929443359375},\"b2\":{\"x\":100.00631332397461,\"y\":3649.8929443359375}}}},\"123\":{\"name\":\"Gly/Ser shuffle\",\"bigg_id\":\"[B]_Tr_GlySer\",\"reversibility\":true,\"label_x\":640.7867889404297,\"label_y\":3702.2415771484375,\"gene_reaction_rule\":\"\",\"genes\":[],\"metabolites\":[{\"bigg_id\":\"[B]_Gly_c\",\"coefficient\":-1},{\"bigg_id\":\"[B]_Gly_m\",\"coefficient\":1},{\"bigg_id\":\"[B]_Ser_c\",\"coefficient\":1},{\"bigg_id\":\"[B]_Ser_m\",\"coefficient\":-1}],\"segments\":{\"673\":{\"from_node_id\":\"684\",\"to_node_id\":\"685\",\"b1\":null,\"b2\":null},\"674\":{\"from_node_id\":\"686\",\"to_node_id\":\"685\",\"b1\":null,\"b2\":null},\"675\":{\"from_node_id\":\"684\",\"to_node_id\":\"683\",\"b1\":{\"x\":611.9961395263672,\"y\":3648.4940185546875},\"b2\":{\"x\":570.3390922546387,\"y\":3648.4937744140625}},\"676\":{\"from_node_id\":\"686\",\"to_node_id\":\"618\",\"b1\":{\"x\":735.9961395263672,\"y\":3648.4940185546875},\"b2\":{\"x\":974.9430389404297,\"y\":3649.8931884765625}}}},\"124\":{\"name\":\"GCA diffusion\",\"bigg_id\":\"[B]_Tr_GCA2\",\"reversibility\":true,\"label_x\":-547.8921775817871,\"label_y\":3279.4329833984375,\"gene_reaction_rule\":\"\",\"genes\":[],\"metabolites\":[{\"bigg_id\":\"[B]_GCA_c\",\"coefficient\":-1},{\"bigg_id\":\"[B]_GCA_p\",\"coefficient\":1}],\"segments\":{\"679\":{\"from_node_id\":\"690\",\"to_node_id\":\"691\",\"b1\":null,\"b2\":null},\"680\":{\"from_node_id\":\"692\",\"to_node_id\":\"691\",\"b1\":null,\"b2\":null},\"681\":{\"from_node_id\":\"690\",\"to_node_id\":\"249\",\"b1\":{\"x\":-1399.423183441162,\"y\":3297.0455322265625},\"b2\":{\"x\":-1277.3718528747559,\"y\":3295.6463623046875}},\"682\":{\"from_node_id\":\"692\",\"to_node_id\":\"697\",\"b1\":{\"x\":-764.7085227966309,\"y\":3301.2432861328125},\"b2\":{\"x\":-356.4562339782715,\"y\":3306.8402099609375}}}},\"125\":{\"name\":\"GCA oxidase\",\"bigg_id\":\"[B]_GCAO_p\",\"reversibility\":false,\"label_x\":-281.1116142272949,\"label_y\":3413.2884521484375,\"gene_reaction_rule\":\"\",\"genes\":[],\"metabolites\":[{\"bigg_id\":\"[B]_GCA_p\",\"coefficient\":-1},{\"bigg_id\":\"[B]_GLX_p\",\"coefficient\":1},{\"bigg_id\":\"[B]_H2O2_p\",\"coefficient\":1},{\"bigg_id\":\"[B]_O2_p\",\"coefficient\":-1}],\"segments\":{\"683\":{\"from_node_id\":\"694\",\"to_node_id\":\"695\",\"b1\":null,\"b2\":null},\"684\":{\"from_node_id\":\"696\",\"to_node_id\":\"695\",\"b1\":null,\"b2\":null},\"685\":{\"from_node_id\":\"694\",\"to_node_id\":\"697\",\"b1\":{\"x\":-300.3092613220215,\"y\":3418.2454833984375},\"b2\":{\"x\":-300.3092613220215,\"y\":3363.9954833984375}},\"686\":{\"from_node_id\":\"696\",\"to_node_id\":\"651\",\"b1\":{\"x\":-300.3092613220215,\"y\":3542.2454833984375},\"b2\":{\"x\":-298.91006088256836,\"y\":3518.1392822265625}}}},\"126\":{\"name\":\"FBP aldolase\",\"bigg_id\":\"[M]_FBPA_c\",\"reversibility\":true,\"label_x\":14.662513732910156,\"label_y\":899.7548828125,\"gene_reaction_rule\":\"\",\"genes\":[],\"metabolites\":[{\"bigg_id\":\"[M]_DHAP_c\",\"coefficient\":-1},{\"bigg_id\":\"[M]_FBP_c\",\"coefficient\":1},{\"bigg_id\":\"[M]_GAP_c\",\"coefficient\":-1}],\"segments\":{\"689\":{\"from_node_id\":\"701\",\"to_node_id\":\"702\",\"b1\":null,\"b2\":null},\"690\":{\"from_node_id\":\"703\",\"to_node_id\":\"702\",\"b1\":null,\"b2\":null},\"691\":{\"from_node_id\":\"701\",\"to_node_id\":\"279\",\"b1\":{\"x\":-15.676542282104492,\"y\":816.5715942382812},\"b2\":{\"x\":12.32595157623291,\"y\":807.0420532226562}},\"692\":{\"from_node_id\":\"703\",\"to_node_id\":\"704\",\"b1\":{\"x\":-15.676542282104492,\"y\":940.5715942382812},\"b2\":{\"x\":-17.072267532348633,\"y\":996.2173461914062}},\"693\":{\"from_node_id\":\"701\",\"to_node_id\":\"289\",\"b1\":{\"x\":-15.676542282104492,\"y\":812.5715942382812},\"b2\":{\"x\":-46.250633239746094,\"y\":798.9389038085938}}}},\"127\":{\"name\":\"FBPase\",\"bigg_id\":\"[M]_FBPase_c\",\"reversibility\":false,\"label_x\":15.82380485534668,\"label_y\":1017.7518310546875,\"gene_reaction_rule\":\"\",\"genes\":[],\"metabolites\":[{\"bigg_id\":\"[M]_F6P_c\",\"coefficient\":1},{\"bigg_id\":\"[M]_FBP_c\",\"coefficient\":-1},{\"bigg_id\":\"[M]_H2O_c\",\"coefficient\":-1},{\"bigg_id\":\"[M]_Pi_c\",\"coefficient\":1}],\"segments\":{\"694\":{\"from_node_id\":\"706\",\"to_node_id\":\"707\",\"b1\":null,\"b2\":null},\"695\":{\"from_node_id\":\"708\",\"to_node_id\":\"707\",\"b1\":null,\"b2\":null},\"696\":{\"from_node_id\":\"708\",\"to_node_id\":\"709\",\"b1\":{\"x\":133.39275932312012,\"y\":1054.9673461914062},\"b2\":{\"x\":187.64275932312012,\"y\":1054.9673461914062}},\"697\":{\"from_node_id\":\"706\",\"to_node_id\":\"704\",\"b1\":{\"x\":9.392759323120117,\"y\":1054.9673461914062},\"b2\":{\"x\":41.67773246765137,\"y\":1054.9673461914062}}}},\"128\":{\"name\":\"S6P synthase\",\"bigg_id\":\"[M]_S6PS_c\",\"reversibility\":false,\"label_x\":283.46203422546387,\"label_y\":1014.9673461914062,\"gene_reaction_rule\":\"\",\"genes\":[],\"metabolites\":[{\"bigg_id\":\"[M]_F6P_c\",\"coefficient\":-1},{\"bigg_id\":\"[M]_S6P_c\",\"coefficient\":1},{\"bigg_id\":\"[M]_UDPG_c\",\"coefficient\":-1},{\"bigg_id\":\"[M]_UDP_c\",\"coefficient\":1}],\"segments\":{\"700\":{\"from_node_id\":\"712\",\"to_node_id\":\"713\",\"b1\":null,\"b2\":null},\"701\":{\"from_node_id\":\"714\",\"to_node_id\":\"713\",\"b1\":null,\"b2\":null},\"702\":{\"from_node_id\":\"712\",\"to_node_id\":\"709\",\"b1\":{\"x\":271.46203422546387,\"y\":1054.9673461914062},\"b2\":{\"x\":305.1427593231201,\"y\":1054.9673461914062}},\"703\":{\"from_node_id\":\"714\",\"to_node_id\":\"715\",\"b1\":{\"x\":395.46203422546387,\"y\":1054.9673461914062},\"b2\":{\"x\":449.71203422546387,\"y\":1054.9673461914062}}}},\"129\":{\"name\":\"S6P phosphorylase\",\"bigg_id\":\"[M]_S6PPh_c\",\"reversibility\":false,\"label_x\":546.9270000457764,\"label_y\":1014.9673461914062,\"gene_reaction_rule\":\"\",\"genes\":[],\"metabolites\":[{\"bigg_id\":\"[M]_H2O_c\",\"coefficient\":-1},{\"bigg_id\":\"[M]_Pi_c\",\"coefficient\":1},{\"bigg_id\":\"[M]_S6P_c\",\"coefficient\":-1},{\"bigg_id\":\"[M]_Suc_c\",\"coefficient\":1}],\"segments\":{\"706\":{\"from_node_id\":\"718\",\"to_node_id\":\"719\",\"b1\":null,\"b2\":null},\"707\":{\"from_node_id\":\"720\",\"to_node_id\":\"719\",\"b1\":null,\"b2\":null},\"710\":{\"from_node_id\":\"718\",\"to_node_id\":\"715\",\"b1\":{\"x\":534.9270000457764,\"y\":1054.9673461914062},\"b2\":{\"x\":567.2120342254639,\"y\":1054.9673461914062}},\"711\":{\"from_node_id\":\"720\",\"to_node_id\":\"723\",\"b1\":{\"x\":658.9270000457764,\"y\":1054.9673461914062},\"b2\":{\"x\":713.1770000457764,\"y\":1054.9673461914062}}}},\"130\":{\"name\":\"[MB]_Suc_c\",\"bigg_id\":\"[MB]_Suc_c\",\"reversibility\":true,\"label_x\":786.9270000457764,\"label_y\":1375.3088989257812,\"gene_reaction_rule\":\"\",\"genes\":[],\"metabolites\":[{\"bigg_id\":\"[B]_Suc_c\",\"coefficient\":1},{\"bigg_id\":\"[M]_Suc_c\",\"coefficient\":-1}],\"segments\":{\"712\":{\"from_node_id\":\"724\",\"to_node_id\":\"725\",\"b1\":null,\"b2\":null},\"713\":{\"from_node_id\":\"726\",\"to_node_id\":\"725\",\"b1\":null,\"b2\":null},\"714\":{\"from_node_id\":\"726\",\"to_node_id\":\"363\",\"b1\":{\"x\":771.9270000457764,\"y\":1291.9673461914062},\"b2\":{\"x\":771.9270000457764,\"y\":2088.7433471679688}},\"715\":{\"from_node_id\":\"724\",\"to_node_id\":\"723\",\"b1\":{\"x\":771.9270000457764,\"y\":1167.9673461914062},\"b2\":{\"x\":771.9270000457764,\"y\":1113.7173461914062}}}},\"131\":{\"name\":\"Tr_Asp_mc\",\"bigg_id\":\"[B]_Tr_Asp_mc\",\"reversibility\":true,\"label_x\":1254.9667358398438,\"label_y\":3738.2415351867676,\"gene_reaction_rule\":\"\",\"genes\":[],\"metabolites\":[{\"bigg_id\":\"[B]_Asp_c\",\"coefficient\":1},{\"bigg_id\":\"[B]_Asp_m\",\"coefficient\":-1}],\"segments\":{\"716\":{\"from_node_id\":\"728\",\"to_node_id\":\"729\",\"b1\":null,\"b2\":null},\"717\":{\"from_node_id\":\"730\",\"to_node_id\":\"729\",\"b1\":null,\"b2\":null},\"718\":{\"from_node_id\":\"730\",\"to_node_id\":\"185\",\"b1\":{\"x\":3337.0399780273438,\"y\":3509.9805488586426},\"b2\":{\"x\":3337.0402221679688,\"y\":3822.18208694458}},\"719\":{\"from_node_id\":\"728\",\"to_node_id\":\"582\",\"b1\":{\"x\":1493.7348022460938,\"y\":3812.6458320617676},\"b2\":{\"x\":1495.1290893554688,\"y\":3426.3728828430176}}}},\"132\":{\"name\":\"R_Tr_Ala_mc\",\"bigg_id\":\"[B]_Tr_Ala_mc\",\"reversibility\":true,\"label_x\":1606.4703979492188,\"label_y\":3734.3384590148926,\"gene_reaction_rule\":\"\",\"genes\":[],\"metabolites\":[{\"bigg_id\":\"[B]_Ala_c\",\"coefficient\":-1},{\"bigg_id\":\"[B]_Ala_m\",\"coefficient\":1}],\"segments\":{\"720\":{\"from_node_id\":\"732\",\"to_node_id\":\"733\",\"b1\":null,\"b2\":null},\"721\":{\"from_node_id\":\"734\",\"to_node_id\":\"733\",\"b1\":null,\"b2\":null},\"722\":{\"from_node_id\":\"732\",\"to_node_id\":\"189\",\"b1\":{\"x\":3588.1522827148438,\"y\":3755.6631660461426},\"b2\":{\"x\":3585.3634643554688,\"y\":3750.305866241455}},\"723\":{\"from_node_id\":\"734\",\"to_node_id\":\"581\",\"b1\":{\"x\":1590.0761108398438,\"y\":3764.1245918273926},\"b2\":{\"x\":1585.8931274414062,\"y\":3423.8645820617676}}}},\"134\":{\"name\":\"FBPase\",\"bigg_id\":\"[B]_FBPase_c\",\"reversibility\":false,\"label_x\":-238.2570457458496,\"label_y\":2067.4127464294434,\"gene_reaction_rule\":\"\",\"genes\":[],\"metabolites\":[{\"bigg_id\":\"[B]_F6P_c\",\"coefficient\":1},{\"bigg_id\":\"[B]_FBP_c\",\"coefficient\":-1},{\"bigg_id\":\"[B]_H2O_c\",\"coefficient\":-1},{\"bigg_id\":\"[B]_Pi_c\",\"coefficient\":1}],\"segments\":{\"731\":{\"from_node_id\":\"743\",\"to_node_id\":\"744\",\"b1\":null,\"b2\":null},\"732\":{\"from_node_id\":\"745\",\"to_node_id\":\"744\",\"b1\":null,\"b2\":null},\"733\":{\"from_node_id\":\"745\",\"to_node_id\":\"318\",\"b1\":{\"x\":-18.34404754638672,\"y\":2077.6920433044434},\"b2\":{\"x\":-18.808341026306152,\"y\":2103.5755882263184}},\"734\":{\"from_node_id\":\"743\",\"to_node_id\":\"314\",\"b1\":{\"x\":-19.72587776184082,\"y\":2039.6316184997559},\"b2\":{\"x\":-19.725879669189453,\"y\":2036.703395843506}}}},\"136\":{\"name\":\"Pyr kinase\",\"bigg_id\":\"[B]_PyrK_c\",\"reversibility\":false,\"label_x\":2830.192070944275,\"label_y\":1598.899410130277,\"gene_reaction_rule\":\"\",\"genes\":[],\"metabolites\":[{\"bigg_id\":\"[B]_ADP_c\",\"coefficient\":-1},{\"bigg_id\":\"[B]_ATP_c\",\"coefficient\":1},{\"bigg_id\":\"[B]_H_c\",\"coefficient\":-1},{\"bigg_id\":\"[B]_PEP_c\",\"coefficient\":-1},{\"bigg_id\":\"[B]_Pyr_c\",\"coefficient\":1}],\"segments\":{\"742\":{\"from_node_id\":\"753\",\"to_node_id\":\"754\",\"b1\":null,\"b2\":null},\"743\":{\"from_node_id\":\"755\",\"to_node_id\":\"754\",\"b1\":null,\"b2\":null},\"747\":{\"from_node_id\":\"753\",\"to_node_id\":\"233\",\"b1\":{\"x\":2818.192070944275,\"y\":1638.899410130277},\"b2\":{\"x\":2820.1991510224,\"y\":1638.899410130277}},\"748\":{\"from_node_id\":\"755\",\"to_node_id\":\"181\",\"b1\":{\"x\":2942.192070944275,\"y\":1638.899410130277},\"b2\":{\"x\":2937.299981100525,\"y\":1637.457027317777}}}}},\"nodes\":{\"12\":{\"node_type\":\"metabolite\",\"x\":1289.6665649414062,\"y\":-320.00006103515625,\"bigg_id\":\"[M]_CO2_c\",\"name\":\"CO2\",\"label_x\":1324.351962073744,\"label_y\":-340.41893299433843,\"node_is_primary\":true},\"13\":{\"node_type\":\"multimarker\",\"x\":1285.6845092773438,\"y\":-1008.7737426757812},\"14\":{\"node_type\":\"midmarker\",\"x\":1285.6845092773438,\"y\":-988.7737426757812},\"15\":{\"node_type\":\"multimarker\",\"x\":1285.6845092773438,\"y\":-968.7737426757812},\"16\":{\"node_type\":\"multimarker\",\"x\":1134.6665649414062,\"y\":-320.00006103515625},\"17\":{\"node_type\":\"midmarker\",\"x\":1114.6665649414062,\"y\":-320.00006103515625},\"18\":{\"node_type\":\"multimarker\",\"x\":1094.6665649414062,\"y\":-320.00006103515625},\"19\":{\"node_type\":\"metabolite\",\"x\":939.6665649414062,\"y\":-320.0000610351562,\"bigg_id\":\"[M]_CO2_h\",\"name\":\"CO2\",\"label_x\":891.0665649414063,\"label_y\":-280.0000610351562,\"node_is_primary\":true},\"20\":{\"node_type\":\"multimarker\",\"x\":784.6665649414062,\"y\":-320.0000610351562},\"21\":{\"node_type\":\"midmarker\",\"x\":764.6665649414062,\"y\":-320.0000610351562},\"22\":{\"node_type\":\"multimarker\",\"x\":744.6665649414062,\"y\":-320.0000610351562},\"25\":{\"node_type\":\"metabolite\",\"x\":582.8522338867188,\"y\":-319.66468811035145,\"bigg_id\":\"[M]_PGA_h\",\"name\":\"C3H4O7P\",\"label_x\":522.8673156738282,\"label_y\":-262.1553192138671,\"node_is_primary\":true},\"26\":{\"node_type\":\"metabolite\",\"x\":940.3206176757812,\"y\":-440.28026580810547,\"bigg_id\":\"[M]_RuBP_h\",\"name\":\"C5H8O11P2\",\"label_x\":895.6539306640625,\"label_y\":-392.28026580810547,\"node_is_primary\":true},\"27\":{\"node_type\":\"multimarker\",\"x\":788.5404052734375,\"y\":-547.3853912353514},\"28\":{\"node_type\":\"midmarker\",\"x\":768.5404052734375,\"y\":-547.3853912353514},\"29\":{\"node_type\":\"multimarker\",\"x\":748.5404052734375,\"y\":-547.3853912353514},\"33\":{\"node_type\":\"metabolite\",\"x\":581.9457397460938,\"y\":-548.71870803833,\"bigg_id\":\"[M]_PGCA_h\",\"name\":\"C2H2O6P\",\"label_x\":504.80517578125,\"label_y\":-498.0520439147948,\"node_is_primary\":true},\"34\":{\"node_type\":\"multimarker\",\"x\":426.94573974609375,\"y\":-548.71870803833},\"35\":{\"node_type\":\"midmarker\",\"x\":406.94573974609375,\"y\":-548.71870803833},\"36\":{\"node_type\":\"multimarker\",\"x\":386.94573974609375,\"y\":-548.71870803833},\"37\":{\"node_type\":\"metabolite\",\"x\":263.6274108886719,\"y\":-548.7187080383299,\"bigg_id\":\"[M]_GCA_h\",\"name\":\"C2H3O3\",\"label_x\":215.02741088867185,\"label_y\":-499.385372161865,\"node_is_primary\":true},\"40\":{\"node_type\":\"multimarker\",\"x\":1289.6665649414062,\"y\":-165.00006103515625},\"41\":{\"node_type\":\"midmarker\",\"x\":1289.6665649414062,\"y\":-145.00006103515625},\"42\":{\"node_type\":\"multimarker\",\"x\":1289.6665649414062,\"y\":-125.00006103515625},\"44\":{\"node_type\":\"metabolite\",\"x\":1289.6665649414062,\"y\":29.99993896484375,\"bigg_id\":\"[M]_HCO3_c\",\"name\":\"CHO3\",\"label_x\":1310.6665649414062,\"label_y\":7.333271503448486,\"node_is_primary\":true},\"52\":{\"node_type\":\"multimarker\",\"x\":1409.2748762987262,\"y\":211.32401972572646},\"53\":{\"node_type\":\"midmarker\",\"x\":1408.6665649414062,\"y\":191.33327293395996},\"54\":{\"node_type\":\"multimarker\",\"x\":1408.0582535840863,\"y\":171.34252614219335},\"55\":{\"node_type\":\"metabolite\",\"x\":1287.6666870117188,\"y\":363.3332710266113,\"bigg_id\":\"[M]_OAA_c\",\"name\":\"C4H2O5\",\"label_x\":1323.0366577148438,\"label_y\":346.7503852844238,\"node_is_primary\":true},\"56\":{\"node_type\":\"metabolite\",\"x\":1288.9999389648438,\"y\":128.66659545898438,\"bigg_id\":\"[M]_PEP_c\",\"name\":\"C3H2O6P\",\"label_x\":1248.0422729492188,\"label_y\":98.7098388671875,\"node_is_primary\":true},\"58\":{\"node_type\":\"multimarker\",\"x\":1287.6666870117188,\"y\":558.3332710266113},\"59\":{\"node_type\":\"midmarker\",\"x\":1287.6666870117188,\"y\":538.3332710266113},\"60\":{\"node_type\":\"multimarker\",\"x\":1287.6666870117188,\"y\":518.3332710266113},\"62\":{\"node_type\":\"metabolite\",\"x\":1288.2583618164062,\"y\":713.9249458312988,\"bigg_id\":\"[M]_Mal_c\",\"name\":\"C4H4O5\",\"label_x\":1313.2583618164062,\"label_y\":713.9249458312988,\"node_is_primary\":true},\"65\":{\"node_type\":\"multimarker\",\"x\":1104.7414227730005,\"y\":515.4533788621472},\"66\":{\"node_type\":\"midmarker\",\"x\":1104.6664622477163,\"y\":535.4532383846456},\"67\":{\"node_type\":\"multimarker\",\"x\":1104.5915017224293,\"y\":555.453097907144},\"69\":{\"node_type\":\"metabolite\",\"x\":936.4449052943767,\"y\":366.74583911265717,\"bigg_id\":\"[M]_Mal_h\",\"name\":\"C4H4O5\",\"label_x\":810.069819845158,\"label_y\":370.74583911265717,\"node_is_primary\":true},\"70\":{\"node_type\":\"metabolite\",\"x\":939.6578197788833,\"y\":720.7443946164624,\"bigg_id\":\"[M]_OAA_h\",\"name\":\"C4H2O5\",\"label_x\":797.7244457554459,\"label_y\":736.7443946164624,\"node_is_primary\":true},\"71\":{\"node_type\":\"multimarker\",\"x\":937.7782182826579,\"y\":557.7458391126572},\"72\":{\"node_type\":\"midmarker\",\"x\":937.7782182826579,\"y\":537.7458391126572},\"73\":{\"node_type\":\"multimarker\",\"x\":937.7782182826579,\"y\":517.7458391126572},\"90\":{\"node_type\":\"multimarker\",\"x\":3158.9678344726562,\"y\":522.0020942687988},\"91\":{\"node_type\":\"midmarker\",\"x\":3158.9678344726562,\"y\":544.1748847961426},\"92\":{\"node_type\":\"multimarker\",\"x\":3158.5728149414062,\"y\":562.8415718078613},\"93\":{\"node_type\":\"metabolite\",\"x\":3337.4120483398438,\"y\":370.68107986450195,\"bigg_id\":\"[M]_Ala_c\",\"name\":\"C3H7NO2\",\"label_x\":3310.0651245117188,\"label_y\":339.7982063293457,\"node_is_primary\":true},\"94\":{\"node_type\":\"metabolite\",\"x\":3338.1416625976562,\"y\":715.8662605285645,\"bigg_id\":\"[M]_Asp_c\",\"name\":\"C4H6NO4\",\"label_x\":3353.2651977539062,\"label_y\":691.3724250793457,\"node_is_primary\":true},\"95\":{\"node_type\":\"metabolite\",\"x\":2989.3306274414062,\"y\":719.0569038391113,\"bigg_id\":\"[M]_Pyr_c\",\"name\":\"C3H3O3\",\"label_x\":3000.7750854492188,\"label_y\":693.3531684875488,\"node_is_primary\":true},\"96\":{\"node_type\":\"multimarker\",\"x\":1133.9999389648438,\"y\":128.6665954589844},\"97\":{\"node_type\":\"midmarker\",\"x\":1113.9999389648438,\"y\":128.6665954589844},\"98\":{\"node_type\":\"multimarker\",\"x\":1093.9999389648438,\"y\":128.6665954589844},\"101\":{\"node_type\":\"metabolite\",\"x\":938.9999389648438,\"y\":128.66659545898443,\"bigg_id\":\"[M]_PEP_h\",\"name\":\"C3H2O6P\",\"label_x\":901.1999389648438,\"label_y\":168.66659545898443,\"node_is_primary\":true},\"104\":{\"node_type\":\"multimarker\",\"x\":2816.6066284179688,\"y\":842.0523262023926},\"105\":{\"node_type\":\"midmarker\",\"x\":1114.7053833007812,\"y\":842.0523262023926},\"106\":{\"node_type\":\"multimarker\",\"x\":1094.7053833007812,\"y\":842.0523262023926},\"109\":{\"node_type\":\"metabolite\",\"x\":939.7053833007812,\"y\":842.0523262023926,\"bigg_id\":\"[M]_Pyr_h\",\"name\":\"C3H3O3\",\"label_x\":890.6630126953125,\"label_y\":886.7859687805176,\"node_is_primary\":true},\"110\":{\"node_type\":\"multimarker\",\"x\":772.3787003872201,\"y\":500.5207926303535},\"111\":{\"node_type\":\"midmarker\",\"x\":772.3975830078125,\"y\":480.52080154418945},\"112\":{\"node_type\":\"multimarker\",\"x\":772.4164656284049,\"y\":460.5208104580254},\"119\":{\"node_type\":\"multimarker\",\"x\":-252.7345733642578,\"y\":-547.0999336242674},\"120\":{\"node_type\":\"midmarker\",\"x\":-272.7345733642578,\"y\":-547.0999336242674},\"121\":{\"node_type\":\"multimarker\",\"x\":-292.7345733642578,\"y\":-547.0999336242674},\"122\":{\"node_type\":\"metabolite\",\"x\":-450.0978546142578,\"y\":-547.0999336242674,\"bigg_id\":\"[M]_GCA_c\",\"name\":\"C2H3O3\",\"label_x\":-538.8205352783203,\"label_y\":-582.2900733947752,\"node_is_primary\":true},\"123\":{\"node_type\":\"multimarker\",\"x\":434.35125732421875,\"y\":-212.13581085205064},\"124\":{\"node_type\":\"midmarker\",\"x\":414.35125732421875,\"y\":-212.13581085205064},\"125\":{\"node_type\":\"multimarker\",\"x\":394.35125732421875,\"y\":-212.13581085205064},\"126\":{\"node_type\":\"metabolite\",\"x\":-450.72406005859375,\"y\":-210.9541702270506,\"bigg_id\":\"[M]_PGA_c\",\"name\":\"C3H4O7P\",\"label_x\":-542.9828125,\"label_y\":-246.3160324096678,\"node_is_primary\":true},\"129\":{\"node_type\":\"multimarker\",\"x\":406.75848388671875,\"y\":-320.8462982177733},\"130\":{\"node_type\":\"midmarker\",\"x\":426.75848388671875,\"y\":-320.8462982177733},\"131\":{\"node_type\":\"multimarker\",\"x\":446.75848388671875,\"y\":-320.8462982177733},\"134\":{\"node_type\":\"metabolite\",\"x\":251.75848388671875,\"y\":-320.84629821777327,\"bigg_id\":\"[M]_GCEA_h\",\"name\":\"C3H5O4\",\"label_x\":203.15848388671873,\"label_y\":-268.37239074707014,\"node_is_primary\":true},\"136\":{\"node_type\":\"multimarker\",\"x\":438.34791564941406,\"y\":53.24074935913097},\"137\":{\"node_type\":\"midmarker\",\"x\":418.34791564941406,\"y\":53.24074935913097},\"138\":{\"node_type\":\"multimarker\",\"x\":398.34791564941406,\"y\":53.24074935913097},\"141\":{\"node_type\":\"metabolite\",\"x\":243.34791564941406,\"y\":53.24074935913103,\"bigg_id\":\"[M]_DPGA_h\",\"name\":\"C3H4O10P2\",\"label_x\":194.74791564941404,\"label_y\":105.71467208862322,\"node_is_primary\":true},\"142\":{\"node_type\":\"multimarker\",\"x\":88.34791564941406,\"y\":53.24074935913103},\"143\":{\"node_type\":\"midmarker\",\"x\":68.34791564941406,\"y\":53.24074935913103},\"144\":{\"node_type\":\"multimarker\",\"x\":48.34791564941406,\"y\":53.24074935913103},\"145\":{\"node_type\":\"metabolite\",\"x\":-106.65208435058594,\"y\":53.24074935913109,\"bigg_id\":\"[M]_GAP_h\",\"name\":\"C3H5O6P\",\"label_x\":-251.92501220703127,\"label_y\":55.81896972656273,\"node_is_primary\":true},\"156\":{\"node_type\":\"multimarker\",\"x\":-299.5047149658203,\"y\":-319.66465759277327},\"157\":{\"node_type\":\"midmarker\",\"x\":-279.5047149658203,\"y\":-319.66465759277327},\"158\":{\"node_type\":\"multimarker\",\"x\":-259.5047149658203,\"y\":-319.66465759277327},\"159\":{\"node_type\":\"metabolite\",\"x\":-450.10450744628906,\"y\":-319.6646575927732,\"bigg_id\":\"[M]_GCEA_c\",\"name\":\"C3H5O4\",\"label_x\":-544.8165435791016,\"label_y\":-354.26539611816384,\"node_is_primary\":true},\"163\":{\"node_type\":\"metabolite\",\"x\":68.78190231323242,\"y\":413.1180992126467,\"bigg_id\":\"[M]_DHAP_h\",\"name\":\"C3H5O6P\",\"label_x\":106.25582504272461,\"label_y\":419.35506820678734,\"node_is_primary\":true},\"174\":{\"node_type\":\"multimarker\",\"x\":1288.8482055664062,\"y\":1107.025592803955},\"175\":{\"node_type\":\"midmarker\",\"x\":1291.9885864257812,\"y\":1463.0464668273926},\"176\":{\"node_type\":\"multimarker\",\"x\":1291.9885864257812,\"y\":1483.0464668273926},\"177\":{\"node_type\":\"metabolite\",\"x\":1291.9885864257812,\"y\":1638.0464668273926,\"bigg_id\":\"[B]_Mal_c\",\"name\":\"C4H4O5\",\"label_x\":1169.7308959960938,\"label_y\":1640.6761054992676,\"node_is_primary\":true},\"178\":{\"node_type\":\"multimarker\",\"x\":2985.7622680664062,\"y\":1110.07857131958},\"179\":{\"node_type\":\"midmarker\",\"x\":2988.9026489257812,\"y\":1466.0994453430176},\"180\":{\"node_type\":\"multimarker\",\"x\":2988.9026489257812,\"y\":1486.0994453430176},\"181\":{\"node_type\":\"metabolite\",\"x\":2988.9026489257812,\"y\":1641.0994453430176,\"bigg_id\":\"[B]_Pyr_c\",\"name\":\"C3H3O3\",\"label_x\":2880.2689819335938,\"label_y\":1681.0533027648926,\"node_is_primary\":true},\"182\":{\"node_type\":\"multimarker\",\"x\":3336.6189575195312,\"y\":1108.9669075012207},\"183\":{\"node_type\":\"midmarker\",\"x\":3339.7593383789062,\"y\":1464.9877815246582},\"184\":{\"node_type\":\"multimarker\",\"x\":3339.7593383789062,\"y\":1484.9877815246582},\"185\":{\"node_type\":\"metabolite\",\"x\":3339.7593383789062,\"y\":1639.9877815246582,\"bigg_id\":\"[B]_Asp_c\",\"name\":\"C4H6NO4\",\"label_x\":3345.0130004882812,\"label_y\":1683.7119026184082,\"node_is_primary\":true},\"186\":{\"node_type\":\"multimarker\",\"x\":3584.0829467773438,\"y\":1104.4651374816895},\"187\":{\"node_type\":\"midmarker\",\"x\":3587.2233276367188,\"y\":1460.486011505127},\"188\":{\"node_type\":\"multimarker\",\"x\":3587.2233276367188,\"y\":1480.486011505127},\"189\":{\"node_type\":\"metabolite\",\"x\":3587.2233276367188,\"y\":1635.486011505127,\"bigg_id\":\"[B]_Ala_c\",\"name\":\"C3H7NO2\",\"label_x\":3612.2233276367188,\"label_y\":1675.595630645752,\"node_is_primary\":true},\"194\":{\"node_type\":\"multimarker\",\"x\":3908.3513446201473,\"y\":-316.2150125791493},\"195\":{\"node_type\":\"midmarker\",\"x\":3898.1085792200147,\"y\":771.5875536590136},\"196\":{\"node_type\":\"multimarker\",\"x\":3898.3758235855084,\"y\":791.585768090534},\"197\":{\"node_type\":\"metabolite\",\"x\":3900.378852183705,\"y\":1632.682305339183,\"bigg_id\":\"[B]_CO2_ex_c\",\"name\":\"\",\"label_x\":3929.7264351915173,\"label_y\":1642.183770182933,\"node_is_primary\":true},\"230\":{\"node_type\":\"multimarker\",\"x\":2760.4410485212625,\"y\":1107.8901944322583},\"231\":{\"node_type\":\"midmarker\",\"x\":2763.362734164408,\"y\":1463.9098727300116},\"232\":{\"node_type\":\"multimarker\",\"x\":2763.1440389481786,\"y\":1483.9086770043273},\"233\":{\"node_type\":\"metabolite\",\"x\":2761.4491510224,\"y\":1638.899410130277,\"bigg_id\":\"[B]_PEP_c\",\"name\":\"C3H2O6P\",\"label_x\":2724.9795221161503,\"label_y\":1683.7076376693394,\"node_is_primary\":true},\"242\":{\"node_type\":\"multimarker\",\"x\":69.2252311706543,\"y\":214.16918563842796},\"243\":{\"node_type\":\"midmarker\",\"x\":69.2252311706543,\"y\":234.16918563842796},\"244\":{\"node_type\":\"multimarker\",\"x\":69.2252311706543,\"y\":254.16918563842796},\"246\":{\"node_type\":\"multimarker\",\"x\":-1387.9415445666696,\"y\":570.1724733573891},\"247\":{\"node_type\":\"midmarker\",\"x\":-1387.9115005987562,\"y\":590.172450791376},\"248\":{\"node_type\":\"multimarker\",\"x\":-1387.8814566308424,\"y\":610.1724282253638},\"249\":{\"node_type\":\"metabolite\",\"x\":-1390.436671299435,\"y\":1639.483837811419,\"bigg_id\":\"[B]_GCA_c\",\"name\":\"C2H3O3\",\"label_x\":-1373.87529434631,\"label_y\":1681.5857665223566,\"node_is_primary\":true},\"250\":{\"node_type\":\"multimarker\",\"x\":-1148.4550216573195,\"y\":555.3234787943106},\"251\":{\"node_type\":\"midmarker\",\"x\":-1148.894439839888,\"y\":575.3186510031423},\"252\":{\"node_type\":\"multimarker\",\"x\":-1149.3338580224572,\"y\":595.3138232119738},\"253\":{\"node_type\":\"metabolite\",\"x\":-1155.5274043572886,\"y\":1634.4687296077614,\"bigg_id\":\"[B]_GCEA_c\",\"name\":\"C3H5O4\",\"label_x\":-1133.8562617791636,\"label_y\":1674.4687296077614,\"node_is_primary\":true},\"254\":{\"node_type\":\"multimarker\",\"x\":-867.1783315057912,\"y\":562.220728790473},\"255\":{\"node_type\":\"midmarker\",\"x\":-867.2743834476016,\"y\":582.2204981397549},\"256\":{\"node_type\":\"multimarker\",\"x\":-867.3704353894125,\"y\":602.2202674890368},\"257\":{\"node_type\":\"metabolite\",\"x\":-870.9028933583668,\"y\":1637.458531215502,\"bigg_id\":\"[B]_PGA_c\",\"name\":\"C3H4O7P\",\"label_x\":-838.480737596648,\"label_y\":1681.7884872701895,\"node_is_primary\":true},\"270\":{\"node_type\":\"multimarker\",\"x\":2194.243338337141,\"y\":3921.0903811942035},\"271\":{\"node_type\":\"midmarker\",\"x\":2194.4680783213207,\"y\":3920.9236191061273},\"272\":{\"node_type\":\"multimarker\",\"x\":-866.1605142140293,\"y\":3917.69533358055},\"276\":{\"node_type\":\"multimarker\",\"x\":68.78190231323242,\"y\":568.1180992126467},\"277\":{\"node_type\":\"midmarker\",\"x\":68.78190231323242,\"y\":588.1180992126467},\"278\":{\"node_type\":\"multimarker\",\"x\":68.78190231323242,\"y\":608.1180992126467},\"279\":{\"node_type\":\"metabolite\",\"x\":68.78190231323242,\"y\":763.1180992126467,\"bigg_id\":\"[M]_DHAP_c\",\"name\":\"C3H5O6P\",\"label_x\":93.78190231323242,\"label_y\":763.1180992126467,\"node_is_primary\":true},\"282\":{\"node_type\":\"multimarker\",\"x\":68.78190231323242,\"y\":1033.5127525329592},\"283\":{\"node_type\":\"midmarker\",\"x\":68.78190231323242,\"y\":1053.5127525329592},\"284\":{\"node_type\":\"multimarker\",\"x\":68.78190231323242,\"y\":1073.5127525329592},\"285\":{\"node_type\":\"metabolite\",\"x\":69.94613265991211,\"y\":1637.6511802673342,\"bigg_id\":\"[B]_DHAP_c\",\"name\":\"C3H5O6P\",\"label_x\":98.89843368530273,\"label_y\":1641.6035728454592,\"node_is_primary\":true},\"286\":{\"node_type\":\"multimarker\",\"x\":-106.65208435058594,\"y\":208.2407493591311},\"287\":{\"node_type\":\"midmarker\",\"x\":-106.65208435058594,\"y\":228.2407493591311},\"288\":{\"node_type\":\"multimarker\",\"x\":-106.65208435058594,\"y\":248.2407493591311},\"289\":{\"node_type\":\"metabolite\",\"x\":-112.58052825927734,\"y\":758.9476585388186,\"bigg_id\":\"[M]_GAP_c\",\"name\":\"C3H5O6P\",\"label_x\":-87.58052825927734,\"label_y\":758.9476585388186,\"node_is_primary\":true},\"292\":{\"node_type\":\"multimarker\",\"x\":-112.58052825927734,\"y\":1029.342311859131},\"293\":{\"node_type\":\"midmarker\",\"x\":-112.58052825927734,\"y\":1049.342311859131},\"294\":{\"node_type\":\"multimarker\",\"x\":-112.58052825927734,\"y\":1069.342311859131},\"295\":{\"node_type\":\"metabolite\",\"x\":-111.41629791259766,\"y\":1633.480739593506,\"bigg_id\":\"[B]_GAP_c\",\"name\":\"C3H5O6P\",\"label_x\":-86.41629791259766,\"label_y\":1639.409206390381,\"node_is_primary\":true},\"296\":{\"node_type\":\"multimarker\",\"x\":-715.9028933583668,\"y\":1637.458531215502},\"297\":{\"node_type\":\"midmarker\",\"x\":-695.9028933583668,\"y\":1637.458531215502},\"298\":{\"node_type\":\"multimarker\",\"x\":-675.9028933583668,\"y\":1637.458531215502},\"301\":{\"node_type\":\"metabolite\",\"x\":-520.9028933583668,\"y\":1637.458531215502,\"bigg_id\":\"[B]_DPGA_c\",\"name\":\"C3H4O10P2\",\"label_x\":-569.5028933583668,\"label_y\":1683.764439418627,\"node_is_primary\":true},\"302\":{\"node_type\":\"multimarker\",\"x\":-325.9028933583668,\"y\":1637.458531215502},\"303\":{\"node_type\":\"midmarker\",\"x\":-345.9028933583668,\"y\":1637.458531215502},\"304\":{\"node_type\":\"multimarker\",\"x\":-365.9028933583668,\"y\":1637.458531215502},\"310\":{\"node_type\":\"multimarker\",\"x\":-22.48956298828125,\"y\":1788.480739593506},\"311\":{\"node_type\":\"midmarker\",\"x\":-22.48956298828125,\"y\":1808.480739593506},\"312\":{\"node_type\":\"multimarker\",\"x\":-22.48956298828125,\"y\":1828.480739593506},\"314\":{\"node_type\":\"metabolite\",\"x\":-21.10772132873535,\"y\":1983.480739593506,\"bigg_id\":\"[B]_FBP_c\",\"name\":\"C6H10O12P2\",\"label_x\":-153.0286159515381,\"label_y\":1988.1649436950686,\"node_is_primary\":true},\"318\":{\"node_type\":\"metabolite\",\"x\":-19.393872261047363,\"y\":2155.3404808044434,\"bigg_id\":\"[B]_F6P_c\",\"name\":\"C6H11O9P\",\"label_x\":-150.5096960067749,\"label_y\":2175.1019554138184,\"node_is_primary\":true},\"337\":{\"node_type\":\"multimarker\",\"x\":112.03338623046875,\"y\":1978.676296234131},\"338\":{\"node_type\":\"midmarker\",\"x\":132.03338623046875,\"y\":1978.676296234131},\"339\":{\"node_type\":\"multimarker\",\"x\":152.03338623046875,\"y\":1978.676296234131},\"340\":{\"node_type\":\"metabolite\",\"x\":307.03338623046875,\"y\":1978.676296234131,\"bigg_id\":\"[B]_G6P_c\",\"name\":\"C6H11O9P\",\"label_x\":258.4333862304687,\"label_y\":2018.676296234131,\"node_is_primary\":true},\"341\":{\"node_type\":\"multimarker\",\"x\":462.03338623046875,\"y\":1978.676296234131},\"342\":{\"node_type\":\"midmarker\",\"x\":482.03338623046875,\"y\":1978.676296234131},\"343\":{\"node_type\":\"multimarker\",\"x\":502.03338623046875,\"y\":1978.676296234131},\"344\":{\"node_type\":\"metabolite\",\"x\":657.0333862304688,\"y\":1978.676296234131,\"bigg_id\":\"[B]_G1P_c\",\"name\":\"C6H11O9P\",\"label_x\":626.415625,\"label_y\":1942.0152854919436,\"node_is_primary\":true},\"345\":{\"node_type\":\"multimarker\",\"x\":599.3300554841104,\"y\":2073.788604110877},\"346\":{\"node_type\":\"midmarker\",\"x\":579.3357543945312,\"y\":2074.2660179138184},\"347\":{\"node_type\":\"multimarker\",\"x\":559.3414533049521,\"y\":2074.74343171676},\"352\":{\"node_type\":\"multimarker\",\"x\":133.77105712890625,\"y\":2152.5775413513184},\"353\":{\"node_type\":\"midmarker\",\"x\":153.77105712890625,\"y\":2152.5775413513184},\"354\":{\"node_type\":\"multimarker\",\"x\":173.77105712890625,\"y\":2152.5775413513184},\"355\":{\"node_type\":\"metabolite\",\"x\":328.77105712890625,\"y\":2152.5775413513184,\"bigg_id\":\"[B]_S6P_c\",\"name\":\"C12H21O14P\",\"label_x\":280.1710571289062,\"label_y\":2192.5775413513184,\"node_is_primary\":true},\"356\":{\"node_type\":\"metabolite\",\"x\":276.028263092041,\"y\":2072.5094261169434,\"bigg_id\":\"[B]_UDPG_c\",\"name\":\"C15H22N2O17P2\",\"label_x\":222.02826309204102,\"label_y\":2112.5094261169434,\"node_is_primary\":true},\"358\":{\"node_type\":\"multimarker\",\"x\":483.77105712890625,\"y\":2152.5775413513184},\"359\":{\"node_type\":\"midmarker\",\"x\":503.77105712890625,\"y\":2152.5775413513184},\"360\":{\"node_type\":\"multimarker\",\"x\":523.7710571289062,\"y\":2152.5775413513184},\"363\":{\"node_type\":\"metabolite\",\"x\":769.1104125976562,\"y\":2151.631130218506,\"bigg_id\":\"[B]_Suc_c\",\"name\":\"C12H22O11\",\"label_x\":725.9104125976562,\"label_y\":2191.631130218506,\"node_is_primary\":true},\"396\":{\"node_type\":\"multimarker\",\"x\":1446.9885864257812,\"y\":1638.0464668273926},\"397\":{\"node_type\":\"midmarker\",\"x\":1466.9885864257812,\"y\":1638.0464668273926},\"398\":{\"node_type\":\"multimarker\",\"x\":1486.9885864257812,\"y\":1638.0464668273926},\"402\":{\"node_type\":\"metabolite\",\"x\":1582.4837036132812,\"y\":1636.402057647705,\"bigg_id\":\"[B]_OAA_c\",\"name\":\"C4H2O5\",\"label_x\":1542.0540649414063,\"label_y\":1606.7176094055176,\"node_is_primary\":true},\"442\":{\"node_type\":\"multimarker\",\"x\":2403.4094848632812,\"y\":1636.402057647705},\"443\":{\"node_type\":\"midmarker\",\"x\":2423.4094848632812,\"y\":1636.402057647705},\"444\":{\"node_type\":\"multimarker\",\"x\":2443.4094848632812,\"y\":1636.402057647705},\"447\":{\"node_type\":\"metabolite\",\"x\":2479.2601928710938,\"y\":1474.2293281555176,\"bigg_id\":\"[B]_CO2_c\",\"name\":\"CO2\",\"label_x\":2503.5758422851563,\"label_y\":1451.1131172180176,\"node_is_primary\":true},\"449\":{\"node_type\":\"multimarker\",\"x\":3180.1638793945312,\"y\":1833.8238410949707},\"450\":{\"node_type\":\"midmarker\",\"x\":3180.1638793945312,\"y\":1813.8238410949707},\"451\":{\"node_type\":\"multimarker\",\"x\":3180.1638793945312,\"y\":1793.8238410949707},\"468\":{\"node_type\":\"metabolite\",\"x\":2557.254638671875,\"y\":2644.2354736328125,\"bigg_id\":\"[B]_Mal_h\",\"name\":\"C4H4O5\",\"label_x\":2581.18212890625,\"label_y\":2620.6953125,\"node_is_primary\":true},\"470\":{\"node_type\":\"metabolite\",\"x\":2990.5491943359375,\"y\":2644.2545166015625,\"bigg_id\":\"[B]_Pyr_h\",\"name\":\"C3H3O3\",\"label_x\":2963.0924072265625,\"label_y\":2695.6025390625,\"node_is_primary\":true},\"471\":{\"node_type\":\"multimarker\",\"x\":2769.9520263671875,\"y\":2648.5093994140625},\"472\":{\"node_type\":\"midmarker\",\"x\":2789.9520263671875,\"y\":2648.5093994140625},\"473\":{\"node_type\":\"multimarker\",\"x\":2809.9520263671875,\"y\":2648.5093994140625},\"474\":{\"node_type\":\"metabolite\",\"x\":2991.3847045898438,\"y\":2787.396728515625,\"bigg_id\":\"[B]_CO2_h\",\"name\":\"CO2\",\"label_x\":2964.9905639648437,\"label_y\":2845.26123046875,\"node_is_primary\":true},\"483\":{\"node_type\":\"metabolite\",\"x\":2412.8193359375,\"y\":3045.95849609375,\"bigg_id\":\"[B]_PGA_h\",\"name\":\"C3H4O7P\",\"label_x\":2281.2621337890623,\"label_y\":3018.58154296875,\"node_is_primary\":true},\"485\":{\"node_type\":\"multimarker\",\"x\":2854.87060546875,\"y\":3048.09765625},\"486\":{\"node_type\":\"midmarker\",\"x\":2834.87060546875,\"y\":3048.09765625},\"487\":{\"node_type\":\"multimarker\",\"x\":2814.87060546875,\"y\":3048.09765625},\"491\":{\"node_type\":\"metabolite\",\"x\":2989.6767578125,\"y\":3153.792236328125,\"bigg_id\":\"[B]_RuBP_h\",\"name\":\"C5H8O11P2\",\"label_x\":3022.277099609375,\"label_y\":3162.3876953125,\"node_is_primary\":true},\"492\":{\"node_type\":\"multimarker\",\"x\":2853.3896484375,\"y\":3255.618896484375},\"493\":{\"node_type\":\"midmarker\",\"x\":2833.3896484375,\"y\":3255.618896484375},\"494\":{\"node_type\":\"multimarker\",\"x\":2813.3896484375,\"y\":3255.618896484375},\"496\":{\"node_type\":\"metabolite\",\"x\":2990.55126953125,\"y\":3251.52490234375,\"bigg_id\":\"[B]_O2_h\",\"name\":\"O2\",\"label_x\":2955.9162109375,\"label_y\":3300.0439453125,\"node_is_primary\":true},\"498\":{\"node_type\":\"metabolite\",\"x\":2663.6771240234375,\"y\":3254.728515625,\"bigg_id\":\"[B]_PGCA_h\",\"name\":\"C2H2O6P\",\"label_x\":2514.6353515625,\"label_y\":3266.859130859375,\"node_is_primary\":true},\"499\":{\"node_type\":\"multimarker\",\"x\":2663.6771240234375,\"y\":3409.728515625},\"500\":{\"node_type\":\"midmarker\",\"x\":2663.6771240234375,\"y\":3429.728515625},\"501\":{\"node_type\":\"multimarker\",\"x\":2663.6771240234375,\"y\":3449.728515625},\"502\":{\"node_type\":\"metabolite\",\"x\":2663.6771240234375,\"y\":3604.728515625,\"bigg_id\":\"[B]_GCA_h\",\"name\":\"C2H3O3\",\"label_x\":2688.6771240234375,\"label_y\":3604.728515625,\"node_is_primary\":true},\"505\":{\"node_type\":\"multimarker\",\"x\":2669.2251141405523,\"y\":4011.6717281076853},\"506\":{\"node_type\":\"midmarker\",\"x\":585.5106201171875,\"y\":4005.08251953125},\"507\":{\"node_type\":\"multimarker\",\"x\":-1388.090531621021,\"y\":4003.8700199391897},\"509\":{\"node_type\":\"multimarker\",\"x\":3900.378852183705,\"y\":1787.682305339183},\"510\":{\"node_type\":\"midmarker\",\"x\":3900.378852183705,\"y\":1807.682305339183},\"511\":{\"node_type\":\"multimarker\",\"x\":3900.378852183705,\"y\":1827.682305339183},\"512\":{\"node_type\":\"metabolite\",\"x\":3897.963813121205,\"y\":3047.424126628245,\"bigg_id\":\"[B]_CO2_ex_h\",\"name\":\"\",\"label_x\":3922.963813121205,\"label_y\":3047.424126628245,\"node_is_primary\":true},\"517\":{\"node_type\":\"multimarker\",\"x\":2840.6141967773438,\"y\":2879.277587890625},\"518\":{\"node_type\":\"midmarker\",\"x\":2820.6141967773438,\"y\":2879.277587890625},\"519\":{\"node_type\":\"multimarker\",\"x\":2800.6141967773438,\"y\":2879.277587890625},\"538\":{\"node_type\":\"multimarker\",\"x\":2986.3092651367188,\"y\":2275.8533515930176},\"539\":{\"node_type\":\"midmarker\",\"x\":2986.3092651367188,\"y\":2295.8533515930176},\"540\":{\"node_type\":\"multimarker\",\"x\":2986.3092651367188,\"y\":2315.8533515930176},\"544\":{\"node_type\":\"multimarker\",\"x\":1437.9448852539062,\"y\":2295.60200881958},\"545\":{\"node_type\":\"midmarker\",\"x\":1435.1012573242188,\"y\":2296.454792022705},\"546\":{\"node_type\":\"multimarker\",\"x\":1436.9970092773438,\"y\":2297.3074531555176},\"547\":{\"node_type\":\"metabolite\",\"x\":1290.5658569335938,\"y\":2644.02339553833,\"bigg_id\":\"[B]_Mal_m\",\"name\":\"C4H4O5\",\"label_x\":1157.2743530273438,\"label_y\":2650.658405303955,\"node_is_primary\":true},\"549\":{\"node_type\":\"metabolite\",\"x\":1582.3945922851562,\"y\":2643.2093086242676,\"bigg_id\":\"[B]_OAA_m\",\"name\":\"C4H2O5\",\"label_x\":1611.3456420898438,\"label_y\":2652.3565254211426,\"node_is_primary\":true},\"550\":{\"node_type\":\"multimarker\",\"x\":1443.6730346679688,\"y\":2644.969928741455},\"551\":{\"node_type\":\"midmarker\",\"x\":1463.6730346679688,\"y\":2644.969928741455},\"552\":{\"node_type\":\"multimarker\",\"x\":1483.6730346679688,\"y\":2644.969928741455},\"558\":{\"node_type\":\"multimarker\",\"x\":1970.4468994140625,\"y\":2295.3272705078125},\"559\":{\"node_type\":\"midmarker\",\"x\":1990.4468994140625,\"y\":2295.3272705078125},\"560\":{\"node_type\":\"multimarker\",\"x\":2010.4468994140625,\"y\":2295.3272705078125},\"563\":{\"node_type\":\"metabolite\",\"x\":1818.0286865234375,\"y\":2644.4102783203125,\"bigg_id\":\"[B]_OAA_h\",\"name\":\"C4H2O5\",\"label_x\":1839.56943359375,\"label_y\":2618.6732177734375,\"node_is_primary\":true},\"564\":{\"node_type\":\"multimarker\",\"x\":2135.7994384765625,\"y\":2645.3541259765625},\"565\":{\"node_type\":\"midmarker\",\"x\":2155.7994384765625,\"y\":2645.3541259765625},\"566\":{\"node_type\":\"multimarker\",\"x\":2175.7994384765625,\"y\":2645.3541259765625},\"571\":{\"node_type\":\"multimarker\",\"x\":2182.87646484375,\"y\":2788.6236572265625},\"572\":{\"node_type\":\"midmarker\",\"x\":2162.87646484375,\"y\":2788.6236572265625},\"573\":{\"node_type\":\"multimarker\",\"x\":2142.87646484375,\"y\":2788.6236572265625},\"578\":{\"node_type\":\"multimarker\",\"x\":1564.0972089735876,\"y\":2817.3817224328563},\"579\":{\"node_type\":\"midmarker\",\"x\":1544.0982055664062,\"y\":2817.5813789367676},\"580\":{\"node_type\":\"multimarker\",\"x\":1524.099202159225,\"y\":2817.781035440679},\"581\":{\"node_type\":\"metabolite\",\"x\":1585.8931274414062,\"y\":3365.1145820617676,\"bigg_id\":\"[B]_Ala_m\",\"name\":\"C3H7NO2\",\"label_x\":1612.2485961914062,\"label_y\":3370.6297187805176,\"node_is_primary\":true},\"582\":{\"node_type\":\"metabolite\",\"x\":1495.1290893554688,\"y\":3367.6228828430176,\"bigg_id\":\"[B]_Asp_m\",\"name\":\"C4H6NO4\",\"label_x\":1360.6655883789062,\"label_y\":3373.2732734680176,\"node_is_primary\":true},\"584\":{\"node_type\":\"multimarker\",\"x\":1290.5658569335938,\"y\":2799.02339553833},\"585\":{\"node_type\":\"midmarker\",\"x\":1290.5658569335938,\"y\":2819.02339553833},\"586\":{\"node_type\":\"multimarker\",\"x\":1290.5658569335938,\"y\":2839.02339553833},\"587\":{\"node_type\":\"metabolite\",\"x\":1290.5658569335938,\"y\":2994.02339553833,\"bigg_id\":\"[B]_CO2_m\",\"name\":\"CO2\",\"label_x\":1306.0503540039062,\"label_y\":3052.37398147583,\"node_is_primary\":true},\"590\":{\"node_type\":\"metabolite\",\"x\":1401.4198608398438,\"y\":2818.55171585083,\"bigg_id\":\"[B]_Pyr_m\",\"name\":\"C3H3O3\",\"label_x\":1345.5322875976562,\"label_y\":2859.22456741333,\"node_is_primary\":true},\"591\":{\"node_type\":\"multimarker\",\"x\":1046.1943089173585,\"y\":1472.9092479875703},\"592\":{\"node_type\":\"midmarker\",\"x\":1049.3782348632812,\"y\":2996.947956085205},\"593\":{\"node_type\":\"multimarker\",\"x\":1069.3779567076415,\"y\":2997.0534366437773},\"595\":{\"node_type\":\"multimarker\",\"x\":3098.3270874023438,\"y\":1478.5565185546875},\"596\":{\"node_type\":\"midmarker\",\"x\":3093.0409545898438,\"y\":2785.986328125},\"597\":{\"node_type\":\"multimarker\",\"x\":3073.0409545898438,\"y\":2785.986328125},\"599\":{\"node_type\":\"multimarker\",\"x\":2412.8193359375,\"y\":3240.95849609375},\"600\":{\"node_type\":\"midmarker\",\"x\":2412.8193359375,\"y\":3220.95849609375},\"601\":{\"node_type\":\"multimarker\",\"x\":2412.8193359375,\"y\":3200.95849609375},\"604\":{\"node_type\":\"metabolite\",\"x\":2416.380859375,\"y\":3608.565673828125,\"bigg_id\":\"[B]_GCEA_h\",\"name\":\"C3H5O4\",\"label_x\":2262.5361328125,\"label_y\":3617.91015625,\"node_is_primary\":true},\"606\":{\"node_type\":\"multimarker\",\"x\":-1152.7506561279297,\"y\":3957.41357421875},\"607\":{\"node_type\":\"midmarker\",\"x\":2417.4188232421875,\"y\":3978.152587890625},\"608\":{\"node_type\":\"multimarker\",\"x\":2418.4820556640625,\"y\":3977.68505859375},\"618\":{\"node_type\":\"metabolite\",\"x\":1037.958740234375,\"y\":3649.8497314453125,\"bigg_id\":\"[B]_Gly_m\",\"name\":\"C2H5NO2\",\"label_x\":981.4137906870253,\"label_y\":3703.9325379529273,\"node_is_primary\":true},\"619\":{\"node_type\":\"multimarker\",\"x\":892.2216796875,\"y\":3566.7843017578125},\"620\":{\"node_type\":\"midmarker\",\"x\":892.2216796875,\"y\":3546.7843017578125},\"621\":{\"node_type\":\"multimarker\",\"x\":892.2216796875,\"y\":3526.7843017578125},\"625\":{\"node_type\":\"metabolite\",\"x\":892.2216796875,\"y\":3371.7843017578125,\"bigg_id\":\"[B]_THF_m\",\"name\":\"C19H21N7O6\",\"label_x\":907.8795166015625,\"label_y\":3406.3507080078125,\"node_is_primary\":true},\"626\":{\"node_type\":\"multimarker\",\"x\":892.2216796875,\"y\":3216.7843017578125},\"627\":{\"node_type\":\"midmarker\",\"x\":892.2216796875,\"y\":3196.7843017578125},\"628\":{\"node_type\":\"multimarker\",\"x\":892.2216796875,\"y\":3176.7843017578125},\"629\":{\"node_type\":\"metabolite\",\"x\":1044.0311279296875,\"y\":3102.3604736328125,\"bigg_id\":\"[B]_DHP_m\",\"name\":\"C8H16NOS2R\",\"label_x\":1000.833740234375,\"label_y\":3074.3341064453125,\"node_is_primary\":true},\"633\":{\"node_type\":\"multimarker\",\"x\":1186.4984130859375,\"y\":3229.3336181640625},\"634\":{\"node_type\":\"midmarker\",\"x\":1186.4984130859375,\"y\":3249.3336181640625},\"635\":{\"node_type\":\"multimarker\",\"x\":1186.4984130859375,\"y\":3269.3336181640625},\"637\":{\"node_type\":\"metabolite\",\"x\":1185.564208984375,\"y\":3372.9522705078125,\"bigg_id\":\"[B]_LPL_m\",\"name\":\"C8H14NOS2R\",\"label_x\":1210.564208984375,\"label_y\":3372.9522705078125,\"node_is_primary\":true},\"640\":{\"node_type\":\"multimarker\",\"x\":1186.4984130859375,\"y\":3579.3336181640625},\"641\":{\"node_type\":\"midmarker\",\"x\":1186.4984130859375,\"y\":3599.3336181640625},\"642\":{\"node_type\":\"multimarker\",\"x\":1186.4984130859375,\"y\":3619.3336181640625},\"651\":{\"node_type\":\"metabolite\",\"x\":-298.91006088256836,\"y\":3576.8892822265625,\"bigg_id\":\"[B]_GLX_p\",\"name\":\"C2HO3\",\"label_x\":-347.5100608825684,\"label_y\":3616.8892822265625,\"node_is_primary\":true},\"654\":{\"node_type\":\"multimarker\",\"x\":-143.91007614135742,\"y\":3511.1258544921875},\"655\":{\"node_type\":\"midmarker\",\"x\":-123.91007614135742,\"y\":3511.1258544921875},\"656\":{\"node_type\":\"multimarker\",\"x\":-103.91007614135742,\"y\":3511.1258544921875},\"657\":{\"node_type\":\"metabolite\",\"x\":41.25631332397461,\"y\":3649.8929443359375,\"bigg_id\":\"[B]_Gly_p\",\"name\":\"C2H5NO2\",\"label_x\":-7.343686676025413,\"label_y\":3689.8929443359375,\"node_is_primary\":true},\"658\":{\"node_type\":\"metabolite\",\"x\":51.08992385864258,\"y\":3511.1258544921875,\"bigg_id\":\"[B]_HPR_p\",\"name\":\"C3H3O4\",\"label_x\":2.4899238586425554,\"label_y\":3551.1258544921875,\"node_is_primary\":true},\"660\":{\"node_type\":\"multimarker\",\"x\":-145.3092918395996,\"y\":3649.6485595703125},\"661\":{\"node_type\":\"midmarker\",\"x\":-125.30929183959961,\"y\":3649.6485595703125},\"662\":{\"node_type\":\"multimarker\",\"x\":-105.30929183959961,\"y\":3649.6485595703125},\"666\":{\"node_type\":\"multimarker\",\"x\":51.08992385864258,\"y\":3356.1258544921875},\"667\":{\"node_type\":\"midmarker\",\"x\":51.08992385864258,\"y\":3336.1258544921875},\"668\":{\"node_type\":\"multimarker\",\"x\":51.08992385864258,\"y\":3316.1258544921875},\"669\":{\"node_type\":\"metabolite\",\"x\":51.08992385864258,\"y\":3161.1258544921875,\"bigg_id\":\"[B]_GCEA_p\",\"name\":\"C3H5O4\",\"label_x\":76.08992385864258,\"label_y\":3161.1258544921875,\"node_is_primary\":true},\"673\":{\"node_type\":\"multimarker\",\"x\":-143.91007614135742,\"y\":3161.1258544921875},\"674\":{\"node_type\":\"midmarker\",\"x\":-123.91007614135742,\"y\":3161.1258544921875},\"675\":{\"node_type\":\"multimarker\",\"x\":-103.91007614135742,\"y\":3161.1258544921875},\"680\":{\"node_type\":\"multimarker\",\"x\":236.2563133239746,\"y\":3649.8929443359375},\"681\":{\"node_type\":\"midmarker\",\"x\":216.2563133239746,\"y\":3649.8929443359375},\"682\":{\"node_type\":\"multimarker\",\"x\":196.2563133239746,\"y\":3649.8929443359375},\"683\":{\"node_type\":\"metabolite\",\"x\":511.5890922546387,\"y\":3648.4937744140625,\"bigg_id\":\"[B]_Gly_c\",\"name\":\"C2H5NO2\",\"label_x\":462.98909225463865,\"label_y\":3688.4937744140625,\"node_is_primary\":true},\"684\":{\"node_type\":\"multimarker\",\"x\":653.9961395263672,\"y\":3648.4940185546875},\"685\":{\"node_type\":\"midmarker\",\"x\":673.9961395263672,\"y\":3648.4940185546875},\"686\":{\"node_type\":\"multimarker\",\"x\":693.9961395263672,\"y\":3648.4940185546875},\"690\":{\"node_type\":\"multimarker\",\"x\":-846.7085227966309,\"y\":3301.2432861328125},\"691\":{\"node_type\":\"midmarker\",\"x\":-826.7085227966309,\"y\":3301.2432861328125},\"692\":{\"node_type\":\"multimarker\",\"x\":-806.7085227966309,\"y\":3301.2432861328125},\"694\":{\"node_type\":\"multimarker\",\"x\":-300.3092613220215,\"y\":3460.2454833984375},\"695\":{\"node_type\":\"midmarker\",\"x\":-300.3092613220215,\"y\":3480.2454833984375},\"696\":{\"node_type\":\"multimarker\",\"x\":-300.3092613220215,\"y\":3500.2454833984375},\"697\":{\"node_type\":\"metabolite\",\"x\":-300.3092613220215,\"y\":3305.2454833984375,\"bigg_id\":\"[B]_GCA_p\",\"name\":\"C2H3O3\",\"label_x\":-275.3092613220215,\"label_y\":3305.2454833984375,\"node_is_primary\":true},\"701\":{\"node_type\":\"multimarker\",\"x\":-15.676542282104492,\"y\":858.5715942382812},\"702\":{\"node_type\":\"midmarker\",\"x\":-15.676542282104492,\"y\":878.5715942382812},\"703\":{\"node_type\":\"multimarker\",\"x\":-15.676542282104492,\"y\":898.5715942382812},\"704\":{\"node_type\":\"metabolite\",\"x\":-17.072267532348633,\"y\":1054.9673461914062,\"bigg_id\":\"[M]_FBP_c\",\"name\":\"C6H10O12P2\",\"label_x\":-63.25427055358887,\"label_y\":1106.6091918945312,\"node_is_primary\":true},\"706\":{\"node_type\":\"multimarker\",\"x\":51.39275932312012,\"y\":1054.9673461914062},\"707\":{\"node_type\":\"midmarker\",\"x\":71.39275932312012,\"y\":1054.9673461914062},\"708\":{\"node_type\":\"multimarker\",\"x\":91.39275932312012,\"y\":1054.9673461914062},\"709\":{\"node_type\":\"metabolite\",\"x\":246.39275932312012,\"y\":1054.9673461914062,\"bigg_id\":\"[M]_F6P_c\",\"name\":\"C6H11O9P\",\"label_x\":193.63478507995603,\"label_y\":1109.5203247070312,\"node_is_primary\":true},\"712\":{\"node_type\":\"multimarker\",\"x\":313.46203422546387,\"y\":1054.9673461914062},\"713\":{\"node_type\":\"midmarker\",\"x\":333.46203422546387,\"y\":1054.9673461914062},\"714\":{\"node_type\":\"multimarker\",\"x\":353.46203422546387,\"y\":1054.9673461914062},\"715\":{\"node_type\":\"metabolite\",\"x\":508.46203422546387,\"y\":1054.9673461914062,\"bigg_id\":\"[M]_S6P_c\",\"name\":\"C12H21O14P\",\"label_x\":459.86203422546384,\"label_y\":1111.5991821289062,\"node_is_primary\":true},\"718\":{\"node_type\":\"multimarker\",\"x\":576.9270000457764,\"y\":1054.9673461914062},\"719\":{\"node_type\":\"midmarker\",\"x\":596.9270000457764,\"y\":1054.9673461914062},\"720\":{\"node_type\":\"multimarker\",\"x\":616.9270000457764,\"y\":1054.9673461914062},\"723\":{\"node_type\":\"metabolite\",\"x\":771.9270000457764,\"y\":1054.9673461914062,\"bigg_id\":\"[M]_Suc_c\",\"name\":\"C12H22O11\",\"label_x\":807.7285259246826,\"label_y\":1059.6245727539062,\"node_is_primary\":true},\"724\":{\"node_type\":\"multimarker\",\"x\":771.9270000457764,\"y\":1209.9673461914062},\"725\":{\"node_type\":\"midmarker\",\"x\":771.9270000457764,\"y\":1229.9673461914062},\"726\":{\"node_type\":\"multimarker\",\"x\":771.9270000457764,\"y\":1249.9673461914062},\"728\":{\"node_type\":\"multimarker\",\"x\":1493.7348022460938,\"y\":3854.6458320617676},\"729\":{\"node_type\":\"midmarker\",\"x\":1493.7348022460938,\"y\":3874.6458320617676},\"730\":{\"node_type\":\"multimarker\",\"x\":3337.0399780273438,\"y\":3869.5474433898926},\"732\":{\"node_type\":\"multimarker\",\"x\":3586.7577514648438,\"y\":3825.2095527648926},\"733\":{\"node_type\":\"midmarker\",\"x\":1590.0761108398438,\"y\":3826.1245918273926},\"734\":{\"node_type\":\"multimarker\",\"x\":1590.0761108398438,\"y\":3806.1245918273926},\"743\":{\"node_type\":\"multimarker\",\"x\":-19.72587776184082,\"y\":2040.1764183044434},\"744\":{\"node_type\":\"midmarker\",\"x\":-19.725879669189453,\"y\":2058.7945823669434},\"745\":{\"node_type\":\"multimarker\",\"x\":-19.72588348388672,\"y\":2077.4127464294434},\"753\":{\"node_type\":\"multimarker\",\"x\":2860.192070944275,\"y\":1638.899410130277},\"754\":{\"node_type\":\"midmarker\",\"x\":2880.192070944275,\"y\":1638.899410130277},\"755\":{\"node_type\":\"multimarker\",\"x\":2900.192070944275,\"y\":1638.899410130277}},\"text_labels\":{},\"canvas\":{\"x\":-1559,\"y\":-1379,\"width\":6207.264892578125,\"height\":6713.53173828125}}]'),\n",
       "               model_data: JSON.parse('null'),\n",
       "               static_site_index: JSON.parse('null'),\n",
       "           };\n",
       "       }\n",
       "   })();\n",
       "  </script>\n"
      ],
      "text/plain": [
       "<IPython.core.display.HTML object>"
      ]
     },
     "metadata": {},
     "output_type": "display_data"
    },
    {
     "data": {
      "text/html": [
       "<h1>1 : 3.0</h1>"
      ],
      "text/plain": [
       "<IPython.core.display.HTML object>"
      ]
     },
     "metadata": {},
     "output_type": "display_data"
    },
    {
     "data": {
      "text/html": [
       "\n",
       "\n",
       "\n",
       "  \n",
       "  \n",
       "\n",
       "  \n",
       "  \n",
       "    <link rel=\"stylesheet\" href=\"//unpkg.com/escher-vis@1.6.0/css/dist/builder.min.css\"/>\n",
       "  \n",
       "\n",
       "\n",
       "\n",
       "  <div style=\"height: 1000px; width: 100%;\" id=\"pfrwegkemt\"></div>\n",
       "\n",
       "  <script>\n",
       "   /* Closure to make sure data only applies to this map. */\n",
       "   (function() {\n",
       "       /* data from python */\n",
       "       var data = get_data();\n",
       "\n",
       "       function load_lib(url, callback) {\n",
       "           /** Dynamically load a JavaScript file */\n",
       "           var s = document.createElement('script');\n",
       "           s.src = url;\n",
       "           s.async = true;\n",
       "           s.onreadystatechange = s.onload = callback;\n",
       "           s.onerror = function() {\n",
       "               console.warn('Failed to load library ' + url);\n",
       "           };\n",
       "           document.getElementsByTagName('head')[0].appendChild(s);\n",
       "       }\n",
       "\n",
       "       function check_global_and_load(name, url, callback) {\n",
       "           /** Look for the name in the global scope. If it isn't present, then\n",
       "              load the library at url. Returns the object. */\n",
       "           if (window[name] !== undefined) {\n",
       "               callback(window[name]);\n",
       "           } else {\n",
       "               load_lib(url, function() {\n",
       "                   callback(window[name]);\n",
       "               });\n",
       "           }\n",
       "       }\n",
       "\n",
       "       function draw_escher(escher) {\n",
       "           /** Get data and draw */\n",
       "           var load = function(t_map_data, t_model_data, t_options) {\n",
       "               escher.Builder(t_map_data, t_model_data, data.builder_embed_css,\n",
       "                              escher.libs.d3_select('#' + data.id), t_options);\n",
       "           }\n",
       "\n",
       "           // for the static site, use the url attributes for the map and model\n",
       "           // information\n",
       "           if (data.static_site_index !== null) {\n",
       "               escher.static.load_map_model_from_url(data.map_download_url, data.model_download_url,\n",
       "                                                     data.static_site_index, data.options, load);\n",
       "           } else {\n",
       "               load(data.map_data, data.model_data, data.options);\n",
       "           }\n",
       "       }\n",
       "\n",
       "       // Load dependencies and draw\n",
       "       if (typeof define === 'function' && define.amd) {\n",
       "           // require.js is available: use it to load escher\n",
       "           require.config({\n",
       "             paths: {\n",
       "               escher: '//unpkg.com/escher-vis@1.6.0/js/dist/escher.min',\n",
       "             },\n",
       "             // Override urlArgs that adds ?v= to the end of the escher URL and\n",
       "             // messes up unpkg links. Honestly, I'm not sure if this will lead\n",
       "             // to downstream bugs in the notebook, but they really shouldn't be\n",
       "             // doing this cache-busting anyway.\n",
       "             urlArgs: null,\n",
       "           })\n",
       "           require([ 'escher' ], function(escher) {\n",
       "               draw_escher(escher);\n",
       "           })\n",
       "       } else {\n",
       "           // require.js not available: dynamically load escher\n",
       "           check_global_and_load('escher', '//unpkg.com/escher-vis@1.6.0/js/dist/escher.min.js', function(escher) {\n",
       "               draw_escher(escher);\n",
       "           })\n",
       "       }\n",
       "\n",
       "       // Put this at the end so Chrome doesn't cut off the code above.\n",
       "       function get_data() {\n",
       "           /** Return the data passed in by the Python module. */\n",
       "           return {\n",
       "               id: JSON.parse('\"pfrwegkemt\"'),\n",
       "               map_download_url: JSON.parse('\"//escher.github.io/1-0-0/5/maps/\"'),\n",
       "               model_download_url: JSON.parse('\"//escher.github.io/1-0-0/5/models/\"'),\n",
       "               options: JSON.parse('{\"metabolite_data\": null, \"never_ask_before_quit\": true, \"enable_keys\": false, \"fill_screen\": false, \"enable_editing\": false, \"menu\": \"zoom\", \"gene_data\": null, \"reaction_styles\": [\"color\", \"size\"], \"reaction_data\": {\"[M]_PGAK_h\": 69.813811419885482, \"[M]_SerAcT_c\": 0.0, \"[B]_NDA2_1_m\": 0.0, \"[M]_AMT_m\": 0.0, \"[B]_Ex_Arg_p\": 0.0, \"[M]_ArgSCAL_h\": 0.011158962913884365, \"[M]_Im_hnu\": 317.7381669786181, \"[M]_PGAK_c\": -0.65466533278175787, \"[MB]_Met_c\": 0.0048820462748244099, \"[M]_SerAcT_m\": 0.0, \"[M]_Tr_Ser1\": 0.0, \"[B]_Ex_Arg_h\": 0.0, \"[M]_Tr_Ser2\": -0.0048820462748244108, \"[B]_Ex_Glu_h\": 0.0, \"[B]_DHLAcT_m\": 0.32221505413841101, \"[MB]_Thr_c\": 0.04742559238400855, \"[B]_Ex_Trp_p\": 0.0, \"[B]_G6PDH_h\": 0.0, \"[M]_DPE11_h\": 0.0, \"[M]_Ex_Arg_m\": 0.0, \"[B]_Ex_Mas\": 0.0, \"[B]_PSII_h\": 18.00145134080821, \"[M]_Tr_His2\": 0.0027897407284710914, \"[M]_Tr_His3\": 0.0, \"[M]_GMPK_c\": 0.0, \"[B]_FTK_h\": 5.6010932189277112, \"[B]_ACPM_h\": 0.0, \"[M]_Tr_DTC1A\": 0.0, \"[B]_TPS_c\": 0.0, \"[B]_DHDS_h\": 0.012553833278119913, \"[M]_PGAM_h\": 0.36359003311025068, \"[B]_Urease_m\": 0.0, \"[M]_Tr_BT12\": -0.29026768226600652, \"[M]_Tr_BT11\": -0.070440953393895556, \"[M]_DPE13_h\": 0.0, \"[B]_Im_Pi\": 0.0, \"[M]_PGAM_c\": -0.65466533278175787, \"[MB]_KG_c\": 0.0, \"[M]_Ex_O2\": 29.965074593612627, \"[MB]_Gln_c\": 0.0, \"[M]_FGAMS_h\": 0.0, \"[M]_SerAcT_h\": 0.0048820462748244108, \"[M]_DHFR_c\": 0.0, \"[B]_Tr_Asp_OAA_hc\": -0.020923055463515791, \"[B]_Tr_NO2\": 0.65116889412035195, \"[M]_6PGDHNADP_h\": 0.0, \"[M]_DAPDC_h\": 0.0, \"[M]_Ex_Met_p\": 0.0, \"[M]_IndGPS_h\": 0.0, \"[B]_AGPase_h\": 3.0687148013182002, \"[B]_Tr_Val1\": 0.0, \"[B]_Tr_Val2\": 0.016738444370826548, \"[B]_Tr_Val3\": 0.0, \"[MB]_GCA_c\": 9.3657280480153098, \"[B]_Tr_PRPP\": 0.0, \"[M]_DHQDH_h\": 0.0, \"[M]_Ex_Arg_c\": 0.0, \"[M]_Ex_Tre\": 0.0, \"[B]_SADH_h\": 0.018133314735062092, \"[B]_HCO3DHA_c\": 0.0, \"[B]_Ex_Glc\": 0.0, \"[B]_ArgSCAL_h\": 0.0, \"[M]_cplx1_m\": 0.0027333561736504726, \"[B]_RBO_h\": -3.3361115618825939e-15, \"[M]_DHOase_h\": 0.0, \"[B]_EPSPS_h\": 0.018133314735062092, \"[B]_NGAM_h\": 0.152707083279744, \"[M]_GAPDH1_h\": 69.813811419885482, \"[M]_GABATA1_m\": 0.0, \"[B]_GluSeADA_m\": 7.0899893477115158e-19, \"[M]_PPiase_h\": 4.1808047908866453, \"[M]_Tr_Phe1\": 0.0, \"[M]_cplx3_m\": 0.0027333561736504722, \"[B]_Ex_Val_h\": 0.0, \"[B]_dTDPK_c\": 0.0, \"[M]_Tr_Ile3\": 0.0, \"[B]_BAATA2_h\": 0.0083692221854132741, \"[B]_Ex_Arg_m\": 0.0, \"[M]_ADPRPPT_c\": 0.0, \"[B]_AspAT_p\": 0.0, \"[M]_AOX4_h\": 0.0, \"[M]_Tr_Phe2\": 0.0, \"[M]_ProDHNAD_m\": 1.3762534346266064e-18, \"[M]_Tr_NDT1\": 0.0, \"[B]_Tr_H2Op\": -9.3657280480153045, \"[B]_SerRM_c\": 0.0, \"[M]_PGP_h\": 9.3657280480153098, \"[B]_Tr_KG\": -4.7484229311267176, \"[B]_Tr_H2Oh\": 16.321103416814321, \"[M]_ALS3_h\": 0.0, \"[M]_BAATA2_h\": 0.0, \"[B]_Tr_H2Om\": -7.3391559719171831, \"[B]_Ex_cellulose\": 0.0, \"[B]_GDPR_c\": 0.0, \"[M]_MalDH2_m\": 0.0, \"[B]_ALS3_h\": 0.025107666556239829, \"[B]_Ex_Suc\": 1.5343574006591001, \"[B]_F26BPPh_c\": 0.0, \"[M]_MalDH4_h\": 0.0, \"[B]_PSI_h\": 72.005805363232838, \"[B]_GGAT_p\": 4.7484229311267239, \"[M]_ForTHFL_h\": 0.0027897407284710914, \"[B]_GGAT_h\": 0.0, \"[M]_Tr_Trp2\": 0.0, \"[B]_5M_DASH_THFOR_c\": -8.0993073310131542e-19, \"[M]_dGDPK_c\": 0.0, \"[M]_ALS1_h\": 0.0, \"[M]_MetS_c\": 0.0048820462748244099, \"[M]_Tr_Asp_mc\": 0.0, \"[B]_GARFT_h\": -3.4458562561984424e-15, \"[M]_Ex_Leu_h\": 0.0, \"[B]_Tr_H_Na_hc\": 0.0, \"[M]_CDPR_c\": 0.0, \"[M]_GluDC_c\": 0.0, \"[M]_Ex_Leu_c\": 0.0, \"[M]_IndGPL_h\": 0.0, \"[M]_NO2R_h\": 0.40474797160595044, \"[M]_NDA2_2_m\": 0.0, \"[M]_Ex_Arg_p\": 0.0, \"[M]_S6PS_c\": 0.0, \"[MB]_Glc_c\": 0.0, \"[M]_Ex_Leu_p\": 0.0, \"[B]_AIRC_h\": -3.4458562561984424e-15, \"[B]_Tr_PXN3\": 0.0, \"[M]_Tr_NH41\": -0.31547626829487707, \"[B]_Tr_Pyr1\": 0.0, \"[B]_Ex_Pro_m\": 0.0, \"[M]_6PGDHNAD_h\": 0.0, \"[M]_Ex_Ser_c\": 0.0, \"[B]_AlaTA_m\": 0.0, \"[M]_Tr_Pro2\": 0.0, \"[B]_iCitL_p\": 1.0838629053835446e-34, \"[B]_Ex_Met_c\": 0.0, \"[B]_Tr_KG_Mal_mc\": 0.0, \"[M]_Ex_Ser_h\": 0.0, \"[B]_CTPP_c\": 0.0, \"[M]_Tr_H2Om\": -0.0027333561736504744, \"[M]_Ex_Tyr_c\": 0.0, \"[B]_Ex_Pro_c\": 0.0, \"[B]_PEPC1_c\": 11.034509054218125, \"[B]_Tr_Ala2\": 0.0, \"[B]_Tr_TPT3\": 0.0, \"[M]_PyrDH1_m\": 1.5596103096130227e-50, \"[M]_Tr_Asp\": 0.0, \"[B]_ADPR_c\": 0.0, \"[M]_Tr_DIT2\": 0.0, \"[M]_cplx5_m\": 0.0091111872455015737, \"[M]_PSII_h\": 39.332169319714772, \"[M]_Tr_NH42\": 1.581685292267717e-19, \"[M]_Tr_DIT1\": 0.0, \"[B]_AlaTA_p\": 0.0, \"[B]_Ex_Phe_c\": 0.0, \"[M]_FBPA_c\": 0.0, \"[M]_Tr_His1\": 0.0, \"[B]_AspAT2_p\": 0.0, \"[M]_PGI_c\": 0.0, \"[B]_Ex_Met_h\": 0.0, \"[B]_KARI12_h\": 0.0083692221854132758, \"[M]_FBPA_h\": 12.488567310929913, \"[B]_PSerAT_h\": 0.0, \"[M]_PGI_h\": 6.9811173719795106e-15, \"[M]_Tr_DTC1B\": 0.0, \"[B]_Tr_ORO\": 0.0, \"[M]_ArgSCAS_h\": 0.011158962913884367, \"[M]_Ex_Arg_h\": 0.0, \"[B]_Tr_DTC2A\": 0.0, \"[M]_3IPMDA1_h\": 0.0, \"[B]_AspAT2_c\": -4.2170714203567004, \"[B]_Tr_DTC2B\": 0.0, \"[B]_AspAT2_m\": 8.929797264372396e-17, \"[MB]_Trp_c\": 0.0, \"[M]_Tr_SFC\": -7.5213669214244502e-35, \"[B]_AspAT2_h\": 0.0, \"[M]_Ex_starch\": 0.0, \"[M]_GSSGR_h\": 0.0048820462748244125, \"[M]_GluSeADH_m\": 0.0, \"[B]_Ex_Thr_p\": 0.0, \"[M]_PGM_c\": 6.9811173719795098e-15, \"[M]_GluSeADH_h\": 0.0, \"[M]_P5CDHNADP_h\": 0.0, \"[B]_Cytb6f1_h\": 36.002902681616426, \"[M]_PGM_h\": 0.0, \"[B]_ADNK_c\": 0.0, \"[B]_PyrK_c\": 4.2672867534692802, \"[M]_StS_h1\": 0.0, \"[M]_StS_h3\": 0.0, \"[M]_StS_h2\": 0.0, \"[M]_FrcFD_c\": 0.0, \"[B]_Ex_Thr_c\": 0.0, \"[M]_CTHL_h\": 0.0048820462748244108, \"[B]_Ex_Pro_p\": 0.0, \"[M]_Tr_BT13\": 0.36070863565990224, \"[M]_SO3R_h\": 0.0048820462748244116, \"[M]_Ex_Gln_m\": 0.0, \"[M]_Tr_iCit\": 0.0, \"[B]_PGR5PGRL11_h\": 0.0, \"[B]_ATPPRT_h\": -3.1385667479012247e-15, \"[B]_NDC1_1_h\": 0.0, \"[B]_DCAMPS_h\": -3.4458562561984421e-15, \"[B]_PyrK_h\": 0.0, \"[B]_ForTHFL_h\": -6.8917125123968833e-15, \"[M]_Ex_Thr_p\": 0.0, \"[MB]_Glu_c\": -0.011158962913884697, \"[M]_Tr_Met2\": 0.0, \"[MB]_Fum_c\": 0.013948703642355459, \"[M]_Im_Pi\": 0.0, \"[M]_Tr_Met3\": 0.0, \"[M]_GluSNAD_h\": 0.0, \"[B]_ATase_h\": 0.0, \"[M]_Ex_Glu_p\": 0.0, \"[B]_AGluK\": 0.0, \"[B]_NGAM_m\": 0.0091111872455015702, \"[B]_IndGPS_h\": 0.0062769166390599547, \"[B]_Tr_Cit_iCit_mc\": 0.0, \"[B]_Tr_DTC4B\": 0.0, \"[M]_KGDH_m\": 0.0, \"[M]_HSerDHNADP_h\": 0.052307638658832957, \"[M]_Tr_Phe3\": 0.0, \"[B]_3IPMDH_h\": 0.0083692221854132758, \"[B]_NGAM_c\": 0.050349979617494899, \"[B]_DAPE_h\": 0.012553833278119909, \"[M]_Tr_DTC2B\": 0.0, \"[B]_ALS1_h\": 0.033476888741653103, \"[M]_PrAMPCy_h\": 0.0027897407284710918, \"[M]_Tr_UCP\": 0.0, \"[B]_ATPase_h\": 54.00435402242465, \"[B]_Tr_Trp1\": 0.0, \"[MB]_G6P_c\": 0.0, \"[B]_Tr_SO4\": 0.0, \"[M]_Ex_Asp_c\": 0.0, \"[B]_Tr_Hp\": 0.0, \"[M]_cACNHA_m\": -1.0838629053835444e-34, \"[M]_PGR5PGRL12_h\": 0.0, \"[M]_Ex_Met_m\": 0.0, \"[M]_cACNHA_h\": 0.0, \"[B]_bAMY1_h\": 0.0, \"[B]_3IPMDA2_h\": 0.0083692221854132758, \"[M]_cACNHA_c\": 0.0, \"[M]_NDC1_1_h\": 0.0, \"[M]_Ex_Asp_m\": 0.0, \"[M]_Ex_Asp_p\": 0.0, \"[B]_Enol_h\": 0.0, \"[B]_Tr_O2m\": 1.4258689440463217, \"[B]_Tr_Trp3\": 0.0, \"[B]_Tr_Trp2\": 0.0062769166390599547, \"[B]_ProDHNADP_m\": -8.2368498079360845e-19, \"[B]_DHODH_m\": 0.0, \"[B]_Ex_Met_m\": 0.0, \"[B]_Enol_c\": 0.0, \"[B]_Ex_Asp_p\": 0.0, \"[B]_Tr_Pro1\": 0.0, \"[M]_HEXK_c\": 0.0, \"[B]_Tr_Pyr3\": 0.0, \"[B]_CitS_c\": 0.0, \"[M]_Ex_Thr_m\": 0.0, \"[M]_Tr_ORO\": 0.0, \"[B]_CitS_m\": 0.32221505413841106, \"[B]_NDA2_2_m\": 0.0, \"[B]_BAATA3_h\": 0.016738444370826552, \"[B]_CitS_h\": 0.0, \"[B]_GluSeADH_c\": 0.0, \"[B]_FGAMS_h\": -3.4458562561984424e-15, \"[B]_S6PS_c\": 1.5343574006591005, \"[B]_FGAMCL_h\": -3.4458562561984424e-15, \"[B]_AGNDH_h\": 0.004184611092706637, \"[B]_IndGPL_h\": 0.0062769166390599547, \"[M]_UDPR_c\": 0.0, \"[B]_GluSeADH_h\": 0.0, \"[B]_Ex_Asp_m\": 0.0, \"[M]_DPE12_h\": 0.0, \"[M]_Tr_Glu1\": -1.8256222138450759e-15, \"[B]_AlaTA_h\": 2.5885904476012178e-14, \"[M]_OROPRT_c\": 0.0, \"[M]_AlaTA_p\": 0.0, \"[B]_Tr_ProU\": -8.2368498079360836e-19, \"[M]_Ex_Tyr_h\": 0.0, \"[M]_NDH1_h\": 3.0808124208999845, \"[M]_Tr_H2Op\": 1.8256222138450756e-15, \"[B]_Ex_starch\": 1.5343574006591001, \"[B]_Tr_Pro2\": 0.0, \"[M]_AICARFT_h\": 0.0027897407284710914, \"[M]_AlaTA_c\": 0.0, \"[B]_Tr_ProA\": 0.0, \"[M]_PSerP_h\": 0.0, \"[M]_Tr_Tyr1\": 0.0, \"[B]_Tr_Ile2\": 0.0083692221854132741, \"[B]_Tr_Ile1\": 0.0, \"[M]_AlaTA_h\": 0.0, \"[M]_AlaTA_m\": 0.0, \"[B]_HSerDHNAD_h\": 0.0, \"[B]_iCitDHNAD_m\": 0.0, \"[B]_CAT_p\": 4.6828640240076522, \"[M]_SGAT_p\": 0.0, \"[B]_ATPSL_h\": 0.0, \"[B]_iCitDHNAD_c\": 0.0, \"[M]_MetAdT_c\": 0.0, \"[B]_Tr_P5C2\": 0.0, \"[B]_FumHA_c\": 0.013948703642348566, \"[MB]_CO2_c\": 0.0, \"[M]_Ex_His_h\": 0.0, \"[B]_HCysMT_c\": 0.0, \"[B]_SAK_h\": 0.018133314735062096, \"[M]_dUTPP_c\": 0.0, \"[M]_Ex_Ala_m\": 0.0, \"[B]_CAT_h\": 0.0, \"[B]_FumHA_m\": -4.1654543569027785e-19, \"[M]_Cytb6f2_h\": 80.204744849879532, \"[M]_Tr_DHO2\": 0.0, \"[M]_Tr_DHO1\": 0.0, \"[M]_MalDH1_m\": 0.0027333561736504705, \"[B]_dUDPK_c\": 0.0, \"[M]_Tr_BAC1\": 0.0, \"[M]_MalDH1_h\": -0.0027897407284712527, \"[MB]_Asn_c\": 0.07044095339389557, \"[B]_R5PI_h\": 5.5766829875535908, \"[MB]_PEP_c\": -6.7163095324542219, \"[M]_MalDH1_c\": 0.0, \"[M]_MalDH3_h\": 7.4280989028640549, \"[M]_Ex_His_c\": 0.0, \"[B]_Tr_GCA1\": -3.3361115618825939e-15, \"[B]_ALS2_h\": 0.0083692221854132758, \"[M]_Tr_PLT5\": 0.0, \"[M]_MalDH1_p\": 0.0, \"[B]_Ex_Tyr_c\": 0.0, \"[M]_Tr_KG\": 1.8256222138450756e-15, \"[B]_IPODC_h\": 0.0083692221854132741, \"[B]_Tr_iCit\": 1.0838629053835446e-34, \"[B]_Ex_Cys_p\": 0.0, \"[M]_Ex_Cys_c\": 0.0, \"[M]_HisolPTA_h\": 0.0027897407284710918, \"[M]_Ex_Cys_h\": 0.0, \"[B]_Ex_Tyr_p\": 0.0, \"[B]_RibK_h\": 0.0, \"[B]_ProDHNAD_m\": 0.0, \"[B]_ANTS_h\": 0.0062769166390599564, \"[B]_GluDH3NADP_c\": -5.0508742341881652, \"[M]_SerRM_c\": 0.0, \"[B]_Ex_Gly_c\": 0.0, \"[M]_RBO_h\": 9.3657280480153098, \"[B]_GCEAK_h\": 0.0, \"[B]_GDPK_h\": -3.4458562561984421e-15, \"[M]_Ex_Glu_m\": 0.0, \"[B]_PPIase_c\": 1.5343574006591003, \"[B]_GDPK_c\": 0.0, \"[B]_AspCT_h\": 0.0, \"[M]_Tr_Cys\": 0.0, \"[B]_Tr_Tyr3\": 0.0, \"[B]_Ex_Asp_h\": 0.0, \"[M]_Si_H_m\": -2.3162186302463799e-19, \"[M]_AIRC_h\": 0.0, \"[M]_IMPCH_h\": 0.0027897407284710918, \"[B]_Tr_Met2\": 0.0, \"[MB]_2PGA_c\": 0.0, \"[B]_Ex_O2\": 11.892718372754235, \"[B]_S6PPh_c\": 1.5343574006591003, \"[B]_GCAO_h\": 0.0, \"[B]_iCitDHNADP_m\": 0.0, \"[B]_PPiase_h\": 3.0687148013182042, \"[M]_NDA2_1_m\": 0.0, \"[B]_iCitDHNADP_h\": 0.0, \"[M]_Ex_Mas\": 0.0, \"[B]_ACoAC_h\": 1.1178375513358818e-18, \"[B]_GAPDH2_h\": 0.0, \"[B]_GSSGR_h\": 1.0072743633254426e-18, \"[B]_Ex_Gln_c\": 0.0, \"[B]_AspK_h\": 0.020923055463533194, \"[B]_Ex_Gln_m\": 0.0, \"[B]_GluSeADA_h\": 0.0, \"[B]_GCAO_p\": 9.3657280480153045, \"[B]_GAPDH2_c\": 0.38913417666593392, \"[B]_Tr_Glu1\": 4.7484229311267176, \"[B]_NO3R2_c\": -4.7286591800497542, \"[B]_Ex_Lys_c\": 0.0, \"[B]_Tr_Glu2\": 0.0, \"[M]_Tr_GCEA2\": 0.0, \"[B]_PrATPDP_h\": 0.0, \"[M]_FTK_h\": 12.488567310929906, \"[M]_Tr_Val1\": 0.0, \"[B]_Tr_Asp\": 0.0, \"[M]_Tr_Val2\": 0.0, \"[MB]_His_c\": 0.0027897407284710914, \"[B]_SAICARS_h\": -3.4458562561984424e-15, \"[B]_DAPDC_h\": 0.012553833278119913, \"[M]_AspK_h\": 0.052307638658832964, \"[M]_Tr_HCys\": 0.0048820462748244108, \"[M]_KARI12_h\": 0.0, \"[M]_RBC_h\": 28.097184144045929, \"[B]_Ex_Asn_h\": 0.0, \"[B]_Ex_Thr_h\": 0.0, \"[M]_OrnCMT_h\": 0.011158962913884365, \"[M]_ATPCitL_c\": 0.0, \"[M]_SCACoAL_m\": 0.0, \"[M]_SAICARS_h\": 0.0, \"[M]_Tr_TPT2\": 4.2073871873418183, \"[B]_Cytb6f2_h\": 36.002902681616426, \"[M]_Tr_TPT1\": 0.0, \"[M]_TA_h\": 0.0, \"[B]_Tr_Tyr1\": 0.0, \"[B]_Tr_Tyr2\": 0.004184611092706637, \"[B]_Tr_DTC3A\": 0.0, \"[M]_RibK_h\": 0.0, \"[M]_GlnS_m\": 0.0, \"[M]_dUDPK_c\": 0.0, \"[M]_GlnS_h\": 0.094153749585897714, \"[B]_Tr_DTC5\": 2.1575258011461242, \"[B]_Ru5PE_h\": 11.184053123120361, \"[M]_OrnAT_m\": 0.0, \"[M]_GlnS_c\": 0.07044095339389557, \"[M]_Tr_Asp_Glu_mc\": 0.0, \"[B]_Tr_Lys2\": 0.012553833278119911, \"[B]_Ru5PK_h\": 16.760736110673943, \"[B]_AOrnAGluAcT_h\": 0.0, \"[MB]_Rib_c\": 0.0, \"[M]_Tr_Thr2\": 0.04742559238400855, \"[B]_Ex_Glu_m\": 0.0, \"[B]_Ex_Glu_c\": 0.0, \"[MB]_Phe_c\": 0.0, \"[MB]_Asp_c\": 4.3240145691984342, \"[MB]_G1P_c\": 0.0, \"[B]_Tr_His2\": 0.0, \"[MB]_Suc_c\": 0.0, \"[B]_HisolPTA_h\": 0.0, \"[B]_AspAT_c\": -0.019763751076971203, \"[MB]_Cit_c\": 0.0, \"[B]_MetS_c\": 0.0, \"[B]_AspAT_h\": 0.0, \"[B]_Tr_GCEA2\": -4.6173051168885815, \"[B]_Ex_Glu_p\": 0.0, \"[B]_AspAT_m\": 0.0, \"[B]_Tr_DTC1B\": -4.3400631263476571e-17, \"[B]_Tr_DTC1C\": 0.0, \"[B]_PPIF6PK_c\": 0.0, \"[B]_Im_H2S\": 0.0, \"[M]_GluSeADA_h\": 0.0, \"[M]_DAHPS_h\": 0.0, \"[M]_Tr_H2Oh\": 23.253049878269586, \"[M]_UDPK_c\": 0.0, \"[M]_Tr_DTC2C\": 0.0, \"[M]_Tr_DTC2A\": 0.0, \"[B]_Tr_SCA\": -1.0838629053835446e-34, \"[M]_Ex_Phe_h\": 0.0, \"[M]_GluSeADA_c\": 0.0, \"[B]_DHLST_m\": 0.0, \"[M]_CeS_c1\": 0.0, \"[M]_PPIF6PK_c\": 0.0, \"[M]_CeS_c3\": 0.0, \"[M]_CeS_c2\": 0.0, \"[M]_Si_H_h\": 0.0, \"[B]_Tr_Pyr_Na_hc\": 0.0, \"[B]_Ex_AA\": 0.69743518211777278, \"[M]_AsnS_c\": 0.07044095339389557, \"[B]_ACDOxRed_c\": 0.0083692221854132741, \"[B]_Tr_P5C1\": 0.0, \"[B]_IMPDH_c\": 0.0, \"[B]_Im_H2O\": 1.5214844414716056, \"[M]_ATPSL_h\": 0.0048820462748244108, \"[M]_DAPE_h\": 0.0, \"[B]_DHQS_h\": 0.018133314735062096, \"[B]_Tr_Met3\": 0.0, \"[M]_ThrDA_h\": 0.0, \"[B]_ADPRPPT_c\": 0.0, \"[M]_Cysase_c\": 0.0, \"[B]_Ex_Ser_h\": 0.0, \"[M]_KARI34_h\": 0.0, \"[M]_PGR5PGRL11_h\": 0.0, \"[M]_ForDH_h\": 0.0027897407284710914, \"[M]_Tr_Tyr3\": 0.0, \"[B]_AICARFT_h\": -3.4458562561984421e-15, \"[B]_Ex_Gln_p\": 0.0, \"[M]_CitS_c\": 0.0, \"[B]_Ex_Tyr_h\": 0.0, \"[M]_Im_H2S\": 0.0, \"[M]_NDH2_h\": 1.5404062104499923, \"[M]_CitS_h\": 0.0, \"[MB]_SCA_c\": -1.0838629053835444e-34, \"[M]_Ex_Met_c\": 0.0, \"[MB]_Pyr_c\": 0.0, \"[M]_CitS_m\": 0.0, \"[M]_AGluPR_h\": 0.011158962913884365, \"[MB]_F6P_c\": 6.9811173719795114e-15, \"[B]_Fd_DASH_NADPR_h\": 33.991508879139559, \"[B]_AMPK_h\": 0.0, \"[B]_PGADH_h\": 0.0, \"[M]_Tr_Ala2\": 0.0, \"[B]_Tr_Ala_mc\": 0.0, \"[M]_GCEADH_p\": 0.0, \"[B]_AMPK_c\": 0.0, \"[M]_5M_DASH_THFOR_c\": 0.0048820462748244099, \"[B]_Tr_DTC1A\": 0.0, \"[B]_Tr_NTT\": 0.0, \"[MB]_Tre_c\": 0.0, \"[B]_Im_CO2\": 0.0, \"[M]_Ex_Ile_m\": 0.0, \"[M]_Tr_Ala1\": 0.0, \"[M]_Tr_Mal\": 0.0, \"[M]_Tr_GCA2\": -1.8256222138450759e-15, \"[M]_Tr_GCA1\": 9.365728048015308, \"[M]_FGAMCL_h\": 0.0, \"[B]_AOX4_h\": 0.0, \"[B]_Tr_Ser1\": 4.6173051168885815, \"[B]_HSerDHNADP_h\": 0.0083692221854132776, \"[B]_6PGDHNADP_h\": 0.0, \"[M]_Tr_Pyr_Na_hc\": 0.0, \"[M]_PyrPiDK_h\": 4.1543022539661703, \"[B]_PGP_h\": -3.3361115618825943e-15, \"[B]_AOX1A_m\": 0.0, \"[M]_DHDRNADP_h\": 0.0, \"[M]_Tr_THF\": 0.0, \"[MB]_S6P_c\": 0.0, \"[B]_APSR_h\": 0.0, \"[M]_Tr_DIT1_OAA\": 7.4971449858937129, \"[B]_Tr_Asn1\": 0.0, \"[B]_Tr_Asn3\": 0.0, \"[M]_Enol_h\": 0.36359003311025068, \"[B]_PRANTI_h\": 0.0062769166390599556, \"[B]_PSerP_h\": 0.0, \"[B]_Tr_CO2h_Ex\": -1.0008334685647782e-14, \"[M]_Enol_c\": -0.65466533278175787, \"[B]_TPP_c\": 0.0, \"[B]_Tr_Ser2\": -0.0062769166390599556, \"[M]_PGADH_h\": 0.0, \"[M]_Ex_MACP\": 0.0, \"[B]_Ex_Trp_c\": 0.0, \"[B]_OROPRT_c\": 0.0, \"[MB]_PGA_c\": 0.0, \"[M]_Tr_KG_Mal_mc\": 0.0, \"[M]_Tr_Arg2\": 0.011158962913884365, \"[B]_Ex_Trp_h\": 0.0, \"[M]_Tr_Arg1\": 0.0, \"[M]_Ex_Lys_m\": 0.0, \"[B]_Tr_DIC2\": 0.0, \"[B]_Tr_DIC1\": 0.0, \"[B]_Ex_Trp_m\": 0.0, \"[M]_IPODC_h\": 0.0, \"[B]_Ex_Ser_c\": 0.0, \"[B]_Tr_Met1\": 0.0, \"[M]_SADH_h\": 0.0, \"[MB]_cACN_c\": 1.0838629053835444e-34, \"[M]_Tr_AAC\": 0.0, \"[M]_Tr_CO2m\": 0.0, \"[M]_P5CDHNAD_h\": 0.0, \"[M]_Tr_CO2h\": 28.111132847688285, \"[B]_Tr_SFC\": 4.1654543569027775e-19, \"[M]_NGAM_h\": 0.152707083279744, \"[B]_IGPS_h\": 0.0, \"[B]_PGM_c\": 1.5343574006591008, \"[M]_PRANTI_h\": 0.0, \"[M]_Ex_Ile_c\": 0.0, \"[M]_Ex_Pro_m\": 0.0, \"[M]_StP21_c\": 0.0, \"[B]_PAICARPI_h\": 0.0, \"[B]_TA_h\": 0.0, \"[B]_Tr_AC1\": 0.0083692221854132758, \"[M]_Ex_Lys_h\": 0.0, \"[M]_Cytb6f1_h\": 80.204744849879532, \"[M]_Ex_Asn_h\": 0.0, \"[B]_PGI_c\": 1.6292302772350324, \"[MB]_Ile_c\": 0.0, \"[B]_PGI_h\": 2.9738419247422683, \"[B]_dGDPK_c\": 0.0, \"[B]_Ex_Frc\": 0.0, \"[B]_Im_hnu\": 144.01161072646568, \"[B]_Tr_O2p\": 4.6828640240076522, \"[M]_Ex_Gly_m\": 0.0, \"[M]_Si_H_p\": 0.0, \"[B]_NDC1_2_h\": 0.0, \"[M]_PSerAT_h\": 0.0, \"[B]_Tr_Leu1\": 0.0, \"[B]_Tr_Cys\": 0.0, \"[MB]_Lys_c\": 0.0, \"[M]_ACoAS_h\": 0.0048820462748244108, \"[B]_PyrDH2_m\": 0.32221505413841106, \"[M]_Ex_Ile_h\": 0.0, \"[B]_Tr_O2h\": -18.00145134080821, \"[B]_Ex_Lys_p\": 0.0, \"[B]_DPE2_c\": 0.0, \"[B]_GAPDH1_h\": 33.910606398013911, \"[B]_dTMPS_c\": 0.0, \"[M]_SBPA_h\": 12.488567310929904, \"[M]_DHDRNAD_h\": 0.0, \"[M]_NDC1_2_h\": 0.0, \"[B]_DHFR_c\": 0.0, \"[M]_STK_h\": 12.488567310929904, \"[B]_GluK_h\": 0.0, \"[B]_CeS_c2\": 0.0, \"[B]_CeS_c3\": 0.0, \"[B]_CeS_c1\": 0.0, \"[B]_CBPS_h\": 0.0, \"[B]_Cysase_c\": 0.0, \"[B]_GAPDH3_c\": 0.0, \"[MB]_DHAP_c\": 3.1635876778941263, \"[B]_Ex_Lys_h\": 0.0, \"[M]_DAPAT_h\": 0.0, \"[B]_AOrnTA_h\": 0.0, \"[B]_Ex_Lys_m\": 0.0, \"[B]_Tr_Asp_mc\": 0.0, \"[M]_Tr_PPT\": -4.5178922870764211, \"[B]_Ex_Val_c\": 0.0, \"[M]_dADPK_c\": 0.0, \"[M]_Ex_Ile_p\": 0.0, \"[B]_Ex_Val_m\": 0.0, \"[B]_TrpS_h\": 0.0062769166390599538, \"[B]_Tr_UCP\": -8.234306733889186, \"[B]_NDH2_h\": 0.0, \"[B]_Ex_Val_p\": 0.0, \"[B]_F6PK1_c\": 0.0, \"[M]_Ex_Met_h\": 0.0, \"[B]_DHQDH_h\": 0.018133314735062092, \"[B]_DHDRNAD_h\": 0.0083692221854201679, \"[B]_HCO3DHA_h\": 1.1178375513358818e-18, \"[M]_ACDOxRed_c\": 0.0, \"[B]_F6PK1_h\": 0.0, \"[B]_Tr_THF\": 0.0, \"[B]_Tr_DTC2C\": 0.0, \"[B]_NMPK_c\": 0.0, \"[M]_Tr_BAC2\": 0.0, \"[B]_SerAcT_m\": 0.0, \"[B]_GABATA2_m\": 0.0, \"[B]_Tr_TPT2\": 0.0, \"[B]_Tr_TPT1\": -0.38913417666602618, \"[B]_Ex_His_c\": 0.0, \"[M]_Glnase_c\": 0.0, \"[B]_GluDC_c\": 0.0, \"[M]_GPAT_h\": 0.0, \"[M]_OMPDC_c\": 0.0, \"[B]_Ex_MACP\": 0.0, \"[M]_S6PPh_c\": 0.0, \"[M]_Tr_Ser3\": 0.0, \"[M]_Tr_Trp1\": 0.0, \"[B]_P5CRNAD_c\": 0.0, \"[M]_Arginase_m\": 0.0, \"[B]_OrnAT_m\": 0.0, \"[M]_F26BPPh_c\": 0.0, \"[M]_Tr_GlySer\": 0.0, \"[M]_Tr_Trp3\": 0.0, \"[M]_Ex_cellulose\": 0.0, \"[B]_Tr_Pyr2\": 0.0, \"[MB]_Pro_c\": -8.2368498079360855e-19, \"[MB]_iCit_c\": 0.0, \"[B]_Ex_Phe_m\": 0.0, \"[M]_HSerK_h\": 0.052307638658832964, \"[M]_F6PK1_h\": 0.0, \"[M]_cACNDHA_c\": 0.0, \"[B]_ACoAS_h\": 0.0083692221854132741, \"[M]_cACNDHA_m\": 0.0, \"[M]_cACNDHA_h\": 0.0, \"[M]_F6PK1_c\": 0.0, \"[M]_Tr_DTC4A\": 0.0, \"[M]_Tr_ProA\": 0.0, \"[M]_SucS_c\": 0.0, \"[B]_HisolPDH_h\": 0.0, \"[M]_6PGL_h\": 0.0, \"[M]_ADPR_c\": 0.0, \"[B]_AMPDA_c\": 0.0, \"[B]_Tr_NH41\": -0.5953740795509076, \"[B]_Tr_NH42\": -4.687048635100358, \"[B]_Tr_Pi\": 0.0, \"[B]_PrAMPCy_h\": 0.0, \"[M]_bAMY2_h\": 0.0, \"[M]_Tr_Thr1\": 0.0, \"[B]_Tr_Lys1\": 0.0, \"[M]_Tr_Thr3\": 0.0, \"[B]_GluSNAD_h\": 0.0, \"[B]_Tr_Ser3\": 4.6870486351003606, \"[M]_UGPase_c\": 0.0, \"[B]_dADPK_c\": 0.0, \"[M]_Ex_Lys_c\": 0.0, \"[B]_Ex_Tre\": 0.0, \"[B]_Tr_His3\": 0.0, \"[B]_Tr_Mal\": 4.6173051168885815, \"[B]_DHDRNADP_h\": 0.004184611092699745, \"[B]_GluSeADH_m\": 7.0899893477115148e-19, \"[M]_PEPC2_c\": -11.888867152312402, \"[B]_OMPDC_c\": 0.0, \"[B]_Tr_PPT\": 0.050912768294576638, \"[B]_Tr_Arg2\": 0.0, \"[B]_GMPK_c\": 0.0, \"[M]_GAPDH2_h\": 0.0, \"[M]_Tr_DTC3A\": 0.0, \"[B]_Tr_Arg1\": 0.0, \"[M]_Tr_DTC3C\": -1.6277806158158721e-19, \"[M]_Tr_DTC3B\": 0.0, \"[B]_StP1_h\": 0.0, \"[B]_SucS_c\": 0.0, \"[MB]_Cys_c\": 0.0, \"[B]_Ex_Ala_c\": 0.0, \"[B]_TPI_h\": 14.157895047862628, \"[M]_AGluK\": 0.011158962913884365, \"[M]_F6PK2_c\": 0.0, \"[B]_SerAcT_h\": 0.0, \"[M]_FumHA_m\": 7.5213669214244512e-35, \"[B]_GlnS_m\": 0.0, \"[M]_FumHA_c\": 0.0, \"[B]_TPI_c\": 0.0, \"[B]_Ex_Phe_h\": 0.0, \"[B]_SerAcT_c\": 0.0, \"[B]_Tr_GPT1\": 0.0948728765759317, \"[B]_UDPR_c\": 0.0, \"[M]_ADNK_c\": 0.0, \"[B]_GlnS_c\": 0.2315484804631, \"[B]_GlyDH_m\": 4.687048635100358, \"[B]_GlnS_h\": 0.064164036754857517, \"[M]_dTMPK_c\": 0.0, \"[B]_6PGL_h\": 0.0, \"[M]_Fd_DASH_NADPR_h\": 77.362566609255921, \"[M]_DHQS_h\": 0.0, \"[B]_DPE11_h\": 0.0, \"[B]_dUTPP_c\": 0.0, \"[B]_Ex_His_p\": 0.0, \"[M]_Tr_Asn1\": 0.0, \"[M]_Asp_DASH_SeADH_h\": 0.052307638658832957, \"[M]_Tr_Asn3\": 0.0, \"[M]_CTPP_c\": 0.0, \"[B]_Tr_GlySer\": 9.3740972702007177, \"[B]_PGAK_c\": -0.38913417666593392, \"[B]_GCEADH_p\": 4.6173051168885815, \"[B]_Tr_DIC4\": 0.32221505413841145, \"[M]_Tr_DTC5\": -0.00273335617365047, \"[MB]_Ser_c\": -0.0097640925496488198, \"[M]_AspAT_h\": 0.066256342301186794, \"[B]_dCDPK_c\": 0.0, \"[B]_PGAK_h\": 33.910606398013911, \"[M]_AspAT_m\": -4.6095323548155889e-21, \"[M]_R5PI_h\": 12.485777570201433, \"[B]_IGPDA_h\": 0.0, \"[M]_AOX1A_m\": 0.0, \"[M]_AspAT_p\": 0.0, \"[B]_PGAM_c\": 0.0, \"[M]_FBPase_c\": 0.0, \"[M]_EPSPS_h\": 0.0, \"[M]_FBPase_h\": 12.488567310929914, \"[B]_PGAM_h\": 0.0, \"[M]_Tr_Ala_mc\": -2.0914139409194944e-50, \"[B]_Tr_PLT5\": 0.0, \"[B]_IMPCH_h\": -3.4458562561984421e-15, \"[B]_STK_h\": 5.5829599041926485, \"[B]_Tr_PIC\": 9.818896827201721, \"[M]_SBPase_h\": 12.488567310929904, \"[M]_FrcK_c\": 0.0, \"[M]_Ex_Asn_p\": 0.0, \"[B]_Tr_DIT2\": -7.0290268238897307e-15, \"[M]_ACoAC_h\": 0.0, \"[B]_Tr_DIT1\": 0.0, \"[M]_3IPMDA2_h\": 0.0, \"[B]_CHRS_h\": 0.018133314735062096, \"[M]_Im_H2O\": 34.84522697728648, \"[B]_Ex_Gly_p\": 0.0, \"[B]_dTMPK_c\": 0.0, \"[B]_AGNDA_h\": 0.0076717870032955004, \"[M]_Tr_Asn2\": 0.0, \"[B]_Ex_Leu_p\": 0.0, \"[B]_Tr_Pyr_H_hc\": 0.071138388576080652, \"[B]_OrnCMT_h\": 0.0, \"[M]_Tr_AC1\": 0.0, \"[B]_PyrDH1_m\": 0.32221505413841106, \"[M]_Tr_AC2\": 0.0, \"[M]_Tr_Tyr2\": 0.0, \"[B]_R5PDPK_h\": 0.0062769166390568166, \"[B]_Ex_Gly_m\": 0.0, \"[M]_AMPK_h\": 4.251245744280542, \"[B]_SBPase_h\": 5.5829599041926494, \"[M]_CHRS_h\": 0.0, \"[M]_Ex_Gly_c\": 0.0, \"[B]_FrcK_c\": 0.0, \"[M]_TPS_c\": 0.0, \"[MB]_Gly_c\": 0.0048820462748225832, \"[B]_FBPase_h\": 8.574935143669979, \"[B]_Ex_Gly_h\": 0.0, \"[M]_ThrA_c\": 0.0, \"[B]_FBPase_c\": 3.1635876778941263, \"[M]_Tr_DIC2\": 0.0, \"[M]_Tr_PIC\": 6.8530017399010948e-20, \"[M]_Tr_Val3\": 0.0, \"[M]_Ex_Phe_p\": 0.0, \"[M]_AspAT_c\": 0.24503531490098329, \"[M]_StP1_h\": 0.0, \"[B]_Asp_DASH_SeADH_h\": 0.020923055463533197, \"[M]_DHLST_m\": 0.0, \"[B]_StP21_c\": 0.0, \"[B]_FrcFD_c\": 0.0, \"[M]_Ex_Tyr_p\": 0.0, \"[M]_Im_NO3\": 0.40474797160595044, \"[M]_iCitL_p\": -1.0838629053835446e-34, \"[M]_GlyDH_m\": 0.0, \"[B]_Tr_Ala1\": 0.0, \"[M]_GDPR_c\": 0.0, \"[B]_Ex_Cys_c\": 0.0, \"[B]_SCACoAL_m\": 0.0, \"[MB]_Arg_c\": 0.011158962913884365, \"[B]_bAMY2_h\": 0.0, \"[M]_Ex_Phe_m\": 0.0, \"[M]_Ex_Phe_c\": 0.0, \"[B]_Ex_Cys_h\": 0.0, \"[M]_TrpS_h\": 0.0, \"[M]_Tr_Lys2\": 0.0, \"[B]_2IPMS_h\": 0.0083692221854132758, \"[M]_Urease_m\": 0.0, \"[M]_DHDS_h\": 0.0, \"[B]_CTHS_h\": -5.547468211441608e-19, \"[B]_ATPCitL_c\": 0.0, \"[B]_GMPS_c\": 0.0, \"[M]_GARFT_h\": 0.0, \"[M]_G6PDH_h\": 0.0, \"[B]_HisolPP_h\": 0.0, \"[M]_DHLDH1_m\": 0.0, \"[M]_ATase_h\": 0.0, \"[M]_DCAMPL1_h\": 0.0, \"[M]_HCO3DHA_h\": 0.011158962913884364, \"[M]_Ex_Ser_m\": 0.0, \"[B]_DCAMPL1_h\": -3.4458562561984421e-15, \"[M]_HCO3DHA_c\": 11.888867152312402, \"[B]_AMT_m\": 4.6870486351003589, \"[B]_AlaTA_c\": 0.0, \"[B]_Tr_DTC4C\": 0.0, \"[B]_GluSFd_h\": 0.057887120115801029, \"[B]_Tr_DTC4A\": 0.0, \"[M]_Tr_SO4\": 0.0048820462748244116, \"[M]_AspCT_h\": 0.0, \"[M]_IGPS_h\": 0.0027897407284710914, \"[B]_Ex_Cys_m\": 0.0, \"[MB]_Tyr_c\": 0.0, \"[B]_Tr_Leu2\": 0.0083692221854132741, \"[M]_Ex_Suc\": 0.0, \"[B]_Ex_Ala_m\": 0.0, \"[B]_Ex_Ala_h\": 0.0, \"[M]_Ex_Ser_p\": 0.0, \"[M]_Ex_Leu_m\": 0.0, \"[M]_Tr_Leu3\": 0.0, \"[B]_DAPAT_h\": 0.012553833278119911, \"[M]_Tr_Leu1\": 0.0, \"[M]_Tr_Leu2\": 0.0, \"[B]_PGM_h\": 3.0687148013181997, \"[B]_Ex_Arg_c\": 0.0, \"[M]_ThrS_h\": 0.04742559238400855, \"[M]_iCitDHNAD_m\": 0.0, \"[B]_RBC_h_Ex\": -1.0008334685647782e-14, \"[B]_Ex_Ala_p\": 0.0, \"[M]_iCitDHNAD_c\": 0.0, \"[B]_MalDH4_h\": 0.0, \"[B]_GlyHMT_m\": 4.687048635100358, \"[B]_DPE12_h\": 0.0, \"[B]_GlyHMT_c\": -1.3690284860266046e-18, \"[B]_CHRM_h\": 0.011856398096002137, \"[B]_TRXR_c\": 0.0, \"[M]_AOrnTA_h\": 0.011158962913884365, \"[B]_KGDH_m\": 0.0, \"[M]_Tr_Ile1\": 0.0, \"[M]_AGPase_h\": 0.0, \"[M]_HisolPP_h\": 0.0027897407284710918, \"[M]_CTHS_h\": 0.0048820462748244099, \"[M]_Tr_PRPP\": 0.0, \"[M]_Ex_Pro_h\": 0.0, \"[M]_IMPDH_c\": 0.0, \"[M]_DHLAcT_m\": 0.0, \"[M]_GluSeADA_m\": 0.0, \"[B]_GABATA1_m\": 0.0, \"[M]_dTDPK_c\": 0.0, \"[M]_bAMY1_h\": 0.0, \"[B]_Tr_Asn2\": 0.0, \"[B]_DCAMPL2_h\": -3.4458562561984417e-15, \"[M]_2IPMS_h\": 0.0, \"[M]_Si_H_c\": -13.708047400285677, \"[B]_CTHL_h\": 0.0, \"[M]_Tr_DTC1C\": 1.6277806158158731e-19, \"[M]_GluDH1NADP_m\": 0.0, \"[M]_Ex_His_p\": 0.0, \"[B]_Im_SO4\": -5.7457966116465821e-19, \"[M]_Tr_Mex1\": 0.0, \"[B]_GluK_c\": 0.0, \"[B]_GluK_m\": 6.4602910693966803e-19, \"[B]_Tr_Leu3\": 0.0, \"[B]_Arginase_m\": 0.0, \"[M]_HSerDHNAD_h\": 0.0, \"[M]_GluDH1NAD_m\": 1.581685292267717e-19, \"[M]_Tr_ProU\": 3.8979039225141085e-19, \"[B]_3IPMDA1_h\": 0.0083692221854132758, \"[M]_Tr_GPT1\": -6.9811173719795106e-15, \"[M]_Im_SO4\": 0.0048820462748244108, \"[B]_DHADA1_h\": 0.0083692221854132758, \"[M]_GAPDH2_c\": 0.65466533278175787, \"[M]_GluK_c\": 0.0, \"[B]_Ex_Leu_m\": 0.0, \"[B]_DHLDH1_m\": 4.687048635100358, \"[B]_StS_h2\": 1.5343574006591003, \"[B]_StS_h3\": 0.0, \"[M]_GluK_h\": 0.0, \"[B]_StS_h1\": 1.5343574006591003, \"[M]_DHADA1_h\": 0.0, \"[B]_Im_NO3\": 0.65116889412035173, \"[M]_GluK_m\": 0.0, \"[B]_cACNDHA_h\": 0.0, \"[M]_GluSFd_h\": 0.080205045943542247, \"[M]_ADNN_c\": 0.0, \"[B]_cACNDHA_m\": 0.32221505413841106, \"[B]_Ex_Leu_h\": 0.0, \"[B]_cplx2_m\": 0.0, \"[B]_cACNDHA_c\": 0.0, \"[B]_GluDH1NADP_m\": 0.0, \"[M]_Tr_H_Na_hc\": 0.0, \"[M]_Tr_Cit_iCit_mc\": 0.0, \"[MB]_Frc_c\": 0.0, \"[M]_GluDH3NADP_c\": -0.24503531490098149, \"[M]_Asnase_c\": 0.0, \"[B]_Tr_Pyr_Mal_hc\": 0.020923055463523767, \"[B]_cplx4_m\": 1.4258689440463217, \"[B]_Ex_Met_p\": 0.0, \"[B]_DHOase_h\": 0.0, \"[B]_Tr_Phe3\": 0.0, \"[M]_GGAT_h\": 0.0, \"[M]_PEPC1_c\": 0.0, \"[B]_Tr_Mex1\": 0.0, \"[M]_CTPS_c\": 0.0, \"[M]_Im_NH4\": 0.0, \"[B]_SBPA_h\": 5.5829599041926494, \"[B]_Ex_Asp_c\": 0.0, \"[B]_ForDH_h\": -6.8908112180769751e-15, \"[B]_MalDH2_m\": 0.32221505413841095, \"[M]_Ex_Ala_c\": 0.0, \"[B]_ANTPRT_h\": 0.0062769166390599556, \"[B]_Tr_CO2h\": 16.688202851733696, \"[B]_SGAT_p\": 4.6173051168885815, \"[M]_Ex_Ala_h\": 0.0, \"[B]_Tr_Phe1\": 0.0, \"[B]_Tr_Phe2\": 0.0076717870032955004, \"[B]_iCitDHNADP_c\": 0.32221505413841106, \"[B]_PRAGlyL_h\": -3.4458562561984424e-15, \"[MB]_Leu_c\": 0.0, \"[B]_CysS_m\": 0.0, \"[B]_Tr_CO2m\": -5.3314787433771791, \"[B]_CysS_h\": 0.0, \"[M]_Tr_Hp\": 0.0, \"[M]_GCAO_p\": -1.8256222138450756e-15, \"[MB]_Ala_c\": -4.149420207691346, \"[B]_Tr_DIT1_OAA\": 0.020923055463516742, \"[M]_NMPK_c\": 0.0, \"[M]_GGAT_p\": -1.8256222138450756e-15, \"[M]_PAICARPI_h\": 0.0027897407284710918, \"[B]_NDH1_h\": 0.0, \"[M]_GCEAK_h\": 4.6173051168885815, \"[B]_6PGDHNAD_h\": 0.0, \"[MB]_GAP_c\": 3.5527218545600605, \"[M]_TPI_h\": 28.140722299753946, \"[M]_PrATPDP_h\": 0.0027897407284710918, \"[M]_DPE2_c\": 0.0, \"[M]_TPI_c\": 0.0, \"[B]_P5CDHNADP_h\": 0.0, \"[B]_UDPK_c\": 1.5343574006591008, \"[M]_Ex_Cys_p\": 0.0, \"[B]_P5CDHNADP_m\": 0.0, \"[M]_Ex_Tyr_m\": 0.0, \"[B]_Tr_GCA2\": 9.3657280480153045, \"[B]_CysS_c\": 0.0, \"[B]_Tr_DHO2\": 0.0, \"[M]_GluSeADH_c\": 0.0, \"[B]_Tr_DHO1\": 0.0, \"[M]_Tr_Gln\": 0.0, \"[M]_DCAMPL2_h\": 0.0027897407284710909, \"[M]_Tr_Asp_OAA_hc\": 0.0, \"[M]_dCDPK_c\": 0.0, \"[M]_Tr_Pyr1\": 0.0, \"[M]_Tr_Pyr3\": 0.0, \"[M]_Tr_Pyr2\": 0.0, \"[M]_TRXR_c\": 0.0, \"[M]_SAK_h\": 0.0, \"[M]_Ru5PE_h\": 24.977134621859808, \"[B]_Ex_Ser_m\": 0.0, \"[M]_AMPDA_c\": 0.0, \"[B]_PyrPiDK_h\": -0.014646138824466137, \"[M]_TPP_c\": 0.0, \"[M]_Tr_NO2\": 0.4047479716059505, \"[M]_GlyHMT_m\": 0.0, \"[B]_Tr_Fum\": -6.8917125123968841e-15, \"[B]_Ex_Pro_h\": 0.0, \"[B]_GluSeADA_c\": 0.0, \"[M]_ATPase_h\": 121.07732038004431, \"[M]_PyrK_c\": 0.0, \"[M]_P5CDHNADP_m\": 0.0, \"[M]_Ex_Gln_p\": 0.0, \"[M]_IGPDA_h\": 0.0027897407284710918, \"[B]_UGPase_c\": 1.5343574006591008, \"[B]_Ex_His_h\": 0.0, \"[M]_Ex_AA\": 0.0, \"[M]_Tr_O2p\": -9.1281110692253797e-16, \"[M]_R5PDPK_h\": 0.0027897407284710914, \"[M]_PyrK_h\": 0.0, \"[B]_BAATA1_h\": 0.0083692221854132741, \"[M]_ANTPRT_h\": 0.0, \"[M]_APSR_h\": 0.0048820462748244116, \"[M]_Tr_O2h\": -29.966441271699452, \"[M]_Ex_Gln_c\": 0.0, \"[M]_Ex_Ala_p\": 0.0, \"[M]_Tr_H2S1\": 0.0, \"[M]_Tr_O2m\": 0.0013666780868252357, \"[M]_SCASeADH_m\": 0.0, \"[M]_Tr_H2S2\": 0.0, \"[B]_Tr_BAC1\": 0.0, \"[M]_Ex_Gln_h\": 0.0, \"[B]_Tr_BAC2\": 0.0, \"[M]_PRAGlyL_h\": 0.0, \"[B]_Ex_Tyr_m\": 0.0, \"[B]_FBPA_h\": 8.574935143669979, \"[B]_Tr_HCys\": 0.0, \"[M]_Tr_Met1\": 0.0, \"[B]_HSerK_h\": 0.0083692221854132793, \"[M]_AspAT2_m\": 0.0, \"[M]_AspAT2_h\": 0.0, \"[M]_cplx2_m\": 0.0, \"[M]_HisolPDH_h\": 0.0027897407284710914, \"[M]_AspAT2_c\": 4.1494202076913469, \"[B]_Ex_Gln_h\": 0.0, \"[M]_P5CRNAD_c\": 5.5256845383299801e-19, \"[M]_DHLDH2_m\": -2.0914139409194937e-50, \"[M]_dTMPS_c\": 0.0, \"[M]_NO3R1_c\": 0.64978328650693196, \"[M]_Tr_Glu2\": 0.011158962913884388, \"[M]_ProDHNADP_m\": 0.0, \"[M]_Tr_Fum\": 0.013948703642355459, \"[M]_AspAT2_p\": 0.0, \"[B]_Ex_Phe_p\": 0.0, \"[B]_Ex_Asn_p\": 0.0, \"[M]_BAATA1_h\": 0.0, \"[B]_ThrA_c\": 0.0083692221854132758, \"[M]_Ex_Val_c\": 0.0, \"[M]_HisalPDH_h\": 0.0027897407284710909, \"[B]_ArgSCAS_h\": 0.0, \"[M]_GABATA2_m\": 0.0, \"[M]_Ex_Val_m\": 0.0, \"[B]_Tr_BT12\": 0.0, \"[B]_Tr_BT13\": -5.2739908273524751e-16, \"[M]_Ex_Val_h\": 0.0, \"[B]_Tr_BT11\": 5.0946165557592378e-16, \"[B]_Ex_Asn_c\": 0.0, \"[M]_Tr_Gly\": 0.0, \"[B]_FBPA_c\": 3.1635876778941263, \"[M]_Ex_Val_p\": 0.0, \"[M]_NO3R2_c\": -0.24503531490098149, \"[B]_Tr_AC2\": 0.0, \"[M]_Tr_pGlc\": 0.0, \"[M]_ALS2_h\": 0.0, \"[M]_Ex_Asp_h\": 0.0, \"[M]_BAATA3_h\": 0.0, \"[B]_Ex_Asn_m\": 0.0, \"[M]_Ex_Glc\": 0.0, \"[B]_DHLDH2_m\": 0.32221505413841095, \"[M]_Tr_Pro1\": 0.0, \"[B]_Tr_Ile3\": 0.0, \"[M]_Tr_GCEA1\": 4.6173051168885806, \"[M]_HCysMT_c\": 0.0, \"[B]_cACNHA_c\": 1.0838629053835444e-34, \"[B]_cACNHA_m\": 0.32221505413841106, \"[B]_Glnase_c\": 0.0, \"[B]_cACNHA_h\": 0.0, \"[M]_Ex_Pro_c\": 0.0, \"[B]_Tr_H2S1\": 0.0, \"[B]_Tr_Thr1\": 0.0, \"[B]_Tr_Thr3\": 0.0, \"[B]_Tr_Thr2\": 0.0, \"[M]_Tr_OAA\": 0.0, \"[B]_Tr_H2S2\": 0.0, \"[B]_AsnS_c\": -5.0870017926583529e-16, \"[MB]_GCEA_c\": -4.6173051168885806, \"[M]_Ex_His_m\": 0.0, \"[M]_ACPM_h\": 0.0, \"[M]_Ex_Pro_p\": 0.0, \"[M]_PSI_h\": 160.40948969975906, \"[B]_KARI34_h\": 0.025107666556239829, \"[B]_Asnase_c\": 0.0, \"[M]_Ex_Thr_h\": 0.0, \"[M]_P5CDHNAD_m\": 8.2368498079360836e-19, \"[M]_AGNDH_h\": 0.0, \"[M]_Ex_Gly_h\": 0.0, \"[B]_Tr_Asp_Glu_mc\": 8.9297972643723973e-17, \"[B]_CDPR_c\": 0.0, \"[B]_DPE13_h\": 0.0, \"[M]_Tr_PXN3\": -1.2675791653851778e-15, \"[M]_Ex_Gly_p\": 0.0, \"[B]_Ex_Ile_c\": 0.0, \"[M]_GDPK_h\": 0.0027897407284710918, \"[M]_Tr_NTT\": 0.0, \"[B]_Tr_DTC3B\": 0.32221505413841112, \"[B]_Tr_DTC3C\": 0.0, \"[M]_CBPS_h\": 0.011158962913884365, \"[B]_AGluPR_h\": 0.0, \"[M]_GDPK_c\": 0.0, \"[M]_Ex_Lys_p\": 0.0, \"[B]_Im_NH4\": 0.0, \"[B]_Tr_GCEA1\": 0.0, \"[M]_Tr_DTC4B\": 7.5213669214244502e-35, \"[M]_Tr_DTC4C\": 0.0, \"[M]_Im_CO2\": 40.000000000000689, \"[B]_CTPS_c\": 0.0, \"[B]_MalDH1_c\": 4.9823246753187611, \"[MB]_Val_c\": 0.0, \"[B]_MalDH1_m\": -2.4797408552845361, \"[M]_Tr_Lys1\": 0.0, \"[B]_MalDH1_h\": 0.0, \"[B]_GPAT_h\": 0.011856398096002137, \"[M]_AMPK_c\": 0.0, \"[M]_cplx4_m\": 0.0013666780868252359, \"[M]_Ex_Frc\": 0.0, \"[B]_Ex_Leu_c\": 0.0, \"[B]_MalDH1_p\": 4.6173051168885815, \"[B]_NO3R1_c\": 5.3798280741701081, \"[B]_PEPC2_c\": 0.0, \"[M]_Tr_Pyr_Mal_hc\": 0.066256342301188112, \"[B]_Ex_Thr_m\": 0.0, \"[M]_PyrDH2_m\": 1.519771980536052e-50, \"[B]_Tr_NDT1\": -7.6147631008844524e-19, \"[M]_Ru5PK_h\": 37.462912192061239, \"[B]_RBC_h\": 16.760736110673953, \"[B]_Tr_NDT2\": 0.0, \"[B]_ADNN_c\": 0.0, \"[M]_CysS_c\": 0.0, \"[M]_CysS_m\": 0.0, \"[M]_Tr_DIC4\": 1.5816852922677174e-19, \"[M]_DHADA2_h\": 0.0, \"[M]_ATPPRT_h\": 0.0027897407284710914, \"[M]_CysS_h\": 0.0048820462748244116, \"[M]_Tr_DIC1\": 0.0, \"[B]_DHADA2_h\": 0.025107666556239826, \"[M]_Ex_Asn_c\": 0.0, \"[M]_NGAM_c\": 0.050349979617494899, \"[M]_Ex_Glu_c\": 0.0, \"[M]_Ex_Cys_m\": 0.0, \"[M]_Tr_SCA\": 1.0838629053835449e-34, \"[M]_GAPDH3_c\": 0.0, \"[B]_Tr_AAC\": 9.4966817730633117, \"[M]_Ex_Asn_m\": 0.0, \"[M]_NGAM_m\": 0.0091111872455015702, \"[M]_GMPS_c\": 0.0, \"[B]_Si_H_m\": 16.090535555614611, \"[M]_Tr_Ile2\": 0.0, \"[B]_GluDH1NAD_m\": -4.1690842446497292e-17, \"[B]_F6PK2_c\": 0.0, \"[M]_3IPMDH_h\": 0.0, \"[B]_Si_H_h\": 1.656600205800743, \"[B]_HisalPDH_h\": 0.0, \"[M]_Tr_Pi\": -0.43114958905383033, \"[MB]_Mal_c\": 7.4281552874188757, \"[B]_cplx5_m\": 9.5057929603088134, \"[M]_ANTS_h\": 0.0, \"[B]_Si_H_c\": 0.0, \"[B]_Tr_Gln\": 0.0, \"[M]_PPIase_c\": 0.07044095339389557, \"[M]_Tr_Pyr_H_hc\": 4.2156765499925335, \"[B]_Tr_pGlc\": 0.0, \"[B]_MetAdT_c\": 0.0, \"[M]_GCAO_h\": 0.0, \"[B]_Tr_Gly\": -9.3657280480153045, \"[B]_HEXK_c\": 0.0, \"[B]_Tr_His1\": 0.0, \"[B]_ThrS_h\": 0.0083692221854132793, \"[M]_Tr_NDT2\": -1.6262444802844851e-16, \"[B]_DAHPS_h\": 0.018133314735062092, \"[B]_cplx1_m\": 2.8517378880926438, \"[B]_Ex_His_m\": 0.0, \"[M]_DHODH_m\": 0.0, \"[M]_AOrnAGluAcT_h\": 0.011158962913884365, \"[M]_iCitDHNADP_h\": 0.0, \"[B]_MalDH3_h\": 0.0, \"[M]_iCitDHNADP_m\": 0.0, \"[M]_Ex_Trp_h\": 0.0, \"[B]_SO3R_h\": 0.0, \"[M]_iCitDHNADP_c\": 0.0, \"[M]_Tr_P5C2\": 0.0, \"[M]_GlyHMT_c\": -0.0048820462748244099, \"[B]_cplx3_m\": 2.8517378880926434, \"[M]_Tr_P5C1\": 0.0, \"[B]_ThrDA_h\": 0.0083692221854132776, \"[M]_Ex_Trp_p\": 0.0, \"[M]_DCAMPS_h\": 0.0027897407284710914, \"[M]_Ex_Glu_h\": 0.0, \"[B]_PGR5PGRL12_h\": 0.0, \"[B]_Ex_Ile_h\": 0.0, \"[M]_CAT_h\": 0.0, \"[B]_Ex_Ile_m\": 0.0, \"[B]_Si_H_p\": 0.0, \"[B]_Tr_OAA\": -4.6173051168885815, \"[B]_Ex_Ile_p\": 0.0, \"[M]_CHRM_h\": 0.0, \"[M]_Ex_Trp_c\": 0.0, \"[M]_CAT_p\": -9.1281110692253797e-16, \"[B]_NO2R_h\": 0.65116889412035195, \"[B]_Ex_Ser_p\": 0.0, \"[M]_Tr_TPT3\": 3.1635876778941259, \"[B]_P5CDHNAD_m\": 0.0, \"[M]_AGNDA_h\": 0.0, \"[M]_Ex_Trp_m\": 0.0, \"[B]_P5CDHNAD_h\": 0.0, \"[M]_Ex_Thr_c\": 0.0, \"[B]_SCASeADH_m\": 0.0}, \"ignore_bootstrap\": true, \"scroll_behavior\": \"none\"}'),\n",
       "               builder_embed_css: JSON.parse('null'),\n",
       "               map_data: JSON.parse('[{\"map_name\":\"new_map\",\"map_id\":\"cPBjQ56p0ATA\",\"map_description\":\"\\\\nLast Modified Mon Jul 30 2018 11:01:17 GMT+0200 (CEST)\",\"homepage\":\"https://escher.github.io\",\"schema\":\"https://escher.github.io/escher/jsonschema/1-0-0#\"},{\"reactions\":{\"3\":{\"name\":\"Import CO2\",\"bigg_id\":\"[M]_Im_CO2\",\"reversibility\":false,\"label_x\":1300.6845092773438,\"label_y\":-978.7737426757812,\"gene_reaction_rule\":\"\",\"genes\":[],\"metabolites\":[{\"bigg_id\":\"[M]_CO2_c\",\"coefficient\":1}],\"segments\":{\"9\":{\"from_node_id\":\"13\",\"to_node_id\":\"14\",\"b1\":null,\"b2\":null},\"10\":{\"from_node_id\":\"15\",\"to_node_id\":\"14\",\"b1\":null,\"b2\":null},\"11\":{\"from_node_id\":\"15\",\"to_node_id\":\"12\",\"b1\":{\"x\":1285.6845092773438,\"y\":-926.7737426757812},\"b2\":{\"x\":1289.6665649414062,\"y\":-378.75006103515625}}}},\"4\":{\"name\":\"CO2 diffusion\",\"bigg_id\":\"[M]_Tr_CO2h\",\"reversibility\":true,\"label_x\":1013.1581420898438,\"label_y\":-354.0567932128906,\"gene_reaction_rule\":\"\",\"genes\":[],\"metabolites\":[{\"bigg_id\":\"[M]_CO2_c\",\"coefficient\":-1},{\"bigg_id\":\"[M]_CO2_h\",\"coefficient\":1}],\"segments\":{\"12\":{\"from_node_id\":\"16\",\"to_node_id\":\"17\",\"b1\":null,\"b2\":null},\"13\":{\"from_node_id\":\"18\",\"to_node_id\":\"17\",\"b1\":null,\"b2\":null},\"14\":{\"from_node_id\":\"16\",\"to_node_id\":\"12\",\"b1\":{\"x\":1176.6665649414062,\"y\":-320.00006103515625},\"b2\":{\"x\":1230.9165649414062,\"y\":-320.00006103515625}},\"15\":{\"from_node_id\":\"18\",\"to_node_id\":\"19\",\"b1\":{\"x\":1052.6665649414062,\"y\":-320.0000610351562},\"b2\":{\"x\":998.4165649414062,\"y\":-320.0000610351562}}}},\"5\":{\"name\":\"RuBisCO\",\"bigg_id\":\"[M]_RBC_h\",\"reversibility\":false,\"label_x\":689.8250122070312,\"label_y\":-269.3552856445312,\"gene_reaction_rule\":\"\",\"genes\":[],\"metabolites\":[{\"bigg_id\":\"[M]_CO2_h\",\"coefficient\":-1},{\"bigg_id\":\"[M]_H2O_h\",\"coefficient\":-1},{\"bigg_id\":\"[M]_H_h\",\"coefficient\":2},{\"bigg_id\":\"[M]_PGA_h\",\"coefficient\":2},{\"bigg_id\":\"[M]_RuBP_h\",\"coefficient\":-1}],\"segments\":{\"16\":{\"from_node_id\":\"20\",\"to_node_id\":\"21\",\"b1\":null,\"b2\":null},\"17\":{\"from_node_id\":\"22\",\"to_node_id\":\"21\",\"b1\":null,\"b2\":null},\"18\":{\"from_node_id\":\"20\",\"to_node_id\":\"19\",\"b1\":{\"x\":826.6665649414062,\"y\":-320.0000610351562},\"b2\":{\"x\":880.9165649414062,\"y\":-320.0000610351562}},\"21\":{\"from_node_id\":\"22\",\"to_node_id\":\"25\",\"b1\":{\"x\":698.6665649414062,\"y\":-320.00006103515614},\"b2\":{\"x\":653.935546875,\"y\":-318.99801635742176}},\"22\":{\"from_node_id\":\"20\",\"to_node_id\":\"26\",\"b1\":{\"x\":830.6665649414062,\"y\":-320.0000610351562},\"b2\":{\"x\":881.2373046875,\"y\":-439.61360931396484}}}},\"6\":{\"name\":\"RuBisCO\",\"bigg_id\":\"[M]_RBO_h\",\"reversibility\":false,\"label_x\":694.37890625,\"label_y\":-573.3093070983886,\"gene_reaction_rule\":\"\",\"genes\":[],\"metabolites\":[{\"bigg_id\":\"[M]_H_h\",\"coefficient\":2},{\"bigg_id\":\"[M]_O2_h\",\"coefficient\":-1},{\"bigg_id\":\"[M]_PGA_h\",\"coefficient\":1},{\"bigg_id\":\"[M]_PGCA_h\",\"coefficient\":1},{\"bigg_id\":\"[M]_RuBP_h\",\"coefficient\":-1}],\"segments\":{\"23\":{\"from_node_id\":\"27\",\"to_node_id\":\"28\",\"b1\":null,\"b2\":null},\"24\":{\"from_node_id\":\"29\",\"to_node_id\":\"28\",\"b1\":null,\"b2\":null},\"27\":{\"from_node_id\":\"29\",\"to_node_id\":\"25\",\"b1\":{\"x\":702.5404052734375,\"y\":-547.3853912353514},\"b2\":{\"x\":610.8214111328125,\"y\":-468.84315490722645}},\"28\":{\"from_node_id\":\"29\",\"to_node_id\":\"33\",\"b1\":{\"x\":702.5404052734375,\"y\":-547.3853912353514},\"b2\":{\"x\":630.3623657226562,\"y\":-548.0520381927489}},\"29\":{\"from_node_id\":\"27\",\"to_node_id\":\"26\",\"b1\":{\"x\":830.5404052734375,\"y\":-547.3853912353516},\"b2\":{\"x\":881.5706176757812,\"y\":-440.28026580810547}}}},\"7\":{\"name\":\"PGCA phosphorylase\",\"bigg_id\":\"[M]_PGP_h\",\"reversibility\":false,\"label_x\":338.2790832519531,\"label_y\":-575.3853797912597,\"gene_reaction_rule\":\"\",\"genes\":[],\"metabolites\":[{\"bigg_id\":\"[M]_GCA_h\",\"coefficient\":1},{\"bigg_id\":\"[M]_H2O_h\",\"coefficient\":-1},{\"bigg_id\":\"[M]_PGCA_h\",\"coefficient\":-1},{\"bigg_id\":\"[M]_Pi_h\",\"coefficient\":1}],\"segments\":{\"30\":{\"from_node_id\":\"34\",\"to_node_id\":\"35\",\"b1\":null,\"b2\":null},\"31\":{\"from_node_id\":\"36\",\"to_node_id\":\"35\",\"b1\":null,\"b2\":null},\"32\":{\"from_node_id\":\"36\",\"to_node_id\":\"37\",\"b1\":{\"x\":344.94573974609375,\"y\":-548.71870803833},\"b2\":{\"x\":322.3774108886719,\"y\":-548.7187080383299}},\"34\":{\"from_node_id\":\"34\",\"to_node_id\":\"33\",\"b1\":{\"x\":468.94573974609375,\"y\":-548.71870803833},\"b2\":{\"x\":523.1957397460938,\"y\":-548.71870803833}}}},\"8\":{\"name\":\"HCO3 dehydratase\",\"bigg_id\":\"[M]_HCO3DHA_c\",\"reversibility\":false,\"label_x\":1304.6665649414062,\"label_y\":-135.00006103515625,\"gene_reaction_rule\":\"\",\"genes\":[],\"metabolites\":[{\"bigg_id\":\"[M]_CO2_c\",\"coefficient\":-1},{\"bigg_id\":\"[M]_H2O_c\",\"coefficient\":-1},{\"bigg_id\":\"[M]_HCO3_c\",\"coefficient\":1},{\"bigg_id\":\"[M]_H_c\",\"coefficient\":1}],\"segments\":{\"36\":{\"from_node_id\":\"40\",\"to_node_id\":\"41\",\"b1\":null,\"b2\":null},\"37\":{\"from_node_id\":\"42\",\"to_node_id\":\"41\",\"b1\":null,\"b2\":null},\"38\":{\"from_node_id\":\"40\",\"to_node_id\":\"12\",\"b1\":{\"x\":1289.6665649414062,\"y\":-207.00006103515625},\"b2\":{\"x\":1289.6665649414062,\"y\":-261.25006103515625}},\"40\":{\"from_node_id\":\"42\",\"to_node_id\":\"44\",\"b1\":{\"x\":1289.6665649414062,\"y\":-83.00006103515625},\"b2\":{\"x\":1289.6665649414062,\"y\":-28.75006103515625}}}},\"10\":{\"name\":\"PEP carboxylase\",\"bigg_id\":\"[M]_PEPC2_c\",\"reversibility\":true,\"label_x\":1422.7590942382812,\"label_y\":77.27912712097168,\"gene_reaction_rule\":\"\",\"genes\":[],\"metabolites\":[{\"bigg_id\":\"[M]_HCO3_c\",\"coefficient\":1},{\"bigg_id\":\"[M]_OAA_c\",\"coefficient\":-1},{\"bigg_id\":\"[M]_PEP_c\",\"coefficient\":1},{\"bigg_id\":\"[M]_Pi_c\",\"coefficient\":-1}],\"segments\":{\"48\":{\"from_node_id\":\"52\",\"to_node_id\":\"53\",\"b1\":null,\"b2\":null},\"49\":{\"from_node_id\":\"54\",\"to_node_id\":\"53\",\"b1\":null,\"b2\":null},\"50\":{\"from_node_id\":\"54\",\"to_node_id\":\"44\",\"b1\":{\"x\":1404.1141737571454,\"y\":10.721262307582037},\"b2\":{\"x\":1417.7417602539062,\"y\":29.9779634475708}},\"51\":{\"from_node_id\":\"52\",\"to_node_id\":\"55\",\"b1\":{\"x\":1285.7354632437239,\"y\":214.6221250124529},\"b2\":{\"x\":1284.9165649414062,\"y\":216.66662979125977}},\"52\":{\"from_node_id\":\"54\",\"to_node_id\":\"56\",\"b1\":{\"x\":1320.831744884119,\"y\":173.91463554749566},\"b2\":{\"x\":1338.1442260742188,\"y\":174.44183349609375}}}},\"11\":{\"name\":\"Mal dehydrogenase\",\"bigg_id\":\"[M]_MalDH1_c\",\"reversibility\":true,\"label_x\":1297.1358032226562,\"label_y\":550.7036323547363,\"gene_reaction_rule\":\"\",\"genes\":[],\"metabolites\":[{\"bigg_id\":\"[M]_H_c\",\"coefficient\":1},{\"bigg_id\":\"[M]_Mal_c\",\"coefficient\":-1},{\"bigg_id\":\"[M]_NADH_c\",\"coefficient\":1},{\"bigg_id\":\"[M]_NAD_c\",\"coefficient\":-1},{\"bigg_id\":\"[M]_OAA_c\",\"coefficient\":1}],\"segments\":{\"54\":{\"from_node_id\":\"58\",\"to_node_id\":\"59\",\"b1\":null,\"b2\":null},\"55\":{\"from_node_id\":\"60\",\"to_node_id\":\"59\",\"b1\":null,\"b2\":null},\"57\":{\"from_node_id\":\"58\",\"to_node_id\":\"62\",\"b1\":{\"x\":1287.6666870117188,\"y\":600.3332710266113},\"b2\":{\"x\":1288.2583618164062,\"y\":655.1749458312988}},\"60\":{\"from_node_id\":\"60\",\"to_node_id\":\"55\",\"b1\":{\"x\":1287.6666870117188,\"y\":476.3332710266113},\"b2\":{\"x\":1287.6666870117188,\"y\":422.0832710266113}}}},\"12\":{\"name\":\"Dicarboxylate transporter\",\"bigg_id\":\"[M]_Tr_DIT1_OAA\",\"reversibility\":true,\"label_x\":976.897114103185,\"label_y\":328.4692601131612,\"gene_reaction_rule\":\"\",\"genes\":[],\"metabolites\":[{\"bigg_id\":\"[M]_Mal_c\",\"coefficient\":1},{\"bigg_id\":\"[M]_Mal_h\",\"coefficient\":-1},{\"bigg_id\":\"[M]_OAA_c\",\"coefficient\":-1},{\"bigg_id\":\"[M]_OAA_h\",\"coefficient\":1}],\"segments\":{\"61\":{\"from_node_id\":\"65\",\"to_node_id\":\"66\",\"b1\":null,\"b2\":null},\"62\":{\"from_node_id\":\"67\",\"to_node_id\":\"66\",\"b1\":null,\"b2\":null},\"63\":{\"from_node_id\":\"67\",\"to_node_id\":\"62\",\"b1\":{\"x\":1104.434084619332,\"y\":597.4528029043886},\"b2\":{\"x\":1210.3419189453125,\"y\":713.5545539855957}},\"64\":{\"from_node_id\":\"65\",\"to_node_id\":\"69\",\"b1\":{\"x\":1104.913831981156,\"y\":469.4537019604029},\"b2\":{\"x\":1007.6513479511395,\"y\":367.39463617939714}},\"65\":{\"from_node_id\":\"65\",\"to_node_id\":\"55\",\"b1\":{\"x\":1104.8988398760982,\"y\":473.4536738649029},\"b2\":{\"x\":1228.9166870117188,\"y\":363.3332710266113}},\"66\":{\"from_node_id\":\"67\",\"to_node_id\":\"70\",\"b1\":{\"x\":1104.4190925142746,\"y\":601.4527748088888},\"b2\":{\"x\":1012.4505061616076,\"y\":721.8936963123499}}}},\"13\":{\"name\":\"Mal dehydrogenase\",\"bigg_id\":\"[M]_MalDH3_h\",\"reversibility\":true,\"label_x\":715.5418291225017,\"label_y\":581.5765275892197,\"gene_reaction_rule\":\"\",\"genes\":[],\"metabolites\":[{\"bigg_id\":\"[M]_H_h\",\"coefficient\":-1},{\"bigg_id\":\"[M]_Mal_h\",\"coefficient\":1},{\"bigg_id\":\"[M]_NADPH_h\",\"coefficient\":-1},{\"bigg_id\":\"[M]_NADP_h\",\"coefficient\":1},{\"bigg_id\":\"[M]_OAA_h\",\"coefficient\":-1}],\"segments\":{\"67\":{\"from_node_id\":\"71\",\"to_node_id\":\"72\",\"b1\":null,\"b2\":null},\"68\":{\"from_node_id\":\"73\",\"to_node_id\":\"72\",\"b1\":null,\"b2\":null},\"70\":{\"from_node_id\":\"73\",\"to_node_id\":\"69\",\"b1\":{\"x\":937.7782182826579,\"y\":475.74583911265717},\"b2\":{\"x\":936.4449052943767,\"y\":425.49583911265717}},\"73\":{\"from_node_id\":\"71\",\"to_node_id\":\"70\",\"b1\":{\"x\":937.7782182826579,\"y\":603.7458391126572},\"b2\":{\"x\":938.4449052943767,\"y\":670.3291521009385}}}},\"16\":{\"name\":\"Asp aminotransferase\",\"bigg_id\":\"[M]_AspAT2_c\",\"reversibility\":true,\"label_x\":3173.9678344726562,\"label_y\":554.1748847961426,\"gene_reaction_rule\":\"\",\"genes\":[],\"metabolites\":[{\"bigg_id\":\"[M]_Ala_c\",\"coefficient\":-1},{\"bigg_id\":\"[M]_Asp_c\",\"coefficient\":1},{\"bigg_id\":\"[M]_OAA_c\",\"coefficient\":-1},{\"bigg_id\":\"[M]_Pyr_c\",\"coefficient\":1}],\"segments\":{\"86\":{\"from_node_id\":\"90\",\"to_node_id\":\"91\",\"b1\":null,\"b2\":null},\"87\":{\"from_node_id\":\"92\",\"to_node_id\":\"91\",\"b1\":null,\"b2\":null},\"88\":{\"from_node_id\":\"90\",\"to_node_id\":\"93\",\"b1\":{\"x\":3158.9678344726562,\"y\":476.0020942687988},\"b2\":{\"x\":3335.6698608398438,\"y\":492.16301345825195}},\"89\":{\"from_node_id\":\"92\",\"to_node_id\":\"94\",\"b1\":{\"x\":3158.5728149414062,\"y\":604.8415718078613},\"b2\":{\"x\":3340.2542114257812,\"y\":610.641040802002}},\"90\":{\"from_node_id\":\"90\",\"to_node_id\":\"55\",\"b1\":{\"x\":3161.9219360351562,\"y\":367.7466926574707},\"b2\":{\"x\":1529.3112182617188,\"y\":361.81987380981445}},\"91\":{\"from_node_id\":\"92\",\"to_node_id\":\"95\",\"b1\":{\"x\":3158.5728149414062,\"y\":608.8415718078613},\"b2\":{\"x\":2989.7009887695312,\"y\":612.0880928039551}}}},\"17\":{\"name\":\"PEP/Pi translocator\",\"bigg_id\":\"[M]_Tr_PPT\",\"reversibility\":true,\"label_x\":1042.2079467773438,\"label_y\":94.60987854003909,\"gene_reaction_rule\":\"\",\"genes\":[],\"metabolites\":[{\"bigg_id\":\"[M]_H_c\",\"coefficient\":-1},{\"bigg_id\":\"[M]_H_h\",\"coefficient\":1},{\"bigg_id\":\"[M]_PEP_c\",\"coefficient\":-1},{\"bigg_id\":\"[M]_PEP_h\",\"coefficient\":1},{\"bigg_id\":\"[M]_Pi_c\",\"coefficient\":1},{\"bigg_id\":\"[M]_Pi_h\",\"coefficient\":-1}],\"segments\":{\"92\":{\"from_node_id\":\"96\",\"to_node_id\":\"97\",\"b1\":null,\"b2\":null},\"93\":{\"from_node_id\":\"98\",\"to_node_id\":\"97\",\"b1\":null,\"b2\":null},\"96\":{\"from_node_id\":\"96\",\"to_node_id\":\"56\",\"b1\":{\"x\":1175.9999389648438,\"y\":128.66659545898438},\"b2\":{\"x\":1230.2499389648438,\"y\":128.66659545898438}},\"97\":{\"from_node_id\":\"98\",\"to_node_id\":\"101\",\"b1\":{\"x\":1051.9999389648438,\"y\":128.6665954589844},\"b2\":{\"x\":997.7499389648438,\"y\":128.6665954589844}}}},\"18\":{\"name\":\"Pyr/H+ translocator\",\"bigg_id\":\"[M]_Tr_Pyr_H_hc\",\"reversibility\":true,\"label_x\":1003.2914428710938,\"label_y\":807.9956245422363,\"gene_reaction_rule\":\"\",\"genes\":[],\"metabolites\":[{\"bigg_id\":\"[M]_H_c\",\"coefficient\":-1},{\"bigg_id\":\"[M]_H_h\",\"coefficient\":1},{\"bigg_id\":\"[M]_Pyr_c\",\"coefficient\":-1},{\"bigg_id\":\"[M]_Pyr_h\",\"coefficient\":1}],\"segments\":{\"100\":{\"from_node_id\":\"104\",\"to_node_id\":\"105\",\"b1\":null,\"b2\":null},\"101\":{\"from_node_id\":\"106\",\"to_node_id\":\"105\",\"b1\":null,\"b2\":null},\"104\":{\"from_node_id\":\"104\",\"to_node_id\":\"95\",\"b1\":{\"x\":2911.2495727539062,\"y\":838.5020942687988},\"b2\":{\"x\":2909.8539428710938,\"y\":840.5639228820801}},\"105\":{\"from_node_id\":\"106\",\"to_node_id\":\"109\",\"b1\":{\"x\":1052.7053833007812,\"y\":842.0523262023926},\"b2\":{\"x\":998.4553833007812,\"y\":842.0523262023926}}}},\"19\":{\"name\":\"Pyr phosphate dikinase\",\"bigg_id\":\"[M]_PyrPiDK_h\",\"reversibility\":true,\"label_x\":529.501953125,\"label_y\":493.18254470825195,\"gene_reaction_rule\":\"\",\"genes\":[],\"metabolites\":[{\"bigg_id\":\"[M]_AMP_h\",\"coefficient\":1},{\"bigg_id\":\"[M]_ATP_h\",\"coefficient\":-1},{\"bigg_id\":\"[M]_H_h\",\"coefficient\":2},{\"bigg_id\":\"[M]_PEP_h\",\"coefficient\":1},{\"bigg_id\":\"[M]_PPi_h\",\"coefficient\":1},{\"bigg_id\":\"[M]_Pi_h\",\"coefficient\":-1},{\"bigg_id\":\"[M]_Pyr_h\",\"coefficient\":-1}],\"segments\":{\"106\":{\"from_node_id\":\"110\",\"to_node_id\":\"111\",\"b1\":null,\"b2\":null},\"107\":{\"from_node_id\":\"112\",\"to_node_id\":\"111\",\"b1\":null,\"b2\":null},\"111\":{\"from_node_id\":\"112\",\"to_node_id\":\"101\",\"b1\":{\"x\":773.6394687410274,\"y\":129.17727754133807},\"b2\":{\"x\":774.4884643554688,\"y\":129.04831314086914}},\"114\":{\"from_node_id\":\"110\",\"to_node_id\":\"109\",\"b1\":{\"x\":770.5639003995976,\"y\":845.4735327003611},\"b2\":{\"x\":746.6383666992188,\"y\":848.5609931945801}}}},\"20\":{\"name\":\"GCA/GCEA shuffle\",\"bigg_id\":\"[M]_Tr_GCA1\",\"reversibility\":true,\"label_x\":-347.523193359375,\"label_y\":-575.9166297912595,\"gene_reaction_rule\":\"\",\"genes\":[],\"metabolites\":[{\"bigg_id\":\"[M]_GCA_c\",\"coefficient\":1},{\"bigg_id\":\"[M]_GCA_h\",\"coefficient\":-1}],\"segments\":{\"115\":{\"from_node_id\":\"119\",\"to_node_id\":\"120\",\"b1\":null,\"b2\":null},\"116\":{\"from_node_id\":\"121\",\"to_node_id\":\"120\",\"b1\":null,\"b2\":null},\"117\":{\"from_node_id\":\"121\",\"to_node_id\":\"122\",\"b1\":{\"x\":-334.7345733642578,\"y\":-547.0999336242674},\"b2\":{\"x\":-391.3478546142578,\"y\":-547.0999336242674}},\"118\":{\"from_node_id\":\"119\",\"to_node_id\":\"37\",\"b1\":{\"x\":-210.7345733642578,\"y\":-547.0999336242674},\"b2\":{\"x\":204.87741088867188,\"y\":-548.7187080383299}}}},\"21\":{\"name\":\"TP/Pi translocator\",\"bigg_id\":\"[M]_Tr_TPT1\",\"reversibility\":true,\"label_x\":-371.6349792480469,\"label_y\":-234.71285247802723,\"gene_reaction_rule\":\"\",\"genes\":[],\"metabolites\":[{\"bigg_id\":\"[M]_PGA_c\",\"coefficient\":1},{\"bigg_id\":\"[M]_PGA_h\",\"coefficient\":-1},{\"bigg_id\":\"[M]_Pi_c\",\"coefficient\":-1},{\"bigg_id\":\"[M]_Pi_h\",\"coefficient\":1}],\"segments\":{\"119\":{\"from_node_id\":\"123\",\"to_node_id\":\"124\",\"b1\":null,\"b2\":null},\"120\":{\"from_node_id\":\"125\",\"to_node_id\":\"124\",\"b1\":null,\"b2\":null},\"121\":{\"from_node_id\":\"125\",\"to_node_id\":\"126\",\"b1\":{\"x\":352.35125732421875,\"y\":-212.13581085205064},\"b2\":{\"x\":-391.97406005859375,\"y\":-210.95417022705064}},\"122\":{\"from_node_id\":\"123\",\"to_node_id\":\"25\",\"b1\":{\"x\":438.37672424316406,\"y\":-305.01483917236317},\"b2\":{\"x\":524.1022338867188,\"y\":-319.66468811035145}}}},\"22\":{\"name\":\"GCEA kinase\",\"bigg_id\":\"[M]_GCEAK_h\",\"reversibility\":false,\"label_x\":290.49908447265625,\"label_y\":-350.21156311035145,\"gene_reaction_rule\":\"\",\"genes\":[],\"metabolites\":[{\"bigg_id\":\"[M]_ADP_h\",\"coefficient\":1},{\"bigg_id\":\"[M]_ATP_h\",\"coefficient\":-1},{\"bigg_id\":\"[M]_GCEA_h\",\"coefficient\":-1},{\"bigg_id\":\"[M]_H_h\",\"coefficient\":1},{\"bigg_id\":\"[M]_PGA_h\",\"coefficient\":1}],\"segments\":{\"125\":{\"from_node_id\":\"129\",\"to_node_id\":\"130\",\"b1\":null,\"b2\":null},\"126\":{\"from_node_id\":\"131\",\"to_node_id\":\"130\",\"b1\":null,\"b2\":null},\"129\":{\"from_node_id\":\"129\",\"to_node_id\":\"134\",\"b1\":{\"x\":364.75848388671875,\"y\":-320.84629821777327},\"b2\":{\"x\":310.50848388671875,\"y\":-320.84629821777327}},\"131\":{\"from_node_id\":\"131\",\"to_node_id\":\"25\",\"b1\":{\"x\":488.75848388671875,\"y\":-320.8462982177733},\"b2\":{\"x\":524.1022338867188,\"y\":-319.66468811035145}}}},\"23\":{\"name\":\"PGA kinase\",\"bigg_id\":\"[M]_PGAK_h\",\"reversibility\":true,\"label_x\":382.4879913330078,\"label_y\":101.38884925842297,\"gene_reaction_rule\":\"\",\"genes\":[],\"metabolites\":[{\"bigg_id\":\"[M]_ADP_h\",\"coefficient\":1},{\"bigg_id\":\"[M]_ATP_h\",\"coefficient\":-1},{\"bigg_id\":\"[M]_DPGA_h\",\"coefficient\":1},{\"bigg_id\":\"[M]_PGA_h\",\"coefficient\":-1}],\"segments\":{\"132\":{\"from_node_id\":\"136\",\"to_node_id\":\"137\",\"b1\":null,\"b2\":null},\"133\":{\"from_node_id\":\"138\",\"to_node_id\":\"137\",\"b1\":null,\"b2\":null},\"136\":{\"from_node_id\":\"138\",\"to_node_id\":\"141\",\"b1\":{\"x\":356.34791564941406,\"y\":53.24074935913103},\"b2\":{\"x\":302.09791564941406,\"y\":53.24074935913103}},\"137\":{\"from_node_id\":\"136\",\"to_node_id\":\"25\",\"b1\":{\"x\":531.7277984619141,\"y\":57.19304656982433},\"b2\":{\"x\":409.4855651855469,\"y\":-321.6408538818358}}}},\"24\":{\"name\":\"GAP dehydrogenase\",\"bigg_id\":\"[M]_GAPDH1_h\",\"reversibility\":false,\"label_x\":18.347915649414062,\"label_y\":13.24074935913103,\"gene_reaction_rule\":\"\",\"genes\":[],\"metabolites\":[{\"bigg_id\":\"[M]_DPGA_h\",\"coefficient\":-1},{\"bigg_id\":\"[M]_GAP_h\",\"coefficient\":1},{\"bigg_id\":\"[M]_H_h\",\"coefficient\":-1},{\"bigg_id\":\"[M]_NADPH_h\",\"coefficient\":-1},{\"bigg_id\":\"[M]_NADP_h\",\"coefficient\":1},{\"bigg_id\":\"[M]_Pi_h\",\"coefficient\":1}],\"segments\":{\"138\":{\"from_node_id\":\"142\",\"to_node_id\":\"143\",\"b1\":null,\"b2\":null},\"139\":{\"from_node_id\":\"144\",\"to_node_id\":\"143\",\"b1\":null,\"b2\":null},\"140\":{\"from_node_id\":\"142\",\"to_node_id\":\"141\",\"b1\":{\"x\":130.34791564941406,\"y\":53.24074935913103},\"b2\":{\"x\":184.59791564941406,\"y\":53.24074935913103}},\"141\":{\"from_node_id\":\"144\",\"to_node_id\":\"145\",\"b1\":{\"x\":6.3479156494140625,\"y\":53.24074935913109},\"b2\":{\"x\":-47.90208435058594,\"y\":53.24074935913109}}}},\"26\":{\"name\":\"GCA/GCEA shuffle\",\"bigg_id\":\"[M]_Tr_GCEA1\",\"reversibility\":true,\"label_x\":-375.06988525390625,\"label_y\":-359.66465759277327,\"gene_reaction_rule\":\"\",\"genes\":[],\"metabolites\":[{\"bigg_id\":\"[M]_GCEA_c\",\"coefficient\":-1},{\"bigg_id\":\"[M]_GCEA_h\",\"coefficient\":1}],\"segments\":{\"152\":{\"from_node_id\":\"156\",\"to_node_id\":\"157\",\"b1\":null,\"b2\":null},\"153\":{\"from_node_id\":\"158\",\"to_node_id\":\"157\",\"b1\":null,\"b2\":null},\"154\":{\"from_node_id\":\"156\",\"to_node_id\":\"159\",\"b1\":{\"x\":-341.5047149658203,\"y\":-319.6646575927732},\"b2\":{\"x\":-391.35450744628906,\"y\":-319.6646575927732}},\"155\":{\"from_node_id\":\"158\",\"to_node_id\":\"134\",\"b1\":{\"x\":-217.5047149658203,\"y\":-319.66465759277327},\"b2\":{\"x\":193.00848388671875,\"y\":-320.84629821777327}}}},\"30\":{\"name\":\"[MB]_Mal_c\",\"bigg_id\":\"[MB]_Mal_c\",\"reversibility\":true,\"label_x\":1302.3710327148438,\"label_y\":1375.2666816711426,\"gene_reaction_rule\":\"\",\"genes\":[],\"metabolites\":[{\"bigg_id\":\"[B]_Mal_c\",\"coefficient\":1},{\"bigg_id\":\"[M]_Mal_c\",\"coefficient\":-1}],\"segments\":{\"170\":{\"from_node_id\":\"174\",\"to_node_id\":\"175\",\"b1\":null,\"b2\":null},\"171\":{\"from_node_id\":\"176\",\"to_node_id\":\"175\",\"b1\":null,\"b2\":null},\"172\":{\"from_node_id\":\"176\",\"to_node_id\":\"177\",\"b1\":{\"x\":1291.9885864257812,\"y\":1525.0464668273926},\"b2\":{\"x\":1291.9885864257812,\"y\":1579.2964668273926}},\"173\":{\"from_node_id\":\"174\",\"to_node_id\":\"62\",\"b1\":{\"x\":1288.8482055664062,\"y\":1065.025592803955},\"b2\":{\"x\":1288.2583618164062,\"y\":772.6749458312988}}}},\"31\":{\"name\":\"[MB]_Pyr_c\",\"bigg_id\":\"[MB]_Pyr_c\",\"reversibility\":true,\"label_x\":2810.7168579101562,\"label_y\":1380.08443069458,\"gene_reaction_rule\":\"\",\"genes\":[],\"metabolites\":[{\"bigg_id\":\"[B]_Pyr_c\",\"coefficient\":1},{\"bigg_id\":\"[M]_Pyr_c\",\"coefficient\":-1}],\"segments\":{\"174\":{\"from_node_id\":\"178\",\"to_node_id\":\"179\",\"b1\":null,\"b2\":null},\"175\":{\"from_node_id\":\"180\",\"to_node_id\":\"179\",\"b1\":null,\"b2\":null},\"176\":{\"from_node_id\":\"180\",\"to_node_id\":\"181\",\"b1\":{\"x\":2988.9026489257812,\"y\":1528.0994453430176},\"b2\":{\"x\":2988.9026489257812,\"y\":1582.3494453430176}},\"177\":{\"from_node_id\":\"178\",\"to_node_id\":\"95\",\"b1\":{\"x\":2985.7622680664062,\"y\":1068.07857131958},\"b2\":{\"x\":2989.3306274414062,\"y\":777.8069038391113}}}},\"32\":{\"name\":\"[MB]_Asp_c\",\"bigg_id\":\"[MB]_Asp_c\",\"reversibility\":true,\"label_x\":3139.0067749023438,\"label_y\":1384.6061897277832,\"gene_reaction_rule\":\"\",\"genes\":[],\"metabolites\":[{\"bigg_id\":\"[B]_Asp_c\",\"coefficient\":1},{\"bigg_id\":\"[M]_Asp_c\",\"coefficient\":-1}],\"segments\":{\"178\":{\"from_node_id\":\"182\",\"to_node_id\":\"183\",\"b1\":null,\"b2\":null},\"179\":{\"from_node_id\":\"184\",\"to_node_id\":\"183\",\"b1\":null,\"b2\":null},\"180\":{\"from_node_id\":\"184\",\"to_node_id\":\"185\",\"b1\":{\"x\":3339.7593383789062,\"y\":1526.9877815246582},\"b2\":{\"x\":3339.7593383789062,\"y\":1581.2377815246582}},\"181\":{\"from_node_id\":\"182\",\"to_node_id\":\"94\",\"b1\":{\"x\":3336.6189575195312,\"y\":1066.9669075012207},\"b2\":{\"x\":3338.1416625976562,\"y\":774.6162605285645}}}},\"33\":{\"name\":\"[MB]_Ala_c\",\"bigg_id\":\"[MB]_Ala_c\",\"reversibility\":true,\"label_x\":3400.4382934570312,\"label_y\":1386.5605964660645,\"gene_reaction_rule\":\"\",\"genes\":[],\"metabolites\":[{\"bigg_id\":\"[B]_Ala_c\",\"coefficient\":1},{\"bigg_id\":\"[M]_Ala_c\",\"coefficient\":-1}],\"segments\":{\"182\":{\"from_node_id\":\"186\",\"to_node_id\":\"187\",\"b1\":null,\"b2\":null},\"183\":{\"from_node_id\":\"188\",\"to_node_id\":\"187\",\"b1\":null,\"b2\":null},\"184\":{\"from_node_id\":\"188\",\"to_node_id\":\"189\",\"b1\":{\"x\":3587.2233276367188,\"y\":1522.486011505127},\"b2\":{\"x\":3587.2233276367188,\"y\":1576.736011505127}},\"185\":{\"from_node_id\":\"186\",\"to_node_id\":\"93\",\"b1\":{\"x\":3584.6729125976562,\"y\":347.3707160949707},\"b2\":{\"x\":3616.6533813476562,\"y\":372.2078437805176}}}},\"35\":{\"name\":\"[MB]_CO2_c\",\"bigg_id\":\"[MB]_CO2_c\",\"reversibility\":true,\"label_x\":3940.9288917200147,\"label_y\":1393.379332223467,\"gene_reaction_rule\":\"\",\"genes\":[],\"metabolites\":[{\"bigg_id\":\"[B]_CO2_ex_c\",\"coefficient\":1},{\"bigg_id\":\"[M]_CO2_c\",\"coefficient\":-1}],\"segments\":{\"190\":{\"from_node_id\":\"194\",\"to_node_id\":\"195\",\"b1\":null,\"b2\":null},\"191\":{\"from_node_id\":\"196\",\"to_node_id\":\"195\",\"b1\":null,\"b2\":null},\"192\":{\"from_node_id\":\"196\",\"to_node_id\":\"197\",\"b1\":{\"x\":3898.937036753044,\"y\":833.58201839673},\"b2\":{\"x\":3899.593821860068,\"y\":1573.9375504465897}},\"193\":{\"from_node_id\":\"194\",\"to_node_id\":\"12\",\"b1\":{\"x\":3907.367401960425,\"y\":-321.84941596151566},\"b2\":{\"x\":3908.0968627929688,\"y\":-318.7892150878906}}}},\"44\":{\"name\":\"[MB]_PEP_c\",\"bigg_id\":\"[MB]_PEP_c\",\"reversibility\":true,\"label_x\":2576.147402133158,\"label_y\":1381.696127612824,\"gene_reaction_rule\":\"\",\"genes\":[],\"metabolites\":[{\"bigg_id\":\"[B]_PEP_c\",\"coefficient\":1},{\"bigg_id\":\"[M]_PEP_c\",\"coefficient\":-1}],\"segments\":{\"226\":{\"from_node_id\":\"230\",\"to_node_id\":\"231\",\"b1\":null,\"b2\":null},\"227\":{\"from_node_id\":\"232\",\"to_node_id\":\"231\",\"b1\":null,\"b2\":null},\"228\":{\"from_node_id\":\"232\",\"to_node_id\":\"233\",\"b1\":{\"x\":2762.6847789940966,\"y\":1525.9061659803913},\"b2\":{\"x\":2762.091568220075,\"y\":1580.1529225744735}},\"229\":{\"from_node_id\":\"230\",\"to_node_id\":\"56\",\"b1\":{\"x\":2781.0395907019065,\"y\":194.5973715938901},\"b2\":{\"x\":1580.3357543945312,\"y\":129.1154022216797}}}},\"47\":{\"name\":\"TP isomerase\",\"bigg_id\":\"[M]_TPI_h\",\"reversibility\":true,\"label_x\":84.2252311706543,\"label_y\":244.16918563842796,\"gene_reaction_rule\":\"\",\"genes\":[],\"metabolites\":[{\"bigg_id\":\"[M]_DHAP_h\",\"coefficient\":1},{\"bigg_id\":\"[M]_GAP_h\",\"coefficient\":-1}],\"segments\":{\"238\":{\"from_node_id\":\"242\",\"to_node_id\":\"243\",\"b1\":null,\"b2\":null},\"239\":{\"from_node_id\":\"244\",\"to_node_id\":\"243\",\"b1\":null,\"b2\":null},\"240\":{\"from_node_id\":\"244\",\"to_node_id\":\"163\",\"b1\":{\"x\":69.2252311706543,\"y\":296.16918563842796},\"b2\":{\"x\":68.34518814086914,\"y\":351.2992515563967}},\"241\":{\"from_node_id\":\"242\",\"to_node_id\":\"145\",\"b1\":{\"x\":69.2252311706543,\"y\":172.16918563842796},\"b2\":{\"x\":67.9828872680664,\"y\":178.51836013793968}}}},\"48\":{\"name\":\"[MB]_GCA_c\",\"bigg_id\":\"[MB]_GCA_c\",\"reversibility\":true,\"label_x\":-1374.2220474737562,\"label_y\":1376.9941670999697,\"gene_reaction_rule\":\"\",\"genes\":[],\"metabolites\":[{\"bigg_id\":\"[B]_GCA_c\",\"coefficient\":1},{\"bigg_id\":\"[M]_GCA_c\",\"coefficient\":-1}],\"segments\":{\"242\":{\"from_node_id\":\"246\",\"to_node_id\":\"247\",\"b1\":null,\"b2\":null},\"243\":{\"from_node_id\":\"248\",\"to_node_id\":\"247\",\"b1\":null,\"b2\":null},\"244\":{\"from_node_id\":\"248\",\"to_node_id\":\"249\",\"b1\":{\"x\":-1387.8183642982244,\"y\":652.172380836736},\"b2\":{\"x\":-1390.524925455181,\"y\":1580.7339040990823}},\"245\":{\"from_node_id\":\"246\",\"to_node_id\":\"122\",\"b1\":{\"x\":-1389.980711118038,\"y\":-546.8529309141404},\"b2\":{\"x\":-1390.2105865478516,\"y\":-547.0999336242674}}}},\"49\":{\"name\":\"[MB]_GCEA_c\",\"bigg_id\":\"[MB]_GCEA_c\",\"reversibility\":true,\"label_x\":-1138.3766786094193,\"label_y\":1376.1304185812673,\"gene_reaction_rule\":\"\",\"genes\":[],\"metabolites\":[{\"bigg_id\":\"[B]_GCEA_c\",\"coefficient\":1},{\"bigg_id\":\"[M]_GCEA_c\",\"coefficient\":-1}],\"segments\":{\"246\":{\"from_node_id\":\"250\",\"to_node_id\":\"251\",\"b1\":null,\"b2\":null},\"247\":{\"from_node_id\":\"252\",\"to_node_id\":\"251\",\"b1\":null,\"b2\":null},\"248\":{\"from_node_id\":\"252\",\"to_node_id\":\"253\",\"b1\":{\"x\":-1150.256636205852,\"y\":637.3036848505197},\"b2\":{\"x\":-1154.2366134459926,\"y\":1575.7329112443192}},\"249\":{\"from_node_id\":\"250\",\"to_node_id\":\"159\",\"b1\":{\"x\":-1143.5799729661112,\"y\":-326.52996927001686},\"b2\":{\"x\":-1077.9855499267578,\"y\":-321.64079284667946}}}},\"50\":{\"name\":\"[MB]_PGA_c\",\"bigg_id\":\"[MB]_PGA_c\",\"reversibility\":true,\"label_x\":-855.9261168460391,\"label_y\":1378.117470796005,\"gene_reaction_rule\":\"\",\"genes\":[],\"metabolites\":[{\"bigg_id\":\"[B]_PGA_c\",\"coefficient\":1},{\"bigg_id\":\"[M]_PGA_c\",\"coefficient\":-1}],\"segments\":{\"250\":{\"from_node_id\":\"254\",\"to_node_id\":\"255\",\"b1\":null,\"b2\":null},\"251\":{\"from_node_id\":\"256\",\"to_node_id\":\"255\",\"b1\":null,\"b2\":null},\"252\":{\"from_node_id\":\"256\",\"to_node_id\":\"257\",\"b1\":{\"x\":-867.5721444672148,\"y\":644.2197831225286},\"b2\":{\"x\":-870.6207407792982,\"y\":1578.7092087519868}},\"253\":{\"from_node_id\":\"254\",\"to_node_id\":\"126\",\"b1\":{\"x\":-837.3343494787698,\"y\":-207.00185508032348},\"b2\":{\"x\":-837.514892578125,\"y\":-208.9780197143553}}}},\"54\":{\"name\":\"TP/Pi translocator\",\"bigg_id\":\"[B]_Tr_TPT1\",\"reversibility\":true,\"label_x\":1997.1548764170238,\"label_y\":3742.6018417623773,\"gene_reaction_rule\":\"\",\"genes\":[],\"metabolites\":[{\"bigg_id\":\"[B]_PGA_c\",\"coefficient\":1},{\"bigg_id\":\"[B]_PGA_h\",\"coefficient\":-1},{\"bigg_id\":\"[B]_Pi_c\",\"coefficient\":-1},{\"bigg_id\":\"[B]_Pi_h\",\"coefficient\":1}],\"segments\":{\"266\":{\"from_node_id\":\"270\",\"to_node_id\":\"271\",\"b1\":null,\"b2\":null},\"267\":{\"from_node_id\":\"272\",\"to_node_id\":\"271\",\"b1\":null,\"b2\":null},\"268\":{\"from_node_id\":\"272\",\"to_node_id\":\"257\",\"b1\":{\"x\":-866.1672589777204,\"y\":3916.524747453401},\"b2\":{\"x\":-873.5668337880543,\"y\":3922.4880722311273}},\"269\":{\"from_node_id\":\"270\",\"to_node_id\":\"483\",\"b1\":{\"x\":2200.7454533278024,\"y\":2989.124196422676},\"b2\":{\"x\":2152.25259370218,\"y\":3050.1619003561273}}}},\"55\":{\"name\":\"TP/Pi translocator\",\"bigg_id\":\"[M]_Tr_TPT3\",\"reversibility\":true,\"label_x\":83.78190231323242,\"label_y\":598.1180992126467,\"gene_reaction_rule\":\"\",\"genes\":[],\"metabolites\":[{\"bigg_id\":\"[M]_DHAP_c\",\"coefficient\":1},{\"bigg_id\":\"[M]_DHAP_h\",\"coefficient\":-1},{\"bigg_id\":\"[M]_Pi_c\",\"coefficient\":-1},{\"bigg_id\":\"[M]_Pi_h\",\"coefficient\":1}],\"segments\":{\"272\":{\"from_node_id\":\"276\",\"to_node_id\":\"277\",\"b1\":null,\"b2\":null},\"273\":{\"from_node_id\":\"278\",\"to_node_id\":\"277\",\"b1\":null,\"b2\":null},\"274\":{\"from_node_id\":\"278\",\"to_node_id\":\"279\",\"b1\":{\"x\":68.78190231323242,\"y\":650.1180992126467},\"b2\":{\"x\":68.78190231323242,\"y\":704.3680992126467}},\"275\":{\"from_node_id\":\"276\",\"to_node_id\":\"163\",\"b1\":{\"x\":68.78190231323242,\"y\":526.1180992126467},\"b2\":{\"x\":68.78190231323242,\"y\":471.8680992126467}}}},\"56\":{\"name\":\"[MB]_DHAP_c\",\"bigg_id\":\"[MB]_DHAP_c\",\"reversibility\":true,\"label_x\":82.38616561889648,\"label_y\":1377.5314292907717,\"gene_reaction_rule\":\"\",\"genes\":[],\"metabolites\":[{\"bigg_id\":\"[B]_DHAP_c\",\"coefficient\":1},{\"bigg_id\":\"[M]_DHAP_c\",\"coefficient\":-1}],\"segments\":{\"278\":{\"from_node_id\":\"282\",\"to_node_id\":\"283\",\"b1\":null,\"b2\":null},\"279\":{\"from_node_id\":\"284\",\"to_node_id\":\"283\",\"b1\":null,\"b2\":null},\"280\":{\"from_node_id\":\"284\",\"to_node_id\":\"285\",\"b1\":{\"x\":68.78190231323242,\"y\":1115.5127525329592},\"b2\":{\"x\":69.94613265991211,\"y\":1578.9011802673342}},\"281\":{\"from_node_id\":\"282\",\"to_node_id\":\"279\",\"b1\":{\"x\":68.78190231323242,\"y\":991.5127525329592},\"b2\":{\"x\":68.78190231323242,\"y\":821.8680992126467}}}},\"57\":{\"name\":\"TP/Pi translocator\",\"bigg_id\":\"[M]_Tr_TPT2\",\"reversibility\":true,\"label_x\":-311.00469970703125,\"label_y\":609.7568778991701,\"gene_reaction_rule\":\"\",\"genes\":[],\"metabolites\":[{\"bigg_id\":\"[M]_GAP_c\",\"coefficient\":1},{\"bigg_id\":\"[M]_GAP_h\",\"coefficient\":-1},{\"bigg_id\":\"[M]_Pi_c\",\"coefficient\":-1},{\"bigg_id\":\"[M]_Pi_h\",\"coefficient\":1}],\"segments\":{\"282\":{\"from_node_id\":\"286\",\"to_node_id\":\"287\",\"b1\":null,\"b2\":null},\"283\":{\"from_node_id\":\"288\",\"to_node_id\":\"287\",\"b1\":null,\"b2\":null},\"284\":{\"from_node_id\":\"288\",\"to_node_id\":\"289\",\"b1\":{\"x\":-106.65208435058594,\"y\":290.2407493591311},\"b2\":{\"x\":-112.58052825927734,\"y\":700.1976585388186}},\"285\":{\"from_node_id\":\"286\",\"to_node_id\":\"145\",\"b1\":{\"x\":-106.65208435058594,\"y\":166.2407493591311},\"b2\":{\"x\":-104.5730972290039,\"y\":114.06973648071312}}}},\"58\":{\"name\":\"[MB]_GAP_c\",\"bigg_id\":\"[MB]_GAP_c\",\"reversibility\":true,\"label_x\":-319.41070461273193,\"label_y\":1379.8894920349123,\"gene_reaction_rule\":\"\",\"genes\":[],\"metabolites\":[{\"bigg_id\":\"[B]_GAP_c\",\"coefficient\":1},{\"bigg_id\":\"[M]_GAP_c\",\"coefficient\":-1}],\"segments\":{\"288\":{\"from_node_id\":\"292\",\"to_node_id\":\"293\",\"b1\":null,\"b2\":null},\"289\":{\"from_node_id\":\"294\",\"to_node_id\":\"293\",\"b1\":null,\"b2\":null},\"290\":{\"from_node_id\":\"294\",\"to_node_id\":\"295\",\"b1\":{\"x\":-112.58052825927734,\"y\":1111.342311859131},\"b2\":{\"x\":-111.41629791259766,\"y\":1574.730739593506}},\"291\":{\"from_node_id\":\"292\",\"to_node_id\":\"289\",\"b1\":{\"x\":-112.58052825927734,\"y\":987.3423118591311},\"b2\":{\"x\":-112.58052825927734,\"y\":817.6976585388186}}}},\"59\":{\"name\":\"PGA kinase\",\"bigg_id\":\"[B]_PGAK_c\",\"reversibility\":true,\"label_x\":-771.5928347646168,\"label_y\":1597.458531215502,\"gene_reaction_rule\":\"\",\"genes\":[],\"metabolites\":[{\"bigg_id\":\"[B]_ADP_c\",\"coefficient\":1},{\"bigg_id\":\"[B]_ATP_c\",\"coefficient\":-1},{\"bigg_id\":\"[B]_DPGA_c\",\"coefficient\":1},{\"bigg_id\":\"[B]_PGA_c\",\"coefficient\":-1}],\"segments\":{\"292\":{\"from_node_id\":\"296\",\"to_node_id\":\"297\",\"b1\":null,\"b2\":null},\"293\":{\"from_node_id\":\"298\",\"to_node_id\":\"297\",\"b1\":null,\"b2\":null},\"296\":{\"from_node_id\":\"298\",\"to_node_id\":\"301\",\"b1\":{\"x\":-633.9028933583668,\"y\":1637.458531215502},\"b2\":{\"x\":-579.6528933583668,\"y\":1637.458531215502}},\"297\":{\"from_node_id\":\"296\",\"to_node_id\":\"257\",\"b1\":{\"x\":-757.9028933583668,\"y\":1637.458531215502},\"b2\":{\"x\":-812.1528933583668,\"y\":1637.458531215502}}}},\"60\":{\"name\":\"GAP dehydrogenase\",\"bigg_id\":\"[B]_GAPDH2_c\",\"reversibility\":true,\"label_x\":-415.6643984853199,\"label_y\":1599.4347275045645,\"gene_reaction_rule\":\"\",\"genes\":[],\"metabolites\":[{\"bigg_id\":\"[B]_DPGA_c\",\"coefficient\":1},{\"bigg_id\":\"[B]_GAP_c\",\"coefficient\":-1},{\"bigg_id\":\"[B]_H_c\",\"coefficient\":1},{\"bigg_id\":\"[B]_NADH_c\",\"coefficient\":1},{\"bigg_id\":\"[B]_NAD_c\",\"coefficient\":-1},{\"bigg_id\":\"[B]_Pi_c\",\"coefficient\":-1}],\"segments\":{\"298\":{\"from_node_id\":\"302\",\"to_node_id\":\"303\",\"b1\":null,\"b2\":null},\"299\":{\"from_node_id\":\"304\",\"to_node_id\":\"303\",\"b1\":null,\"b2\":null},\"300\":{\"from_node_id\":\"304\",\"to_node_id\":\"301\",\"b1\":{\"x\":-407.9028933583668,\"y\":1637.458531215502},\"b2\":{\"x\":-462.1528933583668,\"y\":1637.458531215502}},\"301\":{\"from_node_id\":\"302\",\"to_node_id\":\"295\",\"b1\":{\"x\":-283.9028933583668,\"y\":1637.458531215502},\"b2\":{\"x\":-172.3445513783863,\"y\":1635.4823349264395}}}},\"61\":{\"name\":\"FBP aldolase\",\"bigg_id\":\"[B]_FBPA_c\",\"reversibility\":true,\"label_x\":-7.48956298828125,\"label_y\":1818.480739593506,\"gene_reaction_rule\":\"\",\"genes\":[],\"metabolites\":[{\"bigg_id\":\"[B]_DHAP_c\",\"coefficient\":-1},{\"bigg_id\":\"[B]_FBP_c\",\"coefficient\":1},{\"bigg_id\":\"[B]_GAP_c\",\"coefficient\":-1}],\"segments\":{\"306\":{\"from_node_id\":\"310\",\"to_node_id\":\"311\",\"b1\":null,\"b2\":null},\"307\":{\"from_node_id\":\"312\",\"to_node_id\":\"311\",\"b1\":null,\"b2\":null},\"308\":{\"from_node_id\":\"310\",\"to_node_id\":\"285\",\"b1\":{\"x\":-22.48956298828125,\"y\":1742.480739593506},\"b2\":{\"x\":70.1748161315918,\"y\":1697.707790374756}},\"309\":{\"from_node_id\":\"312\",\"to_node_id\":\"314\",\"b1\":{\"x\":-22.48956298828125,\"y\":1870.480739593506},\"b2\":{\"x\":-21.10772132873535,\"y\":1924.730739593506}},\"310\":{\"from_node_id\":\"310\",\"to_node_id\":\"295\",\"b1\":{\"x\":-22.48956298828125,\"y\":1746.480739593506},\"b2\":{\"x\":-111.41629791259766,\"y\":1692.230739593506}}}},\"66\":{\"name\":\"G6P isomerase\",\"bigg_id\":\"[B]_PGI_c\",\"reversibility\":true,\"label_x\":82.03338623046875,\"label_y\":1938.676296234131,\"gene_reaction_rule\":\"\",\"genes\":[],\"metabolites\":[{\"bigg_id\":\"[B]_F6P_c\",\"coefficient\":-1},{\"bigg_id\":\"[B]_G6P_c\",\"coefficient\":1}],\"segments\":{\"333\":{\"from_node_id\":\"337\",\"to_node_id\":\"338\",\"b1\":null,\"b2\":null},\"334\":{\"from_node_id\":\"339\",\"to_node_id\":\"338\",\"b1\":null,\"b2\":null},\"335\":{\"from_node_id\":\"337\",\"to_node_id\":\"318\",\"b1\":{\"x\":70.03338623046875,\"y\":1978.676296234131},\"b2\":{\"x\":87.9547643661499,\"y\":1982.0248069763184}},\"336\":{\"from_node_id\":\"339\",\"to_node_id\":\"340\",\"b1\":{\"x\":194.03338623046875,\"y\":1978.676296234131},\"b2\":{\"x\":248.28338623046875,\"y\":1978.676296234131}}}},\"67\":{\"name\":\"Phosphoglucomutase\",\"bigg_id\":\"[B]_PGM_c\",\"reversibility\":true,\"label_x\":432.03338623046875,\"label_y\":1938.676296234131,\"gene_reaction_rule\":\"\",\"genes\":[],\"metabolites\":[{\"bigg_id\":\"[B]_G1P_c\",\"coefficient\":1},{\"bigg_id\":\"[B]_G6P_c\",\"coefficient\":-1}],\"segments\":{\"337\":{\"from_node_id\":\"341\",\"to_node_id\":\"342\",\"b1\":null,\"b2\":null},\"338\":{\"from_node_id\":\"343\",\"to_node_id\":\"342\",\"b1\":null,\"b2\":null},\"339\":{\"from_node_id\":\"343\",\"to_node_id\":\"344\",\"b1\":{\"x\":544.0333862304688,\"y\":1978.676296234131},\"b2\":{\"x\":598.2833862304688,\"y\":1978.676296234131}},\"340\":{\"from_node_id\":\"341\",\"to_node_id\":\"340\",\"b1\":{\"x\":420.03338623046875,\"y\":1978.676296234131},\"b2\":{\"x\":365.78338623046875,\"y\":1978.676296234131}}}},\"68\":{\"name\":\"UDPG pyrophosphorylase\",\"bigg_id\":\"[B]_UGPase_c\",\"reversibility\":true,\"label_x\":428.06744384765625,\"label_y\":2052.2481956481934,\"gene_reaction_rule\":\"\",\"genes\":[],\"metabolites\":[{\"bigg_id\":\"[B]_G1P_c\",\"coefficient\":-1},{\"bigg_id\":\"[B]_H_c\",\"coefficient\":-1},{\"bigg_id\":\"[B]_PPi_c\",\"coefficient\":1},{\"bigg_id\":\"[B]_UDPG_c\",\"coefficient\":1},{\"bigg_id\":\"[B]_UTP_c\",\"coefficient\":-1}],\"segments\":{\"341\":{\"from_node_id\":\"345\",\"to_node_id\":\"346\",\"b1\":null,\"b2\":null},\"342\":{\"from_node_id\":\"347\",\"to_node_id\":\"346\",\"b1\":null,\"b2\":null},\"343\":{\"from_node_id\":\"345\",\"to_node_id\":\"344\",\"b1\":{\"x\":657.4109830028668,\"y\":2073.9330407074394},\"b2\":{\"x\":656.1581420898438,\"y\":2081.8375511169434}},\"346\":{\"from_node_id\":\"347\",\"to_node_id\":\"356\",\"b1\":{\"x\":525.4723156432576,\"y\":2074.4116236377645},\"b2\":{\"x\":324.14702320098877,\"y\":2074.116970062256}}}},\"69\":{\"name\":\"S6P synthase\",\"bigg_id\":\"[B]_S6PS_c\",\"reversibility\":false,\"label_x\":69.22503662109375,\"label_y\":2195.1368675231934,\"gene_reaction_rule\":\"\",\"genes\":[],\"metabolites\":[{\"bigg_id\":\"[B]_F6P_c\",\"coefficient\":-1},{\"bigg_id\":\"[B]_S6P_c\",\"coefficient\":1},{\"bigg_id\":\"[B]_UDPG_c\",\"coefficient\":-1},{\"bigg_id\":\"[B]_UDP_c\",\"coefficient\":1}],\"segments\":{\"348\":{\"from_node_id\":\"352\",\"to_node_id\":\"353\",\"b1\":null,\"b2\":null},\"349\":{\"from_node_id\":\"354\",\"to_node_id\":\"353\",\"b1\":null,\"b2\":null},\"350\":{\"from_node_id\":\"352\",\"to_node_id\":\"318\",\"b1\":{\"x\":91.77105712890625,\"y\":2152.5775413513184},\"b2\":{\"x\":40.527180671691895,\"y\":2155.926052093506}},\"351\":{\"from_node_id\":\"354\",\"to_node_id\":\"355\",\"b1\":{\"x\":215.77105712890625,\"y\":2152.5775413513184},\"b2\":{\"x\":270.02105712890625,\"y\":2152.5775413513184}},\"352\":{\"from_node_id\":\"352\",\"to_node_id\":\"356\",\"b1\":{\"x\":135.78417205810547,\"y\":2060.064479827881},\"b2\":{\"x\":124.75214767456055,\"y\":2071.9896507263184}}}},\"70\":{\"name\":\"S6P phosphorylase\",\"bigg_id\":\"[B]_S6PPh_c\",\"reversibility\":false,\"label_x\":405.61407470703125,\"label_y\":2134.6532249450684,\"gene_reaction_rule\":\"\",\"genes\":[],\"metabolites\":[{\"bigg_id\":\"[B]_H2O_c\",\"coefficient\":-1},{\"bigg_id\":\"[B]_Pi_c\",\"coefficient\":1},{\"bigg_id\":\"[B]_S6P_c\",\"coefficient\":-1},{\"bigg_id\":\"[B]_Suc_c\",\"coefficient\":1}],\"segments\":{\"354\":{\"from_node_id\":\"358\",\"to_node_id\":\"359\",\"b1\":null,\"b2\":null},\"355\":{\"from_node_id\":\"360\",\"to_node_id\":\"359\",\"b1\":null,\"b2\":null},\"358\":{\"from_node_id\":\"358\",\"to_node_id\":\"355\",\"b1\":{\"x\":441.77105712890625,\"y\":2152.5775413513184},\"b2\":{\"x\":387.52105712890625,\"y\":2152.5775413513184}},\"359\":{\"from_node_id\":\"360\",\"to_node_id\":\"363\",\"b1\":{\"x\":565.7710571289062,\"y\":2152.5775413513184},\"b2\":{\"x\":710.3604125976562,\"y\":2151.631130218506}}}},\"76\":{\"name\":\"Mal dehydrogenase\",\"bigg_id\":\"[B]_MalDH1_c\",\"reversibility\":true,\"label_x\":1324.5901489257812,\"label_y\":1601.498249053955,\"gene_reaction_rule\":\"\",\"genes\":[],\"metabolites\":[{\"bigg_id\":\"[B]_H_c\",\"coefficient\":1},{\"bigg_id\":\"[B]_Mal_c\",\"coefficient\":-1},{\"bigg_id\":\"[B]_NADH_c\",\"coefficient\":1},{\"bigg_id\":\"[B]_NAD_c\",\"coefficient\":-1},{\"bigg_id\":\"[B]_OAA_c\",\"coefficient\":1}],\"segments\":{\"392\":{\"from_node_id\":\"396\",\"to_node_id\":\"397\",\"b1\":null,\"b2\":null},\"393\":{\"from_node_id\":\"398\",\"to_node_id\":\"397\",\"b1\":null,\"b2\":null},\"395\":{\"from_node_id\":\"396\",\"to_node_id\":\"177\",\"b1\":{\"x\":1404.9885864257812,\"y\":1638.0464668273926},\"b2\":{\"x\":1350.7385864257812,\"y\":1638.0464668273926}},\"398\":{\"from_node_id\":\"398\",\"to_node_id\":\"402\",\"b1\":{\"x\":1528.9885864257812,\"y\":1638.0464668273926},\"b2\":{\"x\":1525.0484008789062,\"y\":1637.7168769836426}}}},\"83\":{\"name\":\"PEP carboxylase\",\"bigg_id\":\"[B]_PEPC1_c\",\"reversibility\":false,\"label_x\":2349.4317016601562,\"label_y\":1672.566608428955,\"gene_reaction_rule\":\"\",\"genes\":[],\"metabolites\":[{\"bigg_id\":\"[B]_ADP_c\",\"coefficient\":1},{\"bigg_id\":\"[B]_ATP_c\",\"coefficient\":-1},{\"bigg_id\":\"[B]_CO2_c\",\"coefficient\":1},{\"bigg_id\":\"[B]_OAA_c\",\"coefficient\":-1},{\"bigg_id\":\"[B]_PEP_c\",\"coefficient\":1}],\"segments\":{\"437\":{\"from_node_id\":\"442\",\"to_node_id\":\"443\",\"b1\":null,\"b2\":null},\"438\":{\"from_node_id\":\"444\",\"to_node_id\":\"443\",\"b1\":null,\"b2\":null},\"441\":{\"from_node_id\":\"444\",\"to_node_id\":\"447\",\"b1\":{\"x\":2489.4094848632812,\"y\":1636.402057647705},\"b2\":{\"x\":2478.2905883789062,\"y\":1544.5144844055176}},\"442\":{\"from_node_id\":\"442\",\"to_node_id\":\"402\",\"b1\":{\"x\":2361.4094848632812,\"y\":1636.402057647705},\"b2\":{\"x\":1641.2337036132812,\"y\":1636.402057647705}},\"443\":{\"from_node_id\":\"444\",\"to_node_id\":\"233\",\"b1\":{\"x\":2485.4094848632812,\"y\":1636.402057647705},\"b2\":{\"x\":2700.2982788085938,\"y\":1640.0635566711426}}}},\"84\":{\"name\":\"Asp aminotransferase\",\"bigg_id\":\"[B]_AspAT2_c\",\"reversibility\":true,\"label_x\":3208.8386840820312,\"label_y\":1805.8104133605957,\"gene_reaction_rule\":\"\",\"genes\":[],\"metabolites\":[{\"bigg_id\":\"[B]_Ala_c\",\"coefficient\":-1},{\"bigg_id\":\"[B]_Asp_c\",\"coefficient\":1},{\"bigg_id\":\"[B]_OAA_c\",\"coefficient\":-1},{\"bigg_id\":\"[B]_Pyr_c\",\"coefficient\":1}],\"segments\":{\"444\":{\"from_node_id\":\"449\",\"to_node_id\":\"450\",\"b1\":null,\"b2\":null},\"445\":{\"from_node_id\":\"451\",\"to_node_id\":\"450\",\"b1\":null,\"b2\":null},\"446\":{\"from_node_id\":\"449\",\"to_node_id\":\"189\",\"b1\":{\"x\":3557.2874145507812,\"y\":1825.5853157043457},\"b2\":{\"x\":3511.8794555664062,\"y\":1862.2759895324707}},\"447\":{\"from_node_id\":\"451\",\"to_node_id\":\"185\",\"b1\":{\"x\":3180.1638793945312,\"y\":1751.8238410949707},\"b2\":{\"x\":3295.0317993164062,\"y\":1690.1729621887207}},\"448\":{\"from_node_id\":\"449\",\"to_node_id\":\"402\",\"b1\":{\"x\":2536.1941528320312,\"y\":1829.3939094543457},\"b2\":{\"x\":2119.7681274414062,\"y\":1859.5446662902832}},\"449\":{\"from_node_id\":\"451\",\"to_node_id\":\"181\",\"b1\":{\"x\":3180.1638793945312,\"y\":1747.8238410949707},\"b2\":{\"x\":3045.1724243164062,\"y\":1681.6682014465332}}}},\"87\":{\"name\":\"Mal dehydrogenase\",\"bigg_id\":\"[B]_MalDH4_h\",\"reversibility\":false,\"label_x\":2640.028564453125,\"label_y\":2712.239501953125,\"gene_reaction_rule\":\"\",\"genes\":[],\"metabolites\":[{\"bigg_id\":\"[B]_CO2_h\",\"coefficient\":1},{\"bigg_id\":\"[B]_Mal_h\",\"coefficient\":-1},{\"bigg_id\":\"[B]_NADPH_h\",\"coefficient\":1},{\"bigg_id\":\"[B]_NADP_h\",\"coefficient\":-1},{\"bigg_id\":\"[B]_Pyr_h\",\"coefficient\":1}],\"segments\":{\"464\":{\"from_node_id\":\"471\",\"to_node_id\":\"472\",\"b1\":null,\"b2\":null},\"465\":{\"from_node_id\":\"473\",\"to_node_id\":\"472\",\"b1\":null,\"b2\":null},\"466\":{\"from_node_id\":\"473\",\"to_node_id\":\"474\",\"b1\":{\"x\":2855.9520263671875,\"y\":2648.5093994140625},\"b2\":{\"x\":2877.4688110351562,\"y\":2680.49609375}},\"467\":{\"from_node_id\":\"471\",\"to_node_id\":\"468\",\"b1\":{\"x\":2727.9520263671875,\"y\":2648.5093994140625},\"b2\":{\"x\":2616.004638671875,\"y\":2644.2354736328125}},\"470\":{\"from_node_id\":\"473\",\"to_node_id\":\"470\",\"b1\":{\"x\":2851.9520263671875,\"y\":2648.5093994140625},\"b2\":{\"x\":2935.4591064453125,\"y\":2645.4207763671875}}}},\"89\":{\"name\":\"[B]_RBC_h_Ex\",\"bigg_id\":\"[B]_RBC_h_Ex\",\"reversibility\":false,\"label_x\":2635.234619140625,\"label_y\":3017.81982421875,\"gene_reaction_rule\":\"\",\"genes\":[],\"metabolites\":[{\"bigg_id\":\"[B]_CO2_ex_h\",\"coefficient\":-1},{\"bigg_id\":\"[B]_H2O_h\",\"coefficient\":-1},{\"bigg_id\":\"[B]_H_h\",\"coefficient\":2},{\"bigg_id\":\"[B]_PGA_h\",\"coefficient\":2},{\"bigg_id\":\"[B]_RuBP_h\",\"coefficient\":-1}],\"segments\":{\"478\":{\"from_node_id\":\"485\",\"to_node_id\":\"486\",\"b1\":null,\"b2\":null},\"479\":{\"from_node_id\":\"487\",\"to_node_id\":\"486\",\"b1\":null,\"b2\":null},\"480\":{\"from_node_id\":\"485\",\"to_node_id\":\"512\",\"b1\":{\"x\":2896.87060546875,\"y\":3048.09765625},\"b2\":{\"x\":3840.20556640625,\"y\":3052.8828125}},\"483\":{\"from_node_id\":\"487\",\"to_node_id\":\"483\",\"b1\":{\"x\":2772.87060546875,\"y\":3048.09765625},\"b2\":{\"x\":2471.5693359375,\"y\":3047.851318359375}},\"484\":{\"from_node_id\":\"485\",\"to_node_id\":\"491\",\"b1\":{\"x\":2900.87060546875,\"y\":3048.09765625},\"b2\":{\"x\":2944.5068359375,\"y\":3102.260498046875}}}},\"90\":{\"name\":\"RuBisCO\",\"bigg_id\":\"[B]_RBO_h\",\"reversibility\":false,\"label_x\":2756.391845703125,\"label_y\":3309.15869140625,\"gene_reaction_rule\":\"\",\"genes\":[],\"metabolites\":[{\"bigg_id\":\"[B]_H_h\",\"coefficient\":2},{\"bigg_id\":\"[B]_O2_h\",\"coefficient\":-1},{\"bigg_id\":\"[B]_PGA_h\",\"coefficient\":1},{\"bigg_id\":\"[B]_PGCA_h\",\"coefficient\":1},{\"bigg_id\":\"[B]_RuBP_h\",\"coefficient\":-1}],\"segments\":{\"485\":{\"from_node_id\":\"492\",\"to_node_id\":\"493\",\"b1\":null,\"b2\":null},\"486\":{\"from_node_id\":\"494\",\"to_node_id\":\"493\",\"b1\":null,\"b2\":null},\"488\":{\"from_node_id\":\"492\",\"to_node_id\":\"496\",\"b1\":{\"x\":2899.3896484375,\"y\":3255.618896484375},\"b2\":{\"x\":2913.976806640625,\"y\":3252.619140625}},\"489\":{\"from_node_id\":\"494\",\"to_node_id\":\"483\",\"b1\":{\"x\":2771.3896484375,\"y\":3255.618896484375},\"b2\":{\"x\":2778.6356201171875,\"y\":3275.05126953125}},\"490\":{\"from_node_id\":\"494\",\"to_node_id\":\"498\",\"b1\":{\"x\":2767.3896484375,\"y\":3255.618896484375},\"b2\":{\"x\":2710.7503662109375,\"y\":3254.5859375}},\"491\":{\"from_node_id\":\"492\",\"to_node_id\":\"491\",\"b1\":{\"x\":2895.3896484375,\"y\":3255.618896484375},\"b2\":{\"x\":2939.49169921875,\"y\":3219.4560546875}}}},\"91\":{\"name\":\"PGCA phosphorylase\",\"bigg_id\":\"[B]_PGP_h\",\"reversibility\":false,\"label_x\":2679.5523681640625,\"label_y\":3443.752197265625,\"gene_reaction_rule\":\"\",\"genes\":[],\"metabolites\":[{\"bigg_id\":\"[B]_GCA_h\",\"coefficient\":1},{\"bigg_id\":\"[B]_H2O_h\",\"coefficient\":-1},{\"bigg_id\":\"[B]_PGCA_h\",\"coefficient\":-1},{\"bigg_id\":\"[B]_Pi_h\",\"coefficient\":1}],\"segments\":{\"492\":{\"from_node_id\":\"499\",\"to_node_id\":\"500\",\"b1\":null,\"b2\":null},\"493\":{\"from_node_id\":\"501\",\"to_node_id\":\"500\",\"b1\":null,\"b2\":null},\"494\":{\"from_node_id\":\"501\",\"to_node_id\":\"502\",\"b1\":{\"x\":2663.6771240234375,\"y\":3491.728515625},\"b2\":{\"x\":2663.6771240234375,\"y\":3545.978515625}},\"496\":{\"from_node_id\":\"499\",\"to_node_id\":\"498\",\"b1\":{\"x\":2663.6771240234375,\"y\":3367.728515625},\"b2\":{\"x\":2663.6771240234375,\"y\":3313.478515625}}}},\"92\":{\"name\":\"GCA/GCEA shuffle\",\"bigg_id\":\"[B]_Tr_GCA1\",\"reversibility\":true,\"label_x\":2686.8428955078125,\"label_y\":3730.150390625,\"gene_reaction_rule\":\"\",\"genes\":[],\"metabolites\":[{\"bigg_id\":\"[B]_GCA_c\",\"coefficient\":1},{\"bigg_id\":\"[B]_GCA_h\",\"coefficient\":-1}],\"segments\":{\"498\":{\"from_node_id\":\"505\",\"to_node_id\":\"506\",\"b1\":null,\"b2\":null},\"499\":{\"from_node_id\":\"507\",\"to_node_id\":\"506\",\"b1\":null,\"b2\":null},\"500\":{\"from_node_id\":\"507\",\"to_node_id\":\"249\",\"b1\":{\"x\":-1386.4916404568012,\"y\":4000.5166418896115},\"b2\":{\"x\":-1394.751485824585,\"y\":4008.1427001953125}},\"501\":{\"from_node_id\":\"505\",\"to_node_id\":\"502\",\"b1\":{\"x\":2670.461275466567,\"y\":4011.1491295947635},\"b2\":{\"x\":2664.82470703125,\"y\":4017.334228515625}}}},\"93\":{\"name\":\"[B]_Tr_CO2h_Ex\",\"bigg_id\":\"[B]_Tr_CO2h_Ex\",\"reversibility\":true,\"label_x\":3919.65058069933,\"label_y\":2068.018364909495,\"gene_reaction_rule\":\"\",\"genes\":[],\"metabolites\":[{\"bigg_id\":\"[B]_CO2_ex_c\",\"coefficient\":-1},{\"bigg_id\":\"[B]_CO2_ex_h\",\"coefficient\":1}],\"segments\":{\"502\":{\"from_node_id\":\"509\",\"to_node_id\":\"510\",\"b1\":null,\"b2\":null},\"503\":{\"from_node_id\":\"511\",\"to_node_id\":\"510\",\"b1\":null,\"b2\":null},\"504\":{\"from_node_id\":\"509\",\"to_node_id\":\"197\",\"b1\":{\"x\":3900.378852183705,\"y\":1745.682305339183},\"b2\":{\"x\":3900.378852183705,\"y\":1691.432305339183}},\"505\":{\"from_node_id\":\"511\",\"to_node_id\":\"512\",\"b1\":{\"x\":3900.378852183705,\"y\":1869.682305339183},\"b2\":{\"x\":3897.963813121205,\"y\":2988.674126628245}}}},\"95\":{\"name\":\"RuBisCO\",\"bigg_id\":\"[B]_RBC_h\",\"reversibility\":false,\"label_x\":2632.5873413085938,\"label_y\":2924.0968017578125,\"gene_reaction_rule\":\"\",\"genes\":[],\"metabolites\":[{\"bigg_id\":\"[B]_CO2_h\",\"coefficient\":-1},{\"bigg_id\":\"[B]_H2O_h\",\"coefficient\":-1},{\"bigg_id\":\"[B]_H_h\",\"coefficient\":2},{\"bigg_id\":\"[B]_PGA_h\",\"coefficient\":2},{\"bigg_id\":\"[B]_RuBP_h\",\"coefficient\":-1}],\"segments\":{\"510\":{\"from_node_id\":\"517\",\"to_node_id\":\"518\",\"b1\":null,\"b2\":null},\"511\":{\"from_node_id\":\"519\",\"to_node_id\":\"518\",\"b1\":null,\"b2\":null},\"512\":{\"from_node_id\":\"517\",\"to_node_id\":\"474\",\"b1\":{\"x\":2882.6141967773438,\"y\":2879.277587890625},\"b2\":{\"x\":2915.5392456054688,\"y\":2836.5462646484375}},\"515\":{\"from_node_id\":\"519\",\"to_node_id\":\"483\",\"b1\":{\"x\":2437.0637817382812,\"y\":2874.781982421875},\"b2\":{\"x\":2414.0160522460938,\"y\":2860.4580078125}},\"516\":{\"from_node_id\":\"517\",\"to_node_id\":\"491\",\"b1\":{\"x\":2886.6141967773438,\"y\":2879.277587890625},\"b2\":{\"x\":2996.6266479492188,\"y\":3064.286865234375}}}},\"99\":{\"name\":\"R_Tr_Pyr_Mal_hc\",\"bigg_id\":\"[B]_Tr_Pyr_Mal_hc\",\"reversibility\":true,\"label_x\":2697.1073608398438,\"label_y\":2303.01216506958,\"gene_reaction_rule\":\"\",\"genes\":[],\"metabolites\":[{\"bigg_id\":\"[B]_Mal_c\",\"coefficient\":-1},{\"bigg_id\":\"[B]_Mal_h\",\"coefficient\":1},{\"bigg_id\":\"[B]_Pyr_c\",\"coefficient\":1},{\"bigg_id\":\"[B]_Pyr_h\",\"coefficient\":-1}],\"segments\":{\"531\":{\"from_node_id\":\"538\",\"to_node_id\":\"539\",\"b1\":null,\"b2\":null},\"532\":{\"from_node_id\":\"540\",\"to_node_id\":\"539\",\"b1\":null,\"b2\":null},\"533\":{\"from_node_id\":\"538\",\"to_node_id\":\"177\",\"b1\":{\"x\":2986.3092651367188,\"y\":2233.8533515930176},\"b2\":{\"x\":1689.8287963867188,\"y\":1949.23530960083}},\"534\":{\"from_node_id\":\"540\",\"to_node_id\":\"468\",\"b1\":{\"x\":2986.3092651367188,\"y\":2357.8533515930176},\"b2\":{\"x\":2560.3551635742188,\"y\":2502.451374053955}},\"535\":{\"from_node_id\":\"540\",\"to_node_id\":\"181\",\"b1\":{\"x\":2986.3092651367188,\"y\":2361.8533515930176},\"b2\":{\"x\":2991.0866088867188,\"y\":1720.80952835083}},\"536\":{\"from_node_id\":\"538\",\"to_node_id\":\"470\",\"b1\":{\"x\":2986.3092651367188,\"y\":2229.8533515930176},\"b2\":{\"x\":2988.9304809570312,\"y\":2573.52095413208}}}},\"100\":{\"name\":\"Dicarboxylate transporter\",\"bigg_id\":\"[B]_Tr_DTC5\",\"reversibility\":true,\"label_x\":1095.7332153320312,\"label_y\":2308.3377265930176,\"gene_reaction_rule\":\"\",\"genes\":[],\"metabolites\":[{\"bigg_id\":\"[B]_Mal_c\",\"coefficient\":1},{\"bigg_id\":\"[B]_Mal_m\",\"coefficient\":-1},{\"bigg_id\":\"[B]_OAA_c\",\"coefficient\":-1},{\"bigg_id\":\"[B]_OAA_m\",\"coefficient\":1}],\"segments\":{\"537\":{\"from_node_id\":\"544\",\"to_node_id\":\"545\",\"b1\":null,\"b2\":null},\"538\":{\"from_node_id\":\"546\",\"to_node_id\":\"545\",\"b1\":null,\"b2\":null},\"539\":{\"from_node_id\":\"546\",\"to_node_id\":\"177\",\"b1\":{\"x\":1292.0067749023438,\"y\":2297.0144844055176},\"b2\":{\"x\":1291.9871215820312,\"y\":2298.46187210083}},\"540\":{\"from_node_id\":\"544\",\"to_node_id\":\"547\",\"b1\":{\"x\":1292.9518432617188,\"y\":2297.792194366455},\"b2\":{\"x\":1293.4180297851562,\"y\":2310.5777168273926}},\"541\":{\"from_node_id\":\"544\",\"to_node_id\":\"402\",\"b1\":{\"x\":1581.9943237304688,\"y\":2298.9485664367676},\"b2\":{\"x\":1583.2122192382812,\"y\":2298.0974922180176}},\"542\":{\"from_node_id\":\"546\",\"to_node_id\":\"549\",\"b1\":{\"x\":1583.8844604492188,\"y\":2297.75093460083},\"b2\":{\"x\":1581.3598022460938,\"y\":2311.47163772583}}}},\"101\":{\"name\":\"Mal dehydrogenase\",\"bigg_id\":\"[B]_MalDH1_m\",\"reversibility\":true,\"label_x\":1332.4038696289062,\"label_y\":2610.656940460205,\"gene_reaction_rule\":\"\",\"genes\":[],\"metabolites\":[{\"bigg_id\":\"[B]_H_m\",\"coefficient\":1},{\"bigg_id\":\"[B]_Mal_m\",\"coefficient\":-1},{\"bigg_id\":\"[B]_NADH_m\",\"coefficient\":1},{\"bigg_id\":\"[B]_NAD_m\",\"coefficient\":-1},{\"bigg_id\":\"[B]_OAA_m\",\"coefficient\":1}],\"segments\":{\"543\":{\"from_node_id\":\"550\",\"to_node_id\":\"551\",\"b1\":null,\"b2\":null},\"544\":{\"from_node_id\":\"552\",\"to_node_id\":\"551\",\"b1\":null,\"b2\":null},\"546\":{\"from_node_id\":\"550\",\"to_node_id\":\"547\",\"b1\":{\"x\":1401.6730346679688,\"y\":2644.969928741455},\"b2\":{\"x\":1349.3158569335938,\"y\":2644.02339553833}},\"549\":{\"from_node_id\":\"552\",\"to_node_id\":\"549\",\"b1\":{\"x\":1525.6730346679688,\"y\":2644.969928741455},\"b2\":{\"x\":1527.7882690429688,\"y\":2644.969928741455}}}},\"102\":{\"name\":\"Dicarboxylate transporter\",\"bigg_id\":\"[B]_Tr_DIT1_OAA\",\"reversibility\":true,\"label_x\":1940.4468994140625,\"label_y\":2255.3272705078125,\"gene_reaction_rule\":\"\",\"genes\":[],\"metabolites\":[{\"bigg_id\":\"[B]_Mal_c\",\"coefficient\":1},{\"bigg_id\":\"[B]_Mal_h\",\"coefficient\":-1},{\"bigg_id\":\"[B]_OAA_c\",\"coefficient\":-1},{\"bigg_id\":\"[B]_OAA_h\",\"coefficient\":1}],\"segments\":{\"550\":{\"from_node_id\":\"558\",\"to_node_id\":\"559\",\"b1\":null,\"b2\":null},\"551\":{\"from_node_id\":\"560\",\"to_node_id\":\"559\",\"b1\":null,\"b2\":null},\"552\":{\"from_node_id\":\"560\",\"to_node_id\":\"177\",\"b1\":{\"x\":1537.2420654296875,\"y\":2302.404296875},\"b2\":{\"x\":1639.6156005859375,\"y\":2250.03466796875}},\"553\":{\"from_node_id\":\"558\",\"to_node_id\":\"468\",\"b1\":{\"x\":2290.788818359375,\"y\":2295.3272705078125},\"b2\":{\"x\":2188.41552734375,\"y\":2257.1114501953125}},\"554\":{\"from_node_id\":\"558\",\"to_node_id\":\"402\",\"b1\":{\"x\":2291.0347900390625,\"y\":2295.3272705078125},\"b2\":{\"x\":1729.533447265625,\"y\":1809.4456787109375}},\"555\":{\"from_node_id\":\"560\",\"to_node_id\":\"563\",\"b1\":{\"x\":1786.1060791015625,\"y\":2299.573486328125},\"b2\":{\"x\":1822.494384765625,\"y\":2320.561767578125}}}},\"103\":{\"name\":\"Mal dehydrogenase\",\"bigg_id\":\"[B]_MalDH3_h\",\"reversibility\":true,\"label_x\":2076.0760498046875,\"label_y\":2613.8465576171875,\"gene_reaction_rule\":\"\",\"genes\":[],\"metabolites\":[{\"bigg_id\":\"[B]_H_h\",\"coefficient\":-1},{\"bigg_id\":\"[B]_Mal_h\",\"coefficient\":1},{\"bigg_id\":\"[B]_NADPH_h\",\"coefficient\":-1},{\"bigg_id\":\"[B]_NADP_h\",\"coefficient\":1},{\"bigg_id\":\"[B]_OAA_h\",\"coefficient\":-1}],\"segments\":{\"556\":{\"from_node_id\":\"564\",\"to_node_id\":\"565\",\"b1\":null,\"b2\":null},\"557\":{\"from_node_id\":\"566\",\"to_node_id\":\"565\",\"b1\":null,\"b2\":null},\"559\":{\"from_node_id\":\"566\",\"to_node_id\":\"468\",\"b1\":{\"x\":2217.7994384765625,\"y\":2645.3541259765625},\"b2\":{\"x\":2475.23779296875,\"y\":2644.7249755859375}},\"562\":{\"from_node_id\":\"564\",\"to_node_id\":\"563\",\"b1\":{\"x\":2093.7994384765625,\"y\":2645.3541259765625},\"b2\":{\"x\":1876.7786865234375,\"y\":2644.4102783203125}}}},\"104\":{\"name\":\"Mal dehydrogenase\",\"bigg_id\":\"[B]_MalDH1_h\",\"reversibility\":true,\"label_x\":2071.8299560546875,\"label_y\":2837.7935791015625,\"gene_reaction_rule\":\"\",\"genes\":[],\"metabolites\":[{\"bigg_id\":\"[B]_H_h\",\"coefficient\":1},{\"bigg_id\":\"[B]_Mal_h\",\"coefficient\":-1},{\"bigg_id\":\"[B]_NADH_h\",\"coefficient\":1},{\"bigg_id\":\"[B]_NAD_h\",\"coefficient\":-1},{\"bigg_id\":\"[B]_OAA_h\",\"coefficient\":1}],\"segments\":{\"563\":{\"from_node_id\":\"571\",\"to_node_id\":\"572\",\"b1\":null,\"b2\":null},\"564\":{\"from_node_id\":\"573\",\"to_node_id\":\"572\",\"b1\":null,\"b2\":null},\"566\":{\"from_node_id\":\"571\",\"to_node_id\":\"468\",\"b1\":{\"x\":2568.346435546875,\"y\":2787.9945068359375},\"b2\":{\"x\":2555.915283203125,\"y\":2798.6888427734375}},\"569\":{\"from_node_id\":\"573\",\"to_node_id\":\"563\",\"b1\":{\"x\":1809.618896484375,\"y\":2784.2200927734375},\"b2\":{\"x\":1818.7474365234375,\"y\":2791.6116943359375}}}},\"105\":{\"name\":\"Asp aminotransferase\",\"bigg_id\":\"[B]_AspAT2_m\",\"reversibility\":true,\"label_x\":1359.5839233398438,\"label_y\":2772.5432929992676,\"gene_reaction_rule\":\"\",\"genes\":[],\"metabolites\":[{\"bigg_id\":\"[B]_Ala_m\",\"coefficient\":-1},{\"bigg_id\":\"[B]_Asp_m\",\"coefficient\":1},{\"bigg_id\":\"[B]_OAA_m\",\"coefficient\":-1},{\"bigg_id\":\"[B]_Pyr_m\",\"coefficient\":1}],\"segments\":{\"570\":{\"from_node_id\":\"578\",\"to_node_id\":\"579\",\"b1\":null,\"b2\":null},\"571\":{\"from_node_id\":\"580\",\"to_node_id\":\"579\",\"b1\":null,\"b2\":null},\"572\":{\"from_node_id\":\"578\",\"to_node_id\":\"581\",\"b1\":{\"x\":1593.1441111460415,\"y\":2816.922512473858},\"b2\":{\"x\":1583.2286987304688,\"y\":3192.9431953430176}},\"573\":{\"from_node_id\":\"580\",\"to_node_id\":\"582\",\"b1\":{\"x\":1482.1012950041454,\"y\":2818.2003140988945},\"b2\":{\"x\":1497.6403198242188,\"y\":3193.3560371398926}},\"574\":{\"from_node_id\":\"578\",\"to_node_id\":\"549\",\"b1\":{\"x\":1594.166893472417,\"y\":2818.2178148683906},\"b2\":{\"x\":1583.0223999023438,\"y\":2811.8260078430176}},\"575\":{\"from_node_id\":\"580\",\"to_node_id\":\"590\",\"b1\":{\"x\":1478.1014943227085,\"y\":2818.240245399677},\"b2\":{\"x\":1467.0841674804688,\"y\":2817.8892402648926}}}},\"106\":{\"name\":\"Mal dehydrogenase\",\"bigg_id\":\"[B]_MalDH2_m\",\"reversibility\":false,\"label_x\":1057.2401733398438,\"label_y\":2823.68550491333,\"gene_reaction_rule\":\"\",\"genes\":[],\"metabolites\":[{\"bigg_id\":\"[B]_CO2_m\",\"coefficient\":1},{\"bigg_id\":\"[B]_Mal_m\",\"coefficient\":-1},{\"bigg_id\":\"[B]_NADH_m\",\"coefficient\":1},{\"bigg_id\":\"[B]_NAD_m\",\"coefficient\":-1},{\"bigg_id\":\"[B]_Pyr_m\",\"coefficient\":1}],\"segments\":{\"576\":{\"from_node_id\":\"584\",\"to_node_id\":\"585\",\"b1\":null,\"b2\":null},\"577\":{\"from_node_id\":\"586\",\"to_node_id\":\"585\",\"b1\":null,\"b2\":null},\"578\":{\"from_node_id\":\"586\",\"to_node_id\":\"587\",\"b1\":{\"x\":1290.5658569335938,\"y\":2881.02339553833},\"b2\":{\"x\":1290.5658569335938,\"y\":2935.27339553833}},\"579\":{\"from_node_id\":\"584\",\"to_node_id\":\"547\",\"b1\":{\"x\":1290.5658569335938,\"y\":2757.02339553833},\"b2\":{\"x\":1290.5658569335938,\"y\":2702.77339553833}},\"582\":{\"from_node_id\":\"586\",\"to_node_id\":\"590\",\"b1\":{\"x\":1290.5658569335938,\"y\":2820.98677444458},\"b2\":{\"x\":1322.7905883789062,\"y\":2817.447956085205}}}},\"107\":{\"name\":\"CO2 diffusion\",\"bigg_id\":\"[B]_Tr_CO2m\",\"reversibility\":true,\"label_x\":810.4965209960938,\"label_y\":2307.36275100708,\"gene_reaction_rule\":\"\",\"genes\":[],\"metabolites\":[{\"bigg_id\":\"[B]_CO2_c\",\"coefficient\":-1},{\"bigg_id\":\"[B]_CO2_m\",\"coefficient\":1}],\"segments\":{\"583\":{\"from_node_id\":\"591\",\"to_node_id\":\"592\",\"b1\":null,\"b2\":null},\"584\":{\"from_node_id\":\"593\",\"to_node_id\":\"592\",\"b1\":null,\"b2\":null},\"585\":{\"from_node_id\":\"591\",\"to_node_id\":\"447\",\"b1\":{\"x\":1047.8641435324835,\"y\":1472.6182197716075},\"b2\":{\"x\":1046.3784790039062,\"y\":1471.4295234680176}},\"586\":{\"from_node_id\":\"593\",\"to_node_id\":\"587\",\"b1\":{\"x\":1071.4398725807978,\"y\":2997.2749458167714},\"b2\":{\"x\":1197.4758911132812,\"y\":2996.35542678833}}}},\"108\":{\"name\":\"CO2 diffusion\",\"bigg_id\":\"[B]_Tr_CO2h\",\"reversibility\":true,\"label_x\":3133.3099975585938,\"label_y\":2307.3350830078125,\"gene_reaction_rule\":\"\",\"genes\":[],\"metabolites\":[{\"bigg_id\":\"[B]_CO2_c\",\"coefficient\":-1},{\"bigg_id\":\"[B]_CO2_h\",\"coefficient\":1}],\"segments\":{\"587\":{\"from_node_id\":\"595\",\"to_node_id\":\"596\",\"b1\":null,\"b2\":null},\"588\":{\"from_node_id\":\"597\",\"to_node_id\":\"596\",\"b1\":null,\"b2\":null},\"589\":{\"from_node_id\":\"595\",\"to_node_id\":\"447\",\"b1\":{\"x\":3097.9994506835938,\"y\":1478.2550354003906},\"b2\":{\"x\":3097.2362670898438,\"y\":1478.481689453125}},\"590\":{\"from_node_id\":\"597\",\"to_node_id\":\"474\",\"b1\":{\"x\":3031.0409545898438,\"y\":2785.986328125},\"b2\":{\"x\":3050.1347045898438,\"y\":2787.396728515625}}}},\"109\":{\"name\":\"GCEA kinase\",\"bigg_id\":\"[B]_GCEAK_h\",\"reversibility\":false,\"label_x\":2423.6611328125,\"label_y\":3353.61865234375,\"gene_reaction_rule\":\"\",\"genes\":[],\"metabolites\":[{\"bigg_id\":\"[B]_ADP_h\",\"coefficient\":1},{\"bigg_id\":\"[B]_ATP_h\",\"coefficient\":-1},{\"bigg_id\":\"[B]_GCEA_h\",\"coefficient\":-1},{\"bigg_id\":\"[B]_H_h\",\"coefficient\":1},{\"bigg_id\":\"[B]_PGA_h\",\"coefficient\":1}],\"segments\":{\"591\":{\"from_node_id\":\"599\",\"to_node_id\":\"600\",\"b1\":null,\"b2\":null},\"592\":{\"from_node_id\":\"601\",\"to_node_id\":\"600\",\"b1\":null,\"b2\":null},\"595\":{\"from_node_id\":\"599\",\"to_node_id\":\"604\",\"b1\":{\"x\":2412.8193359375,\"y\":3286.95849609375},\"b2\":{\"x\":2415.474853515625,\"y\":3554.159912109375}},\"597\":{\"from_node_id\":\"601\",\"to_node_id\":\"483\",\"b1\":{\"x\":2412.8193359375,\"y\":3158.95849609375},\"b2\":{\"x\":2412.8193359375,\"y\":3104.70849609375}}}},\"110\":{\"name\":\"GCA/GCEA shuffle\",\"bigg_id\":\"[B]_Tr_GCEA1\",\"reversibility\":true,\"label_x\":2426.1126708984375,\"label_y\":3730.759765625,\"gene_reaction_rule\":\"\",\"genes\":[],\"metabolites\":[{\"bigg_id\":\"[B]_GCEA_c\",\"coefficient\":-1},{\"bigg_id\":\"[B]_GCEA_h\",\"coefficient\":1}],\"segments\":{\"598\":{\"from_node_id\":\"606\",\"to_node_id\":\"607\",\"b1\":null,\"b2\":null},\"599\":{\"from_node_id\":\"608\",\"to_node_id\":\"607\",\"b1\":null,\"b2\":null},\"600\":{\"from_node_id\":\"606\",\"to_node_id\":\"253\",\"b1\":{\"x\":-1152.776351928711,\"y\":3965.098388671875},\"b2\":{\"x\":-1159.8948974609375,\"y\":3971.954833984375}},\"601\":{\"from_node_id\":\"608\",\"to_node_id\":\"604\",\"b1\":{\"x\":2419.5621337890625,\"y\":3978.385498046875},\"b2\":{\"x\":2413.857666015625,\"y\":3984.276123046875}}}},\"112\":{\"name\":\"Gly hydroxymethyltransferase\",\"bigg_id\":\"[B]_GlyHMT_m\",\"reversibility\":true,\"label_x\":902.6587524414062,\"label_y\":3463.1121826171875,\"gene_reaction_rule\":\"\",\"genes\":[],\"metabolites\":[{\"bigg_id\":\"[B]_Gly_m\",\"coefficient\":-1},{\"bigg_id\":\"[B]_H2O_m\",\"coefficient\":-1},{\"bigg_id\":\"[B]_M_DASH_THF_m\",\"coefficient\":-1},{\"bigg_id\":\"[B]_Ser_m\",\"coefficient\":1},{\"bigg_id\":\"[B]_THF_m\",\"coefficient\":1}],\"segments\":{\"609\":{\"from_node_id\":\"619\",\"to_node_id\":\"620\",\"b1\":null,\"b2\":null},\"610\":{\"from_node_id\":\"621\",\"to_node_id\":\"620\",\"b1\":null,\"b2\":null},\"611\":{\"from_node_id\":\"619\",\"to_node_id\":\"618\",\"b1\":{\"x\":892.2216796875,\"y\":3647.0870361328125},\"b2\":{\"x\":893.1558837890625,\"y\":3649.0206298828125}},\"615\":{\"from_node_id\":\"621\",\"to_node_id\":\"625\",\"b1\":{\"x\":892.2216796875,\"y\":3484.7843017578125},\"b2\":{\"x\":892.2216796875,\"y\":3430.5343017578125}}}},\"113\":{\"name\":\"Aminomethyltransferase\",\"bigg_id\":\"[B]_AMT_m\",\"reversibility\":false,\"label_x\":907.2216796875,\"label_y\":3206.7843017578125,\"gene_reaction_rule\":\"\",\"genes\":[],\"metabolites\":[{\"bigg_id\":\"[B]_DHP_m\",\"coefficient\":1},{\"bigg_id\":\"[B]_M_DASH_THF_m\",\"coefficient\":1},{\"bigg_id\":\"[B]_NH4_m\",\"coefficient\":1},{\"bigg_id\":\"[B]_THF_m\",\"coefficient\":-1},{\"bigg_id\":\"[B]_amDHP_m\",\"coefficient\":-1}],\"segments\":{\"616\":{\"from_node_id\":\"626\",\"to_node_id\":\"627\",\"b1\":null,\"b2\":null},\"617\":{\"from_node_id\":\"628\",\"to_node_id\":\"627\",\"b1\":null,\"b2\":null},\"618\":{\"from_node_id\":\"628\",\"to_node_id\":\"629\",\"b1\":{\"x\":893.1558837890625,\"y\":3099.2843017578125},\"b2\":{\"x\":893.6229248046875,\"y\":3100.3868408203125}},\"621\":{\"from_node_id\":\"626\",\"to_node_id\":\"625\",\"b1\":{\"x\":892.2216796875,\"y\":3258.7843017578125},\"b2\":{\"x\":892.2216796875,\"y\":3313.0343017578125}}}},\"114\":{\"name\":\"DHL dehydrogenase\",\"bigg_id\":\"[B]_DHLDH1_m\",\"reversibility\":false,\"label_x\":952.063720703125,\"label_y\":3305.9852294921875,\"gene_reaction_rule\":\"\",\"genes\":[],\"metabolites\":[{\"bigg_id\":\"[B]_DHP_m\",\"coefficient\":-1},{\"bigg_id\":\"[B]_H_m\",\"coefficient\":1},{\"bigg_id\":\"[B]_LPL_m\",\"coefficient\":1},{\"bigg_id\":\"[B]_NADH_m\",\"coefficient\":1},{\"bigg_id\":\"[B]_NAD_m\",\"coefficient\":-1}],\"segments\":{\"623\":{\"from_node_id\":\"633\",\"to_node_id\":\"634\",\"b1\":null,\"b2\":null},\"624\":{\"from_node_id\":\"635\",\"to_node_id\":\"634\",\"b1\":null,\"b2\":null},\"625\":{\"from_node_id\":\"633\",\"to_node_id\":\"629\",\"b1\":{\"x\":1186.4984130859375,\"y\":3099.5177001953125},\"b2\":{\"x\":1186.965576171875,\"y\":3098.5181884765625}},\"627\":{\"from_node_id\":\"635\",\"to_node_id\":\"637\",\"b1\":{\"x\":1186.4984130859375,\"y\":3311.3336181640625},\"b2\":{\"x\":1185.564208984375,\"y\":3314.2022705078125}}}},\"115\":{\"name\":\"Gly dehydrogenase\",\"bigg_id\":\"[B]_GlyDH_m\",\"reversibility\":false,\"label_x\":973.89501953125,\"label_y\":3615.9273681640625,\"gene_reaction_rule\":\"\",\"genes\":[],\"metabolites\":[{\"bigg_id\":\"[B]_CO2_m\",\"coefficient\":1},{\"bigg_id\":\"[B]_Gly_m\",\"coefficient\":-1},{\"bigg_id\":\"[B]_H_m\",\"coefficient\":-1},{\"bigg_id\":\"[B]_LPL_m\",\"coefficient\":-1},{\"bigg_id\":\"[B]_amDHP_m\",\"coefficient\":1}],\"segments\":{\"630\":{\"from_node_id\":\"640\",\"to_node_id\":\"641\",\"b1\":null,\"b2\":null},\"631\":{\"from_node_id\":\"642\",\"to_node_id\":\"641\",\"b1\":null,\"b2\":null},\"632\":{\"from_node_id\":\"642\",\"to_node_id\":\"587\",\"b1\":{\"x\":1312.6170654296875,\"y\":3620.2283935546875},\"b2\":{\"x\":1291.13037109375,\"y\":3620.2940673828125}},\"633\":{\"from_node_id\":\"640\",\"to_node_id\":\"618\",\"b1\":{\"x\":1185.5640869140625,\"y\":3651.9788818359375},\"b2\":{\"x\":1184.4129638671875,\"y\":3651.1654052734375}},\"635\":{\"from_node_id\":\"640\",\"to_node_id\":\"637\",\"b1\":{\"x\":1186.4984130859375,\"y\":3537.3336181640625},\"b2\":{\"x\":1185.564208984375,\"y\":3431.7022705078125}}}},\"117\":{\"name\":\"Ser:GLX aminotransferase\",\"bigg_id\":\"[B]_SGAT_p\",\"reversibility\":false,\"label_x\":-199.09600448608398,\"label_y\":3483.7188720703125,\"gene_reaction_rule\":\"\",\"genes\":[],\"metabolites\":[{\"bigg_id\":\"[B]_GLX_p\",\"coefficient\":-1},{\"bigg_id\":\"[B]_Gly_p\",\"coefficient\":1},{\"bigg_id\":\"[B]_HPR_p\",\"coefficient\":1},{\"bigg_id\":\"[B]_Ser_p\",\"coefficient\":-1}],\"segments\":{\"643\":{\"from_node_id\":\"654\",\"to_node_id\":\"655\",\"b1\":null,\"b2\":null},\"644\":{\"from_node_id\":\"656\",\"to_node_id\":\"655\",\"b1\":null,\"b2\":null},\"645\":{\"from_node_id\":\"654\",\"to_node_id\":\"651\",\"b1\":{\"x\":-185.91007614135742,\"y\":3511.1258544921875},\"b2\":{\"x\":-240.16006088256836,\"y\":3576.8892822265625}},\"646\":{\"from_node_id\":\"656\",\"to_node_id\":\"657\",\"b1\":{\"x\":-57.91007614135742,\"y\":3511.1258544921875},\"b2\":{\"x\":7.506313323974609,\"y\":3587.8929443359375}},\"647\":{\"from_node_id\":\"656\",\"to_node_id\":\"658\",\"b1\":{\"x\":-61.91007614135742,\"y\":3511.1258544921875},\"b2\":{\"x\":-7.660076141357422,\"y\":3511.1258544921875}}}},\"118\":{\"name\":\"Glu:GLX aminotransferase\",\"bigg_id\":\"[B]_GGAT_p\",\"reversibility\":false,\"label_x\":-206.09209537506104,\"label_y\":3711.7913818359375,\"gene_reaction_rule\":\"\",\"genes\":[],\"metabolites\":[{\"bigg_id\":\"[B]_GLX_p\",\"coefficient\":-1},{\"bigg_id\":\"[B]_Glu_p\",\"coefficient\":-1},{\"bigg_id\":\"[B]_Gly_p\",\"coefficient\":1},{\"bigg_id\":\"[B]_KG_p\",\"coefficient\":1}],\"segments\":{\"649\":{\"from_node_id\":\"660\",\"to_node_id\":\"661\",\"b1\":null,\"b2\":null},\"650\":{\"from_node_id\":\"662\",\"to_node_id\":\"661\",\"b1\":null,\"b2\":null},\"651\":{\"from_node_id\":\"660\",\"to_node_id\":\"651\",\"b1\":{\"x\":-187.3092918395996,\"y\":3649.6485595703125},\"b2\":{\"x\":-240.16006088256836,\"y\":3576.8892822265625}},\"653\":{\"from_node_id\":\"662\",\"to_node_id\":\"657\",\"b1\":{\"x\":-63.30929183959961,\"y\":3649.6485595703125},\"b2\":{\"x\":-23.051471710205078,\"y\":3649.6483154296875}}}},\"119\":{\"name\":\"GCEA dehydrogenase\",\"bigg_id\":\"[B]_GCEADH_p\",\"reversibility\":false,\"label_x\":66.08992385864258,\"label_y\":3346.1258544921875,\"gene_reaction_rule\":\"\",\"genes\":[],\"metabolites\":[{\"bigg_id\":\"[B]_GCEA_p\",\"coefficient\":1},{\"bigg_id\":\"[B]_HPR_p\",\"coefficient\":-1},{\"bigg_id\":\"[B]_H_p\",\"coefficient\":-1},{\"bigg_id\":\"[B]_NADH_p\",\"coefficient\":-1},{\"bigg_id\":\"[B]_NAD_p\",\"coefficient\":1}],\"segments\":{\"655\":{\"from_node_id\":\"666\",\"to_node_id\":\"667\",\"b1\":null,\"b2\":null},\"656\":{\"from_node_id\":\"668\",\"to_node_id\":\"667\",\"b1\":null,\"b2\":null},\"657\":{\"from_node_id\":\"668\",\"to_node_id\":\"669\",\"b1\":{\"x\":51.08992385864258,\"y\":3274.1258544921875},\"b2\":{\"x\":51.08992385864258,\"y\":3219.8758544921875}},\"658\":{\"from_node_id\":\"666\",\"to_node_id\":\"658\",\"b1\":{\"x\":51.08992385864258,\"y\":3398.1258544921875},\"b2\":{\"x\":51.08992385864258,\"y\":3452.3758544921875}}}},\"120\":{\"name\":\"GCEA diffusion\",\"bigg_id\":\"[B]_Tr_GCEA2\",\"reversibility\":true,\"label_x\":-523.714672088623,\"label_y\":3136.5172119140625,\"gene_reaction_rule\":\"\",\"genes\":[],\"metabolites\":[{\"bigg_id\":\"[B]_GCEA_c\",\"coefficient\":-1},{\"bigg_id\":\"[B]_GCEA_p\",\"coefficient\":1}],\"segments\":{\"662\":{\"from_node_id\":\"673\",\"to_node_id\":\"674\",\"b1\":null,\"b2\":null},\"663\":{\"from_node_id\":\"675\",\"to_node_id\":\"674\",\"b1\":null,\"b2\":null},\"664\":{\"from_node_id\":\"673\",\"to_node_id\":\"253\",\"b1\":{\"x\":-1096.8012504577637,\"y\":3162.5252685546875},\"b2\":{\"x\":-1005.3885612487793,\"y\":3143.8460693359375}},\"665\":{\"from_node_id\":\"675\",\"to_node_id\":\"669\",\"b1\":{\"x\":-61.91007614135742,\"y\":3161.1258544921875},\"b2\":{\"x\":-7.660076141357422,\"y\":3161.1258544921875}}}},\"122\":{\"name\":\"Gly diffusion\",\"bigg_id\":\"[B]_Tr_Gly\",\"reversibility\":true,\"label_x\":166.2563133239746,\"label_y\":3609.8929443359375,\"gene_reaction_rule\":\"\",\"genes\":[],\"metabolites\":[{\"bigg_id\":\"[B]_Gly_c\",\"coefficient\":-1},{\"bigg_id\":\"[B]_Gly_p\",\"coefficient\":1}],\"segments\":{\"669\":{\"from_node_id\":\"680\",\"to_node_id\":\"681\",\"b1\":null,\"b2\":null},\"670\":{\"from_node_id\":\"682\",\"to_node_id\":\"681\",\"b1\":null,\"b2\":null},\"671\":{\"from_node_id\":\"680\",\"to_node_id\":\"683\",\"b1\":{\"x\":278.2563133239746,\"y\":3649.8929443359375},\"b2\":{\"x\":452.8390922546387,\"y\":3648.4937744140625}},\"672\":{\"from_node_id\":\"682\",\"to_node_id\":\"657\",\"b1\":{\"x\":154.2563133239746,\"y\":3649.8929443359375},\"b2\":{\"x\":100.00631332397461,\"y\":3649.8929443359375}}}},\"123\":{\"name\":\"Gly/Ser shuffle\",\"bigg_id\":\"[B]_Tr_GlySer\",\"reversibility\":true,\"label_x\":640.7867889404297,\"label_y\":3702.2415771484375,\"gene_reaction_rule\":\"\",\"genes\":[],\"metabolites\":[{\"bigg_id\":\"[B]_Gly_c\",\"coefficient\":-1},{\"bigg_id\":\"[B]_Gly_m\",\"coefficient\":1},{\"bigg_id\":\"[B]_Ser_c\",\"coefficient\":1},{\"bigg_id\":\"[B]_Ser_m\",\"coefficient\":-1}],\"segments\":{\"673\":{\"from_node_id\":\"684\",\"to_node_id\":\"685\",\"b1\":null,\"b2\":null},\"674\":{\"from_node_id\":\"686\",\"to_node_id\":\"685\",\"b1\":null,\"b2\":null},\"675\":{\"from_node_id\":\"684\",\"to_node_id\":\"683\",\"b1\":{\"x\":611.9961395263672,\"y\":3648.4940185546875},\"b2\":{\"x\":570.3390922546387,\"y\":3648.4937744140625}},\"676\":{\"from_node_id\":\"686\",\"to_node_id\":\"618\",\"b1\":{\"x\":735.9961395263672,\"y\":3648.4940185546875},\"b2\":{\"x\":974.9430389404297,\"y\":3649.8931884765625}}}},\"124\":{\"name\":\"GCA diffusion\",\"bigg_id\":\"[B]_Tr_GCA2\",\"reversibility\":true,\"label_x\":-547.8921775817871,\"label_y\":3279.4329833984375,\"gene_reaction_rule\":\"\",\"genes\":[],\"metabolites\":[{\"bigg_id\":\"[B]_GCA_c\",\"coefficient\":-1},{\"bigg_id\":\"[B]_GCA_p\",\"coefficient\":1}],\"segments\":{\"679\":{\"from_node_id\":\"690\",\"to_node_id\":\"691\",\"b1\":null,\"b2\":null},\"680\":{\"from_node_id\":\"692\",\"to_node_id\":\"691\",\"b1\":null,\"b2\":null},\"681\":{\"from_node_id\":\"690\",\"to_node_id\":\"249\",\"b1\":{\"x\":-1399.423183441162,\"y\":3297.0455322265625},\"b2\":{\"x\":-1277.3718528747559,\"y\":3295.6463623046875}},\"682\":{\"from_node_id\":\"692\",\"to_node_id\":\"697\",\"b1\":{\"x\":-764.7085227966309,\"y\":3301.2432861328125},\"b2\":{\"x\":-356.4562339782715,\"y\":3306.8402099609375}}}},\"125\":{\"name\":\"GCA oxidase\",\"bigg_id\":\"[B]_GCAO_p\",\"reversibility\":false,\"label_x\":-281.1116142272949,\"label_y\":3413.2884521484375,\"gene_reaction_rule\":\"\",\"genes\":[],\"metabolites\":[{\"bigg_id\":\"[B]_GCA_p\",\"coefficient\":-1},{\"bigg_id\":\"[B]_GLX_p\",\"coefficient\":1},{\"bigg_id\":\"[B]_H2O2_p\",\"coefficient\":1},{\"bigg_id\":\"[B]_O2_p\",\"coefficient\":-1}],\"segments\":{\"683\":{\"from_node_id\":\"694\",\"to_node_id\":\"695\",\"b1\":null,\"b2\":null},\"684\":{\"from_node_id\":\"696\",\"to_node_id\":\"695\",\"b1\":null,\"b2\":null},\"685\":{\"from_node_id\":\"694\",\"to_node_id\":\"697\",\"b1\":{\"x\":-300.3092613220215,\"y\":3418.2454833984375},\"b2\":{\"x\":-300.3092613220215,\"y\":3363.9954833984375}},\"686\":{\"from_node_id\":\"696\",\"to_node_id\":\"651\",\"b1\":{\"x\":-300.3092613220215,\"y\":3542.2454833984375},\"b2\":{\"x\":-298.91006088256836,\"y\":3518.1392822265625}}}},\"126\":{\"name\":\"FBP aldolase\",\"bigg_id\":\"[M]_FBPA_c\",\"reversibility\":true,\"label_x\":14.662513732910156,\"label_y\":899.7548828125,\"gene_reaction_rule\":\"\",\"genes\":[],\"metabolites\":[{\"bigg_id\":\"[M]_DHAP_c\",\"coefficient\":-1},{\"bigg_id\":\"[M]_FBP_c\",\"coefficient\":1},{\"bigg_id\":\"[M]_GAP_c\",\"coefficient\":-1}],\"segments\":{\"689\":{\"from_node_id\":\"701\",\"to_node_id\":\"702\",\"b1\":null,\"b2\":null},\"690\":{\"from_node_id\":\"703\",\"to_node_id\":\"702\",\"b1\":null,\"b2\":null},\"691\":{\"from_node_id\":\"701\",\"to_node_id\":\"279\",\"b1\":{\"x\":-15.676542282104492,\"y\":816.5715942382812},\"b2\":{\"x\":12.32595157623291,\"y\":807.0420532226562}},\"692\":{\"from_node_id\":\"703\",\"to_node_id\":\"704\",\"b1\":{\"x\":-15.676542282104492,\"y\":940.5715942382812},\"b2\":{\"x\":-17.072267532348633,\"y\":996.2173461914062}},\"693\":{\"from_node_id\":\"701\",\"to_node_id\":\"289\",\"b1\":{\"x\":-15.676542282104492,\"y\":812.5715942382812},\"b2\":{\"x\":-46.250633239746094,\"y\":798.9389038085938}}}},\"127\":{\"name\":\"FBPase\",\"bigg_id\":\"[M]_FBPase_c\",\"reversibility\":false,\"label_x\":15.82380485534668,\"label_y\":1017.7518310546875,\"gene_reaction_rule\":\"\",\"genes\":[],\"metabolites\":[{\"bigg_id\":\"[M]_F6P_c\",\"coefficient\":1},{\"bigg_id\":\"[M]_FBP_c\",\"coefficient\":-1},{\"bigg_id\":\"[M]_H2O_c\",\"coefficient\":-1},{\"bigg_id\":\"[M]_Pi_c\",\"coefficient\":1}],\"segments\":{\"694\":{\"from_node_id\":\"706\",\"to_node_id\":\"707\",\"b1\":null,\"b2\":null},\"695\":{\"from_node_id\":\"708\",\"to_node_id\":\"707\",\"b1\":null,\"b2\":null},\"696\":{\"from_node_id\":\"708\",\"to_node_id\":\"709\",\"b1\":{\"x\":133.39275932312012,\"y\":1054.9673461914062},\"b2\":{\"x\":187.64275932312012,\"y\":1054.9673461914062}},\"697\":{\"from_node_id\":\"706\",\"to_node_id\":\"704\",\"b1\":{\"x\":9.392759323120117,\"y\":1054.9673461914062},\"b2\":{\"x\":41.67773246765137,\"y\":1054.9673461914062}}}},\"128\":{\"name\":\"S6P synthase\",\"bigg_id\":\"[M]_S6PS_c\",\"reversibility\":false,\"label_x\":283.46203422546387,\"label_y\":1014.9673461914062,\"gene_reaction_rule\":\"\",\"genes\":[],\"metabolites\":[{\"bigg_id\":\"[M]_F6P_c\",\"coefficient\":-1},{\"bigg_id\":\"[M]_S6P_c\",\"coefficient\":1},{\"bigg_id\":\"[M]_UDPG_c\",\"coefficient\":-1},{\"bigg_id\":\"[M]_UDP_c\",\"coefficient\":1}],\"segments\":{\"700\":{\"from_node_id\":\"712\",\"to_node_id\":\"713\",\"b1\":null,\"b2\":null},\"701\":{\"from_node_id\":\"714\",\"to_node_id\":\"713\",\"b1\":null,\"b2\":null},\"702\":{\"from_node_id\":\"712\",\"to_node_id\":\"709\",\"b1\":{\"x\":271.46203422546387,\"y\":1054.9673461914062},\"b2\":{\"x\":305.1427593231201,\"y\":1054.9673461914062}},\"703\":{\"from_node_id\":\"714\",\"to_node_id\":\"715\",\"b1\":{\"x\":395.46203422546387,\"y\":1054.9673461914062},\"b2\":{\"x\":449.71203422546387,\"y\":1054.9673461914062}}}},\"129\":{\"name\":\"S6P phosphorylase\",\"bigg_id\":\"[M]_S6PPh_c\",\"reversibility\":false,\"label_x\":546.9270000457764,\"label_y\":1014.9673461914062,\"gene_reaction_rule\":\"\",\"genes\":[],\"metabolites\":[{\"bigg_id\":\"[M]_H2O_c\",\"coefficient\":-1},{\"bigg_id\":\"[M]_Pi_c\",\"coefficient\":1},{\"bigg_id\":\"[M]_S6P_c\",\"coefficient\":-1},{\"bigg_id\":\"[M]_Suc_c\",\"coefficient\":1}],\"segments\":{\"706\":{\"from_node_id\":\"718\",\"to_node_id\":\"719\",\"b1\":null,\"b2\":null},\"707\":{\"from_node_id\":\"720\",\"to_node_id\":\"719\",\"b1\":null,\"b2\":null},\"710\":{\"from_node_id\":\"718\",\"to_node_id\":\"715\",\"b1\":{\"x\":534.9270000457764,\"y\":1054.9673461914062},\"b2\":{\"x\":567.2120342254639,\"y\":1054.9673461914062}},\"711\":{\"from_node_id\":\"720\",\"to_node_id\":\"723\",\"b1\":{\"x\":658.9270000457764,\"y\":1054.9673461914062},\"b2\":{\"x\":713.1770000457764,\"y\":1054.9673461914062}}}},\"130\":{\"name\":\"[MB]_Suc_c\",\"bigg_id\":\"[MB]_Suc_c\",\"reversibility\":true,\"label_x\":786.9270000457764,\"label_y\":1375.3088989257812,\"gene_reaction_rule\":\"\",\"genes\":[],\"metabolites\":[{\"bigg_id\":\"[B]_Suc_c\",\"coefficient\":1},{\"bigg_id\":\"[M]_Suc_c\",\"coefficient\":-1}],\"segments\":{\"712\":{\"from_node_id\":\"724\",\"to_node_id\":\"725\",\"b1\":null,\"b2\":null},\"713\":{\"from_node_id\":\"726\",\"to_node_id\":\"725\",\"b1\":null,\"b2\":null},\"714\":{\"from_node_id\":\"726\",\"to_node_id\":\"363\",\"b1\":{\"x\":771.9270000457764,\"y\":1291.9673461914062},\"b2\":{\"x\":771.9270000457764,\"y\":2088.7433471679688}},\"715\":{\"from_node_id\":\"724\",\"to_node_id\":\"723\",\"b1\":{\"x\":771.9270000457764,\"y\":1167.9673461914062},\"b2\":{\"x\":771.9270000457764,\"y\":1113.7173461914062}}}},\"131\":{\"name\":\"Tr_Asp_mc\",\"bigg_id\":\"[B]_Tr_Asp_mc\",\"reversibility\":true,\"label_x\":1254.9667358398438,\"label_y\":3738.2415351867676,\"gene_reaction_rule\":\"\",\"genes\":[],\"metabolites\":[{\"bigg_id\":\"[B]_Asp_c\",\"coefficient\":1},{\"bigg_id\":\"[B]_Asp_m\",\"coefficient\":-1}],\"segments\":{\"716\":{\"from_node_id\":\"728\",\"to_node_id\":\"729\",\"b1\":null,\"b2\":null},\"717\":{\"from_node_id\":\"730\",\"to_node_id\":\"729\",\"b1\":null,\"b2\":null},\"718\":{\"from_node_id\":\"730\",\"to_node_id\":\"185\",\"b1\":{\"x\":3337.0399780273438,\"y\":3509.9805488586426},\"b2\":{\"x\":3337.0402221679688,\"y\":3822.18208694458}},\"719\":{\"from_node_id\":\"728\",\"to_node_id\":\"582\",\"b1\":{\"x\":1493.7348022460938,\"y\":3812.6458320617676},\"b2\":{\"x\":1495.1290893554688,\"y\":3426.3728828430176}}}},\"132\":{\"name\":\"R_Tr_Ala_mc\",\"bigg_id\":\"[B]_Tr_Ala_mc\",\"reversibility\":true,\"label_x\":1606.4703979492188,\"label_y\":3734.3384590148926,\"gene_reaction_rule\":\"\",\"genes\":[],\"metabolites\":[{\"bigg_id\":\"[B]_Ala_c\",\"coefficient\":-1},{\"bigg_id\":\"[B]_Ala_m\",\"coefficient\":1}],\"segments\":{\"720\":{\"from_node_id\":\"732\",\"to_node_id\":\"733\",\"b1\":null,\"b2\":null},\"721\":{\"from_node_id\":\"734\",\"to_node_id\":\"733\",\"b1\":null,\"b2\":null},\"722\":{\"from_node_id\":\"732\",\"to_node_id\":\"189\",\"b1\":{\"x\":3588.1522827148438,\"y\":3755.6631660461426},\"b2\":{\"x\":3585.3634643554688,\"y\":3750.305866241455}},\"723\":{\"from_node_id\":\"734\",\"to_node_id\":\"581\",\"b1\":{\"x\":1590.0761108398438,\"y\":3764.1245918273926},\"b2\":{\"x\":1585.8931274414062,\"y\":3423.8645820617676}}}},\"134\":{\"name\":\"FBPase\",\"bigg_id\":\"[B]_FBPase_c\",\"reversibility\":false,\"label_x\":-238.2570457458496,\"label_y\":2067.4127464294434,\"gene_reaction_rule\":\"\",\"genes\":[],\"metabolites\":[{\"bigg_id\":\"[B]_F6P_c\",\"coefficient\":1},{\"bigg_id\":\"[B]_FBP_c\",\"coefficient\":-1},{\"bigg_id\":\"[B]_H2O_c\",\"coefficient\":-1},{\"bigg_id\":\"[B]_Pi_c\",\"coefficient\":1}],\"segments\":{\"731\":{\"from_node_id\":\"743\",\"to_node_id\":\"744\",\"b1\":null,\"b2\":null},\"732\":{\"from_node_id\":\"745\",\"to_node_id\":\"744\",\"b1\":null,\"b2\":null},\"733\":{\"from_node_id\":\"745\",\"to_node_id\":\"318\",\"b1\":{\"x\":-18.34404754638672,\"y\":2077.6920433044434},\"b2\":{\"x\":-18.808341026306152,\"y\":2103.5755882263184}},\"734\":{\"from_node_id\":\"743\",\"to_node_id\":\"314\",\"b1\":{\"x\":-19.72587776184082,\"y\":2039.6316184997559},\"b2\":{\"x\":-19.725879669189453,\"y\":2036.703395843506}}}},\"136\":{\"name\":\"Pyr kinase\",\"bigg_id\":\"[B]_PyrK_c\",\"reversibility\":false,\"label_x\":2830.192070944275,\"label_y\":1598.899410130277,\"gene_reaction_rule\":\"\",\"genes\":[],\"metabolites\":[{\"bigg_id\":\"[B]_ADP_c\",\"coefficient\":-1},{\"bigg_id\":\"[B]_ATP_c\",\"coefficient\":1},{\"bigg_id\":\"[B]_H_c\",\"coefficient\":-1},{\"bigg_id\":\"[B]_PEP_c\",\"coefficient\":-1},{\"bigg_id\":\"[B]_Pyr_c\",\"coefficient\":1}],\"segments\":{\"742\":{\"from_node_id\":\"753\",\"to_node_id\":\"754\",\"b1\":null,\"b2\":null},\"743\":{\"from_node_id\":\"755\",\"to_node_id\":\"754\",\"b1\":null,\"b2\":null},\"747\":{\"from_node_id\":\"753\",\"to_node_id\":\"233\",\"b1\":{\"x\":2818.192070944275,\"y\":1638.899410130277},\"b2\":{\"x\":2820.1991510224,\"y\":1638.899410130277}},\"748\":{\"from_node_id\":\"755\",\"to_node_id\":\"181\",\"b1\":{\"x\":2942.192070944275,\"y\":1638.899410130277},\"b2\":{\"x\":2937.299981100525,\"y\":1637.457027317777}}}}},\"nodes\":{\"12\":{\"node_type\":\"metabolite\",\"x\":1289.6665649414062,\"y\":-320.00006103515625,\"bigg_id\":\"[M]_CO2_c\",\"name\":\"CO2\",\"label_x\":1324.351962073744,\"label_y\":-340.41893299433843,\"node_is_primary\":true},\"13\":{\"node_type\":\"multimarker\",\"x\":1285.6845092773438,\"y\":-1008.7737426757812},\"14\":{\"node_type\":\"midmarker\",\"x\":1285.6845092773438,\"y\":-988.7737426757812},\"15\":{\"node_type\":\"multimarker\",\"x\":1285.6845092773438,\"y\":-968.7737426757812},\"16\":{\"node_type\":\"multimarker\",\"x\":1134.6665649414062,\"y\":-320.00006103515625},\"17\":{\"node_type\":\"midmarker\",\"x\":1114.6665649414062,\"y\":-320.00006103515625},\"18\":{\"node_type\":\"multimarker\",\"x\":1094.6665649414062,\"y\":-320.00006103515625},\"19\":{\"node_type\":\"metabolite\",\"x\":939.6665649414062,\"y\":-320.0000610351562,\"bigg_id\":\"[M]_CO2_h\",\"name\":\"CO2\",\"label_x\":891.0665649414063,\"label_y\":-280.0000610351562,\"node_is_primary\":true},\"20\":{\"node_type\":\"multimarker\",\"x\":784.6665649414062,\"y\":-320.0000610351562},\"21\":{\"node_type\":\"midmarker\",\"x\":764.6665649414062,\"y\":-320.0000610351562},\"22\":{\"node_type\":\"multimarker\",\"x\":744.6665649414062,\"y\":-320.0000610351562},\"25\":{\"node_type\":\"metabolite\",\"x\":582.8522338867188,\"y\":-319.66468811035145,\"bigg_id\":\"[M]_PGA_h\",\"name\":\"C3H4O7P\",\"label_x\":522.8673156738282,\"label_y\":-262.1553192138671,\"node_is_primary\":true},\"26\":{\"node_type\":\"metabolite\",\"x\":940.3206176757812,\"y\":-440.28026580810547,\"bigg_id\":\"[M]_RuBP_h\",\"name\":\"C5H8O11P2\",\"label_x\":895.6539306640625,\"label_y\":-392.28026580810547,\"node_is_primary\":true},\"27\":{\"node_type\":\"multimarker\",\"x\":788.5404052734375,\"y\":-547.3853912353514},\"28\":{\"node_type\":\"midmarker\",\"x\":768.5404052734375,\"y\":-547.3853912353514},\"29\":{\"node_type\":\"multimarker\",\"x\":748.5404052734375,\"y\":-547.3853912353514},\"33\":{\"node_type\":\"metabolite\",\"x\":581.9457397460938,\"y\":-548.71870803833,\"bigg_id\":\"[M]_PGCA_h\",\"name\":\"C2H2O6P\",\"label_x\":504.80517578125,\"label_y\":-498.0520439147948,\"node_is_primary\":true},\"34\":{\"node_type\":\"multimarker\",\"x\":426.94573974609375,\"y\":-548.71870803833},\"35\":{\"node_type\":\"midmarker\",\"x\":406.94573974609375,\"y\":-548.71870803833},\"36\":{\"node_type\":\"multimarker\",\"x\":386.94573974609375,\"y\":-548.71870803833},\"37\":{\"node_type\":\"metabolite\",\"x\":263.6274108886719,\"y\":-548.7187080383299,\"bigg_id\":\"[M]_GCA_h\",\"name\":\"C2H3O3\",\"label_x\":215.02741088867185,\"label_y\":-499.385372161865,\"node_is_primary\":true},\"40\":{\"node_type\":\"multimarker\",\"x\":1289.6665649414062,\"y\":-165.00006103515625},\"41\":{\"node_type\":\"midmarker\",\"x\":1289.6665649414062,\"y\":-145.00006103515625},\"42\":{\"node_type\":\"multimarker\",\"x\":1289.6665649414062,\"y\":-125.00006103515625},\"44\":{\"node_type\":\"metabolite\",\"x\":1289.6665649414062,\"y\":29.99993896484375,\"bigg_id\":\"[M]_HCO3_c\",\"name\":\"CHO3\",\"label_x\":1310.6665649414062,\"label_y\":7.333271503448486,\"node_is_primary\":true},\"52\":{\"node_type\":\"multimarker\",\"x\":1409.2748762987262,\"y\":211.32401972572646},\"53\":{\"node_type\":\"midmarker\",\"x\":1408.6665649414062,\"y\":191.33327293395996},\"54\":{\"node_type\":\"multimarker\",\"x\":1408.0582535840863,\"y\":171.34252614219335},\"55\":{\"node_type\":\"metabolite\",\"x\":1287.6666870117188,\"y\":363.3332710266113,\"bigg_id\":\"[M]_OAA_c\",\"name\":\"C4H2O5\",\"label_x\":1323.0366577148438,\"label_y\":346.7503852844238,\"node_is_primary\":true},\"56\":{\"node_type\":\"metabolite\",\"x\":1288.9999389648438,\"y\":128.66659545898438,\"bigg_id\":\"[M]_PEP_c\",\"name\":\"C3H2O6P\",\"label_x\":1248.0422729492188,\"label_y\":98.7098388671875,\"node_is_primary\":true},\"58\":{\"node_type\":\"multimarker\",\"x\":1287.6666870117188,\"y\":558.3332710266113},\"59\":{\"node_type\":\"midmarker\",\"x\":1287.6666870117188,\"y\":538.3332710266113},\"60\":{\"node_type\":\"multimarker\",\"x\":1287.6666870117188,\"y\":518.3332710266113},\"62\":{\"node_type\":\"metabolite\",\"x\":1288.2583618164062,\"y\":713.9249458312988,\"bigg_id\":\"[M]_Mal_c\",\"name\":\"C4H4O5\",\"label_x\":1313.2583618164062,\"label_y\":713.9249458312988,\"node_is_primary\":true},\"65\":{\"node_type\":\"multimarker\",\"x\":1104.7414227730005,\"y\":515.4533788621472},\"66\":{\"node_type\":\"midmarker\",\"x\":1104.6664622477163,\"y\":535.4532383846456},\"67\":{\"node_type\":\"multimarker\",\"x\":1104.5915017224293,\"y\":555.453097907144},\"69\":{\"node_type\":\"metabolite\",\"x\":936.4449052943767,\"y\":366.74583911265717,\"bigg_id\":\"[M]_Mal_h\",\"name\":\"C4H4O5\",\"label_x\":810.069819845158,\"label_y\":370.74583911265717,\"node_is_primary\":true},\"70\":{\"node_type\":\"metabolite\",\"x\":939.6578197788833,\"y\":720.7443946164624,\"bigg_id\":\"[M]_OAA_h\",\"name\":\"C4H2O5\",\"label_x\":797.7244457554459,\"label_y\":736.7443946164624,\"node_is_primary\":true},\"71\":{\"node_type\":\"multimarker\",\"x\":937.7782182826579,\"y\":557.7458391126572},\"72\":{\"node_type\":\"midmarker\",\"x\":937.7782182826579,\"y\":537.7458391126572},\"73\":{\"node_type\":\"multimarker\",\"x\":937.7782182826579,\"y\":517.7458391126572},\"90\":{\"node_type\":\"multimarker\",\"x\":3158.9678344726562,\"y\":522.0020942687988},\"91\":{\"node_type\":\"midmarker\",\"x\":3158.9678344726562,\"y\":544.1748847961426},\"92\":{\"node_type\":\"multimarker\",\"x\":3158.5728149414062,\"y\":562.8415718078613},\"93\":{\"node_type\":\"metabolite\",\"x\":3337.4120483398438,\"y\":370.68107986450195,\"bigg_id\":\"[M]_Ala_c\",\"name\":\"C3H7NO2\",\"label_x\":3310.0651245117188,\"label_y\":339.7982063293457,\"node_is_primary\":true},\"94\":{\"node_type\":\"metabolite\",\"x\":3338.1416625976562,\"y\":715.8662605285645,\"bigg_id\":\"[M]_Asp_c\",\"name\":\"C4H6NO4\",\"label_x\":3353.2651977539062,\"label_y\":691.3724250793457,\"node_is_primary\":true},\"95\":{\"node_type\":\"metabolite\",\"x\":2989.3306274414062,\"y\":719.0569038391113,\"bigg_id\":\"[M]_Pyr_c\",\"name\":\"C3H3O3\",\"label_x\":3000.7750854492188,\"label_y\":693.3531684875488,\"node_is_primary\":true},\"96\":{\"node_type\":\"multimarker\",\"x\":1133.9999389648438,\"y\":128.6665954589844},\"97\":{\"node_type\":\"midmarker\",\"x\":1113.9999389648438,\"y\":128.6665954589844},\"98\":{\"node_type\":\"multimarker\",\"x\":1093.9999389648438,\"y\":128.6665954589844},\"101\":{\"node_type\":\"metabolite\",\"x\":938.9999389648438,\"y\":128.66659545898443,\"bigg_id\":\"[M]_PEP_h\",\"name\":\"C3H2O6P\",\"label_x\":901.1999389648438,\"label_y\":168.66659545898443,\"node_is_primary\":true},\"104\":{\"node_type\":\"multimarker\",\"x\":2816.6066284179688,\"y\":842.0523262023926},\"105\":{\"node_type\":\"midmarker\",\"x\":1114.7053833007812,\"y\":842.0523262023926},\"106\":{\"node_type\":\"multimarker\",\"x\":1094.7053833007812,\"y\":842.0523262023926},\"109\":{\"node_type\":\"metabolite\",\"x\":939.7053833007812,\"y\":842.0523262023926,\"bigg_id\":\"[M]_Pyr_h\",\"name\":\"C3H3O3\",\"label_x\":890.6630126953125,\"label_y\":886.7859687805176,\"node_is_primary\":true},\"110\":{\"node_type\":\"multimarker\",\"x\":772.3787003872201,\"y\":500.5207926303535},\"111\":{\"node_type\":\"midmarker\",\"x\":772.3975830078125,\"y\":480.52080154418945},\"112\":{\"node_type\":\"multimarker\",\"x\":772.4164656284049,\"y\":460.5208104580254},\"119\":{\"node_type\":\"multimarker\",\"x\":-252.7345733642578,\"y\":-547.0999336242674},\"120\":{\"node_type\":\"midmarker\",\"x\":-272.7345733642578,\"y\":-547.0999336242674},\"121\":{\"node_type\":\"multimarker\",\"x\":-292.7345733642578,\"y\":-547.0999336242674},\"122\":{\"node_type\":\"metabolite\",\"x\":-450.0978546142578,\"y\":-547.0999336242674,\"bigg_id\":\"[M]_GCA_c\",\"name\":\"C2H3O3\",\"label_x\":-538.8205352783203,\"label_y\":-582.2900733947752,\"node_is_primary\":true},\"123\":{\"node_type\":\"multimarker\",\"x\":434.35125732421875,\"y\":-212.13581085205064},\"124\":{\"node_type\":\"midmarker\",\"x\":414.35125732421875,\"y\":-212.13581085205064},\"125\":{\"node_type\":\"multimarker\",\"x\":394.35125732421875,\"y\":-212.13581085205064},\"126\":{\"node_type\":\"metabolite\",\"x\":-450.72406005859375,\"y\":-210.9541702270506,\"bigg_id\":\"[M]_PGA_c\",\"name\":\"C3H4O7P\",\"label_x\":-542.9828125,\"label_y\":-246.3160324096678,\"node_is_primary\":true},\"129\":{\"node_type\":\"multimarker\",\"x\":406.75848388671875,\"y\":-320.8462982177733},\"130\":{\"node_type\":\"midmarker\",\"x\":426.75848388671875,\"y\":-320.8462982177733},\"131\":{\"node_type\":\"multimarker\",\"x\":446.75848388671875,\"y\":-320.8462982177733},\"134\":{\"node_type\":\"metabolite\",\"x\":251.75848388671875,\"y\":-320.84629821777327,\"bigg_id\":\"[M]_GCEA_h\",\"name\":\"C3H5O4\",\"label_x\":203.15848388671873,\"label_y\":-268.37239074707014,\"node_is_primary\":true},\"136\":{\"node_type\":\"multimarker\",\"x\":438.34791564941406,\"y\":53.24074935913097},\"137\":{\"node_type\":\"midmarker\",\"x\":418.34791564941406,\"y\":53.24074935913097},\"138\":{\"node_type\":\"multimarker\",\"x\":398.34791564941406,\"y\":53.24074935913097},\"141\":{\"node_type\":\"metabolite\",\"x\":243.34791564941406,\"y\":53.24074935913103,\"bigg_id\":\"[M]_DPGA_h\",\"name\":\"C3H4O10P2\",\"label_x\":194.74791564941404,\"label_y\":105.71467208862322,\"node_is_primary\":true},\"142\":{\"node_type\":\"multimarker\",\"x\":88.34791564941406,\"y\":53.24074935913103},\"143\":{\"node_type\":\"midmarker\",\"x\":68.34791564941406,\"y\":53.24074935913103},\"144\":{\"node_type\":\"multimarker\",\"x\":48.34791564941406,\"y\":53.24074935913103},\"145\":{\"node_type\":\"metabolite\",\"x\":-106.65208435058594,\"y\":53.24074935913109,\"bigg_id\":\"[M]_GAP_h\",\"name\":\"C3H5O6P\",\"label_x\":-251.92501220703127,\"label_y\":55.81896972656273,\"node_is_primary\":true},\"156\":{\"node_type\":\"multimarker\",\"x\":-299.5047149658203,\"y\":-319.66465759277327},\"157\":{\"node_type\":\"midmarker\",\"x\":-279.5047149658203,\"y\":-319.66465759277327},\"158\":{\"node_type\":\"multimarker\",\"x\":-259.5047149658203,\"y\":-319.66465759277327},\"159\":{\"node_type\":\"metabolite\",\"x\":-450.10450744628906,\"y\":-319.6646575927732,\"bigg_id\":\"[M]_GCEA_c\",\"name\":\"C3H5O4\",\"label_x\":-544.8165435791016,\"label_y\":-354.26539611816384,\"node_is_primary\":true},\"163\":{\"node_type\":\"metabolite\",\"x\":68.78190231323242,\"y\":413.1180992126467,\"bigg_id\":\"[M]_DHAP_h\",\"name\":\"C3H5O6P\",\"label_x\":106.25582504272461,\"label_y\":419.35506820678734,\"node_is_primary\":true},\"174\":{\"node_type\":\"multimarker\",\"x\":1288.8482055664062,\"y\":1107.025592803955},\"175\":{\"node_type\":\"midmarker\",\"x\":1291.9885864257812,\"y\":1463.0464668273926},\"176\":{\"node_type\":\"multimarker\",\"x\":1291.9885864257812,\"y\":1483.0464668273926},\"177\":{\"node_type\":\"metabolite\",\"x\":1291.9885864257812,\"y\":1638.0464668273926,\"bigg_id\":\"[B]_Mal_c\",\"name\":\"C4H4O5\",\"label_x\":1169.7308959960938,\"label_y\":1640.6761054992676,\"node_is_primary\":true},\"178\":{\"node_type\":\"multimarker\",\"x\":2985.7622680664062,\"y\":1110.07857131958},\"179\":{\"node_type\":\"midmarker\",\"x\":2988.9026489257812,\"y\":1466.0994453430176},\"180\":{\"node_type\":\"multimarker\",\"x\":2988.9026489257812,\"y\":1486.0994453430176},\"181\":{\"node_type\":\"metabolite\",\"x\":2988.9026489257812,\"y\":1641.0994453430176,\"bigg_id\":\"[B]_Pyr_c\",\"name\":\"C3H3O3\",\"label_x\":2880.2689819335938,\"label_y\":1681.0533027648926,\"node_is_primary\":true},\"182\":{\"node_type\":\"multimarker\",\"x\":3336.6189575195312,\"y\":1108.9669075012207},\"183\":{\"node_type\":\"midmarker\",\"x\":3339.7593383789062,\"y\":1464.9877815246582},\"184\":{\"node_type\":\"multimarker\",\"x\":3339.7593383789062,\"y\":1484.9877815246582},\"185\":{\"node_type\":\"metabolite\",\"x\":3339.7593383789062,\"y\":1639.9877815246582,\"bigg_id\":\"[B]_Asp_c\",\"name\":\"C4H6NO4\",\"label_x\":3345.0130004882812,\"label_y\":1683.7119026184082,\"node_is_primary\":true},\"186\":{\"node_type\":\"multimarker\",\"x\":3584.0829467773438,\"y\":1104.4651374816895},\"187\":{\"node_type\":\"midmarker\",\"x\":3587.2233276367188,\"y\":1460.486011505127},\"188\":{\"node_type\":\"multimarker\",\"x\":3587.2233276367188,\"y\":1480.486011505127},\"189\":{\"node_type\":\"metabolite\",\"x\":3587.2233276367188,\"y\":1635.486011505127,\"bigg_id\":\"[B]_Ala_c\",\"name\":\"C3H7NO2\",\"label_x\":3612.2233276367188,\"label_y\":1675.595630645752,\"node_is_primary\":true},\"194\":{\"node_type\":\"multimarker\",\"x\":3908.3513446201473,\"y\":-316.2150125791493},\"195\":{\"node_type\":\"midmarker\",\"x\":3898.1085792200147,\"y\":771.5875536590136},\"196\":{\"node_type\":\"multimarker\",\"x\":3898.3758235855084,\"y\":791.585768090534},\"197\":{\"node_type\":\"metabolite\",\"x\":3900.378852183705,\"y\":1632.682305339183,\"bigg_id\":\"[B]_CO2_ex_c\",\"name\":\"\",\"label_x\":3929.7264351915173,\"label_y\":1642.183770182933,\"node_is_primary\":true},\"230\":{\"node_type\":\"multimarker\",\"x\":2760.4410485212625,\"y\":1107.8901944322583},\"231\":{\"node_type\":\"midmarker\",\"x\":2763.362734164408,\"y\":1463.9098727300116},\"232\":{\"node_type\":\"multimarker\",\"x\":2763.1440389481786,\"y\":1483.9086770043273},\"233\":{\"node_type\":\"metabolite\",\"x\":2761.4491510224,\"y\":1638.899410130277,\"bigg_id\":\"[B]_PEP_c\",\"name\":\"C3H2O6P\",\"label_x\":2724.9795221161503,\"label_y\":1683.7076376693394,\"node_is_primary\":true},\"242\":{\"node_type\":\"multimarker\",\"x\":69.2252311706543,\"y\":214.16918563842796},\"243\":{\"node_type\":\"midmarker\",\"x\":69.2252311706543,\"y\":234.16918563842796},\"244\":{\"node_type\":\"multimarker\",\"x\":69.2252311706543,\"y\":254.16918563842796},\"246\":{\"node_type\":\"multimarker\",\"x\":-1387.9415445666696,\"y\":570.1724733573891},\"247\":{\"node_type\":\"midmarker\",\"x\":-1387.9115005987562,\"y\":590.172450791376},\"248\":{\"node_type\":\"multimarker\",\"x\":-1387.8814566308424,\"y\":610.1724282253638},\"249\":{\"node_type\":\"metabolite\",\"x\":-1390.436671299435,\"y\":1639.483837811419,\"bigg_id\":\"[B]_GCA_c\",\"name\":\"C2H3O3\",\"label_x\":-1373.87529434631,\"label_y\":1681.5857665223566,\"node_is_primary\":true},\"250\":{\"node_type\":\"multimarker\",\"x\":-1148.4550216573195,\"y\":555.3234787943106},\"251\":{\"node_type\":\"midmarker\",\"x\":-1148.894439839888,\"y\":575.3186510031423},\"252\":{\"node_type\":\"multimarker\",\"x\":-1149.3338580224572,\"y\":595.3138232119738},\"253\":{\"node_type\":\"metabolite\",\"x\":-1155.5274043572886,\"y\":1634.4687296077614,\"bigg_id\":\"[B]_GCEA_c\",\"name\":\"C3H5O4\",\"label_x\":-1133.8562617791636,\"label_y\":1674.4687296077614,\"node_is_primary\":true},\"254\":{\"node_type\":\"multimarker\",\"x\":-867.1783315057912,\"y\":562.220728790473},\"255\":{\"node_type\":\"midmarker\",\"x\":-867.2743834476016,\"y\":582.2204981397549},\"256\":{\"node_type\":\"multimarker\",\"x\":-867.3704353894125,\"y\":602.2202674890368},\"257\":{\"node_type\":\"metabolite\",\"x\":-870.9028933583668,\"y\":1637.458531215502,\"bigg_id\":\"[B]_PGA_c\",\"name\":\"C3H4O7P\",\"label_x\":-838.480737596648,\"label_y\":1681.7884872701895,\"node_is_primary\":true},\"270\":{\"node_type\":\"multimarker\",\"x\":2194.243338337141,\"y\":3921.0903811942035},\"271\":{\"node_type\":\"midmarker\",\"x\":2194.4680783213207,\"y\":3920.9236191061273},\"272\":{\"node_type\":\"multimarker\",\"x\":-866.1605142140293,\"y\":3917.69533358055},\"276\":{\"node_type\":\"multimarker\",\"x\":68.78190231323242,\"y\":568.1180992126467},\"277\":{\"node_type\":\"midmarker\",\"x\":68.78190231323242,\"y\":588.1180992126467},\"278\":{\"node_type\":\"multimarker\",\"x\":68.78190231323242,\"y\":608.1180992126467},\"279\":{\"node_type\":\"metabolite\",\"x\":68.78190231323242,\"y\":763.1180992126467,\"bigg_id\":\"[M]_DHAP_c\",\"name\":\"C3H5O6P\",\"label_x\":93.78190231323242,\"label_y\":763.1180992126467,\"node_is_primary\":true},\"282\":{\"node_type\":\"multimarker\",\"x\":68.78190231323242,\"y\":1033.5127525329592},\"283\":{\"node_type\":\"midmarker\",\"x\":68.78190231323242,\"y\":1053.5127525329592},\"284\":{\"node_type\":\"multimarker\",\"x\":68.78190231323242,\"y\":1073.5127525329592},\"285\":{\"node_type\":\"metabolite\",\"x\":69.94613265991211,\"y\":1637.6511802673342,\"bigg_id\":\"[B]_DHAP_c\",\"name\":\"C3H5O6P\",\"label_x\":98.89843368530273,\"label_y\":1641.6035728454592,\"node_is_primary\":true},\"286\":{\"node_type\":\"multimarker\",\"x\":-106.65208435058594,\"y\":208.2407493591311},\"287\":{\"node_type\":\"midmarker\",\"x\":-106.65208435058594,\"y\":228.2407493591311},\"288\":{\"node_type\":\"multimarker\",\"x\":-106.65208435058594,\"y\":248.2407493591311},\"289\":{\"node_type\":\"metabolite\",\"x\":-112.58052825927734,\"y\":758.9476585388186,\"bigg_id\":\"[M]_GAP_c\",\"name\":\"C3H5O6P\",\"label_x\":-87.58052825927734,\"label_y\":758.9476585388186,\"node_is_primary\":true},\"292\":{\"node_type\":\"multimarker\",\"x\":-112.58052825927734,\"y\":1029.342311859131},\"293\":{\"node_type\":\"midmarker\",\"x\":-112.58052825927734,\"y\":1049.342311859131},\"294\":{\"node_type\":\"multimarker\",\"x\":-112.58052825927734,\"y\":1069.342311859131},\"295\":{\"node_type\":\"metabolite\",\"x\":-111.41629791259766,\"y\":1633.480739593506,\"bigg_id\":\"[B]_GAP_c\",\"name\":\"C3H5O6P\",\"label_x\":-86.41629791259766,\"label_y\":1639.409206390381,\"node_is_primary\":true},\"296\":{\"node_type\":\"multimarker\",\"x\":-715.9028933583668,\"y\":1637.458531215502},\"297\":{\"node_type\":\"midmarker\",\"x\":-695.9028933583668,\"y\":1637.458531215502},\"298\":{\"node_type\":\"multimarker\",\"x\":-675.9028933583668,\"y\":1637.458531215502},\"301\":{\"node_type\":\"metabolite\",\"x\":-520.9028933583668,\"y\":1637.458531215502,\"bigg_id\":\"[B]_DPGA_c\",\"name\":\"C3H4O10P2\",\"label_x\":-569.5028933583668,\"label_y\":1683.764439418627,\"node_is_primary\":true},\"302\":{\"node_type\":\"multimarker\",\"x\":-325.9028933583668,\"y\":1637.458531215502},\"303\":{\"node_type\":\"midmarker\",\"x\":-345.9028933583668,\"y\":1637.458531215502},\"304\":{\"node_type\":\"multimarker\",\"x\":-365.9028933583668,\"y\":1637.458531215502},\"310\":{\"node_type\":\"multimarker\",\"x\":-22.48956298828125,\"y\":1788.480739593506},\"311\":{\"node_type\":\"midmarker\",\"x\":-22.48956298828125,\"y\":1808.480739593506},\"312\":{\"node_type\":\"multimarker\",\"x\":-22.48956298828125,\"y\":1828.480739593506},\"314\":{\"node_type\":\"metabolite\",\"x\":-21.10772132873535,\"y\":1983.480739593506,\"bigg_id\":\"[B]_FBP_c\",\"name\":\"C6H10O12P2\",\"label_x\":-153.0286159515381,\"label_y\":1988.1649436950686,\"node_is_primary\":true},\"318\":{\"node_type\":\"metabolite\",\"x\":-19.393872261047363,\"y\":2155.3404808044434,\"bigg_id\":\"[B]_F6P_c\",\"name\":\"C6H11O9P\",\"label_x\":-150.5096960067749,\"label_y\":2175.1019554138184,\"node_is_primary\":true},\"337\":{\"node_type\":\"multimarker\",\"x\":112.03338623046875,\"y\":1978.676296234131},\"338\":{\"node_type\":\"midmarker\",\"x\":132.03338623046875,\"y\":1978.676296234131},\"339\":{\"node_type\":\"multimarker\",\"x\":152.03338623046875,\"y\":1978.676296234131},\"340\":{\"node_type\":\"metabolite\",\"x\":307.03338623046875,\"y\":1978.676296234131,\"bigg_id\":\"[B]_G6P_c\",\"name\":\"C6H11O9P\",\"label_x\":258.4333862304687,\"label_y\":2018.676296234131,\"node_is_primary\":true},\"341\":{\"node_type\":\"multimarker\",\"x\":462.03338623046875,\"y\":1978.676296234131},\"342\":{\"node_type\":\"midmarker\",\"x\":482.03338623046875,\"y\":1978.676296234131},\"343\":{\"node_type\":\"multimarker\",\"x\":502.03338623046875,\"y\":1978.676296234131},\"344\":{\"node_type\":\"metabolite\",\"x\":657.0333862304688,\"y\":1978.676296234131,\"bigg_id\":\"[B]_G1P_c\",\"name\":\"C6H11O9P\",\"label_x\":626.415625,\"label_y\":1942.0152854919436,\"node_is_primary\":true},\"345\":{\"node_type\":\"multimarker\",\"x\":599.3300554841104,\"y\":2073.788604110877},\"346\":{\"node_type\":\"midmarker\",\"x\":579.3357543945312,\"y\":2074.2660179138184},\"347\":{\"node_type\":\"multimarker\",\"x\":559.3414533049521,\"y\":2074.74343171676},\"352\":{\"node_type\":\"multimarker\",\"x\":133.77105712890625,\"y\":2152.5775413513184},\"353\":{\"node_type\":\"midmarker\",\"x\":153.77105712890625,\"y\":2152.5775413513184},\"354\":{\"node_type\":\"multimarker\",\"x\":173.77105712890625,\"y\":2152.5775413513184},\"355\":{\"node_type\":\"metabolite\",\"x\":328.77105712890625,\"y\":2152.5775413513184,\"bigg_id\":\"[B]_S6P_c\",\"name\":\"C12H21O14P\",\"label_x\":280.1710571289062,\"label_y\":2192.5775413513184,\"node_is_primary\":true},\"356\":{\"node_type\":\"metabolite\",\"x\":276.028263092041,\"y\":2072.5094261169434,\"bigg_id\":\"[B]_UDPG_c\",\"name\":\"C15H22N2O17P2\",\"label_x\":222.02826309204102,\"label_y\":2112.5094261169434,\"node_is_primary\":true},\"358\":{\"node_type\":\"multimarker\",\"x\":483.77105712890625,\"y\":2152.5775413513184},\"359\":{\"node_type\":\"midmarker\",\"x\":503.77105712890625,\"y\":2152.5775413513184},\"360\":{\"node_type\":\"multimarker\",\"x\":523.7710571289062,\"y\":2152.5775413513184},\"363\":{\"node_type\":\"metabolite\",\"x\":769.1104125976562,\"y\":2151.631130218506,\"bigg_id\":\"[B]_Suc_c\",\"name\":\"C12H22O11\",\"label_x\":725.9104125976562,\"label_y\":2191.631130218506,\"node_is_primary\":true},\"396\":{\"node_type\":\"multimarker\",\"x\":1446.9885864257812,\"y\":1638.0464668273926},\"397\":{\"node_type\":\"midmarker\",\"x\":1466.9885864257812,\"y\":1638.0464668273926},\"398\":{\"node_type\":\"multimarker\",\"x\":1486.9885864257812,\"y\":1638.0464668273926},\"402\":{\"node_type\":\"metabolite\",\"x\":1582.4837036132812,\"y\":1636.402057647705,\"bigg_id\":\"[B]_OAA_c\",\"name\":\"C4H2O5\",\"label_x\":1542.0540649414063,\"label_y\":1606.7176094055176,\"node_is_primary\":true},\"442\":{\"node_type\":\"multimarker\",\"x\":2403.4094848632812,\"y\":1636.402057647705},\"443\":{\"node_type\":\"midmarker\",\"x\":2423.4094848632812,\"y\":1636.402057647705},\"444\":{\"node_type\":\"multimarker\",\"x\":2443.4094848632812,\"y\":1636.402057647705},\"447\":{\"node_type\":\"metabolite\",\"x\":2479.2601928710938,\"y\":1474.2293281555176,\"bigg_id\":\"[B]_CO2_c\",\"name\":\"CO2\",\"label_x\":2503.5758422851563,\"label_y\":1451.1131172180176,\"node_is_primary\":true},\"449\":{\"node_type\":\"multimarker\",\"x\":3180.1638793945312,\"y\":1833.8238410949707},\"450\":{\"node_type\":\"midmarker\",\"x\":3180.1638793945312,\"y\":1813.8238410949707},\"451\":{\"node_type\":\"multimarker\",\"x\":3180.1638793945312,\"y\":1793.8238410949707},\"468\":{\"node_type\":\"metabolite\",\"x\":2557.254638671875,\"y\":2644.2354736328125,\"bigg_id\":\"[B]_Mal_h\",\"name\":\"C4H4O5\",\"label_x\":2581.18212890625,\"label_y\":2620.6953125,\"node_is_primary\":true},\"470\":{\"node_type\":\"metabolite\",\"x\":2990.5491943359375,\"y\":2644.2545166015625,\"bigg_id\":\"[B]_Pyr_h\",\"name\":\"C3H3O3\",\"label_x\":2963.0924072265625,\"label_y\":2695.6025390625,\"node_is_primary\":true},\"471\":{\"node_type\":\"multimarker\",\"x\":2769.9520263671875,\"y\":2648.5093994140625},\"472\":{\"node_type\":\"midmarker\",\"x\":2789.9520263671875,\"y\":2648.5093994140625},\"473\":{\"node_type\":\"multimarker\",\"x\":2809.9520263671875,\"y\":2648.5093994140625},\"474\":{\"node_type\":\"metabolite\",\"x\":2991.3847045898438,\"y\":2787.396728515625,\"bigg_id\":\"[B]_CO2_h\",\"name\":\"CO2\",\"label_x\":2964.9905639648437,\"label_y\":2845.26123046875,\"node_is_primary\":true},\"483\":{\"node_type\":\"metabolite\",\"x\":2412.8193359375,\"y\":3045.95849609375,\"bigg_id\":\"[B]_PGA_h\",\"name\":\"C3H4O7P\",\"label_x\":2281.2621337890623,\"label_y\":3018.58154296875,\"node_is_primary\":true},\"485\":{\"node_type\":\"multimarker\",\"x\":2854.87060546875,\"y\":3048.09765625},\"486\":{\"node_type\":\"midmarker\",\"x\":2834.87060546875,\"y\":3048.09765625},\"487\":{\"node_type\":\"multimarker\",\"x\":2814.87060546875,\"y\":3048.09765625},\"491\":{\"node_type\":\"metabolite\",\"x\":2989.6767578125,\"y\":3153.792236328125,\"bigg_id\":\"[B]_RuBP_h\",\"name\":\"C5H8O11P2\",\"label_x\":3022.277099609375,\"label_y\":3162.3876953125,\"node_is_primary\":true},\"492\":{\"node_type\":\"multimarker\",\"x\":2853.3896484375,\"y\":3255.618896484375},\"493\":{\"node_type\":\"midmarker\",\"x\":2833.3896484375,\"y\":3255.618896484375},\"494\":{\"node_type\":\"multimarker\",\"x\":2813.3896484375,\"y\":3255.618896484375},\"496\":{\"node_type\":\"metabolite\",\"x\":2990.55126953125,\"y\":3251.52490234375,\"bigg_id\":\"[B]_O2_h\",\"name\":\"O2\",\"label_x\":2955.9162109375,\"label_y\":3300.0439453125,\"node_is_primary\":true},\"498\":{\"node_type\":\"metabolite\",\"x\":2663.6771240234375,\"y\":3254.728515625,\"bigg_id\":\"[B]_PGCA_h\",\"name\":\"C2H2O6P\",\"label_x\":2514.6353515625,\"label_y\":3266.859130859375,\"node_is_primary\":true},\"499\":{\"node_type\":\"multimarker\",\"x\":2663.6771240234375,\"y\":3409.728515625},\"500\":{\"node_type\":\"midmarker\",\"x\":2663.6771240234375,\"y\":3429.728515625},\"501\":{\"node_type\":\"multimarker\",\"x\":2663.6771240234375,\"y\":3449.728515625},\"502\":{\"node_type\":\"metabolite\",\"x\":2663.6771240234375,\"y\":3604.728515625,\"bigg_id\":\"[B]_GCA_h\",\"name\":\"C2H3O3\",\"label_x\":2688.6771240234375,\"label_y\":3604.728515625,\"node_is_primary\":true},\"505\":{\"node_type\":\"multimarker\",\"x\":2669.2251141405523,\"y\":4011.6717281076853},\"506\":{\"node_type\":\"midmarker\",\"x\":585.5106201171875,\"y\":4005.08251953125},\"507\":{\"node_type\":\"multimarker\",\"x\":-1388.090531621021,\"y\":4003.8700199391897},\"509\":{\"node_type\":\"multimarker\",\"x\":3900.378852183705,\"y\":1787.682305339183},\"510\":{\"node_type\":\"midmarker\",\"x\":3900.378852183705,\"y\":1807.682305339183},\"511\":{\"node_type\":\"multimarker\",\"x\":3900.378852183705,\"y\":1827.682305339183},\"512\":{\"node_type\":\"metabolite\",\"x\":3897.963813121205,\"y\":3047.424126628245,\"bigg_id\":\"[B]_CO2_ex_h\",\"name\":\"\",\"label_x\":3922.963813121205,\"label_y\":3047.424126628245,\"node_is_primary\":true},\"517\":{\"node_type\":\"multimarker\",\"x\":2840.6141967773438,\"y\":2879.277587890625},\"518\":{\"node_type\":\"midmarker\",\"x\":2820.6141967773438,\"y\":2879.277587890625},\"519\":{\"node_type\":\"multimarker\",\"x\":2800.6141967773438,\"y\":2879.277587890625},\"538\":{\"node_type\":\"multimarker\",\"x\":2986.3092651367188,\"y\":2275.8533515930176},\"539\":{\"node_type\":\"midmarker\",\"x\":2986.3092651367188,\"y\":2295.8533515930176},\"540\":{\"node_type\":\"multimarker\",\"x\":2986.3092651367188,\"y\":2315.8533515930176},\"544\":{\"node_type\":\"multimarker\",\"x\":1437.9448852539062,\"y\":2295.60200881958},\"545\":{\"node_type\":\"midmarker\",\"x\":1435.1012573242188,\"y\":2296.454792022705},\"546\":{\"node_type\":\"multimarker\",\"x\":1436.9970092773438,\"y\":2297.3074531555176},\"547\":{\"node_type\":\"metabolite\",\"x\":1290.5658569335938,\"y\":2644.02339553833,\"bigg_id\":\"[B]_Mal_m\",\"name\":\"C4H4O5\",\"label_x\":1157.2743530273438,\"label_y\":2650.658405303955,\"node_is_primary\":true},\"549\":{\"node_type\":\"metabolite\",\"x\":1582.3945922851562,\"y\":2643.2093086242676,\"bigg_id\":\"[B]_OAA_m\",\"name\":\"C4H2O5\",\"label_x\":1611.3456420898438,\"label_y\":2652.3565254211426,\"node_is_primary\":true},\"550\":{\"node_type\":\"multimarker\",\"x\":1443.6730346679688,\"y\":2644.969928741455},\"551\":{\"node_type\":\"midmarker\",\"x\":1463.6730346679688,\"y\":2644.969928741455},\"552\":{\"node_type\":\"multimarker\",\"x\":1483.6730346679688,\"y\":2644.969928741455},\"558\":{\"node_type\":\"multimarker\",\"x\":1970.4468994140625,\"y\":2295.3272705078125},\"559\":{\"node_type\":\"midmarker\",\"x\":1990.4468994140625,\"y\":2295.3272705078125},\"560\":{\"node_type\":\"multimarker\",\"x\":2010.4468994140625,\"y\":2295.3272705078125},\"563\":{\"node_type\":\"metabolite\",\"x\":1818.0286865234375,\"y\":2644.4102783203125,\"bigg_id\":\"[B]_OAA_h\",\"name\":\"C4H2O5\",\"label_x\":1839.56943359375,\"label_y\":2618.6732177734375,\"node_is_primary\":true},\"564\":{\"node_type\":\"multimarker\",\"x\":2135.7994384765625,\"y\":2645.3541259765625},\"565\":{\"node_type\":\"midmarker\",\"x\":2155.7994384765625,\"y\":2645.3541259765625},\"566\":{\"node_type\":\"multimarker\",\"x\":2175.7994384765625,\"y\":2645.3541259765625},\"571\":{\"node_type\":\"multimarker\",\"x\":2182.87646484375,\"y\":2788.6236572265625},\"572\":{\"node_type\":\"midmarker\",\"x\":2162.87646484375,\"y\":2788.6236572265625},\"573\":{\"node_type\":\"multimarker\",\"x\":2142.87646484375,\"y\":2788.6236572265625},\"578\":{\"node_type\":\"multimarker\",\"x\":1564.0972089735876,\"y\":2817.3817224328563},\"579\":{\"node_type\":\"midmarker\",\"x\":1544.0982055664062,\"y\":2817.5813789367676},\"580\":{\"node_type\":\"multimarker\",\"x\":1524.099202159225,\"y\":2817.781035440679},\"581\":{\"node_type\":\"metabolite\",\"x\":1585.8931274414062,\"y\":3365.1145820617676,\"bigg_id\":\"[B]_Ala_m\",\"name\":\"C3H7NO2\",\"label_x\":1612.2485961914062,\"label_y\":3370.6297187805176,\"node_is_primary\":true},\"582\":{\"node_type\":\"metabolite\",\"x\":1495.1290893554688,\"y\":3367.6228828430176,\"bigg_id\":\"[B]_Asp_m\",\"name\":\"C4H6NO4\",\"label_x\":1360.6655883789062,\"label_y\":3373.2732734680176,\"node_is_primary\":true},\"584\":{\"node_type\":\"multimarker\",\"x\":1290.5658569335938,\"y\":2799.02339553833},\"585\":{\"node_type\":\"midmarker\",\"x\":1290.5658569335938,\"y\":2819.02339553833},\"586\":{\"node_type\":\"multimarker\",\"x\":1290.5658569335938,\"y\":2839.02339553833},\"587\":{\"node_type\":\"metabolite\",\"x\":1290.5658569335938,\"y\":2994.02339553833,\"bigg_id\":\"[B]_CO2_m\",\"name\":\"CO2\",\"label_x\":1306.0503540039062,\"label_y\":3052.37398147583,\"node_is_primary\":true},\"590\":{\"node_type\":\"metabolite\",\"x\":1401.4198608398438,\"y\":2818.55171585083,\"bigg_id\":\"[B]_Pyr_m\",\"name\":\"C3H3O3\",\"label_x\":1345.5322875976562,\"label_y\":2859.22456741333,\"node_is_primary\":true},\"591\":{\"node_type\":\"multimarker\",\"x\":1046.1943089173585,\"y\":1472.9092479875703},\"592\":{\"node_type\":\"midmarker\",\"x\":1049.3782348632812,\"y\":2996.947956085205},\"593\":{\"node_type\":\"multimarker\",\"x\":1069.3779567076415,\"y\":2997.0534366437773},\"595\":{\"node_type\":\"multimarker\",\"x\":3098.3270874023438,\"y\":1478.5565185546875},\"596\":{\"node_type\":\"midmarker\",\"x\":3093.0409545898438,\"y\":2785.986328125},\"597\":{\"node_type\":\"multimarker\",\"x\":3073.0409545898438,\"y\":2785.986328125},\"599\":{\"node_type\":\"multimarker\",\"x\":2412.8193359375,\"y\":3240.95849609375},\"600\":{\"node_type\":\"midmarker\",\"x\":2412.8193359375,\"y\":3220.95849609375},\"601\":{\"node_type\":\"multimarker\",\"x\":2412.8193359375,\"y\":3200.95849609375},\"604\":{\"node_type\":\"metabolite\",\"x\":2416.380859375,\"y\":3608.565673828125,\"bigg_id\":\"[B]_GCEA_h\",\"name\":\"C3H5O4\",\"label_x\":2262.5361328125,\"label_y\":3617.91015625,\"node_is_primary\":true},\"606\":{\"node_type\":\"multimarker\",\"x\":-1152.7506561279297,\"y\":3957.41357421875},\"607\":{\"node_type\":\"midmarker\",\"x\":2417.4188232421875,\"y\":3978.152587890625},\"608\":{\"node_type\":\"multimarker\",\"x\":2418.4820556640625,\"y\":3977.68505859375},\"618\":{\"node_type\":\"metabolite\",\"x\":1037.958740234375,\"y\":3649.8497314453125,\"bigg_id\":\"[B]_Gly_m\",\"name\":\"C2H5NO2\",\"label_x\":981.4137906870253,\"label_y\":3703.9325379529273,\"node_is_primary\":true},\"619\":{\"node_type\":\"multimarker\",\"x\":892.2216796875,\"y\":3566.7843017578125},\"620\":{\"node_type\":\"midmarker\",\"x\":892.2216796875,\"y\":3546.7843017578125},\"621\":{\"node_type\":\"multimarker\",\"x\":892.2216796875,\"y\":3526.7843017578125},\"625\":{\"node_type\":\"metabolite\",\"x\":892.2216796875,\"y\":3371.7843017578125,\"bigg_id\":\"[B]_THF_m\",\"name\":\"C19H21N7O6\",\"label_x\":907.8795166015625,\"label_y\":3406.3507080078125,\"node_is_primary\":true},\"626\":{\"node_type\":\"multimarker\",\"x\":892.2216796875,\"y\":3216.7843017578125},\"627\":{\"node_type\":\"midmarker\",\"x\":892.2216796875,\"y\":3196.7843017578125},\"628\":{\"node_type\":\"multimarker\",\"x\":892.2216796875,\"y\":3176.7843017578125},\"629\":{\"node_type\":\"metabolite\",\"x\":1044.0311279296875,\"y\":3102.3604736328125,\"bigg_id\":\"[B]_DHP_m\",\"name\":\"C8H16NOS2R\",\"label_x\":1000.833740234375,\"label_y\":3074.3341064453125,\"node_is_primary\":true},\"633\":{\"node_type\":\"multimarker\",\"x\":1186.4984130859375,\"y\":3229.3336181640625},\"634\":{\"node_type\":\"midmarker\",\"x\":1186.4984130859375,\"y\":3249.3336181640625},\"635\":{\"node_type\":\"multimarker\",\"x\":1186.4984130859375,\"y\":3269.3336181640625},\"637\":{\"node_type\":\"metabolite\",\"x\":1185.564208984375,\"y\":3372.9522705078125,\"bigg_id\":\"[B]_LPL_m\",\"name\":\"C8H14NOS2R\",\"label_x\":1210.564208984375,\"label_y\":3372.9522705078125,\"node_is_primary\":true},\"640\":{\"node_type\":\"multimarker\",\"x\":1186.4984130859375,\"y\":3579.3336181640625},\"641\":{\"node_type\":\"midmarker\",\"x\":1186.4984130859375,\"y\":3599.3336181640625},\"642\":{\"node_type\":\"multimarker\",\"x\":1186.4984130859375,\"y\":3619.3336181640625},\"651\":{\"node_type\":\"metabolite\",\"x\":-298.91006088256836,\"y\":3576.8892822265625,\"bigg_id\":\"[B]_GLX_p\",\"name\":\"C2HO3\",\"label_x\":-347.5100608825684,\"label_y\":3616.8892822265625,\"node_is_primary\":true},\"654\":{\"node_type\":\"multimarker\",\"x\":-143.91007614135742,\"y\":3511.1258544921875},\"655\":{\"node_type\":\"midmarker\",\"x\":-123.91007614135742,\"y\":3511.1258544921875},\"656\":{\"node_type\":\"multimarker\",\"x\":-103.91007614135742,\"y\":3511.1258544921875},\"657\":{\"node_type\":\"metabolite\",\"x\":41.25631332397461,\"y\":3649.8929443359375,\"bigg_id\":\"[B]_Gly_p\",\"name\":\"C2H5NO2\",\"label_x\":-7.343686676025413,\"label_y\":3689.8929443359375,\"node_is_primary\":true},\"658\":{\"node_type\":\"metabolite\",\"x\":51.08992385864258,\"y\":3511.1258544921875,\"bigg_id\":\"[B]_HPR_p\",\"name\":\"C3H3O4\",\"label_x\":2.4899238586425554,\"label_y\":3551.1258544921875,\"node_is_primary\":true},\"660\":{\"node_type\":\"multimarker\",\"x\":-145.3092918395996,\"y\":3649.6485595703125},\"661\":{\"node_type\":\"midmarker\",\"x\":-125.30929183959961,\"y\":3649.6485595703125},\"662\":{\"node_type\":\"multimarker\",\"x\":-105.30929183959961,\"y\":3649.6485595703125},\"666\":{\"node_type\":\"multimarker\",\"x\":51.08992385864258,\"y\":3356.1258544921875},\"667\":{\"node_type\":\"midmarker\",\"x\":51.08992385864258,\"y\":3336.1258544921875},\"668\":{\"node_type\":\"multimarker\",\"x\":51.08992385864258,\"y\":3316.1258544921875},\"669\":{\"node_type\":\"metabolite\",\"x\":51.08992385864258,\"y\":3161.1258544921875,\"bigg_id\":\"[B]_GCEA_p\",\"name\":\"C3H5O4\",\"label_x\":76.08992385864258,\"label_y\":3161.1258544921875,\"node_is_primary\":true},\"673\":{\"node_type\":\"multimarker\",\"x\":-143.91007614135742,\"y\":3161.1258544921875},\"674\":{\"node_type\":\"midmarker\",\"x\":-123.91007614135742,\"y\":3161.1258544921875},\"675\":{\"node_type\":\"multimarker\",\"x\":-103.91007614135742,\"y\":3161.1258544921875},\"680\":{\"node_type\":\"multimarker\",\"x\":236.2563133239746,\"y\":3649.8929443359375},\"681\":{\"node_type\":\"midmarker\",\"x\":216.2563133239746,\"y\":3649.8929443359375},\"682\":{\"node_type\":\"multimarker\",\"x\":196.2563133239746,\"y\":3649.8929443359375},\"683\":{\"node_type\":\"metabolite\",\"x\":511.5890922546387,\"y\":3648.4937744140625,\"bigg_id\":\"[B]_Gly_c\",\"name\":\"C2H5NO2\",\"label_x\":462.98909225463865,\"label_y\":3688.4937744140625,\"node_is_primary\":true},\"684\":{\"node_type\":\"multimarker\",\"x\":653.9961395263672,\"y\":3648.4940185546875},\"685\":{\"node_type\":\"midmarker\",\"x\":673.9961395263672,\"y\":3648.4940185546875},\"686\":{\"node_type\":\"multimarker\",\"x\":693.9961395263672,\"y\":3648.4940185546875},\"690\":{\"node_type\":\"multimarker\",\"x\":-846.7085227966309,\"y\":3301.2432861328125},\"691\":{\"node_type\":\"midmarker\",\"x\":-826.7085227966309,\"y\":3301.2432861328125},\"692\":{\"node_type\":\"multimarker\",\"x\":-806.7085227966309,\"y\":3301.2432861328125},\"694\":{\"node_type\":\"multimarker\",\"x\":-300.3092613220215,\"y\":3460.2454833984375},\"695\":{\"node_type\":\"midmarker\",\"x\":-300.3092613220215,\"y\":3480.2454833984375},\"696\":{\"node_type\":\"multimarker\",\"x\":-300.3092613220215,\"y\":3500.2454833984375},\"697\":{\"node_type\":\"metabolite\",\"x\":-300.3092613220215,\"y\":3305.2454833984375,\"bigg_id\":\"[B]_GCA_p\",\"name\":\"C2H3O3\",\"label_x\":-275.3092613220215,\"label_y\":3305.2454833984375,\"node_is_primary\":true},\"701\":{\"node_type\":\"multimarker\",\"x\":-15.676542282104492,\"y\":858.5715942382812},\"702\":{\"node_type\":\"midmarker\",\"x\":-15.676542282104492,\"y\":878.5715942382812},\"703\":{\"node_type\":\"multimarker\",\"x\":-15.676542282104492,\"y\":898.5715942382812},\"704\":{\"node_type\":\"metabolite\",\"x\":-17.072267532348633,\"y\":1054.9673461914062,\"bigg_id\":\"[M]_FBP_c\",\"name\":\"C6H10O12P2\",\"label_x\":-63.25427055358887,\"label_y\":1106.6091918945312,\"node_is_primary\":true},\"706\":{\"node_type\":\"multimarker\",\"x\":51.39275932312012,\"y\":1054.9673461914062},\"707\":{\"node_type\":\"midmarker\",\"x\":71.39275932312012,\"y\":1054.9673461914062},\"708\":{\"node_type\":\"multimarker\",\"x\":91.39275932312012,\"y\":1054.9673461914062},\"709\":{\"node_type\":\"metabolite\",\"x\":246.39275932312012,\"y\":1054.9673461914062,\"bigg_id\":\"[M]_F6P_c\",\"name\":\"C6H11O9P\",\"label_x\":193.63478507995603,\"label_y\":1109.5203247070312,\"node_is_primary\":true},\"712\":{\"node_type\":\"multimarker\",\"x\":313.46203422546387,\"y\":1054.9673461914062},\"713\":{\"node_type\":\"midmarker\",\"x\":333.46203422546387,\"y\":1054.9673461914062},\"714\":{\"node_type\":\"multimarker\",\"x\":353.46203422546387,\"y\":1054.9673461914062},\"715\":{\"node_type\":\"metabolite\",\"x\":508.46203422546387,\"y\":1054.9673461914062,\"bigg_id\":\"[M]_S6P_c\",\"name\":\"C12H21O14P\",\"label_x\":459.86203422546384,\"label_y\":1111.5991821289062,\"node_is_primary\":true},\"718\":{\"node_type\":\"multimarker\",\"x\":576.9270000457764,\"y\":1054.9673461914062},\"719\":{\"node_type\":\"midmarker\",\"x\":596.9270000457764,\"y\":1054.9673461914062},\"720\":{\"node_type\":\"multimarker\",\"x\":616.9270000457764,\"y\":1054.9673461914062},\"723\":{\"node_type\":\"metabolite\",\"x\":771.9270000457764,\"y\":1054.9673461914062,\"bigg_id\":\"[M]_Suc_c\",\"name\":\"C12H22O11\",\"label_x\":807.7285259246826,\"label_y\":1059.6245727539062,\"node_is_primary\":true},\"724\":{\"node_type\":\"multimarker\",\"x\":771.9270000457764,\"y\":1209.9673461914062},\"725\":{\"node_type\":\"midmarker\",\"x\":771.9270000457764,\"y\":1229.9673461914062},\"726\":{\"node_type\":\"multimarker\",\"x\":771.9270000457764,\"y\":1249.9673461914062},\"728\":{\"node_type\":\"multimarker\",\"x\":1493.7348022460938,\"y\":3854.6458320617676},\"729\":{\"node_type\":\"midmarker\",\"x\":1493.7348022460938,\"y\":3874.6458320617676},\"730\":{\"node_type\":\"multimarker\",\"x\":3337.0399780273438,\"y\":3869.5474433898926},\"732\":{\"node_type\":\"multimarker\",\"x\":3586.7577514648438,\"y\":3825.2095527648926},\"733\":{\"node_type\":\"midmarker\",\"x\":1590.0761108398438,\"y\":3826.1245918273926},\"734\":{\"node_type\":\"multimarker\",\"x\":1590.0761108398438,\"y\":3806.1245918273926},\"743\":{\"node_type\":\"multimarker\",\"x\":-19.72587776184082,\"y\":2040.1764183044434},\"744\":{\"node_type\":\"midmarker\",\"x\":-19.725879669189453,\"y\":2058.7945823669434},\"745\":{\"node_type\":\"multimarker\",\"x\":-19.72588348388672,\"y\":2077.4127464294434},\"753\":{\"node_type\":\"multimarker\",\"x\":2860.192070944275,\"y\":1638.899410130277},\"754\":{\"node_type\":\"midmarker\",\"x\":2880.192070944275,\"y\":1638.899410130277},\"755\":{\"node_type\":\"multimarker\",\"x\":2900.192070944275,\"y\":1638.899410130277}},\"text_labels\":{},\"canvas\":{\"x\":-1559,\"y\":-1379,\"width\":6207.264892578125,\"height\":6713.53173828125}}]'),\n",
       "               model_data: JSON.parse('null'),\n",
       "               static_site_index: JSON.parse('null'),\n",
       "           };\n",
       "       }\n",
       "   })();\n",
       "  </script>\n"
      ],
      "text/plain": [
       "<IPython.core.display.HTML object>"
      ]
     },
     "metadata": {},
     "output_type": "display_data"
    },
    {
     "data": {
      "text/html": [
       "<h1>1 : 10.0</h1>"
      ],
      "text/plain": [
       "<IPython.core.display.HTML object>"
      ]
     },
     "metadata": {},
     "output_type": "display_data"
    },
    {
     "data": {
      "text/html": [
       "\n",
       "\n",
       "\n",
       "  \n",
       "  \n",
       "\n",
       "  \n",
       "  \n",
       "    <link rel=\"stylesheet\" href=\"//unpkg.com/escher-vis@1.6.0/css/dist/builder.min.css\"/>\n",
       "  \n",
       "\n",
       "\n",
       "\n",
       "  <div style=\"height: 1000px; width: 100%;\" id=\"ttktsmedft\"></div>\n",
       "\n",
       "  <script>\n",
       "   /* Closure to make sure data only applies to this map. */\n",
       "   (function() {\n",
       "       /* data from python */\n",
       "       var data = get_data();\n",
       "\n",
       "       function load_lib(url, callback) {\n",
       "           /** Dynamically load a JavaScript file */\n",
       "           var s = document.createElement('script');\n",
       "           s.src = url;\n",
       "           s.async = true;\n",
       "           s.onreadystatechange = s.onload = callback;\n",
       "           s.onerror = function() {\n",
       "               console.warn('Failed to load library ' + url);\n",
       "           };\n",
       "           document.getElementsByTagName('head')[0].appendChild(s);\n",
       "       }\n",
       "\n",
       "       function check_global_and_load(name, url, callback) {\n",
       "           /** Look for the name in the global scope. If it isn't present, then\n",
       "              load the library at url. Returns the object. */\n",
       "           if (window[name] !== undefined) {\n",
       "               callback(window[name]);\n",
       "           } else {\n",
       "               load_lib(url, function() {\n",
       "                   callback(window[name]);\n",
       "               });\n",
       "           }\n",
       "       }\n",
       "\n",
       "       function draw_escher(escher) {\n",
       "           /** Get data and draw */\n",
       "           var load = function(t_map_data, t_model_data, t_options) {\n",
       "               escher.Builder(t_map_data, t_model_data, data.builder_embed_css,\n",
       "                              escher.libs.d3_select('#' + data.id), t_options);\n",
       "           }\n",
       "\n",
       "           // for the static site, use the url attributes for the map and model\n",
       "           // information\n",
       "           if (data.static_site_index !== null) {\n",
       "               escher.static.load_map_model_from_url(data.map_download_url, data.model_download_url,\n",
       "                                                     data.static_site_index, data.options, load);\n",
       "           } else {\n",
       "               load(data.map_data, data.model_data, data.options);\n",
       "           }\n",
       "       }\n",
       "\n",
       "       // Load dependencies and draw\n",
       "       if (typeof define === 'function' && define.amd) {\n",
       "           // require.js is available: use it to load escher\n",
       "           require.config({\n",
       "             paths: {\n",
       "               escher: '//unpkg.com/escher-vis@1.6.0/js/dist/escher.min',\n",
       "             },\n",
       "             // Override urlArgs that adds ?v= to the end of the escher URL and\n",
       "             // messes up unpkg links. Honestly, I'm not sure if this will lead\n",
       "             // to downstream bugs in the notebook, but they really shouldn't be\n",
       "             // doing this cache-busting anyway.\n",
       "             urlArgs: null,\n",
       "           })\n",
       "           require([ 'escher' ], function(escher) {\n",
       "               draw_escher(escher);\n",
       "           })\n",
       "       } else {\n",
       "           // require.js not available: dynamically load escher\n",
       "           check_global_and_load('escher', '//unpkg.com/escher-vis@1.6.0/js/dist/escher.min.js', function(escher) {\n",
       "               draw_escher(escher);\n",
       "           })\n",
       "       }\n",
       "\n",
       "       // Put this at the end so Chrome doesn't cut off the code above.\n",
       "       function get_data() {\n",
       "           /** Return the data passed in by the Python module. */\n",
       "           return {\n",
       "               id: JSON.parse('\"ttktsmedft\"'),\n",
       "               map_download_url: JSON.parse('\"//escher.github.io/1-0-0/5/maps/\"'),\n",
       "               model_download_url: JSON.parse('\"//escher.github.io/1-0-0/5/models/\"'),\n",
       "               options: JSON.parse('{\"metabolite_data\": null, \"never_ask_before_quit\": true, \"enable_keys\": false, \"fill_screen\": false, \"enable_editing\": false, \"menu\": \"zoom\", \"gene_data\": null, \"reaction_styles\": [\"color\", \"size\"], \"reaction_data\": {\"[M]_PGAK_h\": 56.421866026606565, \"[M]_SerAcT_c\": 0.0, \"[B]_NDA2_1_m\": 0.0, \"[M]_AMT_m\": 0.064362838768733041, \"[B]_Ex_Arg_p\": 0.0, \"[M]_ArgSCAL_h\": 0.011158962913887637, \"[M]_Im_hnu\": 232.64171834286907, \"[M]_PGAK_c\": -0.82420613256340292, \"[MB]_Met_c\": 0.0, \"[M]_SerAcT_m\": 0.0, \"[M]_Tr_Ser1\": 0.05808592212966307, \"[B]_Ex_Arg_h\": 0.0, \"[M]_Tr_Ser2\": -0.0062769166390617926, \"[B]_Ex_Glu_h\": 0.0, \"[B]_DHLAcT_m\": 0.32221505413850826, \"[MB]_Thr_c\": 0.0041846110927082408, \"[B]_Ex_Trp_p\": 0.0, \"[B]_G6PDH_h\": 0.0, \"[M]_DPE11_h\": 0.0, \"[M]_Ex_Arg_m\": 0.0, \"[B]_Ex_Mas\": 0.0, \"[B]_PSII_h\": 18.865231275596201, \"[M]_Tr_His2\": 0.0027897407284719093, \"[M]_Tr_His3\": 0.0, \"[M]_GMPK_c\": 0.0, \"[B]_FTK_h\": 5.5217996405754084, \"[B]_ACPM_h\": 0.0, \"[M]_Tr_DTC1A\": 0.0, \"[B]_TPS_c\": 0.0, \"[B]_DHDS_h\": 0.012553833278123594, \"[M]_PGAM_h\": 0.0, \"[B]_Urease_m\": 0.0, \"[M]_Tr_BT12\": -0.98622216006667374, \"[M]_Tr_BT11\": 0.0, \"[M]_DPE13_h\": 0.0, \"[B]_Im_Pi\": 0.0, \"[M]_PGAM_c\": -0.91433752375669086, \"[MB]_KG_c\": 0.0, \"[M]_Ex_O2\": 26.135947446741749, \"[MB]_Gln_c\": 0.0, \"[M]_FGAMS_h\": 1.4792584424235105e-14, \"[M]_SerAcT_h\": 0.0, \"[M]_DHFR_c\": 0.0, \"[B]_Tr_Asp_OAA_hc\": 0.0, \"[B]_Tr_NO2\": 0.67121257356143815, \"[M]_6PGDHNADP_h\": 0.0, \"[M]_DAPDC_h\": 0.0, \"[M]_Ex_Met_p\": 0.0, \"[M]_IndGPS_h\": 0.0062769166390617935, \"[B]_AGPase_h\": 3.0687148013191008, \"[B]_Tr_Val1\": 0.0, \"[B]_Tr_Val2\": 0.016738444370831454, \"[B]_Tr_Val3\": 0.0, \"[MB]_GCA_c\": 2.236094721764462, \"[B]_Tr_PRPP\": 0.0, \"[M]_DHQDH_h\": 0.010461527731769655, \"[M]_Ex_Arg_c\": 0.0, \"[M]_Ex_Tre\": 0.0, \"[B]_SADH_h\": 0.0076717870032977529, \"[B]_HCO3DHA_c\": 0.0, \"[B]_Ex_Glc\": 0.0, \"[B]_ArgSCAL_h\": 0.0, \"[M]_cplx1_m\": 0.064362838768733041, \"[B]_RBO_h\": 1.266117736814949, \"[M]_DHOase_h\": 0.0, \"[B]_EPSPS_h\": 0.0076717870032977503, \"[B]_NGAM_h\": 0.152707083279744, \"[M]_GAPDH1_h\": 56.421866026606565, \"[M]_GABATA1_m\": 0.0, \"[B]_GluSeADA_m\": 0.0, \"[M]_PPiase_h\": -1.4787988220362556e-14, \"[M]_Tr_Phe1\": 0.0, \"[M]_cplx3_m\": 0.064362838768733041, \"[B]_Ex_Val_h\": 0.0, \"[B]_dTDPK_c\": 0.0, \"[M]_Tr_Ile3\": 0.0, \"[B]_BAATA2_h\": 0.008369222185415727, \"[B]_Ex_Arg_m\": 0.0, \"[M]_ADPRPPT_c\": 0.0, \"[B]_AspAT_p\": 0.0, \"[M]_AOX4_h\": 0.0, \"[M]_Tr_Phe2\": 0.0, \"[M]_ProDHNAD_m\": 0.0, \"[M]_Tr_NDT1\": 0.0, \"[B]_Tr_H2Op\": -3.5022124585794137, \"[B]_SerRM_c\": 0.0, \"[M]_PGP_h\": 2.6867555250765025, \"[B]_Tr_KG\": -1.6494206568824521, \"[B]_Tr_H2Oh\": 14.93484314309228, \"[M]_ALS3_h\": 0.0, \"[M]_BAATA2_h\": 0.0, \"[B]_Tr_H2Om\": 0.0, \"[B]_Ex_cellulose\": 0.0, \"[B]_GDPR_c\": 0.0, \"[M]_MalDH2_m\": 0.0, \"[B]_ALS3_h\": 0.025107666556247188, \"[B]_Ex_Suc\": 1.53435740065955, \"[B]_F26BPPh_c\": 0.0, \"[M]_MalDH4_h\": 0.0, \"[B]_PSI_h\": 75.460925102384806, \"[B]_GGAT_p\": 1.6494206568824523, \"[M]_ForTHFL_h\": 0.002789740728501495, \"[B]_GGAT_h\": 0.0, \"[M]_Tr_Trp2\": 0.0062769166390617926, \"[B]_5M_DASH_THFOR_c\": 0.004882046274825841, \"[M]_dGDPK_c\": 0.0, \"[M]_ALS1_h\": 0.0, \"[M]_MetS_c\": 0.0, \"[M]_Tr_Asp_mc\": 0.0, \"[B]_GARFT_h\": 0.0, \"[M]_Ex_Leu_h\": 0.0, \"[B]_Tr_H_Na_hc\": 0.0, \"[M]_CDPR_c\": 0.0, \"[M]_GluDC_c\": 0.0, \"[M]_Ex_Leu_c\": 0.0, \"[M]_IndGPL_h\": 0.0062769166390617926, \"[M]_NO2R_h\": 0.38470429216526425, \"[M]_NDA2_2_m\": 0.0, \"[M]_Ex_Arg_p\": 0.0, \"[M]_S6PS_c\": 1.5343574006595522, \"[MB]_Glc_c\": 0.0, \"[M]_Ex_Leu_p\": 0.0, \"[B]_AIRC_h\": 0.0, \"[B]_Tr_PXN3\": 0.0, \"[M]_Tr_NH41\": -0.31705307949974609, \"[B]_Tr_Pyr1\": 0.0, \"[B]_Ex_Pro_m\": 0.0, \"[M]_6PGDHNAD_h\": 0.0, \"[M]_Ex_Ser_c\": 0.0, \"[B]_AlaTA_m\": 0.0, \"[M]_Tr_Pro2\": 0.0, \"[B]_iCitL_p\": 0.0, \"[B]_Ex_Met_c\": 0.0, \"[B]_Tr_KG_Mal_mc\": -0.83196741178088818, \"[M]_Ex_Ser_h\": 0.0, \"[B]_CTPP_c\": 0.0, \"[M]_Tr_H2Om\": -0.20543160865027521, \"[M]_Ex_Tyr_c\": 0.0, \"[B]_Ex_Pro_c\": 0.0, \"[B]_PEPC1_c\": 0.0, \"[B]_Tr_Ala2\": 0.20434850836056734, \"[B]_Tr_TPT3\": -4.4369220735987763e-15, \"[M]_PyrDH1_m\": 0.0, \"[M]_Tr_Asp\": 0.0, \"[B]_ADPR_c\": 0.0, \"[M]_Tr_DIT2\": 0.0, \"[M]_cplx5_m\": 0.21454279589577679, \"[M]_PSII_h\": 29.080214792858637, \"[M]_Tr_NH42\": -0.064362838768733041, \"[M]_Tr_DIT1\": 0.011158962913887679, \"[B]_AlaTA_p\": 0.0, \"[B]_Ex_Phe_c\": 0.0, \"[M]_FBPA_c\": 1.6244887918528119, \"[M]_Tr_His1\": 0.0, \"[B]_AspAT2_p\": 0.0, \"[M]_PGI_c\": 0.0, \"[B]_Ex_Met_h\": 0.0, \"[B]_KARI12_h\": 0.0083692221854157305, \"[M]_FBPA_h\": 11.39579089688376, \"[B]_PSerAT_h\": 0.0, \"[M]_PGI_h\": 1.5343574006595542, \"[M]_Tr_DTC1B\": 0.0, \"[B]_Tr_ORO\": 0.0, \"[M]_ArgSCAS_h\": 0.011158962913887637, \"[M]_Ex_Arg_h\": 0.0, \"[B]_Tr_DTC2A\": 0.0, \"[M]_3IPMDA1_h\": 0.0, \"[B]_AspAT2_c\": -0.18551775844338483, \"[B]_Tr_DTC2B\": 0.0, \"[B]_AspAT2_m\": 0.32221505413850837, \"[MB]_Trp_c\": 0.0062769166390617935, \"[M]_Tr_SFC\": 0.0, \"[B]_AspAT2_h\": 0.0, \"[M]_Ex_starch\": 0.0, \"[M]_GSSGR_h\": 0.0, \"[M]_GluSeADH_m\": 0.0, \"[B]_Ex_Thr_p\": 0.0, \"[M]_PGM_c\": 1.5343574006595522, \"[M]_GluSeADH_h\": 0.0, \"[M]_P5CDHNADP_h\": 0.0, \"[B]_Cytb6f1_h\": 37.730462551192403, \"[M]_PGM_h\": 0.0, \"[B]_ADNK_c\": 0.0, \"[B]_PyrK_c\": 0.0, \"[M]_StS_h1\": 0.0, \"[M]_StS_h3\": 0.0, \"[M]_StS_h2\": 0.0, \"[M]_FrcFD_c\": 0.0, \"[B]_Ex_Thr_c\": 0.0, \"[M]_CTHL_h\": 0.0, \"[B]_Ex_Pro_p\": 0.0, \"[M]_Tr_BT13\": 0.98622216006668406, \"[M]_SO3R_h\": 0.0, \"[M]_Ex_Gln_m\": 0.0, \"[M]_Tr_iCit\": 0.0, \"[B]_PGR5PGRL11_h\": 0.0, \"[B]_ATPPRT_h\": 0.0, \"[B]_NDC1_1_h\": 0.0, \"[B]_DCAMPS_h\": 0.0, \"[B]_PyrK_h\": 0.0, \"[B]_ForTHFL_h\": 0.0, \"[M]_Ex_Thr_p\": 0.0, \"[MB]_Glu_c\": -0.011158962913887771, \"[M]_Tr_Met2\": 0.0, \"[MB]_Fum_c\": 0.0, \"[M]_Im_Pi\": 0.0, \"[M]_Tr_Met3\": 0.0, \"[M]_GluSNAD_h\": 0.0, \"[B]_ATase_h\": 0.0, \"[M]_Ex_Glu_p\": 0.0, \"[B]_AGluK\": 0.0, \"[B]_NGAM_m\": 0.0091111872455015702, \"[B]_IndGPS_h\": 2.0145487266508847e-18, \"[B]_Tr_Cit_iCit_mc\": 0.0, \"[B]_Tr_DTC4B\": 0.0, \"[M]_KGDH_m\": 0.0, \"[M]_HSerDHNADP_h\": 0.0041846110927082391, \"[M]_Tr_Phe3\": 0.0, \"[B]_3IPMDH_h\": 0.0083692221854157287, \"[B]_NGAM_c\": 0.050349979617494899, \"[B]_DAPE_h\": 0.01255383327812359, \"[M]_Tr_DTC2B\": 0.0, \"[B]_ALS1_h\": 0.033476888741662915, \"[M]_PrAMPCy_h\": 0.0027897407284719106, \"[M]_Tr_UCP\": -0.47522605606928359, \"[B]_ATPase_h\": 56.595693826788619, \"[B]_Tr_Trp1\": 0.0, \"[MB]_G6P_c\": 0.0, \"[B]_Tr_SO4\": 0.0048820462748258419, \"[M]_Ex_Asp_c\": 0.0, \"[B]_Tr_Hp\": 0.0, \"[M]_cACNHA_m\": 0.0, \"[M]_PGR5PGRL12_h\": 0.0, \"[M]_Ex_Met_m\": 0.0, \"[M]_cACNHA_h\": 0.0, \"[B]_bAMY1_h\": 0.0, \"[B]_3IPMDA2_h\": 0.008369222185415727, \"[M]_cACNHA_c\": 0.0, \"[M]_NDC1_1_h\": 0.0, \"[M]_Ex_Asp_m\": 0.0, \"[M]_Ex_Asp_p\": 0.0, \"[B]_Enol_h\": 0.10391784213555798, \"[B]_Tr_O2m\": 0.12616178985395843, \"[B]_Tr_Trp3\": 0.0, \"[B]_Tr_Trp2\": 0.0, \"[B]_ProDHNADP_m\": 0.0, \"[B]_DHODH_m\": 0.0, \"[B]_Ex_Met_m\": 0.0, \"[B]_Enol_c\": 0.0, \"[B]_Ex_Asp_p\": 0.0, \"[B]_Tr_Pro1\": 0.0, \"[M]_HEXK_c\": 0.0, \"[B]_Tr_Pyr3\": 0.0, \"[B]_CitS_c\": 0.0, \"[M]_Ex_Thr_m\": 0.0, \"[M]_Tr_ORO\": 0.0, \"[B]_CitS_m\": 0.32221505413850832, \"[B]_NDA2_2_m\": 0.0, \"[B]_BAATA3_h\": 0.016738444370831454, \"[B]_CitS_h\": 0.0, \"[B]_GluSeADH_c\": 0.0, \"[B]_FGAMS_h\": 0.0, \"[B]_S6PS_c\": -1.8067808671619648e-15, \"[B]_FGAMCL_h\": 0.0, \"[B]_AGNDH_h\": 0.0, \"[B]_IndGPL_h\": 1.8875902406725395e-18, \"[M]_UDPR_c\": 0.0, \"[B]_GluSeADH_h\": 0.0, \"[B]_Ex_Asp_m\": 0.0, \"[M]_DPE12_h\": 0.0, \"[M]_Tr_Glu1\": 0.39257488118236322, \"[B]_AlaTA_h\": 0.20434850836056737, \"[M]_OROPRT_c\": 0.0, \"[M]_AlaTA_p\": 0.0, \"[B]_Tr_ProU\": 0.0, \"[M]_Ex_Tyr_h\": 0.0, \"[M]_NDH1_h\": 0.0, \"[M]_Tr_H2Op\": -0.45066080331202618, \"[B]_Ex_starch\": 1.53435740065955, \"[B]_Tr_Pro2\": 0.0, \"[M]_AICARFT_h\": 0.0027897407284867021, \"[M]_AlaTA_c\": 0.0, \"[B]_Tr_ProA\": 0.0, \"[M]_PSerP_h\": 0.0, \"[M]_Tr_Tyr1\": 0.0, \"[B]_Tr_Ile2\": 0.008369222185415727, \"[B]_Tr_Ile1\": 0.0, \"[M]_AlaTA_h\": 0.0, \"[M]_AlaTA_m\": 0.0, \"[B]_HSerDHNAD_h\": 0.0083692221854157287, \"[B]_iCitDHNAD_m\": 0.0, \"[B]_CAT_p\": 1.7511062292897068, \"[M]_SGAT_p\": 0.05808592212966307, \"[B]_ATPSL_h\": 0.0048820462748258419, \"[B]_iCitDHNAD_c\": 0.0, \"[M]_MetAdT_c\": 0.0, \"[B]_Tr_P5C2\": 0.0, \"[B]_FumHA_c\": 0.0, \"[MB]_CO2_c\": 12.66117736814949, \"[M]_Ex_His_h\": 0.0, \"[B]_HCysMT_c\": 0.0, \"[B]_SAK_h\": 0.0076717870032977529, \"[M]_dUTPP_c\": 0.0, \"[M]_Ex_Ala_m\": 0.0, \"[B]_CAT_h\": 0.0, \"[B]_FumHA_m\": 0.0, \"[M]_Cytb6f2_h\": 58.160429585717274, \"[M]_Tr_DHO2\": 0.0, \"[M]_Tr_DHO1\": 0.0, \"[M]_MalDH1_m\": 0.0, \"[B]_dUDPK_c\": 0.0, \"[M]_Tr_BAC1\": 0.0, \"[M]_MalDH1_h\": -0.0027897407284529704, \"[MB]_Asn_c\": 0.0, \"[B]_R5PI_h\": 5.5141278535721314, \"[MB]_PEP_c\": -1.3123366955439706e-15, \"[M]_MalDH1_c\": 0.0, \"[M]_MalDH3_h\": 0.51121998849246952, \"[M]_Ex_His_c\": 0.0, \"[B]_Tr_GCA1\": 1.2661177368149492, \"[B]_ALS2_h\": 0.0083692221854157287, \"[M]_Tr_PLT5\": 0.0, \"[M]_MalDH1_p\": 0.0, \"[B]_Ex_Tyr_c\": 0.0, \"[M]_Tr_KG\": -0.39257488118236311, \"[B]_IPODC_h\": 0.008369222185415727, \"[B]_Tr_iCit\": 0.0, \"[B]_Ex_Cys_p\": 0.0, \"[M]_Ex_Cys_c\": 0.0, \"[M]_HisolPTA_h\": 0.0027897407284719106, \"[M]_Ex_Cys_h\": 0.0, \"[B]_Ex_Tyr_p\": 0.0, \"[B]_RibK_h\": 0.0, \"[B]_ProDHNAD_m\": 0.0, \"[B]_ANTS_h\": 1.1970124896648455e-18, \"[B]_GluDH3NADP_c\": -0.7926863314191066, \"[M]_SerRM_c\": 0.0, \"[B]_Ex_Gly_c\": 0.0, \"[M]_RBO_h\": 2.6867555250765021, \"[B]_GCEAK_h\": 1.9108777238266237, \"[B]_GDPK_h\": 0.0, \"[M]_Ex_Glu_m\": 0.0, \"[B]_PPIase_c\": 0.070440953393913888, \"[B]_GDPK_c\": 0.0, \"[B]_AspCT_h\": 0.0, \"[M]_Tr_Cys\": 0.0, \"[B]_Tr_Tyr3\": 0.0, \"[B]_Ex_Asp_h\": 0.0, \"[M]_Si_H_m\": 0.0, \"[M]_AIRC_h\": 1.4792584424235105e-14, \"[M]_IMPCH_h\": 0.0027897407284867021, \"[B]_Tr_Met2\": 0.0, \"[MB]_2PGA_c\": 0.0, \"[B]_Ex_O2\": 15.721845519637593, \"[B]_S6PPh_c\": 0.0, \"[B]_GCAO_h\": 0.0, \"[B]_iCitDHNADP_m\": 0.0, \"[B]_PPiase_h\": 2.9982738479252058, \"[M]_NDA2_1_m\": 0.0, \"[B]_iCitDHNADP_h\": 0.0, \"[M]_Ex_Mas\": 0.0, \"[B]_ACoAC_h\": 0.0, \"[B]_GAPDH2_h\": 0.0, \"[B]_GSSGR_h\": 0.0048820462748258428, \"[B]_Ex_Gln_c\": 0.0, \"[B]_AspK_h\": 0.069046083029679378, \"[B]_Ex_Gln_m\": 0.0, \"[B]_GluSeADA_h\": 0.0, \"[B]_GCAO_p\": 3.5022124585794137, \"[B]_GAPDH2_c\": 0.87744328764103674, \"[B]_Tr_Glu1\": 1.6494206568824525, \"[B]_NO3R2_c\": -0.47047127728059823, \"[B]_Ex_Lys_c\": 0.0, \"[B]_Tr_Glu2\": 0.0, \"[M]_Tr_GCEA2\": -0.058085922129663063, \"[B]_PrATPDP_h\": 0.0, \"[M]_FTK_h\": 9.8614334962242047, \"[M]_Tr_Val1\": 0.0, \"[B]_Tr_Asp\": 0.0, \"[M]_Tr_Val2\": 0.0, \"[MB]_His_c\": 0.0027897407284719093, \"[B]_SAICARS_h\": 0.0, \"[B]_DAPDC_h\": 0.01255383327812359, \"[M]_AspK_h\": 0.0041846110927082304, \"[M]_Tr_HCys\": 0.0, \"[M]_KARI12_h\": 0.0, \"[M]_RBC_h\": 26.867555250765015, \"[B]_Ex_Asn_h\": 0.0, \"[B]_Ex_Thr_h\": 0.0, \"[M]_OrnCMT_h\": 0.011158962913887637, \"[M]_ATPCitL_c\": 0.0, \"[M]_SCACoAL_m\": 0.0, \"[M]_SAICARS_h\": 1.4792584424235105e-14, \"[M]_Tr_TPT2\": 2.448694924416229, \"[B]_Cytb6f2_h\": 37.730462551192403, \"[M]_Tr_TPT1\": 0.0, \"[M]_TA_h\": 0.0, \"[B]_Tr_Tyr1\": 0.0, \"[B]_Tr_Tyr2\": 0.0, \"[B]_Tr_DTC3A\": 0.0, \"[M]_RibK_h\": 0.0, \"[M]_GlnS_m\": 0.0, \"[M]_dUDPK_c\": 0.0, \"[M]_GlnS_h\": 0.067651212665518115, \"[B]_Tr_DTC5\": 0.0, \"[B]_Ru5PE_h\": 11.035927494147519, \"[M]_OrnAT_m\": 0.0, \"[M]_GlnS_c\": 0.0, \"[M]_Tr_Asp_Glu_mc\": 0.0, \"[B]_Tr_Lys2\": 0.01255383327812359, \"[B]_Ru5PK_h\": 16.550055347719649, \"[B]_AOrnAGluAcT_h\": 0.0, \"[MB]_Rib_c\": 0.0, \"[M]_Tr_Thr2\": 0.0041846110927082399, \"[B]_Ex_Glu_m\": 0.0, \"[B]_Ex_Glu_c\": 0.0, \"[MB]_Phe_c\": 0.0, \"[MB]_Asp_c\": 0.0, \"[MB]_G1P_c\": 0.0, \"[B]_Tr_His2\": 0.0, \"[MB]_Suc_c\": 1.5343574006595495, \"[B]_HisolPTA_h\": 0.0, \"[B]_AspAT_c\": 0.0, \"[MB]_Cit_c\": 0.0, \"[B]_MetS_c\": 0.004882046274825841, \"[B]_AspAT_h\": 0.069046083029679378, \"[B]_Tr_GCEA2\": -1.8527918016969618, \"[B]_Ex_Glu_p\": 0.0, \"[B]_AspAT_m\": 0.0, \"[B]_Tr_DTC1B\": 0.32221505413850837, \"[B]_Tr_DTC1C\": 0.0, \"[B]_PPIF6PK_c\": 0.0, \"[B]_Im_H2S\": 0.0, \"[M]_GluSeADA_h\": 0.0, \"[M]_DAHPS_h\": 0.010461527731769657, \"[M]_Tr_H2Oh\": 21.123685532407574, \"[M]_UDPK_c\": 1.5343574006595522, \"[M]_Tr_DTC2C\": 0.0, \"[M]_Tr_DTC2A\": 0.0, \"[B]_Tr_SCA\": 0.0, \"[M]_Ex_Phe_h\": 0.0, \"[M]_GluSeADA_c\": 0.0, \"[B]_DHLST_m\": 0.0, \"[M]_CeS_c1\": 0.0, \"[M]_PPIF6PK_c\": 0.0, \"[M]_CeS_c3\": 0.0, \"[M]_CeS_c2\": 0.0, \"[M]_Si_H_h\": 0.0, \"[B]_Tr_Pyr_Na_hc\": 0.0, \"[B]_Ex_AA\": 0.69743518211797728, \"[M]_AsnS_c\": 0.0, \"[B]_ACDOxRed_c\": 0.0083692221854157235, \"[B]_Tr_P5C1\": 0.0, \"[B]_IMPDH_c\": 0.0, \"[B]_Im_H2O\": 11.520522127795589, \"[M]_ATPSL_h\": 0.0, \"[M]_DAPE_h\": 0.0, \"[B]_DHQS_h\": 0.0076717870032977521, \"[B]_Tr_Met3\": 0.0, \"[M]_ThrDA_h\": 0.0, \"[B]_ADPRPPT_c\": 0.0, \"[M]_Cysase_c\": 0.0, \"[B]_Ex_Ser_h\": 0.0, \"[M]_KARI34_h\": 0.0, \"[M]_PGR5PGRL11_h\": 0.0, \"[M]_ForDH_h\": 0.002789740728501495, \"[M]_Tr_Tyr3\": 0.0, \"[B]_AICARFT_h\": 0.0, \"[B]_Ex_Gln_p\": 0.0, \"[M]_CitS_c\": 0.0, \"[B]_Ex_Tyr_h\": 0.0, \"[M]_Im_H2S\": 0.0, \"[M]_NDH2_h\": 0.0, \"[M]_CitS_h\": 0.0, \"[MB]_SCA_c\": 0.0, \"[M]_Ex_Met_c\": 0.0, \"[MB]_Pyr_c\": 0.36754834097619804, \"[M]_CitS_m\": 0.0, \"[M]_AGluPR_h\": 0.011158962913887639, \"[MB]_F6P_c\": 0.090131391193259677, \"[B]_Fd_DASH_NADPR_h\": 35.357637747000076, \"[B]_AMPK_h\": 0.0, \"[B]_PGADH_h\": 0.0, \"[M]_Tr_Ala2\": 0.0, \"[B]_Tr_Ala_mc\": 0.32221505413850837, \"[M]_GCEADH_p\": 0.058085922129663063, \"[B]_AMPK_c\": 0.0, \"[M]_5M_DASH_THFOR_c\": 0.0, \"[B]_Tr_DTC1A\": 0.0, \"[B]_Tr_NTT\": 0.0, \"[MB]_Tre_c\": 0.0, \"[B]_Im_CO2\": 0.0, \"[M]_Ex_Ile_m\": 0.0, \"[M]_Tr_Ala1\": 0.0, \"[M]_Tr_Mal\": 0.0, \"[M]_Tr_GCA2\": 0.45066080331202607, \"[M]_Tr_GCA1\": 2.6867555250764878, \"[M]_FGAMCL_h\": 1.4792584424235108e-14, \"[B]_AOX4_h\": 0.0, \"[B]_Tr_Ser1\": 1.8527918016969618, \"[B]_HSerDHNADP_h\": 0.048123027566140043, \"[B]_6PGDHNADP_h\": 0.0, \"[M]_Tr_Pyr_Na_hc\": 0.0, \"[M]_PyrPiDK_h\": -0.023015361009922835, \"[B]_PGP_h\": 1.2661177368149492, \"[B]_AOX1A_m\": 0.0, \"[M]_DHDRNADP_h\": 0.0, \"[M]_Tr_THF\": 0.0, \"[MB]_S6P_c\": 1.8309188344002661e-15, \"[B]_APSR_h\": 0.0048820462748258419, \"[M]_Tr_DIT1_OAA\": 0.53214304395601975, \"[B]_Tr_Asn1\": 0.0, \"[B]_Tr_Asn3\": 0.0, \"[M]_Enol_h\": 0.0, \"[B]_PRANTI_h\": 1.2623996496407914e-18, \"[B]_PSerP_h\": 0.0, \"[B]_Tr_CO2h_Ex\": 12.66117736814949, \"[M]_Enol_c\": -0.91433752375669086, \"[B]_TPP_c\": 0.0, \"[B]_Tr_Ser2\": -0.0048820462748258445, \"[M]_PGADH_h\": 0.0, \"[M]_Ex_MACP\": 0.0, \"[B]_Ex_Trp_c\": 0.0, \"[B]_OROPRT_c\": 0.0, \"[MB]_PGA_c\": -0.090131391193287919, \"[M]_Tr_KG_Mal_mc\": 0.0, \"[M]_Tr_Arg2\": 0.011158962913887637, \"[B]_Ex_Trp_h\": 0.0, \"[M]_Tr_Arg1\": 0.0, \"[M]_Ex_Lys_m\": 0.0, \"[B]_Tr_DIC2\": 0.0, \"[B]_Tr_DIC1\": 0.0, \"[B]_Ex_Trp_m\": 0.0, \"[M]_IPODC_h\": 0.0, \"[B]_Ex_Ser_c\": 0.0, \"[B]_Tr_Met1\": 0.0, \"[M]_SADH_h\": 0.010461527731769655, \"[MB]_cACN_c\": 0.0, \"[M]_Tr_AAC\": 0.20543160865027524, \"[M]_Tr_CO2m\": -0.064362838768733055, \"[M]_P5CDHNAD_h\": 0.0, \"[M]_Tr_CO2h\": 26.871042426675643, \"[B]_Tr_SFC\": 0.0, \"[M]_NGAM_h\": 0.152707083279744, \"[B]_IGPS_h\": 0.0, \"[B]_PGM_c\": -1.8061370385303998e-15, \"[M]_PRANTI_h\": 0.0062769166390617926, \"[M]_Ex_Ile_c\": 0.0, \"[M]_Ex_Pro_m\": 0.0, \"[M]_StP21_c\": 0.0, \"[B]_PAICARPI_h\": 0.0, \"[B]_TA_h\": 0.0, \"[B]_Tr_AC1\": 0.0083692221854157253, \"[M]_Ex_Lys_h\": 0.0, \"[M]_Cytb6f1_h\": 58.160429585717274, \"[M]_Ex_Asn_h\": 0.0, \"[B]_PGI_c\": 0.090131391193257068, \"[MB]_Ile_c\": 0.0, \"[B]_PGI_h\": 2.9785834101258413, \"[B]_dGDPK_c\": 0.0, \"[B]_Ex_Frc\": 0.0, \"[B]_Im_hnu\": 150.92185020476964, \"[B]_Tr_O2p\": 1.7511062292897066, \"[M]_Ex_Gly_m\": 0.0, \"[M]_Si_H_p\": 0.0, \"[B]_NDC1_2_h\": 0.0, \"[M]_PSerAT_h\": 0.0, \"[B]_Tr_Leu1\": 0.0, \"[B]_Tr_Cys\": 0.0, \"[MB]_Lys_c\": 0.0, \"[M]_ACoAS_h\": 0.0, \"[B]_PyrDH2_m\": 0.32221505413850837, \"[M]_Ex_Ile_h\": 0.0, \"[B]_Tr_O2h\": -17.599113538781257, \"[B]_Ex_Lys_p\": 0.0, \"[B]_DPE2_c\": 0.0, \"[B]_GAPDH1_h\": 34.428264736763175, \"[B]_dTMPS_c\": 0.0, \"[M]_SBPA_h\": 9.8509719684924359, \"[M]_DHDRNAD_h\": 0.0, \"[M]_NDC1_2_h\": 0.0, \"[B]_DHFR_c\": 0.0, \"[M]_STK_h\": 9.8509719684924359, \"[B]_GluK_h\": 0.0, \"[B]_CeS_c2\": 0.0, \"[B]_CeS_c3\": 0.0, \"[B]_CeS_c1\": 0.0, \"[B]_CBPS_h\": 0.0, \"[B]_Cysase_c\": 0.0, \"[B]_GAPDH3_c\": 0.0, \"[MB]_DHAP_c\": 0.0, \"[B]_Ex_Lys_h\": 0.0, \"[M]_DAPAT_h\": 0.0, \"[B]_AOrnTA_h\": 0.0, \"[B]_Ex_Lys_m\": 0.0, \"[B]_Tr_Asp_mc\": 1.4763975200579051, \"[M]_Tr_PPT\": 0.04393841647346089, \"[B]_Ex_Val_c\": 0.0, \"[M]_dADPK_c\": 0.0, \"[M]_Ex_Ile_p\": 0.0, \"[B]_Ex_Val_m\": 0.0, \"[B]_TrpS_h\": 2.591288670009919e-18, \"[B]_Tr_UCP\": -3.7346169473207977, \"[B]_NDH2_h\": 0.0, \"[B]_Ex_Val_p\": 0.0, \"[B]_F6PK1_c\": 0.0, \"[M]_Ex_Met_h\": 0.0, \"[B]_DHQDH_h\": 0.0076717870032977521, \"[B]_DHDRNAD_h\": 0.0, \"[B]_HCO3DHA_h\": 0.0, \"[M]_ACDOxRed_c\": 0.0, \"[B]_F6PK1_h\": 0.0, \"[B]_Tr_THF\": 0.0, \"[B]_Tr_DTC2C\": 0.0, \"[B]_NMPK_c\": 0.0, \"[M]_Tr_BAC2\": 0.0, \"[B]_SerAcT_m\": 0.0, \"[B]_GABATA2_m\": 0.0, \"[B]_Tr_TPT2\": 0.8774432876410182, \"[B]_Tr_TPT1\": -0.78731189644774735, \"[B]_Ex_His_c\": 0.0, \"[M]_Glnase_c\": 0.0, \"[B]_GluDC_c\": 0.0, \"[M]_GPAT_h\": 0.0041846110927078644, \"[M]_OMPDC_c\": 0.0, \"[B]_Ex_MACP\": 0.0, \"[M]_S6PPh_c\": 1.5343574006595497, \"[M]_Tr_Ser3\": 0.064362838768733041, \"[M]_Tr_Trp1\": 0.0, \"[B]_P5CRNAD_c\": 0.0, \"[M]_Arginase_m\": 0.0, \"[B]_OrnAT_m\": 0.0, \"[M]_F26BPPh_c\": 0.0, \"[M]_Tr_GlySer\": 0.12872567753746608, \"[M]_Tr_Trp3\": 0.0, \"[M]_Ex_cellulose\": 0.0, \"[B]_Tr_Pyr2\": 0.0, \"[MB]_Pro_c\": 0.0, \"[MB]_iCit_c\": 0.0, \"[B]_Ex_Phe_m\": 0.0, \"[M]_HSerK_h\": 0.0041846110927082391, \"[M]_F6PK1_h\": 0.0, \"[M]_cACNDHA_c\": 0.0, \"[B]_ACoAS_h\": 0.013251268460241569, \"[M]_cACNDHA_m\": 0.0, \"[M]_cACNDHA_h\": 0.0, \"[M]_F6PK1_c\": 0.0, \"[M]_Tr_DTC4A\": 0.0, \"[M]_Tr_ProA\": 0.0, \"[M]_SucS_c\": -1.3337262783064008e-17, \"[B]_HisolPDH_h\": 0.0, \"[M]_6PGL_h\": 0.0, \"[M]_ADPR_c\": 0.0, \"[B]_AMPDA_c\": 0.0, \"[B]_Tr_NH41\": -0.33259982792589404, \"[B]_Tr_NH42\": -0.76207593735029688, \"[B]_Tr_Pi\": -0.14088190678782372, \"[B]_PrAMPCy_h\": 0.0, \"[M]_bAMY2_h\": 0.0, \"[M]_Tr_Thr1\": 0.0, \"[B]_Tr_Lys1\": 0.0, \"[M]_Tr_Thr3\": 0.0, \"[B]_GluSNAD_h\": 0.0, \"[B]_Tr_Ser3\": 1.9162584032696945, \"[M]_UGPase_c\": 1.5343574006595524, \"[B]_dADPK_c\": 0.0, \"[M]_Ex_Lys_c\": 0.0, \"[B]_Ex_Tre\": 0.0, \"[B]_Tr_His3\": 0.0, \"[B]_Tr_Mal\": 1.8527918016969618, \"[B]_DHDRNADP_h\": 0.012553833278123592, \"[B]_GluSeADH_m\": 0.0, \"[M]_PEPC2_c\": -0.53214304395601975, \"[B]_OMPDC_c\": 0.0, \"[B]_Tr_PPT\": 0.0, \"[B]_Tr_Arg2\": 0.0, \"[B]_GMPK_c\": 0.0, \"[M]_GAPDH2_h\": 0.0, \"[M]_Tr_DTC3A\": 0.0, \"[B]_Tr_Arg1\": 0.0, \"[M]_Tr_DTC3C\": 0.0, \"[M]_Tr_DTC3B\": 0.0, \"[B]_StP1_h\": 0.0, \"[B]_SucS_c\": 1.3337262783064008e-17, \"[MB]_Cys_c\": 0.0, \"[B]_Ex_Ala_c\": 0.0, \"[B]_TPI_h\": 14.014510904273356, \"[M]_AGluK\": 0.011158962913887639, \"[M]_F6PK2_c\": 0.0, \"[B]_SerAcT_h\": 0.004882046274825841, \"[M]_FumHA_m\": 0.0, \"[B]_GlnS_m\": 0.0, \"[M]_FumHA_c\": 0.013948703642389133, \"[B]_TPI_c\": 0.0, \"[B]_Ex_Phe_h\": 0.0, \"[B]_SerAcT_c\": 0.0, \"[B]_Tr_GPT1\": 0.090131391193258886, \"[B]_UDPR_c\": 0.0, \"[M]_ADNK_c\": 0.0, \"[B]_GlnS_c\": 0.3019894338570841, \"[B]_GlyDH_m\": 1.9162584032696934, \"[B]_GlnS_h\": 0.35186401409578549, \"[M]_dTMPK_c\": 0.0, \"[B]_6PGL_h\": 0.0, \"[M]_Fd_DASH_NADPR_h\": 56.958891116837414, \"[M]_DHQS_h\": 0.010461527731769657, \"[B]_DPE11_h\": 0.0, \"[B]_dUTPP_c\": 0.0, \"[B]_Ex_His_p\": 0.0, \"[M]_Tr_Asn1\": 0.0, \"[M]_Asp_DASH_SeADH_h\": 0.0041846110927082339, \"[M]_Tr_Asn3\": 0.0, \"[M]_CTPP_c\": 0.0, \"[B]_Tr_GlySer\": 3.8325168065393869, \"[B]_PGAK_c\": -0.87744328764103674, \"[B]_GCEADH_p\": 1.8527918016969616, \"[B]_Tr_DIC4\": 1.4763975200579043, \"[M]_Tr_DTC5\": 0.0, \"[MB]_Ser_c\": 0.0, \"[M]_AspAT_h\": 0.018133314735097352, \"[B]_dCDPK_c\": 0.0, \"[B]_PGAK_h\": 34.428264736763175, \"[M]_AspAT_m\": 0.0, \"[M]_R5PI_h\": 9.8419053111248864, \"[B]_IGPDA_h\": 0.0, \"[M]_AOX1A_m\": 0.0, \"[M]_AspAT_p\": 0.0, \"[B]_PGAM_c\": 0.0, \"[M]_FBPase_c\": 1.6244887918528117, \"[M]_EPSPS_h\": 0.010461527731769657, \"[M]_FBPase_h\": 11.39579089688376, \"[B]_PGAM_h\": 0.10391784213555798, \"[M]_Tr_Ala_mc\": 0.0, \"[B]_Tr_PLT5\": 0.0, \"[B]_IMPCH_h\": 0.0, \"[B]_STK_h\": 5.5141278535721101, \"[B]_Tr_PIC\": 2.308364931838792, \"[M]_SBPase_h\": 9.8509719684924342, \"[M]_FrcK_c\": 0.0, \"[M]_Ex_Asn_p\": 0.0, \"[B]_Tr_DIT2\": 0.024766913682457224, \"[M]_ACoAC_h\": 0.0, \"[B]_Tr_DIT1\": 0.024766913682454612, \"[M]_3IPMDA2_h\": 0.0, \"[B]_CHRS_h\": 0.0076717870032977512, \"[M]_Im_H2O\": 24.846189290973186, \"[B]_Ex_Gly_p\": 0.0, \"[B]_dTMPK_c\": 0.0, \"[B]_AGNDA_h\": 0.0076717870032977495, \"[M]_Tr_Asn2\": 0.0, \"[B]_Ex_Leu_p\": 0.0, \"[B]_Tr_Pyr_H_hc\": 0.25107666556248942, \"[B]_OrnCMT_h\": 0.0, \"[M]_Tr_AC1\": 0.0, \"[B]_PyrDH1_m\": 0.32221505413850837, \"[M]_Tr_AC2\": 0.0, \"[M]_Tr_Tyr2\": 0.0041846110927078644, \"[B]_R5PDPK_h\": -2.0682328365943241e-14, \"[B]_Ex_Gly_m\": 0.0, \"[M]_AMPK_h\": 0.0, \"[B]_SBPase_h\": 5.5141278535721101, \"[M]_CHRS_h\": 0.010461527731769655, \"[M]_Ex_Gly_c\": 0.0, \"[B]_FrcK_c\": 0.0, \"[M]_TPS_c\": 0.0, \"[MB]_Gly_c\": 0.32193512577456013, \"[B]_FBPase_h\": 8.5003830507012506, \"[B]_Ex_Gly_h\": 0.0, \"[M]_ThrA_c\": 0.0, \"[B]_FBPase_c\": 0.0, \"[M]_Tr_DIC2\": 0.0, \"[M]_Tr_PIC\": 0.20543160865027521, \"[M]_Tr_Val3\": 0.0, \"[M]_Ex_Phe_p\": 0.0, \"[M]_AspAT_c\": 0.0, \"[M]_StP1_h\": 0.0, \"[B]_Asp_DASH_SeADH_h\": 0.069046083029679364, \"[M]_DHLST_m\": 0.0, \"[B]_StP21_c\": 0.0, \"[B]_FrcFD_c\": 0.0, \"[M]_Ex_Tyr_p\": 0.0, \"[M]_Im_NO3\": 0.38470429216526408, \"[M]_iCitL_p\": 0.0, \"[M]_GlyDH_m\": 0.064362838768733041, \"[B]_Tr_Ala1\": 0.0, \"[M]_GDPR_c\": 0.0, \"[B]_Ex_Cys_c\": 0.0, \"[B]_SCACoAL_m\": 0.0, \"[MB]_Arg_c\": 0.011158962913887637, \"[B]_bAMY2_h\": 0.0, \"[M]_Ex_Phe_m\": 0.0, \"[M]_Ex_Phe_c\": 0.0, \"[B]_Ex_Cys_h\": 0.0, \"[M]_TrpS_h\": 0.0062769166390617926, \"[M]_Tr_Lys2\": 0.0, \"[B]_2IPMS_h\": 0.008369222185415727, \"[M]_Urease_m\": 0.0, \"[M]_DHDS_h\": 0.0, \"[B]_CTHS_h\": 0.004882046274825841, \"[B]_ATPCitL_c\": 0.0, \"[B]_GMPS_c\": 0.0, \"[M]_GARFT_h\": 1.4792584424235105e-14, \"[M]_G6PDH_h\": 0.0, \"[B]_HisolPP_h\": 0.0, \"[M]_DHLDH1_m\": 0.064362838768733041, \"[M]_ATase_h\": 1.4792584424235105e-14, \"[M]_DCAMPL1_h\": 1.479209672276297e-14, \"[M]_HCO3DHA_h\": 0.011158962913887641, \"[M]_Ex_Ser_m\": 0.0, \"[B]_DCAMPL1_h\": 0.0, \"[M]_HCO3DHA_c\": 0.53214304395601975, \"[B]_AMT_m\": 1.9162584032696934, \"[B]_AlaTA_c\": 0.0, \"[B]_Tr_DTC4C\": 0.0, \"[B]_GluSFd_h\": 0.3518640140957856, \"[B]_Tr_DTC4A\": 0.0, \"[M]_Tr_SO4\": 0.0, \"[M]_AspCT_h\": 0.0, \"[M]_IGPS_h\": 0.0027897407284719102, \"[B]_Ex_Cys_m\": 0.0, \"[MB]_Tyr_c\": 0.0041846110927078635, \"[B]_Tr_Leu2\": 0.008369222185415727, \"[M]_Ex_Suc\": 0.0, \"[B]_Ex_Ala_m\": 0.0, \"[B]_Ex_Ala_h\": 0.0, \"[M]_Ex_Ser_p\": 0.0, \"[M]_Ex_Leu_m\": 0.0, \"[M]_Tr_Leu3\": 0.0, \"[B]_DAPAT_h\": 0.012553833278123592, \"[M]_Tr_Leu1\": 0.0, \"[M]_Tr_Leu2\": 0.0, \"[B]_PGM_h\": 3.0687148013191003, \"[B]_Ex_Arg_c\": 0.0, \"[M]_ThrS_h\": 0.0041846110927082425, \"[M]_iCitDHNAD_m\": 0.0, \"[B]_RBC_h_Ex\": 12.66117736814949, \"[B]_Ex_Ala_p\": 0.0, \"[M]_iCitDHNAD_c\": 0.0, \"[B]_MalDH4_h\": 0.0, \"[B]_GlyHMT_m\": 1.9162584032696932, \"[B]_DPE12_h\": 0.0, \"[B]_GlyHMT_c\": -0.004882046274825841, \"[B]_CHRM_h\": 0.0076717870032977495, \"[B]_TRXR_c\": 0.0, \"[M]_AOrnTA_h\": 0.011158962913887639, \"[B]_KGDH_m\": -4.0489798555711138e-17, \"[M]_Tr_Ile1\": 0.0, \"[M]_AGPase_h\": 0.0, \"[M]_HisolPP_h\": 0.0027897407284719106, \"[M]_CTHS_h\": 0.0, \"[M]_Tr_PRPP\": 0.0, \"[M]_Ex_Pro_h\": 0.0, \"[M]_IMPDH_c\": 0.0, \"[M]_DHLAcT_m\": 0.0, \"[M]_GluSeADA_m\": 0.0, \"[B]_GABATA1_m\": 0.0, \"[M]_dTDPK_c\": 0.0, \"[M]_bAMY1_h\": 0.0, \"[B]_Tr_Asn2\": 0.0, \"[B]_DCAMPL2_h\": 0.0, \"[M]_2IPMS_h\": 0.0, \"[M]_Si_H_c\": -3.2204922414106365, \"[B]_CTHL_h\": 0.004882046274825841, \"[M]_Tr_DTC1C\": 0.0, \"[M]_GluDH1NADP_m\": 0.0, \"[M]_Ex_His_p\": 0.0, \"[B]_Im_SO4\": 0.0048820462748258419, \"[M]_Tr_Mex1\": 0.0, \"[B]_GluK_c\": 0.0, \"[B]_GluK_m\": 0.0, \"[B]_Tr_Leu3\": 0.0, \"[B]_Arginase_m\": 0.0, \"[M]_HSerDHNAD_h\": 0.0, \"[M]_GluDH1NAD_m\": 0.0, \"[M]_Tr_ProU\": 0.0, \"[B]_3IPMDA1_h\": 0.008369222185415727, \"[M]_Tr_GPT1\": -1.5343574006595524, \"[M]_Im_SO4\": 0.0, \"[B]_DHADA1_h\": 0.0083692221854157287, \"[M]_GAPDH2_c\": 0.82420613256340292, \"[M]_GluK_c\": 0.0, \"[B]_Ex_Leu_m\": 0.0, \"[B]_DHLDH1_m\": 1.9162584032696932, \"[B]_StS_h2\": 1.5343574006595502, \"[B]_StS_h3\": 0.0, \"[M]_GluK_h\": 0.0, \"[B]_StS_h1\": 1.5343574006595502, \"[M]_DHADA1_h\": 0.0, \"[B]_Im_NO3\": 0.67121257356143804, \"[M]_GluK_m\": 0.0, \"[B]_cACNDHA_h\": 0.0, \"[M]_GluSFd_h\": 0.047425592384067204, \"[M]_ADNN_c\": 0.0, \"[B]_cACNDHA_m\": 0.32221505413850832, \"[B]_Ex_Leu_h\": 0.0, \"[B]_cplx2_m\": 0.0, \"[B]_cACNDHA_c\": 0.0, \"[B]_GluDH1NADP_m\": 0.0, \"[M]_Tr_H_Na_hc\": 0.0, \"[M]_Tr_Cit_iCit_mc\": 0.0, \"[MB]_Frc_c\": 0.0, \"[M]_GluDH3NADP_c\": -0.38141591826847543, \"[M]_Asnase_c\": 0.0, \"[B]_Tr_Pyr_Mal_hc\": 0.06904608302967663, \"[B]_cplx4_m\": 0.12616178985395843, \"[B]_Ex_Met_p\": 0.0, \"[B]_DHOase_h\": 0.0, \"[B]_Tr_Phe3\": 0.0, \"[M]_GGAT_h\": 1.4792584424235105e-14, \"[M]_PEPC1_c\": 0.0, \"[B]_Tr_Mex1\": 0.0, \"[M]_CTPS_c\": 0.0, \"[M]_Im_NH4\": 0.0, \"[B]_SBPA_h\": 5.5141278535721101, \"[B]_Ex_Asp_c\": 0.0, \"[B]_ForDH_h\": 0.0, \"[B]_MalDH2_m\": 0.0, \"[M]_Ex_Ala_c\": 0.0, \"[B]_ANTPRT_h\": 1.2623996496407915e-18, \"[B]_Tr_CO2h\": 2.5606885115467124, \"[B]_SGAT_p\": 1.8527918016969616, \"[M]_Ex_Ala_h\": 0.0, \"[B]_Tr_Phe1\": 0.0, \"[B]_Tr_Phe2\": 0.0076717870032977495, \"[B]_iCitDHNADP_c\": 0.32221505413850837, \"[B]_PRAGlyL_h\": 0.0, \"[MB]_Leu_c\": 0.0, \"[B]_CysS_m\": 0.0, \"[B]_Tr_CO2m\": -2.2384734574082041, \"[B]_CysS_h\": 0.004882046274825841, \"[M]_Tr_Hp\": 0.058085922129663063, \"[M]_GCAO_p\": 0.45066080331202618, \"[MB]_Ala_c\": 0.0, \"[B]_Tr_DIT1_OAA\": 0.82266542737285198, \"[M]_NMPK_c\": 0.0, \"[M]_GGAT_p\": 0.39257488118236311, \"[M]_PAICARPI_h\": 0.0027897407284719106, \"[B]_NDH1_h\": 0.0, \"[M]_GCEAK_h\": 8.5288204035021637e-16, \"[B]_6PGDHNAD_h\": 0.0, \"[MB]_GAP_c\": 0.0, \"[M]_TPI_h\": 22.871251657229006, \"[M]_PrATPDP_h\": 0.0027897407284719106, \"[M]_DPE2_c\": 0.0, \"[M]_TPI_c\": 0.0, \"[B]_P5CDHNADP_h\": 0.0, \"[B]_UDPK_c\": 0.0, \"[M]_Ex_Cys_p\": 0.0, \"[B]_P5CDHNADP_m\": 0.0, \"[M]_Ex_Tyr_m\": 0.0, \"[B]_Tr_GCA2\": 3.5022124585794132, \"[B]_CysS_c\": 0.0, \"[B]_Tr_DHO2\": 0.0, \"[M]_GluSeADH_c\": 0.0, \"[B]_Tr_DHO1\": 0.0, \"[M]_Tr_Gln\": 0.0, \"[M]_DCAMPL2_h\": 0.0027897407284867026, \"[M]_Tr_Asp_OAA_hc\": 0.0, \"[M]_dCDPK_c\": 0.0, \"[M]_Tr_Pyr1\": 0.0, \"[M]_Tr_Pyr3\": 0.0, \"[M]_Tr_Pyr2\": 0.0, \"[M]_TRXR_c\": 0.0, \"[M]_SAK_h\": 0.010461527731769657, \"[M]_Ru5PE_h\": 19.712405464716639, \"[B]_Ex_Ser_m\": 0.0, \"[M]_AMPDA_c\": 0.0, \"[B]_PyrPiDK_h\": -0.088574268128962436, \"[M]_TPP_c\": 0.0, \"[M]_Tr_NO2\": 0.38470429216526431, \"[M]_GlyHMT_m\": 0.064362838768733041, \"[B]_Tr_Fum\": 0.0, \"[B]_Ex_Pro_h\": 0.0, \"[B]_GluSeADA_c\": 0.0, \"[M]_ATPase_h\": 87.240644378575922, \"[M]_PyrK_c\": 0.33825606332721297, \"[M]_P5CDHNADP_m\": 0.0, \"[M]_Ex_Gln_p\": 0.0, \"[M]_IGPDA_h\": 0.0027897407284719106, \"[B]_UGPase_c\": -1.826029294532663e-15, \"[B]_Ex_His_h\": 0.0, \"[M]_Ex_AA\": 0.0, \"[M]_Tr_O2p\": 0.22533040165601304, \"[M]_R5PDPK_h\": 0.0090666573675484956, \"[M]_PyrK_h\": 0.0, \"[B]_BAATA1_h\": 0.008369222185415727, \"[M]_ANTPRT_h\": 0.0062769166390617918, \"[M]_APSR_h\": 0.0, \"[M]_Tr_O2h\": -26.393459267782127, \"[M]_Ex_Gln_c\": 0.0, \"[M]_Ex_Ala_p\": 0.0, \"[M]_Tr_H2S1\": 0.0, \"[M]_Tr_O2m\": 0.032181419384366521, \"[M]_SCASeADH_m\": 0.0, \"[M]_Tr_H2S2\": 0.0, \"[B]_Tr_BAC1\": 0.0, \"[M]_Ex_Gln_h\": 0.0, \"[B]_Tr_BAC2\": 0.0, \"[M]_PRAGlyL_h\": 1.4792584424235108e-14, \"[B]_Ex_Tyr_m\": 0.0, \"[B]_FBPA_h\": 8.5003830507012506, \"[B]_Tr_HCys\": 0.004882046274825841, \"[M]_Tr_Met1\": 0.0, \"[B]_HSerK_h\": 0.056492249751555777, \"[M]_AspAT2_m\": 0.0, \"[M]_AspAT2_h\": 0.0, \"[M]_cplx2_m\": 0.0, \"[M]_HisolPDH_h\": 0.0027897407284719097, \"[M]_AspAT2_c\": 0.0, \"[B]_Ex_Gln_h\": 0.0, \"[M]_P5CRNAD_c\": 0.0, \"[M]_DHLDH2_m\": 0.0, \"[M]_dTMPS_c\": 0.0, \"[M]_NO3R1_c\": 0.76612021043373979, \"[M]_Tr_Glu2\": 0.0, \"[M]_ProDHNADP_m\": 0.0, \"[M]_Tr_Fum\": 0.013948703642389133, \"[M]_AspAT2_p\": 0.0, \"[B]_Ex_Phe_p\": 0.0, \"[B]_Ex_Asn_p\": 0.0, \"[M]_BAATA1_h\": 0.0, \"[B]_ThrA_c\": 0.0083692221854157253, \"[M]_Ex_Val_c\": 0.0, \"[M]_HisalPDH_h\": 0.0027897407284719093, \"[B]_ArgSCAS_h\": 0.0, \"[M]_GABATA2_m\": 0.0, \"[M]_Ex_Val_m\": 0.0, \"[B]_Tr_BT12\": 0.0, \"[B]_Tr_BT13\": 0.070440953393921729, \"[M]_Ex_Val_h\": 0.0, \"[B]_Tr_BT11\": -0.070440953393915706, \"[B]_Ex_Asn_c\": 0.0, \"[M]_Tr_Gly\": -0.45066080331202618, \"[B]_FBPA_c\": -4.4406141417813988e-15, \"[M]_Ex_Val_p\": 0.0, \"[M]_NO3R2_c\": -0.38141591826847548, \"[B]_Tr_AC2\": 0.0, \"[M]_Tr_pGlc\": 0.0, \"[M]_ALS2_h\": 0.0, \"[M]_Ex_Asp_h\": 0.0, \"[M]_BAATA3_h\": 0.0, \"[B]_Ex_Asn_m\": 0.0, \"[M]_Ex_Glc\": 0.0, \"[B]_DHLDH2_m\": 0.32221505413850837, \"[M]_Tr_Pro1\": 0.0, \"[B]_Tr_Ile3\": 0.0, \"[M]_Tr_GCEA1\": 0.0, \"[M]_HCysMT_c\": 0.0, \"[B]_cACNHA_c\": 0.0, \"[B]_cACNHA_m\": 0.32221505413850832, \"[B]_Glnase_c\": 0.0, \"[B]_cACNHA_h\": 0.0, \"[M]_Ex_Pro_c\": 0.0, \"[B]_Tr_H2S1\": 0.0, \"[B]_Tr_Thr1\": 0.0, \"[B]_Tr_Thr3\": 0.0, \"[B]_Tr_Thr2\": 0.043240981291314207, \"[M]_Tr_OAA\": 0.0, \"[B]_Tr_H2S2\": 0.0, \"[B]_AsnS_c\": 0.07044095339391572, \"[MB]_GCEA_c\": 0.058085922129662217, \"[M]_Ex_His_m\": 0.0, \"[M]_ACPM_h\": 0.0, \"[M]_Ex_Pro_p\": 0.0, \"[M]_PSI_h\": 116.32085917143456, \"[B]_KARI34_h\": 0.025107666556247188, \"[B]_Asnase_c\": 0.0, \"[M]_Ex_Thr_h\": 0.0, \"[M]_P5CDHNAD_m\": 0.0, \"[M]_AGNDH_h\": 0.0041846110927078644, \"[M]_Ex_Gly_h\": 0.0, \"[B]_Tr_Asp_Glu_mc\": -1.1541824659193967, \"[B]_CDPR_c\": 0.0, \"[B]_DPE13_h\": 0.0, \"[M]_Tr_PXN3\": -0.058085922129663077, \"[M]_Ex_Gly_p\": 0.0, \"[B]_Ex_Ile_c\": 0.0, \"[M]_GDPK_h\": 0.0027897407284867026, \"[M]_Tr_NTT\": 0.0, \"[B]_Tr_DTC3B\": 0.0, \"[B]_Tr_DTC3C\": 0.0, \"[M]_CBPS_h\": 0.011158962913887639, \"[B]_AGluPR_h\": 0.0, \"[M]_GDPK_c\": 0.0, \"[M]_Ex_Lys_p\": 0.0, \"[B]_Im_NH4\": 0.0, \"[B]_Tr_GCEA1\": 1.9108777238266237, \"[M]_Tr_DTC4B\": 0.0, \"[M]_Tr_DTC4C\": 0.0, \"[M]_Im_CO2\": 40.000000000012413, \"[B]_CTPS_c\": 0.0, \"[B]_MalDH1_c\": 0.26075338729040981, \"[MB]_Val_c\": 0.0, \"[B]_MalDH1_m\": -0.83196741178088851, \"[M]_Tr_Lys1\": 0.0, \"[B]_MalDH1_h\": 0.0, \"[B]_GPAT_h\": 0.0076717870032977486, \"[M]_AMPK_c\": 0.0, \"[M]_cplx4_m\": 0.032181419384366521, \"[M]_Ex_Frc\": 0.0, \"[B]_Ex_Leu_c\": 0.0, \"[B]_MalDH1_p\": 1.8527918016969616, \"[B]_NO3R1_c\": 1.1416838508420364, \"[B]_PEPC2_c\": 0.0, \"[M]_Tr_Pyr_Mal_hc\": 0.029292277648985027, \"[B]_Ex_Thr_m\": 0.0, \"[M]_PyrDH2_m\": 0.0, \"[B]_Tr_NDT1\": 0.0, \"[M]_Ru5PK_h\": 29.554310775841522, \"[B]_RBC_h\": 2.6227602427552128, \"[B]_Tr_NDT2\": 0.0, \"[B]_ADNN_c\": 0.0, \"[M]_CysS_c\": 0.0, \"[M]_CysS_m\": 0.0, \"[M]_Tr_DIC4\": 0.0, \"[M]_DHADA2_h\": 0.0, \"[M]_ATPPRT_h\": 0.0027897407284719102, \"[M]_CysS_h\": 0.0, \"[M]_Tr_DIC1\": 0.0, \"[B]_DHADA2_h\": 0.025107666556247181, \"[M]_Ex_Asn_c\": 0.0, \"[M]_NGAM_c\": 0.050349979617494899, \"[M]_Ex_Glu_c\": 0.0, \"[M]_Ex_Cys_m\": 0.0, \"[M]_Tr_SCA\": 0.0, \"[M]_GAPDH3_c\": 0.0, \"[B]_Tr_AAC\": 0.83196741178088818, \"[M]_Ex_Asn_m\": 0.0, \"[M]_NGAM_m\": 0.0091111872455015702, \"[M]_GMPS_c\": 0.0, \"[B]_Si_H_m\": 1.3219737995685763, \"[M]_Tr_Ile2\": 0.0, \"[B]_GluDH1NAD_m\": 1.1541824659193967, \"[B]_F6PK2_c\": 0.0, \"[M]_3IPMDH_h\": 0.0, \"[B]_Si_H_h\": 2.8567943820721946, \"[B]_HisalPDH_h\": 0.0, \"[M]_Tr_Pi\": -0.98622216006672425, \"[MB]_Mal_c\": 0.52795843286331101, \"[B]_cplx5_m\": 0.84107859902638971, \"[M]_ANTS_h\": 0.0062769166390617935, \"[B]_Si_H_c\": 0.0, \"[B]_Tr_Gln\": 0.0, \"[M]_PPIase_c\": 1.5343574006595522, \"[M]_Tr_Pyr_H_hc\": 0.0, \"[B]_Tr_pGlc\": 0.0, \"[B]_MetAdT_c\": 0.0, \"[M]_GCAO_h\": 1.4792584424235108e-14, \"[B]_Tr_Gly\": -3.5022124585794137, \"[B]_HEXK_c\": 0.0, \"[B]_Tr_His1\": 0.0, \"[B]_ThrS_h\": 0.051610203476729941, \"[M]_Tr_NDT2\": -1.0646982100994188e-14, \"[B]_DAHPS_h\": 0.0076717870032977512, \"[B]_cplx1_m\": 0.25232357970791691, \"[B]_Ex_His_m\": 0.0, \"[M]_DHODH_m\": 0.0, \"[M]_AOrnAGluAcT_h\": 0.011158962913887639, \"[M]_iCitDHNADP_h\": 0.0, \"[B]_MalDH3_h\": 0.75361934434317268, \"[M]_iCitDHNADP_m\": 0.0, \"[M]_Ex_Trp_h\": 0.0, \"[B]_SO3R_h\": 0.0048820462748258419, \"[M]_iCitDHNADP_c\": 0.0, \"[M]_Tr_P5C2\": 0.0, \"[M]_GlyHMT_c\": 0.0, \"[B]_cplx3_m\": 0.25232357970791686, \"[M]_Tr_P5C1\": 0.0, \"[B]_ThrDA_h\": 0.0083692221854157287, \"[M]_Ex_Trp_p\": 0.0, \"[M]_DCAMPS_h\": 0.0027897407284867026, \"[M]_Ex_Glu_h\": 0.0, \"[B]_PGR5PGRL12_h\": 0.0, \"[B]_Ex_Ile_h\": 0.0, \"[M]_CAT_h\": 7.396292212117554e-15, \"[B]_Ex_Ile_m\": 0.0, \"[B]_Si_H_p\": 0.0, \"[B]_Tr_OAA\": -1.8527918016969616, \"[B]_Ex_Ile_p\": 0.0, \"[M]_CHRM_h\": 0.0041846110927078644, \"[M]_Ex_Trp_c\": 0.0, \"[M]_CAT_p\": 0.22533040165601309, \"[B]_NO2R_h\": 0.67121257356143804, \"[B]_Ex_Ser_p\": 0.0, \"[M]_Tr_TPT3\": 1.6244887918528115, \"[B]_P5CDHNAD_m\": 0.0, \"[M]_AGNDA_h\": 0.0, \"[M]_Ex_Trp_m\": 0.0, \"[B]_P5CDHNAD_h\": 0.0, \"[M]_Ex_Thr_c\": 0.0, \"[B]_SCASeADH_m\": 0.0}, \"ignore_bootstrap\": true, \"scroll_behavior\": \"none\"}'),\n",
       "               builder_embed_css: JSON.parse('null'),\n",
       "               map_data: JSON.parse('[{\"map_name\":\"new_map\",\"map_id\":\"cPBjQ56p0ATA\",\"map_description\":\"\\\\nLast Modified Mon Jul 30 2018 11:01:17 GMT+0200 (CEST)\",\"homepage\":\"https://escher.github.io\",\"schema\":\"https://escher.github.io/escher/jsonschema/1-0-0#\"},{\"reactions\":{\"3\":{\"name\":\"Import CO2\",\"bigg_id\":\"[M]_Im_CO2\",\"reversibility\":false,\"label_x\":1300.6845092773438,\"label_y\":-978.7737426757812,\"gene_reaction_rule\":\"\",\"genes\":[],\"metabolites\":[{\"bigg_id\":\"[M]_CO2_c\",\"coefficient\":1}],\"segments\":{\"9\":{\"from_node_id\":\"13\",\"to_node_id\":\"14\",\"b1\":null,\"b2\":null},\"10\":{\"from_node_id\":\"15\",\"to_node_id\":\"14\",\"b1\":null,\"b2\":null},\"11\":{\"from_node_id\":\"15\",\"to_node_id\":\"12\",\"b1\":{\"x\":1285.6845092773438,\"y\":-926.7737426757812},\"b2\":{\"x\":1289.6665649414062,\"y\":-378.75006103515625}}}},\"4\":{\"name\":\"CO2 diffusion\",\"bigg_id\":\"[M]_Tr_CO2h\",\"reversibility\":true,\"label_x\":1013.1581420898438,\"label_y\":-354.0567932128906,\"gene_reaction_rule\":\"\",\"genes\":[],\"metabolites\":[{\"bigg_id\":\"[M]_CO2_c\",\"coefficient\":-1},{\"bigg_id\":\"[M]_CO2_h\",\"coefficient\":1}],\"segments\":{\"12\":{\"from_node_id\":\"16\",\"to_node_id\":\"17\",\"b1\":null,\"b2\":null},\"13\":{\"from_node_id\":\"18\",\"to_node_id\":\"17\",\"b1\":null,\"b2\":null},\"14\":{\"from_node_id\":\"16\",\"to_node_id\":\"12\",\"b1\":{\"x\":1176.6665649414062,\"y\":-320.00006103515625},\"b2\":{\"x\":1230.9165649414062,\"y\":-320.00006103515625}},\"15\":{\"from_node_id\":\"18\",\"to_node_id\":\"19\",\"b1\":{\"x\":1052.6665649414062,\"y\":-320.0000610351562},\"b2\":{\"x\":998.4165649414062,\"y\":-320.0000610351562}}}},\"5\":{\"name\":\"RuBisCO\",\"bigg_id\":\"[M]_RBC_h\",\"reversibility\":false,\"label_x\":689.8250122070312,\"label_y\":-269.3552856445312,\"gene_reaction_rule\":\"\",\"genes\":[],\"metabolites\":[{\"bigg_id\":\"[M]_CO2_h\",\"coefficient\":-1},{\"bigg_id\":\"[M]_H2O_h\",\"coefficient\":-1},{\"bigg_id\":\"[M]_H_h\",\"coefficient\":2},{\"bigg_id\":\"[M]_PGA_h\",\"coefficient\":2},{\"bigg_id\":\"[M]_RuBP_h\",\"coefficient\":-1}],\"segments\":{\"16\":{\"from_node_id\":\"20\",\"to_node_id\":\"21\",\"b1\":null,\"b2\":null},\"17\":{\"from_node_id\":\"22\",\"to_node_id\":\"21\",\"b1\":null,\"b2\":null},\"18\":{\"from_node_id\":\"20\",\"to_node_id\":\"19\",\"b1\":{\"x\":826.6665649414062,\"y\":-320.0000610351562},\"b2\":{\"x\":880.9165649414062,\"y\":-320.0000610351562}},\"21\":{\"from_node_id\":\"22\",\"to_node_id\":\"25\",\"b1\":{\"x\":698.6665649414062,\"y\":-320.00006103515614},\"b2\":{\"x\":653.935546875,\"y\":-318.99801635742176}},\"22\":{\"from_node_id\":\"20\",\"to_node_id\":\"26\",\"b1\":{\"x\":830.6665649414062,\"y\":-320.0000610351562},\"b2\":{\"x\":881.2373046875,\"y\":-439.61360931396484}}}},\"6\":{\"name\":\"RuBisCO\",\"bigg_id\":\"[M]_RBO_h\",\"reversibility\":false,\"label_x\":694.37890625,\"label_y\":-573.3093070983886,\"gene_reaction_rule\":\"\",\"genes\":[],\"metabolites\":[{\"bigg_id\":\"[M]_H_h\",\"coefficient\":2},{\"bigg_id\":\"[M]_O2_h\",\"coefficient\":-1},{\"bigg_id\":\"[M]_PGA_h\",\"coefficient\":1},{\"bigg_id\":\"[M]_PGCA_h\",\"coefficient\":1},{\"bigg_id\":\"[M]_RuBP_h\",\"coefficient\":-1}],\"segments\":{\"23\":{\"from_node_id\":\"27\",\"to_node_id\":\"28\",\"b1\":null,\"b2\":null},\"24\":{\"from_node_id\":\"29\",\"to_node_id\":\"28\",\"b1\":null,\"b2\":null},\"27\":{\"from_node_id\":\"29\",\"to_node_id\":\"25\",\"b1\":{\"x\":702.5404052734375,\"y\":-547.3853912353514},\"b2\":{\"x\":610.8214111328125,\"y\":-468.84315490722645}},\"28\":{\"from_node_id\":\"29\",\"to_node_id\":\"33\",\"b1\":{\"x\":702.5404052734375,\"y\":-547.3853912353514},\"b2\":{\"x\":630.3623657226562,\"y\":-548.0520381927489}},\"29\":{\"from_node_id\":\"27\",\"to_node_id\":\"26\",\"b1\":{\"x\":830.5404052734375,\"y\":-547.3853912353516},\"b2\":{\"x\":881.5706176757812,\"y\":-440.28026580810547}}}},\"7\":{\"name\":\"PGCA phosphorylase\",\"bigg_id\":\"[M]_PGP_h\",\"reversibility\":false,\"label_x\":338.2790832519531,\"label_y\":-575.3853797912597,\"gene_reaction_rule\":\"\",\"genes\":[],\"metabolites\":[{\"bigg_id\":\"[M]_GCA_h\",\"coefficient\":1},{\"bigg_id\":\"[M]_H2O_h\",\"coefficient\":-1},{\"bigg_id\":\"[M]_PGCA_h\",\"coefficient\":-1},{\"bigg_id\":\"[M]_Pi_h\",\"coefficient\":1}],\"segments\":{\"30\":{\"from_node_id\":\"34\",\"to_node_id\":\"35\",\"b1\":null,\"b2\":null},\"31\":{\"from_node_id\":\"36\",\"to_node_id\":\"35\",\"b1\":null,\"b2\":null},\"32\":{\"from_node_id\":\"36\",\"to_node_id\":\"37\",\"b1\":{\"x\":344.94573974609375,\"y\":-548.71870803833},\"b2\":{\"x\":322.3774108886719,\"y\":-548.7187080383299}},\"34\":{\"from_node_id\":\"34\",\"to_node_id\":\"33\",\"b1\":{\"x\":468.94573974609375,\"y\":-548.71870803833},\"b2\":{\"x\":523.1957397460938,\"y\":-548.71870803833}}}},\"8\":{\"name\":\"HCO3 dehydratase\",\"bigg_id\":\"[M]_HCO3DHA_c\",\"reversibility\":false,\"label_x\":1304.6665649414062,\"label_y\":-135.00006103515625,\"gene_reaction_rule\":\"\",\"genes\":[],\"metabolites\":[{\"bigg_id\":\"[M]_CO2_c\",\"coefficient\":-1},{\"bigg_id\":\"[M]_H2O_c\",\"coefficient\":-1},{\"bigg_id\":\"[M]_HCO3_c\",\"coefficient\":1},{\"bigg_id\":\"[M]_H_c\",\"coefficient\":1}],\"segments\":{\"36\":{\"from_node_id\":\"40\",\"to_node_id\":\"41\",\"b1\":null,\"b2\":null},\"37\":{\"from_node_id\":\"42\",\"to_node_id\":\"41\",\"b1\":null,\"b2\":null},\"38\":{\"from_node_id\":\"40\",\"to_node_id\":\"12\",\"b1\":{\"x\":1289.6665649414062,\"y\":-207.00006103515625},\"b2\":{\"x\":1289.6665649414062,\"y\":-261.25006103515625}},\"40\":{\"from_node_id\":\"42\",\"to_node_id\":\"44\",\"b1\":{\"x\":1289.6665649414062,\"y\":-83.00006103515625},\"b2\":{\"x\":1289.6665649414062,\"y\":-28.75006103515625}}}},\"10\":{\"name\":\"PEP carboxylase\",\"bigg_id\":\"[M]_PEPC2_c\",\"reversibility\":true,\"label_x\":1422.7590942382812,\"label_y\":77.27912712097168,\"gene_reaction_rule\":\"\",\"genes\":[],\"metabolites\":[{\"bigg_id\":\"[M]_HCO3_c\",\"coefficient\":1},{\"bigg_id\":\"[M]_OAA_c\",\"coefficient\":-1},{\"bigg_id\":\"[M]_PEP_c\",\"coefficient\":1},{\"bigg_id\":\"[M]_Pi_c\",\"coefficient\":-1}],\"segments\":{\"48\":{\"from_node_id\":\"52\",\"to_node_id\":\"53\",\"b1\":null,\"b2\":null},\"49\":{\"from_node_id\":\"54\",\"to_node_id\":\"53\",\"b1\":null,\"b2\":null},\"50\":{\"from_node_id\":\"54\",\"to_node_id\":\"44\",\"b1\":{\"x\":1404.1141737571454,\"y\":10.721262307582037},\"b2\":{\"x\":1417.7417602539062,\"y\":29.9779634475708}},\"51\":{\"from_node_id\":\"52\",\"to_node_id\":\"55\",\"b1\":{\"x\":1285.7354632437239,\"y\":214.6221250124529},\"b2\":{\"x\":1284.9165649414062,\"y\":216.66662979125977}},\"52\":{\"from_node_id\":\"54\",\"to_node_id\":\"56\",\"b1\":{\"x\":1320.831744884119,\"y\":173.91463554749566},\"b2\":{\"x\":1338.1442260742188,\"y\":174.44183349609375}}}},\"11\":{\"name\":\"Mal dehydrogenase\",\"bigg_id\":\"[M]_MalDH1_c\",\"reversibility\":true,\"label_x\":1297.1358032226562,\"label_y\":550.7036323547363,\"gene_reaction_rule\":\"\",\"genes\":[],\"metabolites\":[{\"bigg_id\":\"[M]_H_c\",\"coefficient\":1},{\"bigg_id\":\"[M]_Mal_c\",\"coefficient\":-1},{\"bigg_id\":\"[M]_NADH_c\",\"coefficient\":1},{\"bigg_id\":\"[M]_NAD_c\",\"coefficient\":-1},{\"bigg_id\":\"[M]_OAA_c\",\"coefficient\":1}],\"segments\":{\"54\":{\"from_node_id\":\"58\",\"to_node_id\":\"59\",\"b1\":null,\"b2\":null},\"55\":{\"from_node_id\":\"60\",\"to_node_id\":\"59\",\"b1\":null,\"b2\":null},\"57\":{\"from_node_id\":\"58\",\"to_node_id\":\"62\",\"b1\":{\"x\":1287.6666870117188,\"y\":600.3332710266113},\"b2\":{\"x\":1288.2583618164062,\"y\":655.1749458312988}},\"60\":{\"from_node_id\":\"60\",\"to_node_id\":\"55\",\"b1\":{\"x\":1287.6666870117188,\"y\":476.3332710266113},\"b2\":{\"x\":1287.6666870117188,\"y\":422.0832710266113}}}},\"12\":{\"name\":\"Dicarboxylate transporter\",\"bigg_id\":\"[M]_Tr_DIT1_OAA\",\"reversibility\":true,\"label_x\":976.897114103185,\"label_y\":328.4692601131612,\"gene_reaction_rule\":\"\",\"genes\":[],\"metabolites\":[{\"bigg_id\":\"[M]_Mal_c\",\"coefficient\":1},{\"bigg_id\":\"[M]_Mal_h\",\"coefficient\":-1},{\"bigg_id\":\"[M]_OAA_c\",\"coefficient\":-1},{\"bigg_id\":\"[M]_OAA_h\",\"coefficient\":1}],\"segments\":{\"61\":{\"from_node_id\":\"65\",\"to_node_id\":\"66\",\"b1\":null,\"b2\":null},\"62\":{\"from_node_id\":\"67\",\"to_node_id\":\"66\",\"b1\":null,\"b2\":null},\"63\":{\"from_node_id\":\"67\",\"to_node_id\":\"62\",\"b1\":{\"x\":1104.434084619332,\"y\":597.4528029043886},\"b2\":{\"x\":1210.3419189453125,\"y\":713.5545539855957}},\"64\":{\"from_node_id\":\"65\",\"to_node_id\":\"69\",\"b1\":{\"x\":1104.913831981156,\"y\":469.4537019604029},\"b2\":{\"x\":1007.6513479511395,\"y\":367.39463617939714}},\"65\":{\"from_node_id\":\"65\",\"to_node_id\":\"55\",\"b1\":{\"x\":1104.8988398760982,\"y\":473.4536738649029},\"b2\":{\"x\":1228.9166870117188,\"y\":363.3332710266113}},\"66\":{\"from_node_id\":\"67\",\"to_node_id\":\"70\",\"b1\":{\"x\":1104.4190925142746,\"y\":601.4527748088888},\"b2\":{\"x\":1012.4505061616076,\"y\":721.8936963123499}}}},\"13\":{\"name\":\"Mal dehydrogenase\",\"bigg_id\":\"[M]_MalDH3_h\",\"reversibility\":true,\"label_x\":715.5418291225017,\"label_y\":581.5765275892197,\"gene_reaction_rule\":\"\",\"genes\":[],\"metabolites\":[{\"bigg_id\":\"[M]_H_h\",\"coefficient\":-1},{\"bigg_id\":\"[M]_Mal_h\",\"coefficient\":1},{\"bigg_id\":\"[M]_NADPH_h\",\"coefficient\":-1},{\"bigg_id\":\"[M]_NADP_h\",\"coefficient\":1},{\"bigg_id\":\"[M]_OAA_h\",\"coefficient\":-1}],\"segments\":{\"67\":{\"from_node_id\":\"71\",\"to_node_id\":\"72\",\"b1\":null,\"b2\":null},\"68\":{\"from_node_id\":\"73\",\"to_node_id\":\"72\",\"b1\":null,\"b2\":null},\"70\":{\"from_node_id\":\"73\",\"to_node_id\":\"69\",\"b1\":{\"x\":937.7782182826579,\"y\":475.74583911265717},\"b2\":{\"x\":936.4449052943767,\"y\":425.49583911265717}},\"73\":{\"from_node_id\":\"71\",\"to_node_id\":\"70\",\"b1\":{\"x\":937.7782182826579,\"y\":603.7458391126572},\"b2\":{\"x\":938.4449052943767,\"y\":670.3291521009385}}}},\"16\":{\"name\":\"Asp aminotransferase\",\"bigg_id\":\"[M]_AspAT2_c\",\"reversibility\":true,\"label_x\":3173.9678344726562,\"label_y\":554.1748847961426,\"gene_reaction_rule\":\"\",\"genes\":[],\"metabolites\":[{\"bigg_id\":\"[M]_Ala_c\",\"coefficient\":-1},{\"bigg_id\":\"[M]_Asp_c\",\"coefficient\":1},{\"bigg_id\":\"[M]_OAA_c\",\"coefficient\":-1},{\"bigg_id\":\"[M]_Pyr_c\",\"coefficient\":1}],\"segments\":{\"86\":{\"from_node_id\":\"90\",\"to_node_id\":\"91\",\"b1\":null,\"b2\":null},\"87\":{\"from_node_id\":\"92\",\"to_node_id\":\"91\",\"b1\":null,\"b2\":null},\"88\":{\"from_node_id\":\"90\",\"to_node_id\":\"93\",\"b1\":{\"x\":3158.9678344726562,\"y\":476.0020942687988},\"b2\":{\"x\":3335.6698608398438,\"y\":492.16301345825195}},\"89\":{\"from_node_id\":\"92\",\"to_node_id\":\"94\",\"b1\":{\"x\":3158.5728149414062,\"y\":604.8415718078613},\"b2\":{\"x\":3340.2542114257812,\"y\":610.641040802002}},\"90\":{\"from_node_id\":\"90\",\"to_node_id\":\"55\",\"b1\":{\"x\":3161.9219360351562,\"y\":367.7466926574707},\"b2\":{\"x\":1529.3112182617188,\"y\":361.81987380981445}},\"91\":{\"from_node_id\":\"92\",\"to_node_id\":\"95\",\"b1\":{\"x\":3158.5728149414062,\"y\":608.8415718078613},\"b2\":{\"x\":2989.7009887695312,\"y\":612.0880928039551}}}},\"17\":{\"name\":\"PEP/Pi translocator\",\"bigg_id\":\"[M]_Tr_PPT\",\"reversibility\":true,\"label_x\":1042.2079467773438,\"label_y\":94.60987854003909,\"gene_reaction_rule\":\"\",\"genes\":[],\"metabolites\":[{\"bigg_id\":\"[M]_H_c\",\"coefficient\":-1},{\"bigg_id\":\"[M]_H_h\",\"coefficient\":1},{\"bigg_id\":\"[M]_PEP_c\",\"coefficient\":-1},{\"bigg_id\":\"[M]_PEP_h\",\"coefficient\":1},{\"bigg_id\":\"[M]_Pi_c\",\"coefficient\":1},{\"bigg_id\":\"[M]_Pi_h\",\"coefficient\":-1}],\"segments\":{\"92\":{\"from_node_id\":\"96\",\"to_node_id\":\"97\",\"b1\":null,\"b2\":null},\"93\":{\"from_node_id\":\"98\",\"to_node_id\":\"97\",\"b1\":null,\"b2\":null},\"96\":{\"from_node_id\":\"96\",\"to_node_id\":\"56\",\"b1\":{\"x\":1175.9999389648438,\"y\":128.66659545898438},\"b2\":{\"x\":1230.2499389648438,\"y\":128.66659545898438}},\"97\":{\"from_node_id\":\"98\",\"to_node_id\":\"101\",\"b1\":{\"x\":1051.9999389648438,\"y\":128.6665954589844},\"b2\":{\"x\":997.7499389648438,\"y\":128.6665954589844}}}},\"18\":{\"name\":\"Pyr/H+ translocator\",\"bigg_id\":\"[M]_Tr_Pyr_H_hc\",\"reversibility\":true,\"label_x\":1003.2914428710938,\"label_y\":807.9956245422363,\"gene_reaction_rule\":\"\",\"genes\":[],\"metabolites\":[{\"bigg_id\":\"[M]_H_c\",\"coefficient\":-1},{\"bigg_id\":\"[M]_H_h\",\"coefficient\":1},{\"bigg_id\":\"[M]_Pyr_c\",\"coefficient\":-1},{\"bigg_id\":\"[M]_Pyr_h\",\"coefficient\":1}],\"segments\":{\"100\":{\"from_node_id\":\"104\",\"to_node_id\":\"105\",\"b1\":null,\"b2\":null},\"101\":{\"from_node_id\":\"106\",\"to_node_id\":\"105\",\"b1\":null,\"b2\":null},\"104\":{\"from_node_id\":\"104\",\"to_node_id\":\"95\",\"b1\":{\"x\":2911.2495727539062,\"y\":838.5020942687988},\"b2\":{\"x\":2909.8539428710938,\"y\":840.5639228820801}},\"105\":{\"from_node_id\":\"106\",\"to_node_id\":\"109\",\"b1\":{\"x\":1052.7053833007812,\"y\":842.0523262023926},\"b2\":{\"x\":998.4553833007812,\"y\":842.0523262023926}}}},\"19\":{\"name\":\"Pyr phosphate dikinase\",\"bigg_id\":\"[M]_PyrPiDK_h\",\"reversibility\":true,\"label_x\":529.501953125,\"label_y\":493.18254470825195,\"gene_reaction_rule\":\"\",\"genes\":[],\"metabolites\":[{\"bigg_id\":\"[M]_AMP_h\",\"coefficient\":1},{\"bigg_id\":\"[M]_ATP_h\",\"coefficient\":-1},{\"bigg_id\":\"[M]_H_h\",\"coefficient\":2},{\"bigg_id\":\"[M]_PEP_h\",\"coefficient\":1},{\"bigg_id\":\"[M]_PPi_h\",\"coefficient\":1},{\"bigg_id\":\"[M]_Pi_h\",\"coefficient\":-1},{\"bigg_id\":\"[M]_Pyr_h\",\"coefficient\":-1}],\"segments\":{\"106\":{\"from_node_id\":\"110\",\"to_node_id\":\"111\",\"b1\":null,\"b2\":null},\"107\":{\"from_node_id\":\"112\",\"to_node_id\":\"111\",\"b1\":null,\"b2\":null},\"111\":{\"from_node_id\":\"112\",\"to_node_id\":\"101\",\"b1\":{\"x\":773.6394687410274,\"y\":129.17727754133807},\"b2\":{\"x\":774.4884643554688,\"y\":129.04831314086914}},\"114\":{\"from_node_id\":\"110\",\"to_node_id\":\"109\",\"b1\":{\"x\":770.5639003995976,\"y\":845.4735327003611},\"b2\":{\"x\":746.6383666992188,\"y\":848.5609931945801}}}},\"20\":{\"name\":\"GCA/GCEA shuffle\",\"bigg_id\":\"[M]_Tr_GCA1\",\"reversibility\":true,\"label_x\":-347.523193359375,\"label_y\":-575.9166297912595,\"gene_reaction_rule\":\"\",\"genes\":[],\"metabolites\":[{\"bigg_id\":\"[M]_GCA_c\",\"coefficient\":1},{\"bigg_id\":\"[M]_GCA_h\",\"coefficient\":-1}],\"segments\":{\"115\":{\"from_node_id\":\"119\",\"to_node_id\":\"120\",\"b1\":null,\"b2\":null},\"116\":{\"from_node_id\":\"121\",\"to_node_id\":\"120\",\"b1\":null,\"b2\":null},\"117\":{\"from_node_id\":\"121\",\"to_node_id\":\"122\",\"b1\":{\"x\":-334.7345733642578,\"y\":-547.0999336242674},\"b2\":{\"x\":-391.3478546142578,\"y\":-547.0999336242674}},\"118\":{\"from_node_id\":\"119\",\"to_node_id\":\"37\",\"b1\":{\"x\":-210.7345733642578,\"y\":-547.0999336242674},\"b2\":{\"x\":204.87741088867188,\"y\":-548.7187080383299}}}},\"21\":{\"name\":\"TP/Pi translocator\",\"bigg_id\":\"[M]_Tr_TPT1\",\"reversibility\":true,\"label_x\":-371.6349792480469,\"label_y\":-234.71285247802723,\"gene_reaction_rule\":\"\",\"genes\":[],\"metabolites\":[{\"bigg_id\":\"[M]_PGA_c\",\"coefficient\":1},{\"bigg_id\":\"[M]_PGA_h\",\"coefficient\":-1},{\"bigg_id\":\"[M]_Pi_c\",\"coefficient\":-1},{\"bigg_id\":\"[M]_Pi_h\",\"coefficient\":1}],\"segments\":{\"119\":{\"from_node_id\":\"123\",\"to_node_id\":\"124\",\"b1\":null,\"b2\":null},\"120\":{\"from_node_id\":\"125\",\"to_node_id\":\"124\",\"b1\":null,\"b2\":null},\"121\":{\"from_node_id\":\"125\",\"to_node_id\":\"126\",\"b1\":{\"x\":352.35125732421875,\"y\":-212.13581085205064},\"b2\":{\"x\":-391.97406005859375,\"y\":-210.95417022705064}},\"122\":{\"from_node_id\":\"123\",\"to_node_id\":\"25\",\"b1\":{\"x\":438.37672424316406,\"y\":-305.01483917236317},\"b2\":{\"x\":524.1022338867188,\"y\":-319.66468811035145}}}},\"22\":{\"name\":\"GCEA kinase\",\"bigg_id\":\"[M]_GCEAK_h\",\"reversibility\":false,\"label_x\":290.49908447265625,\"label_y\":-350.21156311035145,\"gene_reaction_rule\":\"\",\"genes\":[],\"metabolites\":[{\"bigg_id\":\"[M]_ADP_h\",\"coefficient\":1},{\"bigg_id\":\"[M]_ATP_h\",\"coefficient\":-1},{\"bigg_id\":\"[M]_GCEA_h\",\"coefficient\":-1},{\"bigg_id\":\"[M]_H_h\",\"coefficient\":1},{\"bigg_id\":\"[M]_PGA_h\",\"coefficient\":1}],\"segments\":{\"125\":{\"from_node_id\":\"129\",\"to_node_id\":\"130\",\"b1\":null,\"b2\":null},\"126\":{\"from_node_id\":\"131\",\"to_node_id\":\"130\",\"b1\":null,\"b2\":null},\"129\":{\"from_node_id\":\"129\",\"to_node_id\":\"134\",\"b1\":{\"x\":364.75848388671875,\"y\":-320.84629821777327},\"b2\":{\"x\":310.50848388671875,\"y\":-320.84629821777327}},\"131\":{\"from_node_id\":\"131\",\"to_node_id\":\"25\",\"b1\":{\"x\":488.75848388671875,\"y\":-320.8462982177733},\"b2\":{\"x\":524.1022338867188,\"y\":-319.66468811035145}}}},\"23\":{\"name\":\"PGA kinase\",\"bigg_id\":\"[M]_PGAK_h\",\"reversibility\":true,\"label_x\":382.4879913330078,\"label_y\":101.38884925842297,\"gene_reaction_rule\":\"\",\"genes\":[],\"metabolites\":[{\"bigg_id\":\"[M]_ADP_h\",\"coefficient\":1},{\"bigg_id\":\"[M]_ATP_h\",\"coefficient\":-1},{\"bigg_id\":\"[M]_DPGA_h\",\"coefficient\":1},{\"bigg_id\":\"[M]_PGA_h\",\"coefficient\":-1}],\"segments\":{\"132\":{\"from_node_id\":\"136\",\"to_node_id\":\"137\",\"b1\":null,\"b2\":null},\"133\":{\"from_node_id\":\"138\",\"to_node_id\":\"137\",\"b1\":null,\"b2\":null},\"136\":{\"from_node_id\":\"138\",\"to_node_id\":\"141\",\"b1\":{\"x\":356.34791564941406,\"y\":53.24074935913103},\"b2\":{\"x\":302.09791564941406,\"y\":53.24074935913103}},\"137\":{\"from_node_id\":\"136\",\"to_node_id\":\"25\",\"b1\":{\"x\":531.7277984619141,\"y\":57.19304656982433},\"b2\":{\"x\":409.4855651855469,\"y\":-321.6408538818358}}}},\"24\":{\"name\":\"GAP dehydrogenase\",\"bigg_id\":\"[M]_GAPDH1_h\",\"reversibility\":false,\"label_x\":18.347915649414062,\"label_y\":13.24074935913103,\"gene_reaction_rule\":\"\",\"genes\":[],\"metabolites\":[{\"bigg_id\":\"[M]_DPGA_h\",\"coefficient\":-1},{\"bigg_id\":\"[M]_GAP_h\",\"coefficient\":1},{\"bigg_id\":\"[M]_H_h\",\"coefficient\":-1},{\"bigg_id\":\"[M]_NADPH_h\",\"coefficient\":-1},{\"bigg_id\":\"[M]_NADP_h\",\"coefficient\":1},{\"bigg_id\":\"[M]_Pi_h\",\"coefficient\":1}],\"segments\":{\"138\":{\"from_node_id\":\"142\",\"to_node_id\":\"143\",\"b1\":null,\"b2\":null},\"139\":{\"from_node_id\":\"144\",\"to_node_id\":\"143\",\"b1\":null,\"b2\":null},\"140\":{\"from_node_id\":\"142\",\"to_node_id\":\"141\",\"b1\":{\"x\":130.34791564941406,\"y\":53.24074935913103},\"b2\":{\"x\":184.59791564941406,\"y\":53.24074935913103}},\"141\":{\"from_node_id\":\"144\",\"to_node_id\":\"145\",\"b1\":{\"x\":6.3479156494140625,\"y\":53.24074935913109},\"b2\":{\"x\":-47.90208435058594,\"y\":53.24074935913109}}}},\"26\":{\"name\":\"GCA/GCEA shuffle\",\"bigg_id\":\"[M]_Tr_GCEA1\",\"reversibility\":true,\"label_x\":-375.06988525390625,\"label_y\":-359.66465759277327,\"gene_reaction_rule\":\"\",\"genes\":[],\"metabolites\":[{\"bigg_id\":\"[M]_GCEA_c\",\"coefficient\":-1},{\"bigg_id\":\"[M]_GCEA_h\",\"coefficient\":1}],\"segments\":{\"152\":{\"from_node_id\":\"156\",\"to_node_id\":\"157\",\"b1\":null,\"b2\":null},\"153\":{\"from_node_id\":\"158\",\"to_node_id\":\"157\",\"b1\":null,\"b2\":null},\"154\":{\"from_node_id\":\"156\",\"to_node_id\":\"159\",\"b1\":{\"x\":-341.5047149658203,\"y\":-319.6646575927732},\"b2\":{\"x\":-391.35450744628906,\"y\":-319.6646575927732}},\"155\":{\"from_node_id\":\"158\",\"to_node_id\":\"134\",\"b1\":{\"x\":-217.5047149658203,\"y\":-319.66465759277327},\"b2\":{\"x\":193.00848388671875,\"y\":-320.84629821777327}}}},\"30\":{\"name\":\"[MB]_Mal_c\",\"bigg_id\":\"[MB]_Mal_c\",\"reversibility\":true,\"label_x\":1302.3710327148438,\"label_y\":1375.2666816711426,\"gene_reaction_rule\":\"\",\"genes\":[],\"metabolites\":[{\"bigg_id\":\"[B]_Mal_c\",\"coefficient\":1},{\"bigg_id\":\"[M]_Mal_c\",\"coefficient\":-1}],\"segments\":{\"170\":{\"from_node_id\":\"174\",\"to_node_id\":\"175\",\"b1\":null,\"b2\":null},\"171\":{\"from_node_id\":\"176\",\"to_node_id\":\"175\",\"b1\":null,\"b2\":null},\"172\":{\"from_node_id\":\"176\",\"to_node_id\":\"177\",\"b1\":{\"x\":1291.9885864257812,\"y\":1525.0464668273926},\"b2\":{\"x\":1291.9885864257812,\"y\":1579.2964668273926}},\"173\":{\"from_node_id\":\"174\",\"to_node_id\":\"62\",\"b1\":{\"x\":1288.8482055664062,\"y\":1065.025592803955},\"b2\":{\"x\":1288.2583618164062,\"y\":772.6749458312988}}}},\"31\":{\"name\":\"[MB]_Pyr_c\",\"bigg_id\":\"[MB]_Pyr_c\",\"reversibility\":true,\"label_x\":2810.7168579101562,\"label_y\":1380.08443069458,\"gene_reaction_rule\":\"\",\"genes\":[],\"metabolites\":[{\"bigg_id\":\"[B]_Pyr_c\",\"coefficient\":1},{\"bigg_id\":\"[M]_Pyr_c\",\"coefficient\":-1}],\"segments\":{\"174\":{\"from_node_id\":\"178\",\"to_node_id\":\"179\",\"b1\":null,\"b2\":null},\"175\":{\"from_node_id\":\"180\",\"to_node_id\":\"179\",\"b1\":null,\"b2\":null},\"176\":{\"from_node_id\":\"180\",\"to_node_id\":\"181\",\"b1\":{\"x\":2988.9026489257812,\"y\":1528.0994453430176},\"b2\":{\"x\":2988.9026489257812,\"y\":1582.3494453430176}},\"177\":{\"from_node_id\":\"178\",\"to_node_id\":\"95\",\"b1\":{\"x\":2985.7622680664062,\"y\":1068.07857131958},\"b2\":{\"x\":2989.3306274414062,\"y\":777.8069038391113}}}},\"32\":{\"name\":\"[MB]_Asp_c\",\"bigg_id\":\"[MB]_Asp_c\",\"reversibility\":true,\"label_x\":3139.0067749023438,\"label_y\":1384.6061897277832,\"gene_reaction_rule\":\"\",\"genes\":[],\"metabolites\":[{\"bigg_id\":\"[B]_Asp_c\",\"coefficient\":1},{\"bigg_id\":\"[M]_Asp_c\",\"coefficient\":-1}],\"segments\":{\"178\":{\"from_node_id\":\"182\",\"to_node_id\":\"183\",\"b1\":null,\"b2\":null},\"179\":{\"from_node_id\":\"184\",\"to_node_id\":\"183\",\"b1\":null,\"b2\":null},\"180\":{\"from_node_id\":\"184\",\"to_node_id\":\"185\",\"b1\":{\"x\":3339.7593383789062,\"y\":1526.9877815246582},\"b2\":{\"x\":3339.7593383789062,\"y\":1581.2377815246582}},\"181\":{\"from_node_id\":\"182\",\"to_node_id\":\"94\",\"b1\":{\"x\":3336.6189575195312,\"y\":1066.9669075012207},\"b2\":{\"x\":3338.1416625976562,\"y\":774.6162605285645}}}},\"33\":{\"name\":\"[MB]_Ala_c\",\"bigg_id\":\"[MB]_Ala_c\",\"reversibility\":true,\"label_x\":3400.4382934570312,\"label_y\":1386.5605964660645,\"gene_reaction_rule\":\"\",\"genes\":[],\"metabolites\":[{\"bigg_id\":\"[B]_Ala_c\",\"coefficient\":1},{\"bigg_id\":\"[M]_Ala_c\",\"coefficient\":-1}],\"segments\":{\"182\":{\"from_node_id\":\"186\",\"to_node_id\":\"187\",\"b1\":null,\"b2\":null},\"183\":{\"from_node_id\":\"188\",\"to_node_id\":\"187\",\"b1\":null,\"b2\":null},\"184\":{\"from_node_id\":\"188\",\"to_node_id\":\"189\",\"b1\":{\"x\":3587.2233276367188,\"y\":1522.486011505127},\"b2\":{\"x\":3587.2233276367188,\"y\":1576.736011505127}},\"185\":{\"from_node_id\":\"186\",\"to_node_id\":\"93\",\"b1\":{\"x\":3584.6729125976562,\"y\":347.3707160949707},\"b2\":{\"x\":3616.6533813476562,\"y\":372.2078437805176}}}},\"35\":{\"name\":\"[MB]_CO2_c\",\"bigg_id\":\"[MB]_CO2_c\",\"reversibility\":true,\"label_x\":3940.9288917200147,\"label_y\":1393.379332223467,\"gene_reaction_rule\":\"\",\"genes\":[],\"metabolites\":[{\"bigg_id\":\"[B]_CO2_ex_c\",\"coefficient\":1},{\"bigg_id\":\"[M]_CO2_c\",\"coefficient\":-1}],\"segments\":{\"190\":{\"from_node_id\":\"194\",\"to_node_id\":\"195\",\"b1\":null,\"b2\":null},\"191\":{\"from_node_id\":\"196\",\"to_node_id\":\"195\",\"b1\":null,\"b2\":null},\"192\":{\"from_node_id\":\"196\",\"to_node_id\":\"197\",\"b1\":{\"x\":3898.937036753044,\"y\":833.58201839673},\"b2\":{\"x\":3899.593821860068,\"y\":1573.9375504465897}},\"193\":{\"from_node_id\":\"194\",\"to_node_id\":\"12\",\"b1\":{\"x\":3907.367401960425,\"y\":-321.84941596151566},\"b2\":{\"x\":3908.0968627929688,\"y\":-318.7892150878906}}}},\"44\":{\"name\":\"[MB]_PEP_c\",\"bigg_id\":\"[MB]_PEP_c\",\"reversibility\":true,\"label_x\":2576.147402133158,\"label_y\":1381.696127612824,\"gene_reaction_rule\":\"\",\"genes\":[],\"metabolites\":[{\"bigg_id\":\"[B]_PEP_c\",\"coefficient\":1},{\"bigg_id\":\"[M]_PEP_c\",\"coefficient\":-1}],\"segments\":{\"226\":{\"from_node_id\":\"230\",\"to_node_id\":\"231\",\"b1\":null,\"b2\":null},\"227\":{\"from_node_id\":\"232\",\"to_node_id\":\"231\",\"b1\":null,\"b2\":null},\"228\":{\"from_node_id\":\"232\",\"to_node_id\":\"233\",\"b1\":{\"x\":2762.6847789940966,\"y\":1525.9061659803913},\"b2\":{\"x\":2762.091568220075,\"y\":1580.1529225744735}},\"229\":{\"from_node_id\":\"230\",\"to_node_id\":\"56\",\"b1\":{\"x\":2781.0395907019065,\"y\":194.5973715938901},\"b2\":{\"x\":1580.3357543945312,\"y\":129.1154022216797}}}},\"47\":{\"name\":\"TP isomerase\",\"bigg_id\":\"[M]_TPI_h\",\"reversibility\":true,\"label_x\":84.2252311706543,\"label_y\":244.16918563842796,\"gene_reaction_rule\":\"\",\"genes\":[],\"metabolites\":[{\"bigg_id\":\"[M]_DHAP_h\",\"coefficient\":1},{\"bigg_id\":\"[M]_GAP_h\",\"coefficient\":-1}],\"segments\":{\"238\":{\"from_node_id\":\"242\",\"to_node_id\":\"243\",\"b1\":null,\"b2\":null},\"239\":{\"from_node_id\":\"244\",\"to_node_id\":\"243\",\"b1\":null,\"b2\":null},\"240\":{\"from_node_id\":\"244\",\"to_node_id\":\"163\",\"b1\":{\"x\":69.2252311706543,\"y\":296.16918563842796},\"b2\":{\"x\":68.34518814086914,\"y\":351.2992515563967}},\"241\":{\"from_node_id\":\"242\",\"to_node_id\":\"145\",\"b1\":{\"x\":69.2252311706543,\"y\":172.16918563842796},\"b2\":{\"x\":67.9828872680664,\"y\":178.51836013793968}}}},\"48\":{\"name\":\"[MB]_GCA_c\",\"bigg_id\":\"[MB]_GCA_c\",\"reversibility\":true,\"label_x\":-1374.2220474737562,\"label_y\":1376.9941670999697,\"gene_reaction_rule\":\"\",\"genes\":[],\"metabolites\":[{\"bigg_id\":\"[B]_GCA_c\",\"coefficient\":1},{\"bigg_id\":\"[M]_GCA_c\",\"coefficient\":-1}],\"segments\":{\"242\":{\"from_node_id\":\"246\",\"to_node_id\":\"247\",\"b1\":null,\"b2\":null},\"243\":{\"from_node_id\":\"248\",\"to_node_id\":\"247\",\"b1\":null,\"b2\":null},\"244\":{\"from_node_id\":\"248\",\"to_node_id\":\"249\",\"b1\":{\"x\":-1387.8183642982244,\"y\":652.172380836736},\"b2\":{\"x\":-1390.524925455181,\"y\":1580.7339040990823}},\"245\":{\"from_node_id\":\"246\",\"to_node_id\":\"122\",\"b1\":{\"x\":-1389.980711118038,\"y\":-546.8529309141404},\"b2\":{\"x\":-1390.2105865478516,\"y\":-547.0999336242674}}}},\"49\":{\"name\":\"[MB]_GCEA_c\",\"bigg_id\":\"[MB]_GCEA_c\",\"reversibility\":true,\"label_x\":-1138.3766786094193,\"label_y\":1376.1304185812673,\"gene_reaction_rule\":\"\",\"genes\":[],\"metabolites\":[{\"bigg_id\":\"[B]_GCEA_c\",\"coefficient\":1},{\"bigg_id\":\"[M]_GCEA_c\",\"coefficient\":-1}],\"segments\":{\"246\":{\"from_node_id\":\"250\",\"to_node_id\":\"251\",\"b1\":null,\"b2\":null},\"247\":{\"from_node_id\":\"252\",\"to_node_id\":\"251\",\"b1\":null,\"b2\":null},\"248\":{\"from_node_id\":\"252\",\"to_node_id\":\"253\",\"b1\":{\"x\":-1150.256636205852,\"y\":637.3036848505197},\"b2\":{\"x\":-1154.2366134459926,\"y\":1575.7329112443192}},\"249\":{\"from_node_id\":\"250\",\"to_node_id\":\"159\",\"b1\":{\"x\":-1143.5799729661112,\"y\":-326.52996927001686},\"b2\":{\"x\":-1077.9855499267578,\"y\":-321.64079284667946}}}},\"50\":{\"name\":\"[MB]_PGA_c\",\"bigg_id\":\"[MB]_PGA_c\",\"reversibility\":true,\"label_x\":-855.9261168460391,\"label_y\":1378.117470796005,\"gene_reaction_rule\":\"\",\"genes\":[],\"metabolites\":[{\"bigg_id\":\"[B]_PGA_c\",\"coefficient\":1},{\"bigg_id\":\"[M]_PGA_c\",\"coefficient\":-1}],\"segments\":{\"250\":{\"from_node_id\":\"254\",\"to_node_id\":\"255\",\"b1\":null,\"b2\":null},\"251\":{\"from_node_id\":\"256\",\"to_node_id\":\"255\",\"b1\":null,\"b2\":null},\"252\":{\"from_node_id\":\"256\",\"to_node_id\":\"257\",\"b1\":{\"x\":-867.5721444672148,\"y\":644.2197831225286},\"b2\":{\"x\":-870.6207407792982,\"y\":1578.7092087519868}},\"253\":{\"from_node_id\":\"254\",\"to_node_id\":\"126\",\"b1\":{\"x\":-837.3343494787698,\"y\":-207.00185508032348},\"b2\":{\"x\":-837.514892578125,\"y\":-208.9780197143553}}}},\"54\":{\"name\":\"TP/Pi translocator\",\"bigg_id\":\"[B]_Tr_TPT1\",\"reversibility\":true,\"label_x\":1997.1548764170238,\"label_y\":3742.6018417623773,\"gene_reaction_rule\":\"\",\"genes\":[],\"metabolites\":[{\"bigg_id\":\"[B]_PGA_c\",\"coefficient\":1},{\"bigg_id\":\"[B]_PGA_h\",\"coefficient\":-1},{\"bigg_id\":\"[B]_Pi_c\",\"coefficient\":-1},{\"bigg_id\":\"[B]_Pi_h\",\"coefficient\":1}],\"segments\":{\"266\":{\"from_node_id\":\"270\",\"to_node_id\":\"271\",\"b1\":null,\"b2\":null},\"267\":{\"from_node_id\":\"272\",\"to_node_id\":\"271\",\"b1\":null,\"b2\":null},\"268\":{\"from_node_id\":\"272\",\"to_node_id\":\"257\",\"b1\":{\"x\":-866.1672589777204,\"y\":3916.524747453401},\"b2\":{\"x\":-873.5668337880543,\"y\":3922.4880722311273}},\"269\":{\"from_node_id\":\"270\",\"to_node_id\":\"483\",\"b1\":{\"x\":2200.7454533278024,\"y\":2989.124196422676},\"b2\":{\"x\":2152.25259370218,\"y\":3050.1619003561273}}}},\"55\":{\"name\":\"TP/Pi translocator\",\"bigg_id\":\"[M]_Tr_TPT3\",\"reversibility\":true,\"label_x\":83.78190231323242,\"label_y\":598.1180992126467,\"gene_reaction_rule\":\"\",\"genes\":[],\"metabolites\":[{\"bigg_id\":\"[M]_DHAP_c\",\"coefficient\":1},{\"bigg_id\":\"[M]_DHAP_h\",\"coefficient\":-1},{\"bigg_id\":\"[M]_Pi_c\",\"coefficient\":-1},{\"bigg_id\":\"[M]_Pi_h\",\"coefficient\":1}],\"segments\":{\"272\":{\"from_node_id\":\"276\",\"to_node_id\":\"277\",\"b1\":null,\"b2\":null},\"273\":{\"from_node_id\":\"278\",\"to_node_id\":\"277\",\"b1\":null,\"b2\":null},\"274\":{\"from_node_id\":\"278\",\"to_node_id\":\"279\",\"b1\":{\"x\":68.78190231323242,\"y\":650.1180992126467},\"b2\":{\"x\":68.78190231323242,\"y\":704.3680992126467}},\"275\":{\"from_node_id\":\"276\",\"to_node_id\":\"163\",\"b1\":{\"x\":68.78190231323242,\"y\":526.1180992126467},\"b2\":{\"x\":68.78190231323242,\"y\":471.8680992126467}}}},\"56\":{\"name\":\"[MB]_DHAP_c\",\"bigg_id\":\"[MB]_DHAP_c\",\"reversibility\":true,\"label_x\":82.38616561889648,\"label_y\":1377.5314292907717,\"gene_reaction_rule\":\"\",\"genes\":[],\"metabolites\":[{\"bigg_id\":\"[B]_DHAP_c\",\"coefficient\":1},{\"bigg_id\":\"[M]_DHAP_c\",\"coefficient\":-1}],\"segments\":{\"278\":{\"from_node_id\":\"282\",\"to_node_id\":\"283\",\"b1\":null,\"b2\":null},\"279\":{\"from_node_id\":\"284\",\"to_node_id\":\"283\",\"b1\":null,\"b2\":null},\"280\":{\"from_node_id\":\"284\",\"to_node_id\":\"285\",\"b1\":{\"x\":68.78190231323242,\"y\":1115.5127525329592},\"b2\":{\"x\":69.94613265991211,\"y\":1578.9011802673342}},\"281\":{\"from_node_id\":\"282\",\"to_node_id\":\"279\",\"b1\":{\"x\":68.78190231323242,\"y\":991.5127525329592},\"b2\":{\"x\":68.78190231323242,\"y\":821.8680992126467}}}},\"57\":{\"name\":\"TP/Pi translocator\",\"bigg_id\":\"[M]_Tr_TPT2\",\"reversibility\":true,\"label_x\":-311.00469970703125,\"label_y\":609.7568778991701,\"gene_reaction_rule\":\"\",\"genes\":[],\"metabolites\":[{\"bigg_id\":\"[M]_GAP_c\",\"coefficient\":1},{\"bigg_id\":\"[M]_GAP_h\",\"coefficient\":-1},{\"bigg_id\":\"[M]_Pi_c\",\"coefficient\":-1},{\"bigg_id\":\"[M]_Pi_h\",\"coefficient\":1}],\"segments\":{\"282\":{\"from_node_id\":\"286\",\"to_node_id\":\"287\",\"b1\":null,\"b2\":null},\"283\":{\"from_node_id\":\"288\",\"to_node_id\":\"287\",\"b1\":null,\"b2\":null},\"284\":{\"from_node_id\":\"288\",\"to_node_id\":\"289\",\"b1\":{\"x\":-106.65208435058594,\"y\":290.2407493591311},\"b2\":{\"x\":-112.58052825927734,\"y\":700.1976585388186}},\"285\":{\"from_node_id\":\"286\",\"to_node_id\":\"145\",\"b1\":{\"x\":-106.65208435058594,\"y\":166.2407493591311},\"b2\":{\"x\":-104.5730972290039,\"y\":114.06973648071312}}}},\"58\":{\"name\":\"[MB]_GAP_c\",\"bigg_id\":\"[MB]_GAP_c\",\"reversibility\":true,\"label_x\":-319.41070461273193,\"label_y\":1379.8894920349123,\"gene_reaction_rule\":\"\",\"genes\":[],\"metabolites\":[{\"bigg_id\":\"[B]_GAP_c\",\"coefficient\":1},{\"bigg_id\":\"[M]_GAP_c\",\"coefficient\":-1}],\"segments\":{\"288\":{\"from_node_id\":\"292\",\"to_node_id\":\"293\",\"b1\":null,\"b2\":null},\"289\":{\"from_node_id\":\"294\",\"to_node_id\":\"293\",\"b1\":null,\"b2\":null},\"290\":{\"from_node_id\":\"294\",\"to_node_id\":\"295\",\"b1\":{\"x\":-112.58052825927734,\"y\":1111.342311859131},\"b2\":{\"x\":-111.41629791259766,\"y\":1574.730739593506}},\"291\":{\"from_node_id\":\"292\",\"to_node_id\":\"289\",\"b1\":{\"x\":-112.58052825927734,\"y\":987.3423118591311},\"b2\":{\"x\":-112.58052825927734,\"y\":817.6976585388186}}}},\"59\":{\"name\":\"PGA kinase\",\"bigg_id\":\"[B]_PGAK_c\",\"reversibility\":true,\"label_x\":-771.5928347646168,\"label_y\":1597.458531215502,\"gene_reaction_rule\":\"\",\"genes\":[],\"metabolites\":[{\"bigg_id\":\"[B]_ADP_c\",\"coefficient\":1},{\"bigg_id\":\"[B]_ATP_c\",\"coefficient\":-1},{\"bigg_id\":\"[B]_DPGA_c\",\"coefficient\":1},{\"bigg_id\":\"[B]_PGA_c\",\"coefficient\":-1}],\"segments\":{\"292\":{\"from_node_id\":\"296\",\"to_node_id\":\"297\",\"b1\":null,\"b2\":null},\"293\":{\"from_node_id\":\"298\",\"to_node_id\":\"297\",\"b1\":null,\"b2\":null},\"296\":{\"from_node_id\":\"298\",\"to_node_id\":\"301\",\"b1\":{\"x\":-633.9028933583668,\"y\":1637.458531215502},\"b2\":{\"x\":-579.6528933583668,\"y\":1637.458531215502}},\"297\":{\"from_node_id\":\"296\",\"to_node_id\":\"257\",\"b1\":{\"x\":-757.9028933583668,\"y\":1637.458531215502},\"b2\":{\"x\":-812.1528933583668,\"y\":1637.458531215502}}}},\"60\":{\"name\":\"GAP dehydrogenase\",\"bigg_id\":\"[B]_GAPDH2_c\",\"reversibility\":true,\"label_x\":-415.6643984853199,\"label_y\":1599.4347275045645,\"gene_reaction_rule\":\"\",\"genes\":[],\"metabolites\":[{\"bigg_id\":\"[B]_DPGA_c\",\"coefficient\":1},{\"bigg_id\":\"[B]_GAP_c\",\"coefficient\":-1},{\"bigg_id\":\"[B]_H_c\",\"coefficient\":1},{\"bigg_id\":\"[B]_NADH_c\",\"coefficient\":1},{\"bigg_id\":\"[B]_NAD_c\",\"coefficient\":-1},{\"bigg_id\":\"[B]_Pi_c\",\"coefficient\":-1}],\"segments\":{\"298\":{\"from_node_id\":\"302\",\"to_node_id\":\"303\",\"b1\":null,\"b2\":null},\"299\":{\"from_node_id\":\"304\",\"to_node_id\":\"303\",\"b1\":null,\"b2\":null},\"300\":{\"from_node_id\":\"304\",\"to_node_id\":\"301\",\"b1\":{\"x\":-407.9028933583668,\"y\":1637.458531215502},\"b2\":{\"x\":-462.1528933583668,\"y\":1637.458531215502}},\"301\":{\"from_node_id\":\"302\",\"to_node_id\":\"295\",\"b1\":{\"x\":-283.9028933583668,\"y\":1637.458531215502},\"b2\":{\"x\":-172.3445513783863,\"y\":1635.4823349264395}}}},\"61\":{\"name\":\"FBP aldolase\",\"bigg_id\":\"[B]_FBPA_c\",\"reversibility\":true,\"label_x\":-7.48956298828125,\"label_y\":1818.480739593506,\"gene_reaction_rule\":\"\",\"genes\":[],\"metabolites\":[{\"bigg_id\":\"[B]_DHAP_c\",\"coefficient\":-1},{\"bigg_id\":\"[B]_FBP_c\",\"coefficient\":1},{\"bigg_id\":\"[B]_GAP_c\",\"coefficient\":-1}],\"segments\":{\"306\":{\"from_node_id\":\"310\",\"to_node_id\":\"311\",\"b1\":null,\"b2\":null},\"307\":{\"from_node_id\":\"312\",\"to_node_id\":\"311\",\"b1\":null,\"b2\":null},\"308\":{\"from_node_id\":\"310\",\"to_node_id\":\"285\",\"b1\":{\"x\":-22.48956298828125,\"y\":1742.480739593506},\"b2\":{\"x\":70.1748161315918,\"y\":1697.707790374756}},\"309\":{\"from_node_id\":\"312\",\"to_node_id\":\"314\",\"b1\":{\"x\":-22.48956298828125,\"y\":1870.480739593506},\"b2\":{\"x\":-21.10772132873535,\"y\":1924.730739593506}},\"310\":{\"from_node_id\":\"310\",\"to_node_id\":\"295\",\"b1\":{\"x\":-22.48956298828125,\"y\":1746.480739593506},\"b2\":{\"x\":-111.41629791259766,\"y\":1692.230739593506}}}},\"66\":{\"name\":\"G6P isomerase\",\"bigg_id\":\"[B]_PGI_c\",\"reversibility\":true,\"label_x\":82.03338623046875,\"label_y\":1938.676296234131,\"gene_reaction_rule\":\"\",\"genes\":[],\"metabolites\":[{\"bigg_id\":\"[B]_F6P_c\",\"coefficient\":-1},{\"bigg_id\":\"[B]_G6P_c\",\"coefficient\":1}],\"segments\":{\"333\":{\"from_node_id\":\"337\",\"to_node_id\":\"338\",\"b1\":null,\"b2\":null},\"334\":{\"from_node_id\":\"339\",\"to_node_id\":\"338\",\"b1\":null,\"b2\":null},\"335\":{\"from_node_id\":\"337\",\"to_node_id\":\"318\",\"b1\":{\"x\":70.03338623046875,\"y\":1978.676296234131},\"b2\":{\"x\":87.9547643661499,\"y\":1982.0248069763184}},\"336\":{\"from_node_id\":\"339\",\"to_node_id\":\"340\",\"b1\":{\"x\":194.03338623046875,\"y\":1978.676296234131},\"b2\":{\"x\":248.28338623046875,\"y\":1978.676296234131}}}},\"67\":{\"name\":\"Phosphoglucomutase\",\"bigg_id\":\"[B]_PGM_c\",\"reversibility\":true,\"label_x\":432.03338623046875,\"label_y\":1938.676296234131,\"gene_reaction_rule\":\"\",\"genes\":[],\"metabolites\":[{\"bigg_id\":\"[B]_G1P_c\",\"coefficient\":1},{\"bigg_id\":\"[B]_G6P_c\",\"coefficient\":-1}],\"segments\":{\"337\":{\"from_node_id\":\"341\",\"to_node_id\":\"342\",\"b1\":null,\"b2\":null},\"338\":{\"from_node_id\":\"343\",\"to_node_id\":\"342\",\"b1\":null,\"b2\":null},\"339\":{\"from_node_id\":\"343\",\"to_node_id\":\"344\",\"b1\":{\"x\":544.0333862304688,\"y\":1978.676296234131},\"b2\":{\"x\":598.2833862304688,\"y\":1978.676296234131}},\"340\":{\"from_node_id\":\"341\",\"to_node_id\":\"340\",\"b1\":{\"x\":420.03338623046875,\"y\":1978.676296234131},\"b2\":{\"x\":365.78338623046875,\"y\":1978.676296234131}}}},\"68\":{\"name\":\"UDPG pyrophosphorylase\",\"bigg_id\":\"[B]_UGPase_c\",\"reversibility\":true,\"label_x\":428.06744384765625,\"label_y\":2052.2481956481934,\"gene_reaction_rule\":\"\",\"genes\":[],\"metabolites\":[{\"bigg_id\":\"[B]_G1P_c\",\"coefficient\":-1},{\"bigg_id\":\"[B]_H_c\",\"coefficient\":-1},{\"bigg_id\":\"[B]_PPi_c\",\"coefficient\":1},{\"bigg_id\":\"[B]_UDPG_c\",\"coefficient\":1},{\"bigg_id\":\"[B]_UTP_c\",\"coefficient\":-1}],\"segments\":{\"341\":{\"from_node_id\":\"345\",\"to_node_id\":\"346\",\"b1\":null,\"b2\":null},\"342\":{\"from_node_id\":\"347\",\"to_node_id\":\"346\",\"b1\":null,\"b2\":null},\"343\":{\"from_node_id\":\"345\",\"to_node_id\":\"344\",\"b1\":{\"x\":657.4109830028668,\"y\":2073.9330407074394},\"b2\":{\"x\":656.1581420898438,\"y\":2081.8375511169434}},\"346\":{\"from_node_id\":\"347\",\"to_node_id\":\"356\",\"b1\":{\"x\":525.4723156432576,\"y\":2074.4116236377645},\"b2\":{\"x\":324.14702320098877,\"y\":2074.116970062256}}}},\"69\":{\"name\":\"S6P synthase\",\"bigg_id\":\"[B]_S6PS_c\",\"reversibility\":false,\"label_x\":69.22503662109375,\"label_y\":2195.1368675231934,\"gene_reaction_rule\":\"\",\"genes\":[],\"metabolites\":[{\"bigg_id\":\"[B]_F6P_c\",\"coefficient\":-1},{\"bigg_id\":\"[B]_S6P_c\",\"coefficient\":1},{\"bigg_id\":\"[B]_UDPG_c\",\"coefficient\":-1},{\"bigg_id\":\"[B]_UDP_c\",\"coefficient\":1}],\"segments\":{\"348\":{\"from_node_id\":\"352\",\"to_node_id\":\"353\",\"b1\":null,\"b2\":null},\"349\":{\"from_node_id\":\"354\",\"to_node_id\":\"353\",\"b1\":null,\"b2\":null},\"350\":{\"from_node_id\":\"352\",\"to_node_id\":\"318\",\"b1\":{\"x\":91.77105712890625,\"y\":2152.5775413513184},\"b2\":{\"x\":40.527180671691895,\"y\":2155.926052093506}},\"351\":{\"from_node_id\":\"354\",\"to_node_id\":\"355\",\"b1\":{\"x\":215.77105712890625,\"y\":2152.5775413513184},\"b2\":{\"x\":270.02105712890625,\"y\":2152.5775413513184}},\"352\":{\"from_node_id\":\"352\",\"to_node_id\":\"356\",\"b1\":{\"x\":135.78417205810547,\"y\":2060.064479827881},\"b2\":{\"x\":124.75214767456055,\"y\":2071.9896507263184}}}},\"70\":{\"name\":\"S6P phosphorylase\",\"bigg_id\":\"[B]_S6PPh_c\",\"reversibility\":false,\"label_x\":405.61407470703125,\"label_y\":2134.6532249450684,\"gene_reaction_rule\":\"\",\"genes\":[],\"metabolites\":[{\"bigg_id\":\"[B]_H2O_c\",\"coefficient\":-1},{\"bigg_id\":\"[B]_Pi_c\",\"coefficient\":1},{\"bigg_id\":\"[B]_S6P_c\",\"coefficient\":-1},{\"bigg_id\":\"[B]_Suc_c\",\"coefficient\":1}],\"segments\":{\"354\":{\"from_node_id\":\"358\",\"to_node_id\":\"359\",\"b1\":null,\"b2\":null},\"355\":{\"from_node_id\":\"360\",\"to_node_id\":\"359\",\"b1\":null,\"b2\":null},\"358\":{\"from_node_id\":\"358\",\"to_node_id\":\"355\",\"b1\":{\"x\":441.77105712890625,\"y\":2152.5775413513184},\"b2\":{\"x\":387.52105712890625,\"y\":2152.5775413513184}},\"359\":{\"from_node_id\":\"360\",\"to_node_id\":\"363\",\"b1\":{\"x\":565.7710571289062,\"y\":2152.5775413513184},\"b2\":{\"x\":710.3604125976562,\"y\":2151.631130218506}}}},\"76\":{\"name\":\"Mal dehydrogenase\",\"bigg_id\":\"[B]_MalDH1_c\",\"reversibility\":true,\"label_x\":1324.5901489257812,\"label_y\":1601.498249053955,\"gene_reaction_rule\":\"\",\"genes\":[],\"metabolites\":[{\"bigg_id\":\"[B]_H_c\",\"coefficient\":1},{\"bigg_id\":\"[B]_Mal_c\",\"coefficient\":-1},{\"bigg_id\":\"[B]_NADH_c\",\"coefficient\":1},{\"bigg_id\":\"[B]_NAD_c\",\"coefficient\":-1},{\"bigg_id\":\"[B]_OAA_c\",\"coefficient\":1}],\"segments\":{\"392\":{\"from_node_id\":\"396\",\"to_node_id\":\"397\",\"b1\":null,\"b2\":null},\"393\":{\"from_node_id\":\"398\",\"to_node_id\":\"397\",\"b1\":null,\"b2\":null},\"395\":{\"from_node_id\":\"396\",\"to_node_id\":\"177\",\"b1\":{\"x\":1404.9885864257812,\"y\":1638.0464668273926},\"b2\":{\"x\":1350.7385864257812,\"y\":1638.0464668273926}},\"398\":{\"from_node_id\":\"398\",\"to_node_id\":\"402\",\"b1\":{\"x\":1528.9885864257812,\"y\":1638.0464668273926},\"b2\":{\"x\":1525.0484008789062,\"y\":1637.7168769836426}}}},\"83\":{\"name\":\"PEP carboxylase\",\"bigg_id\":\"[B]_PEPC1_c\",\"reversibility\":false,\"label_x\":2349.4317016601562,\"label_y\":1672.566608428955,\"gene_reaction_rule\":\"\",\"genes\":[],\"metabolites\":[{\"bigg_id\":\"[B]_ADP_c\",\"coefficient\":1},{\"bigg_id\":\"[B]_ATP_c\",\"coefficient\":-1},{\"bigg_id\":\"[B]_CO2_c\",\"coefficient\":1},{\"bigg_id\":\"[B]_OAA_c\",\"coefficient\":-1},{\"bigg_id\":\"[B]_PEP_c\",\"coefficient\":1}],\"segments\":{\"437\":{\"from_node_id\":\"442\",\"to_node_id\":\"443\",\"b1\":null,\"b2\":null},\"438\":{\"from_node_id\":\"444\",\"to_node_id\":\"443\",\"b1\":null,\"b2\":null},\"441\":{\"from_node_id\":\"444\",\"to_node_id\":\"447\",\"b1\":{\"x\":2489.4094848632812,\"y\":1636.402057647705},\"b2\":{\"x\":2478.2905883789062,\"y\":1544.5144844055176}},\"442\":{\"from_node_id\":\"442\",\"to_node_id\":\"402\",\"b1\":{\"x\":2361.4094848632812,\"y\":1636.402057647705},\"b2\":{\"x\":1641.2337036132812,\"y\":1636.402057647705}},\"443\":{\"from_node_id\":\"444\",\"to_node_id\":\"233\",\"b1\":{\"x\":2485.4094848632812,\"y\":1636.402057647705},\"b2\":{\"x\":2700.2982788085938,\"y\":1640.0635566711426}}}},\"84\":{\"name\":\"Asp aminotransferase\",\"bigg_id\":\"[B]_AspAT2_c\",\"reversibility\":true,\"label_x\":3208.8386840820312,\"label_y\":1805.8104133605957,\"gene_reaction_rule\":\"\",\"genes\":[],\"metabolites\":[{\"bigg_id\":\"[B]_Ala_c\",\"coefficient\":-1},{\"bigg_id\":\"[B]_Asp_c\",\"coefficient\":1},{\"bigg_id\":\"[B]_OAA_c\",\"coefficient\":-1},{\"bigg_id\":\"[B]_Pyr_c\",\"coefficient\":1}],\"segments\":{\"444\":{\"from_node_id\":\"449\",\"to_node_id\":\"450\",\"b1\":null,\"b2\":null},\"445\":{\"from_node_id\":\"451\",\"to_node_id\":\"450\",\"b1\":null,\"b2\":null},\"446\":{\"from_node_id\":\"449\",\"to_node_id\":\"189\",\"b1\":{\"x\":3557.2874145507812,\"y\":1825.5853157043457},\"b2\":{\"x\":3511.8794555664062,\"y\":1862.2759895324707}},\"447\":{\"from_node_id\":\"451\",\"to_node_id\":\"185\",\"b1\":{\"x\":3180.1638793945312,\"y\":1751.8238410949707},\"b2\":{\"x\":3295.0317993164062,\"y\":1690.1729621887207}},\"448\":{\"from_node_id\":\"449\",\"to_node_id\":\"402\",\"b1\":{\"x\":2536.1941528320312,\"y\":1829.3939094543457},\"b2\":{\"x\":2119.7681274414062,\"y\":1859.5446662902832}},\"449\":{\"from_node_id\":\"451\",\"to_node_id\":\"181\",\"b1\":{\"x\":3180.1638793945312,\"y\":1747.8238410949707},\"b2\":{\"x\":3045.1724243164062,\"y\":1681.6682014465332}}}},\"87\":{\"name\":\"Mal dehydrogenase\",\"bigg_id\":\"[B]_MalDH4_h\",\"reversibility\":false,\"label_x\":2640.028564453125,\"label_y\":2712.239501953125,\"gene_reaction_rule\":\"\",\"genes\":[],\"metabolites\":[{\"bigg_id\":\"[B]_CO2_h\",\"coefficient\":1},{\"bigg_id\":\"[B]_Mal_h\",\"coefficient\":-1},{\"bigg_id\":\"[B]_NADPH_h\",\"coefficient\":1},{\"bigg_id\":\"[B]_NADP_h\",\"coefficient\":-1},{\"bigg_id\":\"[B]_Pyr_h\",\"coefficient\":1}],\"segments\":{\"464\":{\"from_node_id\":\"471\",\"to_node_id\":\"472\",\"b1\":null,\"b2\":null},\"465\":{\"from_node_id\":\"473\",\"to_node_id\":\"472\",\"b1\":null,\"b2\":null},\"466\":{\"from_node_id\":\"473\",\"to_node_id\":\"474\",\"b1\":{\"x\":2855.9520263671875,\"y\":2648.5093994140625},\"b2\":{\"x\":2877.4688110351562,\"y\":2680.49609375}},\"467\":{\"from_node_id\":\"471\",\"to_node_id\":\"468\",\"b1\":{\"x\":2727.9520263671875,\"y\":2648.5093994140625},\"b2\":{\"x\":2616.004638671875,\"y\":2644.2354736328125}},\"470\":{\"from_node_id\":\"473\",\"to_node_id\":\"470\",\"b1\":{\"x\":2851.9520263671875,\"y\":2648.5093994140625},\"b2\":{\"x\":2935.4591064453125,\"y\":2645.4207763671875}}}},\"89\":{\"name\":\"[B]_RBC_h_Ex\",\"bigg_id\":\"[B]_RBC_h_Ex\",\"reversibility\":false,\"label_x\":2635.234619140625,\"label_y\":3017.81982421875,\"gene_reaction_rule\":\"\",\"genes\":[],\"metabolites\":[{\"bigg_id\":\"[B]_CO2_ex_h\",\"coefficient\":-1},{\"bigg_id\":\"[B]_H2O_h\",\"coefficient\":-1},{\"bigg_id\":\"[B]_H_h\",\"coefficient\":2},{\"bigg_id\":\"[B]_PGA_h\",\"coefficient\":2},{\"bigg_id\":\"[B]_RuBP_h\",\"coefficient\":-1}],\"segments\":{\"478\":{\"from_node_id\":\"485\",\"to_node_id\":\"486\",\"b1\":null,\"b2\":null},\"479\":{\"from_node_id\":\"487\",\"to_node_id\":\"486\",\"b1\":null,\"b2\":null},\"480\":{\"from_node_id\":\"485\",\"to_node_id\":\"512\",\"b1\":{\"x\":2896.87060546875,\"y\":3048.09765625},\"b2\":{\"x\":3840.20556640625,\"y\":3052.8828125}},\"483\":{\"from_node_id\":\"487\",\"to_node_id\":\"483\",\"b1\":{\"x\":2772.87060546875,\"y\":3048.09765625},\"b2\":{\"x\":2471.5693359375,\"y\":3047.851318359375}},\"484\":{\"from_node_id\":\"485\",\"to_node_id\":\"491\",\"b1\":{\"x\":2900.87060546875,\"y\":3048.09765625},\"b2\":{\"x\":2944.5068359375,\"y\":3102.260498046875}}}},\"90\":{\"name\":\"RuBisCO\",\"bigg_id\":\"[B]_RBO_h\",\"reversibility\":false,\"label_x\":2756.391845703125,\"label_y\":3309.15869140625,\"gene_reaction_rule\":\"\",\"genes\":[],\"metabolites\":[{\"bigg_id\":\"[B]_H_h\",\"coefficient\":2},{\"bigg_id\":\"[B]_O2_h\",\"coefficient\":-1},{\"bigg_id\":\"[B]_PGA_h\",\"coefficient\":1},{\"bigg_id\":\"[B]_PGCA_h\",\"coefficient\":1},{\"bigg_id\":\"[B]_RuBP_h\",\"coefficient\":-1}],\"segments\":{\"485\":{\"from_node_id\":\"492\",\"to_node_id\":\"493\",\"b1\":null,\"b2\":null},\"486\":{\"from_node_id\":\"494\",\"to_node_id\":\"493\",\"b1\":null,\"b2\":null},\"488\":{\"from_node_id\":\"492\",\"to_node_id\":\"496\",\"b1\":{\"x\":2899.3896484375,\"y\":3255.618896484375},\"b2\":{\"x\":2913.976806640625,\"y\":3252.619140625}},\"489\":{\"from_node_id\":\"494\",\"to_node_id\":\"483\",\"b1\":{\"x\":2771.3896484375,\"y\":3255.618896484375},\"b2\":{\"x\":2778.6356201171875,\"y\":3275.05126953125}},\"490\":{\"from_node_id\":\"494\",\"to_node_id\":\"498\",\"b1\":{\"x\":2767.3896484375,\"y\":3255.618896484375},\"b2\":{\"x\":2710.7503662109375,\"y\":3254.5859375}},\"491\":{\"from_node_id\":\"492\",\"to_node_id\":\"491\",\"b1\":{\"x\":2895.3896484375,\"y\":3255.618896484375},\"b2\":{\"x\":2939.49169921875,\"y\":3219.4560546875}}}},\"91\":{\"name\":\"PGCA phosphorylase\",\"bigg_id\":\"[B]_PGP_h\",\"reversibility\":false,\"label_x\":2679.5523681640625,\"label_y\":3443.752197265625,\"gene_reaction_rule\":\"\",\"genes\":[],\"metabolites\":[{\"bigg_id\":\"[B]_GCA_h\",\"coefficient\":1},{\"bigg_id\":\"[B]_H2O_h\",\"coefficient\":-1},{\"bigg_id\":\"[B]_PGCA_h\",\"coefficient\":-1},{\"bigg_id\":\"[B]_Pi_h\",\"coefficient\":1}],\"segments\":{\"492\":{\"from_node_id\":\"499\",\"to_node_id\":\"500\",\"b1\":null,\"b2\":null},\"493\":{\"from_node_id\":\"501\",\"to_node_id\":\"500\",\"b1\":null,\"b2\":null},\"494\":{\"from_node_id\":\"501\",\"to_node_id\":\"502\",\"b1\":{\"x\":2663.6771240234375,\"y\":3491.728515625},\"b2\":{\"x\":2663.6771240234375,\"y\":3545.978515625}},\"496\":{\"from_node_id\":\"499\",\"to_node_id\":\"498\",\"b1\":{\"x\":2663.6771240234375,\"y\":3367.728515625},\"b2\":{\"x\":2663.6771240234375,\"y\":3313.478515625}}}},\"92\":{\"name\":\"GCA/GCEA shuffle\",\"bigg_id\":\"[B]_Tr_GCA1\",\"reversibility\":true,\"label_x\":2686.8428955078125,\"label_y\":3730.150390625,\"gene_reaction_rule\":\"\",\"genes\":[],\"metabolites\":[{\"bigg_id\":\"[B]_GCA_c\",\"coefficient\":1},{\"bigg_id\":\"[B]_GCA_h\",\"coefficient\":-1}],\"segments\":{\"498\":{\"from_node_id\":\"505\",\"to_node_id\":\"506\",\"b1\":null,\"b2\":null},\"499\":{\"from_node_id\":\"507\",\"to_node_id\":\"506\",\"b1\":null,\"b2\":null},\"500\":{\"from_node_id\":\"507\",\"to_node_id\":\"249\",\"b1\":{\"x\":-1386.4916404568012,\"y\":4000.5166418896115},\"b2\":{\"x\":-1394.751485824585,\"y\":4008.1427001953125}},\"501\":{\"from_node_id\":\"505\",\"to_node_id\":\"502\",\"b1\":{\"x\":2670.461275466567,\"y\":4011.1491295947635},\"b2\":{\"x\":2664.82470703125,\"y\":4017.334228515625}}}},\"93\":{\"name\":\"[B]_Tr_CO2h_Ex\",\"bigg_id\":\"[B]_Tr_CO2h_Ex\",\"reversibility\":true,\"label_x\":3919.65058069933,\"label_y\":2068.018364909495,\"gene_reaction_rule\":\"\",\"genes\":[],\"metabolites\":[{\"bigg_id\":\"[B]_CO2_ex_c\",\"coefficient\":-1},{\"bigg_id\":\"[B]_CO2_ex_h\",\"coefficient\":1}],\"segments\":{\"502\":{\"from_node_id\":\"509\",\"to_node_id\":\"510\",\"b1\":null,\"b2\":null},\"503\":{\"from_node_id\":\"511\",\"to_node_id\":\"510\",\"b1\":null,\"b2\":null},\"504\":{\"from_node_id\":\"509\",\"to_node_id\":\"197\",\"b1\":{\"x\":3900.378852183705,\"y\":1745.682305339183},\"b2\":{\"x\":3900.378852183705,\"y\":1691.432305339183}},\"505\":{\"from_node_id\":\"511\",\"to_node_id\":\"512\",\"b1\":{\"x\":3900.378852183705,\"y\":1869.682305339183},\"b2\":{\"x\":3897.963813121205,\"y\":2988.674126628245}}}},\"95\":{\"name\":\"RuBisCO\",\"bigg_id\":\"[B]_RBC_h\",\"reversibility\":false,\"label_x\":2632.5873413085938,\"label_y\":2924.0968017578125,\"gene_reaction_rule\":\"\",\"genes\":[],\"metabolites\":[{\"bigg_id\":\"[B]_CO2_h\",\"coefficient\":-1},{\"bigg_id\":\"[B]_H2O_h\",\"coefficient\":-1},{\"bigg_id\":\"[B]_H_h\",\"coefficient\":2},{\"bigg_id\":\"[B]_PGA_h\",\"coefficient\":2},{\"bigg_id\":\"[B]_RuBP_h\",\"coefficient\":-1}],\"segments\":{\"510\":{\"from_node_id\":\"517\",\"to_node_id\":\"518\",\"b1\":null,\"b2\":null},\"511\":{\"from_node_id\":\"519\",\"to_node_id\":\"518\",\"b1\":null,\"b2\":null},\"512\":{\"from_node_id\":\"517\",\"to_node_id\":\"474\",\"b1\":{\"x\":2882.6141967773438,\"y\":2879.277587890625},\"b2\":{\"x\":2915.5392456054688,\"y\":2836.5462646484375}},\"515\":{\"from_node_id\":\"519\",\"to_node_id\":\"483\",\"b1\":{\"x\":2437.0637817382812,\"y\":2874.781982421875},\"b2\":{\"x\":2414.0160522460938,\"y\":2860.4580078125}},\"516\":{\"from_node_id\":\"517\",\"to_node_id\":\"491\",\"b1\":{\"x\":2886.6141967773438,\"y\":2879.277587890625},\"b2\":{\"x\":2996.6266479492188,\"y\":3064.286865234375}}}},\"99\":{\"name\":\"R_Tr_Pyr_Mal_hc\",\"bigg_id\":\"[B]_Tr_Pyr_Mal_hc\",\"reversibility\":true,\"label_x\":2697.1073608398438,\"label_y\":2303.01216506958,\"gene_reaction_rule\":\"\",\"genes\":[],\"metabolites\":[{\"bigg_id\":\"[B]_Mal_c\",\"coefficient\":-1},{\"bigg_id\":\"[B]_Mal_h\",\"coefficient\":1},{\"bigg_id\":\"[B]_Pyr_c\",\"coefficient\":1},{\"bigg_id\":\"[B]_Pyr_h\",\"coefficient\":-1}],\"segments\":{\"531\":{\"from_node_id\":\"538\",\"to_node_id\":\"539\",\"b1\":null,\"b2\":null},\"532\":{\"from_node_id\":\"540\",\"to_node_id\":\"539\",\"b1\":null,\"b2\":null},\"533\":{\"from_node_id\":\"538\",\"to_node_id\":\"177\",\"b1\":{\"x\":2986.3092651367188,\"y\":2233.8533515930176},\"b2\":{\"x\":1689.8287963867188,\"y\":1949.23530960083}},\"534\":{\"from_node_id\":\"540\",\"to_node_id\":\"468\",\"b1\":{\"x\":2986.3092651367188,\"y\":2357.8533515930176},\"b2\":{\"x\":2560.3551635742188,\"y\":2502.451374053955}},\"535\":{\"from_node_id\":\"540\",\"to_node_id\":\"181\",\"b1\":{\"x\":2986.3092651367188,\"y\":2361.8533515930176},\"b2\":{\"x\":2991.0866088867188,\"y\":1720.80952835083}},\"536\":{\"from_node_id\":\"538\",\"to_node_id\":\"470\",\"b1\":{\"x\":2986.3092651367188,\"y\":2229.8533515930176},\"b2\":{\"x\":2988.9304809570312,\"y\":2573.52095413208}}}},\"100\":{\"name\":\"Dicarboxylate transporter\",\"bigg_id\":\"[B]_Tr_DTC5\",\"reversibility\":true,\"label_x\":1095.7332153320312,\"label_y\":2308.3377265930176,\"gene_reaction_rule\":\"\",\"genes\":[],\"metabolites\":[{\"bigg_id\":\"[B]_Mal_c\",\"coefficient\":1},{\"bigg_id\":\"[B]_Mal_m\",\"coefficient\":-1},{\"bigg_id\":\"[B]_OAA_c\",\"coefficient\":-1},{\"bigg_id\":\"[B]_OAA_m\",\"coefficient\":1}],\"segments\":{\"537\":{\"from_node_id\":\"544\",\"to_node_id\":\"545\",\"b1\":null,\"b2\":null},\"538\":{\"from_node_id\":\"546\",\"to_node_id\":\"545\",\"b1\":null,\"b2\":null},\"539\":{\"from_node_id\":\"546\",\"to_node_id\":\"177\",\"b1\":{\"x\":1292.0067749023438,\"y\":2297.0144844055176},\"b2\":{\"x\":1291.9871215820312,\"y\":2298.46187210083}},\"540\":{\"from_node_id\":\"544\",\"to_node_id\":\"547\",\"b1\":{\"x\":1292.9518432617188,\"y\":2297.792194366455},\"b2\":{\"x\":1293.4180297851562,\"y\":2310.5777168273926}},\"541\":{\"from_node_id\":\"544\",\"to_node_id\":\"402\",\"b1\":{\"x\":1581.9943237304688,\"y\":2298.9485664367676},\"b2\":{\"x\":1583.2122192382812,\"y\":2298.0974922180176}},\"542\":{\"from_node_id\":\"546\",\"to_node_id\":\"549\",\"b1\":{\"x\":1583.8844604492188,\"y\":2297.75093460083},\"b2\":{\"x\":1581.3598022460938,\"y\":2311.47163772583}}}},\"101\":{\"name\":\"Mal dehydrogenase\",\"bigg_id\":\"[B]_MalDH1_m\",\"reversibility\":true,\"label_x\":1332.4038696289062,\"label_y\":2610.656940460205,\"gene_reaction_rule\":\"\",\"genes\":[],\"metabolites\":[{\"bigg_id\":\"[B]_H_m\",\"coefficient\":1},{\"bigg_id\":\"[B]_Mal_m\",\"coefficient\":-1},{\"bigg_id\":\"[B]_NADH_m\",\"coefficient\":1},{\"bigg_id\":\"[B]_NAD_m\",\"coefficient\":-1},{\"bigg_id\":\"[B]_OAA_m\",\"coefficient\":1}],\"segments\":{\"543\":{\"from_node_id\":\"550\",\"to_node_id\":\"551\",\"b1\":null,\"b2\":null},\"544\":{\"from_node_id\":\"552\",\"to_node_id\":\"551\",\"b1\":null,\"b2\":null},\"546\":{\"from_node_id\":\"550\",\"to_node_id\":\"547\",\"b1\":{\"x\":1401.6730346679688,\"y\":2644.969928741455},\"b2\":{\"x\":1349.3158569335938,\"y\":2644.02339553833}},\"549\":{\"from_node_id\":\"552\",\"to_node_id\":\"549\",\"b1\":{\"x\":1525.6730346679688,\"y\":2644.969928741455},\"b2\":{\"x\":1527.7882690429688,\"y\":2644.969928741455}}}},\"102\":{\"name\":\"Dicarboxylate transporter\",\"bigg_id\":\"[B]_Tr_DIT1_OAA\",\"reversibility\":true,\"label_x\":1940.4468994140625,\"label_y\":2255.3272705078125,\"gene_reaction_rule\":\"\",\"genes\":[],\"metabolites\":[{\"bigg_id\":\"[B]_Mal_c\",\"coefficient\":1},{\"bigg_id\":\"[B]_Mal_h\",\"coefficient\":-1},{\"bigg_id\":\"[B]_OAA_c\",\"coefficient\":-1},{\"bigg_id\":\"[B]_OAA_h\",\"coefficient\":1}],\"segments\":{\"550\":{\"from_node_id\":\"558\",\"to_node_id\":\"559\",\"b1\":null,\"b2\":null},\"551\":{\"from_node_id\":\"560\",\"to_node_id\":\"559\",\"b1\":null,\"b2\":null},\"552\":{\"from_node_id\":\"560\",\"to_node_id\":\"177\",\"b1\":{\"x\":1537.2420654296875,\"y\":2302.404296875},\"b2\":{\"x\":1639.6156005859375,\"y\":2250.03466796875}},\"553\":{\"from_node_id\":\"558\",\"to_node_id\":\"468\",\"b1\":{\"x\":2290.788818359375,\"y\":2295.3272705078125},\"b2\":{\"x\":2188.41552734375,\"y\":2257.1114501953125}},\"554\":{\"from_node_id\":\"558\",\"to_node_id\":\"402\",\"b1\":{\"x\":2291.0347900390625,\"y\":2295.3272705078125},\"b2\":{\"x\":1729.533447265625,\"y\":1809.4456787109375}},\"555\":{\"from_node_id\":\"560\",\"to_node_id\":\"563\",\"b1\":{\"x\":1786.1060791015625,\"y\":2299.573486328125},\"b2\":{\"x\":1822.494384765625,\"y\":2320.561767578125}}}},\"103\":{\"name\":\"Mal dehydrogenase\",\"bigg_id\":\"[B]_MalDH3_h\",\"reversibility\":true,\"label_x\":2076.0760498046875,\"label_y\":2613.8465576171875,\"gene_reaction_rule\":\"\",\"genes\":[],\"metabolites\":[{\"bigg_id\":\"[B]_H_h\",\"coefficient\":-1},{\"bigg_id\":\"[B]_Mal_h\",\"coefficient\":1},{\"bigg_id\":\"[B]_NADPH_h\",\"coefficient\":-1},{\"bigg_id\":\"[B]_NADP_h\",\"coefficient\":1},{\"bigg_id\":\"[B]_OAA_h\",\"coefficient\":-1}],\"segments\":{\"556\":{\"from_node_id\":\"564\",\"to_node_id\":\"565\",\"b1\":null,\"b2\":null},\"557\":{\"from_node_id\":\"566\",\"to_node_id\":\"565\",\"b1\":null,\"b2\":null},\"559\":{\"from_node_id\":\"566\",\"to_node_id\":\"468\",\"b1\":{\"x\":2217.7994384765625,\"y\":2645.3541259765625},\"b2\":{\"x\":2475.23779296875,\"y\":2644.7249755859375}},\"562\":{\"from_node_id\":\"564\",\"to_node_id\":\"563\",\"b1\":{\"x\":2093.7994384765625,\"y\":2645.3541259765625},\"b2\":{\"x\":1876.7786865234375,\"y\":2644.4102783203125}}}},\"104\":{\"name\":\"Mal dehydrogenase\",\"bigg_id\":\"[B]_MalDH1_h\",\"reversibility\":true,\"label_x\":2071.8299560546875,\"label_y\":2837.7935791015625,\"gene_reaction_rule\":\"\",\"genes\":[],\"metabolites\":[{\"bigg_id\":\"[B]_H_h\",\"coefficient\":1},{\"bigg_id\":\"[B]_Mal_h\",\"coefficient\":-1},{\"bigg_id\":\"[B]_NADH_h\",\"coefficient\":1},{\"bigg_id\":\"[B]_NAD_h\",\"coefficient\":-1},{\"bigg_id\":\"[B]_OAA_h\",\"coefficient\":1}],\"segments\":{\"563\":{\"from_node_id\":\"571\",\"to_node_id\":\"572\",\"b1\":null,\"b2\":null},\"564\":{\"from_node_id\":\"573\",\"to_node_id\":\"572\",\"b1\":null,\"b2\":null},\"566\":{\"from_node_id\":\"571\",\"to_node_id\":\"468\",\"b1\":{\"x\":2568.346435546875,\"y\":2787.9945068359375},\"b2\":{\"x\":2555.915283203125,\"y\":2798.6888427734375}},\"569\":{\"from_node_id\":\"573\",\"to_node_id\":\"563\",\"b1\":{\"x\":1809.618896484375,\"y\":2784.2200927734375},\"b2\":{\"x\":1818.7474365234375,\"y\":2791.6116943359375}}}},\"105\":{\"name\":\"Asp aminotransferase\",\"bigg_id\":\"[B]_AspAT2_m\",\"reversibility\":true,\"label_x\":1359.5839233398438,\"label_y\":2772.5432929992676,\"gene_reaction_rule\":\"\",\"genes\":[],\"metabolites\":[{\"bigg_id\":\"[B]_Ala_m\",\"coefficient\":-1},{\"bigg_id\":\"[B]_Asp_m\",\"coefficient\":1},{\"bigg_id\":\"[B]_OAA_m\",\"coefficient\":-1},{\"bigg_id\":\"[B]_Pyr_m\",\"coefficient\":1}],\"segments\":{\"570\":{\"from_node_id\":\"578\",\"to_node_id\":\"579\",\"b1\":null,\"b2\":null},\"571\":{\"from_node_id\":\"580\",\"to_node_id\":\"579\",\"b1\":null,\"b2\":null},\"572\":{\"from_node_id\":\"578\",\"to_node_id\":\"581\",\"b1\":{\"x\":1593.1441111460415,\"y\":2816.922512473858},\"b2\":{\"x\":1583.2286987304688,\"y\":3192.9431953430176}},\"573\":{\"from_node_id\":\"580\",\"to_node_id\":\"582\",\"b1\":{\"x\":1482.1012950041454,\"y\":2818.2003140988945},\"b2\":{\"x\":1497.6403198242188,\"y\":3193.3560371398926}},\"574\":{\"from_node_id\":\"578\",\"to_node_id\":\"549\",\"b1\":{\"x\":1594.166893472417,\"y\":2818.2178148683906},\"b2\":{\"x\":1583.0223999023438,\"y\":2811.8260078430176}},\"575\":{\"from_node_id\":\"580\",\"to_node_id\":\"590\",\"b1\":{\"x\":1478.1014943227085,\"y\":2818.240245399677},\"b2\":{\"x\":1467.0841674804688,\"y\":2817.8892402648926}}}},\"106\":{\"name\":\"Mal dehydrogenase\",\"bigg_id\":\"[B]_MalDH2_m\",\"reversibility\":false,\"label_x\":1057.2401733398438,\"label_y\":2823.68550491333,\"gene_reaction_rule\":\"\",\"genes\":[],\"metabolites\":[{\"bigg_id\":\"[B]_CO2_m\",\"coefficient\":1},{\"bigg_id\":\"[B]_Mal_m\",\"coefficient\":-1},{\"bigg_id\":\"[B]_NADH_m\",\"coefficient\":1},{\"bigg_id\":\"[B]_NAD_m\",\"coefficient\":-1},{\"bigg_id\":\"[B]_Pyr_m\",\"coefficient\":1}],\"segments\":{\"576\":{\"from_node_id\":\"584\",\"to_node_id\":\"585\",\"b1\":null,\"b2\":null},\"577\":{\"from_node_id\":\"586\",\"to_node_id\":\"585\",\"b1\":null,\"b2\":null},\"578\":{\"from_node_id\":\"586\",\"to_node_id\":\"587\",\"b1\":{\"x\":1290.5658569335938,\"y\":2881.02339553833},\"b2\":{\"x\":1290.5658569335938,\"y\":2935.27339553833}},\"579\":{\"from_node_id\":\"584\",\"to_node_id\":\"547\",\"b1\":{\"x\":1290.5658569335938,\"y\":2757.02339553833},\"b2\":{\"x\":1290.5658569335938,\"y\":2702.77339553833}},\"582\":{\"from_node_id\":\"586\",\"to_node_id\":\"590\",\"b1\":{\"x\":1290.5658569335938,\"y\":2820.98677444458},\"b2\":{\"x\":1322.7905883789062,\"y\":2817.447956085205}}}},\"107\":{\"name\":\"CO2 diffusion\",\"bigg_id\":\"[B]_Tr_CO2m\",\"reversibility\":true,\"label_x\":810.4965209960938,\"label_y\":2307.36275100708,\"gene_reaction_rule\":\"\",\"genes\":[],\"metabolites\":[{\"bigg_id\":\"[B]_CO2_c\",\"coefficient\":-1},{\"bigg_id\":\"[B]_CO2_m\",\"coefficient\":1}],\"segments\":{\"583\":{\"from_node_id\":\"591\",\"to_node_id\":\"592\",\"b1\":null,\"b2\":null},\"584\":{\"from_node_id\":\"593\",\"to_node_id\":\"592\",\"b1\":null,\"b2\":null},\"585\":{\"from_node_id\":\"591\",\"to_node_id\":\"447\",\"b1\":{\"x\":1047.8641435324835,\"y\":1472.6182197716075},\"b2\":{\"x\":1046.3784790039062,\"y\":1471.4295234680176}},\"586\":{\"from_node_id\":\"593\",\"to_node_id\":\"587\",\"b1\":{\"x\":1071.4398725807978,\"y\":2997.2749458167714},\"b2\":{\"x\":1197.4758911132812,\"y\":2996.35542678833}}}},\"108\":{\"name\":\"CO2 diffusion\",\"bigg_id\":\"[B]_Tr_CO2h\",\"reversibility\":true,\"label_x\":3133.3099975585938,\"label_y\":2307.3350830078125,\"gene_reaction_rule\":\"\",\"genes\":[],\"metabolites\":[{\"bigg_id\":\"[B]_CO2_c\",\"coefficient\":-1},{\"bigg_id\":\"[B]_CO2_h\",\"coefficient\":1}],\"segments\":{\"587\":{\"from_node_id\":\"595\",\"to_node_id\":\"596\",\"b1\":null,\"b2\":null},\"588\":{\"from_node_id\":\"597\",\"to_node_id\":\"596\",\"b1\":null,\"b2\":null},\"589\":{\"from_node_id\":\"595\",\"to_node_id\":\"447\",\"b1\":{\"x\":3097.9994506835938,\"y\":1478.2550354003906},\"b2\":{\"x\":3097.2362670898438,\"y\":1478.481689453125}},\"590\":{\"from_node_id\":\"597\",\"to_node_id\":\"474\",\"b1\":{\"x\":3031.0409545898438,\"y\":2785.986328125},\"b2\":{\"x\":3050.1347045898438,\"y\":2787.396728515625}}}},\"109\":{\"name\":\"GCEA kinase\",\"bigg_id\":\"[B]_GCEAK_h\",\"reversibility\":false,\"label_x\":2423.6611328125,\"label_y\":3353.61865234375,\"gene_reaction_rule\":\"\",\"genes\":[],\"metabolites\":[{\"bigg_id\":\"[B]_ADP_h\",\"coefficient\":1},{\"bigg_id\":\"[B]_ATP_h\",\"coefficient\":-1},{\"bigg_id\":\"[B]_GCEA_h\",\"coefficient\":-1},{\"bigg_id\":\"[B]_H_h\",\"coefficient\":1},{\"bigg_id\":\"[B]_PGA_h\",\"coefficient\":1}],\"segments\":{\"591\":{\"from_node_id\":\"599\",\"to_node_id\":\"600\",\"b1\":null,\"b2\":null},\"592\":{\"from_node_id\":\"601\",\"to_node_id\":\"600\",\"b1\":null,\"b2\":null},\"595\":{\"from_node_id\":\"599\",\"to_node_id\":\"604\",\"b1\":{\"x\":2412.8193359375,\"y\":3286.95849609375},\"b2\":{\"x\":2415.474853515625,\"y\":3554.159912109375}},\"597\":{\"from_node_id\":\"601\",\"to_node_id\":\"483\",\"b1\":{\"x\":2412.8193359375,\"y\":3158.95849609375},\"b2\":{\"x\":2412.8193359375,\"y\":3104.70849609375}}}},\"110\":{\"name\":\"GCA/GCEA shuffle\",\"bigg_id\":\"[B]_Tr_GCEA1\",\"reversibility\":true,\"label_x\":2426.1126708984375,\"label_y\":3730.759765625,\"gene_reaction_rule\":\"\",\"genes\":[],\"metabolites\":[{\"bigg_id\":\"[B]_GCEA_c\",\"coefficient\":-1},{\"bigg_id\":\"[B]_GCEA_h\",\"coefficient\":1}],\"segments\":{\"598\":{\"from_node_id\":\"606\",\"to_node_id\":\"607\",\"b1\":null,\"b2\":null},\"599\":{\"from_node_id\":\"608\",\"to_node_id\":\"607\",\"b1\":null,\"b2\":null},\"600\":{\"from_node_id\":\"606\",\"to_node_id\":\"253\",\"b1\":{\"x\":-1152.776351928711,\"y\":3965.098388671875},\"b2\":{\"x\":-1159.8948974609375,\"y\":3971.954833984375}},\"601\":{\"from_node_id\":\"608\",\"to_node_id\":\"604\",\"b1\":{\"x\":2419.5621337890625,\"y\":3978.385498046875},\"b2\":{\"x\":2413.857666015625,\"y\":3984.276123046875}}}},\"112\":{\"name\":\"Gly hydroxymethyltransferase\",\"bigg_id\":\"[B]_GlyHMT_m\",\"reversibility\":true,\"label_x\":902.6587524414062,\"label_y\":3463.1121826171875,\"gene_reaction_rule\":\"\",\"genes\":[],\"metabolites\":[{\"bigg_id\":\"[B]_Gly_m\",\"coefficient\":-1},{\"bigg_id\":\"[B]_H2O_m\",\"coefficient\":-1},{\"bigg_id\":\"[B]_M_DASH_THF_m\",\"coefficient\":-1},{\"bigg_id\":\"[B]_Ser_m\",\"coefficient\":1},{\"bigg_id\":\"[B]_THF_m\",\"coefficient\":1}],\"segments\":{\"609\":{\"from_node_id\":\"619\",\"to_node_id\":\"620\",\"b1\":null,\"b2\":null},\"610\":{\"from_node_id\":\"621\",\"to_node_id\":\"620\",\"b1\":null,\"b2\":null},\"611\":{\"from_node_id\":\"619\",\"to_node_id\":\"618\",\"b1\":{\"x\":892.2216796875,\"y\":3647.0870361328125},\"b2\":{\"x\":893.1558837890625,\"y\":3649.0206298828125}},\"615\":{\"from_node_id\":\"621\",\"to_node_id\":\"625\",\"b1\":{\"x\":892.2216796875,\"y\":3484.7843017578125},\"b2\":{\"x\":892.2216796875,\"y\":3430.5343017578125}}}},\"113\":{\"name\":\"Aminomethyltransferase\",\"bigg_id\":\"[B]_AMT_m\",\"reversibility\":false,\"label_x\":907.2216796875,\"label_y\":3206.7843017578125,\"gene_reaction_rule\":\"\",\"genes\":[],\"metabolites\":[{\"bigg_id\":\"[B]_DHP_m\",\"coefficient\":1},{\"bigg_id\":\"[B]_M_DASH_THF_m\",\"coefficient\":1},{\"bigg_id\":\"[B]_NH4_m\",\"coefficient\":1},{\"bigg_id\":\"[B]_THF_m\",\"coefficient\":-1},{\"bigg_id\":\"[B]_amDHP_m\",\"coefficient\":-1}],\"segments\":{\"616\":{\"from_node_id\":\"626\",\"to_node_id\":\"627\",\"b1\":null,\"b2\":null},\"617\":{\"from_node_id\":\"628\",\"to_node_id\":\"627\",\"b1\":null,\"b2\":null},\"618\":{\"from_node_id\":\"628\",\"to_node_id\":\"629\",\"b1\":{\"x\":893.1558837890625,\"y\":3099.2843017578125},\"b2\":{\"x\":893.6229248046875,\"y\":3100.3868408203125}},\"621\":{\"from_node_id\":\"626\",\"to_node_id\":\"625\",\"b1\":{\"x\":892.2216796875,\"y\":3258.7843017578125},\"b2\":{\"x\":892.2216796875,\"y\":3313.0343017578125}}}},\"114\":{\"name\":\"DHL dehydrogenase\",\"bigg_id\":\"[B]_DHLDH1_m\",\"reversibility\":false,\"label_x\":952.063720703125,\"label_y\":3305.9852294921875,\"gene_reaction_rule\":\"\",\"genes\":[],\"metabolites\":[{\"bigg_id\":\"[B]_DHP_m\",\"coefficient\":-1},{\"bigg_id\":\"[B]_H_m\",\"coefficient\":1},{\"bigg_id\":\"[B]_LPL_m\",\"coefficient\":1},{\"bigg_id\":\"[B]_NADH_m\",\"coefficient\":1},{\"bigg_id\":\"[B]_NAD_m\",\"coefficient\":-1}],\"segments\":{\"623\":{\"from_node_id\":\"633\",\"to_node_id\":\"634\",\"b1\":null,\"b2\":null},\"624\":{\"from_node_id\":\"635\",\"to_node_id\":\"634\",\"b1\":null,\"b2\":null},\"625\":{\"from_node_id\":\"633\",\"to_node_id\":\"629\",\"b1\":{\"x\":1186.4984130859375,\"y\":3099.5177001953125},\"b2\":{\"x\":1186.965576171875,\"y\":3098.5181884765625}},\"627\":{\"from_node_id\":\"635\",\"to_node_id\":\"637\",\"b1\":{\"x\":1186.4984130859375,\"y\":3311.3336181640625},\"b2\":{\"x\":1185.564208984375,\"y\":3314.2022705078125}}}},\"115\":{\"name\":\"Gly dehydrogenase\",\"bigg_id\":\"[B]_GlyDH_m\",\"reversibility\":false,\"label_x\":973.89501953125,\"label_y\":3615.9273681640625,\"gene_reaction_rule\":\"\",\"genes\":[],\"metabolites\":[{\"bigg_id\":\"[B]_CO2_m\",\"coefficient\":1},{\"bigg_id\":\"[B]_Gly_m\",\"coefficient\":-1},{\"bigg_id\":\"[B]_H_m\",\"coefficient\":-1},{\"bigg_id\":\"[B]_LPL_m\",\"coefficient\":-1},{\"bigg_id\":\"[B]_amDHP_m\",\"coefficient\":1}],\"segments\":{\"630\":{\"from_node_id\":\"640\",\"to_node_id\":\"641\",\"b1\":null,\"b2\":null},\"631\":{\"from_node_id\":\"642\",\"to_node_id\":\"641\",\"b1\":null,\"b2\":null},\"632\":{\"from_node_id\":\"642\",\"to_node_id\":\"587\",\"b1\":{\"x\":1312.6170654296875,\"y\":3620.2283935546875},\"b2\":{\"x\":1291.13037109375,\"y\":3620.2940673828125}},\"633\":{\"from_node_id\":\"640\",\"to_node_id\":\"618\",\"b1\":{\"x\":1185.5640869140625,\"y\":3651.9788818359375},\"b2\":{\"x\":1184.4129638671875,\"y\":3651.1654052734375}},\"635\":{\"from_node_id\":\"640\",\"to_node_id\":\"637\",\"b1\":{\"x\":1186.4984130859375,\"y\":3537.3336181640625},\"b2\":{\"x\":1185.564208984375,\"y\":3431.7022705078125}}}},\"117\":{\"name\":\"Ser:GLX aminotransferase\",\"bigg_id\":\"[B]_SGAT_p\",\"reversibility\":false,\"label_x\":-199.09600448608398,\"label_y\":3483.7188720703125,\"gene_reaction_rule\":\"\",\"genes\":[],\"metabolites\":[{\"bigg_id\":\"[B]_GLX_p\",\"coefficient\":-1},{\"bigg_id\":\"[B]_Gly_p\",\"coefficient\":1},{\"bigg_id\":\"[B]_HPR_p\",\"coefficient\":1},{\"bigg_id\":\"[B]_Ser_p\",\"coefficient\":-1}],\"segments\":{\"643\":{\"from_node_id\":\"654\",\"to_node_id\":\"655\",\"b1\":null,\"b2\":null},\"644\":{\"from_node_id\":\"656\",\"to_node_id\":\"655\",\"b1\":null,\"b2\":null},\"645\":{\"from_node_id\":\"654\",\"to_node_id\":\"651\",\"b1\":{\"x\":-185.91007614135742,\"y\":3511.1258544921875},\"b2\":{\"x\":-240.16006088256836,\"y\":3576.8892822265625}},\"646\":{\"from_node_id\":\"656\",\"to_node_id\":\"657\",\"b1\":{\"x\":-57.91007614135742,\"y\":3511.1258544921875},\"b2\":{\"x\":7.506313323974609,\"y\":3587.8929443359375}},\"647\":{\"from_node_id\":\"656\",\"to_node_id\":\"658\",\"b1\":{\"x\":-61.91007614135742,\"y\":3511.1258544921875},\"b2\":{\"x\":-7.660076141357422,\"y\":3511.1258544921875}}}},\"118\":{\"name\":\"Glu:GLX aminotransferase\",\"bigg_id\":\"[B]_GGAT_p\",\"reversibility\":false,\"label_x\":-206.09209537506104,\"label_y\":3711.7913818359375,\"gene_reaction_rule\":\"\",\"genes\":[],\"metabolites\":[{\"bigg_id\":\"[B]_GLX_p\",\"coefficient\":-1},{\"bigg_id\":\"[B]_Glu_p\",\"coefficient\":-1},{\"bigg_id\":\"[B]_Gly_p\",\"coefficient\":1},{\"bigg_id\":\"[B]_KG_p\",\"coefficient\":1}],\"segments\":{\"649\":{\"from_node_id\":\"660\",\"to_node_id\":\"661\",\"b1\":null,\"b2\":null},\"650\":{\"from_node_id\":\"662\",\"to_node_id\":\"661\",\"b1\":null,\"b2\":null},\"651\":{\"from_node_id\":\"660\",\"to_node_id\":\"651\",\"b1\":{\"x\":-187.3092918395996,\"y\":3649.6485595703125},\"b2\":{\"x\":-240.16006088256836,\"y\":3576.8892822265625}},\"653\":{\"from_node_id\":\"662\",\"to_node_id\":\"657\",\"b1\":{\"x\":-63.30929183959961,\"y\":3649.6485595703125},\"b2\":{\"x\":-23.051471710205078,\"y\":3649.6483154296875}}}},\"119\":{\"name\":\"GCEA dehydrogenase\",\"bigg_id\":\"[B]_GCEADH_p\",\"reversibility\":false,\"label_x\":66.08992385864258,\"label_y\":3346.1258544921875,\"gene_reaction_rule\":\"\",\"genes\":[],\"metabolites\":[{\"bigg_id\":\"[B]_GCEA_p\",\"coefficient\":1},{\"bigg_id\":\"[B]_HPR_p\",\"coefficient\":-1},{\"bigg_id\":\"[B]_H_p\",\"coefficient\":-1},{\"bigg_id\":\"[B]_NADH_p\",\"coefficient\":-1},{\"bigg_id\":\"[B]_NAD_p\",\"coefficient\":1}],\"segments\":{\"655\":{\"from_node_id\":\"666\",\"to_node_id\":\"667\",\"b1\":null,\"b2\":null},\"656\":{\"from_node_id\":\"668\",\"to_node_id\":\"667\",\"b1\":null,\"b2\":null},\"657\":{\"from_node_id\":\"668\",\"to_node_id\":\"669\",\"b1\":{\"x\":51.08992385864258,\"y\":3274.1258544921875},\"b2\":{\"x\":51.08992385864258,\"y\":3219.8758544921875}},\"658\":{\"from_node_id\":\"666\",\"to_node_id\":\"658\",\"b1\":{\"x\":51.08992385864258,\"y\":3398.1258544921875},\"b2\":{\"x\":51.08992385864258,\"y\":3452.3758544921875}}}},\"120\":{\"name\":\"GCEA diffusion\",\"bigg_id\":\"[B]_Tr_GCEA2\",\"reversibility\":true,\"label_x\":-523.714672088623,\"label_y\":3136.5172119140625,\"gene_reaction_rule\":\"\",\"genes\":[],\"metabolites\":[{\"bigg_id\":\"[B]_GCEA_c\",\"coefficient\":-1},{\"bigg_id\":\"[B]_GCEA_p\",\"coefficient\":1}],\"segments\":{\"662\":{\"from_node_id\":\"673\",\"to_node_id\":\"674\",\"b1\":null,\"b2\":null},\"663\":{\"from_node_id\":\"675\",\"to_node_id\":\"674\",\"b1\":null,\"b2\":null},\"664\":{\"from_node_id\":\"673\",\"to_node_id\":\"253\",\"b1\":{\"x\":-1096.8012504577637,\"y\":3162.5252685546875},\"b2\":{\"x\":-1005.3885612487793,\"y\":3143.8460693359375}},\"665\":{\"from_node_id\":\"675\",\"to_node_id\":\"669\",\"b1\":{\"x\":-61.91007614135742,\"y\":3161.1258544921875},\"b2\":{\"x\":-7.660076141357422,\"y\":3161.1258544921875}}}},\"122\":{\"name\":\"Gly diffusion\",\"bigg_id\":\"[B]_Tr_Gly\",\"reversibility\":true,\"label_x\":166.2563133239746,\"label_y\":3609.8929443359375,\"gene_reaction_rule\":\"\",\"genes\":[],\"metabolites\":[{\"bigg_id\":\"[B]_Gly_c\",\"coefficient\":-1},{\"bigg_id\":\"[B]_Gly_p\",\"coefficient\":1}],\"segments\":{\"669\":{\"from_node_id\":\"680\",\"to_node_id\":\"681\",\"b1\":null,\"b2\":null},\"670\":{\"from_node_id\":\"682\",\"to_node_id\":\"681\",\"b1\":null,\"b2\":null},\"671\":{\"from_node_id\":\"680\",\"to_node_id\":\"683\",\"b1\":{\"x\":278.2563133239746,\"y\":3649.8929443359375},\"b2\":{\"x\":452.8390922546387,\"y\":3648.4937744140625}},\"672\":{\"from_node_id\":\"682\",\"to_node_id\":\"657\",\"b1\":{\"x\":154.2563133239746,\"y\":3649.8929443359375},\"b2\":{\"x\":100.00631332397461,\"y\":3649.8929443359375}}}},\"123\":{\"name\":\"Gly/Ser shuffle\",\"bigg_id\":\"[B]_Tr_GlySer\",\"reversibility\":true,\"label_x\":640.7867889404297,\"label_y\":3702.2415771484375,\"gene_reaction_rule\":\"\",\"genes\":[],\"metabolites\":[{\"bigg_id\":\"[B]_Gly_c\",\"coefficient\":-1},{\"bigg_id\":\"[B]_Gly_m\",\"coefficient\":1},{\"bigg_id\":\"[B]_Ser_c\",\"coefficient\":1},{\"bigg_id\":\"[B]_Ser_m\",\"coefficient\":-1}],\"segments\":{\"673\":{\"from_node_id\":\"684\",\"to_node_id\":\"685\",\"b1\":null,\"b2\":null},\"674\":{\"from_node_id\":\"686\",\"to_node_id\":\"685\",\"b1\":null,\"b2\":null},\"675\":{\"from_node_id\":\"684\",\"to_node_id\":\"683\",\"b1\":{\"x\":611.9961395263672,\"y\":3648.4940185546875},\"b2\":{\"x\":570.3390922546387,\"y\":3648.4937744140625}},\"676\":{\"from_node_id\":\"686\",\"to_node_id\":\"618\",\"b1\":{\"x\":735.9961395263672,\"y\":3648.4940185546875},\"b2\":{\"x\":974.9430389404297,\"y\":3649.8931884765625}}}},\"124\":{\"name\":\"GCA diffusion\",\"bigg_id\":\"[B]_Tr_GCA2\",\"reversibility\":true,\"label_x\":-547.8921775817871,\"label_y\":3279.4329833984375,\"gene_reaction_rule\":\"\",\"genes\":[],\"metabolites\":[{\"bigg_id\":\"[B]_GCA_c\",\"coefficient\":-1},{\"bigg_id\":\"[B]_GCA_p\",\"coefficient\":1}],\"segments\":{\"679\":{\"from_node_id\":\"690\",\"to_node_id\":\"691\",\"b1\":null,\"b2\":null},\"680\":{\"from_node_id\":\"692\",\"to_node_id\":\"691\",\"b1\":null,\"b2\":null},\"681\":{\"from_node_id\":\"690\",\"to_node_id\":\"249\",\"b1\":{\"x\":-1399.423183441162,\"y\":3297.0455322265625},\"b2\":{\"x\":-1277.3718528747559,\"y\":3295.6463623046875}},\"682\":{\"from_node_id\":\"692\",\"to_node_id\":\"697\",\"b1\":{\"x\":-764.7085227966309,\"y\":3301.2432861328125},\"b2\":{\"x\":-356.4562339782715,\"y\":3306.8402099609375}}}},\"125\":{\"name\":\"GCA oxidase\",\"bigg_id\":\"[B]_GCAO_p\",\"reversibility\":false,\"label_x\":-281.1116142272949,\"label_y\":3413.2884521484375,\"gene_reaction_rule\":\"\",\"genes\":[],\"metabolites\":[{\"bigg_id\":\"[B]_GCA_p\",\"coefficient\":-1},{\"bigg_id\":\"[B]_GLX_p\",\"coefficient\":1},{\"bigg_id\":\"[B]_H2O2_p\",\"coefficient\":1},{\"bigg_id\":\"[B]_O2_p\",\"coefficient\":-1}],\"segments\":{\"683\":{\"from_node_id\":\"694\",\"to_node_id\":\"695\",\"b1\":null,\"b2\":null},\"684\":{\"from_node_id\":\"696\",\"to_node_id\":\"695\",\"b1\":null,\"b2\":null},\"685\":{\"from_node_id\":\"694\",\"to_node_id\":\"697\",\"b1\":{\"x\":-300.3092613220215,\"y\":3418.2454833984375},\"b2\":{\"x\":-300.3092613220215,\"y\":3363.9954833984375}},\"686\":{\"from_node_id\":\"696\",\"to_node_id\":\"651\",\"b1\":{\"x\":-300.3092613220215,\"y\":3542.2454833984375},\"b2\":{\"x\":-298.91006088256836,\"y\":3518.1392822265625}}}},\"126\":{\"name\":\"FBP aldolase\",\"bigg_id\":\"[M]_FBPA_c\",\"reversibility\":true,\"label_x\":14.662513732910156,\"label_y\":899.7548828125,\"gene_reaction_rule\":\"\",\"genes\":[],\"metabolites\":[{\"bigg_id\":\"[M]_DHAP_c\",\"coefficient\":-1},{\"bigg_id\":\"[M]_FBP_c\",\"coefficient\":1},{\"bigg_id\":\"[M]_GAP_c\",\"coefficient\":-1}],\"segments\":{\"689\":{\"from_node_id\":\"701\",\"to_node_id\":\"702\",\"b1\":null,\"b2\":null},\"690\":{\"from_node_id\":\"703\",\"to_node_id\":\"702\",\"b1\":null,\"b2\":null},\"691\":{\"from_node_id\":\"701\",\"to_node_id\":\"279\",\"b1\":{\"x\":-15.676542282104492,\"y\":816.5715942382812},\"b2\":{\"x\":12.32595157623291,\"y\":807.0420532226562}},\"692\":{\"from_node_id\":\"703\",\"to_node_id\":\"704\",\"b1\":{\"x\":-15.676542282104492,\"y\":940.5715942382812},\"b2\":{\"x\":-17.072267532348633,\"y\":996.2173461914062}},\"693\":{\"from_node_id\":\"701\",\"to_node_id\":\"289\",\"b1\":{\"x\":-15.676542282104492,\"y\":812.5715942382812},\"b2\":{\"x\":-46.250633239746094,\"y\":798.9389038085938}}}},\"127\":{\"name\":\"FBPase\",\"bigg_id\":\"[M]_FBPase_c\",\"reversibility\":false,\"label_x\":15.82380485534668,\"label_y\":1017.7518310546875,\"gene_reaction_rule\":\"\",\"genes\":[],\"metabolites\":[{\"bigg_id\":\"[M]_F6P_c\",\"coefficient\":1},{\"bigg_id\":\"[M]_FBP_c\",\"coefficient\":-1},{\"bigg_id\":\"[M]_H2O_c\",\"coefficient\":-1},{\"bigg_id\":\"[M]_Pi_c\",\"coefficient\":1}],\"segments\":{\"694\":{\"from_node_id\":\"706\",\"to_node_id\":\"707\",\"b1\":null,\"b2\":null},\"695\":{\"from_node_id\":\"708\",\"to_node_id\":\"707\",\"b1\":null,\"b2\":null},\"696\":{\"from_node_id\":\"708\",\"to_node_id\":\"709\",\"b1\":{\"x\":133.39275932312012,\"y\":1054.9673461914062},\"b2\":{\"x\":187.64275932312012,\"y\":1054.9673461914062}},\"697\":{\"from_node_id\":\"706\",\"to_node_id\":\"704\",\"b1\":{\"x\":9.392759323120117,\"y\":1054.9673461914062},\"b2\":{\"x\":41.67773246765137,\"y\":1054.9673461914062}}}},\"128\":{\"name\":\"S6P synthase\",\"bigg_id\":\"[M]_S6PS_c\",\"reversibility\":false,\"label_x\":283.46203422546387,\"label_y\":1014.9673461914062,\"gene_reaction_rule\":\"\",\"genes\":[],\"metabolites\":[{\"bigg_id\":\"[M]_F6P_c\",\"coefficient\":-1},{\"bigg_id\":\"[M]_S6P_c\",\"coefficient\":1},{\"bigg_id\":\"[M]_UDPG_c\",\"coefficient\":-1},{\"bigg_id\":\"[M]_UDP_c\",\"coefficient\":1}],\"segments\":{\"700\":{\"from_node_id\":\"712\",\"to_node_id\":\"713\",\"b1\":null,\"b2\":null},\"701\":{\"from_node_id\":\"714\",\"to_node_id\":\"713\",\"b1\":null,\"b2\":null},\"702\":{\"from_node_id\":\"712\",\"to_node_id\":\"709\",\"b1\":{\"x\":271.46203422546387,\"y\":1054.9673461914062},\"b2\":{\"x\":305.1427593231201,\"y\":1054.9673461914062}},\"703\":{\"from_node_id\":\"714\",\"to_node_id\":\"715\",\"b1\":{\"x\":395.46203422546387,\"y\":1054.9673461914062},\"b2\":{\"x\":449.71203422546387,\"y\":1054.9673461914062}}}},\"129\":{\"name\":\"S6P phosphorylase\",\"bigg_id\":\"[M]_S6PPh_c\",\"reversibility\":false,\"label_x\":546.9270000457764,\"label_y\":1014.9673461914062,\"gene_reaction_rule\":\"\",\"genes\":[],\"metabolites\":[{\"bigg_id\":\"[M]_H2O_c\",\"coefficient\":-1},{\"bigg_id\":\"[M]_Pi_c\",\"coefficient\":1},{\"bigg_id\":\"[M]_S6P_c\",\"coefficient\":-1},{\"bigg_id\":\"[M]_Suc_c\",\"coefficient\":1}],\"segments\":{\"706\":{\"from_node_id\":\"718\",\"to_node_id\":\"719\",\"b1\":null,\"b2\":null},\"707\":{\"from_node_id\":\"720\",\"to_node_id\":\"719\",\"b1\":null,\"b2\":null},\"710\":{\"from_node_id\":\"718\",\"to_node_id\":\"715\",\"b1\":{\"x\":534.9270000457764,\"y\":1054.9673461914062},\"b2\":{\"x\":567.2120342254639,\"y\":1054.9673461914062}},\"711\":{\"from_node_id\":\"720\",\"to_node_id\":\"723\",\"b1\":{\"x\":658.9270000457764,\"y\":1054.9673461914062},\"b2\":{\"x\":713.1770000457764,\"y\":1054.9673461914062}}}},\"130\":{\"name\":\"[MB]_Suc_c\",\"bigg_id\":\"[MB]_Suc_c\",\"reversibility\":true,\"label_x\":786.9270000457764,\"label_y\":1375.3088989257812,\"gene_reaction_rule\":\"\",\"genes\":[],\"metabolites\":[{\"bigg_id\":\"[B]_Suc_c\",\"coefficient\":1},{\"bigg_id\":\"[M]_Suc_c\",\"coefficient\":-1}],\"segments\":{\"712\":{\"from_node_id\":\"724\",\"to_node_id\":\"725\",\"b1\":null,\"b2\":null},\"713\":{\"from_node_id\":\"726\",\"to_node_id\":\"725\",\"b1\":null,\"b2\":null},\"714\":{\"from_node_id\":\"726\",\"to_node_id\":\"363\",\"b1\":{\"x\":771.9270000457764,\"y\":1291.9673461914062},\"b2\":{\"x\":771.9270000457764,\"y\":2088.7433471679688}},\"715\":{\"from_node_id\":\"724\",\"to_node_id\":\"723\",\"b1\":{\"x\":771.9270000457764,\"y\":1167.9673461914062},\"b2\":{\"x\":771.9270000457764,\"y\":1113.7173461914062}}}},\"131\":{\"name\":\"Tr_Asp_mc\",\"bigg_id\":\"[B]_Tr_Asp_mc\",\"reversibility\":true,\"label_x\":1254.9667358398438,\"label_y\":3738.2415351867676,\"gene_reaction_rule\":\"\",\"genes\":[],\"metabolites\":[{\"bigg_id\":\"[B]_Asp_c\",\"coefficient\":1},{\"bigg_id\":\"[B]_Asp_m\",\"coefficient\":-1}],\"segments\":{\"716\":{\"from_node_id\":\"728\",\"to_node_id\":\"729\",\"b1\":null,\"b2\":null},\"717\":{\"from_node_id\":\"730\",\"to_node_id\":\"729\",\"b1\":null,\"b2\":null},\"718\":{\"from_node_id\":\"730\",\"to_node_id\":\"185\",\"b1\":{\"x\":3337.0399780273438,\"y\":3509.9805488586426},\"b2\":{\"x\":3337.0402221679688,\"y\":3822.18208694458}},\"719\":{\"from_node_id\":\"728\",\"to_node_id\":\"582\",\"b1\":{\"x\":1493.7348022460938,\"y\":3812.6458320617676},\"b2\":{\"x\":1495.1290893554688,\"y\":3426.3728828430176}}}},\"132\":{\"name\":\"R_Tr_Ala_mc\",\"bigg_id\":\"[B]_Tr_Ala_mc\",\"reversibility\":true,\"label_x\":1606.4703979492188,\"label_y\":3734.3384590148926,\"gene_reaction_rule\":\"\",\"genes\":[],\"metabolites\":[{\"bigg_id\":\"[B]_Ala_c\",\"coefficient\":-1},{\"bigg_id\":\"[B]_Ala_m\",\"coefficient\":1}],\"segments\":{\"720\":{\"from_node_id\":\"732\",\"to_node_id\":\"733\",\"b1\":null,\"b2\":null},\"721\":{\"from_node_id\":\"734\",\"to_node_id\":\"733\",\"b1\":null,\"b2\":null},\"722\":{\"from_node_id\":\"732\",\"to_node_id\":\"189\",\"b1\":{\"x\":3588.1522827148438,\"y\":3755.6631660461426},\"b2\":{\"x\":3585.3634643554688,\"y\":3750.305866241455}},\"723\":{\"from_node_id\":\"734\",\"to_node_id\":\"581\",\"b1\":{\"x\":1590.0761108398438,\"y\":3764.1245918273926},\"b2\":{\"x\":1585.8931274414062,\"y\":3423.8645820617676}}}},\"134\":{\"name\":\"FBPase\",\"bigg_id\":\"[B]_FBPase_c\",\"reversibility\":false,\"label_x\":-238.2570457458496,\"label_y\":2067.4127464294434,\"gene_reaction_rule\":\"\",\"genes\":[],\"metabolites\":[{\"bigg_id\":\"[B]_F6P_c\",\"coefficient\":1},{\"bigg_id\":\"[B]_FBP_c\",\"coefficient\":-1},{\"bigg_id\":\"[B]_H2O_c\",\"coefficient\":-1},{\"bigg_id\":\"[B]_Pi_c\",\"coefficient\":1}],\"segments\":{\"731\":{\"from_node_id\":\"743\",\"to_node_id\":\"744\",\"b1\":null,\"b2\":null},\"732\":{\"from_node_id\":\"745\",\"to_node_id\":\"744\",\"b1\":null,\"b2\":null},\"733\":{\"from_node_id\":\"745\",\"to_node_id\":\"318\",\"b1\":{\"x\":-18.34404754638672,\"y\":2077.6920433044434},\"b2\":{\"x\":-18.808341026306152,\"y\":2103.5755882263184}},\"734\":{\"from_node_id\":\"743\",\"to_node_id\":\"314\",\"b1\":{\"x\":-19.72587776184082,\"y\":2039.6316184997559},\"b2\":{\"x\":-19.725879669189453,\"y\":2036.703395843506}}}},\"136\":{\"name\":\"Pyr kinase\",\"bigg_id\":\"[B]_PyrK_c\",\"reversibility\":false,\"label_x\":2830.192070944275,\"label_y\":1598.899410130277,\"gene_reaction_rule\":\"\",\"genes\":[],\"metabolites\":[{\"bigg_id\":\"[B]_ADP_c\",\"coefficient\":-1},{\"bigg_id\":\"[B]_ATP_c\",\"coefficient\":1},{\"bigg_id\":\"[B]_H_c\",\"coefficient\":-1},{\"bigg_id\":\"[B]_PEP_c\",\"coefficient\":-1},{\"bigg_id\":\"[B]_Pyr_c\",\"coefficient\":1}],\"segments\":{\"742\":{\"from_node_id\":\"753\",\"to_node_id\":\"754\",\"b1\":null,\"b2\":null},\"743\":{\"from_node_id\":\"755\",\"to_node_id\":\"754\",\"b1\":null,\"b2\":null},\"747\":{\"from_node_id\":\"753\",\"to_node_id\":\"233\",\"b1\":{\"x\":2818.192070944275,\"y\":1638.899410130277},\"b2\":{\"x\":2820.1991510224,\"y\":1638.899410130277}},\"748\":{\"from_node_id\":\"755\",\"to_node_id\":\"181\",\"b1\":{\"x\":2942.192070944275,\"y\":1638.899410130277},\"b2\":{\"x\":2937.299981100525,\"y\":1637.457027317777}}}}},\"nodes\":{\"12\":{\"node_type\":\"metabolite\",\"x\":1289.6665649414062,\"y\":-320.00006103515625,\"bigg_id\":\"[M]_CO2_c\",\"name\":\"CO2\",\"label_x\":1324.351962073744,\"label_y\":-340.41893299433843,\"node_is_primary\":true},\"13\":{\"node_type\":\"multimarker\",\"x\":1285.6845092773438,\"y\":-1008.7737426757812},\"14\":{\"node_type\":\"midmarker\",\"x\":1285.6845092773438,\"y\":-988.7737426757812},\"15\":{\"node_type\":\"multimarker\",\"x\":1285.6845092773438,\"y\":-968.7737426757812},\"16\":{\"node_type\":\"multimarker\",\"x\":1134.6665649414062,\"y\":-320.00006103515625},\"17\":{\"node_type\":\"midmarker\",\"x\":1114.6665649414062,\"y\":-320.00006103515625},\"18\":{\"node_type\":\"multimarker\",\"x\":1094.6665649414062,\"y\":-320.00006103515625},\"19\":{\"node_type\":\"metabolite\",\"x\":939.6665649414062,\"y\":-320.0000610351562,\"bigg_id\":\"[M]_CO2_h\",\"name\":\"CO2\",\"label_x\":891.0665649414063,\"label_y\":-280.0000610351562,\"node_is_primary\":true},\"20\":{\"node_type\":\"multimarker\",\"x\":784.6665649414062,\"y\":-320.0000610351562},\"21\":{\"node_type\":\"midmarker\",\"x\":764.6665649414062,\"y\":-320.0000610351562},\"22\":{\"node_type\":\"multimarker\",\"x\":744.6665649414062,\"y\":-320.0000610351562},\"25\":{\"node_type\":\"metabolite\",\"x\":582.8522338867188,\"y\":-319.66468811035145,\"bigg_id\":\"[M]_PGA_h\",\"name\":\"C3H4O7P\",\"label_x\":522.8673156738282,\"label_y\":-262.1553192138671,\"node_is_primary\":true},\"26\":{\"node_type\":\"metabolite\",\"x\":940.3206176757812,\"y\":-440.28026580810547,\"bigg_id\":\"[M]_RuBP_h\",\"name\":\"C5H8O11P2\",\"label_x\":895.6539306640625,\"label_y\":-392.28026580810547,\"node_is_primary\":true},\"27\":{\"node_type\":\"multimarker\",\"x\":788.5404052734375,\"y\":-547.3853912353514},\"28\":{\"node_type\":\"midmarker\",\"x\":768.5404052734375,\"y\":-547.3853912353514},\"29\":{\"node_type\":\"multimarker\",\"x\":748.5404052734375,\"y\":-547.3853912353514},\"33\":{\"node_type\":\"metabolite\",\"x\":581.9457397460938,\"y\":-548.71870803833,\"bigg_id\":\"[M]_PGCA_h\",\"name\":\"C2H2O6P\",\"label_x\":504.80517578125,\"label_y\":-498.0520439147948,\"node_is_primary\":true},\"34\":{\"node_type\":\"multimarker\",\"x\":426.94573974609375,\"y\":-548.71870803833},\"35\":{\"node_type\":\"midmarker\",\"x\":406.94573974609375,\"y\":-548.71870803833},\"36\":{\"node_type\":\"multimarker\",\"x\":386.94573974609375,\"y\":-548.71870803833},\"37\":{\"node_type\":\"metabolite\",\"x\":263.6274108886719,\"y\":-548.7187080383299,\"bigg_id\":\"[M]_GCA_h\",\"name\":\"C2H3O3\",\"label_x\":215.02741088867185,\"label_y\":-499.385372161865,\"node_is_primary\":true},\"40\":{\"node_type\":\"multimarker\",\"x\":1289.6665649414062,\"y\":-165.00006103515625},\"41\":{\"node_type\":\"midmarker\",\"x\":1289.6665649414062,\"y\":-145.00006103515625},\"42\":{\"node_type\":\"multimarker\",\"x\":1289.6665649414062,\"y\":-125.00006103515625},\"44\":{\"node_type\":\"metabolite\",\"x\":1289.6665649414062,\"y\":29.99993896484375,\"bigg_id\":\"[M]_HCO3_c\",\"name\":\"CHO3\",\"label_x\":1310.6665649414062,\"label_y\":7.333271503448486,\"node_is_primary\":true},\"52\":{\"node_type\":\"multimarker\",\"x\":1409.2748762987262,\"y\":211.32401972572646},\"53\":{\"node_type\":\"midmarker\",\"x\":1408.6665649414062,\"y\":191.33327293395996},\"54\":{\"node_type\":\"multimarker\",\"x\":1408.0582535840863,\"y\":171.34252614219335},\"55\":{\"node_type\":\"metabolite\",\"x\":1287.6666870117188,\"y\":363.3332710266113,\"bigg_id\":\"[M]_OAA_c\",\"name\":\"C4H2O5\",\"label_x\":1323.0366577148438,\"label_y\":346.7503852844238,\"node_is_primary\":true},\"56\":{\"node_type\":\"metabolite\",\"x\":1288.9999389648438,\"y\":128.66659545898438,\"bigg_id\":\"[M]_PEP_c\",\"name\":\"C3H2O6P\",\"label_x\":1248.0422729492188,\"label_y\":98.7098388671875,\"node_is_primary\":true},\"58\":{\"node_type\":\"multimarker\",\"x\":1287.6666870117188,\"y\":558.3332710266113},\"59\":{\"node_type\":\"midmarker\",\"x\":1287.6666870117188,\"y\":538.3332710266113},\"60\":{\"node_type\":\"multimarker\",\"x\":1287.6666870117188,\"y\":518.3332710266113},\"62\":{\"node_type\":\"metabolite\",\"x\":1288.2583618164062,\"y\":713.9249458312988,\"bigg_id\":\"[M]_Mal_c\",\"name\":\"C4H4O5\",\"label_x\":1313.2583618164062,\"label_y\":713.9249458312988,\"node_is_primary\":true},\"65\":{\"node_type\":\"multimarker\",\"x\":1104.7414227730005,\"y\":515.4533788621472},\"66\":{\"node_type\":\"midmarker\",\"x\":1104.6664622477163,\"y\":535.4532383846456},\"67\":{\"node_type\":\"multimarker\",\"x\":1104.5915017224293,\"y\":555.453097907144},\"69\":{\"node_type\":\"metabolite\",\"x\":936.4449052943767,\"y\":366.74583911265717,\"bigg_id\":\"[M]_Mal_h\",\"name\":\"C4H4O5\",\"label_x\":810.069819845158,\"label_y\":370.74583911265717,\"node_is_primary\":true},\"70\":{\"node_type\":\"metabolite\",\"x\":939.6578197788833,\"y\":720.7443946164624,\"bigg_id\":\"[M]_OAA_h\",\"name\":\"C4H2O5\",\"label_x\":797.7244457554459,\"label_y\":736.7443946164624,\"node_is_primary\":true},\"71\":{\"node_type\":\"multimarker\",\"x\":937.7782182826579,\"y\":557.7458391126572},\"72\":{\"node_type\":\"midmarker\",\"x\":937.7782182826579,\"y\":537.7458391126572},\"73\":{\"node_type\":\"multimarker\",\"x\":937.7782182826579,\"y\":517.7458391126572},\"90\":{\"node_type\":\"multimarker\",\"x\":3158.9678344726562,\"y\":522.0020942687988},\"91\":{\"node_type\":\"midmarker\",\"x\":3158.9678344726562,\"y\":544.1748847961426},\"92\":{\"node_type\":\"multimarker\",\"x\":3158.5728149414062,\"y\":562.8415718078613},\"93\":{\"node_type\":\"metabolite\",\"x\":3337.4120483398438,\"y\":370.68107986450195,\"bigg_id\":\"[M]_Ala_c\",\"name\":\"C3H7NO2\",\"label_x\":3310.0651245117188,\"label_y\":339.7982063293457,\"node_is_primary\":true},\"94\":{\"node_type\":\"metabolite\",\"x\":3338.1416625976562,\"y\":715.8662605285645,\"bigg_id\":\"[M]_Asp_c\",\"name\":\"C4H6NO4\",\"label_x\":3353.2651977539062,\"label_y\":691.3724250793457,\"node_is_primary\":true},\"95\":{\"node_type\":\"metabolite\",\"x\":2989.3306274414062,\"y\":719.0569038391113,\"bigg_id\":\"[M]_Pyr_c\",\"name\":\"C3H3O3\",\"label_x\":3000.7750854492188,\"label_y\":693.3531684875488,\"node_is_primary\":true},\"96\":{\"node_type\":\"multimarker\",\"x\":1133.9999389648438,\"y\":128.6665954589844},\"97\":{\"node_type\":\"midmarker\",\"x\":1113.9999389648438,\"y\":128.6665954589844},\"98\":{\"node_type\":\"multimarker\",\"x\":1093.9999389648438,\"y\":128.6665954589844},\"101\":{\"node_type\":\"metabolite\",\"x\":938.9999389648438,\"y\":128.66659545898443,\"bigg_id\":\"[M]_PEP_h\",\"name\":\"C3H2O6P\",\"label_x\":901.1999389648438,\"label_y\":168.66659545898443,\"node_is_primary\":true},\"104\":{\"node_type\":\"multimarker\",\"x\":2816.6066284179688,\"y\":842.0523262023926},\"105\":{\"node_type\":\"midmarker\",\"x\":1114.7053833007812,\"y\":842.0523262023926},\"106\":{\"node_type\":\"multimarker\",\"x\":1094.7053833007812,\"y\":842.0523262023926},\"109\":{\"node_type\":\"metabolite\",\"x\":939.7053833007812,\"y\":842.0523262023926,\"bigg_id\":\"[M]_Pyr_h\",\"name\":\"C3H3O3\",\"label_x\":890.6630126953125,\"label_y\":886.7859687805176,\"node_is_primary\":true},\"110\":{\"node_type\":\"multimarker\",\"x\":772.3787003872201,\"y\":500.5207926303535},\"111\":{\"node_type\":\"midmarker\",\"x\":772.3975830078125,\"y\":480.52080154418945},\"112\":{\"node_type\":\"multimarker\",\"x\":772.4164656284049,\"y\":460.5208104580254},\"119\":{\"node_type\":\"multimarker\",\"x\":-252.7345733642578,\"y\":-547.0999336242674},\"120\":{\"node_type\":\"midmarker\",\"x\":-272.7345733642578,\"y\":-547.0999336242674},\"121\":{\"node_type\":\"multimarker\",\"x\":-292.7345733642578,\"y\":-547.0999336242674},\"122\":{\"node_type\":\"metabolite\",\"x\":-450.0978546142578,\"y\":-547.0999336242674,\"bigg_id\":\"[M]_GCA_c\",\"name\":\"C2H3O3\",\"label_x\":-538.8205352783203,\"label_y\":-582.2900733947752,\"node_is_primary\":true},\"123\":{\"node_type\":\"multimarker\",\"x\":434.35125732421875,\"y\":-212.13581085205064},\"124\":{\"node_type\":\"midmarker\",\"x\":414.35125732421875,\"y\":-212.13581085205064},\"125\":{\"node_type\":\"multimarker\",\"x\":394.35125732421875,\"y\":-212.13581085205064},\"126\":{\"node_type\":\"metabolite\",\"x\":-450.72406005859375,\"y\":-210.9541702270506,\"bigg_id\":\"[M]_PGA_c\",\"name\":\"C3H4O7P\",\"label_x\":-542.9828125,\"label_y\":-246.3160324096678,\"node_is_primary\":true},\"129\":{\"node_type\":\"multimarker\",\"x\":406.75848388671875,\"y\":-320.8462982177733},\"130\":{\"node_type\":\"midmarker\",\"x\":426.75848388671875,\"y\":-320.8462982177733},\"131\":{\"node_type\":\"multimarker\",\"x\":446.75848388671875,\"y\":-320.8462982177733},\"134\":{\"node_type\":\"metabolite\",\"x\":251.75848388671875,\"y\":-320.84629821777327,\"bigg_id\":\"[M]_GCEA_h\",\"name\":\"C3H5O4\",\"label_x\":203.15848388671873,\"label_y\":-268.37239074707014,\"node_is_primary\":true},\"136\":{\"node_type\":\"multimarker\",\"x\":438.34791564941406,\"y\":53.24074935913097},\"137\":{\"node_type\":\"midmarker\",\"x\":418.34791564941406,\"y\":53.24074935913097},\"138\":{\"node_type\":\"multimarker\",\"x\":398.34791564941406,\"y\":53.24074935913097},\"141\":{\"node_type\":\"metabolite\",\"x\":243.34791564941406,\"y\":53.24074935913103,\"bigg_id\":\"[M]_DPGA_h\",\"name\":\"C3H4O10P2\",\"label_x\":194.74791564941404,\"label_y\":105.71467208862322,\"node_is_primary\":true},\"142\":{\"node_type\":\"multimarker\",\"x\":88.34791564941406,\"y\":53.24074935913103},\"143\":{\"node_type\":\"midmarker\",\"x\":68.34791564941406,\"y\":53.24074935913103},\"144\":{\"node_type\":\"multimarker\",\"x\":48.34791564941406,\"y\":53.24074935913103},\"145\":{\"node_type\":\"metabolite\",\"x\":-106.65208435058594,\"y\":53.24074935913109,\"bigg_id\":\"[M]_GAP_h\",\"name\":\"C3H5O6P\",\"label_x\":-251.92501220703127,\"label_y\":55.81896972656273,\"node_is_primary\":true},\"156\":{\"node_type\":\"multimarker\",\"x\":-299.5047149658203,\"y\":-319.66465759277327},\"157\":{\"node_type\":\"midmarker\",\"x\":-279.5047149658203,\"y\":-319.66465759277327},\"158\":{\"node_type\":\"multimarker\",\"x\":-259.5047149658203,\"y\":-319.66465759277327},\"159\":{\"node_type\":\"metabolite\",\"x\":-450.10450744628906,\"y\":-319.6646575927732,\"bigg_id\":\"[M]_GCEA_c\",\"name\":\"C3H5O4\",\"label_x\":-544.8165435791016,\"label_y\":-354.26539611816384,\"node_is_primary\":true},\"163\":{\"node_type\":\"metabolite\",\"x\":68.78190231323242,\"y\":413.1180992126467,\"bigg_id\":\"[M]_DHAP_h\",\"name\":\"C3H5O6P\",\"label_x\":106.25582504272461,\"label_y\":419.35506820678734,\"node_is_primary\":true},\"174\":{\"node_type\":\"multimarker\",\"x\":1288.8482055664062,\"y\":1107.025592803955},\"175\":{\"node_type\":\"midmarker\",\"x\":1291.9885864257812,\"y\":1463.0464668273926},\"176\":{\"node_type\":\"multimarker\",\"x\":1291.9885864257812,\"y\":1483.0464668273926},\"177\":{\"node_type\":\"metabolite\",\"x\":1291.9885864257812,\"y\":1638.0464668273926,\"bigg_id\":\"[B]_Mal_c\",\"name\":\"C4H4O5\",\"label_x\":1169.7308959960938,\"label_y\":1640.6761054992676,\"node_is_primary\":true},\"178\":{\"node_type\":\"multimarker\",\"x\":2985.7622680664062,\"y\":1110.07857131958},\"179\":{\"node_type\":\"midmarker\",\"x\":2988.9026489257812,\"y\":1466.0994453430176},\"180\":{\"node_type\":\"multimarker\",\"x\":2988.9026489257812,\"y\":1486.0994453430176},\"181\":{\"node_type\":\"metabolite\",\"x\":2988.9026489257812,\"y\":1641.0994453430176,\"bigg_id\":\"[B]_Pyr_c\",\"name\":\"C3H3O3\",\"label_x\":2880.2689819335938,\"label_y\":1681.0533027648926,\"node_is_primary\":true},\"182\":{\"node_type\":\"multimarker\",\"x\":3336.6189575195312,\"y\":1108.9669075012207},\"183\":{\"node_type\":\"midmarker\",\"x\":3339.7593383789062,\"y\":1464.9877815246582},\"184\":{\"node_type\":\"multimarker\",\"x\":3339.7593383789062,\"y\":1484.9877815246582},\"185\":{\"node_type\":\"metabolite\",\"x\":3339.7593383789062,\"y\":1639.9877815246582,\"bigg_id\":\"[B]_Asp_c\",\"name\":\"C4H6NO4\",\"label_x\":3345.0130004882812,\"label_y\":1683.7119026184082,\"node_is_primary\":true},\"186\":{\"node_type\":\"multimarker\",\"x\":3584.0829467773438,\"y\":1104.4651374816895},\"187\":{\"node_type\":\"midmarker\",\"x\":3587.2233276367188,\"y\":1460.486011505127},\"188\":{\"node_type\":\"multimarker\",\"x\":3587.2233276367188,\"y\":1480.486011505127},\"189\":{\"node_type\":\"metabolite\",\"x\":3587.2233276367188,\"y\":1635.486011505127,\"bigg_id\":\"[B]_Ala_c\",\"name\":\"C3H7NO2\",\"label_x\":3612.2233276367188,\"label_y\":1675.595630645752,\"node_is_primary\":true},\"194\":{\"node_type\":\"multimarker\",\"x\":3908.3513446201473,\"y\":-316.2150125791493},\"195\":{\"node_type\":\"midmarker\",\"x\":3898.1085792200147,\"y\":771.5875536590136},\"196\":{\"node_type\":\"multimarker\",\"x\":3898.3758235855084,\"y\":791.585768090534},\"197\":{\"node_type\":\"metabolite\",\"x\":3900.378852183705,\"y\":1632.682305339183,\"bigg_id\":\"[B]_CO2_ex_c\",\"name\":\"\",\"label_x\":3929.7264351915173,\"label_y\":1642.183770182933,\"node_is_primary\":true},\"230\":{\"node_type\":\"multimarker\",\"x\":2760.4410485212625,\"y\":1107.8901944322583},\"231\":{\"node_type\":\"midmarker\",\"x\":2763.362734164408,\"y\":1463.9098727300116},\"232\":{\"node_type\":\"multimarker\",\"x\":2763.1440389481786,\"y\":1483.9086770043273},\"233\":{\"node_type\":\"metabolite\",\"x\":2761.4491510224,\"y\":1638.899410130277,\"bigg_id\":\"[B]_PEP_c\",\"name\":\"C3H2O6P\",\"label_x\":2724.9795221161503,\"label_y\":1683.7076376693394,\"node_is_primary\":true},\"242\":{\"node_type\":\"multimarker\",\"x\":69.2252311706543,\"y\":214.16918563842796},\"243\":{\"node_type\":\"midmarker\",\"x\":69.2252311706543,\"y\":234.16918563842796},\"244\":{\"node_type\":\"multimarker\",\"x\":69.2252311706543,\"y\":254.16918563842796},\"246\":{\"node_type\":\"multimarker\",\"x\":-1387.9415445666696,\"y\":570.1724733573891},\"247\":{\"node_type\":\"midmarker\",\"x\":-1387.9115005987562,\"y\":590.172450791376},\"248\":{\"node_type\":\"multimarker\",\"x\":-1387.8814566308424,\"y\":610.1724282253638},\"249\":{\"node_type\":\"metabolite\",\"x\":-1390.436671299435,\"y\":1639.483837811419,\"bigg_id\":\"[B]_GCA_c\",\"name\":\"C2H3O3\",\"label_x\":-1373.87529434631,\"label_y\":1681.5857665223566,\"node_is_primary\":true},\"250\":{\"node_type\":\"multimarker\",\"x\":-1148.4550216573195,\"y\":555.3234787943106},\"251\":{\"node_type\":\"midmarker\",\"x\":-1148.894439839888,\"y\":575.3186510031423},\"252\":{\"node_type\":\"multimarker\",\"x\":-1149.3338580224572,\"y\":595.3138232119738},\"253\":{\"node_type\":\"metabolite\",\"x\":-1155.5274043572886,\"y\":1634.4687296077614,\"bigg_id\":\"[B]_GCEA_c\",\"name\":\"C3H5O4\",\"label_x\":-1133.8562617791636,\"label_y\":1674.4687296077614,\"node_is_primary\":true},\"254\":{\"node_type\":\"multimarker\",\"x\":-867.1783315057912,\"y\":562.220728790473},\"255\":{\"node_type\":\"midmarker\",\"x\":-867.2743834476016,\"y\":582.2204981397549},\"256\":{\"node_type\":\"multimarker\",\"x\":-867.3704353894125,\"y\":602.2202674890368},\"257\":{\"node_type\":\"metabolite\",\"x\":-870.9028933583668,\"y\":1637.458531215502,\"bigg_id\":\"[B]_PGA_c\",\"name\":\"C3H4O7P\",\"label_x\":-838.480737596648,\"label_y\":1681.7884872701895,\"node_is_primary\":true},\"270\":{\"node_type\":\"multimarker\",\"x\":2194.243338337141,\"y\":3921.0903811942035},\"271\":{\"node_type\":\"midmarker\",\"x\":2194.4680783213207,\"y\":3920.9236191061273},\"272\":{\"node_type\":\"multimarker\",\"x\":-866.1605142140293,\"y\":3917.69533358055},\"276\":{\"node_type\":\"multimarker\",\"x\":68.78190231323242,\"y\":568.1180992126467},\"277\":{\"node_type\":\"midmarker\",\"x\":68.78190231323242,\"y\":588.1180992126467},\"278\":{\"node_type\":\"multimarker\",\"x\":68.78190231323242,\"y\":608.1180992126467},\"279\":{\"node_type\":\"metabolite\",\"x\":68.78190231323242,\"y\":763.1180992126467,\"bigg_id\":\"[M]_DHAP_c\",\"name\":\"C3H5O6P\",\"label_x\":93.78190231323242,\"label_y\":763.1180992126467,\"node_is_primary\":true},\"282\":{\"node_type\":\"multimarker\",\"x\":68.78190231323242,\"y\":1033.5127525329592},\"283\":{\"node_type\":\"midmarker\",\"x\":68.78190231323242,\"y\":1053.5127525329592},\"284\":{\"node_type\":\"multimarker\",\"x\":68.78190231323242,\"y\":1073.5127525329592},\"285\":{\"node_type\":\"metabolite\",\"x\":69.94613265991211,\"y\":1637.6511802673342,\"bigg_id\":\"[B]_DHAP_c\",\"name\":\"C3H5O6P\",\"label_x\":98.89843368530273,\"label_y\":1641.6035728454592,\"node_is_primary\":true},\"286\":{\"node_type\":\"multimarker\",\"x\":-106.65208435058594,\"y\":208.2407493591311},\"287\":{\"node_type\":\"midmarker\",\"x\":-106.65208435058594,\"y\":228.2407493591311},\"288\":{\"node_type\":\"multimarker\",\"x\":-106.65208435058594,\"y\":248.2407493591311},\"289\":{\"node_type\":\"metabolite\",\"x\":-112.58052825927734,\"y\":758.9476585388186,\"bigg_id\":\"[M]_GAP_c\",\"name\":\"C3H5O6P\",\"label_x\":-87.58052825927734,\"label_y\":758.9476585388186,\"node_is_primary\":true},\"292\":{\"node_type\":\"multimarker\",\"x\":-112.58052825927734,\"y\":1029.342311859131},\"293\":{\"node_type\":\"midmarker\",\"x\":-112.58052825927734,\"y\":1049.342311859131},\"294\":{\"node_type\":\"multimarker\",\"x\":-112.58052825927734,\"y\":1069.342311859131},\"295\":{\"node_type\":\"metabolite\",\"x\":-111.41629791259766,\"y\":1633.480739593506,\"bigg_id\":\"[B]_GAP_c\",\"name\":\"C3H5O6P\",\"label_x\":-86.41629791259766,\"label_y\":1639.409206390381,\"node_is_primary\":true},\"296\":{\"node_type\":\"multimarker\",\"x\":-715.9028933583668,\"y\":1637.458531215502},\"297\":{\"node_type\":\"midmarker\",\"x\":-695.9028933583668,\"y\":1637.458531215502},\"298\":{\"node_type\":\"multimarker\",\"x\":-675.9028933583668,\"y\":1637.458531215502},\"301\":{\"node_type\":\"metabolite\",\"x\":-520.9028933583668,\"y\":1637.458531215502,\"bigg_id\":\"[B]_DPGA_c\",\"name\":\"C3H4O10P2\",\"label_x\":-569.5028933583668,\"label_y\":1683.764439418627,\"node_is_primary\":true},\"302\":{\"node_type\":\"multimarker\",\"x\":-325.9028933583668,\"y\":1637.458531215502},\"303\":{\"node_type\":\"midmarker\",\"x\":-345.9028933583668,\"y\":1637.458531215502},\"304\":{\"node_type\":\"multimarker\",\"x\":-365.9028933583668,\"y\":1637.458531215502},\"310\":{\"node_type\":\"multimarker\",\"x\":-22.48956298828125,\"y\":1788.480739593506},\"311\":{\"node_type\":\"midmarker\",\"x\":-22.48956298828125,\"y\":1808.480739593506},\"312\":{\"node_type\":\"multimarker\",\"x\":-22.48956298828125,\"y\":1828.480739593506},\"314\":{\"node_type\":\"metabolite\",\"x\":-21.10772132873535,\"y\":1983.480739593506,\"bigg_id\":\"[B]_FBP_c\",\"name\":\"C6H10O12P2\",\"label_x\":-153.0286159515381,\"label_y\":1988.1649436950686,\"node_is_primary\":true},\"318\":{\"node_type\":\"metabolite\",\"x\":-19.393872261047363,\"y\":2155.3404808044434,\"bigg_id\":\"[B]_F6P_c\",\"name\":\"C6H11O9P\",\"label_x\":-150.5096960067749,\"label_y\":2175.1019554138184,\"node_is_primary\":true},\"337\":{\"node_type\":\"multimarker\",\"x\":112.03338623046875,\"y\":1978.676296234131},\"338\":{\"node_type\":\"midmarker\",\"x\":132.03338623046875,\"y\":1978.676296234131},\"339\":{\"node_type\":\"multimarker\",\"x\":152.03338623046875,\"y\":1978.676296234131},\"340\":{\"node_type\":\"metabolite\",\"x\":307.03338623046875,\"y\":1978.676296234131,\"bigg_id\":\"[B]_G6P_c\",\"name\":\"C6H11O9P\",\"label_x\":258.4333862304687,\"label_y\":2018.676296234131,\"node_is_primary\":true},\"341\":{\"node_type\":\"multimarker\",\"x\":462.03338623046875,\"y\":1978.676296234131},\"342\":{\"node_type\":\"midmarker\",\"x\":482.03338623046875,\"y\":1978.676296234131},\"343\":{\"node_type\":\"multimarker\",\"x\":502.03338623046875,\"y\":1978.676296234131},\"344\":{\"node_type\":\"metabolite\",\"x\":657.0333862304688,\"y\":1978.676296234131,\"bigg_id\":\"[B]_G1P_c\",\"name\":\"C6H11O9P\",\"label_x\":626.415625,\"label_y\":1942.0152854919436,\"node_is_primary\":true},\"345\":{\"node_type\":\"multimarker\",\"x\":599.3300554841104,\"y\":2073.788604110877},\"346\":{\"node_type\":\"midmarker\",\"x\":579.3357543945312,\"y\":2074.2660179138184},\"347\":{\"node_type\":\"multimarker\",\"x\":559.3414533049521,\"y\":2074.74343171676},\"352\":{\"node_type\":\"multimarker\",\"x\":133.77105712890625,\"y\":2152.5775413513184},\"353\":{\"node_type\":\"midmarker\",\"x\":153.77105712890625,\"y\":2152.5775413513184},\"354\":{\"node_type\":\"multimarker\",\"x\":173.77105712890625,\"y\":2152.5775413513184},\"355\":{\"node_type\":\"metabolite\",\"x\":328.77105712890625,\"y\":2152.5775413513184,\"bigg_id\":\"[B]_S6P_c\",\"name\":\"C12H21O14P\",\"label_x\":280.1710571289062,\"label_y\":2192.5775413513184,\"node_is_primary\":true},\"356\":{\"node_type\":\"metabolite\",\"x\":276.028263092041,\"y\":2072.5094261169434,\"bigg_id\":\"[B]_UDPG_c\",\"name\":\"C15H22N2O17P2\",\"label_x\":222.02826309204102,\"label_y\":2112.5094261169434,\"node_is_primary\":true},\"358\":{\"node_type\":\"multimarker\",\"x\":483.77105712890625,\"y\":2152.5775413513184},\"359\":{\"node_type\":\"midmarker\",\"x\":503.77105712890625,\"y\":2152.5775413513184},\"360\":{\"node_type\":\"multimarker\",\"x\":523.7710571289062,\"y\":2152.5775413513184},\"363\":{\"node_type\":\"metabolite\",\"x\":769.1104125976562,\"y\":2151.631130218506,\"bigg_id\":\"[B]_Suc_c\",\"name\":\"C12H22O11\",\"label_x\":725.9104125976562,\"label_y\":2191.631130218506,\"node_is_primary\":true},\"396\":{\"node_type\":\"multimarker\",\"x\":1446.9885864257812,\"y\":1638.0464668273926},\"397\":{\"node_type\":\"midmarker\",\"x\":1466.9885864257812,\"y\":1638.0464668273926},\"398\":{\"node_type\":\"multimarker\",\"x\":1486.9885864257812,\"y\":1638.0464668273926},\"402\":{\"node_type\":\"metabolite\",\"x\":1582.4837036132812,\"y\":1636.402057647705,\"bigg_id\":\"[B]_OAA_c\",\"name\":\"C4H2O5\",\"label_x\":1542.0540649414063,\"label_y\":1606.7176094055176,\"node_is_primary\":true},\"442\":{\"node_type\":\"multimarker\",\"x\":2403.4094848632812,\"y\":1636.402057647705},\"443\":{\"node_type\":\"midmarker\",\"x\":2423.4094848632812,\"y\":1636.402057647705},\"444\":{\"node_type\":\"multimarker\",\"x\":2443.4094848632812,\"y\":1636.402057647705},\"447\":{\"node_type\":\"metabolite\",\"x\":2479.2601928710938,\"y\":1474.2293281555176,\"bigg_id\":\"[B]_CO2_c\",\"name\":\"CO2\",\"label_x\":2503.5758422851563,\"label_y\":1451.1131172180176,\"node_is_primary\":true},\"449\":{\"node_type\":\"multimarker\",\"x\":3180.1638793945312,\"y\":1833.8238410949707},\"450\":{\"node_type\":\"midmarker\",\"x\":3180.1638793945312,\"y\":1813.8238410949707},\"451\":{\"node_type\":\"multimarker\",\"x\":3180.1638793945312,\"y\":1793.8238410949707},\"468\":{\"node_type\":\"metabolite\",\"x\":2557.254638671875,\"y\":2644.2354736328125,\"bigg_id\":\"[B]_Mal_h\",\"name\":\"C4H4O5\",\"label_x\":2581.18212890625,\"label_y\":2620.6953125,\"node_is_primary\":true},\"470\":{\"node_type\":\"metabolite\",\"x\":2990.5491943359375,\"y\":2644.2545166015625,\"bigg_id\":\"[B]_Pyr_h\",\"name\":\"C3H3O3\",\"label_x\":2963.0924072265625,\"label_y\":2695.6025390625,\"node_is_primary\":true},\"471\":{\"node_type\":\"multimarker\",\"x\":2769.9520263671875,\"y\":2648.5093994140625},\"472\":{\"node_type\":\"midmarker\",\"x\":2789.9520263671875,\"y\":2648.5093994140625},\"473\":{\"node_type\":\"multimarker\",\"x\":2809.9520263671875,\"y\":2648.5093994140625},\"474\":{\"node_type\":\"metabolite\",\"x\":2991.3847045898438,\"y\":2787.396728515625,\"bigg_id\":\"[B]_CO2_h\",\"name\":\"CO2\",\"label_x\":2964.9905639648437,\"label_y\":2845.26123046875,\"node_is_primary\":true},\"483\":{\"node_type\":\"metabolite\",\"x\":2412.8193359375,\"y\":3045.95849609375,\"bigg_id\":\"[B]_PGA_h\",\"name\":\"C3H4O7P\",\"label_x\":2281.2621337890623,\"label_y\":3018.58154296875,\"node_is_primary\":true},\"485\":{\"node_type\":\"multimarker\",\"x\":2854.87060546875,\"y\":3048.09765625},\"486\":{\"node_type\":\"midmarker\",\"x\":2834.87060546875,\"y\":3048.09765625},\"487\":{\"node_type\":\"multimarker\",\"x\":2814.87060546875,\"y\":3048.09765625},\"491\":{\"node_type\":\"metabolite\",\"x\":2989.6767578125,\"y\":3153.792236328125,\"bigg_id\":\"[B]_RuBP_h\",\"name\":\"C5H8O11P2\",\"label_x\":3022.277099609375,\"label_y\":3162.3876953125,\"node_is_primary\":true},\"492\":{\"node_type\":\"multimarker\",\"x\":2853.3896484375,\"y\":3255.618896484375},\"493\":{\"node_type\":\"midmarker\",\"x\":2833.3896484375,\"y\":3255.618896484375},\"494\":{\"node_type\":\"multimarker\",\"x\":2813.3896484375,\"y\":3255.618896484375},\"496\":{\"node_type\":\"metabolite\",\"x\":2990.55126953125,\"y\":3251.52490234375,\"bigg_id\":\"[B]_O2_h\",\"name\":\"O2\",\"label_x\":2955.9162109375,\"label_y\":3300.0439453125,\"node_is_primary\":true},\"498\":{\"node_type\":\"metabolite\",\"x\":2663.6771240234375,\"y\":3254.728515625,\"bigg_id\":\"[B]_PGCA_h\",\"name\":\"C2H2O6P\",\"label_x\":2514.6353515625,\"label_y\":3266.859130859375,\"node_is_primary\":true},\"499\":{\"node_type\":\"multimarker\",\"x\":2663.6771240234375,\"y\":3409.728515625},\"500\":{\"node_type\":\"midmarker\",\"x\":2663.6771240234375,\"y\":3429.728515625},\"501\":{\"node_type\":\"multimarker\",\"x\":2663.6771240234375,\"y\":3449.728515625},\"502\":{\"node_type\":\"metabolite\",\"x\":2663.6771240234375,\"y\":3604.728515625,\"bigg_id\":\"[B]_GCA_h\",\"name\":\"C2H3O3\",\"label_x\":2688.6771240234375,\"label_y\":3604.728515625,\"node_is_primary\":true},\"505\":{\"node_type\":\"multimarker\",\"x\":2669.2251141405523,\"y\":4011.6717281076853},\"506\":{\"node_type\":\"midmarker\",\"x\":585.5106201171875,\"y\":4005.08251953125},\"507\":{\"node_type\":\"multimarker\",\"x\":-1388.090531621021,\"y\":4003.8700199391897},\"509\":{\"node_type\":\"multimarker\",\"x\":3900.378852183705,\"y\":1787.682305339183},\"510\":{\"node_type\":\"midmarker\",\"x\":3900.378852183705,\"y\":1807.682305339183},\"511\":{\"node_type\":\"multimarker\",\"x\":3900.378852183705,\"y\":1827.682305339183},\"512\":{\"node_type\":\"metabolite\",\"x\":3897.963813121205,\"y\":3047.424126628245,\"bigg_id\":\"[B]_CO2_ex_h\",\"name\":\"\",\"label_x\":3922.963813121205,\"label_y\":3047.424126628245,\"node_is_primary\":true},\"517\":{\"node_type\":\"multimarker\",\"x\":2840.6141967773438,\"y\":2879.277587890625},\"518\":{\"node_type\":\"midmarker\",\"x\":2820.6141967773438,\"y\":2879.277587890625},\"519\":{\"node_type\":\"multimarker\",\"x\":2800.6141967773438,\"y\":2879.277587890625},\"538\":{\"node_type\":\"multimarker\",\"x\":2986.3092651367188,\"y\":2275.8533515930176},\"539\":{\"node_type\":\"midmarker\",\"x\":2986.3092651367188,\"y\":2295.8533515930176},\"540\":{\"node_type\":\"multimarker\",\"x\":2986.3092651367188,\"y\":2315.8533515930176},\"544\":{\"node_type\":\"multimarker\",\"x\":1437.9448852539062,\"y\":2295.60200881958},\"545\":{\"node_type\":\"midmarker\",\"x\":1435.1012573242188,\"y\":2296.454792022705},\"546\":{\"node_type\":\"multimarker\",\"x\":1436.9970092773438,\"y\":2297.3074531555176},\"547\":{\"node_type\":\"metabolite\",\"x\":1290.5658569335938,\"y\":2644.02339553833,\"bigg_id\":\"[B]_Mal_m\",\"name\":\"C4H4O5\",\"label_x\":1157.2743530273438,\"label_y\":2650.658405303955,\"node_is_primary\":true},\"549\":{\"node_type\":\"metabolite\",\"x\":1582.3945922851562,\"y\":2643.2093086242676,\"bigg_id\":\"[B]_OAA_m\",\"name\":\"C4H2O5\",\"label_x\":1611.3456420898438,\"label_y\":2652.3565254211426,\"node_is_primary\":true},\"550\":{\"node_type\":\"multimarker\",\"x\":1443.6730346679688,\"y\":2644.969928741455},\"551\":{\"node_type\":\"midmarker\",\"x\":1463.6730346679688,\"y\":2644.969928741455},\"552\":{\"node_type\":\"multimarker\",\"x\":1483.6730346679688,\"y\":2644.969928741455},\"558\":{\"node_type\":\"multimarker\",\"x\":1970.4468994140625,\"y\":2295.3272705078125},\"559\":{\"node_type\":\"midmarker\",\"x\":1990.4468994140625,\"y\":2295.3272705078125},\"560\":{\"node_type\":\"multimarker\",\"x\":2010.4468994140625,\"y\":2295.3272705078125},\"563\":{\"node_type\":\"metabolite\",\"x\":1818.0286865234375,\"y\":2644.4102783203125,\"bigg_id\":\"[B]_OAA_h\",\"name\":\"C4H2O5\",\"label_x\":1839.56943359375,\"label_y\":2618.6732177734375,\"node_is_primary\":true},\"564\":{\"node_type\":\"multimarker\",\"x\":2135.7994384765625,\"y\":2645.3541259765625},\"565\":{\"node_type\":\"midmarker\",\"x\":2155.7994384765625,\"y\":2645.3541259765625},\"566\":{\"node_type\":\"multimarker\",\"x\":2175.7994384765625,\"y\":2645.3541259765625},\"571\":{\"node_type\":\"multimarker\",\"x\":2182.87646484375,\"y\":2788.6236572265625},\"572\":{\"node_type\":\"midmarker\",\"x\":2162.87646484375,\"y\":2788.6236572265625},\"573\":{\"node_type\":\"multimarker\",\"x\":2142.87646484375,\"y\":2788.6236572265625},\"578\":{\"node_type\":\"multimarker\",\"x\":1564.0972089735876,\"y\":2817.3817224328563},\"579\":{\"node_type\":\"midmarker\",\"x\":1544.0982055664062,\"y\":2817.5813789367676},\"580\":{\"node_type\":\"multimarker\",\"x\":1524.099202159225,\"y\":2817.781035440679},\"581\":{\"node_type\":\"metabolite\",\"x\":1585.8931274414062,\"y\":3365.1145820617676,\"bigg_id\":\"[B]_Ala_m\",\"name\":\"C3H7NO2\",\"label_x\":1612.2485961914062,\"label_y\":3370.6297187805176,\"node_is_primary\":true},\"582\":{\"node_type\":\"metabolite\",\"x\":1495.1290893554688,\"y\":3367.6228828430176,\"bigg_id\":\"[B]_Asp_m\",\"name\":\"C4H6NO4\",\"label_x\":1360.6655883789062,\"label_y\":3373.2732734680176,\"node_is_primary\":true},\"584\":{\"node_type\":\"multimarker\",\"x\":1290.5658569335938,\"y\":2799.02339553833},\"585\":{\"node_type\":\"midmarker\",\"x\":1290.5658569335938,\"y\":2819.02339553833},\"586\":{\"node_type\":\"multimarker\",\"x\":1290.5658569335938,\"y\":2839.02339553833},\"587\":{\"node_type\":\"metabolite\",\"x\":1290.5658569335938,\"y\":2994.02339553833,\"bigg_id\":\"[B]_CO2_m\",\"name\":\"CO2\",\"label_x\":1306.0503540039062,\"label_y\":3052.37398147583,\"node_is_primary\":true},\"590\":{\"node_type\":\"metabolite\",\"x\":1401.4198608398438,\"y\":2818.55171585083,\"bigg_id\":\"[B]_Pyr_m\",\"name\":\"C3H3O3\",\"label_x\":1345.5322875976562,\"label_y\":2859.22456741333,\"node_is_primary\":true},\"591\":{\"node_type\":\"multimarker\",\"x\":1046.1943089173585,\"y\":1472.9092479875703},\"592\":{\"node_type\":\"midmarker\",\"x\":1049.3782348632812,\"y\":2996.947956085205},\"593\":{\"node_type\":\"multimarker\",\"x\":1069.3779567076415,\"y\":2997.0534366437773},\"595\":{\"node_type\":\"multimarker\",\"x\":3098.3270874023438,\"y\":1478.5565185546875},\"596\":{\"node_type\":\"midmarker\",\"x\":3093.0409545898438,\"y\":2785.986328125},\"597\":{\"node_type\":\"multimarker\",\"x\":3073.0409545898438,\"y\":2785.986328125},\"599\":{\"node_type\":\"multimarker\",\"x\":2412.8193359375,\"y\":3240.95849609375},\"600\":{\"node_type\":\"midmarker\",\"x\":2412.8193359375,\"y\":3220.95849609375},\"601\":{\"node_type\":\"multimarker\",\"x\":2412.8193359375,\"y\":3200.95849609375},\"604\":{\"node_type\":\"metabolite\",\"x\":2416.380859375,\"y\":3608.565673828125,\"bigg_id\":\"[B]_GCEA_h\",\"name\":\"C3H5O4\",\"label_x\":2262.5361328125,\"label_y\":3617.91015625,\"node_is_primary\":true},\"606\":{\"node_type\":\"multimarker\",\"x\":-1152.7506561279297,\"y\":3957.41357421875},\"607\":{\"node_type\":\"midmarker\",\"x\":2417.4188232421875,\"y\":3978.152587890625},\"608\":{\"node_type\":\"multimarker\",\"x\":2418.4820556640625,\"y\":3977.68505859375},\"618\":{\"node_type\":\"metabolite\",\"x\":1037.958740234375,\"y\":3649.8497314453125,\"bigg_id\":\"[B]_Gly_m\",\"name\":\"C2H5NO2\",\"label_x\":981.4137906870253,\"label_y\":3703.9325379529273,\"node_is_primary\":true},\"619\":{\"node_type\":\"multimarker\",\"x\":892.2216796875,\"y\":3566.7843017578125},\"620\":{\"node_type\":\"midmarker\",\"x\":892.2216796875,\"y\":3546.7843017578125},\"621\":{\"node_type\":\"multimarker\",\"x\":892.2216796875,\"y\":3526.7843017578125},\"625\":{\"node_type\":\"metabolite\",\"x\":892.2216796875,\"y\":3371.7843017578125,\"bigg_id\":\"[B]_THF_m\",\"name\":\"C19H21N7O6\",\"label_x\":907.8795166015625,\"label_y\":3406.3507080078125,\"node_is_primary\":true},\"626\":{\"node_type\":\"multimarker\",\"x\":892.2216796875,\"y\":3216.7843017578125},\"627\":{\"node_type\":\"midmarker\",\"x\":892.2216796875,\"y\":3196.7843017578125},\"628\":{\"node_type\":\"multimarker\",\"x\":892.2216796875,\"y\":3176.7843017578125},\"629\":{\"node_type\":\"metabolite\",\"x\":1044.0311279296875,\"y\":3102.3604736328125,\"bigg_id\":\"[B]_DHP_m\",\"name\":\"C8H16NOS2R\",\"label_x\":1000.833740234375,\"label_y\":3074.3341064453125,\"node_is_primary\":true},\"633\":{\"node_type\":\"multimarker\",\"x\":1186.4984130859375,\"y\":3229.3336181640625},\"634\":{\"node_type\":\"midmarker\",\"x\":1186.4984130859375,\"y\":3249.3336181640625},\"635\":{\"node_type\":\"multimarker\",\"x\":1186.4984130859375,\"y\":3269.3336181640625},\"637\":{\"node_type\":\"metabolite\",\"x\":1185.564208984375,\"y\":3372.9522705078125,\"bigg_id\":\"[B]_LPL_m\",\"name\":\"C8H14NOS2R\",\"label_x\":1210.564208984375,\"label_y\":3372.9522705078125,\"node_is_primary\":true},\"640\":{\"node_type\":\"multimarker\",\"x\":1186.4984130859375,\"y\":3579.3336181640625},\"641\":{\"node_type\":\"midmarker\",\"x\":1186.4984130859375,\"y\":3599.3336181640625},\"642\":{\"node_type\":\"multimarker\",\"x\":1186.4984130859375,\"y\":3619.3336181640625},\"651\":{\"node_type\":\"metabolite\",\"x\":-298.91006088256836,\"y\":3576.8892822265625,\"bigg_id\":\"[B]_GLX_p\",\"name\":\"C2HO3\",\"label_x\":-347.5100608825684,\"label_y\":3616.8892822265625,\"node_is_primary\":true},\"654\":{\"node_type\":\"multimarker\",\"x\":-143.91007614135742,\"y\":3511.1258544921875},\"655\":{\"node_type\":\"midmarker\",\"x\":-123.91007614135742,\"y\":3511.1258544921875},\"656\":{\"node_type\":\"multimarker\",\"x\":-103.91007614135742,\"y\":3511.1258544921875},\"657\":{\"node_type\":\"metabolite\",\"x\":41.25631332397461,\"y\":3649.8929443359375,\"bigg_id\":\"[B]_Gly_p\",\"name\":\"C2H5NO2\",\"label_x\":-7.343686676025413,\"label_y\":3689.8929443359375,\"node_is_primary\":true},\"658\":{\"node_type\":\"metabolite\",\"x\":51.08992385864258,\"y\":3511.1258544921875,\"bigg_id\":\"[B]_HPR_p\",\"name\":\"C3H3O4\",\"label_x\":2.4899238586425554,\"label_y\":3551.1258544921875,\"node_is_primary\":true},\"660\":{\"node_type\":\"multimarker\",\"x\":-145.3092918395996,\"y\":3649.6485595703125},\"661\":{\"node_type\":\"midmarker\",\"x\":-125.30929183959961,\"y\":3649.6485595703125},\"662\":{\"node_type\":\"multimarker\",\"x\":-105.30929183959961,\"y\":3649.6485595703125},\"666\":{\"node_type\":\"multimarker\",\"x\":51.08992385864258,\"y\":3356.1258544921875},\"667\":{\"node_type\":\"midmarker\",\"x\":51.08992385864258,\"y\":3336.1258544921875},\"668\":{\"node_type\":\"multimarker\",\"x\":51.08992385864258,\"y\":3316.1258544921875},\"669\":{\"node_type\":\"metabolite\",\"x\":51.08992385864258,\"y\":3161.1258544921875,\"bigg_id\":\"[B]_GCEA_p\",\"name\":\"C3H5O4\",\"label_x\":76.08992385864258,\"label_y\":3161.1258544921875,\"node_is_primary\":true},\"673\":{\"node_type\":\"multimarker\",\"x\":-143.91007614135742,\"y\":3161.1258544921875},\"674\":{\"node_type\":\"midmarker\",\"x\":-123.91007614135742,\"y\":3161.1258544921875},\"675\":{\"node_type\":\"multimarker\",\"x\":-103.91007614135742,\"y\":3161.1258544921875},\"680\":{\"node_type\":\"multimarker\",\"x\":236.2563133239746,\"y\":3649.8929443359375},\"681\":{\"node_type\":\"midmarker\",\"x\":216.2563133239746,\"y\":3649.8929443359375},\"682\":{\"node_type\":\"multimarker\",\"x\":196.2563133239746,\"y\":3649.8929443359375},\"683\":{\"node_type\":\"metabolite\",\"x\":511.5890922546387,\"y\":3648.4937744140625,\"bigg_id\":\"[B]_Gly_c\",\"name\":\"C2H5NO2\",\"label_x\":462.98909225463865,\"label_y\":3688.4937744140625,\"node_is_primary\":true},\"684\":{\"node_type\":\"multimarker\",\"x\":653.9961395263672,\"y\":3648.4940185546875},\"685\":{\"node_type\":\"midmarker\",\"x\":673.9961395263672,\"y\":3648.4940185546875},\"686\":{\"node_type\":\"multimarker\",\"x\":693.9961395263672,\"y\":3648.4940185546875},\"690\":{\"node_type\":\"multimarker\",\"x\":-846.7085227966309,\"y\":3301.2432861328125},\"691\":{\"node_type\":\"midmarker\",\"x\":-826.7085227966309,\"y\":3301.2432861328125},\"692\":{\"node_type\":\"multimarker\",\"x\":-806.7085227966309,\"y\":3301.2432861328125},\"694\":{\"node_type\":\"multimarker\",\"x\":-300.3092613220215,\"y\":3460.2454833984375},\"695\":{\"node_type\":\"midmarker\",\"x\":-300.3092613220215,\"y\":3480.2454833984375},\"696\":{\"node_type\":\"multimarker\",\"x\":-300.3092613220215,\"y\":3500.2454833984375},\"697\":{\"node_type\":\"metabolite\",\"x\":-300.3092613220215,\"y\":3305.2454833984375,\"bigg_id\":\"[B]_GCA_p\",\"name\":\"C2H3O3\",\"label_x\":-275.3092613220215,\"label_y\":3305.2454833984375,\"node_is_primary\":true},\"701\":{\"node_type\":\"multimarker\",\"x\":-15.676542282104492,\"y\":858.5715942382812},\"702\":{\"node_type\":\"midmarker\",\"x\":-15.676542282104492,\"y\":878.5715942382812},\"703\":{\"node_type\":\"multimarker\",\"x\":-15.676542282104492,\"y\":898.5715942382812},\"704\":{\"node_type\":\"metabolite\",\"x\":-17.072267532348633,\"y\":1054.9673461914062,\"bigg_id\":\"[M]_FBP_c\",\"name\":\"C6H10O12P2\",\"label_x\":-63.25427055358887,\"label_y\":1106.6091918945312,\"node_is_primary\":true},\"706\":{\"node_type\":\"multimarker\",\"x\":51.39275932312012,\"y\":1054.9673461914062},\"707\":{\"node_type\":\"midmarker\",\"x\":71.39275932312012,\"y\":1054.9673461914062},\"708\":{\"node_type\":\"multimarker\",\"x\":91.39275932312012,\"y\":1054.9673461914062},\"709\":{\"node_type\":\"metabolite\",\"x\":246.39275932312012,\"y\":1054.9673461914062,\"bigg_id\":\"[M]_F6P_c\",\"name\":\"C6H11O9P\",\"label_x\":193.63478507995603,\"label_y\":1109.5203247070312,\"node_is_primary\":true},\"712\":{\"node_type\":\"multimarker\",\"x\":313.46203422546387,\"y\":1054.9673461914062},\"713\":{\"node_type\":\"midmarker\",\"x\":333.46203422546387,\"y\":1054.9673461914062},\"714\":{\"node_type\":\"multimarker\",\"x\":353.46203422546387,\"y\":1054.9673461914062},\"715\":{\"node_type\":\"metabolite\",\"x\":508.46203422546387,\"y\":1054.9673461914062,\"bigg_id\":\"[M]_S6P_c\",\"name\":\"C12H21O14P\",\"label_x\":459.86203422546384,\"label_y\":1111.5991821289062,\"node_is_primary\":true},\"718\":{\"node_type\":\"multimarker\",\"x\":576.9270000457764,\"y\":1054.9673461914062},\"719\":{\"node_type\":\"midmarker\",\"x\":596.9270000457764,\"y\":1054.9673461914062},\"720\":{\"node_type\":\"multimarker\",\"x\":616.9270000457764,\"y\":1054.9673461914062},\"723\":{\"node_type\":\"metabolite\",\"x\":771.9270000457764,\"y\":1054.9673461914062,\"bigg_id\":\"[M]_Suc_c\",\"name\":\"C12H22O11\",\"label_x\":807.7285259246826,\"label_y\":1059.6245727539062,\"node_is_primary\":true},\"724\":{\"node_type\":\"multimarker\",\"x\":771.9270000457764,\"y\":1209.9673461914062},\"725\":{\"node_type\":\"midmarker\",\"x\":771.9270000457764,\"y\":1229.9673461914062},\"726\":{\"node_type\":\"multimarker\",\"x\":771.9270000457764,\"y\":1249.9673461914062},\"728\":{\"node_type\":\"multimarker\",\"x\":1493.7348022460938,\"y\":3854.6458320617676},\"729\":{\"node_type\":\"midmarker\",\"x\":1493.7348022460938,\"y\":3874.6458320617676},\"730\":{\"node_type\":\"multimarker\",\"x\":3337.0399780273438,\"y\":3869.5474433898926},\"732\":{\"node_type\":\"multimarker\",\"x\":3586.7577514648438,\"y\":3825.2095527648926},\"733\":{\"node_type\":\"midmarker\",\"x\":1590.0761108398438,\"y\":3826.1245918273926},\"734\":{\"node_type\":\"multimarker\",\"x\":1590.0761108398438,\"y\":3806.1245918273926},\"743\":{\"node_type\":\"multimarker\",\"x\":-19.72587776184082,\"y\":2040.1764183044434},\"744\":{\"node_type\":\"midmarker\",\"x\":-19.725879669189453,\"y\":2058.7945823669434},\"745\":{\"node_type\":\"multimarker\",\"x\":-19.72588348388672,\"y\":2077.4127464294434},\"753\":{\"node_type\":\"multimarker\",\"x\":2860.192070944275,\"y\":1638.899410130277},\"754\":{\"node_type\":\"midmarker\",\"x\":2880.192070944275,\"y\":1638.899410130277},\"755\":{\"node_type\":\"multimarker\",\"x\":2900.192070944275,\"y\":1638.899410130277}},\"text_labels\":{},\"canvas\":{\"x\":-1559,\"y\":-1379,\"width\":6207.264892578125,\"height\":6713.53173828125}}]'),\n",
       "               model_data: JSON.parse('null'),\n",
       "               static_site_index: JSON.parse('null'),\n",
       "           };\n",
       "       }\n",
       "   })();\n",
       "  </script>\n"
      ],
      "text/plain": [
       "<IPython.core.display.HTML object>"
      ]
     },
     "metadata": {},
     "output_type": "display_data"
    }
   ],
   "source": [
    "#Display snippet of the flux distribution using Escher map\n",
    "for exp, exp_name in D_exp.items():\n",
    "    if exp in [1,3,10]:\n",
    "        display(HTML('<h1>%s</h1>' %exp_name))\n",
    "        b = Builder(map_json='../data/2018-06-29-mb-C4-RBO-RBC-Ratio.json',reaction_data=D_fba[exp].to_dict())\n",
    "        b.set_reaction_styles(['color','size'])\n",
    "        display(b.display_in_notebook(height=1000))"
   ]
  }
 ],
 "metadata": {
  "anaconda-cloud": {},
  "kernelspec": {
   "display_name": "Python [default]",
   "language": "python",
   "name": "python2"
  },
  "language_info": {
   "codemirror_mode": {
    "name": "ipython",
    "version": 2
   },
   "file_extension": ".py",
   "mimetype": "text/x-python",
   "name": "python",
   "nbconvert_exporter": "python",
   "pygments_lexer": "ipython2",
   "version": "2.7.6"
  },
  "latex_envs": {
   "LaTeX_envs_menu_present": true,
   "autoclose": false,
   "autocomplete": true,
   "bibliofile": "biblio.bib",
   "cite_by": "apalike",
   "current_citInitial": 1,
   "eqLabelWithNumbers": true,
   "eqNumInitial": 1,
   "hotkeys": {
    "equation": "Ctrl-E",
    "itemize": "Ctrl-I"
   },
   "labels_anchors": false,
   "latex_user_defs": false,
   "report_style_numbering": false,
   "user_envs_cfg": false
  }
 },
 "nbformat": 4,
 "nbformat_minor": 2
}
