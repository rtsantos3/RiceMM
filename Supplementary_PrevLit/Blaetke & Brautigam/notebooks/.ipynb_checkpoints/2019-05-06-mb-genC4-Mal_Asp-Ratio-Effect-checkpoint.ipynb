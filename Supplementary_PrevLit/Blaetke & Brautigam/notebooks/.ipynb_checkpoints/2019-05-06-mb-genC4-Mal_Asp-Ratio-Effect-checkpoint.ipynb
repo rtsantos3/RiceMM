{
 "cells": [
  {
   "cell_type": "markdown",
   "metadata": {
    "run_control": {
     "marked": true
    }
   },
   "source": [
    "# GenC4 Model - Effect of Mal/Asp Transport Ratio\n"
   ]
  },
  {
   "cell_type": "markdown",
   "metadata": {
    "run_control": {
     "marked": true
    }
   },
   "source": [
    "## 0. Initialization"
   ]
  },
  {
   "cell_type": "code",
   "execution_count": 1,
   "metadata": {
    "ExecuteTime": {
     "end_time": "2019-05-06T14:07:40.411875Z",
     "start_time": "2019-05-06T16:07:38.190997+02:00"
    },
    "collapsed": false,
    "run_control": {
     "marked": true
    }
   },
   "outputs": [
    {
     "name": "stderr",
     "output_type": "stream",
     "text": [
      "//anaconda/lib/python2.7/site-packages/cryptography/hazmat/primitives/constant_time.py:26 \u001b[1;31mCryptographyDeprecationWarning\u001b[0m: Support for your Python version is deprecated. The next version of cryptography will remove support. Please upgrade to a 2.7.x release that supports hmac.compare_digest as soon as possible.\n"
     ]
    },
    {
     "data": {
      "text/html": [
       "        <script type=\"text/javascript\">\n",
       "        window.PlotlyConfig = {MathJaxConfig: 'local'};\n",
       "        if (window.MathJax) {MathJax.Hub.Config({SVG: {font: \"STIX-Web\"}});}\n",
       "        if (typeof require !== 'undefined') {\n",
       "        require.undef(\"plotly\");\n",
       "        requirejs.config({\n",
       "            paths: {\n",
       "                'plotly': ['https://cdn.plot.ly/plotly-latest.min']\n",
       "            }\n",
       "        });\n",
       "        require(['plotly'], function(Plotly) {\n",
       "            window._Plotly = Plotly;\n",
       "        });\n",
       "        }\n",
       "        </script>\n",
       "        "
      ]
     },
     "metadata": {},
     "output_type": "display_data"
    }
   ],
   "source": [
    "#Import sys\n",
    "import sys \n",
    "sys.path.append(\"../src/\") \n",
    "\n",
    "#Import init for initialisation & loading user-defined functions\n",
    "from init_fba import *\n",
    "\n",
    "#Initialize notebook settings\n",
    "theNotebook = '2019-05-06-mb-genC4-Mal_Asp-Ratio-Effect'\n",
    "init_notebook(theNotebook)\n",
    "\n",
    "#load sbml model\n",
    "c3_model = load_sbml_model()"
   ]
  },
  {
   "cell_type": "markdown",
   "metadata": {
    "run_control": {
     "marked": true
    }
   },
   "source": [
    "## 1. C3 Model"
   ]
  },
  {
   "cell_type": "markdown",
   "metadata": {
    "ExecuteTime": {
     "end_time": "2017-06-20T12:42:07.597174",
     "start_time": "2017-06-20T12:42:07.594879"
    },
    "run_control": {
     "marked": true
    }
   },
   "source": [
    "### 1.1 Constraints"
   ]
  },
  {
   "cell_type": "code",
   "execution_count": 2,
   "metadata": {
    "ExecuteTime": {
     "end_time": "2019-05-06T14:07:40.433975Z",
     "start_time": "2019-05-06T16:07:40.413404+02:00"
    },
    "collapsed": false,
    "run_control": {
     "marked": true
    }
   },
   "outputs": [],
   "source": [
    "#CONSTRAINT: Set flux of all export reaction to zero\n",
    "for r_obj in c3_model.reactions:\n",
    "    r_id = r_obj.id\n",
    "    if r_id[0:2] == \"Ex\":\n",
    "        r_obj.bounds = (0.,0.)\n",
    "\n",
    "#CONSTRAINT: Divergent fluxes of export and import reactions\n",
    "set_bounds('Im_CO2', (-inf, inf), c3_model)\n",
    "set_bounds('Im_H2O', (-inf, inf), c3_model)\n",
    "set_bounds('Im_H2S', (0.,0.), c3_model)\n",
    "set_bounds('Im_NH4', (0., 0.), c3_model)\n",
    "set_bounds('Im_NO3', (0., inf), c3_model)\n",
    "set_bounds('Im_Pi', (0., inf), c3_model)\n",
    "set_bounds('Im_SO4', (0., inf), c3_model)\n",
    "set_bounds('Ex_O2', (-inf, inf), c3_model)\n",
    "set_bounds('Ex_Suc', (0., inf), c3_model)\n",
    "set_bounds('Ex_starch', (0., inf), c3_model)\n",
    "set_bounds('Ex_AA', (0., inf), c3_model)\n",
    "\n",
    "#CONSTRAINT: \n",
    "set_bounds('G6PDH_h', (0.,0.), c3_model)\n",
    "set_bounds('PPIF6PK_c', (0,0.), c3_model)\n",
    "\n",
    "#CONSTRAINT: max. photon consumption auf C4 plants 1000 μE\n",
    "set_bounds('Im_hnu', (0, 1000), c3_model)\n",
    "\n",
    "#CONSTRAINT: CO2 uptake rate in C4 plants is higher, about 40 μmol/(m2*s)\n",
    "f_CO2 = 40 #[μmol/(m2*s)] \n",
    "set_bounds('Im_CO2', (0, f_CO2), c3_model)"
   ]
  },
  {
   "cell_type": "code",
   "execution_count": 3,
   "metadata": {
    "ExecuteTime": {
     "end_time": "2019-05-06T14:07:40.439917Z",
     "start_time": "2019-05-06T16:07:40.435716+02:00"
    },
    "code_folding": [],
    "collapsed": false,
    "run_control": {
     "marked": true
    }
   },
   "outputs": [],
   "source": [
    "#CONSTRAINT: Maintenace cost\n",
    "\n",
    "atp_cost_L3_m = 0.009111187245501572 #Mitochondria-L3-ATP Cost [µmol*s-1*m-2]\n",
    "atp_cost_L3_h = 0.15270708327974447 #Chloroplast-L3-ATP Cost [µmol*s-1*m-2]\n",
    "atp_cost_L3_p = 0.0076669066992201855 #Peroxisome-L3-ATP Cost [µmol*s-1*m-2]\n",
    "atp_cost_L3_c = 0.042683072918274702 #Cytosl/Other-L3-ATP Cost [µmol*s-1*m-2]\n",
    "\n",
    "set_fixed_flux('NGAM_c',atp_cost_L3_c + atp_cost_L3_p, c3_model)\n",
    "set_fixed_flux('NGAM_m',atp_cost_L3_m, c3_model)\n",
    "set_fixed_flux('NGAM_h',atp_cost_L3_h, c3_model)"
   ]
  },
  {
   "cell_type": "code",
   "execution_count": 4,
   "metadata": {
    "ExecuteTime": {
     "end_time": "2019-05-06T14:07:40.446253Z",
     "start_time": "2019-05-06T16:07:40.442145+02:00"
    },
    "collapsed": true,
    "run_control": {
     "marked": true
    }
   },
   "outputs": [],
   "source": [
    "#CONSTRAINT: fluxes through the chloroplastic NADPH dehydrogenase and plastoquinol oxidase were set to zero \n",
    "#because the contributions of NADPH dehydrogenase (Yamamoto et al., 2011) and plastoquinol oxidase \n",
    "#(Josse et al., 2000) to photosynthesis are thought to be minor.\n",
    "set_bounds('AOX4_h',(0,0), c3_model)\n",
    "set_bounds('iCitDHNADP_h',(0,0), c3_model)"
   ]
  },
  {
   "cell_type": "code",
   "execution_count": 5,
   "metadata": {
    "ExecuteTime": {
     "end_time": "2019-05-06T14:07:40.450954Z",
     "start_time": "2019-05-06T16:07:40.448668+02:00"
    },
    "collapsed": false,
    "run_control": {
     "marked": true
    }
   },
   "outputs": [],
   "source": [
    "#CONSTRAINT: NTT is only active at night\n",
    "set_fixed_flux('Tr_NTT',0, c3_model)"
   ]
  },
  {
   "cell_type": "code",
   "execution_count": 6,
   "metadata": {
    "ExecuteTime": {
     "end_time": "2019-05-06T14:07:40.456612Z",
     "start_time": "2019-05-06T16:07:40.453286+02:00"
    },
    "collapsed": true,
    "run_control": {
     "marked": true
    }
   },
   "outputs": [],
   "source": [
    "#CONSTRAINT: No uncoupled pyruvate transport\n",
    "set_bounds('Tr_Pyr1',(0,0), c3_model)\n",
    "set_bounds('Tr_Pyr2',(0,0), c3_model)"
   ]
  },
  {
   "cell_type": "markdown",
   "metadata": {
    "run_control": {
     "marked": true
    }
   },
   "source": [
    "## 2. C4 Model"
   ]
  },
  {
   "cell_type": "markdown",
   "metadata": {
    "run_control": {
     "marked": true
    }
   },
   "source": [
    "### 2.1 Compose Model"
   ]
  },
  {
   "cell_type": "markdown",
   "metadata": {
    "ExecuteTime": {
     "end_time": "2018-02-06T17:46:39.521620+01:00",
     "start_time": "2018-02-06T17:46:39.518672"
    },
    "run_control": {
     "marked": true
    }
   },
   "source": [
    "#### 2.1.1 Two copies of genC3 model and exchange reactions"
   ]
  },
  {
   "cell_type": "code",
   "execution_count": 7,
   "metadata": {
    "ExecuteTime": {
     "end_time": "2019-05-06T14:07:41.402596Z",
     "start_time": "2019-05-06T16:07:40.458462+02:00"
    },
    "collapsed": false,
    "hide_input": false,
    "run_control": {
     "marked": true
    }
   },
   "outputs": [],
   "source": [
    "c4_model = cobra.Model('c4_model')\n",
    "\n",
    "cell_types = ['M', 'B']\n",
    "\n",
    "#duplicate metabolites\n",
    "for m in c3_model.metabolites:\n",
    "    for cell in cell_types:\n",
    "        m_dt = cobra.Metabolite('['+cell+']_'+m.id, name = m.formula, compartment = m.compartment)\n",
    "        c4_model.add_metabolites([m_dt])\n",
    "\n",
    "#duplicate reactions\n",
    "for r_c3_obj in c3_model.reactions:\n",
    "    for cell in cell_types:\n",
    "        r_c4_obj = cobra.Reaction('['+cell+']_'+r_c3_obj.id)\n",
    "        r_c4_obj.name = r_c3_obj.name\n",
    "        r_c4_obj.subsystem = r_c3_obj.subsystem\n",
    "        r_c4_obj.bounds = r_c3_obj.bounds\n",
    "        c4_model.add_reaction(r_c4_obj)\n",
    "        r_c4_obj.add_metabolites({'['+cell+']_'+m_c3_obj.id: r_c3_obj.get_coefficient(m_c3_obj) for m_c3_obj in r_c3_obj.metabolites})\n",
    "        \n",
    "        \n",
    "#metabolites excluded from M/BS exchange\n",
    "no_transport = ['NO3','NO2', 'O2','Na', 'H2S', 'SO4',\n",
    "                'H2O','FBP','F26BP','DPGA','H','ACD','AC','M_DASH_THF', '5M_DASH_THF', 'H_DASH_Cys', 'aH_DASH_Cys', 'ORO', 'DHO',\n",
    "                'GABA','A_DASH_Ser','PRPP','AD','THF','DHF','ADN','Mas','CoA','GluP',\n",
    "                'A_DASH_CoA','cellulose1','cellulose2','cellulose3','starch1',\n",
    "                'starch2','starch3','TRXox','TRXrd','Glu_DASH_SeA','T6P','aMet',\n",
    "                'PPi', 'P5C', 'NH4', 'Pi', 'CO2', 'OAA','HCO3', \n",
    "                'UTP', 'UDP', 'UDPG', 'ATP', 'ADP', 'AMP', 'IMP', 'XMP', \n",
    "                'GTP', 'GDP', 'GMP', 'OMP', 'UMP', 'CTP', 'GDP', 'CDP', 'dADP', \n",
    "                'dCDP', 'dGDP', 'dUDP', 'dUTP', 'dUMP', 'dTMP', 'dTDP', 'GTP', \n",
    "                'dATP', 'dCTP', 'dGTP', 'dTTP', 'NAD', 'NADH', 'NADP', 'NADPH']\n",
    "\n",
    "#add M/BS exchange reactions\n",
    "L_r_transport = []\n",
    "for m_c3_obj in c3_model.metabolites:\n",
    "    if m_c3_obj.id[-1:] == 'c' and m_c3_obj.id[:-2] not in no_transport:\n",
    "        r_c4_obj = cobra.Reaction('[MB]_'+m_c3_obj.id)\n",
    "        r_c4_obj.name = '[MB]_'+m_c3_obj.id\n",
    "        r_c4_obj.subsystem = 'Exchange'\n",
    "        r_c4_obj.bounds = (-inf, inf)\n",
    "        c4_model.add_reaction(r_c4_obj)\n",
    "        r_c4_obj.add_metabolites({'[M]_'+m_c3_obj.id: -1,'[B]_'+m_c3_obj.id: 1 })\n",
    "        L_r_transport.append('[MB]_'+m_c3_obj.id)"
   ]
  },
  {
   "cell_type": "markdown",
   "metadata": {
    "ExecuteTime": {
     "end_time": "2018-02-06T17:47:11.482156+01:00",
     "start_time": "2018-02-06T17:47:11.480023"
    },
    "run_control": {
     "marked": true
    }
   },
   "source": [
    "#### 2.1.2 Adaptations for second unconstrained rubisco population in the bundle sheath"
   ]
  },
  {
   "cell_type": "code",
   "execution_count": 8,
   "metadata": {
    "ExecuteTime": {
     "end_time": "2019-05-06T14:07:41.421638Z",
     "start_time": "2019-05-06T16:07:41.403925+02:00"
    },
    "collapsed": false,
    "run_control": {
     "marked": true
    }
   },
   "outputs": [],
   "source": [
    "#CONSTRAINT: Add external CO2 species in bundle sheat\n",
    "#(the original CO2 species is treated as internal CO2)\n",
    "m_list_CO_Ex= ['[B]_CO2_ex_c','[B]_CO2_ex_h','[B]_CO2_ex_m']\n",
    "\n",
    "for m_id in m_list_CO_Ex:\n",
    "    m_obj = cobra.Metabolite(m_id)\n",
    "    c4_model.add_metabolites(m_obj)\n",
    "\n",
    "#CONSTRAINT: Copy all reactions using internal CO2 and exchange internal with external CO2 in the copied recactions\n",
    "r_list_CO_Ex = ['Tr_CO2h', 'RBC_h']\n",
    "\n",
    "for r_id in r_list_CO_Ex:\n",
    "    r_obj = c4_model.reactions.get_by_id('[B]_'+r_id)\n",
    "    r_obj_Ex = cobra.Reaction(r_obj.id+'_Ex')\n",
    "    r_obj_Ex.name = r_obj.id+'_Ex'\n",
    "    r_obj_Ex.subsystem = r_obj.subsystem\n",
    "    r_obj_Ex.bounds = r_obj.bounds\n",
    "    c4_model.add_reaction(r_obj_Ex)\n",
    "    r_obj_Ex.add_metabolites({m_obj.id if not m_obj.id[:-2] == '[B]_CO2' else '[B]_CO2_ex'+m_obj.id[-2:]: r_obj.get_coefficient(m_obj) \n",
    "                                  for m_obj in r_obj.metabolites})\n",
    "\n",
    "#CONSTRAINT: CO2 exchange between mesophyll and bundle sheat\n",
    "r_c4_obj = cobra.Reaction('[MB]_CO2_c')\n",
    "r_c4_obj.name = '[MB]_CO2_c'\n",
    "r_c4_obj.subsystem = 'Exchange'\n",
    "r_c4_obj.bounds = (-inf, inf)\n",
    "c4_model.add_reaction(r_c4_obj)\n",
    "r_c4_obj.add_metabolites({'[M]_CO2_c': -1,'[B]_CO2_ex_c': 1 })\n",
    "L_r_transport.append('[MB]_CO2_c')"
   ]
  },
  {
   "cell_type": "markdown",
   "metadata": {
    "run_control": {
     "marked": true
    }
   },
   "source": [
    "### 2.3 Constraints"
   ]
  },
  {
   "cell_type": "code",
   "execution_count": 9,
   "metadata": {
    "ExecuteTime": {
     "end_time": "2019-05-06T14:07:41.426516Z",
     "start_time": "2019-05-06T16:07:41.423909+02:00"
    },
    "collapsed": true,
    "run_control": {
     "marked": true
    }
   },
   "outputs": [],
   "source": [
    "#CONSTRAINT: No CO2 uptake in bundle sheat cells due to suberin layer in cell membranes\n",
    "set_fixed_flux('[B]_Im_CO2',0, c4_model)"
   ]
  },
  {
   "cell_type": "code",
   "execution_count": 10,
   "metadata": {
    "ExecuteTime": {
     "end_time": "2019-05-06T14:07:41.448707Z",
     "start_time": "2019-05-06T16:07:41.428155+02:00"
    },
    "collapsed": false,
    "run_control": {
     "marked": true
    }
   },
   "outputs": [
    {
     "data": {
      "text/plain": [
       "<optlang.glpk_interface.Constraint at 0x10661c410>"
      ]
     },
     "execution_count": 10,
     "metadata": {},
     "output_type": "execute_result"
    }
   ],
   "source": [
    "#CONSTRAINT: Output of sucrose : total amino acid and sucrose : starch\n",
    "set_fixed_flux_ratio({'[B]_Ex_Suc':2.2,'[B]_Ex_AA':1.0}, c4_model)\n",
    "set_fixed_flux_ratio({'[B]_Ex_Suc':1.0,'[B]_Ex_starch':1.0}, c4_model)\n",
    "\n",
    "set_fixed_flux_ratio({'[M]_Ex_Suc':2.2,'[M]_Ex_AA':1.0}, c4_model)\n",
    "set_fixed_flux_ratio({'[M]_Ex_Suc':1.0,'[M]_Ex_starch':1.0}, c4_model)"
   ]
  },
  {
   "cell_type": "code",
   "execution_count": 11,
   "metadata": {
    "ExecuteTime": {
     "end_time": "2019-05-06T14:07:41.459878Z",
     "start_time": "2019-05-06T16:07:41.450125+02:00"
    },
    "collapsed": false,
    "run_control": {
     "marked": true
    }
   },
   "outputs": [],
   "source": [
    "#Reaction variables for light uptake\n",
    "B_Im_hnu = c4_model.reactions.get_by_id(\"[B]_Im_hnu\")\n",
    "M_Im_hnu = c4_model.reactions.get_by_id(\"[M]_Im_hnu\")\n",
    "\n",
    "#CONSTRAINT: Total Photon uptake limited to 1000 µE\n",
    "const_hnu_sum = c4_model.problem.Constraint( B_Im_hnu.flux_expression + M_Im_hnu.flux_expression,\n",
    "                                        lb = 0, ub = 1000)\n",
    "\n",
    "c4_model.add_cons_vars(const_hnu_sum)\n",
    "\n",
    "#CONSTRAINT: Total Photon uptake by bundle sheath must be less equal than in mesophyll\n",
    "const_hnu_ratio = c4_model.problem.Constraint( M_Im_hnu.flux_expression - B_Im_hnu.flux_expression,\n",
    "                                        lb = 0, ub = 1000)\n",
    "\n",
    "c4_model.add_cons_vars(const_hnu_ratio)"
   ]
  },
  {
   "cell_type": "code",
   "execution_count": 12,
   "metadata": {
    "ExecuteTime": {
     "end_time": "2019-05-06T14:07:41.473223Z",
     "start_time": "2019-05-06T16:07:41.461714+02:00"
    },
    "collapsed": false,
    "run_control": {
     "marked": true
    }
   },
   "outputs": [
    {
     "data": {
      "text/plain": [
       "<optlang.glpk_interface.Constraint at 0x117447650>"
      ]
     },
     "execution_count": 12,
     "metadata": {},
     "output_type": "execute_result"
    }
   ],
   "source": [
    "#CONSTRAINT: oxygenation : carboxylation = 1 : 3\n",
    "set_fixed_flux_ratio({'[B]_RBC_h_Ex':3,'[B]_RBO_h':1}, c4_model)\n",
    "set_fixed_flux_ratio({'[M]_RBC_h':3,'[M]_RBO_h':1}, c4_model)"
   ]
  },
  {
   "cell_type": "markdown",
   "metadata": {
    "run_control": {
     "marked": true
    }
   },
   "source": [
    "## 3 FBA"
   ]
  },
  {
   "cell_type": "code",
   "execution_count": 13,
   "metadata": {
    "ExecuteTime": {
     "end_time": "2019-05-06T14:07:51.056362Z",
     "start_time": "2019-05-06T16:07:41.474581+02:00"
    },
    "collapsed": false,
    "run_control": {
     "marked": true
    }
   },
   "outputs": [],
   "source": [
    "#Dictionary defining the experiments according to proportions of Mal\n",
    "C4_max = 40.0 #max. C4 transport rate\n",
    "#D_exp = {value: '1 : %s' %( round(((C4_max - value)/value),2)) for value in np.arange(0,C4_max+1,5)}\n",
    "D_exp = {value: '%s : %s' %(value, C4_max - value) for value in np.arange(0,C4_max+1,5)}\n",
    "\n",
    "#Reaction Variables\n",
    "B_Ex_Suc = c4_model.reactions.get_by_id(\"[B]_Ex_Suc\")\n",
    "B_RBO = c4_model.reactions.get_by_id(\"[B]_RBO_h\")\n",
    "M_RBO = c4_model.reactions.get_by_id(\"[M]_RBO_h\")\n",
    "M_Im_H2O = c4_model.reactions.get_by_id(\"[M]_Im_H2O\")\n",
    "B_Im_H2O = c4_model.reactions.get_by_id(\"[B]_Im_H2O\")\n",
    "\n",
    "#Set FBA solver\n",
    "c4_model.solver = \"glpk\"\n",
    "\n",
    "#Initialize dictionary to store results\n",
    "D_fba={}\n",
    "\n",
    "#Run every FBA experiment\n",
    "\n",
    "for value in sorted(D_exp.keys()): #iterate over proportions of carboxylation\n",
    "    \n",
    "    #Add Mal/Asp transport constraint \n",
    "    set_fixed_flux('[MB]_Mal_c',value, c4_model)\n",
    "    set_fixed_flux('[MB]_Asp_c',C4_max-value, c4_model)\n",
    "    \n",
    "    #Optimize/Maximize sucrose output\n",
    "    B_Ex_Suc.objective_coefficient = 1.\n",
    "    c4_model_copy = c4_model.copy()\n",
    "    result_fba = c4_model_copy.optimize('maximize')\n",
    "    del c4_model_copy\n",
    "    c4_model.objective =[]\n",
    "    set_fixed_flux(B_Ex_Suc.id,result_fba.fluxes[B_Ex_Suc.id], c4_model)\n",
    "    \n",
    "    #Optimize/Minimize oxygenation rate by rubisco (set True)\n",
    "    if True:\n",
    "            B_RBO.objective_coefficient = 1.\n",
    "            M_RBO.objective_coefficient = 1.\n",
    "            c4_model_copy = c4_model.copy()\n",
    "            result_fba = c4_model_copy.optimize('minimize')\n",
    "            del c4_model_copy\n",
    "            c4_model.objective =[]\n",
    "            set_fixed_flux(B_RBO.id,result_fba.fluxes[B_RBO.id],c4_model)            \n",
    "            set_fixed_flux(M_RBO.id,result_fba.fluxes[M_RBO.id],c4_model)\n",
    "    \n",
    "        \n",
    "    #Optimize/Minimize total flux\n",
    "    if result_fba.status == 'optimal': \n",
    "        c4_model_copy = c4_model.copy()\n",
    "        result_pfba = cobra.flux_analysis.parsimonious.pfba(c4_model_copy)\n",
    "        D_fba[value] = result_pfba.fluxes\n",
    "        del c4_model_copy \n",
    "    \n",
    "    #Reset reaction bounds\n",
    "    set_bounds(B_RBO.id,(0,inf),c4_model)\n",
    "    set_bounds(M_RBO.id,(0,inf),c4_model)\n",
    "    set_bounds(B_Ex_Suc.id,(0,inf),c4_model)"
   ]
  },
  {
   "cell_type": "code",
   "execution_count": 14,
   "metadata": {
    "ExecuteTime": {
     "end_time": "2019-05-06T14:07:52.793663Z",
     "start_time": "2019-05-06T16:07:51.057722+02:00"
    },
    "collapsed": false,
    "run_control": {
     "marked": true
    }
   },
   "outputs": [],
   "source": [
    "save_fba_to_excel(c3_model, c4_model, D_fba, D_exp, theNotebook)"
   ]
  },
  {
   "cell_type": "code",
   "execution_count": 15,
   "metadata": {
    "ExecuteTime": {
     "end_time": "2019-05-06T14:07:52.802351Z",
     "start_time": "2019-05-06T16:07:52.794970+02:00"
    },
    "collapsed": false,
    "run_control": {
     "marked": true
    }
   },
   "outputs": [],
   "source": [
    "for exp, exp_name in D_exp.items():\n",
    "    save_to_json(exp_name, D_fba[exp], theNotebook)"
   ]
  },
  {
   "cell_type": "markdown",
   "metadata": {
    "ExecuteTime": {
     "end_time": "2018-02-06T17:54:23.611334+01:00",
     "start_time": "2018-02-06T17:54:23.609194"
    },
    "run_control": {
     "marked": true
    }
   },
   "source": [
    "## 4 Figures"
   ]
  },
  {
   "cell_type": "code",
   "execution_count": 16,
   "metadata": {
    "ExecuteTime": {
     "end_time": "2019-05-06T14:07:52.806665Z",
     "start_time": "2019-05-06T16:07:52.804062+02:00"
    },
    "collapsed": true,
    "run_control": {
     "marked": true
    }
   },
   "outputs": [],
   "source": [
    "xaxis_title = 'Mal : Asp Exchange'\n",
    "save_fig = False"
   ]
  },
  {
   "cell_type": "code",
   "execution_count": 17,
   "metadata": {
    "ExecuteTime": {
     "end_time": "2019-05-06T14:07:53.304220Z",
     "start_time": "2019-05-06T16:07:52.808738+02:00"
    },
    "collapsed": false,
    "run_control": {
     "marked": true
    }
   },
   "outputs": [
    {
     "data": {
      "application/vnd.plotly.v1+json": {
       "config": {
        "linkText": "Export to plot.ly",
        "plotlyServerURL": "https://plot.ly",
        "showLink": false
       },
       "data": [
        {
         "marker": {
          "color": "rgb(8,81,156)"
         },
         "name": "Bundle sheath",
         "type": "bar",
         "uid": "e23a735a-0515-4fc3-93ab-8421a304b34e",
         "x": [
          "0.0 : 40.0",
          "5.0 : 35.0",
          "10.0 : 30.0",
          "15.0 : 25.0",
          "20.0 : 20.0",
          "25.0 : 15.0",
          "30.0 : 10.0",
          "35.0 : 5.0",
          "40.0 : 0.0"
         ],
         "y": [
          206.6082789491222,
          206.73293211586983,
          206.86662195551642,
          206.9977124160131,
          206.99771241605214,
          206.9977124160623,
          207.05306569440893,
          207.22272043496335,
          207.38485381205638
         ]
        },
        {
         "marker": {
          "color": "rgb(166,54,3)"
         },
         "name": "Mesophyll",
         "type": "bar",
         "uid": "2376d6ec-6564-4b5a-933c-2217c2c39f0a",
         "x": [
          "0.0 : 40.0",
          "5.0 : 35.0",
          "10.0 : 30.0",
          "15.0 : 25.0",
          "20.0 : 20.0",
          "25.0 : 15.0",
          "30.0 : 10.0",
          "35.0 : 5.0",
          "40.0 : 0.0"
         ],
         "y": [
          206.6082789491222,
          206.73293211586983,
          206.86662195551642,
          206.9977124160131,
          206.99771241605214,
          206.9977124160623,
          207.05306569440893,
          207.22272043496335,
          207.38485381205638
         ]
        }
       ],
       "layout": {
        "barmode": "stack",
        "height": 400,
        "margin": {
         "b": 100
        },
        "title": {
         "text": "Photon Uptake"
        },
        "width": 600,
        "xaxis": {
         "tickangle": 45,
         "title": {
          "text": "Mal : Asp Exchange"
         }
        },
        "yaxis": {
         "autorange": true,
         "title": {
          "text": "Flux [µmol/s/m2]"
         }
        }
       }
      },
      "text/html": [
       "<div>\n",
       "        \n",
       "        \n",
       "            <div id=\"d4ca4b1c-0c24-43c4-97ee-62814b12170c\" class=\"plotly-graph-div\"></div>\n",
       "            <script type=\"text/javascript\">\n",
       "                require([\"plotly\"], function(Plotly) {\n",
       "                    window.PLOTLYENV=window.PLOTLYENV || {};\n",
       "                    window.PLOTLYENV.BASE_URL='https://plot.ly';\n",
       "                    \n",
       "                if (document.getElementById(\"d4ca4b1c-0c24-43c4-97ee-62814b12170c\")) {\n",
       "                    Plotly.newPlot(\n",
       "                        'd4ca4b1c-0c24-43c4-97ee-62814b12170c',\n",
       "                        [{\"marker\": {\"color\": \"rgb(8,81,156)\"}, \"name\": \"Bundle sheath\", \"type\": \"bar\", \"uid\": \"ed643ef4-9d2b-4674-bce7-809129ee87ae\", \"x\": [\"0.0 : 40.0\", \"5.0 : 35.0\", \"10.0 : 30.0\", \"15.0 : 25.0\", \"20.0 : 20.0\", \"25.0 : 15.0\", \"30.0 : 10.0\", \"35.0 : 5.0\", \"40.0 : 0.0\"], \"y\": [206.6082789491222, 206.73293211586983, 206.86662195551642, 206.9977124160131, 206.99771241605214, 206.9977124160623, 207.05306569440893, 207.22272043496335, 207.38485381205638]}, {\"marker\": {\"color\": \"rgb(166,54,3)\"}, \"name\": \"Mesophyll\", \"type\": \"bar\", \"uid\": \"389b94ee-1e5c-49df-a2d3-a9a39b3cd152\", \"x\": [\"0.0 : 40.0\", \"5.0 : 35.0\", \"10.0 : 30.0\", \"15.0 : 25.0\", \"20.0 : 20.0\", \"25.0 : 15.0\", \"30.0 : 10.0\", \"35.0 : 5.0\", \"40.0 : 0.0\"], \"y\": [206.6082789491222, 206.73293211586983, 206.86662195551642, 206.9977124160131, 206.99771241605214, 206.9977124160623, 207.05306569440893, 207.22272043496335, 207.38485381205638]}],\n",
       "                        {\"barmode\": \"stack\", \"height\": 400, \"margin\": {\"b\": 100}, \"title\": {\"text\": \"Photon Uptake\"}, \"width\": 600, \"xaxis\": {\"tickangle\": 45, \"title\": {\"text\": \"Mal : Asp Exchange\"}}, \"yaxis\": {\"autorange\": true, \"title\": {\"text\": \"Flux [\\u00b5mol/s/m2]\"}}},\n",
       "                        {\"plotlyServerURL\": \"https://plot.ly\", \"linkText\": \"Export to plot.ly\", \"showLink\": false}\n",
       "                    )\n",
       "                };\n",
       "                });\n",
       "            </script>\n",
       "        </div>"
      ]
     },
     "metadata": {},
     "output_type": "display_data"
    }
   ],
   "source": [
    "create_bar_plot_rxn(D_fba, D_exp,\n",
    "                    {'[M]_Im_hnu':'Mesophyll','[B]_Im_hnu': 'Bundle sheath'},\n",
    "                    'Photon Uptake', xaxis_title,\n",
    "                    stacked = True, save_fig=save_fig)"
   ]
  },
  {
   "cell_type": "code",
   "execution_count": 18,
   "metadata": {
    "ExecuteTime": {
     "end_time": "2019-05-06T14:07:53.458267Z",
     "start_time": "2019-05-06T16:07:53.305704+02:00"
    },
    "collapsed": false,
    "run_control": {
     "marked": true
    }
   },
   "outputs": [
    {
     "data": {
      "application/vnd.plotly.v1+json": {
       "config": {
        "linkText": "Export to plot.ly",
        "plotlyServerURL": "https://plot.ly",
        "showLink": false
       },
       "data": [
        {
         "marker": {
          "color": "rgb(8,81,156)"
         },
         "name": "Bundle sheath",
         "type": "bar",
         "uid": "c2eed3d4-7fa1-48dc-87ff-53722139fdb3",
         "x": [
          "0.0 : 40.0",
          "5.0 : 35.0",
          "10.0 : 30.0",
          "15.0 : 25.0",
          "20.0 : 20.0",
          "25.0 : 15.0",
          "30.0 : 10.0",
          "35.0 : 5.0",
          "40.0 : 0.0"
         ],
         "y": [
          95.02976164128205,
          92.29615428765085,
          89.51540562458413,
          86.73317160200882,
          83.87602874489043,
          81.01888588775375,
          77.86441684954669,
          74.09598567189009,
          71.86018727452701
         ]
        },
        {
         "marker": {
          "color": "rgb(166,54,3)"
         },
         "name": "Mesophyll",
         "type": "bar",
         "uid": "520e6d20-ac32-415d-bc87-1a66769c57bc",
         "x": [
          "0.0 : 40.0",
          "5.0 : 35.0",
          "10.0 : 30.0",
          "15.0 : 25.0",
          "20.0 : 20.0",
          "25.0 : 15.0",
          "30.0 : 10.0",
          "35.0 : 5.0",
          "40.0 : 0.0"
         ],
         "y": [
          77.96350013739847,
          80.09877229020485,
          82.23780972339704,
          84.40754797971738,
          87.26469083686086,
          90.121833694006,
          93.01060699593818,
          95.964695419096,
          97.72689329233148
         ]
        }
       ],
       "layout": {
        "barmode": "stack",
        "height": 400,
        "margin": {
         "b": 100
        },
        "title": {
         "text": "Photon Uptake by PSII"
        },
        "width": 600,
        "xaxis": {
         "tickangle": 45,
         "title": {
          "text": "Mal : Asp Exchange"
         }
        },
        "yaxis": {
         "autorange": true,
         "title": {
          "text": "Flux [µmol/s/m2]"
         }
        }
       }
      },
      "text/html": [
       "<div>\n",
       "        \n",
       "        \n",
       "            <div id=\"54d5e86a-dc96-48d7-a308-823454741910\" class=\"plotly-graph-div\"></div>\n",
       "            <script type=\"text/javascript\">\n",
       "                require([\"plotly\"], function(Plotly) {\n",
       "                    window.PLOTLYENV=window.PLOTLYENV || {};\n",
       "                    window.PLOTLYENV.BASE_URL='https://plot.ly';\n",
       "                    \n",
       "                if (document.getElementById(\"54d5e86a-dc96-48d7-a308-823454741910\")) {\n",
       "                    Plotly.newPlot(\n",
       "                        '54d5e86a-dc96-48d7-a308-823454741910',\n",
       "                        [{\"marker\": {\"color\": \"rgb(8,81,156)\"}, \"name\": \"Bundle sheath\", \"type\": \"bar\", \"uid\": \"3adeb581-97b1-4509-a25e-187b747c6288\", \"x\": [\"0.0 : 40.0\", \"5.0 : 35.0\", \"10.0 : 30.0\", \"15.0 : 25.0\", \"20.0 : 20.0\", \"25.0 : 15.0\", \"30.0 : 10.0\", \"35.0 : 5.0\", \"40.0 : 0.0\"], \"y\": [95.02976164128205, 92.29615428765085, 89.51540562458413, 86.73317160200882, 83.87602874489043, 81.01888588775375, 77.86441684954669, 74.09598567189009, 71.86018727452701]}, {\"marker\": {\"color\": \"rgb(166,54,3)\"}, \"name\": \"Mesophyll\", \"type\": \"bar\", \"uid\": \"6b25df83-2673-4dcb-849e-15b2c56087fb\", \"x\": [\"0.0 : 40.0\", \"5.0 : 35.0\", \"10.0 : 30.0\", \"15.0 : 25.0\", \"20.0 : 20.0\", \"25.0 : 15.0\", \"30.0 : 10.0\", \"35.0 : 5.0\", \"40.0 : 0.0\"], \"y\": [77.96350013739847, 80.09877229020485, 82.23780972339704, 84.40754797971738, 87.26469083686086, 90.121833694006, 93.01060699593818, 95.964695419096, 97.72689329233148]}],\n",
       "                        {\"barmode\": \"stack\", \"height\": 400, \"margin\": {\"b\": 100}, \"title\": {\"text\": \"Photon Uptake by PSII\"}, \"width\": 600, \"xaxis\": {\"tickangle\": 45, \"title\": {\"text\": \"Mal : Asp Exchange\"}}, \"yaxis\": {\"autorange\": true, \"title\": {\"text\": \"Flux [\\u00b5mol/s/m2]\"}}},\n",
       "                        {\"plotlyServerURL\": \"https://plot.ly\", \"linkText\": \"Export to plot.ly\", \"showLink\": false}\n",
       "                    )\n",
       "                };\n",
       "                });\n",
       "            </script>\n",
       "        </div>"
      ]
     },
     "metadata": {},
     "output_type": "display_data"
    }
   ],
   "source": [
    "create_bar_plot_met(D_fba, D_exp,\n",
    "                    {'[M]_PSII_h':'Mesophyll','[B]_PSII_h': 'Bundle sheath'},'hnu_h',\n",
    "                    'Photon Uptake by PSII', xaxis_title, c3_model,\n",
    "                    stacked = True, save_fig=save_fig)"
   ]
  },
  {
   "cell_type": "code",
   "execution_count": 19,
   "metadata": {
    "ExecuteTime": {
     "end_time": "2019-05-06T14:07:53.622849Z",
     "start_time": "2019-05-06T16:07:53.459908+02:00"
    },
    "collapsed": false,
    "run_control": {
     "marked": true
    }
   },
   "outputs": [
    {
     "data": {
      "application/vnd.plotly.v1+json": {
       "config": {
        "linkText": "Export to plot.ly",
        "plotlyServerURL": "https://plot.ly",
        "showLink": false
       },
       "data": [
        {
         "marker": {
          "color": "rgb(8,81,156)"
         },
         "name": "Bundle sheath",
         "type": "bar",
         "uid": "990ae484-e302-4425-81fc-41463e880f5c",
         "x": [
          "0.0 : 40.0",
          "5.0 : 35.0",
          "10.0 : 30.0",
          "15.0 : 25.0",
          "20.0 : 20.0",
          "25.0 : 15.0",
          "30.0 : 10.0",
          "35.0 : 5.0",
          "40.0 : 0.0"
         ],
         "y": [
          111.57851730784029,
          114.436777828219,
          117.35121633093225,
          120.26454081400425,
          123.1216836711617,
          125.97882652830856,
          129.18864884486223,
          133.12673476307327,
          135.52466653752938
         ]
        },
        {
         "marker": {
          "color": "rgb(166,54,3)"
         },
         "name": "Mesophyll",
         "type": "bar",
         "uid": "cb10a6e5-24a4-4a8a-aade-ec817592f523",
         "x": [
          "0.0 : 40.0",
          "5.0 : 35.0",
          "10.0 : 30.0",
          "15.0 : 25.0",
          "20.0 : 20.0",
          "25.0 : 15.0",
          "30.0 : 10.0",
          "35.0 : 5.0",
          "40.0 : 0.0"
         ],
         "y": [
          128.64477881172374,
          126.634159825665,
          124.62881223211942,
          122.59016443629571,
          119.73302157919127,
          116.87587872205631,
          114.04245869847075,
          111.25802501586736,
          109.65796051972492
         ]
        }
       ],
       "layout": {
        "barmode": "stack",
        "height": 400,
        "margin": {
         "b": 100
        },
        "title": {
         "text": "Photon Uptake by PSI"
        },
        "width": 600,
        "xaxis": {
         "tickangle": 45,
         "title": {
          "text": "Mal : Asp Exchange"
         }
        },
        "yaxis": {
         "autorange": true,
         "title": {
          "text": "Flux [µmol/s/m2]"
         }
        }
       }
      },
      "text/html": [
       "<div>\n",
       "        \n",
       "        \n",
       "            <div id=\"7bb374bd-7074-4f6b-8346-7fbf752243fd\" class=\"plotly-graph-div\"></div>\n",
       "            <script type=\"text/javascript\">\n",
       "                require([\"plotly\"], function(Plotly) {\n",
       "                    window.PLOTLYENV=window.PLOTLYENV || {};\n",
       "                    window.PLOTLYENV.BASE_URL='https://plot.ly';\n",
       "                    \n",
       "                if (document.getElementById(\"7bb374bd-7074-4f6b-8346-7fbf752243fd\")) {\n",
       "                    Plotly.newPlot(\n",
       "                        '7bb374bd-7074-4f6b-8346-7fbf752243fd',\n",
       "                        [{\"marker\": {\"color\": \"rgb(8,81,156)\"}, \"name\": \"Bundle sheath\", \"type\": \"bar\", \"uid\": \"c5bef77e-52f9-4ef3-bb08-c383446087d2\", \"x\": [\"0.0 : 40.0\", \"5.0 : 35.0\", \"10.0 : 30.0\", \"15.0 : 25.0\", \"20.0 : 20.0\", \"25.0 : 15.0\", \"30.0 : 10.0\", \"35.0 : 5.0\", \"40.0 : 0.0\"], \"y\": [111.57851730784029, 114.436777828219, 117.35121633093225, 120.26454081400425, 123.1216836711617, 125.97882652830856, 129.18864884486223, 133.12673476307327, 135.52466653752938]}, {\"marker\": {\"color\": \"rgb(166,54,3)\"}, \"name\": \"Mesophyll\", \"type\": \"bar\", \"uid\": \"83cd9603-b679-44ef-a331-1827f68c43bc\", \"x\": [\"0.0 : 40.0\", \"5.0 : 35.0\", \"10.0 : 30.0\", \"15.0 : 25.0\", \"20.0 : 20.0\", \"25.0 : 15.0\", \"30.0 : 10.0\", \"35.0 : 5.0\", \"40.0 : 0.0\"], \"y\": [128.64477881172374, 126.634159825665, 124.62881223211942, 122.59016443629571, 119.73302157919127, 116.87587872205631, 114.04245869847075, 111.25802501586736, 109.65796051972492]}],\n",
       "                        {\"barmode\": \"stack\", \"height\": 400, \"margin\": {\"b\": 100}, \"title\": {\"text\": \"Photon Uptake by PSI\"}, \"width\": 600, \"xaxis\": {\"tickangle\": 45, \"title\": {\"text\": \"Mal : Asp Exchange\"}}, \"yaxis\": {\"autorange\": true, \"title\": {\"text\": \"Flux [\\u00b5mol/s/m2]\"}}},\n",
       "                        {\"plotlyServerURL\": \"https://plot.ly\", \"linkText\": \"Export to plot.ly\", \"showLink\": false}\n",
       "                    )\n",
       "                };\n",
       "                });\n",
       "            </script>\n",
       "        </div>"
      ]
     },
     "metadata": {},
     "output_type": "display_data"
    }
   ],
   "source": [
    "create_bar_plot_met(D_fba, D_exp,\n",
    "                    {'[M]_PSI_h':'Mesophyll','[B]_PSI_h': 'Bundle sheath'},'hnu_h',\n",
    "                    'Photon Uptake by PSI', xaxis_title, c3_model,\n",
    "                    stacked = True, save_fig=save_fig)"
   ]
  },
  {
   "cell_type": "code",
   "execution_count": 20,
   "metadata": {
    "ExecuteTime": {
     "end_time": "2019-05-06T14:07:53.786607Z",
     "start_time": "2019-05-06T16:07:53.624721+02:00"
    },
    "collapsed": false,
    "run_control": {
     "marked": true
    }
   },
   "outputs": [
    {
     "data": {
      "application/vnd.plotly.v1+json": {
       "config": {
        "linkText": "Export to plot.ly",
        "plotlyServerURL": "https://plot.ly",
        "showLink": false
       },
       "data": [
        {
         "marker": {
          "color": "rgb(8,81,156)"
         },
         "name": "Bundle sheath",
         "type": "bar",
         "uid": "0ac2f71d-33cd-4094-858b-ae3eadaf5c8e",
         "x": [
          "0.0 : 40.0",
          "5.0 : 35.0",
          "10.0 : 30.0",
          "15.0 : 25.0",
          "20.0 : 20.0",
          "25.0 : 15.0",
          "30.0 : 10.0",
          "35.0 : 5.0",
          "40.0 : 0.0"
         ],
         "y": [
          3.9408738869956714,
          4.01128462882995,
          4.011284628831066,
          4.011284628835766,
          4.011284628831067,
          4.011284628830272,
          3.568458401753296,
          2.211220477552846,
          1.7308500567248541
         ]
        },
        {
         "marker": {
          "color": "rgb(166,54,3)"
         },
         "name": "Mesophyll",
         "type": "bar",
         "uid": "b576f01a-680f-446d-89dd-980c3910a8a0",
         "x": [
          "0.0 : 40.0",
          "5.0 : 35.0",
          "10.0 : 30.0",
          "15.0 : 25.0",
          "20.0 : 20.0",
          "25.0 : 15.0",
          "30.0 : 10.0",
          "35.0 : 5.0",
          "40.0 : 0.0"
         ],
         "y": [
          5.329275968356796,
          4.261639891910875,
          3.192121175356088,
          2.1712948983151468,
          2.1712948983152334,
          2.1712948983159093,
          2.1712948983153386,
          2.1712948983155425,
          1.8623311127826758
         ]
        }
       ],
       "layout": {
        "barmode": "stack",
        "height": 400,
        "margin": {
         "b": 100
        },
        "title": {
         "text": "ATP Synthesis Mitochondria"
        },
        "width": 600,
        "xaxis": {
         "tickangle": 45,
         "title": {
          "text": "Mal : Asp Exchange"
         }
        },
        "yaxis": {
         "autorange": true,
         "title": {
          "text": "Flux [µmol/s/m2]"
         }
        }
       }
      },
      "text/html": [
       "<div>\n",
       "        \n",
       "        \n",
       "            <div id=\"84bfe639-0754-4a4b-b984-594362407513\" class=\"plotly-graph-div\"></div>\n",
       "            <script type=\"text/javascript\">\n",
       "                require([\"plotly\"], function(Plotly) {\n",
       "                    window.PLOTLYENV=window.PLOTLYENV || {};\n",
       "                    window.PLOTLYENV.BASE_URL='https://plot.ly';\n",
       "                    \n",
       "                if (document.getElementById(\"84bfe639-0754-4a4b-b984-594362407513\")) {\n",
       "                    Plotly.newPlot(\n",
       "                        '84bfe639-0754-4a4b-b984-594362407513',\n",
       "                        [{\"marker\": {\"color\": \"rgb(8,81,156)\"}, \"name\": \"Bundle sheath\", \"type\": \"bar\", \"uid\": \"b44d1d2b-de4f-4283-a5ff-5e7471b0997a\", \"x\": [\"0.0 : 40.0\", \"5.0 : 35.0\", \"10.0 : 30.0\", \"15.0 : 25.0\", \"20.0 : 20.0\", \"25.0 : 15.0\", \"30.0 : 10.0\", \"35.0 : 5.0\", \"40.0 : 0.0\"], \"y\": [3.9408738869956714, 4.01128462882995, 4.011284628831066, 4.011284628835766, 4.011284628831067, 4.011284628830272, 3.568458401753296, 2.211220477552846, 1.7308500567248541]}, {\"marker\": {\"color\": \"rgb(166,54,3)\"}, \"name\": \"Mesophyll\", \"type\": \"bar\", \"uid\": \"9adb0ae5-7e3b-4460-9ee8-01a70da94cc8\", \"x\": [\"0.0 : 40.0\", \"5.0 : 35.0\", \"10.0 : 30.0\", \"15.0 : 25.0\", \"20.0 : 20.0\", \"25.0 : 15.0\", \"30.0 : 10.0\", \"35.0 : 5.0\", \"40.0 : 0.0\"], \"y\": [5.329275968356796, 4.261639891910875, 3.192121175356088, 2.1712948983151468, 2.1712948983152334, 2.1712948983159093, 2.1712948983153386, 2.1712948983155425, 1.8623311127826758]}],\n",
       "                        {\"barmode\": \"stack\", \"height\": 400, \"margin\": {\"b\": 100}, \"title\": {\"text\": \"ATP Synthesis Mitochondria\"}, \"width\": 600, \"xaxis\": {\"tickangle\": 45, \"title\": {\"text\": \"Mal : Asp Exchange\"}}, \"yaxis\": {\"autorange\": true, \"title\": {\"text\": \"Flux [\\u00b5mol/s/m2]\"}}},\n",
       "                        {\"plotlyServerURL\": \"https://plot.ly\", \"linkText\": \"Export to plot.ly\", \"showLink\": false}\n",
       "                    )\n",
       "                };\n",
       "                });\n",
       "            </script>\n",
       "        </div>"
      ]
     },
     "metadata": {},
     "output_type": "display_data"
    }
   ],
   "source": [
    "create_bar_plot_met(D_fba, D_exp,\n",
    "                    {'[M]_cplx5_m':'Mesophyll','[B]_cplx5_m': 'Bundle sheath'},'ATP_m',\n",
    "                    'ATP Synthesis Mitochondria', xaxis_title, c3_model,\n",
    "                    stacked = True, save_fig=save_fig)"
   ]
  },
  {
   "cell_type": "code",
   "execution_count": 21,
   "metadata": {
    "ExecuteTime": {
     "end_time": "2019-05-06T14:07:53.969000Z",
     "start_time": "2019-05-06T16:07:53.788685+02:00"
    },
    "collapsed": false,
    "run_control": {
     "marked": true
    }
   },
   "outputs": [
    {
     "data": {
      "application/vnd.plotly.v1+json": {
       "config": {
        "linkText": "Export to plot.ly",
        "plotlyServerURL": "https://plot.ly",
        "showLink": false
       },
       "data": [
        {
         "marker": {
          "color": "rgb(8,81,156)"
         },
         "name": "Bundle sheath",
         "type": "bar",
         "uid": "47c20934-bed9-4442-bb79-d58ef92b67c2",
         "x": [
          "0.0 : 40.0",
          "5.0 : 35.0",
          "10.0 : 30.0",
          "15.0 : 25.0",
          "20.0 : 20.0",
          "25.0 : 15.0",
          "30.0 : 10.0",
          "35.0 : 5.0",
          "40.0 : 0.0"
         ],
         "y": [
          87.8210768975198,
          91.3627392563063,
          94.97236492478623,
          98.58124791350208,
          102.15267648493912,
          105.72410505637015,
          109.7225446324756,
          114.60273834510076,
          117.55961971889766
         ]
        },
        {
         "marker": {
          "color": "rgb(166,54,3)"
         },
         "name": "Mesophyll",
         "type": "bar",
         "uid": "278fa954-4446-478c-8716-60b3e98d0882",
         "x": [
          "0.0 : 40.0",
          "5.0 : 35.0",
          "10.0 : 30.0",
          "15.0 : 25.0",
          "20.0 : 20.0",
          "25.0 : 15.0",
          "30.0 : 10.0",
          "35.0 : 5.0",
          "40.0 : 0.0"
         ],
         "y": [
          109.15390377737415,
          106.6094667531138,
          104.06935980127018,
          101.48827744136636,
          97.91684886997606,
          94.34542029855483,
          90.78980694948622,
          87.26685116109338,
          85.22623719664207
         ]
        }
       ],
       "layout": {
        "barmode": "stack",
        "height": 400,
        "margin": {
         "b": 100
        },
        "title": {
         "text": "ATP Synthesis Chloroplast"
        },
        "width": 600,
        "xaxis": {
         "tickangle": 45,
         "title": {
          "text": "Mal : Asp Exchange"
         }
        },
        "yaxis": {
         "autorange": true,
         "title": {
          "text": "Flux [µmol/s/m2]"
         }
        }
       }
      },
      "text/html": [
       "<div>\n",
       "        \n",
       "        \n",
       "            <div id=\"95a64fe7-b234-4a7e-9811-d73be57d1acd\" class=\"plotly-graph-div\"></div>\n",
       "            <script type=\"text/javascript\">\n",
       "                require([\"plotly\"], function(Plotly) {\n",
       "                    window.PLOTLYENV=window.PLOTLYENV || {};\n",
       "                    window.PLOTLYENV.BASE_URL='https://plot.ly';\n",
       "                    \n",
       "                if (document.getElementById(\"95a64fe7-b234-4a7e-9811-d73be57d1acd\")) {\n",
       "                    Plotly.newPlot(\n",
       "                        '95a64fe7-b234-4a7e-9811-d73be57d1acd',\n",
       "                        [{\"marker\": {\"color\": \"rgb(8,81,156)\"}, \"name\": \"Bundle sheath\", \"type\": \"bar\", \"uid\": \"ac22ca13-aca1-44c8-a52b-e2c551d41dc2\", \"x\": [\"0.0 : 40.0\", \"5.0 : 35.0\", \"10.0 : 30.0\", \"15.0 : 25.0\", \"20.0 : 20.0\", \"25.0 : 15.0\", \"30.0 : 10.0\", \"35.0 : 5.0\", \"40.0 : 0.0\"], \"y\": [87.8210768975198, 91.3627392563063, 94.97236492478623, 98.58124791350208, 102.15267648493912, 105.72410505637015, 109.7225446324756, 114.60273834510076, 117.55961971889766]}, {\"marker\": {\"color\": \"rgb(166,54,3)\"}, \"name\": \"Mesophyll\", \"type\": \"bar\", \"uid\": \"795e9f6b-6ece-40e1-814c-a9da49347bb8\", \"x\": [\"0.0 : 40.0\", \"5.0 : 35.0\", \"10.0 : 30.0\", \"15.0 : 25.0\", \"20.0 : 20.0\", \"25.0 : 15.0\", \"30.0 : 10.0\", \"35.0 : 5.0\", \"40.0 : 0.0\"], \"y\": [109.15390377737415, 106.6094667531138, 104.06935980127018, 101.48827744136636, 97.91684886997606, 94.34542029855483, 90.78980694948622, 87.26685116109338, 85.22623719664207]}],\n",
       "                        {\"barmode\": \"stack\", \"height\": 400, \"margin\": {\"b\": 100}, \"title\": {\"text\": \"ATP Synthesis Chloroplast\"}, \"width\": 600, \"xaxis\": {\"tickangle\": 45, \"title\": {\"text\": \"Mal : Asp Exchange\"}}, \"yaxis\": {\"autorange\": true, \"title\": {\"text\": \"Flux [\\u00b5mol/s/m2]\"}}},\n",
       "                        {\"plotlyServerURL\": \"https://plot.ly\", \"linkText\": \"Export to plot.ly\", \"showLink\": false}\n",
       "                    )\n",
       "                };\n",
       "                });\n",
       "            </script>\n",
       "        </div>"
      ]
     },
     "metadata": {},
     "output_type": "display_data"
    }
   ],
   "source": [
    "create_bar_plot_met(D_fba, D_exp,\n",
    "                    {'[M]_ATPase_h':'Mesophyll','[B]_ATPase_h': 'Bundle sheath'},'ATP_h',\n",
    "                    'ATP Synthesis Chloroplast', xaxis_title, c3_model,\n",
    "                    stacked = True, save_fig=save_fig)"
   ]
  },
  {
   "cell_type": "code",
   "execution_count": 22,
   "metadata": {
    "ExecuteTime": {
     "end_time": "2019-05-06T14:07:54.376941Z",
     "start_time": "2019-05-06T16:07:53.970701+02:00"
    },
    "collapsed": false,
    "run_control": {
     "marked": true
    }
   },
   "outputs": [
    {
     "data": {
      "application/vnd.plotly.v1+json": {
       "config": {
        "linkText": "Export to plot.ly",
        "plotlyServerURL": "https://plot.ly",
        "showLink": false
       },
       "data": [
        {
         "marker": {
          "color": "rgb(49,130,189)"
         },
         "name": "Bundle sheat (unconstrained)",
         "type": "bar",
         "uid": "4ddb1a40-7547-40f7-a0bb-a04ce85c6223",
         "x": [
          "0.0 : 40.0",
          "5.0 : 35.0",
          "10.0 : 30.0",
          "15.0 : 25.0",
          "20.0 : 20.0",
          "25.0 : 15.0",
          "30.0 : 10.0",
          "35.0 : 5.0",
          "40.0 : 0.0"
         ],
         "y": [
          40.17505623071272,
          40.17505623069844,
          40.17505623071199,
          40.17505623070467,
          40.17505623071176,
          40.175056230713004,
          40.17505623070647,
          40.17505623071173,
          40.17505623063686
         ]
        },
        {
         "marker": {
          "color": "rgb(8,81,156)"
         },
         "name": "Bundle sheat (constrained)",
         "type": "bar",
         "uid": "e9808020-0c9c-4452-af7d-e6bf3bf9922e",
         "x": [
          "0.0 : 40.0",
          "5.0 : 35.0",
          "10.0 : 30.0",
          "15.0 : 25.0",
          "20.0 : 20.0",
          "25.0 : 15.0",
          "30.0 : 10.0",
          "35.0 : 5.0",
          "40.0 : 0.0"
         ],
         "y": [
          0,
          0,
          0,
          0,
          3.21101152978458e-14,
          0,
          0,
          0,
          0
         ]
        },
        {
         "marker": {
          "color": "rgb(166,54,3)"
         },
         "name": "Mesophyll (constrained)",
         "type": "bar",
         "uid": "c630cb46-0461-4c83-b063-f08e5800f684",
         "x": [
          "0.0 : 40.0",
          "5.0 : 35.0",
          "10.0 : 30.0",
          "15.0 : 25.0",
          "20.0 : 20.0",
          "25.0 : 15.0",
          "30.0 : 10.0",
          "35.0 : 5.0",
          "40.0 : 0.0"
         ],
         "y": [
          3.3742398278228703e-15,
          0,
          0,
          2.1015873729954606e-15,
          1.987250014846185e-15,
          0,
          1.199216293619196e-14,
          2.016222964817523e-15,
          0
         ]
        }
       ],
       "layout": {
        "barmode": "stack",
        "height": 400,
        "margin": {
         "b": 100
        },
        "title": {
         "text": "Carboxylation by Rubisco"
        },
        "width": 600,
        "xaxis": {
         "tickangle": 45,
         "title": {
          "text": "Mal : Asp Exchange"
         }
        },
        "yaxis": {
         "autorange": true,
         "title": {
          "text": "Flux [µmol/s/m2]"
         }
        }
       }
      },
      "text/html": [
       "<div>\n",
       "        \n",
       "        \n",
       "            <div id=\"6a7ebea8-c222-4142-bcc1-f0f580c37a7e\" class=\"plotly-graph-div\"></div>\n",
       "            <script type=\"text/javascript\">\n",
       "                require([\"plotly\"], function(Plotly) {\n",
       "                    window.PLOTLYENV=window.PLOTLYENV || {};\n",
       "                    window.PLOTLYENV.BASE_URL='https://plot.ly';\n",
       "                    \n",
       "                if (document.getElementById(\"6a7ebea8-c222-4142-bcc1-f0f580c37a7e\")) {\n",
       "                    Plotly.newPlot(\n",
       "                        '6a7ebea8-c222-4142-bcc1-f0f580c37a7e',\n",
       "                        [{\"marker\": {\"color\": \"rgb(49,130,189)\"}, \"name\": \"Bundle sheat (unconstrained)\", \"type\": \"bar\", \"uid\": \"812cfbf5-4caa-4a04-be49-dfa378bc763e\", \"x\": [\"0.0 : 40.0\", \"5.0 : 35.0\", \"10.0 : 30.0\", \"15.0 : 25.0\", \"20.0 : 20.0\", \"25.0 : 15.0\", \"30.0 : 10.0\", \"35.0 : 5.0\", \"40.0 : 0.0\"], \"y\": [40.17505623071272, 40.17505623069844, 40.17505623071199, 40.17505623070467, 40.17505623071176, 40.175056230713004, 40.17505623070647, 40.17505623071173, 40.17505623063686]}, {\"marker\": {\"color\": \"rgb(8,81,156)\"}, \"name\": \"Bundle sheat (constrained)\", \"type\": \"bar\", \"uid\": \"1ea045e4-86f9-4dd6-8e78-fc23ed5048d3\", \"x\": [\"0.0 : 40.0\", \"5.0 : 35.0\", \"10.0 : 30.0\", \"15.0 : 25.0\", \"20.0 : 20.0\", \"25.0 : 15.0\", \"30.0 : 10.0\", \"35.0 : 5.0\", \"40.0 : 0.0\"], \"y\": [0.0, 0.0, 0.0, 0.0, 3.21101152978458e-14, 0.0, 0.0, 0.0, 0.0]}, {\"marker\": {\"color\": \"rgb(166,54,3)\"}, \"name\": \"Mesophyll (constrained)\", \"type\": \"bar\", \"uid\": \"6ea1bf98-8afc-43d8-8d28-990fca307cdc\", \"x\": [\"0.0 : 40.0\", \"5.0 : 35.0\", \"10.0 : 30.0\", \"15.0 : 25.0\", \"20.0 : 20.0\", \"25.0 : 15.0\", \"30.0 : 10.0\", \"35.0 : 5.0\", \"40.0 : 0.0\"], \"y\": [3.3742398278228703e-15, 0.0, 0.0, 2.1015873729954606e-15, 1.987250014846185e-15, 0.0, 1.199216293619196e-14, 2.016222964817523e-15, 0.0]}],\n",
       "                        {\"barmode\": \"stack\", \"height\": 400, \"margin\": {\"b\": 100}, \"title\": {\"text\": \"Carboxylation by Rubisco\"}, \"width\": 600, \"xaxis\": {\"tickangle\": 45, \"title\": {\"text\": \"Mal : Asp Exchange\"}}, \"yaxis\": {\"autorange\": true, \"title\": {\"text\": \"Flux [\\u00b5mol/s/m2]\"}}},\n",
       "                        {\"plotlyServerURL\": \"https://plot.ly\", \"linkText\": \"Export to plot.ly\", \"showLink\": false}\n",
       "                    )\n",
       "                };\n",
       "                });\n",
       "            </script>\n",
       "        </div>"
      ]
     },
     "metadata": {},
     "output_type": "display_data"
    }
   ],
   "source": [
    "create_bar_plot_rxn(D_fba, D_exp,\n",
    "                    {'[M]_RBC_h':'Mesophyll (constrained)','[B]_RBC_h_Ex':'Bundle sheat (constrained)',\n",
    "                 '[B]_RBC_h': 'Bundle sheat (unconstrained)'},\n",
    "                    'Carboxylation by Rubisco', xaxis_title,\n",
    "                    stacked = True, save_fig=save_fig)"
   ]
  },
  {
   "cell_type": "code",
   "execution_count": 23,
   "metadata": {
    "ExecuteTime": {
     "end_time": "2019-05-06T14:07:59.543027Z",
     "start_time": "2019-05-06T16:07:54.378348+02:00"
    },
    "collapsed": false,
    "run_control": {
     "marked": true
    }
   },
   "outputs": [
    {
     "data": {
      "application/vnd.plotly.v1+json": {
       "config": {
        "linkText": "Export to plot.ly",
        "plotlyServerURL": "https://plot.ly",
        "showLink": false
       },
       "data": [
        {
         "marker": {
          "color": "rgb(178,223,138)"
         },
         "name": "NAD-ME",
         "type": "bar",
         "uid": "6a60af18-5479-4641-88b0-d059b15cbcb3",
         "x": [
          "0.0 : 40.0",
          "5.0 : 35.0",
          "10.0 : 30.0",
          "15.0 : 25.0",
          "20.0 : 20.0",
          "25.0 : 15.0",
          "30.0 : 10.0",
          "35.0 : 5.0",
          "40.0 : 0.0"
         ],
         "y": [
          0.3222150541384122,
          0.32221505413830204,
          0.32221505413839646,
          0.3222150541383666,
          0.32221505413841217,
          0.3222150541384182,
          0.3222150541383664,
          0.03916165527055499,
          0.28804073013979736
         ]
        },
        {
         "marker": {
          "color": "rgb(166,206,227)"
         },
         "name": "NADP-ME",
         "type": "bar",
         "uid": "e26977ff-3f55-4a04-bacf-25575fb64a0a",
         "x": [
          "0.0 : 40.0",
          "5.0 : 35.0",
          "10.0 : 30.0",
          "15.0 : 25.0",
          "20.0 : 20.0",
          "25.0 : 15.0",
          "30.0 : 10.0",
          "35.0 : 5.0",
          "40.0 : 0.0"
         ],
         "y": [
          0,
          4.746521329395028,
          9.746521329394888,
          14.746521329396959,
          19.746521329394977,
          24.746521329394586,
          29.87936919752081,
          34.960838344729446,
          39.17702648517682
         ]
        },
        {
         "marker": {
          "color": "rgb(31,120,180)"
         },
         "name": "PEPCK",
         "type": "bar",
         "uid": "5ba86ddd-a0c8-4a8b-96dc-9d266151c7c7",
         "x": [
          "0.0 : 40.0",
          "5.0 : 35.0",
          "10.0 : 30.0",
          "15.0 : 25.0",
          "20.0 : 20.0",
          "25.0 : 15.0",
          "30.0 : 10.0",
          "35.0 : 5.0",
          "40.0 : 0.0"
         ],
         "y": [
          39.13866755008511,
          34.39214622067676,
          29.39214622068974,
          24.392146220684317,
          19.392146220689668,
          14.392146220690675,
          9.259298352561325,
          4.460882604223065,
          0
         ]
        }
       ],
       "layout": {
        "barmode": "stack",
        "height": 400,
        "margin": {
         "b": 100
        },
        "title": {
         "text": "Decarboxylation Enzymes"
        },
        "width": 600,
        "xaxis": {
         "tickangle": 45,
         "title": {
          "text": "Mal : Asp Exchange"
         }
        },
        "yaxis": {
         "autorange": true,
         "title": {
          "text": "Flux [µmol/s/m2]"
         }
        }
       }
      },
      "text/html": [
       "<div>\n",
       "        \n",
       "        \n",
       "            <div id=\"53dfedad-86b7-4dc2-9ceb-319dbdf7f780\" class=\"plotly-graph-div\"></div>\n",
       "            <script type=\"text/javascript\">\n",
       "                require([\"plotly\"], function(Plotly) {\n",
       "                    window.PLOTLYENV=window.PLOTLYENV || {};\n",
       "                    window.PLOTLYENV.BASE_URL='https://plot.ly';\n",
       "                    \n",
       "                if (document.getElementById(\"53dfedad-86b7-4dc2-9ceb-319dbdf7f780\")) {\n",
       "                    Plotly.newPlot(\n",
       "                        '53dfedad-86b7-4dc2-9ceb-319dbdf7f780',\n",
       "                        [{\"marker\": {\"color\": \"rgb(178,223,138)\"}, \"name\": \"NAD-ME\", \"type\": \"bar\", \"uid\": \"ed913666-3c65-4eb5-9ade-9a67ad25aa84\", \"x\": [\"0.0 : 40.0\", \"5.0 : 35.0\", \"10.0 : 30.0\", \"15.0 : 25.0\", \"20.0 : 20.0\", \"25.0 : 15.0\", \"30.0 : 10.0\", \"35.0 : 5.0\", \"40.0 : 0.0\"], \"y\": [0.3222150541384122, 0.32221505413830204, 0.32221505413839646, 0.3222150541383666, 0.32221505413841217, 0.3222150541384182, 0.3222150541383664, 0.03916165527055499, 0.28804073013979736]}, {\"marker\": {\"color\": \"rgb(166,206,227)\"}, \"name\": \"NADP-ME\", \"type\": \"bar\", \"uid\": \"ab1a2dfb-b5cb-4b4c-a9a6-0f57dca69efb\", \"x\": [\"0.0 : 40.0\", \"5.0 : 35.0\", \"10.0 : 30.0\", \"15.0 : 25.0\", \"20.0 : 20.0\", \"25.0 : 15.0\", \"30.0 : 10.0\", \"35.0 : 5.0\", \"40.0 : 0.0\"], \"y\": [0.0, 4.746521329395028, 9.746521329394888, 14.746521329396959, 19.746521329394977, 24.746521329394586, 29.87936919752081, 34.960838344729446, 39.17702648517682]}, {\"marker\": {\"color\": \"rgb(31,120,180)\"}, \"name\": \"PEPCK\", \"type\": \"bar\", \"uid\": \"d1f01168-bba5-4cf4-8d25-505ccb5df5d6\", \"x\": [\"0.0 : 40.0\", \"5.0 : 35.0\", \"10.0 : 30.0\", \"15.0 : 25.0\", \"20.0 : 20.0\", \"25.0 : 15.0\", \"30.0 : 10.0\", \"35.0 : 5.0\", \"40.0 : 0.0\"], \"y\": [39.13866755008511, 34.39214622067676, 29.39214622068974, 24.392146220684317, 19.392146220689668, 14.392146220690675, 9.259298352561325, 4.460882604223065, 0.0]}],\n",
       "                        {\"barmode\": \"stack\", \"height\": 400, \"margin\": {\"b\": 100}, \"title\": {\"text\": \"Decarboxylation Enzymes\"}, \"width\": 600, \"xaxis\": {\"tickangle\": 45, \"title\": {\"text\": \"Mal : Asp Exchange\"}}, \"yaxis\": {\"autorange\": true, \"title\": {\"text\": \"Flux [\\u00b5mol/s/m2]\"}}},\n",
       "                        {\"plotlyServerURL\": \"https://plot.ly\", \"linkText\": \"Export to plot.ly\", \"showLink\": false}\n",
       "                    ).then(function(){\n",
       "                            function downloadimage(format, height, width, filename) {var p = document.getElementById('53dfedad-86b7-4dc2-9ceb-319dbdf7f780');Plotly.downloadImage(p, {format: format, height: height, width: width, filename: filename});};if(document.readyState == 'complete') {downloadimage('svg', 400, 600, 'Decarboxylation Enzymes');}\n",
       "                        })\n",
       "                };\n",
       "                });\n",
       "            </script>\n",
       "        </div>"
      ]
     },
     "metadata": {},
     "output_type": "display_data"
    }
   ],
   "source": [
    "create_bar_plot_rxn(D_fba, D_exp,\n",
    "                    {'[B]_MalDH4_h': 'NADP-ME', '[B]_MalDH2_m': 'NAD-ME', '[B]_PEPC1_c': 'PEPCK'},\n",
    "                    'Decarboxylation Enzymes', xaxis_title,\n",
    "                    c=True, stacked = True, save_fig=True)"
   ]
  },
  {
   "cell_type": "code",
   "execution_count": 24,
   "metadata": {
    "ExecuteTime": {
     "end_time": "2019-05-06T14:07:59.686100Z",
     "start_time": "2019-05-06T16:07:59.544636+02:00"
    },
    "collapsed": false,
    "run_control": {
     "marked": true
    }
   },
   "outputs": [
    {
     "data": {
      "application/vnd.plotly.v1+json": {
       "config": {
        "linkText": "Export to plot.ly",
        "plotlyServerURL": "https://plot.ly",
        "showLink": false
       },
       "data": [
        {
         "marker": {
          "color": "rgb(8,81,156)"
         },
         "name": "Bundle sheath",
         "type": "bar",
         "uid": "28b4d1e3-a22d-499a-89e3-388c956b5bfe",
         "x": [
          "0.0 : 40.0",
          "5.0 : 35.0",
          "10.0 : 30.0",
          "15.0 : 25.0",
          "20.0 : 20.0",
          "25.0 : 15.0",
          "30.0 : 10.0",
          "35.0 : 5.0",
          "40.0 : 0.0"
         ],
         "y": [
          0,
          0,
          0,
          0,
          0,
          0,
          0,
          0,
          0
         ]
        },
        {
         "marker": {
          "color": "rgb(166,54,3)"
         },
         "name": "Mesophyll",
         "type": "bar",
         "uid": "1a3a5113-8b6d-40ce-8a9c-82d96bb99e99",
         "x": [
          "0.0 : 40.0",
          "5.0 : 35.0",
          "10.0 : 30.0",
          "15.0 : 25.0",
          "20.0 : 20.0",
          "25.0 : 15.0",
          "30.0 : 10.0",
          "35.0 : 5.0",
          "40.0 : 0.0"
         ],
         "y": [
          39.9930256481794,
          39.99302564816577,
          39.99302564817889,
          39.9930256481754,
          39.99302564817892,
          39.99302564817953,
          39.993025648176285,
          39.99302564817892,
          39.99721025927149
         ]
        }
       ],
       "layout": {
        "barmode": "stack",
        "height": 400,
        "margin": {
         "b": 100
        },
        "title": {
         "text": "PEPC"
        },
        "width": 600,
        "xaxis": {
         "tickangle": 45,
         "title": {
          "text": "Mal : Asp Exchange"
         }
        },
        "yaxis": {
         "autorange": true,
         "title": {
          "text": "Flux [µmol/s/m2]"
         }
        }
       }
      },
      "text/html": [
       "<div>\n",
       "        \n",
       "        \n",
       "            <div id=\"c24a1755-b89d-454b-b911-ad5780aaf24d\" class=\"plotly-graph-div\"></div>\n",
       "            <script type=\"text/javascript\">\n",
       "                require([\"plotly\"], function(Plotly) {\n",
       "                    window.PLOTLYENV=window.PLOTLYENV || {};\n",
       "                    window.PLOTLYENV.BASE_URL='https://plot.ly';\n",
       "                    \n",
       "                if (document.getElementById(\"c24a1755-b89d-454b-b911-ad5780aaf24d\")) {\n",
       "                    Plotly.newPlot(\n",
       "                        'c24a1755-b89d-454b-b911-ad5780aaf24d',\n",
       "                        [{\"marker\": {\"color\": \"rgb(8,81,156)\"}, \"name\": \"Bundle sheath\", \"type\": \"bar\", \"uid\": \"a49cd453-fe4b-486a-be00-708f6db7acb7\", \"x\": [\"0.0 : 40.0\", \"5.0 : 35.0\", \"10.0 : 30.0\", \"15.0 : 25.0\", \"20.0 : 20.0\", \"25.0 : 15.0\", \"30.0 : 10.0\", \"35.0 : 5.0\", \"40.0 : 0.0\"], \"y\": [0.0, 0.0, 0.0, 0.0, 0.0, 0.0, 0.0, 0.0, 0.0]}, {\"marker\": {\"color\": \"rgb(166,54,3)\"}, \"name\": \"Mesophyll\", \"type\": \"bar\", \"uid\": \"19dd090d-53da-4c2f-a055-b5bc17f5c658\", \"x\": [\"0.0 : 40.0\", \"5.0 : 35.0\", \"10.0 : 30.0\", \"15.0 : 25.0\", \"20.0 : 20.0\", \"25.0 : 15.0\", \"30.0 : 10.0\", \"35.0 : 5.0\", \"40.0 : 0.0\"], \"y\": [39.9930256481794, 39.99302564816577, 39.99302564817889, 39.9930256481754, 39.99302564817892, 39.99302564817953, 39.993025648176285, 39.99302564817892, 39.99721025927149]}],\n",
       "                        {\"barmode\": \"stack\", \"height\": 400, \"margin\": {\"b\": 100}, \"title\": {\"text\": \"PEPC\"}, \"width\": 600, \"xaxis\": {\"tickangle\": 45, \"title\": {\"text\": \"Mal : Asp Exchange\"}}, \"yaxis\": {\"autorange\": true, \"title\": {\"text\": \"Flux [\\u00b5mol/s/m2]\"}}},\n",
       "                        {\"plotlyServerURL\": \"https://plot.ly\", \"linkText\": \"Export to plot.ly\", \"showLink\": false}\n",
       "                    )\n",
       "                };\n",
       "                });\n",
       "            </script>\n",
       "        </div>"
      ]
     },
     "metadata": {},
     "output_type": "display_data"
    }
   ],
   "source": [
    "create_bar_plot_rxn(D_fba, D_exp,\n",
    "                    {'[M]_PEPC2_c': 'Mesophyll', '[B]_PEPC2_c': 'Bundle sheath'},\n",
    "                    'PEPC', xaxis_title,\n",
    "                     stacked = True, save_fig=save_fig)"
   ]
  },
  {
   "cell_type": "code",
   "execution_count": 25,
   "metadata": {
    "ExecuteTime": {
     "end_time": "2019-05-06T14:07:59.842498Z",
     "start_time": "2019-05-06T16:07:59.687550+02:00"
    },
    "collapsed": false,
    "run_control": {
     "marked": true
    }
   },
   "outputs": [
    {
     "data": {
      "application/vnd.plotly.v1+json": {
       "config": {
        "linkText": "Export to plot.ly",
        "plotlyServerURL": "https://plot.ly",
        "showLink": false
       },
       "data": [
        {
         "marker": {
          "color": "rgb(8,81,156)"
         },
         "name": "Bundle sheath",
         "type": "bar",
         "uid": "3eba4777-b2b9-4da0-851a-014459f270fa",
         "x": [
          "0.0 : 40.0",
          "5.0 : 35.0",
          "10.0 : 30.0",
          "15.0 : 25.0",
          "20.0 : 20.0",
          "25.0 : 15.0",
          "30.0 : 10.0",
          "35.0 : 5.0",
          "40.0 : 0.0"
         ],
         "y": [
          0.10461527731708839,
          0.10461527731762973,
          0.10461527731760129,
          0.10461527732106284,
          0.10461527731756685,
          0.10461527731693752,
          0.10461527732018401,
          0.10461527731756513,
          0.10043066622476558
         ]
        },
        {
         "marker": {
          "color": "rgb(166,54,3)"
         },
         "name": "Mesophyll",
         "type": "bar",
         "uid": "ffb52ce9-9931-49cb-9e90-4953319877c2",
         "x": [
          "0.0 : 40.0",
          "5.0 : 35.0",
          "10.0 : 30.0",
          "15.0 : 25.0",
          "20.0 : 20.0",
          "25.0 : 15.0",
          "30.0 : 10.0",
          "35.0 : 5.0",
          "40.0 : 0.0"
         ],
         "y": [
          39.99302564817939,
          39.99302564816575,
          39.99302564817904,
          39.99302564817539,
          39.993025648178936,
          39.993025648179525,
          39.99302564817629,
          39.993025648178936,
          39.99721025927147
         ]
        }
       ],
       "layout": {
        "barmode": "stack",
        "height": 400,
        "margin": {
         "b": 100
        },
        "title": {
         "text": "PyrPiDK"
        },
        "width": 600,
        "xaxis": {
         "tickangle": 45,
         "title": {
          "text": "Mal : Asp Exchange"
         }
        },
        "yaxis": {
         "autorange": true,
         "title": {
          "text": "Flux [µmol/s/m2]"
         }
        }
       }
      },
      "text/html": [
       "<div>\n",
       "        \n",
       "        \n",
       "            <div id=\"29b4ae32-2865-426a-9246-6d06c4b6e72f\" class=\"plotly-graph-div\"></div>\n",
       "            <script type=\"text/javascript\">\n",
       "                require([\"plotly\"], function(Plotly) {\n",
       "                    window.PLOTLYENV=window.PLOTLYENV || {};\n",
       "                    window.PLOTLYENV.BASE_URL='https://plot.ly';\n",
       "                    \n",
       "                if (document.getElementById(\"29b4ae32-2865-426a-9246-6d06c4b6e72f\")) {\n",
       "                    Plotly.newPlot(\n",
       "                        '29b4ae32-2865-426a-9246-6d06c4b6e72f',\n",
       "                        [{\"marker\": {\"color\": \"rgb(8,81,156)\"}, \"name\": \"Bundle sheath\", \"type\": \"bar\", \"uid\": \"40e70b3a-8d5d-4def-9106-6f6e1f6e3a3c\", \"x\": [\"0.0 : 40.0\", \"5.0 : 35.0\", \"10.0 : 30.0\", \"15.0 : 25.0\", \"20.0 : 20.0\", \"25.0 : 15.0\", \"30.0 : 10.0\", \"35.0 : 5.0\", \"40.0 : 0.0\"], \"y\": [0.10461527731708839, 0.10461527731762973, 0.10461527731760129, 0.10461527732106284, 0.10461527731756685, 0.10461527731693752, 0.10461527732018401, 0.10461527731756513, 0.10043066622476558]}, {\"marker\": {\"color\": \"rgb(166,54,3)\"}, \"name\": \"Mesophyll\", \"type\": \"bar\", \"uid\": \"47a6feca-1368-459c-b14b-7bba7e12557c\", \"x\": [\"0.0 : 40.0\", \"5.0 : 35.0\", \"10.0 : 30.0\", \"15.0 : 25.0\", \"20.0 : 20.0\", \"25.0 : 15.0\", \"30.0 : 10.0\", \"35.0 : 5.0\", \"40.0 : 0.0\"], \"y\": [39.99302564817939, 39.99302564816575, 39.99302564817904, 39.99302564817539, 39.993025648178936, 39.993025648179525, 39.99302564817629, 39.993025648178936, 39.99721025927147]}],\n",
       "                        {\"barmode\": \"stack\", \"height\": 400, \"margin\": {\"b\": 100}, \"title\": {\"text\": \"PyrPiDK\"}, \"width\": 600, \"xaxis\": {\"tickangle\": 45, \"title\": {\"text\": \"Mal : Asp Exchange\"}}, \"yaxis\": {\"autorange\": true, \"title\": {\"text\": \"Flux [\\u00b5mol/s/m2]\"}}},\n",
       "                        {\"plotlyServerURL\": \"https://plot.ly\", \"linkText\": \"Export to plot.ly\", \"showLink\": false}\n",
       "                    )\n",
       "                };\n",
       "                });\n",
       "            </script>\n",
       "        </div>"
      ]
     },
     "metadata": {},
     "output_type": "display_data"
    }
   ],
   "source": [
    "create_bar_plot_rxn(D_fba, D_exp,\n",
    "                    {'[M]_PyrPiDK_h': 'Mesophyll', '[B]_PyrPiDK_h': 'Bundle sheath'},\n",
    "                    'PyrPiDK', xaxis_title,\n",
    "                     stacked = True, save_fig=save_fig)"
   ]
  },
  {
   "cell_type": "code",
   "execution_count": 26,
   "metadata": {
    "ExecuteTime": {
     "end_time": "2019-05-06T14:08:00.148558Z",
     "start_time": "2019-05-06T16:07:59.843895+02:00"
    },
    "collapsed": false,
    "run_control": {
     "marked": true
    }
   },
   "outputs": [
    {
     "data": {
      "application/vnd.plotly.v1+json": {
       "config": {
        "linkText": "Export to plot.ly",
        "plotlyServerURL": "https://plot.ly",
        "showLink": false
       },
       "data": [
        {
         "colorbar": {
          "title": {
           "side": "right",
           "text": "Flux [µmol/s/m2]"
          }
         },
         "colorscale": [
          [
           0,
           "rgb(255,245,240)"
          ],
          [
           0.125,
           "rgb(254,224,210)"
          ],
          [
           0.25,
           "rgb(252,187,161)"
          ],
          [
           0.375,
           "rgb(252,146,114)"
          ],
          [
           0.5,
           "rgb(251,106,74)"
          ],
          [
           0.625,
           "rgb(239,59,44)"
          ],
          [
           0.75,
           "rgb(203,24,29)"
          ],
          [
           0.875,
           "rgb(165,15,21)"
          ],
          [
           1,
           "rgb(103,0,13)"
          ]
         ],
         "type": "heatmap",
         "uid": "74491119-4928-4f16-8da5-4f48b53368a9",
         "x": [
          "0.0 : 40.0",
          "5.0 : 35.0",
          "10.0 : 30.0",
          "15.0 : 25.0",
          "20.0 : 20.0",
          "25.0 : 15.0",
          "30.0 : 10.0",
          "35.0 : 5.0",
          "40.0 : 0.0"
         ],
         "y": [
          "Gln",
          "cACN",
          "PEP",
          "DHAP",
          "GAP",
          "Asp",
          "Mal"
         ],
         "z": [
          [
           null,
           null,
           null,
           null,
           null,
           null,
           null,
           null,
           0.3019894338564305
          ],
          [
           null,
           null,
           null,
           null,
           null,
           null,
           null,
           null,
           0.313845831878149
          ],
          [
           null,
           null,
           null,
           null,
           null,
           null,
           null,
           null,
           0.8815580701952124
          ],
          [
           null,
           22.36782894993308,
           null,
           15.149320292740846,
           null,
           8.006463149881776,
           null,
           null,
           2.564480843167299
          ],
          [
           32.117331653203145,
           6.1374296026341595,
           24.89563288410169,
           6.137429602635209,
           17.715321323947574,
           6.137429602636492,
           10.588279403485952,
           7.065323615064364,
           2.312372548763994
          ],
          [
           40,
           35,
           30,
           25,
           20,
           15,
           10,
           5,
           null
          ],
          [
           null,
           5,
           10,
           15,
           20,
           25,
           30,
           35,
           40
          ]
         ]
        }
       ],
       "layout": {
        "margin": {
         "b": 100
        },
        "title": {
         "text": "Mesophyll ==> Bundlesheat Transport"
        },
        "width": 500,
        "xaxis": {
         "tickangle": 45,
         "title": {
          "text": "Mal : Asp Exchange"
         }
        },
        "yaxis": {
         "tickmode": "array",
         "ticktext": [
          "Gln",
          "cACN",
          "PEP",
          "DHAP",
          "GAP",
          "Asp",
          "Mal"
         ],
         "tickvals": [
          0,
          1,
          2,
          3,
          4,
          5,
          6
         ],
         "title": {
          "text": "Transport Metabolites"
         }
        }
       }
      },
      "text/html": [
       "<div>\n",
       "        \n",
       "        \n",
       "            <div id=\"00d4b527-ccab-43dc-ae03-0064fb7138f1\" class=\"plotly-graph-div\"></div>\n",
       "            <script type=\"text/javascript\">\n",
       "                require([\"plotly\"], function(Plotly) {\n",
       "                    window.PLOTLYENV=window.PLOTLYENV || {};\n",
       "                    window.PLOTLYENV.BASE_URL='https://plot.ly';\n",
       "                    \n",
       "                if (document.getElementById(\"00d4b527-ccab-43dc-ae03-0064fb7138f1\")) {\n",
       "                    Plotly.newPlot(\n",
       "                        '00d4b527-ccab-43dc-ae03-0064fb7138f1',\n",
       "                        [{\"colorbar\": {\"title\": {\"side\": \"right\", \"text\": \"Flux [\\u00b5mol/s/m2]\"}}, \"colorscale\": [[0.0, \"rgb(255,245,240)\"], [0.125, \"rgb(254,224,210)\"], [0.25, \"rgb(252,187,161)\"], [0.375, \"rgb(252,146,114)\"], [0.5, \"rgb(251,106,74)\"], [0.625, \"rgb(239,59,44)\"], [0.75, \"rgb(203,24,29)\"], [0.875, \"rgb(165,15,21)\"], [1.0, \"rgb(103,0,13)\"]], \"type\": \"heatmap\", \"uid\": \"d99dc025-c229-48e1-bba3-1fb2f0068909\", \"x\": [\"0.0 : 40.0\", \"5.0 : 35.0\", \"10.0 : 30.0\", \"15.0 : 25.0\", \"20.0 : 20.0\", \"25.0 : 15.0\", \"30.0 : 10.0\", \"35.0 : 5.0\", \"40.0 : 0.0\"], \"y\": [\"Gln\", \"cACN\", \"PEP\", \"DHAP\", \"GAP\", \"Asp\", \"Mal\"], \"z\": [[null, null, null, null, null, null, null, null, 0.3019894338564305], [null, null, null, null, null, null, null, null, 0.313845831878149], [null, null, null, null, null, null, null, null, 0.8815580701952124], [null, 22.36782894993308, null, 15.149320292740846, null, 8.006463149881776, null, null, 2.564480843167299], [32.117331653203145, 6.1374296026341595, 24.89563288410169, 6.137429602635209, 17.715321323947574, 6.137429602636492, 10.588279403485952, 7.065323615064364, 2.312372548763994], [40.0, 35.0, 30.0, 25.0, 20.0, 15.0, 10.0, 5.0, null], [null, 5.0, 10.0, 15.0, 20.0, 25.0, 30.0, 35.0, 40.0]]}],\n",
       "                        {\"margin\": {\"b\": 100}, \"title\": {\"text\": \"Mesophyll ==> Bundlesheat Transport\"}, \"width\": 500, \"xaxis\": {\"tickangle\": 45, \"title\": {\"text\": \"Mal : Asp Exchange\"}}, \"yaxis\": {\"tickmode\": \"array\", \"ticktext\": [\"Gln\", \"cACN\", \"PEP\", \"DHAP\", \"GAP\", \"Asp\", \"Mal\"], \"tickvals\": [0, 1, 2, 3, 4, 5, 6], \"title\": {\"text\": \"Transport Metabolites\"}}},\n",
       "                        {\"plotlyServerURL\": \"https://plot.ly\", \"linkText\": \"Export to plot.ly\", \"showLink\": false}\n",
       "                    )\n",
       "                };\n",
       "                });\n",
       "            </script>\n",
       "        </div>"
      ]
     },
     "metadata": {},
     "output_type": "display_data"
    },
    {
     "data": {
      "application/vnd.plotly.v1+json": {
       "config": {
        "linkText": "Export to plot.ly",
        "plotlyServerURL": "https://plot.ly",
        "showLink": false
       },
       "data": [
        {
         "colorbar": {
          "title": {
           "side": "right",
           "text": "Flux [µmol/s/m2]"
          }
         },
         "colorscale": [
          [
           0,
           "rgb(247,251,255)"
          ],
          [
           0.125,
           "rgb(222,235,247)"
          ],
          [
           0.25,
           "rgb(198,219,239)"
          ],
          [
           0.375,
           "rgb(158,202,225)"
          ],
          [
           0.5,
           "rgb(107,174,214)"
          ],
          [
           0.625,
           "rgb(66,146,198)"
          ],
          [
           0.75,
           "rgb(33,113,181)"
          ],
          [
           0.875,
           "rgb(8,81,156)"
          ],
          [
           1,
           "rgb(8,48,107)"
          ]
         ],
         "type": "heatmap",
         "uid": "cfcf02fb-d5fd-48e2-a803-86242caaaea8",
         "x": [
          "0.0 : 40.0",
          "5.0 : 35.0",
          "10.0 : 30.0",
          "15.0 : 25.0",
          "20.0 : 20.0",
          "25.0 : 15.0",
          "30.0 : 10.0",
          "35.0 : 5.0",
          "40.0 : 0.0"
         ],
         "y": [
          "Cit",
          "PGA",
          "2PGA",
          "PEP",
          "Pyr",
          "Ala"
         ],
         "z": [
          [
           null,
           null,
           null,
           null,
           null,
           null,
           null,
           null,
           0.3222150541378097
          ],
          [
           null,
           null,
           null,
           null,
           1.4856399278721235,
           2.9142113564386065,
           4.358598007428488,
           5.8356422189889035,
           5.758411462126495
          ],
          [
           null,
           3.0146705587458347,
           4.405044890282826,
           5.739093402241809,
           5.739093402256773,
           5.739093402259312,
           4.7125590412952425,
           1.2296813960754134,
           null
          ],
          [
           32.11733165320317,
           25.490587993821638,
           20.49058799381875,
           15.490587993809756,
           10.490587993818682,
           5.49058799382044,
           1.5171223547622241,
           null,
           null
          ],
          [
           1.0210451066187718,
           6.021045106619974,
           11.021045106620377,
           16.028019458448238,
           21.028019458441428,
           26.028019458440138,
           31.02104510662788,
           36.02801945844143,
           40.09903579593479
          ],
          [
           38.97198054156061,
           33.971980541545776,
           28.971980541558665,
           23.965006189727156,
           18.965006189737522,
           13.965006189739395,
           8.97198054154842,
           3.9650061897375646,
           null
          ]
         ]
        }
       ],
       "layout": {
        "margin": {
         "b": 100
        },
        "title": {
         "text": "Bundlesheat ==> Mesophyll Transport"
        },
        "width": 500,
        "xaxis": {
         "tickangle": 45,
         "title": {
          "text": "Mal : Asp Exchange"
         }
        },
        "yaxis": {
         "tickmode": "array",
         "ticktext": [
          "Cit",
          "PGA",
          "2PGA",
          "PEP",
          "Pyr",
          "Ala"
         ],
         "tickvals": [
          0,
          1,
          2,
          3,
          4,
          5
         ],
         "title": {
          "text": "Transport Metabolites"
         }
        }
       }
      },
      "text/html": [
       "<div>\n",
       "        \n",
       "        \n",
       "            <div id=\"50728f5b-e24a-42d6-a162-56ecd3f02799\" class=\"plotly-graph-div\"></div>\n",
       "            <script type=\"text/javascript\">\n",
       "                require([\"plotly\"], function(Plotly) {\n",
       "                    window.PLOTLYENV=window.PLOTLYENV || {};\n",
       "                    window.PLOTLYENV.BASE_URL='https://plot.ly';\n",
       "                    \n",
       "                if (document.getElementById(\"50728f5b-e24a-42d6-a162-56ecd3f02799\")) {\n",
       "                    Plotly.newPlot(\n",
       "                        '50728f5b-e24a-42d6-a162-56ecd3f02799',\n",
       "                        [{\"colorbar\": {\"title\": {\"side\": \"right\", \"text\": \"Flux [\\u00b5mol/s/m2]\"}}, \"colorscale\": [[0.0, \"rgb(247,251,255)\"], [0.125, \"rgb(222,235,247)\"], [0.25, \"rgb(198,219,239)\"], [0.375, \"rgb(158,202,225)\"], [0.5, \"rgb(107,174,214)\"], [0.625, \"rgb(66,146,198)\"], [0.75, \"rgb(33,113,181)\"], [0.875, \"rgb(8,81,156)\"], [1.0, \"rgb(8,48,107)\"]], \"type\": \"heatmap\", \"uid\": \"52bb7b3e-31fe-4e44-8053-ca4a9345d663\", \"x\": [\"0.0 : 40.0\", \"5.0 : 35.0\", \"10.0 : 30.0\", \"15.0 : 25.0\", \"20.0 : 20.0\", \"25.0 : 15.0\", \"30.0 : 10.0\", \"35.0 : 5.0\", \"40.0 : 0.0\"], \"y\": [\"Cit\", \"PGA\", \"2PGA\", \"PEP\", \"Pyr\", \"Ala\"], \"z\": [[null, null, null, null, null, null, null, null, 0.3222150541378097], [null, null, null, null, 1.4856399278721235, 2.9142113564386065, 4.358598007428488, 5.8356422189889035, 5.758411462126495], [null, 3.0146705587458347, 4.405044890282826, 5.739093402241809, 5.739093402256773, 5.739093402259312, 4.7125590412952425, 1.2296813960754134, null], [32.11733165320317, 25.490587993821638, 20.49058799381875, 15.490587993809756, 10.490587993818682, 5.49058799382044, 1.5171223547622241, null, null], [1.0210451066187718, 6.021045106619974, 11.021045106620377, 16.028019458448238, 21.028019458441428, 26.028019458440138, 31.02104510662788, 36.02801945844143, 40.09903579593479], [38.97198054156061, 33.971980541545776, 28.971980541558665, 23.965006189727156, 18.965006189737522, 13.965006189739395, 8.97198054154842, 3.9650061897375646, null]]}],\n",
       "                        {\"margin\": {\"b\": 100}, \"title\": {\"text\": \"Bundlesheat ==> Mesophyll Transport\"}, \"width\": 500, \"xaxis\": {\"tickangle\": 45, \"title\": {\"text\": \"Mal : Asp Exchange\"}}, \"yaxis\": {\"tickmode\": \"array\", \"ticktext\": [\"Cit\", \"PGA\", \"2PGA\", \"PEP\", \"Pyr\", \"Ala\"], \"tickvals\": [0, 1, 2, 3, 4, 5], \"title\": {\"text\": \"Transport Metabolites\"}}},\n",
       "                        {\"plotlyServerURL\": \"https://plot.ly\", \"linkText\": \"Export to plot.ly\", \"showLink\": false}\n",
       "                    )\n",
       "                };\n",
       "                });\n",
       "            </script>\n",
       "        </div>"
      ]
     },
     "metadata": {},
     "output_type": "display_data"
    }
   ],
   "source": [
    "plot_transport(D_fba, D_exp, L_r_transport, xaxis_title, save_fig=save_fig)"
   ]
  }
 ],
 "metadata": {
  "anaconda-cloud": {},
  "kernelspec": {
   "display_name": "Python [default]",
   "language": "python",
   "name": "python2"
  },
  "language_info": {
   "codemirror_mode": {
    "name": "ipython",
    "version": 2
   },
   "file_extension": ".py",
   "mimetype": "text/x-python",
   "name": "python",
   "nbconvert_exporter": "python",
   "pygments_lexer": "ipython2",
   "version": "2.7.6"
  },
  "latex_envs": {
   "LaTeX_envs_menu_present": true,
   "autoclose": false,
   "autocomplete": true,
   "bibliofile": "biblio.bib",
   "cite_by": "apalike",
   "current_citInitial": 1,
   "eqLabelWithNumbers": true,
   "eqNumInitial": 1,
   "hotkeys": {
    "equation": "Ctrl-E",
    "itemize": "Ctrl-I"
   },
   "labels_anchors": false,
   "latex_user_defs": false,
   "report_style_numbering": false,
   "user_envs_cfg": false
  }
 },
 "nbformat": 4,
 "nbformat_minor": 2
}
