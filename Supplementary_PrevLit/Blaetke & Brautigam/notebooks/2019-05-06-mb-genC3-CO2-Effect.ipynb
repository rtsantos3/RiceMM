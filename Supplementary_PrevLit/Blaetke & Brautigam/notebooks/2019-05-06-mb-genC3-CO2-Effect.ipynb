{
 "cells": [
  {
   "cell_type": "markdown",
   "metadata": {
    "run_control": {
     "marked": true
    }
   },
   "source": [
    "# Effect of the CO2 uptake rate on C3 metabolism\n"
   ]
  },
  {
   "cell_type": "markdown",
   "metadata": {
    "run_control": {
     "marked": true
    }
   },
   "source": [
    "## 0. Initialization"
   ]
  },
  {
   "cell_type": "markdown",
   "metadata": {
    "run_control": {
     "marked": true
    }
   },
   "source": [
    "### 0.1 Load Packages"
   ]
  },
  {
   "cell_type": "code",
   "execution_count": 8,
   "metadata": {
    "ExecuteTime": {
     "end_time": "2019-05-06T13:44:27.442369Z",
     "start_time": "2019-05-06T15:44:25.869165+02:00"
    },
    "code_folding": [],
    "run_control": {
     "marked": true
    }
   },
   "outputs": [
    {
     "ename": "ModuleNotFoundError",
     "evalue": "No module named 'init_notebook'",
     "output_type": "error",
     "traceback": [
      "\u001b[0;31m---------------------------------------------------------------------------\u001b[0m",
      "\u001b[0;31mModuleNotFoundError\u001b[0m                       Traceback (most recent call last)",
      "\u001b[0;32m<ipython-input-8-775e25926fa3>\u001b[0m in \u001b[0;36m<module>\u001b[0;34m\u001b[0m\n\u001b[1;32m      4\u001b[0m \u001b[0;34m\u001b[0m\u001b[0m\n\u001b[1;32m      5\u001b[0m \u001b[0;31m#Import init for initialisation & loading user-defined functions\u001b[0m\u001b[0;34m\u001b[0m\u001b[0;34m\u001b[0m\u001b[0;34m\u001b[0m\u001b[0m\n\u001b[0;32m----> 6\u001b[0;31m \u001b[0;32mfrom\u001b[0m \u001b[0minit_fba\u001b[0m \u001b[0;32mimport\u001b[0m \u001b[0;34m*\u001b[0m\u001b[0;34m\u001b[0m\u001b[0;34m\u001b[0m\u001b[0m\n\u001b[0m\u001b[1;32m      7\u001b[0m \u001b[0;34m\u001b[0m\u001b[0m\n\u001b[1;32m      8\u001b[0m \u001b[0;31m# #Initialize notebook settings\u001b[0m\u001b[0;34m\u001b[0m\u001b[0;34m\u001b[0m\u001b[0;34m\u001b[0m\u001b[0m\n",
      "\u001b[0;32m~/Desktop/CBM_C3_C4_Metabolism/src/init_fba/__init__.py\u001b[0m in \u001b[0;36m<module>\u001b[0;34m\u001b[0m\n\u001b[1;32m     58\u001b[0m \u001b[0;34m\u001b[0m\u001b[0m\n\u001b[1;32m     59\u001b[0m \u001b[0;32mglobal\u001b[0m \u001b[0minit_notebook\u001b[0m\u001b[0;34m\u001b[0m\u001b[0;34m\u001b[0m\u001b[0m\n\u001b[0;32m---> 60\u001b[0;31m \u001b[0;32mfrom\u001b[0m \u001b[0minit_notebook\u001b[0m \u001b[0;32mimport\u001b[0m \u001b[0minit_notebook\u001b[0m\u001b[0;34m\u001b[0m\u001b[0;34m\u001b[0m\u001b[0m\n\u001b[0m\u001b[1;32m     61\u001b[0m \u001b[0;34m\u001b[0m\u001b[0m\n\u001b[1;32m     62\u001b[0m \u001b[0;32mglobal\u001b[0m \u001b[0mload_sbml_model\u001b[0m\u001b[0;34m\u001b[0m\u001b[0;34m\u001b[0m\u001b[0m\n",
      "\u001b[0;31mModuleNotFoundError\u001b[0m: No module named 'init_notebook'"
     ]
    }
   ],
   "source": [
    "#Import sys\n",
    "import sys \n",
    "sys.path.append(\"../src/\") \n",
    "\n",
    "#Import init for initialisation & loading user-defined functions\n",
    "from init_fba import *\n",
    "\n",
    "# #Initialize notebook settings\n",
    "theNotebook = '2019-05-06-mb-genC3-CO2-Effect'\n",
    "init_notebook(theNotebook)\n",
    "\n",
    "#load sbml model\n",
    "c3_model = load_sbml_model()\n",
    "\n",
    "#inf  \n",
    "inf = float(1e6) "
   ]
  },
  {
   "cell_type": "markdown",
   "metadata": {
    "run_control": {
     "marked": true
    }
   },
   "source": [
    "## 1. C3 Model"
   ]
  },
  {
   "cell_type": "markdown",
   "metadata": {
    "ExecuteTime": {
     "end_time": "2017-06-20T12:42:07.597174",
     "start_time": "2017-06-20T12:42:07.594879"
    },
    "run_control": {
     "marked": true
    }
   },
   "source": [
    "### 1.1 Constraints"
   ]
  },
  {
   "cell_type": "code",
   "execution_count": null,
   "metadata": {
    "ExecuteTime": {
     "end_time": "2019-05-06T13:44:27.462766Z",
     "start_time": "2019-05-06T15:44:27.443742+02:00"
    },
    "run_control": {
     "marked": true
    }
   },
   "outputs": [],
   "source": [
    "#CONSTRAINT: Set flux of all export reaction to zero\n",
    "for r_obj in c3_model.reactions:\n",
    "    r_id = r_obj.id\n",
    "    if r_id[0:2] == \"Ex\":\n",
    "        r_obj.bounds = (0.,0.)\n",
    "\n",
    "#CONSTRAINT: Divergent fluxes of export and import reactions\n",
    "set_bounds('Im_CO2', (-inf, inf), c3_model)\n",
    "set_bounds('Im_H2O', (-inf, inf), c3_model)\n",
    "set_bounds('Im_H2S', (0.,0.), c3_model)\n",
    "set_bounds('Im_NH4', (0., 0.), c3_model)\n",
    "set_bounds('Im_NO3', (0., inf), c3_model)\n",
    "set_bounds('Im_Pi', (0., inf), c3_model)\n",
    "set_bounds('Im_SO4', (0., inf), c3_model)\n",
    "set_bounds('Ex_O2', (-inf, inf), c3_model)\n",
    "set_bounds('Ex_Suc', (0., inf), c3_model)\n",
    "set_bounds('Ex_starch', (0., inf), c3_model)\n",
    "set_bounds('Ex_AA', (0., inf), c3_model)\n",
    "\n",
    "#CONSTRAINT: \n",
    "set_bounds('G6PDH_h', (0.,0.), c3_model)\n",
    "set_bounds('PPIF6PK_c', (0,0.), c3_model)\n",
    "\n",
    "#CONSTRAINT: max. photon consumption 1000 μE\n",
    "set_bounds('Im_hnu', (0, 1000), c3_model)\n",
    "\n",
    "#CONSTRAINT: CO2 uptake rate in C3 plants is about 20 μmol/(m2*s)\n",
    "f_CO2 = 20 #[μmol/(m2*s)] \n",
    "set_bounds('Im_CO2', (0, f_CO2), c3_model)"
   ]
  },
  {
   "cell_type": "code",
   "execution_count": null,
   "metadata": {
    "ExecuteTime": {
     "end_time": "2019-05-06T13:44:27.468894Z",
     "start_time": "2019-05-06T15:44:27.464134+02:00"
    },
    "run_control": {
     "marked": true
    }
   },
   "outputs": [],
   "source": [
    "#CONSTRAINT: Maintenace cost\n",
    "\n",
    "atp_cost_L3_m = 0.009111187245501572 #Mitochondria-L3-ATP Cost [µmol*s-1*m-2]\n",
    "atp_cost_L3_h = 0.15270708327974447 #Chloroplast-L3-ATP Cost [µmol*s-1*m-2]\n",
    "atp_cost_L3_p = 0.0076669066992201855 #Peroxisome-L3-ATP Cost [µmol*s-1*m-2]\n",
    "atp_cost_L3_c = 0.042683072918274702 #Cytosl/Other-L3-ATP Cost [µmol*s-1*m-2]\n",
    "\n",
    "set_fixed_flux('NGAM_c',atp_cost_L3_c + atp_cost_L3_p, c3_model)\n",
    "set_fixed_flux('NGAM_m',atp_cost_L3_m, c3_model)\n",
    "set_fixed_flux('NGAM_h',atp_cost_L3_h, c3_model)"
   ]
  },
  {
   "cell_type": "code",
   "execution_count": null,
   "metadata": {
    "ExecuteTime": {
     "end_time": "2019-05-06T13:44:27.480379Z",
     "start_time": "2019-05-06T15:44:27.470321+02:00"
    }
   },
   "outputs": [],
   "source": [
    "#CONSTRAINT: Output of sucrose : total amino acid and sucrose : starch\n",
    "set_fixed_flux_ratio({'Ex_Suc':2.2,'Ex_AA':1.0}, c3_model)\n",
    "set_fixed_flux_ratio({'Ex_Suc':1.0,'Ex_starch':1.0}, c3_model)"
   ]
  },
  {
   "cell_type": "code",
   "execution_count": null,
   "metadata": {
    "ExecuteTime": {
     "end_time": "2019-05-06T13:44:27.489431Z",
     "start_time": "2019-05-06T15:44:27.481898+02:00"
    }
   },
   "outputs": [],
   "source": [
    "#CONSTRAINT: oxygenation : decarboxylation = 1 : 10\n",
    "set_fixed_flux_ratio({'RBC_h':10,'RBO_h':1}, c3_model)"
   ]
  },
  {
   "cell_type": "code",
   "execution_count": null,
   "metadata": {
    "ExecuteTime": {
     "end_time": "2019-05-06T13:44:27.495582Z",
     "start_time": "2019-05-06T15:44:27.491840+02:00"
    },
    "run_control": {
     "marked": true
    }
   },
   "outputs": [],
   "source": [
    "#CONSTRAINT: fluxes through the chloroplastic NADPH dehydrogenase and plastoquinol oxidase were set to zero \n",
    "#because the contributions of NADPH dehydrogenase (Yamamoto et al., 2011) and plastoquinol oxidase \n",
    "#(Josse et al., 2000) to photosynthesis are thought to be minor.\n",
    "set_bounds('AOX4_h',(0,0), c3_model)\n",
    "set_bounds('iCitDHNADP_h',(0,0), c3_model)"
   ]
  },
  {
   "cell_type": "code",
   "execution_count": null,
   "metadata": {
    "ExecuteTime": {
     "end_time": "2019-05-06T13:44:27.500110Z",
     "start_time": "2019-05-06T15:44:27.497040+02:00"
    }
   },
   "outputs": [],
   "source": [
    "#CONSTRAINT: NTT is only active at night\n",
    "set_fixed_flux('Tr_NTT',0, c3_model)"
   ]
  },
  {
   "cell_type": "code",
   "execution_count": null,
   "metadata": {
    "ExecuteTime": {
     "end_time": "2019-05-06T13:44:27.505273Z",
     "start_time": "2019-05-06T15:44:27.501802+02:00"
    }
   },
   "outputs": [],
   "source": [
    "#CONSTRAINT: No uncoupled pyruvate transport\n",
    "set_bounds('Tr_Pyr1',(0,0), c3_model)\n",
    "set_bounds('Tr_Pyr2',(0,0), c3_model)"
   ]
  },
  {
   "cell_type": "markdown",
   "metadata": {
    "run_control": {
     "marked": true
    }
   },
   "source": [
    "## 2. FBA"
   ]
  },
  {
   "cell_type": "code",
   "execution_count": null,
   "metadata": {
    "ExecuteTime": {
     "end_time": "2019-05-06T13:44:28.871240Z",
     "start_time": "2019-05-06T15:44:27.506777+02:00"
    }
   },
   "outputs": [],
   "source": [
    "#Set FBA solver\n",
    "c3_model.solver = \"glpk\"\n",
    "\n",
    "#Optimize/Maximize sucrose output\n",
    "result_fba_c3 = c3_model.optimize('maximize') #perform FBA\n",
    "Ex_Suc = c3_model.reactions.get_by_id(\"Ex_Suc\")\n",
    "Ex_Suc.objective_coefficient = 1.\n",
    "\n",
    "#Optimize/Minimize total flux\n",
    "if result_fba_c3.status == 'optimal': \n",
    "    result_pfba_c3 = cobra.flux_analysis.parsimonious.pfba(c3_model)\n",
    "\n",
    "#Fetch flux for CO2 uptake\n",
    "flux_CO2 = result_pfba_c3.fluxes['Im_CO2']\n",
    "\n",
    "\n",
    "#Array defining proprtion of CO2 uptake \n",
    "L_CO2 = np.linspace(0,1,21)\n",
    "\n",
    "#Initialize dictionary to store results\n",
    "D_fba = {}\n",
    "\n",
    "#Iterate over proportions of CO2 uptake\n",
    "for v_co2 in L_CO2:\n",
    "    \n",
    "    #Fix upper flux bound for photon uptake\n",
    "    set_bounds('Im_CO2', (0, flux_CO2 * v_co2), c3_model)\n",
    "    \n",
    "    #Optimize/Maximize sucrose output\n",
    "    result_fba_c3 = c3_model.optimize('maximize') #perform FBA\n",
    "    \n",
    "    #Optimize/Minimize total flux\n",
    "    if result_fba_c3.status == 'optimal': # check if feasible\n",
    "        result_pfba_c3  = cobra.flux_analysis.parsimonious.pfba(c3_model) #perform pFBA\n",
    "        D_fba[flux_CO2 * v_co2] = result_pfba_c3.fluxes\n",
    "    else:\n",
    "        D_fba[flux_CO2 * v_co2] = pd.Series(pd.Series( index=[r_obj.id for r_obj in c3_model.reactions], data = [0]*len(c3_model.reactions)))"
   ]
  },
  {
   "cell_type": "markdown",
   "metadata": {
    "ExecuteTime": {
     "end_time": "2018-02-06T17:54:23.611334+01:00",
     "start_time": "2018-02-06T17:54:23.609194"
    },
    "run_control": {
     "marked": true
    }
   },
   "source": [
    "## 4 Figures"
   ]
  },
  {
   "cell_type": "code",
   "execution_count": null,
   "metadata": {
    "ExecuteTime": {
     "end_time": "2019-05-06T13:44:28.875121Z",
     "start_time": "2019-05-06T15:44:28.872593+02:00"
    }
   },
   "outputs": [],
   "source": [
    "xaxis_title = 'CO2 Uptake [µmol/s/m2]'\n",
    "save_fig = False"
   ]
  },
  {
   "cell_type": "code",
   "execution_count": null,
   "metadata": {
    "ExecuteTime": {
     "end_time": "2019-05-06T13:44:29.079245Z",
     "start_time": "2019-05-06T15:44:28.877151+02:00"
    }
   },
   "outputs": [],
   "source": [
    "L_r = ['Ex_Suc','Ex_AA']\n",
    "create_scatter_plot_rxn_c3(D_fba, L_r, 'Phloem Export', xaxis_title, save_fig = save_fig)"
   ]
  },
  {
   "cell_type": "code",
   "execution_count": null,
   "metadata": {
    "ExecuteTime": {
     "end_time": "2019-05-06T13:44:29.329402Z",
     "start_time": "2019-05-06T15:44:29.080701+02:00"
    }
   },
   "outputs": [],
   "source": [
    "L_r = ['PSI_h','PSII_h']\n",
    "create_bar_plot_met_c3(c3_model, D_fba, L_r, 'hnu_h', 'Photon Uptake by Photosystems', xaxis_title, save_fig = save_fig)"
   ]
  },
  {
   "cell_type": "code",
   "execution_count": null,
   "metadata": {
    "ExecuteTime": {
     "end_time": "2019-05-06T13:44:29.477270Z",
     "start_time": "2019-05-06T15:44:29.330810+02:00"
    },
    "run_control": {
     "marked": true
    }
   },
   "outputs": [],
   "source": [
    "L_r = ['NDH1_h','NDH2_h']\n",
    "create_scatter_plot_rxn_c3(D_fba, L_r, 'Cyclic Electron Flow', xaxis_title, save_fig = save_fig)"
   ]
  }
 ],
 "metadata": {
  "anaconda-cloud": {},
  "kernelspec": {
   "display_name": "Python 3",
   "language": "python",
   "name": "python3"
  },
  "language_info": {
   "codemirror_mode": {
    "name": "ipython",
    "version": 3
   },
   "file_extension": ".py",
   "mimetype": "text/x-python",
   "name": "python",
   "nbconvert_exporter": "python",
   "pygments_lexer": "ipython3",
   "version": "3.8.8"
  },
  "latex_envs": {
   "LaTeX_envs_menu_present": true,
   "autoclose": false,
   "autocomplete": true,
   "bibliofile": "biblio.bib",
   "cite_by": "apalike",
   "current_citInitial": 1,
   "eqLabelWithNumbers": true,
   "eqNumInitial": 1,
   "hotkeys": {
    "equation": "Ctrl-E",
    "itemize": "Ctrl-I"
   },
   "labels_anchors": false,
   "latex_user_defs": false,
   "report_style_numbering": false,
   "user_envs_cfg": false
  },
  "varInspector": {
   "cols": {
    "lenName": 16,
    "lenType": 16,
    "lenVar": 40
   },
   "kernels_config": {
    "python": {
     "delete_cmd_postfix": "",
     "delete_cmd_prefix": "del ",
     "library": "var_list.py",
     "varRefreshCmd": "print(var_dic_list())"
    },
    "r": {
     "delete_cmd_postfix": ") ",
     "delete_cmd_prefix": "rm(",
     "library": "var_list.r",
     "varRefreshCmd": "cat(var_dic_list()) "
    }
   },
   "types_to_exclude": [
    "module",
    "function",
    "builtin_function_or_method",
    "instance",
    "_Feature"
   ],
   "window_display": false
  }
 },
 "nbformat": 4,
 "nbformat_minor": 2
}
