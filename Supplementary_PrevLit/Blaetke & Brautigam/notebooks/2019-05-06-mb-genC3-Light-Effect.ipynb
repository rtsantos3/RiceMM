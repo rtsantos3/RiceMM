{
 "cells": [
  {
   "cell_type": "markdown",
   "metadata": {
    "run_control": {
     "marked": true
    }
   },
   "source": [
    "# Effect of the PPFD on C3 metabolism"
   ]
  },
  {
   "cell_type": "markdown",
   "metadata": {
    "run_control": {
     "marked": true
    }
   },
   "source": [
    "## 0. Initialization"
   ]
  },
  {
   "cell_type": "code",
   "execution_count": 1,
   "metadata": {
    "ExecuteTime": {
     "end_time": "2019-05-06T13:44:18.447149Z",
     "start_time": "2019-05-06T15:44:16.769472+02:00"
    },
    "code_folding": [],
    "run_control": {
     "marked": true
    }
   },
   "outputs": [
    {
     "name": "stderr",
     "output_type": "stream",
     "text": [
      "//anaconda/lib/python2.7/site-packages/cryptography/hazmat/primitives/constant_time.py:26 \u001b[1;31mCryptographyDeprecationWarning\u001b[0m: Support for your Python version is deprecated. The next version of cryptography will remove support. Please upgrade to a 2.7.x release that supports hmac.compare_digest as soon as possible.\n"
     ]
    },
    {
     "data": {
      "text/html": [
       "        <script type=\"text/javascript\">\n",
       "        window.PlotlyConfig = {MathJaxConfig: 'local'};\n",
       "        if (window.MathJax) {MathJax.Hub.Config({SVG: {font: \"STIX-Web\"}});}\n",
       "        if (typeof require !== 'undefined') {\n",
       "        require.undef(\"plotly\");\n",
       "        requirejs.config({\n",
       "            paths: {\n",
       "                'plotly': ['https://cdn.plot.ly/plotly-latest.min']\n",
       "            }\n",
       "        });\n",
       "        require(['plotly'], function(Plotly) {\n",
       "            window._Plotly = Plotly;\n",
       "        });\n",
       "        }\n",
       "        </script>\n",
       "        "
      ]
     },
     "metadata": {},
     "output_type": "display_data"
    }
   ],
   "source": [
    "#Import sys\n",
    "import sys \n",
    "sys.path.append(\"../src/\") \n",
    "\n",
    "#Import init for initialisation & loading user-defined functions\n",
    "from init_fba import *\n",
    "\n",
    "#Initialize notebook settings\n",
    "theNotebook = '2019-05-06-mb-genC3-Light-Effect'\n",
    "init_notebook(theNotebook)\n",
    "\n",
    "#load sbml model\n",
    "c3_model = load_sbml_model()\n",
    "\n",
    "#inf  \n",
    "inf = float(1e6) "
   ]
  },
  {
   "cell_type": "markdown",
   "metadata": {
    "run_control": {
     "marked": true
    }
   },
   "source": [
    "## 1. C3 Model"
   ]
  },
  {
   "cell_type": "markdown",
   "metadata": {
    "ExecuteTime": {
     "end_time": "2017-06-20T12:42:07.597174",
     "start_time": "2017-06-20T12:42:07.594879"
    },
    "run_control": {
     "marked": true
    }
   },
   "source": [
    "### 1.1 Constraints"
   ]
  },
  {
   "cell_type": "code",
   "execution_count": 2,
   "metadata": {
    "ExecuteTime": {
     "end_time": "2019-05-06T13:44:18.468718Z",
     "start_time": "2019-05-06T15:44:18.448628+02:00"
    },
    "run_control": {
     "marked": true
    }
   },
   "outputs": [],
   "source": [
    "#CONSTRAINT: Set flux of all export reaction to zero\n",
    "for r_obj in c3_model.reactions:\n",
    "    r_id = r_obj.id\n",
    "    if r_id[0:2] == \"Ex\":\n",
    "        r_obj.bounds = (0.,0.)\n",
    "\n",
    "#CONSTRAINT: Divergent fluxes of export and import reactions\n",
    "set_bounds('Im_CO2', (-inf, inf), c3_model)\n",
    "set_bounds('Im_H2O', (-inf, inf), c3_model)\n",
    "set_bounds('Im_H2S', (0.,0.), c3_model)\n",
    "set_bounds('Im_NH4', (0., 0.), c3_model)\n",
    "set_bounds('Im_NO3', (0., inf), c3_model)\n",
    "set_bounds('Im_Pi', (0., inf), c3_model)\n",
    "set_bounds('Im_SO4', (0., inf), c3_model)\n",
    "set_bounds('Ex_O2', (-inf, inf), c3_model)\n",
    "set_bounds('Ex_Suc', (0., inf), c3_model)\n",
    "set_bounds('Ex_starch', (0., inf), c3_model)\n",
    "set_bounds('Ex_AA', (0., inf), c3_model)\n",
    "\n",
    "#CONSTRAINT: \n",
    "set_bounds('G6PDH_h', (0.,0.), c3_model)\n",
    "set_bounds('PPIF6PK_c', (0,0.), c3_model)\n",
    "\n",
    "#CONSTRAINT: max. photon consumption 1000 μE\n",
    "set_bounds('Im_hnu', (0, 1000), c3_model)\n",
    "\n",
    "#CONSTRAINT: CO2 uptake rate in C3 plants is about 20 μmol/(m2*s)\n",
    "f_CO2 = 20 #[μmol/(m2*s)] \n",
    "set_bounds('Im_CO2', (0, f_CO2), c3_model)"
   ]
  },
  {
   "cell_type": "code",
   "execution_count": 3,
   "metadata": {
    "ExecuteTime": {
     "end_time": "2019-05-06T13:44:18.474836Z",
     "start_time": "2019-05-06T15:44:18.470274+02:00"
    },
    "code_folding": [],
    "run_control": {
     "marked": true
    }
   },
   "outputs": [],
   "source": [
    "#CONSTRAINT: Maintenace cost\n",
    "\n",
    "atp_cost_L3_m = 0.009111187245501572 #Mitochondria-L3-ATP Cost [µmol*s-1*m-2]\n",
    "atp_cost_L3_h = 0.15270708327974447 #Chloroplast-L3-ATP Cost [µmol*s-1*m-2]\n",
    "atp_cost_L3_p = 0.0076669066992201855 #Peroxisome-L3-ATP Cost [µmol*s-1*m-2]\n",
    "atp_cost_L3_c = 0.042683072918274702 #Cytosl/Other-L3-ATP Cost [µmol*s-1*m-2]\n",
    "\n",
    "set_fixed_flux('NGAM_c',atp_cost_L3_c + atp_cost_L3_p, c3_model)\n",
    "set_fixed_flux('NGAM_m',atp_cost_L3_m, c3_model)\n",
    "set_fixed_flux('NGAM_h',atp_cost_L3_h, c3_model)"
   ]
  },
  {
   "cell_type": "code",
   "execution_count": 4,
   "metadata": {
    "ExecuteTime": {
     "end_time": "2019-05-06T13:44:18.489189Z",
     "start_time": "2019-05-06T15:44:18.476954+02:00"
    },
    "run_control": {
     "marked": true
    }
   },
   "outputs": [
    {
     "data": {
      "text/plain": [
       "<optlang.glpk_interface.Constraint at 0x106757510>"
      ]
     },
     "execution_count": 4,
     "metadata": {},
     "output_type": "execute_result"
    }
   ],
   "source": [
    "#CONSTRAINT: Output of sucrose : total amino acid and sucrose : starch\n",
    "set_fixed_flux_ratio({'Ex_Suc':2.2,'Ex_AA':1.0}, c3_model)\n",
    "set_fixed_flux_ratio({'Ex_Suc':1.0,'Ex_starch':1.0}, c3_model)"
   ]
  },
  {
   "cell_type": "code",
   "execution_count": 5,
   "metadata": {
    "ExecuteTime": {
     "end_time": "2019-05-06T13:44:18.498791Z",
     "start_time": "2019-05-06T15:44:18.490602+02:00"
    },
    "run_control": {
     "marked": true
    }
   },
   "outputs": [
    {
     "data": {
      "text/plain": [
       "<optlang.glpk_interface.Constraint at 0x1067507d0>"
      ]
     },
     "execution_count": 5,
     "metadata": {},
     "output_type": "execute_result"
    }
   ],
   "source": [
    "#CONSTRAINT: oxygenation : decarboxylation = 1 : 10\n",
    "set_fixed_flux_ratio({'RBC_h':10,'RBO_h':1}, c3_model)"
   ]
  },
  {
   "cell_type": "code",
   "execution_count": 6,
   "metadata": {
    "ExecuteTime": {
     "end_time": "2019-05-06T13:44:18.503231Z",
     "start_time": "2019-05-06T15:44:18.500148+02:00"
    },
    "collapsed": true,
    "run_control": {
     "marked": true
    }
   },
   "outputs": [],
   "source": [
    "#CONSTRAINT: fluxes through the chloroplastic NADPH dehydrogenase and plastoquinol oxidase were set to zero \n",
    "#because the contributions of NADPH dehydrogenase (Yamamoto et al., 2011) and plastoquinol oxidase \n",
    "#(Josse et al., 2000) to photosynthesis are thought to be minor.\n",
    "set_bounds('AOX4_h',(0,0), c3_model)\n",
    "set_bounds('iCitDHNADP_h',(0,0), c3_model)"
   ]
  },
  {
   "cell_type": "code",
   "execution_count": 7,
   "metadata": {
    "ExecuteTime": {
     "end_time": "2019-05-06T13:44:18.508018Z",
     "start_time": "2019-05-06T15:44:18.505655+02:00"
    },
    "collapsed": true,
    "run_control": {
     "marked": true
    }
   },
   "outputs": [],
   "source": [
    "#CONSTRAINT: NTT is only active at night\n",
    "set_fixed_flux('Tr_NTT',0, c3_model)"
   ]
  },
  {
   "cell_type": "code",
   "execution_count": 8,
   "metadata": {
    "ExecuteTime": {
     "end_time": "2019-05-06T13:44:18.513231Z",
     "start_time": "2019-05-06T15:44:18.510184+02:00"
    },
    "collapsed": true,
    "run_control": {
     "marked": true
    }
   },
   "outputs": [],
   "source": [
    "#CONSTRAINT: No uncoupled pyruvate transport\n",
    "set_bounds('Tr_Pyr1',(0,0), c3_model)\n",
    "set_bounds('Tr_Pyr2',(0,0), c3_model)"
   ]
  },
  {
   "cell_type": "markdown",
   "metadata": {
    "run_control": {
     "marked": true
    }
   },
   "source": [
    "## 2. FBA"
   ]
  },
  {
   "cell_type": "code",
   "execution_count": 9,
   "metadata": {
    "ExecuteTime": {
     "end_time": "2019-05-06T13:44:19.686816Z",
     "start_time": "2019-05-06T15:44:18.515552+02:00"
    },
    "run_control": {
     "marked": true
    }
   },
   "outputs": [
    {
     "name": "stderr",
     "output_type": "stream",
     "text": [
      "//anaconda/lib/python2.7/site-packages/cobra/util/solver.py:419: UserWarning:\n",
      "\n",
      "solver status is 'infeasible'\n",
      "\n"
     ]
    }
   ],
   "source": [
    "#Set FBA solver\n",
    "c3_model.solver = \"glpk\"\n",
    "\n",
    "#Optimize/Maximize sucrose output\n",
    "result_fba_c3 = c3_model.optimize('maximize') #perform FBA\n",
    "Ex_Suc = c3_model.reactions.get_by_id(\"Ex_Suc\")\n",
    "Ex_Suc.objective_coefficient = 1.\n",
    "\n",
    "#Optimize/Minimize total flux\n",
    "if result_fba_c3.status == 'optimal': \n",
    "    result_pfba_c3 = cobra.flux_analysis.parsimonious.pfba(c3_model)\n",
    "\n",
    "#Fetch flux for photon uptake\n",
    "flux_hnu = result_pfba_c3.fluxes['Im_hnu']\n",
    "\n",
    "#Array defining proprtion of light uptake \n",
    "L_hnu = np.linspace(0,2,21)\n",
    "\n",
    "#Initialize dictionary to store results\n",
    "D_fba = {}\n",
    "\n",
    "#Iterate over proportions of photon uptake\n",
    "for hnu in L_hnu:\n",
    "    \n",
    "    #Fix flux for photon uptake\n",
    "    set_bounds('Im_hnu', (flux_hnu * hnu, flux_hnu * hnu), c3_model)\n",
    "    \n",
    "    #Optimize/Maximize sucrose output\n",
    "    result_fba_c3 = c3_model.optimize('maximize') #perform FBA\n",
    "    \n",
    "    #Optimize/Minimize total flux\n",
    "    if result_fba_c3.status == 'optimal': # check if feasible\n",
    "        result_pfba_c3  = cobra.flux_analysis.parsimonious.pfba(c3_model) #perform pFBA\n",
    "        D_fba[hnu*flux_hnu] = result_pfba_c3.fluxes\n",
    "    else:\n",
    "        D_fba[hnu*flux_hnu] = pd.Series(pd.Series( index=[r_obj.id for r_obj in c3_model.reactions], data = [0]*len(c3_model.reactions)))"
   ]
  },
  {
   "cell_type": "markdown",
   "metadata": {
    "ExecuteTime": {
     "end_time": "2018-02-06T17:54:23.611334+01:00",
     "start_time": "2018-02-06T17:54:23.609194"
    },
    "run_control": {
     "marked": true
    }
   },
   "source": [
    "## 4 Figures"
   ]
  },
  {
   "cell_type": "code",
   "execution_count": 10,
   "metadata": {
    "ExecuteTime": {
     "end_time": "2019-05-06T13:44:19.690664Z",
     "start_time": "2019-05-06T15:44:19.688299+02:00"
    },
    "collapsed": true,
    "run_control": {
     "marked": true
    }
   },
   "outputs": [],
   "source": [
    "xaxis_title = 'PPFD [µE]'\n",
    "save_fig = False"
   ]
  },
  {
   "cell_type": "code",
   "execution_count": 11,
   "metadata": {
    "ExecuteTime": {
     "end_time": "2019-05-06T13:44:19.947726Z",
     "start_time": "2019-05-06T15:44:19.692102+02:00"
    },
    "run_control": {
     "marked": true
    }
   },
   "outputs": [
    {
     "data": {
      "application/vnd.plotly.v1+json": {
       "config": {
        "linkText": "Export to plot.ly",
        "plotlyServerURL": "https://plot.ly",
        "showLink": false
       },
       "data": [
        {
         "mode": "lines+markers",
         "name": "Ex_Suc",
         "type": "scatter",
         "uid": "2b0b89c8-9816-4dd2-8f5c-62ea20ad4309",
         "x": [
          0,
          19.371121164846457,
          38.742242329692914,
          58.11336349453938,
          77.48448465938583,
          96.85560582423228,
          116.22672698907876,
          135.5978481539252,
          154.96896931877166,
          174.34009048361813,
          193.71121164846457,
          213.08233281331104,
          232.4534539781575,
          251.82457514300395,
          271.1956963078504,
          290.56681747269687,
          309.9379386375433,
          329.3090598023898,
          348.68018096723625,
          368.0513021320827,
          387.42242329692914
         ],
         "y": [
          0,
          0.07626410540510635,
          0.1532258222967266,
          0.23018753919273838,
          0.30714925608875326,
          0.3841109729847637,
          0.4610726898807802,
          0.5380344067767868,
          0.6149961236728022,
          0.691957840568808,
          0.7671787003295294,
          0.7671787003295379,
          0.7671787003295429,
          0.7671787003295393,
          0.7671787003295407,
          0.7671787003295385,
          0.7671787003295405,
          0.76717870032954,
          0.7671787003295416,
          0.7671787003295418,
          0.7671787003295408
         ]
        },
        {
         "mode": "lines+markers",
         "name": "Ex_AA",
         "type": "scatter",
         "uid": "55fdb163-d97c-46ba-b8a0-28c2fa51ca20",
         "x": [
          0,
          19.371121164846457,
          38.742242329692914,
          58.11336349453938,
          77.48448465938583,
          96.85560582423228,
          116.22672698907876,
          135.5978481539252,
          154.96896931877166,
          174.34009048361813,
          193.71121164846457,
          213.08233281331104,
          232.4534539781575,
          251.82457514300395,
          271.1956963078504,
          290.56681747269687,
          309.9379386375433,
          329.3090598023898,
          348.68018096723625,
          368.0513021320827,
          387.42242329692914
         ],
         "y": [
          0,
          0.03466550245686652,
          0.06964810104396663,
          0.10463069963306289,
          0.13961329822216056,
          0.17459589681125623,
          0.20957849540035461,
          0.24456109398944856,
          0.27954369257854644,
          0.31452629116763997,
          0.34871759105887695,
          0.34871759105888084,
          0.3487175910588831,
          0.34871759105888145,
          0.3487175910588821,
          0.3487175910588811,
          0.348717591058882,
          0.34871759105888184,
          0.3487175910588825,
          0.3487175910588826,
          0.34871759105888217
         ]
        }
       ],
       "layout": {
        "title": {
         "text": "Phloem Export"
        },
        "width": 500,
        "xaxis": {
         "title": {
          "text": "PPFD [µE]"
         }
        },
        "yaxis": {
         "title": {
          "text": "Flux [µmol/s/m2]"
         }
        }
       }
      },
      "text/html": [
       "<div>\n",
       "        \n",
       "        \n",
       "            <div id=\"6c7e7882-c327-4d82-bbae-78220b33501f\" class=\"plotly-graph-div\"></div>\n",
       "            <script type=\"text/javascript\">\n",
       "                require([\"plotly\"], function(Plotly) {\n",
       "                    window.PLOTLYENV=window.PLOTLYENV || {};\n",
       "                    window.PLOTLYENV.BASE_URL='https://plot.ly';\n",
       "                    \n",
       "                if (document.getElementById(\"6c7e7882-c327-4d82-bbae-78220b33501f\")) {\n",
       "                    Plotly.newPlot(\n",
       "                        '6c7e7882-c327-4d82-bbae-78220b33501f',\n",
       "                        [{\"mode\": \"lines+markers\", \"name\": \"Ex_Suc\", \"type\": \"scatter\", \"uid\": \"ffbc65db-8860-4684-bbb9-dd0c66495cf8\", \"x\": [0.0, 19.371121164846457, 38.742242329692914, 58.11336349453938, 77.48448465938583, 96.85560582423228, 116.22672698907876, 135.5978481539252, 154.96896931877166, 174.34009048361813, 193.71121164846457, 213.08233281331104, 232.4534539781575, 251.82457514300395, 271.1956963078504, 290.56681747269687, 309.9379386375433, 329.3090598023898, 348.68018096723625, 368.0513021320827, 387.42242329692914], \"y\": [0, 0.07626410540510635, 0.1532258222967266, 0.23018753919273838, 0.30714925608875326, 0.3841109729847637, 0.4610726898807802, 0.5380344067767868, 0.6149961236728022, 0.691957840568808, 0.7671787003295294, 0.7671787003295379, 0.7671787003295429, 0.7671787003295393, 0.7671787003295407, 0.7671787003295385, 0.7671787003295405, 0.76717870032954, 0.7671787003295416, 0.7671787003295418, 0.7671787003295408]}, {\"mode\": \"lines+markers\", \"name\": \"Ex_AA\", \"type\": \"scatter\", \"uid\": \"96dd9b97-3ba2-42c9-b10c-a59362711660\", \"x\": [0.0, 19.371121164846457, 38.742242329692914, 58.11336349453938, 77.48448465938583, 96.85560582423228, 116.22672698907876, 135.5978481539252, 154.96896931877166, 174.34009048361813, 193.71121164846457, 213.08233281331104, 232.4534539781575, 251.82457514300395, 271.1956963078504, 290.56681747269687, 309.9379386375433, 329.3090598023898, 348.68018096723625, 368.0513021320827, 387.42242329692914], \"y\": [0, 0.03466550245686652, 0.06964810104396663, 0.10463069963306289, 0.13961329822216056, 0.17459589681125623, 0.20957849540035461, 0.24456109398944856, 0.27954369257854644, 0.31452629116763997, 0.34871759105887695, 0.34871759105888084, 0.3487175910588831, 0.34871759105888145, 0.3487175910588821, 0.3487175910588811, 0.348717591058882, 0.34871759105888184, 0.3487175910588825, 0.3487175910588826, 0.34871759105888217]}],\n",
       "                        {\"title\": {\"text\": \"Phloem Export\"}, \"width\": 500, \"xaxis\": {\"title\": {\"text\": \"PPFD [\\u00b5E]\"}}, \"yaxis\": {\"title\": {\"text\": \"Flux [\\u00b5mol/s/m2]\"}}},\n",
       "                        {\"plotlyServerURL\": \"https://plot.ly\", \"linkText\": \"Export to plot.ly\", \"showLink\": false}\n",
       "                    )\n",
       "                };\n",
       "                });\n",
       "            </script>\n",
       "        </div>"
      ]
     },
     "metadata": {},
     "output_type": "display_data"
    }
   ],
   "source": [
    "L_r = ['Ex_Suc','Ex_AA']\n",
    "create_scatter_plot_rxn_c3(D_fba, L_r, 'Phloem Export', xaxis_title, save_fig = save_fig)"
   ]
  },
  {
   "cell_type": "code",
   "execution_count": 12,
   "metadata": {
    "ExecuteTime": {
     "end_time": "2019-05-06T13:44:20.096703Z",
     "start_time": "2019-05-06T15:44:19.949174+02:00"
    },
    "run_control": {
     "marked": true
    }
   },
   "outputs": [
    {
     "data": {
      "application/vnd.plotly.v1+json": {
       "config": {
        "linkText": "Export to plot.ly",
        "plotlyServerURL": "https://plot.ly",
        "showLink": false
       },
       "data": [
        {
         "mode": "lines+markers",
         "name": "Im_CO2",
         "type": "scatter",
         "uid": "a122a494-c772-4002-9b68-0ccefdb654b5",
         "x": [
          0,
          19.371121164846457,
          38.742242329692914,
          58.11336349453938,
          77.48448465938583,
          96.85560582423228,
          116.22672698907876,
          135.5978481539252,
          154.96896931877166,
          174.34009048361813,
          193.71121164846457,
          213.08233281331104,
          232.4534539781575,
          251.82457514300395,
          271.1956963078504,
          290.56681747269687,
          309.9379386375433,
          329.3090598023898,
          348.68018096723625,
          368.0513021320827,
          387.42242329692914
         ],
         "y": [
          0,
          1.9881705624086683,
          3.9945275391746042,
          6.000884516055031,
          8.007241492935563,
          10.013598469815953,
          12.019955446696493,
          14.026312423576844,
          16.032669400457344,
          18.039026377337585,
          19.99999999999979,
          20,
          20,
          20,
          20,
          20,
          20,
          20,
          20,
          20,
          20
         ]
        }
       ],
       "layout": {
        "title": {
         "text": "CO2 Uptake"
        },
        "width": 500,
        "xaxis": {
         "title": {
          "text": "PPFD [µE]"
         }
        },
        "yaxis": {
         "title": {
          "text": "Flux [µmol/s/m2]"
         }
        }
       }
      },
      "text/html": [
       "<div>\n",
       "        \n",
       "        \n",
       "            <div id=\"79782928-f74a-48f5-9903-8eb190b8402e\" class=\"plotly-graph-div\"></div>\n",
       "            <script type=\"text/javascript\">\n",
       "                require([\"plotly\"], function(Plotly) {\n",
       "                    window.PLOTLYENV=window.PLOTLYENV || {};\n",
       "                    window.PLOTLYENV.BASE_URL='https://plot.ly';\n",
       "                    \n",
       "                if (document.getElementById(\"79782928-f74a-48f5-9903-8eb190b8402e\")) {\n",
       "                    Plotly.newPlot(\n",
       "                        '79782928-f74a-48f5-9903-8eb190b8402e',\n",
       "                        [{\"mode\": \"lines+markers\", \"name\": \"Im_CO2\", \"type\": \"scatter\", \"uid\": \"0a23275f-06ce-498c-ac14-7e1065b16598\", \"x\": [0.0, 19.371121164846457, 38.742242329692914, 58.11336349453938, 77.48448465938583, 96.85560582423228, 116.22672698907876, 135.5978481539252, 154.96896931877166, 174.34009048361813, 193.71121164846457, 213.08233281331104, 232.4534539781575, 251.82457514300395, 271.1956963078504, 290.56681747269687, 309.9379386375433, 329.3090598023898, 348.68018096723625, 368.0513021320827, 387.42242329692914], \"y\": [0, 1.9881705624086683, 3.9945275391746042, 6.000884516055031, 8.007241492935563, 10.013598469815953, 12.019955446696493, 14.026312423576844, 16.032669400457344, 18.039026377337585, 19.99999999999979, 20.0, 20.0, 20.0, 20.0, 20.0, 20.0, 20.0, 20.0, 20.0, 20.0]}],\n",
       "                        {\"title\": {\"text\": \"CO2 Uptake\"}, \"width\": 500, \"xaxis\": {\"title\": {\"text\": \"PPFD [\\u00b5E]\"}}, \"yaxis\": {\"title\": {\"text\": \"Flux [\\u00b5mol/s/m2]\"}}},\n",
       "                        {\"plotlyServerURL\": \"https://plot.ly\", \"linkText\": \"Export to plot.ly\", \"showLink\": false}\n",
       "                    )\n",
       "                };\n",
       "                });\n",
       "            </script>\n",
       "        </div>"
      ]
     },
     "metadata": {},
     "output_type": "display_data"
    }
   ],
   "source": [
    "L_r = ['Im_CO2']\n",
    "create_scatter_plot_rxn_c3(D_fba, L_r, 'CO2 Uptake', xaxis_title, save_fig = save_fig)"
   ]
  },
  {
   "cell_type": "code",
   "execution_count": 13,
   "metadata": {
    "ExecuteTime": {
     "end_time": "2019-05-06T13:44:20.328277Z",
     "start_time": "2019-05-06T15:44:20.098161+02:00"
    }
   },
   "outputs": [
    {
     "data": {
      "application/vnd.plotly.v1+json": {
       "config": {
        "linkText": "Export to plot.ly",
        "plotlyServerURL": "https://plot.ly",
        "showLink": false
       },
       "data": [
        {
         "name": "PSI_h",
         "type": "bar",
         "uid": "8cf441f0-4e03-41eb-8516-7e1eb2ff1aa0",
         "x": [
          0,
          19.371121164846457,
          38.742242329692914,
          58.11336349453938,
          77.48448465938583,
          96.85560582423228,
          116.22672698907876,
          135.5978481539252,
          154.96896931877166,
          174.34009048361813,
          193.71121164846457,
          213.08233281331104,
          232.4534539781575,
          251.82457514300395,
          271.1956963078504,
          290.56681747269687,
          309.9379386375433,
          329.3090598023898,
          348.68018096723625,
          368.0513021320827,
          387.42242329692914
         ],
         "y": [
          0,
          9.685560582423228,
          19.371121164846457,
          29.05668174726969,
          38.742242329692914,
          48.42780291211614,
          58.11336349453938,
          67.7989240769626,
          77.48448465938583,
          87.17004524180906,
          96.85560582423261,
          106.54116640665495,
          116.22672698907876,
          125.91228757150198,
          135.5978481539252,
          145.28340873634843,
          154.96896931877166,
          164.6545299011949,
          174.34009048361813,
          184.02565106604135,
          193.71121164846457
         ]
        },
        {
         "name": "PSII_h",
         "type": "bar",
         "uid": "a5466378-0678-4185-aa0b-25ee0643123a",
         "x": [
          0,
          19.371121164846457,
          38.742242329692914,
          58.11336349453938,
          77.48448465938583,
          96.85560582423228,
          116.22672698907876,
          135.5978481539252,
          154.96896931877166,
          174.34009048361813,
          193.71121164846457,
          213.08233281331104,
          232.4534539781575,
          251.82457514300395,
          271.1956963078504,
          290.56681747269687,
          309.9379386375433,
          329.3090598023898,
          348.68018096723625,
          368.0513021320827,
          387.42242329692914
         ],
         "y": [
          0,
          9.685560582423228,
          19.371121164846457,
          29.05668174726969,
          38.742242329692914,
          48.42780291211614,
          58.11336349453938,
          67.7989240769626,
          77.48448465938583,
          87.17004524180906,
          96.85560582423196,
          106.54116640665609,
          116.22672698907876,
          125.91228757150198,
          135.5978481539252,
          145.28340873634843,
          154.96896931877166,
          164.6545299011949,
          174.34009048361813,
          184.02565106604135,
          193.71121164846457
         ]
        }
       ],
       "layout": {
        "barmode": "stack",
        "title": {
         "text": "Photon Uptake by Photosystems"
        },
        "width": 500,
        "xaxis": {
         "title": {
          "text": "PPFD [µE]"
         }
        },
        "yaxis": {
         "title": {
          "text": "Flux [µmol/s/m2]"
         }
        }
       }
      },
      "text/html": [
       "<div>\n",
       "        \n",
       "        \n",
       "            <div id=\"48d6c978-2b97-4e5b-a227-25703bef6f98\" class=\"plotly-graph-div\"></div>\n",
       "            <script type=\"text/javascript\">\n",
       "                require([\"plotly\"], function(Plotly) {\n",
       "                    window.PLOTLYENV=window.PLOTLYENV || {};\n",
       "                    window.PLOTLYENV.BASE_URL='https://plot.ly';\n",
       "                    \n",
       "                if (document.getElementById(\"48d6c978-2b97-4e5b-a227-25703bef6f98\")) {\n",
       "                    Plotly.newPlot(\n",
       "                        '48d6c978-2b97-4e5b-a227-25703bef6f98',\n",
       "                        [{\"name\": \"PSI_h\", \"type\": \"bar\", \"uid\": \"1e36f3b7-3f39-4521-ab87-4dba073f8a58\", \"x\": [0.0, 19.371121164846457, 38.742242329692914, 58.11336349453938, 77.48448465938583, 96.85560582423228, 116.22672698907876, 135.5978481539252, 154.96896931877166, 174.34009048361813, 193.71121164846457, 213.08233281331104, 232.4534539781575, 251.82457514300395, 271.1956963078504, 290.56681747269687, 309.9379386375433, 329.3090598023898, 348.68018096723625, 368.0513021320827, 387.42242329692914], \"y\": [0.0, 9.685560582423228, 19.371121164846457, 29.05668174726969, 38.742242329692914, 48.42780291211614, 58.11336349453938, 67.7989240769626, 77.48448465938583, 87.17004524180906, 96.85560582423261, 106.54116640665495, 116.22672698907876, 125.91228757150198, 135.5978481539252, 145.28340873634843, 154.96896931877166, 164.6545299011949, 174.34009048361813, 184.02565106604135, 193.71121164846457]}, {\"name\": \"PSII_h\", \"type\": \"bar\", \"uid\": \"a7b709fb-adf8-4643-b68c-0017bfbfdc64\", \"x\": [0.0, 19.371121164846457, 38.742242329692914, 58.11336349453938, 77.48448465938583, 96.85560582423228, 116.22672698907876, 135.5978481539252, 154.96896931877166, 174.34009048361813, 193.71121164846457, 213.08233281331104, 232.4534539781575, 251.82457514300395, 271.1956963078504, 290.56681747269687, 309.9379386375433, 329.3090598023898, 348.68018096723625, 368.0513021320827, 387.42242329692914], \"y\": [0.0, 9.685560582423228, 19.371121164846457, 29.05668174726969, 38.742242329692914, 48.42780291211614, 58.11336349453938, 67.7989240769626, 77.48448465938583, 87.17004524180906, 96.85560582423196, 106.54116640665609, 116.22672698907876, 125.91228757150198, 135.5978481539252, 145.28340873634843, 154.96896931877166, 164.6545299011949, 174.34009048361813, 184.02565106604135, 193.71121164846457]}],\n",
       "                        {\"barmode\": \"stack\", \"title\": {\"text\": \"Photon Uptake by Photosystems\"}, \"width\": 500, \"xaxis\": {\"title\": {\"text\": \"PPFD [\\u00b5E]\"}}, \"yaxis\": {\"title\": {\"text\": \"Flux [\\u00b5mol/s/m2]\"}}},\n",
       "                        {\"plotlyServerURL\": \"https://plot.ly\", \"linkText\": \"Export to plot.ly\", \"showLink\": false}\n",
       "                    )\n",
       "                };\n",
       "                });\n",
       "            </script>\n",
       "        </div>"
      ]
     },
     "metadata": {},
     "output_type": "display_data"
    }
   ],
   "source": [
    "L_r = ['PSI_h','PSII_h']\n",
    "create_bar_plot_met_c3(c3_model, D_fba, L_r, 'hnu_h', 'Photon Uptake by Photosystems', xaxis_title, save_fig = save_fig)"
   ]
  }
 ],
 "metadata": {
  "anaconda-cloud": {},
  "kernelspec": {
   "display_name": "Python 3",
   "language": "python",
   "name": "python3"
  },
  "language_info": {
   "codemirror_mode": {
    "name": "ipython",
    "version": 3
   },
   "file_extension": ".py",
   "mimetype": "text/x-python",
   "name": "python",
   "nbconvert_exporter": "python",
   "pygments_lexer": "ipython3",
   "version": "3.8.8"
  },
  "latex_envs": {
   "LaTeX_envs_menu_present": true,
   "autoclose": false,
   "autocomplete": true,
   "bibliofile": "biblio.bib",
   "cite_by": "apalike",
   "current_citInitial": 1,
   "eqLabelWithNumbers": true,
   "eqNumInitial": 1,
   "hotkeys": {
    "equation": "Ctrl-E",
    "itemize": "Ctrl-I"
   },
   "labels_anchors": false,
   "latex_user_defs": false,
   "report_style_numbering": false,
   "user_envs_cfg": false
  }
 },
 "nbformat": 4,
 "nbformat_minor": 2
}
