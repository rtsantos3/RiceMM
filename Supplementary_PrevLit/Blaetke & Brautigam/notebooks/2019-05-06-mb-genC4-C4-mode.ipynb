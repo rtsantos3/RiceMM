{
 "cells": [
  {
   "cell_type": "markdown",
   "metadata": {
    "run_control": {
     "marked": true
    }
   },
   "source": [
    "# C4 GenC4 Model -  Effect of C4 mode on the emergence of the C4 cycle"
   ]
  },
  {
   "cell_type": "markdown",
   "metadata": {
    "run_control": {
     "marked": true
    }
   },
   "source": [
    "## 0. Initialization"
   ]
  },
  {
   "cell_type": "code",
   "execution_count": 1,
   "metadata": {
    "ExecuteTime": {
     "end_time": "2019-05-06T13:54:01.198340Z",
     "start_time": "2019-05-06T15:53:59.059422+02:00"
    }
   },
   "outputs": [
    {
     "name": "stderr",
     "output_type": "stream",
     "text": [
      "//anaconda/lib/python2.7/site-packages/cryptography/hazmat/primitives/constant_time.py:26 \u001b[1;31mCryptographyDeprecationWarning\u001b[0m: Support for your Python version is deprecated. The next version of cryptography will remove support. Please upgrade to a 2.7.x release that supports hmac.compare_digest as soon as possible.\n"
     ]
    },
    {
     "data": {
      "text/html": [
       "        <script type=\"text/javascript\">\n",
       "        window.PlotlyConfig = {MathJaxConfig: 'local'};\n",
       "        if (window.MathJax) {MathJax.Hub.Config({SVG: {font: \"STIX-Web\"}});}\n",
       "        if (typeof require !== 'undefined') {\n",
       "        require.undef(\"plotly\");\n",
       "        requirejs.config({\n",
       "            paths: {\n",
       "                'plotly': ['https://cdn.plot.ly/plotly-latest.min']\n",
       "            }\n",
       "        });\n",
       "        require(['plotly'], function(Plotly) {\n",
       "            window._Plotly = Plotly;\n",
       "        });\n",
       "        }\n",
       "        </script>\n",
       "        "
      ]
     },
     "metadata": {},
     "output_type": "display_data"
    }
   ],
   "source": [
    "#Import sys\n",
    "import sys \n",
    "sys.path.append(\"../src/\") \n",
    "\n",
    "#Import init for initialisation & loading user-defined functions\n",
    "from init_fba import *\n",
    "\n",
    "#Initialize notebook settings\n",
    "theNotebook = '2019-05-06-mb-genC4-Decarb-Enzyme-Effect'\n",
    "init_notebook(theNotebook)\n",
    "\n",
    "#load sbml model\n",
    "c3_model = load_sbml_model()"
   ]
  },
  {
   "cell_type": "markdown",
   "metadata": {
    "run_control": {
     "marked": true
    }
   },
   "source": [
    "## 1. C3 Model"
   ]
  },
  {
   "cell_type": "markdown",
   "metadata": {
    "ExecuteTime": {
     "end_time": "2017-06-20T12:42:07.597174",
     "start_time": "2017-06-20T12:42:07.594879"
    },
    "run_control": {
     "marked": true
    }
   },
   "source": [
    "### 1.1 Constraints"
   ]
  },
  {
   "cell_type": "code",
   "execution_count": 2,
   "metadata": {
    "ExecuteTime": {
     "end_time": "2019-05-06T13:54:01.218997Z",
     "start_time": "2019-05-06T15:54:01.199871+02:00"
    },
    "run_control": {
     "marked": true
    }
   },
   "outputs": [],
   "source": [
    "#CONSTRAINT: Set flux of all export reaction to zero\n",
    "for r_obj in c3_model.reactions:\n",
    "    r_id = r_obj.id\n",
    "    if r_id[0:2] == \"Ex\":\n",
    "        r_obj.bounds = (0.,0.)\n",
    "\n",
    "#CONSTRAINT: Divergent fluxes of export and import reactions\n",
    "set_bounds('Im_CO2', (-inf, inf), c3_model)\n",
    "set_bounds('Im_H2O', (-inf, inf), c3_model)\n",
    "set_bounds('Im_H2S', (0.,0.), c3_model)\n",
    "set_bounds('Im_NH4', (0., 0.), c3_model)\n",
    "set_bounds('Im_NO3', (0., inf), c3_model)\n",
    "set_bounds('Im_Pi', (0., inf), c3_model)\n",
    "set_bounds('Im_SO4', (0., inf), c3_model)\n",
    "set_bounds('Ex_O2', (-inf, inf), c3_model)\n",
    "set_bounds('Ex_Suc', (0., inf), c3_model)\n",
    "set_bounds('Ex_starch', (0., inf), c3_model)\n",
    "set_bounds('Ex_AA', (0., inf), c3_model)\n",
    "\n",
    "#CONSTRAINT: \n",
    "set_bounds('G6PDH_h', (0.,0.), c3_model)\n",
    "set_bounds('PPIF6PK_c', (0,0.), c3_model)\n",
    "\n",
    "#CONSTRAINT: max. photon consumption auf C4 plants 1000 μE\n",
    "set_bounds('Im_hnu', (0, 1000), c3_model)\n",
    "\n",
    "#CONSTRAINT: CO2 uptake rate uin C4 plants is higher, about 40 μmol/(m2*s)\n",
    "f_CO2 = 40 #[μmol/(m2*s)] \n",
    "set_bounds('Im_CO2', (0, f_CO2), c3_model)"
   ]
  },
  {
   "cell_type": "code",
   "execution_count": 3,
   "metadata": {
    "ExecuteTime": {
     "end_time": "2019-05-06T13:54:01.225924Z",
     "start_time": "2019-05-06T15:54:01.221091+02:00"
    },
    "code_folding": [],
    "run_control": {
     "marked": false
    }
   },
   "outputs": [],
   "source": [
    "#CONSTRAINT: Maintenace cost\n",
    "\n",
    "atp_cost_L3_m = 0.009111187245501572 #Mitochondria-L3-ATP Cost [µmol*s-1*m-2]\n",
    "atp_cost_L3_h = 0.15270708327974447 #Chloroplast-L3-ATP Cost [µmol*s-1*m-2]\n",
    "atp_cost_L3_p = 0.0076669066992201855 #Peroxisome-L3-ATP Cost [µmol*s-1*m-2]\n",
    "atp_cost_L3_c = 0.042683072918274702 #Cytosl/Other-L3-ATP Cost [µmol*s-1*m-2]\n",
    "\n",
    "set_fixed_flux('NGAM_c',atp_cost_L3_c + atp_cost_L3_p, c3_model)\n",
    "set_fixed_flux('NGAM_m',atp_cost_L3_m, c3_model)\n",
    "set_fixed_flux('NGAM_h',atp_cost_L3_h, c3_model)"
   ]
  },
  {
   "cell_type": "code",
   "execution_count": 4,
   "metadata": {
    "ExecuteTime": {
     "end_time": "2019-05-06T13:54:01.231022Z",
     "start_time": "2019-05-06T15:54:01.227845+02:00"
    },
    "run_control": {
     "marked": true
    }
   },
   "outputs": [],
   "source": [
    "#CONSTRAINT: fluxes through the chloroplastic NADPH dehydrogenase and plastoquinol oxidase were set to zero \n",
    "#because the contributions of NADPH dehydrogenase (Yamamoto et al., 2011) and plastoquinol oxidase \n",
    "#(Josse et al., 2000) to photosynthesis are thought to be minor.\n",
    "set_bounds('AOX4_h',(0,0), c3_model)\n",
    "set_bounds('iCitDHNADP_h',(0,0), c3_model)"
   ]
  },
  {
   "cell_type": "code",
   "execution_count": 5,
   "metadata": {
    "ExecuteTime": {
     "end_time": "2019-05-06T13:54:01.235883Z",
     "start_time": "2019-05-06T15:54:01.233116+02:00"
    },
    "collapsed": true
   },
   "outputs": [],
   "source": [
    "#CONSTRAINT: NTT is only active at night\n",
    "set_fixed_flux('Tr_NTT',0, c3_model)"
   ]
  },
  {
   "cell_type": "code",
   "execution_count": 6,
   "metadata": {
    "ExecuteTime": {
     "end_time": "2019-05-06T13:54:01.240554Z",
     "start_time": "2019-05-06T15:54:01.237672+02:00"
    },
    "collapsed": true
   },
   "outputs": [],
   "source": [
    "#CONSTRAINT: No uncoupled pyruvate transport\n",
    "set_bounds('Tr_Pyr1',(0,0), c3_model)\n",
    "set_bounds('Tr_Pyr2',(0,0), c3_model)"
   ]
  },
  {
   "cell_type": "markdown",
   "metadata": {
    "run_control": {
     "marked": true
    }
   },
   "source": [
    "## 2. C4 Model"
   ]
  },
  {
   "cell_type": "markdown",
   "metadata": {
    "run_control": {
     "marked": true
    }
   },
   "source": [
    "### 2.1 Compose Model"
   ]
  },
  {
   "cell_type": "markdown",
   "metadata": {
    "ExecuteTime": {
     "end_time": "2018-02-06T17:46:39.521620+01:00",
     "start_time": "2018-02-06T17:46:39.518672"
    },
    "run_control": {
     "marked": true
    }
   },
   "source": [
    "#### 2.1.1 Two copies of genC3 model and exchange reactions"
   ]
  },
  {
   "cell_type": "code",
   "execution_count": 7,
   "metadata": {
    "ExecuteTime": {
     "end_time": "2019-05-06T13:54:02.158392Z",
     "start_time": "2019-05-06T15:54:01.242725+02:00"
    },
    "hide_input": false,
    "run_control": {
     "marked": true
    }
   },
   "outputs": [],
   "source": [
    "c4_model = cobra.Model('c4_model')\n",
    "\n",
    "cell_types = ['M', 'B']\n",
    "\n",
    "#duplicate metabolites\n",
    "for m in c3_model.metabolites:\n",
    "    for cell in cell_types:\n",
    "        m_dt = cobra.Metabolite('['+cell+']_'+m.id, name = m.formula, compartment = m.compartment)\n",
    "        c4_model.add_metabolites([m_dt])\n",
    "\n",
    "#duplicate reactions\n",
    "for r_c3_obj in c3_model.reactions:\n",
    "    for cell in cell_types:\n",
    "        r_c4_obj = cobra.Reaction('['+cell+']_'+r_c3_obj.id)\n",
    "        r_c4_obj.name = r_c3_obj.name\n",
    "        r_c4_obj.subsystem = r_c3_obj.subsystem\n",
    "        r_c4_obj.bounds = r_c3_obj.bounds\n",
    "        c4_model.add_reaction(r_c4_obj)\n",
    "        r_c4_obj.add_metabolites({'['+cell+']_'+m_c3_obj.id: r_c3_obj.get_coefficient(m_c3_obj) for m_c3_obj in r_c3_obj.metabolites})\n",
    "        \n",
    "        \n",
    "#metabolites excluded from M/BS exchange\n",
    "no_transport = ['NO3','NO2', 'O2','Na', 'H2S', 'SO4',\n",
    "                'H2O','FBP','F26BP','DPGA','H','ACD','AC','M_DASH_THF', '5M_DASH_THF', 'H_DASH_Cys', 'aH_DASH_Cys', 'ORO', 'DHO',\n",
    "                'GABA','A_DASH_Ser','PRPP','AD','THF','DHF','ADN','Mas','CoA','GluP',\n",
    "                'A_DASH_CoA','cellulose1','cellulose2','cellulose3','starch1',\n",
    "                'starch2','starch3','TRXox','TRXrd','Glu_DASH_SeA','T6P','aMet',\n",
    "                'PPi', 'P5C', 'NH4', 'Pi', 'CO2', 'OAA','HCO3', \n",
    "                'UTP', 'UDP', 'UDPG', 'ATP', 'ADP', 'AMP', 'IMP', 'XMP', \n",
    "                'GTP', 'GDP', 'GMP', 'OMP', 'UMP', 'CTP', 'GDP', 'CDP', 'dADP', \n",
    "                'dCDP', 'dGDP', 'dUDP', 'dUTP', 'dUMP', 'dTMP', 'dTDP', 'GTP', \n",
    "                'dATP', 'dCTP', 'dGTP', 'dTTP', 'NAD', 'NADH', 'NADP', 'NADPH']\n",
    "\n",
    "#add M/BS exchange reactions\n",
    "L_r_transport = []\n",
    "for m_c3_obj in c3_model.metabolites:\n",
    "    if m_c3_obj.id[-1:] == 'c' and m_c3_obj.id[:-2] not in no_transport:\n",
    "        r_c4_obj = cobra.Reaction('[MB]_'+m_c3_obj.id)\n",
    "        r_c4_obj.name = '[MB]_'+m_c3_obj.id\n",
    "        r_c4_obj.subsystem = 'Exchange'\n",
    "        r_c4_obj.bounds = (-inf, inf)\n",
    "        c4_model.add_reaction(r_c4_obj)\n",
    "        r_c4_obj.add_metabolites({'[M]_'+m_c3_obj.id: -1,'[B]_'+m_c3_obj.id: 1 })\n",
    "        L_r_transport.append('[MB]_'+m_c3_obj.id)"
   ]
  },
  {
   "cell_type": "markdown",
   "metadata": {
    "ExecuteTime": {
     "end_time": "2018-02-06T17:47:11.482156+01:00",
     "start_time": "2018-02-06T17:47:11.480023"
    },
    "run_control": {
     "marked": true
    }
   },
   "source": [
    "#### 2.1.2 Adaptations for second unconstrained rubisco population in the bundle sheath"
   ]
  },
  {
   "cell_type": "code",
   "execution_count": 8,
   "metadata": {
    "ExecuteTime": {
     "end_time": "2019-05-06T13:54:02.177090Z",
     "start_time": "2019-05-06T15:54:02.159744+02:00"
    },
    "run_control": {
     "marked": false
    }
   },
   "outputs": [],
   "source": [
    "#CONSTRAINT: Add external CO2 species to bundle sheath\n",
    "#(the original CO2 species is treated as internal CO2)\n",
    "m_list_CO_Ex= ['[B]_CO2_ex_c','[B]_CO2_ex_h']\n",
    "\n",
    "for m_id in m_list_CO_Ex:\n",
    "    m_obj = cobra.Metabolite(m_id)\n",
    "    c4_model.add_metabolites(m_obj)\n",
    "\n",
    "#CONSTRAINT: Copy reactions 'Tr_CO2h', 'RBC_h' and replace internal CO2 with external CO2 in the copied reactions \n",
    "r_list_CO_Ex = ['Tr_CO2h', 'RBC_h']\n",
    "\n",
    "for r_id in r_list_CO_Ex:\n",
    "    r_obj = c4_model.reactions.get_by_id('[B]_'+r_id)\n",
    "    r_obj_Ex = cobra.Reaction(r_obj.id+'_Ex')\n",
    "    r_obj_Ex.name = r_obj.id+'_Ex'\n",
    "    r_obj_Ex.subsystem = r_obj.subsystem\n",
    "    r_obj_Ex.bounds = r_obj.bounds\n",
    "    c4_model.add_reaction(r_obj_Ex)\n",
    "    r_obj_Ex.add_metabolites({m_obj.id if not m_obj.id[:-2] == '[B]_CO2' else '[B]_CO2_ex'+m_obj.id[-2:]: r_obj.get_coefficient(m_obj) \n",
    "                                  for m_obj in r_obj.metabolites})\n",
    "\n",
    "#CONSTRAINT: CO2 exchange between mesophyll and bundle sheat\n",
    "r_c4_obj = cobra.Reaction('[MB]_CO2_c')\n",
    "r_c4_obj.name = '[MB]_CO2_c'\n",
    "r_c4_obj.subsystem = 'Exchange'\n",
    "r_c4_obj.bounds = (-inf, inf)\n",
    "c4_model.add_reaction(r_c4_obj)\n",
    "r_c4_obj.add_metabolites({'[M]_CO2_c': -1,'[B]_CO2_ex_c': 1 })\n",
    "L_r_transport.append('[MB]_CO2_c')"
   ]
  },
  {
   "cell_type": "markdown",
   "metadata": {
    "run_control": {
     "marked": true
    }
   },
   "source": [
    "### 2.3 Constraints"
   ]
  },
  {
   "cell_type": "code",
   "execution_count": 9,
   "metadata": {
    "ExecuteTime": {
     "end_time": "2019-05-06T13:54:02.181082Z",
     "start_time": "2019-05-06T15:54:02.178842+02:00"
    },
    "collapsed": true,
    "run_control": {
     "marked": true
    }
   },
   "outputs": [],
   "source": [
    "#CONSTRAINT: No CO2 uptake in bundle sheat cells due to suberin layer in cell membranes\n",
    "set_fixed_flux('[B]_Im_CO2',0, c4_model)"
   ]
  },
  {
   "cell_type": "code",
   "execution_count": 10,
   "metadata": {
    "ExecuteTime": {
     "end_time": "2019-05-06T13:54:02.202040Z",
     "start_time": "2019-05-06T15:54:02.182895+02:00"
    },
    "run_control": {
     "marked": true
    }
   },
   "outputs": [
    {
     "data": {
      "text/plain": [
       "<optlang.glpk_interface.Constraint at 0x117b46550>"
      ]
     },
     "execution_count": 10,
     "metadata": {},
     "output_type": "execute_result"
    }
   ],
   "source": [
    "#CONSTRAINT: Output of sucrose : total amino acid and sucrose : starch\n",
    "set_fixed_flux_ratio({'[B]_Ex_Suc':2.2,'[B]_Ex_AA':1.0}, c4_model)\n",
    "set_fixed_flux_ratio({'[B]_Ex_Suc':1.0,'[B]_Ex_starch':1.0}, c4_model)\n",
    "\n",
    "set_fixed_flux_ratio({'[M]_Ex_Suc':2.2,'[M]_Ex_AA':1.0}, c4_model)\n",
    "set_fixed_flux_ratio({'[M]_Ex_Suc':1.0,'[M]_Ex_starch':1.0}, c4_model)"
   ]
  },
  {
   "cell_type": "code",
   "execution_count": 11,
   "metadata": {
    "ExecuteTime": {
     "end_time": "2019-05-06T13:54:02.212806Z",
     "start_time": "2019-05-06T15:54:02.203570+02:00"
    },
    "run_control": {
     "marked": true
    }
   },
   "outputs": [],
   "source": [
    "#Reaction variables for light uptake\n",
    "B_Im_hnu = c4_model.reactions.get_by_id(\"[B]_Im_hnu\")\n",
    "M_Im_hnu = c4_model.reactions.get_by_id(\"[M]_Im_hnu\")\n",
    "\n",
    "#CONSTRAINT: Total Photon uptake limited to 1000 µE\n",
    "const_hnu_sum = c4_model.problem.Constraint( B_Im_hnu.flux_expression + M_Im_hnu.flux_expression,\n",
    "                                        lb = 0, ub = 1000)\n",
    "\n",
    "c4_model.add_cons_vars(const_hnu_sum)\n",
    "\n",
    "#CONSTRAINT: Total Photon uptake by bundle sheath must be less equal than in mesophyll\n",
    "const_hnu_ratio = c4_model.problem.Constraint( M_Im_hnu.flux_expression - B_Im_hnu.flux_expression,\n",
    "                                        lb = 0, ub = 1000)\n",
    "\n",
    "c4_model.add_cons_vars(const_hnu_ratio)"
   ]
  },
  {
   "cell_type": "code",
   "execution_count": 12,
   "metadata": {
    "ExecuteTime": {
     "end_time": "2019-05-06T13:54:02.223508Z",
     "start_time": "2019-05-06T15:54:02.214392+02:00"
    }
   },
   "outputs": [
    {
     "data": {
      "text/plain": [
       "<optlang.glpk_interface.Constraint at 0x118155390>"
      ]
     },
     "execution_count": 12,
     "metadata": {},
     "output_type": "execute_result"
    }
   ],
   "source": [
    "#CONSTRAINT: oxygenation : carboxylation = 1 : 3\n",
    "set_fixed_flux_ratio({'[B]_RBC_h_Ex':1,'[B]_RBO_h':1},c4_model)\n",
    "set_fixed_flux_ratio({'[M]_RBC_h':1,'[M]_RBO_h':1},c4_model)"
   ]
  },
  {
   "cell_type": "markdown",
   "metadata": {
    "run_control": {
     "marked": true
    }
   },
   "source": [
    "## 3 FBA"
   ]
  },
  {
   "cell_type": "code",
   "execution_count": 13,
   "metadata": {
    "ExecuteTime": {
     "end_time": "2019-05-06T13:54:31.422705Z",
     "start_time": "2019-05-06T15:54:02.225114+02:00"
    },
    "run_control": {
     "marked": false
    }
   },
   "outputs": [],
   "source": [
    "#Define experiments, here: the three decraboxylation enzymes PEP-CK (in model: [B]_PEPC1_c), NAD-ME (in model: [B]_MalDH2_m) \n",
    "#and NADP-ME (in model: [B]_MalDH4_h)\n",
    "D_exp = {'[B]_PEPC1_c': 'PEP-CK', '[B]_MalDH2_m': 'NAD-ME', '[B]_MalDH4_h': 'NADP-ME'}\n",
    "\n",
    "#Set FBA solver\n",
    "c4_model.solver = \"glpk\"\n",
    "\n",
    "#Initialize dictionaries to store results\n",
    "D_fba = {}\n",
    "D_pfba = {}\n",
    "D_fva = {}\n",
    "D_pfva = {}\n",
    "\n",
    "#Reaction Variables\n",
    "B_Ex_Suc = c4_model.reactions.get_by_id(\"[B]_Ex_Suc\")\n",
    "B_RBO = c4_model.reactions.get_by_id(\"[B]_RBO_h\")\n",
    "M_RBO = c4_model.reactions.get_by_id(\"[M]_RBO_h\")\n",
    "\n",
    "#Set flux reactions related to decraboxylation enzymes to zero \n",
    "for exp in D_exp:\n",
    "    set_fixed_flux(exp,0, c4_model)\n",
    "            \n",
    "#Run every FBA experiment\n",
    "for exp in D_exp:\n",
    "    \n",
    "    #Allow non-zero flux for current decarboxylation enzyme\n",
    "    set_bounds(exp, (0,inf), c4_model)           \n",
    "    \n",
    "    #Optimize/Maximize sucrose output\n",
    "    B_Ex_Suc.objective_coefficient = 1.\n",
    "    c4_model_copy = c4_model.copy()\n",
    "    result_fba = c4_model_copy.optimize('maximize')\n",
    "    del c4_model_copy\n",
    "    c4_model.objective =[]\n",
    "    set_fixed_flux(B_Ex_Suc.id,result_fba.fluxes[B_Ex_Suc.id], c4_model)\n",
    "    \n",
    "    #Optimize/Minimize oxygenation rate by rubisco (set True)\n",
    "    if True:\n",
    "            B_RBO.objective_coefficient = 1.\n",
    "            M_RBO.objective_coefficient = 1.\n",
    "            c4_model_copy = c4_model.copy()\n",
    "            result_fba = c4_model_copy.optimize('minimize')\n",
    "            del c4_model_copy\n",
    "            c4_model.objective =[]\n",
    "            set_fixed_flux(B_RBO.id,result_fba.fluxes[B_RBO.id],c4_model)            \n",
    "            set_fixed_flux(M_RBO.id,result_fba.fluxes[M_RBO.id],c4_model)    \n",
    "\n",
    "    D_fba[exp] = result_fba.fluxes            #store FBA results\n",
    "    \n",
    "    #Optimize/Minimize total flux and perform (p)FVA (set True)\n",
    "    if True: \n",
    "        if result_fba.status == 'optimal':\n",
    "            c4_model_copy = c4_model.copy()\n",
    "            #perform pFBA\n",
    "            result_pfba = cobra.flux_analysis.parsimonious.pfba(c4_model_copy)\n",
    "            D_pfba[exp] = result_pfba.fluxes     \n",
    "            D_pfba[exp]= D_pfba[exp].set_value('total',result_pfba.f)\n",
    "            #perform FVA\n",
    "            result_fva = cobra.flux_analysis.flux_variability_analysis(c4_model_copy)     #perform FVA\n",
    "            D_fva[exp] = result_fva  \n",
    "            #perform pFVA results with 1.5% deviation of pFBA total flux\n",
    "            result_pfva = cobra.flux_analysis.flux_variability_analysis(c4_model_copy,pfba_factor=1.015) \n",
    "            D_pfva[exp] = result_pfva \n",
    "            del c4_model_copy      \n",
    "    \n",
    "    #Reset flux of current decarboxylation enzyme to zero\n",
    "    set_fixed_flux(exp,0, c4_model)           \n",
    "    \n",
    "    #Reset reaction bounds\n",
    "    set_bounds(B_RBO.id,(0,inf),c4_model)\n",
    "    set_bounds(M_RBO.id,(0,inf),c4_model)\n",
    "    set_bounds(B_Ex_Suc.id,(0,inf),c4_model)  "
   ]
  },
  {
   "cell_type": "code",
   "execution_count": 14,
   "metadata": {
    "ExecuteTime": {
     "end_time": "2019-05-06T13:54:32.622095Z",
     "start_time": "2019-05-06T15:54:31.424267+02:00"
    }
   },
   "outputs": [],
   "source": [
    "save_fba_to_excel(c3_model, c4_model, D_pfba, D_exp, theNotebook)\n",
    "save_fva_to_excel(c3_model, c4_model, D_pfva, D_exp, theNotebook)"
   ]
  },
  {
   "cell_type": "code",
   "execution_count": 15,
   "metadata": {
    "ExecuteTime": {
     "end_time": "2019-05-06T13:54:32.627519Z",
     "start_time": "2019-05-06T15:54:32.623446+02:00"
    },
    "collapsed": true
   },
   "outputs": [],
   "source": [
    "for exp, exp_name in D_exp.items():\n",
    "    save_to_json(exp_name, D_pfba[exp], theNotebook)"
   ]
  },
  {
   "cell_type": "markdown",
   "metadata": {
    "ExecuteTime": {
     "end_time": "2018-02-06T17:54:23.611334+01:00",
     "start_time": "2018-02-06T17:54:23.609194"
    },
    "run_control": {
     "marked": true
    }
   },
   "source": [
    "## 4 Figures"
   ]
  },
  {
   "cell_type": "code",
   "execution_count": 16,
   "metadata": {
    "ExecuteTime": {
     "end_time": "2019-05-06T13:54:32.631235Z",
     "start_time": "2019-05-06T15:54:32.629089+02:00"
    },
    "collapsed": true
   },
   "outputs": [],
   "source": [
    "xaxis_title = 'decarboxylation enzyme'\n",
    "save_fig = False"
   ]
  },
  {
   "cell_type": "code",
   "execution_count": 17,
   "metadata": {
    "ExecuteTime": {
     "end_time": "2019-05-06T13:54:32.969880Z",
     "start_time": "2019-05-06T15:54:32.633038+02:00"
    },
    "code_folding": []
   },
   "outputs": [
    {
     "data": {
      "application/vnd.plotly.v1+json": {
       "config": {
        "linkText": "Export to plot.ly",
        "plotlyServerURL": "https://plot.ly",
        "showLink": false
       },
       "data": [
        {
         "marker": {
          "color": "#1f77b4"
         },
         "name": "Total",
         "type": "bar",
         "uid": "87744802-b9d3-4034-aca6-e291ee927664",
         "x": [
          "NAD-ME",
          "NADP-ME",
          "PEP-CK"
         ],
         "y": [
          2999.1825909204376,
          2707.327934520379,
          2806.725238968831
         ]
        }
       ],
       "layout": {
        "barmode": "stack",
        "height": 400,
        "margin": {
         "b": 100
        },
        "title": {
         "text": "Total Flux"
        },
        "width": 600,
        "xaxis": {
         "tickangle": 0,
         "title": {
          "text": "decarboxylation enzyme"
         }
        },
        "yaxis": {
         "autorange": true,
         "title": {
          "text": "Flux [µmol/s/m2]"
         }
        }
       }
      },
      "text/html": [
       "<div>\n",
       "        \n",
       "        \n",
       "            <div id=\"7ea068e7-dc40-439c-a0a6-c881e4929fa3\" class=\"plotly-graph-div\"></div>\n",
       "            <script type=\"text/javascript\">\n",
       "                require([\"plotly\"], function(Plotly) {\n",
       "                    window.PLOTLYENV=window.PLOTLYENV || {};\n",
       "                    window.PLOTLYENV.BASE_URL='https://plot.ly';\n",
       "                    \n",
       "                if (document.getElementById(\"7ea068e7-dc40-439c-a0a6-c881e4929fa3\")) {\n",
       "                    Plotly.newPlot(\n",
       "                        '7ea068e7-dc40-439c-a0a6-c881e4929fa3',\n",
       "                        [{\"marker\": {\"color\": \"#1f77b4\"}, \"name\": \"Total\", \"type\": \"bar\", \"uid\": \"a1e6c335-d352-4608-abf2-c25afe9ca50c\", \"x\": [\"NAD-ME\", \"NADP-ME\", \"PEP-CK\"], \"y\": [2999.1825909204376, 2707.327934520379, 2806.725238968831]}],\n",
       "                        {\"barmode\": \"stack\", \"height\": 400, \"margin\": {\"b\": 100}, \"title\": {\"text\": \"Total Flux\"}, \"width\": 600, \"xaxis\": {\"tickangle\": 0, \"title\": {\"text\": \"decarboxylation enzyme\"}}, \"yaxis\": {\"autorange\": true, \"title\": {\"text\": \"Flux [\\u00b5mol/s/m2]\"}}},\n",
       "                        {\"plotlyServerURL\": \"https://plot.ly\", \"linkText\": \"Export to plot.ly\", \"showLink\": false}\n",
       "                    )\n",
       "                };\n",
       "                });\n",
       "            </script>\n",
       "        </div>"
      ]
     },
     "metadata": {},
     "output_type": "display_data"
    }
   ],
   "source": [
    "create_bar_plot_rxn(D_pfba, D_exp,\n",
    "                    {'total':'Total',},\n",
    "                    'Total Flux', xaxis_title,\n",
    "                    stacked = True, save_fig=save_fig)"
   ]
  },
  {
   "cell_type": "code",
   "execution_count": 18,
   "metadata": {
    "ExecuteTime": {
     "end_time": "2019-05-06T13:54:33.121799Z",
     "start_time": "2019-05-06T15:54:32.971252+02:00"
    },
    "code_folding": []
   },
   "outputs": [
    {
     "data": {
      "application/vnd.plotly.v1+json": {
       "config": {
        "linkText": "Export to plot.ly",
        "plotlyServerURL": "https://plot.ly",
        "showLink": false
       },
       "data": [
        {
         "marker": {
          "color": "rgb(8,81,156)"
         },
         "name": "Ex_Suc",
         "type": "bar",
         "uid": "bdaaefea-823a-4116-aaec-a741cbbb90bc",
         "x": [
          "NAD-ME",
          "NADP-ME",
          "PEP-CK"
         ],
         "y": [
          1.53435740065911,
          1.53435740065908,
          1.5343574006585
         ]
        }
       ],
       "layout": {
        "barmode": "stack",
        "height": 400,
        "margin": {
         "b": 100
        },
        "title": {
         "text": "Sucrose Export"
        },
        "width": 600,
        "xaxis": {
         "tickangle": 0,
         "title": {
          "text": "decarboxylation enzyme"
         }
        },
        "yaxis": {
         "autorange": true,
         "title": {
          "text": "Flux [µmol/s/m2]"
         }
        }
       }
      },
      "text/html": [
       "<div>\n",
       "        \n",
       "        \n",
       "            <div id=\"e842bb8c-b9db-4c40-9c75-23a3a2b268a2\" class=\"plotly-graph-div\"></div>\n",
       "            <script type=\"text/javascript\">\n",
       "                require([\"plotly\"], function(Plotly) {\n",
       "                    window.PLOTLYENV=window.PLOTLYENV || {};\n",
       "                    window.PLOTLYENV.BASE_URL='https://plot.ly';\n",
       "                    \n",
       "                if (document.getElementById(\"e842bb8c-b9db-4c40-9c75-23a3a2b268a2\")) {\n",
       "                    Plotly.newPlot(\n",
       "                        'e842bb8c-b9db-4c40-9c75-23a3a2b268a2',\n",
       "                        [{\"marker\": {\"color\": \"rgb(8,81,156)\"}, \"name\": \"Ex_Suc\", \"type\": \"bar\", \"uid\": \"d07ca632-bfac-4e95-bfc0-51e4c9615435\", \"x\": [\"NAD-ME\", \"NADP-ME\", \"PEP-CK\"], \"y\": [1.53435740065911, 1.53435740065908, 1.5343574006585]}],\n",
       "                        {\"barmode\": \"stack\", \"height\": 400, \"margin\": {\"b\": 100}, \"title\": {\"text\": \"Sucrose Export\"}, \"width\": 600, \"xaxis\": {\"tickangle\": 0, \"title\": {\"text\": \"decarboxylation enzyme\"}}, \"yaxis\": {\"autorange\": true, \"title\": {\"text\": \"Flux [\\u00b5mol/s/m2]\"}}},\n",
       "                        {\"plotlyServerURL\": \"https://plot.ly\", \"linkText\": \"Export to plot.ly\", \"showLink\": false}\n",
       "                    )\n",
       "                };\n",
       "                });\n",
       "            </script>\n",
       "        </div>"
      ]
     },
     "metadata": {},
     "output_type": "display_data"
    }
   ],
   "source": [
    "create_bar_plot_rxn(D_pfba, D_exp,\n",
    "                    {'[B]_Ex_Suc':'Ex_Suc',},\n",
    "                    'Sucrose Export', xaxis_title,\n",
    "                    stacked = True, save_fig=save_fig)"
   ]
  },
  {
   "cell_type": "code",
   "execution_count": 19,
   "metadata": {
    "ExecuteTime": {
     "end_time": "2019-05-06T13:54:33.296713Z",
     "start_time": "2019-05-06T15:54:33.123613+02:00"
    },
    "code_folding": [],
    "run_control": {
     "marked": true
    },
    "scrolled": false
   },
   "outputs": [
    {
     "data": {
      "application/vnd.plotly.v1+json": {
       "config": {
        "linkText": "Export to plot.ly",
        "plotlyServerURL": "https://plot.ly",
        "showLink": false
       },
       "data": [
        {
         "marker": {
          "color": "rgb(8,81,156)"
         },
         "name": "Bundle sheath",
         "type": "bar",
         "uid": "81e37b5a-6f31-435a-8487-498e35a810bf",
         "x": [
          "NAD-ME",
          "NADP-ME",
          "PEP-CK"
         ],
         "y": [
          207.0986208413306,
          207.72027472973866,
          206.48178938405152
         ]
        },
        {
         "marker": {
          "color": "rgb(166,54,3)"
         },
         "name": "Mesophyll",
         "type": "bar",
         "uid": "01eee488-423a-4786-a4e0-dd146670d873",
         "x": [
          "NAD-ME",
          "NADP-ME",
          "PEP-CK"
         ],
         "y": [
          207.0986208413306,
          207.72027472973866,
          206.48178938405152
         ]
        }
       ],
       "layout": {
        "barmode": "stack",
        "height": 400,
        "margin": {
         "b": 100
        },
        "title": {
         "text": "Photon Uptake"
        },
        "width": 600,
        "xaxis": {
         "tickangle": 0,
         "title": {
          "text": "decarboxylation enzyme"
         }
        },
        "yaxis": {
         "autorange": true,
         "title": {
          "text": "Flux [µmol/s/m2]"
         }
        }
       }
      },
      "text/html": [
       "<div>\n",
       "        \n",
       "        \n",
       "            <div id=\"9ac80c43-67e4-4456-8dd5-762c2eed3cc4\" class=\"plotly-graph-div\"></div>\n",
       "            <script type=\"text/javascript\">\n",
       "                require([\"plotly\"], function(Plotly) {\n",
       "                    window.PLOTLYENV=window.PLOTLYENV || {};\n",
       "                    window.PLOTLYENV.BASE_URL='https://plot.ly';\n",
       "                    \n",
       "                if (document.getElementById(\"9ac80c43-67e4-4456-8dd5-762c2eed3cc4\")) {\n",
       "                    Plotly.newPlot(\n",
       "                        '9ac80c43-67e4-4456-8dd5-762c2eed3cc4',\n",
       "                        [{\"marker\": {\"color\": \"rgb(8,81,156)\"}, \"name\": \"Bundle sheath\", \"type\": \"bar\", \"uid\": \"83a19e72-853a-4778-b4e8-893029853623\", \"x\": [\"NAD-ME\", \"NADP-ME\", \"PEP-CK\"], \"y\": [207.0986208413306, 207.72027472973866, 206.48178938405152]}, {\"marker\": {\"color\": \"rgb(166,54,3)\"}, \"name\": \"Mesophyll\", \"type\": \"bar\", \"uid\": \"db37b8c6-e11a-4b0a-af66-c0b4cd03962d\", \"x\": [\"NAD-ME\", \"NADP-ME\", \"PEP-CK\"], \"y\": [207.0986208413306, 207.72027472973866, 206.48178938405152]}],\n",
       "                        {\"barmode\": \"stack\", \"height\": 400, \"margin\": {\"b\": 100}, \"title\": {\"text\": \"Photon Uptake\"}, \"width\": 600, \"xaxis\": {\"tickangle\": 0, \"title\": {\"text\": \"decarboxylation enzyme\"}}, \"yaxis\": {\"autorange\": true, \"title\": {\"text\": \"Flux [\\u00b5mol/s/m2]\"}}},\n",
       "                        {\"plotlyServerURL\": \"https://plot.ly\", \"linkText\": \"Export to plot.ly\", \"showLink\": false}\n",
       "                    )\n",
       "                };\n",
       "                });\n",
       "            </script>\n",
       "        </div>"
      ]
     },
     "metadata": {},
     "output_type": "display_data"
    }
   ],
   "source": [
    "create_bar_plot_rxn(D_pfba, D_exp,\n",
    "                    {'[M]_Im_hnu':'Mesophyll','[B]_Im_hnu': 'Bundle sheath'},\n",
    "                    'Photon Uptake', xaxis_title,\n",
    "                    stacked = True, save_fig=save_fig)"
   ]
  },
  {
   "cell_type": "code",
   "execution_count": 20,
   "metadata": {
    "ExecuteTime": {
     "end_time": "2019-05-06T13:54:33.672231Z",
     "start_time": "2019-05-06T15:54:33.298486+02:00"
    },
    "code_folding": [],
    "run_control": {
     "marked": true
    }
   },
   "outputs": [
    {
     "data": {
      "application/vnd.plotly.v1+json": {
       "config": {
        "linkText": "Export to plot.ly",
        "plotlyServerURL": "https://plot.ly",
        "showLink": false
       },
       "data": [
        {
         "marker": {
          "color": "rgb(8,81,156)"
         },
         "name": "Bundle sheath",
         "type": "bar",
         "uid": "d0e646ad-8cc7-47f5-8f23-15c537107879",
         "x": [
          "NAD-ME",
          "NADP-ME",
          "PEP-CK"
         ],
         "y": [
          77.46189048207272,
          71.41280647645632,
          77.62400561469794
         ]
        },
        {
         "marker": {
          "color": "rgb(166,54,3)"
         },
         "name": "Mesophyll",
         "type": "bar",
         "uid": "4d20622e-60b4-4dd8-82a8-dd70ea8c9915",
         "x": [
          "NAD-ME",
          "NADP-ME",
          "PEP-CK"
         ],
         "y": [
          93.40369921301007,
          98.01715065854526,
          96.19934547897087
         ]
        }
       ],
       "layout": {
        "barmode": "stack",
        "height": 400,
        "margin": {
         "b": 100
        },
        "title": {
         "text": "Photon Uptake by PSII"
        },
        "width": 600,
        "xaxis": {
         "tickangle": 0,
         "title": {
          "text": "decarboxylation enzyme"
         }
        },
        "yaxis": {
         "autorange": true,
         "title": {
          "text": "Flux [µmol/s/m2]"
         }
        }
       }
      },
      "text/html": [
       "<div>\n",
       "        \n",
       "        \n",
       "            <div id=\"10b988ae-f9d8-42f2-9803-3531247c5c3b\" class=\"plotly-graph-div\"></div>\n",
       "            <script type=\"text/javascript\">\n",
       "                require([\"plotly\"], function(Plotly) {\n",
       "                    window.PLOTLYENV=window.PLOTLYENV || {};\n",
       "                    window.PLOTLYENV.BASE_URL='https://plot.ly';\n",
       "                    \n",
       "                if (document.getElementById(\"10b988ae-f9d8-42f2-9803-3531247c5c3b\")) {\n",
       "                    Plotly.newPlot(\n",
       "                        '10b988ae-f9d8-42f2-9803-3531247c5c3b',\n",
       "                        [{\"marker\": {\"color\": \"rgb(8,81,156)\"}, \"name\": \"Bundle sheath\", \"type\": \"bar\", \"uid\": \"f9fa2fa6-8a80-4d7d-b4c5-0bdeaaf009b1\", \"x\": [\"NAD-ME\", \"NADP-ME\", \"PEP-CK\"], \"y\": [77.46189048207272, 71.41280647645632, 77.62400561469794]}, {\"marker\": {\"color\": \"rgb(166,54,3)\"}, \"name\": \"Mesophyll\", \"type\": \"bar\", \"uid\": \"7f18cb53-5fc1-44ec-907e-f3d6f468e8d1\", \"x\": [\"NAD-ME\", \"NADP-ME\", \"PEP-CK\"], \"y\": [93.40369921301007, 98.01715065854526, 96.19934547897087]}],\n",
       "                        {\"barmode\": \"stack\", \"height\": 400, \"margin\": {\"b\": 100}, \"title\": {\"text\": \"Photon Uptake by PSII\"}, \"width\": 600, \"xaxis\": {\"tickangle\": 0, \"title\": {\"text\": \"decarboxylation enzyme\"}}, \"yaxis\": {\"autorange\": true, \"title\": {\"text\": \"Flux [\\u00b5mol/s/m2]\"}}},\n",
       "                        {\"plotlyServerURL\": \"https://plot.ly\", \"linkText\": \"Export to plot.ly\", \"showLink\": false}\n",
       "                    )\n",
       "                };\n",
       "                });\n",
       "            </script>\n",
       "        </div>"
      ]
     },
     "metadata": {},
     "output_type": "display_data"
    }
   ],
   "source": [
    "create_bar_plot_met(D_pfba, D_exp,\n",
    "                    {'[M]_PSII_h':'Mesophyll','[B]_PSII_h': 'Bundle sheath'},'hnu_h',\n",
    "                    'Photon Uptake by PSII', xaxis_title, c3_model,\n",
    "                    stacked = True, save_fig=save_fig)"
   ]
  },
  {
   "cell_type": "code",
   "execution_count": 21,
   "metadata": {
    "ExecuteTime": {
     "end_time": "2019-05-06T13:54:33.818542Z",
     "start_time": "2019-05-06T15:54:33.673830+02:00"
    },
    "code_folding": []
   },
   "outputs": [
    {
     "data": {
      "application/vnd.plotly.v1+json": {
       "config": {
        "linkText": "Export to plot.ly",
        "plotlyServerURL": "https://plot.ly",
        "showLink": false
       },
       "data": [
        {
         "marker": {
          "color": "rgb(8,81,156)"
         },
         "name": "Bundle sheath",
         "type": "bar",
         "uid": "bb23423e-6255-4b46-a275-bf36de6dfc8d",
         "x": [
          "NAD-ME",
          "NADP-ME",
          "PEP-CK"
         ],
         "y": [
          129.63673035925785,
          136.30746825328245,
          128.85778376935363
         ]
        },
        {
         "marker": {
          "color": "rgb(166,54,3)"
         },
         "name": "Mesophyll",
         "type": "bar",
         "uid": "059b5404-1805-4983-9d44-1e91a77c5abe",
         "x": [
          "NAD-ME",
          "NADP-ME",
          "PEP-CK"
         ],
         "y": [
          113.69492162832054,
          109.7031240711934,
          110.28244390508063
         ]
        }
       ],
       "layout": {
        "barmode": "stack",
        "height": 400,
        "margin": {
         "b": 100
        },
        "title": {
         "text": "Photon Uptake by PSI"
        },
        "width": 600,
        "xaxis": {
         "tickangle": 0,
         "title": {
          "text": "decarboxylation enzyme"
         }
        },
        "yaxis": {
         "autorange": true,
         "title": {
          "text": "Flux [µmol/s/m2]"
         }
        }
       }
      },
      "text/html": [
       "<div>\n",
       "        \n",
       "        \n",
       "            <div id=\"bd3e48ec-d57a-48fc-8d61-3070023f1118\" class=\"plotly-graph-div\"></div>\n",
       "            <script type=\"text/javascript\">\n",
       "                require([\"plotly\"], function(Plotly) {\n",
       "                    window.PLOTLYENV=window.PLOTLYENV || {};\n",
       "                    window.PLOTLYENV.BASE_URL='https://plot.ly';\n",
       "                    \n",
       "                if (document.getElementById(\"bd3e48ec-d57a-48fc-8d61-3070023f1118\")) {\n",
       "                    Plotly.newPlot(\n",
       "                        'bd3e48ec-d57a-48fc-8d61-3070023f1118',\n",
       "                        [{\"marker\": {\"color\": \"rgb(8,81,156)\"}, \"name\": \"Bundle sheath\", \"type\": \"bar\", \"uid\": \"66883262-7476-451c-8ae9-ae9ab52f1c02\", \"x\": [\"NAD-ME\", \"NADP-ME\", \"PEP-CK\"], \"y\": [129.63673035925785, 136.30746825328245, 128.85778376935363]}, {\"marker\": {\"color\": \"rgb(166,54,3)\"}, \"name\": \"Mesophyll\", \"type\": \"bar\", \"uid\": \"a8129ebc-812d-4dec-865e-48400f9c87b7\", \"x\": [\"NAD-ME\", \"NADP-ME\", \"PEP-CK\"], \"y\": [113.69492162832054, 109.7031240711934, 110.28244390508063]}],\n",
       "                        {\"barmode\": \"stack\", \"height\": 400, \"margin\": {\"b\": 100}, \"title\": {\"text\": \"Photon Uptake by PSI\"}, \"width\": 600, \"xaxis\": {\"tickangle\": 0, \"title\": {\"text\": \"decarboxylation enzyme\"}}, \"yaxis\": {\"autorange\": true, \"title\": {\"text\": \"Flux [\\u00b5mol/s/m2]\"}}},\n",
       "                        {\"plotlyServerURL\": \"https://plot.ly\", \"linkText\": \"Export to plot.ly\", \"showLink\": false}\n",
       "                    )\n",
       "                };\n",
       "                });\n",
       "            </script>\n",
       "        </div>"
      ]
     },
     "metadata": {},
     "output_type": "display_data"
    }
   ],
   "source": [
    "create_bar_plot_met(D_pfba, D_exp,\n",
    "                    {'[M]_PSI_h':'Mesophyll','[B]_PSI_h': 'Bundle sheath'},'hnu_h',\n",
    "                    'Photon Uptake by PSI', xaxis_title, c3_model,\n",
    "                    stacked = True, save_fig=save_fig)"
   ]
  },
  {
   "cell_type": "code",
   "execution_count": 22,
   "metadata": {
    "ExecuteTime": {
     "end_time": "2019-05-06T13:54:33.965996Z",
     "start_time": "2019-05-06T15:54:33.820039+02:00"
    }
   },
   "outputs": [
    {
     "data": {
      "application/vnd.plotly.v1+json": {
       "config": {
        "linkText": "Export to plot.ly",
        "plotlyServerURL": "https://plot.ly",
        "showLink": false
       },
       "data": [
        {
         "marker": {
          "color": "rgb(8,81,156)"
         },
         "name": "Bundle sheath",
         "type": "bar",
         "uid": "84789389-8157-4d22-858b-0c99be63890a",
         "x": [
          "NAD-ME",
          "NADP-ME",
          "PEP-CK"
         ],
         "y": [
          3.236099245026427,
          0.8433783115633737,
          8.46895334159228
         ]
        },
        {
         "marker": {
          "color": "rgb(166,54,3)"
         },
         "name": "Mesophyll",
         "type": "bar",
         "uid": "b81eca00-8c49-491b-bcc5-74974625ea8c",
         "x": [
          "NAD-ME",
          "NADP-ME",
          "PEP-CK"
         ],
         "y": [
          2.4879304709970533,
          2.4879304709970533,
          2.184678705519904
         ]
        }
       ],
       "layout": {
        "barmode": "stack",
        "height": 400,
        "margin": {
         "b": 100
        },
        "title": {
         "text": "ATP Synthesis Mitochondria"
        },
        "width": 600,
        "xaxis": {
         "tickangle": 0,
         "title": {
          "text": "decarboxylation enzyme"
         }
        },
        "yaxis": {
         "autorange": true,
         "title": {
          "text": "Flux [µmol/s/m2]"
         }
        }
       }
      },
      "text/html": [
       "<div>\n",
       "        \n",
       "        \n",
       "            <div id=\"b1f35636-e9ea-433c-959c-ad99276c3444\" class=\"plotly-graph-div\"></div>\n",
       "            <script type=\"text/javascript\">\n",
       "                require([\"plotly\"], function(Plotly) {\n",
       "                    window.PLOTLYENV=window.PLOTLYENV || {};\n",
       "                    window.PLOTLYENV.BASE_URL='https://plot.ly';\n",
       "                    \n",
       "                if (document.getElementById(\"b1f35636-e9ea-433c-959c-ad99276c3444\")) {\n",
       "                    Plotly.newPlot(\n",
       "                        'b1f35636-e9ea-433c-959c-ad99276c3444',\n",
       "                        [{\"marker\": {\"color\": \"rgb(8,81,156)\"}, \"name\": \"Bundle sheath\", \"type\": \"bar\", \"uid\": \"1d8d90c5-3274-4ed8-b7f3-17d872ee3522\", \"x\": [\"NAD-ME\", \"NADP-ME\", \"PEP-CK\"], \"y\": [3.236099245026427, 0.8433783115633737, 8.46895334159228]}, {\"marker\": {\"color\": \"rgb(166,54,3)\"}, \"name\": \"Mesophyll\", \"type\": \"bar\", \"uid\": \"186fdc2a-30a0-422f-9841-f264d1426edf\", \"x\": [\"NAD-ME\", \"NADP-ME\", \"PEP-CK\"], \"y\": [2.4879304709970533, 2.4879304709970533, 2.184678705519904]}],\n",
       "                        {\"barmode\": \"stack\", \"height\": 400, \"margin\": {\"b\": 100}, \"title\": {\"text\": \"ATP Synthesis Mitochondria\"}, \"width\": 600, \"xaxis\": {\"tickangle\": 0, \"title\": {\"text\": \"decarboxylation enzyme\"}}, \"yaxis\": {\"autorange\": true, \"title\": {\"text\": \"Flux [\\u00b5mol/s/m2]\"}}},\n",
       "                        {\"plotlyServerURL\": \"https://plot.ly\", \"linkText\": \"Export to plot.ly\", \"showLink\": false}\n",
       "                    )\n",
       "                };\n",
       "                });\n",
       "            </script>\n",
       "        </div>"
      ]
     },
     "metadata": {},
     "output_type": "display_data"
    }
   ],
   "source": [
    "create_bar_plot_met(D_pfba, D_exp,\n",
    "                    {'[M]_cplx5_m':'Mesophyll','[B]_cplx5_m': 'Bundle sheath'},'ATP_m',\n",
    "                    'ATP Synthesis Mitochondria', xaxis_title, c3_model,\n",
    "                    stacked = True, save_fig=save_fig)"
   ]
  },
  {
   "cell_type": "code",
   "execution_count": 23,
   "metadata": {
    "ExecuteTime": {
     "end_time": "2019-05-06T13:54:34.111414Z",
     "start_time": "2019-05-06T15:54:33.967601+02:00"
    }
   },
   "outputs": [
    {
     "data": {
      "application/vnd.plotly.v1+json": {
       "config": {
        "linkText": "Export to plot.ly",
        "plotlyServerURL": "https://plot.ly",
        "showLink": false
       },
       "data": [
        {
         "marker": {
          "color": "rgb(8,81,156)"
         },
         "name": "Bundle sheath",
         "type": "bar",
         "uid": "14636756-7aee-44f9-b201-22bd797fb1bc",
         "x": [
          "NAD-ME",
          "NADP-ME",
          "PEP-CK"
         ],
         "y": [
          110.2712577387397,
          118.45426663416839,
          109.45178236567916
         ]
        },
        {
         "marker": {
          "color": "rgb(166,54,3)"
         },
         "name": "Mesophyll",
         "type": "bar",
         "uid": "1fd0a8ab-fff9-41c0-ae2d-a38f20d4f7ae",
         "x": [
          "NAD-ME",
          "NADP-ME",
          "PEP-CK"
         ],
         "y": [
          90.34399682506802,
          85.1988364065571,
          86.2326075353379
         ]
        }
       ],
       "layout": {
        "barmode": "stack",
        "height": 400,
        "margin": {
         "b": 100
        },
        "title": {
         "text": "ATP Synthesis Chloroplast"
        },
        "width": 600,
        "xaxis": {
         "tickangle": 0,
         "title": {
          "text": "decarboxylation enzyme"
         }
        },
        "yaxis": {
         "autorange": true,
         "title": {
          "text": "Flux [µmol/s/m2]"
         }
        }
       }
      },
      "text/html": [
       "<div>\n",
       "        \n",
       "        \n",
       "            <div id=\"e24eb5b2-27af-4001-881f-bed55b14aff5\" class=\"plotly-graph-div\"></div>\n",
       "            <script type=\"text/javascript\">\n",
       "                require([\"plotly\"], function(Plotly) {\n",
       "                    window.PLOTLYENV=window.PLOTLYENV || {};\n",
       "                    window.PLOTLYENV.BASE_URL='https://plot.ly';\n",
       "                    \n",
       "                if (document.getElementById(\"e24eb5b2-27af-4001-881f-bed55b14aff5\")) {\n",
       "                    Plotly.newPlot(\n",
       "                        'e24eb5b2-27af-4001-881f-bed55b14aff5',\n",
       "                        [{\"marker\": {\"color\": \"rgb(8,81,156)\"}, \"name\": \"Bundle sheath\", \"type\": \"bar\", \"uid\": \"ad6a522f-434b-41b0-991c-ed243dc1bc05\", \"x\": [\"NAD-ME\", \"NADP-ME\", \"PEP-CK\"], \"y\": [110.2712577387397, 118.45426663416839, 109.45178236567916]}, {\"marker\": {\"color\": \"rgb(166,54,3)\"}, \"name\": \"Mesophyll\", \"type\": \"bar\", \"uid\": \"54454f23-e597-463b-bfb4-05a2506e1562\", \"x\": [\"NAD-ME\", \"NADP-ME\", \"PEP-CK\"], \"y\": [90.34399682506802, 85.1988364065571, 86.2326075353379]}],\n",
       "                        {\"barmode\": \"stack\", \"height\": 400, \"margin\": {\"b\": 100}, \"title\": {\"text\": \"ATP Synthesis Chloroplast\"}, \"width\": 600, \"xaxis\": {\"tickangle\": 0, \"title\": {\"text\": \"decarboxylation enzyme\"}}, \"yaxis\": {\"autorange\": true, \"title\": {\"text\": \"Flux [\\u00b5mol/s/m2]\"}}},\n",
       "                        {\"plotlyServerURL\": \"https://plot.ly\", \"linkText\": \"Export to plot.ly\", \"showLink\": false}\n",
       "                    )\n",
       "                };\n",
       "                });\n",
       "            </script>\n",
       "        </div>"
      ]
     },
     "metadata": {},
     "output_type": "display_data"
    }
   ],
   "source": [
    "create_bar_plot_met(D_pfba, D_exp,\n",
    "                    {'[M]_ATPase_h':'Mesophyll','[B]_ATPase_h': 'Bundle sheath'},'ATP_h',\n",
    "                    'ATP Synthesis Chloroplast', xaxis_title, c3_model,\n",
    "                    stacked = True, save_fig=save_fig)"
   ]
  },
  {
   "cell_type": "code",
   "execution_count": 24,
   "metadata": {
    "ExecuteTime": {
     "end_time": "2019-05-06T13:54:34.273265Z",
     "start_time": "2019-05-06T15:54:34.113002+02:00"
    },
    "code_folding": [],
    "run_control": {
     "marked": true
    }
   },
   "outputs": [
    {
     "data": {
      "application/vnd.plotly.v1+json": {
       "config": {
        "linkText": "Export to plot.ly",
        "plotlyServerURL": "https://plot.ly",
        "showLink": false
       },
       "data": [
        {
         "marker": {
          "color": "rgb(49,130,189)"
         },
         "name": "Bundle sheat (unconstrained)",
         "type": "bar",
         "uid": "401eea7a-18ff-4581-a4bd-e16e0506fe07",
         "x": [
          "NAD-ME",
          "NADP-ME",
          "PEP-CK"
         ],
         "y": [
          40.17505623071256,
          40.17505623071171,
          40.175056230696406
         ]
        },
        {
         "marker": {
          "color": "rgb(8,81,156)"
         },
         "name": "Bundle sheat (constrained)",
         "type": "bar",
         "uid": "476d868f-66f0-4280-8c62-ef9030bd191e",
         "x": [
          "NAD-ME",
          "NADP-ME",
          "PEP-CK"
         ],
         "y": [
          0,
          6.41534993224754e-16,
          0
         ]
        },
        {
         "marker": {
          "color": "rgb(166,54,3)"
         },
         "name": "Mesophyll (constrained)",
         "type": "bar",
         "uid": "47816d3c-79db-4376-9c39-54c357d889f2",
         "x": [
          "NAD-ME",
          "NADP-ME",
          "PEP-CK"
         ],
         "y": [
          3.217687617565e-14,
          1.14011764316202e-19,
          2.6639644081193896e-18
         ]
        }
       ],
       "layout": {
        "barmode": "stack",
        "height": 400,
        "margin": {
         "b": 100
        },
        "title": {
         "text": "Carboxylation by Rubisco"
        },
        "width": 600,
        "xaxis": {
         "tickangle": 0,
         "title": {
          "text": "decarboxylation enzyme"
         }
        },
        "yaxis": {
         "autorange": true,
         "title": {
          "text": "Flux [µmol/s/m2]"
         }
        }
       }
      },
      "text/html": [
       "<div>\n",
       "        \n",
       "        \n",
       "            <div id=\"7093b943-4056-4e98-afe9-79c97ade029b\" class=\"plotly-graph-div\"></div>\n",
       "            <script type=\"text/javascript\">\n",
       "                require([\"plotly\"], function(Plotly) {\n",
       "                    window.PLOTLYENV=window.PLOTLYENV || {};\n",
       "                    window.PLOTLYENV.BASE_URL='https://plot.ly';\n",
       "                    \n",
       "                if (document.getElementById(\"7093b943-4056-4e98-afe9-79c97ade029b\")) {\n",
       "                    Plotly.newPlot(\n",
       "                        '7093b943-4056-4e98-afe9-79c97ade029b',\n",
       "                        [{\"marker\": {\"color\": \"rgb(49,130,189)\"}, \"name\": \"Bundle sheat (unconstrained)\", \"type\": \"bar\", \"uid\": \"e6e63c12-b29f-4539-9409-effc30b30254\", \"x\": [\"NAD-ME\", \"NADP-ME\", \"PEP-CK\"], \"y\": [40.17505623071256, 40.17505623071171, 40.175056230696406]}, {\"marker\": {\"color\": \"rgb(8,81,156)\"}, \"name\": \"Bundle sheat (constrained)\", \"type\": \"bar\", \"uid\": \"8a162ed8-32e7-4cae-b0bf-18cc15342ce0\", \"x\": [\"NAD-ME\", \"NADP-ME\", \"PEP-CK\"], \"y\": [0.0, 6.41534993224754e-16, 0.0]}, {\"marker\": {\"color\": \"rgb(166,54,3)\"}, \"name\": \"Mesophyll (constrained)\", \"type\": \"bar\", \"uid\": \"ac4d0351-a7ae-46d4-96a6-e89d37dd1d6c\", \"x\": [\"NAD-ME\", \"NADP-ME\", \"PEP-CK\"], \"y\": [3.217687617565e-14, 1.14011764316202e-19, 2.6639644081193896e-18]}],\n",
       "                        {\"barmode\": \"stack\", \"height\": 400, \"margin\": {\"b\": 100}, \"title\": {\"text\": \"Carboxylation by Rubisco\"}, \"width\": 600, \"xaxis\": {\"tickangle\": 0, \"title\": {\"text\": \"decarboxylation enzyme\"}}, \"yaxis\": {\"autorange\": true, \"title\": {\"text\": \"Flux [\\u00b5mol/s/m2]\"}}},\n",
       "                        {\"plotlyServerURL\": \"https://plot.ly\", \"linkText\": \"Export to plot.ly\", \"showLink\": false}\n",
       "                    )\n",
       "                };\n",
       "                });\n",
       "            </script>\n",
       "        </div>"
      ]
     },
     "metadata": {},
     "output_type": "display_data"
    }
   ],
   "source": [
    "create_bar_plot_rxn(D_pfba, D_exp,\n",
    "                    {'[M]_RBC_h':'Mesophyll (constrained)','[B]_RBC_h_Ex':'Bundle sheat (constrained)',\n",
    "                 '[B]_RBC_h': 'Bundle sheat (unconstrained)'},\n",
    "                    'Carboxylation by Rubisco',  xaxis_title,\n",
    "                    stacked = True, save_fig=save_fig)"
   ]
  },
  {
   "cell_type": "code",
   "execution_count": 25,
   "metadata": {
    "ExecuteTime": {
     "end_time": "2019-05-06T13:54:34.590130Z",
     "start_time": "2019-05-06T15:54:34.274856+02:00"
    },
    "run_control": {
     "marked": true
    }
   },
   "outputs": [
    {
     "data": {
      "application/vnd.plotly.v1+json": {
       "config": {
        "linkText": "Export to plot.ly",
        "plotlyServerURL": "https://plot.ly",
        "showLink": false
       },
       "data": [
        {
         "marker": {
          "color": "rgb(8,81,156)"
         },
         "name": "Bundle sheath",
         "type": "bar",
         "uid": "86da684c-4684-4913-acd3-1d55dcd38050",
         "x": [
          "NAD-ME",
          "NADP-ME",
          "PEP-CK"
         ],
         "y": [
          0,
          0,
          0
         ]
        },
        {
         "marker": {
          "color": "rgb(166,54,3)"
         },
         "name": "Mesophyll",
         "type": "bar",
         "uid": "d2fec740-a99c-43b7-b593-dbdb4c794408",
         "x": [
          "NAD-ME",
          "NADP-ME",
          "PEP-CK"
         ],
         "y": [
          39.98605129635866,
          39.9860512963578,
          39.98605129634257
         ]
        }
       ],
       "layout": {
        "barmode": "stack",
        "height": 400,
        "margin": {
         "b": 100
        },
        "title": {
         "text": "PEPC"
        },
        "width": 600,
        "xaxis": {
         "tickangle": 0,
         "title": {
          "text": "decarboxylation enzyme"
         }
        },
        "yaxis": {
         "autorange": true,
         "title": {
          "text": "Flux [µmol/s/m2]"
         }
        }
       }
      },
      "text/html": [
       "<div>\n",
       "        \n",
       "        \n",
       "            <div id=\"0db1ec9d-196d-44b8-b4df-2d17de988e83\" class=\"plotly-graph-div\"></div>\n",
       "            <script type=\"text/javascript\">\n",
       "                require([\"plotly\"], function(Plotly) {\n",
       "                    window.PLOTLYENV=window.PLOTLYENV || {};\n",
       "                    window.PLOTLYENV.BASE_URL='https://plot.ly';\n",
       "                    \n",
       "                if (document.getElementById(\"0db1ec9d-196d-44b8-b4df-2d17de988e83\")) {\n",
       "                    Plotly.newPlot(\n",
       "                        '0db1ec9d-196d-44b8-b4df-2d17de988e83',\n",
       "                        [{\"marker\": {\"color\": \"rgb(8,81,156)\"}, \"name\": \"Bundle sheath\", \"type\": \"bar\", \"uid\": \"f1921c48-53f8-4377-a3c9-d0cc0f4d823d\", \"x\": [\"NAD-ME\", \"NADP-ME\", \"PEP-CK\"], \"y\": [0.0, 0.0, 0.0]}, {\"marker\": {\"color\": \"rgb(166,54,3)\"}, \"name\": \"Mesophyll\", \"type\": \"bar\", \"uid\": \"d340f994-c6d0-4d7a-82b1-ba3e4bc79e6a\", \"x\": [\"NAD-ME\", \"NADP-ME\", \"PEP-CK\"], \"y\": [39.98605129635866, 39.9860512963578, 39.98605129634257]}],\n",
       "                        {\"barmode\": \"stack\", \"height\": 400, \"margin\": {\"b\": 100}, \"title\": {\"text\": \"PEPC\"}, \"width\": 600, \"xaxis\": {\"tickangle\": 0, \"title\": {\"text\": \"decarboxylation enzyme\"}}, \"yaxis\": {\"autorange\": true, \"title\": {\"text\": \"Flux [\\u00b5mol/s/m2]\"}}},\n",
       "                        {\"plotlyServerURL\": \"https://plot.ly\", \"linkText\": \"Export to plot.ly\", \"showLink\": false}\n",
       "                    )\n",
       "                };\n",
       "                });\n",
       "            </script>\n",
       "        </div>"
      ]
     },
     "metadata": {},
     "output_type": "display_data"
    }
   ],
   "source": [
    "create_bar_plot_rxn(D_pfba, D_exp,\n",
    "                    {'[M]_PEPC2_c': 'Mesophyll', '[B]_PEPC2_c': 'Bundle sheath'},\n",
    "                    'PEPC',  xaxis_title,\n",
    "                     stacked = True, save_fig=save_fig)"
   ]
  },
  {
   "cell_type": "code",
   "execution_count": 26,
   "metadata": {
    "ExecuteTime": {
     "end_time": "2019-05-06T13:54:34.740848Z",
     "start_time": "2019-05-06T15:54:34.591626+02:00"
    }
   },
   "outputs": [
    {
     "data": {
      "application/vnd.plotly.v1+json": {
       "config": {
        "linkText": "Export to plot.ly",
        "plotlyServerURL": "https://plot.ly",
        "showLink": false
       },
       "data": [
        {
         "marker": {
          "color": "rgb(8,81,156)"
         },
         "name": "Bundle sheath",
         "type": "bar",
         "uid": "0aecae6e-17fa-48f8-b726-bd582a1aec1a",
         "x": [
          "NAD-ME",
          "NADP-ME",
          "PEP-CK"
         ],
         "y": [
          0.08508709221836884,
          0.08508709221836719,
          0.08592864663122511
         ]
        },
        {
         "marker": {
          "color": "rgb(166,54,3)"
         },
         "name": "Mesophyll",
         "type": "bar",
         "uid": "7d070049-09ea-46a5-90fe-999b5de47ce1",
         "x": [
          "NAD-ME",
          "NADP-ME",
          "PEP-CK"
         ],
         "y": [
          39.98884103708719,
          39.98884103708627,
          39.98884103707104
         ]
        }
       ],
       "layout": {
        "barmode": "stack",
        "height": 400,
        "margin": {
         "b": 100
        },
        "title": {
         "text": "PyrPiDK"
        },
        "width": 600,
        "xaxis": {
         "tickangle": 0,
         "title": {
          "text": "decarboxylation enzyme"
         }
        },
        "yaxis": {
         "autorange": true,
         "title": {
          "text": "Flux [µmol/s/m2]"
         }
        }
       }
      },
      "text/html": [
       "<div>\n",
       "        \n",
       "        \n",
       "            <div id=\"c3ba5e72-f917-4e36-98fa-3493c4d4cf9d\" class=\"plotly-graph-div\"></div>\n",
       "            <script type=\"text/javascript\">\n",
       "                require([\"plotly\"], function(Plotly) {\n",
       "                    window.PLOTLYENV=window.PLOTLYENV || {};\n",
       "                    window.PLOTLYENV.BASE_URL='https://plot.ly';\n",
       "                    \n",
       "                if (document.getElementById(\"c3ba5e72-f917-4e36-98fa-3493c4d4cf9d\")) {\n",
       "                    Plotly.newPlot(\n",
       "                        'c3ba5e72-f917-4e36-98fa-3493c4d4cf9d',\n",
       "                        [{\"marker\": {\"color\": \"rgb(8,81,156)\"}, \"name\": \"Bundle sheath\", \"type\": \"bar\", \"uid\": \"14d0d152-3f8a-4dd7-b9f2-ca1cb1818424\", \"x\": [\"NAD-ME\", \"NADP-ME\", \"PEP-CK\"], \"y\": [0.08508709221836884, 0.08508709221836719, 0.08592864663122511]}, {\"marker\": {\"color\": \"rgb(166,54,3)\"}, \"name\": \"Mesophyll\", \"type\": \"bar\", \"uid\": \"7f9f1ac5-95d5-4147-8f73-47dcd9ddef03\", \"x\": [\"NAD-ME\", \"NADP-ME\", \"PEP-CK\"], \"y\": [39.98884103708719, 39.98884103708627, 39.98884103707104]}],\n",
       "                        {\"barmode\": \"stack\", \"height\": 400, \"margin\": {\"b\": 100}, \"title\": {\"text\": \"PyrPiDK\"}, \"width\": 600, \"xaxis\": {\"tickangle\": 0, \"title\": {\"text\": \"decarboxylation enzyme\"}}, \"yaxis\": {\"autorange\": true, \"title\": {\"text\": \"Flux [\\u00b5mol/s/m2]\"}}},\n",
       "                        {\"plotlyServerURL\": \"https://plot.ly\", \"linkText\": \"Export to plot.ly\", \"showLink\": false}\n",
       "                    )\n",
       "                };\n",
       "                });\n",
       "            </script>\n",
       "        </div>"
      ]
     },
     "metadata": {},
     "output_type": "display_data"
    }
   ],
   "source": [
    "create_bar_plot_rxn(D_pfba, D_exp,\n",
    "                    {'[M]_PyrPiDK_h': 'Mesophyll', '[B]_PyrPiDK_h': 'Bundle sheath'},\n",
    "                    'PyrPiDK',  xaxis_title,\n",
    "                     stacked = True, save_fig=save_fig)"
   ]
  },
  {
   "cell_type": "code",
   "execution_count": 27,
   "metadata": {
    "ExecuteTime": {
     "end_time": "2019-05-06T13:54:34.894652Z",
     "start_time": "2019-05-06T15:54:34.742370+02:00"
    }
   },
   "outputs": [
    {
     "data": {
      "application/vnd.plotly.v1+json": {
       "config": {
        "linkText": "Export to plot.ly",
        "plotlyServerURL": "https://plot.ly",
        "showLink": false
       },
       "data": [
        {
         "marker": {
          "color": "rgb(8,81,156)"
         },
         "name": "Bundle sheath",
         "type": "bar",
         "uid": "1e943c89-4e6d-4e80-9289-3d1478325186",
         "x": [
          "NAD-ME",
          "NADP-ME",
          "PEP-CK"
         ],
         "y": [
          0,
          0,
          0
         ]
        },
        {
         "marker": {
          "color": "rgb(166,54,3)"
         },
         "name": "Mesophyll",
         "type": "bar",
         "uid": "9cb6265f-6996-4f66-9c8d-83379a60167b",
         "x": [
          "NAD-ME",
          "NADP-ME",
          "PEP-CK"
         ],
         "y": [
          0,
          0,
          0
         ]
        }
       ],
       "layout": {
        "barmode": "stack",
        "height": 400,
        "margin": {
         "b": 100
        },
        "title": {
         "text": "iCitDHNADP_h"
        },
        "width": 600,
        "xaxis": {
         "tickangle": 0,
         "title": {
          "text": "oxygenation : decarboxylation ratio"
         }
        },
        "yaxis": {
         "autorange": true,
         "title": {
          "text": "Flux [µmol/s/m2]"
         }
        }
       }
      },
      "text/html": [
       "<div>\n",
       "        \n",
       "        \n",
       "            <div id=\"eec97372-ab6a-44a3-a270-9fab7c6f871b\" class=\"plotly-graph-div\"></div>\n",
       "            <script type=\"text/javascript\">\n",
       "                require([\"plotly\"], function(Plotly) {\n",
       "                    window.PLOTLYENV=window.PLOTLYENV || {};\n",
       "                    window.PLOTLYENV.BASE_URL='https://plot.ly';\n",
       "                    \n",
       "                if (document.getElementById(\"eec97372-ab6a-44a3-a270-9fab7c6f871b\")) {\n",
       "                    Plotly.newPlot(\n",
       "                        'eec97372-ab6a-44a3-a270-9fab7c6f871b',\n",
       "                        [{\"marker\": {\"color\": \"rgb(8,81,156)\"}, \"name\": \"Bundle sheath\", \"type\": \"bar\", \"uid\": \"9812e752-5e96-4889-af7f-3dc41707054c\", \"x\": [\"NAD-ME\", \"NADP-ME\", \"PEP-CK\"], \"y\": [0.0, 0.0, 0.0]}, {\"marker\": {\"color\": \"rgb(166,54,3)\"}, \"name\": \"Mesophyll\", \"type\": \"bar\", \"uid\": \"fb715c24-9b0c-4dc7-be45-8f68637c2fd6\", \"x\": [\"NAD-ME\", \"NADP-ME\", \"PEP-CK\"], \"y\": [0.0, 0.0, 0.0]}],\n",
       "                        {\"barmode\": \"stack\", \"height\": 400, \"margin\": {\"b\": 100}, \"title\": {\"text\": \"iCitDHNADP_h\"}, \"width\": 600, \"xaxis\": {\"tickangle\": 0, \"title\": {\"text\": \"oxygenation : decarboxylation ratio\"}}, \"yaxis\": {\"autorange\": true, \"title\": {\"text\": \"Flux [\\u00b5mol/s/m2]\"}}},\n",
       "                        {\"plotlyServerURL\": \"https://plot.ly\", \"linkText\": \"Export to plot.ly\", \"showLink\": false}\n",
       "                    )\n",
       "                };\n",
       "                });\n",
       "            </script>\n",
       "        </div>"
      ]
     },
     "metadata": {},
     "output_type": "display_data"
    }
   ],
   "source": [
    "\n",
    "\n",
    "create_bar_plot_rxn(D_fba, D_exp,\n",
    "                    {'[M]_iCitDHNADP_h': 'Mesophyll', '[B]_iCitDHNADP_h': 'Bundle sheath'},\n",
    "                    'iCitDHNADP_h', 'oxygenation : decarboxylation ratio',\n",
    "                     stacked = True, save_fig=save_fig)"
   ]
  },
  {
   "cell_type": "code",
   "execution_count": 28,
   "metadata": {
    "ExecuteTime": {
     "end_time": "2019-05-06T13:54:35.040313Z",
     "start_time": "2019-05-06T15:54:34.896383+02:00"
    }
   },
   "outputs": [
    {
     "data": {
      "application/vnd.plotly.v1+json": {
       "config": {
        "linkText": "Export to plot.ly",
        "plotlyServerURL": "https://plot.ly",
        "showLink": false
       },
       "data": [
        {
         "marker": {
          "color": "rgb(8,81,156)"
         },
         "name": "Bundle sheath",
         "type": "bar",
         "uid": "c8db47a4-ddc8-47ef-850b-7e866b29d44a",
         "x": [
          "NAD-ME",
          "NADP-ME",
          "PEP-CK"
         ],
         "y": [
          0,
          0,
          0
         ]
        },
        {
         "marker": {
          "color": "rgb(166,54,3)"
         },
         "name": "Mesophyll",
         "type": "bar",
         "uid": "23962813-5ff7-4a59-8664-749956b42fe7",
         "x": [
          "NAD-ME",
          "NADP-ME",
          "PEP-CK"
         ],
         "y": [
          0,
          0,
          0
         ]
        }
       ],
       "layout": {
        "barmode": "stack",
        "height": 400,
        "margin": {
         "b": 100
        },
        "title": {
         "text": "AOX4_h"
        },
        "width": 600,
        "xaxis": {
         "tickangle": 0,
         "title": {
          "text": "oxygenation : decarboxylation ratio"
         }
        },
        "yaxis": {
         "autorange": true,
         "title": {
          "text": "Flux [µmol/s/m2]"
         }
        }
       }
      },
      "text/html": [
       "<div>\n",
       "        \n",
       "        \n",
       "            <div id=\"d7e17c21-87ad-4c76-9ed8-c30f3645d3f8\" class=\"plotly-graph-div\"></div>\n",
       "            <script type=\"text/javascript\">\n",
       "                require([\"plotly\"], function(Plotly) {\n",
       "                    window.PLOTLYENV=window.PLOTLYENV || {};\n",
       "                    window.PLOTLYENV.BASE_URL='https://plot.ly';\n",
       "                    \n",
       "                if (document.getElementById(\"d7e17c21-87ad-4c76-9ed8-c30f3645d3f8\")) {\n",
       "                    Plotly.newPlot(\n",
       "                        'd7e17c21-87ad-4c76-9ed8-c30f3645d3f8',\n",
       "                        [{\"marker\": {\"color\": \"rgb(8,81,156)\"}, \"name\": \"Bundle sheath\", \"type\": \"bar\", \"uid\": \"0a8ba154-3804-4148-a90f-acceb093528b\", \"x\": [\"NAD-ME\", \"NADP-ME\", \"PEP-CK\"], \"y\": [0.0, 0.0, 0.0]}, {\"marker\": {\"color\": \"rgb(166,54,3)\"}, \"name\": \"Mesophyll\", \"type\": \"bar\", \"uid\": \"ac94d7c8-936a-4ff2-b051-5324ab133c47\", \"x\": [\"NAD-ME\", \"NADP-ME\", \"PEP-CK\"], \"y\": [0.0, 0.0, 0.0]}],\n",
       "                        {\"barmode\": \"stack\", \"height\": 400, \"margin\": {\"b\": 100}, \"title\": {\"text\": \"AOX4_h\"}, \"width\": 600, \"xaxis\": {\"tickangle\": 0, \"title\": {\"text\": \"oxygenation : decarboxylation ratio\"}}, \"yaxis\": {\"autorange\": true, \"title\": {\"text\": \"Flux [\\u00b5mol/s/m2]\"}}},\n",
       "                        {\"plotlyServerURL\": \"https://plot.ly\", \"linkText\": \"Export to plot.ly\", \"showLink\": false}\n",
       "                    )\n",
       "                };\n",
       "                });\n",
       "            </script>\n",
       "        </div>"
      ]
     },
     "metadata": {},
     "output_type": "display_data"
    }
   ],
   "source": [
    "\n",
    "\n",
    "create_bar_plot_rxn(D_fba, D_exp,\n",
    "                    {'[M]_AOX4_h': 'Mesophyll', '[B]_AOX4_h': 'Bundle sheath'},\n",
    "                    'AOX4_h', 'oxygenation : decarboxylation ratio',\n",
    "                     stacked = True, save_fig=save_fig)"
   ]
  },
  {
   "cell_type": "code",
   "execution_count": 29,
   "metadata": {
    "ExecuteTime": {
     "end_time": "2019-05-06T13:54:35.888383Z",
     "start_time": "2019-05-06T15:54:35.041809+02:00"
    },
    "hide_input": false,
    "run_control": {
     "marked": true
    },
    "scrolled": false
   },
   "outputs": [
    {
     "data": {
      "application/vnd.plotly.v1+json": {
       "config": {
        "linkText": "Export to plot.ly",
        "plotlyServerURL": "https://plot.ly",
        "showLink": false
       },
       "data": [
        {
         "marker": {
          "color": "rgb(106,61,154)"
         },
         "name": "[B]_6PGDHNADP_h",
         "type": "bar",
         "uid": "31841a57-74f5-41cc-8ffc-7f30fc4927e8",
         "x": [
          "NAD-ME",
          "NADP-ME",
          "PEP-CK"
         ],
         "y": [
          0,
          0,
          0
         ]
        },
        {
         "marker": {
          "color": "rgb(227,26,28)"
         },
         "name": "[B]_6PGDHNAD_h",
         "type": "bar",
         "uid": "21c74c09-bfbb-4fa6-a180-95b895f68b05",
         "x": [
          "NAD-ME",
          "NADP-ME",
          "PEP-CK"
         ],
         "y": [
          0,
          0,
          0
         ]
        },
        {
         "marker": {
          "color": "rgb(178,223,138)"
         },
         "name": "[B]_AGNDA_h",
         "type": "bar",
         "uid": "55a55e09-d854-4fb5-8ea8-c201f6d0d1ac",
         "x": [
          "NAD-ME",
          "NADP-ME",
          "PEP-CK"
         ],
         "y": [
          0.007671787003295551,
          0.007671787003295401,
          0.00767178700329228
         ]
        },
        {
         "marker": {
          "color": "rgb(255,127,0)"
         },
         "name": "[B]_AGNDH_h",
         "type": "bar",
         "uid": "219ea671-7b03-4b14-8253-5c865ecc6bef",
         "x": [
          "NAD-ME",
          "NADP-ME",
          "PEP-CK"
         ],
         "y": [
          0.004184611092706664,
          0.004184611092706582,
          0.0041846110927049995
         ]
        },
        {
         "marker": {
          "color": "rgb(253,191,111)"
         },
         "name": "[B]_ALS1_h",
         "type": "bar",
         "uid": "e7b55e6a-79bc-4585-9970-614893790091",
         "x": [
          "NAD-ME",
          "NADP-ME",
          "PEP-CK"
         ],
         "y": [
          0.03347688874165332,
          0.033476888741652666,
          0.03347688874164
         ]
        },
        {
         "marker": {
          "color": "rgb(202,178,214)"
         },
         "name": "[B]_DAPDC_h",
         "type": "bar",
         "uid": "8a485808-550f-4c41-aacd-4a7c92f1f6a4",
         "x": [
          "NAD-ME",
          "NADP-ME",
          "PEP-CK"
         ],
         "y": [
          0.012553833278119993,
          0.012553833278119746,
          0.012553833278115002
         ]
        },
        {
         "marker": {
          "color": "rgb(51,160,44)"
         },
         "name": "[B]_IPODC_h",
         "type": "bar",
         "uid": "a52fbdb9-0977-4485-b094-e1bff526704e",
         "x": [
          "NAD-ME",
          "NADP-ME",
          "PEP-CK"
         ],
         "y": [
          0.008369222185413328,
          0.008369222185413167,
          0.00836922218541
         ]
        },
        {
         "marker": {
          "color": "rgb(31,120,180)"
         },
         "name": "[B]_IndGPS_h",
         "type": "bar",
         "uid": "c09e8325-f51c-4ec9-a5d7-f6bbc3acefc6",
         "x": [
          "NAD-ME",
          "NADP-ME",
          "PEP-CK"
         ],
         "y": [
          0.006276916639059996,
          0.006276916639059873,
          0.0062769166390575
         ]
        },
        {
         "marker": {
          "color": "rgb(166,206,227)"
         },
         "name": "[B]_MalDH4_h",
         "type": "bar",
         "uid": "5040cae5-eabf-43ed-97d0-c5213783f082",
         "x": [
          "NAD-ME",
          "NADP-ME",
          "PEP-CK"
         ],
         "y": [
          0,
          39.45390825240194,
          0
         ]
        },
        {
         "marker": {
          "color": "rgb(251,154,153)"
         },
         "name": "[B]_iCitDHNADP_h",
         "type": "bar",
         "uid": "fadc1b0c-bc30-4fe8-b538-cd171c479248",
         "x": [
          "NAD-ME",
          "NADP-ME",
          "PEP-CK"
         ],
         "y": [
          0,
          0,
          0
         ]
        }
       ],
       "layout": {
        "barmode": "stack",
        "height": 400,
        "margin": {
         "b": 100
        },
        "title": {
         "text": "CO2 Production Bundesheat (chloroplast)"
        },
        "width": 600,
        "xaxis": {
         "tickangle": 0,
         "title": {
          "text": "decarboxylation enzyme"
         }
        },
        "yaxis": {
         "autorange": true,
         "title": {
          "text": "Flux [µmol/s/m2]"
         }
        }
       }
      },
      "text/html": [
       "<div>\n",
       "        \n",
       "        \n",
       "            <div id=\"906df40f-75f5-40c8-af90-88add9f66399\" class=\"plotly-graph-div\"></div>\n",
       "            <script type=\"text/javascript\">\n",
       "                require([\"plotly\"], function(Plotly) {\n",
       "                    window.PLOTLYENV=window.PLOTLYENV || {};\n",
       "                    window.PLOTLYENV.BASE_URL='https://plot.ly';\n",
       "                    \n",
       "                if (document.getElementById(\"906df40f-75f5-40c8-af90-88add9f66399\")) {\n",
       "                    Plotly.newPlot(\n",
       "                        '906df40f-75f5-40c8-af90-88add9f66399',\n",
       "                        [{\"marker\": {\"color\": \"rgb(106,61,154)\"}, \"name\": \"[B]_6PGDHNADP_h\", \"type\": \"bar\", \"uid\": \"c7735118-a4b5-41f9-8a12-7b6735e5e72b\", \"x\": [\"NAD-ME\", \"NADP-ME\", \"PEP-CK\"], \"y\": [0.0, 0.0, 0.0]}, {\"marker\": {\"color\": \"rgb(227,26,28)\"}, \"name\": \"[B]_6PGDHNAD_h\", \"type\": \"bar\", \"uid\": \"f7a3fd40-93c8-4669-a2b9-d1f33fce6262\", \"x\": [\"NAD-ME\", \"NADP-ME\", \"PEP-CK\"], \"y\": [0.0, 0.0, 0.0]}, {\"marker\": {\"color\": \"rgb(178,223,138)\"}, \"name\": \"[B]_AGNDA_h\", \"type\": \"bar\", \"uid\": \"5e25bab3-51c6-40be-86e4-124a7dcafe3e\", \"x\": [\"NAD-ME\", \"NADP-ME\", \"PEP-CK\"], \"y\": [0.007671787003295551, 0.007671787003295401, 0.00767178700329228]}, {\"marker\": {\"color\": \"rgb(255,127,0)\"}, \"name\": \"[B]_AGNDH_h\", \"type\": \"bar\", \"uid\": \"9f3d8721-e893-4e4a-ac22-82871e5fe80c\", \"x\": [\"NAD-ME\", \"NADP-ME\", \"PEP-CK\"], \"y\": [0.004184611092706664, 0.004184611092706582, 0.0041846110927049995]}, {\"marker\": {\"color\": \"rgb(253,191,111)\"}, \"name\": \"[B]_ALS1_h\", \"type\": \"bar\", \"uid\": \"3ec85aa6-e8c4-44dc-95d8-52c484cc027c\", \"x\": [\"NAD-ME\", \"NADP-ME\", \"PEP-CK\"], \"y\": [0.03347688874165332, 0.033476888741652666, 0.03347688874164]}, {\"marker\": {\"color\": \"rgb(202,178,214)\"}, \"name\": \"[B]_DAPDC_h\", \"type\": \"bar\", \"uid\": \"22cd188e-64a3-4632-bc58-d0b4ed1194f9\", \"x\": [\"NAD-ME\", \"NADP-ME\", \"PEP-CK\"], \"y\": [0.012553833278119993, 0.012553833278119746, 0.012553833278115002]}, {\"marker\": {\"color\": \"rgb(51,160,44)\"}, \"name\": \"[B]_IPODC_h\", \"type\": \"bar\", \"uid\": \"87ac8115-1e33-480c-8a32-8a09b3bf709d\", \"x\": [\"NAD-ME\", \"NADP-ME\", \"PEP-CK\"], \"y\": [0.008369222185413328, 0.008369222185413167, 0.00836922218541]}, {\"marker\": {\"color\": \"rgb(31,120,180)\"}, \"name\": \"[B]_IndGPS_h\", \"type\": \"bar\", \"uid\": \"603d98c7-0cd9-4e3e-bc5e-b3f18ca5243b\", \"x\": [\"NAD-ME\", \"NADP-ME\", \"PEP-CK\"], \"y\": [0.006276916639059996, 0.006276916639059873, 0.0062769166390575]}, {\"marker\": {\"color\": \"rgb(166,206,227)\"}, \"name\": \"[B]_MalDH4_h\", \"type\": \"bar\", \"uid\": \"675a33cf-e42e-4e5f-af81-99887e0dfc46\", \"x\": [\"NAD-ME\", \"NADP-ME\", \"PEP-CK\"], \"y\": [0.0, 39.45390825240194, 0.0]}, {\"marker\": {\"color\": \"rgb(251,154,153)\"}, \"name\": \"[B]_iCitDHNADP_h\", \"type\": \"bar\", \"uid\": \"a2c01476-5b14-41c0-8781-0089a4cc7b68\", \"x\": [\"NAD-ME\", \"NADP-ME\", \"PEP-CK\"], \"y\": [0.0, 0.0, 0.0]}],\n",
       "                        {\"barmode\": \"stack\", \"height\": 400, \"margin\": {\"b\": 100}, \"title\": {\"text\": \"CO2 Production Bundesheat (chloroplast)\"}, \"width\": 600, \"xaxis\": {\"tickangle\": 0, \"title\": {\"text\": \"decarboxylation enzyme\"}}, \"yaxis\": {\"autorange\": true, \"title\": {\"text\": \"Flux [\\u00b5mol/s/m2]\"}}},\n",
       "                        {\"plotlyServerURL\": \"https://plot.ly\", \"linkText\": \"Export to plot.ly\", \"showLink\": false}\n",
       "                    )\n",
       "                };\n",
       "                });\n",
       "            </script>\n",
       "        </div>"
      ]
     },
     "metadata": {},
     "output_type": "display_data"
    },
    {
     "data": {
      "application/vnd.plotly.v1+json": {
       "config": {
        "linkText": "Export to plot.ly",
        "plotlyServerURL": "https://plot.ly",
        "showLink": false
       },
       "data": [
        {
         "marker": {
          "color": "rgb(166,206,227)"
         },
         "name": "[B]_GluDC_c",
         "type": "bar",
         "uid": "6fdec383-87bb-4c71-a13f-be2c306041d1",
         "x": [
          "NAD-ME",
          "NADP-ME",
          "PEP-CK"
         ],
         "y": [
          0,
          0,
          0
         ]
        },
        {
         "marker": {
          "color": "rgb(31,120,180)"
         },
         "name": "[B]_OMPDC_c",
         "type": "bar",
         "uid": "cb030c55-1d5b-4c6c-bbe1-a6efe69fdf3e",
         "x": [
          "NAD-ME",
          "NADP-ME",
          "PEP-CK"
         ],
         "y": [
          0,
          5.028536119255213e-17,
          0
         ]
        },
        {
         "marker": {
          "color": "rgb(251,154,153)"
         },
         "name": "[B]_PEPC1_c",
         "type": "bar",
         "uid": "e507dba2-500a-4c9f-8f38-9473e08b7272",
         "x": [
          "NAD-ME",
          "NADP-ME",
          "PEP-CK"
         ],
         "y": [
          0,
          0,
          39.453908252386924
         ]
        },
        {
         "marker": {
          "color": "rgb(51,160,44)"
         },
         "name": "[B]_iCitDHNADP_c",
         "type": "bar",
         "uid": "6835433d-379c-477d-be2d-e7ec556d6ce8",
         "x": [
          "NAD-ME",
          "NADP-ME",
          "PEP-CK"
         ],
         "y": [
          0.0062769166390439085,
          0.3222150541384068,
          0.026923314126912505
         ]
        },
        {
         "marker": {
          "color": "rgb(178,223,138)"
         },
         "name": "[B]_iCitDHNAD_c",
         "type": "bar",
         "uid": "c96cb156-1589-4829-a981-3dcda41da1ea",
         "x": [
          "NAD-ME",
          "NADP-ME",
          "PEP-CK"
         ],
         "y": [
          0.31593813749936894,
          0,
          0
         ]
        }
       ],
       "layout": {
        "barmode": "stack",
        "height": 400,
        "margin": {
         "b": 100
        },
        "title": {
         "text": "CO2 Production Bundesheat (cytsol)"
        },
        "width": 600,
        "xaxis": {
         "tickangle": 0,
         "title": {
          "text": "decarboxylation enzyme"
         }
        },
        "yaxis": {
         "autorange": true,
         "title": {
          "text": "Flux [µmol/s/m2]"
         }
        }
       }
      },
      "text/html": [
       "<div>\n",
       "        \n",
       "        \n",
       "            <div id=\"a6c0770f-bf90-4463-ba01-7fceb7477046\" class=\"plotly-graph-div\"></div>\n",
       "            <script type=\"text/javascript\">\n",
       "                require([\"plotly\"], function(Plotly) {\n",
       "                    window.PLOTLYENV=window.PLOTLYENV || {};\n",
       "                    window.PLOTLYENV.BASE_URL='https://plot.ly';\n",
       "                    \n",
       "                if (document.getElementById(\"a6c0770f-bf90-4463-ba01-7fceb7477046\")) {\n",
       "                    Plotly.newPlot(\n",
       "                        'a6c0770f-bf90-4463-ba01-7fceb7477046',\n",
       "                        [{\"marker\": {\"color\": \"rgb(166,206,227)\"}, \"name\": \"[B]_GluDC_c\", \"type\": \"bar\", \"uid\": \"fca0b1b2-ef80-4605-a56b-500325f4b270\", \"x\": [\"NAD-ME\", \"NADP-ME\", \"PEP-CK\"], \"y\": [0.0, 0.0, 0.0]}, {\"marker\": {\"color\": \"rgb(31,120,180)\"}, \"name\": \"[B]_OMPDC_c\", \"type\": \"bar\", \"uid\": \"851e24cc-b4f2-40d4-8d6a-81e35603503d\", \"x\": [\"NAD-ME\", \"NADP-ME\", \"PEP-CK\"], \"y\": [0.0, 5.028536119255213e-17, 0.0]}, {\"marker\": {\"color\": \"rgb(251,154,153)\"}, \"name\": \"[B]_PEPC1_c\", \"type\": \"bar\", \"uid\": \"baf2e27e-35ea-4572-b080-3ad60911bd81\", \"x\": [\"NAD-ME\", \"NADP-ME\", \"PEP-CK\"], \"y\": [0.0, 0.0, 39.453908252386924]}, {\"marker\": {\"color\": \"rgb(51,160,44)\"}, \"name\": \"[B]_iCitDHNADP_c\", \"type\": \"bar\", \"uid\": \"9126cfcd-8fb9-4664-a16e-78ba5bb8f0fd\", \"x\": [\"NAD-ME\", \"NADP-ME\", \"PEP-CK\"], \"y\": [0.0062769166390439085, 0.3222150541384068, 0.026923314126912505]}, {\"marker\": {\"color\": \"rgb(178,223,138)\"}, \"name\": \"[B]_iCitDHNAD_c\", \"type\": \"bar\", \"uid\": \"d429252a-c27e-46bd-ac89-20ecb4f9264c\", \"x\": [\"NAD-ME\", \"NADP-ME\", \"PEP-CK\"], \"y\": [0.31593813749936894, 0.0, 0.0]}],\n",
       "                        {\"barmode\": \"stack\", \"height\": 400, \"margin\": {\"b\": 100}, \"title\": {\"text\": \"CO2 Production Bundesheat (cytsol)\"}, \"width\": 600, \"xaxis\": {\"tickangle\": 0, \"title\": {\"text\": \"decarboxylation enzyme\"}}, \"yaxis\": {\"autorange\": true, \"title\": {\"text\": \"Flux [\\u00b5mol/s/m2]\"}}},\n",
       "                        {\"plotlyServerURL\": \"https://plot.ly\", \"linkText\": \"Export to plot.ly\", \"showLink\": false}\n",
       "                    )\n",
       "                };\n",
       "                });\n",
       "            </script>\n",
       "        </div>"
      ]
     },
     "metadata": {},
     "output_type": "display_data"
    },
    {
     "data": {
      "application/vnd.plotly.v1+json": {
       "config": {
        "linkText": "Export to plot.ly",
        "plotlyServerURL": "https://plot.ly",
        "showLink": false
       },
       "data": [
        {
         "marker": {
          "color": "rgb(178,223,138)"
         },
         "name": "[B]_GlyDH_m",
         "type": "bar",
         "uid": "26b4669e-e355-4d26-bbe4-c442f710186d",
         "x": [
          "NAD-ME",
          "NADP-ME",
          "PEP-CK"
         ],
         "y": [
          0.004184611092690576,
          0.004184611092706903,
          0.004184611092705529
         ]
        },
        {
         "marker": {
          "color": "rgb(253,191,111)"
         },
         "name": "[B]_KGDH_m",
         "type": "bar",
         "uid": "850c21a7-7577-4fbc-8617-d91220398490",
         "x": [
          "NAD-ME",
          "NADP-ME",
          "PEP-CK"
         ],
         "y": [
          0,
          0,
          7.334303579873018e-17
         ]
        },
        {
         "marker": {
          "color": "rgb(251,154,153)"
         },
         "name": "[B]_MalDH2_m",
         "type": "bar",
         "uid": "3e50f10a-bc77-443e-8dd4-b945f599dfb5",
         "x": [
          "NAD-ME",
          "NADP-ME",
          "PEP-CK"
         ],
         "y": [
          39.4539082524028,
          0,
          0
         ]
        },
        {
         "marker": {
          "color": "rgb(31,120,180)"
         },
         "name": "[B]_PyrDH1_m",
         "type": "bar",
         "uid": "a775dea7-6e0b-46d9-8d5b-0e38f3c0b4a3",
         "x": [
          "NAD-ME",
          "NADP-ME",
          "PEP-CK"
         ],
         "y": [
          0.32221505413841317,
          0.3222150541384066,
          0.322215054138285
         ]
        },
        {
         "marker": {
          "color": "rgb(227,26,28)"
         },
         "name": "[B]_Urease_m",
         "type": "bar",
         "uid": "058b8db9-1e58-4d02-ba11-771184fe7ed9",
         "x": [
          "NAD-ME",
          "NADP-ME",
          "PEP-CK"
         ],
         "y": [
          2.2082326956639266e-18,
          0,
          7.905473050476857e-16
         ]
        },
        {
         "marker": {
          "color": "rgb(51,160,44)"
         },
         "name": "[B]_iCitDHNADP_m",
         "type": "bar",
         "uid": "47cb0414-7d17-4358-833d-fcb429610ef1",
         "x": [
          "NAD-ME",
          "NADP-ME",
          "PEP-CK"
         ],
         "y": [
          0,
          0,
          0
         ]
        },
        {
         "marker": {
          "color": "rgb(166,206,227)"
         },
         "name": "[B]_iCitDHNAD_m",
         "type": "bar",
         "uid": "6688922c-b239-4d8f-a94c-e05e8e0995d2",
         "x": [
          "NAD-ME",
          "NADP-ME",
          "PEP-CK"
         ],
         "y": [
          0,
          0,
          0.2952917400113725
         ]
        }
       ],
       "layout": {
        "barmode": "stack",
        "height": 400,
        "margin": {
         "b": 100
        },
        "title": {
         "text": "CO2 Production Bundesheat (mitochondrium)"
        },
        "width": 600,
        "xaxis": {
         "tickangle": 0,
         "title": {
          "text": "decarboxylation enzyme"
         }
        },
        "yaxis": {
         "autorange": true,
         "title": {
          "text": "Flux [µmol/s/m2]"
         }
        }
       }
      },
      "text/html": [
       "<div>\n",
       "        \n",
       "        \n",
       "            <div id=\"3fcc9124-19a9-4763-ba3b-8bfbec3a8ff6\" class=\"plotly-graph-div\"></div>\n",
       "            <script type=\"text/javascript\">\n",
       "                require([\"plotly\"], function(Plotly) {\n",
       "                    window.PLOTLYENV=window.PLOTLYENV || {};\n",
       "                    window.PLOTLYENV.BASE_URL='https://plot.ly';\n",
       "                    \n",
       "                if (document.getElementById(\"3fcc9124-19a9-4763-ba3b-8bfbec3a8ff6\")) {\n",
       "                    Plotly.newPlot(\n",
       "                        '3fcc9124-19a9-4763-ba3b-8bfbec3a8ff6',\n",
       "                        [{\"marker\": {\"color\": \"rgb(178,223,138)\"}, \"name\": \"[B]_GlyDH_m\", \"type\": \"bar\", \"uid\": \"c55b8658-7d42-45e5-92b6-f09d8cfb79fc\", \"x\": [\"NAD-ME\", \"NADP-ME\", \"PEP-CK\"], \"y\": [0.004184611092690576, 0.004184611092706903, 0.004184611092705529]}, {\"marker\": {\"color\": \"rgb(253,191,111)\"}, \"name\": \"[B]_KGDH_m\", \"type\": \"bar\", \"uid\": \"96204e2a-7193-4d1a-8202-d92f09f81e8e\", \"x\": [\"NAD-ME\", \"NADP-ME\", \"PEP-CK\"], \"y\": [0.0, 0.0, 7.334303579873018e-17]}, {\"marker\": {\"color\": \"rgb(251,154,153)\"}, \"name\": \"[B]_MalDH2_m\", \"type\": \"bar\", \"uid\": \"02b39381-d69a-4aff-ba8a-0506db7bb5dd\", \"x\": [\"NAD-ME\", \"NADP-ME\", \"PEP-CK\"], \"y\": [39.4539082524028, 0.0, 0.0]}, {\"marker\": {\"color\": \"rgb(31,120,180)\"}, \"name\": \"[B]_PyrDH1_m\", \"type\": \"bar\", \"uid\": \"22cb1434-3627-48e1-a846-68e9ebbca02e\", \"x\": [\"NAD-ME\", \"NADP-ME\", \"PEP-CK\"], \"y\": [0.32221505413841317, 0.3222150541384066, 0.322215054138285]}, {\"marker\": {\"color\": \"rgb(227,26,28)\"}, \"name\": \"[B]_Urease_m\", \"type\": \"bar\", \"uid\": \"04135483-281d-4a8d-87ee-3b477e82164f\", \"x\": [\"NAD-ME\", \"NADP-ME\", \"PEP-CK\"], \"y\": [2.2082326956639266e-18, 0.0, 7.905473050476857e-16]}, {\"marker\": {\"color\": \"rgb(51,160,44)\"}, \"name\": \"[B]_iCitDHNADP_m\", \"type\": \"bar\", \"uid\": \"df980f98-cb2b-465d-aea8-b3e8c789e138\", \"x\": [\"NAD-ME\", \"NADP-ME\", \"PEP-CK\"], \"y\": [0.0, 0.0, 0.0]}, {\"marker\": {\"color\": \"rgb(166,206,227)\"}, \"name\": \"[B]_iCitDHNAD_m\", \"type\": \"bar\", \"uid\": \"549488f3-98f8-4378-a334-eca00ef955bd\", \"x\": [\"NAD-ME\", \"NADP-ME\", \"PEP-CK\"], \"y\": [0.0, 0.0, 0.2952917400113725]}],\n",
       "                        {\"barmode\": \"stack\", \"height\": 400, \"margin\": {\"b\": 100}, \"title\": {\"text\": \"CO2 Production Bundesheat (mitochondrium)\"}, \"width\": 600, \"xaxis\": {\"tickangle\": 0, \"title\": {\"text\": \"decarboxylation enzyme\"}}, \"yaxis\": {\"autorange\": true, \"title\": {\"text\": \"Flux [\\u00b5mol/s/m2]\"}}},\n",
       "                        {\"plotlyServerURL\": \"https://plot.ly\", \"linkText\": \"Export to plot.ly\", \"showLink\": false}\n",
       "                    )\n",
       "                };\n",
       "                });\n",
       "            </script>\n",
       "        </div>"
      ]
     },
     "metadata": {},
     "output_type": "display_data"
    }
   ],
   "source": [
    "D_comp = {'c':'cytsol','h':'chloroplast','m':'mitochondrium'}\n",
    "\n",
    "D_comp_rxn = {}\n",
    "L_max_flux = []\n",
    "for comp in D_comp:\n",
    "    m_obj = c4_model.metabolites.get_by_id('[B]_CO2_'+comp)\n",
    "    L_rxn = []\n",
    "    for r_obj in m_obj.reactions:\n",
    "        if not r_obj.id[4:6] in ['Tr','Im']:\n",
    "            lb = r_obj.bounds[0]\n",
    "            v = r_obj.get_coefficient(m_obj.id)\n",
    "            if (lb >= 0 and v>0) or (lb < 0 and v<0):  \n",
    "                L_rxn.append(r_obj.id)\n",
    "                L_max_flux = L_max_flux + [v*D_pfba[x][r_obj.id] for x in D_exp]\n",
    "    D_comp_rxn[comp] = L_rxn\n",
    "max_flux =  max(L_max_flux)\n",
    "\n",
    "for comp, L_rxn in D_comp_rxn.items():\n",
    "    create_bar_plot_rxn(D_pfba, D_exp,\n",
    "                        L_rxn,\n",
    "                        'CO2 Production Bundesheat (%s)' %(D_comp[comp]),  xaxis_title,\n",
    "                        stacked = True, save_fig=save_fig)\n",
    "        "
   ]
  },
  {
   "cell_type": "code",
   "execution_count": 30,
   "metadata": {
    "ExecuteTime": {
     "end_time": "2019-05-06T13:54:36.376155Z",
     "start_time": "2019-05-06T15:54:35.889981+02:00"
    }
   },
   "outputs": [
    {
     "data": {
      "application/vnd.plotly.v1+json": {
       "config": {
        "linkText": "Export to plot.ly",
        "plotlyServerURL": "https://plot.ly",
        "showLink": false
       },
       "data": [
        {
         "colorbar": {
          "title": {
           "side": "right",
           "text": "Flux [µmol/s/m2]"
          }
         },
         "colorscale": [
          [
           0,
           "rgb(255,245,240)"
          ],
          [
           0.125,
           "rgb(254,224,210)"
          ],
          [
           0.25,
           "rgb(252,187,161)"
          ],
          [
           0.375,
           "rgb(252,146,114)"
          ],
          [
           0.5,
           "rgb(251,106,74)"
          ],
          [
           0.625,
           "rgb(239,59,44)"
          ],
          [
           0.75,
           "rgb(203,24,29)"
          ],
          [
           0.875,
           "rgb(165,15,21)"
          ],
          [
           1,
           "rgb(103,0,13)"
          ]
         ],
         "type": "heatmap",
         "uid": "436b3d1d-b8d4-4852-9eaf-26b6269ae6d6",
         "x": [
          "NAD-ME",
          "NADP-ME",
          "PEP-CK"
         ],
         "y": [
          "cACN",
          "Gln",
          "PEP",
          "GAP",
          "Asp",
          "DHAP",
          "Mal"
         ],
         "z": [
          [
           null,
           0.3222150541384071,
           null
          ],
          [
           0.30198943385699756,
           0.3019894338569917,
           null
          ],
          [
           null,
           0.8996913849319145,
           null
          ],
          [
           3.7462912238358554,
           2.0434617347355437,
           null
          ],
          [
           8.95780417710973,
           0.8607904923730566,
           3.6602368244367787
          ],
          [
           6.139289429788728,
           2.051830956920957,
           5.77713680437191
          ],
          [
           30.953621554762332,
           39.05063523949816,
           36.25160968462568
          ]
         ]
        }
       ],
       "layout": {
        "margin": {
         "b": 100
        },
        "title": {
         "text": "Mesophyll ==> Bundlesheat Transport"
        },
        "width": 500,
        "xaxis": {
         "tickangle": 0,
         "title": {
          "text": "decarboxylation enzyme"
         }
        },
        "yaxis": {
         "tickmode": "array",
         "ticktext": [
          "cACN",
          "Gln",
          "PEP",
          "GAP",
          "Asp",
          "DHAP",
          "Mal"
         ],
         "tickvals": [
          0,
          1,
          2,
          3,
          4,
          5,
          6
         ],
         "title": {
          "text": "Transport Metabolites"
         }
        }
       }
      },
      "text/html": [
       "<div>\n",
       "        \n",
       "        \n",
       "            <div id=\"99cc973b-f096-4de7-92c2-b7c61149ed8b\" class=\"plotly-graph-div\"></div>\n",
       "            <script type=\"text/javascript\">\n",
       "                require([\"plotly\"], function(Plotly) {\n",
       "                    window.PLOTLYENV=window.PLOTLYENV || {};\n",
       "                    window.PLOTLYENV.BASE_URL='https://plot.ly';\n",
       "                    \n",
       "                if (document.getElementById(\"99cc973b-f096-4de7-92c2-b7c61149ed8b\")) {\n",
       "                    Plotly.newPlot(\n",
       "                        '99cc973b-f096-4de7-92c2-b7c61149ed8b',\n",
       "                        [{\"colorbar\": {\"title\": {\"side\": \"right\", \"text\": \"Flux [\\u00b5mol/s/m2]\"}}, \"colorscale\": [[0.0, \"rgb(255,245,240)\"], [0.125, \"rgb(254,224,210)\"], [0.25, \"rgb(252,187,161)\"], [0.375, \"rgb(252,146,114)\"], [0.5, \"rgb(251,106,74)\"], [0.625, \"rgb(239,59,44)\"], [0.75, \"rgb(203,24,29)\"], [0.875, \"rgb(165,15,21)\"], [1.0, \"rgb(103,0,13)\"]], \"type\": \"heatmap\", \"uid\": \"a1581adb-2352-4f77-a8e5-13d27bded4db\", \"x\": [\"NAD-ME\", \"NADP-ME\", \"PEP-CK\"], \"y\": [\"cACN\", \"Gln\", \"PEP\", \"GAP\", \"Asp\", \"DHAP\", \"Mal\"], \"z\": [[null, 0.3222150541384071, null], [0.30198943385699756, 0.3019894338569917, null], [null, 0.8996913849319145, null], [3.7462912238358554, 2.0434617347355437, null], [8.95780417710973, 0.8607904923730566, 3.6602368244367787], [6.139289429788728, 2.051830956920957, 5.77713680437191], [30.953621554762332, 39.05063523949816, 36.25160968462568]]}],\n",
       "                        {\"margin\": {\"b\": 100}, \"title\": {\"text\": \"Mesophyll ==> Bundlesheat Transport\"}, \"width\": 500, \"xaxis\": {\"tickangle\": 0, \"title\": {\"text\": \"decarboxylation enzyme\"}}, \"yaxis\": {\"tickmode\": \"array\", \"ticktext\": [\"cACN\", \"Gln\", \"PEP\", \"GAP\", \"Asp\", \"DHAP\", \"Mal\"], \"tickvals\": [0, 1, 2, 3, 4, 5, 6], \"title\": {\"text\": \"Transport Metabolites\"}}},\n",
       "                        {\"plotlyServerURL\": \"https://plot.ly\", \"linkText\": \"Export to plot.ly\", \"showLink\": false}\n",
       "                    )\n",
       "                };\n",
       "                });\n",
       "            </script>\n",
       "        </div>"
      ]
     },
     "metadata": {},
     "output_type": "display_data"
    },
    {
     "data": {
      "application/vnd.plotly.v1+json": {
       "config": {
        "linkText": "Export to plot.ly",
        "plotlyServerURL": "https://plot.ly",
        "showLink": false
       },
       "data": [
        {
         "colorbar": {
          "title": {
           "side": "right",
           "text": "Flux [µmol/s/m2]"
          }
         },
         "colorscale": [
          [
           0,
           "rgb(247,251,255)"
          ],
          [
           0.125,
           "rgb(222,235,247)"
          ],
          [
           0.25,
           "rgb(198,219,239)"
          ],
          [
           0.375,
           "rgb(158,202,225)"
          ],
          [
           0.5,
           "rgb(107,174,214)"
          ],
          [
           0.625,
           "rgb(66,146,198)"
          ],
          [
           0.75,
           "rgb(33,113,181)"
          ],
          [
           0.875,
           "rgb(8,81,156)"
          ],
          [
           1,
           "rgb(8,48,107)"
          ]
         ],
         "type": "heatmap",
         "uid": "99add6cd-fad9-4e29-bf93-966fa33074cb",
         "x": [
          "NAD-ME",
          "NADP-ME",
          "PEP-CK"
         ],
         "y": [
          "KG",
          "Glu",
          "Ala",
          "PGA",
          "Pyr"
         ],
         "z": [
          [
           0.3131483967708818,
           null,
           null
          ],
          [
           null,
           0.31314839677087536,
           null
          ],
          [
           8.614666067507736,
           0.204503986000241,
           2.701960884207338
          ],
          [
           9.883720826472283,
           4.99312424943609,
           5.775276977219594
          ],
          [
           31.36929292330462,
           39.77945500481122,
           37.28241888379534
          ]
         ]
        }
       ],
       "layout": {
        "margin": {
         "b": 100
        },
        "title": {
         "text": "Bundlesheat ==> Mesophyll Transport"
        },
        "width": 500,
        "xaxis": {
         "tickangle": 0,
         "title": {
          "text": "decarboxylation enzyme"
         }
        },
        "yaxis": {
         "tickmode": "array",
         "ticktext": [
          "KG",
          "Glu",
          "Ala",
          "PGA",
          "Pyr"
         ],
         "tickvals": [
          0,
          1,
          2,
          3,
          4
         ],
         "title": {
          "text": "Transport Metabolites"
         }
        }
       }
      },
      "text/html": [
       "<div>\n",
       "        \n",
       "        \n",
       "            <div id=\"c895273f-d83e-4927-95dc-e8eb287950e0\" class=\"plotly-graph-div\"></div>\n",
       "            <script type=\"text/javascript\">\n",
       "                require([\"plotly\"], function(Plotly) {\n",
       "                    window.PLOTLYENV=window.PLOTLYENV || {};\n",
       "                    window.PLOTLYENV.BASE_URL='https://plot.ly';\n",
       "                    \n",
       "                if (document.getElementById(\"c895273f-d83e-4927-95dc-e8eb287950e0\")) {\n",
       "                    Plotly.newPlot(\n",
       "                        'c895273f-d83e-4927-95dc-e8eb287950e0',\n",
       "                        [{\"colorbar\": {\"title\": {\"side\": \"right\", \"text\": \"Flux [\\u00b5mol/s/m2]\"}}, \"colorscale\": [[0.0, \"rgb(247,251,255)\"], [0.125, \"rgb(222,235,247)\"], [0.25, \"rgb(198,219,239)\"], [0.375, \"rgb(158,202,225)\"], [0.5, \"rgb(107,174,214)\"], [0.625, \"rgb(66,146,198)\"], [0.75, \"rgb(33,113,181)\"], [0.875, \"rgb(8,81,156)\"], [1.0, \"rgb(8,48,107)\"]], \"type\": \"heatmap\", \"uid\": \"46c6e018-cdbc-416b-8797-60c3631081ec\", \"x\": [\"NAD-ME\", \"NADP-ME\", \"PEP-CK\"], \"y\": [\"KG\", \"Glu\", \"Ala\", \"PGA\", \"Pyr\"], \"z\": [[0.3131483967708818, null, null], [null, 0.31314839677087536, null], [8.614666067507736, 0.204503986000241, 2.701960884207338], [9.883720826472283, 4.99312424943609, 5.775276977219594], [31.36929292330462, 39.77945500481122, 37.28241888379534]]}],\n",
       "                        {\"margin\": {\"b\": 100}, \"title\": {\"text\": \"Bundlesheat ==> Mesophyll Transport\"}, \"width\": 500, \"xaxis\": {\"tickangle\": 0, \"title\": {\"text\": \"decarboxylation enzyme\"}}, \"yaxis\": {\"tickmode\": \"array\", \"ticktext\": [\"KG\", \"Glu\", \"Ala\", \"PGA\", \"Pyr\"], \"tickvals\": [0, 1, 2, 3, 4], \"title\": {\"text\": \"Transport Metabolites\"}}},\n",
       "                        {\"plotlyServerURL\": \"https://plot.ly\", \"linkText\": \"Export to plot.ly\", \"showLink\": false}\n",
       "                    )\n",
       "                };\n",
       "                });\n",
       "            </script>\n",
       "        </div>"
      ]
     },
     "metadata": {},
     "output_type": "display_data"
    }
   ],
   "source": [
    "plot_transport(D_pfba, D_exp, L_r_transport, xaxis_title, save_fig=save_fig)"
   ]
  },
  {
   "cell_type": "code",
   "execution_count": 31,
   "metadata": {
    "ExecuteTime": {
     "end_time": "2019-05-06T13:54:36.577781Z",
     "start_time": "2019-05-06T15:54:36.377801+02:00"
    }
   },
   "outputs": [
    {
     "data": {
      "application/vnd.plotly.v1+json": {
       "config": {
        "linkText": "Export to plot.ly",
        "plotlyServerURL": "https://plot.ly",
        "responsive": true,
        "showLink": false
       },
       "data": [
        {
         "error_y": {
          "array": [
           5.114358995590749,
           12.260058302905584,
           9.91116051803706,
           7.348090504474937,
           14.132628410342967,
           10.662304872580508,
           13.83873667921167,
           12.21248785461353,
           2.761206788424126,
           3.493567044314209,
           10.224035646467948,
           10.411175848863826,
           10.919658454780903,
           4.95621183886285,
           10.628537800988191,
           11.654496929333229,
           8.15348934837835
          ],
          "arrayminus": [
           9.911160518038379,
           7.348860503998516,
           5.122055521805146,
           12.191308621323662,
           11.55310125283891,
           16.025227227222615,
           11.267363401769384,
           12.204310711372768,
           4.742839039371078,
           4.671440230653597,
           10.411175848864085,
           10.921518281932913,
           10.153409668027228,
           2.7199887781376595,
           8.153489348379225,
           10.2014633518092,
           10.460758800088742
          ],
          "symmetric": false,
          "type": "data"
         },
         "marker": {
          "color": "rgb(31, 119, 180)"
         },
         "mode": "markers",
         "name": "NADP-ME",
         "type": "scatter",
         "uid": "0b0a8e16-bc4d-497b-8e73-d624fe10a887",
         "x": [
          0.7,
          2.7,
          4.7,
          6.7,
          8.7,
          10.7,
          12.7,
          14.7,
          16.7,
          18.7,
          20.7,
          22.7,
          24.7,
          26.7,
          28.7,
          30.7,
          32.7
         ],
         "y": [
          39.05063523949816,
          -39.77945500481122,
          0.8607904923730566,
          -0.204503986000241,
          -4.99312424943609,
          0,
          2.0434617347355437,
          2.051830956920957,
          2.721671970011258e-16,
          -2.7216719700112585e-16,
          -0.001859827152310756,
          0,
          0,
          0,
          -0.31314839677087536,
          0.8996913849319145,
          -4.3786272309389076e-16
         ]
        },
        {
         "error_y": {
          "array": [
           12.547591676086224,
           32.041415071647535,
           31.713976674931793,
           14.492589266602781,
           20.096480100361774,
           16.761723936675974,
           30.40236273463082,
           23.808189606131872,
           3.345917164758214,
           3.8104190188634526,
           11.246934715953119,
           13.55145452599279,
           12.014113416279756,
           5.282771457969937,
           15.15789310592828,
           11.725233417085885,
           13.918033068669905
          ],
          "arrayminus": [
           31.70788257705774,
           14.493484265839733,
           12.537964609285472,
           31.995059204556867,
           21.836087913114156,
           31.927112450283207,
           15.769333997194398,
           17.386224145740755,
           5.139326012006997,
           5.062314600721139,
           13.551454525998752,
           12.014113416279539,
           11.24786462952598,
           3.187179978541493,
           13.918033068673765,
           34.21071356497897,
           15.153765784156363
          ],
          "symmetric": false,
          "type": "data"
         },
         "marker": {
          "color": "rgb(255, 127, 14)"
         },
         "mode": "markers",
         "name": "NAD-ME",
         "type": "scatter",
         "uid": "82b1f117-3738-4921-b8a4-7920f02012b2",
         "x": [
          1,
          3,
          5,
          7,
          9,
          11,
          13,
          15,
          17,
          19,
          21,
          23,
          25,
          27,
          29,
          31,
          33
         ],
         "y": [
          30.953621554762332,
          -31.36929292330462,
          8.95780417710973,
          -8.614666067507736,
          -9.883720826472283,
          0,
          3.7462912238358554,
          6.139289429788728,
          0,
          0,
          0,
          -0.0018598271522842003,
          0,
          0,
          0,
          0,
          -0.3131483967708818
         ]
        },
        {
         "error_y": {
          "array": [
           8.112299375716702,
           21.928522451260356,
           21.710585248878925,
           9.827582319392992,
           14.976201833094544,
           10.752448301836079,
           22.534667475542566,
           15.040641488042894,
           2.8095137072445824,
           3.8108707832326645,
           10.707262854161145,
           12.829738855535778,
           11.292398346466305,
           8.510570363591832,
           10.844191047650327,
           12.194851913830636,
           13.079670554022394
          ],
          "arrayminus": [
           21.701516809938035,
           9.832491625424119,
           8.099223660574197,
           21.92545562514219,
           13.963590365729434,
           18.41771452880879,
           13.2810305212401,
           16.30235645050297,
           8.510570363591519,
           8.210805274388047,
           12.883688579486606,
           11.294258173610002,
           10.526149559704855,
           2.7634777127305012,
           13.378946585001152,
           21.117410705433105,
           10.844191047651828
          ],
          "symmetric": false,
          "type": "data"
         },
         "marker": {
          "color": "rgb(44, 160, 44)"
         },
         "mode": "markers",
         "name": "PEP-CK",
         "type": "scatter",
         "uid": "b27b5dcd-d60f-45b8-9e0e-387aab630da9",
         "x": [
          1.3,
          3.3,
          5.3,
          7.3,
          9.3,
          11.3,
          13.3,
          15.3,
          17.3,
          19.3,
          21.3,
          23.3,
          25.3,
          27.3,
          29.3,
          31.3,
          33.3
         ],
         "y": [
          36.25160968462568,
          -37.28241888379534,
          3.6602368244367787,
          -2.701960884207338,
          -5.775276977219594,
          0,
          -2.3325315034066996e-15,
          5.77713680437191,
          0,
          0,
          -0.0018598271523041039,
          0,
          0,
          0,
          -0.011158962913879564,
          0,
          0
         ]
        }
       ],
       "layout": {
        "annotations": [
         {
          "align": "center",
          "font": {
           "color": "#000000",
           "size": 10
          },
          "showarrow": false,
          "text": "Mesophyll -> Bundle Sheath",
          "textangle": -90,
          "x": -0.5,
          "xref": "x",
          "y": 25,
          "yref": "y"
         },
         {
          "align": "center",
          "font": {
           "color": "#000000",
           "size": 10
          },
          "showarrow": false,
          "text": "Bundle Sheath -> Mesophyll",
          "textangle": -90,
          "x": -0.5,
          "xref": "x",
          "y": -25,
          "yref": "y"
         }
        ],
        "legend": {
         "orientation": "h",
         "x": 0,
         "y": -0.15
        },
        "shapes": [
         {
          "fillcolor": "rgba(255, 255, 255, 1)",
          "line": {
           "color": "rgba(255, 255, 255, 1)",
           "width": 1
          },
          "type": "rect",
          "x0": -0.1,
          "x1": -1.5,
          "y0": -0.5,
          "y1": -50
         },
         {
          "fillcolor": "rgba(255, 255, 255, 1)",
          "line": {
           "color": "rgba(255, 255, 255, 1)",
           "width": 1
          },
          "type": "rect",
          "x0": -0.1,
          "x1": -1.5,
          "y0": 0.5,
          "y1": 50
         }
        ],
        "title": {
         "text": "FVA of Exchange Reaction (pFBA Factor = 1.5%)"
        },
        "xaxis": {
         "ticktext": [
          "Mal",
          "Pyr",
          "Asp",
          "Ala",
          "PGA",
          "2PGA",
          "GAP",
          "DHAP",
          "Suc",
          "Frc",
          "F6P",
          "G6P",
          "G1P",
          "S6P",
          "Glu",
          "PEP",
          "KG"
         ],
         "tickvals": [
          1,
          3,
          5,
          7,
          9,
          11,
          13,
          15,
          17,
          19,
          21,
          23,
          25,
          27,
          29,
          31,
          33
         ],
         "title": {
          "text": "Exchange Metabolites"
         }
        },
        "yaxis": {
         "title": {
          "text": "Flux [µmol/s/m2]"
         }
        }
       }
      },
      "text/html": [
       "<div>\n",
       "        \n",
       "        \n",
       "            <div id=\"c2d0a300-3605-4a97-8660-81c39a5d0850\" class=\"plotly-graph-div\"></div>\n",
       "            <script type=\"text/javascript\">\n",
       "                require([\"plotly\"], function(Plotly) {\n",
       "                    window.PLOTLYENV=window.PLOTLYENV || {};\n",
       "                    window.PLOTLYENV.BASE_URL='https://plot.ly';\n",
       "                    \n",
       "                if (document.getElementById(\"c2d0a300-3605-4a97-8660-81c39a5d0850\")) {\n",
       "                    Plotly.newPlot(\n",
       "                        'c2d0a300-3605-4a97-8660-81c39a5d0850',\n",
       "                        [{\"error_y\": {\"array\": [5.114358995590749, 12.260058302905584, 9.91116051803706, 7.348090504474937, 14.132628410342967, 10.662304872580508, 13.83873667921167, 12.21248785461353, 2.761206788424126, 3.493567044314209, 10.224035646467948, 10.411175848863826, 10.919658454780903, 4.95621183886285, 10.628537800988191, 11.654496929333229, 8.15348934837835], \"arrayminus\": [9.911160518038379, 7.348860503998516, 5.122055521805146, 12.191308621323662, 11.55310125283891, 16.025227227222615, 11.267363401769384, 12.204310711372768, 4.742839039371078, 4.671440230653597, 10.411175848864085, 10.921518281932913, 10.153409668027228, 2.7199887781376595, 8.153489348379225, 10.2014633518092, 10.460758800088742], \"symmetric\": false, \"type\": \"data\"}, \"marker\": {\"color\": \"rgb(31, 119, 180)\"}, \"mode\": \"markers\", \"name\": \"NADP-ME\", \"type\": \"scatter\", \"uid\": \"6ba47b5e-e6e3-46e3-92ff-2291f41172e1\", \"x\": [0.7, 2.7, 4.7, 6.7, 8.7, 10.7, 12.7, 14.7, 16.7, 18.7, 20.7, 22.7, 24.7, 26.7, 28.7, 30.7, 32.7], \"y\": [39.05063523949816, -39.77945500481122, 0.8607904923730566, -0.204503986000241, -4.99312424943609, 0.0, 2.0434617347355437, 2.051830956920957, 2.721671970011258e-16, -2.7216719700112585e-16, -0.001859827152310756, 0.0, 0.0, 0.0, -0.31314839677087536, 0.8996913849319145, -4.3786272309389076e-16]}, {\"error_y\": {\"array\": [12.547591676086224, 32.041415071647535, 31.713976674931793, 14.492589266602781, 20.096480100361774, 16.761723936675974, 30.40236273463082, 23.808189606131872, 3.345917164758214, 3.8104190188634526, 11.246934715953119, 13.55145452599279, 12.014113416279756, 5.282771457969937, 15.15789310592828, 11.725233417085885, 13.918033068669905], \"arrayminus\": [31.70788257705774, 14.493484265839733, 12.537964609285472, 31.995059204556867, 21.836087913114156, 31.927112450283207, 15.769333997194398, 17.386224145740755, 5.139326012006997, 5.062314600721139, 13.551454525998752, 12.014113416279539, 11.24786462952598, 3.187179978541493, 13.918033068673765, 34.21071356497897, 15.153765784156363], \"symmetric\": false, \"type\": \"data\"}, \"marker\": {\"color\": \"rgb(255, 127, 14)\"}, \"mode\": \"markers\", \"name\": \"NAD-ME\", \"type\": \"scatter\", \"uid\": \"0f2d8b38-6f8c-4a1e-99a8-1314ee41a30c\", \"x\": [1.0, 3.0, 5.0, 7.0, 9.0, 11.0, 13.0, 15.0, 17.0, 19.0, 21.0, 23.0, 25.0, 27.0, 29.0, 31.0, 33.0], \"y\": [30.953621554762332, -31.36929292330462, 8.95780417710973, -8.614666067507736, -9.883720826472283, 0.0, 3.7462912238358554, 6.139289429788728, 0.0, 0.0, 0.0, -0.0018598271522842003, 0.0, 0.0, 0.0, 0.0, -0.3131483967708818]}, {\"error_y\": {\"array\": [8.112299375716702, 21.928522451260356, 21.710585248878925, 9.827582319392992, 14.976201833094544, 10.752448301836079, 22.534667475542566, 15.040641488042894, 2.8095137072445824, 3.8108707832326645, 10.707262854161145, 12.829738855535778, 11.292398346466305, 8.510570363591832, 10.844191047650327, 12.194851913830636, 13.079670554022394], \"arrayminus\": [21.701516809938035, 9.832491625424119, 8.099223660574197, 21.92545562514219, 13.963590365729434, 18.41771452880879, 13.2810305212401, 16.30235645050297, 8.510570363591519, 8.210805274388047, 12.883688579486606, 11.294258173610002, 10.526149559704855, 2.7634777127305012, 13.378946585001152, 21.117410705433105, 10.844191047651828], \"symmetric\": false, \"type\": \"data\"}, \"marker\": {\"color\": \"rgb(44, 160, 44)\"}, \"mode\": \"markers\", \"name\": \"PEP-CK\", \"type\": \"scatter\", \"uid\": \"cddaea2d-04bb-45ee-aec7-3a2e7a9d67e6\", \"x\": [1.3, 3.3, 5.3, 7.3, 9.3, 11.3, 13.3, 15.3, 17.3, 19.3, 21.3, 23.3, 25.3, 27.3, 29.3, 31.3, 33.3], \"y\": [36.25160968462568, -37.28241888379534, 3.6602368244367787, -2.701960884207338, -5.775276977219594, 0.0, -2.3325315034066996e-15, 5.77713680437191, 0.0, 0.0, -0.0018598271523041039, 0.0, 0.0, 0.0, -0.011158962913879564, 0.0, 0.0]}],\n",
       "                        {\"annotations\": [{\"align\": \"center\", \"font\": {\"color\": \"#000000\", \"size\": 10}, \"showarrow\": false, \"text\": \"Mesophyll -> Bundle Sheath\", \"textangle\": -90, \"x\": -0.5, \"xref\": \"x\", \"y\": 25, \"yref\": \"y\"}, {\"align\": \"center\", \"font\": {\"color\": \"#000000\", \"size\": 10}, \"showarrow\": false, \"text\": \"Bundle Sheath -> Mesophyll\", \"textangle\": -90, \"x\": -0.5, \"xref\": \"x\", \"y\": -25, \"yref\": \"y\"}], \"legend\": {\"orientation\": \"h\", \"x\": 0, \"y\": -0.15}, \"shapes\": [{\"fillcolor\": \"rgba(255, 255, 255, 1)\", \"line\": {\"color\": \"rgba(255, 255, 255, 1)\", \"width\": 1}, \"type\": \"rect\", \"x0\": -0.1, \"x1\": -1.5, \"y0\": -0.5, \"y1\": -50}, {\"fillcolor\": \"rgba(255, 255, 255, 1)\", \"line\": {\"color\": \"rgba(255, 255, 255, 1)\", \"width\": 1}, \"type\": \"rect\", \"x0\": -0.1, \"x1\": -1.5, \"y0\": 0.5, \"y1\": 50}], \"title\": {\"text\": \"FVA of Exchange Reaction (pFBA Factor = 1.5%)\"}, \"xaxis\": {\"ticktext\": [\"Mal\", \"Pyr\", \"Asp\", \"Ala\", \"PGA\", \"2PGA\", \"GAP\", \"DHAP\", \"Suc\", \"Frc\", \"F6P\", \"G6P\", \"G1P\", \"S6P\", \"Glu\", \"PEP\", \"KG\"], \"tickvals\": [1, 3, 5, 7, 9, 11, 13, 15, 17, 19, 21, 23, 25, 27, 29, 31, 33], \"title\": {\"text\": \"Exchange Metabolites\"}}, \"yaxis\": {\"title\": {\"text\": \"Flux [\\u00b5mol/s/m2]\"}}},\n",
       "                        {\"responsive\": true, \"plotlyServerURL\": \"https://plot.ly\", \"linkText\": \"Export to plot.ly\", \"showLink\": false}\n",
       "                    )\n",
       "                };\n",
       "                });\n",
       "            </script>\n",
       "        </div>"
      ]
     },
     "metadata": {},
     "output_type": "display_data"
    }
   ],
   "source": [
    "L_r_index = ['[MB]_Mal_c','[MB]_Pyr_c','[MB]_Asp_c','[MB]_Ala_c', \n",
    "             '[MB]_PGA_c', '[MB]_2PGA_c', '[MB]_GAP_c', '[MB]_DHAP_c',\n",
    "             '[MB]_Suc_c', '[MB]_Frc_c', '[MB]_F6P_c', '[MB]_G6P_c', '[MB]_G1P_c', '[MB]_S6P_c',\n",
    "             '[MB]_Glu_c',\n",
    "             '[MB]_PEP_c', '[MB]_KG_c'\n",
    "            ]\n",
    "\n",
    "plot_transport_fva(c4_model, D_exp, D_pfva, D_pfba, L_r_transport, 40, 'FVA of Exchange Reaction (pFBA Factor = 1.5%)', L_r_index=L_r_index, save_fig=save_fig)"
   ]
  },
  {
   "cell_type": "code",
   "execution_count": null,
   "metadata": {
    "collapsed": true
   },
   "outputs": [],
   "source": []
  },
  {
   "cell_type": "code",
   "execution_count": 32,
   "metadata": {
    "ExecuteTime": {
     "end_time": "2019-05-06T13:54:36.672612Z",
     "start_time": "2019-05-06T15:54:36.579096+02:00"
    },
    "scrolled": false
   },
   "outputs": [
    {
     "data": {
      "text/html": [
       "<h1>NADP-ME</h1>"
      ],
      "text/plain": [
       "<IPython.core.display.HTML object>"
      ]
     },
     "metadata": {},
     "output_type": "display_data"
    },
    {
     "data": {
      "text/html": [
       "\n",
       "\n",
       "\n",
       "  \n",
       "  \n",
       "\n",
       "  \n",
       "  \n",
       "    <link rel=\"stylesheet\" href=\"//unpkg.com/escher-vis@1.6.0/css/dist/builder.min.css\"/>\n",
       "  \n",
       "\n",
       "\n",
       "\n",
       "  <div style=\"height: 1000px; width: 100%;\" id=\"zuzqjzxpjy\"></div>\n",
       "\n",
       "  <script>\n",
       "   /* Closure to make sure data only applies to this map. */\n",
       "   (function() {\n",
       "       /* data from python */\n",
       "       var data = get_data();\n",
       "\n",
       "       function load_lib(url, callback) {\n",
       "           /** Dynamically load a JavaScript file */\n",
       "           var s = document.createElement('script');\n",
       "           s.src = url;\n",
       "           s.async = true;\n",
       "           s.onreadystatechange = s.onload = callback;\n",
       "           s.onerror = function() {\n",
       "               console.warn('Failed to load library ' + url);\n",
       "           };\n",
       "           document.getElementsByTagName('head')[0].appendChild(s);\n",
       "       }\n",
       "\n",
       "       function check_global_and_load(name, url, callback) {\n",
       "           /** Look for the name in the global scope. If it isn't present, then\n",
       "              load the library at url. Returns the object. */\n",
       "           if (window[name] !== undefined) {\n",
       "               callback(window[name]);\n",
       "           } else {\n",
       "               load_lib(url, function() {\n",
       "                   callback(window[name]);\n",
       "               });\n",
       "           }\n",
       "       }\n",
       "\n",
       "       function draw_escher(escher) {\n",
       "           /** Get data and draw */\n",
       "           var load = function(t_map_data, t_model_data, t_options) {\n",
       "               escher.Builder(t_map_data, t_model_data, data.builder_embed_css,\n",
       "                              escher.libs.d3_select('#' + data.id), t_options);\n",
       "           }\n",
       "\n",
       "           // for the static site, use the url attributes for the map and model\n",
       "           // information\n",
       "           if (data.static_site_index !== null) {\n",
       "               escher.static.load_map_model_from_url(data.map_download_url, data.model_download_url,\n",
       "                                                     data.static_site_index, data.options, load);\n",
       "           } else {\n",
       "               load(data.map_data, data.model_data, data.options);\n",
       "           }\n",
       "       }\n",
       "\n",
       "       // Load dependencies and draw\n",
       "       if (typeof define === 'function' && define.amd) {\n",
       "           // require.js is available: use it to load escher\n",
       "           require.config({\n",
       "             paths: {\n",
       "               escher: '//unpkg.com/escher-vis@1.6.0/js/dist/escher.min',\n",
       "             },\n",
       "             // Override urlArgs that adds ?v= to the end of the escher URL and\n",
       "             // messes up unpkg links. Honestly, I'm not sure if this will lead\n",
       "             // to downstream bugs in the notebook, but they really shouldn't be\n",
       "             // doing this cache-busting anyway.\n",
       "             urlArgs: null,\n",
       "           })\n",
       "           require([ 'escher' ], function(escher) {\n",
       "               draw_escher(escher);\n",
       "           })\n",
       "       } else {\n",
       "           // require.js not available: dynamically load escher\n",
       "           check_global_and_load('escher', '//unpkg.com/escher-vis@1.6.0/js/dist/escher.min.js', function(escher) {\n",
       "               draw_escher(escher);\n",
       "           })\n",
       "       }\n",
       "\n",
       "       // Put this at the end so Chrome doesn't cut off the code above.\n",
       "       function get_data() {\n",
       "           /** Return the data passed in by the Python module. */\n",
       "           return {\n",
       "               id: JSON.parse('\"zuzqjzxpjy\"'),\n",
       "               map_download_url: JSON.parse('\"//escher.github.io/1-0-0/5/maps/\"'),\n",
       "               model_download_url: JSON.parse('\"//escher.github.io/1-0-0/5/models/\"'),\n",
       "               options: JSON.parse('{\"reaction_data\": {\"[M]_PGAK_h\": 4.0962226052326569, \"[M]_SerAcT_c\": 0.0, \"[B]_NDA2_1_m\": 0.0, \"[M]_AMT_m\": 0.0, \"[B]_Ex_Arg_p\": 0.0, \"[M]_ArgSCAL_h\": 0.011158962913884164, \"[M]_Im_hnu\": 207.72027472973866, \"[M]_PGAK_c\": 0.0, \"[MB]_Met_c\": 0.0048820462748243457, \"[M]_SerAcT_m\": 0.0, \"[M]_Tr_Ser1\": 0.0, \"[B]_Ex_Arg_h\": 0.0, \"[M]_Tr_Ser2\": -0.0048820462748243466, \"[B]_Ex_Glu_h\": 0.0, \"[B]_DHLAcT_m\": 0.32221505413840662, \"[MB]_Thr_c\": 0.055794814569421099, \"[B]_Ex_Trp_p\": 0.0, \"[B]_G6PDH_h\": 0.0, \"[M]_DPE11_h\": 0.0, \"[M]_Ex_Arg_m\": 0.0, \"[B]_Ex_Mas\": 0.0, \"[B]_PSII_h\": 17.853201619114081, \"[M]_Tr_His2\": 0.0027897407284710549, \"[M]_Tr_His3\": 0.0, \"[M]_GMPK_c\": 0.0, \"[B]_FTK_h\": 13.405866592273631, \"[B]_ACPM_h\": 0.0, \"[M]_Tr_DTC1A\": 0.0, \"[B]_TPS_c\": 0.0, \"[B]_DHDS_h\": 0.012553833278119746, \"[M]_PGAM_h\": 0.0, \"[B]_Urease_m\": 0.0, \"[M]_Tr_BT12\": 0.0, \"[M]_Tr_BT11\": 1.6711493293635838e-15, \"[M]_DPE13_h\": 0.0, \"[B]_Im_Pi\": 0.0, \"[M]_PGAM_c\": -0.89690164420343343, \"[MB]_KG_c\": -4.3786272309389076e-16, \"[M]_Ex_O2\": 24.131098093986754, \"[MB]_Gln_c\": 0.30198943385699167, \"[M]_FGAMS_h\": 0.0, \"[M]_SerAcT_h\": 0.0048820462748243466, \"[M]_DHFR_c\": 0.0, \"[B]_Tr_Asp_OAA_hc\": -0.13599986051296367, \"[B]_Tr_NO2\": -1.2609607706051387e-18, \"[M]_6PGDHNADP_h\": 0.0, \"[M]_DAPDC_h\": 0.0, \"[M]_Ex_Met_p\": 0.0, \"[M]_IndGPS_h\": 0.0, \"[B]_AGPase_h\": 3.0687148013181598, \"[B]_Tr_Val1\": 0.0, \"[B]_Tr_Val2\": 0.01673844437082633, \"[B]_Tr_Val3\": 0.0, \"[MB]_GCA_c\": -6.4153499322475401e-16, \"[B]_Tr_PRPP\": -5.1471537055588364e-17, \"[M]_DHQDH_h\": 0.0, \"[M]_Ex_Arg_c\": 0.0, \"[M]_Ex_Tre\": 0.0, \"[B]_SADH_h\": 0.018133314735061856, \"[B]_HCO3DHA_c\": 0.0, \"[B]_Ex_Glc\": 0.0, \"[B]_ArgSCAL_h\": 5.3091761862059668e-17, \"[M]_cplx1_m\": 0.74637914129911598, \"[B]_RBO_h\": 6.4153499322475401e-16, \"[M]_DHOase_h\": 0.0, \"[B]_EPSPS_h\": 0.018133314735061856, \"[B]_NGAM_h\": 0.152707083279744, \"[M]_GAPDH1_h\": 4.096222605232656, \"[M]_GABATA1_m\": 0.0, \"[B]_GluSeADA_m\": 0.0, \"[M]_PPiase_h\": 40.015343574006742, \"[M]_Tr_Phe1\": 0.0, \"[M]_cplx3_m\": 0.74637914129911598, \"[B]_Ex_Val_h\": 0.0, \"[B]_dTDPK_c\": 0.0, \"[M]_Tr_Ile3\": 0.0, \"[B]_BAATA2_h\": 0.0083692221854131665, \"[B]_Ex_Arg_m\": 0.0, \"[M]_ADPRPPT_c\": 0.0, \"[B]_AspAT_p\": 0.0, \"[M]_AOX4_h\": 0.0, \"[M]_Tr_Phe2\": 0.0, \"[M]_ProDHNAD_m\": 0.0, \"[M]_Tr_NDT1\": 2.2975767212560162e-16, \"[B]_Tr_H2Op\": 0.0, \"[B]_SerRM_c\": 0.0, \"[M]_PGP_h\": 1.1401176431620201e-19, \"[B]_Tr_KG\": 1.4154584726147739e-31, \"[B]_Tr_H2Oh\": -7.1200924253707347, \"[M]_ALS3_h\": 0.0, \"[M]_BAATA2_h\": 0.0, \"[B]_Tr_H2Om\": -0.12272776091801699, \"[B]_Ex_cellulose\": 0.0, \"[B]_GDPR_c\": 0.0, \"[M]_MalDH2_m\": 0.0, \"[B]_ALS3_h\": 0.0251076665562395, \"[B]_Ex_Suc\": 1.5343574006590801, \"[B]_F26BPPh_c\": 0.0, \"[M]_MalDH4_h\": 0.0, \"[B]_PSI_h\": 136.30746825328245, \"[B]_GGAT_p\": 6.416490049890704e-16, \"[M]_ForTHFL_h\": 0.0027897407284710554, \"[B]_GGAT_h\": 0.0, \"[M]_Tr_Trp2\": 0.0, \"[B]_5M_DASH_THFOR_c\": 0.0, \"[M]_dGDPK_c\": 0.0, \"[M]_ALS1_h\": 0.0, \"[M]_MetS_c\": 0.0048820462748243457, \"[M]_Tr_Asp_mc\": 0.0, \"[B]_GARFT_h\": 0.0, \"[M]_Ex_Leu_h\": 0.0, \"[B]_Tr_H_Na_hc\": 0.0, \"[M]_CDPR_c\": 0.0, \"[M]_GluDC_c\": 0.0, \"[M]_Ex_Leu_c\": 0.0, \"[M]_IndGPL_h\": 0.0, \"[M]_NO2R_h\": 1.0559168657262943, \"[M]_NDA2_2_m\": 0.0, \"[M]_Ex_Arg_p\": 0.0, \"[M]_S6PS_c\": 0.0, \"[MB]_Glc_c\": 0.0, \"[M]_Ex_Leu_p\": 0.0, \"[B]_AIRC_h\": 0.0, \"[B]_Tr_PXN3\": 0.0, \"[M]_Tr_NH41\": -0.30198943385699167, \"[B]_Tr_Pyr1\": 0.0, \"[B]_Ex_Pro_m\": 0.0, \"[M]_6PGDHNAD_h\": 0.0, \"[M]_Ex_Ser_c\": 0.0, \"[B]_AlaTA_m\": -0.31593813749934652, \"[M]_Tr_Pro2\": 0.0, \"[B]_iCitL_p\": 6.416490049890703e-16, \"[B]_Ex_Met_c\": 0.0, \"[B]_Tr_KG_Mal_mc\": 0.0, \"[M]_Ex_Ser_h\": 0.0, \"[B]_CTPP_c\": 0.0, \"[M]_Tr_H2Om\": -3.2251984250506678, \"[M]_Ex_Tyr_c\": 0.0, \"[B]_Ex_Pro_c\": 0.0, \"[B]_PEPC1_c\": 0.0, \"[B]_Tr_Ala2\": 0.0, \"[B]_Tr_TPT3\": 0.0, \"[M]_PyrDH1_m\": 0.0, \"[M]_Tr_Asp\": 0.0, \"[B]_ADPR_c\": 0.0, \"[M]_Tr_DIT2\": 0.0, \"[M]_cplx5_m\": 2.4879304709970533, \"[M]_PSII_h\": 24.504287664636315, \"[M]_Tr_NH42\": 0.0, \"[M]_Tr_DIT1\": 0.011158962913884159, \"[B]_AlaTA_p\": -6.416490049890705e-16, \"[B]_Ex_Phe_c\": 0.0, \"[M]_FBPA_c\": 0.0, \"[M]_Tr_His1\": 0.0, \"[B]_AspAT2_p\": -6.416490049890704e-16, \"[M]_PGI_c\": 0.0018598271523107559, \"[B]_Ex_Met_h\": 0.0, \"[B]_KARI12_h\": 0.0083692221854131665, \"[M]_FBPA_h\": 0.0, \"[B]_PSerAT_h\": 0.065558907119069448, \"[M]_PGI_h\": -0.0018598271523107563, \"[M]_Tr_DTC1B\": 0.0, \"[B]_Tr_ORO\": -5.0349861866627056e-17, \"[M]_ArgSCAS_h\": 0.011158962913884164, \"[M]_Ex_Arg_h\": 0.0, \"[B]_Tr_DTC2A\": 0.0, \"[M]_3IPMDA1_h\": 0.0, \"[B]_AspAT2_c\": -0.59437025280407074, \"[B]_Tr_DTC2B\": 0.0, \"[B]_AspAT2_m\": 0.0062769166390601637, \"[MB]_Trp_c\": 0.0, \"[M]_Tr_SFC\": 0.0, \"[B]_AspAT2_h\": 0.0, \"[M]_Ex_starch\": 0.0, \"[M]_GSSGR_h\": 0.0048820462748243474, \"[M]_GluSeADH_m\": 0.0, \"[B]_Ex_Thr_p\": 0.0, \"[M]_PGM_c\": 0.0, \"[M]_GluSeADH_h\": 0.0, \"[M]_P5CDHNADP_h\": 0.0, \"[B]_Cytb6f1_h\": 68.153734126641226, \"[M]_PGM_h\": 0.0, \"[B]_ADNK_c\": 0.0, \"[B]_PyrK_c\": 0.89969138493191458, \"[M]_StS_h1\": 0.0, \"[M]_StS_h3\": 0.0, \"[M]_StS_h2\": 0.0, \"[M]_FrcFD_c\": -2.7216719700112585e-16, \"[B]_Ex_Thr_c\": 0.0, \"[M]_CTHL_h\": 0.0048820462748243457, \"[B]_Ex_Pro_p\": 0.0, \"[M]_Tr_BT13\": -2.4869043152797966e-15, \"[M]_SO3R_h\": 0.0048820462748243466, \"[M]_Ex_Gln_m\": 0.0, \"[M]_Tr_iCit\": -6.416490049890702e-16, \"[B]_PGR5PGRL11_h\": 0.0, \"[B]_ATPPRT_h\": 0.0, \"[B]_NDC1_1_h\": 0.0, \"[B]_DCAMPS_h\": 0.0, \"[B]_PyrK_h\": 0.0, \"[B]_ForTHFL_h\": 0.0, \"[M]_Ex_Thr_p\": 0.0, \"[MB]_Glu_c\": -0.31314839677087536, \"[M]_Tr_Met2\": 0.0, \"[MB]_Fum_c\": 0.013948703642355221, \"[M]_Im_Pi\": 0.0, \"[M]_Tr_Met3\": 0.0, \"[M]_GluSNAD_h\": 0.0, \"[B]_ATase_h\": 0.0, \"[M]_Ex_Glu_p\": 0.0, \"[B]_AGluK\": 5.4351907330742281e-17, \"[B]_NGAM_m\": 0.0091111872455015702, \"[B]_IndGPS_h\": 0.0062769166390598732, \"[B]_Tr_Cit_iCit_mc\": 0.0, \"[B]_Tr_DTC4B\": 0.0, \"[M]_KGDH_m\": 0.0, \"[M]_HSerDHNADP_h\": 0.057887120115774619, \"[M]_Tr_Phe3\": 0.0, \"[B]_3IPMDH_h\": 0.0083692221854131665, \"[B]_NGAM_c\": 0.050349979617494899, \"[B]_DAPE_h\": 0.012553833278119745, \"[M]_Tr_DTC2B\": -6.416490049890702e-16, \"[B]_ALS1_h\": 0.033476888741652666, \"[M]_PrAMPCy_h\": 0.0027897407284710549, \"[M]_Tr_UCP\": -4.9576385675031034, \"[B]_ATPase_h\": 118.45426663416839, \"[B]_Tr_Trp1\": 0.0, \"[MB]_G6P_c\": 0.0, \"[B]_Tr_SO4\": 0.0, \"[M]_Ex_Asp_c\": 0.0, \"[B]_Tr_Hp\": 0.0, \"[M]_cACNHA_m\": -6.416490049890701e-16, \"[M]_PGR5PGRL12_h\": 0.0, \"[M]_Ex_Met_m\": 0.0, \"[M]_cACNHA_h\": 0.0, \"[B]_bAMY1_h\": 0.0, \"[B]_3IPMDA2_h\": 0.0083692221854131665, \"[M]_cACNHA_c\": 0.0, \"[M]_NDC1_1_h\": 0.0, \"[M]_Ex_Asp_m\": 0.0, \"[M]_Ex_Asp_p\": 0.0, \"[B]_Enol_h\": 0.12135372168849091, \"[B]_Tr_O2m\": 0.12650674673450604, \"[B]_Tr_Trp3\": 0.0, \"[B]_Tr_Trp2\": 0.0062769166390598723, \"[B]_ProDHNADP_m\": 0.0, \"[B]_DHODH_m\": -5.034986186662705e-17, \"[B]_Ex_Met_m\": 0.0, \"[B]_Enol_c\": 0.0, \"[B]_Ex_Asp_p\": 0.0, \"[B]_Tr_Pro1\": 0.0, \"[M]_HEXK_c\": 0.0, \"[B]_Tr_Pyr3\": 0.0, \"[B]_CitS_c\": 0.0, \"[M]_Ex_Thr_m\": 0.0, \"[M]_Tr_ORO\": 0.0, \"[B]_CitS_m\": 0.32221505413840662, \"[B]_NDA2_2_m\": 0.0, \"[B]_BAATA3_h\": 0.01673844437082633, \"[B]_CitS_h\": 0.0, \"[B]_GluSeADH_c\": 0.0, \"[B]_FGAMS_h\": 0.0, \"[B]_S6PS_c\": 1.5343574006590806, \"[B]_FGAMCL_h\": 0.0, \"[B]_AGNDH_h\": 0.0041846110927065824, \"[B]_IndGPL_h\": 0.0062769166390598723, \"[M]_UDPR_c\": 0.0, \"[B]_GluSeADH_h\": 0.0, \"[B]_Ex_Asp_m\": 0.0, \"[M]_DPE12_h\": 0.0, \"[M]_Tr_Glu1\": 0.0, \"[B]_AlaTA_h\": 0.0, \"[M]_OROPRT_c\": 0.0, \"[M]_AlaTA_p\": 0.0, \"[B]_Tr_ProU\": 0.0, \"[M]_Ex_Tyr_h\": 0.0, \"[M]_NDH1_h\": 11.685973412648121, \"[M]_Tr_H2Op\": 0.0, \"[B]_Ex_starch\": 1.5343574006590801, \"[B]_Tr_Pro2\": 0.0, \"[M]_AICARFT_h\": 0.0027897407284710554, \"[M]_AlaTA_c\": 0.0, \"[B]_Tr_ProA\": 0.0, \"[M]_PSerP_h\": 0.0, \"[M]_Tr_Tyr1\": 0.0, \"[B]_Tr_Ile2\": 0.0083692221854131648, \"[B]_Tr_Ile1\": 0.0, \"[M]_AlaTA_h\": 0.0, \"[M]_AlaTA_m\": 0.0, \"[B]_HSerDHNAD_h\": 0.0, \"[B]_iCitDHNAD_m\": 0.0, \"[B]_CAT_p\": 0.0, \"[M]_SGAT_p\": 0.0, \"[B]_ATPSL_h\": 0.0, \"[B]_iCitDHNAD_c\": 0.0, \"[M]_MetAdT_c\": 0.0, \"[B]_Tr_P5C2\": 0.0, \"[B]_FumHA_c\": 0.013948703642355273, \"[MB]_CO2_c\": 6.4153499322475401e-16, \"[M]_Ex_His_h\": 0.0, \"[B]_HCysMT_c\": 0.0, \"[B]_SAK_h\": 0.01813331473506186, \"[M]_dUTPP_c\": 0.0, \"[M]_Ex_Ala_m\": 0.0, \"[B]_CAT_h\": 0.0, \"[B]_FumHA_m\": 0.0, \"[M]_Cytb6f2_h\": 54.8515620355967, \"[M]_Tr_DHO2\": 0.0, \"[M]_Tr_DHO1\": 0.0, \"[M]_MalDH1_m\": 0.74637914129911609, \"[B]_dUDPK_c\": 0.0, \"[M]_Tr_BAC1\": 0.0, \"[M]_MalDH1_h\": 0.0, \"[MB]_Asn_c\": 0.0, \"[B]_R5PI_h\": 13.381456360899508, \"[MB]_PEP_c\": 0.89969138493191447, \"[M]_MalDH1_c\": 1.0607989120011185, \"[M]_MalDH3_h\": 40.857813292798383, \"[M]_Ex_His_c\": 0.0, \"[B]_Tr_GCA1\": 6.4153499322475401e-16, \"[B]_ALS2_h\": 0.0083692221854131665, \"[M]_Tr_PLT5\": 0.0, \"[M]_MalDH1_p\": 0.0, \"[B]_Ex_Tyr_c\": 0.0, \"[M]_Tr_KG\": 0.0, \"[B]_IPODC_h\": 0.0083692221854131665, \"[B]_Tr_iCit\": 6.416490049890703e-16, \"[B]_Ex_Cys_p\": 0.0, \"[M]_Ex_Cys_c\": 0.0, \"[M]_HisolPTA_h\": 0.0027897407284710554, \"[M]_Ex_Cys_h\": 0.0, \"[B]_Ex_Tyr_p\": 0.0, \"[B]_RibK_h\": 0.0, \"[B]_ProDHNAD_m\": 0.0, \"[B]_ANTS_h\": 0.0062769166390598723, \"[B]_GluDH3NADP_c\": -0.32221505413840679, \"[M]_SerRM_c\": 0.0, \"[B]_Ex_Gly_c\": 0.0, \"[M]_RBO_h\": 1.1401176431620199e-19, \"[B]_GCEAK_h\": 0.0, \"[B]_GDPK_h\": 0.0, \"[M]_Ex_Glu_m\": 0.0, \"[B]_PPIase_c\": 1.6047983540529747, \"[B]_GDPK_c\": 0.0, \"[B]_AspCT_h\": -5.0777789774917714e-17, \"[M]_Tr_Cys\": 0.0, \"[B]_Tr_Tyr3\": 0.0, \"[B]_Ex_Asp_h\": 0.0, \"[M]_Si_H_m\": 0.0, \"[M]_AIRC_h\": 0.0, \"[M]_IMPCH_h\": 0.0027897407284710554, \"[B]_Tr_Met2\": 0.0, \"[MB]_2PGA_c\": 0.0, \"[B]_Ex_O2\": 17.726694872379571, \"[B]_S6PPh_c\": 1.5343574006590803, \"[B]_GCAO_h\": 0.0, \"[B]_iCitDHNADP_m\": 0.0, \"[B]_PPiase_h\": 2.9982738479242661, \"[M]_NDA2_1_m\": 0.0, \"[B]_iCitDHNADP_h\": 0.0, \"[M]_Ex_Mas\": 0.0, \"[B]_ACoAC_h\": -1.2100471915465112e-18, \"[B]_GAPDH2_h\": -0.061374296026362865, \"[B]_GSSGR_h\": 0.0, \"[B]_Ex_Gln_c\": 0.0, \"[B]_AspK_h\": 0.012553833278119746, \"[B]_Ex_Gln_m\": 0.0, \"[B]_GluSeADA_h\": 0.0, \"[B]_GCAO_p\": 0.0, \"[B]_GAPDH2_c\": -0.0083692221854131648, \"[B]_Tr_Glu1\": 0.0, \"[B]_NO3R2_c\": 0.0, \"[B]_Ex_Lys_c\": 0.0, \"[B]_Tr_Glu2\": 0.0, \"[M]_Tr_GCEA2\": 0.0, \"[B]_PrATPDP_h\": 0.0, \"[M]_FTK_h\": 0.00092991357615537795, \"[M]_Tr_Val1\": 0.0, \"[B]_Tr_Asp\": 6.416490049890704e-16, \"[M]_Tr_Val2\": 0.0, \"[MB]_His_c\": 0.0027897407284710549, \"[B]_SAICARS_h\": 0.0, \"[B]_DAPDC_h\": 0.012553833278119746, \"[M]_AspK_h\": 0.060676860844245444, \"[M]_Tr_HCys\": 0.0048820462748243466, \"[M]_KARI12_h\": 0.0, \"[M]_RBC_h\": 1.1401176431620199e-19, \"[B]_Ex_Asn_h\": 0.0, \"[B]_Ex_Thr_h\": 0.0, \"[M]_OrnCMT_h\": 0.011158962913884164, \"[M]_ATPCitL_c\": 0.0, \"[M]_SCACoAL_m\": 0.0, \"[M]_SAICARS_h\": 0.0, \"[M]_Tr_TPT2\": 2.0434617347355437, \"[B]_Cytb6f2_h\": 68.153734126641226, \"[M]_Tr_TPT1\": -4.0962226052326569, \"[M]_TA_h\": -0.00092991357615537795, \"[B]_Tr_Tyr1\": 0.0, \"[B]_Tr_Tyr2\": 0.0041846110927065824, \"[B]_Tr_DTC3A\": 0.32221505413840651, \"[M]_RibK_h\": 0.0, \"[M]_GlnS_m\": 0.0, \"[M]_dUDPK_c\": 0.0, \"[M]_GlnS_h\": 0.7588094781441268, \"[B]_Tr_DTC5\": 0.067109255123040862, \"[B]_Ru5PE_h\": 26.793599869812198, \"[M]_OrnAT_m\": 0.0, \"[M]_GlnS_c\": 0.30198943385699167, \"[M]_Tr_Asp_Glu_mc\": 0.0, \"[B]_Tr_Lys2\": 0.012553833278119745, \"[B]_Ru5PK_h\": 40.175056230711711, \"[B]_AOrnAGluAcT_h\": 5.4351907330742281e-17, \"[MB]_Rib_c\": 0.0, \"[M]_Tr_Thr2\": 0.055794814569421099, \"[B]_Ex_Glu_m\": 0.0, \"[B]_Ex_Glu_c\": 0.0, \"[MB]_Phe_c\": 0.0, \"[MB]_Asp_c\": 0.8607904923730566, \"[MB]_G1P_c\": 0.0, \"[B]_Tr_His2\": 0.0, \"[MB]_Suc_c\": 2.721671970011258e-16, \"[B]_HisolPTA_h\": 0.0, \"[B]_AspAT_c\": 0.0, \"[MB]_Cit_c\": -0.32221505413840651, \"[B]_MetS_c\": 0.0, \"[B]_AspAT_h\": -0.12344602723484394, \"[B]_Tr_GCEA2\": 0.0, \"[B]_Ex_Glu_p\": 0.0, \"[B]_AspAT_m\": 0.0, \"[B]_Tr_DTC1B\": 0.0, \"[B]_Tr_DTC1C\": 0.0, \"[B]_PPIF6PK_c\": 0.0, \"[B]_Im_H2S\": 0.0, \"[M]_GluSeADA_h\": 0.0, \"[M]_DAHPS_h\": 0.0, \"[M]_Tr_H2Oh\": 1.9398839778539223, \"[M]_UDPK_c\": 0.0, \"[M]_Tr_DTC2C\": 0.0, \"[M]_Tr_DTC2A\": 0.0, \"[B]_Tr_SCA\": -6.416490049890704e-16, \"[M]_Ex_Phe_h\": 0.0, \"[M]_GluSeADA_c\": 0.0, \"[B]_DHLST_m\": 0.0, \"[M]_CeS_c1\": 0.0, \"[M]_PPIF6PK_c\": 0.0, \"[M]_CeS_c3\": 0.0, \"[M]_CeS_c2\": 0.0, \"[M]_Si_H_h\": 17.878686175326692, \"[B]_Tr_Pyr_Na_hc\": 0.0, \"[B]_Ex_AA\": 0.69743518211776367, \"[M]_AsnS_c\": 0.0, \"[B]_ACDOxRed_c\": 0.0083692221854131648, \"[B]_Tr_P5C1\": 0.0, \"[B]_IMPDH_c\": 0.0, \"[B]_Im_H2O\": -2.230939669954989, \"[M]_ATPSL_h\": 0.0048820462748243466, \"[M]_DAPE_h\": 0.0, \"[B]_DHQS_h\": 0.018133314735061856, \"[B]_Tr_Met3\": 0.0, \"[M]_ThrDA_h\": 0.0, \"[B]_ADPRPPT_c\": 0.0, \"[M]_Cysase_c\": 0.0, \"[B]_Ex_Ser_h\": 0.0, \"[M]_KARI34_h\": 0.0, \"[M]_PGR5PGRL11_h\": 0.0, \"[M]_ForDH_h\": 0.0027897407284710549, \"[M]_Tr_Tyr3\": 0.0, \"[B]_AICARFT_h\": 0.0, \"[B]_Ex_Gln_p\": 0.0, \"[M]_CitS_c\": 0.0, \"[B]_Ex_Tyr_h\": 0.0, \"[M]_Im_H2S\": 0.0, \"[M]_NDH2_h\": 5.8429867063240604, \"[M]_CitS_h\": 0.0, \"[MB]_SCA_c\": -6.416490049890703e-16, \"[M]_Ex_Met_c\": 0.0, \"[MB]_Pyr_c\": -39.779455004811219, \"[M]_CitS_m\": 0.0, \"[M]_AGluPR_h\": 0.011158962913884164, \"[MB]_F6P_c\": -0.0018598271523107559, \"[B]_Fd_DASH_NADPR_h\": 35.706403238228162, \"[B]_AMPK_h\": 0.0, \"[B]_PGADH_h\": 0.065558907119069448, \"[M]_Tr_Ala2\": 0.0, \"[B]_Tr_Ala_mc\": 0.32221505413840662, \"[M]_GCEADH_p\": 0.0, \"[B]_AMPK_c\": 0.0, \"[M]_5M_DASH_THFOR_c\": 0.0048820462748243466, \"[B]_Tr_DTC1A\": 0.0, \"[B]_Tr_NTT\": 0.0, \"[MB]_Tre_c\": 0.0, \"[B]_Im_CO2\": 0.0, \"[M]_Ex_Ile_m\": 0.0, \"[M]_Tr_Ala1\": 0.0, \"[M]_Tr_Mal\": 0.0, \"[M]_Tr_GCA2\": 6.416490049890703e-16, \"[M]_Tr_GCA1\": 1.1401176431620201e-19, \"[M]_FGAMCL_h\": 0.0, \"[B]_AOX4_h\": 0.0, \"[B]_Tr_Ser1\": 0.0, \"[B]_HSerDHNADP_h\": 0.0, \"[B]_6PGDHNADP_h\": 0.0, \"[M]_Tr_Pyr_Na_hc\": 0.0, \"[M]_PyrPiDK_h\": 39.988841037086267, \"[B]_PGP_h\": 6.4153499322475411e-16, \"[B]_AOX1A_m\": 0.0, \"[M]_DHDRNADP_h\": 0.0, \"[M]_Tr_THF\": 0.0, \"[MB]_S6P_c\": 0.0, \"[B]_APSR_h\": 0.0, \"[M]_Tr_DIT1_OAA\": 40.932438857284978, \"[B]_Tr_Asn1\": 0.0, \"[B]_Tr_Asn3\": 0.0, \"[M]_Enol_h\": 0.0, \"[B]_PRANTI_h\": 0.006276916639059874, \"[B]_PSerP_h\": 0.065558907119069448, \"[B]_Tr_CO2h_Ex\": 6.4153499322475401e-16, \"[M]_Enol_c\": -0.89690164420343355, \"[B]_TPP_c\": 0.0, \"[B]_Tr_Ser2\": 0.05928199048000958, \"[M]_PGADH_h\": 0.0, \"[M]_Ex_MACP\": 0.0, \"[B]_Ex_Trp_c\": 0.0, \"[B]_OROPRT_c\": -5.1080797934519483e-17, \"[MB]_PGA_c\": -4.9931242494360903, \"[M]_Tr_KG_Mal_mc\": 6.416490049890701e-16, \"[M]_Tr_Arg2\": 0.011158962913884164, \"[B]_Ex_Trp_h\": 0.0, \"[M]_Tr_Arg1\": 0.0, \"[M]_Ex_Lys_m\": 0.0, \"[B]_Tr_DIC2\": 0.0, \"[B]_Tr_DIC1\": 0.0, \"[B]_Ex_Trp_m\": 0.0, \"[M]_IPODC_h\": 0.0, \"[B]_Ex_Ser_c\": 0.0, \"[B]_Tr_Met1\": 0.0, \"[M]_SADH_h\": 0.0, \"[MB]_cACN_c\": 0.32221505413840712, \"[M]_Tr_AAC\": 2.4788192837515517, \"[M]_Tr_CO2m\": 0.0, \"[M]_P5CDHNAD_h\": 0.0, \"[M]_Tr_CO2h\": 0.013948703642355217, \"[B]_Tr_SFC\": 0.0, \"[M]_NGAM_h\": 0.152707083279744, \"[B]_IGPS_h\": 0.0, \"[B]_PGM_c\": 1.5343574006590806, \"[M]_PRANTI_h\": 0.0, \"[M]_Ex_Ile_c\": 0.0, \"[M]_Ex_Pro_m\": 0.0, \"[M]_StP21_c\": 0.0, \"[B]_PAICARPI_h\": 0.0, \"[B]_TA_h\": 0.0, \"[B]_Tr_AC1\": 0.0083692221854131648, \"[M]_Ex_Lys_h\": 0.0, \"[M]_Cytb6f1_h\": 54.8515620355967, \"[M]_Ex_Asn_h\": 0.0, \"[B]_PGI_c\": 0.51561372910956693, \"[MB]_Ile_c\": 0.0, \"[B]_PGI_h\": 4.0874584728676817, \"[B]_dGDPK_c\": 0.0, \"[B]_Ex_Frc\": 0.0, \"[B]_Im_hnu\": 207.72027472973866, \"[B]_Tr_O2p\": 0.0, \"[M]_Ex_Gly_m\": 0.0, \"[M]_Si_H_p\": 0.0, \"[B]_NDC1_2_h\": 0.0, \"[M]_PSerAT_h\": 0.0, \"[B]_Tr_Leu1\": 0.0, \"[B]_Tr_Cys\": 0.0, \"[MB]_Lys_c\": 0.0, \"[M]_ACoAS_h\": 0.0048820462748243466, \"[B]_PyrDH2_m\": 0.32221505413840662, \"[M]_Ex_Ile_h\": 0.0, \"[B]_Tr_O2h\": -17.853201619114081, \"[B]_Ex_Lys_p\": 0.0, \"[B]_DPE2_c\": 0.0, \"[B]_GAPDH1_h\": 75.100332064967972, \"[B]_dTMPS_c\": 0.0, \"[M]_SBPA_h\": 0.0, \"[M]_DHDRNAD_h\": 0.0, \"[M]_NDC1_2_h\": 0.0, \"[B]_DHFR_c\": 0.0, \"[M]_STK_h\": 0.00092991357615537795, \"[B]_GluK_h\": 0.0, \"[B]_CeS_c2\": 0.0, \"[B]_CeS_c3\": 0.0, \"[B]_CeS_c1\": 0.0, \"[B]_CBPS_h\": 1.2100471915465112e-18, \"[B]_Cysase_c\": 0.0, \"[B]_GAPDH3_c\": 0.0, \"[MB]_DHAP_c\": 2.051830956920957, \"[B]_Ex_Lys_h\": 0.0, \"[M]_DAPAT_h\": 0.0, \"[B]_AOrnTA_h\": 5.4417400851064755e-17, \"[B]_Ex_Lys_m\": 0.0, \"[B]_Tr_Asp_mc\": 0.0062769166390601646, \"[M]_Tr_PPT\": -39.988841037086274, \"[B]_Ex_Val_c\": 0.0, \"[M]_dADPK_c\": 0.0, \"[M]_Ex_Ile_p\": 0.0, \"[B]_Ex_Val_m\": 0.0, \"[B]_TrpS_h\": 0.0062769166390598723, \"[B]_Tr_UCP\": -1.3602678981396816, \"[B]_NDH2_h\": 32.447330888413063, \"[B]_Ex_Val_p\": 0.0, \"[B]_F6PK1_c\": 0.0, \"[M]_Ex_Met_h\": 0.0, \"[B]_DHQDH_h\": 0.018133314735061856, \"[B]_DHDRNAD_h\": 0.012553833278119746, \"[B]_HCO3DHA_h\": 0.0, \"[M]_ACDOxRed_c\": 0.0, \"[B]_F6PK1_h\": 0.0, \"[B]_Tr_THF\": 0.0, \"[B]_Tr_DTC2C\": -0.32221505413840712, \"[B]_NMPK_c\": -5.0285361192552126e-17, \"[M]_Tr_BAC2\": 0.0, \"[B]_SerAcT_m\": 0.0, \"[B]_GABATA2_m\": 0.0, \"[B]_Tr_TPT2\": 0.0, \"[B]_Tr_TPT1\": 5.0014934716215036, \"[B]_Ex_His_c\": 0.0, \"[M]_Glnase_c\": 0.0, \"[B]_GluDC_c\": 0.0, \"[M]_GPAT_h\": 0.0, \"[M]_OMPDC_c\": 0.0, \"[B]_Ex_MACP\": 0.0, \"[M]_S6PPh_c\": 0.0, \"[M]_Tr_Ser3\": 0.0, \"[M]_Tr_Trp1\": 0.0, \"[B]_P5CRNAD_c\": 0.0, \"[M]_Arginase_m\": 0.0, \"[B]_OrnAT_m\": 0.0, \"[M]_F26BPPh_c\": 0.0, \"[M]_Tr_GlySer\": 0.0, \"[M]_Tr_Trp3\": 0.0, \"[M]_Ex_cellulose\": 0.0, \"[B]_Tr_Pyr2\": 0.0, \"[MB]_Pro_c\": 0.0, \"[MB]_iCit_c\": 0.0, \"[B]_Ex_Phe_m\": 0.0, \"[M]_HSerK_h\": 0.060676860844245457, \"[M]_F6PK1_h\": 0.0, \"[M]_cACNDHA_c\": 0.32221505413840645, \"[B]_ACoAS_h\": 0.0083692221854131665, \"[M]_cACNDHA_m\": 0.0, \"[M]_cACNDHA_h\": 0.0, \"[M]_F6PK1_c\": 0.0, \"[M]_Tr_DTC4A\": 0.0, \"[M]_Tr_ProA\": 0.0, \"[M]_SucS_c\": 0.0, \"[B]_HisolPDH_h\": 0.0, \"[M]_6PGL_h\": 0.0, \"[M]_ADPR_c\": 0.0, \"[B]_AMPDA_c\": 0.0, \"[B]_Tr_NH41\": -0.0020923055463532921, \"[B]_Tr_NH42\": -0.32012274859205342, \"[B]_Tr_Pi\": 0.0, \"[B]_PrAMPCy_h\": 0.0, \"[M]_bAMY2_h\": 0.0, \"[M]_Tr_Thr1\": 0.0, \"[B]_Tr_Lys1\": 0.0, \"[M]_Tr_Thr3\": 0.0, \"[B]_GluSNAD_h\": 0.0, \"[B]_Tr_Ser3\": 0.0041846110927069042, \"[M]_UGPase_c\": 0.0, \"[B]_dADPK_c\": 0.0, \"[M]_Ex_Lys_c\": 0.0, \"[B]_Ex_Tre\": 0.0, \"[B]_Tr_His3\": 0.0, \"[B]_Tr_Mal\": 0.0, \"[B]_DHDRNADP_h\": 0.0, \"[B]_GluSeADH_m\": 0.0, \"[M]_PEPC2_c\": -39.9860512963578, \"[B]_OMPDC_c\": -5.0285361192552132e-17, \"[B]_Tr_PPT\": 0.0, \"[B]_Tr_Arg2\": 5.3091761862059668e-17, \"[B]_GMPK_c\": 0.0, \"[M]_GAPDH2_h\": 0.0, \"[M]_Tr_DTC3A\": 0.0, \"[B]_Tr_Arg1\": 0.0, \"[M]_Tr_DTC3C\": 0.0, \"[M]_Tr_DTC3B\": 0.0, \"[B]_StP1_h\": 0.0, \"[B]_SucS_c\": 2.7216719700112585e-16, \"[MB]_Cys_c\": 0.0, \"[B]_Ex_Ala_c\": 0.0, \"[B]_TPI_h\": 30.881058342679882, \"[M]_AGluK\": 0.011158962913884166, \"[M]_F6PK2_c\": 0.0, \"[B]_SerAcT_h\": 0.0, \"[M]_FumHA_m\": 0.0, \"[B]_GlnS_m\": 0.0, \"[M]_FumHA_c\": 0.0, \"[B]_TPI_c\": 0.0, \"[B]_Ex_Phe_h\": 0.0, \"[B]_SerAcT_c\": 0.0, \"[B]_Tr_GPT1\": -1.018743671549514, \"[B]_UDPR_c\": 0.0, \"[M]_ADNK_c\": 0.0, \"[B]_GlnS_c\": 0.0, \"[B]_GlyDH_m\": 0.0041846110927069033, \"[B]_GlnS_h\": 0.0062769166390598749, \"[M]_dTMPK_c\": 0.0, \"[B]_6PGL_h\": 0.0, \"[M]_Fd_DASH_NADPR_h\": 45.088640888179746, \"[M]_DHQS_h\": 0.0, \"[B]_DPE11_h\": 0.0, \"[B]_dUTPP_c\": 0.0, \"[B]_Ex_His_p\": 0.0, \"[M]_Tr_Asn1\": 0.0, \"[M]_Asp_DASH_SeADH_h\": 0.060676860844245444, \"[M]_Tr_Asn3\": 0.0, \"[M]_CTPP_c\": 0.0, \"[B]_Tr_GlySer\": 0.0083692221854138049, \"[B]_PGAK_c\": 0.0083692221854131648, \"[B]_GCEADH_p\": 0.0, \"[B]_Tr_DIC4\": 0.0062769166390603433, \"[M]_Tr_DTC5\": -0.74637914129911609, \"[MB]_Ser_c\": -0.0097640925496486914, \"[M]_AspAT_h\": 0.71975310794553227, \"[B]_dCDPK_c\": 0.0, \"[B]_PGAK_h\": 75.161706360994344, \"[M]_AspAT_m\": 0.0, \"[M]_R5PI_h\": -0.0018598271523156769, \"[B]_IGPDA_h\": 0.0, \"[M]_AOX1A_m\": 0.0, \"[M]_AspAT_p\": 0.0, \"[B]_PGAM_c\": 0.0, \"[M]_FBPase_c\": 0.0, \"[M]_EPSPS_h\": 0.0, \"[M]_FBPase_h\": 0.0, \"[B]_PGAM_h\": 0.1213537216884909, \"[M]_Tr_Ala_mc\": 0.0, \"[B]_Tr_PLT5\": 0.0, \"[B]_IMPCH_h\": 0.0, \"[B]_STK_h\": 13.387733277538569, \"[B]_Tr_PIC\": 0.84054404095693247, \"[M]_SBPase_h\": 0.0, \"[M]_FrcK_c\": 0.0, \"[M]_Ex_Asn_p\": 0.0, \"[B]_Tr_DIT2\": 0.0, \"[M]_ACoAC_h\": 6.0502359577325561e-19, \"[B]_Tr_DIT1\": 3.6267466866566968e-17, \"[M]_3IPMDA2_h\": 0.0, \"[B]_CHRS_h\": 0.018133314735061856, \"[M]_Im_H2O\": 38.597651088712659, \"[B]_Ex_Gly_p\": 0.0, \"[B]_dTMPK_c\": 0.0, \"[B]_AGNDA_h\": 0.0076717870032954006, \"[M]_Tr_Asn2\": 0.0, \"[B]_Ex_Leu_p\": 0.0, \"[B]_Tr_Pyr_H_hc\": -0.0076717870032935818, \"[B]_OrnCMT_h\": 5.2668549545253203e-17, \"[M]_Tr_AC1\": 0.0, \"[B]_PyrDH1_m\": 0.32221505413840662, \"[M]_Tr_AC2\": 0.0, \"[M]_Tr_Tyr2\": 0.0, \"[B]_R5PDPK_h\": 0.006276916639059822, \"[B]_Ex_Gly_m\": 0.0, \"[M]_AMPK_h\": 40.015343574006742, \"[B]_SBPase_h\": 13.387733277538569, \"[M]_CHRS_h\": 0.0, \"[M]_Ex_Gly_c\": 0.0, \"[B]_FrcK_c\": 0.0, \"[M]_TPS_c\": 0.0, \"[MB]_Gly_c\": 0.0048820462748243466, \"[B]_FBPase_h\": 17.493325065141313, \"[B]_Ex_Gly_h\": 0.0, \"[M]_ThrA_c\": 0.0, \"[B]_FBPase_c\": 2.0518309569209565, \"[M]_Tr_DIC2\": 0.0, \"[M]_Tr_PIC\": 2.4788192837515513, \"[M]_Tr_Val3\": 0.0, \"[M]_Ex_Phe_p\": 0.0, \"[M]_AspAT_c\": 0.01115896291388372, \"[M]_StP1_h\": 0.0, \"[B]_Asp_DASH_SeADH_h\": 0.012553833278119745, \"[M]_DHLST_m\": 0.0, \"[B]_StP21_c\": 0.0, \"[B]_FrcFD_c\": 0.0, \"[M]_Ex_Tyr_p\": 0.0, \"[M]_Im_NO3\": 1.0559168657262943, \"[M]_iCitL_p\": -6.416490049890703e-16, \"[M]_GlyDH_m\": 0.0, \"[B]_Tr_Ala1\": 0.0, \"[M]_GDPR_c\": 0.0, \"[B]_Ex_Cys_c\": 0.0, \"[B]_SCACoAL_m\": 0.0, \"[MB]_Arg_c\": 0.011158962913884166, \"[B]_bAMY2_h\": 0.0, \"[M]_Ex_Phe_m\": 0.0, \"[M]_Ex_Phe_c\": 0.0, \"[B]_Ex_Cys_h\": 0.0, \"[M]_TrpS_h\": 0.0, \"[M]_Tr_Lys2\": 0.0, \"[B]_2IPMS_h\": 0.0083692221854131683, \"[M]_Urease_m\": 0.0, \"[M]_DHDS_h\": 0.0, \"[B]_CTHS_h\": 0.0, \"[B]_ATPCitL_c\": 0.0, \"[B]_GMPS_c\": 0.0, \"[M]_GARFT_h\": 0.0, \"[M]_G6PDH_h\": 0.0, \"[B]_HisolPP_h\": 0.0, \"[M]_DHLDH1_m\": 0.0, \"[M]_ATase_h\": 0.0, \"[M]_DCAMPL1_h\": 0.0, \"[M]_HCO3DHA_h\": 0.011158962913884164, \"[M]_Ex_Ser_m\": 0.0, \"[B]_DCAMPL1_h\": 0.0, \"[M]_HCO3DHA_c\": 39.9860512963578, \"[B]_AMT_m\": 0.0041846110927069033, \"[B]_AlaTA_c\": 0.0, \"[B]_Tr_DTC4C\": 0.0, \"[B]_GluSFd_h\": 0.0, \"[B]_Tr_DTC4A\": 0.0, \"[M]_Tr_SO4\": 0.0048820462748243474, \"[M]_AspCT_h\": 0.0, \"[M]_IGPS_h\": 0.0027897407284710554, \"[B]_Ex_Cys_m\": 0.0, \"[MB]_Tyr_c\": 0.0, \"[B]_Tr_Leu2\": 0.0083692221854131648, \"[M]_Ex_Suc\": 0.0, \"[B]_Ex_Ala_m\": 0.0, \"[B]_Ex_Ala_h\": 0.0, \"[M]_Ex_Ser_p\": 0.0, \"[M]_Ex_Leu_m\": 0.0, \"[M]_Tr_Leu3\": 0.0, \"[B]_DAPAT_h\": 0.012553833278119746, \"[M]_Tr_Leu1\": 0.0, \"[M]_Tr_Leu2\": 0.0, \"[B]_PGM_h\": 3.0687148013181598, \"[B]_Ex_Arg_c\": 0.0, \"[M]_ThrS_h\": 0.055794814569421099, \"[M]_iCitDHNAD_m\": 0.0, \"[B]_RBC_h_Ex\": 6.4153499322475401e-16, \"[B]_Ex_Ala_p\": 0.0, \"[M]_iCitDHNAD_c\": 0.0, \"[B]_MalDH4_h\": 39.453908252401938, \"[B]_GlyHMT_m\": 0.0041846110927069025, \"[B]_DPE12_h\": 0.0, \"[B]_GlyHMT_c\": 0.0, \"[B]_CHRM_h\": 0.011856398096001981, \"[B]_TRXR_c\": 0.0, \"[M]_AOrnTA_h\": 0.011158962913884164, \"[B]_KGDH_m\": 0.0, \"[M]_Tr_Ile1\": 0.0, \"[M]_AGPase_h\": 0.0, \"[M]_HisolPP_h\": 0.0027897407284710554, \"[M]_CTHS_h\": 0.0048820462748243457, \"[M]_Tr_PRPP\": 0.0, \"[M]_Ex_Pro_h\": 0.0, \"[M]_IMPDH_c\": 0.0, \"[M]_DHLAcT_m\": 0.0, \"[M]_GluSeADA_m\": 0.0, \"[B]_GABATA1_m\": 0.0, \"[M]_dTDPK_c\": 0.0, \"[M]_bAMY1_h\": 0.0, \"[B]_Tr_Asn2\": 0.0, \"[B]_DCAMPL2_h\": 0.0, \"[M]_2IPMS_h\": 0.0, \"[M]_Si_H_c\": -39.905148815232145, \"[B]_CTHL_h\": 0.0, \"[M]_Tr_DTC1C\": 6.416490049890703e-16, \"[M]_GluDH1NADP_m\": 0.0, \"[M]_Ex_His_p\": 0.0, \"[B]_Im_SO4\": 0.0, \"[M]_Tr_Mex1\": 2.1075495371822517e-16, \"[B]_GluK_c\": 0.0, \"[B]_GluK_m\": 0.0, \"[B]_Tr_Leu3\": 0.0, \"[B]_Arginase_m\": 0.0, \"[M]_HSerDHNAD_h\": 0.0027897407284708246, \"[M]_GluDH1NAD_m\": 0.0, \"[M]_Tr_ProU\": 0.0, \"[B]_3IPMDA1_h\": 0.0083692221854131665, \"[M]_Tr_GPT1\": 0.0018598271523107561, \"[M]_Im_SO4\": 0.0048820462748243466, \"[B]_DHADA1_h\": 0.0083692221854131665, \"[M]_GAPDH2_c\": 0.0, \"[M]_GluK_c\": 0.0, \"[B]_Ex_Leu_m\": 0.0, \"[B]_DHLDH1_m\": 0.0041846110927069033, \"[B]_StS_h2\": 1.5343574006590801, \"[B]_StS_h3\": 0.0, \"[M]_GluK_h\": 0.0, \"[B]_StS_h1\": 1.5343574006590801, \"[M]_DHADA1_h\": 0.0, \"[B]_Im_NO3\": -1.2609607706051385e-18, \"[M]_GluK_m\": 0.0, \"[B]_cACNDHA_h\": 0.0, \"[M]_GluSFd_h\": 0.74486077450177168, \"[M]_ADNN_c\": 0.0, \"[B]_cACNDHA_m\": 0.0, \"[B]_Ex_Leu_h\": 0.0, \"[B]_cplx2_m\": 0.0, \"[B]_cACNDHA_c\": 0.0, \"[B]_GluDH1NADP_m\": 0.0, \"[M]_Tr_H_Na_hc\": 0.0, \"[M]_Tr_Cit_iCit_mc\": 0.0, \"[MB]_Frc_c\": -2.7216719700112585e-16, \"[M]_GluDH3NADP_c\": 0.0, \"[M]_Asnase_c\": 0.0, \"[B]_Tr_Pyr_Mal_hc\": 39.466462085680064, \"[B]_cplx4_m\": 0.12650674673450604, \"[B]_Ex_Met_p\": 0.0, \"[B]_DHOase_h\": -5.0777789774917714e-17, \"[B]_Tr_Phe3\": 0.0, \"[M]_GGAT_h\": 0.0, \"[M]_PEPC1_c\": 0.0, \"[B]_Tr_Mex1\": 0.0, \"[M]_CTPS_c\": 0.0, \"[M]_Im_NH4\": 0.0, \"[B]_SBPA_h\": 13.387733277538565, \"[B]_Ex_Asp_c\": 0.0, \"[B]_ForDH_h\": 0.0, \"[B]_MalDH2_m\": 0.0, \"[M]_Ex_Ala_c\": 0.0, \"[B]_ANTPRT_h\": 0.0062769166390598732, \"[B]_Tr_CO2h\": 0.64861471936952442, \"[B]_SGAT_p\": 0.0, \"[M]_Ex_Ala_h\": 0.0, \"[B]_Tr_Phe1\": 0.0, \"[B]_Tr_Phe2\": 0.0076717870032954006, \"[B]_iCitDHNADP_c\": 0.32221505413840679, \"[B]_PRAGlyL_h\": 0.0, \"[MB]_Leu_c\": 0.0, \"[B]_CysS_m\": 0.0, \"[B]_Tr_CO2m\": -0.32639966523111352, \"[B]_CysS_h\": 0.0, \"[M]_Tr_Hp\": 0.0, \"[M]_GCAO_p\": 6.416490049890703e-16, \"[MB]_Ala_c\": -0.204503986000241, \"[B]_Tr_DIT1_OAA\": 0.012553833278119752, \"[M]_NMPK_c\": 0.0, \"[M]_GGAT_p\": 0.0, \"[M]_PAICARPI_h\": 0.0027897407284710554, \"[B]_NDH1_h\": 64.894661776826126, \"[M]_GCEAK_h\": 0.0, \"[B]_6PGDHNAD_h\": 0.0, \"[MB]_GAP_c\": 2.0434617347355437, \"[M]_TPI_h\": 2.0518309569209574, \"[M]_PrATPDP_h\": 0.0027897407284710549, \"[M]_DPE2_c\": 2.1075495371822512e-16, \"[M]_TPI_c\": 0.0, \"[B]_P5CDHNADP_h\": 0.0, \"[B]_UDPK_c\": 1.5343574006590806, \"[M]_Ex_Cys_p\": 0.0, \"[B]_P5CDHNADP_m\": 0.0, \"[M]_Ex_Tyr_m\": 0.0, \"[B]_Tr_GCA2\": 0.0, \"[B]_CysS_c\": 0.0, \"[B]_Tr_DHO2\": -5.034986186662705e-17, \"[M]_GluSeADH_c\": 0.0, \"[B]_Tr_DHO1\": -5.077778977491772e-17, \"[M]_Tr_Gln\": 0.0, \"[M]_DCAMPL2_h\": 0.0027897407284710549, \"[M]_Tr_Asp_OAA_hc\": 0.64512754345893186, \"[M]_dCDPK_c\": 0.0, \"[M]_Tr_Pyr1\": 0.0, \"[M]_Tr_Pyr3\": 0.0, \"[M]_Tr_Pyr2\": 0.0, \"total\": 2707.3279345203791, \"[M]_TRXR_c\": 0.0, \"[M]_SAK_h\": 0.0, \"[M]_Ru5PE_h\": 0.0018598271523107559, \"[B]_Ex_Ser_m\": 0.0, \"[M]_AMPDA_c\": 0.0, \"[B]_PyrPiDK_h\": -0.085087092218367189, \"[M]_TPP_c\": 0.0, \"[M]_Tr_NO2\": 1.0559168657262943, \"[M]_GlyHMT_m\": 0.0, \"[B]_Tr_Fum\": 5.3091761862059668e-17, \"[B]_Ex_Pro_h\": 0.0, \"[B]_GluSeADA_c\": 0.0, \"[M]_ATPase_h\": 85.198836406557106, \"[M]_PyrK_c\": 0.0, \"[M]_P5CDHNADP_m\": 0.0, \"[M]_Ex_Gln_p\": 0.0, \"[M]_IGPDA_h\": 0.0027897407284710554, \"[B]_UGPase_c\": 1.5343574006590806, \"[B]_Ex_His_h\": 0.0, \"[M]_Ex_AA\": 0.0, \"[M]_Tr_O2p\": 6.416490049890704e-16, \"[M]_R5PDPK_h\": 0.0027897407284710549, \"[M]_PyrK_h\": 0.0, \"[B]_BAATA1_h\": 0.0083692221854131665, \"[M]_ANTPRT_h\": 0.0, \"[M]_APSR_h\": 0.0048820462748243474, \"[M]_Tr_O2h\": -24.504287664636312, \"[M]_Ex_Gln_c\": 0.0, \"[M]_Ex_Ala_p\": 0.0, \"[M]_Tr_H2S1\": 0.0, \"[M]_Tr_O2m\": 0.37318957064955799, \"[M]_SCASeADH_m\": 0.0, \"[M]_Tr_H2S2\": 0.0, \"[B]_Tr_BAC1\": 0.0, \"[M]_Ex_Gln_h\": 0.0, \"[B]_Tr_BAC2\": 0.0, \"[M]_PRAGlyL_h\": 0.0, \"[B]_Ex_Tyr_m\": 0.0, \"[B]_FBPA_h\": 17.493325065141317, \"[B]_Tr_HCys\": 0.0, \"[M]_Tr_Met1\": 0.0, \"[B]_HSerK_h\": 0.0, \"[M]_AspAT2_m\": 0.0, \"[M]_AspAT2_h\": 0.0, \"[M]_cplx2_m\": 0.0, \"[M]_HisolPDH_h\": 0.0027897407284710554, \"[M]_AspAT2_c\": 0.20450398600024103, \"[B]_Ex_Gln_h\": 0.0, \"[M]_P5CRNAD_c\": 0.0, \"[M]_DHLDH2_m\": 0.0, \"[M]_dTMPS_c\": 0.0, \"[M]_NO3R1_c\": 1.0559168657262943, \"[M]_Tr_Glu2\": 0.0, \"[M]_ProDHNADP_m\": 0.0, \"[M]_Tr_Fum\": 0.013948703642355221, \"[M]_AspAT2_p\": 0.0, \"[B]_Ex_Phe_p\": 0.0, \"[B]_Ex_Asn_p\": 0.0, \"[M]_BAATA1_h\": 0.0, \"[B]_ThrA_c\": 0.0083692221854131648, \"[M]_Ex_Val_c\": 0.0, \"[M]_HisalPDH_h\": 0.0027897407284710549, \"[B]_ArgSCAS_h\": 5.3865562034918054e-17, \"[M]_GABATA2_m\": 0.0, \"[M]_Ex_Val_m\": 0.0, \"[B]_Tr_BT12\": 0.14088190678779794, \"[B]_Tr_BT13\": -0.070440953393930902, \"[M]_Ex_Val_h\": 0.0, \"[B]_Tr_BT11\": -0.070440953393894154, \"[B]_Ex_Asn_c\": 0.0, \"[M]_Tr_Gly\": 0.0, \"[B]_FBPA_c\": 2.051830956920957, \"[M]_Ex_Val_p\": 0.0, \"[M]_NO3R2_c\": 0.0, \"[B]_Tr_AC2\": 0.0, \"[M]_Tr_pGlc\": 0.0, \"[M]_ALS2_h\": 0.0, \"[M]_Ex_Asp_h\": 0.0, \"[M]_BAATA3_h\": 0.0, \"[B]_Ex_Asn_m\": 0.0, \"[M]_Ex_Glc\": 0.0, \"[B]_DHLDH2_m\": 0.32221505413840662, \"[M]_Tr_Pro1\": 0.0, \"[B]_Tr_Ile3\": 0.0, \"[M]_Tr_GCEA1\": 0.0, \"[M]_HCysMT_c\": 0.0, \"[B]_cACNHA_c\": 0.0, \"[B]_cACNHA_m\": 0.32221505413840712, \"[B]_Glnase_c\": 0.0, \"[B]_cACNHA_h\": 0.0, \"[M]_Ex_Pro_c\": 0.0, \"[B]_Tr_H2S1\": 0.0, \"[B]_Tr_Thr1\": 0.0, \"[B]_Tr_Thr3\": 0.0, \"[B]_Tr_Thr2\": -0.0083692221854131665, \"[M]_Tr_OAA\": 0.0, \"[B]_Tr_H2S2\": 0.0, \"[B]_AsnS_c\": 0.07044095339389414, \"[MB]_GCEA_c\": 0.0, \"[M]_Ex_His_m\": 0.0, \"[M]_ACPM_h\": 0.0, \"[M]_Ex_Pro_p\": 0.0, \"[M]_PSI_h\": 109.7031240711934, \"[B]_KARI34_h\": 0.025107666556239503, \"[B]_Asnase_c\": 0.0, \"[M]_Ex_Thr_h\": 0.0, \"[M]_P5CDHNAD_m\": 0.0, \"[M]_AGNDH_h\": 0.0, \"[M]_Ex_Gly_h\": 0.0, \"[B]_Tr_Asp_Glu_mc\": 0.0, \"[B]_CDPR_c\": 0.0, \"[B]_DPE13_h\": 0.0, \"[M]_Tr_PXN3\": 0.0, \"[M]_Ex_Gly_p\": 0.0, \"[B]_Ex_Ile_c\": 0.0, \"[M]_GDPK_h\": 0.0027897407284710554, \"[M]_Tr_NTT\": 0.0, \"[B]_Tr_DTC3B\": 0.32221505413840718, \"[B]_Tr_DTC3C\": 0.0, \"[M]_CBPS_h\": 0.011158962913884164, \"[B]_AGluPR_h\": 5.4793429947065126e-17, \"[M]_GDPK_c\": 0.0, \"[M]_Ex_Lys_p\": 0.0, \"[B]_Im_NH4\": 0.0, \"[B]_Tr_GCEA1\": 0.0, \"[M]_Tr_DTC4B\": 0.0, \"[M]_Tr_DTC4C\": 0.0, \"[M]_Im_CO2\": 40.000000000000156, \"[B]_CTPS_c\": 0.0, \"[B]_MalDH1_c\": 0.0, \"[MB]_Val_c\": 0.0, \"[B]_MalDH1_m\": -0.38932430926144801, \"[M]_Tr_Lys1\": 0.0, \"[B]_MalDH1_h\": 0.0, \"[B]_GPAT_h\": 0.011856398096001983, \"[M]_AMPK_c\": 1.9009070014891853e-15, \"[M]_cplx4_m\": 0.37318957064955799, \"[M]_Ex_Frc\": 0.0, \"[B]_Ex_Leu_c\": 0.0, \"[B]_MalDH1_p\": 0.0, \"[B]_NO3R1_c\": -1.2609607706051387e-18, \"[B]_PEPC2_c\": 0.0, \"[M]_Tr_Pyr_Mal_hc\": 0.08578452740048248, \"[B]_Ex_Thr_m\": 0.0, \"[M]_PyrDH2_m\": 0.0, \"[B]_Tr_NDT1\": 3.8953293432347816e-19, \"[M]_Ru5PK_h\": -4.9206589696366412e-15, \"[B]_RBC_h\": 40.175056230711711, \"[B]_Tr_NDT2\": 0.0, \"[B]_ADNN_c\": 0.0, \"[M]_CysS_c\": 0.0, \"[M]_CysS_m\": 0.0, \"[M]_Tr_DIC4\": 0.0, \"[M]_DHADA2_h\": 0.0, \"[M]_ATPPRT_h\": 0.0027897407284710549, \"[M]_CysS_h\": 0.0048820462748243457, \"[M]_Tr_DIC1\": 0.0, \"[B]_DHADA2_h\": 0.0251076665562395, \"[M]_Ex_Asn_c\": 0.0, \"[M]_NGAM_c\": 0.050349979617494899, \"[M]_Ex_Glu_c\": 0.0, \"[M]_Ex_Cys_m\": 0.0, \"[M]_Tr_SCA\": 6.416490049890704e-16, \"[M]_GAPDH3_c\": 0.0, \"[B]_Tr_AAC\": 0.83426712431787209, \"[M]_Ex_Asn_m\": 0.0, \"[M]_NGAM_m\": 0.0091111872455015702, \"[M]_GMPS_c\": 0.0, \"[B]_Si_H_m\": 0.31872787822782966, \"[M]_Tr_Ile2\": 0.0, \"[B]_GluDH1NAD_m\": -0.31593813749934652, \"[B]_F6PK2_c\": 0.0, \"[M]_3IPMDH_h\": 0.0, \"[B]_Si_H_h\": 99.246645891381505, \"[B]_HisalPDH_h\": 0.0, \"[M]_Tr_Pi\": 0.0, \"[MB]_Mal_c\": 39.050635239498163, \"[B]_cplx5_m\": 0.84337831156337373, \"[M]_ANTS_h\": 0.0, \"[B]_Si_H_c\": 0.0, \"[B]_Tr_Gln\": 0.0, \"[M]_PPIase_c\": 0.0, \"[M]_Tr_Pyr_H_hc\": 40.069743518211929, \"[B]_Tr_pGlc\": 0.0, \"[B]_MetAdT_c\": 0.0, \"[M]_GCAO_h\": 0.0, \"[B]_Tr_Gly\": -6.416490049890703e-16, \"[B]_HEXK_c\": 0.0, \"[B]_Tr_His1\": 0.0, \"[B]_ThrS_h\": 0.0, \"[M]_Tr_NDT2\": 0.0, \"[B]_DAHPS_h\": 0.018133314735061856, \"[B]_cplx1_m\": 0.25301349346901214, \"[B]_Ex_His_m\": 0.0, \"[M]_DHODH_m\": 0.0, \"[M]_AOrnAGluAcT_h\": 0.011158962913884166, \"[M]_iCitDHNADP_h\": 0.0, \"[B]_MalDH3_h\": 0.0, \"[M]_iCitDHNADP_m\": 0.0, \"[M]_Ex_Trp_h\": 0.0, \"[B]_SO3R_h\": 0.0, \"[M]_iCitDHNADP_c\": 0.0, \"[M]_Tr_P5C2\": 0.0, \"[M]_GlyHMT_c\": -0.0048820462748243466, \"[B]_cplx3_m\": 0.25301349346901209, \"[M]_Tr_P5C1\": 0.0, \"[B]_ThrDA_h\": 0.0083692221854131665, \"[M]_Ex_Trp_p\": 0.0, \"[M]_DCAMPS_h\": 0.0027897407284710554, \"[M]_Ex_Glu_h\": 0.0, \"[B]_PGR5PGRL12_h\": 0.0, \"[B]_Ex_Ile_h\": 0.0, \"[M]_CAT_h\": 0.0, \"[B]_Ex_Ile_m\": 0.0, \"[B]_Si_H_p\": 0.0, \"[B]_Tr_OAA\": -6.416490049890705e-16, \"[B]_Ex_Ile_p\": 0.0, \"[M]_CHRM_h\": 0.0, \"[M]_Ex_Trp_c\": 0.0, \"[M]_CAT_p\": 0.0, \"[B]_NO2R_h\": 0.0, \"[B]_Ex_Ser_p\": 0.0, \"[M]_Tr_TPT3\": 2.051830956920957, \"[B]_P5CDHNAD_m\": 0.0, \"[M]_AGNDA_h\": 0.0, \"[M]_Ex_Trp_m\": 0.0, \"[B]_P5CDHNAD_h\": 0.0, \"[M]_Ex_Thr_c\": 0.0, \"[B]_SCASeADH_m\": 0.0}, \"enable_editing\": false, \"gene_data\": null, \"metabolite_data\": null, \"fill_screen\": false, \"enable_keys\": false, \"menu\": \"zoom\", \"scroll_behavior\": \"none\", \"ignore_bootstrap\": true, \"never_ask_before_quit\": true}'),\n",
       "               builder_embed_css: JSON.parse('null'),\n",
       "               map_data: JSON.parse('[{\"map_name\":\"new_map\",\"map_id\":\"cPBjQ56p0ATA\",\"map_description\":\"\\\\nLast Modified Mon Jul 30 2018 11:42:21 GMT+0200 (CEST)\",\"homepage\":\"https://escher.github.io\",\"schema\":\"https://escher.github.io/escher/jsonschema/1-0-0#\"},{\"reactions\":{\"3\":{\"name\":\"Import CO2\",\"bigg_id\":\"[M]_Im_CO2\",\"reversibility\":false,\"label_x\":1300.6845092773438,\"label_y\":-978.7737426757812,\"gene_reaction_rule\":\"\",\"genes\":[],\"metabolites\":[{\"bigg_id\":\"[M]_CO2_c\",\"coefficient\":1}],\"segments\":{\"9\":{\"from_node_id\":\"13\",\"to_node_id\":\"14\",\"b1\":null,\"b2\":null},\"10\":{\"from_node_id\":\"15\",\"to_node_id\":\"14\",\"b1\":null,\"b2\":null},\"11\":{\"from_node_id\":\"15\",\"to_node_id\":\"12\",\"b1\":{\"x\":1285.6845092773438,\"y\":-926.7737426757812},\"b2\":{\"x\":1289.6665649414062,\"y\":-378.75006103515625}}}},\"8\":{\"name\":\"HCO3 dehydratase\",\"bigg_id\":\"[M]_HCO3DHA_c\",\"reversibility\":false,\"label_x\":1304.6665649414062,\"label_y\":-135.00006103515625,\"gene_reaction_rule\":\"\",\"genes\":[],\"metabolites\":[{\"bigg_id\":\"[M]_CO2_c\",\"coefficient\":-1},{\"bigg_id\":\"[M]_H2O_c\",\"coefficient\":-1},{\"bigg_id\":\"[M]_HCO3_c\",\"coefficient\":1},{\"bigg_id\":\"[M]_H_c\",\"coefficient\":1}],\"segments\":{\"36\":{\"from_node_id\":\"40\",\"to_node_id\":\"41\",\"b1\":null,\"b2\":null},\"37\":{\"from_node_id\":\"42\",\"to_node_id\":\"41\",\"b1\":null,\"b2\":null},\"38\":{\"from_node_id\":\"40\",\"to_node_id\":\"12\",\"b1\":{\"x\":1289.6665649414062,\"y\":-207.00006103515625},\"b2\":{\"x\":1289.6665649414062,\"y\":-261.25006103515625}},\"40\":{\"from_node_id\":\"42\",\"to_node_id\":\"44\",\"b1\":{\"x\":1289.6665649414062,\"y\":-83.00006103515625},\"b2\":{\"x\":1289.6665649414062,\"y\":-28.75006103515625}}}},\"10\":{\"name\":\"PEP carboxylase\",\"bigg_id\":\"[M]_PEPC2_c\",\"reversibility\":true,\"label_x\":1422.7590942382812,\"label_y\":77.27912712097168,\"gene_reaction_rule\":\"\",\"genes\":[],\"metabolites\":[{\"bigg_id\":\"[M]_HCO3_c\",\"coefficient\":1},{\"bigg_id\":\"[M]_OAA_c\",\"coefficient\":-1},{\"bigg_id\":\"[M]_PEP_c\",\"coefficient\":1},{\"bigg_id\":\"[M]_Pi_c\",\"coefficient\":-1}],\"segments\":{\"48\":{\"from_node_id\":\"52\",\"to_node_id\":\"53\",\"b1\":null,\"b2\":null},\"49\":{\"from_node_id\":\"54\",\"to_node_id\":\"53\",\"b1\":null,\"b2\":null},\"50\":{\"from_node_id\":\"54\",\"to_node_id\":\"44\",\"b1\":{\"x\":1404.1141737571454,\"y\":10.721262307582037},\"b2\":{\"x\":1417.7417602539062,\"y\":29.9779634475708}},\"51\":{\"from_node_id\":\"52\",\"to_node_id\":\"55\",\"b1\":{\"x\":1285.7354632437239,\"y\":214.6221250124529},\"b2\":{\"x\":1284.9165649414062,\"y\":216.66662979125977}},\"52\":{\"from_node_id\":\"54\",\"to_node_id\":\"56\",\"b1\":{\"x\":1320.831744884119,\"y\":173.91463554749566},\"b2\":{\"x\":1338.1442260742188,\"y\":174.44183349609375}}}},\"11\":{\"name\":\"Mal dehydrogenase\",\"bigg_id\":\"[M]_MalDH1_c\",\"reversibility\":true,\"label_x\":1297.1358032226562,\"label_y\":550.7036323547363,\"gene_reaction_rule\":\"\",\"genes\":[],\"metabolites\":[{\"bigg_id\":\"[M]_H_c\",\"coefficient\":1},{\"bigg_id\":\"[M]_Mal_c\",\"coefficient\":-1},{\"bigg_id\":\"[M]_NADH_c\",\"coefficient\":1},{\"bigg_id\":\"[M]_NAD_c\",\"coefficient\":-1},{\"bigg_id\":\"[M]_OAA_c\",\"coefficient\":1}],\"segments\":{\"54\":{\"from_node_id\":\"58\",\"to_node_id\":\"59\",\"b1\":null,\"b2\":null},\"55\":{\"from_node_id\":\"60\",\"to_node_id\":\"59\",\"b1\":null,\"b2\":null},\"57\":{\"from_node_id\":\"58\",\"to_node_id\":\"62\",\"b1\":{\"x\":1287.6666870117188,\"y\":600.3332710266113},\"b2\":{\"x\":1288.2583618164062,\"y\":655.1749458312988}},\"60\":{\"from_node_id\":\"60\",\"to_node_id\":\"55\",\"b1\":{\"x\":1287.6666870117188,\"y\":476.3332710266113},\"b2\":{\"x\":1287.6666870117188,\"y\":422.0832710266113}}}},\"12\":{\"name\":\"Dicarboxylate transporter\",\"bigg_id\":\"[M]_Tr_DIT1_OAA\",\"reversibility\":true,\"label_x\":976.897114103185,\"label_y\":328.4692601131612,\"gene_reaction_rule\":\"\",\"genes\":[],\"metabolites\":[{\"bigg_id\":\"[M]_Mal_c\",\"coefficient\":1},{\"bigg_id\":\"[M]_Mal_h\",\"coefficient\":-1},{\"bigg_id\":\"[M]_OAA_c\",\"coefficient\":-1},{\"bigg_id\":\"[M]_OAA_h\",\"coefficient\":1}],\"segments\":{\"61\":{\"from_node_id\":\"65\",\"to_node_id\":\"66\",\"b1\":null,\"b2\":null},\"62\":{\"from_node_id\":\"67\",\"to_node_id\":\"66\",\"b1\":null,\"b2\":null},\"63\":{\"from_node_id\":\"67\",\"to_node_id\":\"62\",\"b1\":{\"x\":1104.434084619332,\"y\":597.4528029043886},\"b2\":{\"x\":1210.3419189453125,\"y\":713.5545539855957}},\"64\":{\"from_node_id\":\"65\",\"to_node_id\":\"69\",\"b1\":{\"x\":1104.913831981156,\"y\":469.4537019604029},\"b2\":{\"x\":1007.6513479511395,\"y\":367.39463617939714}},\"65\":{\"from_node_id\":\"65\",\"to_node_id\":\"55\",\"b1\":{\"x\":1104.8988398760982,\"y\":473.4536738649029},\"b2\":{\"x\":1228.9166870117188,\"y\":363.3332710266113}},\"66\":{\"from_node_id\":\"67\",\"to_node_id\":\"70\",\"b1\":{\"x\":1104.4190925142746,\"y\":601.4527748088888},\"b2\":{\"x\":1012.4505061616076,\"y\":721.8936963123499}}}},\"13\":{\"name\":\"Mal dehydrogenase\",\"bigg_id\":\"[M]_MalDH3_h\",\"reversibility\":true,\"label_x\":715.5418291225017,\"label_y\":581.5765275892197,\"gene_reaction_rule\":\"\",\"genes\":[],\"metabolites\":[{\"bigg_id\":\"[M]_H_h\",\"coefficient\":-1},{\"bigg_id\":\"[M]_Mal_h\",\"coefficient\":1},{\"bigg_id\":\"[M]_NADPH_h\",\"coefficient\":-1},{\"bigg_id\":\"[M]_NADP_h\",\"coefficient\":1},{\"bigg_id\":\"[M]_OAA_h\",\"coefficient\":-1}],\"segments\":{\"67\":{\"from_node_id\":\"71\",\"to_node_id\":\"72\",\"b1\":null,\"b2\":null},\"68\":{\"from_node_id\":\"73\",\"to_node_id\":\"72\",\"b1\":null,\"b2\":null},\"70\":{\"from_node_id\":\"73\",\"to_node_id\":\"69\",\"b1\":{\"x\":937.7782182826579,\"y\":475.74583911265717},\"b2\":{\"x\":936.4449052943767,\"y\":425.49583911265717}},\"73\":{\"from_node_id\":\"71\",\"to_node_id\":\"70\",\"b1\":{\"x\":937.7782182826579,\"y\":603.7458391126572},\"b2\":{\"x\":938.4449052943767,\"y\":670.3291521009385}}}},\"16\":{\"name\":\"Asp aminotransferase\",\"bigg_id\":\"[M]_AspAT2_c\",\"reversibility\":true,\"label_x\":3173.9678344726562,\"label_y\":554.1748847961426,\"gene_reaction_rule\":\"\",\"genes\":[],\"metabolites\":[{\"bigg_id\":\"[M]_Ala_c\",\"coefficient\":-1},{\"bigg_id\":\"[M]_Asp_c\",\"coefficient\":1},{\"bigg_id\":\"[M]_OAA_c\",\"coefficient\":-1},{\"bigg_id\":\"[M]_Pyr_c\",\"coefficient\":1}],\"segments\":{\"86\":{\"from_node_id\":\"90\",\"to_node_id\":\"91\",\"b1\":null,\"b2\":null},\"87\":{\"from_node_id\":\"92\",\"to_node_id\":\"91\",\"b1\":null,\"b2\":null},\"88\":{\"from_node_id\":\"90\",\"to_node_id\":\"93\",\"b1\":{\"x\":3158.9678344726562,\"y\":476.0020942687988},\"b2\":{\"x\":3335.6698608398438,\"y\":492.16301345825195}},\"89\":{\"from_node_id\":\"92\",\"to_node_id\":\"94\",\"b1\":{\"x\":3158.5728149414062,\"y\":604.8415718078613},\"b2\":{\"x\":3340.2542114257812,\"y\":610.641040802002}},\"90\":{\"from_node_id\":\"90\",\"to_node_id\":\"55\",\"b1\":{\"x\":3161.9219360351562,\"y\":367.7466926574707},\"b2\":{\"x\":1529.3112182617188,\"y\":361.81987380981445}},\"91\":{\"from_node_id\":\"92\",\"to_node_id\":\"95\",\"b1\":{\"x\":3158.5728149414062,\"y\":608.8415718078613},\"b2\":{\"x\":2989.7009887695312,\"y\":612.0880928039551}}}},\"17\":{\"name\":\"PEP/Pi translocator\",\"bigg_id\":\"[M]_Tr_PPT\",\"reversibility\":true,\"label_x\":1042.2079467773438,\"label_y\":94.60987854003909,\"gene_reaction_rule\":\"\",\"genes\":[],\"metabolites\":[{\"bigg_id\":\"[M]_H_c\",\"coefficient\":-1},{\"bigg_id\":\"[M]_H_h\",\"coefficient\":1},{\"bigg_id\":\"[M]_PEP_c\",\"coefficient\":-1},{\"bigg_id\":\"[M]_PEP_h\",\"coefficient\":1},{\"bigg_id\":\"[M]_Pi_c\",\"coefficient\":1},{\"bigg_id\":\"[M]_Pi_h\",\"coefficient\":-1}],\"segments\":{\"92\":{\"from_node_id\":\"96\",\"to_node_id\":\"97\",\"b1\":null,\"b2\":null},\"93\":{\"from_node_id\":\"98\",\"to_node_id\":\"97\",\"b1\":null,\"b2\":null},\"96\":{\"from_node_id\":\"96\",\"to_node_id\":\"56\",\"b1\":{\"x\":1175.9999389648438,\"y\":128.66659545898438},\"b2\":{\"x\":1230.2499389648438,\"y\":128.66659545898438}},\"97\":{\"from_node_id\":\"98\",\"to_node_id\":\"101\",\"b1\":{\"x\":1051.9999389648438,\"y\":128.6665954589844},\"b2\":{\"x\":997.7499389648438,\"y\":128.6665954589844}}}},\"18\":{\"name\":\"Pyr/H+ translocator\",\"bigg_id\":\"[M]_Tr_Pyr_H_hc\",\"reversibility\":true,\"label_x\":1003.2914428710938,\"label_y\":807.9956245422363,\"gene_reaction_rule\":\"\",\"genes\":[],\"metabolites\":[{\"bigg_id\":\"[M]_H_c\",\"coefficient\":-1},{\"bigg_id\":\"[M]_H_h\",\"coefficient\":1},{\"bigg_id\":\"[M]_Pyr_c\",\"coefficient\":-1},{\"bigg_id\":\"[M]_Pyr_h\",\"coefficient\":1}],\"segments\":{\"100\":{\"from_node_id\":\"104\",\"to_node_id\":\"105\",\"b1\":null,\"b2\":null},\"101\":{\"from_node_id\":\"106\",\"to_node_id\":\"105\",\"b1\":null,\"b2\":null},\"104\":{\"from_node_id\":\"104\",\"to_node_id\":\"95\",\"b1\":{\"x\":2911.2495727539062,\"y\":838.5020942687988},\"b2\":{\"x\":2909.8539428710938,\"y\":840.5639228820801}},\"105\":{\"from_node_id\":\"106\",\"to_node_id\":\"109\",\"b1\":{\"x\":1052.7053833007812,\"y\":842.0523262023926},\"b2\":{\"x\":998.4553833007812,\"y\":842.0523262023926}}}},\"19\":{\"name\":\"Pyr phosphate dikinase\",\"bigg_id\":\"[M]_PyrPiDK_h\",\"reversibility\":true,\"label_x\":529.501953125,\"label_y\":493.18254470825195,\"gene_reaction_rule\":\"\",\"genes\":[],\"metabolites\":[{\"bigg_id\":\"[M]_AMP_h\",\"coefficient\":1},{\"bigg_id\":\"[M]_ATP_h\",\"coefficient\":-1},{\"bigg_id\":\"[M]_H_h\",\"coefficient\":2},{\"bigg_id\":\"[M]_PEP_h\",\"coefficient\":1},{\"bigg_id\":\"[M]_PPi_h\",\"coefficient\":1},{\"bigg_id\":\"[M]_Pi_h\",\"coefficient\":-1},{\"bigg_id\":\"[M]_Pyr_h\",\"coefficient\":-1}],\"segments\":{\"106\":{\"from_node_id\":\"110\",\"to_node_id\":\"111\",\"b1\":null,\"b2\":null},\"107\":{\"from_node_id\":\"112\",\"to_node_id\":\"111\",\"b1\":null,\"b2\":null},\"111\":{\"from_node_id\":\"112\",\"to_node_id\":\"101\",\"b1\":{\"x\":773.6394687410274,\"y\":129.17727754133807},\"b2\":{\"x\":774.4884643554688,\"y\":129.04831314086914}},\"114\":{\"from_node_id\":\"110\",\"to_node_id\":\"109\",\"b1\":{\"x\":770.5639003995976,\"y\":845.4735327003611},\"b2\":{\"x\":746.6383666992188,\"y\":848.5609931945801}}}},\"30\":{\"name\":\"[MB]_Mal_c\",\"bigg_id\":\"[MB]_Mal_c\",\"reversibility\":true,\"label_x\":1302.3710327148438,\"label_y\":1375.2666816711426,\"gene_reaction_rule\":\"\",\"genes\":[],\"metabolites\":[{\"bigg_id\":\"[B]_Mal_c\",\"coefficient\":1},{\"bigg_id\":\"[M]_Mal_c\",\"coefficient\":-1}],\"segments\":{\"170\":{\"from_node_id\":\"174\",\"to_node_id\":\"175\",\"b1\":null,\"b2\":null},\"171\":{\"from_node_id\":\"176\",\"to_node_id\":\"175\",\"b1\":null,\"b2\":null},\"172\":{\"from_node_id\":\"176\",\"to_node_id\":\"177\",\"b1\":{\"x\":1291.9885864257812,\"y\":1525.0464668273926},\"b2\":{\"x\":1291.9885864257812,\"y\":1579.2964668273926}},\"173\":{\"from_node_id\":\"174\",\"to_node_id\":\"62\",\"b1\":{\"x\":1288.8482055664062,\"y\":1065.025592803955},\"b2\":{\"x\":1288.2583618164062,\"y\":772.6749458312988}}}},\"31\":{\"name\":\"[MB]_Pyr_c\",\"bigg_id\":\"[MB]_Pyr_c\",\"reversibility\":true,\"label_x\":2810.7168579101562,\"label_y\":1380.08443069458,\"gene_reaction_rule\":\"\",\"genes\":[],\"metabolites\":[{\"bigg_id\":\"[B]_Pyr_c\",\"coefficient\":1},{\"bigg_id\":\"[M]_Pyr_c\",\"coefficient\":-1}],\"segments\":{\"174\":{\"from_node_id\":\"178\",\"to_node_id\":\"179\",\"b1\":null,\"b2\":null},\"175\":{\"from_node_id\":\"180\",\"to_node_id\":\"179\",\"b1\":null,\"b2\":null},\"176\":{\"from_node_id\":\"180\",\"to_node_id\":\"181\",\"b1\":{\"x\":2988.9026489257812,\"y\":1528.0994453430176},\"b2\":{\"x\":2988.9026489257812,\"y\":1582.3494453430176}},\"177\":{\"from_node_id\":\"178\",\"to_node_id\":\"95\",\"b1\":{\"x\":2985.7622680664062,\"y\":1068.07857131958},\"b2\":{\"x\":2989.3306274414062,\"y\":777.8069038391113}}}},\"32\":{\"name\":\"[MB]_Asp_c\",\"bigg_id\":\"[MB]_Asp_c\",\"reversibility\":true,\"label_x\":3139.0067749023438,\"label_y\":1384.6061897277832,\"gene_reaction_rule\":\"\",\"genes\":[],\"metabolites\":[{\"bigg_id\":\"[B]_Asp_c\",\"coefficient\":1},{\"bigg_id\":\"[M]_Asp_c\",\"coefficient\":-1}],\"segments\":{\"178\":{\"from_node_id\":\"182\",\"to_node_id\":\"183\",\"b1\":null,\"b2\":null},\"179\":{\"from_node_id\":\"184\",\"to_node_id\":\"183\",\"b1\":null,\"b2\":null},\"180\":{\"from_node_id\":\"184\",\"to_node_id\":\"185\",\"b1\":{\"x\":3339.7593383789062,\"y\":1526.9877815246582},\"b2\":{\"x\":3339.7593383789062,\"y\":1581.2377815246582}},\"181\":{\"from_node_id\":\"182\",\"to_node_id\":\"94\",\"b1\":{\"x\":3336.6189575195312,\"y\":1066.9669075012207},\"b2\":{\"x\":3338.1416625976562,\"y\":774.6162605285645}}}},\"33\":{\"name\":\"[MB]_Ala_c\",\"bigg_id\":\"[MB]_Ala_c\",\"reversibility\":true,\"label_x\":3400.4382934570312,\"label_y\":1386.5605964660645,\"gene_reaction_rule\":\"\",\"genes\":[],\"metabolites\":[{\"bigg_id\":\"[B]_Ala_c\",\"coefficient\":1},{\"bigg_id\":\"[M]_Ala_c\",\"coefficient\":-1}],\"segments\":{\"182\":{\"from_node_id\":\"186\",\"to_node_id\":\"187\",\"b1\":null,\"b2\":null},\"183\":{\"from_node_id\":\"188\",\"to_node_id\":\"187\",\"b1\":null,\"b2\":null},\"184\":{\"from_node_id\":\"188\",\"to_node_id\":\"189\",\"b1\":{\"x\":3587.2233276367188,\"y\":1522.486011505127},\"b2\":{\"x\":3587.2233276367188,\"y\":1576.736011505127}},\"185\":{\"from_node_id\":\"186\",\"to_node_id\":\"93\",\"b1\":{\"x\":3584.6729125976562,\"y\":347.3707160949707},\"b2\":{\"x\":3616.6533813476562,\"y\":372.2078437805176}}}},\"44\":{\"name\":\"[MB]_PEP_c\",\"bigg_id\":\"[MB]_PEP_c\",\"reversibility\":true,\"label_x\":2576.147402133158,\"label_y\":1381.696127612824,\"gene_reaction_rule\":\"\",\"genes\":[],\"metabolites\":[{\"bigg_id\":\"[B]_PEP_c\",\"coefficient\":1},{\"bigg_id\":\"[M]_PEP_c\",\"coefficient\":-1}],\"segments\":{\"226\":{\"from_node_id\":\"230\",\"to_node_id\":\"231\",\"b1\":null,\"b2\":null},\"227\":{\"from_node_id\":\"232\",\"to_node_id\":\"231\",\"b1\":null,\"b2\":null},\"228\":{\"from_node_id\":\"232\",\"to_node_id\":\"233\",\"b1\":{\"x\":2762.6847789940966,\"y\":1525.9061659803913},\"b2\":{\"x\":2762.091568220075,\"y\":1580.1529225744735}},\"229\":{\"from_node_id\":\"230\",\"to_node_id\":\"56\",\"b1\":{\"x\":2781.0395907019065,\"y\":194.5973715938901},\"b2\":{\"x\":1580.3357543945312,\"y\":129.1154022216797}}}},\"76\":{\"name\":\"Mal dehydrogenase\",\"bigg_id\":\"[B]_MalDH1_c\",\"reversibility\":true,\"label_x\":1324.5901489257812,\"label_y\":1601.498249053955,\"gene_reaction_rule\":\"\",\"genes\":[],\"metabolites\":[{\"bigg_id\":\"[B]_H_c\",\"coefficient\":1},{\"bigg_id\":\"[B]_Mal_c\",\"coefficient\":-1},{\"bigg_id\":\"[B]_NADH_c\",\"coefficient\":1},{\"bigg_id\":\"[B]_NAD_c\",\"coefficient\":-1},{\"bigg_id\":\"[B]_OAA_c\",\"coefficient\":1}],\"segments\":{\"392\":{\"from_node_id\":\"396\",\"to_node_id\":\"397\",\"b1\":null,\"b2\":null},\"393\":{\"from_node_id\":\"398\",\"to_node_id\":\"397\",\"b1\":null,\"b2\":null},\"395\":{\"from_node_id\":\"396\",\"to_node_id\":\"177\",\"b1\":{\"x\":1404.9885864257812,\"y\":1638.0464668273926},\"b2\":{\"x\":1350.7385864257812,\"y\":1638.0464668273926}},\"398\":{\"from_node_id\":\"398\",\"to_node_id\":\"402\",\"b1\":{\"x\":1528.9885864257812,\"y\":1638.0464668273926},\"b2\":{\"x\":1525.0484008789062,\"y\":1637.7168769836426}}}},\"83\":{\"name\":\"PEP carboxylase\",\"bigg_id\":\"[B]_PEPC1_c\",\"reversibility\":false,\"label_x\":2349.4317016601562,\"label_y\":1672.566608428955,\"gene_reaction_rule\":\"\",\"genes\":[],\"metabolites\":[{\"bigg_id\":\"[B]_ADP_c\",\"coefficient\":1},{\"bigg_id\":\"[B]_ATP_c\",\"coefficient\":-1},{\"bigg_id\":\"[B]_CO2_c\",\"coefficient\":1},{\"bigg_id\":\"[B]_OAA_c\",\"coefficient\":-1},{\"bigg_id\":\"[B]_PEP_c\",\"coefficient\":1}],\"segments\":{\"437\":{\"from_node_id\":\"442\",\"to_node_id\":\"443\",\"b1\":null,\"b2\":null},\"438\":{\"from_node_id\":\"444\",\"to_node_id\":\"443\",\"b1\":null,\"b2\":null},\"441\":{\"from_node_id\":\"444\",\"to_node_id\":\"447\",\"b1\":{\"x\":2489.4094848632812,\"y\":1636.402057647705},\"b2\":{\"x\":2478.2905883789062,\"y\":1544.5144844055176}},\"442\":{\"from_node_id\":\"442\",\"to_node_id\":\"402\",\"b1\":{\"x\":2361.4094848632812,\"y\":1636.402057647705},\"b2\":{\"x\":1641.2337036132812,\"y\":1636.402057647705}},\"443\":{\"from_node_id\":\"444\",\"to_node_id\":\"233\",\"b1\":{\"x\":2485.4094848632812,\"y\":1636.402057647705},\"b2\":{\"x\":2700.2982788085938,\"y\":1640.0635566711426}}}},\"84\":{\"name\":\"Asp aminotransferase\",\"bigg_id\":\"[B]_AspAT2_c\",\"reversibility\":true,\"label_x\":3115.0769653320312,\"label_y\":1888.0323371887207,\"gene_reaction_rule\":\"\",\"genes\":[],\"metabolites\":[{\"bigg_id\":\"[B]_Ala_c\",\"coefficient\":-1},{\"bigg_id\":\"[B]_Asp_c\",\"coefficient\":1},{\"bigg_id\":\"[B]_OAA_c\",\"coefficient\":-1},{\"bigg_id\":\"[B]_Pyr_c\",\"coefficient\":1}],\"segments\":{\"444\":{\"from_node_id\":\"449\",\"to_node_id\":\"450\",\"b1\":null,\"b2\":null},\"445\":{\"from_node_id\":\"451\",\"to_node_id\":\"450\",\"b1\":null,\"b2\":null},\"446\":{\"from_node_id\":\"449\",\"to_node_id\":\"189\",\"b1\":{\"x\":3557.2874145507812,\"y\":1825.5853157043457},\"b2\":{\"x\":3511.8794555664062,\"y\":1862.2759895324707}},\"447\":{\"from_node_id\":\"451\",\"to_node_id\":\"185\",\"b1\":{\"x\":3180.1638793945312,\"y\":1751.8238410949707},\"b2\":{\"x\":3295.0317993164062,\"y\":1690.1729621887207}},\"448\":{\"from_node_id\":\"449\",\"to_node_id\":\"402\",\"b1\":{\"x\":2536.1941528320312,\"y\":1829.3939094543457},\"b2\":{\"x\":2119.7681274414062,\"y\":1859.5446662902832}},\"449\":{\"from_node_id\":\"451\",\"to_node_id\":\"181\",\"b1\":{\"x\":3180.1638793945312,\"y\":1747.8238410949707},\"b2\":{\"x\":3045.1724243164062,\"y\":1681.6682014465332}}}},\"87\":{\"name\":\"Mal dehydrogenase\",\"bigg_id\":\"[B]_MalDH4_h\",\"reversibility\":false,\"label_x\":2640.028564453125,\"label_y\":2712.239501953125,\"gene_reaction_rule\":\"\",\"genes\":[],\"metabolites\":[{\"bigg_id\":\"[B]_CO2_h\",\"coefficient\":1},{\"bigg_id\":\"[B]_Mal_h\",\"coefficient\":-1},{\"bigg_id\":\"[B]_NADPH_h\",\"coefficient\":1},{\"bigg_id\":\"[B]_NADP_h\",\"coefficient\":-1},{\"bigg_id\":\"[B]_Pyr_h\",\"coefficient\":1}],\"segments\":{\"464\":{\"from_node_id\":\"471\",\"to_node_id\":\"472\",\"b1\":null,\"b2\":null},\"465\":{\"from_node_id\":\"473\",\"to_node_id\":\"472\",\"b1\":null,\"b2\":null},\"466\":{\"from_node_id\":\"473\",\"to_node_id\":\"474\",\"b1\":{\"x\":2855.9520263671875,\"y\":2648.5093994140625},\"b2\":{\"x\":2877.4688110351562,\"y\":2680.49609375}},\"467\":{\"from_node_id\":\"471\",\"to_node_id\":\"468\",\"b1\":{\"x\":2727.9520263671875,\"y\":2648.5093994140625},\"b2\":{\"x\":2616.004638671875,\"y\":2644.2354736328125}},\"470\":{\"from_node_id\":\"473\",\"to_node_id\":\"470\",\"b1\":{\"x\":2851.9520263671875,\"y\":2648.5093994140625},\"b2\":{\"x\":2935.4591064453125,\"y\":2645.4207763671875}}}},\"95\":{\"name\":\"RuBisCO\",\"bigg_id\":\"[B]_RBC_h\",\"reversibility\":false,\"label_x\":2632.5873413085938,\"label_y\":2924.0968017578125,\"gene_reaction_rule\":\"\",\"genes\":[],\"metabolites\":[{\"bigg_id\":\"[B]_CO2_h\",\"coefficient\":-1},{\"bigg_id\":\"[B]_H2O_h\",\"coefficient\":-1},{\"bigg_id\":\"[B]_H_h\",\"coefficient\":2},{\"bigg_id\":\"[B]_PGA_h\",\"coefficient\":2},{\"bigg_id\":\"[B]_RuBP_h\",\"coefficient\":-1}],\"segments\":{\"510\":{\"from_node_id\":\"517\",\"to_node_id\":\"518\",\"b1\":null,\"b2\":null},\"511\":{\"from_node_id\":\"519\",\"to_node_id\":\"518\",\"b1\":null,\"b2\":null},\"512\":{\"from_node_id\":\"517\",\"to_node_id\":\"474\",\"b1\":{\"x\":2882.6141967773438,\"y\":2879.277587890625},\"b2\":{\"x\":2915.5392456054688,\"y\":2836.5462646484375}},\"515\":{\"from_node_id\":\"519\",\"to_node_id\":\"483\",\"b1\":{\"x\":2437.0637817382812,\"y\":2874.781982421875},\"b2\":{\"x\":2483.9244995117188,\"y\":2876.09521484375}},\"516\":{\"from_node_id\":\"517\",\"to_node_id\":\"491\",\"b1\":{\"x\":2886.6141967773438,\"y\":2879.277587890625},\"b2\":{\"x\":2996.6266479492188,\"y\":3064.286865234375}}}},\"99\":{\"name\":\"R_Tr_Pyr_Mal_hc\",\"bigg_id\":\"[B]_Tr_Pyr_Mal_hc\",\"reversibility\":true,\"label_x\":2697.1073608398438,\"label_y\":2303.01216506958,\"gene_reaction_rule\":\"\",\"genes\":[],\"metabolites\":[{\"bigg_id\":\"[B]_Mal_c\",\"coefficient\":-1},{\"bigg_id\":\"[B]_Mal_h\",\"coefficient\":1},{\"bigg_id\":\"[B]_Pyr_c\",\"coefficient\":1},{\"bigg_id\":\"[B]_Pyr_h\",\"coefficient\":-1}],\"segments\":{\"531\":{\"from_node_id\":\"538\",\"to_node_id\":\"539\",\"b1\":null,\"b2\":null},\"532\":{\"from_node_id\":\"540\",\"to_node_id\":\"539\",\"b1\":null,\"b2\":null},\"533\":{\"from_node_id\":\"538\",\"to_node_id\":\"177\",\"b1\":{\"x\":2986.3092651367188,\"y\":2233.8533515930176},\"b2\":{\"x\":1689.8287963867188,\"y\":1949.23530960083}},\"534\":{\"from_node_id\":\"540\",\"to_node_id\":\"468\",\"b1\":{\"x\":2986.3092651367188,\"y\":2357.8533515930176},\"b2\":{\"x\":2560.3551635742188,\"y\":2502.451374053955}},\"535\":{\"from_node_id\":\"540\",\"to_node_id\":\"181\",\"b1\":{\"x\":2986.3092651367188,\"y\":2361.8533515930176},\"b2\":{\"x\":2991.0866088867188,\"y\":1720.80952835083}},\"536\":{\"from_node_id\":\"538\",\"to_node_id\":\"470\",\"b1\":{\"x\":2986.3092651367188,\"y\":2229.8533515930176},\"b2\":{\"x\":2988.9304809570312,\"y\":2573.52095413208}}}},\"100\":{\"name\":\"Dicarboxylate transporter\",\"bigg_id\":\"[B]_Tr_DTC5\",\"reversibility\":true,\"label_x\":1095.7332153320312,\"label_y\":2308.3377265930176,\"gene_reaction_rule\":\"\",\"genes\":[],\"metabolites\":[{\"bigg_id\":\"[B]_Mal_c\",\"coefficient\":1},{\"bigg_id\":\"[B]_Mal_m\",\"coefficient\":-1},{\"bigg_id\":\"[B]_OAA_c\",\"coefficient\":-1},{\"bigg_id\":\"[B]_OAA_m\",\"coefficient\":1}],\"segments\":{\"537\":{\"from_node_id\":\"544\",\"to_node_id\":\"545\",\"b1\":null,\"b2\":null},\"538\":{\"from_node_id\":\"546\",\"to_node_id\":\"545\",\"b1\":null,\"b2\":null},\"539\":{\"from_node_id\":\"546\",\"to_node_id\":\"177\",\"b1\":{\"x\":1292.0067749023438,\"y\":2297.0144844055176},\"b2\":{\"x\":1291.9871215820312,\"y\":2298.46187210083}},\"540\":{\"from_node_id\":\"544\",\"to_node_id\":\"547\",\"b1\":{\"x\":1292.9518432617188,\"y\":2297.792194366455},\"b2\":{\"x\":1293.4180297851562,\"y\":2310.5777168273926}},\"541\":{\"from_node_id\":\"544\",\"to_node_id\":\"402\",\"b1\":{\"x\":1581.9943237304688,\"y\":2298.9485664367676},\"b2\":{\"x\":1583.2122192382812,\"y\":2298.0974922180176}},\"542\":{\"from_node_id\":\"546\",\"to_node_id\":\"549\",\"b1\":{\"x\":1583.8844604492188,\"y\":2297.75093460083},\"b2\":{\"x\":1581.3598022460938,\"y\":2311.47163772583}}}},\"101\":{\"name\":\"Mal dehydrogenase\",\"bigg_id\":\"[B]_MalDH1_m\",\"reversibility\":true,\"label_x\":1332.4038696289062,\"label_y\":2610.656940460205,\"gene_reaction_rule\":\"\",\"genes\":[],\"metabolites\":[{\"bigg_id\":\"[B]_H_m\",\"coefficient\":1},{\"bigg_id\":\"[B]_Mal_m\",\"coefficient\":-1},{\"bigg_id\":\"[B]_NADH_m\",\"coefficient\":1},{\"bigg_id\":\"[B]_NAD_m\",\"coefficient\":-1},{\"bigg_id\":\"[B]_OAA_m\",\"coefficient\":1}],\"segments\":{\"543\":{\"from_node_id\":\"550\",\"to_node_id\":\"551\",\"b1\":null,\"b2\":null},\"544\":{\"from_node_id\":\"552\",\"to_node_id\":\"551\",\"b1\":null,\"b2\":null},\"546\":{\"from_node_id\":\"550\",\"to_node_id\":\"547\",\"b1\":{\"x\":1401.6730346679688,\"y\":2644.969928741455},\"b2\":{\"x\":1349.3158569335938,\"y\":2644.02339553833}},\"549\":{\"from_node_id\":\"552\",\"to_node_id\":\"549\",\"b1\":{\"x\":1525.6730346679688,\"y\":2644.969928741455},\"b2\":{\"x\":1527.7882690429688,\"y\":2644.969928741455}}}},\"102\":{\"name\":\"Dicarboxylate transporter\",\"bigg_id\":\"[B]_Tr_DIT1_OAA\",\"reversibility\":true,\"label_x\":1940.4468994140625,\"label_y\":2255.3272705078125,\"gene_reaction_rule\":\"\",\"genes\":[],\"metabolites\":[{\"bigg_id\":\"[B]_Mal_c\",\"coefficient\":1},{\"bigg_id\":\"[B]_Mal_h\",\"coefficient\":-1},{\"bigg_id\":\"[B]_OAA_c\",\"coefficient\":-1},{\"bigg_id\":\"[B]_OAA_h\",\"coefficient\":1}],\"segments\":{\"550\":{\"from_node_id\":\"558\",\"to_node_id\":\"559\",\"b1\":null,\"b2\":null},\"551\":{\"from_node_id\":\"560\",\"to_node_id\":\"559\",\"b1\":null,\"b2\":null},\"552\":{\"from_node_id\":\"560\",\"to_node_id\":\"177\",\"b1\":{\"x\":1537.2420654296875,\"y\":2302.404296875},\"b2\":{\"x\":1639.6156005859375,\"y\":2250.03466796875}},\"553\":{\"from_node_id\":\"558\",\"to_node_id\":\"468\",\"b1\":{\"x\":2290.788818359375,\"y\":2295.3272705078125},\"b2\":{\"x\":2188.41552734375,\"y\":2257.1114501953125}},\"554\":{\"from_node_id\":\"558\",\"to_node_id\":\"402\",\"b1\":{\"x\":2291.0347900390625,\"y\":2295.3272705078125},\"b2\":{\"x\":1729.533447265625,\"y\":1809.4456787109375}},\"555\":{\"from_node_id\":\"560\",\"to_node_id\":\"563\",\"b1\":{\"x\":1786.1060791015625,\"y\":2299.573486328125},\"b2\":{\"x\":1822.494384765625,\"y\":2320.561767578125}}}},\"103\":{\"name\":\"Mal dehydrogenase\",\"bigg_id\":\"[B]_MalDH3_h\",\"reversibility\":true,\"label_x\":2076.0760498046875,\"label_y\":2613.8465576171875,\"gene_reaction_rule\":\"\",\"genes\":[],\"metabolites\":[{\"bigg_id\":\"[B]_H_h\",\"coefficient\":-1},{\"bigg_id\":\"[B]_Mal_h\",\"coefficient\":1},{\"bigg_id\":\"[B]_NADPH_h\",\"coefficient\":-1},{\"bigg_id\":\"[B]_NADP_h\",\"coefficient\":1},{\"bigg_id\":\"[B]_OAA_h\",\"coefficient\":-1}],\"segments\":{\"556\":{\"from_node_id\":\"564\",\"to_node_id\":\"565\",\"b1\":null,\"b2\":null},\"557\":{\"from_node_id\":\"566\",\"to_node_id\":\"565\",\"b1\":null,\"b2\":null},\"559\":{\"from_node_id\":\"566\",\"to_node_id\":\"468\",\"b1\":{\"x\":2217.7994384765625,\"y\":2645.3541259765625},\"b2\":{\"x\":2475.23779296875,\"y\":2644.7249755859375}},\"562\":{\"from_node_id\":\"564\",\"to_node_id\":\"563\",\"b1\":{\"x\":2093.7994384765625,\"y\":2645.3541259765625},\"b2\":{\"x\":1876.7786865234375,\"y\":2644.4102783203125}}}},\"104\":{\"name\":\"Mal dehydrogenase\",\"bigg_id\":\"[B]_MalDH1_h\",\"reversibility\":true,\"label_x\":2071.8299560546875,\"label_y\":2837.7935791015625,\"gene_reaction_rule\":\"\",\"genes\":[],\"metabolites\":[{\"bigg_id\":\"[B]_H_h\",\"coefficient\":1},{\"bigg_id\":\"[B]_Mal_h\",\"coefficient\":-1},{\"bigg_id\":\"[B]_NADH_h\",\"coefficient\":1},{\"bigg_id\":\"[B]_NAD_h\",\"coefficient\":-1},{\"bigg_id\":\"[B]_OAA_h\",\"coefficient\":1}],\"segments\":{\"563\":{\"from_node_id\":\"571\",\"to_node_id\":\"572\",\"b1\":null,\"b2\":null},\"564\":{\"from_node_id\":\"573\",\"to_node_id\":\"572\",\"b1\":null,\"b2\":null},\"566\":{\"from_node_id\":\"571\",\"to_node_id\":\"468\",\"b1\":{\"x\":2568.346435546875,\"y\":2787.9945068359375},\"b2\":{\"x\":2555.915283203125,\"y\":2798.6888427734375}},\"569\":{\"from_node_id\":\"573\",\"to_node_id\":\"563\",\"b1\":{\"x\":1809.618896484375,\"y\":2784.2200927734375},\"b2\":{\"x\":1818.7474365234375,\"y\":2791.6116943359375}}}},\"105\":{\"name\":\"Asp aminotransferase\",\"bigg_id\":\"[B]_AspAT2_m\",\"reversibility\":true,\"label_x\":1359.5839233398438,\"label_y\":2772.5432929992676,\"gene_reaction_rule\":\"\",\"genes\":[],\"metabolites\":[{\"bigg_id\":\"[B]_Ala_m\",\"coefficient\":-1},{\"bigg_id\":\"[B]_Asp_m\",\"coefficient\":1},{\"bigg_id\":\"[B]_OAA_m\",\"coefficient\":-1},{\"bigg_id\":\"[B]_Pyr_m\",\"coefficient\":1}],\"segments\":{\"570\":{\"from_node_id\":\"578\",\"to_node_id\":\"579\",\"b1\":null,\"b2\":null},\"571\":{\"from_node_id\":\"580\",\"to_node_id\":\"579\",\"b1\":null,\"b2\":null},\"572\":{\"from_node_id\":\"578\",\"to_node_id\":\"581\",\"b1\":{\"x\":1593.1441111460415,\"y\":2816.922512473858},\"b2\":{\"x\":1583.2286987304688,\"y\":3192.9431953430176}},\"573\":{\"from_node_id\":\"580\",\"to_node_id\":\"582\",\"b1\":{\"x\":1482.1012950041454,\"y\":2818.2003140988945},\"b2\":{\"x\":1497.6403198242188,\"y\":3193.3560371398926}},\"574\":{\"from_node_id\":\"578\",\"to_node_id\":\"549\",\"b1\":{\"x\":1594.166893472417,\"y\":2818.2178148683906},\"b2\":{\"x\":1583.0223999023438,\"y\":2811.8260078430176}},\"575\":{\"from_node_id\":\"580\",\"to_node_id\":\"590\",\"b1\":{\"x\":1478.1014943227085,\"y\":2818.240245399677},\"b2\":{\"x\":1467.0841674804688,\"y\":2817.8892402648926}}}},\"106\":{\"name\":\"Mal dehydrogenase\",\"bigg_id\":\"[B]_MalDH2_m\",\"reversibility\":false,\"label_x\":1057.2401733398438,\"label_y\":2823.68550491333,\"gene_reaction_rule\":\"\",\"genes\":[],\"metabolites\":[{\"bigg_id\":\"[B]_CO2_m\",\"coefficient\":1},{\"bigg_id\":\"[B]_Mal_m\",\"coefficient\":-1},{\"bigg_id\":\"[B]_NADH_m\",\"coefficient\":1},{\"bigg_id\":\"[B]_NAD_m\",\"coefficient\":-1},{\"bigg_id\":\"[B]_Pyr_m\",\"coefficient\":1}],\"segments\":{\"576\":{\"from_node_id\":\"584\",\"to_node_id\":\"585\",\"b1\":null,\"b2\":null},\"577\":{\"from_node_id\":\"586\",\"to_node_id\":\"585\",\"b1\":null,\"b2\":null},\"578\":{\"from_node_id\":\"586\",\"to_node_id\":\"587\",\"b1\":{\"x\":1290.5658569335938,\"y\":2881.02339553833},\"b2\":{\"x\":1290.5658569335938,\"y\":2935.27339553833}},\"579\":{\"from_node_id\":\"584\",\"to_node_id\":\"547\",\"b1\":{\"x\":1290.5658569335938,\"y\":2757.02339553833},\"b2\":{\"x\":1290.5658569335938,\"y\":2702.77339553833}},\"582\":{\"from_node_id\":\"586\",\"to_node_id\":\"590\",\"b1\":{\"x\":1290.5658569335938,\"y\":2820.98677444458},\"b2\":{\"x\":1322.7905883789062,\"y\":2817.447956085205}}}},\"107\":{\"name\":\"CO2 diffusion\",\"bigg_id\":\"[B]_Tr_CO2m\",\"reversibility\":true,\"label_x\":810.4965209960938,\"label_y\":2307.36275100708,\"gene_reaction_rule\":\"\",\"genes\":[],\"metabolites\":[{\"bigg_id\":\"[B]_CO2_c\",\"coefficient\":-1},{\"bigg_id\":\"[B]_CO2_m\",\"coefficient\":1}],\"segments\":{\"583\":{\"from_node_id\":\"591\",\"to_node_id\":\"592\",\"b1\":null,\"b2\":null},\"584\":{\"from_node_id\":\"593\",\"to_node_id\":\"592\",\"b1\":null,\"b2\":null},\"585\":{\"from_node_id\":\"591\",\"to_node_id\":\"447\",\"b1\":{\"x\":1047.8641435324835,\"y\":1472.6182197716075},\"b2\":{\"x\":1046.3784790039062,\"y\":1471.4295234680176}},\"586\":{\"from_node_id\":\"593\",\"to_node_id\":\"587\",\"b1\":{\"x\":1071.4398725807978,\"y\":2997.2749458167714},\"b2\":{\"x\":1197.4758911132812,\"y\":2996.35542678833}}}},\"108\":{\"name\":\"CO2 diffusion\",\"bigg_id\":\"[B]_Tr_CO2h\",\"reversibility\":true,\"label_x\":3133.3099975585938,\"label_y\":2307.3350830078125,\"gene_reaction_rule\":\"\",\"genes\":[],\"metabolites\":[{\"bigg_id\":\"[B]_CO2_c\",\"coefficient\":-1},{\"bigg_id\":\"[B]_CO2_h\",\"coefficient\":1}],\"segments\":{\"587\":{\"from_node_id\":\"595\",\"to_node_id\":\"596\",\"b1\":null,\"b2\":null},\"588\":{\"from_node_id\":\"597\",\"to_node_id\":\"596\",\"b1\":null,\"b2\":null},\"589\":{\"from_node_id\":\"595\",\"to_node_id\":\"447\",\"b1\":{\"x\":3097.9994506835938,\"y\":1478.2550354003906},\"b2\":{\"x\":3097.2362670898438,\"y\":1478.481689453125}},\"590\":{\"from_node_id\":\"597\",\"to_node_id\":\"474\",\"b1\":{\"x\":3031.0409545898438,\"y\":2785.986328125},\"b2\":{\"x\":3050.1347045898438,\"y\":2787.396728515625}}}},\"131\":{\"name\":\"Tr_Asp_mc\",\"bigg_id\":\"[B]_Tr_Asp_mc\",\"reversibility\":true,\"label_x\":1254.9667358398438,\"label_y\":3738.2415351867676,\"gene_reaction_rule\":\"\",\"genes\":[],\"metabolites\":[{\"bigg_id\":\"[B]_Asp_c\",\"coefficient\":1},{\"bigg_id\":\"[B]_Asp_m\",\"coefficient\":-1}],\"segments\":{\"716\":{\"from_node_id\":\"728\",\"to_node_id\":\"729\",\"b1\":null,\"b2\":null},\"717\":{\"from_node_id\":\"730\",\"to_node_id\":\"729\",\"b1\":null,\"b2\":null},\"718\":{\"from_node_id\":\"730\",\"to_node_id\":\"185\",\"b1\":{\"x\":3337.0399780273438,\"y\":3509.9805488586426},\"b2\":{\"x\":3337.0402221679688,\"y\":3822.18208694458}},\"719\":{\"from_node_id\":\"728\",\"to_node_id\":\"582\",\"b1\":{\"x\":1493.7348022460938,\"y\":3812.6458320617676},\"b2\":{\"x\":1495.1290893554688,\"y\":3426.3728828430176}}}},\"132\":{\"name\":\"R_Tr_Ala_mc\",\"bigg_id\":\"[B]_Tr_Ala_mc\",\"reversibility\":true,\"label_x\":1606.4703979492188,\"label_y\":3734.3384590148926,\"gene_reaction_rule\":\"\",\"genes\":[],\"metabolites\":[{\"bigg_id\":\"[B]_Ala_c\",\"coefficient\":-1},{\"bigg_id\":\"[B]_Ala_m\",\"coefficient\":1}],\"segments\":{\"720\":{\"from_node_id\":\"732\",\"to_node_id\":\"733\",\"b1\":null,\"b2\":null},\"721\":{\"from_node_id\":\"734\",\"to_node_id\":\"733\",\"b1\":null,\"b2\":null},\"722\":{\"from_node_id\":\"732\",\"to_node_id\":\"189\",\"b1\":{\"x\":3588.1522827148438,\"y\":3755.6631660461426},\"b2\":{\"x\":3585.3634643554688,\"y\":3750.305866241455}},\"723\":{\"from_node_id\":\"734\",\"to_node_id\":\"581\",\"b1\":{\"x\":1590.0761108398438,\"y\":3764.1245918273926},\"b2\":{\"x\":1585.8931274414062,\"y\":3423.8645820617676}}}},\"134\":{\"name\":\"Pyr kinase\",\"bigg_id\":\"[B]_PyrK_c\",\"reversibility\":false,\"label_x\":2795.5721978974,\"label_y\":1606.111812474027,\"gene_reaction_rule\":\"\",\"genes\":[],\"metabolites\":[{\"bigg_id\":\"[B]_ADP_c\",\"coefficient\":-1},{\"bigg_id\":\"[B]_ATP_c\",\"coefficient\":1},{\"bigg_id\":\"[B]_H_c\",\"coefficient\":-1},{\"bigg_id\":\"[B]_PEP_c\",\"coefficient\":-1},{\"bigg_id\":\"[B]_Pyr_c\",\"coefficient\":1}],\"segments\":{\"731\":{\"from_node_id\":\"742\",\"to_node_id\":\"743\",\"b1\":null,\"b2\":null},\"732\":{\"from_node_id\":\"744\",\"to_node_id\":\"743\",\"b1\":null,\"b2\":null},\"736\":{\"from_node_id\":\"742\",\"to_node_id\":\"233\",\"b1\":{\"x\":2806.652031881775,\"y\":1638.899410130277},\"b2\":{\"x\":2820.1991510224,\"y\":1638.899410130277}},\"737\":{\"from_node_id\":\"744\",\"to_node_id\":\"181\",\"b1\":{\"x\":2934.652031881775,\"y\":1638.899410130277},\"b2\":{\"x\":2916.8221978974,\"y\":1638.1470907943394}}}}},\"nodes\":{\"12\":{\"node_type\":\"metabolite\",\"x\":1289.6665649414062,\"y\":-320.00006103515625,\"bigg_id\":\"[M]_CO2_c\",\"name\":\"CO2\",\"label_x\":1324.351962073744,\"label_y\":-340.41893299433843,\"node_is_primary\":true},\"13\":{\"node_type\":\"multimarker\",\"x\":1285.6845092773438,\"y\":-1008.7737426757812},\"14\":{\"node_type\":\"midmarker\",\"x\":1285.6845092773438,\"y\":-988.7737426757812},\"15\":{\"node_type\":\"multimarker\",\"x\":1285.6845092773438,\"y\":-968.7737426757812},\"40\":{\"node_type\":\"multimarker\",\"x\":1289.6665649414062,\"y\":-165.00006103515625},\"41\":{\"node_type\":\"midmarker\",\"x\":1289.6665649414062,\"y\":-145.00006103515625},\"42\":{\"node_type\":\"multimarker\",\"x\":1289.6665649414062,\"y\":-125.00006103515625},\"44\":{\"node_type\":\"metabolite\",\"x\":1289.6665649414062,\"y\":29.99993896484375,\"bigg_id\":\"[M]_HCO3_c\",\"name\":\"CHO3\",\"label_x\":1310.6665649414062,\"label_y\":7.333271503448486,\"node_is_primary\":true},\"52\":{\"node_type\":\"multimarker\",\"x\":1409.2748762987262,\"y\":211.32401972572646},\"53\":{\"node_type\":\"midmarker\",\"x\":1408.6665649414062,\"y\":191.33327293395996},\"54\":{\"node_type\":\"multimarker\",\"x\":1408.0582535840863,\"y\":171.34252614219335},\"55\":{\"node_type\":\"metabolite\",\"x\":1287.6666870117188,\"y\":363.3332710266113,\"bigg_id\":\"[M]_OAA_c\",\"name\":\"C4H2O5\",\"label_x\":1323.0366577148438,\"label_y\":346.7503852844238,\"node_is_primary\":true},\"56\":{\"node_type\":\"metabolite\",\"x\":1288.9999389648438,\"y\":128.66659545898438,\"bigg_id\":\"[M]_PEP_c\",\"name\":\"C3H2O6P\",\"label_x\":1248.0422729492188,\"label_y\":98.7098388671875,\"node_is_primary\":true},\"58\":{\"node_type\":\"multimarker\",\"x\":1287.6666870117188,\"y\":558.3332710266113},\"59\":{\"node_type\":\"midmarker\",\"x\":1287.6666870117188,\"y\":538.3332710266113},\"60\":{\"node_type\":\"multimarker\",\"x\":1287.6666870117188,\"y\":518.3332710266113},\"62\":{\"node_type\":\"metabolite\",\"x\":1288.2583618164062,\"y\":713.9249458312988,\"bigg_id\":\"[M]_Mal_c\",\"name\":\"C4H4O5\",\"label_x\":1313.2583618164062,\"label_y\":713.9249458312988,\"node_is_primary\":true},\"65\":{\"node_type\":\"multimarker\",\"x\":1104.7414227730005,\"y\":515.4533788621472},\"66\":{\"node_type\":\"midmarker\",\"x\":1104.6664622477163,\"y\":535.4532383846456},\"67\":{\"node_type\":\"multimarker\",\"x\":1104.5915017224293,\"y\":555.453097907144},\"69\":{\"node_type\":\"metabolite\",\"x\":936.4449052943767,\"y\":366.74583911265717,\"bigg_id\":\"[M]_Mal_h\",\"name\":\"C4H4O5\",\"label_x\":810.069819845158,\"label_y\":370.74583911265717,\"node_is_primary\":true},\"70\":{\"node_type\":\"metabolite\",\"x\":939.6578197788833,\"y\":720.7443946164624,\"bigg_id\":\"[M]_OAA_h\",\"name\":\"C4H2O5\",\"label_x\":797.7244457554459,\"label_y\":736.7443946164624,\"node_is_primary\":true},\"71\":{\"node_type\":\"multimarker\",\"x\":937.7782182826579,\"y\":557.7458391126572},\"72\":{\"node_type\":\"midmarker\",\"x\":937.7782182826579,\"y\":537.7458391126572},\"73\":{\"node_type\":\"multimarker\",\"x\":937.7782182826579,\"y\":517.7458391126572},\"90\":{\"node_type\":\"multimarker\",\"x\":3158.9678344726562,\"y\":522.0020942687988},\"91\":{\"node_type\":\"midmarker\",\"x\":3158.9678344726562,\"y\":544.1748847961426},\"92\":{\"node_type\":\"multimarker\",\"x\":3158.5728149414062,\"y\":562.8415718078613},\"93\":{\"node_type\":\"metabolite\",\"x\":3337.4120483398438,\"y\":370.68107986450195,\"bigg_id\":\"[M]_Ala_c\",\"name\":\"C3H7NO2\",\"label_x\":3310.0651245117188,\"label_y\":339.7982063293457,\"node_is_primary\":true},\"94\":{\"node_type\":\"metabolite\",\"x\":3338.1416625976562,\"y\":715.8662605285645,\"bigg_id\":\"[M]_Asp_c\",\"name\":\"C4H6NO4\",\"label_x\":3353.2651977539062,\"label_y\":691.3724250793457,\"node_is_primary\":true},\"95\":{\"node_type\":\"metabolite\",\"x\":2989.3306274414062,\"y\":719.0569038391113,\"bigg_id\":\"[M]_Pyr_c\",\"name\":\"C3H3O3\",\"label_x\":3000.7750854492188,\"label_y\":693.3531684875488,\"node_is_primary\":true},\"96\":{\"node_type\":\"multimarker\",\"x\":1133.9999389648438,\"y\":128.6665954589844},\"97\":{\"node_type\":\"midmarker\",\"x\":1113.9999389648438,\"y\":128.6665954589844},\"98\":{\"node_type\":\"multimarker\",\"x\":1093.9999389648438,\"y\":128.6665954589844},\"101\":{\"node_type\":\"metabolite\",\"x\":938.9999389648438,\"y\":128.66659545898443,\"bigg_id\":\"[M]_PEP_h\",\"name\":\"C3H2O6P\",\"label_x\":901.1999389648438,\"label_y\":168.66659545898443,\"node_is_primary\":true},\"104\":{\"node_type\":\"multimarker\",\"x\":2816.6066284179688,\"y\":842.0523262023926},\"105\":{\"node_type\":\"midmarker\",\"x\":1114.7053833007812,\"y\":842.0523262023926},\"106\":{\"node_type\":\"multimarker\",\"x\":1094.7053833007812,\"y\":842.0523262023926},\"109\":{\"node_type\":\"metabolite\",\"x\":939.7053833007812,\"y\":842.0523262023926,\"bigg_id\":\"[M]_Pyr_h\",\"name\":\"C3H3O3\",\"label_x\":890.6630126953125,\"label_y\":886.7859687805176,\"node_is_primary\":true},\"110\":{\"node_type\":\"multimarker\",\"x\":772.3787003872201,\"y\":500.5207926303535},\"111\":{\"node_type\":\"midmarker\",\"x\":772.3975830078125,\"y\":480.52080154418945},\"112\":{\"node_type\":\"multimarker\",\"x\":772.4164656284049,\"y\":460.5208104580254},\"174\":{\"node_type\":\"multimarker\",\"x\":1288.8482055664062,\"y\":1107.025592803955},\"175\":{\"node_type\":\"midmarker\",\"x\":1291.9885864257812,\"y\":1463.0464668273926},\"176\":{\"node_type\":\"multimarker\",\"x\":1291.9885864257812,\"y\":1483.0464668273926},\"177\":{\"node_type\":\"metabolite\",\"x\":1291.9885864257812,\"y\":1638.0464668273926,\"bigg_id\":\"[B]_Mal_c\",\"name\":\"C4H4O5\",\"label_x\":1169.7308959960938,\"label_y\":1640.6761054992676,\"node_is_primary\":true},\"178\":{\"node_type\":\"multimarker\",\"x\":2985.7622680664062,\"y\":1110.07857131958},\"179\":{\"node_type\":\"midmarker\",\"x\":2988.9026489257812,\"y\":1466.0994453430176},\"180\":{\"node_type\":\"multimarker\",\"x\":2988.9026489257812,\"y\":1486.0994453430176},\"181\":{\"node_type\":\"metabolite\",\"x\":2988.9026489257812,\"y\":1641.0994453430176,\"bigg_id\":\"[B]_Pyr_c\",\"name\":\"C3H3O3\",\"label_x\":2878.8265991210938,\"label_y\":1682.495807647705,\"node_is_primary\":true},\"182\":{\"node_type\":\"multimarker\",\"x\":3336.6189575195312,\"y\":1108.9669075012207},\"183\":{\"node_type\":\"midmarker\",\"x\":3339.7593383789062,\"y\":1464.9877815246582},\"184\":{\"node_type\":\"multimarker\",\"x\":3339.7593383789062,\"y\":1484.9877815246582},\"185\":{\"node_type\":\"metabolite\",\"x\":3339.7593383789062,\"y\":1639.9877815246582,\"bigg_id\":\"[B]_Asp_c\",\"name\":\"C4H6NO4\",\"label_x\":3345.0130004882812,\"label_y\":1683.7119026184082,\"node_is_primary\":true},\"186\":{\"node_type\":\"multimarker\",\"x\":3584.0829467773438,\"y\":1104.4651374816895},\"187\":{\"node_type\":\"midmarker\",\"x\":3587.2233276367188,\"y\":1460.486011505127},\"188\":{\"node_type\":\"multimarker\",\"x\":3587.2233276367188,\"y\":1480.486011505127},\"189\":{\"node_type\":\"metabolite\",\"x\":3587.2233276367188,\"y\":1635.486011505127,\"bigg_id\":\"[B]_Ala_c\",\"name\":\"C3H7NO2\",\"label_x\":3612.2233276367188,\"label_y\":1675.595630645752,\"node_is_primary\":true},\"230\":{\"node_type\":\"multimarker\",\"x\":2760.4410485212625,\"y\":1107.8901944322583},\"231\":{\"node_type\":\"midmarker\",\"x\":2763.362734164408,\"y\":1463.9098727300116},\"232\":{\"node_type\":\"multimarker\",\"x\":2763.1440389481786,\"y\":1483.9086770043273},\"233\":{\"node_type\":\"metabolite\",\"x\":2761.4491510224,\"y\":1638.899410130277,\"bigg_id\":\"[B]_PEP_c\",\"name\":\"C3H2O6P\",\"label_x\":2724.9795221161503,\"label_y\":1683.7076376693394,\"node_is_primary\":true},\"396\":{\"node_type\":\"multimarker\",\"x\":1446.9885864257812,\"y\":1638.0464668273926},\"397\":{\"node_type\":\"midmarker\",\"x\":1466.9885864257812,\"y\":1638.0464668273926},\"398\":{\"node_type\":\"multimarker\",\"x\":1486.9885864257812,\"y\":1638.0464668273926},\"402\":{\"node_type\":\"metabolite\",\"x\":1582.4837036132812,\"y\":1636.402057647705,\"bigg_id\":\"[B]_OAA_c\",\"name\":\"C4H2O5\",\"label_x\":1542.0540649414063,\"label_y\":1606.7176094055176,\"node_is_primary\":true},\"442\":{\"node_type\":\"multimarker\",\"x\":2403.4094848632812,\"y\":1636.402057647705},\"443\":{\"node_type\":\"midmarker\",\"x\":2423.4094848632812,\"y\":1636.402057647705},\"444\":{\"node_type\":\"multimarker\",\"x\":2443.4094848632812,\"y\":1636.402057647705},\"447\":{\"node_type\":\"metabolite\",\"x\":2479.2601928710938,\"y\":1474.2293281555176,\"bigg_id\":\"[B]_CO2_c\",\"name\":\"CO2\",\"label_x\":2503.5758422851563,\"label_y\":1451.1131172180176,\"node_is_primary\":true},\"449\":{\"node_type\":\"multimarker\",\"x\":3180.1638793945312,\"y\":1833.8238410949707},\"450\":{\"node_type\":\"midmarker\",\"x\":3180.1638793945312,\"y\":1813.8238410949707},\"451\":{\"node_type\":\"multimarker\",\"x\":3180.1638793945312,\"y\":1793.8238410949707},\"468\":{\"node_type\":\"metabolite\",\"x\":2557.254638671875,\"y\":2644.2354736328125,\"bigg_id\":\"[B]_Mal_h\",\"name\":\"C4H4O5\",\"label_x\":2581.18212890625,\"label_y\":2620.6953125,\"node_is_primary\":true},\"470\":{\"node_type\":\"metabolite\",\"x\":2990.5491943359375,\"y\":2644.2545166015625,\"bigg_id\":\"[B]_Pyr_h\",\"name\":\"C3H3O3\",\"label_x\":2963.0924072265625,\"label_y\":2695.6025390625,\"node_is_primary\":true},\"471\":{\"node_type\":\"multimarker\",\"x\":2769.9520263671875,\"y\":2648.5093994140625},\"472\":{\"node_type\":\"midmarker\",\"x\":2789.9520263671875,\"y\":2648.5093994140625},\"473\":{\"node_type\":\"multimarker\",\"x\":2809.9520263671875,\"y\":2648.5093994140625},\"474\":{\"node_type\":\"metabolite\",\"x\":2991.3847045898438,\"y\":2787.396728515625,\"bigg_id\":\"[B]_CO2_h\",\"name\":\"CO2\",\"label_x\":2964.9905639648437,\"label_y\":2845.26123046875,\"node_is_primary\":true},\"483\":{\"node_type\":\"metabolite\",\"x\":2407.30029296875,\"y\":2874.866943359375,\"bigg_id\":\"[B]_PGA_h\",\"name\":\"C3H4O7P\",\"label_x\":2271.1439697265623,\"label_y\":2881.5244140625,\"node_is_primary\":true},\"491\":{\"node_type\":\"metabolite\",\"x\":2989.6767578125,\"y\":3153.792236328125,\"bigg_id\":\"[B]_RuBP_h\",\"name\":\"C5H8O11P2\",\"label_x\":3022.277099609375,\"label_y\":3162.3876953125,\"node_is_primary\":true},\"517\":{\"node_type\":\"multimarker\",\"x\":2840.6141967773438,\"y\":2879.277587890625},\"518\":{\"node_type\":\"midmarker\",\"x\":2820.6141967773438,\"y\":2879.277587890625},\"519\":{\"node_type\":\"multimarker\",\"x\":2800.6141967773438,\"y\":2879.277587890625},\"538\":{\"node_type\":\"multimarker\",\"x\":2986.3092651367188,\"y\":2275.8533515930176},\"539\":{\"node_type\":\"midmarker\",\"x\":2986.3092651367188,\"y\":2295.8533515930176},\"540\":{\"node_type\":\"multimarker\",\"x\":2986.3092651367188,\"y\":2315.8533515930176},\"544\":{\"node_type\":\"multimarker\",\"x\":1437.9448852539062,\"y\":2295.60200881958},\"545\":{\"node_type\":\"midmarker\",\"x\":1435.1012573242188,\"y\":2296.454792022705},\"546\":{\"node_type\":\"multimarker\",\"x\":1436.9970092773438,\"y\":2297.3074531555176},\"547\":{\"node_type\":\"metabolite\",\"x\":1290.5658569335938,\"y\":2644.02339553833,\"bigg_id\":\"[B]_Mal_m\",\"name\":\"C4H4O5\",\"label_x\":1157.2743530273438,\"label_y\":2650.658405303955,\"node_is_primary\":true},\"549\":{\"node_type\":\"metabolite\",\"x\":1582.3945922851562,\"y\":2643.2093086242676,\"bigg_id\":\"[B]_OAA_m\",\"name\":\"C4H2O5\",\"label_x\":1611.3456420898438,\"label_y\":2652.3565254211426,\"node_is_primary\":true},\"550\":{\"node_type\":\"multimarker\",\"x\":1443.6730346679688,\"y\":2644.969928741455},\"551\":{\"node_type\":\"midmarker\",\"x\":1463.6730346679688,\"y\":2644.969928741455},\"552\":{\"node_type\":\"multimarker\",\"x\":1483.6730346679688,\"y\":2644.969928741455},\"558\":{\"node_type\":\"multimarker\",\"x\":1970.4468994140625,\"y\":2295.3272705078125},\"559\":{\"node_type\":\"midmarker\",\"x\":1990.4468994140625,\"y\":2295.3272705078125},\"560\":{\"node_type\":\"multimarker\",\"x\":2010.4468994140625,\"y\":2295.3272705078125},\"563\":{\"node_type\":\"metabolite\",\"x\":1818.0286865234375,\"y\":2644.4102783203125,\"bigg_id\":\"[B]_OAA_h\",\"name\":\"C4H2O5\",\"label_x\":1839.56943359375,\"label_y\":2618.6732177734375,\"node_is_primary\":true},\"564\":{\"node_type\":\"multimarker\",\"x\":2135.7994384765625,\"y\":2645.3541259765625},\"565\":{\"node_type\":\"midmarker\",\"x\":2155.7994384765625,\"y\":2645.3541259765625},\"566\":{\"node_type\":\"multimarker\",\"x\":2175.7994384765625,\"y\":2645.3541259765625},\"571\":{\"node_type\":\"multimarker\",\"x\":2182.87646484375,\"y\":2788.6236572265625},\"572\":{\"node_type\":\"midmarker\",\"x\":2162.87646484375,\"y\":2788.6236572265625},\"573\":{\"node_type\":\"multimarker\",\"x\":2142.87646484375,\"y\":2788.6236572265625},\"578\":{\"node_type\":\"multimarker\",\"x\":1564.0972089735876,\"y\":2817.3817224328563},\"579\":{\"node_type\":\"midmarker\",\"x\":1544.0982055664062,\"y\":2817.5813789367676},\"580\":{\"node_type\":\"multimarker\",\"x\":1524.099202159225,\"y\":2817.781035440679},\"581\":{\"node_type\":\"metabolite\",\"x\":1585.8931274414062,\"y\":3365.1145820617676,\"bigg_id\":\"[B]_Ala_m\",\"name\":\"C3H7NO2\",\"label_x\":1612.2485961914062,\"label_y\":3370.6297187805176,\"node_is_primary\":true},\"582\":{\"node_type\":\"metabolite\",\"x\":1495.1290893554688,\"y\":3367.6228828430176,\"bigg_id\":\"[B]_Asp_m\",\"name\":\"C4H6NO4\",\"label_x\":1360.6655883789062,\"label_y\":3373.2732734680176,\"node_is_primary\":true},\"584\":{\"node_type\":\"multimarker\",\"x\":1290.5658569335938,\"y\":2799.02339553833},\"585\":{\"node_type\":\"midmarker\",\"x\":1290.5658569335938,\"y\":2819.02339553833},\"586\":{\"node_type\":\"multimarker\",\"x\":1290.5658569335938,\"y\":2839.02339553833},\"587\":{\"node_type\":\"metabolite\",\"x\":1290.5658569335938,\"y\":2994.02339553833,\"bigg_id\":\"[B]_CO2_m\",\"name\":\"CO2\",\"label_x\":1306.0503540039062,\"label_y\":3052.37398147583,\"node_is_primary\":true},\"590\":{\"node_type\":\"metabolite\",\"x\":1401.4198608398438,\"y\":2818.55171585083,\"bigg_id\":\"[B]_Pyr_m\",\"name\":\"C3H3O3\",\"label_x\":1345.5322875976562,\"label_y\":2859.22456741333,\"node_is_primary\":true},\"591\":{\"node_type\":\"multimarker\",\"x\":1046.1943089173585,\"y\":1472.9092479875703},\"592\":{\"node_type\":\"midmarker\",\"x\":1049.3782348632812,\"y\":2996.947956085205},\"593\":{\"node_type\":\"multimarker\",\"x\":1069.3779567076415,\"y\":2997.0534366437773},\"595\":{\"node_type\":\"multimarker\",\"x\":3098.3270874023438,\"y\":1478.5565185546875},\"596\":{\"node_type\":\"midmarker\",\"x\":3093.0409545898438,\"y\":2785.986328125},\"597\":{\"node_type\":\"multimarker\",\"x\":3073.0409545898438,\"y\":2785.986328125},\"684\":{\"node_type\":\"multimarker\",\"x\":653.9961395263672,\"y\":3648.4940185546875},\"728\":{\"node_type\":\"multimarker\",\"x\":1493.7348022460938,\"y\":3854.6458320617676},\"729\":{\"node_type\":\"midmarker\",\"x\":1493.7348022460938,\"y\":3874.6458320617676},\"730\":{\"node_type\":\"multimarker\",\"x\":3337.0399780273438,\"y\":3869.5474433898926},\"732\":{\"node_type\":\"multimarker\",\"x\":3586.7577514648438,\"y\":3825.2095527648926},\"733\":{\"node_type\":\"midmarker\",\"x\":1590.0761108398438,\"y\":3826.1245918273926},\"734\":{\"node_type\":\"multimarker\",\"x\":1590.0761108398438,\"y\":3806.1245918273926},\"742\":{\"node_type\":\"multimarker\",\"x\":2848.652031881775,\"y\":1638.899410130277},\"743\":{\"node_type\":\"midmarker\",\"x\":2868.652031881775,\"y\":1638.899410130277},\"744\":{\"node_type\":\"multimarker\",\"x\":2888.652031881775,\"y\":1638.899410130277}},\"text_labels\":{},\"canvas\":{\"x\":-1559,\"y\":-1379,\"width\":6207.264892578125,\"height\":6713.53173828125}}]'),\n",
       "               model_data: JSON.parse('null'),\n",
       "               static_site_index: JSON.parse('null'),\n",
       "           };\n",
       "       }\n",
       "   })();\n",
       "  </script>\n"
      ],
      "text/plain": [
       "<IPython.core.display.HTML object>"
      ]
     },
     "metadata": {},
     "output_type": "display_data"
    },
    {
     "data": {
      "text/html": [
       "<h1>NAD-ME</h1>"
      ],
      "text/plain": [
       "<IPython.core.display.HTML object>"
      ]
     },
     "metadata": {},
     "output_type": "display_data"
    },
    {
     "data": {
      "text/html": [
       "\n",
       "\n",
       "\n",
       "  \n",
       "  \n",
       "\n",
       "  \n",
       "  \n",
       "    <link rel=\"stylesheet\" href=\"//unpkg.com/escher-vis@1.6.0/css/dist/builder.min.css\"/>\n",
       "  \n",
       "\n",
       "\n",
       "\n",
       "  <div style=\"height: 1000px; width: 100%;\" id=\"hbzcsjpjqi\"></div>\n",
       "\n",
       "  <script>\n",
       "   /* Closure to make sure data only applies to this map. */\n",
       "   (function() {\n",
       "       /* data from python */\n",
       "       var data = get_data();\n",
       "\n",
       "       function load_lib(url, callback) {\n",
       "           /** Dynamically load a JavaScript file */\n",
       "           var s = document.createElement('script');\n",
       "           s.src = url;\n",
       "           s.async = true;\n",
       "           s.onreadystatechange = s.onload = callback;\n",
       "           s.onerror = function() {\n",
       "               console.warn('Failed to load library ' + url);\n",
       "           };\n",
       "           document.getElementsByTagName('head')[0].appendChild(s);\n",
       "       }\n",
       "\n",
       "       function check_global_and_load(name, url, callback) {\n",
       "           /** Look for the name in the global scope. If it isn't present, then\n",
       "              load the library at url. Returns the object. */\n",
       "           if (window[name] !== undefined) {\n",
       "               callback(window[name]);\n",
       "           } else {\n",
       "               load_lib(url, function() {\n",
       "                   callback(window[name]);\n",
       "               });\n",
       "           }\n",
       "       }\n",
       "\n",
       "       function draw_escher(escher) {\n",
       "           /** Get data and draw */\n",
       "           var load = function(t_map_data, t_model_data, t_options) {\n",
       "               escher.Builder(t_map_data, t_model_data, data.builder_embed_css,\n",
       "                              escher.libs.d3_select('#' + data.id), t_options);\n",
       "           }\n",
       "\n",
       "           // for the static site, use the url attributes for the map and model\n",
       "           // information\n",
       "           if (data.static_site_index !== null) {\n",
       "               escher.static.load_map_model_from_url(data.map_download_url, data.model_download_url,\n",
       "                                                     data.static_site_index, data.options, load);\n",
       "           } else {\n",
       "               load(data.map_data, data.model_data, data.options);\n",
       "           }\n",
       "       }\n",
       "\n",
       "       // Load dependencies and draw\n",
       "       if (typeof define === 'function' && define.amd) {\n",
       "           // require.js is available: use it to load escher\n",
       "           require.config({\n",
       "             paths: {\n",
       "               escher: '//unpkg.com/escher-vis@1.6.0/js/dist/escher.min',\n",
       "             },\n",
       "             // Override urlArgs that adds ?v= to the end of the escher URL and\n",
       "             // messes up unpkg links. Honestly, I'm not sure if this will lead\n",
       "             // to downstream bugs in the notebook, but they really shouldn't be\n",
       "             // doing this cache-busting anyway.\n",
       "             urlArgs: null,\n",
       "           })\n",
       "           require([ 'escher' ], function(escher) {\n",
       "               draw_escher(escher);\n",
       "           })\n",
       "       } else {\n",
       "           // require.js not available: dynamically load escher\n",
       "           check_global_and_load('escher', '//unpkg.com/escher-vis@1.6.0/js/dist/escher.min.js', function(escher) {\n",
       "               draw_escher(escher);\n",
       "           })\n",
       "       }\n",
       "\n",
       "       // Put this at the end so Chrome doesn't cut off the code above.\n",
       "       function get_data() {\n",
       "           /** Return the data passed in by the Python module. */\n",
       "           return {\n",
       "               id: JSON.parse('\"hbzcsjpjqi\"'),\n",
       "               map_download_url: JSON.parse('\"//escher.github.io/1-0-0/5/maps/\"'),\n",
       "               model_download_url: JSON.parse('\"//escher.github.io/1-0-0/5/models/\"'),\n",
       "               options: JSON.parse('{\"reaction_data\": {\"[M]_PGAK_h\": 9.8865105672007161, \"[M]_SerAcT_c\": 0.0, \"[B]_NDA2_1_m\": 0.0, \"[M]_AMT_m\": 0.0, \"[B]_Ex_Arg_p\": 0.0, \"[M]_ArgSCAL_h\": 0.011158962913884437, \"[M]_Im_hnu\": 207.09862084133059, \"[M]_PGAK_c\": -1.4283636656165925e-15, \"[MB]_Met_c\": 0.0048820462748244402, \"[M]_SerAcT_m\": 0.0, \"[M]_Tr_Ser1\": 0.0, \"[B]_Ex_Arg_h\": 0.0, \"[M]_Tr_Ser2\": -0.0048820462748244402, \"[B]_Ex_Glu_h\": 0.0, \"[B]_DHLAcT_m\": 0.32221505413841317, \"[MB]_Thr_c\": 0.055794814569422188, \"[B]_Ex_Trp_p\": 0.0, \"[B]_G6PDH_h\": 0.0, \"[M]_DPE11_h\": 0.0, \"[M]_Ex_Arg_m\": 0.0, \"[B]_Ex_Mas\": 0.0, \"[B]_PSII_h\": 19.36547262051818, \"[M]_Tr_His2\": 0.0027897407284711087, \"[M]_Tr_His3\": 0.0, \"[M]_GMPK_c\": 0.0, \"[B]_FTK_h\": 13.405866592273917, \"[B]_ACPM_h\": 0.0, \"[M]_Tr_DTC1A\": 0.0, \"[B]_TPS_c\": 0.0, \"[B]_DHDS_h\": 0.012553833278119994, \"[M]_PGAM_h\": -5.5120021634237872, \"[B]_Urease_m\": -2.2082326956639266e-18, \"[M]_Tr_BT12\": 0.0, \"[M]_Tr_BT11\": -3.3741099276433043e-14, \"[M]_DPE13_h\": 0.0, \"[B]_Im_Pi\": 0.0, \"[M]_PGAM_c\": -5.5092124226952581, \"[MB]_KG_c\": -0.3131483967708818, \"[M]_Ex_O2\": 22.977735232603024, \"[MB]_Gln_c\": 0.30198943385699756, \"[M]_FGAMS_h\": 0.0, \"[M]_SerAcT_h\": 0.0048820462748244402, \"[M]_DHFR_c\": 0.0, \"[B]_Tr_Asp_OAA_hc\": -0.13599986051298266, \"[B]_Tr_NO2\": 0.0, \"[M]_6PGDHNADP_h\": 0.0, \"[M]_DAPDC_h\": 0.0, \"[M]_Ex_Met_p\": 0.0, \"[M]_IndGPS_h\": 0.0, \"[B]_AGPase_h\": 3.0687148013182206, \"[B]_Tr_Val1\": 0.0, \"[B]_Tr_Val2\": 0.016738444370826656, \"[B]_Tr_Val3\": 0.0, \"[MB]_GCA_c\": -3.7569897492218765e-30, \"[B]_Tr_PRPP\": 0.0, \"[M]_DHQDH_h\": 0.0, \"[M]_Ex_Arg_c\": 0.0, \"[M]_Ex_Tre\": 0.0, \"[B]_SADH_h\": 0.01813331473506221, \"[B]_HCO3DHA_c\": 0.0, \"[B]_Ex_Glc\": 0.0, \"[B]_ArgSCAL_h\": 0.0, \"[M]_cplx1_m\": 0.74637914129911598, \"[B]_RBO_h\": 0.0, \"[M]_DHOase_h\": 0.0, \"[B]_EPSPS_h\": 0.01813331473506221, \"[B]_NGAM_h\": 0.152707083279744, \"[M]_GAPDH1_h\": 9.8837208264722438, \"[M]_GABATA1_m\": 2.4953764953808363e-49, \"[B]_GluSeADA_m\": 0.0, \"[M]_PPiase_h\": 40.015343574007666, \"[M]_Tr_Phe1\": 0.0, \"[M]_cplx3_m\": 0.74637914129911598, \"[B]_Ex_Val_h\": 0.0, \"[B]_dTDPK_c\": 0.0, \"[M]_Tr_Ile3\": 0.0, \"[B]_BAATA2_h\": 0.0083692221854133279, \"[B]_Ex_Arg_m\": 0.0, \"[M]_ADPRPPT_c\": 0.0, \"[B]_AspAT_p\": 4.3688705271955197e-30, \"[M]_AOX4_h\": 0.0, \"[M]_Tr_Phe2\": 0.0, \"[M]_ProDHNAD_m\": 0.0, \"[M]_Tr_NDT1\": 0.0, \"[B]_Tr_H2Op\": 0.0, \"[B]_SerRM_c\": 0.0, \"[M]_PGP_h\": -3.2176876175649999e-14, \"[B]_Tr_KG\": -4.5294671123672764e-30, \"[B]_Tr_H2Oh\": 0.0, \"[M]_ALS3_h\": 0.0, \"[M]_BAATA2_h\": 0.0, \"[B]_Tr_H2Om\": -3.8574694624153949, \"[B]_Ex_cellulose\": 0.0, \"[B]_GDPR_c\": 0.0, \"[M]_MalDH2_m\": 0.0, \"[B]_ALS3_h\": 0.025107666556239989, \"[B]_Ex_Suc\": 1.5343574006591101, \"[B]_F26BPPh_c\": 0.0, \"[M]_MalDH4_h\": 0.0, \"[B]_PSI_h\": 129.63673035925785, \"[B]_GGAT_p\": -5.9261245899523975e-30, \"[M]_ForTHFL_h\": 0.00278974072847111, \"[B]_GGAT_h\": 0.0, \"[M]_Tr_Trp2\": 0.0, \"[B]_5M_DASH_THFOR_c\": 0.0, \"[M]_dGDPK_c\": 0.0, \"[M]_ALS1_h\": 0.0, \"[M]_MetS_c\": 0.0048820462748244411, \"[M]_Tr_Asp_mc\": 0.0, \"[B]_GARFT_h\": 0.0, \"[M]_Ex_Leu_h\": 0.0, \"[B]_Tr_H_Na_hc\": 0.0, \"[M]_CDPR_c\": 0.0, \"[M]_GluDC_c\": 0.0, \"[M]_Ex_Leu_c\": 0.0, \"[M]_IndGPL_h\": 0.0, \"[M]_NO2R_h\": 1.0559168657263225, \"[M]_NDA2_2_m\": 0.0, \"[M]_Ex_Arg_p\": 0.0, \"[M]_S6PS_c\": 0.0, \"[MB]_Glc_c\": 0.0, \"[M]_Ex_Leu_p\": 0.0, \"[B]_AIRC_h\": 0.0, \"[B]_Tr_PXN3\": -5.2768914696442391e-30, \"[M]_Tr_NH41\": -0.94711697731596023, \"[B]_Tr_Pyr1\": 0.0, \"[B]_Ex_Pro_m\": 0.0, \"[M]_6PGDHNAD_h\": 0.0, \"[M]_Ex_Ser_c\": 0.0, \"[B]_AlaTA_m\": -4.3017445259963078e-18, \"[M]_Tr_Pro2\": 0.0, \"[B]_iCitL_p\": 0.0, \"[B]_Ex_Met_c\": 0.0, \"[B]_Tr_KG_Mal_mc\": 0.0, \"[M]_Ex_Ser_h\": 0.0, \"[B]_CTPP_c\": 0.0, \"[M]_Tr_H2Om\": -3.2251984250506673, \"[M]_Ex_Tyr_c\": 0.0, \"[B]_Ex_Pro_c\": 0.0, \"[B]_PEPC1_c\": 0.0, \"[B]_Tr_Ala2\": 0.0, \"[B]_Tr_TPT3\": 0.0, \"[M]_PyrDH1_m\": 0.0, \"[M]_Tr_Asp\": 0.0, \"[B]_ADPR_c\": 0.0, \"[M]_Tr_DIT2\": 0.0, \"[M]_cplx5_m\": 2.4879304709970533, \"[M]_PSII_h\": 23.350924803252518, \"[M]_Tr_NH42\": -5.5410329277497573e-65, \"[M]_Tr_DIT1\": 0.011158962913884104, \"[B]_AlaTA_p\": 0.0, \"[B]_Ex_Phe_c\": 0.0, \"[M]_FBPA_c\": 0.0, \"[M]_Tr_His1\": 0.0, \"[B]_AspAT2_p\": -9.4832333808451488e-30, \"[M]_PGI_c\": 0.0, \"[B]_Ex_Met_h\": 0.0, \"[B]_KARI12_h\": 0.0083692221854133296, \"[M]_FBPA_h\": 0.0, \"[B]_PSerAT_h\": 0.065558907119087129, \"[M]_PGI_h\": -0.0018598271522842001, \"[M]_Tr_DTC1B\": 5.6192749733970897e-34, \"[B]_Tr_ORO\": 0.0, \"[M]_ArgSCAS_h\": 0.011158962913884435, \"[M]_Ex_Arg_h\": 0.0, \"[B]_Tr_DTC2A\": -3.9646113096271177e-18, \"[M]_3IPMDA1_h\": 0.0, \"[B]_AspAT2_c\": 30.446586177362722, \"[B]_Tr_DTC2B\": 0.32221505413841323, \"[B]_AspAT2_m\": -39.131693198264387, \"[MB]_Trp_c\": 0.0, \"[M]_Tr_SFC\": 0.0, \"[B]_AspAT2_h\": 0.0, \"[M]_Ex_starch\": 0.0, \"[M]_GSSGR_h\": 0.0048820462748244411, \"[M]_GluSeADH_m\": 0.0, \"[B]_Ex_Thr_p\": 0.0, \"[M]_PGM_c\": 0.0, \"[M]_GluSeADH_h\": 0.0, \"[M]_P5CDHNADP_h\": 0.0, \"[B]_Cytb6f1_h\": 64.818365179628927, \"[M]_PGM_h\": 0.0, \"[B]_ADNK_c\": 0.0, \"[B]_PyrK_c\": 0.89969138493201528, \"[M]_StS_h1\": 0.0, \"[M]_StS_h3\": 0.0, \"[M]_StS_h2\": 0.0, \"[M]_FrcFD_c\": 0.0, \"[B]_Ex_Thr_c\": 0.0, \"[M]_CTHL_h\": 0.0048820462748244411, \"[B]_Ex_Pro_p\": 0.0, \"[M]_Tr_BT13\": 2.376731129916532e-14, \"[M]_SO3R_h\": 0.0048820462748244411, \"[M]_Ex_Gln_m\": 0.0, \"[M]_Tr_iCit\": 0.0, \"[B]_PGR5PGRL11_h\": 0.0, \"[B]_ATPPRT_h\": 0.0, \"[B]_NDC1_1_h\": 0.0, \"[B]_DCAMPS_h\": 0.0, \"[B]_PyrK_h\": 0.0, \"[B]_ForTHFL_h\": 0.0, \"[M]_Ex_Thr_p\": 0.0, \"[MB]_Glu_c\": 0.0, \"[M]_Tr_Met2\": 0.0, \"[MB]_Fum_c\": 0.013948703642355544, \"[M]_Im_Pi\": 0.0, \"[M]_Tr_Met3\": 0.0, \"[M]_GluSNAD_h\": 0.0, \"[B]_ATase_h\": 0.0, \"[M]_Ex_Glu_p\": 0.0, \"[B]_AGluK\": 0.0, \"[B]_NGAM_m\": 0.0091111872455015702, \"[B]_IndGPS_h\": 0.0062769166390599963, \"[B]_Tr_Cit_iCit_mc\": 0.0, \"[B]_Tr_DTC4B\": 0.0, \"[M]_KGDH_m\": 0.0, \"[M]_HSerDHNADP_h\": 0.060676860844246623, \"[M]_Tr_Phe3\": 0.0, \"[B]_3IPMDH_h\": 0.0083692221854133296, \"[B]_NGAM_c\": 0.050349979617494899, \"[B]_DAPE_h\": 0.012553833278119991, \"[M]_Tr_DTC2B\": 0.0, \"[B]_ALS1_h\": 0.033476888741653318, \"[M]_PrAMPCy_h\": 0.00278974072847111, \"[M]_Tr_UCP\": -4.9576385675031034, \"[B]_ATPase_h\": 110.27125773873971, \"[B]_Tr_Trp1\": 0.0, \"[MB]_G6P_c\": -0.0018598271522842003, \"[B]_Tr_SO4\": 9.4076513917913605e-19, \"[M]_Ex_Asp_c\": 0.0, \"[B]_Tr_Hp\": 0.0, \"[M]_cACNHA_m\": 5.6192749733970897e-34, \"[M]_PGR5PGRL12_h\": 0.0, \"[M]_Ex_Met_m\": 0.0, \"[M]_cACNHA_h\": 0.0, \"[B]_bAMY1_h\": 0.0, \"[B]_3IPMDA2_h\": 0.0083692221854133296, \"[M]_cACNHA_c\": 0.0, \"[M]_NDC1_1_h\": 0.0, \"[M]_Ex_Asp_m\": 0.0, \"[M]_Ex_Asp_p\": 0.0, \"[B]_Enol_h\": 0.12135372168849327, \"[B]_Tr_O2m\": 0.48541488675396399, \"[B]_Tr_Trp3\": 0.0, \"[B]_Tr_Trp2\": 0.0062769166390599946, \"[B]_ProDHNADP_m\": 0.0, \"[B]_DHODH_m\": 0.0, \"[B]_Ex_Met_m\": 0.0, \"[B]_Enol_c\": -0.89969138493201539, \"[B]_Ex_Asp_p\": 0.0, \"[B]_Tr_Pro1\": 0.0, \"[M]_HEXK_c\": 0.0, \"[B]_Tr_Pyr3\": 4.7951757024668822e-30, \"[B]_CitS_c\": 0.0, \"[M]_Ex_Thr_m\": 0.0, \"[M]_Tr_ORO\": 0.0, \"[B]_CitS_m\": 0.32221505413841317, \"[B]_NDA2_2_m\": 0.0, \"[B]_BAATA3_h\": 0.016738444370826659, \"[B]_CitS_h\": 0.0, \"[B]_GluSeADH_c\": 0.0, \"[B]_FGAMS_h\": 0.0, \"[B]_S6PS_c\": 1.5343574006591103, \"[B]_FGAMCL_h\": 0.0, \"[B]_AGNDH_h\": 0.0041846110927066639, \"[B]_IndGPL_h\": 0.0062769166390599963, \"[M]_UDPR_c\": 0.0, \"[B]_GluSeADH_h\": 0.0, \"[B]_Ex_Asp_m\": 0.0, \"[M]_DPE12_h\": 0.0, \"[M]_Tr_Glu1\": -3.2176876175650005e-14, \"[B]_AlaTA_h\": 9.066866716641742e-18, \"[M]_OROPRT_c\": 0.0, \"[M]_AlaTA_p\": 0.0, \"[B]_Tr_ProU\": 0.0, \"[M]_Ex_Tyr_h\": 0.0, \"[M]_NDH1_h\": 20.291222415310465, \"[M]_Tr_H2Op\": 0.0, \"[B]_Ex_starch\": 1.5343574006591101, \"[B]_Tr_Pro2\": 0.0, \"[M]_AICARFT_h\": 0.00278974072847111, \"[M]_AlaTA_c\": 0.0, \"[B]_Tr_ProA\": 0.0, \"[M]_PSerP_h\": 0.0, \"[M]_Tr_Tyr1\": 0.0, \"[B]_Tr_Ile2\": 0.0083692221854133279, \"[B]_Tr_Ile1\": 0.0, \"[M]_AlaTA_h\": -1.1218310060029008e-14, \"[M]_AlaTA_m\": 0.0, \"[B]_HSerDHNAD_h\": 1.2418066800344838e-18, \"[B]_iCitDHNAD_m\": 0.0, \"[B]_CAT_p\": 0.0, \"[M]_SGAT_p\": 0.0, \"[B]_ATPSL_h\": 1.8947781971611721e-18, \"[B]_iCitDHNAD_c\": 0.31593813749936894, \"[M]_MetAdT_c\": 0.0, \"[B]_Tr_P5C2\": 0.0, \"[B]_FumHA_c\": 0.0, \"[MB]_CO2_c\": 0.0, \"[M]_Ex_His_h\": 0.0, \"[B]_HCysMT_c\": 0.0, \"[B]_SAK_h\": 0.018133314735062214, \"[M]_dUTPP_c\": 0.0, \"[M]_Ex_Ala_m\": 0.0, \"[B]_CAT_h\": 0.0, \"[B]_FumHA_m\": 0.013948703642355545, \"[M]_Cytb6f2_h\": 56.847460814160272, \"[M]_Tr_DHO2\": 0.0, \"[M]_Tr_DHO1\": 0.0, \"[M]_MalDH1_m\": 0.74637914129911609, \"[B]_dUDPK_c\": 0.0, \"[M]_Tr_BAC1\": 0.0, \"[M]_MalDH1_h\": 0.0, \"[MB]_Asn_c\": 0.0, \"[B]_R5PI_h\": 13.38145636089979, \"[MB]_PEP_c\": 0.0, \"[M]_MalDH1_c\": 1.7059264554600988, \"[M]_MalDH3_h\": 33.405927151521553, \"[M]_Ex_His_c\": 0.0, \"[B]_Tr_GCA1\": 0.0, \"[B]_ALS2_h\": 0.0083692221854133279, \"[M]_Tr_PLT5\": 0.0, \"[M]_MalDH1_p\": 0.0, \"[B]_Ex_Tyr_c\": 0.0, \"[M]_Tr_KG\": 3.2176876175650005e-14, \"[B]_IPODC_h\": 0.0083692221854133279, \"[B]_Tr_iCit\": 0.0, \"[B]_Ex_Cys_p\": 0.0, \"[M]_Ex_Cys_c\": 0.0, \"[M]_HisolPTA_h\": 0.0027897407284711096, \"[M]_Ex_Cys_h\": 0.0, \"[B]_Ex_Tyr_p\": 0.0, \"[B]_RibK_h\": 0.0, \"[B]_ProDHNAD_m\": 0.0, \"[B]_ANTS_h\": 0.0062769166390599972, \"[B]_GluDH3NADP_c\": -0.0062769166390439076, \"[M]_SerRM_c\": 0.0, \"[B]_Ex_Gly_c\": 0.0, \"[M]_RBO_h\": -3.2176876175649999e-14, \"[B]_GCEAK_h\": 0.0, \"[B]_GDPK_h\": 0.0, \"[M]_Ex_Glu_m\": 0.0, \"[B]_PPIase_c\": 1.6047983540530062, \"[B]_GDPK_c\": 0.0, \"[B]_AspCT_h\": 0.0, \"[M]_Tr_Cys\": 0.0, \"[B]_Tr_Tyr3\": 0.0, \"[B]_Ex_Asp_h\": 0.0, \"[M]_Si_H_m\": 0.0, \"[M]_AIRC_h\": 0.0, \"[M]_IMPCH_h\": 0.00278974072847111, \"[B]_Tr_Met2\": 0.0, \"[MB]_2PGA_c\": 0.0, \"[B]_Ex_O2\": 18.880057733764215, \"[B]_S6PPh_c\": 1.5343574006591101, \"[B]_GCAO_h\": 0.0, \"[B]_iCitDHNADP_m\": 0.0, \"[B]_PPiase_h\": 2.9982738479243247, \"[M]_NDA2_1_m\": 0.0, \"[B]_iCitDHNADP_h\": 0.0, \"[M]_Ex_Mas\": 0.0, \"[B]_ACoAC_h\": 0.0, \"[B]_GAPDH2_h\": -28.307731650190483, \"[B]_GSSGR_h\": 2.0145487266508851e-18, \"[B]_Ex_Gln_c\": 0.0, \"[B]_AspK_h\": 0.012553833278119998, \"[B]_Ex_Gln_m\": 0.0, \"[B]_GluSeADA_h\": 0.0, \"[B]_GCAO_p\": -6.9901494064200939e-30, \"[B]_GAPDH2_c\": -2.4010901556485478, \"[B]_Tr_Glu1\": 0.0, \"[B]_NO3R2_c\": 0.0, \"[B]_Ex_Lys_c\": 0.0, \"[B]_Tr_Glu2\": 0.0, \"[M]_Tr_GCEA2\": 0.0, \"[B]_PrATPDP_h\": 0.0, \"[M]_FTK_h\": 0.00092991357614048112, \"[M]_Tr_Val1\": 0.0, \"[B]_Tr_Asp\": 0.0, \"[M]_Tr_Val2\": 0.0, \"[MB]_His_c\": 0.0027897407284711087, \"[B]_SAICARS_h\": 0.0, \"[B]_DAPDC_h\": 0.012553833278119993, \"[M]_AspK_h\": 0.06067686084424663, \"[M]_Tr_HCys\": 0.0048820462748244402, \"[M]_KARI12_h\": 0.0, \"[M]_RBC_h\": -3.2176876175649999e-14, \"[B]_Ex_Asn_h\": 0.0, \"[B]_Ex_Thr_h\": 0.0, \"[M]_OrnCMT_h\": 0.011158962913884433, \"[M]_ATPCitL_c\": 0.0, \"[M]_SCACoAL_m\": 0.0, \"[M]_SAICARS_h\": 0.0, \"[M]_Tr_TPT2\": 3.7462912238358554, \"[B]_Cytb6f2_h\": 64.818365179628927, \"[M]_Tr_TPT1\": -4.3745084037770265, \"[M]_TA_h\": -0.00092991357614371876, \"[B]_Tr_Tyr1\": 0.0, \"[B]_Tr_Tyr2\": 0.0041846110927066639, \"[B]_Tr_DTC3A\": 0.0, \"[M]_RibK_h\": 0.0, \"[M]_GlnS_m\": 0.0, \"[M]_dUDPK_c\": 0.0, \"[M]_GlnS_h\": 0.11368193468518648, \"[B]_Tr_DTC5\": 0.0, \"[B]_Ru5PE_h\": 26.793599869812773, \"[M]_OrnAT_m\": 0.0, \"[M]_GlnS_c\": 0.30198943385699756, \"[M]_Tr_Asp_Glu_mc\": -5.6192749733970914e-34, \"[B]_Tr_Lys2\": 0.012553833278119993, \"[B]_Ru5PK_h\": 40.175056230712563, \"[B]_AOrnAGluAcT_h\": 0.0, \"[MB]_Rib_c\": 0.0, \"[M]_Tr_Thr2\": 0.055794814569422188, \"[B]_Ex_Glu_m\": 0.0, \"[B]_Ex_Glu_c\": 0.0, \"[MB]_Phe_c\": 0.0, \"[MB]_Asp_c\": 8.9578041771097308, \"[MB]_G1P_c\": 0.0, \"[B]_Tr_His2\": 0.0, \"[MB]_Suc_c\": 0.0, \"[B]_HisolPTA_h\": 0.0, \"[B]_AspAT_c\": 0.0, \"[MB]_Cit_c\": -5.6192749733970905e-34, \"[B]_MetS_c\": 0.0, \"[B]_AspAT_h\": -0.12344602723486266, \"[B]_Tr_GCEA2\": 0.0, \"[B]_Ex_Glu_p\": 0.0, \"[B]_AspAT_m\": 0.0, \"[B]_Tr_DTC1B\": 0.0, \"[B]_Tr_DTC1C\": 0.0, \"[B]_PPIF6PK_c\": 0.0, \"[B]_Im_H2S\": 0.0, \"[M]_GluSeADA_h\": 0.0, \"[M]_DAHPS_h\": 0.0, \"[M]_Tr_H2Oh\": 0.0, \"[M]_UDPK_c\": 0.0, \"[M]_Tr_DTC2C\": 0.0, \"[M]_Tr_DTC2A\": 0.0, \"[B]_Tr_SCA\": 0.0, \"[M]_Ex_Phe_h\": 0.0, \"[M]_GluSeADA_c\": 0.0, \"[B]_DHLST_m\": 0.0, \"[M]_CeS_c1\": 0.0, \"[M]_PPIF6PK_c\": 0.0, \"[M]_CeS_c3\": 0.0, \"[M]_CeS_c2\": 0.0, \"[M]_Si_H_h\": 26.762220976533566, \"[B]_Tr_Pyr_Na_hc\": 0.0, \"[B]_Ex_AA\": 0.69743518211777733, \"[M]_AsnS_c\": 0.0, \"[B]_ACDOxRed_c\": 0.0083692221854133261, \"[B]_Tr_P5C1\": 0.0, \"[B]_IMPDH_c\": 0.0, \"[B]_Im_H2O\": 4.6441675757111929, \"[M]_ATPSL_h\": 0.0048820462748244411, \"[M]_DAPE_h\": 0.0, \"[B]_DHQS_h\": 0.018133314735062214, \"[B]_Tr_Met3\": 0.0, \"[M]_ThrDA_h\": 0.0, \"[B]_ADPRPPT_c\": 0.0, \"[M]_Cysase_c\": 0.0, \"[B]_Ex_Ser_h\": 0.0, \"[M]_KARI34_h\": 0.0, \"[M]_PGR5PGRL11_h\": 0.0, \"[M]_ForDH_h\": 0.00278974072847111, \"[M]_Tr_Tyr3\": 0.0, \"[B]_AICARFT_h\": 0.0, \"[B]_Ex_Gln_p\": 0.0, \"[M]_CitS_c\": 0.0, \"[B]_Ex_Tyr_h\": 0.0, \"[M]_Im_H2S\": 0.0, \"[M]_NDH2_h\": 10.145611207655232, \"[M]_CitS_h\": 0.0, \"[MB]_SCA_c\": 0.0, \"[M]_Ex_Met_c\": 0.0, \"[MB]_Pyr_c\": -31.36929292330462, \"[M]_CitS_m\": 0.0, \"[M]_AGluPR_h\": 0.011158962913884431, \"[MB]_F6P_c\": 0.0, \"[B]_Fd_DASH_NADPR_h\": 38.730945241036359, \"[B]_AMPK_h\": 0.0, \"[B]_PGADH_h\": 0.065558907119087129, \"[M]_Tr_Ala2\": 0.0, \"[B]_Tr_Ala_mc\": -39.131693198264387, \"[M]_GCEADH_p\": 0.0, \"[B]_AMPK_c\": 0.0, \"[M]_5M_DASH_THFOR_c\": 0.0048820462748244411, \"[B]_Tr_DTC1A\": 3.9646113096271177e-18, \"[B]_Tr_NTT\": 0.0, \"[MB]_Tre_c\": 0.0, \"[B]_Im_CO2\": 0.0, \"[M]_Ex_Ile_m\": 0.0, \"[M]_Tr_Ala1\": 0.0, \"[M]_Tr_Mal\": 0.0, \"[M]_Tr_GCA2\": -3.2176876175649993e-14, \"[M]_Tr_GCA1\": -3.2176876175650005e-14, \"[M]_FGAMCL_h\": 0.0, \"[B]_AOX4_h\": 0.0, \"[B]_Tr_Ser1\": 0.0, \"[B]_HSerDHNADP_h\": 0.0, \"[B]_6PGDHNADP_h\": 0.0, \"[M]_Tr_Pyr_Na_hc\": 0.0, \"[M]_PyrPiDK_h\": 39.988841037087191, \"[B]_PGP_h\": 0.0, \"[B]_AOX1A_m\": 0.0, \"[M]_DHDRNADP_h\": 0.0, \"[M]_Tr_THF\": 0.0, \"[MB]_S6P_c\": 0.0, \"[B]_APSR_h\": 1.8947781971611721e-18, \"[M]_Tr_DIT1_OAA\": 33.480552716008155, \"[B]_Tr_Asn1\": 0.0, \"[B]_Tr_Asn3\": 0.0, \"[M]_Enol_h\": -5.5120021634237872, \"[B]_PRANTI_h\": 0.0062769166390599963, \"[B]_PSerP_h\": 0.065558907119087143, \"[B]_Tr_CO2h_Ex\": 0.0, \"[M]_Enol_c\": -5.5092124226952581, \"[B]_TPP_c\": 0.0, \"[B]_Tr_Ser2\": 0.059281990480027164, \"[M]_PGADH_h\": 0.0, \"[M]_Ex_MACP\": 0.0, \"[B]_Ex_Trp_c\": 0.0, \"[B]_OROPRT_c\": 0.0, \"[MB]_PGA_c\": -9.8837208264722829, \"[M]_Tr_KG_Mal_mc\": 0.0, \"[M]_Tr_Arg2\": 0.011158962913884435, \"[B]_Ex_Trp_h\": 0.0, \"[M]_Tr_Arg1\": 0.0, \"[M]_Ex_Lys_m\": 0.0, \"[B]_Tr_DIC2\": 0.013948703642355544, \"[B]_Tr_DIC1\": 0.30826635049605716, \"[B]_Ex_Trp_m\": 0.0, \"[M]_IPODC_h\": 0.0, \"[B]_Ex_Ser_c\": 0.0, \"[B]_Tr_Met1\": 0.0, \"[M]_SADH_h\": 0.0, \"[MB]_cACN_c\": 0.0, \"[M]_Tr_AAC\": 2.4788192837515517, \"[M]_Tr_CO2m\": 0.0, \"[M]_P5CDHNAD_h\": 0.0, \"[M]_Tr_CO2h\": 0.013948703642323363, \"[B]_Tr_SFC\": -0.013948703642355544, \"[M]_NGAM_h\": 0.152707083279744, \"[B]_IGPS_h\": 0.0, \"[B]_PGM_c\": 1.5343574006591105, \"[M]_PRANTI_h\": 0.0, \"[M]_Ex_Ile_c\": 0.0, \"[M]_Ex_Pro_m\": 0.0, \"[M]_StP21_c\": 0.0, \"[B]_PAICARPI_h\": 0.0, \"[B]_TA_h\": 0.0, \"[B]_Tr_AC1\": 0.0083692221854133296, \"[M]_Ex_Lys_h\": 0.0, \"[M]_Cytb6f1_h\": 56.847460814160272, \"[M]_Ex_Asn_h\": 0.0, \"[B]_PGI_c\": 4.6049320291296176, \"[MB]_Ile_c\": 0.0, \"[B]_PGI_h\": 0.0, \"[B]_dGDPK_c\": 0.0, \"[B]_Ex_Frc\": 0.0, \"[B]_Im_hnu\": 207.09862084133059, \"[B]_Tr_O2p\": -6.9901494064200953e-30, \"[M]_Ex_Gly_m\": 0.0, \"[M]_Si_H_p\": 0.0, \"[B]_NDC1_2_h\": 0.0, \"[M]_PSerAT_h\": 0.0, \"[B]_Tr_Leu1\": 0.0, \"[B]_Tr_Cys\": 0.0, \"[MB]_Lys_c\": 0.0, \"[M]_ACoAS_h\": 0.004882046274824442, \"[B]_PyrDH2_m\": 0.32221505413841317, \"[M]_Ex_Ile_h\": 0.0, \"[B]_Tr_O2h\": -19.36547262051818, \"[B]_Ex_Lys_p\": 0.0, \"[B]_DPE2_c\": 0.0, \"[B]_GAPDH1_h\": 38.670965815374231, \"[B]_dTMPS_c\": 0.0, \"[M]_SBPA_h\": 0.0, \"[M]_DHDRNAD_h\": 0.0, \"[M]_NDC1_2_h\": 0.0, \"[B]_DHFR_c\": 0.0, \"[M]_STK_h\": 0.00092991357614048145, \"[B]_GluK_h\": 0.0, \"[B]_CeS_c2\": 0.0, \"[B]_CeS_c3\": 0.0, \"[B]_CeS_c1\": 0.0, \"[B]_CBPS_h\": 0.0, \"[B]_Cysase_c\": 0.0, \"[B]_GAPDH3_c\": 0.0, \"[MB]_DHAP_c\": 6.1392894297887279, \"[B]_Ex_Lys_h\": 0.0, \"[M]_DAPAT_h\": 0.0, \"[B]_AOrnTA_h\": 0.0, \"[B]_Ex_Lys_m\": 0.0, \"[B]_Tr_Asp_mc\": -39.131693198264387, \"[M]_Tr_PPT\": -34.476838873663404, \"[B]_Ex_Val_c\": 0.0, \"[M]_dADPK_c\": 0.0, \"[M]_Ex_Ile_p\": 0.0, \"[B]_Ex_Val_m\": 0.0, \"[B]_TrpS_h\": 0.0062769166390599955, \"[B]_Tr_UCP\": -4.068926969102014, \"[B]_NDH2_h\": 26.087419938592575, \"[B]_Ex_Val_p\": 0.0, \"[B]_F6PK1_c\": 0.0, \"[M]_Ex_Met_h\": 0.0, \"[B]_DHQDH_h\": 0.01813331473506221, \"[B]_DHDRNAD_h\": 0.012553833278119993, \"[B]_HCO3DHA_h\": 0.0, \"[M]_ACDOxRed_c\": 0.0, \"[B]_F6PK1_h\": 0.0, \"[B]_Tr_THF\": 0.0, \"[B]_Tr_DTC2C\": 0.0, \"[B]_NMPK_c\": 0.0, \"[M]_Tr_BAC2\": 0.0, \"[B]_SerAcT_m\": 0.0, \"[B]_GABATA2_m\": 0.0, \"[B]_Tr_TPT2\": -0.0080919496956823114, \"[B]_Tr_TPT1\": 13.184502367052826, \"[B]_Ex_His_c\": 0.0, \"[M]_Glnase_c\": 0.0, \"[B]_GluDC_c\": 0.0, \"[M]_GPAT_h\": 0.0, \"[M]_OMPDC_c\": 0.0, \"[B]_Ex_MACP\": 0.0, \"[M]_S6PPh_c\": 0.0, \"[M]_Tr_Ser3\": 0.0, \"[M]_Tr_Trp1\": 0.0, \"[B]_P5CRNAD_c\": 0.0, \"[M]_Arginase_m\": 0.0, \"[B]_OrnAT_m\": -2.1289342652849278e-18, \"[M]_F26BPPh_c\": 0.0, \"[M]_Tr_GlySer\": 0.0, \"[M]_Tr_Trp3\": 0.0, \"[M]_Ex_cellulose\": 0.0, \"[B]_Tr_Pyr2\": 0.0, \"[MB]_Pro_c\": 0.0, \"[MB]_iCit_c\": 0.0, \"[B]_Ex_Phe_m\": 0.0, \"[M]_HSerK_h\": 0.06067686084424663, \"[M]_F6PK1_h\": 0.0, \"[M]_cACNDHA_c\": 5.6192749733970897e-34, \"[B]_ACoAS_h\": 0.0083692221854133296, \"[M]_cACNDHA_m\": 0.0, \"[M]_cACNDHA_h\": 0.0, \"[M]_F6PK1_c\": 0.0, \"[M]_Tr_DTC4A\": 0.0, \"[M]_Tr_ProA\": 0.0, \"[M]_SucS_c\": 0.0, \"[B]_HisolPDH_h\": 0.0, \"[M]_6PGL_h\": 0.0, \"[M]_ADPR_c\": 0.0, \"[B]_AMPDA_c\": 0.0, \"[B]_Tr_NH41\": -0.0020923055463533346, \"[B]_Tr_NH42\": -0.0041846110926905735, \"[B]_Tr_Pi\": 0.0, \"[B]_PrAMPCy_h\": 0.0, \"[M]_bAMY2_h\": 0.0, \"[M]_Tr_Thr1\": 0.0, \"[B]_Tr_Lys1\": 0.0, \"[M]_Tr_Thr3\": 0.0, \"[B]_GluSNAD_h\": 0.0, \"[B]_Tr_Ser3\": 0.0041846110926905752, \"[M]_UGPase_c\": 0.0, \"[B]_dADPK_c\": 0.0, \"[M]_Ex_Lys_c\": 0.0, \"[B]_Ex_Tre\": 0.0, \"[B]_Tr_His3\": 0.0, \"[B]_Tr_Mal\": -5.2768914696442391e-30, \"[B]_DHDRNADP_h\": 0.0, \"[B]_GluSeADH_m\": 1.2838423171781473e-18, \"[M]_PEPC2_c\": -39.98605129635866, \"[B]_OMPDC_c\": 0.0, \"[B]_Tr_PPT\": 0.0, \"[B]_Tr_Arg2\": 0.0, \"[B]_GMPK_c\": 0.0, \"[M]_GAPDH2_h\": -0.0027897407284711087, \"[M]_Tr_DTC3A\": 0.0, \"[B]_Tr_Arg1\": 0.0, \"[M]_Tr_DTC3C\": -5.6192749733970897e-34, \"[M]_Tr_DTC3B\": 0.0, \"[B]_StP1_h\": 0.0, \"[B]_SucS_c\": 0.0, \"[MB]_Cys_c\": 0.0, \"[B]_Ex_Ala_c\": 0.0, \"[B]_TPI_h\": 26.79359986981277, \"[M]_AGluK\": 0.011158962913884433, \"[M]_F6PK2_c\": 0.0, \"[B]_SerAcT_h\": 1.8947781971611721e-18, \"[M]_FumHA_m\": 2.2518361666855572e-49, \"[B]_GlnS_m\": 0.0, \"[M]_FumHA_c\": 0.0, \"[B]_TPI_c\": 0.0, \"[B]_Ex_Phe_h\": 0.0, \"[B]_SerAcT_c\": 0.0, \"[B]_Tr_GPT1\": 3.0687148013182206, \"[B]_UDPR_c\": 0.0, \"[M]_ADNK_c\": 0.0, \"[B]_GlnS_c\": 0.0, \"[B]_GlyDH_m\": 0.0041846110926905761, \"[B]_GlnS_h\": 0.0062769166390599963, \"[M]_dTMPK_c\": 0.0, \"[B]_6PGL_h\": 0.0, \"[M]_Fd_DASH_NADPR_h\": 43.427042708870999, \"[M]_DHQS_h\": 0.0, \"[B]_DPE11_h\": 0.0, \"[B]_dUTPP_c\": 0.0, \"[B]_Ex_His_p\": 0.0, \"[M]_Tr_Asn1\": 0.0, \"[M]_Asp_DASH_SeADH_h\": 0.060676860844246637, \"[M]_Tr_Asn3\": 0.0, \"[M]_CTPP_c\": 0.0, \"[B]_Tr_GlySer\": 0.0083692221853811522, \"[B]_PGAK_c\": 2.4010901556485478, \"[B]_GCEADH_p\": 0.0, \"[B]_Tr_DIC4\": 0.0, \"[M]_Tr_DTC5\": -0.74637914129911598, \"[MB]_Ser_c\": -0.0097640925496488805, \"[M]_AspAT_h\": 0.074625564486602167, \"[B]_dCDPK_c\": 0.0, \"[B]_PGAK_h\": 66.978697465564721, \"[M]_AspAT_m\": -5.619274973397094e-34, \"[M]_R5PI_h\": -0.0018598271522809629, \"[B]_IGPDA_h\": 0.0, \"[M]_AOX1A_m\": 0.0, \"[M]_AspAT_p\": 0.0, \"[B]_PGAM_c\": -0.89969138493201528, \"[M]_FBPase_c\": 0.0, \"[M]_EPSPS_h\": 0.0, \"[M]_FBPase_h\": 0.0, \"[B]_PGAM_h\": 0.12135372168849329, \"[M]_Tr_Ala_mc\": -2.4953764953808359e-49, \"[B]_Tr_PLT5\": 0.0, \"[B]_IMPCH_h\": 0.0, \"[B]_STK_h\": 13.387733277538851, \"[B]_Tr_PIC\": 3.5492031119193381, \"[M]_SBPase_h\": -3.2372271002451993e-15, \"[M]_FrcK_c\": 0.0, \"[M]_Ex_Asn_p\": 0.0, \"[B]_Tr_DIT2\": 0.0, \"[M]_ACoAC_h\": 0.0, \"[B]_Tr_DIT1\": 0.0, \"[M]_3IPMDA2_h\": 0.0, \"[B]_CHRS_h\": 0.018133314735062214, \"[M]_Im_H2O\": 31.722543843047237, \"[B]_Ex_Gly_p\": 0.0, \"[B]_dTMPK_c\": 0.0, \"[B]_AGNDA_h\": 0.0076717870032955507, \"[M]_Tr_Asn2\": 0.0, \"[B]_Ex_Leu_p\": 0.0, \"[B]_Tr_Pyr_H_hc\": -0.0076717870032955377, \"[B]_OrnCMT_h\": 0.0, \"[M]_Tr_AC1\": 0.0, \"[B]_PyrDH1_m\": 0.32221505413841317, \"[M]_Tr_AC2\": 0.0, \"[M]_Tr_Tyr2\": 0.0, \"[B]_R5PDPK_h\": 0.0062769166390599963, \"[B]_Ex_Gly_m\": 0.0, \"[M]_AMPK_h\": 40.015343574007652, \"[B]_SBPase_h\": 13.387733277538851, \"[M]_CHRS_h\": 0.0, \"[M]_Ex_Gly_c\": 0.0, \"[B]_FrcK_c\": 0.0, \"[M]_TPS_c\": 0.0, \"[MB]_Gly_c\": 0.0048820462747922646, \"[B]_FBPase_h\": 13.405866592273915, \"[B]_Ex_Gly_h\": 0.0, \"[M]_ThrA_c\": 0.0, \"[B]_FBPase_c\": 6.1392894297887262, \"[M]_Tr_DIC2\": 2.2518361666855572e-49, \"[M]_Tr_PIC\": 2.4788192837515513, \"[M]_Tr_Val3\": 0.0, \"[M]_Ex_Phe_p\": 0.0, \"[M]_AspAT_c\": 0.34313810960199703, \"[M]_StP1_h\": 0.0, \"[B]_Asp_DASH_SeADH_h\": 0.012553833278119994, \"[M]_DHLST_m\": 0.0, \"[B]_StP21_c\": 0.0, \"[B]_FrcFD_c\": 0.0, \"[M]_Ex_Tyr_p\": 0.0, \"[M]_Im_NO3\": 1.0559168657263225, \"[M]_iCitL_p\": 0.0, \"[M]_GlyDH_m\": 0.0, \"[B]_Tr_Ala1\": -9.4832333808451488e-30, \"[M]_GDPR_c\": 0.0, \"[B]_Ex_Cys_c\": 0.0, \"[B]_SCACoAL_m\": 0.0, \"[MB]_Arg_c\": 0.011158962913884437, \"[B]_bAMY2_h\": 0.0, \"[M]_Ex_Phe_m\": 0.0, \"[M]_Ex_Phe_c\": 0.0, \"[B]_Ex_Cys_h\": 0.0, \"[M]_TrpS_h\": 0.0, \"[M]_Tr_Lys2\": 0.0, \"[B]_2IPMS_h\": 0.0083692221854133296, \"[M]_Urease_m\": 0.0, \"[M]_DHDS_h\": 0.0, \"[B]_CTHS_h\": 1.1094936422883216e-18, \"[B]_ATPCitL_c\": 0.0, \"[B]_GMPS_c\": 0.0, \"[M]_GARFT_h\": 0.0, \"[M]_G6PDH_h\": 0.0, \"[B]_HisolPP_h\": 0.0, \"[M]_DHLDH1_m\": 0.0, \"[M]_ATase_h\": 0.0, \"[M]_DCAMPL1_h\": 0.0, \"[M]_HCO3DHA_h\": 0.011158962913884431, \"[M]_Ex_Ser_m\": 0.0, \"[B]_DCAMPL1_h\": 0.0, \"[M]_HCO3DHA_c\": 39.98605129635866, \"[B]_AMT_m\": 0.004184611092690577, \"[B]_AlaTA_c\": 0.0027897407284871874, \"[B]_Tr_DTC4C\": 0.0, \"[B]_GluSFd_h\": 0.0, \"[B]_Tr_DTC4A\": 0.0, \"[M]_Tr_SO4\": 0.0048820462748244411, \"[M]_AspCT_h\": 0.0, \"[M]_IGPS_h\": 0.0027897407284711096, \"[B]_Ex_Cys_m\": 0.0, \"[MB]_Tyr_c\": 0.0, \"[B]_Tr_Leu2\": 0.0083692221854133279, \"[M]_Ex_Suc\": 0.0, \"[B]_Ex_Ala_m\": 0.0, \"[B]_Ex_Ala_h\": 0.0, \"[M]_Ex_Ser_p\": 0.0, \"[M]_Ex_Leu_m\": 0.0, \"[M]_Tr_Leu3\": 0.0, \"[B]_DAPAT_h\": 0.012553833278119993, \"[M]_Tr_Leu1\": 0.0, \"[M]_Tr_Leu2\": 0.0, \"[B]_PGM_h\": 3.0687148013182206, \"[B]_Ex_Arg_c\": 0.0, \"[M]_ThrS_h\": 0.055794814569422188, \"[M]_iCitDHNAD_m\": 0.0, \"[B]_RBC_h_Ex\": 0.0, \"[B]_Ex_Ala_p\": 0.0, \"[M]_iCitDHNAD_c\": 0.0, \"[B]_MalDH4_h\": 0.0, \"[B]_GlyHMT_m\": 0.004184611092690577, \"[B]_DPE12_h\": 0.0, \"[B]_GlyHMT_c\": -2.0447830415997802e-34, \"[B]_CHRM_h\": 0.011856398096002214, \"[B]_TRXR_c\": 0.0, \"[M]_AOrnTA_h\": 0.011158962913884433, \"[B]_KGDH_m\": 0.0, \"[M]_Tr_Ile1\": 0.0, \"[M]_AGPase_h\": 0.0, \"[M]_HisolPP_h\": 0.0027897407284711096, \"[M]_CTHS_h\": 0.0048820462748244402, \"[M]_Tr_PRPP\": 0.0, \"[M]_Ex_Pro_h\": 0.0, \"[M]_IMPDH_c\": 0.0, \"[M]_DHLAcT_m\": 0.0, \"[M]_GluSeADA_m\": 0.0, \"[B]_GABATA1_m\": 0.0, \"[M]_dTDPK_c\": 0.0, \"[M]_bAMY1_h\": 0.0, \"[B]_Tr_Asn2\": 0.0, \"[B]_DCAMPL2_h\": 0.0, \"[M]_2IPMS_h\": 0.0, \"[M]_Si_H_c\": -34.393146651809261, \"[B]_CTHL_h\": 8.3294725323058162e-19, \"[M]_Tr_DTC1C\": 0.0, \"[M]_GluDH1NADP_m\": 0.0, \"[M]_Ex_His_p\": 0.0, \"[B]_Im_SO4\": 5.7457966116465821e-19, \"[M]_Tr_Mex1\": 0.0, \"[B]_GluK_c\": 0.0, \"[B]_GluK_m\": 5.0613929352566989e-18, \"[B]_Tr_Leu3\": 0.0, \"[B]_Arginase_m\": 0.0, \"[M]_HSerDHNAD_h\": 0.0, \"[M]_GluDH1NAD_m\": -5.5410329277497582e-65, \"[M]_Tr_ProU\": 0.0, \"[B]_3IPMDA1_h\": 0.0083692221854133296, \"[M]_Tr_GPT1\": 0.0018598271522842003, \"[M]_Im_SO4\": 0.0048820462748244411, \"[B]_DHADA1_h\": 0.0083692221854133279, \"[M]_GAPDH2_c\": 0.0, \"[M]_GluK_c\": 0.0, \"[B]_Ex_Leu_m\": 0.0, \"[B]_DHLDH1_m\": 0.0041846110926905761, \"[B]_StS_h2\": 1.5343574006591103, \"[B]_StS_h3\": 0.0, \"[M]_GluK_h\": 0.0, \"[B]_StS_h1\": 1.5343574006591103, \"[M]_DHADA1_h\": 0.0, \"[B]_Im_NO3\": 0.0, \"[M]_GluK_m\": 0.0, \"[B]_cACNDHA_h\": 0.0, \"[M]_GluSFd_h\": 0.099733231042830953, \"[M]_ADNN_c\": 0.0, \"[B]_cACNDHA_m\": 0.32221505413841317, \"[B]_Ex_Leu_h\": 0.0, \"[B]_cplx2_m\": -2.2518361666855576e-49, \"[B]_cACNDHA_c\": 0.0, \"[B]_GluDH1NADP_m\": -2.5306964676283495e-18, \"[M]_Tr_H_Na_hc\": 0.0, \"[M]_Tr_Cit_iCit_mc\": 0.0, \"[MB]_Frc_c\": 0.0, \"[M]_GluDH3NADP_c\": -0.64512754345896239, \"[M]_Asnase_c\": 0.0, \"[B]_Tr_Pyr_Mal_hc\": 0.01255383327812, \"[B]_cplx4_m\": 0.48541488675396399, \"[B]_Ex_Met_p\": 0.0, \"[B]_DHOase_h\": 0.0, \"[B]_Tr_Phe3\": 0.0, \"[M]_GGAT_h\": 0.0, \"[M]_PEPC1_c\": 0.0, \"[B]_Tr_Mex1\": 0.0, \"[M]_CTPS_c\": 0.0, \"[M]_Im_NH4\": 0.0, \"[B]_SBPA_h\": 13.38773327753885, \"[B]_Ex_Asp_c\": 0.0, \"[B]_ForDH_h\": 0.0, \"[B]_MalDH2_m\": 39.453908252402798, \"[M]_Ex_Ala_c\": 0.0, \"[B]_ANTPRT_h\": 0.0062769166390599946, \"[B]_Tr_CO2h\": 40.102522971772309, \"[B]_SGAT_p\": 0.0, \"[M]_Ex_Ala_h\": 0.0, \"[B]_Tr_Phe1\": 0.0, \"[B]_Tr_Phe2\": 0.0076717870032955507, \"[B]_iCitDHNADP_c\": 0.0062769166390439085, \"[B]_PRAGlyL_h\": 0.0, \"[MB]_Leu_c\": 0.0, \"[B]_CysS_m\": 0.0, \"[B]_Tr_CO2m\": -39.780307917633898, \"[B]_CysS_h\": 1.1146263730089843e-18, \"[M]_Tr_Hp\": 0.0, \"[M]_GCAO_p\": -3.2176876175649999e-14, \"[MB]_Ala_c\": -8.614666067507736, \"[B]_Tr_DIT1_OAA\": -28.233803520885989, \"[M]_NMPK_c\": 0.0, \"[M]_GGAT_p\": -3.2176876175649999e-14, \"[M]_PAICARPI_h\": 0.00278974072847111, \"[B]_NDH1_h\": 52.17483987718515, \"[M]_GCEAK_h\": 0.0, \"[B]_6PGDHNAD_h\": 0.0, \"[MB]_GAP_c\": 3.7462912238358554, \"[M]_TPI_h\": 6.1392894297887279, \"[M]_PrATPDP_h\": 0.0027897407284711096, \"[M]_DPE2_c\": 0.0, \"[M]_TPI_c\": 0.0, \"[B]_P5CDHNADP_h\": 0.0, \"[B]_UDPK_c\": 1.5343574006591105, \"[M]_Ex_Cys_p\": 0.0, \"[B]_P5CDHNADP_m\": 0.0, \"[M]_Ex_Tyr_m\": 0.0, \"[B]_Tr_GCA2\": -3.7569897492218765e-30, \"[B]_CysS_c\": 0.0, \"[B]_Tr_DHO2\": 0.0, \"[M]_GluSeADH_c\": 0.0, \"[B]_Tr_DHO1\": 0.0, \"[M]_Tr_Gln\": 0.0, \"[M]_DCAMPL2_h\": 0.00278974072847111, \"[M]_Tr_Asp_OAA_hc\": 0.0, \"[M]_dCDPK_c\": 0.0, \"[M]_Tr_Pyr1\": 0.0, \"[M]_Tr_Pyr3\": 0.0, \"[M]_Tr_Pyr2\": 0.0, \"total\": 2999.1825909204376, \"[M]_TRXR_c\": 0.0, \"[M]_SAK_h\": 0.0, \"[M]_Ru5PE_h\": 0.0018598271522809625, \"[B]_Ex_Ser_m\": 0.0, \"[M]_AMPDA_c\": 0.0, \"[B]_PyrPiDK_h\": -0.08508709221836884, \"[M]_TPP_c\": 0.0, \"[M]_Tr_NO2\": 1.0559168657263225, \"[M]_GlyHMT_m\": 0.0, \"[B]_Tr_Fum\": 0.0, \"[B]_Ex_Pro_h\": 0.0, \"[B]_GluSeADA_c\": 0.0, \"[M]_ATPase_h\": 90.343996825068018, \"[M]_PyrK_c\": 0.0, \"[M]_P5CDHNADP_m\": 0.0, \"[M]_Ex_Gln_p\": 0.0, \"[M]_IGPDA_h\": 0.00278974072847111, \"[B]_UGPase_c\": 1.5343574006591105, \"[B]_Ex_His_h\": 0.0, \"[M]_Ex_AA\": 0.0, \"[M]_Tr_O2p\": -3.2176876175649999e-14, \"[M]_R5PDPK_h\": 0.0027897407284214444, \"[M]_PyrK_h\": 0.0, \"[B]_BAATA1_h\": 0.0083692221854133279, \"[M]_ANTPRT_h\": 0.0, \"[M]_APSR_h\": 0.0048820462748244411, \"[M]_Tr_O2h\": -23.35092480325255, \"[M]_Ex_Gln_c\": 0.0, \"[M]_Ex_Ala_p\": 0.0, \"[M]_Tr_H2S1\": 0.0, \"[M]_Tr_O2m\": 0.37318957064955799, \"[M]_SCASeADH_m\": 0.0, \"[M]_Tr_H2S2\": 0.0, \"[B]_Tr_BAC1\": 0.0, \"[M]_Ex_Gln_h\": 0.0, \"[B]_Tr_BAC2\": 0.0, \"[M]_PRAGlyL_h\": 0.0, \"[B]_Ex_Tyr_m\": 0.0, \"[B]_FBPA_h\": 13.405866592273918, \"[B]_Tr_HCys\": 0.0, \"[M]_Tr_Met1\": 0.0, \"[B]_HSerK_h\": 1.241806680034484e-18, \"[M]_AspAT2_m\": 0.0, \"[M]_AspAT2_h\": 0.0, \"[M]_cplx2_m\": 2.2518361666855576e-49, \"[M]_HisolPDH_h\": 0.0027897407284711096, \"[M]_AspAT2_c\": 8.614666067507736, \"[B]_Ex_Gln_h\": 0.0, \"[M]_P5CRNAD_c\": 0.0, \"[M]_DHLDH2_m\": 0.0, \"[M]_dTMPS_c\": 0.0, \"[M]_NO3R1_c\": 1.7010444091852848, \"[M]_Tr_Glu2\": 0.0, \"[M]_ProDHNADP_m\": 0.0, \"[M]_Tr_Fum\": 0.013948703642355544, \"[M]_AspAT2_p\": 0.0, \"[B]_Ex_Phe_p\": 0.0, \"[B]_Ex_Asn_p\": 0.0, \"[M]_BAATA1_h\": 0.0, \"[B]_ThrA_c\": 0.0083692221854133279, \"[M]_Ex_Val_c\": 0.0, \"[M]_HisalPDH_h\": 0.0027897407284711091, \"[B]_ArgSCAS_h\": 0.0, \"[M]_GABATA2_m\": -2.4953764953808359e-49, \"[M]_Ex_Val_m\": 0.0, \"[B]_Tr_BT12\": 0.14088190678778797, \"[B]_Tr_BT13\": -0.070440953393894043, \"[M]_Ex_Val_h\": 0.0, \"[B]_Tr_BT11\": -0.070440953393895514, \"[B]_Ex_Asn_c\": 0.0, \"[M]_Tr_Gly\": 3.2176876175649999e-14, \"[B]_FBPA_c\": 6.139289429788727, \"[M]_Ex_Val_p\": 0.0, \"[M]_NO3R2_c\": -0.64512754345896239, \"[B]_Tr_AC2\": 0.0, \"[M]_Tr_pGlc\": 0.0, \"[M]_ALS2_h\": 0.0, \"[M]_Ex_Asp_h\": 0.0, \"[M]_BAATA3_h\": 0.0, \"[B]_Ex_Asn_m\": 0.0, \"[M]_Ex_Glc\": 0.0, \"[B]_DHLDH2_m\": 0.32221505413841306, \"[M]_Tr_Pro1\": 0.0, \"[B]_Tr_Ile3\": 0.0, \"[M]_Tr_GCEA1\": 0.0, \"[M]_HCysMT_c\": 0.0, \"[B]_cACNHA_c\": 0.0, \"[B]_cACNHA_m\": 0.32221505413841317, \"[B]_Glnase_c\": 0.0, \"[B]_cACNHA_h\": 0.0, \"[M]_Ex_Pro_c\": 0.0, \"[B]_Tr_H2S1\": 0.0, \"[B]_Tr_Thr1\": 0.0, \"[B]_Tr_Thr3\": 0.0, \"[B]_Tr_Thr2\": -0.0083692221854133296, \"[M]_Tr_OAA\": 0.0, \"[B]_Tr_H2S2\": 0.0, \"[B]_AsnS_c\": 0.070440953393895514, \"[MB]_GCEA_c\": 0.0, \"[M]_Ex_His_m\": 0.0, \"[M]_ACPM_h\": 0.0, \"[M]_Ex_Pro_p\": 0.0, \"[M]_PSI_h\": 113.69492162832054, \"[B]_KARI34_h\": 0.025107666556239989, \"[B]_Asnase_c\": 0.0, \"[M]_Ex_Thr_h\": 0.0, \"[M]_P5CDHNAD_m\": 0.0, \"[M]_AGNDH_h\": 0.0, \"[M]_Ex_Gly_h\": 0.0, \"[B]_Tr_Asp_Glu_mc\": 0.0, \"[B]_CDPR_c\": 0.0, \"[B]_DPE13_h\": 0.0, \"[M]_Tr_PXN3\": 0.0, \"[M]_Ex_Gly_p\": 0.0, \"[B]_Ex_Ile_c\": 0.0, \"[M]_GDPK_h\": 0.00278974072847111, \"[M]_Tr_NTT\": 0.0, \"[B]_Tr_DTC3B\": 0.0, \"[B]_Tr_DTC3C\": 0.0, \"[M]_CBPS_h\": 0.011158962913884433, \"[B]_AGluPR_h\": 0.0, \"[M]_GDPK_c\": 0.0, \"[M]_Ex_Lys_p\": 0.0, \"[B]_Im_NH4\": 0.0, \"[B]_Tr_GCEA1\": 0.0, \"[M]_Tr_DTC4B\": 0.0, \"[M]_Tr_DTC4C\": 0.0, \"[M]_Im_CO2\": 40.000000000000981, \"[B]_CTPS_c\": 0.0, \"[B]_MalDH1_c\": 2.0767827959637648, \"[MB]_Val_c\": 0.0, \"[B]_MalDH1_m\": -38.809478144125976, \"[M]_Tr_Lys1\": 0.0, \"[B]_MalDH1_h\": 28.246357354164104, \"[B]_GPAT_h\": 0.011856398096002214, \"[M]_AMPK_c\": -3.3741099276433037e-14, \"[M]_cplx4_m\": 0.37318957064955799, \"[M]_Ex_Frc\": 0.0, \"[B]_Ex_Leu_c\": 0.0, \"[B]_MalDH1_p\": -5.2768914696442384e-30, \"[B]_NO3R1_c\": 0.0, \"[B]_PEPC2_c\": 0.0, \"[M]_Tr_Pyr_Mal_hc\": 0.085784527400487143, \"[B]_Ex_Thr_m\": 0.0, \"[M]_PyrDH2_m\": 0.0, \"[B]_Tr_NDT1\": -4.1262342623215426e-19, \"[M]_Ru5PK_h\": 0.0, \"[B]_RBC_h\": 40.175056230712563, \"[B]_Tr_NDT2\": 0.0, \"[B]_ADNN_c\": 0.0, \"[M]_CysS_c\": 0.0, \"[M]_CysS_m\": 0.0, \"[M]_Tr_DIC4\": 0.0, \"[M]_DHADA2_h\": 0.0, \"[M]_ATPPRT_h\": 0.0027897407284711096, \"[M]_CysS_h\": 0.0048820462748244411, \"[M]_Tr_DIC1\": -2.251836166685558e-49, \"[B]_DHADA2_h\": 0.025107666556239985, \"[M]_Ex_Asn_c\": 0.0, \"[M]_NGAM_c\": 0.050349979617494899, \"[M]_Ex_Glu_c\": 0.0, \"[M]_Ex_Cys_m\": 0.0, \"[M]_Tr_SCA\": 0.0, \"[M]_GAPDH3_c\": 0.0, \"[B]_Tr_AAC\": 3.2269880577809253, \"[M]_Ex_Asn_m\": 0.0, \"[M]_NGAM_m\": 0.0091111872455015702, \"[M]_GMPS_c\": 0.0, \"[B]_Si_H_m\": 42.16535706409374, \"[M]_Tr_Ile2\": 0.0, \"[B]_GluDH1NAD_m\": 0.0, \"[B]_F6PK2_c\": 0.0, \"[M]_3IPMDH_h\": 0.0, \"[B]_Si_H_h\": 38.889906843907319, \"[B]_HisalPDH_h\": 0.0, \"[M]_Tr_Pi\": 0.0, \"[MB]_Mal_c\": 30.953621554762332, \"[B]_cplx5_m\": 3.236099245026427, \"[M]_ANTS_h\": 0.0, \"[B]_Si_H_c\": 0.0, \"[B]_Tr_Gln\": 0.0, \"[M]_PPIase_c\": 0.0, \"[M]_Tr_Pyr_H_hc\": 40.069743518212846, \"[B]_Tr_pGlc\": 0.0, \"[B]_MetAdT_c\": 0.0, \"[M]_GCAO_h\": 0.0, \"[B]_Tr_Gly\": 0.0, \"[B]_HEXK_c\": 0.0, \"[B]_Tr_His1\": 0.0, \"[B]_ThrS_h\": 0.0, \"[M]_Tr_NDT2\": 1.0563159711543149e-14, \"[B]_DAHPS_h\": 0.018133314735062214, \"[B]_cplx1_m\": 0.9708297735079281, \"[B]_Ex_His_m\": 0.0, \"[M]_DHODH_m\": 0.0, \"[M]_AOrnAGluAcT_h\": 0.011158962913884433, \"[M]_iCitDHNADP_h\": 0.0, \"[B]_MalDH3_h\": 0.0, \"[M]_iCitDHNADP_m\": 0.0, \"[M]_Ex_Trp_h\": 0.0, \"[B]_SO3R_h\": 1.8947781971611721e-18, \"[M]_iCitDHNADP_c\": 0.0, \"[M]_Tr_P5C2\": 0.0, \"[M]_GlyHMT_c\": -0.0048820462748244411, \"[B]_cplx3_m\": 0.97082977350792798, \"[M]_Tr_P5C1\": 0.0, \"[B]_ThrDA_h\": 0.0083692221854133296, \"[M]_Ex_Trp_p\": 0.0, \"[M]_DCAMPS_h\": 0.00278974072847111, \"[M]_Ex_Glu_h\": 0.0, \"[B]_PGR5PGRL12_h\": 0.0, \"[B]_Ex_Ile_h\": 0.0, \"[M]_CAT_h\": 0.0, \"[B]_Ex_Ile_m\": 0.0, \"[B]_Si_H_p\": 5.2768914696442384e-30, \"[B]_Tr_OAA\": 0.0, \"[B]_Ex_Ile_p\": 0.0, \"[M]_CHRM_h\": 0.0, \"[M]_Ex_Trp_c\": 0.0, \"[M]_CAT_p\": 0.0, \"[B]_NO2R_h\": 0.0, \"[B]_Ex_Ser_p\": 0.0, \"[M]_Tr_TPT3\": 6.139289429788727, \"[B]_P5CDHNAD_m\": 0.0, \"[M]_AGNDA_h\": 0.0, \"[M]_Ex_Trp_m\": 0.0, \"[B]_P5CDHNAD_h\": 0.0, \"[M]_Ex_Thr_c\": 0.0, \"[B]_SCASeADH_m\": 0.0}, \"enable_editing\": false, \"gene_data\": null, \"metabolite_data\": null, \"fill_screen\": false, \"enable_keys\": false, \"menu\": \"zoom\", \"scroll_behavior\": \"none\", \"ignore_bootstrap\": true, \"never_ask_before_quit\": true}'),\n",
       "               builder_embed_css: JSON.parse('null'),\n",
       "               map_data: JSON.parse('[{\"map_name\":\"new_map\",\"map_id\":\"cPBjQ56p0ATA\",\"map_description\":\"\\\\nLast Modified Mon Jul 30 2018 11:42:21 GMT+0200 (CEST)\",\"homepage\":\"https://escher.github.io\",\"schema\":\"https://escher.github.io/escher/jsonschema/1-0-0#\"},{\"reactions\":{\"3\":{\"name\":\"Import CO2\",\"bigg_id\":\"[M]_Im_CO2\",\"reversibility\":false,\"label_x\":1300.6845092773438,\"label_y\":-978.7737426757812,\"gene_reaction_rule\":\"\",\"genes\":[],\"metabolites\":[{\"bigg_id\":\"[M]_CO2_c\",\"coefficient\":1}],\"segments\":{\"9\":{\"from_node_id\":\"13\",\"to_node_id\":\"14\",\"b1\":null,\"b2\":null},\"10\":{\"from_node_id\":\"15\",\"to_node_id\":\"14\",\"b1\":null,\"b2\":null},\"11\":{\"from_node_id\":\"15\",\"to_node_id\":\"12\",\"b1\":{\"x\":1285.6845092773438,\"y\":-926.7737426757812},\"b2\":{\"x\":1289.6665649414062,\"y\":-378.75006103515625}}}},\"8\":{\"name\":\"HCO3 dehydratase\",\"bigg_id\":\"[M]_HCO3DHA_c\",\"reversibility\":false,\"label_x\":1304.6665649414062,\"label_y\":-135.00006103515625,\"gene_reaction_rule\":\"\",\"genes\":[],\"metabolites\":[{\"bigg_id\":\"[M]_CO2_c\",\"coefficient\":-1},{\"bigg_id\":\"[M]_H2O_c\",\"coefficient\":-1},{\"bigg_id\":\"[M]_HCO3_c\",\"coefficient\":1},{\"bigg_id\":\"[M]_H_c\",\"coefficient\":1}],\"segments\":{\"36\":{\"from_node_id\":\"40\",\"to_node_id\":\"41\",\"b1\":null,\"b2\":null},\"37\":{\"from_node_id\":\"42\",\"to_node_id\":\"41\",\"b1\":null,\"b2\":null},\"38\":{\"from_node_id\":\"40\",\"to_node_id\":\"12\",\"b1\":{\"x\":1289.6665649414062,\"y\":-207.00006103515625},\"b2\":{\"x\":1289.6665649414062,\"y\":-261.25006103515625}},\"40\":{\"from_node_id\":\"42\",\"to_node_id\":\"44\",\"b1\":{\"x\":1289.6665649414062,\"y\":-83.00006103515625},\"b2\":{\"x\":1289.6665649414062,\"y\":-28.75006103515625}}}},\"10\":{\"name\":\"PEP carboxylase\",\"bigg_id\":\"[M]_PEPC2_c\",\"reversibility\":true,\"label_x\":1422.7590942382812,\"label_y\":77.27912712097168,\"gene_reaction_rule\":\"\",\"genes\":[],\"metabolites\":[{\"bigg_id\":\"[M]_HCO3_c\",\"coefficient\":1},{\"bigg_id\":\"[M]_OAA_c\",\"coefficient\":-1},{\"bigg_id\":\"[M]_PEP_c\",\"coefficient\":1},{\"bigg_id\":\"[M]_Pi_c\",\"coefficient\":-1}],\"segments\":{\"48\":{\"from_node_id\":\"52\",\"to_node_id\":\"53\",\"b1\":null,\"b2\":null},\"49\":{\"from_node_id\":\"54\",\"to_node_id\":\"53\",\"b1\":null,\"b2\":null},\"50\":{\"from_node_id\":\"54\",\"to_node_id\":\"44\",\"b1\":{\"x\":1404.1141737571454,\"y\":10.721262307582037},\"b2\":{\"x\":1417.7417602539062,\"y\":29.9779634475708}},\"51\":{\"from_node_id\":\"52\",\"to_node_id\":\"55\",\"b1\":{\"x\":1285.7354632437239,\"y\":214.6221250124529},\"b2\":{\"x\":1284.9165649414062,\"y\":216.66662979125977}},\"52\":{\"from_node_id\":\"54\",\"to_node_id\":\"56\",\"b1\":{\"x\":1320.831744884119,\"y\":173.91463554749566},\"b2\":{\"x\":1338.1442260742188,\"y\":174.44183349609375}}}},\"11\":{\"name\":\"Mal dehydrogenase\",\"bigg_id\":\"[M]_MalDH1_c\",\"reversibility\":true,\"label_x\":1297.1358032226562,\"label_y\":550.7036323547363,\"gene_reaction_rule\":\"\",\"genes\":[],\"metabolites\":[{\"bigg_id\":\"[M]_H_c\",\"coefficient\":1},{\"bigg_id\":\"[M]_Mal_c\",\"coefficient\":-1},{\"bigg_id\":\"[M]_NADH_c\",\"coefficient\":1},{\"bigg_id\":\"[M]_NAD_c\",\"coefficient\":-1},{\"bigg_id\":\"[M]_OAA_c\",\"coefficient\":1}],\"segments\":{\"54\":{\"from_node_id\":\"58\",\"to_node_id\":\"59\",\"b1\":null,\"b2\":null},\"55\":{\"from_node_id\":\"60\",\"to_node_id\":\"59\",\"b1\":null,\"b2\":null},\"57\":{\"from_node_id\":\"58\",\"to_node_id\":\"62\",\"b1\":{\"x\":1287.6666870117188,\"y\":600.3332710266113},\"b2\":{\"x\":1288.2583618164062,\"y\":655.1749458312988}},\"60\":{\"from_node_id\":\"60\",\"to_node_id\":\"55\",\"b1\":{\"x\":1287.6666870117188,\"y\":476.3332710266113},\"b2\":{\"x\":1287.6666870117188,\"y\":422.0832710266113}}}},\"12\":{\"name\":\"Dicarboxylate transporter\",\"bigg_id\":\"[M]_Tr_DIT1_OAA\",\"reversibility\":true,\"label_x\":976.897114103185,\"label_y\":328.4692601131612,\"gene_reaction_rule\":\"\",\"genes\":[],\"metabolites\":[{\"bigg_id\":\"[M]_Mal_c\",\"coefficient\":1},{\"bigg_id\":\"[M]_Mal_h\",\"coefficient\":-1},{\"bigg_id\":\"[M]_OAA_c\",\"coefficient\":-1},{\"bigg_id\":\"[M]_OAA_h\",\"coefficient\":1}],\"segments\":{\"61\":{\"from_node_id\":\"65\",\"to_node_id\":\"66\",\"b1\":null,\"b2\":null},\"62\":{\"from_node_id\":\"67\",\"to_node_id\":\"66\",\"b1\":null,\"b2\":null},\"63\":{\"from_node_id\":\"67\",\"to_node_id\":\"62\",\"b1\":{\"x\":1104.434084619332,\"y\":597.4528029043886},\"b2\":{\"x\":1210.3419189453125,\"y\":713.5545539855957}},\"64\":{\"from_node_id\":\"65\",\"to_node_id\":\"69\",\"b1\":{\"x\":1104.913831981156,\"y\":469.4537019604029},\"b2\":{\"x\":1007.6513479511395,\"y\":367.39463617939714}},\"65\":{\"from_node_id\":\"65\",\"to_node_id\":\"55\",\"b1\":{\"x\":1104.8988398760982,\"y\":473.4536738649029},\"b2\":{\"x\":1228.9166870117188,\"y\":363.3332710266113}},\"66\":{\"from_node_id\":\"67\",\"to_node_id\":\"70\",\"b1\":{\"x\":1104.4190925142746,\"y\":601.4527748088888},\"b2\":{\"x\":1012.4505061616076,\"y\":721.8936963123499}}}},\"13\":{\"name\":\"Mal dehydrogenase\",\"bigg_id\":\"[M]_MalDH3_h\",\"reversibility\":true,\"label_x\":715.5418291225017,\"label_y\":581.5765275892197,\"gene_reaction_rule\":\"\",\"genes\":[],\"metabolites\":[{\"bigg_id\":\"[M]_H_h\",\"coefficient\":-1},{\"bigg_id\":\"[M]_Mal_h\",\"coefficient\":1},{\"bigg_id\":\"[M]_NADPH_h\",\"coefficient\":-1},{\"bigg_id\":\"[M]_NADP_h\",\"coefficient\":1},{\"bigg_id\":\"[M]_OAA_h\",\"coefficient\":-1}],\"segments\":{\"67\":{\"from_node_id\":\"71\",\"to_node_id\":\"72\",\"b1\":null,\"b2\":null},\"68\":{\"from_node_id\":\"73\",\"to_node_id\":\"72\",\"b1\":null,\"b2\":null},\"70\":{\"from_node_id\":\"73\",\"to_node_id\":\"69\",\"b1\":{\"x\":937.7782182826579,\"y\":475.74583911265717},\"b2\":{\"x\":936.4449052943767,\"y\":425.49583911265717}},\"73\":{\"from_node_id\":\"71\",\"to_node_id\":\"70\",\"b1\":{\"x\":937.7782182826579,\"y\":603.7458391126572},\"b2\":{\"x\":938.4449052943767,\"y\":670.3291521009385}}}},\"16\":{\"name\":\"Asp aminotransferase\",\"bigg_id\":\"[M]_AspAT2_c\",\"reversibility\":true,\"label_x\":3173.9678344726562,\"label_y\":554.1748847961426,\"gene_reaction_rule\":\"\",\"genes\":[],\"metabolites\":[{\"bigg_id\":\"[M]_Ala_c\",\"coefficient\":-1},{\"bigg_id\":\"[M]_Asp_c\",\"coefficient\":1},{\"bigg_id\":\"[M]_OAA_c\",\"coefficient\":-1},{\"bigg_id\":\"[M]_Pyr_c\",\"coefficient\":1}],\"segments\":{\"86\":{\"from_node_id\":\"90\",\"to_node_id\":\"91\",\"b1\":null,\"b2\":null},\"87\":{\"from_node_id\":\"92\",\"to_node_id\":\"91\",\"b1\":null,\"b2\":null},\"88\":{\"from_node_id\":\"90\",\"to_node_id\":\"93\",\"b1\":{\"x\":3158.9678344726562,\"y\":476.0020942687988},\"b2\":{\"x\":3335.6698608398438,\"y\":492.16301345825195}},\"89\":{\"from_node_id\":\"92\",\"to_node_id\":\"94\",\"b1\":{\"x\":3158.5728149414062,\"y\":604.8415718078613},\"b2\":{\"x\":3340.2542114257812,\"y\":610.641040802002}},\"90\":{\"from_node_id\":\"90\",\"to_node_id\":\"55\",\"b1\":{\"x\":3161.9219360351562,\"y\":367.7466926574707},\"b2\":{\"x\":1529.3112182617188,\"y\":361.81987380981445}},\"91\":{\"from_node_id\":\"92\",\"to_node_id\":\"95\",\"b1\":{\"x\":3158.5728149414062,\"y\":608.8415718078613},\"b2\":{\"x\":2989.7009887695312,\"y\":612.0880928039551}}}},\"17\":{\"name\":\"PEP/Pi translocator\",\"bigg_id\":\"[M]_Tr_PPT\",\"reversibility\":true,\"label_x\":1042.2079467773438,\"label_y\":94.60987854003909,\"gene_reaction_rule\":\"\",\"genes\":[],\"metabolites\":[{\"bigg_id\":\"[M]_H_c\",\"coefficient\":-1},{\"bigg_id\":\"[M]_H_h\",\"coefficient\":1},{\"bigg_id\":\"[M]_PEP_c\",\"coefficient\":-1},{\"bigg_id\":\"[M]_PEP_h\",\"coefficient\":1},{\"bigg_id\":\"[M]_Pi_c\",\"coefficient\":1},{\"bigg_id\":\"[M]_Pi_h\",\"coefficient\":-1}],\"segments\":{\"92\":{\"from_node_id\":\"96\",\"to_node_id\":\"97\",\"b1\":null,\"b2\":null},\"93\":{\"from_node_id\":\"98\",\"to_node_id\":\"97\",\"b1\":null,\"b2\":null},\"96\":{\"from_node_id\":\"96\",\"to_node_id\":\"56\",\"b1\":{\"x\":1175.9999389648438,\"y\":128.66659545898438},\"b2\":{\"x\":1230.2499389648438,\"y\":128.66659545898438}},\"97\":{\"from_node_id\":\"98\",\"to_node_id\":\"101\",\"b1\":{\"x\":1051.9999389648438,\"y\":128.6665954589844},\"b2\":{\"x\":997.7499389648438,\"y\":128.6665954589844}}}},\"18\":{\"name\":\"Pyr/H+ translocator\",\"bigg_id\":\"[M]_Tr_Pyr_H_hc\",\"reversibility\":true,\"label_x\":1003.2914428710938,\"label_y\":807.9956245422363,\"gene_reaction_rule\":\"\",\"genes\":[],\"metabolites\":[{\"bigg_id\":\"[M]_H_c\",\"coefficient\":-1},{\"bigg_id\":\"[M]_H_h\",\"coefficient\":1},{\"bigg_id\":\"[M]_Pyr_c\",\"coefficient\":-1},{\"bigg_id\":\"[M]_Pyr_h\",\"coefficient\":1}],\"segments\":{\"100\":{\"from_node_id\":\"104\",\"to_node_id\":\"105\",\"b1\":null,\"b2\":null},\"101\":{\"from_node_id\":\"106\",\"to_node_id\":\"105\",\"b1\":null,\"b2\":null},\"104\":{\"from_node_id\":\"104\",\"to_node_id\":\"95\",\"b1\":{\"x\":2911.2495727539062,\"y\":838.5020942687988},\"b2\":{\"x\":2909.8539428710938,\"y\":840.5639228820801}},\"105\":{\"from_node_id\":\"106\",\"to_node_id\":\"109\",\"b1\":{\"x\":1052.7053833007812,\"y\":842.0523262023926},\"b2\":{\"x\":998.4553833007812,\"y\":842.0523262023926}}}},\"19\":{\"name\":\"Pyr phosphate dikinase\",\"bigg_id\":\"[M]_PyrPiDK_h\",\"reversibility\":true,\"label_x\":529.501953125,\"label_y\":493.18254470825195,\"gene_reaction_rule\":\"\",\"genes\":[],\"metabolites\":[{\"bigg_id\":\"[M]_AMP_h\",\"coefficient\":1},{\"bigg_id\":\"[M]_ATP_h\",\"coefficient\":-1},{\"bigg_id\":\"[M]_H_h\",\"coefficient\":2},{\"bigg_id\":\"[M]_PEP_h\",\"coefficient\":1},{\"bigg_id\":\"[M]_PPi_h\",\"coefficient\":1},{\"bigg_id\":\"[M]_Pi_h\",\"coefficient\":-1},{\"bigg_id\":\"[M]_Pyr_h\",\"coefficient\":-1}],\"segments\":{\"106\":{\"from_node_id\":\"110\",\"to_node_id\":\"111\",\"b1\":null,\"b2\":null},\"107\":{\"from_node_id\":\"112\",\"to_node_id\":\"111\",\"b1\":null,\"b2\":null},\"111\":{\"from_node_id\":\"112\",\"to_node_id\":\"101\",\"b1\":{\"x\":773.6394687410274,\"y\":129.17727754133807},\"b2\":{\"x\":774.4884643554688,\"y\":129.04831314086914}},\"114\":{\"from_node_id\":\"110\",\"to_node_id\":\"109\",\"b1\":{\"x\":770.5639003995976,\"y\":845.4735327003611},\"b2\":{\"x\":746.6383666992188,\"y\":848.5609931945801}}}},\"30\":{\"name\":\"[MB]_Mal_c\",\"bigg_id\":\"[MB]_Mal_c\",\"reversibility\":true,\"label_x\":1302.3710327148438,\"label_y\":1375.2666816711426,\"gene_reaction_rule\":\"\",\"genes\":[],\"metabolites\":[{\"bigg_id\":\"[B]_Mal_c\",\"coefficient\":1},{\"bigg_id\":\"[M]_Mal_c\",\"coefficient\":-1}],\"segments\":{\"170\":{\"from_node_id\":\"174\",\"to_node_id\":\"175\",\"b1\":null,\"b2\":null},\"171\":{\"from_node_id\":\"176\",\"to_node_id\":\"175\",\"b1\":null,\"b2\":null},\"172\":{\"from_node_id\":\"176\",\"to_node_id\":\"177\",\"b1\":{\"x\":1291.9885864257812,\"y\":1525.0464668273926},\"b2\":{\"x\":1291.9885864257812,\"y\":1579.2964668273926}},\"173\":{\"from_node_id\":\"174\",\"to_node_id\":\"62\",\"b1\":{\"x\":1288.8482055664062,\"y\":1065.025592803955},\"b2\":{\"x\":1288.2583618164062,\"y\":772.6749458312988}}}},\"31\":{\"name\":\"[MB]_Pyr_c\",\"bigg_id\":\"[MB]_Pyr_c\",\"reversibility\":true,\"label_x\":2810.7168579101562,\"label_y\":1380.08443069458,\"gene_reaction_rule\":\"\",\"genes\":[],\"metabolites\":[{\"bigg_id\":\"[B]_Pyr_c\",\"coefficient\":1},{\"bigg_id\":\"[M]_Pyr_c\",\"coefficient\":-1}],\"segments\":{\"174\":{\"from_node_id\":\"178\",\"to_node_id\":\"179\",\"b1\":null,\"b2\":null},\"175\":{\"from_node_id\":\"180\",\"to_node_id\":\"179\",\"b1\":null,\"b2\":null},\"176\":{\"from_node_id\":\"180\",\"to_node_id\":\"181\",\"b1\":{\"x\":2988.9026489257812,\"y\":1528.0994453430176},\"b2\":{\"x\":2988.9026489257812,\"y\":1582.3494453430176}},\"177\":{\"from_node_id\":\"178\",\"to_node_id\":\"95\",\"b1\":{\"x\":2985.7622680664062,\"y\":1068.07857131958},\"b2\":{\"x\":2989.3306274414062,\"y\":777.8069038391113}}}},\"32\":{\"name\":\"[MB]_Asp_c\",\"bigg_id\":\"[MB]_Asp_c\",\"reversibility\":true,\"label_x\":3139.0067749023438,\"label_y\":1384.6061897277832,\"gene_reaction_rule\":\"\",\"genes\":[],\"metabolites\":[{\"bigg_id\":\"[B]_Asp_c\",\"coefficient\":1},{\"bigg_id\":\"[M]_Asp_c\",\"coefficient\":-1}],\"segments\":{\"178\":{\"from_node_id\":\"182\",\"to_node_id\":\"183\",\"b1\":null,\"b2\":null},\"179\":{\"from_node_id\":\"184\",\"to_node_id\":\"183\",\"b1\":null,\"b2\":null},\"180\":{\"from_node_id\":\"184\",\"to_node_id\":\"185\",\"b1\":{\"x\":3339.7593383789062,\"y\":1526.9877815246582},\"b2\":{\"x\":3339.7593383789062,\"y\":1581.2377815246582}},\"181\":{\"from_node_id\":\"182\",\"to_node_id\":\"94\",\"b1\":{\"x\":3336.6189575195312,\"y\":1066.9669075012207},\"b2\":{\"x\":3338.1416625976562,\"y\":774.6162605285645}}}},\"33\":{\"name\":\"[MB]_Ala_c\",\"bigg_id\":\"[MB]_Ala_c\",\"reversibility\":true,\"label_x\":3400.4382934570312,\"label_y\":1386.5605964660645,\"gene_reaction_rule\":\"\",\"genes\":[],\"metabolites\":[{\"bigg_id\":\"[B]_Ala_c\",\"coefficient\":1},{\"bigg_id\":\"[M]_Ala_c\",\"coefficient\":-1}],\"segments\":{\"182\":{\"from_node_id\":\"186\",\"to_node_id\":\"187\",\"b1\":null,\"b2\":null},\"183\":{\"from_node_id\":\"188\",\"to_node_id\":\"187\",\"b1\":null,\"b2\":null},\"184\":{\"from_node_id\":\"188\",\"to_node_id\":\"189\",\"b1\":{\"x\":3587.2233276367188,\"y\":1522.486011505127},\"b2\":{\"x\":3587.2233276367188,\"y\":1576.736011505127}},\"185\":{\"from_node_id\":\"186\",\"to_node_id\":\"93\",\"b1\":{\"x\":3584.6729125976562,\"y\":347.3707160949707},\"b2\":{\"x\":3616.6533813476562,\"y\":372.2078437805176}}}},\"44\":{\"name\":\"[MB]_PEP_c\",\"bigg_id\":\"[MB]_PEP_c\",\"reversibility\":true,\"label_x\":2576.147402133158,\"label_y\":1381.696127612824,\"gene_reaction_rule\":\"\",\"genes\":[],\"metabolites\":[{\"bigg_id\":\"[B]_PEP_c\",\"coefficient\":1},{\"bigg_id\":\"[M]_PEP_c\",\"coefficient\":-1}],\"segments\":{\"226\":{\"from_node_id\":\"230\",\"to_node_id\":\"231\",\"b1\":null,\"b2\":null},\"227\":{\"from_node_id\":\"232\",\"to_node_id\":\"231\",\"b1\":null,\"b2\":null},\"228\":{\"from_node_id\":\"232\",\"to_node_id\":\"233\",\"b1\":{\"x\":2762.6847789940966,\"y\":1525.9061659803913},\"b2\":{\"x\":2762.091568220075,\"y\":1580.1529225744735}},\"229\":{\"from_node_id\":\"230\",\"to_node_id\":\"56\",\"b1\":{\"x\":2781.0395907019065,\"y\":194.5973715938901},\"b2\":{\"x\":1580.3357543945312,\"y\":129.1154022216797}}}},\"76\":{\"name\":\"Mal dehydrogenase\",\"bigg_id\":\"[B]_MalDH1_c\",\"reversibility\":true,\"label_x\":1324.5901489257812,\"label_y\":1601.498249053955,\"gene_reaction_rule\":\"\",\"genes\":[],\"metabolites\":[{\"bigg_id\":\"[B]_H_c\",\"coefficient\":1},{\"bigg_id\":\"[B]_Mal_c\",\"coefficient\":-1},{\"bigg_id\":\"[B]_NADH_c\",\"coefficient\":1},{\"bigg_id\":\"[B]_NAD_c\",\"coefficient\":-1},{\"bigg_id\":\"[B]_OAA_c\",\"coefficient\":1}],\"segments\":{\"392\":{\"from_node_id\":\"396\",\"to_node_id\":\"397\",\"b1\":null,\"b2\":null},\"393\":{\"from_node_id\":\"398\",\"to_node_id\":\"397\",\"b1\":null,\"b2\":null},\"395\":{\"from_node_id\":\"396\",\"to_node_id\":\"177\",\"b1\":{\"x\":1404.9885864257812,\"y\":1638.0464668273926},\"b2\":{\"x\":1350.7385864257812,\"y\":1638.0464668273926}},\"398\":{\"from_node_id\":\"398\",\"to_node_id\":\"402\",\"b1\":{\"x\":1528.9885864257812,\"y\":1638.0464668273926},\"b2\":{\"x\":1525.0484008789062,\"y\":1637.7168769836426}}}},\"83\":{\"name\":\"PEP carboxylase\",\"bigg_id\":\"[B]_PEPC1_c\",\"reversibility\":false,\"label_x\":2349.4317016601562,\"label_y\":1672.566608428955,\"gene_reaction_rule\":\"\",\"genes\":[],\"metabolites\":[{\"bigg_id\":\"[B]_ADP_c\",\"coefficient\":1},{\"bigg_id\":\"[B]_ATP_c\",\"coefficient\":-1},{\"bigg_id\":\"[B]_CO2_c\",\"coefficient\":1},{\"bigg_id\":\"[B]_OAA_c\",\"coefficient\":-1},{\"bigg_id\":\"[B]_PEP_c\",\"coefficient\":1}],\"segments\":{\"437\":{\"from_node_id\":\"442\",\"to_node_id\":\"443\",\"b1\":null,\"b2\":null},\"438\":{\"from_node_id\":\"444\",\"to_node_id\":\"443\",\"b1\":null,\"b2\":null},\"441\":{\"from_node_id\":\"444\",\"to_node_id\":\"447\",\"b1\":{\"x\":2489.4094848632812,\"y\":1636.402057647705},\"b2\":{\"x\":2478.2905883789062,\"y\":1544.5144844055176}},\"442\":{\"from_node_id\":\"442\",\"to_node_id\":\"402\",\"b1\":{\"x\":2361.4094848632812,\"y\":1636.402057647705},\"b2\":{\"x\":1641.2337036132812,\"y\":1636.402057647705}},\"443\":{\"from_node_id\":\"444\",\"to_node_id\":\"233\",\"b1\":{\"x\":2485.4094848632812,\"y\":1636.402057647705},\"b2\":{\"x\":2700.2982788085938,\"y\":1640.0635566711426}}}},\"84\":{\"name\":\"Asp aminotransferase\",\"bigg_id\":\"[B]_AspAT2_c\",\"reversibility\":true,\"label_x\":3115.0769653320312,\"label_y\":1888.0323371887207,\"gene_reaction_rule\":\"\",\"genes\":[],\"metabolites\":[{\"bigg_id\":\"[B]_Ala_c\",\"coefficient\":-1},{\"bigg_id\":\"[B]_Asp_c\",\"coefficient\":1},{\"bigg_id\":\"[B]_OAA_c\",\"coefficient\":-1},{\"bigg_id\":\"[B]_Pyr_c\",\"coefficient\":1}],\"segments\":{\"444\":{\"from_node_id\":\"449\",\"to_node_id\":\"450\",\"b1\":null,\"b2\":null},\"445\":{\"from_node_id\":\"451\",\"to_node_id\":\"450\",\"b1\":null,\"b2\":null},\"446\":{\"from_node_id\":\"449\",\"to_node_id\":\"189\",\"b1\":{\"x\":3557.2874145507812,\"y\":1825.5853157043457},\"b2\":{\"x\":3511.8794555664062,\"y\":1862.2759895324707}},\"447\":{\"from_node_id\":\"451\",\"to_node_id\":\"185\",\"b1\":{\"x\":3180.1638793945312,\"y\":1751.8238410949707},\"b2\":{\"x\":3295.0317993164062,\"y\":1690.1729621887207}},\"448\":{\"from_node_id\":\"449\",\"to_node_id\":\"402\",\"b1\":{\"x\":2536.1941528320312,\"y\":1829.3939094543457},\"b2\":{\"x\":2119.7681274414062,\"y\":1859.5446662902832}},\"449\":{\"from_node_id\":\"451\",\"to_node_id\":\"181\",\"b1\":{\"x\":3180.1638793945312,\"y\":1747.8238410949707},\"b2\":{\"x\":3045.1724243164062,\"y\":1681.6682014465332}}}},\"87\":{\"name\":\"Mal dehydrogenase\",\"bigg_id\":\"[B]_MalDH4_h\",\"reversibility\":false,\"label_x\":2640.028564453125,\"label_y\":2712.239501953125,\"gene_reaction_rule\":\"\",\"genes\":[],\"metabolites\":[{\"bigg_id\":\"[B]_CO2_h\",\"coefficient\":1},{\"bigg_id\":\"[B]_Mal_h\",\"coefficient\":-1},{\"bigg_id\":\"[B]_NADPH_h\",\"coefficient\":1},{\"bigg_id\":\"[B]_NADP_h\",\"coefficient\":-1},{\"bigg_id\":\"[B]_Pyr_h\",\"coefficient\":1}],\"segments\":{\"464\":{\"from_node_id\":\"471\",\"to_node_id\":\"472\",\"b1\":null,\"b2\":null},\"465\":{\"from_node_id\":\"473\",\"to_node_id\":\"472\",\"b1\":null,\"b2\":null},\"466\":{\"from_node_id\":\"473\",\"to_node_id\":\"474\",\"b1\":{\"x\":2855.9520263671875,\"y\":2648.5093994140625},\"b2\":{\"x\":2877.4688110351562,\"y\":2680.49609375}},\"467\":{\"from_node_id\":\"471\",\"to_node_id\":\"468\",\"b1\":{\"x\":2727.9520263671875,\"y\":2648.5093994140625},\"b2\":{\"x\":2616.004638671875,\"y\":2644.2354736328125}},\"470\":{\"from_node_id\":\"473\",\"to_node_id\":\"470\",\"b1\":{\"x\":2851.9520263671875,\"y\":2648.5093994140625},\"b2\":{\"x\":2935.4591064453125,\"y\":2645.4207763671875}}}},\"95\":{\"name\":\"RuBisCO\",\"bigg_id\":\"[B]_RBC_h\",\"reversibility\":false,\"label_x\":2632.5873413085938,\"label_y\":2924.0968017578125,\"gene_reaction_rule\":\"\",\"genes\":[],\"metabolites\":[{\"bigg_id\":\"[B]_CO2_h\",\"coefficient\":-1},{\"bigg_id\":\"[B]_H2O_h\",\"coefficient\":-1},{\"bigg_id\":\"[B]_H_h\",\"coefficient\":2},{\"bigg_id\":\"[B]_PGA_h\",\"coefficient\":2},{\"bigg_id\":\"[B]_RuBP_h\",\"coefficient\":-1}],\"segments\":{\"510\":{\"from_node_id\":\"517\",\"to_node_id\":\"518\",\"b1\":null,\"b2\":null},\"511\":{\"from_node_id\":\"519\",\"to_node_id\":\"518\",\"b1\":null,\"b2\":null},\"512\":{\"from_node_id\":\"517\",\"to_node_id\":\"474\",\"b1\":{\"x\":2882.6141967773438,\"y\":2879.277587890625},\"b2\":{\"x\":2915.5392456054688,\"y\":2836.5462646484375}},\"515\":{\"from_node_id\":\"519\",\"to_node_id\":\"483\",\"b1\":{\"x\":2437.0637817382812,\"y\":2874.781982421875},\"b2\":{\"x\":2483.9244995117188,\"y\":2876.09521484375}},\"516\":{\"from_node_id\":\"517\",\"to_node_id\":\"491\",\"b1\":{\"x\":2886.6141967773438,\"y\":2879.277587890625},\"b2\":{\"x\":2996.6266479492188,\"y\":3064.286865234375}}}},\"99\":{\"name\":\"R_Tr_Pyr_Mal_hc\",\"bigg_id\":\"[B]_Tr_Pyr_Mal_hc\",\"reversibility\":true,\"label_x\":2697.1073608398438,\"label_y\":2303.01216506958,\"gene_reaction_rule\":\"\",\"genes\":[],\"metabolites\":[{\"bigg_id\":\"[B]_Mal_c\",\"coefficient\":-1},{\"bigg_id\":\"[B]_Mal_h\",\"coefficient\":1},{\"bigg_id\":\"[B]_Pyr_c\",\"coefficient\":1},{\"bigg_id\":\"[B]_Pyr_h\",\"coefficient\":-1}],\"segments\":{\"531\":{\"from_node_id\":\"538\",\"to_node_id\":\"539\",\"b1\":null,\"b2\":null},\"532\":{\"from_node_id\":\"540\",\"to_node_id\":\"539\",\"b1\":null,\"b2\":null},\"533\":{\"from_node_id\":\"538\",\"to_node_id\":\"177\",\"b1\":{\"x\":2986.3092651367188,\"y\":2233.8533515930176},\"b2\":{\"x\":1689.8287963867188,\"y\":1949.23530960083}},\"534\":{\"from_node_id\":\"540\",\"to_node_id\":\"468\",\"b1\":{\"x\":2986.3092651367188,\"y\":2357.8533515930176},\"b2\":{\"x\":2560.3551635742188,\"y\":2502.451374053955}},\"535\":{\"from_node_id\":\"540\",\"to_node_id\":\"181\",\"b1\":{\"x\":2986.3092651367188,\"y\":2361.8533515930176},\"b2\":{\"x\":2991.0866088867188,\"y\":1720.80952835083}},\"536\":{\"from_node_id\":\"538\",\"to_node_id\":\"470\",\"b1\":{\"x\":2986.3092651367188,\"y\":2229.8533515930176},\"b2\":{\"x\":2988.9304809570312,\"y\":2573.52095413208}}}},\"100\":{\"name\":\"Dicarboxylate transporter\",\"bigg_id\":\"[B]_Tr_DTC5\",\"reversibility\":true,\"label_x\":1095.7332153320312,\"label_y\":2308.3377265930176,\"gene_reaction_rule\":\"\",\"genes\":[],\"metabolites\":[{\"bigg_id\":\"[B]_Mal_c\",\"coefficient\":1},{\"bigg_id\":\"[B]_Mal_m\",\"coefficient\":-1},{\"bigg_id\":\"[B]_OAA_c\",\"coefficient\":-1},{\"bigg_id\":\"[B]_OAA_m\",\"coefficient\":1}],\"segments\":{\"537\":{\"from_node_id\":\"544\",\"to_node_id\":\"545\",\"b1\":null,\"b2\":null},\"538\":{\"from_node_id\":\"546\",\"to_node_id\":\"545\",\"b1\":null,\"b2\":null},\"539\":{\"from_node_id\":\"546\",\"to_node_id\":\"177\",\"b1\":{\"x\":1292.0067749023438,\"y\":2297.0144844055176},\"b2\":{\"x\":1291.9871215820312,\"y\":2298.46187210083}},\"540\":{\"from_node_id\":\"544\",\"to_node_id\":\"547\",\"b1\":{\"x\":1292.9518432617188,\"y\":2297.792194366455},\"b2\":{\"x\":1293.4180297851562,\"y\":2310.5777168273926}},\"541\":{\"from_node_id\":\"544\",\"to_node_id\":\"402\",\"b1\":{\"x\":1581.9943237304688,\"y\":2298.9485664367676},\"b2\":{\"x\":1583.2122192382812,\"y\":2298.0974922180176}},\"542\":{\"from_node_id\":\"546\",\"to_node_id\":\"549\",\"b1\":{\"x\":1583.8844604492188,\"y\":2297.75093460083},\"b2\":{\"x\":1581.3598022460938,\"y\":2311.47163772583}}}},\"101\":{\"name\":\"Mal dehydrogenase\",\"bigg_id\":\"[B]_MalDH1_m\",\"reversibility\":true,\"label_x\":1332.4038696289062,\"label_y\":2610.656940460205,\"gene_reaction_rule\":\"\",\"genes\":[],\"metabolites\":[{\"bigg_id\":\"[B]_H_m\",\"coefficient\":1},{\"bigg_id\":\"[B]_Mal_m\",\"coefficient\":-1},{\"bigg_id\":\"[B]_NADH_m\",\"coefficient\":1},{\"bigg_id\":\"[B]_NAD_m\",\"coefficient\":-1},{\"bigg_id\":\"[B]_OAA_m\",\"coefficient\":1}],\"segments\":{\"543\":{\"from_node_id\":\"550\",\"to_node_id\":\"551\",\"b1\":null,\"b2\":null},\"544\":{\"from_node_id\":\"552\",\"to_node_id\":\"551\",\"b1\":null,\"b2\":null},\"546\":{\"from_node_id\":\"550\",\"to_node_id\":\"547\",\"b1\":{\"x\":1401.6730346679688,\"y\":2644.969928741455},\"b2\":{\"x\":1349.3158569335938,\"y\":2644.02339553833}},\"549\":{\"from_node_id\":\"552\",\"to_node_id\":\"549\",\"b1\":{\"x\":1525.6730346679688,\"y\":2644.969928741455},\"b2\":{\"x\":1527.7882690429688,\"y\":2644.969928741455}}}},\"102\":{\"name\":\"Dicarboxylate transporter\",\"bigg_id\":\"[B]_Tr_DIT1_OAA\",\"reversibility\":true,\"label_x\":1940.4468994140625,\"label_y\":2255.3272705078125,\"gene_reaction_rule\":\"\",\"genes\":[],\"metabolites\":[{\"bigg_id\":\"[B]_Mal_c\",\"coefficient\":1},{\"bigg_id\":\"[B]_Mal_h\",\"coefficient\":-1},{\"bigg_id\":\"[B]_OAA_c\",\"coefficient\":-1},{\"bigg_id\":\"[B]_OAA_h\",\"coefficient\":1}],\"segments\":{\"550\":{\"from_node_id\":\"558\",\"to_node_id\":\"559\",\"b1\":null,\"b2\":null},\"551\":{\"from_node_id\":\"560\",\"to_node_id\":\"559\",\"b1\":null,\"b2\":null},\"552\":{\"from_node_id\":\"560\",\"to_node_id\":\"177\",\"b1\":{\"x\":1537.2420654296875,\"y\":2302.404296875},\"b2\":{\"x\":1639.6156005859375,\"y\":2250.03466796875}},\"553\":{\"from_node_id\":\"558\",\"to_node_id\":\"468\",\"b1\":{\"x\":2290.788818359375,\"y\":2295.3272705078125},\"b2\":{\"x\":2188.41552734375,\"y\":2257.1114501953125}},\"554\":{\"from_node_id\":\"558\",\"to_node_id\":\"402\",\"b1\":{\"x\":2291.0347900390625,\"y\":2295.3272705078125},\"b2\":{\"x\":1729.533447265625,\"y\":1809.4456787109375}},\"555\":{\"from_node_id\":\"560\",\"to_node_id\":\"563\",\"b1\":{\"x\":1786.1060791015625,\"y\":2299.573486328125},\"b2\":{\"x\":1822.494384765625,\"y\":2320.561767578125}}}},\"103\":{\"name\":\"Mal dehydrogenase\",\"bigg_id\":\"[B]_MalDH3_h\",\"reversibility\":true,\"label_x\":2076.0760498046875,\"label_y\":2613.8465576171875,\"gene_reaction_rule\":\"\",\"genes\":[],\"metabolites\":[{\"bigg_id\":\"[B]_H_h\",\"coefficient\":-1},{\"bigg_id\":\"[B]_Mal_h\",\"coefficient\":1},{\"bigg_id\":\"[B]_NADPH_h\",\"coefficient\":-1},{\"bigg_id\":\"[B]_NADP_h\",\"coefficient\":1},{\"bigg_id\":\"[B]_OAA_h\",\"coefficient\":-1}],\"segments\":{\"556\":{\"from_node_id\":\"564\",\"to_node_id\":\"565\",\"b1\":null,\"b2\":null},\"557\":{\"from_node_id\":\"566\",\"to_node_id\":\"565\",\"b1\":null,\"b2\":null},\"559\":{\"from_node_id\":\"566\",\"to_node_id\":\"468\",\"b1\":{\"x\":2217.7994384765625,\"y\":2645.3541259765625},\"b2\":{\"x\":2475.23779296875,\"y\":2644.7249755859375}},\"562\":{\"from_node_id\":\"564\",\"to_node_id\":\"563\",\"b1\":{\"x\":2093.7994384765625,\"y\":2645.3541259765625},\"b2\":{\"x\":1876.7786865234375,\"y\":2644.4102783203125}}}},\"104\":{\"name\":\"Mal dehydrogenase\",\"bigg_id\":\"[B]_MalDH1_h\",\"reversibility\":true,\"label_x\":2071.8299560546875,\"label_y\":2837.7935791015625,\"gene_reaction_rule\":\"\",\"genes\":[],\"metabolites\":[{\"bigg_id\":\"[B]_H_h\",\"coefficient\":1},{\"bigg_id\":\"[B]_Mal_h\",\"coefficient\":-1},{\"bigg_id\":\"[B]_NADH_h\",\"coefficient\":1},{\"bigg_id\":\"[B]_NAD_h\",\"coefficient\":-1},{\"bigg_id\":\"[B]_OAA_h\",\"coefficient\":1}],\"segments\":{\"563\":{\"from_node_id\":\"571\",\"to_node_id\":\"572\",\"b1\":null,\"b2\":null},\"564\":{\"from_node_id\":\"573\",\"to_node_id\":\"572\",\"b1\":null,\"b2\":null},\"566\":{\"from_node_id\":\"571\",\"to_node_id\":\"468\",\"b1\":{\"x\":2568.346435546875,\"y\":2787.9945068359375},\"b2\":{\"x\":2555.915283203125,\"y\":2798.6888427734375}},\"569\":{\"from_node_id\":\"573\",\"to_node_id\":\"563\",\"b1\":{\"x\":1809.618896484375,\"y\":2784.2200927734375},\"b2\":{\"x\":1818.7474365234375,\"y\":2791.6116943359375}}}},\"105\":{\"name\":\"Asp aminotransferase\",\"bigg_id\":\"[B]_AspAT2_m\",\"reversibility\":true,\"label_x\":1359.5839233398438,\"label_y\":2772.5432929992676,\"gene_reaction_rule\":\"\",\"genes\":[],\"metabolites\":[{\"bigg_id\":\"[B]_Ala_m\",\"coefficient\":-1},{\"bigg_id\":\"[B]_Asp_m\",\"coefficient\":1},{\"bigg_id\":\"[B]_OAA_m\",\"coefficient\":-1},{\"bigg_id\":\"[B]_Pyr_m\",\"coefficient\":1}],\"segments\":{\"570\":{\"from_node_id\":\"578\",\"to_node_id\":\"579\",\"b1\":null,\"b2\":null},\"571\":{\"from_node_id\":\"580\",\"to_node_id\":\"579\",\"b1\":null,\"b2\":null},\"572\":{\"from_node_id\":\"578\",\"to_node_id\":\"581\",\"b1\":{\"x\":1593.1441111460415,\"y\":2816.922512473858},\"b2\":{\"x\":1583.2286987304688,\"y\":3192.9431953430176}},\"573\":{\"from_node_id\":\"580\",\"to_node_id\":\"582\",\"b1\":{\"x\":1482.1012950041454,\"y\":2818.2003140988945},\"b2\":{\"x\":1497.6403198242188,\"y\":3193.3560371398926}},\"574\":{\"from_node_id\":\"578\",\"to_node_id\":\"549\",\"b1\":{\"x\":1594.166893472417,\"y\":2818.2178148683906},\"b2\":{\"x\":1583.0223999023438,\"y\":2811.8260078430176}},\"575\":{\"from_node_id\":\"580\",\"to_node_id\":\"590\",\"b1\":{\"x\":1478.1014943227085,\"y\":2818.240245399677},\"b2\":{\"x\":1467.0841674804688,\"y\":2817.8892402648926}}}},\"106\":{\"name\":\"Mal dehydrogenase\",\"bigg_id\":\"[B]_MalDH2_m\",\"reversibility\":false,\"label_x\":1057.2401733398438,\"label_y\":2823.68550491333,\"gene_reaction_rule\":\"\",\"genes\":[],\"metabolites\":[{\"bigg_id\":\"[B]_CO2_m\",\"coefficient\":1},{\"bigg_id\":\"[B]_Mal_m\",\"coefficient\":-1},{\"bigg_id\":\"[B]_NADH_m\",\"coefficient\":1},{\"bigg_id\":\"[B]_NAD_m\",\"coefficient\":-1},{\"bigg_id\":\"[B]_Pyr_m\",\"coefficient\":1}],\"segments\":{\"576\":{\"from_node_id\":\"584\",\"to_node_id\":\"585\",\"b1\":null,\"b2\":null},\"577\":{\"from_node_id\":\"586\",\"to_node_id\":\"585\",\"b1\":null,\"b2\":null},\"578\":{\"from_node_id\":\"586\",\"to_node_id\":\"587\",\"b1\":{\"x\":1290.5658569335938,\"y\":2881.02339553833},\"b2\":{\"x\":1290.5658569335938,\"y\":2935.27339553833}},\"579\":{\"from_node_id\":\"584\",\"to_node_id\":\"547\",\"b1\":{\"x\":1290.5658569335938,\"y\":2757.02339553833},\"b2\":{\"x\":1290.5658569335938,\"y\":2702.77339553833}},\"582\":{\"from_node_id\":\"586\",\"to_node_id\":\"590\",\"b1\":{\"x\":1290.5658569335938,\"y\":2820.98677444458},\"b2\":{\"x\":1322.7905883789062,\"y\":2817.447956085205}}}},\"107\":{\"name\":\"CO2 diffusion\",\"bigg_id\":\"[B]_Tr_CO2m\",\"reversibility\":true,\"label_x\":810.4965209960938,\"label_y\":2307.36275100708,\"gene_reaction_rule\":\"\",\"genes\":[],\"metabolites\":[{\"bigg_id\":\"[B]_CO2_c\",\"coefficient\":-1},{\"bigg_id\":\"[B]_CO2_m\",\"coefficient\":1}],\"segments\":{\"583\":{\"from_node_id\":\"591\",\"to_node_id\":\"592\",\"b1\":null,\"b2\":null},\"584\":{\"from_node_id\":\"593\",\"to_node_id\":\"592\",\"b1\":null,\"b2\":null},\"585\":{\"from_node_id\":\"591\",\"to_node_id\":\"447\",\"b1\":{\"x\":1047.8641435324835,\"y\":1472.6182197716075},\"b2\":{\"x\":1046.3784790039062,\"y\":1471.4295234680176}},\"586\":{\"from_node_id\":\"593\",\"to_node_id\":\"587\",\"b1\":{\"x\":1071.4398725807978,\"y\":2997.2749458167714},\"b2\":{\"x\":1197.4758911132812,\"y\":2996.35542678833}}}},\"108\":{\"name\":\"CO2 diffusion\",\"bigg_id\":\"[B]_Tr_CO2h\",\"reversibility\":true,\"label_x\":3133.3099975585938,\"label_y\":2307.3350830078125,\"gene_reaction_rule\":\"\",\"genes\":[],\"metabolites\":[{\"bigg_id\":\"[B]_CO2_c\",\"coefficient\":-1},{\"bigg_id\":\"[B]_CO2_h\",\"coefficient\":1}],\"segments\":{\"587\":{\"from_node_id\":\"595\",\"to_node_id\":\"596\",\"b1\":null,\"b2\":null},\"588\":{\"from_node_id\":\"597\",\"to_node_id\":\"596\",\"b1\":null,\"b2\":null},\"589\":{\"from_node_id\":\"595\",\"to_node_id\":\"447\",\"b1\":{\"x\":3097.9994506835938,\"y\":1478.2550354003906},\"b2\":{\"x\":3097.2362670898438,\"y\":1478.481689453125}},\"590\":{\"from_node_id\":\"597\",\"to_node_id\":\"474\",\"b1\":{\"x\":3031.0409545898438,\"y\":2785.986328125},\"b2\":{\"x\":3050.1347045898438,\"y\":2787.396728515625}}}},\"131\":{\"name\":\"Tr_Asp_mc\",\"bigg_id\":\"[B]_Tr_Asp_mc\",\"reversibility\":true,\"label_x\":1254.9667358398438,\"label_y\":3738.2415351867676,\"gene_reaction_rule\":\"\",\"genes\":[],\"metabolites\":[{\"bigg_id\":\"[B]_Asp_c\",\"coefficient\":1},{\"bigg_id\":\"[B]_Asp_m\",\"coefficient\":-1}],\"segments\":{\"716\":{\"from_node_id\":\"728\",\"to_node_id\":\"729\",\"b1\":null,\"b2\":null},\"717\":{\"from_node_id\":\"730\",\"to_node_id\":\"729\",\"b1\":null,\"b2\":null},\"718\":{\"from_node_id\":\"730\",\"to_node_id\":\"185\",\"b1\":{\"x\":3337.0399780273438,\"y\":3509.9805488586426},\"b2\":{\"x\":3337.0402221679688,\"y\":3822.18208694458}},\"719\":{\"from_node_id\":\"728\",\"to_node_id\":\"582\",\"b1\":{\"x\":1493.7348022460938,\"y\":3812.6458320617676},\"b2\":{\"x\":1495.1290893554688,\"y\":3426.3728828430176}}}},\"132\":{\"name\":\"R_Tr_Ala_mc\",\"bigg_id\":\"[B]_Tr_Ala_mc\",\"reversibility\":true,\"label_x\":1606.4703979492188,\"label_y\":3734.3384590148926,\"gene_reaction_rule\":\"\",\"genes\":[],\"metabolites\":[{\"bigg_id\":\"[B]_Ala_c\",\"coefficient\":-1},{\"bigg_id\":\"[B]_Ala_m\",\"coefficient\":1}],\"segments\":{\"720\":{\"from_node_id\":\"732\",\"to_node_id\":\"733\",\"b1\":null,\"b2\":null},\"721\":{\"from_node_id\":\"734\",\"to_node_id\":\"733\",\"b1\":null,\"b2\":null},\"722\":{\"from_node_id\":\"732\",\"to_node_id\":\"189\",\"b1\":{\"x\":3588.1522827148438,\"y\":3755.6631660461426},\"b2\":{\"x\":3585.3634643554688,\"y\":3750.305866241455}},\"723\":{\"from_node_id\":\"734\",\"to_node_id\":\"581\",\"b1\":{\"x\":1590.0761108398438,\"y\":3764.1245918273926},\"b2\":{\"x\":1585.8931274414062,\"y\":3423.8645820617676}}}},\"134\":{\"name\":\"Pyr kinase\",\"bigg_id\":\"[B]_PyrK_c\",\"reversibility\":false,\"label_x\":2795.5721978974,\"label_y\":1606.111812474027,\"gene_reaction_rule\":\"\",\"genes\":[],\"metabolites\":[{\"bigg_id\":\"[B]_ADP_c\",\"coefficient\":-1},{\"bigg_id\":\"[B]_ATP_c\",\"coefficient\":1},{\"bigg_id\":\"[B]_H_c\",\"coefficient\":-1},{\"bigg_id\":\"[B]_PEP_c\",\"coefficient\":-1},{\"bigg_id\":\"[B]_Pyr_c\",\"coefficient\":1}],\"segments\":{\"731\":{\"from_node_id\":\"742\",\"to_node_id\":\"743\",\"b1\":null,\"b2\":null},\"732\":{\"from_node_id\":\"744\",\"to_node_id\":\"743\",\"b1\":null,\"b2\":null},\"736\":{\"from_node_id\":\"742\",\"to_node_id\":\"233\",\"b1\":{\"x\":2806.652031881775,\"y\":1638.899410130277},\"b2\":{\"x\":2820.1991510224,\"y\":1638.899410130277}},\"737\":{\"from_node_id\":\"744\",\"to_node_id\":\"181\",\"b1\":{\"x\":2934.652031881775,\"y\":1638.899410130277},\"b2\":{\"x\":2916.8221978974,\"y\":1638.1470907943394}}}}},\"nodes\":{\"12\":{\"node_type\":\"metabolite\",\"x\":1289.6665649414062,\"y\":-320.00006103515625,\"bigg_id\":\"[M]_CO2_c\",\"name\":\"CO2\",\"label_x\":1324.351962073744,\"label_y\":-340.41893299433843,\"node_is_primary\":true},\"13\":{\"node_type\":\"multimarker\",\"x\":1285.6845092773438,\"y\":-1008.7737426757812},\"14\":{\"node_type\":\"midmarker\",\"x\":1285.6845092773438,\"y\":-988.7737426757812},\"15\":{\"node_type\":\"multimarker\",\"x\":1285.6845092773438,\"y\":-968.7737426757812},\"40\":{\"node_type\":\"multimarker\",\"x\":1289.6665649414062,\"y\":-165.00006103515625},\"41\":{\"node_type\":\"midmarker\",\"x\":1289.6665649414062,\"y\":-145.00006103515625},\"42\":{\"node_type\":\"multimarker\",\"x\":1289.6665649414062,\"y\":-125.00006103515625},\"44\":{\"node_type\":\"metabolite\",\"x\":1289.6665649414062,\"y\":29.99993896484375,\"bigg_id\":\"[M]_HCO3_c\",\"name\":\"CHO3\",\"label_x\":1310.6665649414062,\"label_y\":7.333271503448486,\"node_is_primary\":true},\"52\":{\"node_type\":\"multimarker\",\"x\":1409.2748762987262,\"y\":211.32401972572646},\"53\":{\"node_type\":\"midmarker\",\"x\":1408.6665649414062,\"y\":191.33327293395996},\"54\":{\"node_type\":\"multimarker\",\"x\":1408.0582535840863,\"y\":171.34252614219335},\"55\":{\"node_type\":\"metabolite\",\"x\":1287.6666870117188,\"y\":363.3332710266113,\"bigg_id\":\"[M]_OAA_c\",\"name\":\"C4H2O5\",\"label_x\":1323.0366577148438,\"label_y\":346.7503852844238,\"node_is_primary\":true},\"56\":{\"node_type\":\"metabolite\",\"x\":1288.9999389648438,\"y\":128.66659545898438,\"bigg_id\":\"[M]_PEP_c\",\"name\":\"C3H2O6P\",\"label_x\":1248.0422729492188,\"label_y\":98.7098388671875,\"node_is_primary\":true},\"58\":{\"node_type\":\"multimarker\",\"x\":1287.6666870117188,\"y\":558.3332710266113},\"59\":{\"node_type\":\"midmarker\",\"x\":1287.6666870117188,\"y\":538.3332710266113},\"60\":{\"node_type\":\"multimarker\",\"x\":1287.6666870117188,\"y\":518.3332710266113},\"62\":{\"node_type\":\"metabolite\",\"x\":1288.2583618164062,\"y\":713.9249458312988,\"bigg_id\":\"[M]_Mal_c\",\"name\":\"C4H4O5\",\"label_x\":1313.2583618164062,\"label_y\":713.9249458312988,\"node_is_primary\":true},\"65\":{\"node_type\":\"multimarker\",\"x\":1104.7414227730005,\"y\":515.4533788621472},\"66\":{\"node_type\":\"midmarker\",\"x\":1104.6664622477163,\"y\":535.4532383846456},\"67\":{\"node_type\":\"multimarker\",\"x\":1104.5915017224293,\"y\":555.453097907144},\"69\":{\"node_type\":\"metabolite\",\"x\":936.4449052943767,\"y\":366.74583911265717,\"bigg_id\":\"[M]_Mal_h\",\"name\":\"C4H4O5\",\"label_x\":810.069819845158,\"label_y\":370.74583911265717,\"node_is_primary\":true},\"70\":{\"node_type\":\"metabolite\",\"x\":939.6578197788833,\"y\":720.7443946164624,\"bigg_id\":\"[M]_OAA_h\",\"name\":\"C4H2O5\",\"label_x\":797.7244457554459,\"label_y\":736.7443946164624,\"node_is_primary\":true},\"71\":{\"node_type\":\"multimarker\",\"x\":937.7782182826579,\"y\":557.7458391126572},\"72\":{\"node_type\":\"midmarker\",\"x\":937.7782182826579,\"y\":537.7458391126572},\"73\":{\"node_type\":\"multimarker\",\"x\":937.7782182826579,\"y\":517.7458391126572},\"90\":{\"node_type\":\"multimarker\",\"x\":3158.9678344726562,\"y\":522.0020942687988},\"91\":{\"node_type\":\"midmarker\",\"x\":3158.9678344726562,\"y\":544.1748847961426},\"92\":{\"node_type\":\"multimarker\",\"x\":3158.5728149414062,\"y\":562.8415718078613},\"93\":{\"node_type\":\"metabolite\",\"x\":3337.4120483398438,\"y\":370.68107986450195,\"bigg_id\":\"[M]_Ala_c\",\"name\":\"C3H7NO2\",\"label_x\":3310.0651245117188,\"label_y\":339.7982063293457,\"node_is_primary\":true},\"94\":{\"node_type\":\"metabolite\",\"x\":3338.1416625976562,\"y\":715.8662605285645,\"bigg_id\":\"[M]_Asp_c\",\"name\":\"C4H6NO4\",\"label_x\":3353.2651977539062,\"label_y\":691.3724250793457,\"node_is_primary\":true},\"95\":{\"node_type\":\"metabolite\",\"x\":2989.3306274414062,\"y\":719.0569038391113,\"bigg_id\":\"[M]_Pyr_c\",\"name\":\"C3H3O3\",\"label_x\":3000.7750854492188,\"label_y\":693.3531684875488,\"node_is_primary\":true},\"96\":{\"node_type\":\"multimarker\",\"x\":1133.9999389648438,\"y\":128.6665954589844},\"97\":{\"node_type\":\"midmarker\",\"x\":1113.9999389648438,\"y\":128.6665954589844},\"98\":{\"node_type\":\"multimarker\",\"x\":1093.9999389648438,\"y\":128.6665954589844},\"101\":{\"node_type\":\"metabolite\",\"x\":938.9999389648438,\"y\":128.66659545898443,\"bigg_id\":\"[M]_PEP_h\",\"name\":\"C3H2O6P\",\"label_x\":901.1999389648438,\"label_y\":168.66659545898443,\"node_is_primary\":true},\"104\":{\"node_type\":\"multimarker\",\"x\":2816.6066284179688,\"y\":842.0523262023926},\"105\":{\"node_type\":\"midmarker\",\"x\":1114.7053833007812,\"y\":842.0523262023926},\"106\":{\"node_type\":\"multimarker\",\"x\":1094.7053833007812,\"y\":842.0523262023926},\"109\":{\"node_type\":\"metabolite\",\"x\":939.7053833007812,\"y\":842.0523262023926,\"bigg_id\":\"[M]_Pyr_h\",\"name\":\"C3H3O3\",\"label_x\":890.6630126953125,\"label_y\":886.7859687805176,\"node_is_primary\":true},\"110\":{\"node_type\":\"multimarker\",\"x\":772.3787003872201,\"y\":500.5207926303535},\"111\":{\"node_type\":\"midmarker\",\"x\":772.3975830078125,\"y\":480.52080154418945},\"112\":{\"node_type\":\"multimarker\",\"x\":772.4164656284049,\"y\":460.5208104580254},\"174\":{\"node_type\":\"multimarker\",\"x\":1288.8482055664062,\"y\":1107.025592803955},\"175\":{\"node_type\":\"midmarker\",\"x\":1291.9885864257812,\"y\":1463.0464668273926},\"176\":{\"node_type\":\"multimarker\",\"x\":1291.9885864257812,\"y\":1483.0464668273926},\"177\":{\"node_type\":\"metabolite\",\"x\":1291.9885864257812,\"y\":1638.0464668273926,\"bigg_id\":\"[B]_Mal_c\",\"name\":\"C4H4O5\",\"label_x\":1169.7308959960938,\"label_y\":1640.6761054992676,\"node_is_primary\":true},\"178\":{\"node_type\":\"multimarker\",\"x\":2985.7622680664062,\"y\":1110.07857131958},\"179\":{\"node_type\":\"midmarker\",\"x\":2988.9026489257812,\"y\":1466.0994453430176},\"180\":{\"node_type\":\"multimarker\",\"x\":2988.9026489257812,\"y\":1486.0994453430176},\"181\":{\"node_type\":\"metabolite\",\"x\":2988.9026489257812,\"y\":1641.0994453430176,\"bigg_id\":\"[B]_Pyr_c\",\"name\":\"C3H3O3\",\"label_x\":2878.8265991210938,\"label_y\":1682.495807647705,\"node_is_primary\":true},\"182\":{\"node_type\":\"multimarker\",\"x\":3336.6189575195312,\"y\":1108.9669075012207},\"183\":{\"node_type\":\"midmarker\",\"x\":3339.7593383789062,\"y\":1464.9877815246582},\"184\":{\"node_type\":\"multimarker\",\"x\":3339.7593383789062,\"y\":1484.9877815246582},\"185\":{\"node_type\":\"metabolite\",\"x\":3339.7593383789062,\"y\":1639.9877815246582,\"bigg_id\":\"[B]_Asp_c\",\"name\":\"C4H6NO4\",\"label_x\":3345.0130004882812,\"label_y\":1683.7119026184082,\"node_is_primary\":true},\"186\":{\"node_type\":\"multimarker\",\"x\":3584.0829467773438,\"y\":1104.4651374816895},\"187\":{\"node_type\":\"midmarker\",\"x\":3587.2233276367188,\"y\":1460.486011505127},\"188\":{\"node_type\":\"multimarker\",\"x\":3587.2233276367188,\"y\":1480.486011505127},\"189\":{\"node_type\":\"metabolite\",\"x\":3587.2233276367188,\"y\":1635.486011505127,\"bigg_id\":\"[B]_Ala_c\",\"name\":\"C3H7NO2\",\"label_x\":3612.2233276367188,\"label_y\":1675.595630645752,\"node_is_primary\":true},\"230\":{\"node_type\":\"multimarker\",\"x\":2760.4410485212625,\"y\":1107.8901944322583},\"231\":{\"node_type\":\"midmarker\",\"x\":2763.362734164408,\"y\":1463.9098727300116},\"232\":{\"node_type\":\"multimarker\",\"x\":2763.1440389481786,\"y\":1483.9086770043273},\"233\":{\"node_type\":\"metabolite\",\"x\":2761.4491510224,\"y\":1638.899410130277,\"bigg_id\":\"[B]_PEP_c\",\"name\":\"C3H2O6P\",\"label_x\":2724.9795221161503,\"label_y\":1683.7076376693394,\"node_is_primary\":true},\"396\":{\"node_type\":\"multimarker\",\"x\":1446.9885864257812,\"y\":1638.0464668273926},\"397\":{\"node_type\":\"midmarker\",\"x\":1466.9885864257812,\"y\":1638.0464668273926},\"398\":{\"node_type\":\"multimarker\",\"x\":1486.9885864257812,\"y\":1638.0464668273926},\"402\":{\"node_type\":\"metabolite\",\"x\":1582.4837036132812,\"y\":1636.402057647705,\"bigg_id\":\"[B]_OAA_c\",\"name\":\"C4H2O5\",\"label_x\":1542.0540649414063,\"label_y\":1606.7176094055176,\"node_is_primary\":true},\"442\":{\"node_type\":\"multimarker\",\"x\":2403.4094848632812,\"y\":1636.402057647705},\"443\":{\"node_type\":\"midmarker\",\"x\":2423.4094848632812,\"y\":1636.402057647705},\"444\":{\"node_type\":\"multimarker\",\"x\":2443.4094848632812,\"y\":1636.402057647705},\"447\":{\"node_type\":\"metabolite\",\"x\":2479.2601928710938,\"y\":1474.2293281555176,\"bigg_id\":\"[B]_CO2_c\",\"name\":\"CO2\",\"label_x\":2503.5758422851563,\"label_y\":1451.1131172180176,\"node_is_primary\":true},\"449\":{\"node_type\":\"multimarker\",\"x\":3180.1638793945312,\"y\":1833.8238410949707},\"450\":{\"node_type\":\"midmarker\",\"x\":3180.1638793945312,\"y\":1813.8238410949707},\"451\":{\"node_type\":\"multimarker\",\"x\":3180.1638793945312,\"y\":1793.8238410949707},\"468\":{\"node_type\":\"metabolite\",\"x\":2557.254638671875,\"y\":2644.2354736328125,\"bigg_id\":\"[B]_Mal_h\",\"name\":\"C4H4O5\",\"label_x\":2581.18212890625,\"label_y\":2620.6953125,\"node_is_primary\":true},\"470\":{\"node_type\":\"metabolite\",\"x\":2990.5491943359375,\"y\":2644.2545166015625,\"bigg_id\":\"[B]_Pyr_h\",\"name\":\"C3H3O3\",\"label_x\":2963.0924072265625,\"label_y\":2695.6025390625,\"node_is_primary\":true},\"471\":{\"node_type\":\"multimarker\",\"x\":2769.9520263671875,\"y\":2648.5093994140625},\"472\":{\"node_type\":\"midmarker\",\"x\":2789.9520263671875,\"y\":2648.5093994140625},\"473\":{\"node_type\":\"multimarker\",\"x\":2809.9520263671875,\"y\":2648.5093994140625},\"474\":{\"node_type\":\"metabolite\",\"x\":2991.3847045898438,\"y\":2787.396728515625,\"bigg_id\":\"[B]_CO2_h\",\"name\":\"CO2\",\"label_x\":2964.9905639648437,\"label_y\":2845.26123046875,\"node_is_primary\":true},\"483\":{\"node_type\":\"metabolite\",\"x\":2407.30029296875,\"y\":2874.866943359375,\"bigg_id\":\"[B]_PGA_h\",\"name\":\"C3H4O7P\",\"label_x\":2271.1439697265623,\"label_y\":2881.5244140625,\"node_is_primary\":true},\"491\":{\"node_type\":\"metabolite\",\"x\":2989.6767578125,\"y\":3153.792236328125,\"bigg_id\":\"[B]_RuBP_h\",\"name\":\"C5H8O11P2\",\"label_x\":3022.277099609375,\"label_y\":3162.3876953125,\"node_is_primary\":true},\"517\":{\"node_type\":\"multimarker\",\"x\":2840.6141967773438,\"y\":2879.277587890625},\"518\":{\"node_type\":\"midmarker\",\"x\":2820.6141967773438,\"y\":2879.277587890625},\"519\":{\"node_type\":\"multimarker\",\"x\":2800.6141967773438,\"y\":2879.277587890625},\"538\":{\"node_type\":\"multimarker\",\"x\":2986.3092651367188,\"y\":2275.8533515930176},\"539\":{\"node_type\":\"midmarker\",\"x\":2986.3092651367188,\"y\":2295.8533515930176},\"540\":{\"node_type\":\"multimarker\",\"x\":2986.3092651367188,\"y\":2315.8533515930176},\"544\":{\"node_type\":\"multimarker\",\"x\":1437.9448852539062,\"y\":2295.60200881958},\"545\":{\"node_type\":\"midmarker\",\"x\":1435.1012573242188,\"y\":2296.454792022705},\"546\":{\"node_type\":\"multimarker\",\"x\":1436.9970092773438,\"y\":2297.3074531555176},\"547\":{\"node_type\":\"metabolite\",\"x\":1290.5658569335938,\"y\":2644.02339553833,\"bigg_id\":\"[B]_Mal_m\",\"name\":\"C4H4O5\",\"label_x\":1157.2743530273438,\"label_y\":2650.658405303955,\"node_is_primary\":true},\"549\":{\"node_type\":\"metabolite\",\"x\":1582.3945922851562,\"y\":2643.2093086242676,\"bigg_id\":\"[B]_OAA_m\",\"name\":\"C4H2O5\",\"label_x\":1611.3456420898438,\"label_y\":2652.3565254211426,\"node_is_primary\":true},\"550\":{\"node_type\":\"multimarker\",\"x\":1443.6730346679688,\"y\":2644.969928741455},\"551\":{\"node_type\":\"midmarker\",\"x\":1463.6730346679688,\"y\":2644.969928741455},\"552\":{\"node_type\":\"multimarker\",\"x\":1483.6730346679688,\"y\":2644.969928741455},\"558\":{\"node_type\":\"multimarker\",\"x\":1970.4468994140625,\"y\":2295.3272705078125},\"559\":{\"node_type\":\"midmarker\",\"x\":1990.4468994140625,\"y\":2295.3272705078125},\"560\":{\"node_type\":\"multimarker\",\"x\":2010.4468994140625,\"y\":2295.3272705078125},\"563\":{\"node_type\":\"metabolite\",\"x\":1818.0286865234375,\"y\":2644.4102783203125,\"bigg_id\":\"[B]_OAA_h\",\"name\":\"C4H2O5\",\"label_x\":1839.56943359375,\"label_y\":2618.6732177734375,\"node_is_primary\":true},\"564\":{\"node_type\":\"multimarker\",\"x\":2135.7994384765625,\"y\":2645.3541259765625},\"565\":{\"node_type\":\"midmarker\",\"x\":2155.7994384765625,\"y\":2645.3541259765625},\"566\":{\"node_type\":\"multimarker\",\"x\":2175.7994384765625,\"y\":2645.3541259765625},\"571\":{\"node_type\":\"multimarker\",\"x\":2182.87646484375,\"y\":2788.6236572265625},\"572\":{\"node_type\":\"midmarker\",\"x\":2162.87646484375,\"y\":2788.6236572265625},\"573\":{\"node_type\":\"multimarker\",\"x\":2142.87646484375,\"y\":2788.6236572265625},\"578\":{\"node_type\":\"multimarker\",\"x\":1564.0972089735876,\"y\":2817.3817224328563},\"579\":{\"node_type\":\"midmarker\",\"x\":1544.0982055664062,\"y\":2817.5813789367676},\"580\":{\"node_type\":\"multimarker\",\"x\":1524.099202159225,\"y\":2817.781035440679},\"581\":{\"node_type\":\"metabolite\",\"x\":1585.8931274414062,\"y\":3365.1145820617676,\"bigg_id\":\"[B]_Ala_m\",\"name\":\"C3H7NO2\",\"label_x\":1612.2485961914062,\"label_y\":3370.6297187805176,\"node_is_primary\":true},\"582\":{\"node_type\":\"metabolite\",\"x\":1495.1290893554688,\"y\":3367.6228828430176,\"bigg_id\":\"[B]_Asp_m\",\"name\":\"C4H6NO4\",\"label_x\":1360.6655883789062,\"label_y\":3373.2732734680176,\"node_is_primary\":true},\"584\":{\"node_type\":\"multimarker\",\"x\":1290.5658569335938,\"y\":2799.02339553833},\"585\":{\"node_type\":\"midmarker\",\"x\":1290.5658569335938,\"y\":2819.02339553833},\"586\":{\"node_type\":\"multimarker\",\"x\":1290.5658569335938,\"y\":2839.02339553833},\"587\":{\"node_type\":\"metabolite\",\"x\":1290.5658569335938,\"y\":2994.02339553833,\"bigg_id\":\"[B]_CO2_m\",\"name\":\"CO2\",\"label_x\":1306.0503540039062,\"label_y\":3052.37398147583,\"node_is_primary\":true},\"590\":{\"node_type\":\"metabolite\",\"x\":1401.4198608398438,\"y\":2818.55171585083,\"bigg_id\":\"[B]_Pyr_m\",\"name\":\"C3H3O3\",\"label_x\":1345.5322875976562,\"label_y\":2859.22456741333,\"node_is_primary\":true},\"591\":{\"node_type\":\"multimarker\",\"x\":1046.1943089173585,\"y\":1472.9092479875703},\"592\":{\"node_type\":\"midmarker\",\"x\":1049.3782348632812,\"y\":2996.947956085205},\"593\":{\"node_type\":\"multimarker\",\"x\":1069.3779567076415,\"y\":2997.0534366437773},\"595\":{\"node_type\":\"multimarker\",\"x\":3098.3270874023438,\"y\":1478.5565185546875},\"596\":{\"node_type\":\"midmarker\",\"x\":3093.0409545898438,\"y\":2785.986328125},\"597\":{\"node_type\":\"multimarker\",\"x\":3073.0409545898438,\"y\":2785.986328125},\"684\":{\"node_type\":\"multimarker\",\"x\":653.9961395263672,\"y\":3648.4940185546875},\"728\":{\"node_type\":\"multimarker\",\"x\":1493.7348022460938,\"y\":3854.6458320617676},\"729\":{\"node_type\":\"midmarker\",\"x\":1493.7348022460938,\"y\":3874.6458320617676},\"730\":{\"node_type\":\"multimarker\",\"x\":3337.0399780273438,\"y\":3869.5474433898926},\"732\":{\"node_type\":\"multimarker\",\"x\":3586.7577514648438,\"y\":3825.2095527648926},\"733\":{\"node_type\":\"midmarker\",\"x\":1590.0761108398438,\"y\":3826.1245918273926},\"734\":{\"node_type\":\"multimarker\",\"x\":1590.0761108398438,\"y\":3806.1245918273926},\"742\":{\"node_type\":\"multimarker\",\"x\":2848.652031881775,\"y\":1638.899410130277},\"743\":{\"node_type\":\"midmarker\",\"x\":2868.652031881775,\"y\":1638.899410130277},\"744\":{\"node_type\":\"multimarker\",\"x\":2888.652031881775,\"y\":1638.899410130277}},\"text_labels\":{},\"canvas\":{\"x\":-1559,\"y\":-1379,\"width\":6207.264892578125,\"height\":6713.53173828125}}]'),\n",
       "               model_data: JSON.parse('null'),\n",
       "               static_site_index: JSON.parse('null'),\n",
       "           };\n",
       "       }\n",
       "   })();\n",
       "  </script>\n"
      ],
      "text/plain": [
       "<IPython.core.display.HTML object>"
      ]
     },
     "metadata": {},
     "output_type": "display_data"
    },
    {
     "data": {
      "text/html": [
       "<h1>PEP-CK</h1>"
      ],
      "text/plain": [
       "<IPython.core.display.HTML object>"
      ]
     },
     "metadata": {},
     "output_type": "display_data"
    },
    {
     "data": {
      "text/html": [
       "\n",
       "\n",
       "\n",
       "  \n",
       "  \n",
       "\n",
       "  \n",
       "  \n",
       "    <link rel=\"stylesheet\" href=\"//unpkg.com/escher-vis@1.6.0/css/dist/builder.min.css\"/>\n",
       "  \n",
       "\n",
       "\n",
       "\n",
       "  <div style=\"height: 1000px; width: 100%;\" id=\"idcmareshe\"></div>\n",
       "\n",
       "  <script>\n",
       "   /* Closure to make sure data only applies to this map. */\n",
       "   (function() {\n",
       "       /* data from python */\n",
       "       var data = get_data();\n",
       "\n",
       "       function load_lib(url, callback) {\n",
       "           /** Dynamically load a JavaScript file */\n",
       "           var s = document.createElement('script');\n",
       "           s.src = url;\n",
       "           s.async = true;\n",
       "           s.onreadystatechange = s.onload = callback;\n",
       "           s.onerror = function() {\n",
       "               console.warn('Failed to load library ' + url);\n",
       "           };\n",
       "           document.getElementsByTagName('head')[0].appendChild(s);\n",
       "       }\n",
       "\n",
       "       function check_global_and_load(name, url, callback) {\n",
       "           /** Look for the name in the global scope. If it isn't present, then\n",
       "              load the library at url. Returns the object. */\n",
       "           if (window[name] !== undefined) {\n",
       "               callback(window[name]);\n",
       "           } else {\n",
       "               load_lib(url, function() {\n",
       "                   callback(window[name]);\n",
       "               });\n",
       "           }\n",
       "       }\n",
       "\n",
       "       function draw_escher(escher) {\n",
       "           /** Get data and draw */\n",
       "           var load = function(t_map_data, t_model_data, t_options) {\n",
       "               escher.Builder(t_map_data, t_model_data, data.builder_embed_css,\n",
       "                              escher.libs.d3_select('#' + data.id), t_options);\n",
       "           }\n",
       "\n",
       "           // for the static site, use the url attributes for the map and model\n",
       "           // information\n",
       "           if (data.static_site_index !== null) {\n",
       "               escher.static.load_map_model_from_url(data.map_download_url, data.model_download_url,\n",
       "                                                     data.static_site_index, data.options, load);\n",
       "           } else {\n",
       "               load(data.map_data, data.model_data, data.options);\n",
       "           }\n",
       "       }\n",
       "\n",
       "       // Load dependencies and draw\n",
       "       if (typeof define === 'function' && define.amd) {\n",
       "           // require.js is available: use it to load escher\n",
       "           require.config({\n",
       "             paths: {\n",
       "               escher: '//unpkg.com/escher-vis@1.6.0/js/dist/escher.min',\n",
       "             },\n",
       "             // Override urlArgs that adds ?v= to the end of the escher URL and\n",
       "             // messes up unpkg links. Honestly, I'm not sure if this will lead\n",
       "             // to downstream bugs in the notebook, but they really shouldn't be\n",
       "             // doing this cache-busting anyway.\n",
       "             urlArgs: null,\n",
       "           })\n",
       "           require([ 'escher' ], function(escher) {\n",
       "               draw_escher(escher);\n",
       "           })\n",
       "       } else {\n",
       "           // require.js not available: dynamically load escher\n",
       "           check_global_and_load('escher', '//unpkg.com/escher-vis@1.6.0/js/dist/escher.min.js', function(escher) {\n",
       "               draw_escher(escher);\n",
       "           })\n",
       "       }\n",
       "\n",
       "       // Put this at the end so Chrome doesn't cut off the code above.\n",
       "       function get_data() {\n",
       "           /** Return the data passed in by the Python module. */\n",
       "           return {\n",
       "               id: JSON.parse('\"idcmareshe\"'),\n",
       "               map_download_url: JSON.parse('\"//escher.github.io/1-0-0/5/maps/\"'),\n",
       "               model_download_url: JSON.parse('\"//escher.github.io/1-0-0/5/models/\"'),\n",
       "               options: JSON.parse('{\"reaction_data\": {\"[M]_PGAK_h\": 5.7780667179480645, \"[M]_SerAcT_c\": 0.0, \"[B]_NDA2_1_m\": 0.0, \"[M]_AMT_m\": -1.0585385054193954e-15, \"[B]_Ex_Arg_p\": 0.0, \"[M]_ArgSCAL_h\": 0.011158962913881515, \"[M]_Im_hnu\": 206.48178938405152, \"[M]_PGAK_c\": 0.0, \"[MB]_Met_c\": 0.0044612690683774507, \"[M]_SerAcT_m\": 0.0, \"[M]_Tr_Ser1\": 0.0, \"[B]_Ex_Arg_h\": 0.0, \"[M]_Tr_Ser2\": -0.0044612690683774412, \"[B]_Ex_Glu_h\": 0.0, \"[B]_DHLAcT_m\": 0.32221505413828494, \"[MB]_Thr_c\": 0.055794814569400004, \"[B]_Ex_Trp_p\": 0.0, \"[B]_G6PDH_h\": 0.0, \"[M]_DPE11_h\": 0.0, \"[M]_Ex_Arg_m\": 0.0, \"[B]_Ex_Mas\": 0.0, \"[B]_PSII_h\": 19.406001403674484, \"[M]_Tr_His2\": 0.0027897407284700002, \"[M]_Tr_His3\": 1.5138887226740861e-15, \"[M]_GMPK_c\": 0.0, \"[B]_FTK_h\": 13.405866592268525, \"[B]_ACPM_h\": 0.0, \"[M]_Tr_DTC1A\": 0.0, \"[B]_TPS_c\": 0.0, \"[B]_DHDS_h\": 0.012553833278115002, \"[M]_PGAM_h\": -0.0027897407284690318, \"[B]_Urease_m\": -7.9054730504768574e-16, \"[M]_Tr_BT12\": -6.0294393953485098e-15, \"[M]_Tr_BT11\": -1.6408451463341089e-15, \"[M]_DPE13_h\": 0.0, \"[B]_Im_Pi\": 0.0, \"[M]_PGAM_c\": 0.0, \"[MB]_KG_c\": 0.0, \"[M]_Ex_O2\": 23.722134563914732, \"[MB]_Gln_c\": 0.0, \"[M]_FGAMS_h\": 0.0, \"[M]_SerAcT_h\": 0.0044612690683774516, \"[M]_DHFR_c\": 0.0, \"[B]_Tr_Asp_OAA_hc\": -0.13642063771935456, \"[B]_Tr_NO2\": 1.9653270991408946e-15, \"[M]_6PGDHNADP_h\": 0.0, \"[M]_DAPDC_h\": 0.0, \"[M]_Ex_Met_p\": 0.0, \"[M]_IndGPS_h\": -1.0072743633254424e-18, \"[B]_AGPase_h\": 3.0687148013169998, \"[B]_Tr_Val1\": 0.0, \"[B]_Tr_Val2\": 0.016738444370820001, \"[B]_Tr_Val3\": 0.0, \"[MB]_GCA_c\": -2.66396440811939e-18, \"[B]_Tr_PRPP\": 0.0, \"[M]_DHQDH_h\": 2.2020850017783686e-16, \"[M]_Ex_Arg_c\": 0.0, \"[M]_Ex_Tre\": 0.0, \"[B]_SADH_h\": 0.018133314735054782, \"[B]_HCO3DHA_c\": 0.0, \"[B]_Ex_Glc\": 0.0, \"[B]_ArgSCAL_h\": 0.0, \"[M]_cplx1_m\": 0.65540361165597094, \"[B]_RBO_h\": 0.0, \"[M]_DHOase_h\": 0.0, \"[B]_EPSPS_h\": 0.018133314735054782, \"[B]_NGAM_h\": 0.152707083279744, \"[M]_GAPDH1_h\": 5.7780667179480654, \"[M]_GABATA1_m\": 0.0, \"[B]_GluSeADA_m\": -3.6853069727393334e-15, \"[M]_PPiase_h\": 40.014502019578622, \"[M]_Tr_Phe1\": 0.0, \"[M]_cplx3_m\": 0.65540361165597083, \"[B]_Ex_Val_h\": 0.0, \"[B]_dTDPK_c\": 0.0, \"[M]_Tr_Ile3\": 0.0, \"[B]_BAATA2_h\": 0.0083692221854100007, \"[B]_Ex_Arg_m\": 0.0, \"[M]_ADPRPPT_c\": 0.0, \"[B]_AspAT_p\": 2.6639644081193904e-18, \"[M]_AOX4_h\": 0.0, \"[M]_Tr_Phe2\": 6.5917993893855478e-19, \"[M]_ProDHNAD_m\": 0.0, \"[M]_Tr_NDT1\": 0.0, \"[B]_Tr_H2Op\": 0.0, \"[B]_SerRM_c\": 0.0, \"[M]_PGP_h\": -2.6639644081193904e-18, \"[B]_Tr_KG\": 0.0, \"[B]_Tr_H2Oh\": 0.0, \"[M]_ALS3_h\": 0.0, \"[M]_BAATA2_h\": -5.9974797123383497e-19, \"[B]_Tr_H2Om\": -10.351913437455183, \"[B]_Ex_cellulose\": 0.0, \"[B]_GDPR_c\": 0.0, \"[M]_MalDH2_m\": 0.0, \"[B]_ALS3_h\": 0.02510766655623, \"[B]_Ex_Suc\": 1.5343574006584999, \"[B]_F26BPPh_c\": 0.0, \"[M]_MalDH4_h\": 0.0, \"[B]_PSI_h\": 128.85778376935363, \"[B]_GGAT_p\": -2.6639644081193907e-18, \"[M]_ForTHFL_h\": 0.0027897407284700015, \"[B]_GGAT_h\": 0.0, \"[M]_Tr_Trp2\": 0.0, \"[B]_5M_DASH_THFOR_c\": 0.00042077720644504872, \"[M]_dGDPK_c\": 0.0, \"[M]_ALS1_h\": -1.0939946036609965e-18, \"[M]_MetS_c\": 0.0044612690683774507, \"[M]_Tr_Asp_mc\": 0.0, \"[B]_GARFT_h\": 0.0, \"[M]_Ex_Leu_h\": 0.0, \"[B]_Tr_H_Na_hc\": 0.0, \"[M]_CDPR_c\": 0.0, \"[M]_GluDC_c\": 0.0, \"[M]_Ex_Leu_c\": 0.0, \"[M]_IndGPL_h\": 0.0, \"[M]_NO2R_h\": 1.0559168657258928, \"[M]_NDA2_2_m\": 0.0, \"[M]_Ex_Arg_p\": 0.0, \"[M]_S6PS_c\": 0.0, \"[MB]_Glc_c\": 0.0, \"[M]_Ex_Leu_p\": 0.0, \"[B]_AIRC_h\": 0.0, \"[B]_Tr_PXN3\": 0.0, \"[M]_Tr_NH41\": -0.94711697731556477, \"[B]_Tr_Pyr1\": 0.0, \"[B]_Ex_Pro_m\": 0.0, \"[M]_6PGDHNAD_h\": 0.0, \"[M]_Ex_Ser_c\": 0.0, \"[B]_AlaTA_m\": -0.32221505413828494, \"[M]_Tr_Pro2\": 0.0, \"[B]_iCitL_p\": 0.0, \"[B]_Ex_Met_c\": 0.0, \"[B]_Tr_KG_Mal_mc\": 0.29529174001137426, \"[M]_Ex_Ser_h\": 0.0, \"[B]_CTPP_c\": 0.0, \"[M]_Tr_H2Om\": -2.8309711299303673, \"[M]_Ex_Tyr_c\": 0.0, \"[B]_Ex_Pro_c\": 0.0, \"[B]_PEPC1_c\": 39.453908252386924, \"[B]_Tr_Ala2\": 0.0, \"[B]_Tr_TPT3\": 0.0, \"[M]_PyrDH1_m\": -3.6192502941514283e-18, \"[M]_Tr_Asp\": 0.0, \"[B]_ADPR_c\": 0.0, \"[M]_Tr_DIT2\": 0.0, \"[M]_cplx5_m\": 2.1846787055199042, \"[M]_PSII_h\": 24.049836369742717, \"[M]_Tr_NH42\": -4.7833776150718704e-15, \"[M]_Tr_DIT1\": 0.011158962913877647, \"[B]_AlaTA_p\": 0.0, \"[B]_Ex_Phe_c\": 0.0, \"[M]_FBPA_c\": 0.0, \"[M]_Tr_His1\": 0.0, \"[B]_AspAT2_p\": 0.0, \"[M]_PGI_c\": 0.0018598271523041039, \"[B]_Ex_Met_h\": 0.0, \"[B]_KARI12_h\": 0.0083692221854100059, \"[M]_FBPA_h\": 0.0, \"[B]_PSerAT_h\": 0.065558907119044996, \"[M]_PGI_h\": -0.0018598271523037743, \"[M]_Tr_DTC1B\": 0.0, \"[B]_Tr_ORO\": 0.0, \"[M]_ArgSCAS_h\": 0.011158962913880724, \"[M]_Ex_Arg_h\": 0.0, \"[B]_Tr_DTC2A\": 0.026923314126912502, \"[M]_3IPMDA1_h\": -5.9974797123383517e-19, \"[B]_AspAT2_c\": -3.0918271510110142, \"[B]_Tr_DTC2B\": 0.0, \"[B]_AspAT2_m\": 0.0, \"[MB]_Trp_c\": 0.0, \"[M]_Tr_SFC\": 3.8945236770000749e-15, \"[B]_AspAT2_h\": 1.7328488185979065e-16, \"[M]_Ex_starch\": 0.0, \"[M]_GSSGR_h\": 0.0044612690683774534, \"[M]_GluSeADH_m\": 0.0, \"[B]_Ex_Thr_p\": 0.0, \"[M]_PGM_c\": 0.0, \"[M]_GluSeADH_h\": 1.8076499825868312e-15, \"[M]_P5CDHNADP_h\": 0.0, \"[B]_Cytb6f1_h\": 64.428891884676801, \"[M]_PGM_h\": 0.0, \"[B]_ADNK_c\": 0.0, \"[B]_PyrK_c\": 39.453908252386938, \"[M]_StS_h1\": 0.0, \"[M]_StS_h3\": 0.0, \"[M]_StS_h2\": 0.0, \"[M]_FrcFD_c\": 0.0, \"[B]_Ex_Thr_c\": 0.0, \"[M]_CTHL_h\": 0.0044612690683774507, \"[B]_Ex_Pro_p\": 0.0, \"[M]_Tr_BT13\": 0.0, \"[M]_SO3R_h\": 0.0044612690683774525, \"[M]_Ex_Gln_m\": 0.0, \"[M]_Tr_iCit\": 0.0, \"[B]_PGR5PGRL11_h\": 0.0, \"[B]_ATPPRT_h\": 0.0, \"[B]_NDC1_1_h\": 0.0, \"[B]_DCAMPS_h\": 0.0, \"[B]_PyrK_h\": 0.89884983051867784, \"[B]_ForTHFL_h\": 0.0, \"[M]_Ex_Thr_p\": 0.0, \"[MB]_Glu_c\": -0.011158962913879564, \"[M]_Tr_Met2\": 0.0, \"[MB]_Fum_c\": 0.013948703642355413, \"[M]_Im_Pi\": 0.0, \"[M]_Tr_Met3\": 0.0, \"[M]_GluSNAD_h\": 0.0, \"[B]_ATase_h\": 0.0, \"[M]_Ex_Glu_p\": 0.0, \"[B]_AGluK\": 0.0, \"[B]_NGAM_m\": 0.0091111872455015702, \"[B]_IndGPS_h\": 0.0062769166390575001, \"[B]_Tr_Cit_iCit_mc\": 0.0, \"[B]_Tr_DTC4B\": 0.0, \"[M]_KGDH_m\": 0.0, \"[M]_HSerDHNADP_h\": 0.057466342909307445, \"[M]_Tr_Phe3\": 0.0, \"[B]_3IPMDH_h\": 0.0083692221854100007, \"[B]_NGAM_c\": 0.050349979617494899, \"[B]_DAPE_h\": 0.012553833278115, \"[M]_Tr_DTC2B\": 0.0, \"[B]_ALS1_h\": 0.033476888741640003, \"[M]_PrAMPCy_h\": 0.0027897407284700011, \"[M]_Tr_UCP\": -4.3511350365487962, \"[B]_ATPase_h\": 109.45178236567916, \"[B]_Tr_Trp1\": 0.0, \"[MB]_G6P_c\": 0.0, \"[B]_Tr_SO4\": 0.00042077720644504877, \"[M]_Ex_Asp_c\": 0.0, \"[B]_Tr_Hp\": 0.0, \"[M]_cACNHA_m\": 5.3715498605530957e-16, \"[M]_PGR5PGRL12_h\": 0.0, \"[M]_Ex_Met_m\": 0.0, \"[M]_cACNHA_h\": 0.0, \"[B]_bAMY1_h\": 0.0, \"[B]_3IPMDA2_h\": 0.0083692221854100007, \"[M]_cACNHA_c\": 0.0, \"[M]_NDC1_1_h\": 0.0, \"[M]_Ex_Asp_m\": 0.0, \"[M]_Ex_Asp_p\": 0.0, \"[B]_Enol_h\": 1.0210451066200126, \"[B]_Tr_O2m\": 1.2703430012388419, \"[B]_Tr_Trp3\": 0.0, \"[B]_Tr_Trp2\": 0.0062769166390574992, \"[B]_ProDHNADP_m\": 0.0, \"[B]_DHODH_m\": 0.0, \"[B]_Ex_Met_m\": 0.0, \"[B]_Enol_c\": 0.0, \"[B]_Ex_Asp_p\": 0.0, \"[B]_Tr_Pro1\": 0.0, \"[M]_HEXK_c\": 0.0, \"[B]_Tr_Pyr3\": 0.0, \"[B]_CitS_c\": 0.0, \"[M]_Ex_Thr_m\": 0.0, \"[M]_Tr_ORO\": 0.0, \"[B]_CitS_m\": 0.322215054138285, \"[B]_NDA2_2_m\": 0.0, \"[B]_BAATA3_h\": 0.016738444370820001, \"[B]_CitS_h\": 0.0, \"[B]_GluSeADH_c\": 0.0, \"[B]_FGAMS_h\": 0.0, \"[B]_S6PS_c\": 1.5343574006585001, \"[B]_FGAMCL_h\": 0.0, \"[B]_AGNDH_h\": 0.0041846110927049995, \"[B]_IndGPL_h\": 0.0062769166390574983, \"[M]_UDPR_c\": 0.0, \"[B]_GluSeADH_h\": 0.0, \"[B]_Ex_Asp_m\": 0.0, \"[M]_DPE12_h\": 0.0, \"[M]_Tr_Glu1\": 0.0, \"[B]_AlaTA_h\": 0.0, \"[M]_OROPRT_c\": 0.0, \"[M]_AlaTA_p\": 0.0, \"[B]_Tr_ProU\": 0.0, \"[M]_Ex_Tyr_h\": 0.0, \"[M]_NDH1_h\": 14.083098426109755, \"[M]_Tr_H2Op\": 0.0, \"[B]_Ex_starch\": 1.5343574006584999, \"[B]_Tr_Pro2\": 0.0, \"[M]_AICARFT_h\": 0.0027897407284700015, \"[M]_AlaTA_c\": 0.0, \"[B]_Tr_ProA\": -4.5029703090543583e-15, \"[M]_PSerP_h\": 0.0, \"[M]_Tr_Tyr1\": 0.0, \"[B]_Tr_Ile2\": 0.0083692221854100041, \"[B]_Tr_Ile1\": 0.0, \"[M]_AlaTA_h\": 0.0, \"[M]_AlaTA_m\": 0.0, \"[B]_HSerDHNAD_h\": 0.00042077720644504883, \"[B]_iCitDHNAD_m\": 0.29529174001137248, \"[B]_CAT_p\": 0.0, \"[M]_SGAT_p\": 0.0, \"[B]_ATPSL_h\": 0.00042077720644504877, \"[B]_iCitDHNAD_c\": 0.0, \"[M]_MetAdT_c\": 0.0, \"[B]_Tr_P5C2\": 0.0, \"[B]_FumHA_c\": 0.013948703642355413, \"[MB]_CO2_c\": 0.0, \"[M]_Ex_His_h\": 0.0, \"[B]_HCysMT_c\": 0.0, \"[B]_SAK_h\": 0.018133314735054782, \"[M]_dUTPP_c\": 0.0, \"[M]_Ex_Ala_m\": 0.0, \"[B]_CAT_h\": 0.0, \"[B]_FumHA_m\": 3.6192502941514306e-18, \"[M]_Cytb6f2_h\": 55.141221952540313, \"[M]_Tr_DHO2\": 0.0, \"[M]_Tr_DHO1\": 0.0, \"[M]_MalDH1_m\": 0.65540361165596672, \"[B]_dUDPK_c\": 0.0, \"[M]_Tr_BAC1\": 1.5138887226740861e-15, \"[M]_MalDH1_h\": 0.0, \"[MB]_Asn_c\": 0.0, \"[B]_R5PI_h\": 13.381456360894411, \"[MB]_PEP_c\": 0.0, \"[M]_MalDH1_c\": 2.0074951121098423, \"[M]_MalDH3_h\": 38.914508408391477, \"[M]_Ex_His_c\": 0.0, \"[B]_Tr_GCA1\": 0.0, \"[B]_ALS2_h\": 0.0083692221854100059, \"[M]_Tr_PLT5\": 0.0, \"[M]_MalDH1_p\": 0.0, \"[B]_Ex_Tyr_c\": 0.0, \"[M]_Tr_KG\": 0.0, \"[B]_IPODC_h\": 0.0083692221854100007, \"[B]_Tr_iCit\": 0.0, \"[B]_Ex_Cys_p\": 0.0, \"[M]_Ex_Cys_c\": 0.0, \"[M]_HisolPTA_h\": 0.0027897407284700011, \"[M]_Ex_Cys_h\": 0.0, \"[B]_Ex_Tyr_p\": 0.0, \"[B]_RibK_h\": 0.0, \"[B]_ProDHNAD_m\": 0.0, \"[B]_ANTS_h\": 0.0062769166390575018, \"[B]_GluDH3NADP_c\": -0.026923314126912509, \"[M]_SerRM_c\": 0.0, \"[B]_Ex_Gly_c\": 0.0, \"[M]_RBO_h\": -2.66396440811939e-18, \"[B]_GCEAK_h\": 0.0, \"[B]_GDPK_h\": 0.0, \"[M]_Ex_Glu_m\": 0.0, \"[B]_PPIase_c\": 1.604798354052368, \"[B]_GDPK_c\": 0.0, \"[B]_AspCT_h\": 0.0, \"[M]_Tr_Cys\": 0.0, \"[B]_Tr_Tyr3\": 0.0, \"[B]_Ex_Asp_h\": 0.0, \"[M]_Si_H_m\": 0.0, \"[M]_AIRC_h\": 0.0, \"[M]_IMPCH_h\": 0.0027897407284700015, \"[B]_Tr_Met2\": 0.0, \"[MB]_2PGA_c\": 0.0, \"[B]_Ex_O2\": 18.135658402435638, \"[B]_S6PPh_c\": 1.5343574006584999, \"[B]_GCAO_h\": 0.0, \"[B]_iCitDHNADP_m\": 0.0, \"[B]_PPiase_h\": 2.9982738479231323, \"[M]_NDA2_1_m\": 0.0, \"[B]_iCitDHNADP_h\": 0.0, \"[M]_Ex_Mas\": 0.0, \"[B]_ACoAC_h\": 0.0, \"[B]_GAPDH2_h\": -28.236238753769129, \"[B]_GSSGR_h\": 0.00042077720644504883, \"[B]_Ex_Gln_c\": 0.0, \"[B]_AspK_h\": 0.012974610484560049, \"[B]_Ex_Gln_m\": 0.0, \"[B]_GluSeADA_h\": 0.0, \"[B]_GCAO_p\": -2.66396440811939e-18, \"[B]_GAPDH2_c\": -6.5014420552007159, \"[B]_Tr_Glu1\": -5.3330939052679683e-34, \"[B]_NO3R2_c\": 0.0, \"[B]_Ex_Lys_c\": 0.0, \"[B]_Tr_Glu2\": 0.0, \"[M]_Tr_GCEA2\": 0.0, \"[B]_PrATPDP_h\": 0.0, \"[M]_FTK_h\": 0.00092991357615199827, \"[M]_Tr_Val1\": 0.0, \"[B]_Tr_Asp\": -2.6639644081193904e-18, \"[M]_Tr_Val2\": 5.9974797123383517e-19, \"[MB]_His_c\": 0.0027897407284700002, \"[B]_SAICARS_h\": 0.0, \"[B]_DAPDC_h\": 0.012553833278115002, \"[M]_AspK_h\": 0.060256083637777437, \"[M]_Tr_HCys\": 0.0044612690683774507, \"[M]_KARI12_h\": -2.0145487266508851e-18, \"[M]_RBC_h\": -2.6639644081193896e-18, \"[B]_Ex_Asn_h\": 0.0, \"[B]_Ex_Thr_h\": 0.0, \"[M]_OrnCMT_h\": 0.011158962913880724, \"[M]_ATPCitL_c\": 0.0, \"[M]_SCACoAL_m\": 0.0, \"[M]_SAICARS_h\": 0.0, \"[M]_Tr_TPT2\": 0.0, \"[B]_Cytb6f2_h\": 64.428891884676801, \"[M]_Tr_TPT1\": -5.7752769772195949, \"[M]_TA_h\": -0.0009299135761558022, \"[B]_Tr_Tyr1\": 0.0, \"[B]_Tr_Tyr2\": 0.0041846110927050003, \"[B]_Tr_DTC3A\": 0.0, \"[M]_RibK_h\": 0.0, \"[M]_GlnS_m\": 0.0, \"[M]_dUDPK_c\": 0.0, \"[M]_GlnS_h\": 0.11326115747870553, \"[B]_Tr_DTC5\": -1.2745644889587548, \"[B]_Ru5PE_h\": 26.793599869801998, \"[M]_OrnAT_m\": 1.5138887226740863e-15, \"[M]_GlnS_c\": 0.0, \"[M]_Tr_Asp_Glu_mc\": 0.0, \"[B]_Tr_Lys2\": 0.012553833278115, \"[B]_Ru5PK_h\": 40.175056230696406, \"[B]_AOrnAGluAcT_h\": 0.0, \"[MB]_Rib_c\": 0.0, \"[M]_Tr_Thr2\": 0.055794814569400004, \"[B]_Ex_Glu_m\": 0.0, \"[B]_Ex_Glu_c\": 0.0, \"[MB]_Phe_c\": 6.5917993893855478e-19, \"[MB]_Asp_c\": 3.6602368244367787, \"[MB]_G1P_c\": 0.0, \"[B]_Tr_His2\": 0.0, \"[MB]_Suc_c\": 0.0, \"[B]_HisolPTA_h\": 0.0, \"[B]_AspAT_c\": -0.29529174001137848, \"[MB]_Cit_c\": -0.026923314126912509, \"[B]_MetS_c\": 0.00042077720644504872, \"[B]_AspAT_h\": -0.12344602723479468, \"[B]_Tr_GCEA2\": 0.0, \"[B]_Ex_Glu_p\": 0.0, \"[B]_AspAT_m\": 0.0, \"[B]_Tr_DTC1B\": 0.0, \"[B]_Tr_DTC1C\": 0.0, \"[B]_PPIF6PK_c\": 0.0, \"[B]_Im_H2S\": 0.0, \"[M]_GluSeADA_h\": 1.8076499825868312e-15, \"[M]_DAHPS_h\": 2.2135718933170855e-16, \"[M]_Tr_H2Oh\": 0.0, \"[M]_UDPK_c\": 0.0, \"[M]_Tr_DTC2C\": 0.0, \"[M]_Tr_DTC2A\": 0.0, \"[B]_Tr_SCA\": 0.0, \"[M]_Ex_Phe_h\": 0.0, \"[M]_GluSeADA_c\": 0.0, \"[B]_DHLST_m\": 0.0, \"[M]_CeS_c1\": 0.0, \"[M]_PPIF6PK_c\": 0.0, \"[M]_CeS_c3\": 0.0, \"[M]_CeS_c2\": 0.0, \"[M]_Si_H_h\": 21.952340897536043, \"[B]_Tr_Pyr_Na_hc\": 0.0, \"[B]_Ex_AA\": 0.6974351821175, \"[M]_AsnS_c\": 0.0, \"[B]_ACDOxRed_c\": 0.0083692221854099989, \"[B]_Tr_P5C1\": 0.0, \"[B]_IMPDH_c\": 0.0, \"[B]_Im_H2O\": -0.92951783970598867, \"[M]_ATPSL_h\": 0.0044612690683774525, \"[M]_DAPE_h\": 0.0, \"[B]_DHQS_h\": 0.018133314735054782, \"[B]_Tr_Met3\": 0.0, \"[M]_ThrDA_h\": 0.0, \"[B]_ADPRPPT_c\": 0.0, \"[M]_Cysase_c\": 0.0, \"[B]_Ex_Ser_h\": 0.0, \"[M]_KARI34_h\": 0.0, \"[M]_PGR5PGRL11_h\": 0.0, \"[M]_ForDH_h\": 0.0027897407284700015, \"[M]_Tr_Tyr3\": 0.0, \"[B]_AICARFT_h\": 0.0, \"[B]_Ex_Gln_p\": 0.0, \"[M]_CitS_c\": 0.0, \"[B]_Ex_Tyr_h\": 0.0, \"[M]_Im_H2S\": 0.0, \"[M]_NDH2_h\": 7.0415492130548776, \"[M]_CitS_h\": 0.0, \"[MB]_SCA_c\": 0.0, \"[M]_Ex_Met_c\": 0.0, \"[MB]_Pyr_c\": -37.282418883795337, \"[M]_CitS_m\": -3.6192502941514291e-18, \"[M]_AGluPR_h\": 0.011158962913880724, \"[MB]_F6P_c\": -0.0018598271523041039, \"[B]_Fd_DASH_NADPR_h\": 38.811371641539296, \"[B]_AMPK_h\": 0.0, \"[B]_PGADH_h\": 0.065558907119044996, \"[M]_Tr_Ala2\": 0.0, \"[B]_Tr_Ala_mc\": 0.32221505413828494, \"[M]_GCEADH_p\": 0.0, \"[B]_AMPK_c\": 0.0, \"[M]_5M_DASH_THFOR_c\": 0.0044612690683774516, \"[B]_Tr_DTC1A\": 0.0, \"[B]_Tr_NTT\": 0.0, \"[MB]_Tre_c\": 0.0, \"[B]_Im_CO2\": 0.0, \"[M]_Ex_Ile_m\": 0.0, \"[M]_Tr_Ala1\": 0.0, \"[M]_Tr_Mal\": 0.0, \"[M]_Tr_GCA2\": 0.0, \"[M]_Tr_GCA1\": -2.6639644081193904e-18, \"[M]_FGAMCL_h\": 0.0, \"[B]_AOX4_h\": 0.0, \"[B]_Tr_Ser1\": 0.0, \"[B]_HSerDHNADP_h\": 0.0, \"[B]_6PGDHNADP_h\": 0.0, \"[M]_Tr_Pyr_Na_hc\": 0.0, \"[M]_PyrPiDK_h\": 39.98884103707104, \"[B]_PGP_h\": 0.0, \"[B]_AOX1A_m\": 0.0, \"[M]_DHDRNADP_h\": 0.0, \"[M]_Tr_THF\": 0.0, \"[MB]_S6P_c\": 0.0, \"[B]_APSR_h\": 0.00042077720644504877, \"[M]_Tr_DIT1_OAA\": 38.988713195671608, \"[B]_Tr_Asn1\": 0.0, \"[B]_Tr_Asn3\": 0.0, \"[M]_Enol_h\": -0.0027897407284690322, \"[B]_PRANTI_h\": 0.0062769166390575001, \"[B]_PSerP_h\": 0.065558907119044996, \"[B]_Tr_CO2h_Ex\": 0.0, \"[M]_Enol_c\": 0.0, \"[B]_TPP_c\": 0.0, \"[B]_Tr_Ser2\": 0.058861213273542462, \"[M]_PGADH_h\": -4.0511428334488954e-18, \"[M]_Ex_MACP\": 0.0, \"[B]_Ex_Trp_c\": 0.0, \"[B]_OROPRT_c\": 0.0, \"[MB]_PGA_c\": -5.775276977219594, \"[M]_Tr_KG_Mal_mc\": 0.0, \"[M]_Tr_Arg2\": 0.011158962913881515, \"[B]_Ex_Trp_h\": 0.0, \"[M]_Tr_Arg1\": 0.0, \"[M]_Ex_Lys_m\": 0.0, \"[B]_Tr_DIC2\": 0.0, \"[B]_Tr_DIC1\": 0.0, \"[B]_Ex_Trp_m\": 0.0, \"[M]_IPODC_h\": -5.9974797123383517e-19, \"[B]_Ex_Ser_c\": 0.0, \"[B]_Tr_Met1\": 0.0, \"[M]_SADH_h\": 2.2104158904613814e-16, \"[MB]_cACN_c\": 0.026923314126911967, \"[M]_Tr_AAC\": 2.1755675182744025, \"[M]_Tr_CO2m\": -1.5102694723799347e-15, \"[M]_P5CDHNAD_h\": 0.0, \"[M]_Tr_CO2h\": 0.013948703642350263, \"[B]_Tr_SFC\": 0.0, \"[M]_NGAM_h\": 0.152707083279744, \"[B]_IGPS_h\": 0.0, \"[B]_PGM_c\": 1.5343574006585003, \"[M]_PRANTI_h\": -1.2623996496407914e-18, \"[M]_Ex_Ile_c\": 0.0, \"[M]_Ex_Pro_m\": 0.0, \"[M]_StP21_c\": 0.0, \"[B]_PAICARPI_h\": 0.0, \"[B]_TA_h\": 0.0, \"[B]_Tr_AC1\": 0.0083692221854099989, \"[M]_Ex_Lys_h\": 0.0, \"[M]_Cytb6f1_h\": 55.141221952540313, \"[M]_Ex_Asn_h\": 0.0, \"[B]_PGI_c\": 4.6030722019754995, \"[MB]_Ile_c\": -2.9019132470045796e-18, \"[B]_PGI_h\": 0.0, \"[B]_dGDPK_c\": 0.0, \"[B]_Ex_Frc\": 0.0, \"[B]_Im_hnu\": 206.48178938405152, \"[B]_Tr_O2p\": -2.6639644081193904e-18, \"[M]_Ex_Gly_m\": 0.0, \"[M]_Si_H_p\": 0.0, \"[B]_NDC1_2_h\": 0.0, \"[M]_PSerAT_h\": -4.142759761405237e-18, \"[B]_Tr_Leu1\": 0.0, \"[B]_Tr_Cys\": 0.0, \"[MB]_Lys_c\": 0.0, \"[M]_ACoAS_h\": 0.0044612690683774525, \"[B]_PyrDH2_m\": 0.32221505413828494, \"[M]_Ex_Ile_h\": 0.0, \"[B]_Tr_O2h\": -19.40600140367448, \"[B]_Ex_Lys_p\": 0.0, \"[B]_DPE2_c\": 0.0, \"[B]_GAPDH1_h\": 38.750550661464302, \"[B]_dTMPS_c\": 0.0, \"[M]_SBPA_h\": 0.0, \"[M]_DHDRNAD_h\": 0.0, \"[M]_NDC1_2_h\": 0.0, \"[B]_DHFR_c\": 0.0, \"[M]_STK_h\": 0.00092991357615570072, \"[B]_GluK_h\": 0.0, \"[B]_CeS_c2\": 0.0, \"[B]_CeS_c3\": 0.0, \"[B]_CeS_c1\": 0.0, \"[B]_CBPS_h\": 0.0, \"[B]_Cysase_c\": 0.0, \"[B]_GAPDH3_c\": 0.0, \"[MB]_DHAP_c\": 5.77713680437191, \"[B]_Ex_Lys_h\": 0.0, \"[M]_DAPAT_h\": 0.0, \"[B]_AOrnTA_h\": 0.0, \"[B]_Ex_Lys_m\": 0.0, \"[B]_Tr_Asp_mc\": 0.0, \"[M]_Tr_PPT\": -39.98605129634258, \"[B]_Ex_Val_c\": 0.0, \"[M]_dADPK_c\": 0.0, \"[M]_Ex_Ile_p\": 0.0, \"[B]_Ex_Val_m\": 0.0, \"[B]_TrpS_h\": 0.0062769166390574983, \"[B]_Tr_UCP\": 0.0, \"[B]_NDH2_h\": 25.616889077327844, \"[B]_Ex_Val_p\": 0.0, \"[B]_F6PK1_c\": 0.0, \"[M]_Ex_Met_h\": 0.0, \"[B]_DHQDH_h\": 0.018133314735054779, \"[B]_DHDRNAD_h\": 0.012553833278115, \"[B]_HCO3DHA_h\": 0.0, \"[M]_ACDOxRed_c\": 0.0, \"[B]_F6PK1_h\": 0.0, \"[B]_Tr_THF\": 0.0, \"[B]_Tr_DTC2C\": 0.0, \"[B]_NMPK_c\": 0.0, \"[M]_Tr_BAC2\": 0.0, \"[B]_SerAcT_m\": 0.0, \"[B]_GABATA2_m\": 0.0, \"[B]_Tr_TPT2\": 0.0, \"[B]_Tr_TPT1\": 12.276719032420308, \"[B]_Ex_His_c\": 0.0, \"[M]_Glnase_c\": 0.0, \"[B]_GluDC_c\": 0.0, \"[M]_GPAT_h\": 2.188767992949445e-16, \"[M]_OMPDC_c\": 0.0, \"[B]_Ex_MACP\": 0.0, \"[M]_S6PPh_c\": 0.0, \"[M]_Tr_Ser3\": -5.2937304287438501e-16, \"[M]_Tr_Trp1\": 0.0, \"[B]_P5CRNAD_c\": 0.0, \"[M]_Arginase_m\": 0.0, \"[B]_OrnAT_m\": -7.9196354668599317e-16, \"[M]_F26BPPh_c\": 0.0, \"[M]_Tr_GlySer\": -1.0580648321527947e-15, \"[M]_Tr_Trp3\": 0.0, \"[M]_Ex_cellulose\": 0.0, \"[B]_Tr_Pyr2\": 0.0, \"[MB]_Pro_c\": 0.0, \"[MB]_iCit_c\": 5.3715498605530957e-16, \"[B]_Ex_Phe_m\": 0.0, \"[M]_HSerK_h\": 0.060256083637777458, \"[M]_F6PK1_h\": 0.0, \"[M]_cACNDHA_c\": 0.026923314126912505, \"[B]_ACoAS_h\": 0.0087899993918550481, \"[M]_cACNDHA_m\": 0.0, \"[M]_cACNDHA_h\": 0.0, \"[M]_F6PK1_c\": 0.0, \"[M]_Tr_DTC4A\": 0.0, \"[M]_Tr_ProA\": -6.8616644167267206e-15, \"[M]_SucS_c\": 0.0, \"[B]_HisolPDH_h\": 0.0, \"[M]_6PGL_h\": 0.0, \"[M]_ADPR_c\": 0.0, \"[B]_AMPDA_c\": 0.0, \"[B]_Tr_NH41\": -0.0025130827527975546, \"[B]_Tr_NH42\": -0.3263996652309924, \"[B]_Tr_Pi\": -0.070440953393870021, \"[B]_PrAMPCy_h\": 0.0, \"[M]_bAMY2_h\": 0.0, \"[M]_Tr_Thr1\": 0.0, \"[B]_Tr_Lys1\": 0.0, \"[M]_Tr_Thr3\": 0.0, \"[B]_GluSNAD_h\": 0.0, \"[B]_Tr_Ser3\": 0.0041846110927055294, \"[M]_UGPase_c\": 0.0, \"[B]_dADPK_c\": 0.0, \"[M]_Ex_Lys_c\": 0.0, \"[B]_Ex_Tre\": 0.0, \"[B]_Tr_His3\": 1.3351556630414514e-15, \"[B]_Tr_Mal\": 0.0, \"[B]_DHDRNADP_h\": 0.0, \"[B]_GluSeADH_m\": -2.8933434260533403e-15, \"[M]_PEPC2_c\": -39.986051296342573, \"[B]_OMPDC_c\": 0.0, \"[B]_Tr_PPT\": 0.0, \"[B]_Tr_Arg2\": 0.0, \"[B]_GMPK_c\": 0.0, \"[M]_GAPDH2_h\": 0.0, \"[M]_Tr_DTC3A\": 0.0, \"[B]_Tr_Arg1\": 0.0, \"[M]_Tr_DTC3C\": 0.0, \"[M]_Tr_DTC3B\": 0.0, \"[B]_StP1_h\": 0.0, \"[B]_SucS_c\": 0.0, \"[MB]_Cys_c\": 0.0, \"[B]_Ex_Ala_c\": 0.0, \"[B]_TPI_h\": 26.793599869801994, \"[M]_AGluK\": 0.011158962913880726, \"[M]_F6PK2_c\": 0.0, \"[B]_SerAcT_h\": 0.00042077720644504872, \"[M]_FumHA_m\": -3.8981429272942262e-15, \"[B]_GlnS_m\": 0.0, \"[M]_FumHA_c\": 0.0, \"[B]_TPI_c\": 0.36215262541439364, \"[B]_Ex_Phe_h\": 0.0, \"[B]_SerAcT_c\": 0.0, \"[B]_Tr_GPT1\": 3.0687148013169998, \"[B]_UDPR_c\": 0.0, \"[M]_ADNK_c\": 0.0, \"[B]_GlnS_c\": 0.30198943385687749, \"[B]_GlyDH_m\": 0.0041846110927055294, \"[B]_GlnS_h\": 0.0062769166390575009, \"[M]_dTMPK_c\": 0.0, \"[B]_6PGL_h\": 0.0, \"[M]_Fd_DASH_NADPR_h\": 44.825917784868885, \"[M]_DHQS_h\": 2.2135718933170855e-16, \"[B]_DPE11_h\": 0.0, \"[B]_dUTPP_c\": 0.0, \"[B]_Ex_His_p\": 0.0, \"[M]_Tr_Asn1\": 0.0, \"[M]_Asp_DASH_SeADH_h\": 0.060256083637777437, \"[M]_Tr_Asn3\": 0.0, \"[M]_CTPP_c\": 0.0, \"[B]_Tr_GlySer\": 0.0083692221854110536, \"[B]_PGAK_c\": 6.5014420552007159, \"[B]_GCEADH_p\": 0.0, \"[B]_Tr_DIC4\": 2.8889420117483035e-15, \"[M]_Tr_DTC5\": -0.6554036116559675, \"[MB]_Ser_c\": -0.0089225381367554427, \"[M]_AspAT_h\": 0.074204787280127582, \"[B]_dCDPK_c\": 0.0, \"[B]_PGAK_h\": 66.986789415233432, \"[M]_AspAT_m\": 0.0, \"[M]_R5PI_h\": -0.0018598271523076991, \"[B]_IGPDA_h\": 0.0, \"[M]_AOX1A_m\": 0.0, \"[M]_AspAT_p\": 0.0, \"[B]_PGAM_c\": 0.0, \"[M]_FBPase_c\": 0.0, \"[M]_EPSPS_h\": 2.1943032277033422e-16, \"[M]_FBPase_h\": 0.0, \"[B]_PGAM_h\": 1.0210451066200126, \"[M]_Tr_Ala_mc\": 0.0, \"[B]_Tr_PLT5\": 0.0, \"[B]_IMPCH_h\": 0.0, \"[B]_STK_h\": 13.387733277533469, \"[B]_Tr_PIC\": 8.4598421543467843, \"[M]_SBPase_h\": 0.0, \"[M]_FrcK_c\": 0.0, \"[M]_Ex_Asn_p\": 0.0, \"[B]_Tr_DIT2\": 0.0, \"[M]_ACoAC_h\": 1.2047715670070908e-18, \"[B]_Tr_DIT1\": -2.6112576143928222e-15, \"[M]_3IPMDA2_h\": -5.9974797123383517e-19, \"[B]_CHRS_h\": 0.018133314735054782, \"[M]_Im_H2O\": 37.29622925844987, \"[B]_Ex_Gly_p\": 0.0, \"[B]_dTMPK_c\": 0.0, \"[B]_AGNDA_h\": 0.0076717870032922799, \"[M]_Tr_Asn2\": 0.0, \"[B]_Ex_Leu_p\": 0.0, \"[B]_Tr_Pyr_H_hc\": -0.90736317193486027, \"[B]_OrnCMT_h\": 0.0, \"[M]_Tr_AC1\": 0.0, \"[B]_PyrDH1_m\": 0.322215054138285, \"[M]_Tr_AC2\": 0.0, \"[M]_Tr_Tyr2\": 0.0, \"[B]_R5PDPK_h\": 0.0062769166390575018, \"[B]_Ex_Gly_m\": 0.0, \"[M]_AMPK_h\": 40.014502019578615, \"[B]_SBPase_h\": 13.387733277533471, \"[M]_CHRS_h\": 2.1943032277033422e-16, \"[M]_Ex_Gly_c\": 0.0, \"[B]_FrcK_c\": 0.0, \"[M]_TPS_c\": 0.0, \"[MB]_Gly_c\": 0.0044612690683785107, \"[B]_FBPase_h\": 13.405866592268527, \"[B]_Ex_Gly_h\": 0.0, \"[M]_ThrA_c\": 0.0, \"[B]_FBPase_c\": 6.1392894297863032, \"[M]_Tr_DIC2\": -5.4972911634245174e-15, \"[M]_Tr_PIC\": 2.1755675182744016, \"[M]_Tr_Val3\": 0.0, \"[M]_Ex_Phe_p\": 0.0, \"[M]_AspAT_c\": 0.95827594022944018, \"[M]_StP1_h\": 0.0, \"[B]_Asp_DASH_SeADH_h\": 0.012974610484560048, \"[M]_DHLST_m\": 0.0, \"[B]_StP21_c\": 0.0, \"[B]_FrcFD_c\": 0.0, \"[M]_Ex_Tyr_p\": 0.0, \"[M]_Im_NO3\": 1.0559168657258926, \"[M]_iCitL_p\": 0.0, \"[M]_GlyDH_m\": 0.0, \"[B]_Tr_Ala1\": 0.0, \"[M]_GDPR_c\": 0.0, \"[B]_Ex_Cys_c\": 0.0, \"[B]_SCACoAL_m\": 0.0, \"[MB]_Arg_c\": 0.011158962913880001, \"[B]_bAMY2_h\": 0.0, \"[M]_Ex_Phe_m\": 0.0, \"[M]_Ex_Phe_c\": 0.0, \"[B]_Ex_Cys_h\": 0.0, \"[M]_TrpS_h\": 0.0, \"[M]_Tr_Lys2\": 0.0, \"[B]_2IPMS_h\": 0.0083692221854100007, \"[M]_Urease_m\": 1.5138887226740861e-15, \"[M]_DHDS_h\": 0.0, \"[B]_CTHS_h\": 0.00042077720644504872, \"[B]_ATPCitL_c\": 0.0, \"[B]_GMPS_c\": 0.0, \"[M]_GARFT_h\": 0.0, \"[M]_G6PDH_h\": 0.0, \"[B]_HisolPP_h\": 0.0, \"[M]_DHLDH1_m\": -1.0592737259978572e-15, \"[M]_ATase_h\": 0.0, \"[M]_DCAMPL1_h\": 0.0, \"[M]_HCO3DHA_h\": 0.011158962913880724, \"[M]_Ex_Ser_m\": 0.0, \"[B]_DCAMPL1_h\": 0.0, \"[M]_HCO3DHA_c\": 39.986051296342573, \"[B]_AMT_m\": 0.0041846110927055294, \"[B]_AlaTA_c\": 0.0, \"[B]_Tr_DTC4C\": 0.0, \"[B]_GluSFd_h\": 0.0, \"[B]_Tr_DTC4A\": 0.0, \"[M]_Tr_SO4\": 0.0044612690683774525, \"[M]_AspCT_h\": 0.0, \"[M]_IGPS_h\": 0.0027897407284700011, \"[B]_Ex_Cys_m\": 0.0, \"[MB]_Tyr_c\": 0.0, \"[B]_Tr_Leu2\": 0.0083692221854100007, \"[M]_Ex_Suc\": 0.0, \"[B]_Ex_Ala_m\": 0.0, \"[B]_Ex_Ala_h\": 0.0, \"[M]_Ex_Ser_p\": 0.0, \"[M]_Ex_Leu_m\": 0.0, \"[M]_Tr_Leu3\": 0.0, \"[B]_DAPAT_h\": 0.012553833278114998, \"[M]_Tr_Leu1\": 0.0, \"[M]_Tr_Leu2\": -5.9974797123383497e-19, \"[B]_PGM_h\": 3.0687148013169998, \"[B]_Ex_Arg_c\": 0.0, \"[M]_ThrS_h\": 0.055794814569400004, \"[M]_iCitDHNAD_m\": 0.0, \"[B]_RBC_h_Ex\": 0.0, \"[B]_Ex_Ala_p\": 0.0, \"[M]_iCitDHNAD_c\": 0.0, \"[B]_MalDH4_h\": 0.0, \"[B]_GlyHMT_m\": 0.0041846110927055268, \"[B]_DPE12_h\": 0.0, \"[B]_GlyHMT_c\": -0.00042077720644504872, \"[B]_CHRM_h\": 0.01185639809599728, \"[B]_TRXR_c\": 0.0, \"[M]_AOrnTA_h\": 0.011158962913880726, \"[B]_KGDH_m\": -7.3343035798730179e-17, \"[M]_Tr_Ile1\": 0.0, \"[M]_AGPase_h\": 0.0, \"[M]_HisolPP_h\": 0.0027897407284700011, \"[M]_CTHS_h\": 0.0044612690683774507, \"[M]_Tr_PRPP\": 0.0, \"[M]_Ex_Pro_h\": 0.0, \"[M]_IMPDH_c\": 0.0, \"[M]_DHLAcT_m\": 0.0, \"[M]_GluSeADA_m\": 1.5138887226740863e-15, \"[B]_GABATA1_m\": 0.0, \"[M]_dTDPK_c\": 0.0, \"[M]_bAMY1_h\": 0.0, \"[B]_Tr_Asn2\": 0.0, \"[B]_DCAMPL2_h\": 0.0, \"[M]_2IPMS_h\": -5.9974797123383517e-19, \"[M]_Si_H_c\": -39.902359074488501, \"[B]_CTHL_h\": 0.00042077720644504872, \"[M]_Tr_DTC1C\": 0.0, \"[M]_GluDH1NADP_m\": 0.0, \"[M]_Ex_His_p\": 0.0, \"[B]_Im_SO4\": 0.00042077720644504877, \"[M]_Tr_Mex1\": 0.0, \"[B]_GluK_c\": 0.0, \"[B]_GluK_m\": -2.8933434260533403e-15, \"[B]_Tr_Leu3\": 0.0, \"[B]_Arginase_m\": 0.0, \"[M]_HSerDHNAD_h\": 0.0027897407284700098, \"[M]_GluDH1NAD_m\": -1.715569765944699e-15, \"[M]_Tr_ProU\": 0.0, \"[B]_3IPMDA1_h\": 0.0083692221854100007, \"[M]_Tr_GPT1\": 0.0018598271523037745, \"[M]_Im_SO4\": 0.0044612690683774516, \"[B]_DHADA1_h\": 0.0083692221854100041, \"[M]_GAPDH2_c\": -2.6026230305290065e-15, \"[M]_GluK_c\": 0.0, \"[B]_Ex_Leu_m\": 0.0, \"[B]_DHLDH1_m\": 0.0041846110927055294, \"[B]_StS_h2\": 1.5343574006584999, \"[B]_StS_h3\": -2.1628004880842888e-16, \"[M]_GluK_h\": 1.4468487372358476e-15, \"[B]_StS_h1\": 1.5343574006584999, \"[M]_DHADA1_h\": -1.9905521415727709e-18, \"[B]_Im_NO3\": 1.8634760037832968e-15, \"[M]_GluK_m\": 0.0, \"[B]_cACNDHA_h\": 0.0, \"[M]_GluSFd_h\": 0.099312453836354828, \"[M]_ADNN_c\": 0.0, \"[B]_cACNDHA_m\": 0.29529174001137248, \"[B]_Ex_Leu_h\": 0.0, \"[B]_cplx2_m\": 3.6192502941514298e-18, \"[B]_cACNDHA_c\": 0.0, \"[B]_GluDH1NADP_m\": 2.8933434260533403e-15, \"[M]_Tr_H_Na_hc\": 0.0, \"[M]_Tr_Cit_iCit_mc\": 0.0, \"[MB]_Frc_c\": 0.0, \"[M]_GluDH3NADP_c\": -0.94711697731556888, \"[M]_Asnase_c\": 0.0, \"[B]_Tr_Pyr_Mal_hc\": 0.012974610484560384, \"[B]_cplx4_m\": 1.2703430012388419, \"[B]_Ex_Met_p\": 0.0, \"[B]_DHOase_h\": 0.0, \"[B]_Tr_Phe3\": 0.0, \"[M]_GGAT_h\": 0.0, \"[M]_PEPC1_c\": 0.0, \"[B]_Tr_Mex1\": 0.0, \"[M]_CTPS_c\": 0.0, \"[M]_Im_NH4\": 0.0, \"[B]_SBPA_h\": 13.387733277533467, \"[B]_Ex_Asp_c\": 0.0, \"[B]_ForDH_h\": 0.0, \"[B]_MalDH2_m\": 0.0, \"[M]_Ex_Ala_c\": 0.0, \"[B]_ANTPRT_h\": 0.0062769166390575001, \"[B]_Tr_CO2h\": 40.102522971756173, \"[B]_SGAT_p\": 0.0, \"[M]_Ex_Ala_h\": 0.0, \"[B]_Tr_Phe1\": 0.0, \"[B]_Tr_Phe2\": 0.0076717870032922807, \"[B]_iCitDHNADP_c\": 0.026923314126912505, \"[B]_PRAGlyL_h\": 0.0, \"[MB]_Leu_c\": -5.9974797123383497e-19, \"[B]_CysS_m\": 0.0, \"[B]_Tr_CO2m\": -0.62169140524233268, \"[B]_CysS_h\": 0.00042077720644504877, \"[M]_Tr_Hp\": 0.0, \"[M]_GCAO_p\": 0.0, \"[MB]_Ala_c\": -2.7019608842073382, \"[B]_Tr_DIT1_OAA\": -28.16231062446467, \"[M]_NMPK_c\": 0.0, \"[M]_GGAT_p\": 0.0, \"[M]_PAICARPI_h\": 0.0027897407284700011, \"[B]_NDH1_h\": 51.233778154655688, \"[M]_GCEAK_h\": 0.0, \"[B]_6PGDHNAD_h\": 0.0, \"[MB]_GAP_c\": -2.3325315034066996e-15, \"[M]_TPI_h\": 5.7771368043719109, \"[M]_PrATPDP_h\": 0.0027897407284700011, \"[M]_DPE2_c\": 0.0, \"[M]_TPI_c\": 0.0, \"[B]_P5CDHNADP_h\": 0.0, \"[B]_UDPK_c\": 1.5343574006585003, \"[M]_Ex_Cys_p\": 0.0, \"[B]_P5CDHNADP_m\": 0.0, \"[M]_Ex_Tyr_m\": 0.0, \"[B]_Tr_GCA2\": -2.66396440811939e-18, \"[B]_CysS_c\": 0.0, \"[B]_Tr_DHO2\": 0.0, \"[M]_GluSeADH_c\": 0.0, \"[B]_Tr_DHO1\": 0.0, \"[M]_Tr_Gln\": 0.0, \"[M]_DCAMPL2_h\": 0.0027897407284700011, \"[M]_Tr_Asp_OAA_hc\": 0.0, \"[M]_dCDPK_c\": 0.0, \"[M]_Tr_Pyr1\": 0.0, \"[M]_Tr_Pyr3\": 0.0, \"[M]_Tr_Pyr2\": 0.0, \"total\": 2806.725238968831, \"[M]_TRXR_c\": 0.0, \"[M]_SAK_h\": 2.2104158904613814e-16, \"[M]_Ru5PE_h\": 0.0018598271523076989, \"[B]_Ex_Ser_m\": 0.0, \"[M]_AMPDA_c\": 0.0, \"[B]_PyrPiDK_h\": -0.085928646631225111, \"[M]_TPP_c\": 0.0, \"[M]_Tr_NO2\": 1.0559168657258931, \"[M]_GlyHMT_m\": -2.3998821847382528e-30, \"[B]_Tr_Fum\": 0.0, \"[B]_Ex_Pro_h\": 0.0, \"[B]_GluSeADA_c\": 0.0, \"[M]_ATPase_h\": 86.232607535337905, \"[M]_PyrK_c\": 0.0, \"[M]_P5CDHNADP_m\": 0.0, \"[M]_Ex_Gln_p\": 0.0, \"[M]_IGPDA_h\": 0.0027897407284700011, \"[B]_UGPase_c\": 1.5343574006585003, \"[B]_Ex_His_h\": 0.0, \"[M]_Ex_AA\": 0.0, \"[M]_Tr_O2p\": 0.0, \"[M]_R5PDPK_h\": 0.0027897407284633996, \"[M]_PyrK_h\": 0.0, \"[B]_BAATA1_h\": 0.0083692221854076987, \"[M]_ANTPRT_h\": -1.2623996496407915e-18, \"[M]_APSR_h\": 0.0044612690683774525, \"[M]_Tr_O2h\": -24.049836369742717, \"[M]_Ex_Gln_c\": 0.0, \"[M]_Ex_Ala_p\": 0.0, \"[M]_Tr_H2S1\": 0.0, \"[M]_Tr_O2m\": 0.32770180582798536, \"[M]_SCASeADH_m\": 0.0, \"[M]_Tr_H2S2\": 0.0, \"[B]_Tr_BAC1\": 1.3351556630414514e-15, \"[M]_Ex_Gln_h\": 0.0, \"[B]_Tr_BAC2\": 0.0, \"[M]_PRAGlyL_h\": 0.0, \"[B]_Ex_Tyr_m\": 0.0, \"[B]_FBPA_h\": 13.405866592268527, \"[B]_Tr_HCys\": 0.00042077720644504883, \"[M]_Tr_Met1\": 0.0, \"[B]_HSerK_h\": 0.00042077720644504883, \"[M]_AspAT2_m\": 0.0, \"[M]_AspAT2_h\": 0.0, \"[M]_cplx2_m\": -3.619250294151302e-18, \"[M]_HisolPDH_h\": 0.0027897407284700007, \"[M]_AspAT2_c\": 2.7019608842073382, \"[B]_Ex_Gln_h\": 0.0, \"[M]_P5CRNAD_c\": 0.0, \"[M]_DHLDH2_m\": 8.0129733651255559e-19, \"[M]_dTMPS_c\": 0.0, \"[M]_NO3R1_c\": 2.0030338430414618, \"[M]_Tr_Glu2\": 0.0, \"[M]_ProDHNADP_m\": 0.0, \"[M]_Tr_Fum\": 0.013948703642351517, \"[M]_AspAT2_p\": 0.0, \"[B]_Ex_Phe_p\": 0.0, \"[B]_Ex_Asn_p\": 0.0, \"[M]_BAATA1_h\": -2.90191324700458e-18, \"[B]_ThrA_c\": 0.0083692221854099989, \"[M]_Ex_Val_c\": 0.0, \"[M]_HisalPDH_h\": 0.0027897407284700002, \"[B]_ArgSCAS_h\": 0.0, \"[M]_GABATA2_m\": 0.0, \"[M]_Ex_Val_m\": 0.0, \"[B]_Tr_BT12\": 0.070440953393863734, \"[B]_Tr_BT13\": 0.0, \"[M]_Ex_Val_h\": 0.0, \"[B]_Tr_BT11\": -0.070440953393867523, \"[B]_Ex_Asn_c\": 0.0, \"[M]_Tr_Gly\": 0.0, \"[B]_FBPA_c\": 6.1392894297863041, \"[M]_Ex_Val_p\": 0.0, \"[M]_NO3R2_c\": -0.94711697731556876, \"[B]_Tr_AC2\": 0.0, \"[M]_Tr_pGlc\": 0.0, \"[M]_ALS2_h\": -2.0145487266508847e-18, \"[M]_Ex_Asp_h\": 0.0, \"[M]_BAATA3_h\": 5.9974797123383517e-19, \"[B]_Ex_Asn_m\": 0.0, \"[M]_Ex_Glc\": 0.0, \"[B]_DHLDH2_m\": 0.32221505413828494, \"[M]_Tr_Pro1\": 0.0, \"[B]_Tr_Ile3\": 0.0, \"[M]_Tr_GCEA1\": 0.0, \"[M]_HCysMT_c\": 0.0, \"[B]_cACNHA_c\": 0.026923314126911967, \"[B]_cACNHA_m\": 0.29529174001137248, \"[B]_Glnase_c\": 0.0, \"[B]_cACNHA_h\": 0.0, \"[M]_Ex_Pro_c\": 0.0, \"[B]_Tr_H2S1\": 0.0, \"[B]_Tr_Thr1\": 0.0, \"[B]_Tr_Thr3\": 0.0, \"[B]_Tr_Thr2\": -0.0083692221854100041, \"[M]_Tr_OAA\": 0.0, \"[B]_Tr_H2S2\": 0.0, \"[B]_AsnS_c\": 0.070440953393867509, \"[MB]_GCEA_c\": 0.0, \"[M]_Ex_His_m\": 0.0, \"[M]_ACPM_h\": 0.0, \"[M]_Ex_Pro_p\": 0.0, \"[M]_PSI_h\": 110.28244390508063, \"[B]_KARI34_h\": 0.02510766655623, \"[B]_Asnase_c\": 0.0, \"[M]_Ex_Thr_h\": 0.0, \"[M]_P5CDHNAD_m\": 3.1662813757957311e-15, \"[M]_AGNDH_h\": 0.0, \"[M]_Ex_Gly_h\": 0.0, \"[B]_Tr_Asp_Glu_mc\": -6.6720746794778044e-16, \"[B]_CDPR_c\": 0.0, \"[B]_DPE13_h\": 0.0, \"[M]_Tr_PXN3\": 0.0, \"[M]_Ex_Gly_p\": 0.0, \"[B]_Ex_Ile_c\": 0.0, \"[M]_GDPK_h\": 0.002789740728470002, \"[M]_Tr_NTT\": 0.0, \"[B]_Tr_DTC3B\": 0.0, \"[B]_Tr_DTC3C\": 0.0, \"[M]_CBPS_h\": 0.011158962913880724, \"[B]_AGluPR_h\": 0.0, \"[M]_GDPK_c\": 0.0, \"[M]_Ex_Lys_p\": 0.0, \"[B]_Im_NH4\": 0.0, \"[B]_Tr_GCEA1\": 0.0, \"[M]_Tr_DTC4B\": 5.3715498605530957e-16, \"[M]_Tr_DTC4C\": 0.0, \"[M]_Im_CO2\": 39.999999999984922, \"[B]_CTPS_c\": 0.0, \"[B]_MalDH1_c\": 6.4934936102217522, \"[MB]_Val_c\": 5.9974797123383517e-19, \"[B]_MalDH1_m\": 1.5967795430970364, \"[M]_Tr_Lys1\": 0.0, \"[B]_MalDH1_h\": 28.175285234949232, \"[B]_GPAT_h\": 0.01185639809599728, \"[M]_AMPK_c\": -1.6408451463341089e-15, \"[M]_cplx4_m\": 0.32770180582798542, \"[M]_Ex_Frc\": 0.0, \"[B]_Ex_Leu_c\": 0.0, \"[B]_MalDH1_p\": 0.0, \"[B]_NO3R1_c\": 1.9653270991408946e-15, \"[B]_PEPC2_c\": 0.0, \"[M]_Tr_Pyr_Mal_hc\": 0.085363750194005231, \"[B]_Ex_Thr_m\": 0.0, \"[M]_PyrDH2_m\": 1.3126917559901937e-18, \"[B]_Tr_NDT1\": 0.0, \"[M]_Ru5PK_h\": 0.0, \"[B]_RBC_h\": 40.175056230696406, \"[B]_Tr_NDT2\": 2.7522154529399059e-16, \"[B]_ADNN_c\": 0.0, \"[M]_CysS_c\": 0.0, \"[M]_CysS_m\": 0.0, \"[M]_Tr_DIC4\": 0.0, \"[M]_DHADA2_h\": 0.0, \"[M]_ATPPRT_h\": 0.0027897407284700011, \"[M]_CysS_h\": 0.0044612690683774525, \"[M]_Tr_DIC1\": 0.0, \"[B]_DHADA2_h\": 0.025107666556229997, \"[M]_Ex_Asn_c\": 0.0, \"[M]_NGAM_c\": 0.050349979617494899, \"[M]_Ex_Glu_c\": 0.0, \"[M]_Ex_Cys_m\": 0.0, \"[M]_Tr_SCA\": 0.0, \"[M]_GAPDH3_c\": 0.0, \"[B]_Tr_AAC\": 8.4598421543467826, \"[M]_Ex_Asn_m\": 0.0, \"[M]_NGAM_m\": 0.0091111872455015702, \"[M]_GMPS_c\": 0.0, \"[B]_Si_H_m\": 17.219160659797645, \"[M]_Tr_Ile2\": -2.9019132470045796e-18, \"[B]_GluDH1NAD_m\": -0.32221505413828805, \"[B]_F6PK2_c\": 0.0, \"[M]_3IPMDH_h\": -5.9974797123383517e-19, \"[B]_Si_H_h\": 39.000035026036784, \"[B]_HisalPDH_h\": 0.0, \"[M]_Tr_Pi\": 0.0, \"[MB]_Mal_c\": 36.251609684625677, \"[B]_cplx5_m\": 8.4689533415922806, \"[M]_ANTS_h\": -2.394024979329691e-18, \"[B]_Si_H_c\": 28.005975012112973, \"[B]_Tr_Gln\": 0.0, \"[M]_PPIase_c\": 0.0, \"[M]_Tr_Pyr_H_hc\": 40.069743518196674, \"[B]_Tr_pGlc\": 0.0, \"[B]_MetAdT_c\": 0.0, \"[M]_GCAO_h\": 0.0, \"[B]_Tr_Gly\": 2.6639644081193904e-18, \"[B]_HEXK_c\": 0.0, \"[B]_Tr_His1\": 0.0, \"[B]_ThrS_h\": 0.0, \"[M]_Tr_NDT2\": -4.2252638846172596e-16, \"[B]_DAHPS_h\": 0.018133314735054779, \"[B]_cplx1_m\": 2.5406860024776843, \"[B]_Ex_His_m\": 0.0, \"[M]_DHODH_m\": 0.0, \"[M]_AOrnAGluAcT_h\": 0.011158962913880726, \"[M]_iCitDHNADP_h\": 0.0, \"[B]_MalDH3_h\": 0.0, \"[M]_iCitDHNADP_m\": 0.0, \"[M]_Ex_Trp_h\": 0.0, \"[B]_SO3R_h\": 0.00042077720644504877, \"[M]_iCitDHNADP_c\": 0.0, \"[M]_Tr_P5C2\": -7.4402135871783505e-16, \"[M]_GlyHMT_c\": -0.0044612690683774516, \"[B]_cplx3_m\": 2.5406860024776838, \"[M]_Tr_P5C1\": 6.0837154719522314e-15, \"[B]_ThrDA_h\": 0.0083692221854100059, \"[M]_Ex_Trp_p\": 0.0, \"[M]_DCAMPS_h\": 0.0027897407284700015, \"[M]_Ex_Glu_h\": 0.0, \"[B]_PGR5PGRL12_h\": 0.0, \"[B]_Ex_Ile_h\": 0.0, \"[M]_CAT_h\": 0.0, \"[B]_Ex_Ile_m\": 0.0, \"[B]_Si_H_p\": 0.0, \"[B]_Tr_OAA\": 2.6639644081193904e-18, \"[B]_Ex_Ile_p\": 0.0, \"[M]_CHRM_h\": 2.2006948003467506e-16, \"[M]_Ex_Trp_c\": 0.0, \"[M]_CAT_p\": 0.0, \"[B]_NO2R_h\": 0.0, \"[B]_Ex_Ser_p\": 0.0, \"[M]_Tr_TPT3\": 5.77713680437191, \"[B]_P5CDHNAD_m\": 0.0, \"[M]_AGNDA_h\": 0.0, \"[M]_Ex_Trp_m\": 0.0, \"[B]_P5CDHNAD_h\": 0.0, \"[M]_Ex_Thr_c\": 0.0, \"[B]_SCASeADH_m\": 0.0}, \"enable_editing\": false, \"gene_data\": null, \"metabolite_data\": null, \"fill_screen\": false, \"enable_keys\": false, \"menu\": \"zoom\", \"scroll_behavior\": \"none\", \"ignore_bootstrap\": true, \"never_ask_before_quit\": true}'),\n",
       "               builder_embed_css: JSON.parse('null'),\n",
       "               map_data: JSON.parse('[{\"map_name\":\"new_map\",\"map_id\":\"cPBjQ56p0ATA\",\"map_description\":\"\\\\nLast Modified Mon Jul 30 2018 11:42:21 GMT+0200 (CEST)\",\"homepage\":\"https://escher.github.io\",\"schema\":\"https://escher.github.io/escher/jsonschema/1-0-0#\"},{\"reactions\":{\"3\":{\"name\":\"Import CO2\",\"bigg_id\":\"[M]_Im_CO2\",\"reversibility\":false,\"label_x\":1300.6845092773438,\"label_y\":-978.7737426757812,\"gene_reaction_rule\":\"\",\"genes\":[],\"metabolites\":[{\"bigg_id\":\"[M]_CO2_c\",\"coefficient\":1}],\"segments\":{\"9\":{\"from_node_id\":\"13\",\"to_node_id\":\"14\",\"b1\":null,\"b2\":null},\"10\":{\"from_node_id\":\"15\",\"to_node_id\":\"14\",\"b1\":null,\"b2\":null},\"11\":{\"from_node_id\":\"15\",\"to_node_id\":\"12\",\"b1\":{\"x\":1285.6845092773438,\"y\":-926.7737426757812},\"b2\":{\"x\":1289.6665649414062,\"y\":-378.75006103515625}}}},\"8\":{\"name\":\"HCO3 dehydratase\",\"bigg_id\":\"[M]_HCO3DHA_c\",\"reversibility\":false,\"label_x\":1304.6665649414062,\"label_y\":-135.00006103515625,\"gene_reaction_rule\":\"\",\"genes\":[],\"metabolites\":[{\"bigg_id\":\"[M]_CO2_c\",\"coefficient\":-1},{\"bigg_id\":\"[M]_H2O_c\",\"coefficient\":-1},{\"bigg_id\":\"[M]_HCO3_c\",\"coefficient\":1},{\"bigg_id\":\"[M]_H_c\",\"coefficient\":1}],\"segments\":{\"36\":{\"from_node_id\":\"40\",\"to_node_id\":\"41\",\"b1\":null,\"b2\":null},\"37\":{\"from_node_id\":\"42\",\"to_node_id\":\"41\",\"b1\":null,\"b2\":null},\"38\":{\"from_node_id\":\"40\",\"to_node_id\":\"12\",\"b1\":{\"x\":1289.6665649414062,\"y\":-207.00006103515625},\"b2\":{\"x\":1289.6665649414062,\"y\":-261.25006103515625}},\"40\":{\"from_node_id\":\"42\",\"to_node_id\":\"44\",\"b1\":{\"x\":1289.6665649414062,\"y\":-83.00006103515625},\"b2\":{\"x\":1289.6665649414062,\"y\":-28.75006103515625}}}},\"10\":{\"name\":\"PEP carboxylase\",\"bigg_id\":\"[M]_PEPC2_c\",\"reversibility\":true,\"label_x\":1422.7590942382812,\"label_y\":77.27912712097168,\"gene_reaction_rule\":\"\",\"genes\":[],\"metabolites\":[{\"bigg_id\":\"[M]_HCO3_c\",\"coefficient\":1},{\"bigg_id\":\"[M]_OAA_c\",\"coefficient\":-1},{\"bigg_id\":\"[M]_PEP_c\",\"coefficient\":1},{\"bigg_id\":\"[M]_Pi_c\",\"coefficient\":-1}],\"segments\":{\"48\":{\"from_node_id\":\"52\",\"to_node_id\":\"53\",\"b1\":null,\"b2\":null},\"49\":{\"from_node_id\":\"54\",\"to_node_id\":\"53\",\"b1\":null,\"b2\":null},\"50\":{\"from_node_id\":\"54\",\"to_node_id\":\"44\",\"b1\":{\"x\":1404.1141737571454,\"y\":10.721262307582037},\"b2\":{\"x\":1417.7417602539062,\"y\":29.9779634475708}},\"51\":{\"from_node_id\":\"52\",\"to_node_id\":\"55\",\"b1\":{\"x\":1285.7354632437239,\"y\":214.6221250124529},\"b2\":{\"x\":1284.9165649414062,\"y\":216.66662979125977}},\"52\":{\"from_node_id\":\"54\",\"to_node_id\":\"56\",\"b1\":{\"x\":1320.831744884119,\"y\":173.91463554749566},\"b2\":{\"x\":1338.1442260742188,\"y\":174.44183349609375}}}},\"11\":{\"name\":\"Mal dehydrogenase\",\"bigg_id\":\"[M]_MalDH1_c\",\"reversibility\":true,\"label_x\":1297.1358032226562,\"label_y\":550.7036323547363,\"gene_reaction_rule\":\"\",\"genes\":[],\"metabolites\":[{\"bigg_id\":\"[M]_H_c\",\"coefficient\":1},{\"bigg_id\":\"[M]_Mal_c\",\"coefficient\":-1},{\"bigg_id\":\"[M]_NADH_c\",\"coefficient\":1},{\"bigg_id\":\"[M]_NAD_c\",\"coefficient\":-1},{\"bigg_id\":\"[M]_OAA_c\",\"coefficient\":1}],\"segments\":{\"54\":{\"from_node_id\":\"58\",\"to_node_id\":\"59\",\"b1\":null,\"b2\":null},\"55\":{\"from_node_id\":\"60\",\"to_node_id\":\"59\",\"b1\":null,\"b2\":null},\"57\":{\"from_node_id\":\"58\",\"to_node_id\":\"62\",\"b1\":{\"x\":1287.6666870117188,\"y\":600.3332710266113},\"b2\":{\"x\":1288.2583618164062,\"y\":655.1749458312988}},\"60\":{\"from_node_id\":\"60\",\"to_node_id\":\"55\",\"b1\":{\"x\":1287.6666870117188,\"y\":476.3332710266113},\"b2\":{\"x\":1287.6666870117188,\"y\":422.0832710266113}}}},\"12\":{\"name\":\"Dicarboxylate transporter\",\"bigg_id\":\"[M]_Tr_DIT1_OAA\",\"reversibility\":true,\"label_x\":976.897114103185,\"label_y\":328.4692601131612,\"gene_reaction_rule\":\"\",\"genes\":[],\"metabolites\":[{\"bigg_id\":\"[M]_Mal_c\",\"coefficient\":1},{\"bigg_id\":\"[M]_Mal_h\",\"coefficient\":-1},{\"bigg_id\":\"[M]_OAA_c\",\"coefficient\":-1},{\"bigg_id\":\"[M]_OAA_h\",\"coefficient\":1}],\"segments\":{\"61\":{\"from_node_id\":\"65\",\"to_node_id\":\"66\",\"b1\":null,\"b2\":null},\"62\":{\"from_node_id\":\"67\",\"to_node_id\":\"66\",\"b1\":null,\"b2\":null},\"63\":{\"from_node_id\":\"67\",\"to_node_id\":\"62\",\"b1\":{\"x\":1104.434084619332,\"y\":597.4528029043886},\"b2\":{\"x\":1210.3419189453125,\"y\":713.5545539855957}},\"64\":{\"from_node_id\":\"65\",\"to_node_id\":\"69\",\"b1\":{\"x\":1104.913831981156,\"y\":469.4537019604029},\"b2\":{\"x\":1007.6513479511395,\"y\":367.39463617939714}},\"65\":{\"from_node_id\":\"65\",\"to_node_id\":\"55\",\"b1\":{\"x\":1104.8988398760982,\"y\":473.4536738649029},\"b2\":{\"x\":1228.9166870117188,\"y\":363.3332710266113}},\"66\":{\"from_node_id\":\"67\",\"to_node_id\":\"70\",\"b1\":{\"x\":1104.4190925142746,\"y\":601.4527748088888},\"b2\":{\"x\":1012.4505061616076,\"y\":721.8936963123499}}}},\"13\":{\"name\":\"Mal dehydrogenase\",\"bigg_id\":\"[M]_MalDH3_h\",\"reversibility\":true,\"label_x\":715.5418291225017,\"label_y\":581.5765275892197,\"gene_reaction_rule\":\"\",\"genes\":[],\"metabolites\":[{\"bigg_id\":\"[M]_H_h\",\"coefficient\":-1},{\"bigg_id\":\"[M]_Mal_h\",\"coefficient\":1},{\"bigg_id\":\"[M]_NADPH_h\",\"coefficient\":-1},{\"bigg_id\":\"[M]_NADP_h\",\"coefficient\":1},{\"bigg_id\":\"[M]_OAA_h\",\"coefficient\":-1}],\"segments\":{\"67\":{\"from_node_id\":\"71\",\"to_node_id\":\"72\",\"b1\":null,\"b2\":null},\"68\":{\"from_node_id\":\"73\",\"to_node_id\":\"72\",\"b1\":null,\"b2\":null},\"70\":{\"from_node_id\":\"73\",\"to_node_id\":\"69\",\"b1\":{\"x\":937.7782182826579,\"y\":475.74583911265717},\"b2\":{\"x\":936.4449052943767,\"y\":425.49583911265717}},\"73\":{\"from_node_id\":\"71\",\"to_node_id\":\"70\",\"b1\":{\"x\":937.7782182826579,\"y\":603.7458391126572},\"b2\":{\"x\":938.4449052943767,\"y\":670.3291521009385}}}},\"16\":{\"name\":\"Asp aminotransferase\",\"bigg_id\":\"[M]_AspAT2_c\",\"reversibility\":true,\"label_x\":3173.9678344726562,\"label_y\":554.1748847961426,\"gene_reaction_rule\":\"\",\"genes\":[],\"metabolites\":[{\"bigg_id\":\"[M]_Ala_c\",\"coefficient\":-1},{\"bigg_id\":\"[M]_Asp_c\",\"coefficient\":1},{\"bigg_id\":\"[M]_OAA_c\",\"coefficient\":-1},{\"bigg_id\":\"[M]_Pyr_c\",\"coefficient\":1}],\"segments\":{\"86\":{\"from_node_id\":\"90\",\"to_node_id\":\"91\",\"b1\":null,\"b2\":null},\"87\":{\"from_node_id\":\"92\",\"to_node_id\":\"91\",\"b1\":null,\"b2\":null},\"88\":{\"from_node_id\":\"90\",\"to_node_id\":\"93\",\"b1\":{\"x\":3158.9678344726562,\"y\":476.0020942687988},\"b2\":{\"x\":3335.6698608398438,\"y\":492.16301345825195}},\"89\":{\"from_node_id\":\"92\",\"to_node_id\":\"94\",\"b1\":{\"x\":3158.5728149414062,\"y\":604.8415718078613},\"b2\":{\"x\":3340.2542114257812,\"y\":610.641040802002}},\"90\":{\"from_node_id\":\"90\",\"to_node_id\":\"55\",\"b1\":{\"x\":3161.9219360351562,\"y\":367.7466926574707},\"b2\":{\"x\":1529.3112182617188,\"y\":361.81987380981445}},\"91\":{\"from_node_id\":\"92\",\"to_node_id\":\"95\",\"b1\":{\"x\":3158.5728149414062,\"y\":608.8415718078613},\"b2\":{\"x\":2989.7009887695312,\"y\":612.0880928039551}}}},\"17\":{\"name\":\"PEP/Pi translocator\",\"bigg_id\":\"[M]_Tr_PPT\",\"reversibility\":true,\"label_x\":1042.2079467773438,\"label_y\":94.60987854003909,\"gene_reaction_rule\":\"\",\"genes\":[],\"metabolites\":[{\"bigg_id\":\"[M]_H_c\",\"coefficient\":-1},{\"bigg_id\":\"[M]_H_h\",\"coefficient\":1},{\"bigg_id\":\"[M]_PEP_c\",\"coefficient\":-1},{\"bigg_id\":\"[M]_PEP_h\",\"coefficient\":1},{\"bigg_id\":\"[M]_Pi_c\",\"coefficient\":1},{\"bigg_id\":\"[M]_Pi_h\",\"coefficient\":-1}],\"segments\":{\"92\":{\"from_node_id\":\"96\",\"to_node_id\":\"97\",\"b1\":null,\"b2\":null},\"93\":{\"from_node_id\":\"98\",\"to_node_id\":\"97\",\"b1\":null,\"b2\":null},\"96\":{\"from_node_id\":\"96\",\"to_node_id\":\"56\",\"b1\":{\"x\":1175.9999389648438,\"y\":128.66659545898438},\"b2\":{\"x\":1230.2499389648438,\"y\":128.66659545898438}},\"97\":{\"from_node_id\":\"98\",\"to_node_id\":\"101\",\"b1\":{\"x\":1051.9999389648438,\"y\":128.6665954589844},\"b2\":{\"x\":997.7499389648438,\"y\":128.6665954589844}}}},\"18\":{\"name\":\"Pyr/H+ translocator\",\"bigg_id\":\"[M]_Tr_Pyr_H_hc\",\"reversibility\":true,\"label_x\":1003.2914428710938,\"label_y\":807.9956245422363,\"gene_reaction_rule\":\"\",\"genes\":[],\"metabolites\":[{\"bigg_id\":\"[M]_H_c\",\"coefficient\":-1},{\"bigg_id\":\"[M]_H_h\",\"coefficient\":1},{\"bigg_id\":\"[M]_Pyr_c\",\"coefficient\":-1},{\"bigg_id\":\"[M]_Pyr_h\",\"coefficient\":1}],\"segments\":{\"100\":{\"from_node_id\":\"104\",\"to_node_id\":\"105\",\"b1\":null,\"b2\":null},\"101\":{\"from_node_id\":\"106\",\"to_node_id\":\"105\",\"b1\":null,\"b2\":null},\"104\":{\"from_node_id\":\"104\",\"to_node_id\":\"95\",\"b1\":{\"x\":2911.2495727539062,\"y\":838.5020942687988},\"b2\":{\"x\":2909.8539428710938,\"y\":840.5639228820801}},\"105\":{\"from_node_id\":\"106\",\"to_node_id\":\"109\",\"b1\":{\"x\":1052.7053833007812,\"y\":842.0523262023926},\"b2\":{\"x\":998.4553833007812,\"y\":842.0523262023926}}}},\"19\":{\"name\":\"Pyr phosphate dikinase\",\"bigg_id\":\"[M]_PyrPiDK_h\",\"reversibility\":true,\"label_x\":529.501953125,\"label_y\":493.18254470825195,\"gene_reaction_rule\":\"\",\"genes\":[],\"metabolites\":[{\"bigg_id\":\"[M]_AMP_h\",\"coefficient\":1},{\"bigg_id\":\"[M]_ATP_h\",\"coefficient\":-1},{\"bigg_id\":\"[M]_H_h\",\"coefficient\":2},{\"bigg_id\":\"[M]_PEP_h\",\"coefficient\":1},{\"bigg_id\":\"[M]_PPi_h\",\"coefficient\":1},{\"bigg_id\":\"[M]_Pi_h\",\"coefficient\":-1},{\"bigg_id\":\"[M]_Pyr_h\",\"coefficient\":-1}],\"segments\":{\"106\":{\"from_node_id\":\"110\",\"to_node_id\":\"111\",\"b1\":null,\"b2\":null},\"107\":{\"from_node_id\":\"112\",\"to_node_id\":\"111\",\"b1\":null,\"b2\":null},\"111\":{\"from_node_id\":\"112\",\"to_node_id\":\"101\",\"b1\":{\"x\":773.6394687410274,\"y\":129.17727754133807},\"b2\":{\"x\":774.4884643554688,\"y\":129.04831314086914}},\"114\":{\"from_node_id\":\"110\",\"to_node_id\":\"109\",\"b1\":{\"x\":770.5639003995976,\"y\":845.4735327003611},\"b2\":{\"x\":746.6383666992188,\"y\":848.5609931945801}}}},\"30\":{\"name\":\"[MB]_Mal_c\",\"bigg_id\":\"[MB]_Mal_c\",\"reversibility\":true,\"label_x\":1302.3710327148438,\"label_y\":1375.2666816711426,\"gene_reaction_rule\":\"\",\"genes\":[],\"metabolites\":[{\"bigg_id\":\"[B]_Mal_c\",\"coefficient\":1},{\"bigg_id\":\"[M]_Mal_c\",\"coefficient\":-1}],\"segments\":{\"170\":{\"from_node_id\":\"174\",\"to_node_id\":\"175\",\"b1\":null,\"b2\":null},\"171\":{\"from_node_id\":\"176\",\"to_node_id\":\"175\",\"b1\":null,\"b2\":null},\"172\":{\"from_node_id\":\"176\",\"to_node_id\":\"177\",\"b1\":{\"x\":1291.9885864257812,\"y\":1525.0464668273926},\"b2\":{\"x\":1291.9885864257812,\"y\":1579.2964668273926}},\"173\":{\"from_node_id\":\"174\",\"to_node_id\":\"62\",\"b1\":{\"x\":1288.8482055664062,\"y\":1065.025592803955},\"b2\":{\"x\":1288.2583618164062,\"y\":772.6749458312988}}}},\"31\":{\"name\":\"[MB]_Pyr_c\",\"bigg_id\":\"[MB]_Pyr_c\",\"reversibility\":true,\"label_x\":2810.7168579101562,\"label_y\":1380.08443069458,\"gene_reaction_rule\":\"\",\"genes\":[],\"metabolites\":[{\"bigg_id\":\"[B]_Pyr_c\",\"coefficient\":1},{\"bigg_id\":\"[M]_Pyr_c\",\"coefficient\":-1}],\"segments\":{\"174\":{\"from_node_id\":\"178\",\"to_node_id\":\"179\",\"b1\":null,\"b2\":null},\"175\":{\"from_node_id\":\"180\",\"to_node_id\":\"179\",\"b1\":null,\"b2\":null},\"176\":{\"from_node_id\":\"180\",\"to_node_id\":\"181\",\"b1\":{\"x\":2988.9026489257812,\"y\":1528.0994453430176},\"b2\":{\"x\":2988.9026489257812,\"y\":1582.3494453430176}},\"177\":{\"from_node_id\":\"178\",\"to_node_id\":\"95\",\"b1\":{\"x\":2985.7622680664062,\"y\":1068.07857131958},\"b2\":{\"x\":2989.3306274414062,\"y\":777.8069038391113}}}},\"32\":{\"name\":\"[MB]_Asp_c\",\"bigg_id\":\"[MB]_Asp_c\",\"reversibility\":true,\"label_x\":3139.0067749023438,\"label_y\":1384.6061897277832,\"gene_reaction_rule\":\"\",\"genes\":[],\"metabolites\":[{\"bigg_id\":\"[B]_Asp_c\",\"coefficient\":1},{\"bigg_id\":\"[M]_Asp_c\",\"coefficient\":-1}],\"segments\":{\"178\":{\"from_node_id\":\"182\",\"to_node_id\":\"183\",\"b1\":null,\"b2\":null},\"179\":{\"from_node_id\":\"184\",\"to_node_id\":\"183\",\"b1\":null,\"b2\":null},\"180\":{\"from_node_id\":\"184\",\"to_node_id\":\"185\",\"b1\":{\"x\":3339.7593383789062,\"y\":1526.9877815246582},\"b2\":{\"x\":3339.7593383789062,\"y\":1581.2377815246582}},\"181\":{\"from_node_id\":\"182\",\"to_node_id\":\"94\",\"b1\":{\"x\":3336.6189575195312,\"y\":1066.9669075012207},\"b2\":{\"x\":3338.1416625976562,\"y\":774.6162605285645}}}},\"33\":{\"name\":\"[MB]_Ala_c\",\"bigg_id\":\"[MB]_Ala_c\",\"reversibility\":true,\"label_x\":3400.4382934570312,\"label_y\":1386.5605964660645,\"gene_reaction_rule\":\"\",\"genes\":[],\"metabolites\":[{\"bigg_id\":\"[B]_Ala_c\",\"coefficient\":1},{\"bigg_id\":\"[M]_Ala_c\",\"coefficient\":-1}],\"segments\":{\"182\":{\"from_node_id\":\"186\",\"to_node_id\":\"187\",\"b1\":null,\"b2\":null},\"183\":{\"from_node_id\":\"188\",\"to_node_id\":\"187\",\"b1\":null,\"b2\":null},\"184\":{\"from_node_id\":\"188\",\"to_node_id\":\"189\",\"b1\":{\"x\":3587.2233276367188,\"y\":1522.486011505127},\"b2\":{\"x\":3587.2233276367188,\"y\":1576.736011505127}},\"185\":{\"from_node_id\":\"186\",\"to_node_id\":\"93\",\"b1\":{\"x\":3584.6729125976562,\"y\":347.3707160949707},\"b2\":{\"x\":3616.6533813476562,\"y\":372.2078437805176}}}},\"44\":{\"name\":\"[MB]_PEP_c\",\"bigg_id\":\"[MB]_PEP_c\",\"reversibility\":true,\"label_x\":2576.147402133158,\"label_y\":1381.696127612824,\"gene_reaction_rule\":\"\",\"genes\":[],\"metabolites\":[{\"bigg_id\":\"[B]_PEP_c\",\"coefficient\":1},{\"bigg_id\":\"[M]_PEP_c\",\"coefficient\":-1}],\"segments\":{\"226\":{\"from_node_id\":\"230\",\"to_node_id\":\"231\",\"b1\":null,\"b2\":null},\"227\":{\"from_node_id\":\"232\",\"to_node_id\":\"231\",\"b1\":null,\"b2\":null},\"228\":{\"from_node_id\":\"232\",\"to_node_id\":\"233\",\"b1\":{\"x\":2762.6847789940966,\"y\":1525.9061659803913},\"b2\":{\"x\":2762.091568220075,\"y\":1580.1529225744735}},\"229\":{\"from_node_id\":\"230\",\"to_node_id\":\"56\",\"b1\":{\"x\":2781.0395907019065,\"y\":194.5973715938901},\"b2\":{\"x\":1580.3357543945312,\"y\":129.1154022216797}}}},\"76\":{\"name\":\"Mal dehydrogenase\",\"bigg_id\":\"[B]_MalDH1_c\",\"reversibility\":true,\"label_x\":1324.5901489257812,\"label_y\":1601.498249053955,\"gene_reaction_rule\":\"\",\"genes\":[],\"metabolites\":[{\"bigg_id\":\"[B]_H_c\",\"coefficient\":1},{\"bigg_id\":\"[B]_Mal_c\",\"coefficient\":-1},{\"bigg_id\":\"[B]_NADH_c\",\"coefficient\":1},{\"bigg_id\":\"[B]_NAD_c\",\"coefficient\":-1},{\"bigg_id\":\"[B]_OAA_c\",\"coefficient\":1}],\"segments\":{\"392\":{\"from_node_id\":\"396\",\"to_node_id\":\"397\",\"b1\":null,\"b2\":null},\"393\":{\"from_node_id\":\"398\",\"to_node_id\":\"397\",\"b1\":null,\"b2\":null},\"395\":{\"from_node_id\":\"396\",\"to_node_id\":\"177\",\"b1\":{\"x\":1404.9885864257812,\"y\":1638.0464668273926},\"b2\":{\"x\":1350.7385864257812,\"y\":1638.0464668273926}},\"398\":{\"from_node_id\":\"398\",\"to_node_id\":\"402\",\"b1\":{\"x\":1528.9885864257812,\"y\":1638.0464668273926},\"b2\":{\"x\":1525.0484008789062,\"y\":1637.7168769836426}}}},\"83\":{\"name\":\"PEP carboxylase\",\"bigg_id\":\"[B]_PEPC1_c\",\"reversibility\":false,\"label_x\":2349.4317016601562,\"label_y\":1672.566608428955,\"gene_reaction_rule\":\"\",\"genes\":[],\"metabolites\":[{\"bigg_id\":\"[B]_ADP_c\",\"coefficient\":1},{\"bigg_id\":\"[B]_ATP_c\",\"coefficient\":-1},{\"bigg_id\":\"[B]_CO2_c\",\"coefficient\":1},{\"bigg_id\":\"[B]_OAA_c\",\"coefficient\":-1},{\"bigg_id\":\"[B]_PEP_c\",\"coefficient\":1}],\"segments\":{\"437\":{\"from_node_id\":\"442\",\"to_node_id\":\"443\",\"b1\":null,\"b2\":null},\"438\":{\"from_node_id\":\"444\",\"to_node_id\":\"443\",\"b1\":null,\"b2\":null},\"441\":{\"from_node_id\":\"444\",\"to_node_id\":\"447\",\"b1\":{\"x\":2489.4094848632812,\"y\":1636.402057647705},\"b2\":{\"x\":2478.2905883789062,\"y\":1544.5144844055176}},\"442\":{\"from_node_id\":\"442\",\"to_node_id\":\"402\",\"b1\":{\"x\":2361.4094848632812,\"y\":1636.402057647705},\"b2\":{\"x\":1641.2337036132812,\"y\":1636.402057647705}},\"443\":{\"from_node_id\":\"444\",\"to_node_id\":\"233\",\"b1\":{\"x\":2485.4094848632812,\"y\":1636.402057647705},\"b2\":{\"x\":2700.2982788085938,\"y\":1640.0635566711426}}}},\"84\":{\"name\":\"Asp aminotransferase\",\"bigg_id\":\"[B]_AspAT2_c\",\"reversibility\":true,\"label_x\":3115.0769653320312,\"label_y\":1888.0323371887207,\"gene_reaction_rule\":\"\",\"genes\":[],\"metabolites\":[{\"bigg_id\":\"[B]_Ala_c\",\"coefficient\":-1},{\"bigg_id\":\"[B]_Asp_c\",\"coefficient\":1},{\"bigg_id\":\"[B]_OAA_c\",\"coefficient\":-1},{\"bigg_id\":\"[B]_Pyr_c\",\"coefficient\":1}],\"segments\":{\"444\":{\"from_node_id\":\"449\",\"to_node_id\":\"450\",\"b1\":null,\"b2\":null},\"445\":{\"from_node_id\":\"451\",\"to_node_id\":\"450\",\"b1\":null,\"b2\":null},\"446\":{\"from_node_id\":\"449\",\"to_node_id\":\"189\",\"b1\":{\"x\":3557.2874145507812,\"y\":1825.5853157043457},\"b2\":{\"x\":3511.8794555664062,\"y\":1862.2759895324707}},\"447\":{\"from_node_id\":\"451\",\"to_node_id\":\"185\",\"b1\":{\"x\":3180.1638793945312,\"y\":1751.8238410949707},\"b2\":{\"x\":3295.0317993164062,\"y\":1690.1729621887207}},\"448\":{\"from_node_id\":\"449\",\"to_node_id\":\"402\",\"b1\":{\"x\":2536.1941528320312,\"y\":1829.3939094543457},\"b2\":{\"x\":2119.7681274414062,\"y\":1859.5446662902832}},\"449\":{\"from_node_id\":\"451\",\"to_node_id\":\"181\",\"b1\":{\"x\":3180.1638793945312,\"y\":1747.8238410949707},\"b2\":{\"x\":3045.1724243164062,\"y\":1681.6682014465332}}}},\"87\":{\"name\":\"Mal dehydrogenase\",\"bigg_id\":\"[B]_MalDH4_h\",\"reversibility\":false,\"label_x\":2640.028564453125,\"label_y\":2712.239501953125,\"gene_reaction_rule\":\"\",\"genes\":[],\"metabolites\":[{\"bigg_id\":\"[B]_CO2_h\",\"coefficient\":1},{\"bigg_id\":\"[B]_Mal_h\",\"coefficient\":-1},{\"bigg_id\":\"[B]_NADPH_h\",\"coefficient\":1},{\"bigg_id\":\"[B]_NADP_h\",\"coefficient\":-1},{\"bigg_id\":\"[B]_Pyr_h\",\"coefficient\":1}],\"segments\":{\"464\":{\"from_node_id\":\"471\",\"to_node_id\":\"472\",\"b1\":null,\"b2\":null},\"465\":{\"from_node_id\":\"473\",\"to_node_id\":\"472\",\"b1\":null,\"b2\":null},\"466\":{\"from_node_id\":\"473\",\"to_node_id\":\"474\",\"b1\":{\"x\":2855.9520263671875,\"y\":2648.5093994140625},\"b2\":{\"x\":2877.4688110351562,\"y\":2680.49609375}},\"467\":{\"from_node_id\":\"471\",\"to_node_id\":\"468\",\"b1\":{\"x\":2727.9520263671875,\"y\":2648.5093994140625},\"b2\":{\"x\":2616.004638671875,\"y\":2644.2354736328125}},\"470\":{\"from_node_id\":\"473\",\"to_node_id\":\"470\",\"b1\":{\"x\":2851.9520263671875,\"y\":2648.5093994140625},\"b2\":{\"x\":2935.4591064453125,\"y\":2645.4207763671875}}}},\"95\":{\"name\":\"RuBisCO\",\"bigg_id\":\"[B]_RBC_h\",\"reversibility\":false,\"label_x\":2632.5873413085938,\"label_y\":2924.0968017578125,\"gene_reaction_rule\":\"\",\"genes\":[],\"metabolites\":[{\"bigg_id\":\"[B]_CO2_h\",\"coefficient\":-1},{\"bigg_id\":\"[B]_H2O_h\",\"coefficient\":-1},{\"bigg_id\":\"[B]_H_h\",\"coefficient\":2},{\"bigg_id\":\"[B]_PGA_h\",\"coefficient\":2},{\"bigg_id\":\"[B]_RuBP_h\",\"coefficient\":-1}],\"segments\":{\"510\":{\"from_node_id\":\"517\",\"to_node_id\":\"518\",\"b1\":null,\"b2\":null},\"511\":{\"from_node_id\":\"519\",\"to_node_id\":\"518\",\"b1\":null,\"b2\":null},\"512\":{\"from_node_id\":\"517\",\"to_node_id\":\"474\",\"b1\":{\"x\":2882.6141967773438,\"y\":2879.277587890625},\"b2\":{\"x\":2915.5392456054688,\"y\":2836.5462646484375}},\"515\":{\"from_node_id\":\"519\",\"to_node_id\":\"483\",\"b1\":{\"x\":2437.0637817382812,\"y\":2874.781982421875},\"b2\":{\"x\":2483.9244995117188,\"y\":2876.09521484375}},\"516\":{\"from_node_id\":\"517\",\"to_node_id\":\"491\",\"b1\":{\"x\":2886.6141967773438,\"y\":2879.277587890625},\"b2\":{\"x\":2996.6266479492188,\"y\":3064.286865234375}}}},\"99\":{\"name\":\"R_Tr_Pyr_Mal_hc\",\"bigg_id\":\"[B]_Tr_Pyr_Mal_hc\",\"reversibility\":true,\"label_x\":2697.1073608398438,\"label_y\":2303.01216506958,\"gene_reaction_rule\":\"\",\"genes\":[],\"metabolites\":[{\"bigg_id\":\"[B]_Mal_c\",\"coefficient\":-1},{\"bigg_id\":\"[B]_Mal_h\",\"coefficient\":1},{\"bigg_id\":\"[B]_Pyr_c\",\"coefficient\":1},{\"bigg_id\":\"[B]_Pyr_h\",\"coefficient\":-1}],\"segments\":{\"531\":{\"from_node_id\":\"538\",\"to_node_id\":\"539\",\"b1\":null,\"b2\":null},\"532\":{\"from_node_id\":\"540\",\"to_node_id\":\"539\",\"b1\":null,\"b2\":null},\"533\":{\"from_node_id\":\"538\",\"to_node_id\":\"177\",\"b1\":{\"x\":2986.3092651367188,\"y\":2233.8533515930176},\"b2\":{\"x\":1689.8287963867188,\"y\":1949.23530960083}},\"534\":{\"from_node_id\":\"540\",\"to_node_id\":\"468\",\"b1\":{\"x\":2986.3092651367188,\"y\":2357.8533515930176},\"b2\":{\"x\":2560.3551635742188,\"y\":2502.451374053955}},\"535\":{\"from_node_id\":\"540\",\"to_node_id\":\"181\",\"b1\":{\"x\":2986.3092651367188,\"y\":2361.8533515930176},\"b2\":{\"x\":2991.0866088867188,\"y\":1720.80952835083}},\"536\":{\"from_node_id\":\"538\",\"to_node_id\":\"470\",\"b1\":{\"x\":2986.3092651367188,\"y\":2229.8533515930176},\"b2\":{\"x\":2988.9304809570312,\"y\":2573.52095413208}}}},\"100\":{\"name\":\"Dicarboxylate transporter\",\"bigg_id\":\"[B]_Tr_DTC5\",\"reversibility\":true,\"label_x\":1095.7332153320312,\"label_y\":2308.3377265930176,\"gene_reaction_rule\":\"\",\"genes\":[],\"metabolites\":[{\"bigg_id\":\"[B]_Mal_c\",\"coefficient\":1},{\"bigg_id\":\"[B]_Mal_m\",\"coefficient\":-1},{\"bigg_id\":\"[B]_OAA_c\",\"coefficient\":-1},{\"bigg_id\":\"[B]_OAA_m\",\"coefficient\":1}],\"segments\":{\"537\":{\"from_node_id\":\"544\",\"to_node_id\":\"545\",\"b1\":null,\"b2\":null},\"538\":{\"from_node_id\":\"546\",\"to_node_id\":\"545\",\"b1\":null,\"b2\":null},\"539\":{\"from_node_id\":\"546\",\"to_node_id\":\"177\",\"b1\":{\"x\":1292.0067749023438,\"y\":2297.0144844055176},\"b2\":{\"x\":1291.9871215820312,\"y\":2298.46187210083}},\"540\":{\"from_node_id\":\"544\",\"to_node_id\":\"547\",\"b1\":{\"x\":1292.9518432617188,\"y\":2297.792194366455},\"b2\":{\"x\":1293.4180297851562,\"y\":2310.5777168273926}},\"541\":{\"from_node_id\":\"544\",\"to_node_id\":\"402\",\"b1\":{\"x\":1581.9943237304688,\"y\":2298.9485664367676},\"b2\":{\"x\":1583.2122192382812,\"y\":2298.0974922180176}},\"542\":{\"from_node_id\":\"546\",\"to_node_id\":\"549\",\"b1\":{\"x\":1583.8844604492188,\"y\":2297.75093460083},\"b2\":{\"x\":1581.3598022460938,\"y\":2311.47163772583}}}},\"101\":{\"name\":\"Mal dehydrogenase\",\"bigg_id\":\"[B]_MalDH1_m\",\"reversibility\":true,\"label_x\":1332.4038696289062,\"label_y\":2610.656940460205,\"gene_reaction_rule\":\"\",\"genes\":[],\"metabolites\":[{\"bigg_id\":\"[B]_H_m\",\"coefficient\":1},{\"bigg_id\":\"[B]_Mal_m\",\"coefficient\":-1},{\"bigg_id\":\"[B]_NADH_m\",\"coefficient\":1},{\"bigg_id\":\"[B]_NAD_m\",\"coefficient\":-1},{\"bigg_id\":\"[B]_OAA_m\",\"coefficient\":1}],\"segments\":{\"543\":{\"from_node_id\":\"550\",\"to_node_id\":\"551\",\"b1\":null,\"b2\":null},\"544\":{\"from_node_id\":\"552\",\"to_node_id\":\"551\",\"b1\":null,\"b2\":null},\"546\":{\"from_node_id\":\"550\",\"to_node_id\":\"547\",\"b1\":{\"x\":1401.6730346679688,\"y\":2644.969928741455},\"b2\":{\"x\":1349.3158569335938,\"y\":2644.02339553833}},\"549\":{\"from_node_id\":\"552\",\"to_node_id\":\"549\",\"b1\":{\"x\":1525.6730346679688,\"y\":2644.969928741455},\"b2\":{\"x\":1527.7882690429688,\"y\":2644.969928741455}}}},\"102\":{\"name\":\"Dicarboxylate transporter\",\"bigg_id\":\"[B]_Tr_DIT1_OAA\",\"reversibility\":true,\"label_x\":1940.4468994140625,\"label_y\":2255.3272705078125,\"gene_reaction_rule\":\"\",\"genes\":[],\"metabolites\":[{\"bigg_id\":\"[B]_Mal_c\",\"coefficient\":1},{\"bigg_id\":\"[B]_Mal_h\",\"coefficient\":-1},{\"bigg_id\":\"[B]_OAA_c\",\"coefficient\":-1},{\"bigg_id\":\"[B]_OAA_h\",\"coefficient\":1}],\"segments\":{\"550\":{\"from_node_id\":\"558\",\"to_node_id\":\"559\",\"b1\":null,\"b2\":null},\"551\":{\"from_node_id\":\"560\",\"to_node_id\":\"559\",\"b1\":null,\"b2\":null},\"552\":{\"from_node_id\":\"560\",\"to_node_id\":\"177\",\"b1\":{\"x\":1537.2420654296875,\"y\":2302.404296875},\"b2\":{\"x\":1639.6156005859375,\"y\":2250.03466796875}},\"553\":{\"from_node_id\":\"558\",\"to_node_id\":\"468\",\"b1\":{\"x\":2290.788818359375,\"y\":2295.3272705078125},\"b2\":{\"x\":2188.41552734375,\"y\":2257.1114501953125}},\"554\":{\"from_node_id\":\"558\",\"to_node_id\":\"402\",\"b1\":{\"x\":2291.0347900390625,\"y\":2295.3272705078125},\"b2\":{\"x\":1729.533447265625,\"y\":1809.4456787109375}},\"555\":{\"from_node_id\":\"560\",\"to_node_id\":\"563\",\"b1\":{\"x\":1786.1060791015625,\"y\":2299.573486328125},\"b2\":{\"x\":1822.494384765625,\"y\":2320.561767578125}}}},\"103\":{\"name\":\"Mal dehydrogenase\",\"bigg_id\":\"[B]_MalDH3_h\",\"reversibility\":true,\"label_x\":2076.0760498046875,\"label_y\":2613.8465576171875,\"gene_reaction_rule\":\"\",\"genes\":[],\"metabolites\":[{\"bigg_id\":\"[B]_H_h\",\"coefficient\":-1},{\"bigg_id\":\"[B]_Mal_h\",\"coefficient\":1},{\"bigg_id\":\"[B]_NADPH_h\",\"coefficient\":-1},{\"bigg_id\":\"[B]_NADP_h\",\"coefficient\":1},{\"bigg_id\":\"[B]_OAA_h\",\"coefficient\":-1}],\"segments\":{\"556\":{\"from_node_id\":\"564\",\"to_node_id\":\"565\",\"b1\":null,\"b2\":null},\"557\":{\"from_node_id\":\"566\",\"to_node_id\":\"565\",\"b1\":null,\"b2\":null},\"559\":{\"from_node_id\":\"566\",\"to_node_id\":\"468\",\"b1\":{\"x\":2217.7994384765625,\"y\":2645.3541259765625},\"b2\":{\"x\":2475.23779296875,\"y\":2644.7249755859375}},\"562\":{\"from_node_id\":\"564\",\"to_node_id\":\"563\",\"b1\":{\"x\":2093.7994384765625,\"y\":2645.3541259765625},\"b2\":{\"x\":1876.7786865234375,\"y\":2644.4102783203125}}}},\"104\":{\"name\":\"Mal dehydrogenase\",\"bigg_id\":\"[B]_MalDH1_h\",\"reversibility\":true,\"label_x\":2071.8299560546875,\"label_y\":2837.7935791015625,\"gene_reaction_rule\":\"\",\"genes\":[],\"metabolites\":[{\"bigg_id\":\"[B]_H_h\",\"coefficient\":1},{\"bigg_id\":\"[B]_Mal_h\",\"coefficient\":-1},{\"bigg_id\":\"[B]_NADH_h\",\"coefficient\":1},{\"bigg_id\":\"[B]_NAD_h\",\"coefficient\":-1},{\"bigg_id\":\"[B]_OAA_h\",\"coefficient\":1}],\"segments\":{\"563\":{\"from_node_id\":\"571\",\"to_node_id\":\"572\",\"b1\":null,\"b2\":null},\"564\":{\"from_node_id\":\"573\",\"to_node_id\":\"572\",\"b1\":null,\"b2\":null},\"566\":{\"from_node_id\":\"571\",\"to_node_id\":\"468\",\"b1\":{\"x\":2568.346435546875,\"y\":2787.9945068359375},\"b2\":{\"x\":2555.915283203125,\"y\":2798.6888427734375}},\"569\":{\"from_node_id\":\"573\",\"to_node_id\":\"563\",\"b1\":{\"x\":1809.618896484375,\"y\":2784.2200927734375},\"b2\":{\"x\":1818.7474365234375,\"y\":2791.6116943359375}}}},\"105\":{\"name\":\"Asp aminotransferase\",\"bigg_id\":\"[B]_AspAT2_m\",\"reversibility\":true,\"label_x\":1359.5839233398438,\"label_y\":2772.5432929992676,\"gene_reaction_rule\":\"\",\"genes\":[],\"metabolites\":[{\"bigg_id\":\"[B]_Ala_m\",\"coefficient\":-1},{\"bigg_id\":\"[B]_Asp_m\",\"coefficient\":1},{\"bigg_id\":\"[B]_OAA_m\",\"coefficient\":-1},{\"bigg_id\":\"[B]_Pyr_m\",\"coefficient\":1}],\"segments\":{\"570\":{\"from_node_id\":\"578\",\"to_node_id\":\"579\",\"b1\":null,\"b2\":null},\"571\":{\"from_node_id\":\"580\",\"to_node_id\":\"579\",\"b1\":null,\"b2\":null},\"572\":{\"from_node_id\":\"578\",\"to_node_id\":\"581\",\"b1\":{\"x\":1593.1441111460415,\"y\":2816.922512473858},\"b2\":{\"x\":1583.2286987304688,\"y\":3192.9431953430176}},\"573\":{\"from_node_id\":\"580\",\"to_node_id\":\"582\",\"b1\":{\"x\":1482.1012950041454,\"y\":2818.2003140988945},\"b2\":{\"x\":1497.6403198242188,\"y\":3193.3560371398926}},\"574\":{\"from_node_id\":\"578\",\"to_node_id\":\"549\",\"b1\":{\"x\":1594.166893472417,\"y\":2818.2178148683906},\"b2\":{\"x\":1583.0223999023438,\"y\":2811.8260078430176}},\"575\":{\"from_node_id\":\"580\",\"to_node_id\":\"590\",\"b1\":{\"x\":1478.1014943227085,\"y\":2818.240245399677},\"b2\":{\"x\":1467.0841674804688,\"y\":2817.8892402648926}}}},\"106\":{\"name\":\"Mal dehydrogenase\",\"bigg_id\":\"[B]_MalDH2_m\",\"reversibility\":false,\"label_x\":1057.2401733398438,\"label_y\":2823.68550491333,\"gene_reaction_rule\":\"\",\"genes\":[],\"metabolites\":[{\"bigg_id\":\"[B]_CO2_m\",\"coefficient\":1},{\"bigg_id\":\"[B]_Mal_m\",\"coefficient\":-1},{\"bigg_id\":\"[B]_NADH_m\",\"coefficient\":1},{\"bigg_id\":\"[B]_NAD_m\",\"coefficient\":-1},{\"bigg_id\":\"[B]_Pyr_m\",\"coefficient\":1}],\"segments\":{\"576\":{\"from_node_id\":\"584\",\"to_node_id\":\"585\",\"b1\":null,\"b2\":null},\"577\":{\"from_node_id\":\"586\",\"to_node_id\":\"585\",\"b1\":null,\"b2\":null},\"578\":{\"from_node_id\":\"586\",\"to_node_id\":\"587\",\"b1\":{\"x\":1290.5658569335938,\"y\":2881.02339553833},\"b2\":{\"x\":1290.5658569335938,\"y\":2935.27339553833}},\"579\":{\"from_node_id\":\"584\",\"to_node_id\":\"547\",\"b1\":{\"x\":1290.5658569335938,\"y\":2757.02339553833},\"b2\":{\"x\":1290.5658569335938,\"y\":2702.77339553833}},\"582\":{\"from_node_id\":\"586\",\"to_node_id\":\"590\",\"b1\":{\"x\":1290.5658569335938,\"y\":2820.98677444458},\"b2\":{\"x\":1322.7905883789062,\"y\":2817.447956085205}}}},\"107\":{\"name\":\"CO2 diffusion\",\"bigg_id\":\"[B]_Tr_CO2m\",\"reversibility\":true,\"label_x\":810.4965209960938,\"label_y\":2307.36275100708,\"gene_reaction_rule\":\"\",\"genes\":[],\"metabolites\":[{\"bigg_id\":\"[B]_CO2_c\",\"coefficient\":-1},{\"bigg_id\":\"[B]_CO2_m\",\"coefficient\":1}],\"segments\":{\"583\":{\"from_node_id\":\"591\",\"to_node_id\":\"592\",\"b1\":null,\"b2\":null},\"584\":{\"from_node_id\":\"593\",\"to_node_id\":\"592\",\"b1\":null,\"b2\":null},\"585\":{\"from_node_id\":\"591\",\"to_node_id\":\"447\",\"b1\":{\"x\":1047.8641435324835,\"y\":1472.6182197716075},\"b2\":{\"x\":1046.3784790039062,\"y\":1471.4295234680176}},\"586\":{\"from_node_id\":\"593\",\"to_node_id\":\"587\",\"b1\":{\"x\":1071.4398725807978,\"y\":2997.2749458167714},\"b2\":{\"x\":1197.4758911132812,\"y\":2996.35542678833}}}},\"108\":{\"name\":\"CO2 diffusion\",\"bigg_id\":\"[B]_Tr_CO2h\",\"reversibility\":true,\"label_x\":3133.3099975585938,\"label_y\":2307.3350830078125,\"gene_reaction_rule\":\"\",\"genes\":[],\"metabolites\":[{\"bigg_id\":\"[B]_CO2_c\",\"coefficient\":-1},{\"bigg_id\":\"[B]_CO2_h\",\"coefficient\":1}],\"segments\":{\"587\":{\"from_node_id\":\"595\",\"to_node_id\":\"596\",\"b1\":null,\"b2\":null},\"588\":{\"from_node_id\":\"597\",\"to_node_id\":\"596\",\"b1\":null,\"b2\":null},\"589\":{\"from_node_id\":\"595\",\"to_node_id\":\"447\",\"b1\":{\"x\":3097.9994506835938,\"y\":1478.2550354003906},\"b2\":{\"x\":3097.2362670898438,\"y\":1478.481689453125}},\"590\":{\"from_node_id\":\"597\",\"to_node_id\":\"474\",\"b1\":{\"x\":3031.0409545898438,\"y\":2785.986328125},\"b2\":{\"x\":3050.1347045898438,\"y\":2787.396728515625}}}},\"131\":{\"name\":\"Tr_Asp_mc\",\"bigg_id\":\"[B]_Tr_Asp_mc\",\"reversibility\":true,\"label_x\":1254.9667358398438,\"label_y\":3738.2415351867676,\"gene_reaction_rule\":\"\",\"genes\":[],\"metabolites\":[{\"bigg_id\":\"[B]_Asp_c\",\"coefficient\":1},{\"bigg_id\":\"[B]_Asp_m\",\"coefficient\":-1}],\"segments\":{\"716\":{\"from_node_id\":\"728\",\"to_node_id\":\"729\",\"b1\":null,\"b2\":null},\"717\":{\"from_node_id\":\"730\",\"to_node_id\":\"729\",\"b1\":null,\"b2\":null},\"718\":{\"from_node_id\":\"730\",\"to_node_id\":\"185\",\"b1\":{\"x\":3337.0399780273438,\"y\":3509.9805488586426},\"b2\":{\"x\":3337.0402221679688,\"y\":3822.18208694458}},\"719\":{\"from_node_id\":\"728\",\"to_node_id\":\"582\",\"b1\":{\"x\":1493.7348022460938,\"y\":3812.6458320617676},\"b2\":{\"x\":1495.1290893554688,\"y\":3426.3728828430176}}}},\"132\":{\"name\":\"R_Tr_Ala_mc\",\"bigg_id\":\"[B]_Tr_Ala_mc\",\"reversibility\":true,\"label_x\":1606.4703979492188,\"label_y\":3734.3384590148926,\"gene_reaction_rule\":\"\",\"genes\":[],\"metabolites\":[{\"bigg_id\":\"[B]_Ala_c\",\"coefficient\":-1},{\"bigg_id\":\"[B]_Ala_m\",\"coefficient\":1}],\"segments\":{\"720\":{\"from_node_id\":\"732\",\"to_node_id\":\"733\",\"b1\":null,\"b2\":null},\"721\":{\"from_node_id\":\"734\",\"to_node_id\":\"733\",\"b1\":null,\"b2\":null},\"722\":{\"from_node_id\":\"732\",\"to_node_id\":\"189\",\"b1\":{\"x\":3588.1522827148438,\"y\":3755.6631660461426},\"b2\":{\"x\":3585.3634643554688,\"y\":3750.305866241455}},\"723\":{\"from_node_id\":\"734\",\"to_node_id\":\"581\",\"b1\":{\"x\":1590.0761108398438,\"y\":3764.1245918273926},\"b2\":{\"x\":1585.8931274414062,\"y\":3423.8645820617676}}}},\"134\":{\"name\":\"Pyr kinase\",\"bigg_id\":\"[B]_PyrK_c\",\"reversibility\":false,\"label_x\":2795.5721978974,\"label_y\":1606.111812474027,\"gene_reaction_rule\":\"\",\"genes\":[],\"metabolites\":[{\"bigg_id\":\"[B]_ADP_c\",\"coefficient\":-1},{\"bigg_id\":\"[B]_ATP_c\",\"coefficient\":1},{\"bigg_id\":\"[B]_H_c\",\"coefficient\":-1},{\"bigg_id\":\"[B]_PEP_c\",\"coefficient\":-1},{\"bigg_id\":\"[B]_Pyr_c\",\"coefficient\":1}],\"segments\":{\"731\":{\"from_node_id\":\"742\",\"to_node_id\":\"743\",\"b1\":null,\"b2\":null},\"732\":{\"from_node_id\":\"744\",\"to_node_id\":\"743\",\"b1\":null,\"b2\":null},\"736\":{\"from_node_id\":\"742\",\"to_node_id\":\"233\",\"b1\":{\"x\":2806.652031881775,\"y\":1638.899410130277},\"b2\":{\"x\":2820.1991510224,\"y\":1638.899410130277}},\"737\":{\"from_node_id\":\"744\",\"to_node_id\":\"181\",\"b1\":{\"x\":2934.652031881775,\"y\":1638.899410130277},\"b2\":{\"x\":2916.8221978974,\"y\":1638.1470907943394}}}}},\"nodes\":{\"12\":{\"node_type\":\"metabolite\",\"x\":1289.6665649414062,\"y\":-320.00006103515625,\"bigg_id\":\"[M]_CO2_c\",\"name\":\"CO2\",\"label_x\":1324.351962073744,\"label_y\":-340.41893299433843,\"node_is_primary\":true},\"13\":{\"node_type\":\"multimarker\",\"x\":1285.6845092773438,\"y\":-1008.7737426757812},\"14\":{\"node_type\":\"midmarker\",\"x\":1285.6845092773438,\"y\":-988.7737426757812},\"15\":{\"node_type\":\"multimarker\",\"x\":1285.6845092773438,\"y\":-968.7737426757812},\"40\":{\"node_type\":\"multimarker\",\"x\":1289.6665649414062,\"y\":-165.00006103515625},\"41\":{\"node_type\":\"midmarker\",\"x\":1289.6665649414062,\"y\":-145.00006103515625},\"42\":{\"node_type\":\"multimarker\",\"x\":1289.6665649414062,\"y\":-125.00006103515625},\"44\":{\"node_type\":\"metabolite\",\"x\":1289.6665649414062,\"y\":29.99993896484375,\"bigg_id\":\"[M]_HCO3_c\",\"name\":\"CHO3\",\"label_x\":1310.6665649414062,\"label_y\":7.333271503448486,\"node_is_primary\":true},\"52\":{\"node_type\":\"multimarker\",\"x\":1409.2748762987262,\"y\":211.32401972572646},\"53\":{\"node_type\":\"midmarker\",\"x\":1408.6665649414062,\"y\":191.33327293395996},\"54\":{\"node_type\":\"multimarker\",\"x\":1408.0582535840863,\"y\":171.34252614219335},\"55\":{\"node_type\":\"metabolite\",\"x\":1287.6666870117188,\"y\":363.3332710266113,\"bigg_id\":\"[M]_OAA_c\",\"name\":\"C4H2O5\",\"label_x\":1323.0366577148438,\"label_y\":346.7503852844238,\"node_is_primary\":true},\"56\":{\"node_type\":\"metabolite\",\"x\":1288.9999389648438,\"y\":128.66659545898438,\"bigg_id\":\"[M]_PEP_c\",\"name\":\"C3H2O6P\",\"label_x\":1248.0422729492188,\"label_y\":98.7098388671875,\"node_is_primary\":true},\"58\":{\"node_type\":\"multimarker\",\"x\":1287.6666870117188,\"y\":558.3332710266113},\"59\":{\"node_type\":\"midmarker\",\"x\":1287.6666870117188,\"y\":538.3332710266113},\"60\":{\"node_type\":\"multimarker\",\"x\":1287.6666870117188,\"y\":518.3332710266113},\"62\":{\"node_type\":\"metabolite\",\"x\":1288.2583618164062,\"y\":713.9249458312988,\"bigg_id\":\"[M]_Mal_c\",\"name\":\"C4H4O5\",\"label_x\":1313.2583618164062,\"label_y\":713.9249458312988,\"node_is_primary\":true},\"65\":{\"node_type\":\"multimarker\",\"x\":1104.7414227730005,\"y\":515.4533788621472},\"66\":{\"node_type\":\"midmarker\",\"x\":1104.6664622477163,\"y\":535.4532383846456},\"67\":{\"node_type\":\"multimarker\",\"x\":1104.5915017224293,\"y\":555.453097907144},\"69\":{\"node_type\":\"metabolite\",\"x\":936.4449052943767,\"y\":366.74583911265717,\"bigg_id\":\"[M]_Mal_h\",\"name\":\"C4H4O5\",\"label_x\":810.069819845158,\"label_y\":370.74583911265717,\"node_is_primary\":true},\"70\":{\"node_type\":\"metabolite\",\"x\":939.6578197788833,\"y\":720.7443946164624,\"bigg_id\":\"[M]_OAA_h\",\"name\":\"C4H2O5\",\"label_x\":797.7244457554459,\"label_y\":736.7443946164624,\"node_is_primary\":true},\"71\":{\"node_type\":\"multimarker\",\"x\":937.7782182826579,\"y\":557.7458391126572},\"72\":{\"node_type\":\"midmarker\",\"x\":937.7782182826579,\"y\":537.7458391126572},\"73\":{\"node_type\":\"multimarker\",\"x\":937.7782182826579,\"y\":517.7458391126572},\"90\":{\"node_type\":\"multimarker\",\"x\":3158.9678344726562,\"y\":522.0020942687988},\"91\":{\"node_type\":\"midmarker\",\"x\":3158.9678344726562,\"y\":544.1748847961426},\"92\":{\"node_type\":\"multimarker\",\"x\":3158.5728149414062,\"y\":562.8415718078613},\"93\":{\"node_type\":\"metabolite\",\"x\":3337.4120483398438,\"y\":370.68107986450195,\"bigg_id\":\"[M]_Ala_c\",\"name\":\"C3H7NO2\",\"label_x\":3310.0651245117188,\"label_y\":339.7982063293457,\"node_is_primary\":true},\"94\":{\"node_type\":\"metabolite\",\"x\":3338.1416625976562,\"y\":715.8662605285645,\"bigg_id\":\"[M]_Asp_c\",\"name\":\"C4H6NO4\",\"label_x\":3353.2651977539062,\"label_y\":691.3724250793457,\"node_is_primary\":true},\"95\":{\"node_type\":\"metabolite\",\"x\":2989.3306274414062,\"y\":719.0569038391113,\"bigg_id\":\"[M]_Pyr_c\",\"name\":\"C3H3O3\",\"label_x\":3000.7750854492188,\"label_y\":693.3531684875488,\"node_is_primary\":true},\"96\":{\"node_type\":\"multimarker\",\"x\":1133.9999389648438,\"y\":128.6665954589844},\"97\":{\"node_type\":\"midmarker\",\"x\":1113.9999389648438,\"y\":128.6665954589844},\"98\":{\"node_type\":\"multimarker\",\"x\":1093.9999389648438,\"y\":128.6665954589844},\"101\":{\"node_type\":\"metabolite\",\"x\":938.9999389648438,\"y\":128.66659545898443,\"bigg_id\":\"[M]_PEP_h\",\"name\":\"C3H2O6P\",\"label_x\":901.1999389648438,\"label_y\":168.66659545898443,\"node_is_primary\":true},\"104\":{\"node_type\":\"multimarker\",\"x\":2816.6066284179688,\"y\":842.0523262023926},\"105\":{\"node_type\":\"midmarker\",\"x\":1114.7053833007812,\"y\":842.0523262023926},\"106\":{\"node_type\":\"multimarker\",\"x\":1094.7053833007812,\"y\":842.0523262023926},\"109\":{\"node_type\":\"metabolite\",\"x\":939.7053833007812,\"y\":842.0523262023926,\"bigg_id\":\"[M]_Pyr_h\",\"name\":\"C3H3O3\",\"label_x\":890.6630126953125,\"label_y\":886.7859687805176,\"node_is_primary\":true},\"110\":{\"node_type\":\"multimarker\",\"x\":772.3787003872201,\"y\":500.5207926303535},\"111\":{\"node_type\":\"midmarker\",\"x\":772.3975830078125,\"y\":480.52080154418945},\"112\":{\"node_type\":\"multimarker\",\"x\":772.4164656284049,\"y\":460.5208104580254},\"174\":{\"node_type\":\"multimarker\",\"x\":1288.8482055664062,\"y\":1107.025592803955},\"175\":{\"node_type\":\"midmarker\",\"x\":1291.9885864257812,\"y\":1463.0464668273926},\"176\":{\"node_type\":\"multimarker\",\"x\":1291.9885864257812,\"y\":1483.0464668273926},\"177\":{\"node_type\":\"metabolite\",\"x\":1291.9885864257812,\"y\":1638.0464668273926,\"bigg_id\":\"[B]_Mal_c\",\"name\":\"C4H4O5\",\"label_x\":1169.7308959960938,\"label_y\":1640.6761054992676,\"node_is_primary\":true},\"178\":{\"node_type\":\"multimarker\",\"x\":2985.7622680664062,\"y\":1110.07857131958},\"179\":{\"node_type\":\"midmarker\",\"x\":2988.9026489257812,\"y\":1466.0994453430176},\"180\":{\"node_type\":\"multimarker\",\"x\":2988.9026489257812,\"y\":1486.0994453430176},\"181\":{\"node_type\":\"metabolite\",\"x\":2988.9026489257812,\"y\":1641.0994453430176,\"bigg_id\":\"[B]_Pyr_c\",\"name\":\"C3H3O3\",\"label_x\":2878.8265991210938,\"label_y\":1682.495807647705,\"node_is_primary\":true},\"182\":{\"node_type\":\"multimarker\",\"x\":3336.6189575195312,\"y\":1108.9669075012207},\"183\":{\"node_type\":\"midmarker\",\"x\":3339.7593383789062,\"y\":1464.9877815246582},\"184\":{\"node_type\":\"multimarker\",\"x\":3339.7593383789062,\"y\":1484.9877815246582},\"185\":{\"node_type\":\"metabolite\",\"x\":3339.7593383789062,\"y\":1639.9877815246582,\"bigg_id\":\"[B]_Asp_c\",\"name\":\"C4H6NO4\",\"label_x\":3345.0130004882812,\"label_y\":1683.7119026184082,\"node_is_primary\":true},\"186\":{\"node_type\":\"multimarker\",\"x\":3584.0829467773438,\"y\":1104.4651374816895},\"187\":{\"node_type\":\"midmarker\",\"x\":3587.2233276367188,\"y\":1460.486011505127},\"188\":{\"node_type\":\"multimarker\",\"x\":3587.2233276367188,\"y\":1480.486011505127},\"189\":{\"node_type\":\"metabolite\",\"x\":3587.2233276367188,\"y\":1635.486011505127,\"bigg_id\":\"[B]_Ala_c\",\"name\":\"C3H7NO2\",\"label_x\":3612.2233276367188,\"label_y\":1675.595630645752,\"node_is_primary\":true},\"230\":{\"node_type\":\"multimarker\",\"x\":2760.4410485212625,\"y\":1107.8901944322583},\"231\":{\"node_type\":\"midmarker\",\"x\":2763.362734164408,\"y\":1463.9098727300116},\"232\":{\"node_type\":\"multimarker\",\"x\":2763.1440389481786,\"y\":1483.9086770043273},\"233\":{\"node_type\":\"metabolite\",\"x\":2761.4491510224,\"y\":1638.899410130277,\"bigg_id\":\"[B]_PEP_c\",\"name\":\"C3H2O6P\",\"label_x\":2724.9795221161503,\"label_y\":1683.7076376693394,\"node_is_primary\":true},\"396\":{\"node_type\":\"multimarker\",\"x\":1446.9885864257812,\"y\":1638.0464668273926},\"397\":{\"node_type\":\"midmarker\",\"x\":1466.9885864257812,\"y\":1638.0464668273926},\"398\":{\"node_type\":\"multimarker\",\"x\":1486.9885864257812,\"y\":1638.0464668273926},\"402\":{\"node_type\":\"metabolite\",\"x\":1582.4837036132812,\"y\":1636.402057647705,\"bigg_id\":\"[B]_OAA_c\",\"name\":\"C4H2O5\",\"label_x\":1542.0540649414063,\"label_y\":1606.7176094055176,\"node_is_primary\":true},\"442\":{\"node_type\":\"multimarker\",\"x\":2403.4094848632812,\"y\":1636.402057647705},\"443\":{\"node_type\":\"midmarker\",\"x\":2423.4094848632812,\"y\":1636.402057647705},\"444\":{\"node_type\":\"multimarker\",\"x\":2443.4094848632812,\"y\":1636.402057647705},\"447\":{\"node_type\":\"metabolite\",\"x\":2479.2601928710938,\"y\":1474.2293281555176,\"bigg_id\":\"[B]_CO2_c\",\"name\":\"CO2\",\"label_x\":2503.5758422851563,\"label_y\":1451.1131172180176,\"node_is_primary\":true},\"449\":{\"node_type\":\"multimarker\",\"x\":3180.1638793945312,\"y\":1833.8238410949707},\"450\":{\"node_type\":\"midmarker\",\"x\":3180.1638793945312,\"y\":1813.8238410949707},\"451\":{\"node_type\":\"multimarker\",\"x\":3180.1638793945312,\"y\":1793.8238410949707},\"468\":{\"node_type\":\"metabolite\",\"x\":2557.254638671875,\"y\":2644.2354736328125,\"bigg_id\":\"[B]_Mal_h\",\"name\":\"C4H4O5\",\"label_x\":2581.18212890625,\"label_y\":2620.6953125,\"node_is_primary\":true},\"470\":{\"node_type\":\"metabolite\",\"x\":2990.5491943359375,\"y\":2644.2545166015625,\"bigg_id\":\"[B]_Pyr_h\",\"name\":\"C3H3O3\",\"label_x\":2963.0924072265625,\"label_y\":2695.6025390625,\"node_is_primary\":true},\"471\":{\"node_type\":\"multimarker\",\"x\":2769.9520263671875,\"y\":2648.5093994140625},\"472\":{\"node_type\":\"midmarker\",\"x\":2789.9520263671875,\"y\":2648.5093994140625},\"473\":{\"node_type\":\"multimarker\",\"x\":2809.9520263671875,\"y\":2648.5093994140625},\"474\":{\"node_type\":\"metabolite\",\"x\":2991.3847045898438,\"y\":2787.396728515625,\"bigg_id\":\"[B]_CO2_h\",\"name\":\"CO2\",\"label_x\":2964.9905639648437,\"label_y\":2845.26123046875,\"node_is_primary\":true},\"483\":{\"node_type\":\"metabolite\",\"x\":2407.30029296875,\"y\":2874.866943359375,\"bigg_id\":\"[B]_PGA_h\",\"name\":\"C3H4O7P\",\"label_x\":2271.1439697265623,\"label_y\":2881.5244140625,\"node_is_primary\":true},\"491\":{\"node_type\":\"metabolite\",\"x\":2989.6767578125,\"y\":3153.792236328125,\"bigg_id\":\"[B]_RuBP_h\",\"name\":\"C5H8O11P2\",\"label_x\":3022.277099609375,\"label_y\":3162.3876953125,\"node_is_primary\":true},\"517\":{\"node_type\":\"multimarker\",\"x\":2840.6141967773438,\"y\":2879.277587890625},\"518\":{\"node_type\":\"midmarker\",\"x\":2820.6141967773438,\"y\":2879.277587890625},\"519\":{\"node_type\":\"multimarker\",\"x\":2800.6141967773438,\"y\":2879.277587890625},\"538\":{\"node_type\":\"multimarker\",\"x\":2986.3092651367188,\"y\":2275.8533515930176},\"539\":{\"node_type\":\"midmarker\",\"x\":2986.3092651367188,\"y\":2295.8533515930176},\"540\":{\"node_type\":\"multimarker\",\"x\":2986.3092651367188,\"y\":2315.8533515930176},\"544\":{\"node_type\":\"multimarker\",\"x\":1437.9448852539062,\"y\":2295.60200881958},\"545\":{\"node_type\":\"midmarker\",\"x\":1435.1012573242188,\"y\":2296.454792022705},\"546\":{\"node_type\":\"multimarker\",\"x\":1436.9970092773438,\"y\":2297.3074531555176},\"547\":{\"node_type\":\"metabolite\",\"x\":1290.5658569335938,\"y\":2644.02339553833,\"bigg_id\":\"[B]_Mal_m\",\"name\":\"C4H4O5\",\"label_x\":1157.2743530273438,\"label_y\":2650.658405303955,\"node_is_primary\":true},\"549\":{\"node_type\":\"metabolite\",\"x\":1582.3945922851562,\"y\":2643.2093086242676,\"bigg_id\":\"[B]_OAA_m\",\"name\":\"C4H2O5\",\"label_x\":1611.3456420898438,\"label_y\":2652.3565254211426,\"node_is_primary\":true},\"550\":{\"node_type\":\"multimarker\",\"x\":1443.6730346679688,\"y\":2644.969928741455},\"551\":{\"node_type\":\"midmarker\",\"x\":1463.6730346679688,\"y\":2644.969928741455},\"552\":{\"node_type\":\"multimarker\",\"x\":1483.6730346679688,\"y\":2644.969928741455},\"558\":{\"node_type\":\"multimarker\",\"x\":1970.4468994140625,\"y\":2295.3272705078125},\"559\":{\"node_type\":\"midmarker\",\"x\":1990.4468994140625,\"y\":2295.3272705078125},\"560\":{\"node_type\":\"multimarker\",\"x\":2010.4468994140625,\"y\":2295.3272705078125},\"563\":{\"node_type\":\"metabolite\",\"x\":1818.0286865234375,\"y\":2644.4102783203125,\"bigg_id\":\"[B]_OAA_h\",\"name\":\"C4H2O5\",\"label_x\":1839.56943359375,\"label_y\":2618.6732177734375,\"node_is_primary\":true},\"564\":{\"node_type\":\"multimarker\",\"x\":2135.7994384765625,\"y\":2645.3541259765625},\"565\":{\"node_type\":\"midmarker\",\"x\":2155.7994384765625,\"y\":2645.3541259765625},\"566\":{\"node_type\":\"multimarker\",\"x\":2175.7994384765625,\"y\":2645.3541259765625},\"571\":{\"node_type\":\"multimarker\",\"x\":2182.87646484375,\"y\":2788.6236572265625},\"572\":{\"node_type\":\"midmarker\",\"x\":2162.87646484375,\"y\":2788.6236572265625},\"573\":{\"node_type\":\"multimarker\",\"x\":2142.87646484375,\"y\":2788.6236572265625},\"578\":{\"node_type\":\"multimarker\",\"x\":1564.0972089735876,\"y\":2817.3817224328563},\"579\":{\"node_type\":\"midmarker\",\"x\":1544.0982055664062,\"y\":2817.5813789367676},\"580\":{\"node_type\":\"multimarker\",\"x\":1524.099202159225,\"y\":2817.781035440679},\"581\":{\"node_type\":\"metabolite\",\"x\":1585.8931274414062,\"y\":3365.1145820617676,\"bigg_id\":\"[B]_Ala_m\",\"name\":\"C3H7NO2\",\"label_x\":1612.2485961914062,\"label_y\":3370.6297187805176,\"node_is_primary\":true},\"582\":{\"node_type\":\"metabolite\",\"x\":1495.1290893554688,\"y\":3367.6228828430176,\"bigg_id\":\"[B]_Asp_m\",\"name\":\"C4H6NO4\",\"label_x\":1360.6655883789062,\"label_y\":3373.2732734680176,\"node_is_primary\":true},\"584\":{\"node_type\":\"multimarker\",\"x\":1290.5658569335938,\"y\":2799.02339553833},\"585\":{\"node_type\":\"midmarker\",\"x\":1290.5658569335938,\"y\":2819.02339553833},\"586\":{\"node_type\":\"multimarker\",\"x\":1290.5658569335938,\"y\":2839.02339553833},\"587\":{\"node_type\":\"metabolite\",\"x\":1290.5658569335938,\"y\":2994.02339553833,\"bigg_id\":\"[B]_CO2_m\",\"name\":\"CO2\",\"label_x\":1306.0503540039062,\"label_y\":3052.37398147583,\"node_is_primary\":true},\"590\":{\"node_type\":\"metabolite\",\"x\":1401.4198608398438,\"y\":2818.55171585083,\"bigg_id\":\"[B]_Pyr_m\",\"name\":\"C3H3O3\",\"label_x\":1345.5322875976562,\"label_y\":2859.22456741333,\"node_is_primary\":true},\"591\":{\"node_type\":\"multimarker\",\"x\":1046.1943089173585,\"y\":1472.9092479875703},\"592\":{\"node_type\":\"midmarker\",\"x\":1049.3782348632812,\"y\":2996.947956085205},\"593\":{\"node_type\":\"multimarker\",\"x\":1069.3779567076415,\"y\":2997.0534366437773},\"595\":{\"node_type\":\"multimarker\",\"x\":3098.3270874023438,\"y\":1478.5565185546875},\"596\":{\"node_type\":\"midmarker\",\"x\":3093.0409545898438,\"y\":2785.986328125},\"597\":{\"node_type\":\"multimarker\",\"x\":3073.0409545898438,\"y\":2785.986328125},\"684\":{\"node_type\":\"multimarker\",\"x\":653.9961395263672,\"y\":3648.4940185546875},\"728\":{\"node_type\":\"multimarker\",\"x\":1493.7348022460938,\"y\":3854.6458320617676},\"729\":{\"node_type\":\"midmarker\",\"x\":1493.7348022460938,\"y\":3874.6458320617676},\"730\":{\"node_type\":\"multimarker\",\"x\":3337.0399780273438,\"y\":3869.5474433898926},\"732\":{\"node_type\":\"multimarker\",\"x\":3586.7577514648438,\"y\":3825.2095527648926},\"733\":{\"node_type\":\"midmarker\",\"x\":1590.0761108398438,\"y\":3826.1245918273926},\"734\":{\"node_type\":\"multimarker\",\"x\":1590.0761108398438,\"y\":3806.1245918273926},\"742\":{\"node_type\":\"multimarker\",\"x\":2848.652031881775,\"y\":1638.899410130277},\"743\":{\"node_type\":\"midmarker\",\"x\":2868.652031881775,\"y\":1638.899410130277},\"744\":{\"node_type\":\"multimarker\",\"x\":2888.652031881775,\"y\":1638.899410130277}},\"text_labels\":{},\"canvas\":{\"x\":-1559,\"y\":-1379,\"width\":6207.264892578125,\"height\":6713.53173828125}}]'),\n",
       "               model_data: JSON.parse('null'),\n",
       "               static_site_index: JSON.parse('null'),\n",
       "           };\n",
       "       }\n",
       "   })();\n",
       "  </script>\n"
      ],
      "text/plain": [
       "<IPython.core.display.HTML object>"
      ]
     },
     "metadata": {},
     "output_type": "display_data"
    }
   ],
   "source": [
    "#Display snippet of the flux distribution using Escher map\n",
    "for exp, exp_name in D_exp.items():\n",
    "    display(HTML('<h1>%s</h1>' %exp_name))\n",
    "    b = Builder(map_json='../data/2018-06-29-mb-C4-Map-Decarb-Enzymes.json',reaction_data=D_pfba[exp].to_dict())\n",
    "    display(b.display_in_notebook(height=1000))"
   ]
  }
 ],
 "metadata": {
  "anaconda-cloud": {},
  "kernelspec": {
   "display_name": "Python 3 (ipykernel)",
   "language": "python",
   "name": "python3"
  },
  "language_info": {
   "codemirror_mode": {
    "name": "ipython",
    "version": 3
   },
   "file_extension": ".py",
   "mimetype": "text/x-python",
   "name": "python",
   "nbconvert_exporter": "python",
   "pygments_lexer": "ipython3",
   "version": "3.8.10"
  },
  "latex_envs": {
   "LaTeX_envs_menu_present": true,
   "autoclose": false,
   "autocomplete": true,
   "bibliofile": "biblio.bib",
   "cite_by": "apalike",
   "current_citInitial": 1,
   "eqLabelWithNumbers": true,
   "eqNumInitial": 1,
   "hotkeys": {
    "equation": "Ctrl-E",
    "itemize": "Ctrl-I"
   },
   "labels_anchors": false,
   "latex_user_defs": false,
   "report_style_numbering": false,
   "user_envs_cfg": false
  },
  "varInspector": {
   "cols": {
    "lenName": 16,
    "lenType": 16,
    "lenVar": 40
   },
   "kernels_config": {
    "python": {
     "delete_cmd_postfix": "",
     "delete_cmd_prefix": "del ",
     "library": "var_list.py",
     "varRefreshCmd": "print(var_dic_list())"
    },
    "r": {
     "delete_cmd_postfix": ") ",
     "delete_cmd_prefix": "rm(",
     "library": "var_list.r",
     "varRefreshCmd": "cat(var_dic_list()) "
    }
   },
   "types_to_exclude": [
    "module",
    "function",
    "builtin_function_or_method",
    "instance",
    "_Feature"
   ],
   "window_display": false
  }
 },
 "nbformat": 4,
 "nbformat_minor": 1
}
