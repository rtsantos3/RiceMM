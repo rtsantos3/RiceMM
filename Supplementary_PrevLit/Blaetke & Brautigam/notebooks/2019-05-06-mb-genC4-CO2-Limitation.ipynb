{
 "cells": [
  {
   "cell_type": "markdown",
   "metadata": {
    "run_control": {
     "marked": true
    }
   },
   "source": [
    "# Effect of CO2 limitation on the C4 mode\n"
   ]
  },
  {
   "cell_type": "markdown",
   "metadata": {
    "run_control": {
     "marked": true
    }
   },
   "source": [
    "## 0. Initialization"
   ]
  },
  {
   "cell_type": "code",
   "execution_count": 1,
   "metadata": {
    "ExecuteTime": {
     "end_time": "2019-05-06T14:05:22.551206Z",
     "start_time": "2019-05-06T16:05:20.353672+02:00"
    },
    "collapsed": false,
    "run_control": {
     "marked": true
    }
   },
   "outputs": [
    {
     "name": "stderr",
     "output_type": "stream",
     "text": [
      "//anaconda/lib/python2.7/site-packages/cryptography/hazmat/primitives/constant_time.py:26 \u001b[1;31mCryptographyDeprecationWarning\u001b[0m: Support for your Python version is deprecated. The next version of cryptography will remove support. Please upgrade to a 2.7.x release that supports hmac.compare_digest as soon as possible.\n"
     ]
    },
    {
     "data": {
      "text/html": [
       "        <script type=\"text/javascript\">\n",
       "        window.PlotlyConfig = {MathJaxConfig: 'local'};\n",
       "        if (window.MathJax) {MathJax.Hub.Config({SVG: {font: \"STIX-Web\"}});}\n",
       "        if (typeof require !== 'undefined') {\n",
       "        require.undef(\"plotly\");\n",
       "        requirejs.config({\n",
       "            paths: {\n",
       "                'plotly': ['https://cdn.plot.ly/plotly-latest.min']\n",
       "            }\n",
       "        });\n",
       "        require(['plotly'], function(Plotly) {\n",
       "            window._Plotly = Plotly;\n",
       "        });\n",
       "        }\n",
       "        </script>\n",
       "        "
      ]
     },
     "metadata": {},
     "output_type": "display_data"
    }
   ],
   "source": [
    "#Import sys\n",
    "import sys \n",
    "sys.path.append(\"../src/\") \n",
    "\n",
    "#Import init for initialisation & loading user-defined functions\n",
    "from init_fba import *\n",
    "\n",
    "#Initialize notebook settings\n",
    "theNotebook = '2019-05-06-mb-genC4-CO2-Limitation'\n",
    "init_notebook(theNotebook)\n",
    "\n",
    "#load sbml model\n",
    "c3_model = load_sbml_model()"
   ]
  },
  {
   "cell_type": "markdown",
   "metadata": {
    "run_control": {
     "marked": true
    }
   },
   "source": [
    "## 1. C3 Model"
   ]
  },
  {
   "cell_type": "markdown",
   "metadata": {
    "ExecuteTime": {
     "end_time": "2017-06-20T12:42:07.597174",
     "start_time": "2017-06-20T12:42:07.594879"
    },
    "run_control": {
     "marked": true
    }
   },
   "source": [
    "### 1.1 Constraints"
   ]
  },
  {
   "cell_type": "code",
   "execution_count": 2,
   "metadata": {
    "ExecuteTime": {
     "end_time": "2019-05-06T14:05:22.574168Z",
     "start_time": "2019-05-06T16:05:22.552893+02:00"
    },
    "collapsed": false,
    "run_control": {
     "marked": true
    }
   },
   "outputs": [],
   "source": [
    "#CONSTRAINT: Set flux of all export reaction to zero\n",
    "for r_obj in c3_model.reactions:\n",
    "    r_id = r_obj.id\n",
    "    if r_id[0:2] == \"Ex\":\n",
    "        r_obj.bounds = (0.,0.)\n",
    "\n",
    "#CONSTRAINT: Divergent fluxes of export and import reactions\n",
    "set_bounds('Im_CO2', (-inf, inf), c3_model)\n",
    "set_bounds('Im_H2O', (-inf, inf), c3_model)\n",
    "set_bounds('Im_H2S', (0.,0.), c3_model)\n",
    "set_bounds('Im_NH4', (0., 0.), c3_model)\n",
    "set_bounds('Im_NO3', (0., inf), c3_model)\n",
    "set_bounds('Im_Pi', (0., inf), c3_model)\n",
    "set_bounds('Im_SO4', (0., inf), c3_model)\n",
    "set_bounds('Ex_O2', (-inf, inf), c3_model)\n",
    "set_bounds('Ex_Suc', (0., inf), c3_model)\n",
    "set_bounds('Ex_starch', (0., inf), c3_model)\n",
    "set_bounds('Ex_AA', (0., inf), c3_model)\n",
    "\n",
    "#CONSTRAINT: \n",
    "set_bounds('G6PDH_h', (0.,0.), c3_model)\n",
    "set_bounds('PPIF6PK_c', (0,0.), c3_model)\n",
    "\n",
    "#CONSTRAINT: max. photon consumption auf C4 plants 1000 μE\n",
    "set_bounds('Im_hnu', (0, 1000), c3_model)\n",
    "\n",
    "#CONSTRAINT: CO2 uptake rate in C4 plants is higher, about 40 μmol/(m2*s)\n",
    "f_CO2 = 40 #[μmol/(m2*s)] \n",
    "set_bounds('Im_CO2', (0, f_CO2), c3_model)"
   ]
  },
  {
   "cell_type": "code",
   "execution_count": 3,
   "metadata": {
    "ExecuteTime": {
     "end_time": "2019-05-06T14:05:22.580116Z",
     "start_time": "2019-05-06T16:05:22.576096+02:00"
    },
    "code_folding": [],
    "collapsed": false,
    "run_control": {
     "marked": true
    }
   },
   "outputs": [],
   "source": [
    "#CONSTRAINT: Maintenace cost\n",
    "\n",
    "atp_cost_L3_m = 0.009111187245501572 #Mitochondria-L3-ATP Cost [µmol*s-1*m-2]\n",
    "atp_cost_L3_h = 0.15270708327974447 #Chloroplast-L3-ATP Cost [µmol*s-1*m-2]\n",
    "atp_cost_L3_p = 0.0076669066992201855 #Peroxisome-L3-ATP Cost [µmol*s-1*m-2]\n",
    "atp_cost_L3_c = 0.042683072918274702 #Cytosl/Other-L3-ATP Cost [µmol*s-1*m-2]\n",
    "\n",
    "set_fixed_flux('NGAM_c',atp_cost_L3_c + atp_cost_L3_p, c3_model)\n",
    "set_fixed_flux('NGAM_m',atp_cost_L3_m, c3_model)\n",
    "set_fixed_flux('NGAM_h',atp_cost_L3_h, c3_model)"
   ]
  },
  {
   "cell_type": "code",
   "execution_count": 4,
   "metadata": {
    "ExecuteTime": {
     "end_time": "2019-05-06T14:05:22.585200Z",
     "start_time": "2019-05-06T16:05:22.581673+02:00"
    },
    "collapsed": true,
    "run_control": {
     "marked": true
    }
   },
   "outputs": [],
   "source": [
    "#CONSTRAINT: fluxes through the chloroplastic NADPH dehydrogenase and plastoquinol oxidase were set to zero \n",
    "#because the contributions of NADPH dehydrogenase (Yamamoto et al., 2011) and plastoquinol oxidase \n",
    "#(Josse et al., 2000) to photosynthesis are thought to be minor.\n",
    "set_bounds('AOX4_h',(0,0), c3_model)\n",
    "set_bounds('iCitDHNADP_h',(0,0), c3_model)"
   ]
  },
  {
   "cell_type": "code",
   "execution_count": 5,
   "metadata": {
    "ExecuteTime": {
     "end_time": "2019-05-06T14:05:22.589903Z",
     "start_time": "2019-05-06T16:05:22.587439+02:00"
    },
    "collapsed": false,
    "run_control": {
     "marked": true
    }
   },
   "outputs": [],
   "source": [
    "#CONSTRAINT: NTT is only active at night\n",
    "set_fixed_flux('Tr_NTT',0, c3_model)"
   ]
  },
  {
   "cell_type": "code",
   "execution_count": 6,
   "metadata": {
    "ExecuteTime": {
     "end_time": "2019-05-06T14:05:22.594810Z",
     "start_time": "2019-05-06T16:05:22.591587+02:00"
    },
    "collapsed": true,
    "run_control": {
     "marked": true
    }
   },
   "outputs": [],
   "source": [
    "#CONSTRAINT: No uncoupled pyruvate transport\n",
    "set_bounds('Tr_Pyr1',(0,0), c3_model)\n",
    "set_bounds('Tr_Pyr2',(0,0), c3_model)"
   ]
  },
  {
   "cell_type": "markdown",
   "metadata": {
    "run_control": {
     "marked": true
    }
   },
   "source": [
    "## 2. C4 Model"
   ]
  },
  {
   "cell_type": "markdown",
   "metadata": {
    "run_control": {
     "marked": true
    }
   },
   "source": [
    "### 2.1 Compose Model"
   ]
  },
  {
   "cell_type": "markdown",
   "metadata": {
    "ExecuteTime": {
     "end_time": "2018-02-06T17:46:39.521620+01:00",
     "start_time": "2018-02-06T17:46:39.518672"
    },
    "run_control": {
     "marked": true
    }
   },
   "source": [
    "#### 2.1.1 Two copies of genC3 model and exchange reactions"
   ]
  },
  {
   "cell_type": "code",
   "execution_count": 7,
   "metadata": {
    "ExecuteTime": {
     "end_time": "2019-05-06T14:05:23.530378Z",
     "start_time": "2019-05-06T16:05:22.596453+02:00"
    },
    "collapsed": false,
    "hide_input": false,
    "run_control": {
     "marked": true
    }
   },
   "outputs": [],
   "source": [
    "c4_model = cobra.Model('c4_model')\n",
    "\n",
    "cell_types = ['M', 'B']\n",
    "\n",
    "#duplicate metabolites\n",
    "for m in c3_model.metabolites:\n",
    "    for cell in cell_types:\n",
    "        m_dt = cobra.Metabolite('['+cell+']_'+m.id, name = m.formula, compartment = m.compartment)\n",
    "        c4_model.add_metabolites([m_dt])\n",
    "\n",
    "#duplicate reactions\n",
    "for r_c3_obj in c3_model.reactions:\n",
    "    for cell in cell_types:\n",
    "        r_c4_obj = cobra.Reaction('['+cell+']_'+r_c3_obj.id)\n",
    "        r_c4_obj.name = r_c3_obj.name\n",
    "        r_c4_obj.subsystem = r_c3_obj.subsystem\n",
    "        r_c4_obj.bounds = r_c3_obj.bounds\n",
    "        c4_model.add_reaction(r_c4_obj)\n",
    "        r_c4_obj.add_metabolites({'['+cell+']_'+m_c3_obj.id: r_c3_obj.get_coefficient(m_c3_obj) for m_c3_obj in r_c3_obj.metabolites})\n",
    "        \n",
    "        \n",
    "#metabolites excluded from M/BS exchange\n",
    "no_transport = ['NO3','NO2', 'O2','Na', 'H2S', 'SO4',\n",
    "                'H2O','FBP','F26BP','DPGA','H','ACD','AC','M_DASH_THF', '5M_DASH_THF', 'H_DASH_Cys', 'aH_DASH_Cys', 'ORO', 'DHO',\n",
    "                'GABA','A_DASH_Ser','PRPP','AD','THF','DHF','ADN','Mas','CoA','GluP',\n",
    "                'A_DASH_CoA','cellulose1','cellulose2','cellulose3','starch1',\n",
    "                'starch2','starch3','TRXox','TRXrd','Glu_DASH_SeA','T6P','aMet',\n",
    "                'PPi', 'P5C', 'NH4', 'Pi', 'CO2', 'OAA','HCO3', \n",
    "                'UTP', 'UDP', 'UDPG', 'ATP', 'ADP', 'AMP', 'IMP', 'XMP', \n",
    "                'GTP', 'GDP', 'GMP', 'OMP', 'UMP', 'CTP', 'GDP', 'CDP', 'dADP', \n",
    "                'dCDP', 'dGDP', 'dUDP', 'dUTP', 'dUMP', 'dTMP', 'dTDP', 'GTP', \n",
    "                'dATP', 'dCTP', 'dGTP', 'dTTP', 'NAD', 'NADH', 'NADP', 'NADPH']\n",
    "\n",
    "#add M/BS exchange reactions\n",
    "L_r_transport = []\n",
    "for m_c3_obj in c3_model.metabolites:\n",
    "    if m_c3_obj.id[-1:] == 'c' and m_c3_obj.id[:-2] not in no_transport:\n",
    "        r_c4_obj = cobra.Reaction('[MB]_'+m_c3_obj.id)\n",
    "        r_c4_obj.name = '[MB]_'+m_c3_obj.id\n",
    "        r_c4_obj.subsystem = 'Exchange'\n",
    "        r_c4_obj.bounds = (-inf, inf)\n",
    "        c4_model.add_reaction(r_c4_obj)\n",
    "        r_c4_obj.add_metabolites({'[M]_'+m_c3_obj.id: -1,'[B]_'+m_c3_obj.id: 1 })\n",
    "        L_r_transport.append('[MB]_'+m_c3_obj.id)"
   ]
  },
  {
   "cell_type": "markdown",
   "metadata": {
    "ExecuteTime": {
     "end_time": "2018-02-06T17:47:11.482156+01:00",
     "start_time": "2018-02-06T17:47:11.480023"
    },
    "run_control": {
     "marked": true
    }
   },
   "source": [
    "#### 2.1.2 Adaptations for second unconstrained rubisco population in the bundle sheath"
   ]
  },
  {
   "cell_type": "code",
   "execution_count": 8,
   "metadata": {
    "ExecuteTime": {
     "end_time": "2019-05-06T14:05:23.549293Z",
     "start_time": "2019-05-06T16:05:23.531785+02:00"
    },
    "collapsed": false,
    "run_control": {
     "marked": true
    }
   },
   "outputs": [],
   "source": [
    "#CONSTRAINT: Add external CO2 species in bundle sheat\n",
    "#(the original CO2 species is treated as internal CO2)\n",
    "m_list_CO_Ex= ['[B]_CO2_ex_c','[B]_CO2_ex_h','[B]_CO2_ex_m']\n",
    "\n",
    "for m_id in m_list_CO_Ex:\n",
    "    m_obj = cobra.Metabolite(m_id)\n",
    "    c4_model.add_metabolites(m_obj)\n",
    "\n",
    "#CONSTRAINT: Copy all reactions using internal CO2 and exchange internal with external CO2 in the copied recactions\n",
    "r_list_CO_Ex = ['Tr_CO2h', 'RBC_h']\n",
    "\n",
    "for r_id in r_list_CO_Ex:\n",
    "    r_obj = c4_model.reactions.get_by_id('[B]_'+r_id)\n",
    "    r_obj_Ex = cobra.Reaction(r_obj.id+'_Ex')\n",
    "    r_obj_Ex.name = r_obj.id+'_Ex'\n",
    "    r_obj_Ex.subsystem = r_obj.subsystem\n",
    "    r_obj_Ex.bounds = r_obj.bounds\n",
    "    c4_model.add_reaction(r_obj_Ex)\n",
    "    r_obj_Ex.add_metabolites({m_obj.id if not m_obj.id[:-2] == '[B]_CO2' else '[B]_CO2_ex'+m_obj.id[-2:]: r_obj.get_coefficient(m_obj) \n",
    "                                  for m_obj in r_obj.metabolites})\n",
    "\n",
    "#CONSTRAINT: CO2 exchange between mesophyll and bundle sheat\n",
    "r_c4_obj = cobra.Reaction('[MB]_CO2_c')\n",
    "r_c4_obj.name = '[MB]_CO2_c'\n",
    "r_c4_obj.subsystem = 'Exchange'\n",
    "r_c4_obj.bounds = (-inf, inf)\n",
    "c4_model.add_reaction(r_c4_obj)\n",
    "r_c4_obj.add_metabolites({'[M]_CO2_c': -1,'[B]_CO2_ex_c': 1 })\n",
    "L_r_transport.append('[MB]_CO2_c')"
   ]
  },
  {
   "cell_type": "markdown",
   "metadata": {
    "run_control": {
     "marked": true
    }
   },
   "source": [
    "### 2.3 Constraints"
   ]
  },
  {
   "cell_type": "code",
   "execution_count": 9,
   "metadata": {
    "ExecuteTime": {
     "end_time": "2019-05-06T14:05:23.554545Z",
     "start_time": "2019-05-06T16:05:23.551461+02:00"
    },
    "collapsed": true,
    "run_control": {
     "marked": true
    }
   },
   "outputs": [],
   "source": [
    "#CONSTRAINT: No CO2 uptake in bundle sheat cells due to suberin layer in cell membranes\n",
    "set_fixed_flux('[B]_Im_CO2',0, c4_model)"
   ]
  },
  {
   "cell_type": "code",
   "execution_count": 10,
   "metadata": {
    "ExecuteTime": {
     "end_time": "2019-05-06T14:05:23.576736Z",
     "start_time": "2019-05-06T16:05:23.556182+02:00"
    },
    "collapsed": false,
    "run_control": {
     "marked": true
    }
   },
   "outputs": [
    {
     "data": {
      "text/plain": [
       "<optlang.glpk_interface.Constraint at 0x106817090>"
      ]
     },
     "execution_count": 10,
     "metadata": {},
     "output_type": "execute_result"
    }
   ],
   "source": [
    "#CONSTRAINT: Output of sucrose : total amino acid and sucrose : starch\n",
    "set_fixed_flux_ratio({'[B]_Ex_Suc':2.2,'[B]_Ex_AA':1.0}, c4_model)\n",
    "set_fixed_flux_ratio({'[B]_Ex_Suc':1.0,'[B]_Ex_starch':1.0}, c4_model)\n",
    "\n",
    "set_fixed_flux_ratio({'[M]_Ex_Suc':2.2,'[M]_Ex_AA':1.0}, c4_model)\n",
    "set_fixed_flux_ratio({'[M]_Ex_Suc':1.0,'[M]_Ex_starch':1.0}, c4_model)"
   ]
  },
  {
   "cell_type": "code",
   "execution_count": 11,
   "metadata": {
    "ExecuteTime": {
     "end_time": "2019-05-06T14:05:23.586480Z",
     "start_time": "2019-05-06T16:05:23.578358+02:00"
    },
    "collapsed": false,
    "run_control": {
     "marked": true
    }
   },
   "outputs": [],
   "source": [
    "#Reaction variables for light uptake\n",
    "B_Im_hnu = c4_model.reactions.get_by_id(\"[B]_Im_hnu\")\n",
    "M_Im_hnu = c4_model.reactions.get_by_id(\"[M]_Im_hnu\")\n",
    "\n",
    "#CONSTRAINT: Total Photon uptake limited to 1000 µE\n",
    "const_hnu_sum = c4_model.problem.Constraint( B_Im_hnu.flux_expression + M_Im_hnu.flux_expression,\n",
    "                                        lb = 0, ub = 1000)\n",
    "\n",
    "c4_model.add_cons_vars(const_hnu_sum)\n",
    "\n",
    "#CONSTRAINT: Total Photon uptake by bundle sheath must be less equal than in mesophyll\n",
    "const_hnu_ratio = c4_model.problem.Constraint( M_Im_hnu.flux_expression - B_Im_hnu.flux_expression,\n",
    "                                        lb = 0, ub = 1000)\n",
    "\n",
    "c4_model.add_cons_vars(const_hnu_ratio)"
   ]
  },
  {
   "cell_type": "code",
   "execution_count": 12,
   "metadata": {
    "ExecuteTime": {
     "end_time": "2019-05-06T14:05:23.599183Z",
     "start_time": "2019-05-06T16:05:23.588444+02:00"
    },
    "collapsed": false,
    "run_control": {
     "marked": true
    }
   },
   "outputs": [
    {
     "data": {
      "text/plain": [
       "<optlang.glpk_interface.Constraint at 0x118441fd0>"
      ]
     },
     "execution_count": 12,
     "metadata": {},
     "output_type": "execute_result"
    }
   ],
   "source": [
    "#CONSTRAINT: oxygenation : carboxylation = 1 : 3\n",
    "set_fixed_flux_ratio({'[B]_RBC_h_Ex':3,'[B]_RBO_h':1}, c4_model)\n",
    "set_fixed_flux_ratio({'[M]_RBC_h':3,'[M]_RBO_h':1}, c4_model)"
   ]
  },
  {
   "cell_type": "markdown",
   "metadata": {
    "run_control": {
     "marked": true
    }
   },
   "source": [
    "## 3 FBA"
   ]
  },
  {
   "cell_type": "code",
   "execution_count": 13,
   "metadata": {
    "ExecuteTime": {
     "end_time": "2019-05-06T14:05:33.285382Z",
     "start_time": "2019-05-06T16:05:23.600987+02:00"
    },
    "collapsed": false,
    "run_control": {
     "marked": true
    }
   },
   "outputs": [],
   "source": [
    "#Dictionary defining the experiments according to the CO2-limitation\n",
    "D_exp = {value: value for value in np.arange(0,41,5)}\n",
    "\n",
    "#Reaction Variables\n",
    "B_Ex_Suc = c4_model.reactions.get_by_id(\"[B]_Ex_Suc\")\n",
    "B_RBO = c4_model.reactions.get_by_id(\"[B]_RBO_h\")\n",
    "M_RBO = c4_model.reactions.get_by_id(\"[M]_RBO_h\")\n",
    "M_Im_CO2 = c4_model.reactions.get_by_id(\"[M]_Im_CO2\")\n",
    "\n",
    "#Set FBA solver\n",
    "c4_model.solver = \"glpk\"\n",
    "\n",
    "#Initialize dictionary to store results\n",
    "D_fba={}\n",
    "\n",
    "#Run every FBA experiment\n",
    "\n",
    "for value in sorted(D_exp.keys()): #iterate over proportions of carboxylation\n",
    "    \n",
    "    #Add CO2-limitation constraint \n",
    "    const_CO2 = c4_model.problem.Constraint( M_Im_CO2.flux_expression,\n",
    "                                        lb = value, ub = value)\n",
    "    c4_model.add_cons_vars(const_CO2)\n",
    "    \n",
    "    #Optimize/Maximize sucrose output\n",
    "    B_Ex_Suc.objective_coefficient = 1.\n",
    "    c4_model_copy = c4_model.copy()\n",
    "    result_fba = c4_model_copy.optimize('maximize')\n",
    "    del c4_model_copy\n",
    "    c4_model.objective =[]\n",
    "    set_fixed_flux(B_Ex_Suc.id,result_fba.fluxes[B_Ex_Suc.id], c4_model)\n",
    "    \n",
    "    #Optimize/Minimize oxygenation rate by rubisco (set True)\n",
    "    if True:\n",
    "            B_RBO.objective_coefficient = 1.\n",
    "            M_RBO.objective_coefficient = 1.\n",
    "            c4_model_copy = c4_model.copy()\n",
    "            result_fba = c4_model_copy.optimize('minimize')\n",
    "            del c4_model_copy\n",
    "            c4_model.objective =[]\n",
    "            set_fixed_flux(B_RBO.id,result_fba.fluxes[B_RBO.id],c4_model)            \n",
    "            set_fixed_flux(M_RBO.id,result_fba.fluxes[M_RBO.id],c4_model)\n",
    "    \n",
    "        \n",
    "    #Optimize/Minimize total flux\n",
    "    if result_fba.status == 'optimal': \n",
    "        c4_model_copy = c4_model.copy()\n",
    "        result_pfba = cobra.flux_analysis.parsimonious.pfba(c4_model_copy)\n",
    "        D_fba[value] = result_pfba.fluxes\n",
    "        del c4_model_copy \n",
    "    \n",
    "    #Reset reaction bounds\n",
    "    set_bounds(B_RBO.id,(0,inf),c4_model)\n",
    "    set_bounds(M_RBO.id,(0,inf),c4_model)\n",
    "    set_bounds(B_Ex_Suc.id,(0,inf),c4_model)\n",
    "\n",
    "    #Remove CO2-limitation constraint\n",
    "    c4_model.remove_cons_vars(const_CO2)"
   ]
  },
  {
   "cell_type": "markdown",
   "metadata": {
    "ExecuteTime": {
     "end_time": "2018-02-06T17:54:23.611334+01:00",
     "start_time": "2018-02-06T17:54:23.609194"
    },
    "run_control": {
     "marked": true
    }
   },
   "source": [
    "## 4 Figures"
   ]
  },
  {
   "cell_type": "code",
   "execution_count": 14,
   "metadata": {
    "ExecuteTime": {
     "end_time": "2019-05-06T14:05:33.289258Z",
     "start_time": "2019-05-06T16:05:33.286823+02:00"
    },
    "collapsed": true,
    "run_control": {
     "marked": true
    }
   },
   "outputs": [],
   "source": [
    "xaxis_title = 'CO2 Uptake [µmol/s/m2]'\n",
    "save_fig = False"
   ]
  },
  {
   "cell_type": "code",
   "execution_count": 15,
   "metadata": {
    "ExecuteTime": {
     "end_time": "2019-05-06T14:05:33.524986Z",
     "start_time": "2019-05-06T16:05:33.291074+02:00"
    },
    "collapsed": false,
    "run_control": {
     "marked": true
    }
   },
   "outputs": [
    {
     "data": {
      "application/vnd.plotly.v1+json": {
       "config": {
        "linkText": "Export to plot.ly",
        "plotlyServerURL": "https://plot.ly",
        "showLink": false
       },
       "data": [
        {
         "marker": {
          "color": "rgb(8,81,156)"
         },
         "name": "Bundle sheath",
         "type": "bar",
         "uid": "9e8e6fe8-ec9f-4c1f-b96c-93411dd9f384",
         "x": [
          0,
          5,
          10,
          15,
          20,
          25,
          30,
          35,
          40
         ],
         "y": [
          0.1973029584269913,
          26.113924700273262,
          52.048319653454705,
          77.99008381574713,
          103.93184797804034,
          129.87361214033427,
          155.80991258651926,
          181.74534752453167,
          207.68078246255024
         ]
        },
        {
         "marker": {
          "color": "rgb(166,54,3)"
         },
         "name": "Mesophyll",
         "type": "bar",
         "uid": "234858b2-0241-4678-b907-d4ad0eee1492",
         "x": [
          0,
          5,
          10,
          15,
          20,
          25,
          30,
          35,
          40
         ],
         "y": [
          0.1973029584269913,
          26.113924700273262,
          52.048319653454705,
          77.99008381574713,
          103.93184797804034,
          129.87361214033427,
          155.80991258651926,
          181.74534752453167,
          207.68078246255024
         ]
        }
       ],
       "layout": {
        "barmode": "stack",
        "height": 400,
        "margin": {
         "b": 100
        },
        "title": {
         "text": "Photon Uptake"
        },
        "width": 600,
        "xaxis": {
         "tickangle": 45,
         "title": {
          "text": "CO2 Uptake [µmol/s/m2]"
         }
        },
        "yaxis": {
         "autorange": true,
         "title": {
          "text": "Flux [µmol/s/m2]"
         }
        }
       }
      },
      "text/html": [
       "<div>\n",
       "        \n",
       "        \n",
       "            <div id=\"18e27714-a6da-416b-a185-1d0f309757d8\" class=\"plotly-graph-div\"></div>\n",
       "            <script type=\"text/javascript\">\n",
       "                require([\"plotly\"], function(Plotly) {\n",
       "                    window.PLOTLYENV=window.PLOTLYENV || {};\n",
       "                    window.PLOTLYENV.BASE_URL='https://plot.ly';\n",
       "                    \n",
       "                if (document.getElementById(\"18e27714-a6da-416b-a185-1d0f309757d8\")) {\n",
       "                    Plotly.newPlot(\n",
       "                        '18e27714-a6da-416b-a185-1d0f309757d8',\n",
       "                        [{\"marker\": {\"color\": \"rgb(8,81,156)\"}, \"name\": \"Bundle sheath\", \"type\": \"bar\", \"uid\": \"6a6112d1-0eca-4260-8a19-e99c070e8a4a\", \"x\": [0, 5, 10, 15, 20, 25, 30, 35, 40], \"y\": [0.1973029584269913, 26.113924700273262, 52.048319653454705, 77.99008381574713, 103.93184797804034, 129.87361214033427, 155.80991258651926, 181.74534752453167, 207.68078246255024]}, {\"marker\": {\"color\": \"rgb(166,54,3)\"}, \"name\": \"Mesophyll\", \"type\": \"bar\", \"uid\": \"1183c394-4c0a-4482-bdaa-2de3fb1a663d\", \"x\": [0, 5, 10, 15, 20, 25, 30, 35, 40], \"y\": [0.1973029584269913, 26.113924700273262, 52.048319653454705, 77.99008381574713, 103.93184797804034, 129.87361214033427, 155.80991258651926, 181.74534752453167, 207.68078246255024]}],\n",
       "                        {\"barmode\": \"stack\", \"height\": 400, \"margin\": {\"b\": 100}, \"title\": {\"text\": \"Photon Uptake\"}, \"width\": 600, \"xaxis\": {\"tickangle\": 45, \"title\": {\"text\": \"CO2 Uptake [\\u00b5mol/s/m2]\"}}, \"yaxis\": {\"autorange\": true, \"title\": {\"text\": \"Flux [\\u00b5mol/s/m2]\"}}},\n",
       "                        {\"plotlyServerURL\": \"https://plot.ly\", \"linkText\": \"Export to plot.ly\", \"showLink\": false}\n",
       "                    )\n",
       "                };\n",
       "                });\n",
       "            </script>\n",
       "        </div>"
      ]
     },
     "metadata": {},
     "output_type": "display_data"
    }
   ],
   "source": [
    "create_bar_plot_rxn(D_fba, D_exp,\n",
    "                    {'[M]_Im_hnu':'Mesophyll','[B]_Im_hnu': 'Bundle sheath'},\n",
    "                    'Photon Uptake', xaxis_title,\n",
    "                    stacked = True, save_fig=save_fig)"
   ]
  },
  {
   "cell_type": "code",
   "execution_count": 16,
   "metadata": {
    "ExecuteTime": {
     "end_time": "2019-05-06T14:05:33.889486Z",
     "start_time": "2019-05-06T16:05:33.526506+02:00"
    },
    "collapsed": false,
    "run_control": {
     "marked": true
    }
   },
   "outputs": [
    {
     "data": {
      "application/vnd.plotly.v1+json": {
       "config": {
        "linkText": "Export to plot.ly",
        "plotlyServerURL": "https://plot.ly",
        "showLink": false
       },
       "data": [
        {
         "marker": {
          "color": "rgb(8,81,156)"
         },
         "name": "Bundle sheath",
         "type": "bar",
         "uid": "3f65ac0d-f3b9-4680-a2df-9e4196d98394",
         "x": [
          0,
          5,
          10,
          15,
          20,
          25,
          30,
          35,
          40
         ],
         "y": [
          0.035676700117797826,
          9.14256687281591,
          18.229107581860216,
          27.311437314268744,
          36.39376704667789,
          45.476096779087605,
          54.55530438800613,
          63.63401742082591,
          72.71273045364971
         ]
        },
        {
         "marker": {
          "color": "rgb(166,54,3)"
         },
         "name": "Mesophyll",
         "type": "bar",
         "uid": "90ece9f2-0f9f-4c94-bebe-281c061fc02a",
         "x": [
          0,
          5,
          10,
          15,
          20,
          25,
          30,
          35,
          40
         ],
         "y": [
          0.035676700117797853,
          12.122307354577826,
          24.229287472691677,
          36.340478567440044,
          48.45166966218917,
          60.56286075693902,
          72.67717397517752,
          84.79198176951064,
          96.90678956385032
         ]
        }
       ],
       "layout": {
        "barmode": "stack",
        "height": 400,
        "margin": {
         "b": 100
        },
        "title": {
         "text": "Photon Uptake by PSII"
        },
        "width": 600,
        "xaxis": {
         "tickangle": 45,
         "title": {
          "text": "CO2 Uptake [µmol/s/m2]"
         }
        },
        "yaxis": {
         "autorange": true,
         "title": {
          "text": "Flux [µmol/s/m2]"
         }
        }
       }
      },
      "text/html": [
       "<div>\n",
       "        \n",
       "        \n",
       "            <div id=\"d76481b9-4a58-4e17-abff-c8f185c4e85d\" class=\"plotly-graph-div\"></div>\n",
       "            <script type=\"text/javascript\">\n",
       "                require([\"plotly\"], function(Plotly) {\n",
       "                    window.PLOTLYENV=window.PLOTLYENV || {};\n",
       "                    window.PLOTLYENV.BASE_URL='https://plot.ly';\n",
       "                    \n",
       "                if (document.getElementById(\"d76481b9-4a58-4e17-abff-c8f185c4e85d\")) {\n",
       "                    Plotly.newPlot(\n",
       "                        'd76481b9-4a58-4e17-abff-c8f185c4e85d',\n",
       "                        [{\"marker\": {\"color\": \"rgb(8,81,156)\"}, \"name\": \"Bundle sheath\", \"type\": \"bar\", \"uid\": \"1eb57715-6d56-4913-b2ce-105efe0ba268\", \"x\": [0, 5, 10, 15, 20, 25, 30, 35, 40], \"y\": [0.035676700117797826, 9.14256687281591, 18.229107581860216, 27.311437314268744, 36.39376704667789, 45.476096779087605, 54.55530438800613, 63.63401742082591, 72.71273045364971]}, {\"marker\": {\"color\": \"rgb(166,54,3)\"}, \"name\": \"Mesophyll\", \"type\": \"bar\", \"uid\": \"82e62f84-5475-4b7f-8743-ba3854e53ce1\", \"x\": [0, 5, 10, 15, 20, 25, 30, 35, 40], \"y\": [0.035676700117797853, 12.122307354577826, 24.229287472691677, 36.340478567440044, 48.45166966218917, 60.56286075693902, 72.67717397517752, 84.79198176951064, 96.90678956385032]}],\n",
       "                        {\"barmode\": \"stack\", \"height\": 400, \"margin\": {\"b\": 100}, \"title\": {\"text\": \"Photon Uptake by PSII\"}, \"width\": 600, \"xaxis\": {\"tickangle\": 45, \"title\": {\"text\": \"CO2 Uptake [\\u00b5mol/s/m2]\"}}, \"yaxis\": {\"autorange\": true, \"title\": {\"text\": \"Flux [\\u00b5mol/s/m2]\"}}},\n",
       "                        {\"plotlyServerURL\": \"https://plot.ly\", \"linkText\": \"Export to plot.ly\", \"showLink\": false}\n",
       "                    )\n",
       "                };\n",
       "                });\n",
       "            </script>\n",
       "        </div>"
      ]
     },
     "metadata": {},
     "output_type": "display_data"
    }
   ],
   "source": [
    "create_bar_plot_met(D_fba, D_exp,\n",
    "                    {'[M]_PSII_h':'Mesophyll','[B]_PSII_h': 'Bundle sheath'},'hnu_h',\n",
    "                    'Photon Uptake by PSII', xaxis_title, c3_model,\n",
    "                    stacked = True, save_fig=save_fig)"
   ]
  },
  {
   "cell_type": "code",
   "execution_count": 17,
   "metadata": {
    "ExecuteTime": {
     "end_time": "2019-05-06T14:05:34.039050Z",
     "start_time": "2019-05-06T16:05:33.891311+02:00"
    },
    "collapsed": false,
    "run_control": {
     "marked": true
    }
   },
   "outputs": [
    {
     "data": {
      "application/vnd.plotly.v1+json": {
       "config": {
        "linkText": "Export to plot.ly",
        "plotlyServerURL": "https://plot.ly",
        "showLink": false
       },
       "data": [
        {
         "marker": {
          "color": "rgb(8,81,156)"
         },
         "name": "Bundle sheath",
         "type": "bar",
         "uid": "5185307c-6b8d-446c-b4ec-7e6d3731ebcb",
         "x": [
          0,
          5,
          10,
          15,
          20,
          25,
          30,
          35,
          40
         ],
         "y": [
          0.16162625830919344,
          16.971357827457357,
          33.81921207159449,
          50.67864650147839,
          67.53808093136244,
          84.39751536124666,
          101.25460819851315,
          118.11133010370574,
          134.9680520089005
         ]
        },
        {
         "marker": {
          "color": "rgb(166,54,3)"
         },
         "name": "Mesophyll",
         "type": "bar",
         "uid": "963e00ad-0db0-490e-b9f7-1555f9f5c22d",
         "x": [
          0,
          5,
          10,
          15,
          20,
          25,
          30,
          35,
          40
         ],
         "y": [
          0.16162625830919344,
          13.991617345695436,
          27.819032180763024,
          41.64960524830709,
          55.48017831585117,
          69.31075138339526,
          83.13273861134174,
          96.95336575502101,
          110.7739928986999
         ]
        }
       ],
       "layout": {
        "barmode": "stack",
        "height": 400,
        "margin": {
         "b": 100
        },
        "title": {
         "text": "Photon Uptake by PSI"
        },
        "width": 600,
        "xaxis": {
         "tickangle": 45,
         "title": {
          "text": "CO2 Uptake [µmol/s/m2]"
         }
        },
        "yaxis": {
         "autorange": true,
         "title": {
          "text": "Flux [µmol/s/m2]"
         }
        }
       }
      },
      "text/html": [
       "<div>\n",
       "        \n",
       "        \n",
       "            <div id=\"85359e13-16d5-487a-a00c-80341ab96e59\" class=\"plotly-graph-div\"></div>\n",
       "            <script type=\"text/javascript\">\n",
       "                require([\"plotly\"], function(Plotly) {\n",
       "                    window.PLOTLYENV=window.PLOTLYENV || {};\n",
       "                    window.PLOTLYENV.BASE_URL='https://plot.ly';\n",
       "                    \n",
       "                if (document.getElementById(\"85359e13-16d5-487a-a00c-80341ab96e59\")) {\n",
       "                    Plotly.newPlot(\n",
       "                        '85359e13-16d5-487a-a00c-80341ab96e59',\n",
       "                        [{\"marker\": {\"color\": \"rgb(8,81,156)\"}, \"name\": \"Bundle sheath\", \"type\": \"bar\", \"uid\": \"2e3d54ef-e77f-4399-aada-63f3caf1fc0c\", \"x\": [0, 5, 10, 15, 20, 25, 30, 35, 40], \"y\": [0.16162625830919344, 16.971357827457357, 33.81921207159449, 50.67864650147839, 67.53808093136244, 84.39751536124666, 101.25460819851315, 118.11133010370574, 134.9680520089005]}, {\"marker\": {\"color\": \"rgb(166,54,3)\"}, \"name\": \"Mesophyll\", \"type\": \"bar\", \"uid\": \"90e79eca-7253-4f19-b49d-5439bb9f52da\", \"x\": [0, 5, 10, 15, 20, 25, 30, 35, 40], \"y\": [0.16162625830919344, 13.991617345695436, 27.819032180763024, 41.64960524830709, 55.48017831585117, 69.31075138339526, 83.13273861134174, 96.95336575502101, 110.7739928986999]}],\n",
       "                        {\"barmode\": \"stack\", \"height\": 400, \"margin\": {\"b\": 100}, \"title\": {\"text\": \"Photon Uptake by PSI\"}, \"width\": 600, \"xaxis\": {\"tickangle\": 45, \"title\": {\"text\": \"CO2 Uptake [\\u00b5mol/s/m2]\"}}, \"yaxis\": {\"autorange\": true, \"title\": {\"text\": \"Flux [\\u00b5mol/s/m2]\"}}},\n",
       "                        {\"plotlyServerURL\": \"https://plot.ly\", \"linkText\": \"Export to plot.ly\", \"showLink\": false}\n",
       "                    )\n",
       "                };\n",
       "                });\n",
       "            </script>\n",
       "        </div>"
      ]
     },
     "metadata": {},
     "output_type": "display_data"
    }
   ],
   "source": [
    "create_bar_plot_met(D_fba, D_exp,\n",
    "                    {'[M]_PSI_h':'Mesophyll','[B]_PSI_h': 'Bundle sheath'},'hnu_h',\n",
    "                    'Photon Uptake by PSI', xaxis_title, c3_model,\n",
    "                    stacked = True, save_fig=save_fig)"
   ]
  },
  {
   "cell_type": "code",
   "execution_count": 18,
   "metadata": {
    "ExecuteTime": {
     "end_time": "2019-05-06T14:05:34.183404Z",
     "start_time": "2019-05-06T16:05:34.041170+02:00"
    },
    "collapsed": false,
    "run_control": {
     "marked": true
    }
   },
   "outputs": [
    {
     "data": {
      "application/vnd.plotly.v1+json": {
       "config": {
        "linkText": "Export to plot.ly",
        "plotlyServerURL": "https://plot.ly",
        "showLink": false
       },
       "data": [
        {
         "marker": {
          "color": "rgb(8,81,156)"
         },
         "name": "Bundle sheath",
         "type": "bar",
         "uid": "8097f1a9-ef62-40e2-bfb5-fac06f69a88e",
         "x": [
          0,
          5,
          10,
          15,
          20,
          25,
          30,
          35,
          40
         ],
         "y": [
          0.05946116686299647,
          0.19694307713796033,
          0.3344249874129459,
          0.47190689768793037,
          0.6093888079629256,
          0.7468707182379023,
          0.8843526285127838,
          1.0218345387880443,
          1.1593164490627057
         ]
        },
        {
         "marker": {
          "color": "rgb(166,54,3)"
         },
         "name": "Mesophyll",
         "type": "bar",
         "uid": "a8538b16-cb1e-4714-a6eb-65b711589f96",
         "x": [
          0,
          5,
          10,
          15,
          20,
          25,
          30,
          35,
          40
         ],
         "y": [
          0.05946116686299646,
          0.36301982987975945,
          0.6665784928965339,
          0.9701371559129492,
          1.2736958189297571,
          1.5772544819468777,
          1.8808131449633871,
          2.1843718079788763,
          2.487930470996935
         ]
        }
       ],
       "layout": {
        "barmode": "stack",
        "height": 400,
        "margin": {
         "b": 100
        },
        "title": {
         "text": "ATP Synthesis Mitochondria"
        },
        "width": 600,
        "xaxis": {
         "tickangle": 45,
         "title": {
          "text": "CO2 Uptake [µmol/s/m2]"
         }
        },
        "yaxis": {
         "autorange": true,
         "title": {
          "text": "Flux [µmol/s/m2]"
         }
        }
       }
      },
      "text/html": [
       "<div>\n",
       "        \n",
       "        \n",
       "            <div id=\"7c35b4cc-21df-4756-a68d-f60516e4f5d3\" class=\"plotly-graph-div\"></div>\n",
       "            <script type=\"text/javascript\">\n",
       "                require([\"plotly\"], function(Plotly) {\n",
       "                    window.PLOTLYENV=window.PLOTLYENV || {};\n",
       "                    window.PLOTLYENV.BASE_URL='https://plot.ly';\n",
       "                    \n",
       "                if (document.getElementById(\"7c35b4cc-21df-4756-a68d-f60516e4f5d3\")) {\n",
       "                    Plotly.newPlot(\n",
       "                        '7c35b4cc-21df-4756-a68d-f60516e4f5d3',\n",
       "                        [{\"marker\": {\"color\": \"rgb(8,81,156)\"}, \"name\": \"Bundle sheath\", \"type\": \"bar\", \"uid\": \"9b768fdf-9c16-440e-9668-16cf2856a65a\", \"x\": [0, 5, 10, 15, 20, 25, 30, 35, 40], \"y\": [0.05946116686299647, 0.19694307713796033, 0.3344249874129459, 0.47190689768793037, 0.6093888079629256, 0.7468707182379023, 0.8843526285127838, 1.0218345387880443, 1.1593164490627057]}, {\"marker\": {\"color\": \"rgb(166,54,3)\"}, \"name\": \"Mesophyll\", \"type\": \"bar\", \"uid\": \"781783cf-3c63-4ea0-be03-3954cc48fc5e\", \"x\": [0, 5, 10, 15, 20, 25, 30, 35, 40], \"y\": [0.05946116686299646, 0.36301982987975945, 0.6665784928965339, 0.9701371559129492, 1.2736958189297571, 1.5772544819468777, 1.8808131449633871, 2.1843718079788763, 2.487930470996935]}],\n",
       "                        {\"barmode\": \"stack\", \"height\": 400, \"margin\": {\"b\": 100}, \"title\": {\"text\": \"ATP Synthesis Mitochondria\"}, \"width\": 600, \"xaxis\": {\"tickangle\": 45, \"title\": {\"text\": \"CO2 Uptake [\\u00b5mol/s/m2]\"}}, \"yaxis\": {\"autorange\": true, \"title\": {\"text\": \"Flux [\\u00b5mol/s/m2]\"}}},\n",
       "                        {\"plotlyServerURL\": \"https://plot.ly\", \"linkText\": \"Export to plot.ly\", \"showLink\": false}\n",
       "                    )\n",
       "                };\n",
       "                });\n",
       "            </script>\n",
       "        </div>"
      ]
     },
     "metadata": {},
     "output_type": "display_data"
    }
   ],
   "source": [
    "create_bar_plot_met(D_fba, D_exp,\n",
    "                    {'[M]_cplx5_m':'Mesophyll','[B]_cplx5_m': 'Bundle sheath'},'ATP_m',\n",
    "                    'ATP Synthesis Mitochondria', xaxis_title, c3_model,\n",
    "                    stacked = True, save_fig=save_fig)"
   ]
  },
  {
   "cell_type": "code",
   "execution_count": 19,
   "metadata": {
    "ExecuteTime": {
     "end_time": "2019-05-06T14:05:34.332684Z",
     "start_time": "2019-05-06T16:05:34.184807+02:00"
    },
    "collapsed": false,
    "run_control": {
     "marked": true
    }
   },
   "outputs": [
    {
     "data": {
      "application/vnd.plotly.v1+json": {
       "config": {
        "linkText": "Export to plot.ly",
        "plotlyServerURL": "https://plot.ly",
        "showLink": false
       },
       "data": [
        {
         "marker": {
          "color": "rgb(8,81,156)"
         },
         "name": "Bundle sheath",
         "type": "bar",
         "uid": "2e7ff50b-3c1b-4a63-bbd6-f05f5f9f5431",
         "x": [
          0,
          5,
          10,
          15,
          20,
          25,
          30,
          35,
          40
         ],
         "y": [
          0.152707083279744,
          14.685716109253383,
          29.261935176129448,
          43.85078717291122,
          58.439639169692995,
          73.02849116647477,
          87.61578210151164,
          102.20282574849928,
          116.7898693954881
         ]
        },
        {
         "marker": {
          "color": "rgb(166,54,3)"
         },
         "name": "Mesophyll",
         "type": "bar",
         "uid": "373b2c2a-ebd5-45e0-80a3-4de6088234f5",
         "x": [
          0,
          5,
          10,
          15,
          20,
          25,
          30,
          35,
          40
         ],
         "y": [
          0.152707083279744,
          10.961040507050985,
          21.761710312590115,
          32.564485606447086,
          43.36726090030388,
          54.17003619416051,
          64.96344511754738,
          75.75537031264336,
          86.54729550773732
         ]
        }
       ],
       "layout": {
        "barmode": "stack",
        "height": 400,
        "margin": {
         "b": 100
        },
        "title": {
         "text": "ATP Synthesis Chloroplast"
        },
        "width": 600,
        "xaxis": {
         "tickangle": 45,
         "title": {
          "text": "CO2 Uptake [µmol/s/m2]"
         }
        },
        "yaxis": {
         "autorange": true,
         "title": {
          "text": "Flux [µmol/s/m2]"
         }
        }
       }
      },
      "text/html": [
       "<div>\n",
       "        \n",
       "        \n",
       "            <div id=\"2b5e75db-8ec9-4310-8e89-122e506c7f28\" class=\"plotly-graph-div\"></div>\n",
       "            <script type=\"text/javascript\">\n",
       "                require([\"plotly\"], function(Plotly) {\n",
       "                    window.PLOTLYENV=window.PLOTLYENV || {};\n",
       "                    window.PLOTLYENV.BASE_URL='https://plot.ly';\n",
       "                    \n",
       "                if (document.getElementById(\"2b5e75db-8ec9-4310-8e89-122e506c7f28\")) {\n",
       "                    Plotly.newPlot(\n",
       "                        '2b5e75db-8ec9-4310-8e89-122e506c7f28',\n",
       "                        [{\"marker\": {\"color\": \"rgb(8,81,156)\"}, \"name\": \"Bundle sheath\", \"type\": \"bar\", \"uid\": \"c185c58f-f211-4d3b-b8ca-625a1f506157\", \"x\": [0, 5, 10, 15, 20, 25, 30, 35, 40], \"y\": [0.152707083279744, 14.685716109253383, 29.261935176129448, 43.85078717291122, 58.439639169692995, 73.02849116647477, 87.61578210151164, 102.20282574849928, 116.7898693954881]}, {\"marker\": {\"color\": \"rgb(166,54,3)\"}, \"name\": \"Mesophyll\", \"type\": \"bar\", \"uid\": \"fdd21c8e-8a04-4097-87fb-3d691edcd543\", \"x\": [0, 5, 10, 15, 20, 25, 30, 35, 40], \"y\": [0.152707083279744, 10.961040507050985, 21.761710312590115, 32.564485606447086, 43.36726090030388, 54.17003619416051, 64.96344511754738, 75.75537031264336, 86.54729550773732]}],\n",
       "                        {\"barmode\": \"stack\", \"height\": 400, \"margin\": {\"b\": 100}, \"title\": {\"text\": \"ATP Synthesis Chloroplast\"}, \"width\": 600, \"xaxis\": {\"tickangle\": 45, \"title\": {\"text\": \"CO2 Uptake [\\u00b5mol/s/m2]\"}}, \"yaxis\": {\"autorange\": true, \"title\": {\"text\": \"Flux [\\u00b5mol/s/m2]\"}}},\n",
       "                        {\"plotlyServerURL\": \"https://plot.ly\", \"linkText\": \"Export to plot.ly\", \"showLink\": false}\n",
       "                    )\n",
       "                };\n",
       "                });\n",
       "            </script>\n",
       "        </div>"
      ]
     },
     "metadata": {},
     "output_type": "display_data"
    }
   ],
   "source": [
    "create_bar_plot_met(D_fba, D_exp,\n",
    "                    {'[M]_ATPase_h':'Mesophyll','[B]_ATPase_h': 'Bundle sheath'},'ATP_h',\n",
    "                    'ATP Synthesis Chloroplast', xaxis_title, c3_model,\n",
    "                    stacked = True, save_fig=save_fig)"
   ]
  },
  {
   "cell_type": "code",
   "execution_count": 20,
   "metadata": {
    "ExecuteTime": {
     "end_time": "2019-05-06T14:05:34.501058Z",
     "start_time": "2019-05-06T16:05:34.334403+02:00"
    },
    "collapsed": false,
    "run_control": {
     "marked": true
    }
   },
   "outputs": [
    {
     "data": {
      "application/vnd.plotly.v1+json": {
       "config": {
        "linkText": "Export to plot.ly",
        "plotlyServerURL": "https://plot.ly",
        "showLink": false
       },
       "data": [
        {
         "marker": {
          "color": "rgb(49,130,189)"
         },
         "name": "Bundle sheat (unconstrained)",
         "type": "bar",
         "uid": "25029a4c-c2af-4c99-9011-47e8694aec82",
         "x": [
          0,
          5,
          10,
          15,
          20,
          25,
          30,
          35,
          40
         ],
         "y": [
          0,
          5.021882028838945,
          10.043764057677881,
          15.065646086516997,
          20.087528115355912,
          25.10941014419467,
          30.13129217303376,
          35.15317420187348,
          40.175056230711576
         ]
        },
        {
         "marker": {
          "color": "rgb(8,81,156)"
         },
         "name": "Bundle sheat (constrained)",
         "type": "bar",
         "uid": "1db68170-2a3e-4954-a946-f587b1c13079",
         "x": [
          0,
          5,
          10,
          15,
          20,
          25,
          30,
          35,
          40
         ],
         "y": [
          0,
          0,
          0,
          5.948886830051879e-14,
          6.76402435099164e-14,
          0,
          2.921378161660275e-14,
          4.2007639139564703e-13,
          2.1338763486268502e-14
         ]
        },
        {
         "marker": {
          "color": "rgb(166,54,3)"
         },
         "name": "Mesophyll (constrained)",
         "type": "bar",
         "uid": "5e70fdec-a891-4188-8e34-45a2e139abe6",
         "x": [
          0,
          5,
          10,
          15,
          20,
          25,
          30,
          35,
          40
         ],
         "y": [
          0,
          1.081293591718392e-15,
          5.0918050523575506e-15,
          2.394886054231188e-14,
          0,
          2.8836872883243753e-14,
          1.765457398000698e-14,
          2.217599528295699e-14,
          7.30924369777812e-15
         ]
        }
       ],
       "layout": {
        "barmode": "stack",
        "height": 400,
        "margin": {
         "b": 100
        },
        "title": {
         "text": "Carboxylation by Rubisco"
        },
        "width": 600,
        "xaxis": {
         "tickangle": 45,
         "title": {
          "text": "CO2 Uptake [µmol/s/m2]"
         }
        },
        "yaxis": {
         "autorange": true,
         "title": {
          "text": "Flux [µmol/s/m2]"
         }
        }
       }
      },
      "text/html": [
       "<div>\n",
       "        \n",
       "        \n",
       "            <div id=\"65148611-e50c-4237-805d-5ce7505b5ae8\" class=\"plotly-graph-div\"></div>\n",
       "            <script type=\"text/javascript\">\n",
       "                require([\"plotly\"], function(Plotly) {\n",
       "                    window.PLOTLYENV=window.PLOTLYENV || {};\n",
       "                    window.PLOTLYENV.BASE_URL='https://plot.ly';\n",
       "                    \n",
       "                if (document.getElementById(\"65148611-e50c-4237-805d-5ce7505b5ae8\")) {\n",
       "                    Plotly.newPlot(\n",
       "                        '65148611-e50c-4237-805d-5ce7505b5ae8',\n",
       "                        [{\"marker\": {\"color\": \"rgb(49,130,189)\"}, \"name\": \"Bundle sheat (unconstrained)\", \"type\": \"bar\", \"uid\": \"519521fe-101f-43e6-9013-56dcaf5ab428\", \"x\": [0, 5, 10, 15, 20, 25, 30, 35, 40], \"y\": [0.0, 5.021882028838945, 10.043764057677881, 15.065646086516997, 20.087528115355912, 25.10941014419467, 30.13129217303376, 35.15317420187348, 40.175056230711576]}, {\"marker\": {\"color\": \"rgb(8,81,156)\"}, \"name\": \"Bundle sheat (constrained)\", \"type\": \"bar\", \"uid\": \"37be34ea-11e2-403e-b4e8-da8369df502a\", \"x\": [0, 5, 10, 15, 20, 25, 30, 35, 40], \"y\": [0.0, 0.0, 0.0, 5.948886830051879e-14, 6.76402435099164e-14, 0.0, 2.921378161660275e-14, 4.2007639139564703e-13, 2.1338763486268502e-14]}, {\"marker\": {\"color\": \"rgb(166,54,3)\"}, \"name\": \"Mesophyll (constrained)\", \"type\": \"bar\", \"uid\": \"10ac18c7-61ee-4454-8eab-e90d2e7c7c27\", \"x\": [0, 5, 10, 15, 20, 25, 30, 35, 40], \"y\": [0.0, 1.081293591718392e-15, 5.0918050523575506e-15, 2.394886054231188e-14, 0.0, 2.8836872883243753e-14, 1.765457398000698e-14, 2.217599528295699e-14, 7.30924369777812e-15]}],\n",
       "                        {\"barmode\": \"stack\", \"height\": 400, \"margin\": {\"b\": 100}, \"title\": {\"text\": \"Carboxylation by Rubisco\"}, \"width\": 600, \"xaxis\": {\"tickangle\": 45, \"title\": {\"text\": \"CO2 Uptake [\\u00b5mol/s/m2]\"}}, \"yaxis\": {\"autorange\": true, \"title\": {\"text\": \"Flux [\\u00b5mol/s/m2]\"}}},\n",
       "                        {\"plotlyServerURL\": \"https://plot.ly\", \"linkText\": \"Export to plot.ly\", \"showLink\": false}\n",
       "                    )\n",
       "                };\n",
       "                });\n",
       "            </script>\n",
       "        </div>"
      ]
     },
     "metadata": {},
     "output_type": "display_data"
    }
   ],
   "source": [
    "create_bar_plot_rxn(D_fba, D_exp,\n",
    "                    {'[M]_RBC_h':'Mesophyll (constrained)','[B]_RBC_h_Ex':'Bundle sheat (constrained)',\n",
    "                 '[B]_RBC_h': 'Bundle sheat (unconstrained)'},\n",
    "                    'Carboxylation by Rubisco', xaxis_title,\n",
    "                    stacked = True, save_fig=save_fig)"
   ]
  },
  {
   "cell_type": "code",
   "execution_count": 21,
   "metadata": {
    "ExecuteTime": {
     "end_time": "2019-05-06T14:05:34.900170Z",
     "start_time": "2019-05-06T16:05:34.503054+02:00"
    },
    "collapsed": false,
    "run_control": {
     "marked": true
    }
   },
   "outputs": [
    {
     "data": {
      "application/vnd.plotly.v1+json": {
       "config": {
        "linkText": "Export to plot.ly",
        "plotlyServerURL": "https://plot.ly",
        "showLink": false
       },
       "data": [
        {
         "marker": {
          "color": "rgb(178,223,138)"
         },
         "name": "NAD-ME",
         "type": "bar",
         "uid": "d74c28de-268b-46f8-8469-0697f6481e6e",
         "x": [
          0,
          5,
          10,
          15,
          20,
          25,
          30,
          35,
          40
         ],
         "y": [
          0,
          0.040276881767300786,
          0.08055376353460132,
          0.1208306453019035,
          0.16110752706920517,
          0.201384408836503,
          0.24166129060380467,
          0.2819381723711127,
          0.32221505413840523
         ]
        },
        {
         "marker": {
          "color": "rgb(166,206,227)"
         },
         "name": "NADP-ME",
         "type": "bar",
         "uid": "78e09c5b-01f1-436c-8521-8985cd6bef7f",
         "x": [
          0,
          5,
          10,
          15,
          20,
          25,
          30,
          35,
          40
         ],
         "y": [
          0,
          4.569069582033384,
          9.20936228685495,
          13.864393409900135,
          18.51942453294503,
          23.17445565598973,
          27.829486779035047,
          32.48451790208037,
          37.13954902512509
         ]
        },
        {
         "marker": {
          "color": "rgb(31,120,180)"
         },
         "name": "PEPCK",
         "type": "bar",
         "uid": "4f902533-1c85-4990-a389-d362b5e9042f",
         "x": [
          0,
          5,
          10,
          15,
          20,
          25,
          30,
          35,
          40
         ],
         "y": [
          0,
          0.3223920677495381,
          0.573561012710889,
          0.8099915394487949,
          1.0464220661867902,
          1.2828525929248307,
          1.5192831196625805,
          1.7557136464009477,
          1.9921441731383145
         ]
        }
       ],
       "layout": {
        "barmode": "stack",
        "height": 400,
        "margin": {
         "b": 100
        },
        "title": {
         "text": "Decarboxylation Enzymes"
        },
        "width": 600,
        "xaxis": {
         "tickangle": 45,
         "title": {
          "text": "CO2 Uptake [µmol/s/m2]"
         }
        },
        "yaxis": {
         "autorange": true,
         "title": {
          "text": "Flux [µmol/s/m2]"
         }
        }
       }
      },
      "text/html": [
       "<div>\n",
       "        \n",
       "        \n",
       "            <div id=\"62eb008c-2c92-4afd-8d27-45361131fd5b\" class=\"plotly-graph-div\"></div>\n",
       "            <script type=\"text/javascript\">\n",
       "                require([\"plotly\"], function(Plotly) {\n",
       "                    window.PLOTLYENV=window.PLOTLYENV || {};\n",
       "                    window.PLOTLYENV.BASE_URL='https://plot.ly';\n",
       "                    \n",
       "                if (document.getElementById(\"62eb008c-2c92-4afd-8d27-45361131fd5b\")) {\n",
       "                    Plotly.newPlot(\n",
       "                        '62eb008c-2c92-4afd-8d27-45361131fd5b',\n",
       "                        [{\"marker\": {\"color\": \"rgb(178,223,138)\"}, \"name\": \"NAD-ME\", \"type\": \"bar\", \"uid\": \"caf2f320-7e8a-4441-8280-8b17477b52c1\", \"x\": [0, 5, 10, 15, 20, 25, 30, 35, 40], \"y\": [0.0, 0.040276881767300786, 0.08055376353460132, 0.1208306453019035, 0.16110752706920517, 0.201384408836503, 0.24166129060380467, 0.2819381723711127, 0.32221505413840523]}, {\"marker\": {\"color\": \"rgb(166,206,227)\"}, \"name\": \"NADP-ME\", \"type\": \"bar\", \"uid\": \"a11c30ec-256f-4970-84bc-9a90bd8d5a5a\", \"x\": [0, 5, 10, 15, 20, 25, 30, 35, 40], \"y\": [0.0, 4.569069582033384, 9.20936228685495, 13.864393409900135, 18.51942453294503, 23.17445565598973, 27.829486779035047, 32.48451790208037, 37.13954902512509]}, {\"marker\": {\"color\": \"rgb(31,120,180)\"}, \"name\": \"PEPCK\", \"type\": \"bar\", \"uid\": \"2f4dc9d1-1812-4e1b-9f7f-40223b489407\", \"x\": [0, 5, 10, 15, 20, 25, 30, 35, 40], \"y\": [0.0, 0.3223920677495381, 0.573561012710889, 0.8099915394487949, 1.0464220661867902, 1.2828525929248307, 1.5192831196625805, 1.7557136464009477, 1.9921441731383145]}],\n",
       "                        {\"barmode\": \"stack\", \"height\": 400, \"margin\": {\"b\": 100}, \"title\": {\"text\": \"Decarboxylation Enzymes\"}, \"width\": 600, \"xaxis\": {\"tickangle\": 45, \"title\": {\"text\": \"CO2 Uptake [\\u00b5mol/s/m2]\"}}, \"yaxis\": {\"autorange\": true, \"title\": {\"text\": \"Flux [\\u00b5mol/s/m2]\"}}},\n",
       "                        {\"plotlyServerURL\": \"https://plot.ly\", \"linkText\": \"Export to plot.ly\", \"showLink\": false}\n",
       "                    )\n",
       "                };\n",
       "                });\n",
       "            </script>\n",
       "        </div>"
      ]
     },
     "metadata": {},
     "output_type": "display_data"
    }
   ],
   "source": [
    "create_bar_plot_rxn(D_fba, D_exp,\n",
    "                    {'[B]_MalDH4_h': 'NADP-ME', '[B]_MalDH2_m': 'NAD-ME', '[B]_PEPC1_c': 'PEPCK',},\n",
    "                    'Decarboxylation Enzymes', xaxis_title,\n",
    "                    c=True, stacked = True, save_fig=save_fig)"
   ]
  },
  {
   "cell_type": "code",
   "execution_count": 22,
   "metadata": {
    "ExecuteTime": {
     "end_time": "2019-05-06T14:05:35.047782Z",
     "start_time": "2019-05-06T16:05:34.901489+02:00"
    },
    "collapsed": false,
    "run_control": {
     "marked": true
    }
   },
   "outputs": [
    {
     "data": {
      "application/vnd.plotly.v1+json": {
       "config": {
        "linkText": "Export to plot.ly",
        "plotlyServerURL": "https://plot.ly",
        "showLink": false
       },
       "data": [
        {
         "marker": {
          "color": "rgb(8,81,156)"
         },
         "name": "Bundle sheath",
         "type": "bar",
         "uid": "4bab869f-88cc-4ea9-85cb-b23db2e3ae64",
         "x": [
          0,
          5,
          10,
          15,
          20,
          25,
          30,
          35,
          40
         ],
         "y": [
          0,
          0,
          0,
          0,
          0,
          0,
          0,
          0,
          0
         ]
        },
        {
         "marker": {
          "color": "rgb(166,54,3)"
         },
         "name": "Mesophyll",
         "type": "bar",
         "uid": "6dcf243f-9c79-4a72-8838-87ebbcafbc85",
         "x": [
          0,
          5,
          10,
          15,
          20,
          25,
          30,
          35,
          40
         ],
         "y": [
          5.143282634094285e-18,
          4.998256412044704,
          9.996512824089402,
          14.994769236134282,
          19.993025648178953,
          24.991282060223472,
          29.989538472268325,
          34.98779488431382,
          39.9860512963577
         ]
        }
       ],
       "layout": {
        "barmode": "stack",
        "height": 400,
        "margin": {
         "b": 100
        },
        "title": {
         "text": "PEPC"
        },
        "width": 600,
        "xaxis": {
         "tickangle": 45,
         "title": {
          "text": "CO2 Uptake [µmol/s/m2]"
         }
        },
        "yaxis": {
         "autorange": true,
         "title": {
          "text": "Flux [µmol/s/m2]"
         }
        }
       }
      },
      "text/html": [
       "<div>\n",
       "        \n",
       "        \n",
       "            <div id=\"1ec9a898-719c-4d0f-a69b-53d05d3c8c2d\" class=\"plotly-graph-div\"></div>\n",
       "            <script type=\"text/javascript\">\n",
       "                require([\"plotly\"], function(Plotly) {\n",
       "                    window.PLOTLYENV=window.PLOTLYENV || {};\n",
       "                    window.PLOTLYENV.BASE_URL='https://plot.ly';\n",
       "                    \n",
       "                if (document.getElementById(\"1ec9a898-719c-4d0f-a69b-53d05d3c8c2d\")) {\n",
       "                    Plotly.newPlot(\n",
       "                        '1ec9a898-719c-4d0f-a69b-53d05d3c8c2d',\n",
       "                        [{\"marker\": {\"color\": \"rgb(8,81,156)\"}, \"name\": \"Bundle sheath\", \"type\": \"bar\", \"uid\": \"844dbd7d-104e-489b-81e8-882c05299898\", \"x\": [0, 5, 10, 15, 20, 25, 30, 35, 40], \"y\": [0.0, 0.0, 0.0, 0.0, 0.0, 0.0, 0.0, 0.0, 0.0]}, {\"marker\": {\"color\": \"rgb(166,54,3)\"}, \"name\": \"Mesophyll\", \"type\": \"bar\", \"uid\": \"07effa02-af7c-4c39-8dee-3bcc255fd236\", \"x\": [0, 5, 10, 15, 20, 25, 30, 35, 40], \"y\": [5.143282634094285e-18, 4.998256412044704, 9.996512824089402, 14.994769236134282, 19.993025648178953, 24.991282060223472, 29.989538472268325, 34.98779488431382, 39.9860512963577]}],\n",
       "                        {\"barmode\": \"stack\", \"height\": 400, \"margin\": {\"b\": 100}, \"title\": {\"text\": \"PEPC\"}, \"width\": 600, \"xaxis\": {\"tickangle\": 45, \"title\": {\"text\": \"CO2 Uptake [\\u00b5mol/s/m2]\"}}, \"yaxis\": {\"autorange\": true, \"title\": {\"text\": \"Flux [\\u00b5mol/s/m2]\"}}},\n",
       "                        {\"plotlyServerURL\": \"https://plot.ly\", \"linkText\": \"Export to plot.ly\", \"showLink\": false}\n",
       "                    )\n",
       "                };\n",
       "                });\n",
       "            </script>\n",
       "        </div>"
      ]
     },
     "metadata": {},
     "output_type": "display_data"
    }
   ],
   "source": [
    "create_bar_plot_rxn(D_fba, D_exp,\n",
    "                    {'[M]_PEPC2_c': 'Mesophyll', '[B]_PEPC2_c': 'Bundle sheath'},\n",
    "                    'PEPC', xaxis_title,\n",
    "                     stacked = True, save_fig=save_fig)"
   ]
  },
  {
   "cell_type": "code",
   "execution_count": 23,
   "metadata": {
    "ExecuteTime": {
     "end_time": "2019-05-06T14:05:35.202385Z",
     "start_time": "2019-05-06T16:05:35.049225+02:00"
    },
    "collapsed": false,
    "run_control": {
     "marked": true
    }
   },
   "outputs": [
    {
     "data": {
      "application/vnd.plotly.v1+json": {
       "config": {
        "linkText": "Export to plot.ly",
        "plotlyServerURL": "https://plot.ly",
        "showLink": false
       },
       "data": [
        {
         "marker": {
          "color": "rgb(8,81,156)"
         },
         "name": "Bundle sheath",
         "type": "bar",
         "uid": "afe2eb23-b4a0-463b-bc81-3d042fc800b6",
         "x": [
          0,
          5,
          10,
          15,
          20,
          25,
          30,
          35,
          40
         ],
         "y": [
          4.021741425382584e-19,
          0.010635886527290877,
          0.021271773054585278,
          0.03190765958190639,
          0.04254354610917758,
          0.05317943263647627,
          0.063815319163793,
          0.07445120569117947,
          0.08508709221839604
         ]
        },
        {
         "marker": {
          "color": "rgb(166,54,3)"
         },
         "name": "Mesophyll",
         "type": "bar",
         "uid": "84a2c4f0-29ca-482f-b7e4-b27af9b835e8",
         "x": [
          0,
          5,
          10,
          15,
          20,
          25,
          30,
          35,
          40
         ],
         "y": [
          9.771307409115187e-19,
          4.9986051296357585,
          9.997210259271473,
          14.995815388907483,
          19.99442051854317,
          24.993025648178662,
          29.991630777814727,
          34.990235907451336,
          39.9888410370862
         ]
        }
       ],
       "layout": {
        "barmode": "stack",
        "height": 400,
        "margin": {
         "b": 100
        },
        "title": {
         "text": "PyrPiDK"
        },
        "width": 600,
        "xaxis": {
         "tickangle": 45,
         "title": {
          "text": "CO2 Uptake [µmol/s/m2]"
         }
        },
        "yaxis": {
         "autorange": true,
         "title": {
          "text": "Flux [µmol/s/m2]"
         }
        }
       }
      },
      "text/html": [
       "<div>\n",
       "        \n",
       "        \n",
       "            <div id=\"2dbc8a84-3bed-4a86-a00a-b7435187465f\" class=\"plotly-graph-div\"></div>\n",
       "            <script type=\"text/javascript\">\n",
       "                require([\"plotly\"], function(Plotly) {\n",
       "                    window.PLOTLYENV=window.PLOTLYENV || {};\n",
       "                    window.PLOTLYENV.BASE_URL='https://plot.ly';\n",
       "                    \n",
       "                if (document.getElementById(\"2dbc8a84-3bed-4a86-a00a-b7435187465f\")) {\n",
       "                    Plotly.newPlot(\n",
       "                        '2dbc8a84-3bed-4a86-a00a-b7435187465f',\n",
       "                        [{\"marker\": {\"color\": \"rgb(8,81,156)\"}, \"name\": \"Bundle sheath\", \"type\": \"bar\", \"uid\": \"d64eee79-cea4-4eda-badc-3a49f2dba76b\", \"x\": [0, 5, 10, 15, 20, 25, 30, 35, 40], \"y\": [4.021741425382584e-19, 0.010635886527290877, 0.021271773054585278, 0.03190765958190639, 0.04254354610917758, 0.05317943263647627, 0.063815319163793, 0.07445120569117947, 0.08508709221839604]}, {\"marker\": {\"color\": \"rgb(166,54,3)\"}, \"name\": \"Mesophyll\", \"type\": \"bar\", \"uid\": \"32588a10-c392-4ae5-abd5-a1a69b2bb451\", \"x\": [0, 5, 10, 15, 20, 25, 30, 35, 40], \"y\": [9.771307409115187e-19, 4.9986051296357585, 9.997210259271473, 14.995815388907483, 19.99442051854317, 24.993025648178662, 29.991630777814727, 34.990235907451336, 39.9888410370862]}],\n",
       "                        {\"barmode\": \"stack\", \"height\": 400, \"margin\": {\"b\": 100}, \"title\": {\"text\": \"PyrPiDK\"}, \"width\": 600, \"xaxis\": {\"tickangle\": 45, \"title\": {\"text\": \"CO2 Uptake [\\u00b5mol/s/m2]\"}}, \"yaxis\": {\"autorange\": true, \"title\": {\"text\": \"Flux [\\u00b5mol/s/m2]\"}}},\n",
       "                        {\"plotlyServerURL\": \"https://plot.ly\", \"linkText\": \"Export to plot.ly\", \"showLink\": false}\n",
       "                    )\n",
       "                };\n",
       "                });\n",
       "            </script>\n",
       "        </div>"
      ]
     },
     "metadata": {},
     "output_type": "display_data"
    }
   ],
   "source": [
    "create_bar_plot_rxn(D_fba, D_exp,\n",
    "                    {'[M]_PyrPiDK_h': 'Mesophyll', '[B]_PyrPiDK_h': 'Bundle sheath'},\n",
    "                    'PyrPiDK', xaxis_title,\n",
    "                     stacked = True, save_fig=save_fig)"
   ]
  },
  {
   "cell_type": "code",
   "execution_count": 24,
   "metadata": {
    "ExecuteTime": {
     "end_time": "2019-05-06T14:05:35.504510Z",
     "start_time": "2019-05-06T16:05:35.204163+02:00"
    },
    "collapsed": false,
    "run_control": {
     "marked": true
    }
   },
   "outputs": [
    {
     "data": {
      "application/vnd.plotly.v1+json": {
       "config": {
        "linkText": "Export to plot.ly",
        "plotlyServerURL": "https://plot.ly",
        "showLink": false
       },
       "data": [
        {
         "colorbar": {
          "title": {
           "side": "right",
           "text": "Flux [µmol/s/m2]"
          }
         },
         "colorscale": [
          [
           0,
           "rgb(255,245,240)"
          ],
          [
           0.125,
           "rgb(254,224,210)"
          ],
          [
           0.25,
           "rgb(252,187,161)"
          ],
          [
           0.375,
           "rgb(252,146,114)"
          ],
          [
           0.5,
           "rgb(251,106,74)"
          ],
          [
           0.625,
           "rgb(239,59,44)"
          ],
          [
           0.75,
           "rgb(203,24,29)"
          ],
          [
           0.875,
           "rgb(165,15,21)"
          ],
          [
           1,
           "rgb(103,0,13)"
          ]
         ],
         "type": "heatmap",
         "uid": "707a81ea-cfba-4eb6-a87b-5bf1006dac33",
         "x": [
          0,
          5,
          10,
          15,
          20,
          25,
          30,
          35,
          40
         ],
         "y": [
          "Gln",
          "PEP",
          "GAP",
          "Asp",
          "DHAP",
          "Mal"
         ],
         "z": [
          [
           null,
           null,
           null,
           0.11324603769637298,
           0.15099471692850058,
           0.18874339616061583,
           0.22649207539274227,
           0.26424075462487523,
           0.3019894338569946
          ],
          [
           null,
           0.11246142311648832,
           0.2249228462329364,
           null,
           null,
           0.5623071155823214,
           0.6747685386989406,
           0.7872299618154024,
           0.8996913849319523
          ],
          [
           null,
           0.3432834085982137,
           0.6649617967452375,
           0.9803237199394684,
           1.295685643133597,
           1.6110475663276425,
           1.927190020394307,
           2.243456118485914,
           2.5597222165761027
          ],
          [
           null,
           0.40331925741829244,
           0.7532537421072854,
           1.0884498085728456,
           1.4236458750384806,
           1.7588419415041527,
           2.094038007969588,
           2.4292340744355445,
           2.764430140900632
          ],
          [
           null,
           0.3838218285588084,
           0.7460386366664268,
           1.1019389798212549,
           1.4578393229759776,
           1.8137396661306173,
           2.1704205401578784,
           2.527225058210087,
           2.884029576260872
          ],
          [
           null,
           4.585608959065587,
           9.224602690860463,
           13.87833484087902,
           18.53206699089722,
           23.18579914091517,
           27.83953129093382,
           32.49326344095279,
           37.14699559097046
          ]
         ]
        }
       ],
       "layout": {
        "margin": {
         "b": 100
        },
        "title": {
         "text": "Mesophyll ==> Bundlesheat Transport"
        },
        "width": 500,
        "xaxis": {
         "tickangle": 45,
         "title": {
          "text": "CO2 Uptake [µmol/s/m2]"
         }
        },
        "yaxis": {
         "tickmode": "array",
         "ticktext": [
          "Gln",
          "PEP",
          "GAP",
          "Asp",
          "DHAP",
          "Mal"
         ],
         "tickvals": [
          0,
          1,
          2,
          3,
          4,
          5
         ],
         "title": {
          "text": "Transport Metabolites"
         }
        }
       }
      },
      "text/html": [
       "<div>\n",
       "        \n",
       "        \n",
       "            <div id=\"1649bc17-e731-4195-920e-26945b58a464\" class=\"plotly-graph-div\"></div>\n",
       "            <script type=\"text/javascript\">\n",
       "                require([\"plotly\"], function(Plotly) {\n",
       "                    window.PLOTLYENV=window.PLOTLYENV || {};\n",
       "                    window.PLOTLYENV.BASE_URL='https://plot.ly';\n",
       "                    \n",
       "                if (document.getElementById(\"1649bc17-e731-4195-920e-26945b58a464\")) {\n",
       "                    Plotly.newPlot(\n",
       "                        '1649bc17-e731-4195-920e-26945b58a464',\n",
       "                        [{\"colorbar\": {\"title\": {\"side\": \"right\", \"text\": \"Flux [\\u00b5mol/s/m2]\"}}, \"colorscale\": [[0.0, \"rgb(255,245,240)\"], [0.125, \"rgb(254,224,210)\"], [0.25, \"rgb(252,187,161)\"], [0.375, \"rgb(252,146,114)\"], [0.5, \"rgb(251,106,74)\"], [0.625, \"rgb(239,59,44)\"], [0.75, \"rgb(203,24,29)\"], [0.875, \"rgb(165,15,21)\"], [1.0, \"rgb(103,0,13)\"]], \"type\": \"heatmap\", \"uid\": \"cadbf820-40f0-4083-91f5-d0032765f4a5\", \"x\": [0, 5, 10, 15, 20, 25, 30, 35, 40], \"y\": [\"Gln\", \"PEP\", \"GAP\", \"Asp\", \"DHAP\", \"Mal\"], \"z\": [[null, null, null, 0.11324603769637298, 0.15099471692850058, 0.18874339616061583, 0.22649207539274227, 0.26424075462487523, 0.3019894338569946], [null, 0.11246142311648832, 0.2249228462329364, null, null, 0.5623071155823214, 0.6747685386989406, 0.7872299618154024, 0.8996913849319523], [null, 0.3432834085982137, 0.6649617967452375, 0.9803237199394684, 1.295685643133597, 1.6110475663276425, 1.927190020394307, 2.243456118485914, 2.5597222165761027], [null, 0.40331925741829244, 0.7532537421072854, 1.0884498085728456, 1.4236458750384806, 1.7588419415041527, 2.094038007969588, 2.4292340744355445, 2.764430140900632], [null, 0.3838218285588084, 0.7460386366664268, 1.1019389798212549, 1.4578393229759776, 1.8137396661306173, 2.1704205401578784, 2.527225058210087, 2.884029576260872], [null, 4.585608959065587, 9.224602690860463, 13.87833484087902, 18.53206699089722, 23.18579914091517, 27.83953129093382, 32.49326344095279, 37.14699559097046]]}],\n",
       "                        {\"margin\": {\"b\": 100}, \"title\": {\"text\": \"Mesophyll ==> Bundlesheat Transport\"}, \"width\": 500, \"xaxis\": {\"tickangle\": 45, \"title\": {\"text\": \"CO2 Uptake [\\u00b5mol/s/m2]\"}}, \"yaxis\": {\"tickmode\": \"array\", \"ticktext\": [\"Gln\", \"PEP\", \"GAP\", \"Asp\", \"DHAP\", \"Mal\"], \"tickvals\": [0, 1, 2, 3, 4, 5], \"title\": {\"text\": \"Transport Metabolites\"}}},\n",
       "                        {\"plotlyServerURL\": \"https://plot.ly\", \"linkText\": \"Export to plot.ly\", \"showLink\": false}\n",
       "                    )\n",
       "                };\n",
       "                });\n",
       "            </script>\n",
       "        </div>"
      ]
     },
     "metadata": {},
     "output_type": "display_data"
    },
    {
     "data": {
      "application/vnd.plotly.v1+json": {
       "config": {
        "linkText": "Export to plot.ly",
        "plotlyServerURL": "https://plot.ly",
        "showLink": false
       },
       "data": [
        {
         "colorbar": {
          "title": {
           "side": "right",
           "text": "Flux [µmol/s/m2]"
          }
         },
         "colorscale": [
          [
           0,
           "rgb(247,251,255)"
          ],
          [
           0.125,
           "rgb(222,235,247)"
          ],
          [
           0.25,
           "rgb(198,219,239)"
          ],
          [
           0.375,
           "rgb(158,202,225)"
          ],
          [
           0.5,
           "rgb(107,174,214)"
          ],
          [
           0.625,
           "rgb(66,146,198)"
          ],
          [
           0.75,
           "rgb(33,113,181)"
          ],
          [
           0.875,
           "rgb(8,81,156)"
          ],
          [
           1,
           "rgb(8,48,107)"
          ]
         ],
         "type": "heatmap",
         "uid": "85b4b923-9e26-46a4-9eab-dd193dc5836a",
         "x": [
          0,
          5,
          10,
          15,
          20,
          25,
          30,
          35,
          40
         ],
         "y": [
          "Glu",
          "Ala",
          "PGA",
          "Pyr"
         ],
         "z": [
          [
           null,
           null,
           null,
           0.11743064878907705,
           0.1565741983854394,
           0.1957177479817864,
           0.23486129757815802,
           0.2740048471745206,
           0.313148396770882
          ],
          [
           null,
           0.32128344412168924,
           0.5891821155140814,
           0.8423423686830357,
           1.0955026218520703,
           1.3486628750211502,
           1.6018231281899773,
           1.854983381359316,
           2.108143634527814
          ],
          [
           null,
           0.8393341818794693,
           1.6354583228565596,
           2.0826114173518193,
           2.753989922897648,
           3.9859319560704267,
           4.770984228886869,
           5.556283789753006,
           6.341583350616578
          ],
          [
           null,
           4.676711429729718,
           9.406807632188686,
           14.151642252871392,
           18.896476873553695,
           23.641311494235744,
           28.38614611491864,
           33.13098073560155,
           37.87581535628356
          ]
         ]
        }
       ],
       "layout": {
        "margin": {
         "b": 100
        },
        "title": {
         "text": "Bundlesheat ==> Mesophyll Transport"
        },
        "width": 500,
        "xaxis": {
         "tickangle": 45,
         "title": {
          "text": "CO2 Uptake [µmol/s/m2]"
         }
        },
        "yaxis": {
         "tickmode": "array",
         "ticktext": [
          "Glu",
          "Ala",
          "PGA",
          "Pyr"
         ],
         "tickvals": [
          0,
          1,
          2,
          3
         ],
         "title": {
          "text": "Transport Metabolites"
         }
        }
       }
      },
      "text/html": [
       "<div>\n",
       "        \n",
       "        \n",
       "            <div id=\"714694b9-c31a-4e5c-905d-878e1513c0e8\" class=\"plotly-graph-div\"></div>\n",
       "            <script type=\"text/javascript\">\n",
       "                require([\"plotly\"], function(Plotly) {\n",
       "                    window.PLOTLYENV=window.PLOTLYENV || {};\n",
       "                    window.PLOTLYENV.BASE_URL='https://plot.ly';\n",
       "                    \n",
       "                if (document.getElementById(\"714694b9-c31a-4e5c-905d-878e1513c0e8\")) {\n",
       "                    Plotly.newPlot(\n",
       "                        '714694b9-c31a-4e5c-905d-878e1513c0e8',\n",
       "                        [{\"colorbar\": {\"title\": {\"side\": \"right\", \"text\": \"Flux [\\u00b5mol/s/m2]\"}}, \"colorscale\": [[0.0, \"rgb(247,251,255)\"], [0.125, \"rgb(222,235,247)\"], [0.25, \"rgb(198,219,239)\"], [0.375, \"rgb(158,202,225)\"], [0.5, \"rgb(107,174,214)\"], [0.625, \"rgb(66,146,198)\"], [0.75, \"rgb(33,113,181)\"], [0.875, \"rgb(8,81,156)\"], [1.0, \"rgb(8,48,107)\"]], \"type\": \"heatmap\", \"uid\": \"6542992e-6d9f-4d2e-a882-2eea07ae540c\", \"x\": [0, 5, 10, 15, 20, 25, 30, 35, 40], \"y\": [\"Glu\", \"Ala\", \"PGA\", \"Pyr\"], \"z\": [[null, null, null, 0.11743064878907705, 0.1565741983854394, 0.1957177479817864, 0.23486129757815802, 0.2740048471745206, 0.313148396770882], [null, 0.32128344412168924, 0.5891821155140814, 0.8423423686830357, 1.0955026218520703, 1.3486628750211502, 1.6018231281899773, 1.854983381359316, 2.108143634527814], [null, 0.8393341818794693, 1.6354583228565596, 2.0826114173518193, 2.753989922897648, 3.9859319560704267, 4.770984228886869, 5.556283789753006, 6.341583350616578], [null, 4.676711429729718, 9.406807632188686, 14.151642252871392, 18.896476873553695, 23.641311494235744, 28.38614611491864, 33.13098073560155, 37.87581535628356]]}],\n",
       "                        {\"margin\": {\"b\": 100}, \"title\": {\"text\": \"Bundlesheat ==> Mesophyll Transport\"}, \"width\": 500, \"xaxis\": {\"tickangle\": 45, \"title\": {\"text\": \"CO2 Uptake [\\u00b5mol/s/m2]\"}}, \"yaxis\": {\"tickmode\": \"array\", \"ticktext\": [\"Glu\", \"Ala\", \"PGA\", \"Pyr\"], \"tickvals\": [0, 1, 2, 3], \"title\": {\"text\": \"Transport Metabolites\"}}},\n",
       "                        {\"plotlyServerURL\": \"https://plot.ly\", \"linkText\": \"Export to plot.ly\", \"showLink\": false}\n",
       "                    )\n",
       "                };\n",
       "                });\n",
       "            </script>\n",
       "        </div>"
      ]
     },
     "metadata": {},
     "output_type": "display_data"
    }
   ],
   "source": [
    "plot_transport(D_fba, D_exp, L_r_transport, xaxis_title, save_fig=save_fig)"
   ]
  }
 ],
 "metadata": {
  "anaconda-cloud": {},
  "kernelspec": {
   "display_name": "Python [default]",
   "language": "python",
   "name": "python2"
  },
  "language_info": {
   "codemirror_mode": {
    "name": "ipython",
    "version": 2
   },
   "file_extension": ".py",
   "mimetype": "text/x-python",
   "name": "python",
   "nbconvert_exporter": "python",
   "pygments_lexer": "ipython2",
   "version": "2.7.6"
  },
  "latex_envs": {
   "LaTeX_envs_menu_present": true,
   "autoclose": false,
   "autocomplete": true,
   "bibliofile": "biblio.bib",
   "cite_by": "apalike",
   "current_citInitial": 1,
   "eqLabelWithNumbers": true,
   "eqNumInitial": 1,
   "hotkeys": {
    "equation": "Ctrl-E",
    "itemize": "Ctrl-I"
   },
   "labels_anchors": false,
   "latex_user_defs": false,
   "report_style_numbering": false,
   "user_envs_cfg": false
  }
 },
 "nbformat": 4,
 "nbformat_minor": 2
}
