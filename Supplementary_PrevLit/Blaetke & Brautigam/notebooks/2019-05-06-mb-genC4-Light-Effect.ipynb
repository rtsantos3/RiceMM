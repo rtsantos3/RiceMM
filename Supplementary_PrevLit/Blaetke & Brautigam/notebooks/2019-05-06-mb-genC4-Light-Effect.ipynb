{
 "cells": [
  {
   "cell_type": "markdown",
   "metadata": {
    "hide_input": true,
    "run_control": {
     "marked": true
    }
   },
   "source": [
    "# Effect of light on the C4 mode"
   ]
  },
  {
   "cell_type": "markdown",
   "metadata": {
    "hide_input": true,
    "run_control": {
     "marked": true
    }
   },
   "source": [
    "## 0. Initialization"
   ]
  },
  {
   "cell_type": "code",
   "execution_count": 1,
   "metadata": {
    "ExecuteTime": {
     "end_time": "2019-05-06T13:59:01.356366Z",
     "start_time": "2019-05-06T15:58:59.113355+02:00"
    },
    "collapsed": false
   },
   "outputs": [
    {
     "name": "stderr",
     "output_type": "stream",
     "text": [
      "//anaconda/lib/python2.7/site-packages/cryptography/hazmat/primitives/constant_time.py:26 \u001b[1;31mCryptographyDeprecationWarning\u001b[0m: Support for your Python version is deprecated. The next version of cryptography will remove support. Please upgrade to a 2.7.x release that supports hmac.compare_digest as soon as possible.\n"
     ]
    },
    {
     "data": {
      "text/html": [
       "        <script type=\"text/javascript\">\n",
       "        window.PlotlyConfig = {MathJaxConfig: 'local'};\n",
       "        if (window.MathJax) {MathJax.Hub.Config({SVG: {font: \"STIX-Web\"}});}\n",
       "        if (typeof require !== 'undefined') {\n",
       "        require.undef(\"plotly\");\n",
       "        requirejs.config({\n",
       "            paths: {\n",
       "                'plotly': ['https://cdn.plot.ly/plotly-latest.min']\n",
       "            }\n",
       "        });\n",
       "        require(['plotly'], function(Plotly) {\n",
       "            window._Plotly = Plotly;\n",
       "        });\n",
       "        }\n",
       "        </script>\n",
       "        "
      ]
     },
     "metadata": {},
     "output_type": "display_data"
    }
   ],
   "source": [
    "#Import sys\n",
    "import sys \n",
    "sys.path.append(\"../src/\") \n",
    "\n",
    "#Import init for initialisation & loading user-defined functions\n",
    "from init_fba import *\n",
    "\n",
    "#Initialize notebook settings\n",
    "theNotebook = '2019-05-06-mb-genC4-Light-Effect'\n",
    "init_notebook(theNotebook)\n",
    "\n",
    "#load sbml model\n",
    "c3_model = load_sbml_model()"
   ]
  },
  {
   "cell_type": "markdown",
   "metadata": {
    "hide_input": true,
    "run_control": {
     "marked": true
    }
   },
   "source": [
    "## 1. C3 Model"
   ]
  },
  {
   "cell_type": "markdown",
   "metadata": {
    "ExecuteTime": {
     "end_time": "2017-06-20T12:42:07.597174",
     "start_time": "2017-06-20T12:42:07.594879"
    },
    "hide_input": true,
    "run_control": {
     "marked": true
    }
   },
   "source": [
    "### 1.1 Constraints"
   ]
  },
  {
   "cell_type": "code",
   "execution_count": 2,
   "metadata": {
    "ExecuteTime": {
     "end_time": "2019-05-06T13:59:01.377650Z",
     "start_time": "2019-05-06T15:59:01.357732+02:00"
    },
    "collapsed": false,
    "hide_input": false,
    "run_control": {
     "marked": true
    }
   },
   "outputs": [],
   "source": [
    "#CONSTRAINT: Set flux of all export reaction to zero\n",
    "for r_obj in c3_model.reactions:\n",
    "    r_id = r_obj.id\n",
    "    if r_id[0:2] == \"Ex\":\n",
    "        r_obj.bounds = (0.,0.)\n",
    "\n",
    "#CONSTRAINT: Divergent fluxes of export and import reactions\n",
    "set_bounds('Im_CO2', (-inf, inf), c3_model)\n",
    "set_bounds('Im_H2O', (-inf, inf), c3_model)\n",
    "set_bounds('Im_H2S', (0.,0.), c3_model)\n",
    "set_bounds('Im_NH4', (0., 0.), c3_model)\n",
    "set_bounds('Im_NO3', (0., inf), c3_model)\n",
    "set_bounds('Im_Pi', (0., inf), c3_model)\n",
    "set_bounds('Im_SO4', (0., inf), c3_model)\n",
    "set_bounds('Ex_O2', (-inf, inf), c3_model)\n",
    "set_bounds('Ex_Suc', (0., inf), c3_model)\n",
    "set_bounds('Ex_starch', (0., inf), c3_model)\n",
    "set_bounds('Ex_AA', (0., inf), c3_model)\n",
    "\n",
    "#CONSTRAINT: \n",
    "set_bounds('G6PDH_h', (0.,0.), c3_model)\n",
    "set_bounds('PPIF6PK_c', (0,0.), c3_model)\n",
    "\n",
    "#CONSTRAINT: max. photon consumption auf C4 plants 1000 μE\n",
    "set_bounds('Im_hnu', (0, 1000), c3_model)\n",
    "\n",
    "#CONSTRAINT: CO2 uptake rate uin C4 plants is higher, about 40 μmol/(m2*s)\n",
    "f_CO2 = 40 #[μmol/(m2*s)] \n",
    "set_bounds('Im_CO2', (0, f_CO2), c3_model)"
   ]
  },
  {
   "cell_type": "code",
   "execution_count": 3,
   "metadata": {
    "ExecuteTime": {
     "end_time": "2019-05-06T13:59:01.383899Z",
     "start_time": "2019-05-06T15:59:01.379543+02:00"
    },
    "code_folding": [],
    "collapsed": false,
    "hide_input": false,
    "run_control": {
     "marked": true
    }
   },
   "outputs": [],
   "source": [
    "#CONSTRAINT: Maintenace cost\n",
    "\n",
    "atp_cost_L3_m = 0.009111187245501572 #Mitochondria-L3-ATP Cost [µmol*s-1*m-2]\n",
    "atp_cost_L3_h = 0.15270708327974447 #Chloroplast-L3-ATP Cost [µmol*s-1*m-2]\n",
    "atp_cost_L3_p = 0.0076669066992201855 #Peroxisome-L3-ATP Cost [µmol*s-1*m-2]\n",
    "atp_cost_L3_c = 0.042683072918274702 #Cytosl/Other-L3-ATP Cost [µmol*s-1*m-2]\n",
    "\n",
    "set_fixed_flux('NGAM_c',atp_cost_L3_c + atp_cost_L3_p, c3_model)\n",
    "set_fixed_flux('NGAM_m',atp_cost_L3_m, c3_model)\n",
    "set_fixed_flux('NGAM_h',atp_cost_L3_h, c3_model)"
   ]
  },
  {
   "cell_type": "code",
   "execution_count": 4,
   "metadata": {
    "ExecuteTime": {
     "end_time": "2019-05-06T13:59:01.389639Z",
     "start_time": "2019-05-06T15:59:01.386298+02:00"
    },
    "collapsed": true,
    "hide_input": false,
    "run_control": {
     "marked": true
    }
   },
   "outputs": [],
   "source": [
    "#CONSTRAINT: fluxes through the chloroplastic NADPH dehydrogenase and plastoquinol oxidase were set to zero \n",
    "#because the contributions of NADPH dehydrogenase (Yamamoto et al., 2011) and plastoquinol oxidase \n",
    "#(Josse et al., 2000) to photosynthesis are thought to be minor.\n",
    "set_bounds('AOX4_h',(0,0), c3_model)\n",
    "set_bounds('iCitDHNADP_h',(0,0), c3_model)"
   ]
  },
  {
   "cell_type": "code",
   "execution_count": 5,
   "metadata": {
    "ExecuteTime": {
     "end_time": "2019-05-06T13:59:01.394372Z",
     "start_time": "2019-05-06T15:59:01.391319+02:00"
    },
    "collapsed": false,
    "hide_input": false,
    "run_control": {
     "marked": true
    }
   },
   "outputs": [],
   "source": [
    "#CONSTRAINT: NTT is only active at night\n",
    "set_fixed_flux('Tr_NTT',0, c3_model)"
   ]
  },
  {
   "cell_type": "code",
   "execution_count": 6,
   "metadata": {
    "ExecuteTime": {
     "end_time": "2019-05-06T13:59:01.400153Z",
     "start_time": "2019-05-06T15:59:01.396432+02:00"
    },
    "collapsed": true,
    "hide_input": false,
    "run_control": {
     "marked": true
    }
   },
   "outputs": [],
   "source": [
    "#CONSTRAINT: No uncoupled pyruvate transport\n",
    "set_bounds('Tr_Pyr1',(0,0), c3_model)\n",
    "set_bounds('Tr_Pyr2',(0,0), c3_model)"
   ]
  },
  {
   "cell_type": "markdown",
   "metadata": {
    "hide_input": true,
    "run_control": {
     "marked": true
    }
   },
   "source": [
    "## 2. C4 Model"
   ]
  },
  {
   "cell_type": "markdown",
   "metadata": {
    "hide_input": true,
    "run_control": {
     "marked": true
    }
   },
   "source": [
    "### 2.1 Compose Model"
   ]
  },
  {
   "cell_type": "markdown",
   "metadata": {
    "ExecuteTime": {
     "end_time": "2018-02-06T17:46:39.521620+01:00",
     "start_time": "2018-02-06T17:46:39.518672"
    },
    "hide_input": true,
    "run_control": {
     "marked": true
    }
   },
   "source": [
    "#### 2.1.1 Two copies of genC3 model and exchange reactions"
   ]
  },
  {
   "cell_type": "code",
   "execution_count": 7,
   "metadata": {
    "ExecuteTime": {
     "end_time": "2019-05-06T13:59:02.279957Z",
     "start_time": "2019-05-06T15:59:01.401677+02:00"
    },
    "code_folding": [],
    "collapsed": false,
    "hide_input": false,
    "run_control": {
     "marked": true
    }
   },
   "outputs": [],
   "source": [
    "c4_model = cobra.Model('c4_model')\n",
    "\n",
    "cell_types = ['M', 'B']\n",
    "\n",
    "#duplicate metabolites\n",
    "for m in c3_model.metabolites:\n",
    "    for cell in cell_types:\n",
    "        m_dt = cobra.Metabolite('['+cell+']_'+m.id, name = m.formula, compartment = m.compartment)\n",
    "        c4_model.add_metabolites([m_dt])\n",
    "\n",
    "#duplicate reactions\n",
    "for r_c3_obj in c3_model.reactions:\n",
    "    for cell in cell_types:\n",
    "        r_c4_obj = cobra.Reaction('['+cell+']_'+r_c3_obj.id)\n",
    "        r_c4_obj.name = r_c3_obj.name\n",
    "        r_c4_obj.subsystem = r_c3_obj.subsystem\n",
    "        r_c4_obj.bounds = r_c3_obj.bounds\n",
    "        c4_model.add_reaction(r_c4_obj)\n",
    "        r_c4_obj.add_metabolites({'['+cell+']_'+m_c3_obj.id: r_c3_obj.get_coefficient(m_c3_obj) for m_c3_obj in r_c3_obj.metabolites})\n",
    "        \n",
    "        \n",
    "#metabolites excluded from M/BS exchange\n",
    "no_transport = ['NO3','NO2', 'O2','Na', 'H2S', 'SO4',\n",
    "                'H2O','FBP','F26BP','DPGA','H','ACD','AC','M_DASH_THF', '5M_DASH_THF', 'H_DASH_Cys', 'aH_DASH_Cys', 'ORO', 'DHO',\n",
    "                'GABA','A_DASH_Ser','PRPP','AD','THF','DHF','ADN','Mas','CoA','GluP',\n",
    "                'A_DASH_CoA','cellulose1','cellulose2','cellulose3','starch1',\n",
    "                'starch2','starch3','TRXox','TRXrd','Glu_DASH_SeA','T6P','aMet',\n",
    "                'PPi', 'P5C', 'NH4', 'Pi', 'CO2', 'OAA','HCO3', \n",
    "                'UTP', 'UDP', 'UDPG', 'ATP', 'ADP', 'AMP', 'IMP', 'XMP', \n",
    "                'GTP', 'GDP', 'GMP', 'OMP', 'UMP', 'CTP', 'GDP', 'CDP', 'dADP', \n",
    "                'dCDP', 'dGDP', 'dUDP', 'dUTP', 'dUMP', 'dTMP', 'dTDP', 'GTP', \n",
    "                'dATP', 'dCTP', 'dGTP', 'dTTP', 'NAD', 'NADH', 'NADP', 'NADPH']\n",
    "\n",
    "#add M/BS exchange reactions\n",
    "R_metTrans = []\n",
    "for m_c3_obj in c3_model.metabolites:\n",
    "    if m_c3_obj.id[-1:] == 'c' and m_c3_obj.id[:-2] not in no_transport:\n",
    "        r_c4_obj = cobra.Reaction('[MB]_'+m_c3_obj.id)\n",
    "        r_c4_obj.name = '[MB]_'+m_c3_obj.id\n",
    "        r_c4_obj.subsystem = 'Exchange'\n",
    "        r_c4_obj.bounds = (-inf, inf)\n",
    "        c4_model.add_reaction(r_c4_obj)\n",
    "        r_c4_obj.add_metabolites({'[M]_'+m_c3_obj.id: -1,'[B]_'+m_c3_obj.id: 1 })\n",
    "        R_metTrans.append('[MB]_'+m_c3_obj.id)"
   ]
  },
  {
   "cell_type": "markdown",
   "metadata": {
    "ExecuteTime": {
     "end_time": "2018-02-06T17:47:11.482156+01:00",
     "start_time": "2018-02-06T17:47:11.480023"
    },
    "hide_input": true,
    "run_control": {
     "marked": true
    }
   },
   "source": [
    "#### 2.1.2 Adaptations for second unconstrained rubisco population in the bundle sheath"
   ]
  },
  {
   "cell_type": "code",
   "execution_count": 8,
   "metadata": {
    "ExecuteTime": {
     "end_time": "2019-05-06T13:59:02.298330Z",
     "start_time": "2019-05-06T15:59:02.281485+02:00"
    },
    "collapsed": false,
    "hide_input": false,
    "run_control": {
     "marked": true
    }
   },
   "outputs": [],
   "source": [
    "#CONSTRAINT: Add external CO2 species in bundle sheat\n",
    "#(the original CO2 species is treated as internal CO2)\n",
    "m_list_CO_Ex= ['[B]_CO2_ex_c','[B]_CO2_ex_h','[B]_CO2_ex_m']\n",
    "\n",
    "for m_id in m_list_CO_Ex:\n",
    "    m_obj = cobra.Metabolite(m_id)\n",
    "    c4_model.add_metabolites(m_obj)\n",
    "\n",
    "#CONSTRAINT: Copy all reactions using internal CO2 and exchange internal with external CO2 in the copied recactions\n",
    "r_list_CO_Ex = ['Tr_CO2h', 'RBC_h']\n",
    "\n",
    "\n",
    "\n",
    "for r_id in r_list_CO_Ex:\n",
    "    r_obj = c4_model.reactions.get_by_id('[B]_'+r_id)\n",
    "    r_obj_Ex = cobra.Reaction(r_obj.id+'_Ex')\n",
    "    r_obj_Ex.name = r_obj.id+'_Ex'\n",
    "    r_obj_Ex.subsystem = r_obj.subsystem\n",
    "    r_obj_Ex.bounds = r_obj.bounds\n",
    "    c4_model.add_reaction(r_obj_Ex)\n",
    "    r_obj_Ex.add_metabolites({m_obj.id if not m_obj.id[:-2] == '[B]_CO2' else '[B]_CO2_ex'+m_obj.id[-2:]: r_obj.get_coefficient(m_obj) \n",
    "                                  for m_obj in r_obj.metabolites})\n",
    "\n",
    "#CONSTRAINT: CO2 exchange between mesophyll and bundle sheat\n",
    "r_c4_obj = cobra.Reaction('[MB]_CO2_c')\n",
    "r_c4_obj.name = '[MB]_CO2_c'\n",
    "r_c4_obj.subsystem = 'Exchange'\n",
    "r_c4_obj.bounds = (-inf, inf)\n",
    "c4_model.add_reaction(r_c4_obj)\n",
    "r_c4_obj.add_metabolites({'[M]_CO2_c': -1,'[B]_CO2_ex_c': 1 })\n",
    "R_metTrans.append('[MB]_CO2_c')"
   ]
  },
  {
   "cell_type": "markdown",
   "metadata": {
    "hide_input": true,
    "run_control": {
     "marked": true
    }
   },
   "source": [
    "### 2.3 Constraints"
   ]
  },
  {
   "cell_type": "code",
   "execution_count": 9,
   "metadata": {
    "ExecuteTime": {
     "end_time": "2019-05-06T13:59:02.302587Z",
     "start_time": "2019-05-06T15:59:02.300131+02:00"
    },
    "collapsed": false,
    "hide_input": false,
    "run_control": {
     "marked": true
    }
   },
   "outputs": [],
   "source": [
    "#CONSTRAINT: No CO2 uptake in bundle sheat cells due to suberin layer in cell membranes\n",
    "set_fixed_flux('[B]_Im_CO2',0, c4_model)"
   ]
  },
  {
   "cell_type": "code",
   "execution_count": 10,
   "metadata": {
    "ExecuteTime": {
     "end_time": "2019-05-06T13:59:02.323072Z",
     "start_time": "2019-05-06T15:59:02.304064+02:00"
    },
    "collapsed": false,
    "hide_input": false,
    "run_control": {
     "marked": true
    },
    "scrolled": false
   },
   "outputs": [
    {
     "data": {
      "text/plain": [
       "<optlang.glpk_interface.Constraint at 0x11822df90>"
      ]
     },
     "execution_count": 10,
     "metadata": {},
     "output_type": "execute_result"
    }
   ],
   "source": [
    "#CONSTRAINT: Output of sucrose : total amino acid and sucrose : starch\n",
    "set_fixed_flux_ratio({'[B]_Ex_Suc':2.2,'[B]_Ex_AA':1.0}, c4_model)\n",
    "set_fixed_flux_ratio({'[B]_Ex_Suc':1.0,'[B]_Ex_starch':1.0}, c4_model)\n",
    "\n",
    "set_fixed_flux_ratio({'[M]_Ex_Suc':2.2,'[M]_Ex_AA':1.0}, c4_model)\n",
    "set_fixed_flux_ratio({'[M]_Ex_Suc':1.0,'[M]_Ex_starch':1.0}, c4_model)"
   ]
  },
  {
   "cell_type": "code",
   "execution_count": 11,
   "metadata": {
    "ExecuteTime": {
     "end_time": "2019-05-06T13:59:02.334677Z",
     "start_time": "2019-05-06T15:59:02.324572+02:00"
    },
    "collapsed": false,
    "hide_input": false,
    "run_control": {
     "marked": true
    }
   },
   "outputs": [
    {
     "data": {
      "text/plain": [
       "<optlang.glpk_interface.Constraint at 0x118267f90>"
      ]
     },
     "execution_count": 11,
     "metadata": {},
     "output_type": "execute_result"
    }
   ],
   "source": [
    "#CONSTRAINT: oxygenation : carboxylation = 1 : 3\n",
    "set_fixed_flux_ratio({'[B]_RBC_h_Ex':3,'[B]_RBO_h':1}, c4_model)\n",
    "set_fixed_flux_ratio({'[M]_RBC_h':3,'[M]_RBO_h':1}, c4_model)"
   ]
  },
  {
   "cell_type": "markdown",
   "metadata": {
    "hide_input": true,
    "run_control": {
     "marked": true
    }
   },
   "source": [
    "## 3 FBA"
   ]
  },
  {
   "cell_type": "code",
   "execution_count": 12,
   "metadata": {
    "ExecuteTime": {
     "end_time": "2019-05-06T14:02:36.375836Z",
     "start_time": "2019-05-06T15:59:02.336705+02:00"
    },
    "collapsed": false,
    "hide_input": false,
    "run_control": {
     "marked": true
    }
   },
   "outputs": [
    {
     "name": "stderr",
     "output_type": "stream",
     "text": [
      "//anaconda/lib/python2.7/site-packages/cobra/util/solver.py:419: UserWarning:\n",
      "\n",
      "solver status is 'infeasible'\n",
      "\n"
     ]
    }
   ],
   "source": [
    "#Dictionary of Decarboxylation enzmes and their model ids\n",
    "D_DCE = {'[B]_MalDH4_h': 'NADP-ME', '[B]_MalDH2_m': 'NAD-ME', '[B]_PEPC1_c': 'PEP-CK'}\n",
    "\n",
    "#Reaction Variables\n",
    "M_Im_hnu = c4_model.reactions.get_by_id(\"[M]_Im_hnu\")\n",
    "B_Im_hnu = c4_model.reactions.get_by_id(\"[B]_Im_hnu\")\n",
    "B_Ex_Suc = c4_model.reactions.get_by_id(\"[B]_Ex_Suc\")\n",
    "B_RBO = c4_model.reactions.get_by_id(\"[B]_RBO_h\")\n",
    "M_RBO = c4_model.reactions.get_by_id(\"[M]_RBO_h\")\n",
    "\n",
    "#Array defining porportions of light hitting the mesophyll\n",
    "L_hnu_M = np.concatenate((np.arange(0.5,1.,0.1),np.arange(1,11,1)),axis = 0)\n",
    "\n",
    "#Maximum light uptake\n",
    "hnu_max = 1000\n",
    "\n",
    "#Array defing total light sums\n",
    "L_hnu_max = sorted([0,50,150] + range(100,hnu_max+100,100))\n",
    "\n",
    "#Set FBA solver\n",
    "c4_model.solver = \"glpk\"\n",
    "\n",
    "#Initialize dictionary to store results\n",
    "D_fba={}\n",
    "\n",
    "#Run every FBA experiment\n",
    "#iterate L_hnu_max\n",
    "for hnu_total in L_hnu_max:                \n",
    "    \n",
    "    #Add total light contraint \n",
    "    const_hnu1 = c4_model.problem.Constraint( M_Im_hnu.flux_expression + B_Im_hnu.flux_expression, \n",
    "                                             lb = hnu_total, ub = hnu_total)\n",
    "    c4_model.add_cons_vars(const_hnu1)\n",
    "    \n",
    "    #initialize dictionary to store results\n",
    "    D_fba[hnu_total] = {}                \n",
    "    \n",
    "    #iterate over L_hnu_M \n",
    "    for hnu in L_hnu_M:               \n",
    "        \n",
    "        #Add light distribution contraint\n",
    "        const_hnu2 = set_fixed_flux_ratio({'[M]_Im_hnu':hnu,'[B]_Im_hnu':1},c4_model)\n",
    "        \n",
    "        #Optimize/Maximize sucrose output\n",
    "        B_Ex_Suc.objective_coefficient = 1.\n",
    "        c4_model_copy = c4_model.copy()\n",
    "        result_fba = c4_model_copy.optimize('maximize')\n",
    "        del c4_model_copy\n",
    "        c4_model.objective =[]\n",
    "        set_fixed_flux(B_Ex_Suc.id,result_fba.fluxes[B_Ex_Suc.id], c4_model)\n",
    "        \n",
    "        #Optimize/Minimize oxygenation rate by rubisco (set True)\n",
    "        if True:\n",
    "                B_RBO.objective_coefficient = 1.\n",
    "                M_RBO.objective_coefficient = 1.\n",
    "                c4_model_copy = c4_model.copy()\n",
    "                result_fba = c4_model_copy.optimize('minimize')\n",
    "                del c4_model_copy\n",
    "                c4_model.objective =[]\n",
    "                set_fixed_flux(B_RBO.id,result_fba.fluxes[B_RBO.id],c4_model)            \n",
    "                set_fixed_flux(M_RBO.id,result_fba.fluxes[M_RBO.id],c4_model)\n",
    "            \n",
    "        #Optimize/Minimize total flux\n",
    "        if result_fba.status == 'optimal':      \n",
    "            c4_model_copy = c4_model.copy()\n",
    "            result_pfba = cobra.flux_analysis.parsimonious.pfba(c4_model_copy)\n",
    "            D_fba[hnu_total][hnu] = result_pfba.fluxes\n",
    "            del c4_model_copy\n",
    "        else:\n",
    "            D_fba[hnu_total][hnu]={r_obj.id: 0 for r_obj in c4_model.reactions}\n",
    "        \n",
    "        #Reset reaction bounds\n",
    "        set_bounds(B_RBO.id,(0,inf),c4_model)\n",
    "        set_bounds(M_RBO.id,(0,inf),c4_model)\n",
    "        set_bounds(B_Ex_Suc.id,(0,inf),c4_model)\n",
    "        \n",
    "        #Remove light distribution constaint\n",
    "        c4_model.remove_cons_vars(const_hnu2)  \n",
    "        \n",
    "    #Remove total light constraint    \n",
    "    c4_model.remove_cons_vars(const_hnu1)         \n"
   ]
  },
  {
   "cell_type": "markdown",
   "metadata": {
    "ExecuteTime": {
     "end_time": "2018-02-06T17:54:23.611334+01:00",
     "start_time": "2018-02-06T17:54:23.609194"
    },
    "hide_input": true,
    "run_control": {
     "marked": true
    }
   },
   "source": [
    "## 4 Figures"
   ]
  },
  {
   "cell_type": "code",
   "execution_count": 13,
   "metadata": {
    "ExecuteTime": {
     "end_time": "2019-05-06T14:02:36.379343Z",
     "start_time": "2019-05-06T16:02:36.377163+02:00"
    },
    "collapsed": true
   },
   "outputs": [],
   "source": [
    "save_fig = False"
   ]
  },
  {
   "cell_type": "code",
   "execution_count": 15,
   "metadata": {
    "ExecuteTime": {
     "end_time": "2019-05-06T14:10:24.393649Z",
     "start_time": "2019-05-06T16:10:24.097460+02:00"
    },
    "collapsed": false
   },
   "outputs": [
    {
     "name": "stdout",
     "output_type": "stream",
     "text": [
      "This is the format of your plot grid:\n",
      "[ (1,1) x1,y1           -                -      ]\n",
      "[ (2,1) x2,y2 ]  [ (2,2) x3,y2 ]  [ (2,3) x4,y2 ]\n",
      "\n"
     ]
    },
    {
     "data": {
      "application/vnd.plotly.v1+json": {
       "config": {
        "linkText": "Export to plot.ly",
        "plotlyServerURL": "https://plot.ly",
        "showLink": false
       },
       "data": [
        {
         "line": {
          "color": "rgb(214, 39, 40)"
         },
         "type": "scatter",
         "uid": "a453346a-5cfa-4808-a37e-9379de263c08",
         "x": [
          1,
          2,
          3,
          4,
          5,
          6,
          7,
          8,
          9,
          10,
          11,
          12,
          13
         ],
         "xaxis": "x",
         "y": [
          0,
          4.94930467450332,
          9.933616667752252,
          14.917928661001232,
          19.902240654250125,
          29.87086464074809,
          39.83948862724592,
          39.999999999999964,
          39.999999999999886,
          39.99999999999481,
          40.00000000000509,
          39.999999999999936,
          39.999999999989846
         ],
         "yaxis": "y"
        },
        {
         "colorbar": {
          "len": 0.405,
          "title": {
           "side": "right",
           "text": "Decarboxylation Rate : CO2 Uptake Rate"
          },
          "y": 0.19
         },
         "showscale": false,
         "type": "heatmap",
         "uid": "bad989d8-66ca-4b06-979c-6a6560c05b1b",
         "x": [
          1,
          2,
          3,
          4,
          5,
          6,
          7,
          8,
          9,
          10,
          11,
          12,
          13
         ],
         "xaxis": "x2",
         "y": [
          1,
          2,
          3,
          4,
          5,
          6,
          7,
          8,
          9,
          10,
          11,
          12,
          13,
          14,
          15
         ],
         "yaxis": "y2",
         "z": [
          [
           0,
           0.22328497441873893,
           0.22921868031368886,
           0.2311872993483827,
           0.2321698775008317,
           0.23315130411598362,
           0.23364158622920933,
           0.6078125865309703,
           0.15962581928270808,
           0,
           0,
           0,
           0
          ],
          [
           0,
           0.2357807576268224,
           0.25093686431073914,
           0.2559651890430236,
           0.25847492908848274,
           0.2609817278313456,
           0.2622340258298186,
           0.7434374137207072,
           0.06409660459660085,
           0.05522699007700565,
           0,
           0,
           0
          ],
          [
           0,
           0.2235864151982073,
           0.23260310558408567,
           0.23559456297012082,
           0.23708766073090148,
           0.23857900864823617,
           0.23932402737533873,
           0.833717576447125,
           0,
           0.13564978419668497,
           0,
           0,
           0
          ],
          [
           0,
           0.2189883246285708,
           0.22787982849182453,
           0.23082975288364185,
           0.23230212067482797,
           0.23377276291728163,
           0.2345074379050427,
           0.8739792745511871,
           0.0016215367984232624,
           0.102767273359956,
           0.033525601190157905,
           0,
           0
          ],
          [
           0,
           0.22818447369115785,
           0.23704344627241467,
           0.23998257779710255,
           0.24144955864621556,
           0.24291482025974345,
           0.24364680729705052,
           0.9224442873831062,
           0.6899489887354049,
           0.03880528505585629,
           0.10662501639485408,
           0,
           0
          ],
          [
           0,
           0.23649239243032946,
           0.24532208685809692,
           0.24825150480143374,
           0.24971363740358193,
           0.2511740564515473,
           0.25190362433367636,
           0.874816196769713,
           0.7471385574475834,
           0.005789213992524425,
           0.15666715800830558,
           0.01331583767637311,
           0
          ],
          [
           0,
           0.15965839119812733,
           0.1666574240047584,
           0.16897948536979984,
           0.17013847384173061,
           0.1712961040294706,
           0.17212723076827535,
           0.9338723038848192,
           0.7077339749737026,
           0.7059729511388493,
           0.7151061770647139,
           0.7171225553981031,
           0.002510766655622876
          ],
          [
           0,
           0.10704157251518552,
           0.11422603363086263,
           0.12445576013973093,
           0.11779930838052319,
           0.11898760814982239,
           0.11958123595109488,
           0.7987301756906765,
           0.7270006218802687,
           0.7077339749737024,
           0.707733974973702,
           0.7074550009008552,
           0.7074550009008517
          ],
          [
           0,
           0.07547148130433164,
           0.08276719940679296,
           0.08518769172237892,
           0.08639580910212812,
           0.08760251062140006,
           0.088205331212726,
           0.7507207653339253,
           0.7270006218797069,
           0.7755512886775856,
           0.8490562581598978,
           0.7970802513776284,
           0.7678365145126188
          ],
          [
           0,
           0.05442475383164935,
           0.06179464325646816,
           0.06423974331132798,
           0.06546014291811043,
           0.06667911226938794,
           0.06728806138563642,
           0.7333596542228177,
           0.6277906874029496,
           0.7134813516518508,
           0.7934635152173071,
           0.852927765585266,
           0.9475725366781963
          ],
          [
           0,
           0.039391377064988804,
           0.04681424600674221,
           0.04927692301712632,
           0.05050609564283379,
           0.05173382773266096,
           0.05234715436813271,
           0.721891909170686,
           0.5825894942788791,
           0.6526612259973823,
           0.7240573243978796,
           0.7850237003420013,
           0.9149652154202941
          ],
          [
           0,
           0.028116344490098682,
           0.03557894806965865,
           0.03805480779694121,
           0.03929056018642651,
           0.04052486432958254,
           0.04114147410440085,
           0.7015248310142137,
           0.5508975139540928,
           0.5901612259972697,
           0.6526612259972716,
           0.7197058894900825,
           0.8238725561567461
          ],
          [
           0,
           0.019346874709181932,
           0.026840383007123627,
           0.0293264959585643,
           0.030567365943125268,
           0.03180678168333991,
           0.03242594501006939,
           0.6201639597848217,
           0.5289843087007214,
           0.5415501148861641,
           0.5969452603498228,
           0.6525008159054158,
           0.708032355305431
          ],
          [
           0,
           0.012331298885433276,
           0.01984953095708591,
           0.022343846487833254,
           0.023588810547642385,
           0.024832315565879767,
           0.02545352173522011,
           0.5507195153403686,
           0.5112340524156477,
           0.5026612259972701,
           0.5525984568308728,
           0.6025984568308903,
           0.6525008159053852
          ],
          [
           0,
           0.006591282301266994,
           0.014129742916523228,
           0.016630769648390477,
           0.017879083406417952,
           0.019125934196775843,
           0.019748811782176388,
           0.4939013335221747,
           0.49693302664943817,
           0.47078027501269826,
           0.6542737218474722,
           0.561689365921785,
           0.6070462704508297
          ]
         ],
         "zmax": 1,
         "zmin": 0
        },
        {
         "colorbar": {
          "len": 0.405,
          "title": {
           "side": "right",
           "text": "Decarboxylation Rate : CO2 Uptake Rate"
          },
          "y": 0.19
         },
         "showscale": false,
         "type": "heatmap",
         "uid": "7f7c477a-bd0b-40a6-b4d7-0334838b1896",
         "x": [
          1,
          2,
          3,
          4,
          5,
          6,
          7,
          8,
          9,
          10,
          11,
          12,
          13
         ],
         "xaxis": "x3",
         "y": [
          1,
          2,
          3,
          4,
          5,
          6,
          7,
          8,
          9,
          10,
          11,
          12,
          13,
          14,
          15
         ],
         "yaxis": "y2",
         "z": [
          [
           0,
           0.7550770990560575,
           0.749143393161109,
           0.747174774126427,
           0.7461921959739577,
           0.7452107693588153,
           0.7447204872455854,
           0.37082846101667327,
           0.5592117339985249,
           0.6055105492260626,
           0.5893302436799198,
           0.5048243093108562,
           0.4214909759775205
          ],
          [
           0,
           0.7425813158479727,
           0.7274252091640575,
           0.7223968844317702,
           0.7198871443863141,
           0.7173803456434502,
           0.7161280476449795,
           0.235203633826936,
           0.7273567073027196,
           0.5480105540660557,
           0.575471000828469,
           0.5516993093108422,
           0.4735743093108504
          ],
          [
           0,
           0.7547756582765878,
           0.7457589678907127,
           0.7427675105046732,
           0.7412744127438945,
           0.7397830648265613,
           0.7390380460994576,
           0.1445747535094595,
           0.8840846084239883,
           0.5077991570062176,
           0.5754710008284848,
           0.5954576946602943,
           0.5195301916637897
          ],
          [
           0,
           0.7672198946450473,
           0.7583283907817944,
           0.7553784663899794,
           0.7539060985987914,
           0.7524354563563438,
           0.7517007813685973,
           0.1043130554053906,
           0.960682830357438,
           0.6125978263431222,
           0.5588612485094782,
           0.5754710008284882,
           0.5414475003908723
          ],
          [
           0,
           0.7580237455824647,
           0.7491647730012175,
           0.7462256414765311,
           0.7447586606274114,
           0.7432933990138825,
           0.7425614119765875,
           0.056004965489456465,
           0.20334342840057767,
           0.7725027971033647,
           0.5223115409071264,
           0.5754710008284791,
           0.5534979179518605
          ],
          [
           0,
           0.749715826843291,
           0.7408861324155281,
           0.7379567144721927,
           0.7364945818700515,
           0.7350341628220746,
           0.7343045949399463,
           0.103633056102847,
           0.21406947139396817,
           0.8794478267900024,
           0.5066146083614046,
           0.5708652318680452,
           0.553497917951885
          ],
          [
           0,
           0.8265498280754945,
           0.8195507952688629,
           0.8172287339038186,
           0.8160697454318906,
           0.8149121152441506,
           0.8140809885053404,
           0.043064386436521905,
           0.2709070725739414,
           0.2726680964087929,
           0.26352324656322673,
           0.260844304806833,
           0.9558140065676259
          ],
          [
           0,
           0.8791666467582193,
           0.8719821856428087,
           0.8539063133349653,
           0.8684089108923875,
           0.867220611124056,
           0.8666269833222007,
           0.1799108718569651,
           0.2483101726725799,
           0.26911698893984176,
           0.2709070725739413,
           0.2711860466467898,
           0.27118604664679086
          ],
          [
           0,
           0.9107367379697142,
           0.9034410198666218,
           0.9010205275516484,
           0.8998124101716874,
           0.8986057086524782,
           0.8980028880604238,
           0.2279202822137215,
           0.24831017267332803,
           0.20136941875417277,
           0.1295847893877455,
           0.18156079617001464,
           0.21090914831234556
          ],
          [
           0,
           0.9317834654419342,
           0.9244135760174169,
           0.9219684759623628,
           0.920748076355196,
           0.9195291070045558,
           0.9189201578884658,
           0.2452813933248265,
           0.3475724147887416,
           0.26515969589579297,
           0.1833812656540615,
           0.12391701528610859,
           0.029752101963199912
          ],
          [
           0,
           0.9468168422085975,
           0.9393939732671349,
           0.9369312962566619,
           0.9357021236307463,
           0.934474391541028,
           0.9338610649054674,
           0.2567491383769574,
           0.39605155326876323,
           0.32608443682757854,
           0.25458372314976463,
           0.19361734720564075,
           0.06367583212734713
          ],
          [
           0,
           0.958091874783421,
           0.9506292712040887,
           0.9481534114765854,
           0.9469176590873399,
           0.9456833549442191,
           0.9450667451691812,
           0.27722083181074414,
           0.42784814887086836,
           0.38858443682768845,
           0.3260844368276932,
           0.2589351580575595,
           0.1547684913908967
          ],
          [
           0,
           0.9668613445645973,
           0.9593678362667358,
           0.9568817233150851,
           0.9556408533303845,
           0.9544014375901405,
           0.9537822742637323,
           0.35847708776282144,
           0.44976135412423973,
           0.4371955479387968,
           0.3818004024751404,
           0.326244846919736,
           0.2706086922422124
          ],
          [
           0,
           0.9738769203878784,
           0.9663586883168788,
           0.9638643727859281,
           0.9626194087262223,
           0.961375903707652,
           0.9607546975383056,
           0.4279215322072756,
           0.4675116104093098,
           0.4760844368276847,
           0.42614720599409295,
           0.37614720599407014,
           0.32624484691956857
          ],
          [
           0,
           0.9796169369723979,
           0.9720784763573022,
           0.9695774496253046,
           0.9683291358674357,
           0.967082285077009,
           0.9664594074916796,
           0.4847397140254669,
           0.4818126361755238,
           0.5079653878122541,
           0.3244719409774908,
           0.41705629690317486,
           0.37169939237412
          ]
         ],
         "zmax": 1,
         "zmin": 0
        },
        {
         "colorbar": {
          "len": 0.405,
          "title": {
           "side": "right",
           "text": "Decarboxylation Rate : CO2 Uptake Rate"
          },
          "y": 0.19
         },
         "showscale": true,
         "type": "heatmap",
         "uid": "edc7321b-2402-455d-aaae-db5334b7a496",
         "x": [
          1,
          2,
          3,
          4,
          5,
          6,
          7,
          8,
          9,
          10,
          11,
          12,
          13
         ],
         "xaxis": "x4",
         "y": [
          1,
          2,
          3,
          4,
          5,
          6,
          7,
          8,
          9,
          10,
          11,
          12,
          13,
          14,
          15
         ],
         "yaxis": "y2",
         "z": [
          [
           0,
           0.008055376353460118,
           0.008055376353462866,
           0.008055376353466613,
           0.008055376353460037,
           0.008055376353459459,
           0.008055376353460776,
           0.008055376353459827,
           0.2678588706198861,
           0.3809069006021918,
           0.38129775490215106,
           0.459940684092573,
           0.5432740174259091
          ],
          [
           0,
           0.008055376353460146,
           0.008055376353460153,
           0.008055376353460195,
           0.008055376353460134,
           0.00805537635346012,
           0.008055376353460167,
           0.008055376353460071,
           0.19496413792893644,
           0.37736911831062314,
           0.40513759894515067,
           0.413065684092581,
           0.491190684092582
          ],
          [
           0,
           0.008055376353460368,
           0.00805537635346042,
           0.008055376353460245,
           0.00805537635346033,
           0.008055376353460408,
           0.008055376353460209,
           0.008055376353460151,
           0.10138963960037066,
           0.3371577212507849,
           0.4051375989451515,
           0.3812977549021673,
           0.44523480173963925
          ],
          [
           0,
           0.00020923055463502408,
           0.00020923055463548045,
           0.00020923055463524252,
           0.00020923055463532261,
           0.00020923055463536937,
           0.00020923055462815086,
           0.008055376353461955,
           0.023130861457579626,
           0.2700701289103623,
           0.3882198127540494,
           0.40513759894514706,
           0.4200532922409049
          ],
          [
           0,
           0.00020923055463409077,
           0.00020923055463508919,
           0.00020923055463452418,
           0.00020923055463807757,
           0.00020923055463860834,
           0.00020923055461984042,
           0.008055376353460198,
           0.09214281147745791,
           0.17412714645422023,
           0.35167010515169955,
           0.40513759894514145,
           0.40498261334913477
          ],
          [
           0,
           0.00020923055463522655,
           0.00020923055463479317,
           0.00020923055463448732,
           0.00020923055463348313,
           0.0002092305546351387,
           0.0002092305546350042,
           0.008055376353460122,
           0.024227199771889665,
           0.10019818783069499,
           0.3221534622437835,
           0.398324694510982,
           0.4049826133491212
          ],
          [
           0,
           0.00020923055463425047,
           0.00020923055463461848,
           0.00020923055463699895,
           0.00020923055463561142,
           0.00020923055463571247,
           0.00020923055464224652,
           0.008055376353460134,
           0.008055376353460396,
           0.00805537635346096,
           0.0080553763534601,
           0.008055376353456706,
           0.027697463335143366
          ],
          [
           0,
           0.0002092305547436592,
           0.00020923055461005008,
           0.00805537635346009,
           0.00020923055499090135,
           0.00020923055450743248,
           0.0002092305547977879,
           0.008055376353460451,
           0.008055376353457988,
           0.00805537635346042,
           0.00805537635346026,
           0.00805537635346055,
           0.0080553763534605
          ],
          [
           0,
           0.000209230554419776,
           0.00020923055473798913,
           0.00020923055440978046,
           0.00020923055453738232,
           0.00020923055457416762,
           0.00020923055486913686,
           0.008055376353459993,
           0.008055376353461725,
           0.008055376353460202,
           0.008055376353460765,
           0.008055376353459908,
           0.008055376353460753
          ],
          [
           0,
           0.0002092305546540024,
           0.00020923055450312506,
           0.00020923055460077215,
           0.00020923055478299434,
           0.00020923055444711731,
           0.00020923055436825817,
           0.008055376353458852,
           0.008055376353459395,
           0.008055376353459888,
           0.008055376353461222,
           0.008055376353460613,
           0.008055376353460179
          ],
          [
           0,
           0.00020923055465314224,
           0.0002092305545073863,
           0.00020923055455126607,
           0.0002092305546550207,
           0.0002092305546017191,
           0.00020923055464551005,
           0.00805537635346017,
           0.008055376353460434,
           0.008055376353460205,
           0.008055376353460415,
           0.008055376353459587,
           0.008055376353459955
          ],
          [
           0,
           0.00020923055468604073,
           0.00020923055457247965,
           0.00020923055468269114,
           0.0002092305545626589,
           0.00020923055454622247,
           0.00020923055465541917,
           0.008055376353460023,
           0.008055376353460162,
           0.008055376353459627,
           0.008055376353460016,
           0.008055376353460446,
           0.008055376353460642
          ],
          [
           0,
           0.00020923055455631493,
           0.00020923055451587425,
           0.0002092305546208694,
           0.00020923055469071762,
           0.00020923055470500006,
           0.00020923055454370414,
           0.008055376353459725,
           0.008055376353460247,
           0.008055376353460576,
           0.00805537635345943,
           0.008055376353461692,
           0.008055376353460547
          ],
          [
           0,
           0.00020923055479001767,
           0.00020923055446237058,
           0.00020923055456541535,
           0.0002092305545083305,
           0.00020923055467517168,
           0.0002092305546827249,
           0.008055376353459348,
           0.008055376353460323,
           0.008055376353460335,
           0.00805537635346011,
           0.00805537635346,
           0.00805537635346221
          ],
          [
           0,
           0.00020923055461321015,
           0.0002092305545333287,
           0.00020923055459807157,
           0.00020923055451990314,
           0.0002092305545691498,
           0.00020923055453346136,
           0.008055376353462502,
           0.008055376353459575,
           0.00805537635345856,
           0.00805537635345911,
           0.008055376353460833,
           0.00805537635346076
          ]
         ],
         "zmax": 1,
         "zmin": 0
        }
       ],
       "layout": {
        "annotations": [
         {
          "font": {
           "size": 16
          },
          "showarrow": false,
          "text": "CO2 Uptake",
          "x": 0.14444444444444446,
          "xanchor": "center",
          "xref": "paper",
          "y": 1,
          "yanchor": "bottom",
          "yref": "paper"
         },
         {
          "font": {
           "size": 16
          },
          "showarrow": false,
          "text": "NADP-ME",
          "x": 0.8555555555555556,
          "xanchor": "center",
          "xref": "paper",
          "y": 0.375,
          "yanchor": "bottom",
          "yref": "paper"
         },
         {
          "font": {
           "size": 16
          },
          "showarrow": false,
          "text": "PEPCK",
          "x": 0.5,
          "xanchor": "center",
          "xref": "paper",
          "y": 0.375,
          "yanchor": "bottom",
          "yref": "paper"
         },
         {
          "font": {
           "size": 16
          },
          "showarrow": false,
          "text": "NAD-ME",
          "x": 0.14444444444444446,
          "xanchor": "center",
          "xref": "paper",
          "y": 0.375,
          "yanchor": "bottom",
          "yref": "paper"
         }
        ],
        "height": 800,
        "width": 1000,
        "xaxis": {
         "anchor": "y",
         "domain": [
          0,
          1
         ],
         "tickangle": 45,
         "tickmode": "array",
         "ticktext": [
          0,
          50,
          100,
          150,
          200,
          300,
          400,
          500,
          600,
          700,
          800,
          900,
          1000
         ],
         "tickvals": [
          1,
          2,
          3,
          4,
          5,
          6,
          7,
          8,
          9,
          10,
          11,
          12,
          13
         ],
         "title": {
          "text": "Total PPFD [µE]"
         }
        },
        "xaxis2": {
         "anchor": "y2",
         "domain": [
          0,
          0.2888888888888889
         ],
         "scaleanchor": "y",
         "scaleratio": 4,
         "tickangle": 45,
         "tickmode": "array",
         "ticktext": [
          0,
          50,
          100,
          150,
          200,
          300,
          400,
          500,
          600,
          700,
          800,
          900,
          1000
         ],
         "tickvals": [
          1,
          2,
          3,
          4,
          5,
          6,
          7,
          8,
          9,
          10,
          11,
          12,
          13
         ]
        },
        "xaxis3": {
         "anchor": "free",
         "domain": [
          0.35555555555555557,
          0.6444444444444445
         ],
         "position": 0,
         "scaleanchor": "y",
         "scaleratio": 4,
         "tickangle": 45,
         "tickmode": "array",
         "ticktext": [
          0,
          50,
          100,
          150,
          200,
          300,
          400,
          500,
          600,
          700,
          800,
          900,
          1000
         ],
         "tickvals": [
          1,
          2,
          3,
          4,
          5,
          6,
          7,
          8,
          9,
          10,
          11,
          12,
          13
         ],
         "title": {
          "text": "Total PPFD [µE]"
         }
        },
        "xaxis4": {
         "anchor": "free",
         "domain": [
          0.7111111111111111,
          1
         ],
         "position": 0,
         "scaleanchor": "y",
         "scaleratio": 4,
         "tickangle": 45,
         "tickmode": "array",
         "ticktext": [
          0,
          50,
          100,
          150,
          200,
          300,
          400,
          500,
          600,
          700,
          800,
          900,
          1000
         ],
         "tickvals": [
          1,
          2,
          3,
          4,
          5,
          6,
          7,
          8,
          9,
          10,
          11,
          12,
          13
         ]
        },
        "yaxis": {
         "anchor": "x",
         "domain": [
          0.625,
          1
         ],
         "title": {
          "text": "Flux [µmol/s/m2]"
         }
        },
        "yaxis2": {
         "anchor": "x2",
         "domain": [
          0,
          0.375
         ],
         "tickmode": "array",
         "ticktext": [
          "1 : 0.5",
          "1 : 0.6",
          "1 : 0.7",
          "1 : 0.8",
          "1 : 0.9",
          "1 : 1.0",
          "1 : 2.0",
          "1 : 3.0",
          "1 : 4.0",
          "1 : 5.0",
          "1 : 6.0",
          "1 : 7.0",
          "1 : 8.0",
          "1 : 9.0",
          "1 : 10.0"
         ],
         "tickvals": [
          1,
          2,
          3,
          4,
          5,
          6,
          7,
          8,
          9,
          10,
          11,
          12,
          13,
          14,
          15
         ],
         "title": {
          "text": "PPFD (BS) : PPFD (M)"
         }
        }
       }
      },
      "text/html": [
       "<div>\n",
       "        \n",
       "        \n",
       "            <div id=\"306dbecf-b98b-401e-a781-d974f22b6e6d\" class=\"plotly-graph-div\"></div>\n",
       "            <script type=\"text/javascript\">\n",
       "                require([\"plotly\"], function(Plotly) {\n",
       "                    window.PLOTLYENV=window.PLOTLYENV || {};\n",
       "                    window.PLOTLYENV.BASE_URL='https://plot.ly';\n",
       "                    \n",
       "                if (document.getElementById(\"306dbecf-b98b-401e-a781-d974f22b6e6d\")) {\n",
       "                    Plotly.newPlot(\n",
       "                        '306dbecf-b98b-401e-a781-d974f22b6e6d',\n",
       "                        [{\"line\": {\"color\": \"rgb(214, 39, 40)\"}, \"type\": \"scatter\", \"uid\": \"85ad1e9b-4856-4991-926a-e3f8373a1a7f\", \"x\": [1, 2, 3, 4, 5, 6, 7, 8, 9, 10, 11, 12, 13], \"xaxis\": \"x\", \"y\": [0.0, 4.94930467450332, 9.933616667752252, 14.917928661001232, 19.902240654250125, 29.87086464074809, 39.83948862724592, 39.999999999999964, 39.999999999999886, 39.99999999999481, 40.00000000000509, 39.999999999999936, 39.999999999989846], \"yaxis\": \"y\"}, {\"colorbar\": {\"len\": 0.405, \"title\": {\"side\": \"right\", \"text\": \"Decarboxylation Rate : CO2 Uptake Rate\"}, \"y\": 0.19}, \"showscale\": false, \"type\": \"heatmap\", \"uid\": \"3a91dce2-2fd8-4eef-a212-6908e2308af0\", \"x\": [1, 2, 3, 4, 5, 6, 7, 8, 9, 10, 11, 12, 13], \"xaxis\": \"x2\", \"y\": [1, 2, 3, 4, 5, 6, 7, 8, 9, 10, 11, 12, 13, 14, 15], \"yaxis\": \"y2\", \"z\": [[0, 0.22328497441873893, 0.22921868031368886, 0.2311872993483827, 0.2321698775008317, 0.23315130411598362, 0.23364158622920933, 0.6078125865309703, 0.15962581928270808, 0.0, 0.0, 0.0, 0.0], [0, 0.2357807576268224, 0.25093686431073914, 0.2559651890430236, 0.25847492908848274, 0.2609817278313456, 0.2622340258298186, 0.7434374137207072, 0.06409660459660085, 0.05522699007700565, 0.0, 0.0, 0.0], [0, 0.2235864151982073, 0.23260310558408567, 0.23559456297012082, 0.23708766073090148, 0.23857900864823617, 0.23932402737533873, 0.833717576447125, 0.0, 0.13564978419668497, 0.0, 0.0, 0.0], [0, 0.2189883246285708, 0.22787982849182453, 0.23082975288364185, 0.23230212067482797, 0.23377276291728163, 0.2345074379050427, 0.8739792745511871, 0.0016215367984232624, 0.102767273359956, 0.033525601190157905, 0.0, 0.0], [0, 0.22818447369115785, 0.23704344627241467, 0.23998257779710255, 0.24144955864621556, 0.24291482025974345, 0.24364680729705052, 0.9224442873831062, 0.6899489887354049, 0.03880528505585629, 0.10662501639485408, 0.0, 0.0], [0, 0.23649239243032946, 0.24532208685809692, 0.24825150480143374, 0.24971363740358193, 0.2511740564515473, 0.25190362433367636, 0.874816196769713, 0.7471385574475834, 0.005789213992524425, 0.15666715800830558, 0.01331583767637311, 0.0], [0, 0.15965839119812733, 0.1666574240047584, 0.16897948536979984, 0.17013847384173061, 0.1712961040294706, 0.17212723076827535, 0.9338723038848192, 0.7077339749737026, 0.7059729511388493, 0.7151061770647139, 0.7171225553981031, 0.002510766655622876], [0, 0.10704157251518552, 0.11422603363086263, 0.12445576013973093, 0.11779930838052319, 0.11898760814982239, 0.11958123595109488, 0.7987301756906765, 0.7270006218802687, 0.7077339749737024, 0.707733974973702, 0.7074550009008552, 0.7074550009008517], [0, 0.07547148130433164, 0.08276719940679296, 0.08518769172237892, 0.08639580910212812, 0.08760251062140006, 0.088205331212726, 0.7507207653339253, 0.7270006218797069, 0.7755512886775856, 0.8490562581598978, 0.7970802513776284, 0.7678365145126188], [0, 0.05442475383164935, 0.06179464325646816, 0.06423974331132798, 0.06546014291811043, 0.06667911226938794, 0.06728806138563642, 0.7333596542228177, 0.6277906874029496, 0.7134813516518508, 0.7934635152173071, 0.852927765585266, 0.9475725366781963], [0, 0.039391377064988804, 0.04681424600674221, 0.04927692301712632, 0.05050609564283379, 0.05173382773266096, 0.05234715436813271, 0.721891909170686, 0.5825894942788791, 0.6526612259973823, 0.7240573243978796, 0.7850237003420013, 0.9149652154202941], [0, 0.028116344490098682, 0.03557894806965865, 0.03805480779694121, 0.03929056018642651, 0.04052486432958254, 0.04114147410440085, 0.7015248310142137, 0.5508975139540928, 0.5901612259972697, 0.6526612259972716, 0.7197058894900825, 0.8238725561567461], [0, 0.019346874709181932, 0.026840383007123627, 0.0293264959585643, 0.030567365943125268, 0.03180678168333991, 0.03242594501006939, 0.6201639597848217, 0.5289843087007214, 0.5415501148861641, 0.5969452603498228, 0.6525008159054158, 0.708032355305431], [0, 0.012331298885433276, 0.01984953095708591, 0.022343846487833254, 0.023588810547642385, 0.024832315565879767, 0.02545352173522011, 0.5507195153403686, 0.5112340524156477, 0.5026612259972701, 0.5525984568308728, 0.6025984568308903, 0.6525008159053852], [0, 0.006591282301266994, 0.014129742916523228, 0.016630769648390477, 0.017879083406417952, 0.019125934196775843, 0.019748811782176388, 0.4939013335221747, 0.49693302664943817, 0.47078027501269826, 0.6542737218474722, 0.561689365921785, 0.6070462704508297]], \"zmax\": 1, \"zmin\": 0}, {\"colorbar\": {\"len\": 0.405, \"title\": {\"side\": \"right\", \"text\": \"Decarboxylation Rate : CO2 Uptake Rate\"}, \"y\": 0.19}, \"showscale\": false, \"type\": \"heatmap\", \"uid\": \"16fb29ff-ce45-4e03-be67-463f89170649\", \"x\": [1, 2, 3, 4, 5, 6, 7, 8, 9, 10, 11, 12, 13], \"xaxis\": \"x3\", \"y\": [1, 2, 3, 4, 5, 6, 7, 8, 9, 10, 11, 12, 13, 14, 15], \"yaxis\": \"y2\", \"z\": [[0, 0.7550770990560575, 0.749143393161109, 0.747174774126427, 0.7461921959739577, 0.7452107693588153, 0.7447204872455854, 0.37082846101667327, 0.5592117339985249, 0.6055105492260626, 0.5893302436799198, 0.5048243093108562, 0.4214909759775205], [0, 0.7425813158479727, 0.7274252091640575, 0.7223968844317702, 0.7198871443863141, 0.7173803456434502, 0.7161280476449795, 0.235203633826936, 0.7273567073027196, 0.5480105540660557, 0.575471000828469, 0.5516993093108422, 0.4735743093108504], [0, 0.7547756582765878, 0.7457589678907127, 0.7427675105046732, 0.7412744127438945, 0.7397830648265613, 0.7390380460994576, 0.1445747535094595, 0.8840846084239883, 0.5077991570062176, 0.5754710008284848, 0.5954576946602943, 0.5195301916637897], [0, 0.7672198946450473, 0.7583283907817944, 0.7553784663899794, 0.7539060985987914, 0.7524354563563438, 0.7517007813685973, 0.1043130554053906, 0.960682830357438, 0.6125978263431222, 0.5588612485094782, 0.5754710008284882, 0.5414475003908723], [0, 0.7580237455824647, 0.7491647730012175, 0.7462256414765311, 0.7447586606274114, 0.7432933990138825, 0.7425614119765875, 0.056004965489456465, 0.20334342840057767, 0.7725027971033647, 0.5223115409071264, 0.5754710008284791, 0.5534979179518605], [0, 0.749715826843291, 0.7408861324155281, 0.7379567144721927, 0.7364945818700515, 0.7350341628220746, 0.7343045949399463, 0.103633056102847, 0.21406947139396817, 0.8794478267900024, 0.5066146083614046, 0.5708652318680452, 0.553497917951885], [0, 0.8265498280754945, 0.8195507952688629, 0.8172287339038186, 0.8160697454318906, 0.8149121152441506, 0.8140809885053404, 0.043064386436521905, 0.2709070725739414, 0.2726680964087929, 0.26352324656322673, 0.260844304806833, 0.9558140065676259], [0, 0.8791666467582193, 0.8719821856428087, 0.8539063133349653, 0.8684089108923875, 0.867220611124056, 0.8666269833222007, 0.1799108718569651, 0.2483101726725799, 0.26911698893984176, 0.2709070725739413, 0.2711860466467898, 0.27118604664679086], [0, 0.9107367379697142, 0.9034410198666218, 0.9010205275516484, 0.8998124101716874, 0.8986057086524782, 0.8980028880604238, 0.2279202822137215, 0.24831017267332803, 0.20136941875417277, 0.1295847893877455, 0.18156079617001464, 0.21090914831234556], [0, 0.9317834654419342, 0.9244135760174169, 0.9219684759623628, 0.920748076355196, 0.9195291070045558, 0.9189201578884658, 0.2452813933248265, 0.3475724147887416, 0.26515969589579297, 0.1833812656540615, 0.12391701528610859, 0.029752101963199912], [0, 0.9468168422085975, 0.9393939732671349, 0.9369312962566619, 0.9357021236307463, 0.934474391541028, 0.9338610649054674, 0.2567491383769574, 0.39605155326876323, 0.32608443682757854, 0.25458372314976463, 0.19361734720564075, 0.06367583212734713], [0, 0.958091874783421, 0.9506292712040887, 0.9481534114765854, 0.9469176590873399, 0.9456833549442191, 0.9450667451691812, 0.27722083181074414, 0.42784814887086836, 0.38858443682768845, 0.3260844368276932, 0.2589351580575595, 0.1547684913908967], [0, 0.9668613445645973, 0.9593678362667358, 0.9568817233150851, 0.9556408533303845, 0.9544014375901405, 0.9537822742637323, 0.35847708776282144, 0.44976135412423973, 0.4371955479387968, 0.3818004024751404, 0.326244846919736, 0.2706086922422124], [0, 0.9738769203878784, 0.9663586883168788, 0.9638643727859281, 0.9626194087262223, 0.961375903707652, 0.9607546975383056, 0.4279215322072756, 0.4675116104093098, 0.4760844368276847, 0.42614720599409295, 0.37614720599407014, 0.32624484691956857], [0, 0.9796169369723979, 0.9720784763573022, 0.9695774496253046, 0.9683291358674357, 0.967082285077009, 0.9664594074916796, 0.4847397140254669, 0.4818126361755238, 0.5079653878122541, 0.3244719409774908, 0.41705629690317486, 0.37169939237412]], \"zmax\": 1, \"zmin\": 0}, {\"colorbar\": {\"len\": 0.405, \"title\": {\"side\": \"right\", \"text\": \"Decarboxylation Rate : CO2 Uptake Rate\"}, \"y\": 0.19}, \"showscale\": true, \"type\": \"heatmap\", \"uid\": \"ef4219ed-0334-42e1-83ba-6b9ffc2f8643\", \"x\": [1, 2, 3, 4, 5, 6, 7, 8, 9, 10, 11, 12, 13], \"xaxis\": \"x4\", \"y\": [1, 2, 3, 4, 5, 6, 7, 8, 9, 10, 11, 12, 13, 14, 15], \"yaxis\": \"y2\", \"z\": [[0, 0.008055376353460118, 0.008055376353462866, 0.008055376353466613, 0.008055376353460037, 0.008055376353459459, 0.008055376353460776, 0.008055376353459827, 0.2678588706198861, 0.3809069006021918, 0.38129775490215106, 0.459940684092573, 0.5432740174259091], [0, 0.008055376353460146, 0.008055376353460153, 0.008055376353460195, 0.008055376353460134, 0.00805537635346012, 0.008055376353460167, 0.008055376353460071, 0.19496413792893644, 0.37736911831062314, 0.40513759894515067, 0.413065684092581, 0.491190684092582], [0, 0.008055376353460368, 0.00805537635346042, 0.008055376353460245, 0.00805537635346033, 0.008055376353460408, 0.008055376353460209, 0.008055376353460151, 0.10138963960037066, 0.3371577212507849, 0.4051375989451515, 0.3812977549021673, 0.44523480173963925], [0, 0.00020923055463502408, 0.00020923055463548045, 0.00020923055463524252, 0.00020923055463532261, 0.00020923055463536937, 0.00020923055462815086, 0.008055376353461955, 0.023130861457579626, 0.2700701289103623, 0.3882198127540494, 0.40513759894514706, 0.4200532922409049], [0, 0.00020923055463409077, 0.00020923055463508919, 0.00020923055463452418, 0.00020923055463807757, 0.00020923055463860834, 0.00020923055461984042, 0.008055376353460198, 0.09214281147745791, 0.17412714645422023, 0.35167010515169955, 0.40513759894514145, 0.40498261334913477], [0, 0.00020923055463522655, 0.00020923055463479317, 0.00020923055463448732, 0.00020923055463348313, 0.0002092305546351387, 0.0002092305546350042, 0.008055376353460122, 0.024227199771889665, 0.10019818783069499, 0.3221534622437835, 0.398324694510982, 0.4049826133491212], [0, 0.00020923055463425047, 0.00020923055463461848, 0.00020923055463699895, 0.00020923055463561142, 0.00020923055463571247, 0.00020923055464224652, 0.008055376353460134, 0.008055376353460396, 0.00805537635346096, 0.0080553763534601, 0.008055376353456706, 0.027697463335143366], [0, 0.0002092305547436592, 0.00020923055461005008, 0.00805537635346009, 0.00020923055499090135, 0.00020923055450743248, 0.0002092305547977879, 0.008055376353460451, 0.008055376353457988, 0.00805537635346042, 0.00805537635346026, 0.00805537635346055, 0.0080553763534605], [0, 0.000209230554419776, 0.00020923055473798913, 0.00020923055440978046, 0.00020923055453738232, 0.00020923055457416762, 0.00020923055486913686, 0.008055376353459993, 0.008055376353461725, 0.008055376353460202, 0.008055376353460765, 0.008055376353459908, 0.008055376353460753], [0, 0.0002092305546540024, 0.00020923055450312506, 0.00020923055460077215, 0.00020923055478299434, 0.00020923055444711731, 0.00020923055436825817, 0.008055376353458852, 0.008055376353459395, 0.008055376353459888, 0.008055376353461222, 0.008055376353460613, 0.008055376353460179], [0, 0.00020923055465314224, 0.0002092305545073863, 0.00020923055455126607, 0.0002092305546550207, 0.0002092305546017191, 0.00020923055464551005, 0.00805537635346017, 0.008055376353460434, 0.008055376353460205, 0.008055376353460415, 0.008055376353459587, 0.008055376353459955], [0, 0.00020923055468604073, 0.00020923055457247965, 0.00020923055468269114, 0.0002092305545626589, 0.00020923055454622247, 0.00020923055465541917, 0.008055376353460023, 0.008055376353460162, 0.008055376353459627, 0.008055376353460016, 0.008055376353460446, 0.008055376353460642], [0, 0.00020923055455631493, 0.00020923055451587425, 0.0002092305546208694, 0.00020923055469071762, 0.00020923055470500006, 0.00020923055454370414, 0.008055376353459725, 0.008055376353460247, 0.008055376353460576, 0.00805537635345943, 0.008055376353461692, 0.008055376353460547], [0, 0.00020923055479001767, 0.00020923055446237058, 0.00020923055456541535, 0.0002092305545083305, 0.00020923055467517168, 0.0002092305546827249, 0.008055376353459348, 0.008055376353460323, 0.008055376353460335, 0.00805537635346011, 0.00805537635346, 0.00805537635346221], [0, 0.00020923055461321015, 0.0002092305545333287, 0.00020923055459807157, 0.00020923055451990314, 0.0002092305545691498, 0.00020923055453346136, 0.008055376353462502, 0.008055376353459575, 0.00805537635345856, 0.00805537635345911, 0.008055376353460833, 0.00805537635346076]], \"zmax\": 1, \"zmin\": 0}],\n",
       "                        {\"annotations\": [{\"font\": {\"size\": 16}, \"showarrow\": false, \"text\": \"CO2 Uptake\", \"x\": 0.14444444444444446, \"xanchor\": \"center\", \"xref\": \"paper\", \"y\": 1.0, \"yanchor\": \"bottom\", \"yref\": \"paper\"}, {\"font\": {\"size\": 16}, \"showarrow\": false, \"text\": \"NADP-ME\", \"x\": 0.8555555555555556, \"xanchor\": \"center\", \"xref\": \"paper\", \"y\": 0.375, \"yanchor\": \"bottom\", \"yref\": \"paper\"}, {\"font\": {\"size\": 16}, \"showarrow\": false, \"text\": \"PEPCK\", \"x\": 0.5, \"xanchor\": \"center\", \"xref\": \"paper\", \"y\": 0.375, \"yanchor\": \"bottom\", \"yref\": \"paper\"}, {\"font\": {\"size\": 16}, \"showarrow\": false, \"text\": \"NAD-ME\", \"x\": 0.14444444444444446, \"xanchor\": \"center\", \"xref\": \"paper\", \"y\": 0.375, \"yanchor\": \"bottom\", \"yref\": \"paper\"}], \"height\": 800, \"width\": 1000, \"xaxis\": {\"anchor\": \"y\", \"domain\": [0.0, 1.0], \"tickangle\": 45, \"tickmode\": \"array\", \"ticktext\": [0, 50, 100, 150, 200, 300, 400, 500, 600, 700, 800, 900, 1000], \"tickvals\": [1, 2, 3, 4, 5, 6, 7, 8, 9, 10, 11, 12, 13], \"title\": {\"text\": \"Total PPFD [\\u00b5E]\"}}, \"xaxis2\": {\"anchor\": \"y2\", \"domain\": [0.0, 0.2888888888888889], \"scaleanchor\": \"y\", \"scaleratio\": 4, \"tickangle\": 45, \"tickmode\": \"array\", \"ticktext\": [0, 50, 100, 150, 200, 300, 400, 500, 600, 700, 800, 900, 1000], \"tickvals\": [1, 2, 3, 4, 5, 6, 7, 8, 9, 10, 11, 12, 13]}, \"xaxis3\": {\"anchor\": \"free\", \"domain\": [0.35555555555555557, 0.6444444444444445], \"position\": 0.0, \"scaleanchor\": \"y\", \"scaleratio\": 4, \"tickangle\": 45, \"tickmode\": \"array\", \"ticktext\": [0, 50, 100, 150, 200, 300, 400, 500, 600, 700, 800, 900, 1000], \"tickvals\": [1, 2, 3, 4, 5, 6, 7, 8, 9, 10, 11, 12, 13], \"title\": {\"text\": \"Total PPFD [\\u00b5E]\"}}, \"xaxis4\": {\"anchor\": \"free\", \"domain\": [0.7111111111111111, 1.0], \"position\": 0.0, \"scaleanchor\": \"y\", \"scaleratio\": 4, \"tickangle\": 45, \"tickmode\": \"array\", \"ticktext\": [0, 50, 100, 150, 200, 300, 400, 500, 600, 700, 800, 900, 1000], \"tickvals\": [1, 2, 3, 4, 5, 6, 7, 8, 9, 10, 11, 12, 13]}, \"yaxis\": {\"anchor\": \"x\", \"domain\": [0.625, 1.0], \"title\": {\"text\": \"Flux [\\u00b5mol/s/m2]\"}}, \"yaxis2\": {\"anchor\": \"x2\", \"domain\": [0.0, 0.375], \"tickmode\": \"array\", \"ticktext\": [\"1 : 0.5\", \"1 : 0.6\", \"1 : 0.7\", \"1 : 0.8\", \"1 : 0.9\", \"1 : 1.0\", \"1 : 2.0\", \"1 : 3.0\", \"1 : 4.0\", \"1 : 5.0\", \"1 : 6.0\", \"1 : 7.0\", \"1 : 8.0\", \"1 : 9.0\", \"1 : 10.0\"], \"tickvals\": [1, 2, 3, 4, 5, 6, 7, 8, 9, 10, 11, 12, 13, 14, 15], \"title\": {\"text\": \"PPFD (BS) : PPFD (M)\"}}},\n",
       "                        {\"plotlyServerURL\": \"https://plot.ly\", \"linkText\": \"Export to plot.ly\", \"showLink\": false}\n",
       "                    )\n",
       "                };\n",
       "                });\n",
       "            </script>\n",
       "        </div>"
      ]
     },
     "metadata": {},
     "output_type": "display_data"
    }
   ],
   "source": [
    "L_r = ['[B]_MalDH4_h','[B]_PEPC1_c','[B]_MalDH2_m']\n",
    "\n",
    "L_CO2 = [np.mean([D_fba[hnu_total][hnu_ratio]['[M]_Im_CO2'] \n",
    "              if D_fba[hnu_total][hnu_ratio]['[M]_Im_CO2'] > 0 \n",
    "              else 0 for hnu_ratio in L_hnu_M]) for hnu_total in L_hnu_max ]\n",
    "\n",
    "L_CO2_var = [np.var([D_fba[hnu_total][hnu_ratio]['[M]_Im_CO2'] \n",
    "              if D_fba[hnu_total][hnu_ratio]['[M]_Im_CO2'] > 0 \n",
    "              else 0 for hnu_ratio in L_hnu_M]) for hnu_total in L_hnu_max ]\n",
    "    \n",
    "L_x_axis = range(1,len(L_hnu_max)+1,1)\n",
    "L_y_axis = range(1,len(L_hnu_M)+1,1)\n",
    "    \n",
    "fig = ply.tools.make_subplots(rows=2, cols=3, shared_yaxes=True, shared_xaxes=False, \n",
    "                              specs=[[{'colspan':3}, None, None],[{},{},{}]],\n",
    "                              subplot_titles=('','CO2 Uptake','','NADP-ME','PEPCK','NAD-ME'))\n",
    "\n",
    "trace = go.Scatter(\n",
    "        y= L_CO2,\n",
    "        x= L_x_axis,\n",
    "        line = {'color':'rgb(214, 39, 40)'})\n",
    "\n",
    "fig.append_trace(trace, 1, 1)\n",
    "\n",
    "for i, r_id in enumerate(L_r):\n",
    "    M_FBA = [[D_fba[hnu_total][hnu_ratio][r_id]/D_fba[hnu_total][hnu_ratio]['[M]_Im_CO2'] \n",
    "              if D_fba[hnu_total][hnu_ratio]['[M]_Im_CO2'] > 0 \n",
    "              else 0 for hnu_total in L_hnu_max] for hnu_ratio in L_hnu_M]\n",
    "    \n",
    "    trace = go.Heatmap(\n",
    "        z=M_FBA,\n",
    "        x= L_x_axis,\n",
    "        y= L_y_axis,\n",
    "        colorbar = {'title':'Decarboxylation Rate : CO2 Uptake Rate','titleside':'right','y':0.19,'len':0.405},\n",
    "        showscale = True if i+1 == 3 else False,\n",
    "        zmin = 0,\n",
    "        zmax = 1)\n",
    "    \n",
    "    \n",
    "    fig.append_trace(trace, 2, i+1)\n",
    "    \n",
    "fig['layout'].update(width=1000, height=800,\n",
    "    yaxis1 = {'title':'Flux [µmol/s/m2]'},\n",
    "    xaxis1 = {'title':'Total PPFD [µE]','tickmode':'array','tickvals': L_x_axis, 'ticktext':L_hnu_max, 'tickangle':45},\n",
    "    xaxis2 = {'scaleanchor':'y','scaleratio':4,'tickmode':'array','tickvals': L_x_axis, 'ticktext':L_hnu_max,  'tickangle':45},\n",
    "    xaxis3 = {'scaleanchor':'y','scaleratio':4,'title':'Total PPFD [µE]','tickmode':'array','tickvals': L_x_axis, 'ticktext':L_hnu_max, 'tickangle':45},\n",
    "    xaxis4 = {'scaleanchor':'y','scaleratio':4,'tickmode':'array','tickvals': L_x_axis, 'ticktext':L_hnu_max, 'tickangle':45},\n",
    "    yaxis2 = {'title':'PPFD (BS) : PPFD (M)', \n",
    "                 'tickmode':'array','tickvals': L_y_axis, 'ticktext':['1 : %s' %round(hnu,1) for hnu in L_hnu_M]})\n",
    "\n",
    "if  save_fig:\n",
    "    iplot(fig,image='svg', filename=theNotebook+'-Figure-1',image_width=1000,image_height=800)\n",
    "    sleep(5)\n",
    "else:\n",
    "    iplot(fig) \n",
    "        \n"
   ]
  }
 ],
 "metadata": {
  "anaconda-cloud": {},
  "kernelspec": {
   "display_name": "Python [default]",
   "language": "python",
   "name": "python2"
  },
  "language_info": {
   "codemirror_mode": {
    "name": "ipython",
    "version": 2
   },
   "file_extension": ".py",
   "mimetype": "text/x-python",
   "name": "python",
   "nbconvert_exporter": "python",
   "pygments_lexer": "ipython2",
   "version": "2.7.6"
  },
  "latex_envs": {
   "LaTeX_envs_menu_present": true,
   "autoclose": false,
   "autocomplete": true,
   "bibliofile": "biblio.bib",
   "cite_by": "apalike",
   "current_citInitial": 1,
   "eqLabelWithNumbers": true,
   "eqNumInitial": 1,
   "hotkeys": {
    "equation": "Ctrl-E",
    "itemize": "Ctrl-I"
   },
   "labels_anchors": false,
   "latex_user_defs": false,
   "report_style_numbering": false,
   "user_envs_cfg": false
  }
 },
 "nbformat": 4,
 "nbformat_minor": 2
}
