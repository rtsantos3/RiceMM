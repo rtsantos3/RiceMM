{
 "cells": [
  {
   "cell_type": "code",
   "execution_count": 1,
   "id": "bb1651dc",
   "metadata": {
    "ExecuteTime": {
     "end_time": "2022-02-17T21:01:33.254009Z",
     "start_time": "2022-02-17T21:01:31.997195Z"
    }
   },
   "outputs": [],
   "source": [
    "import cobra"
   ]
  },
  {
   "cell_type": "code",
   "execution_count": 2,
   "id": "aed4289a",
   "metadata": {
    "ExecuteTime": {
     "end_time": "2022-02-17T21:01:34.883787Z",
     "start_time": "2022-02-17T21:01:34.386957Z"
    }
   },
   "outputs": [
    {
     "name": "stdout",
     "output_type": "stream",
     "text": [
      "Set parameter Username\n",
      "Academic license - for non-commercial use only - expires 2022-04-03\n"
     ]
    }
   ],
   "source": [
    "model = cobra.io.read_sbml_model(\"../../Desktop/CBM_C3_C4_Metabolism/data/2018-23-05-mb-genC3.sbml\")"
   ]
  },
  {
   "cell_type": "code",
   "execution_count": 3,
   "id": "83d7da8a",
   "metadata": {
    "ExecuteTime": {
     "end_time": "2022-02-17T21:01:36.661276Z",
     "start_time": "2022-02-17T21:01:36.655833Z"
    }
   },
   "outputs": [
    {
     "data": {
      "text/html": [
       "\n",
       "        <table>\n",
       "            <tr>\n",
       "                <td><strong>Reaction identifier</strong></td><td>Ex_AA</td>\n",
       "            </tr><tr>\n",
       "                <td><strong>Name</strong></td><td>Ex_AA</td>\n",
       "            </tr><tr>\n",
       "                <td><strong>Memory address</strong></td>\n",
       "                <td>0x07fceb39e6f40</td>\n",
       "            </tr><tr>\n",
       "                <td><strong>Stoichiometry</strong></td>\n",
       "                <td>\n",
       "                    <p style='text-align:right'>0.097 Ala_c + 0.016 Arg_c + 0.101 Asn_c + 0.095 Asp_c + 0.332 Gln_c + 0.114 Glu_c + 0.007 Gly_c + 0.004 His_c + 0.012 Ile_c + 0.012 Leu_c + 0.018 Lys_c + 0.007 Met_c + 0.011 Phe_c + 0.077 Ser_c +...</p>\n",
       "                    <p style='text-align:right'>0.097 Alanine + 0.016 Arginine + 0.101 Asparagine + 0.095 Aspartate + 0.332 Glutamine + 0.114 Glutamate + 0.007 Glycine + 0.004 Histidine + 0.012 Isoleucine + 0.012 Leucine + 0.018 Lysine + 0.007...</p>\n",
       "                </td>\n",
       "            </tr><tr>\n",
       "                <td><strong>GPR</strong></td><td></td>\n",
       "            </tr><tr>\n",
       "                <td><strong>Lower bound</strong></td><td>0.0</td>\n",
       "            </tr><tr>\n",
       "                <td><strong>Upper bound</strong></td><td>1000000.0</td>\n",
       "            </tr>\n",
       "        </table>\n",
       "        "
      ],
      "text/plain": [
       "<Reaction Ex_AA at 0x7fceb39e6f40>"
      ]
     },
     "execution_count": 3,
     "metadata": {},
     "output_type": "execute_result"
    }
   ],
   "source": [
    "model.reactions.Ex_AA"
   ]
  },
  {
   "cell_type": "code",
   "execution_count": 6,
   "id": "51d806c9",
   "metadata": {
    "ExecuteTime": {
     "end_time": "2022-02-17T17:39:32.238921Z",
     "start_time": "2022-02-17T17:39:32.235093Z"
    }
   },
   "outputs": [
    {
     "data": {
      "text/html": [
       "\n",
       "        <table>\n",
       "            <tr>\n",
       "                <td><strong>Reaction identifier</strong></td><td>Ex_Suc</td>\n",
       "            </tr><tr>\n",
       "                <td><strong>Name</strong></td><td>Export sucrose</td>\n",
       "            </tr><tr>\n",
       "                <td><strong>Memory address</strong></td>\n",
       "                <td>0x07f8bc54f46a0</td>\n",
       "            </tr><tr>\n",
       "                <td><strong>Stoichiometry</strong></td>\n",
       "                <td>\n",
       "                    <p style='text-align:right'>Suc_c --></p>\n",
       "                    <p style='text-align:right'>Sucrose --></p>\n",
       "                </td>\n",
       "            </tr><tr>\n",
       "                <td><strong>GPR</strong></td><td></td>\n",
       "            </tr><tr>\n",
       "                <td><strong>Lower bound</strong></td><td>0.0</td>\n",
       "            </tr><tr>\n",
       "                <td><strong>Upper bound</strong></td><td>1000000.0</td>\n",
       "            </tr>\n",
       "        </table>\n",
       "        "
      ],
      "text/plain": [
       "<Reaction Ex_Suc at 0x7f8bc54f46a0>"
      ]
     },
     "execution_count": 6,
     "metadata": {},
     "output_type": "execute_result"
    }
   ],
   "source": [
    "model.reactions.Ex_Suc"
   ]
  }
 ],
 "metadata": {
  "kernelspec": {
   "display_name": "Python 3",
   "language": "python",
   "name": "python3"
  },
  "language_info": {
   "codemirror_mode": {
    "name": "ipython",
    "version": 3
   },
   "file_extension": ".py",
   "mimetype": "text/x-python",
   "name": "python",
   "nbconvert_exporter": "python",
   "pygments_lexer": "ipython3",
   "version": "3.8.8"
  },
  "varInspector": {
   "cols": {
    "lenName": 16,
    "lenType": 16,
    "lenVar": 40
   },
   "kernels_config": {
    "python": {
     "delete_cmd_postfix": "",
     "delete_cmd_prefix": "del ",
     "library": "var_list.py",
     "varRefreshCmd": "print(var_dic_list())"
    },
    "r": {
     "delete_cmd_postfix": ") ",
     "delete_cmd_prefix": "rm(",
     "library": "var_list.r",
     "varRefreshCmd": "cat(var_dic_list()) "
    }
   },
   "types_to_exclude": [
    "module",
    "function",
    "builtin_function_or_method",
    "instance",
    "_Feature"
   ],
   "window_display": false
  }
 },
 "nbformat": 4,
 "nbformat_minor": 5
}
