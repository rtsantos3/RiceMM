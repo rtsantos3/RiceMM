{
 "cells": [
  {
   "cell_type": "markdown",
   "metadata": {},
   "source": [
    "## Generating assimilation rate vs light intensity curve equation from data"
   ]
  },
  {
   "cell_type": "markdown",
   "metadata": {},
   "source": [
    "Tissue: Arabidopsis leaf  \n",
    "Publication: Donahue, R. A., Poulson, M. E., & Edwards, G. E. (1997). A method for measuring whole plant photosynthesis in Arabidopsis thaliana. Photosynthesis Research, 52(3), 263-269.  \n",
    "Data extracted from Fig 3 using WebPlotDigitzer:\n",
    "\n",
    "|    PPFD_At |   netCO2_At   |\n",
    "|------------|---------------|\n",
    "|    31      |       0.6     | \n",
    "|    132     |       4       | \n",
    "|    287     |       8       | \n",
    "|    411     |       10.7    | \n",
    "|    691     |       15.6    | \n",
    "|    1041    |       20.7    | \n",
    "|    1243    |       22.3    | \n",
    "|    1414    |       23.3    | \n",
    "|    1600    |       23.7    | "
   ]
  },
  {
   "cell_type": "code",
   "execution_count": 2,
   "metadata": {},
   "outputs": [
    {
     "data": {
      "image/png": "[encoded data removed]",
      "text/plain": [
       "<Figure size 432x288 with 1 Axes>"
      ]
     },
     "metadata": {},
     "output_type": "display_data"
    },
    {
     "name": "stdout",
     "output_type": "stream",
     "text": [
      "Equation form:\n",
      "y = a + bx + cx^2\n",
      "a = 0.08713510155619275\n",
      "b = 0.029144167019676457\n",
      "c = -9.013134000630284e-06\n"
     ]
    }
   ],
   "source": [
    "# Arabidopsis data\n",
    "PPFD_At = [31,132,287,411,691,1041,1243,1414,1600]\n",
    "netCO2_At = [0.6,4,8,10.7,15.6,20.7,22.3,23.3,23.7]\n",
    "\n",
    "# 2nd degree polynomial fitting\n",
    "import numpy as np\n",
    "p = np.poly1d(np.polyfit(PPFD_At, netCO2_At, 2))\n",
    "\n",
    "# plot to check curve fitting\n",
    "import matplotlib.pyplot as plt\n",
    "get_ipython().magic(u'matplotlib inline')\n",
    "\n",
    "plt.rcParams.update({'font.size': 14}) #sets a global fontsize\n",
    "plt.rcParams['xtick.major.size'] = 5 # adjusts tick line length and width\n",
    "plt.rcParams['xtick.major.width'] = 2\n",
    "plt.rcParams['ytick.major.size'] = 5\n",
    "plt.rcParams['ytick.major.width'] = 2\n",
    "plt.rcParams['axes.linewidth']=2 # makes axes line thicker\n",
    "\n",
    "t = np.linspace(0, 1601, 100)\n",
    "plt.plot(PPFD_At, netCO2_At, 'ko',label=\"data\")\n",
    "# p(t) was used to generate y values for fitted curve\n",
    "plt.plot(t, p(t), 'b--',label=\"fitted curve\")\n",
    "\n",
    "# calculate and add RMSD to plot\n",
    "SSE = 0\n",
    "for i in range(0,len(PPFD_At)):\n",
    "    SSE=SSE+((p(PPFD_At[i])-netCO2_At[i])**2)\n",
    "\n",
    "MSE = float(SSE)/len(PPFD_At)\n",
    "RMSE = (MSE)**0.5\n",
    "plt.text(770,5,\"RMSD=\"+str(RMSE),fontsize=12)\n",
    "plt.legend()\n",
    "plt.show()\n",
    "\n",
    "# print equation\n",
    "print(\"Equation form:\\ny = a + bx + cx^2\\na = \"+str(p[0])+\"\\nb = \"+str(p[1])+\"\\nc = \"+str(p[2]))\n"
   ]
  },
  {
   "cell_type": "code",
   "execution_count": null,
   "metadata": {
    "collapsed": true
   },
   "outputs": [],
   "source": []
  }
 ],
 "metadata": {
  "anaconda-cloud": {},
  "kernelspec": {
   "display_name": "Python 2",
   "language": "python",
   "name": "python2"
  },
  "language_info": {
   "codemirror_mode": {
    "name": "ipython",
    "version": 2
   },
   "file_extension": ".py",
   "mimetype": "text/x-python",
   "name": "python",
   "nbconvert_exporter": "python",
   "pygments_lexer": "ipython2",
   "version": "2.7.15rc1"
  }
 },
 "nbformat": 4,
 "nbformat_minor": 2
}
