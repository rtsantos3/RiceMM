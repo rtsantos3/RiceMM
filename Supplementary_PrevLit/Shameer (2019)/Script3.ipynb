{
 "cells": [
  {
   "cell_type": "markdown",
   "metadata": {},
   "source": [
    "## Script for Figure 3b\n",
    "\n",
    "In this script, a growing C3 leaf is modelled and flux through mitochondrial ATP synthase is observed to generate Figure 3b"
   ]
  },
  {
   "cell_type": "code",
   "execution_count": 1,
   "metadata": {},
   "outputs": [
    {
     "name": "stdout",
     "output_type": "stream",
     "text": [
      "0.7 MAL_v1 + 0.3 aMAL_v1 <=> 0.7 MAL_v2 + 0.3 aMAL_v2\n",
      "0.5 CIT_v1 + 0.5 aCIT_v1 <=> 0.5 CIT_v2 + 0.5 aCIT_v2\n",
      "bHIS_v1 --> bHIS_v2\n"
     ]
    }
   ],
   "source": [
    "#import functions from library\n",
    "from libsbml import readSBML\n",
    "from cobra import io,flux_analysis\n",
    "import re\n",
    "from cobra.core import Metabolite, Reaction\n",
    "from studyFunctions import *\n",
    "\n",
    "#import model. Update file name and location in the next line\n",
    "cobra_model = io.sbml.create_cobra_model_from_sbml_file(\"core_model.xml\")\n",
    "\n",
    "#set up a diel model, allow for day-night metabolite accumulations and constrain model to represent C3 leaf diel metabolism\n",
    "cobra_model=setupDielModel(cobra_model,\"MetabolitesToTransfer.txt\")"
   ]
  },
  {
   "cell_type": "code",
   "execution_count": 7,
   "metadata": {},
   "outputs": [],
   "source": [
    "for rxn in cobra_model.reactions:\n",
    "    if rxn.lower_bound < -999:\n",
    "        rxn.lower_bound = -2000\n",
    "    if rxn.upper_bound > 999:\n",
    "        rxn.upper_bound = 2000"
   ]
  },
  {
   "cell_type": "markdown",
   "metadata": {},
   "source": [
    "### Setting biomass as the objective for the system"
   ]
  },
  {
   "cell_type": "code",
   "execution_count": 8,
   "metadata": {},
   "outputs": [],
   "source": [
    "#Update Biomass_tx\n",
    "Biomass_model = cobra_model.copy()\n",
    "Biomass_model = updateBiomassComposition(Biomass_model,\"Gomes2015_Biomass.csv\")\n",
    "\n",
    "#Change biomass from phloem to Biomass_tx\n",
    "for i in range(1,3):\n",
    "    met = Biomass_model.metabolites.get_by_id(\"X_Phloem_contribution_t\"+str(i))\n",
    "    Biomass_model.reactions.get_by_id(\"Phloem_output_tx\"+str(i)).add_metabolites({met:-1})\n",
    "    Biomass_model.reactions.get_by_id(\"Phloem_output_tx\"+str(i)).lower_bound = 0\n",
    "    Biomass_model.reactions.get_by_id(\"Phloem_output_tx\"+str(i)).upper_bound = 0\n",
    "    Biomass_model.reactions.get_by_id(\"Biomass_tx\"+str(i)).add_metabolites({met:1})\n",
    "    Biomass_model.reactions.get_by_id(\"Biomass_tx\"+str(i)).lower_bound = 0\n",
    "    Biomass_model.reactions.get_by_id(\"Biomass_tx\"+str(i)).upper_bound = 1000\n",
    "    Biomass_model.metabolites.get_by_id(\"X_Phloem_contribution_t\"+str(i)).id = \"X_Biomass_contribution_t\"+str(i)\n",
    "    Biomass_model.metabolites.get_by_id(\"X_Biomass_contribution_t\"+str(i)).name = \"X_Biomass_contribution[t]\"\n",
    "Biomass_model.metabolites._generate_index()\n",
    "\n",
    "Biomass_model.reactions.get_by_id(\"diel_biomass\").name = \"Diel biomass accumulation\""
   ]
  },
  {
   "cell_type": "markdown",
   "metadata": {},
   "source": [
    "### Constrain the model output so that net CO2 uptake matches experimental data for the chosen light input value (200 PPFD)\n",
    "\n",
    "\n",
    "    Data extracted Fig 3 of Donahue et al 1997, see Script1.py."
   ]
  },
  {
   "cell_type": "code",
   "execution_count": 9,
   "metadata": {},
   "outputs": [],
   "source": [
    "\"\"\"\n",
    "x = light, y = net CO2 uptake\n",
    "y = a + bx + c^2\"\"\"\n",
    "a = 0.0871351015562\n",
    "b = 0.0291441670197\n",
    "c = -0.000009013134\n",
    "\n",
    "light=list()\n",
    "CO2=list()\n",
    "for x in range(100,1550,50):\n",
    "    light.append(x)\n",
    "    y=((a)+(b*x)+(c*(x**2)))\n",
    "    CO2.append(y)\n",
    "    \n",
    "light_CO2=dict(zip(light, CO2))\n",
    "\n",
    "import pandas as pd\n",
    "df = pd.DataFrame(data={\"PPFD\":light,\"Net CO2 uptake\":CO2})\n",
    "df = df[[\"PPFD\",\"Net CO2 uptake\"]]"
   ]
  },
  {
   "cell_type": "markdown",
   "metadata": {},
   "source": [
    "    Model flux distribution based on CO2 assimilation rate"
   ]
  },
  {
   "cell_type": "code",
   "execution_count": 10,
   "metadata": {
    "scrolled": true
   },
   "outputs": [],
   "source": [
    "WTphloemOut = dict()\n",
    "solutiondict_phloem = dict()\n",
    "PPFD_list=list()\n",
    "\n",
    "for i in range(100,1550,50):\n",
    "    PPFD = i\n",
    "    tempModel2 = Biomass_model.copy()\n",
    "    tempModel2.reactions.get_by_id(\"Photon_tx1\").upper_bound = PPFD*0.9\n",
    "    tempModel2.reactions.get_by_id(\"Photon_tx1\").lower_bound = PPFD*0.9\n",
    "    tempModel2.reactions.get_by_id(\"ATPase_tx1\").upper_bound = estimateMaintenance(200)\n",
    "    tempModel2.reactions.get_by_id(\"ATPase_tx1\").lower_bound = estimateMaintenance(200)\n",
    "    solution=flux_analysis.parsimonious.pfba(tempModel2)\n",
    "    WTphloemOut[PPFD] = estimateOutputFromNetCO2(tempModel2,light_CO2[PPFD],verbose=False)\n",
    "    tempModel2.reactions.get_by_id(\"diel_biomass\").upper_bound = round(WTphloemOut[PPFD],3)\n",
    "    tempModel2.reactions.get_by_id(\"diel_biomass\").lower_bound = round(WTphloemOut[PPFD],3)\n",
    "    solution=flux_analysis.parsimonious.pfba(tempModel2)\n",
    "    solutiondict_phloem[PPFD]=solution.x_dict\n",
    "    PPFD_list.append(i)\n"
   ]
  },
  {
   "cell_type": "markdown",
   "metadata": {},
   "source": [
    "    Generate Fig 3b"
   ]
  },
  {
   "cell_type": "code",
   "execution_count": 11,
   "metadata": {},
   "outputs": [
    {
     "data": {
      "image/png": "[encoded data removed]",
      "text/plain": [
       "<Figure size 288x288 with 2 Axes>"
      ]
     },
     "metadata": {},
     "output_type": "display_data"
    }
   ],
   "source": [
    "\n",
    "xlist = list()\n",
    "ylist1 = list()\n",
    "ylist2 = list()\n",
    "for PPFD in PPFD_list:\n",
    "    xlist.append(PPFD)\n",
    "    ylist1.append(solutiondict_phloem[PPFD][\"Mitochondrial_ATP_Synthase_m1\"])\n",
    "    ylist2.append(WTphloemOut[PPFD]*4/1000*60*60*24)\n",
    "\n",
    "\n",
    "\n",
    "import matplotlib.pyplot as plt\n",
    "get_ipython().magic(u'matplotlib inline')\n",
    "plt.rcParams.update({'font.size': 14}) #sets a global fontsize\n",
    "plt.rcParams['xtick.major.size'] = 5 # adjusts tick line length and width\n",
    "plt.rcParams['xtick.major.width'] = 2\n",
    "plt.rcParams['ytick.major.size'] = 5\n",
    "plt.rcParams['ytick.major.width'] = 2\n",
    "plt.rcParams['axes.linewidth']=2 # makes axes line thicker\n",
    "\n",
    "import pandas as pd\n",
    "import numpy as np\n",
    "\n",
    "fig, ax1 = plt.subplots(figsize=(4, 4))\n",
    "\n",
    "ax1.plot(xlist,ylist1,\"go-\")\n",
    "ax1.set_xlabel(\"PPFD ($\\mu$mol m$^2$ s$^{-1}$)\")\n",
    "ax1.set_ylabel(\"Daytime mitochondrial ATP\\nsynthase flux ($\\mu$mol m$^2$ s$^{-1}$)\",color=\"g\")\n",
    "ax1.tick_params(\"y\",colors=\"g\")\n",
    "\n",
    "ax2 = ax1.twinx()\n",
    "ax2.plot(xlist,ylist2,\"bs-\")\n",
    "ax2.set_ylabel(\"phloem output (mmol m$^2$ 24h$^{-1}$)\",color=\"b\",rotation='270')\n",
    "ax2.yaxis.set_label_coords(1.27,0.5)\n",
    "ax2.tick_params(\"y\",colors=\"b\")\n",
    "\n",
    "#fig.tight_layout()\n",
    "plt.show()"
   ]
  },
  {
   "cell_type": "markdown",
   "metadata": {},
   "source": [
    "##### Perform pFBA and FVA and write results to file"
   ]
  },
  {
   "cell_type": "code",
   "execution_count": null,
   "metadata": {},
   "outputs": [],
   "source": [
    "WTphloemOut = dict()\n",
    "solutiondict_phloem = dict()\n",
    "FVAdict_phloem = dict()\n",
    "PPFD_list=list()\n",
    "\n",
    "for i in range(100,1550,50):\n",
    "    PPFD = i\n",
    "    print(\"Running PPFD = \"+str(i))\n",
    "    tempModel2 = Biomass_model.copy()\n",
    "    tempModel2.reactions.get_by_id(\"Photon_tx1\").upper_bound = PPFD*0.9\n",
    "    tempModel2.reactions.get_by_id(\"Photon_tx1\").lower_bound = PPFD*0.9\n",
    "    tempModel2.reactions.get_by_id(\"ATPase_tx1\").upper_bound = estimateMaintenance(200)\n",
    "    tempModel2.reactions.get_by_id(\"ATPase_tx1\").lower_bound = estimateMaintenance(200)\n",
    "    solution=flux_analysis.parsimonious.pfba(tempModel2)\n",
    "    WTphloemOut[PPFD] = estimateOutputFromNetCO2(tempModel2,light_CO2[PPFD],verbose=False)\n",
    "    tempModel2.reactions.get_by_id(\"diel_biomass\").upper_bound = round(WTphloemOut[PPFD],3)\n",
    "    tempModel2.reactions.get_by_id(\"diel_biomass\").lower_bound = round(WTphloemOut[PPFD],3)\n",
    "    solution=flux_analysis.parsimonious.pfba(tempModel2)\n",
    "    solutiondict_phloem[PPFD]=solution.x_dict\n",
    "    PPFD_list.append(i)\n",
    "    \n",
    "    fva_result = flux_analysis.flux_variability_analysis(tempModel2,fraction_of_optimum=1)\n",
    "    FVAdict_phloem[PPFD] = fva_result\n",
    "    \n",
    "\n",
    "printFluxesAndFVA(tempModel2,solutiondict_phloem,FVAdict_phloem,outfile=\"Fluxes_Biomass_Leaf.csv\")\n",
    "print(\"Done\")"
   ]
  },
  {
   "cell_type": "code",
   "execution_count": null,
   "metadata": {},
   "outputs": [],
   "source": []
  }
 ],
 "metadata": {
  "anaconda-cloud": {},
  "kernelspec": {
   "display_name": "Python 2",
   "language": "python",
   "name": "python2"
  },
  "language_info": {
   "codemirror_mode": {
    "name": "ipython",
    "version": 2
   },
   "file_extension": ".py",
   "mimetype": "text/x-python",
   "name": "python",
   "nbconvert_exporter": "python",
   "pygments_lexer": "ipython2",
   "version": "2.7.15rc1"
  }
 },
 "nbformat": 4,
 "nbformat_minor": 2
}
