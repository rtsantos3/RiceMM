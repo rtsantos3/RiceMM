{
 "cells": [
  {
   "cell_type": "markdown",
   "metadata": {},
   "source": [
    "# Script for Figure 5d\n",
    "\n",
    "In this script, a fully expanded C3 source leaf with plastidic ATP shuttles and malate valve constrained based on published studies is modelled in a scenario when photon uptake not forced on the system. Fluxes are observed for Figure 5d."
   ]
  },
  {
   "cell_type": "code",
   "execution_count": 1,
   "metadata": {},
   "outputs": [
    {
     "name": "stdout",
     "output_type": "stream",
     "text": [
      "0.7 MAL_v1 + 0.3 aMAL_v1 <=> 0.7 MAL_v2 + 0.3 aMAL_v2\n",
      "0.5 CIT_v1 + 0.5 aCIT_v1 <=> 0.5 CIT_v2 + 0.5 aCIT_v2\n",
      "bHIS_v1 --> bHIS_v2\n"
     ]
    }
   ],
   "source": [
    "#import functions from library\n",
    "from libsbml import readSBML\n",
    "from cobra import io,flux_analysis\n",
    "import re\n",
    "from cobra.core import Metabolite, Reaction\n",
    "from studyFunctions import *\n",
    "\n",
    "#import model. Update file name and location in the next line\n",
    "cobra_model = io.sbml.create_cobra_model_from_sbml_file(\"core_model.xml\")\n",
    "\n",
    "#set up a diel model, allow for day-night metabolite accumulations and constrain model to represent C3 leaf diel metabolism\n",
    "cobra_model=setupDielModel(cobra_model,\"MetabolitesToTransfer.txt\")"
   ]
  },
  {
   "cell_type": "markdown",
   "metadata": {},
   "source": [
    "##### Increase upper and lower bounds to 2000 and -2000 respectively in order to allow for PPFD upto 1500"
   ]
  },
  {
   "cell_type": "code",
   "execution_count": 2,
   "metadata": {},
   "outputs": [],
   "source": [
    "for rxn in cobra_model.reactions:\n",
    "    if rxn.lower_bound < -999:\n",
    "        rxn.lower_bound = -2000\n",
    "    if rxn.upper_bound > 999:\n",
    "        rxn.upper_bound = 2000"
   ]
  },
  {
   "cell_type": "markdown",
   "metadata": {},
   "source": [
    "##### Constrain plastidic malate valve based on published data"
   ]
  },
  {
   "cell_type": "code",
   "execution_count": 3,
   "metadata": {},
   "outputs": [],
   "source": [
    "#Plastidic malate valve was constrained based on Fridlyand LE, Backhausen JE, Scheibe R (1998) Flux control of the malate valve in leaf cells. 349: 290–298\n",
    "cobra_model.reactions.get_by_id(\"OAA_MAL_pc1\").lower_bound = 0.75\n",
    "cobra_model.reactions.get_by_id(\"OAA_MAL_pc1\").upper_bound = -0.75"
   ]
  },
  {
   "cell_type": "markdown",
   "metadata": {},
   "source": [
    "##### Constrain chlorplast malate valve based on published data"
   ]
  },
  {
   "cell_type": "code",
   "execution_count": 4,
   "metadata": {},
   "outputs": [],
   "source": [
    "#For PEP-Pyr shuttle, constrain cplast PPDK based on Ishimaru, K., Ichikawa, H., Matsuoka, M., & Ohsugi, R. (1997). Analysis of a C4 maize pyruvate, orthophosphate dikinase expressed in C3 transgenic Arabidopsis plants. Plant Science, 129(1), 57-64.\n",
    "cobra_model.reactions.get_by_id(\"PYRUVATEORTHOPHOSPHATE_DIKINASE_RXN_p1\").lower_bound = 0\n",
    "cobra_model.reactions.get_by_id(\"PYRUVATEORTHOPHOSPHATE_DIKINASE_RXN_p1\").upper_bound = 0.03375\n",
    "#For TP-3PGA shuttle, constrain cytosolic phosphorylating GAPDH activity based on Gibon, Y., et al(2004). A robot-based platform to measure multiple enzyme activities in Arabidopsis using a set of cycling assays: comparison of changes of enzyme activities and transcript levels during diurnal cycles and in prolonged darkness. The Plant Cell, 16(12), 3304-3325.\n",
    "cobra_model.reactions.get_by_id(\"GAPOXNPHOSPHN_RXN_c1\").lower_bound = -95.387597\n",
    "cobra_model.reactions.get_by_id(\"GAPOXNPHOSPHN_RXN_c1\").upper_bound = 95.387597\n",
    "#and constrain cytosolic non-phosphorylating GAPDH based on Strand, Å., Zrenner, R., Trevanion, S., Stitt, M., Gustafsson, P., & Gardeström, P. (2000). Decreased expression of two key enzymes in the sucrose biosynthesis pathway, cytosolic fructose‐1, 6‐bisphosphatase and sucrose phosphate synthase, has remarkably different consequences for photosynthetic carbon metabolism in transgenic Arabidopsis thaliana. The Plant Journal, 23(6), 759-770.\n",
    "cobra_model.reactions.get_by_id(\"1_PERIOD_2_PERIOD_1_PERIOD_9_RXN_c1\").lower_bound = 0\n",
    "cobra_model.reactions.get_by_id(\"1_PERIOD_2_PERIOD_1_PERIOD_9_RXN_c1\").upper_bound = 0.33"
   ]
  },
  {
   "cell_type": "code",
   "execution_count": 5,
   "metadata": {},
   "outputs": [],
   "source": [
    "phloem_model = cobra_model.copy()"
   ]
  },
  {
   "cell_type": "markdown",
   "metadata": {},
   "source": [
    "### Constrain the model output so that net CO2 uptake matches experimental data for the chosen light input value (200 PPFD)\n",
    "\n",
    "\n",
    "    Data extracted Fig 3 of Donahue et al 1997, see Script1.py."
   ]
  },
  {
   "cell_type": "code",
   "execution_count": 7,
   "metadata": {},
   "outputs": [],
   "source": [
    "\"\"\"\n",
    "x = light, y = net CO2 uptake\n",
    "y = a + bx + c^2\"\"\"\n",
    "a = 0.0871351015562\n",
    "b = 0.0291441670197\n",
    "c = -0.000009013134\n",
    "\n",
    "light=list()\n",
    "CO2=list()\n",
    "for x in range(100,1550,50):\n",
    "    light.append(x)\n",
    "    y=((a)+(b*x)+(c*(x**2)))\n",
    "    CO2.append(y)\n",
    "    \n",
    "light_CO2=dict(zip(light, CO2))\n",
    "\n",
    "import pandas as pd\n",
    "df = pd.DataFrame(data={\"PPFD\":light,\"Net CO2 uptake\":CO2})\n",
    "df = df[[\"PPFD\",\"Net CO2 uptake\"]]"
   ]
  },
  {
   "cell_type": "markdown",
   "metadata": {},
   "source": [
    "    Model flux distribution based on assimilation rate based on PPFD data; and write flux distributions and FVA to file for figure 5 d"
   ]
  },
  {
   "cell_type": "code",
   "execution_count": 9,
   "metadata": {
    "scrolled": true
   },
   "outputs": [],
   "source": [
    "WTphloemOut = dict()\n",
    "solutiondict_phloem = dict()\n",
    "FVAdict_phloem = dict()\n",
    "PPFD_list=list()\n",
    "\n",
    "\n",
    "PPFD = 200\n",
    "tempModel3 = phloem_model.copy()\n",
    "tempModel3.reactions.get_by_id(\"Photon_tx1\").upper_bound = PPFD*0.9\n",
    "#tempModel3.reactions.get_by_id(\"Photon_tx1\").lower_bound = PPFD*0.9\n",
    "tempModel3.reactions.get_by_id(\"ATPase_tx1\").upper_bound = estimateMaintenance(200)\n",
    "tempModel3.reactions.get_by_id(\"ATPase_tx1\").lower_bound = estimateMaintenance(200)\n",
    "solution=flux_analysis.parsimonious.pfba(tempModel3)\n",
    "WTphloemOut[PPFD] = estimateOutputFromNetCO2(tempModel3,light_CO2[PPFD],verbose=False)\n",
    "tempModel3.reactions.get_by_id(\"diel_biomass\").upper_bound = round(WTphloemOut[PPFD],3)\n",
    "tempModel3.reactions.get_by_id(\"diel_biomass\").lower_bound = round(WTphloemOut[PPFD],3)\n",
    "solution=flux_analysis.parsimonious.pfba(tempModel3)\n",
    "solutiondict_phloem[PPFD]=solution.x_dict\n",
    "\n",
    "fva_result = flux_analysis.flux_variability_analysis(tempModel3,fraction_of_optimum=1)\n",
    "FVAdict_phloem[PPFD] = fva_result"
   ]
  },
  {
   "cell_type": "code",
   "execution_count": 10,
   "metadata": {},
   "outputs": [],
   "source": [
    "printFluxesAndFVA(tempModel3,solutiondict_phloem,FVAdict_phloem,outfile=\"Fluxes_Source_Leaf_ATPandMALshuttlesconstrained.csv\")"
   ]
  },
  {
   "cell_type": "code",
   "execution_count": null,
   "metadata": {},
   "outputs": [],
   "source": []
  }
 ],
 "metadata": {
  "anaconda-cloud": {},
  "kernelspec": {
   "display_name": "Python 2",
   "language": "python",
   "name": "python2"
  },
  "language_info": {
   "codemirror_mode": {
    "name": "ipython",
    "version": 2
   },
   "file_extension": ".py",
   "mimetype": "text/x-python",
   "name": "python",
   "nbconvert_exporter": "python",
   "pygments_lexer": "ipython2",
   "version": "2.7.15rc1"
  }
 },
 "nbformat": 4,
 "nbformat_minor": 2
}
